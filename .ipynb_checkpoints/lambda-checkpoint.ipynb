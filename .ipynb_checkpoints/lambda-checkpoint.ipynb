{
 "cells": [
  {
   "cell_type": "code",
   "execution_count": null,
   "id": "ef18017a-5a1e-48a3-aca1-63a159f55990",
   "metadata": {},
   "outputs": [],
   "source": [
    "# lambda(람다)"
   ]
  },
  {
   "cell_type": "code",
   "execution_count": null,
   "id": "55ac2845-c4b0-4636-97e6-c6b02becb753",
   "metadata": {},
   "outputs": [],
   "source": [
    "함수를 생성할 때 사용하는 예약어로 익명의 함수를 만들 때 사용한다.\n",
    "\n",
    "함수이름 = lambda 매개변수1[, 매개변수2, ...]: 매개변수를 이용한 표현식"
   ]
  },
  {
   "cell_type": "code",
   "execution_count": 4,
   "id": "7453d817-9aca-4254-bc75-366ff52ccf7e",
   "metadata": {},
   "outputs": [
    {
     "name": "stdout",
     "output_type": "stream",
     "text": [
      "100\n"
     ]
    }
   ],
   "source": [
    "a = lambda x : x * 10\n",
    "print(a(10))"
   ]
  },
  {
   "cell_type": "code",
   "execution_count": 6,
   "id": "4a8b176c-4b0f-4a33-ab68-857d7069397f",
   "metadata": {},
   "outputs": [
    {
     "name": "stdout",
     "output_type": "stream",
     "text": [
      "200\n"
     ]
    }
   ],
   "source": [
    "b = lambda x, y: x * y\n",
    "print(b(10, 20))"
   ]
  },
  {
   "cell_type": "code",
   "execution_count": 10,
   "id": "73bc7e79-2397-40f9-a63e-b20933bd0925",
   "metadata": {},
   "outputs": [
    {
     "name": "stdout",
     "output_type": "stream",
     "text": [
      "60\n"
     ]
    }
   ],
   "source": [
    "c = lambda x, y, z: x + y + z\n",
    "print(c(10, 20, 30))"
   ]
  },
  {
   "cell_type": "code",
   "execution_count": 20,
   "id": "53ee8519-25ce-49a7-af41-ba699a003551",
   "metadata": {},
   "outputs": [
    {
     "name": "stdout",
     "output_type": "stream",
     "text": [
      "20\n"
     ]
    }
   ],
   "source": [
    "def mySum(n):\n",
    "  return lambda a : a + n\n",
    "\n",
    "result = mySum(10)\n",
    "print(result(10))"
   ]
  },
  {
   "cell_type": "code",
   "execution_count": null,
   "id": "590f91e2-9aef-452e-8152-733904f12d82",
   "metadata": {},
   "outputs": [],
   "source": []
  },
  {
   "cell_type": "code",
   "execution_count": null,
   "id": "62cea685-298d-4f4e-a25d-8e8554059e07",
   "metadata": {},
   "outputs": [],
   "source": []
  },
  {
   "cell_type": "code",
   "execution_count": null,
   "id": "d067c027-f432-47fb-9f70-d63c8a7dad47",
   "metadata": {},
   "outputs": [],
   "source": []
  },
  {
   "cell_type": "code",
   "execution_count": null,
   "id": "9ba5dbd4-460d-40fa-a5e1-52bcc3439c45",
   "metadata": {},
   "outputs": [],
   "source": []
  },
  {
   "cell_type": "code",
   "execution_count": null,
   "id": "70f0b099-a2fa-4d60-9338-e6c5fc5b7b23",
   "metadata": {},
   "outputs": [],
   "source": []
  }
 ],
 "metadata": {
  "kernelspec": {
   "display_name": "Python [conda env:base] *",
   "language": "python",
   "name": "conda-base-py"
  },
  "language_info": {
   "codemirror_mode": {
    "name": "ipython",
    "version": 3
   },
   "file_extension": ".py",
   "mimetype": "text/x-python",
   "name": "python",
   "nbconvert_exporter": "python",
   "pygments_lexer": "ipython3",
   "version": "3.12.7"
  }
 },
 "nbformat": 4,
 "nbformat_minor": 5
}
