{
 "cells": [
  {
   "cell_type": "markdown",
   "id": "3cfedad7-0851-46ef-8fc6-760a363207c5",
   "metadata": {},
   "source": [
    "# DataFrame\n",
    "\n",
    "Series가 여러 개 있는 2차원의 데이터구조를 가지며 행과 열로 구성되어있다.\n"
   ]
  },
  {
   "cell_type": "markdown",
   "id": "b1151942-84b0-4f6b-a896-eb388d23187d",
   "metadata": {},
   "source": [
    "## DataFrame 파라미터 "
   ]
  },
  {
   "cell_type": "code",
   "execution_count": null,
   "id": "c9d2cadc-66e6-4742-b7cb-f72d09897f82",
   "metadata": {},
   "outputs": [],
   "source": []
  },
  {
   "cell_type": "markdown",
   "id": "1d843d88-cb71-40e0-a9dd-4d34a777bab5",
   "metadata": {},
   "source": [
    "## DataFrame 생성"
   ]
  },
  {
   "cell_type": "markdown",
   "id": "090752b8-8347-4d6e-b89d-bd6b3fa49dd2",
   "metadata": {},
   "source": [
    "### 리스트로 생성 "
   ]
  },
  {
   "cell_type": "code",
   "execution_count": 14,
   "id": "5ba50b69-ac2b-47c4-b7c0-c543a1e6ce1a",
   "metadata": {},
   "outputs": [
    {
     "name": "stdout",
     "output_type": "stream",
     "text": [
      "      0     1      2\n",
      "0     1     2      3\n",
      "1     A     B      C\n",
      "2  True  True  False\n"
     ]
    }
   ],
   "source": [
    "import numpy as np\n",
    "import pandas as pd\n",
    "\n",
    "list_data = [\n",
    "    [1, 2, 3], \n",
    "    ['A', 'B', 'C'],\n",
    "    [True, True, False],\n",
    "]\n",
    "\n",
    "\n",
    "df = pd.DataFrame(data=list_data)\n",
    "\n",
    "print(df)\n"
   ]
  },
  {
   "cell_type": "markdown",
   "id": "cbd6e173-59c5-425d-941b-734805a7d7fe",
   "metadata": {},
   "source": [
    "### 딕셔너리로 생성 "
   ]
  },
  {
   "cell_type": "code",
   "execution_count": 18,
   "id": "91761a36-675e-4efc-94bd-22bb214e1a96",
   "metadata": {},
   "outputs": [
    {
     "name": "stdout",
     "output_type": "stream",
     "text": [
      "   A  B\n",
      "0  1  3\n",
      "1  2  4\n"
     ]
    }
   ],
   "source": [
    "data = {'A' : [1,2], 'B': [3,4]}\n",
    "df = pd.DataFrame(data=data)\n",
    "print(df)\n",
    "\n"
   ]
  },
  {
   "cell_type": "code",
   "execution_count": null,
   "id": "4bb50021-273b-4688-bf72-19a78ed16d7e",
   "metadata": {},
   "outputs": [],
   "source": [
    "## index, columns 지정"
   ]
  },
  {
   "cell_type": "code",
   "execution_count": null,
   "id": "5aebdb30-d696-436b-a790-aa615189bf13",
   "metadata": {},
   "outputs": [],
   "source": [
    "### 데이터프레임 생성 시 지정 "
   ]
  },
  {
   "cell_type": "code",
   "execution_count": 32,
   "id": "afe68381-cdf9-43cf-8c9b-e6022304e656",
   "metadata": {},
   "outputs": [
    {
     "name": "stdout",
     "output_type": "stream",
     "text": [
      "  name  age gender addr\n",
      "A  홍길동   40      남   서울\n",
      "B  정길동   30      여   부산\n",
      "C  박길동   29      남   광주\n",
      "D  최길동   55      여   제주\n",
      "Index(['A', 'B', 'C', 'D'], dtype='object')\n",
      "Index(['name', 'age', 'gender', 'addr'], dtype='object')\n"
     ]
    }
   ],
   "source": [
    "member_data = [\n",
    "    ['홍길동', 40, '남', '서울'],\n",
    "    ['정길동', 30, '여', '부산'],\n",
    "    ['박길동', 29, '남', '광주'],\n",
    "    ['최길동', 55, '여', '제주'],\n",
    "]\n",
    "\n",
    "df = pd.DataFrame(data=member_data, index=['A','B','C','D'], columns=['name', 'age', 'gender','addr'])\n",
    "print(df)\n",
    "print(df.index)\n",
    "print(df.columns)"
   ]
  },
  {
   "cell_type": "code",
   "execution_count": null,
   "id": "afce0bf8-29a9-4ef1-902e-1b789baf8f32",
   "metadata": {},
   "outputs": [],
   "source": [
    "### 데이터프레임 생성 후 지정 또는 수정 "
   ]
  },
  {
   "cell_type": "code",
   "execution_count": 70,
   "id": "4d2b1d8d-a5b1-447e-a1bc-c6df31a95de1",
   "metadata": {},
   "outputs": [
    {
     "name": "stdout",
     "output_type": "stream",
     "text": [
      "    이름  나이 성별 거주지\n",
      "가  홍길동  40  남  서울\n",
      "나  정길동  30  여  부산\n",
      "다  박길동  29  남  광주\n",
      "라  최길동  55  여  제주\n",
      "Index(['가', '나', '다', '라'], dtype='object')\n",
      "Index(['이름', '나이', '성별', '거주지'], dtype='object')\n"
     ]
    }
   ],
   "source": [
    "df.index = ['가', '나', '다', '라']\n",
    "df.columns = ['이름', '나이', '성별', '거주지']\n",
    "print(df)\n",
    "print(df.index)\n",
    "print(df.columns)"
   ]
  },
  {
   "cell_type": "code",
   "execution_count": null,
   "id": "3a70442a-274f-4eb5-9fd3-e96b4d7cc684",
   "metadata": {},
   "outputs": [],
   "source": [
    "## columns"
   ]
  },
  {
   "cell_type": "code",
   "execution_count": null,
   "id": "00eba765-9886-43d9-a68c-1f258cc88348",
   "metadata": {},
   "outputs": [],
   "source": [
    "### 열 1개 조회"
   ]
  },
  {
   "cell_type": "code",
   "execution_count": 38,
   "id": "8975d7bd-80fe-424f-8fd0-81fe49351ac3",
   "metadata": {},
   "outputs": [
    {
     "name": "stdout",
     "output_type": "stream",
     "text": [
      "가    홍길동\n",
      "나    정길동\n",
      "다    박길동\n",
      "라    최길동\n",
      "Name: 이름, dtype: object\n"
     ]
    }
   ],
   "source": [
    "print(df['이름'])"
   ]
  },
  {
   "cell_type": "code",
   "execution_count": null,
   "id": "2d2ae028-11b2-49a9-ac9f-15f6a52a96bb",
   "metadata": {},
   "outputs": [],
   "source": [
    "### 열 여러개 조회 "
   ]
  },
  {
   "cell_type": "code",
   "execution_count": 40,
   "id": "e0368b79-a99c-4453-a8a2-570e4bedca30",
   "metadata": {},
   "outputs": [
    {
     "name": "stdout",
     "output_type": "stream",
     "text": [
      "    이름 거주지\n",
      "가  홍길동  서울\n",
      "나  정길동  부산\n",
      "다  박길동  광주\n",
      "라  최길동  제주\n"
     ]
    }
   ],
   "source": [
    "print(df[['이름', '거주지']])"
   ]
  },
  {
   "cell_type": "code",
   "execution_count": null,
   "id": "e6ee1d40-eff1-4321-bd77-a554044920a2",
   "metadata": {},
   "outputs": [],
   "source": [
    "## columns명 변경 "
   ]
  },
  {
   "cell_type": "code",
   "execution_count": null,
   "id": "7c5f5546-8750-4870-8d25-224ded1a5179",
   "metadata": {},
   "outputs": [],
   "source": [
    "### 특정 컬럼만 변경하기 "
   ]
  },
  {
   "cell_type": "code",
   "execution_count": 68,
   "id": "abf1b6e6-a1be-4981-a2ea-661f99d2fe95",
   "metadata": {},
   "outputs": [
    {
     "name": "stdout",
     "output_type": "stream",
     "text": [
      "    성명 거주지역 성별 거주지역\n",
      "가  홍길동   40  남   서울\n",
      "나  정길동   30  여   부산\n",
      "다  박길동   29  남   광주\n",
      "라  최길동   55  여   제주\n"
     ]
    }
   ],
   "source": [
    "df.rename(columns={'이름':'성명', '거주지':'거주지역'}, inplace=True)\n",
    "print(df)"
   ]
  },
  {
   "cell_type": "code",
   "execution_count": null,
   "id": "de917aa8-b397-450e-9d8c-5fb316a53390",
   "metadata": {},
   "outputs": [],
   "source": [
    "### 열 이름을 가져온 후 수정하기 "
   ]
  },
  {
   "cell_type": "code",
   "execution_count": 72,
   "id": "dfe38d42-47e7-4f33-8563-419405f5d2dd",
   "metadata": {},
   "outputs": [
    {
     "name": "stdout",
     "output_type": "stream",
     "text": [
      "    성명  나이 성별 거주지역\n",
      "가  홍길동  40  남   서울\n",
      "나  정길동  30  여   부산\n",
      "다  박길동  29  남   광주\n",
      "라  최길동  55  여   제주\n"
     ]
    }
   ],
   "source": [
    "columns = df.columns.tolist()\n",
    "columns[0] = '성명'\n",
    "columns[3] = '거주지역'\n",
    "df.columns = columns\n",
    "print(df)"
   ]
  },
  {
   "cell_type": "code",
   "execution_count": null,
   "id": "ab8bf5ee-47ef-441e-8c89-458a5b6086cf",
   "metadata": {},
   "outputs": [],
   "source": [
    "※ df.columns에 리스트로 전체를 다시 재지정도 가능"
   ]
  },
  {
   "cell_type": "code",
   "execution_count": null,
   "id": "a79c4729-e9b5-47b9-b1a5-1fbe798fe70c",
   "metadata": {},
   "outputs": [],
   "source": []
  },
  {
   "cell_type": "code",
   "execution_count": null,
   "id": "6e6c156a-2ac9-4dc1-8c33-1cc8b1758581",
   "metadata": {},
   "outputs": [],
   "source": [
    "## 데이터 삭제 "
   ]
  },
  {
   "cell_type": "code",
   "execution_count": null,
   "id": "73b82dbf-389f-4195-8975-eb09981e9ed5",
   "metadata": {},
   "outputs": [],
   "source": [
    "### 거주지역 열 삭제 "
   ]
  },
  {
   "cell_type": "code",
   "execution_count": 54,
   "id": "51d8c613-743b-4235-a9e8-94d524864068",
   "metadata": {},
   "outputs": [
    {
     "data": {
      "text/html": [
       "<div>\n",
       "<style scoped>\n",
       "    .dataframe tbody tr th:only-of-type {\n",
       "        vertical-align: middle;\n",
       "    }\n",
       "\n",
       "    .dataframe tbody tr th {\n",
       "        vertical-align: top;\n",
       "    }\n",
       "\n",
       "    .dataframe thead th {\n",
       "        text-align: right;\n",
       "    }\n",
       "</style>\n",
       "<table border=\"1\" class=\"dataframe\">\n",
       "  <thead>\n",
       "    <tr style=\"text-align: right;\">\n",
       "      <th></th>\n",
       "      <th>성명</th>\n",
       "      <th>나이</th>\n",
       "      <th>성별</th>\n",
       "    </tr>\n",
       "  </thead>\n",
       "  <tbody>\n",
       "    <tr>\n",
       "      <th>가</th>\n",
       "      <td>홍길동</td>\n",
       "      <td>40</td>\n",
       "      <td>남</td>\n",
       "    </tr>\n",
       "    <tr>\n",
       "      <th>나</th>\n",
       "      <td>정길동</td>\n",
       "      <td>30</td>\n",
       "      <td>여</td>\n",
       "    </tr>\n",
       "    <tr>\n",
       "      <th>다</th>\n",
       "      <td>박길동</td>\n",
       "      <td>29</td>\n",
       "      <td>남</td>\n",
       "    </tr>\n",
       "    <tr>\n",
       "      <th>라</th>\n",
       "      <td>최길동</td>\n",
       "      <td>55</td>\n",
       "      <td>여</td>\n",
       "    </tr>\n",
       "  </tbody>\n",
       "</table>\n",
       "</div>"
      ],
      "text/plain": [
       "    성명  나이 성별\n",
       "가  홍길동  40  남\n",
       "나  정길동  30  여\n",
       "다  박길동  29  남\n",
       "라  최길동  55  여"
      ]
     },
     "execution_count": 54,
     "metadata": {},
     "output_type": "execute_result"
    }
   ],
   "source": [
    "df.drop(['거주지역', axis=1)"
   ]
  },
  {
   "cell_type": "code",
   "execution_count": 74,
   "id": "62ec46ed-92eb-49dd-bc76-ccd53a5b3df5",
   "metadata": {},
   "outputs": [
    {
     "data": {
      "text/html": [
       "<div>\n",
       "<style scoped>\n",
       "    .dataframe tbody tr th:only-of-type {\n",
       "        vertical-align: middle;\n",
       "    }\n",
       "\n",
       "    .dataframe tbody tr th {\n",
       "        vertical-align: top;\n",
       "    }\n",
       "\n",
       "    .dataframe thead th {\n",
       "        text-align: right;\n",
       "    }\n",
       "</style>\n",
       "<table border=\"1\" class=\"dataframe\">\n",
       "  <thead>\n",
       "    <tr style=\"text-align: right;\">\n",
       "      <th></th>\n",
       "      <th>성명</th>\n",
       "      <th>성별</th>\n",
       "    </tr>\n",
       "  </thead>\n",
       "  <tbody>\n",
       "    <tr>\n",
       "      <th>가</th>\n",
       "      <td>홍길동</td>\n",
       "      <td>남</td>\n",
       "    </tr>\n",
       "    <tr>\n",
       "      <th>나</th>\n",
       "      <td>정길동</td>\n",
       "      <td>여</td>\n",
       "    </tr>\n",
       "    <tr>\n",
       "      <th>다</th>\n",
       "      <td>박길동</td>\n",
       "      <td>남</td>\n",
       "    </tr>\n",
       "    <tr>\n",
       "      <th>라</th>\n",
       "      <td>최길동</td>\n",
       "      <td>여</td>\n",
       "    </tr>\n",
       "  </tbody>\n",
       "</table>\n",
       "</div>"
      ],
      "text/plain": [
       "    성명 성별\n",
       "가  홍길동  남\n",
       "나  정길동  여\n",
       "다  박길동  남\n",
       "라  최길동  여"
      ]
     },
     "execution_count": 74,
     "metadata": {},
     "output_type": "execute_result"
    }
   ],
   "source": [
    "df.drop(['나이', '거주지역'], axis=1)"
   ]
  },
  {
   "cell_type": "code",
   "execution_count": null,
   "id": "8a2b267c-6901-4323-89e8-892123647af0",
   "metadata": {},
   "outputs": [],
   "source": [
    "### 인덱스 '가' 삭제"
   ]
  },
  {
   "cell_type": "code",
   "execution_count": 56,
   "id": "f95d719a-770e-42ba-bb05-a9be642da956",
   "metadata": {},
   "outputs": [
    {
     "data": {
      "text/html": [
       "<div>\n",
       "<style scoped>\n",
       "    .dataframe tbody tr th:only-of-type {\n",
       "        vertical-align: middle;\n",
       "    }\n",
       "\n",
       "    .dataframe tbody tr th {\n",
       "        vertical-align: top;\n",
       "    }\n",
       "\n",
       "    .dataframe thead th {\n",
       "        text-align: right;\n",
       "    }\n",
       "</style>\n",
       "<table border=\"1\" class=\"dataframe\">\n",
       "  <thead>\n",
       "    <tr style=\"text-align: right;\">\n",
       "      <th></th>\n",
       "      <th>성명</th>\n",
       "      <th>나이</th>\n",
       "      <th>성별</th>\n",
       "      <th>거주지역</th>\n",
       "    </tr>\n",
       "  </thead>\n",
       "  <tbody>\n",
       "    <tr>\n",
       "      <th>나</th>\n",
       "      <td>정길동</td>\n",
       "      <td>30</td>\n",
       "      <td>여</td>\n",
       "      <td>부산</td>\n",
       "    </tr>\n",
       "    <tr>\n",
       "      <th>다</th>\n",
       "      <td>박길동</td>\n",
       "      <td>29</td>\n",
       "      <td>남</td>\n",
       "      <td>광주</td>\n",
       "    </tr>\n",
       "    <tr>\n",
       "      <th>라</th>\n",
       "      <td>최길동</td>\n",
       "      <td>55</td>\n",
       "      <td>여</td>\n",
       "      <td>제주</td>\n",
       "    </tr>\n",
       "  </tbody>\n",
       "</table>\n",
       "</div>"
      ],
      "text/plain": [
       "    성명  나이 성별 거주지역\n",
       "나  정길동  30  여   부산\n",
       "다  박길동  29  남   광주\n",
       "라  최길동  55  여   제주"
      ]
     },
     "execution_count": 56,
     "metadata": {},
     "output_type": "execute_result"
    }
   ],
   "source": [
    "df.drop('가', axis=0)"
   ]
  },
  {
   "cell_type": "code",
   "execution_count": null,
   "id": "7e8e70c1-370f-4b69-8989-2913ade5697e",
   "metadata": {},
   "outputs": [],
   "source": [
    "## 컬럼 순서 변경 "
   ]
  },
  {
   "cell_type": "code",
   "execution_count": 78,
   "id": "88263f6a-478c-4ed0-8f6f-083f56c2d0bd",
   "metadata": {},
   "outputs": [],
   "source": [
    "df = pd.DataFrame({\n",
    "    'A': [1, 2, 3],\n",
    "    'B': [4, 5, 6],\n",
    "    'C': [7, 8, 9]\n",
    "})"
   ]
  },
  {
   "cell_type": "code",
   "execution_count": null,
   "id": "12c144a6-58b6-45b4-9047-e36dde1c95dd",
   "metadata": {},
   "outputs": [],
   "source": [
    "### 열을 직접 지정 "
   ]
  },
  {
   "cell_type": "code",
   "execution_count": 80,
   "id": "358fe7a9-a6e2-465f-b29b-c230b69d6183",
   "metadata": {},
   "outputs": [
    {
     "name": "stdout",
     "output_type": "stream",
     "text": [
      "   C  A  B\n",
      "0  7  1  4\n",
      "1  8  2  5\n",
      "2  9  3  6\n"
     ]
    }
   ],
   "source": [
    "df = df[['C', 'A', 'B']]\n",
    "print(df)"
   ]
  },
  {
   "cell_type": "code",
   "execution_count": null,
   "id": "55c4edca-c8ff-4658-aa63-497bb410e66f",
   "metadata": {},
   "outputs": [],
   "source": [
    "### 특정 열을 맨 앞으로 "
   ]
  },
  {
   "cell_type": "code",
   "execution_count": 82,
   "id": "c6c14e7a-acde-428f-8833-31f5a9f58fac",
   "metadata": {},
   "outputs": [
    {
     "name": "stdout",
     "output_type": "stream",
     "text": [
      "   B  C  A\n",
      "0  4  7  1\n",
      "1  5  8  2\n",
      "2  6  9  3\n"
     ]
    }
   ],
   "source": [
    "col_to_move = df.pop('B')  # 'B' 열을 제거하면서 반환\n",
    "df.insert(0, 'B', col_to_move)  # 'B'를 첫 번째 위치에 삽입\n",
    "print(df)"
   ]
  },
  {
   "cell_type": "code",
   "execution_count": 88,
   "id": "185ee395-5e83-491c-a795-6de936b5e575",
   "metadata": {},
   "outputs": [
    {
     "name": "stdout",
     "output_type": "stream",
     "text": [
      "   C  B  A\n",
      "0  7  4  1\n",
      "1  8  5  2\n",
      "2  9  6  3\n"
     ]
    }
   ],
   "source": [
    "cols = ['C'] + [col for col in df.columns if col != 'C']\n",
    "# 앞으로 이동시킬 C 와 C 제외 나머지를 리스트화\n",
    "df = df[cols]\n",
    "print(df)"
   ]
  },
  {
   "cell_type": "code",
   "execution_count": null,
   "id": "42dd322a-0ad2-4066-869b-7081a30bd575",
   "metadata": {},
   "outputs": [],
   "source": [
    "### 열 위치 교환"
   ]
  },
  {
   "cell_type": "code",
   "execution_count": 94,
   "id": "a58026f4-e787-4899-a64c-0a3c91ca206f",
   "metadata": {},
   "outputs": [
    {
     "name": "stdout",
     "output_type": "stream",
     "text": [
      "   A  B  C\n",
      "0  1  4  7\n",
      "1  2  5  8\n",
      "2  3  6  9\n"
     ]
    }
   ],
   "source": [
    "columns = list(df.columns)\n",
    "columns[0], columns[2] = columns[2], columns[0]  # 'A'와 'C' 교환\n",
    "df = df[columns]\n",
    "print(df)"
   ]
  },
  {
   "cell_type": "code",
   "execution_count": null,
   "id": "1de4c3b6-aaf4-4bd6-9d9f-f44b0c10a87f",
   "metadata": {},
   "outputs": [],
   "source": []
  },
  {
   "cell_type": "code",
   "execution_count": null,
   "id": "567e7b82-1567-414d-9398-e5c8bad263d9",
   "metadata": {},
   "outputs": [],
   "source": []
  },
  {
   "cell_type": "code",
   "execution_count": null,
   "id": "32a8cfc7-c85e-4c43-878a-f7a3e35bc4a9",
   "metadata": {},
   "outputs": [],
   "source": []
  }
 ],
 "metadata": {
  "kernelspec": {
   "display_name": "Python [conda env:base] *",
   "language": "python",
   "name": "conda-base-py"
  },
  "language_info": {
   "codemirror_mode": {
    "name": "ipython",
    "version": 3
   },
   "file_extension": ".py",
   "mimetype": "text/x-python",
   "name": "python",
   "nbconvert_exporter": "python",
   "pygments_lexer": "ipython3",
   "version": "3.12.7"
  }
 },
 "nbformat": 4,
 "nbformat_minor": 5
}
