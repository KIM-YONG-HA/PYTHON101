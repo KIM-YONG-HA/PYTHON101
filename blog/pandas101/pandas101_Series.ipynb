{
 "cells": [
  {
   "cell_type": "markdown",
   "id": "eb012f30-6ef5-470c-8088-cdbcb3ed5a01",
   "metadata": {},
   "source": [
    "# pandas\n",
    "판다스 라이브러리는 행과 열로 구성된 데이터를 수집 및 정리에 최적화 되어있는 파이썬의 패키지이다. \n",
    "<br><br>"
   ]
  },
  {
   "cell_type": "markdown",
   "id": "09526622-7f14-4e16-a412-d1477d2534cf",
   "metadata": {},
   "source": [
    "## import"
   ]
  },
  {
   "cell_type": "code",
   "execution_count": 4,
   "id": "2e275172-890e-4a22-ae7a-a14352f1a46b",
   "metadata": {},
   "outputs": [],
   "source": [
    "import pandas as pd"
   ]
  },
  {
   "cell_type": "markdown",
   "id": "434efe62-a665-4555-9d8e-b87a3b87dff9",
   "metadata": {},
   "source": [
    "※ 별칭은 pd를 많이 사용한다. \n",
    "<br><br>"
   ]
  },
  {
   "cell_type": "markdown",
   "id": "49e02d26-354b-41c0-96a8-007f558e5e81",
   "metadata": {},
   "source": [
    "## 자료구조 \n",
    "\n",
    "대표적으로 Series(시리즈), DataFrame(데이터프레임)이 있다. "
   ]
  },
  {
   "cell_type": "markdown",
   "id": "c4496b3c-fb9b-4dc7-ae31-687c687b2d79",
   "metadata": {},
   "source": [
    "## Series\n",
    "\n",
    "순차적으로 나열된 1차원 자료구조로 index(행), value(열)로 구성되며 1:1 대응한다.\n",
    "\n",
    "파이썬 자료구조 중 딕셔너리와 유사하다.\n",
    "<br><br>"
   ]
  },
  {
   "cell_type": "markdown",
   "id": "de83cf70-0723-4aa3-9688-675aa3386f94",
   "metadata": {},
   "source": [
    "\n",
    "## Series 클래스의 파라미터 \n",
    "``` python\n",
    "pd.Series(data, index, dtype, name, copy, fastpath)\n",
    "```\n",
    "### data \n",
    "```\n",
    "저장할 데이터를 지정하며 리스트, 딕셔너리, 스칼라 값 등이 가능하다. \n",
    "```\n",
    "\n",
    "### index\n",
    "```\n",
    "데이터의 키나 위치를 지정하여 레이블 역할을 한다\n",
    "```\n",
    "\n",
    "### dtype\n",
    "```\n",
    "데이터 타입을 지정\n",
    "\n",
    "int : 정수형 데이터\n",
    "float : 부동소수점(실수)형 데이터 \n",
    "bool : 논리값\n",
    "object : 문자열 또는 혼합데이터\n",
    "category : 범주형 데이터\n",
    "datetime64[ns]: 날짜 및 시간 데이터\n",
    "timedelta65[ns]: 시간 간격 데이터 \n",
    "```\n",
    "\n",
    "### name\n",
    "```\n",
    "시리즈의 이름을 지정하며 데이터 분석시 컬럼 이름으로 사용 가능하다.\n",
    "```\n",
    "\n",
    "### copy\n",
    "```\n",
    "데이터의 복사 여부를 결정한다\n",
    "\n",
    "True : 데이터를 복사하여 Series 객체를 독립적으로 생성\n",
    "\n",
    "False : 데이터를 참조하여 Series 객체 생성하여 원본 데이터와 연동될 수 있음\n",
    "\n",
    "성능최적화를 위해 사용되며 default는 false\n",
    "```\n",
    "\n",
    "※ 데이터가 매우 클 때 복사 대신 참조를하면 메모리 사용량과 실행시간이 줄어들어 효율적이지만 원본이 변경될 수도 있다. \n",
    "\n",
    "※ copy=False를 지정해도 복사가 발생할 수 있는데 이는 내부적으로 판다스가 데이터를 안전하게 다루기 위한 수행동작이다.\n",
    "\n",
    "### fastpath\n",
    "```\n",
    "내부적으로 성능 최적화를 위해 사용되며 자동으로 설정되어 지정할 필요가 없다. \n",
    "```\n",
    "\n",
    "<br><br>"
   ]
  },
  {
   "cell_type": "markdown",
   "id": "b69e42ea-89b3-4537-be14-2ca474099e96",
   "metadata": {},
   "source": [
    "## Series 객체 생성"
   ]
  },
  {
   "cell_type": "markdown",
   "id": "014efc9f-2910-4b87-bd66-d1ec2b6a6553",
   "metadata": {},
   "source": [
    "### 딕셔너리로 생성"
   ]
  },
  {
   "cell_type": "code",
   "execution_count": 33,
   "id": "6bb45ca8-2efa-4e02-bd9b-90e3d73c3490",
   "metadata": {},
   "outputs": [
    {
     "name": "stdout",
     "output_type": "stream",
     "text": [
      "<class 'pandas.core.series.Series'>\n",
      "a    1\n",
      "b    2\n",
      "c    3\n",
      "dtype: int64\n"
     ]
    }
   ],
   "source": [
    "dict_data = {'a':1, 'b':2, 'c':3}\n",
    "sr = pd.Series(dict_data)\n",
    "print(type(sr))\n",
    "print(sr)"
   ]
  },
  {
   "cell_type": "code",
   "execution_count": 38,
   "id": "bceb723a-7d65-4497-87e1-0de24e9f89c0",
   "metadata": {},
   "outputs": [
    {
     "name": "stdout",
     "output_type": "stream",
     "text": [
      "Index(['a', 'b', 'c'], dtype='object')\n",
      "[1 2 3]\n"
     ]
    }
   ],
   "source": [
    "print(sr.index)\n",
    "print(sr.values)"
   ]
  },
  {
   "cell_type": "markdown",
   "id": "70690c07-7bdd-4547-a911-280a34185012",
   "metadata": {},
   "source": [
    "### 리스트로 생성"
   ]
  },
  {
   "cell_type": "code",
   "execution_count": 46,
   "id": "dd5d8745-3b4d-4873-a59d-5ad7a2701945",
   "metadata": {},
   "outputs": [
    {
     "name": "stdout",
     "output_type": "stream",
     "text": [
      "0      3.141582\n",
      "1             0\n",
      "2          True\n",
      "3    2025-01-03\n",
      "4        python\n",
      "dtype: object\n"
     ]
    }
   ],
   "source": [
    "list_data = [3.141582,0,True,'2025-01-03','python']\n",
    "sr = pd.Series(list_data)\n",
    "print(sr)"
   ]
  },
  {
   "cell_type": "code",
   "execution_count": 43,
   "id": "064b837e-39f6-4d0e-be93-0aa15b5d2bfa",
   "metadata": {},
   "outputs": [
    {
     "name": "stdout",
     "output_type": "stream",
     "text": [
      "RangeIndex(start=0, stop=5, step=1)\n",
      "[3.141582 0 True '2025-01-03' 'python']\n"
     ]
    }
   ],
   "source": [
    "print(sr2.index)\n",
    "print(sr2.values)"
   ]
  },
  {
   "cell_type": "markdown",
   "id": "f7dfb3a9-a97d-4f5c-a4c1-8175b8f13353",
   "metadata": {},
   "source": [
    "### 튜플로 생성 "
   ]
  },
  {
   "cell_type": "code",
   "execution_count": 49,
   "id": "6fb73fca-1624-42f7-ad5a-f65216a32830",
   "metadata": {},
   "outputs": [
    {
     "name": "stdout",
     "output_type": "stream",
     "text": [
      "0    가\n",
      "1    나\n",
      "2    다\n",
      "3    라\n",
      "dtype: object\n"
     ]
    }
   ],
   "source": [
    "tup_data = ('가', '나', '다', '라')\n",
    "sr = pd.Series(tup_data)\n",
    "print(sr)"
   ]
  },
  {
   "cell_type": "markdown",
   "id": "4c6bb6dc-8105-4545-9750-ff5e5b817fed",
   "metadata": {},
   "source": [
    "## Series.index"
   ]
  },
  {
   "cell_type": "markdown",
   "id": "4b23e90e-9774-446b-8c3e-68010e8b8c26",
   "metadata": {},
   "source": [
    "시리즈 생성 시 별도의 인덱스를 지정하지 않았다면 0부터 순차적인 값(RangeIndex)이 부여된다."
   ]
  },
  {
   "cell_type": "code",
   "execution_count": 75,
   "id": "cfd1d588-7b9b-4a38-9c86-6503f20d96ca",
   "metadata": {},
   "outputs": [
    {
     "name": "stdout",
     "output_type": "stream",
     "text": [
      "0    가\n",
      "1    나\n",
      "2    다\n",
      "3    라\n",
      "dtype: object\n",
      "RangeIndex(start=0, stop=4, step=1)\n"
     ]
    }
   ],
   "source": [
    "list_data = ['가', '나', '다', '라']\n",
    "sr = pd.Series(list_data)\n",
    "print(sr)\n",
    "print(sr.index)"
   ]
  },
  {
   "cell_type": "markdown",
   "id": "d57c663e-44f5-4228-80ad-00ca81421074",
   "metadata": {},
   "source": [
    "### 시리즈 생성 후 인덱스 추가 "
   ]
  },
  {
   "cell_type": "code",
   "execution_count": 66,
   "id": "c1cb9255-d323-46ea-be3f-6d94ded17b22",
   "metadata": {},
   "outputs": [
    {
     "name": "stdout",
     "output_type": "stream",
     "text": [
      "A    가\n",
      "B    나\n",
      "C    다\n",
      "D    라\n",
      "dtype: object\n",
      "Index(['A', 'B', 'C', 'D'], dtype='object')\n"
     ]
    }
   ],
   "source": [
    "sr.index = ['A', 'B', 'C', 'D']\n",
    "print(sr)\n",
    "print(sr.index)"
   ]
  },
  {
   "cell_type": "markdown",
   "id": "9be89303-3109-48b4-a319-7fe489af45e4",
   "metadata": {},
   "source": [
    "### 시리즈 생성 시 인덱스 추가 "
   ]
  },
  {
   "cell_type": "code",
   "execution_count": 73,
   "id": "3a8dc7ca-0d2c-435c-a1cd-372bc0e2f724",
   "metadata": {},
   "outputs": [
    {
     "name": "stdout",
     "output_type": "stream",
     "text": [
      "A    가\n",
      "B    나\n",
      "C    다\n",
      "D    라\n",
      "dtype: object\n",
      "Index(['A', 'B', 'C', 'D'], dtype='object')\n"
     ]
    }
   ],
   "source": [
    "sr = pd.Series(data=['가', '나', '다', '라'], index=['A','B','C','D'])\n",
    "print(sr)\n",
    "print(sr.index)"
   ]
  },
  {
   "cell_type": "markdown",
   "id": "81924c7b-44b5-41f6-9b40-3a250f72e545",
   "metadata": {},
   "source": [
    "### 인덱스 수정하기 "
   ]
  },
  {
   "cell_type": "code",
   "execution_count": 90,
   "id": "1651171b-a261-4ecc-aecb-17df1c7edaa4",
   "metadata": {},
   "outputs": [
    {
     "name": "stdout",
     "output_type": "stream",
     "text": [
      "Index(['a', 'b', 'c', 'd'], dtype='object')\n"
     ]
    }
   ],
   "source": [
    "sr = pd.Series(data=['가', '나', '다', '라'], index=['A','B','C','D'])\n",
    "sr.index = ['a', 'b', 'c', 'd']\n",
    "print(sr.index)"
   ]
  },
  {
   "cell_type": "markdown",
   "id": "374e8669-665b-4b07-bf6d-b0fbe13f1f96",
   "metadata": {},
   "source": [
    "## 인덱싱"
   ]
  },
  {
   "cell_type": "code",
   "execution_count": 93,
   "id": "e9a34cda-454f-41d3-b403-72cecdf24547",
   "metadata": {},
   "outputs": [],
   "source": [
    "sr = pd.Series(['가', '나', '다', '라'])"
   ]
  },
  {
   "cell_type": "markdown",
   "id": "416c8158-5f13-47e4-9bed-d3ba566a251f",
   "metadata": {},
   "source": [
    "### 원소 한 개 선택"
   ]
  },
  {
   "cell_type": "code",
   "execution_count": 97,
   "id": "28d3d83c-b24b-44f1-90f5-32198041f146",
   "metadata": {},
   "outputs": [
    {
     "name": "stdout",
     "output_type": "stream",
     "text": [
      "가\n"
     ]
    }
   ],
   "source": [
    "print(sr[0])"
   ]
  },
  {
   "cell_type": "markdown",
   "id": "ea47e6b7-5eb1-411b-b3a0-aa33416147b2",
   "metadata": {},
   "source": [
    "### 특정 원소 여러 개 선택(fancy indexing)"
   ]
  },
  {
   "cell_type": "code",
   "execution_count": 99,
   "id": "3259dd07-faea-497f-b06d-b90f210ec474",
   "metadata": {},
   "outputs": [
    {
     "name": "stdout",
     "output_type": "stream",
     "text": [
      "1    나\n",
      "3    라\n",
      "dtype: object\n"
     ]
    }
   ],
   "source": [
    "print(sr[[1,3]])"
   ]
  },
  {
   "cell_type": "markdown",
   "id": "169b3d14-4698-436b-9677-467da1730af9",
   "metadata": {},
   "source": [
    "### 범위 선택(슬라이싱) "
   ]
  },
  {
   "cell_type": "markdown",
   "id": "d1394442-4c0c-4b38-998c-42df60fc1a3a",
   "metadata": {},
   "source": [
    "### 키 지정 후 숫자 인덱스로 선택 "
   ]
  },
  {
   "cell_type": "code",
   "execution_count": 112,
   "id": "05fab5a7-944b-4f8a-9366-75fd000d6259",
   "metadata": {
    "scrolled": true
   },
   "outputs": [
    {
     "name": "stdout",
     "output_type": "stream",
     "text": [
      "가\n"
     ]
    },
    {
     "name": "stderr",
     "output_type": "stream",
     "text": [
      "C:\\Users\\kj\\AppData\\Local\\Temp\\ipykernel_1196\\3868012840.py:2: FutureWarning: Series.__getitem__ treating keys as positions is deprecated. In a future version, integer keys will always be treated as labels (consistent with DataFrame behavior). To access a value by position, use `ser.iloc[pos]`\n",
      "  print(sr[0])\n"
     ]
    }
   ],
   "source": [
    "sr.index = ['A','B','C','D']\n",
    "print(sr[0])"
   ]
  },
  {
   "cell_type": "markdown",
   "id": "59547abc-1a7e-410d-b854-e9a68dd9850d",
   "metadata": {},
   "source": [
    "※ 인덱스 지정 후 sr[0]은 출력은 되지만 ser.iloc[pos]를 권장한다는 오류가 출력된다.   \n",
    "※ iloc는 데이터프레임 쪽에서 설명."
   ]
  },
  {
   "cell_type": "markdown",
   "id": "4a6985a9-8e41-49af-bc0c-3acdeeea0324",
   "metadata": {},
   "source": [
    "### 불리언 인덱싱(boolean indexing)\n",
    "조건식을 만들어 True에 해당하는 값만 필터링한다"
   ]
  },
  {
   "cell_type": "code",
   "execution_count": 116,
   "id": "0a442f6f-1e85-4a31-8e84-c2d292d35e13",
   "metadata": {},
   "outputs": [
    {
     "name": "stdout",
     "output_type": "stream",
     "text": [
      "C    30\n",
      "D    40\n",
      "dtype: int64\n"
     ]
    }
   ],
   "source": [
    "sr = pd.Series([10, 20, 30, 40], index=list('ABCD'))\n",
    "print(sr[sr > 20])"
   ]
  },
  {
   "cell_type": "code",
   "execution_count": 118,
   "id": "20f3dc14-bc29-40f7-82c9-6ec01c0d7c0a",
   "metadata": {},
   "outputs": [
    {
     "name": "stdout",
     "output_type": "stream",
     "text": [
      "B    나\n",
      "C    다\n",
      "D    라\n",
      "dtype: object\n"
     ]
    }
   ],
   "source": [
    "sr = pd.Series(['가', '나', '다', '라'], index=list('ABCD'))\n",
    "print(sr[sr > '가'])"
   ]
  },
  {
   "cell_type": "markdown",
   "id": "607b7196-7f35-47eb-9252-d7effea065c4",
   "metadata": {},
   "source": [
    "※ 문자의 경우 아스키 코드값을 비교한다."
   ]
  },
  {
   "cell_type": "markdown",
   "id": "dbe025f7-f7b9-45d5-975a-6b04ada55d68",
   "metadata": {},
   "source": [
    "### 슬라이싱 "
   ]
  },
  {
   "cell_type": "code",
   "execution_count": 133,
   "id": "a95fb065-68b8-41ca-9128-6fd2864d5dfe",
   "metadata": {},
   "outputs": [
    {
     "name": "stdout",
     "output_type": "stream",
     "text": [
      "0    10\n",
      "1    20\n",
      "2    30\n",
      "dtype: int64\n"
     ]
    }
   ],
   "source": [
    "sr = pd.Series([10, 20, 30, 40])\n",
    "print(sr[0:3])"
   ]
  },
  {
   "cell_type": "code",
   "execution_count": 135,
   "id": "a1ba61c5-071c-45e3-a4b3-b6841c916cd2",
   "metadata": {},
   "outputs": [
    {
     "name": "stdout",
     "output_type": "stream",
     "text": [
      "A    10\n",
      "B    20\n",
      "C    30\n",
      "D    40\n",
      "dtype: int64\n"
     ]
    }
   ],
   "source": [
    "sr = pd.Series([10, 20, 30, 40], index=list('ABCD'))\n",
    "print(sr['A':'D'])"
   ]
  },
  {
   "cell_type": "markdown",
   "id": "5af1fe05-77cb-4cbd-b3bd-b151d01093e2",
   "metadata": {},
   "source": [
    "※ 문자 인덱스의 경우 A, B, C, D(마지막 인덱스 D 포함)   \n",
    "※ 숫자 인덱스의 경우 0, 1, 2(마지막 인덱스 3 미포함)"
   ]
  },
  {
   "cell_type": "markdown",
   "id": "91f4f138-9a8d-4b3d-b3f6-bf6814397308",
   "metadata": {},
   "source": [
    "## Series.values"
   ]
  },
  {
   "cell_type": "code",
   "execution_count": 145,
   "id": "9223b372-1c6c-48b3-83ef-8bd510004375",
   "metadata": {},
   "outputs": [
    {
     "name": "stdout",
     "output_type": "stream",
     "text": [
      "[10 20 30 40]\n",
      "<class 'numpy.ndarray'>\n"
     ]
    }
   ],
   "source": [
    "sr = pd.Series([10, 20, 30, 40])\n",
    "print(sr.values)\n",
    "print(type(sr.values))"
   ]
  }
 ],
 "metadata": {
  "kernelspec": {
   "display_name": "Python [conda env:base] *",
   "language": "python",
   "name": "conda-base-py"
  },
  "language_info": {
   "codemirror_mode": {
    "name": "ipython",
    "version": 3
   },
   "file_extension": ".py",
   "mimetype": "text/x-python",
   "name": "python",
   "nbconvert_exporter": "python",
   "pygments_lexer": "ipython3",
   "version": "3.12.7"
  }
 },
 "nbformat": 4,
 "nbformat_minor": 5
}
