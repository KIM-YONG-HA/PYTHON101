{
 "cells": [
  {
   "cell_type": "code",
   "execution_count": null,
   "id": "b4e21bcc-6d67-4c81-a1a4-43e088694f91",
   "metadata": {},
   "outputs": [],
   "source": []
  },
  {
   "cell_type": "code",
   "execution_count": null,
   "id": "9754a401-a94b-494f-a4c8-b79dd40d331b",
   "metadata": {},
   "outputs": [],
   "source": [
    "int1 = 10\n",
    "int2 = 20\n",
    "int3 = 30\n",
    "str1 = \"가\"\n",
    "str2 = \"나\"\n",
    "str3 = \"다\""
   ]
  },
  {
   "cell_type": "code",
   "execution_count": null,
   "id": "060c8df7-866b-48f4-ba96-3c83023a24fc",
   "metadata": {},
   "outputs": [],
   "source": []
  },
  {
   "cell_type": "code",
   "execution_count": null,
   "id": "9719958e-5621-437f-9e5b-60db9e4c69ce",
   "metadata": {},
   "outputs": [],
   "source": []
  },
  {
   "cell_type": "code",
   "execution_count": null,
   "id": "856c748d-e3b9-405a-bb5e-4db68a84632d",
   "metadata": {},
   "outputs": [],
   "source": []
  },
  {
   "cell_type": "code",
   "execution_count": null,
   "id": "e2132c36-ed88-4a89-95dc-016b761a4b96",
   "metadata": {},
   "outputs": [],
   "source": []
  }
 ],
 "metadata": {
  "kernelspec": {
   "display_name": "Python [conda env:base] *",
   "language": "python",
   "name": "conda-base-py"
  },
  "language_info": {
   "codemirror_mode": {
    "name": "ipython",
    "version": 3
   },
   "file_extension": ".py",
   "mimetype": "text/x-python",
   "name": "python",
   "nbconvert_exporter": "python",
   "pygments_lexer": "ipython3",
   "version": "3.12.7"
  }
 },
 "nbformat": 4,
 "nbformat_minor": 5
}
