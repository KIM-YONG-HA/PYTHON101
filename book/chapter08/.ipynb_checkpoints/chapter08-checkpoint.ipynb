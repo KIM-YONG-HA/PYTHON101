{
 "cells": [
  {
   "cell_type": "markdown",
   "id": "e680c9a3-b243-4a7b-8f1f-af23131e2d2d",
   "metadata": {},
   "source": [
    "# 정규 표현식 (Regular Expression)"
   ]
  },
  {
   "cell_type": "markdown",
   "id": "b03c97f7-a094-435a-a3f1-cf81d2cb6f0f",
   "metadata": {},
   "source": [
    "정규표현식을 모른다면?"
   ]
  },
  {
   "cell_type": "code",
   "execution_count": 174,
   "id": "fbbe8893-b886-468a-8cd1-dafb6939c91e",
   "metadata": {},
   "outputs": [],
   "source": [
    "# data = '''\n",
    "# 홍길동 870102-1234555\n",
    "# 박명수 701222-2234582\n",
    "# '''\n",
    "\n",
    "# rows = data.split(\"\\n\")\n",
    "# print(rows)\n",
    "\n",
    "# result = []\n",
    "\n",
    "# for line in rows:\n",
    "#     if len(line) != 0:\n",
    "#         result.append(line[:-6] + '*' * 6)\n",
    "        \n",
    "# print(result)\n",
    "\n"
   ]
  },
  {
   "cell_type": "code",
   "execution_count": 178,
   "id": "73f20911-2c10-4846-8c29-df995f57e4a7",
   "metadata": {},
   "outputs": [
    {
     "name": "stdout",
     "output_type": "stream",
     "text": [
      "\n",
      "홍길동 870102-1234555\n",
      "박명수 701222-2234582\n",
      "\n"
     ]
    }
   ],
   "source": [
    "data = '''\n",
    "홍길동 870102-1234555\n",
    "박명수 701222-2234582\n",
    "'''\n",
    "\n",
    "\n",
    "result = []\n",
    "\n",
    "for line in data.split(\"\\n\"):\n",
    "    \n",
    "    word_result = []\n",
    "\n",
    "    for word in line.split(\" \"):\n",
    "    \n",
    "        if len(word) == 14 and word[:6].isdigit() and word[7:0].isdigit():\n",
    "            word = word[:6] + \"-\" + \"*******\"\n",
    "        word_result.append(word)\n",
    "\n",
    "    result.append(\" \".join(word_result))\n",
    "\n",
    "\n",
    "print(\"\\n\".join(result))\n",
    "\n",
    "\n",
    "\n",
    "\n"
   ]
  },
  {
   "cell_type": "code",
   "execution_count": null,
   "id": "63043dc8-a21d-48f1-8f04-b6b3519a8d35",
   "metadata": {},
   "outputs": [],
   "source": []
  },
  {
   "cell_type": "code",
   "execution_count": null,
   "id": "414aa35c-eb04-47e2-8ddb-72446a63e712",
   "metadata": {},
   "outputs": [],
   "source": []
  },
  {
   "cell_type": "code",
   "execution_count": null,
   "id": "614d970c-d5a3-416f-a3f1-61bb5b9a53c2",
   "metadata": {},
   "outputs": [],
   "source": [
    "# [] 문자 클래스"
   ]
  },
  {
   "cell_type": "code",
   "execution_count": null,
   "id": "fc13b082-ed0f-4a8c-821c-75c59bc22f6d",
   "metadata": {},
   "outputs": [],
   "source": [
    "a, b, c 중 한 개의 문자와 매치 "
   ]
  },
  {
   "cell_type": "code",
   "execution_count": 214,
   "id": "671e6db3-c475-4ead-acb8-47414c9a95eb",
   "metadata": {},
   "outputs": [
    {
     "name": "stdout",
     "output_type": "stream",
     "text": [
      "<re.Match object; span=(0, 1), match='b'>\n",
      "<re.Match object; span=(0, 1), match='b'>\n",
      "['c', 'b', 'a']\n"
     ]
    }
   ],
   "source": [
    "import re\n",
    "\n",
    "pat = re.compile('[abc]')\n",
    "print(pat.match('bcd'))\n",
    "print(pat.search('bcd'))\n",
    "print(pat.findall('cba'))"
   ]
  },
  {
   "cell_type": "code",
   "execution_count": 196,
   "id": "6c1f0a60-f9bc-4e80-8f51-6bf54a6a05f6",
   "metadata": {},
   "outputs": [
    {
     "name": "stdout",
     "output_type": "stream",
     "text": [
      "['a', 'b', 'a', 'a', 'a']\n"
     ]
    }
   ],
   "source": [
    "pattern = r\"[abc]\"\n",
    "text = \"apple banana \"\n",
    "\n",
    "matches = re.findall(pattern, text)\n",
    "print(matches)"
   ]
  },
  {
   "cell_type": "code",
   "execution_count": null,
   "id": "3b8aee5c-7f43-4933-bc99-2ac815a017c2",
   "metadata": {},
   "outputs": [],
   "source": [
    "소문자 a ~ z "
   ]
  },
  {
   "cell_type": "code",
   "execution_count": 5,
   "id": "2b5e2dee-fabb-42b0-99e7-2060a2ef5fb6",
   "metadata": {},
   "outputs": [
    {
     "name": "stdout",
     "output_type": "stream",
     "text": [
      "['e', 'l', 'l', 'o', 'y', 't', 'h', 'o', 'n']\n"
     ]
    }
   ],
   "source": [
    "pattern = r\"[a-z]\"\n",
    "text = \"Hello Python!!\"\n",
    "\n",
    "matches = re.findall(pattern, text)\n",
    "print(matches)"
   ]
  },
  {
   "cell_type": "code",
   "execution_count": null,
   "id": "b185ecad-3005-4d0b-9bec-ca486de63177",
   "metadata": {},
   "outputs": [],
   "source": [
    "대문자 A ~ Z"
   ]
  },
  {
   "cell_type": "code",
   "execution_count": 8,
   "id": "d5773f18-5c23-4f2b-9cfa-20b8238871be",
   "metadata": {},
   "outputs": [
    {
     "name": "stdout",
     "output_type": "stream",
     "text": [
      "['H', 'P']\n"
     ]
    }
   ],
   "source": [
    "pattern = r\"[A-Z]\"\n",
    "text = \"Hello Python!!\"\n",
    "\n",
    "matches = re.findall(pattern, text)\n",
    "print(matches)"
   ]
  },
  {
   "cell_type": "code",
   "execution_count": null,
   "id": "d70d19da-537a-4e62-9203-9f456e617b5a",
   "metadata": {},
   "outputs": [],
   "source": [
    "소문자 a ~ z + 대문자 A ~ Z"
   ]
  },
  {
   "cell_type": "code",
   "execution_count": 10,
   "id": "f38bd7d7-d183-410b-b867-b665b39ee823",
   "metadata": {},
   "outputs": [
    {
     "name": "stdout",
     "output_type": "stream",
     "text": [
      "['H', 'e', 'l', 'l', 'o', 'P', 'y', 't', 'h', 'o', 'n']\n"
     ]
    }
   ],
   "source": [
    "pattern = r\"[a-zA-Z]\"\n",
    "text = \"Hello Python!!\"\n",
    "\n",
    "matches = re.findall(pattern, text)\n",
    "print(matches)"
   ]
  },
  {
   "cell_type": "code",
   "execution_count": 52,
   "id": "05c5d152-7420-406d-bb40-f26a369c1deb",
   "metadata": {},
   "outputs": [
    {
     "name": "stdout",
     "output_type": "stream",
     "text": [
      "['헬', '로', '파', '이', '썬', 'ㅎ', 'ㅇ', 'ㅎ', 'ㅇ']\n"
     ]
    }
   ],
   "source": [
    "pattern = r\"[ㄱ-ㅎ가-힣]\"\n",
    "text = \"Hello Python!! 헬로 파이썬ㅎㅇㅎㅇ\"\n",
    " \n",
    "matches = re.findall(pattern, text)\n",
    "print(matches)"
   ]
  },
  {
   "cell_type": "code",
   "execution_count": 50,
   "id": "bd6ff544-051a-48e3-9b43-7c47dca9f877",
   "metadata": {},
   "outputs": [
    {
     "name": "stdout",
     "output_type": "stream",
     "text": [
      "['헬로', '파이썬ㅎㅇㅎㅇ']\n"
     ]
    }
   ],
   "source": [
    "pattern = r\"[ㄱ-ㅎ가-힣]+\"\n",
    "text = \"Hello Python!! 헬로 파이썬ㅎㅇㅎㅇ\"\n",
    " \n",
    "matches = re.findall(pattern, text)\n",
    "print(matches)"
   ]
  },
  {
   "cell_type": "code",
   "execution_count": null,
   "id": "4f2e193c-102a-4727-b6aa-2b7da65653ae",
   "metadata": {},
   "outputs": [],
   "source": []
  },
  {
   "cell_type": "code",
   "execution_count": null,
   "id": "51b87bd2-98fc-4142-a942-656c87d53747",
   "metadata": {},
   "outputs": [],
   "source": []
  },
  {
   "cell_type": "code",
   "execution_count": null,
   "id": "63a8ca69-0722-415d-b8ff-6735c1d4f2db",
   "metadata": {},
   "outputs": [],
   "source": [
    "시작 a 문자열 하나 끝 b\n",
    "\\n제외 a와 b 사이의 문자 "
   ]
  },
  {
   "cell_type": "code",
   "execution_count": 7,
   "id": "07d3501f-8af1-4a82-b44d-21c5e92a421b",
   "metadata": {},
   "outputs": [
    {
     "name": "stdout",
     "output_type": "stream",
     "text": [
      "['aab', 'a1b']\n"
     ]
    }
   ],
   "source": [
    "pattern = r\"a.b\"\n",
    "text = \"aab acc a1b\"\n",
    "\n",
    "matches = re.findall(pattern, text)\n",
    "print(matches)"
   ]
  },
  {
   "cell_type": "code",
   "execution_count": null,
   "id": "574c7f42-0869-44cf-826f-9be429ee1ac5",
   "metadata": {},
   "outputs": [],
   "source": [
    "a로 시작, 문자, 문자, le로 끝나는"
   ]
  },
  {
   "cell_type": "code",
   "execution_count": 12,
   "id": "f4d2acd1-d903-4d4d-ac90-c8617deaa84e",
   "metadata": {},
   "outputs": [
    {
     "name": "stdout",
     "output_type": "stream",
     "text": [
      "['apple']\n"
     ]
    }
   ],
   "source": [
    "pattern = r\"a..le\"\n",
    "text = \"apple banana kiwi\"\n",
    "\n",
    "matches = re.findall(pattern, text)\n",
    "print(matches)"
   ]
  },
  {
   "cell_type": "code",
   "execution_count": null,
   "id": "1417acf0-524a-4982-94ec-b2f5a6b53e77",
   "metadata": {},
   "outputs": [],
   "source": [
    "a + . + b"
   ]
  },
  {
   "cell_type": "code",
   "execution_count": 259,
   "id": "0171d6f2-ab7a-4dda-a829-94e4e10b5bb3",
   "metadata": {},
   "outputs": [
    {
     "name": "stdout",
     "output_type": "stream",
     "text": [
      "<re.Match object; span=(0, 3), match='a.b'>\n",
      "None\n"
     ]
    }
   ],
   "source": [
    "pat = re.compile('a[.]b') \n",
    "print(pat.match(\"a.b\"))\n",
    "print(pat.match(\"aab\"))"
   ]
  },
  {
   "cell_type": "code",
   "execution_count": null,
   "id": "1608724c-e370-4185-bf04-601f2aad85b9",
   "metadata": {},
   "outputs": [],
   "source": []
  },
  {
   "cell_type": "code",
   "execution_count": null,
   "id": "b6a5f8ca-ccb9-4773-b1df-9851c032abef",
   "metadata": {},
   "outputs": [],
   "source": []
  },
  {
   "cell_type": "code",
   "execution_count": null,
   "id": "a739514b-e93d-4a41-bbe0-d4c174c5287f",
   "metadata": {},
   "outputs": [],
   "source": []
  },
  {
   "cell_type": "code",
   "execution_count": null,
   "id": "da48d982-c716-4053-99a5-167173df01fa",
   "metadata": {},
   "outputs": [],
   "source": [
    "자주 사용하는 문자 클래스"
   ]
  },
  {
   "cell_type": "code",
   "execution_count": 251,
   "id": "8c7fc211-8372-4a6b-8bbd-08fda860e372",
   "metadata": {},
   "outputs": [
    {
     "name": "stderr",
     "output_type": "stream",
     "text": [
      "<>:1: SyntaxWarning: invalid escape sequence '\\d'\n",
      "<>:1: SyntaxWarning: invalid escape sequence '\\d'\n",
      "C:\\Users\\kj\\AppData\\Local\\Temp\\ipykernel_9052\\3580348515.py:1: SyntaxWarning: invalid escape sequence '\\d'\n",
      "  pat.compile('\\d')\n",
      "C:\\Users\\kj\\AppData\\Local\\Temp\\ipykernel_9052\\3580348515.py:1: SyntaxWarning: invalid escape sequence '\\d'\n",
      "  pat.compile('\\d')\n"
     ]
    },
    {
     "ename": "AttributeError",
     "evalue": "'re.Pattern' object has no attribute 'compile'",
     "output_type": "error",
     "traceback": [
      "\u001b[1;31m---------------------------------------------------------------------------\u001b[0m",
      "\u001b[1;31mAttributeError\u001b[0m                            Traceback (most recent call last)",
      "Cell \u001b[1;32mIn[251], line 1\u001b[0m\n\u001b[1;32m----> 1\u001b[0m pat\u001b[38;5;241m.\u001b[39mcompile(\u001b[38;5;124m'\u001b[39m\u001b[38;5;124m\\\u001b[39m\u001b[38;5;124md\u001b[39m\u001b[38;5;124m'\u001b[39m)\n\u001b[0;32m      2\u001b[0m \u001b[38;5;28mprint\u001b[39m(pat\u001b[38;5;241m.\u001b[39mmatch(\u001b[38;5;124m'\u001b[39m\u001b[38;5;124m1q2w3e4r\u001b[39m\u001b[38;5;124m'\u001b[39m))\n",
      "\u001b[1;31mAttributeError\u001b[0m: 're.Pattern' object has no attribute 'compile'"
     ]
    }
   ],
   "source": [
    "\n",
    "pat.compile('\\d')\n",
    "print(pat.match('1q2w3e4r'))\n",
    "print(pat.search('1q2w3e4r'))\n",
    "print(pat.findall('1q2w3e4r'))\n",
    "\n"
   ]
  },
  {
   "cell_type": "code",
   "execution_count": 302,
   "id": "efa26812-33bc-426b-a2b6-fb6c4a98b2be",
   "metadata": {},
   "outputs": [
    {
     "name": "stdout",
     "output_type": "stream",
     "text": [
      "<re.Match object; span=(0, 1), match='1'>\n",
      "<re.Match object; span=(0, 1), match='1'>\n",
      "['1', '2', '3', '4']\n"
     ]
    }
   ],
   "source": [
    "import re\n",
    "\n",
    "pat = re.compile(r'\\d')  # 원시 문자열 사용\n",
    "print(pat.match('1q2w3e4r'))\n",
    "print(pat.search('1q2w3e4r'))\n",
    "print(pat.findall('1q2w3e4r'))"
   ]
  },
  {
   "cell_type": "code",
   "execution_count": 255,
   "id": "32a2389d-8591-4f3e-a951-2ec5d2fd8f6d",
   "metadata": {},
   "outputs": [
    {
     "name": "stdout",
     "output_type": "stream",
     "text": [
      "<re.Match object; span=(0, 1), match='1'>\n",
      "<re.Match object; span=(0, 1), match='1'>\n",
      "['1', '2', '3', '4']\n"
     ]
    }
   ],
   "source": [
    "import re\n",
    "\n",
    "pat = re.compile('\\\\d')  # 백슬래시를 두 번 사용\n",
    "print(pat.match('1q2w3e4r'))\n",
    "print(pat.search('1q2w3e4r'))\n",
    "print(pat.findall('1q2w3e4r'))\n"
   ]
  },
  {
   "cell_type": "code",
   "execution_count": null,
   "id": "b9be50c0-0850-4081-9927-eca351227485",
   "metadata": {},
   "outputs": [],
   "source": []
  },
  {
   "cell_type": "code",
   "execution_count": null,
   "id": "32ca2dc1-5b30-4f2d-91d3-2699fecff626",
   "metadata": {},
   "outputs": [],
   "source": [
    "# * \n",
    "0번 이상"
   ]
  },
  {
   "cell_type": "code",
   "execution_count": null,
   "id": "753c3266-3613-46c4-992e-a16d4d491a37",
   "metadata": {},
   "outputs": [],
   "source": []
  },
  {
   "cell_type": "code",
   "execution_count": null,
   "id": "39758ced-d8b9-457b-848f-ea31c50f5f3f",
   "metadata": {},
   "outputs": [],
   "source": []
  },
  {
   "cell_type": "code",
   "execution_count": null,
   "id": "104bfbd1-05bd-4d14-83e2-2d851de9f392",
   "metadata": {},
   "outputs": [],
   "source": [
    "# +\n",
    "# 최소 1번 이상 반복될 때\n",
    "# ab+c\n",
    "# a +  b가 1회 이상 반복 + c"
   ]
  },
  {
   "cell_type": "code",
   "execution_count": 314,
   "id": "ac579b74-69cd-4b9c-8761-b19d2318a3c2",
   "metadata": {},
   "outputs": [
    {
     "name": "stdout",
     "output_type": "stream",
     "text": [
      "<re.Match object; span=(0, 3), match='abc'>\n",
      "<re.Match object; span=(0, 4), match='abbc'>\n",
      "<re.Match object; span=(0, 5), match='abbbc'>\n"
     ]
    }
   ],
   "source": [
    "pat = re.compile('ab+c')\n",
    "print(pat.match('abc'))\n",
    "print(pat.match('abbc'))\n",
    "print(pat.match('abbbc'))"
   ]
  },
  {
   "cell_type": "code",
   "execution_count": null,
   "id": "295f4342-edf6-467f-952a-ff8335398917",
   "metadata": {},
   "outputs": [],
   "source": []
  },
  {
   "cell_type": "code",
   "execution_count": 278,
   "id": "f7c9d966-e1a3-4fc0-92d8-36fe8bc8b405",
   "metadata": {},
   "outputs": [],
   "source": [
    "# {}\n",
    "# 문자{반복횟수}\n",
    "# 문자{최소반복횟수, 최대반복횟수}\n"
   ]
  },
  {
   "cell_type": "code",
   "execution_count": 276,
   "id": "99d9056e-de88-46f9-926f-441a3eefe9fc",
   "metadata": {},
   "outputs": [
    {
     "name": "stdout",
     "output_type": "stream",
     "text": [
      "<re.Match object; span=(0, 5), match='apple'>\n",
      "<re.Match object; span=(0, 5), match='apple'>\n",
      "None\n"
     ]
    }
   ],
   "source": [
    "import re\n",
    "\n",
    "pat = re.compile('a{1}p{2}le')\n",
    "print(pat.match('apple'))\n",
    "print(pat.match('appleZ'))\n",
    "print(pat.match('Zapple'))\n"
   ]
  },
  {
   "cell_type": "code",
   "execution_count": 286,
   "id": "9e2c3707-428b-47c8-b0f0-2327afd98809",
   "metadata": {},
   "outputs": [
    {
     "name": "stdout",
     "output_type": "stream",
     "text": [
      "None\n",
      "<re.Match object; span=(0, 4), match='conn'>\n",
      "<re.Match object; span=(0, 4), match='conn'>\n",
      "None\n"
     ]
    }
   ],
   "source": [
    "pat = re.compile('con{2}')\n",
    "print(pat.match('con'))\n",
    "print(pat.match('conn'))\n",
    "print(pat.match('connn'))\n",
    "print(pat.match('1conn'))"
   ]
  },
  {
   "cell_type": "code",
   "execution_count": 318,
   "id": "ab33cb60-6640-4304-b64f-e8295562937a",
   "metadata": {},
   "outputs": [
    {
     "name": "stdout",
     "output_type": "stream",
     "text": [
      "None\n",
      "<re.Match object; span=(0, 6), match='123456'>\n",
      "None\n"
     ]
    }
   ],
   "source": [
    "pat = re.compile(r'\\d{6}')\n",
    "print(pat.match('123456'))\n",
    "print(pat.match('1234567'))\n",
    "print(pat.match('12345'))"
   ]
  },
  {
   "cell_type": "code",
   "execution_count": null,
   "id": "694b4cb6-73e1-4a46-ab61-4a83938420a8",
   "metadata": {},
   "outputs": [],
   "source": [
    "# ? \n",
    "\n",
    "# {0, 1}를 의미한다\n",
    "# ab?c\n",
    "# a + b가 0개거나 1개거나 + c"
   ]
  },
  {
   "cell_type": "code",
   "execution_count": null,
   "id": "ba3b57d0-48c2-4cc0-9d4a-94aa9810298d",
   "metadata": {},
   "outputs": [],
   "source": [
    "\n"
   ]
  },
  {
   "cell_type": "markdown",
   "id": "2501b9aa-4629-41d6-bcf2-37750fea9e78",
   "metadata": {},
   "source": [
    "# 문자열 검색 \n",
    "* match : 문자열의 처음부터 정규식과 매치되는지 확인\n",
    "* search : 문자열 전체를 검색하여 정규식과 매치 여부를 확인\n",
    "* findall : 정규식과 매치되는 모든 문자열을 리스트 객체로 리턴\n",
    "* finditer : 정규식과 매치되는 모든 문자열을 이터레이터 객체로 리턴\n",
    "\n"
   ]
  },
  {
   "cell_type": "code",
   "execution_count": 336,
   "id": "09b53e77-fcac-4d94-8142-62b87fd0187e",
   "metadata": {},
   "outputs": [
    {
     "name": "stdout",
     "output_type": "stream",
     "text": [
      "<re.Match object; span=(0, 6), match='python'>\n",
      "<re.Match object; span=(0, 6), match='python'>\n",
      "['python']\n",
      "<class 'list'>\n",
      "<callable_iterator object at 0x000001F19808F160>\n",
      "<class 'callable_iterator'>\n"
     ]
    }
   ],
   "source": [
    "print(re.match('py....', 'python'))\n",
    "print(re.search('py....', 'python'))\n",
    "a = re.findall('py....', 'python')\n",
    "print(a)\n",
    "print(type(a))\n",
    "\n",
    "b = re.finditer('py....', 'python')\n",
    "print(b)\n",
    "print(type(b))\n",
    "\n"
   ]
  },
  {
   "cell_type": "code",
   "execution_count": 346,
   "id": "8197c667-8b63-48b7-9f82-7abbb368d92d",
   "metadata": {},
   "outputs": [
    {
     "name": "stdout",
     "output_type": "stream",
     "text": [
      "<re.Match object; span=(0, 9), match='123abcddd'>\n"
     ]
    }
   ],
   "source": [
    "print(re.match('\\\\d{3}[a-z]{3}d{3}','123abcddd'))"
   ]
  },
  {
   "cell_type": "code",
   "execution_count": 360,
   "id": "b8df6773-c5bd-4dc4-bb91-bd0ca6ed4eaf",
   "metadata": {},
   "outputs": [
    {
     "name": "stdout",
     "output_type": "stream",
     "text": [
      "None\n",
      "<re.Match object; span=(3, 9), match='abcddd'>\n"
     ]
    }
   ],
   "source": [
    "print(re.match('[a-z]{6}','123abcddd'))\n",
    "print(re.search('[a-z]{6}','123abcddd'))"
   ]
  },
  {
   "cell_type": "code",
   "execution_count": 372,
   "id": "f945f3d6-f8c4-40e8-af2a-d794c2048d8f",
   "metadata": {},
   "outputs": [
    {
     "name": "stdout",
     "output_type": "stream",
     "text": [
      "['Life', 'is', 'too', 'short']\n"
     ]
    }
   ],
   "source": [
    "print(re.findall('[a-zA-Z]+','Life 1 is 1 too short'))"
   ]
  },
  {
   "cell_type": "code",
   "execution_count": 400,
   "id": "e8367ed4-3a23-44ac-9525-09bac6c6ab9b",
   "metadata": {},
   "outputs": [
    {
     "name": "stdout",
     "output_type": "stream",
     "text": [
      "<callable_iterator object at 0x000001F19837AD70>\n",
      "<re.Match object; span=(0, 4), match='Life'>\n",
      "<re.Match object; span=(7, 9), match='is'>\n",
      "<re.Match object; span=(12, 15), match='too'>\n",
      "<re.Match object; span=(16, 21), match='short'>\n"
     ]
    }
   ],
   "source": [
    "print(re.finditer('[a-zA-Z]+','Life 1 is 1 too short'))\n",
    "\n",
    "a = re.finditer('[a-zA-Z]+','Life 1 is 1 too short')\n",
    "for i in a:\n",
    "    print(i)\n"
   ]
  },
  {
   "cell_type": "code",
   "execution_count": 410,
   "id": "6d1f9621-6914-43fa-8140-fbdd892d1711",
   "metadata": {},
   "outputs": [
    {
     "name": "stdout",
     "output_type": "stream",
     "text": [
      "Life\n",
      "is\n",
      "too\n",
      "short\n"
     ]
    }
   ],
   "source": [
    "a = re.finditer('[a-zA-Z]+','Life 1 is 1 too short')\n",
    "for i in a:\n",
    "    print(i.group())\n"
   ]
  },
  {
   "cell_type": "code",
   "execution_count": 412,
   "id": "130470f0-a30f-4e79-ba3d-1b4dea23d0ff",
   "metadata": {},
   "outputs": [
    {
     "name": "stdout",
     "output_type": "stream",
     "text": [
      "(0, 4)\n",
      "(7, 9)\n",
      "(12, 15)\n",
      "(16, 21)\n"
     ]
    }
   ],
   "source": [
    "a = re.finditer('[a-zA-Z]+','Life 1 is 1 too short')\n",
    "for i in a:\n",
    "    print(i.span())\n"
   ]
  },
  {
   "cell_type": "code",
   "execution_count": null,
   "id": "40c5aacb-d29d-438d-b669-7f746bb73056",
   "metadata": {},
   "outputs": [],
   "source": []
  },
  {
   "cell_type": "code",
   "execution_count": 416,
   "id": "cd7a9fdd-1f05-4f3f-8c14-64dd5c392ec2",
   "metadata": {},
   "outputs": [
    {
     "name": "stdout",
     "output_type": "stream",
     "text": [
      "<re.Match object; span=(0, 3), match='a\\nb'>\n"
     ]
    }
   ],
   "source": [
    "pat = re.compile('a.b', re.S)\n",
    "print(pat.match('a\\nb'))"
   ]
  },
  {
   "cell_type": "code",
   "execution_count": 418,
   "id": "adc76272-f4b1-4691-bfad-9352e326fe0d",
   "metadata": {},
   "outputs": [
    {
     "name": "stdout",
     "output_type": "stream",
     "text": [
      "None\n"
     ]
    }
   ],
   "source": [
    "pat = re.compile('a.b', re.I)\n",
    "print(pat.match('a\\nb'))"
   ]
  },
  {
   "cell_type": "code",
   "execution_count": null,
   "id": "999961f3-c7ea-4bb3-a098-a88b6feaf0a1",
   "metadata": {},
   "outputs": [],
   "source": [
    "# MULTILINE, M"
   ]
  },
  {
   "cell_type": "code",
   "execution_count": null,
   "id": "702d3d45-c9fb-47fe-9784-41537f59dd2c",
   "metadata": {},
   "outputs": [],
   "source": [
    "import re\n",
    "p = re.compile(\"^python\\s\\w+\", re.MULTILINE)`\n",
    "\n"
   ]
  },
  {
   "cell_type": "code",
   "execution_count": null,
   "id": "1eae4075-94da-4ea3-bf56-1dafef14b3c3",
   "metadata": {},
   "outputs": [],
   "source": []
  }
 ],
 "metadata": {
  "kernelspec": {
   "display_name": "Python [conda env:base] *",
   "language": "python",
   "name": "conda-base-py"
  },
  "language_info": {
   "codemirror_mode": {
    "name": "ipython",
    "version": 3
   },
   "file_extension": ".py",
   "mimetype": "text/x-python",
   "name": "python",
   "nbconvert_exporter": "python",
   "pygments_lexer": "ipython3",
   "version": "3.12.7"
  }
 },
 "nbformat": 4,
 "nbformat_minor": 5
}
