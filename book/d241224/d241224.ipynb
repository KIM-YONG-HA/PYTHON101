{
 "cells": [
  {
   "cell_type": "code",
   "execution_count": 3,
   "id": "3ad0a8cd-295d-4267-92f9-15f22ddfceb8",
   "metadata": {},
   "outputs": [
    {
     "name": "stdout",
     "output_type": "stream",
     "text": [
      "[2, 4, 6, 8, 10, 12, 14, 16, 18]\n"
     ]
    }
   ],
   "source": [
    "def gugu(n):\n",
    "    result = []\n",
    "    for i in range(1,10):\n",
    "        result.append(n*i)\n",
    "\n",
    "    return result\n",
    "\n",
    "a = gugu(2)\n",
    "\n",
    "print(a)"
   ]
  },
  {
   "cell_type": "code",
   "execution_count": 9,
   "id": "1b73850d-be8b-45f2-b9bd-48d89ff0b37c",
   "metadata": {},
   "outputs": [
    {
     "name": "stdout",
     "output_type": "stream",
     "text": [
      "233168\n"
     ]
    }
   ],
   "source": [
    "result = 0\n",
    "\n",
    "for i in range(1,1000):\n",
    "    if i % 3 == 0 or i % 5 == 0:\n",
    "        result += i\n",
    "\n",
    "print(result)"
   ]
  },
  {
   "cell_type": "code",
   "execution_count": null,
   "id": "a0eac430-40d4-4d03-af96-2e46282c9e37",
   "metadata": {},
   "outputs": [],
   "source": []
  },
  {
   "cell_type": "code",
   "execution_count": null,
   "id": "d0458603-2c0a-4ab5-9c5a-1c072faccc6c",
   "metadata": {},
   "outputs": [],
   "source": []
  },
  {
   "cell_type": "code",
   "execution_count": 13,
   "id": "6297dc9f-21f7-45f2-851e-fe954896528c",
   "metadata": {},
   "outputs": [
    {
     "data": {
      "text/plain": [
       "15"
      ]
     },
     "execution_count": 13,
     "metadata": {},
     "output_type": "execute_result"
    }
   ],
   "source": [
    "def mul3(n):\n",
    "    return n * 3\n",
    "\n",
    "mul3(5)"
   ]
  },
  {
   "cell_type": "code",
   "execution_count": 15,
   "id": "b17ba7a4-1449-4150-a3c3-0086de443ac5",
   "metadata": {},
   "outputs": [
    {
     "data": {
      "text/plain": [
       "25"
      ]
     },
     "execution_count": 15,
     "metadata": {},
     "output_type": "execute_result"
    }
   ],
   "source": [
    "def mul5(n):\n",
    "    return n * 5\n",
    "\n",
    "mul5(5)"
   ]
  },
  {
   "cell_type": "code",
   "execution_count": null,
   "id": "d93c8de0-3761-4905-8dfe-d2c52a8b2f08",
   "metadata": {},
   "outputs": [],
   "source": [
    "### 메소드 사용"
   ]
  },
  {
   "cell_type": "code",
   "execution_count": 35,
   "id": "6fce39a8-fdee-400c-9723-7c6f175776eb",
   "metadata": {},
   "outputs": [
    {
     "name": "stdout",
     "output_type": "stream",
     "text": [
      "30\n",
      "50\n"
     ]
    }
   ],
   "source": [
    "class Mul:\n",
    "    def __init__(self, m):\n",
    "        self.m = m\n",
    "\n",
    "    def mul(self, n):\n",
    "        return self.m * n \n",
    "\n",
    "\n",
    "if __name__ == \"__main__\":\n",
    "    \n",
    "    mul3 = Mul(3)\n",
    "    mul5 = Mul(5)\n",
    "    \n",
    "    print(mul3.mul(10))\n",
    "    print(mul5.mul(10))\n"
   ]
  },
  {
   "cell_type": "code",
   "execution_count": null,
   "id": "e317e91c-62b1-454b-8242-c7d1c597ee8d",
   "metadata": {},
   "outputs": [],
   "source": [
    "### __call__ 메소드 사용"
   ]
  },
  {
   "cell_type": "code",
   "execution_count": 33,
   "id": "c2b3e0ee-0f69-4aae-95c4-25c17e94a09b",
   "metadata": {},
   "outputs": [
    {
     "name": "stdout",
     "output_type": "stream",
     "text": [
      "30\n",
      "50\n"
     ]
    }
   ],
   "source": [
    "class Mul:\n",
    "    def __init__(self, m):\n",
    "        self.m = m\n",
    "\n",
    "    def __call__(self, n):\n",
    "        return self.m * n \n",
    "\n",
    "\n",
    "if __name__ == \"__main__\":\n",
    "    \n",
    "    mul3 = Mul(3)\n",
    "    mul5 = Mul(5)\n",
    "    \n",
    "    print(mul3(10))\n",
    "    print(mul5(10))\n"
   ]
  },
  {
   "cell_type": "code",
   "execution_count": null,
   "id": "bd6e2c89-9590-46a4-9ebd-b4a83da95277",
   "metadata": {},
   "outputs": [],
   "source": [
    "### 클로저 사용 "
   ]
  },
  {
   "cell_type": "code",
   "execution_count": 45,
   "id": "9fd7e8fd-35e3-4158-a630-bcce32099b93",
   "metadata": {},
   "outputs": [
    {
     "name": "stdout",
     "output_type": "stream",
     "text": [
      "30\n",
      "50\n"
     ]
    }
   ],
   "source": [
    "def mul(m):\n",
    "    def wrapper(n):\n",
    "        return m * n\n",
    "\n",
    "    return wrapper\n",
    "\n",
    "if __name__ == \"__main__\":\n",
    "\n",
    "    mul3 = mul(3)\n",
    "    mul5 = mul(5)\n",
    "\n",
    "    print(mul3(10))\n",
    "    print(mul5(10))\n",
    "\n"
   ]
  },
  {
   "cell_type": "code",
   "execution_count": 49,
   "id": "093e072b-3fa2-4753-bf73-e04e15498311",
   "metadata": {},
   "outputs": [
    {
     "name": "stdout",
     "output_type": "stream",
     "text": [
      "12\n",
      "15\n"
     ]
    }
   ],
   "source": [
    "class MyAdd:\n",
    "    def __init__(self, n):\n",
    "        self.n = n \n",
    "    \n",
    "    def add(self, m):\n",
    "        return self.n + m \n",
    "\n",
    "add2 = MyAdd(2)\n",
    "add5 = MyAdd(5)\n",
    "\n",
    "print(add2.add(10))\n",
    "print(add5.add(10))"
   ]
  },
  {
   "cell_type": "code",
   "execution_count": 51,
   "id": "35bf05ec-04db-472f-8461-50449d91b93d",
   "metadata": {},
   "outputs": [
    {
     "name": "stdout",
     "output_type": "stream",
     "text": [
      "12\n",
      "15\n"
     ]
    }
   ],
   "source": [
    "class MyAdd:\n",
    "    def __init__(self, n):\n",
    "        self.n = n \n",
    "    \n",
    "    def __call__(self, m):\n",
    "        return self.n + m \n",
    "\n",
    "add2 = MyAdd(2)\n",
    "add5 = MyAdd(5)\n",
    "print(add2(10))\n",
    "print(add5(10))"
   ]
  },
  {
   "cell_type": "code",
   "execution_count": 65,
   "id": "77c29182-db4e-42e3-a1e2-5df5b8b2494b",
   "metadata": {},
   "outputs": [
    {
     "name": "stdout",
     "output_type": "stream",
     "text": [
      "<function add.<locals>.wrapper at 0x000002DF8DFE42C0>\n",
      "12\n"
     ]
    }
   ],
   "source": [
    "def add(n):\n",
    "    def wrapper(m):\n",
    "        return n + m \n",
    "    return wrapper\n",
    "\n",
    "add2 = add(2)\n",
    "print(add2)\n",
    "print(add2(10))\n"
   ]
  },
  {
   "cell_type": "code",
   "execution_count": null,
   "id": "9bbca165-b79c-48cc-aac0-129374fe4f76",
   "metadata": {},
   "outputs": [],
   "source": [
    "### 데코레이터\n"
   ]
  },
  {
   "cell_type": "code",
   "execution_count": 97,
   "id": "640aa542-1b0e-4056-a153-792df128535f",
   "metadata": {},
   "outputs": [
    {
     "name": "stdout",
     "output_type": "stream",
     "text": [
      "=== start ===\n",
      "소요시간 : 0.000000\n"
     ]
    }
   ],
   "source": [
    "import time\n",
    "\n",
    "def myFunc():\n",
    "    start = time.time()\n",
    "    print(\"=== start ===\")\n",
    "\n",
    "    end =time.time()\n",
    "    print(\"소요시간 : %f\" % (end - start))\n",
    "\n",
    "\n",
    "myFunc()"
   ]
  },
  {
   "cell_type": "code",
   "execution_count": 121,
   "id": "a663b57c-20cf-443c-b158-b3be9905131d",
   "metadata": {},
   "outputs": [
    {
     "name": "stdout",
     "output_type": "stream",
     "text": [
      "=== start ===\n",
      "수행 시간 0.0003662109375\n",
      "=== 시작 ===\n",
      "수행 시간 0.0\n"
     ]
    }
   ],
   "source": [
    "def decorationFunc(func):\n",
    "    def inner():\n",
    "        start = time.time()\n",
    "        result = func()\n",
    "        end = time.time()\n",
    "        print(f'수행 시간 {end - start}')\n",
    "        return result # 소요시간 리턴\n",
    "    return inner # 클로저 리턴\n",
    "\n",
    "def myFunc():\n",
    "    print(\"=== start ===\")\n",
    "\n",
    "def youFunc():\n",
    "    print(\"=== 시작 ===\")\n",
    "\n",
    "decoFunc1 = decorationFunc(myFunc)\n",
    "decoFunc1()\n",
    "\n",
    "decoFunc2 = decorationFunc(youFunc)\n",
    "decoFunc2()\n",
    "\n"
   ]
  },
  {
   "cell_type": "code",
   "execution_count": 123,
   "id": "ef03e679-0ba3-402a-9663-eed902179ab0",
   "metadata": {},
   "outputs": [
    {
     "name": "stdout",
     "output_type": "stream",
     "text": [
      "=== start ===\n",
      "수행 시간 0.0\n",
      "=== 시작 ===\n",
      "수행 시간 0.0\n"
     ]
    }
   ],
   "source": [
    "def decorationFunc(func):\n",
    "    def inner():\n",
    "        start = time.time()\n",
    "        result = func()\n",
    "        end = time.time()\n",
    "        print(f'수행 시간 {end - start}')\n",
    "        return result # 소요시간 리턴\n",
    "    return inner # 클로저 리턴\n",
    "\n",
    "@decorationFunc\n",
    "def enFunc():\n",
    "    print(\"=== start ===\")\n",
    "\n",
    "@decorationFunc\n",
    "def koFunc():\n",
    "    print(\"=== 시작 ===\")\n",
    "\n",
    "\n",
    "enFunc()\n",
    "koFunc()"
   ]
  },
  {
   "cell_type": "code",
   "execution_count": 137,
   "id": "cb0bfcde-068e-459f-ae90-1b25d47e8a8d",
   "metadata": {},
   "outputs": [
    {
     "name": "stdout",
     "output_type": "stream",
     "text": [
      "=== enFunc 함수 start ===\n",
      "수행 시간 0.0\n",
      "=== koFunc 함수 시작 ===\n",
      "수행 시간 0.0\n"
     ]
    }
   ],
   "source": [
    "def decorationFunc(func):\n",
    "    def inner(*args, **kwargs):\n",
    "        start = time.time()\n",
    "        result = func(*args, **kwargs)\n",
    "        end = time.time()\n",
    "        print(f'수행 시간 {end - start}')\n",
    "        return result # 소요시간 리턴\n",
    "    return inner # 클로저 리턴\n",
    "\n",
    "@decorationFunc\n",
    "def enFunc(funcName):\n",
    "    print(f\"=== {funcName} start ===\")\n",
    "\n",
    "@decorationFunc\n",
    "def koFunc(funcName):\n",
    "    print(f\"=== {funcName} 시작 ===\")\n",
    "\n",
    "enFunc('enFunc 함수')\n",
    "koFunc('koFunc 함수')"
   ]
  },
  {
   "cell_type": "code",
   "execution_count": 157,
   "id": "685e04ef-4f7b-471e-bee8-6d9204041409",
   "metadata": {},
   "outputs": [
    {
     "name": "stdout",
     "output_type": "stream",
     "text": [
      "(1, 2, 3, 'a', 'b', 'c')\n",
      "{'name': '홍길동', 'addr': '제주특별시'}\n"
     ]
    }
   ],
   "source": [
    "\n",
    "\n",
    "def func(*args, **kwargs):\n",
    "    print(args)\n",
    "    print(kwargs)\n",
    "\n",
    "func(1,2,3,'a','b','c',name='홍길동',addr='제주특별시')\n",
    "\n"
   ]
  },
  {
   "cell_type": "code",
   "execution_count": null,
   "id": "e21f19a5-aa65-4fa0-aa2c-1651a842d6fd",
   "metadata": {},
   "outputs": [],
   "source": []
  },
  {
   "cell_type": "code",
   "execution_count": null,
   "id": "a1ca8a1c-5575-4216-8e65-669851d21248",
   "metadata": {},
   "outputs": [],
   "source": [
    "### 이터레이터\n"
   ]
  },
  {
   "cell_type": "code",
   "execution_count": 171,
   "id": "f5f36726-716d-49ac-8e33-eb04bb176c5c",
   "metadata": {},
   "outputs": [
    {
     "name": "stdout",
     "output_type": "stream",
     "text": [
      "1\n",
      "2\n",
      "3\n"
     ]
    },
    {
     "ename": "StopIteration",
     "evalue": "",
     "output_type": "error",
     "traceback": [
      "\u001b[1;31m---------------------------------------------------------------------------\u001b[0m",
      "\u001b[1;31mStopIteration\u001b[0m                             Traceback (most recent call last)",
      "Cell \u001b[1;32mIn[171], line 6\u001b[0m\n\u001b[0;32m      4\u001b[0m \u001b[38;5;28mprint\u001b[39m(\u001b[38;5;28mnext\u001b[39m(it))\n\u001b[0;32m      5\u001b[0m \u001b[38;5;28mprint\u001b[39m(\u001b[38;5;28mnext\u001b[39m(it))\n\u001b[1;32m----> 6\u001b[0m \u001b[38;5;28mprint\u001b[39m(\u001b[38;5;28mnext\u001b[39m(it))\n",
      "\u001b[1;31mStopIteration\u001b[0m: "
     ]
    }
   ],
   "source": [
    "a = [1,2,3]\n",
    "it = iter(a)\n",
    "print(next(it))\n",
    "print(next(it))\n",
    "print(next(it))\n",
    "print(next(it))\n",
    "\n"
   ]
  },
  {
   "cell_type": "code",
   "execution_count": 179,
   "id": "5164ece5-bb94-4775-8033-2b70be839caa",
   "metadata": {},
   "outputs": [
    {
     "name": "stdout",
     "output_type": "stream",
     "text": [
      "1\n",
      "2\n",
      "3\n"
     ]
    }
   ],
   "source": [
    "a = [1,2,3]\n",
    "it = iter(a)\n",
    "for i in it:\n",
    "    print(i)\n",
    "for i in it:\n",
    "    print(i)"
   ]
  },
  {
   "cell_type": "code",
   "execution_count": 275,
   "id": "275d3bb2-c421-4844-a37d-4979857b4153",
   "metadata": {},
   "outputs": [
    {
     "name": "stdout",
     "output_type": "stream",
     "text": [
      "1\n",
      "2\n",
      "3\n"
     ]
    }
   ],
   "source": [
    "class MyIterator:\n",
    "    \n",
    "    def __init__(self, data):\n",
    "        self.data = data\n",
    "        self.idx = 0\n",
    "        \n",
    "    def __iter__(self):\n",
    "        return self\n",
    "        \n",
    "    def __next__(self):\n",
    "        if self.idx >= len(self.data):\n",
    "            raise StopIteration\n",
    "        result = self.data[self.idx]\n",
    "        self.idx += 1\n",
    "        return result\n",
    "\n",
    "\n",
    "\n",
    "\n",
    "if __name__ == \"__main__\":\n",
    "\n",
    "    i = MyIterator([1,2,3])\n",
    "    for item in i:\n",
    "        print(item)\n"
   ]
  },
  {
   "cell_type": "code",
   "execution_count": 281,
   "id": "8188e3a8-09ea-4900-96a2-9bb16c384c68",
   "metadata": {},
   "outputs": [
    {
     "name": "stdout",
     "output_type": "stream",
     "text": [
      "3\n",
      "2\n",
      "1\n"
     ]
    }
   ],
   "source": [
    "class ReverseIterator:\n",
    "    \n",
    "    def __init__(self, data):\n",
    "        self.data = data\n",
    "        self.idx = len(self.data) - 1\n",
    "        \n",
    "    def __iter__(self):\n",
    "        return self\n",
    "        \n",
    "    def __next__(self):\n",
    "        if self.idx < 0:\n",
    "            raise StopIteration\n",
    "        result = self.data[self.idx]\n",
    "        self.idx -= 1\n",
    "        return result\n",
    "\n",
    "if __name__ == \"__main__\":\n",
    "\n",
    "    j = ReverseIterator([1,2,3])\n",
    "    for item in j:\n",
    "        print(item)\n"
   ]
  },
  {
   "cell_type": "code",
   "execution_count": 297,
   "id": "6f0e1d8a-e560-4c09-addc-689dc282055f",
   "metadata": {},
   "outputs": [
    {
     "name": "stdout",
     "output_type": "stream",
     "text": [
      "<class 'generator'>\n",
      "[1, 2, 3]\n",
      "(1, 2, 3)\n",
      "('a', 'b', 'c')\n"
     ]
    }
   ],
   "source": [
    "def myGenerator1():\n",
    "    yield [1,2,3]\n",
    "    yield (1,2,3)\n",
    "    yield 'a','b','c'\n",
    "\n",
    "gen1 = myGenerator1()\n",
    "print(type(gen1))\n",
    "print(next(gen1))\n",
    "print(next(gen1))\n",
    "print(next(gen1))\n"
   ]
  },
  {
   "cell_type": "code",
   "execution_count": 299,
   "id": "d7b81bab-3471-4b1d-b433-c92dd734a861",
   "metadata": {},
   "outputs": [
    {
     "name": "stdout",
     "output_type": "stream",
     "text": [
      "<class 'generator'>\n",
      "1\n",
      "4\n",
      "9\n"
     ]
    }
   ],
   "source": [
    "def myGenerator2():\n",
    "    for i in range(1,1000):\n",
    "        result = i * i\n",
    "        yield result\n",
    "\n",
    "gen2 = myGenerator2()\n",
    "print(type(gen2))\n",
    "print(next(gen2))\n",
    "print(next(gen2))\n",
    "print(next(gen2))\n",
    "\n",
    "\n"
   ]
  },
  {
   "cell_type": "code",
   "execution_count": 287,
   "id": "aa8296f9-a5ea-40fd-89b2-0b7dc537c9ce",
   "metadata": {},
   "outputs": [
    {
     "name": "stdout",
     "output_type": "stream",
     "text": [
      "[1, 4, 9, 16, 25, 36, 49, 64, 81]\n"
     ]
    },
    {
     "data": {
      "text/plain": [
       "list"
      ]
     },
     "execution_count": 287,
     "metadata": {},
     "output_type": "execute_result"
    }
   ],
   "source": [
    "igen = [ i * i for i in range(1,10)]\n",
    "print(igen)\n",
    "type(igen)"
   ]
  },
  {
   "cell_type": "code",
   "execution_count": 289,
   "id": "e04a6875-2258-40cb-a155-a48d32eb26f9",
   "metadata": {},
   "outputs": [
    {
     "name": "stdout",
     "output_type": "stream",
     "text": [
      "<generator object <genexpr> at 0x000002DF8D7AB780>\n"
     ]
    },
    {
     "data": {
      "text/plain": [
       "generator"
      ]
     },
     "execution_count": 289,
     "metadata": {},
     "output_type": "execute_result"
    }
   ],
   "source": [
    "jgen = ( i * i for i in range(1,10))\n",
    "print(jgen)\n",
    "type(jgen)"
   ]
  },
  {
   "cell_type": "code",
   "execution_count": 357,
   "id": "16165995-0d44-414b-b786-ce99e6c4eae9",
   "metadata": {},
   "outputs": [
    {
     "name": "stdout",
     "output_type": "stream",
     "text": [
      "start\n",
      "start\n",
      "start\n",
      "['end', 'end', 'end']\n"
     ]
    }
   ],
   "source": [
    "import time\n",
    "\n",
    "def status():\n",
    "    print(\"start\")\n",
    "    time.sleep(1)\n",
    "    return \"end\"\n",
    "\n",
    "s = [status() for i in range(3)]\n",
    "\n",
    "print(s)\n",
    "\n"
   ]
  },
  {
   "cell_type": "code",
   "execution_count": 355,
   "id": "774adeca-4e3d-47b3-bfb0-e4637aa4f57d",
   "metadata": {},
   "outputs": [
    {
     "name": "stdout",
     "output_type": "stream",
     "text": [
      "start\n",
      "end\n"
     ]
    }
   ],
   "source": [
    "import time\n",
    "\n",
    "def status():\n",
    "    print(\"start\")\n",
    "    time.sleep(1)\n",
    "    return \"end\"\n",
    "\n",
    "s = (status() for i in range(3))\n",
    "\n",
    "print(next(s))\n",
    "\n",
    "\n"
   ]
  },
  {
   "cell_type": "code",
   "execution_count": 365,
   "id": "f064408c-4152-4739-ae76-a7e474c70ff6",
   "metadata": {},
   "outputs": [
    {
     "name": "stdout",
     "output_type": "stream",
     "text": [
      "231\n"
     ]
    }
   ],
   "source": [
    "a = []\n",
    "idx = 0\n",
    "s = 0\n",
    "e = 0\n",
    "\n",
    "for i in range(1,11):\n",
    "    s = idx - 2\n",
    "    e = idx - 1\n",
    "    \n",
    "    if idx < 1:\n",
    "        a.append(i)\n",
    "    else:\n",
    "        a.append(a[s] + a[e])\n",
    "                \n",
    "    idx += 1\n",
    "\n",
    "print(sum(a))\n"
   ]
  }
 ],
 "metadata": {
  "kernelspec": {
   "display_name": "Python [conda env:base] *",
   "language": "python",
   "name": "conda-base-py"
  },
  "language_info": {
   "codemirror_mode": {
    "name": "ipython",
    "version": 3
   },
   "file_extension": ".py",
   "mimetype": "text/x-python",
   "name": "python",
   "nbconvert_exporter": "python",
   "pygments_lexer": "ipython3",
   "version": "3.12.7"
  }
 },
 "nbformat": 4,
 "nbformat_minor": 5
}
