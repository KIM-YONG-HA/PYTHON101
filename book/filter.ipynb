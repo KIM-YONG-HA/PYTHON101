{
 "cells": [
  {
   "cell_type": "code",
   "execution_count": null,
   "id": "2af341f5-b958-4aa4-9c9e-c51f0571bdab",
   "metadata": {},
   "outputs": [],
   "source": [
    "# filter"
   ]
  },
  {
   "cell_type": "code",
   "execution_count": null,
   "id": "d9318dc8-6951-48e8-a8fd-ccd9741cfd0a",
   "metadata": {},
   "outputs": [],
   "source": [
    "filter(함수, 반복가능한데이터)\n",
    "리턴 값이 True인 경우의 데이터만 리턴한다."
   ]
  },
  {
   "cell_type": "code",
   "execution_count": null,
   "id": "f5513945-cb57-4264-91e1-3d8c3dcef568",
   "metadata": {},
   "outputs": [],
   "source": [
    "## 함수 사용\n",
    "인수를 직접 입력하지 않아도 된다 "
   ]
  },
  {
   "cell_type": "code",
   "execution_count": 15,
   "id": "5ae6c9f2-8459-43c4-b469-e337066e483e",
   "metadata": {},
   "outputs": [
    {
     "name": "stdout",
     "output_type": "stream",
     "text": [
      "<filter object at 0x000001D302CB9AB0>\n"
     ]
    }
   ],
   "source": [
    "data = [1,3,5,7,9,11,13]\n",
    "def bigger_10(n):\n",
    "    if(n > 10):\n",
    "        return True\n",
    "    else:\n",
    "        return False\n",
    "\n",
    "a = list(filter(bigger_10, data))\n",
    "print(a)"
   ]
  },
  {
   "cell_type": "code",
   "execution_count": null,
   "id": "6856efc8-7933-4d1d-9886-8fc8cba495b0",
   "metadata": {},
   "outputs": [],
   "source": [
    "## 람다식 사용 "
   ]
  },
  {
   "cell_type": "code",
   "execution_count": 31,
   "id": "df7647f3-0cc2-4818-9e40-120b11f28ef4",
   "metadata": {},
   "outputs": [
    {
     "name": "stdout",
     "output_type": "stream",
     "text": [
      "<filter object at 0x000001D304226650>\n"
     ]
    }
   ],
   "source": [
    "data = [1,3,5,7,9,11,13]\n",
    "b = filter(lambda x: x > 10, data)\n",
    "print(b)"
   ]
  },
  {
   "cell_type": "code",
   "execution_count": 37,
   "id": "878c34f3-835d-4f0c-891b-ad16765ea3ce",
   "metadata": {},
   "outputs": [
    {
     "name": "stdout",
     "output_type": "stream",
     "text": [
      "a\n",
      "a\n"
     ]
    }
   ],
   "source": [
    "for _ in range(2):\n",
    "    print(\"a\")"
   ]
  },
  {
   "cell_type": "code",
   "execution_count": null,
   "id": "48c2b21a-ba72-4323-89bb-5672c314b36b",
   "metadata": {},
   "outputs": [],
   "source": []
  },
  {
   "cell_type": "code",
   "execution_count": null,
   "id": "c13a6623-6f7f-4adf-a410-7183c9662636",
   "metadata": {},
   "outputs": [],
   "source": []
  },
  {
   "cell_type": "code",
   "execution_count": null,
   "id": "23d3434b-05bf-4667-ae00-cf32dcc81f34",
   "metadata": {},
   "outputs": [],
   "source": []
  },
  {
   "cell_type": "code",
   "execution_count": null,
   "id": "14f11116-1ea6-4696-b43e-5c5808e7ff6c",
   "metadata": {},
   "outputs": [],
   "source": []
  }
 ],
 "metadata": {
  "kernelspec": {
   "display_name": "Python [conda env:base] *",
   "language": "python",
   "name": "conda-base-py"
  },
  "language_info": {
   "codemirror_mode": {
    "name": "ipython",
    "version": 3
   },
   "file_extension": ".py",
   "mimetype": "text/x-python",
   "name": "python",
   "nbconvert_exporter": "python",
   "pygments_lexer": "ipython3",
   "version": "3.12.7"
  }
 },
 "nbformat": 4,
 "nbformat_minor": 5
}
