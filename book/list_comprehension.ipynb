{
 "cells": [
  {
   "cell_type": "code",
   "execution_count": null,
   "id": "74a724de-e263-4879-bd66-51ba2ddb10de",
   "metadata": {},
   "outputs": [],
   "source": [
    "# list comprehension"
   ]
  },
  {
   "cell_type": "code",
   "execution_count": null,
   "id": "971d2775-4a83-444e-bbd9-b3c696d480f8",
   "metadata": {},
   "outputs": [],
   "source": [
    "list_data = [(변수 또는 변수의 연산) for 변수 in (범위나 반복가능한 데이터) [조건문]]"
   ]
  },
  {
   "cell_type": "code",
   "execution_count": null,
   "id": "b1f4f0c3-56be-4eba-a7b5-ed9ec063419c",
   "metadata": {},
   "outputs": [],
   "source": []
  },
  {
   "cell_type": "markdown",
   "id": "c6db699c-5a19-435d-b71e-0958734c5e40",
   "metadata": {},
   "source": [
    "## 리스트 컴프리헨션을 사용하지 않고 1 ~ n까지의 정수를 리스트에 저장\n",
    "\n",
    "list_data = [1, 2, 3, 4, 5, ... , n-1, n]\n",
    "\n",
    "list_data = []\n",
    "for i in range(1, n+1):\n",
    "    list_data.append(i)"
   ]
  },
  {
   "cell_type": "code",
   "execution_count": null,
   "id": "d746b3a5-14c2-4b39-89a1-3ce4e56a528b",
   "metadata": {},
   "outputs": [],
   "source": [
    "## 리스트 컴프리헨션 사용"
   ]
  },
  {
   "cell_type": "code",
   "execution_count": null,
   "id": "a289706d-25ee-48a1-b58e-4dd20d7957d1",
   "metadata": {},
   "outputs": [],
   "source": [
    "### 0 ~ 4까지 리스트에 저장"
   ]
  },
  {
   "cell_type": "code",
   "execution_count": 12,
   "id": "7f20c445-4cbc-432f-815b-d73849cc279b",
   "metadata": {},
   "outputs": [
    {
     "name": "stdout",
     "output_type": "stream",
     "text": [
      "[0, 1, 2, 3, 4]\n"
     ]
    }
   ],
   "source": [
    "list_data1 = [i for i in range(5)]\n",
    "print(list_data1)"
   ]
  },
  {
   "cell_type": "code",
   "execution_count": null,
   "id": "a91cdf2b-6d5c-4aeb-b377-c6067a2ae647",
   "metadata": {},
   "outputs": [],
   "source": [
    "### 0 ~ 4까지 두 배의 값을 저장 "
   ]
  },
  {
   "cell_type": "code",
   "execution_count": 14,
   "id": "25febbc8-56ee-4021-a7d0-f4c493e5b075",
   "metadata": {},
   "outputs": [
    {
     "name": "stdout",
     "output_type": "stream",
     "text": [
      "[0, 2, 4, 6, 8]\n"
     ]
    }
   ],
   "source": [
    "list_data2 = [i * 2 for i in range(5)]\n",
    "print(list_data2)"
   ]
  },
  {
   "cell_type": "code",
   "execution_count": null,
   "id": "666c6a12-e6f9-4a86-8c4d-5792b0f9beba",
   "metadata": {},
   "outputs": [],
   "source": [
    "### string으로 저장된 숫자를 int로 변환"
   ]
  },
  {
   "cell_type": "code",
   "execution_count": 24,
   "id": "01ea1008-0b73-42a3-b6f3-2dfb2714fb6c",
   "metadata": {},
   "outputs": [
    {
     "name": "stdout",
     "output_type": "stream",
     "text": [
      "[1, 2, 3, 4]\n",
      "<class 'int'>\n"
     ]
    }
   ],
   "source": [
    "txt = \"1234\"\n",
    "list_data3 = [int(num) for num in txt]\n",
    "print(list_data3)\n",
    "print(type(list_data3[0]))"
   ]
  },
  {
   "cell_type": "code",
   "execution_count": null,
   "id": "7da7275e-937a-4502-be53-12aef4454a4d",
   "metadata": {},
   "outputs": [],
   "source": [
    "### 1 ~ 10 사이의 짝수를 리스트에 저장 "
   ]
  },
  {
   "cell_type": "code",
   "execution_count": 32,
   "id": "ddb7af34-59f6-49a2-b665-efa36fe00949",
   "metadata": {},
   "outputs": [
    {
     "name": "stdout",
     "output_type": "stream",
     "text": [
      "[2, 4, 6, 8, 10]\n"
     ]
    }
   ],
   "source": [
    "list_data4 = [ n for n in range(1,11) if n%2==0]\n",
    "print(list_data4)"
   ]
  },
  {
   "cell_type": "code",
   "execution_count": null,
   "id": "25cbfd7e-1c41-4902-9d0e-609e7a499bf1",
   "metadata": {},
   "outputs": [],
   "source": [
    "## 인수에 10을 더해주는 함수를 사용하여 0~4까지 반복하여 저장 "
   ]
  },
  {
   "cell_type": "code",
   "execution_count": 41,
   "id": "d48a2e9d-71a0-447f-b98e-fcf910139b7f",
   "metadata": {},
   "outputs": [
    {
     "name": "stdout",
     "output_type": "stream",
     "text": [
      "[10, 11, 12, 13, 14]\n"
     ]
    }
   ],
   "source": [
    "def add(n):\n",
    "    return n + 10\n",
    "    \n",
    "list_data5 = [add(i) for i in range(0,5)]\n",
    "print(list_data5)"
   ]
  },
  {
   "cell_type": "code",
   "execution_count": null,
   "id": "188f71d2-ab3e-486d-8973-53d105778960",
   "metadata": {},
   "outputs": [],
   "source": [
    "## for문 2개 사용하여 구구단 출력"
   ]
  },
  {
   "cell_type": "code",
   "execution_count": 48,
   "id": "e399a0f6-8994-452c-be56-834cd4a759eb",
   "metadata": {},
   "outputs": [
    {
     "name": "stdout",
     "output_type": "stream",
     "text": [
      "[2, 4, 6, 8, 10, 12, 14, 16, 18]\n"
     ]
    }
   ],
   "source": [
    "gugudan = [ x*y for x in range(2,3) for y in range(1,10)]\n",
    "print(gugudan)"
   ]
  }
 ],
 "metadata": {
  "kernelspec": {
   "display_name": "Python [conda env:base] *",
   "language": "python",
   "name": "conda-base-py"
  },
  "language_info": {
   "codemirror_mode": {
    "name": "ipython",
    "version": 3
   },
   "file_extension": ".py",
   "mimetype": "text/x-python",
   "name": "python",
   "nbconvert_exporter": "python",
   "pygments_lexer": "ipython3",
   "version": "3.12.7"
  }
 },
 "nbformat": 4,
 "nbformat_minor": 5
}
