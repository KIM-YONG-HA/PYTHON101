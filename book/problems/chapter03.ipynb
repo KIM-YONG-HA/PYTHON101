{
 "cells": [
  {
   "cell_type": "code",
   "execution_count": null,
   "id": "b1178cae-537f-4c01-a7bb-736b9bc9a0d4",
   "metadata": {},
   "outputs": [],
   "source": [
    "###"
   ]
  },
  {
   "cell_type": "code",
   "execution_count": null,
   "id": "356f1ecf-0cff-4bdf-8da2-47b6e4c43859",
   "metadata": {},
   "outputs": [],
   "source": [
    "fdfdsf\n",
    "\n",
    "\n",
    "\n",
    "\n"
   ]
  },
  {
   "cell_type": "code",
   "execution_count": 13,
   "id": "f856362e-c1db-48dc-91e8-644320d00f52",
   "metadata": {},
   "outputs": [],
   "source": [
    "### 3번"
   ]
  },
  {
   "cell_type": "code",
   "execution_count": 16,
   "id": "1132cae6-51d6-467a-8f3b-118edbb480f6",
   "metadata": {},
   "outputs": [
    {
     "name": "stdout",
     "output_type": "stream",
     "text": [
      "*\n",
      "**\n",
      "***\n",
      "****\n",
      "*****\n"
     ]
    }
   ],
   "source": [
    "i = 0\n",
    "while True:\n",
    "    i += 1\n",
    "    if i > 5: break\n",
    "    print('*' * i)"
   ]
  },
  {
   "cell_type": "code",
   "execution_count": 5,
   "id": "742c97f4-f317-4d2b-8dd7-b6b4c1ff08ab",
   "metadata": {},
   "outputs": [],
   "source": [
    "### 4번"
   ]
  },
  {
   "cell_type": "code",
   "execution_count": 12,
   "id": "fe576c20-566e-460a-9514-a8ea7129af6e",
   "metadata": {},
   "outputs": [
    {
     "name": "stdout",
     "output_type": "stream",
     "text": [
      "1\n",
      "2\n",
      "3\n",
      "4\n",
      "5\n",
      "6\n",
      "7\n",
      "8\n",
      "9\n",
      "10\n"
     ]
    }
   ],
   "source": [
    "for i in range(1,11):\n",
    "    print(i)\n",
    "\n"
   ]
  },
  {
   "cell_type": "code",
   "execution_count": null,
   "id": "da7859c1-a76e-4e6c-951f-8395d11fa63d",
   "metadata": {},
   "outputs": [],
   "source": [
    "### 5번"
   ]
  },
  {
   "cell_type": "code",
   "execution_count": 4,
   "id": "daa65b36-6058-4464-a86b-05e1ad9bf7a5",
   "metadata": {},
   "outputs": [
    {
     "name": "stdout",
     "output_type": "stream",
     "text": [
      "78.88888888888889\n"
     ]
    }
   ],
   "source": [
    "A = [70,60,55,75,95,90,80,85,100]\n",
    "total = 0\n",
    "for score in A:\n",
    "    total += score\n",
    "average = total / len(A)\n",
    "print(average)"
   ]
  },
  {
   "cell_type": "code",
   "execution_count": 2,
   "id": "757b4962-58a2-4726-8e04-1d4a4eabb931",
   "metadata": {},
   "outputs": [],
   "source": [
    "### 6번"
   ]
  },
  {
   "cell_type": "code",
   "execution_count": 1,
   "id": "603397a5-2740-4347-9096-721e23a09ea1",
   "metadata": {},
   "outputs": [
    {
     "name": "stdout",
     "output_type": "stream",
     "text": [
      "[2, 4, 6, 8, 10]\n"
     ]
    }
   ],
   "source": [
    "number  = [1,2,3,4,5]\n",
    "result = [num*2 for num in number]\n",
    "print(result)"
   ]
  }
 ],
 "metadata": {
  "kernelspec": {
   "display_name": "Python 3 (ipykernel)",
   "language": "python",
   "name": "python3"
  },
  "language_info": {
   "codemirror_mode": {
    "name": "ipython",
    "version": 3
   },
   "file_extension": ".py",
   "mimetype": "text/x-python",
   "name": "python",
   "nbconvert_exporter": "python",
   "pygments_lexer": "ipython3",
   "version": "3.12.7"
  }
 },
 "nbformat": 4,
 "nbformat_minor": 5
}
