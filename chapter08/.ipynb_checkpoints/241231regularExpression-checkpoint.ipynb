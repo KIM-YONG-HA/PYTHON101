{
 "cells": [
  {
   "cell_type": "markdown",
   "id": "8c883cf7-6a17-453e-9587-f1333b170527",
   "metadata": {},
   "source": [
    "# 문자열 소비가 없는 메타 문자(zerowidth assertions)"
   ]
  },
  {
   "cell_type": "code",
   "execution_count": 9,
   "id": "d3f51b5f-d9f5-4f1a-aeb3-0db692a7ce27",
   "metadata": {},
   "outputs": [
    {
     "name": "stdout",
     "output_type": "stream",
     "text": [
      "<re.Match object; span=(0, 3), match='php'>\n"
     ]
    }
   ],
   "source": [
    "import re\n",
    "p = re.compile('python|java|php|jsp')\n",
    "m = p.match('php Hello')\n",
    "print(m)"
   ]
  },
  {
   "cell_type": "markdown",
   "id": "56ff25f4-388e-4b94-986b-0e881b7a9735",
   "metadata": {},
   "source": [
    "[^a] : a가 아닌 것 \n",
    "\"^a\" : a로 시작"
   ]
  },
  {
   "cell_type": "code",
   "execution_count": 17,
   "id": "be2365e2-fd38-4677-b133-17df678b71a1",
   "metadata": {},
   "outputs": [
    {
     "name": "stdout",
     "output_type": "stream",
     "text": [
      "<re.Match object; span=(0, 4), match='life'>\n"
     ]
    }
   ],
   "source": [
    "m = re.search('^life', 'life is too short')\n",
    "print(m)"
   ]
  },
  {
   "cell_type": "code",
   "execution_count": 23,
   "id": "19fae83f-6538-442a-994e-daf134640fb0",
   "metadata": {},
   "outputs": [
    {
     "name": "stdout",
     "output_type": "stream",
     "text": [
      "None\n"
     ]
    }
   ],
   "source": [
    "m = re.search('^life', 'My life')\n",
    "print(m)"
   ]
  },
  {
   "cell_type": "code",
   "execution_count": 25,
   "id": "2e56b794-6893-4b75-8d86-f84c702eccda",
   "metadata": {},
   "outputs": [
    {
     "name": "stdout",
     "output_type": "stream",
     "text": [
      "<re.Match object; span=(12, 17), match='short'>\n"
     ]
    }
   ],
   "source": [
    "m = re.search('short$', 'Life is too short')\n",
    "print(m)"
   ]
  },
  {
   "cell_type": "code",
   "execution_count": 31,
   "id": "5025ffb6-eafe-40b0-ac7e-3c1955de542b",
   "metadata": {},
   "outputs": [
    {
     "name": "stdout",
     "output_type": "stream",
     "text": [
      "None\n"
     ]
    }
   ],
   "source": [
    "m = re.search('short$', 'Life is too short, you need python')\n",
    "print(m)"
   ]
  },
  {
   "cell_type": "code",
   "execution_count": 33,
   "id": "2ba85c13-d472-490a-b606-f21954c76d3e",
   "metadata": {},
   "outputs": [
    {
     "name": "stdout",
     "output_type": "stream",
     "text": [
      "<re.Match object; span=(12, 17), match='short'>\n"
     ]
    }
   ],
   "source": [
    "m = re.search('short', 'Life is too short, you need python')\n",
    "print(m)"
   ]
  },
  {
   "cell_type": "markdown",
   "id": "dc003347-d2f4-44d3-9c2d-9ccc863eb017",
   "metadata": {},
   "source": [
    "\\s : 화이트 스페이스 매치( ,\\t)\n",
    "\\S : \n",
    "\n",
    "\\d : 숫자 1개 매치\n",
    "\\D : 숫자가 아닌 것 1개 매치\n",
    "\n",
    "\\w : 문자 또는 숫자 1개 매치 \n",
    "\\W : 문자, 숫자가 아닌 것 1개 매치\n",
    "\n",
    "\\A : ^ (문자열의 처음 매치여부)\n",
    "- 멀티라인 컴파일 옵션과 상관없이 전체 문자열의 처음과 매치 여부\n",
    "\n",
    "\\Z : $(문자열의 마지막 매치 여부)\n",
    "- 멀티라인 컴파일 옵션과 상관없이 전체 문자열의 마지막과 매치 여부\n",
    "\n",
    "\\b : 단어 구분자(word boundary), 화이트 스페이스에 의해 구분 "
   ]
  },
  {
   "cell_type": "code",
   "execution_count": 106,
   "id": "b97e5de7-e646-4266-b0e8-cc962cba43e2",
   "metadata": {},
   "outputs": [
    {
     "name": "stdout",
     "output_type": "stream",
     "text": [
      "<re.Match object; span=(3, 8), match='class'>\n",
      "<re.Match object; span=(1, 6), match='class'>\n"
     ]
    }
   ],
   "source": [
    "p = re.compile(r'\\bclass\\b')\n",
    "m = p.search('no class at all')\n",
    "print(m)\n",
    "m2 = p.search('myclass')\n",
    "print(m2)"
   ]
  },
  {
   "cell_type": "code",
   "execution_count": null,
   "id": "151427f9-432b-4472-8da8-d4281f09d9b1",
   "metadata": {},
   "outputs": [],
   "source": [
    "\\B : \\b의 반대 "
   ]
  },
  {
   "cell_type": "code",
   "execution_count": null,
   "id": "90867287-6e80-4499-a5cb-660e710c9f5c",
   "metadata": {},
   "outputs": [],
   "source": []
  },
  {
   "cell_type": "code",
   "execution_count": 50,
   "id": "21998a77-030b-466c-b381-48f13f794810",
   "metadata": {},
   "outputs": [
    {
     "name": "stdout",
     "output_type": "stream",
     "text": [
      "<re.Match object; span=(0, 3), match='abc'>\n"
     ]
    }
   ],
   "source": [
    "p = re.compile('(abc)+')\n",
    "m = p.search('abc abc abc')\n",
    "print(m)"
   ]
  },
  {
   "cell_type": "code",
   "execution_count": null,
   "id": "c64ccb56-d826-460d-bcb8-9e0e5ad63e3e",
   "metadata": {},
   "outputs": [],
   "source": []
  },
  {
   "cell_type": "code",
   "execution_count": 56,
   "id": "accaa2c3-f2a4-4077-9df3-8b7d7b1ac91c",
   "metadata": {},
   "outputs": [
    {
     "name": "stdout",
     "output_type": "stream",
     "text": [
      "<re.Match object; span=(0, 18), match='hong 010-5555-7878'>\n"
     ]
    }
   ],
   "source": [
    "p = re.compile(r'\\w+\\s+\\d+[-]\\d+[-]\\d+')\n",
    "m = p.search('hong 010-5555-7878')\n",
    "print(m)"
   ]
  },
  {
   "cell_type": "code",
   "execution_count": 66,
   "id": "2bc8c0dd-bb9e-4c2d-9051-54265d2b60d9",
   "metadata": {},
   "outputs": [
    {
     "name": "stdout",
     "output_type": "stream",
     "text": [
      "<re.Match object; span=(0, 18), match='hong 010-5555-7878'>\n",
      "hong\n",
      "010-5555-7878\n"
     ]
    }
   ],
   "source": [
    "p = re.compile(r'(\\w+)\\s+(\\d+[-]\\d+[-]\\d+)')\n",
    "m = p.search('hong 010-5555-7878')\n",
    "print(m)\n",
    "print(m.group(1))\n",
    "print(m.group(2))"
   ]
  },
  {
   "cell_type": "code",
   "execution_count": 128,
   "id": "00612d38-39d5-4b51-9e71-aa0e528842f2",
   "metadata": {},
   "outputs": [
    {
     "name": "stdout",
     "output_type": "stream",
     "text": [
      "['hong', 'kim']\n",
      "['010-5555-7777', '010-9999-5454']\n"
     ]
    }
   ],
   "source": [
    "txt = \"\"\"\n",
    "hong 010-5555-7777\n",
    "kim 010-9999-5454\n",
    "\"\"\"\n",
    "p = re.compile(r'(\\w+)\\s+(\\d+[-]\\d+[-]\\d+)')\n",
    "m = p.findall(txt)\n",
    "# for i in m:\n",
    "#     print(i[1])\n",
    "\n",
    "#print(p.sub(r'\\g<1>|\\g<2> ',txt))\n",
    "\n",
    "name_list = []\n",
    "tel_list = []\n",
    "\n",
    "name_list = [match[0] for match in p.findall(txt)]\n",
    "tel_list = [match[1] for match in p.findall(txt)]\n",
    "\n",
    "print(name_list)\n",
    "print(tel_list)\n",
    "\n",
    "\n"
   ]
  },
  {
   "cell_type": "code",
   "execution_count": null,
   "id": "4734bd4f-d676-4d8e-9554-8a31fbaa2cc7",
   "metadata": {},
   "outputs": [],
   "source": []
  },
  {
   "cell_type": "code",
   "execution_count": null,
   "id": "71875f8d-c33c-40a7-b913-f13f355560f7",
   "metadata": {},
   "outputs": [],
   "source": [
    "## 그룹핑된 문자열 재 참조 / 이름 붙이기 "
   ]
  },
  {
   "cell_type": "code",
   "execution_count": 102,
   "id": "ac6e13de-213a-4cbe-80a6-7a4068c65114",
   "metadata": {},
   "outputs": [
    {
     "data": {
      "text/plain": [
       "'Paris in'"
      ]
     },
     "execution_count": 102,
     "metadata": {},
     "output_type": "execute_result"
    }
   ],
   "source": [
    "p = re.compile(r'(\\b\\w+)\\s+\\b\\w+')\n",
    "p.search('Paris in the the spring').group()"
   ]
  },
  {
   "cell_type": "code",
   "execution_count": 112,
   "id": "04608709-25aa-42de-88f5-047a99afb3bd",
   "metadata": {},
   "outputs": [
    {
     "data": {
      "text/plain": [
       "'the the'"
      ]
     },
     "execution_count": 112,
     "metadata": {},
     "output_type": "execute_result"
    }
   ],
   "source": [
    "p = re.compile(r'(\\b\\w+)\\s+\\1')\n",
    "p.search('Paris in the the spring').group()"
   ]
  },
  {
   "cell_type": "code",
   "execution_count": null,
   "id": "ce110e97-f2c7-4869-8459-1e71ad4bd9ff",
   "metadata": {},
   "outputs": [],
   "source": []
  },
  {
   "cell_type": "code",
   "execution_count": null,
   "id": "b85064f0-bb21-4b62-909f-80545097cb11",
   "metadata": {},
   "outputs": [],
   "source": []
  },
  {
   "cell_type": "code",
   "execution_count": null,
   "id": "757bf441-0068-4d7e-bfd2-5f319a4038f0",
   "metadata": {},
   "outputs": [],
   "source": []
  },
  {
   "cell_type": "code",
   "execution_count": null,
   "id": "8136ddcf-4181-4998-9d68-db9ab55a4a8f",
   "metadata": {},
   "outputs": [],
   "source": []
  }
 ],
 "metadata": {
  "kernelspec": {
   "display_name": "Python [conda env:base] *",
   "language": "python",
   "name": "conda-base-py"
  },
  "language_info": {
   "codemirror_mode": {
    "name": "ipython",
    "version": 3
   },
   "file_extension": ".py",
   "mimetype": "text/x-python",
   "name": "python",
   "nbconvert_exporter": "python",
   "pygments_lexer": "ipython3",
   "version": "3.12.7"
  }
 },
 "nbformat": 4,
 "nbformat_minor": 5
}
