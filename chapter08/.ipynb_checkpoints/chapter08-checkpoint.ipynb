{
 "cells": [
  {
   "cell_type": "code",
   "execution_count": null,
   "id": "614d970c-d5a3-416f-a3f1-61bb5b9a53c2",
   "metadata": {},
   "outputs": [],
   "source": [
    "# [] 문자 클래스"
   ]
  },
  {
   "cell_type": "code",
   "execution_count": null,
   "id": "fc13b082-ed0f-4a8c-821c-75c59bc22f6d",
   "metadata": {},
   "outputs": [],
   "source": [
    "a, b, c 중 한 개의 문자와 매치 "
   ]
  },
  {
   "cell_type": "code",
   "execution_count": 4,
   "id": "6c1f0a60-f9bc-4e80-8f51-6bf54a6a05f6",
   "metadata": {
    "scrolled": true
   },
   "outputs": [
    {
     "name": "stdout",
     "output_type": "stream",
     "text": [
      "['a', 'b', 'a', 'a', 'a']\n"
     ]
    }
   ],
   "source": [
    "import re\n",
    "\n",
    "pattern = r\"[abc]\"\n",
    "text = \"apple banana\"\n",
    "\n",
    "matches = re.findall(pattern, text)\n",
    "print(matches)"
   ]
  },
  {
   "cell_type": "code",
   "execution_count": null,
   "id": "3b8aee5c-7f43-4933-bc99-2ac815a017c2",
   "metadata": {},
   "outputs": [],
   "source": [
    "소문자 a ~ z "
   ]
  },
  {
   "cell_type": "code",
   "execution_count": 5,
   "id": "2b5e2dee-fabb-42b0-99e7-2060a2ef5fb6",
   "metadata": {
    "scrolled": true
   },
   "outputs": [
    {
     "name": "stdout",
     "output_type": "stream",
     "text": [
      "['e', 'l', 'l', 'o', 'y', 't', 'h', 'o', 'n']\n"
     ]
    }
   ],
   "source": [
    "pattern = r\"[a-z]\"\n",
    "text = \"Hello Python!!\"\n",
    "\n",
    "matches = re.findall(pattern, text)\n",
    "print(matches)"
   ]
  },
  {
   "cell_type": "code",
   "execution_count": null,
   "id": "b185ecad-3005-4d0b-9bec-ca486de63177",
   "metadata": {},
   "outputs": [],
   "source": [
    "대문자 A ~ Z"
   ]
  },
  {
   "cell_type": "code",
   "execution_count": 8,
   "id": "d5773f18-5c23-4f2b-9cfa-20b8238871be",
   "metadata": {},
   "outputs": [
    {
     "name": "stdout",
     "output_type": "stream",
     "text": [
      "['H', 'P']\n"
     ]
    }
   ],
   "source": [
    "pattern = r\"[A-Z]\"\n",
    "text = \"Hello Python!!\"\n",
    "\n",
    "matches = re.findall(pattern, text)\n",
    "print(matches)"
   ]
  },
  {
   "cell_type": "code",
   "execution_count": null,
   "id": "d70d19da-537a-4e62-9203-9f456e617b5a",
   "metadata": {},
   "outputs": [],
   "source": [
    "소문자 a ~ z + 대문자 A ~ Z"
   ]
  },
  {
   "cell_type": "code",
   "execution_count": 10,
   "id": "f38bd7d7-d183-410b-b867-b665b39ee823",
   "metadata": {},
   "outputs": [
    {
     "name": "stdout",
     "output_type": "stream",
     "text": [
      "['H', 'e', 'l', 'l', 'o', 'P', 'y', 't', 'h', 'o', 'n']\n"
     ]
    }
   ],
   "source": [
    "pattern = r\"[a-zA-Z]\"\n",
    "text = \"Hello Python!!\"\n",
    "\n",
    "matches = re.findall(pattern, text)\n",
    "print(matches)"
   ]
  },
  {
   "cell_type": "code",
   "execution_count": null,
   "id": "63a8ca69-0722-415d-b8ff-6735c1d4f2db",
   "metadata": {},
   "outputs": [],
   "source": [
    "시작 a 문자열 하나 끝 b"
   ]
  },
  {
   "cell_type": "code",
   "execution_count": 7,
   "id": "07d3501f-8af1-4a82-b44d-21c5e92a421b",
   "metadata": {},
   "outputs": [
    {
     "name": "stdout",
     "output_type": "stream",
     "text": [
      "['aab', 'a1b']\n"
     ]
    }
   ],
   "source": [
    "pattern = r\"a.b\"\n",
    "text = \"aab acc a1b\"\n",
    "\n",
    "matches = re.findall(pattern, text)\n",
    "print(matches)"
   ]
  },
  {
   "cell_type": "code",
   "execution_count": null,
   "id": "574c7f42-0869-44cf-826f-9be429ee1ac5",
   "metadata": {},
   "outputs": [],
   "source": [
    "a로 시작, 문자, 문자, le로 끝나는"
   ]
  },
  {
   "cell_type": "code",
   "execution_count": 12,
   "id": "f4d2acd1-d903-4d4d-ac90-c8617deaa84e",
   "metadata": {},
   "outputs": [
    {
     "name": "stdout",
     "output_type": "stream",
     "text": [
      "['apple']\n"
     ]
    }
   ],
   "source": [
    "pattern = r\"a..le\"\n",
    "text = \"apple banana kiwi\"\n",
    "\n",
    "matches = re.findall(pattern, text)\n",
    "print(matches)"
   ]
  },
  {
   "cell_type": "code",
   "execution_count": null,
   "id": "acab1f4f-53ab-43f0-9efc-beb9d422ec9b",
   "metadata": {},
   "outputs": [],
   "source": []
  },
  {
   "cell_type": "code",
   "execution_count": null,
   "id": "da48d982-c716-4053-99a5-167173df01fa",
   "metadata": {},
   "outputs": [],
   "source": []
  },
  {
   "cell_type": "code",
   "execution_count": null,
   "id": "8c7fc211-8372-4a6b-8bbd-08fda860e372",
   "metadata": {},
   "outputs": [],
   "source": []
  },
  {
   "cell_type": "code",
   "execution_count": null,
   "id": "efa26812-33bc-426b-a2b6-fb6c4a98b2be",
   "metadata": {},
   "outputs": [],
   "source": []
  },
  {
   "cell_type": "code",
   "execution_count": null,
   "id": "32a2389d-8591-4f3e-a951-2ec5d2fd8f6d",
   "metadata": {},
   "outputs": [],
   "source": []
  },
  {
   "cell_type": "code",
   "execution_count": null,
   "id": "b9be50c0-0850-4081-9927-eca351227485",
   "metadata": {},
   "outputs": [],
   "source": []
  },
  {
   "cell_type": "code",
   "execution_count": null,
   "id": "32ca2dc1-5b30-4f2d-91d3-2699fecff626",
   "metadata": {},
   "outputs": [],
   "source": []
  },
  {
   "cell_type": "code",
   "execution_count": null,
   "id": "753c3266-3613-46c4-992e-a16d4d491a37",
   "metadata": {},
   "outputs": [],
   "source": []
  },
  {
   "cell_type": "code",
   "execution_count": null,
   "id": "39758ced-d8b9-457b-848f-ea31c50f5f3f",
   "metadata": {},
   "outputs": [],
   "source": []
  },
  {
   "cell_type": "code",
   "execution_count": null,
   "id": "104bfbd1-05bd-4d14-83e2-2d851de9f392",
   "metadata": {},
   "outputs": [],
   "source": []
  },
  {
   "cell_type": "code",
   "execution_count": null,
   "id": "ac579b74-69cd-4b9c-8761-b19d2318a3c2",
   "metadata": {},
   "outputs": [],
   "source": []
  },
  {
   "cell_type": "code",
   "execution_count": null,
   "id": "295f4342-edf6-467f-952a-ff8335398917",
   "metadata": {},
   "outputs": [],
   "source": []
  }
 ],
 "metadata": {
  "kernelspec": {
   "display_name": "Python 3 (ipykernel)",
   "language": "python",
   "name": "python3"
  },
  "language_info": {
   "codemirror_mode": {
    "name": "ipython",
    "version": 3
   },
   "file_extension": ".py",
   "mimetype": "text/x-python",
   "name": "python",
   "nbconvert_exporter": "python",
   "pygments_lexer": "ipython3",
   "version": "3.12.7"
  }
 },
 "nbformat": 4,
 "nbformat_minor": 5
}
