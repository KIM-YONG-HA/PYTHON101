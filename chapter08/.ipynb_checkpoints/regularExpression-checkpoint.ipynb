{
 "cells": [
  {
   "cell_type": "code",
   "execution_count": null,
   "id": "d3c8adc7-c7f5-48c8-b230-99bc0228959d",
   "metadata": {},
   "outputs": [],
   "source": [
    "# 정규식\n",
    "## 기본 사용방법"
   ]
  },
  {
   "cell_type": "code",
   "execution_count": null,
   "id": "b97835e8-0bcb-41cf-a9f2-1f63a7eb2c69",
   "metadata": {},
   "outputs": [],
   "source": []
  },
  {
   "cell_type": "code",
   "execution_count": 197,
   "id": "4a6a8d38-a0c1-42b3-a567-10dfe82f6769",
   "metadata": {},
   "outputs": [
    {
     "name": "stdout",
     "output_type": "stream",
     "text": [
      "<re.Match object; span=(0, 1), match='q'>\n"
     ]
    }
   ],
   "source": [
    "import re\n",
    "p = re.compile('[qwer]')\n",
    "m = p.match('q1234')\n",
    "print(m)"
   ]
  },
  {
   "cell_type": "code",
   "execution_count": 199,
   "id": "9d1db18a-37de-4477-a87a-214cc6ee90c1",
   "metadata": {},
   "outputs": [
    {
     "data": {
      "text/plain": [
       "2640000"
      ]
     },
     "execution_count": 199,
     "metadata": {},
     "output_type": "execute_result"
    }
   ],
   "source": [
    "11*6*4*10000"
   ]
  },
  {
   "cell_type": "code",
   "execution_count": null,
   "id": "61cf3a8b-fba7-4eae-af76-71657fea254d",
   "metadata": {},
   "outputs": [],
   "source": []
  },
  {
   "cell_type": "code",
   "execution_count": null,
   "id": "bc001dbd-0e31-41cd-80ab-ab43237da9aa",
   "metadata": {},
   "outputs": [],
   "source": []
  },
  {
   "cell_type": "code",
   "execution_count": null,
   "id": "70b46c35-75cb-4bfa-bf36-9cf148a73301",
   "metadata": {},
   "outputs": [],
   "source": []
  },
  {
   "cell_type": "code",
   "execution_count": null,
   "id": "b98a8b0a-301d-4ab2-a14f-f86cb72ab6c5",
   "metadata": {},
   "outputs": [],
   "source": []
  },
  {
   "cell_type": "code",
   "execution_count": 19,
   "id": "e36d28b8-653c-47e0-9e61-1f1a5b76ed03",
   "metadata": {},
   "outputs": [
    {
     "name": "stdout",
     "output_type": "stream",
     "text": [
      "<re.Match object; span=(0, 1), match='h'>\n",
      "<re.Match object; span=(0, 1), match='h'>\n",
      "['h', 'e', 'l', 'l', 'o']\n",
      "<callable_iterator object at 0x0000021B7D6C85E0>\n"
     ]
    }
   ],
   "source": [
    "import re\n",
    "pattern = \"[a-z]\"\n",
    "text = \"hello??\"\n",
    "pat = re.compile(pattern)\n",
    "match_rs = pat.match(text)\n",
    "search_rs = pat.search(text)\n",
    "findall_rs = pat.findall(text)\n",
    "finditer_rs = pat.finditer(text)\n",
    "print(match_rs)\n",
    "print(search_rs)\n",
    "print(findall_rs)\n",
    "print(finditer_rs)"
   ]
  },
  {
   "cell_type": "code",
   "execution_count": 25,
   "id": "01819119-1985-4151-ac30-d5ecd98b0a1b",
   "metadata": {},
   "outputs": [
    {
     "name": "stdout",
     "output_type": "stream",
     "text": [
      "<re.Match object; span=(0, 1), match='h'>\n",
      "<re.Match object; span=(0, 1), match='h'>\n",
      "['h', 'e', 'l', 'l', 'o']\n",
      "<callable_iterator object at 0x0000021B7D77E110>\n"
     ]
    }
   ],
   "source": [
    "print(re.match(\"[a-z]\", \"hello??\"))\n",
    "print(re.search(\"[a-z]\", \"hello??\"))\n",
    "print(re.findall(\"[a-z]\", \"hello??\"))\n",
    "print(re.finditer(\"[a-z]\", \"hello??\"))"
   ]
  },
  {
   "cell_type": "code",
   "execution_count": null,
   "id": "05463d7d-07d6-4507-aa13-8fd411b513db",
   "metadata": {},
   "outputs": [],
   "source": []
  },
  {
   "cell_type": "code",
   "execution_count": 41,
   "id": "9dbff4b7-16b8-4ad1-b627-bb8ea1a4cfc0",
   "metadata": {},
   "outputs": [
    {
     "name": "stdout",
     "output_type": "stream",
     "text": [
      "<re.Match object; span=(0, 1), match='h'>\n"
     ]
    }
   ],
   "source": [
    "print(re.match(\"[a-z]\", \"hello\"))"
   ]
  },
  {
   "cell_type": "code",
   "execution_count": 47,
   "id": "e8f7083a-9a30-4d6d-b7dc-e189238a617e",
   "metadata": {},
   "outputs": [
    {
     "name": "stdout",
     "output_type": "stream",
     "text": [
      "<re.Match object; span=(4, 5), match='a'>\n"
     ]
    }
   ],
   "source": [
    "print(re.search(\"[abcd]\", \"1234abcd\"))"
   ]
  },
  {
   "cell_type": "code",
   "execution_count": 59,
   "id": "09cef4bf-a9e7-494a-9fc6-db44c177ea17",
   "metadata": {},
   "outputs": [
    {
     "name": "stdout",
     "output_type": "stream",
     "text": [
      "<class 'list'>\n",
      "['a', 'b', 'c', 'd']\n",
      "a\n",
      "b\n",
      "c\n",
      "d\n"
     ]
    }
   ],
   "source": [
    "all = re.findall(\"[abcd]\", \"1234abcd\")\n",
    "print(type(all))\n",
    "print(all)\n",
    "\n",
    "for i in all:\n",
    "    print(i)\n"
   ]
  },
  {
   "cell_type": "code",
   "execution_count": 81,
   "id": "7bbe7fa3-0bcc-4b98-9bd6-bd65b2ff90bd",
   "metadata": {},
   "outputs": [
    {
     "name": "stdout",
     "output_type": "stream",
     "text": [
      "<class 'callable_iterator'>\n",
      "<callable_iterator object at 0x0000021B7D8DA4D0>\n",
      "(4, 5)\n",
      "(5, 6)\n",
      "(6, 7)\n",
      "(7, 8)\n"
     ]
    }
   ],
   "source": [
    "all = re.finditer(\"[abcd]\", \"1234abcd\")\n",
    "print(type(all))\n",
    "print(all)\n",
    "\n",
    "for i in all:\n",
    "    print(i.span())\n",
    "\n",
    "\n"
   ]
  },
  {
   "cell_type": "code",
   "execution_count": 85,
   "id": "d0e8aba6-2324-41e0-9ece-1407e04912b7",
   "metadata": {},
   "outputs": [
    {
     "name": "stdout",
     "output_type": "stream",
     "text": [
      "<re.Match object; span=(0, 1), match='b'>\n",
      "<re.Match object; span=(1, 2), match='a'>\n",
      "['c', 'b', 'a']\n"
     ]
    }
   ],
   "source": [
    "pat = re.compile('[abc]')\n",
    "print(pat.match('bcd'))\n",
    "print(pat.search('dab'))\n",
    "print(pat.findall('cba'))"
   ]
  },
  {
   "cell_type": "code",
   "execution_count": null,
   "id": "b19a594c-dd54-42e3-b175-0b093ecdf679",
   "metadata": {},
   "outputs": [],
   "source": [
    "# match"
   ]
  },
  {
   "cell_type": "code",
   "execution_count": 18,
   "id": "0bda6876-88e1-4b2a-8e40-19cd4ffb6ce6",
   "metadata": {},
   "outputs": [
    {
     "name": "stdout",
     "output_type": "stream",
     "text": [
      "<re.Match object; span=(0, 1), match='a'>\n",
      "a\n",
      "0\n",
      "1\n",
      "(0, 1)\n"
     ]
    }
   ],
   "source": [
    "import re\n",
    "a = re.match(\"[abcd]\", \"abcd\")\n",
    "print(a)\n",
    "print(a.group())\n",
    "print(a.start())\n",
    "print(a.end())\n",
    "print(a.span())\n"
   ]
  },
  {
   "cell_type": "code",
   "execution_count": null,
   "id": "f7888136-7d64-440c-9862-b62d319ecfc1",
   "metadata": {},
   "outputs": [],
   "source": []
  },
  {
   "cell_type": "code",
   "execution_count": 20,
   "id": "48c56b99-2c70-4ac8-9ad0-81a896ef9fb6",
   "metadata": {},
   "outputs": [
    {
     "name": "stdout",
     "output_type": "stream",
     "text": [
      "<re.Match object; span=(4, 5), match='a'>\n",
      "a\n",
      "4\n",
      "5\n",
      "(4, 5)\n"
     ]
    }
   ],
   "source": [
    "import re\n",
    "a = re.search(\"[abcd]\", \"1234abcd\")\n",
    "print(a)\n",
    "print(a.group())\n",
    "print(a.start())\n",
    "print(a.end())\n",
    "print(a.span())\n"
   ]
  },
  {
   "cell_type": "code",
   "execution_count": null,
   "id": "4a0d42cc-4285-4473-8d94-9cbd01709a8d",
   "metadata": {},
   "outputs": [],
   "source": []
  },
  {
   "cell_type": "code",
   "execution_count": 30,
   "id": "dea78358-6b71-4556-a675-0646cd2e2696",
   "metadata": {},
   "outputs": [
    {
     "name": "stdout",
     "output_type": "stream",
     "text": [
      "<class 'list'>\n",
      "['a', 'b', 'c', 'd']\n"
     ]
    }
   ],
   "source": [
    "all = re.findall(\"[abcd]\", \"1234abcd\")\n",
    "print(type(all))\n",
    "print(all)\n",
    "\n",
    "\n",
    "\n"
   ]
  },
  {
   "cell_type": "code",
   "execution_count": null,
   "id": "e526c9e9-fa21-4b99-b905-128e177898ee",
   "metadata": {},
   "outputs": [],
   "source": []
  },
  {
   "cell_type": "code",
   "execution_count": null,
   "id": "84c3e9a1-e857-4b9e-a966-f43d86c8397e",
   "metadata": {},
   "outputs": [],
   "source": []
  },
  {
   "cell_type": "code",
   "execution_count": null,
   "id": "11e29ceb-0cb5-4047-9d9f-4b2d537dc79a",
   "metadata": {},
   "outputs": [],
   "source": []
  },
  {
   "cell_type": "code",
   "execution_count": null,
   "id": "e814cbd0-a4dc-4fb7-a47d-d6afbb09c0f1",
   "metadata": {},
   "outputs": [],
   "source": []
  },
  {
   "cell_type": "code",
   "execution_count": null,
   "id": "0dbc2b1d-7ed0-462b-b780-271fd2026226",
   "metadata": {},
   "outputs": [],
   "source": []
  },
  {
   "cell_type": "code",
   "execution_count": null,
   "id": "33ed16de-c71b-452a-ace3-689e4d210b48",
   "metadata": {},
   "outputs": [],
   "source": []
  },
  {
   "cell_type": "code",
   "execution_count": 91,
   "id": "ce07247b-35f2-4557-8375-80fff92906a4",
   "metadata": {
    "scrolled": true
   },
   "outputs": [
    {
     "name": "stdout",
     "output_type": "stream",
     "text": [
      "['a', 'b', 'a', 'a', 'a', 'c', 'c']\n"
     ]
    }
   ],
   "source": [
    "pat = re.compile('[abc]')\n",
    "matches = pat.findall('apple banana coconut')\n",
    "print(matches)"
   ]
  },
  {
   "cell_type": "markdown",
   "id": "99f039a8-88dc-411c-ab40-6d8427d06ae5",
   "metadata": {},
   "source": [
    "## .(dot) 문자 "
   ]
  },
  {
   "cell_type": "code",
   "execution_count": 38,
   "id": "7c5ab140-8840-4952-b87b-a6c47c941828",
   "metadata": {},
   "outputs": [
    {
     "name": "stdout",
     "output_type": "stream",
     "text": [
      "['abc', 'a.c', 'a1c', 'a!c']\n"
     ]
    }
   ],
   "source": [
    "p = re.compile('a.c')\n",
    "m = p.findall('abc a.c a1c a!c')\n",
    "print(m)"
   ]
  },
  {
   "cell_type": "code",
   "execution_count": 40,
   "id": "6e1b1073-df33-4c9b-8c26-60c784ce00d2",
   "metadata": {},
   "outputs": [
    {
     "name": "stdout",
     "output_type": "stream",
     "text": [
      "['a.c']\n"
     ]
    }
   ],
   "source": [
    "p = re.compile('a[.]c')\n",
    "m = p.findall('abc a.c a1c a!c')\n",
    "print(m)"
   ]
  },
  {
   "cell_type": "markdown",
   "id": "5caed8ca-dfeb-450c-85ce-2273c13e4097",
   "metadata": {},
   "source": [
    "## * 문자"
   ]
  },
  {
   "cell_type": "code",
   "execution_count": 50,
   "id": "8bb7dd43-b04e-4123-8723-e25c2a98df29",
   "metadata": {},
   "outputs": [
    {
     "name": "stdout",
     "output_type": "stream",
     "text": [
      "['ale', 'aple', 'apple', 'appple']\n"
     ]
    }
   ],
   "source": [
    "p = re.compile('ap*le')\n",
    "m = p.findall('ale aple apple appple')\n",
    "print(m)"
   ]
  },
  {
   "cell_type": "code",
   "execution_count": null,
   "id": "2a06b4e4-fac1-4c6b-a4cb-e30889010ae5",
   "metadata": {},
   "outputs": [],
   "source": []
  },
  {
   "cell_type": "markdown",
   "id": "e4b618ed-75bd-4e65-bc32-f36be588e1fe",
   "metadata": {},
   "source": [
    "## +문자 "
   ]
  },
  {
   "cell_type": "code",
   "execution_count": null,
   "id": "b8b7722e-6f00-4374-baa3-38c73ffdc29e",
   "metadata": {},
   "outputs": [],
   "source": [
    "최소 1번 이상은 반복"
   ]
  },
  {
   "cell_type": "code",
   "execution_count": 53,
   "id": "efe8f502-82d6-4561-bebe-f548b573259c",
   "metadata": {},
   "outputs": [
    {
     "name": "stdout",
     "output_type": "stream",
     "text": [
      "['aple', 'apple', 'appple']\n"
     ]
    }
   ],
   "source": [
    "p = re.compile('ap+le')\n",
    "m = p.findall('ale aple apple appple')\n",
    "print(m)"
   ]
  },
  {
   "cell_type": "code",
   "execution_count": 81,
   "id": "0ea6871a-55bb-41c7-be04-5aad99d4a658",
   "metadata": {},
   "outputs": [
    {
     "name": "stdout",
     "output_type": "stream",
     "text": [
      "['text.exe tmp.config, project.jar']\n",
      "['text.exe', 'my_command.cmd', 'project.jar']\n"
     ]
    }
   ],
   "source": [
    "p = re.compile(r'.+[.].+')\n",
    "m = p.findall('text.exe tmp.config, project.jar')\n",
    "print(m)\n",
    "\n",
    "p = re.compile(r'\\w+[.]\\w+')\n",
    "m = p.findall('text.exe my_command.cmd, project.jar')\n",
    "print(m)"
   ]
  },
  {
   "cell_type": "code",
   "execution_count": null,
   "id": "bad65c09-2697-4e73-abce-d233c11b3770",
   "metadata": {},
   "outputs": [],
   "source": []
  },
  {
   "cell_type": "markdown",
   "id": "043aee25-613f-4a6d-95d1-0576799323ec",
   "metadata": {},
   "source": [
    "## {}"
   ]
  },
  {
   "cell_type": "code",
   "execution_count": 149,
   "id": "2548aa14-26dd-4f64-8ed8-70b2f74fe7b2",
   "metadata": {},
   "outputs": [
    {
     "name": "stdout",
     "output_type": "stream",
     "text": [
      "['abbc']\n"
     ]
    }
   ],
   "source": [
    "p = re.compile(r'ab{2}c')\n",
    "m = p.findall('abc abbc abbbc')\n",
    "print(m)"
   ]
  },
  {
   "cell_type": "code",
   "execution_count": 151,
   "id": "11d23253-ea66-41c7-953b-6781b5ad38d7",
   "metadata": {},
   "outputs": [
    {
     "name": "stdout",
     "output_type": "stream",
     "text": [
      "['010-5555-7878', '010-6666-7979']\n"
     ]
    }
   ],
   "source": [
    "p = re.compile(r'\\d{3}[-]\\d{4}[-]\\d{4}')\n",
    "m = p.findall('010-5555-7878 010-6666-7979')\n",
    "print(m)"
   ]
  },
  {
   "cell_type": "code",
   "execution_count": 147,
   "id": "09cd5539-9120-492b-b09f-063ede89be60",
   "metadata": {},
   "outputs": [
    {
     "name": "stdout",
     "output_type": "stream",
     "text": [
      "['aaa', 'aaaa', 'aaaa']\n"
     ]
    }
   ],
   "source": [
    "\n",
    "p = re.compile(r'a{3,4}')\n",
    "m = p.findall('a aa aaa aaaa aaaaa')\n",
    "print(m)\n"
   ]
  },
  {
   "cell_type": "code",
   "execution_count": null,
   "id": "8284420d-d693-48de-b21d-f25e5b1aa16d",
   "metadata": {},
   "outputs": [],
   "source": []
  },
  {
   "cell_type": "code",
   "execution_count": null,
   "id": "63b02bbd-8660-4f6f-a2b5-cc1cd787d85a",
   "metadata": {},
   "outputs": [],
   "source": []
  },
  {
   "cell_type": "code",
   "execution_count": null,
   "id": "732648b7-484f-4d77-83eb-9b77a153421a",
   "metadata": {},
   "outputs": [],
   "source": []
  },
  {
   "cell_type": "code",
   "execution_count": null,
   "id": "afd5aca7-1fde-4a91-a55b-a48ae216918a",
   "metadata": {},
   "outputs": [],
   "source": []
  },
  {
   "cell_type": "code",
   "execution_count": null,
   "id": "e477dc59-1969-45a8-bd60-d5ce482ff8f9",
   "metadata": {},
   "outputs": [],
   "source": []
  },
  {
   "cell_type": "code",
   "execution_count": null,
   "id": "210eb9cd-5352-4161-9cc5-eaf0b91b04c3",
   "metadata": {},
   "outputs": [],
   "source": [
    "## ?"
   ]
  },
  {
   "cell_type": "code",
   "execution_count": 177,
   "id": "34830fbb-8940-4e81-a139-c50242e8aa77",
   "metadata": {},
   "outputs": [
    {
     "name": "stdout",
     "output_type": "stream",
     "text": [
      "['a_1234', 'a1234']\n"
     ]
    }
   ],
   "source": [
    "p = re.compile(r'a_?\\d+')\n",
    "m = p.findall('a_1234 a1234, 1234')\n",
    "print(m)"
   ]
  },
  {
   "cell_type": "markdown",
   "id": "8e1539c7-59f1-4ef8-a23b-1719ad21af35",
   "metadata": {},
   "source": [
    "## 컴파일 옵션"
   ]
  },
  {
   "cell_type": "markdown",
   "id": "ada9a358-006d-499f-8542-655ba3f084cb",
   "metadata": {},
   "source": [
    "### re.DOTALL, re.S"
   ]
  },
  {
   "cell_type": "code",
   "execution_count": 20,
   "id": "9e91f6fb-f423-492b-9c6a-a348d332c8ac",
   "metadata": {},
   "outputs": [
    {
     "name": "stdout",
     "output_type": "stream",
     "text": [
      "<re.Match object; span=(0, 20), match='\\n가나다\\n라마바\\n사아자\\n차카타\\n파하\\n'>\n"
     ]
    }
   ],
   "source": [
    "import re\n",
    "\n",
    "txt = \"\"\"\n",
    "가나다\n",
    "라마바\n",
    "사아자\n",
    "차카타\n",
    "파하\n",
    "\"\"\"\n",
    "\n",
    "pattern = re.compile('.*', re.DOTALL)\n",
    "matches = pattern.match(txt)\n",
    "print(matches)"
   ]
  },
  {
   "cell_type": "code",
   "execution_count": null,
   "id": "38ebc4bb-caf5-4f71-bfa1-ca29fb19a568",
   "metadata": {},
   "outputs": [],
   "source": []
  },
  {
   "cell_type": "code",
   "execution_count": null,
   "id": "aea08b89-2a0b-4206-9d61-1f6be5ce5f49",
   "metadata": {},
   "outputs": [],
   "source": []
  },
  {
   "cell_type": "code",
   "execution_count": null,
   "id": "b4c6227b-e485-4273-a4fd-6a159ccf2d63",
   "metadata": {},
   "outputs": [],
   "source": [
    "## 이스케이프 코드"
   ]
  },
  {
   "cell_type": "code",
   "execution_count": 40,
   "id": "82090d2d-087c-422c-9838-36cce1895af1",
   "metadata": {},
   "outputs": [
    {
     "name": "stdout",
     "output_type": "stream",
     "text": [
      "hello\n",
      "python\n"
     ]
    }
   ],
   "source": [
    "print(\"hello\\npython\")"
   ]
  },
  {
   "cell_type": "code",
   "execution_count": null,
   "id": "c3e6b08c-d8b5-4580-a750-465ef0186cd8",
   "metadata": {},
   "outputs": [],
   "source": []
  },
  {
   "cell_type": "code",
   "execution_count": 46,
   "id": "a91c03c7-77d4-4a93-ace1-42d9d2d14899",
   "metadata": {},
   "outputs": [
    {
     "name": "stdout",
     "output_type": "stream",
     "text": [
      "aython\n"
     ]
    }
   ],
   "source": [
    "print(\"hello\\rpython\\ra\")"
   ]
  },
  {
   "cell_type": "code",
   "execution_count": 22,
   "id": "5b366c73-982a-4b01-af7e-a2e5390c637e",
   "metadata": {},
   "outputs": [
    {
     "name": "stdout",
     "output_type": "stream",
     "text": [
      "hello\tpython\n",
      "hello   python\n"
     ]
    }
   ],
   "source": [
    "print(\"hello\\tpython\")\n",
    "print(\"hello   python\")"
   ]
  },
  {
   "cell_type": "code",
   "execution_count": null,
   "id": "fa425e73-118c-4761-a36f-b5cb78f294ed",
   "metadata": {},
   "outputs": [],
   "source": []
  },
  {
   "cell_type": "code",
   "execution_count": 70,
   "id": "638c4dc2-2101-4b7d-8b76-d349ba51b66c",
   "metadata": {},
   "outputs": [
    {
     "name": "stdout",
     "output_type": "stream",
     "text": [
      "hello\\vpython\n"
     ]
    }
   ],
   "source": [
    "print(r\"hello\\vpython\")\n"
   ]
  },
  {
   "cell_type": "code",
   "execution_count": null,
   "id": "4e5d1522-5452-43f2-ba68-061b3671a3a5",
   "metadata": {},
   "outputs": [],
   "source": []
  },
  {
   "cell_type": "code",
   "execution_count": null,
   "id": "e80d8266-3b10-4804-83f3-97cfe27ba131",
   "metadata": {},
   "outputs": [],
   "source": []
  },
  {
   "cell_type": "code",
   "execution_count": null,
   "id": "6168cab8-6213-4c74-892a-17061a76f3bb",
   "metadata": {},
   "outputs": [],
   "source": [
    "## 전방탐색"
   ]
  },
  {
   "cell_type": "code",
   "execution_count": 54,
   "id": "cd58bf72-ffdc-458a-9bd4-a06ea797b6dc",
   "metadata": {},
   "outputs": [
    {
     "name": "stdout",
     "output_type": "stream",
     "text": [
      "<re.Match object; span=(0, 5), match='http:'>\n"
     ]
    }
   ],
   "source": [
    "p = re.compile('.+:')\n",
    "m = p.search(\"http://www.naver.com\")\n",
    "print(m)"
   ]
  },
  {
   "cell_type": "code",
   "execution_count": null,
   "id": "e2b28969-84b2-4b5d-bf56-f5e275470246",
   "metadata": {},
   "outputs": [],
   "source": [
    "### 긍정형 전방탐색, ?="
   ]
  },
  {
   "cell_type": "code",
   "execution_count": 72,
   "id": "7d64082a-09eb-4f34-867c-c31814e17a2f",
   "metadata": {},
   "outputs": [
    {
     "name": "stdout",
     "output_type": "stream",
     "text": [
      "<re.Match object; span=(0, 4), match='http'>\n",
      "http\n"
     ]
    }
   ],
   "source": [
    "p = re.compile('.+(?=:)')\n",
    "m = p.search(\"http://www.naver.com\")\n",
    "print(m)\n",
    "print(m.group())"
   ]
  },
  {
   "cell_type": "code",
   "execution_count": null,
   "id": "1f75f4e1-9464-4161-96b8-a3fcc80f712b",
   "metadata": {},
   "outputs": [],
   "source": [
    "### 부정형 전방탐색, !?"
   ]
  },
  {
   "cell_type": "code",
   "execution_count": 98,
   "id": "9d8c7112-6656-40f8-a65e-941cd53ed603",
   "metadata": {},
   "outputs": [
    {
     "name": "stdout",
     "output_type": "stream",
     "text": [
      "<re.Match object; span=(0, 10), match='abcdefb.cf'>\n"
     ]
    }
   ],
   "source": [
    "p = re.compile('.*[.].*$') \n",
    "# .(0~무한대) + . + .(0~무한대)로 끝남\n",
    "m = p.search(\"abcdefb.cf\")\n",
    "print(m)"
   ]
  },
  {
   "cell_type": "code",
   "execution_count": 112,
   "id": "8b366bb8-069c-4790-8063-e2a29eaf76c1",
   "metadata": {},
   "outputs": [
    {
     "name": "stdout",
     "output_type": "stream",
     "text": [
      "None\n"
     ]
    }
   ],
   "source": [
    "p = re.compile('.*[.][^b].*$') \n",
    "# .(0~무한대) + . + .(0~무한대)로 끝남\n",
    "m = p.search(\"abcdefb.bat\")\n",
    "print(m)"
   ]
  },
  {
   "cell_type": "code",
   "execution_count": 126,
   "id": "0b30573b-6a7b-4070-a301-e626baf59b8d",
   "metadata": {},
   "outputs": [
    {
     "name": "stdout",
     "output_type": "stream",
     "text": [
      "None\n",
      "None\n"
     ]
    }
   ],
   "source": [
    "p = re.compile('.*[.]([^b]..|.[^a].|..[^t])*$') \n",
    "# 문자(0~무한대) + . + b로 시작하지 않고 문자(0~무한대)로 끝남\n",
    "print(p.search(\"tmp.bat\"))\n",
    "print(p.search(\"tmp.cf\"))"
   ]
  },
  {
   "cell_type": "code",
   "execution_count": 118,
   "id": "58698a14-b46b-4d45-96a3-82e0b3a20eab",
   "metadata": {},
   "outputs": [
    {
     "name": "stdout",
     "output_type": "stream",
     "text": [
      "<re.Match object; span=(0, 7), match='tmp.bmp'>\n",
      "<re.Match object; span=(0, 6), match='tmp.cf'>\n"
     ]
    }
   ],
   "source": [
    "p = re.compile('.*[.]([^b].?.?|.?[^a].?|.?.?[^t])*$') # ? {0,1}\n",
    "# 문자(0~무한대) + . + b로 시작하지 않고 문자(0~무한대)로 끝남\n",
    "print(p.search(\"tmp.bmp\"))\n",
    "print(p.search(\"tmp.cf\"))"
   ]
  },
  {
   "cell_type": "code",
   "execution_count": 128,
   "id": "4cd5da73-efd1-4734-b5e2-02fe07518725",
   "metadata": {},
   "outputs": [
    {
     "name": "stdout",
     "output_type": "stream",
     "text": [
      "<re.Match object; span=(0, 4), match='tmp.'>\n",
      "<re.Match object; span=(0, 4), match='tmp.'>\n"
     ]
    }
   ],
   "source": [
    "p = re.compile('.*[.](?!bat$)')\n",
    "print(p.search(\"tmp.bmp\"))\n",
    "print(p.search(\"tmp.cf\"))"
   ]
  },
  {
   "cell_type": "code",
   "execution_count": 140,
   "id": "c3304639-510a-4519-9acd-2b31be08052e",
   "metadata": {},
   "outputs": [
    {
     "name": "stdout",
     "output_type": "stream",
     "text": [
      "<re.Match object; span=(0, 7), match='tmp.bmp'>\n",
      "<re.Match object; span=(0, 6), match='tmp.cf'>\n"
     ]
    }
   ],
   "source": [
    "p = re.compile('.*[.](?!bat$).*$')\n",
    "print(p.search(\"tmp.bmp\"))\n",
    "print(p.search(\"tmp.cf\"))"
   ]
  },
  {
   "cell_type": "code",
   "execution_count": null,
   "id": "c7f2942c-39e5-4011-a8f9-f4a51b402dd7",
   "metadata": {},
   "outputs": [],
   "source": []
  },
  {
   "cell_type": "code",
   "execution_count": null,
   "id": "2ca258cf-ea3a-486b-9916-5fa88f306e6b",
   "metadata": {},
   "outputs": [],
   "source": [
    "## 문자열 바꾸기 "
   ]
  },
  {
   "cell_type": "code",
   "execution_count": null,
   "id": "3972cbd3-c580-4053-88c6-a2e057a06dbd",
   "metadata": {},
   "outputs": [],
   "source": []
  },
  {
   "cell_type": "code",
   "execution_count": 146,
   "id": "0a561dae-145a-4aa3-a578-43ecdcb9393a",
   "metadata": {},
   "outputs": [
    {
     "data": {
      "text/plain": [
       "'BLACK hat, BLACK field, BLACK sky'"
      ]
     },
     "execution_count": 146,
     "metadata": {},
     "output_type": "execute_result"
    }
   ],
   "source": [
    "\n",
    "\n",
    "p = re.compile('(red|green|blue)')\n",
    "p.sub('BLACK', 'red hat, green field, blue sky')\n",
    "\n"
   ]
  },
  {
   "cell_type": "code",
   "execution_count": null,
   "id": "856a88e3-c442-4335-9762-086a55591e17",
   "metadata": {},
   "outputs": [],
   "source": [
    "## 문자열 변경 횟수 지정 "
   ]
  },
  {
   "cell_type": "code",
   "execution_count": 148,
   "id": "3e80900e-b0d5-4b8b-a7e1-f491cde76ec5",
   "metadata": {},
   "outputs": [
    {
     "data": {
      "text/plain": [
       "'BLACK hat, green field, blue sky'"
      ]
     },
     "execution_count": 148,
     "metadata": {},
     "output_type": "execute_result"
    }
   ],
   "source": [
    "p = re.compile('(red|green|blue)')\n",
    "p.sub('BLACK', 'red hat, green field, blue sky', count=1)\n",
    "\n"
   ]
  },
  {
   "cell_type": "code",
   "execution_count": null,
   "id": "b0ef7620-09a0-49c6-a51c-88d300b5dfe2",
   "metadata": {},
   "outputs": [],
   "source": [
    "## subn\n",
    "변경된 내용, 변경 횟수를 튜플로 리턴한다."
   ]
  },
  {
   "cell_type": "code",
   "execution_count": 156,
   "id": "cc0c9109-118d-44cf-aeee-36a1c1fa879b",
   "metadata": {},
   "outputs": [
    {
     "name": "stdout",
     "output_type": "stream",
     "text": [
      "('BLACK hat, BLACK field, BLACK sky', 3)\n",
      "('BLACK hat, green field, blue sky', 1)\n"
     ]
    }
   ],
   "source": [
    "p = re.compile('(red|green|blue)')\n",
    "print(p.subn('BLACK', 'red hat, green field, blue sky'))\n",
    "print(p.subn('BLACK', 'red hat, green field, blue sky', count=1))\n"
   ]
  },
  {
   "cell_type": "code",
   "execution_count": null,
   "id": "3956f171-2303-45b7-9a0f-f1abec375089",
   "metadata": {},
   "outputs": [],
   "source": []
  },
  {
   "cell_type": "code",
   "execution_count": 162,
   "id": "93791b1d-65c8-4b56-9fc4-ec01ec8aefc3",
   "metadata": {},
   "outputs": [
    {
     "name": "stdout",
     "output_type": "stream",
     "text": [
      "이름 : kim\n",
      "연락처 : 010-5555-7878 \n"
     ]
    }
   ],
   "source": [
    "p = re.compile(r'(?P<name>\\w+)\\s+(?P<phone>\\d+[-]\\d+[-]\\d+)')\n",
    "s = p.sub(r'이름 : \\g<1>\\n연락처 : \\g<2> ', 'kim 010-5555-7878')\n",
    "print(s)"
   ]
  },
  {
   "cell_type": "code",
   "execution_count": null,
   "id": "dfb351d4-e2f4-4431-964d-16bbacc70f43",
   "metadata": {},
   "outputs": [],
   "source": []
  },
  {
   "cell_type": "code",
   "execution_count": 180,
   "id": "bd913aa8-3566-4f5a-af06-db7acfa70545",
   "metadata": {},
   "outputs": [
    {
     "name": "stdout",
     "output_type": "stream",
     "text": [
      "call 0xffd2 for printing 0xc000 for user code\n"
     ]
    }
   ],
   "source": [
    "def hexrepl(match):\n",
    "    value = int(match.group())\n",
    "    return hex(value)\n",
    "\n",
    "\n",
    "p = re.compile(r'\\d+')\n",
    "s = p.sub(hexrepl, 'call 65490 for printing 49152 for user code')\n",
    "print(s)"
   ]
  },
  {
   "cell_type": "code",
   "execution_count": null,
   "id": "74af2bd0-f73d-472d-a3e9-c1bbd2392d07",
   "metadata": {},
   "outputs": [],
   "source": [
    "## greedy, non greedy"
   ]
  },
  {
   "cell_type": "code",
   "execution_count": 192,
   "id": "d78fe3b1-c42b-4b6a-8bef-5bc13314b874",
   "metadata": {},
   "outputs": [
    {
     "name": "stdout",
     "output_type": "stream",
     "text": [
      "<re.Match object; span=(0, 62), match='<html><head><body><title>my title</title></head><>\n"
     ]
    }
   ],
   "source": [
    "html = \"<html><head><body><title>my title</title></head></body></html>\"\n",
    "\n",
    "p = re.compile(r'<.*>')\n",
    "m = p.match(html)\n",
    "print(m)\n",
    "\n"
   ]
  },
  {
   "cell_type": "code",
   "execution_count": 202,
   "id": "1b3c40d5-e295-45c5-a101-a41592758685",
   "metadata": {},
   "outputs": [
    {
     "name": "stdout",
     "output_type": "stream",
     "text": [
      "<re.Match object; span=(0, 6), match='<html>'>\n",
      "my title\n"
     ]
    }
   ],
   "source": [
    "p = re.compile(r'<.*?>')\n",
    "m = p.match(html)\n",
    "print(m)\n",
    "r = p.sub('', html)\n",
    "print(r)"
   ]
  },
  {
   "cell_type": "code",
   "execution_count": 204,
   "id": "4cc3e361-7ef7-4b9d-8e36-54bff8adcc80",
   "metadata": {},
   "outputs": [
    {
     "name": "stdout",
     "output_type": "stream",
     "text": [
      "Href: http://www.naver.com\n",
      "Class: link_btn\n",
      "Text: 네이버로 이동\n"
     ]
    }
   ],
   "source": [
    "html = '<a href=\"http://www.naver.com\" class=\"link_btn\">네이버로 이동</a>'\n",
    "\n",
    "# 1. href 추출\n",
    "href_pattern = re.compile(r'href=\"([^\"]+)\"')\n",
    "href = href_pattern.search(html).group(1)\n",
    "\n",
    "# 2. class 추출\n",
    "class_pattern = re.compile(r'class=\"([^\"]+)\"')\n",
    "class_attr = class_pattern.search(html).group(1)\n",
    "\n",
    "# 3. 앵커 태그 사이의 텍스트 추출\n",
    "text_pattern = re.compile(r'>\\s*(.*?)\\s*<')\n",
    "text = text_pattern.search(html).group(1)\n",
    "\n",
    "print(\"Href:\", href)\n",
    "print(\"Class:\", class_attr)\n",
    "print(\"Text:\", text)"
   ]
  },
  {
   "cell_type": "code",
   "execution_count": null,
   "id": "bd7cadd0-0c17-4f6b-b83c-1cb67afde913",
   "metadata": {},
   "outputs": [],
   "source": []
  },
  {
   "cell_type": "code",
   "execution_count": null,
   "id": "dae95354-5c86-435d-85dc-8cc934ba69f5",
   "metadata": {},
   "outputs": [],
   "source": []
  },
  {
   "cell_type": "code",
   "execution_count": null,
   "id": "eac0dd5a-a54b-45db-9f6e-bc920cf7c4c7",
   "metadata": {},
   "outputs": [],
   "source": []
  },
  {
   "cell_type": "code",
   "execution_count": null,
   "id": "2a7e45f8-e0d2-4f1a-a097-897a75436143",
   "metadata": {},
   "outputs": [],
   "source": []
  },
  {
   "cell_type": "code",
   "execution_count": null,
   "id": "e4856361-4ef7-4544-aa45-70be7463a58c",
   "metadata": {},
   "outputs": [],
   "source": []
  },
  {
   "cell_type": "code",
   "execution_count": null,
   "id": "8abc3572-56ba-406b-871e-e6a1fed10786",
   "metadata": {},
   "outputs": [],
   "source": []
  },
  {
   "cell_type": "code",
   "execution_count": null,
   "id": "d356601c-6411-431e-b0f4-c5b758617b98",
   "metadata": {},
   "outputs": [],
   "source": []
  },
  {
   "cell_type": "code",
   "execution_count": null,
   "id": "806785a0-6cfe-4c94-a84c-b86bd20526f3",
   "metadata": {},
   "outputs": [],
   "source": []
  },
  {
   "cell_type": "code",
   "execution_count": null,
   "id": "4b4936fc-2a39-4524-a2e4-a7f5bc082bc7",
   "metadata": {},
   "outputs": [],
   "source": []
  },
  {
   "cell_type": "code",
   "execution_count": null,
   "id": "c6fbf417-4569-4451-a278-cb52f1c49841",
   "metadata": {},
   "outputs": [],
   "source": []
  },
  {
   "cell_type": "code",
   "execution_count": null,
   "id": "94b8a14a-8e95-4d4e-a795-2da5542e526d",
   "metadata": {},
   "outputs": [],
   "source": []
  }
 ],
 "metadata": {
  "kernelspec": {
   "display_name": "Python [conda env:base] *",
   "language": "python",
   "name": "conda-base-py"
  },
  "language_info": {
   "codemirror_mode": {
    "name": "ipython",
    "version": 3
   },
   "file_extension": ".py",
   "mimetype": "text/x-python",
   "name": "python",
   "nbconvert_exporter": "python",
   "pygments_lexer": "ipython3",
   "version": "3.12.7"
  }
 },
 "nbformat": 4,
 "nbformat_minor": 5
}
