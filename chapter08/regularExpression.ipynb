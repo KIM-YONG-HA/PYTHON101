{
 "cells": [
  {
   "cell_type": "code",
   "execution_count": null,
   "id": "d3c8adc7-c7f5-48c8-b230-99bc0228959d",
   "metadata": {},
   "outputs": [],
   "source": [
    "# 정규식\n",
    "## 기본 사용방법"
   ]
  },
  {
   "cell_type": "code",
   "execution_count": 19,
   "id": "e36d28b8-653c-47e0-9e61-1f1a5b76ed03",
   "metadata": {},
   "outputs": [
    {
     "name": "stdout",
     "output_type": "stream",
     "text": [
      "<re.Match object; span=(0, 1), match='h'>\n",
      "<re.Match object; span=(0, 1), match='h'>\n",
      "['h', 'e', 'l', 'l', 'o']\n",
      "<callable_iterator object at 0x0000021B7D6C85E0>\n"
     ]
    }
   ],
   "source": [
    "import re\n",
    "pattern = \"[a-z]\"\n",
    "text = \"hello??\"\n",
    "pat = re.compile(pattern)\n",
    "match_rs = pat.match(text)\n",
    "search_rs = pat.search(text)\n",
    "findall_rs = pat.findall(text)\n",
    "finditer_rs = pat.finditer(text)\n",
    "print(match_rs)\n",
    "print(search_rs)\n",
    "print(findall_rs)\n",
    "print(finditer_rs)"
   ]
  },
  {
   "cell_type": "code",
   "execution_count": 25,
   "id": "01819119-1985-4151-ac30-d5ecd98b0a1b",
   "metadata": {},
   "outputs": [
    {
     "name": "stdout",
     "output_type": "stream",
     "text": [
      "<re.Match object; span=(0, 1), match='h'>\n",
      "<re.Match object; span=(0, 1), match='h'>\n",
      "['h', 'e', 'l', 'l', 'o']\n",
      "<callable_iterator object at 0x0000021B7D77E110>\n"
     ]
    }
   ],
   "source": [
    "print(re.match(\"[a-z]\", \"hello??\"))\n",
    "print(re.search(\"[a-z]\", \"hello??\"))\n",
    "print(re.findall(\"[a-z]\", \"hello??\"))\n",
    "print(re.finditer(\"[a-z]\", \"hello??\"))"
   ]
  },
  {
   "cell_type": "code",
   "execution_count": null,
   "id": "05463d7d-07d6-4507-aa13-8fd411b513db",
   "metadata": {},
   "outputs": [],
   "source": []
  },
  {
   "cell_type": "code",
   "execution_count": 41,
   "id": "9dbff4b7-16b8-4ad1-b627-bb8ea1a4cfc0",
   "metadata": {},
   "outputs": [
    {
     "name": "stdout",
     "output_type": "stream",
     "text": [
      "<re.Match object; span=(0, 1), match='h'>\n"
     ]
    }
   ],
   "source": [
    "print(re.match(\"[a-z]\", \"hello\"))"
   ]
  },
  {
   "cell_type": "code",
   "execution_count": 47,
   "id": "e8f7083a-9a30-4d6d-b7dc-e189238a617e",
   "metadata": {},
   "outputs": [
    {
     "name": "stdout",
     "output_type": "stream",
     "text": [
      "<re.Match object; span=(4, 5), match='a'>\n"
     ]
    }
   ],
   "source": [
    "print(re.search(\"[abcd]\", \"1234abcd\"))"
   ]
  },
  {
   "cell_type": "code",
   "execution_count": 59,
   "id": "09cef4bf-a9e7-494a-9fc6-db44c177ea17",
   "metadata": {},
   "outputs": [
    {
     "name": "stdout",
     "output_type": "stream",
     "text": [
      "<class 'list'>\n",
      "['a', 'b', 'c', 'd']\n",
      "a\n",
      "b\n",
      "c\n",
      "d\n"
     ]
    }
   ],
   "source": [
    "all = re.findall(\"[abcd]\", \"1234abcd\")\n",
    "print(type(all))\n",
    "print(all)\n",
    "\n",
    "for i in all:\n",
    "    print(i)\n"
   ]
  },
  {
   "cell_type": "code",
   "execution_count": 81,
   "id": "7bbe7fa3-0bcc-4b98-9bd6-bd65b2ff90bd",
   "metadata": {},
   "outputs": [
    {
     "name": "stdout",
     "output_type": "stream",
     "text": [
      "<class 'callable_iterator'>\n",
      "<callable_iterator object at 0x0000021B7D8DA4D0>\n",
      "(4, 5)\n",
      "(5, 6)\n",
      "(6, 7)\n",
      "(7, 8)\n"
     ]
    }
   ],
   "source": [
    "all = re.finditer(\"[abcd]\", \"1234abcd\")\n",
    "print(type(all))\n",
    "print(all)\n",
    "\n",
    "for i in all:\n",
    "    print(i.span())\n",
    "\n",
    "\n"
   ]
  },
  {
   "cell_type": "code",
   "execution_count": 85,
   "id": "d0e8aba6-2324-41e0-9ece-1407e04912b7",
   "metadata": {},
   "outputs": [
    {
     "name": "stdout",
     "output_type": "stream",
     "text": [
      "<re.Match object; span=(0, 1), match='b'>\n",
      "<re.Match object; span=(1, 2), match='a'>\n",
      "['c', 'b', 'a']\n"
     ]
    }
   ],
   "source": [
    "pat = re.compile('[abc]')\n",
    "print(pat.match('bcd'))\n",
    "print(pat.search('dab'))\n",
    "print(pat.findall('cba'))"
   ]
  },
  {
   "cell_type": "code",
   "execution_count": null,
   "id": "b19a594c-dd54-42e3-b175-0b093ecdf679",
   "metadata": {},
   "outputs": [],
   "source": []
  },
  {
   "cell_type": "code",
   "execution_count": null,
   "id": "33ed16de-c71b-452a-ace3-689e4d210b48",
   "metadata": {},
   "outputs": [],
   "source": []
  },
  {
   "cell_type": "code",
   "execution_count": 91,
   "id": "ce07247b-35f2-4557-8375-80fff92906a4",
   "metadata": {
    "scrolled": true
   },
   "outputs": [
    {
     "name": "stdout",
     "output_type": "stream",
     "text": [
      "['a', 'b', 'a', 'a', 'a', 'c', 'c']\n"
     ]
    }
   ],
   "source": [
    "pat = re.compile('[abc]')\n",
    "matches = pat.findall('apple banana coconut')\n",
    "print(matches)"
   ]
  },
  {
   "cell_type": "code",
   "execution_count": null,
   "id": "0795c248-5cea-4db0-aa77-e25ba2a5318e",
   "metadata": {},
   "outputs": [],
   "source": []
  },
  {
   "cell_type": "code",
   "execution_count": null,
   "id": "efc9a68a-0612-4dd0-a188-7d1f7d6dba6e",
   "metadata": {},
   "outputs": [],
   "source": []
  },
  {
   "cell_type": "code",
   "execution_count": null,
   "id": "40487723-07a5-4e42-aab4-aa1608df6d62",
   "metadata": {},
   "outputs": [],
   "source": []
  },
  {
   "cell_type": "code",
   "execution_count": null,
   "id": "9e91f6fb-f423-492b-9c6a-a348d332c8ac",
   "metadata": {},
   "outputs": [],
   "source": []
  },
  {
   "cell_type": "code",
   "execution_count": null,
   "id": "38ebc4bb-caf5-4f71-bfa1-ca29fb19a568",
   "metadata": {},
   "outputs": [],
   "source": []
  },
  {
   "cell_type": "code",
   "execution_count": null,
   "id": "aea08b89-2a0b-4206-9d61-1f6be5ce5f49",
   "metadata": {},
   "outputs": [],
   "source": []
  },
  {
   "cell_type": "code",
   "execution_count": null,
   "id": "b4c6227b-e485-4273-a4fd-6a159ccf2d63",
   "metadata": {},
   "outputs": [],
   "source": []
  },
  {
   "cell_type": "code",
   "execution_count": null,
   "id": "82090d2d-087c-422c-9838-36cce1895af1",
   "metadata": {},
   "outputs": [],
   "source": []
  },
  {
   "cell_type": "code",
   "execution_count": null,
   "id": "c3e6b08c-d8b5-4580-a750-465ef0186cd8",
   "metadata": {},
   "outputs": [],
   "source": []
  },
  {
   "cell_type": "code",
   "execution_count": null,
   "id": "a91c03c7-77d4-4a93-ace1-42d9d2d14899",
   "metadata": {},
   "outputs": [],
   "source": []
  },
  {
   "cell_type": "code",
   "execution_count": null,
   "id": "5b366c73-982a-4b01-af7e-a2e5390c637e",
   "metadata": {},
   "outputs": [],
   "source": []
  }
 ],
 "metadata": {
  "kernelspec": {
   "display_name": "Python [conda env:base] *",
   "language": "python",
   "name": "conda-base-py"
  },
  "language_info": {
   "codemirror_mode": {
    "name": "ipython",
    "version": 3
   },
   "file_extension": ".py",
   "mimetype": "text/x-python",
   "name": "python",
   "nbconvert_exporter": "python",
   "pygments_lexer": "ipython3",
   "version": "3.12.7"
  }
 },
 "nbformat": 4,
 "nbformat_minor": 5
}
