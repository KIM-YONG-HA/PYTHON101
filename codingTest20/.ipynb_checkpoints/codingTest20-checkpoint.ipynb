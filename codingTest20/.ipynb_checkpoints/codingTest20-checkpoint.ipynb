{
 "cells": [
  {
   "cell_type": "markdown",
   "id": "f4c4b771-f84a-4b8c-9231-f31b7a057fb3",
   "metadata": {},
   "source": [
    "# 1번"
   ]
  },
  {
   "cell_type": "code",
   "execution_count": 6,
   "id": "94945d54-1e85-468d-b360-503192c8e746",
   "metadata": {},
   "outputs": [
    {
     "name": "stdout",
     "output_type": "stream",
     "text": [
      "a#b#c#d\n",
      "a#b#c#d\n"
     ]
    }
   ],
   "source": [
    "a1 = \"a:b:c:d\"\n",
    "print(a1.replace(\":\",\"#\"))\n",
    "\n",
    "b1 = a1.split(\":\")\n",
    "r1 = \"#\".join(b1)\n",
    "print(r1)\n"
   ]
  },
  {
   "cell_type": "markdown",
   "id": "19e48860-9dba-4ed0-abe2-084589c2585f",
   "metadata": {},
   "source": [
    "# 2번"
   ]
  },
  {
   "cell_type": "code",
   "execution_count": 15,
   "id": "8d85dc4a-ebe5-4d9d-b1e6-7845ace6ac08",
   "metadata": {},
   "outputs": [
    {
     "name": "stdout",
     "output_type": "stream",
     "text": [
      "80\n"
     ]
    },
    {
     "data": {
      "text/plain": [
       "70"
      ]
     },
     "execution_count": 15,
     "metadata": {},
     "output_type": "execute_result"
    }
   ],
   "source": [
    "a2 = {'A':90, 'B':80}\n",
    "print(a2.get('B'))\n",
    "a2.get('C', 70)"
   ]
  },
  {
   "cell_type": "markdown",
   "id": "706f05c8-429e-48b0-9e61-0a7b4f6a5c5d",
   "metadata": {},
   "source": [
    "# 3번"
   ]
  },
  {
   "cell_type": "code",
   "execution_count": 20,
   "id": "b631c4d5-9390-4640-8370-7e029966cc39",
   "metadata": {},
   "outputs": [
    {
     "name": "stdout",
     "output_type": "stream",
     "text": [
      "2812435110976\n",
      "2812434843392\n"
     ]
    }
   ],
   "source": [
    "a3 = [1,2,3]\n",
    "print(id(a3))\n",
    "a3 = a3 + [4,5]\n",
    "a3\n",
    "print(id(a3))"
   ]
  },
  {
   "cell_type": "code",
   "execution_count": 21,
   "id": "dd7fdebf-9074-4a0f-96b9-49345eaa327b",
   "metadata": {},
   "outputs": [
    {
     "name": "stdout",
     "output_type": "stream",
     "text": [
      "2812435110208\n",
      "2812435110208\n"
     ]
    },
    {
     "data": {
      "text/plain": [
       "[1, 2, 3, 4, 5]"
      ]
     },
     "execution_count": 21,
     "metadata": {},
     "output_type": "execute_result"
    }
   ],
   "source": [
    "a3 = [1,2,3]\n",
    "print(id(a3))\n",
    "a3.extend([4,5])\n",
    "print(id(a3))\n",
    "a3"
   ]
  },
  {
   "cell_type": "markdown",
   "id": "bfe48faf-00d1-4ffa-b1d5-7e377f3ef320",
   "metadata": {},
   "source": [
    "+는 주소 값이 변하고 extend는 주소값이 변하지 않는다 "
   ]
  },
  {
   "cell_type": "code",
   "execution_count": null,
   "id": "2e7a6961-5059-4d3e-91df-30ed5db7dcd3",
   "metadata": {},
   "outputs": [],
   "source": [
    "# 4번"
   ]
  },
  {
   "cell_type": "code",
   "execution_count": 51,
   "id": "589ad9be-247b-4965-bb42-efae51367dd5",
   "metadata": {},
   "outputs": [
    {
     "name": "stdout",
     "output_type": "stream",
     "text": [
      "[20, 55, 67, 82, 45, 33, 90, 87, 100, 25]\n",
      "481\n"
     ]
    }
   ],
   "source": [
    "a4 = [20,55,67,82,45,33,90,87,100,25]\n",
    "r4 = 0;\n",
    "for num in a4:\n",
    "    if num >= 50:\n",
    "        r4 += num\n",
    "        \n",
    "print(a4)\n",
    "print(r4)"
   ]
  },
  {
   "cell_type": "code",
   "execution_count": 47,
   "id": "b1fc40ff-94d0-4d03-8bc6-fde830348d89",
   "metadata": {},
   "outputs": [
    {
     "name": "stdout",
     "output_type": "stream",
     "text": [
      "[]\n",
      "0\n"
     ]
    }
   ],
   "source": [
    "r4 = sum(filter(lambda x : x >= 50, a4))\n",
    "print(a4)\n",
    "print(r4)"
   ]
  },
  {
   "cell_type": "code",
   "execution_count": 48,
   "id": "c8f9ba8c-5133-4480-84d6-c68b411c896c",
   "metadata": {},
   "outputs": [
    {
     "name": "stdout",
     "output_type": "stream",
     "text": [
      "[]\n",
      "0\n"
     ]
    }
   ],
   "source": [
    "r4 = sum([num for num in a4 if num >= 50])\n",
    "print(a4)\n",
    "print(r4)"
   ]
  },
  {
   "cell_type": "code",
   "execution_count": 49,
   "id": "a02f414a-530b-4920-b2b2-513362a0c2e7",
   "metadata": {},
   "outputs": [
    {
     "name": "stdout",
     "output_type": "stream",
     "text": [
      "[]\n",
      "481\n"
     ]
    }
   ],
   "source": [
    "a4 = [20,55,67,82,45,33,90,87,100,25]\n",
    "\n",
    "while a4:\n",
    "    mark = a4.pop()\n",
    "    if mark >= 50:\n",
    "        r4 += mark\n",
    "\n",
    "print(a4)\n",
    "print(r4)\n",
    "    "
   ]
  },
  {
   "cell_type": "markdown",
   "id": "eb3d9b1b-8c46-4679-a511-63580e94181d",
   "metadata": {},
   "source": [
    "# 5번\n",
    "0,1,1,2,3,5,8,13,..."
   ]
  },
  {
   "cell_type": "code",
   "execution_count": 59,
   "id": "d177abb8-1e4c-4a9d-98a9-e728149b7726",
   "metadata": {},
   "outputs": [
    {
     "name": "stdout",
     "output_type": "stream",
     "text": [
      "[0, 1, 1, 2, 3, 5, 8, 13, 21, 34]\n"
     ]
    }
   ],
   "source": [
    "def fibonacci(n):\n",
    "\n",
    "    if n == 0 : return 0\n",
    "    if n == 1 : return 1\n",
    "\n",
    "    return fibonacci(n-2) + fibonacci(n-1)\n",
    "\n",
    "li = []\n",
    "for i in range(10):\n",
    "    li.append(fibonacci(i))\n",
    "\n",
    "print(li)\n",
    "\n",
    "\n",
    "    "
   ]
  },
  {
   "cell_type": "code",
   "execution_count": 68,
   "id": "4ac71779-9ed3-4398-b505-9b19e202ef09",
   "metadata": {},
   "outputs": [
    {
     "name": "stdout",
     "output_type": "stream",
     "text": [
      "[0, 1, 1, 2, 3]\n"
     ]
    }
   ],
   "source": [
    "def fibo(n):\n",
    "    a, b = 0, 1\n",
    "\n",
    "    li = []\n",
    "    while len(li) < n:\n",
    "        li.append(a)\n",
    "        a, b = b, a + b\n",
    "    return li\n",
    "\n",
    "\n",
    "print(fibo(5))\n",
    "    "
   ]
  },
  {
   "cell_type": "code",
   "execution_count": null,
   "id": "98b4d7e9-c3fa-4920-9cd2-c7f197092d6b",
   "metadata": {},
   "outputs": [],
   "source": [
    "# 6번 "
   ]
  },
  {
   "cell_type": "code",
   "execution_count": 83,
   "id": "e59b4a9c-3bca-4fd3-9e50-667b9295f915",
   "metadata": {},
   "outputs": [
    {
     "name": "stdin",
     "output_type": "stream",
     "text": [
      "숫자를 콤마로 입력: 65,45,2,3,45,8\n"
     ]
    },
    {
     "name": "stdout",
     "output_type": "stream",
     "text": [
      "168\n",
      "168\n"
     ]
    }
   ],
   "source": [
    "# 65,45,2,3,45,8\n",
    "\n",
    "num = input(\"숫자를 콤마로 입력:\")\n",
    "total = [int(x) for x in num.split(\",\")]\n",
    "print(sum(total))\n",
    "\n",
    "total2 = sum(map(lambda x : int(x), num.split(\",\")))\n",
    "print(total2)\n",
    "\n",
    "\n",
    "\n"
   ]
  },
  {
   "cell_type": "code",
   "execution_count": null,
   "id": "f822dc11-99c1-4ffb-98a7-fed197366332",
   "metadata": {},
   "outputs": [],
   "source": [
    "# 7번 "
   ]
  },
  {
   "cell_type": "code",
   "execution_count": 92,
   "id": "7dbbedcd-5f61-41d7-8361-b9c991de803b",
   "metadata": {},
   "outputs": [
    {
     "name": "stdin",
     "output_type": "stream",
     "text": [
      "구구단을 출력할 숫자를 입력하세요(2~9):  9\n"
     ]
    },
    {
     "name": "stdout",
     "output_type": "stream",
     "text": [
      "9 18 27 36 45 54 63 72 81 "
     ]
    }
   ],
   "source": [
    "num = input(\"구구단을 출력할 숫자를 입력하세요(2~9): \")\n",
    "\n",
    "for i in range(1,10):\n",
    "    print(int(num) * i,  end = ' ')"
   ]
  },
  {
   "cell_type": "code",
   "execution_count": null,
   "id": "fd49fb2c-9f11-4b07-a42e-d9ae2c6c7425",
   "metadata": {},
   "outputs": [],
   "source": [
    "# 8번"
   ]
  },
  {
   "cell_type": "code",
   "execution_count": 150,
   "id": "47abf84b-b596-49d1-9cf7-61d86f924304",
   "metadata": {},
   "outputs": [
    {
     "name": "stdout",
     "output_type": "stream",
     "text": [
      "EEE\n",
      "\n",
      "DDD\n",
      "\n",
      "CCC\n",
      "\n",
      "BBB\n",
      "\n",
      "AAA\n",
      "\n"
     ]
    }
   ],
   "source": [
    "# 마지막 EEE에서 엔터 필요 \n",
    "\n",
    "f1 = open(\"C:/Users/kj/Desktop/myGit/PYTHON101/codingTest20/q8/abc.txt\", \"r\")\n",
    "txt = f1.readlines()\n",
    "f1.close()\n",
    "txt.reverse()\n",
    "\n",
    "f2 = open(\"C:/Users/kj/Desktop/myGit/PYTHON101/codingTest20/q8/abc.txt\", \"w\")\n",
    "for t in txt:\n",
    "    print(t)\n",
    "    f2.write(t)\n",
    "\n",
    "f2.close()     "
   ]
  },
  {
   "cell_type": "code",
   "execution_count": 150,
   "id": "7f516448-461a-4fcb-89ef-adb9692b9e1e",
   "metadata": {},
   "outputs": [
    {
     "name": "stdout",
     "output_type": "stream",
     "text": [
      "EEE\n",
      "\n",
      "DDD\n",
      "\n",
      "CCC\n",
      "\n",
      "BBB\n",
      "\n",
      "AAA\n",
      "\n"
     ]
    }
   ],
   "source": [
    "# 마지막 EEE에서 엔터 필요 \n",
    "\n",
    "f1 = open(\"C:/Users/kj/Desktop/myGit/PYTHON101/codingTest20/q8/abc.txt\", \"r\")\n",
    "txt = f1.readlines()\n",
    "f1.close()\n",
    "txt.reverse()\n",
    "\n",
    "f2 = open(\"C:/Users/kj/Desktop/myGit/PYTHON101/codingTest20/q8/abc.txt\", \"w\")\n",
    "for t in txt:\n",
    "    print(t)\n",
    "    f2.write(t)\n",
    "\n",
    "f2.close()     "
   ]
  },
  {
   "cell_type": "code",
   "execution_count": 370,
   "id": "e5633afd-cf66-4c3c-941f-a76ccfbdf352",
   "metadata": {},
   "outputs": [
    {
     "name": "stdout",
     "output_type": "stream",
     "text": [
      "EEE\n",
      "\n",
      "DDD\n",
      "\n",
      "CCC\n",
      "\n",
      "BBB\n",
      "\n",
      "AAA\n",
      "\n"
     ]
    }
   ],
   "source": [
    "f1 = open(\"C:/Users/kj/Desktop/myGit/PYTHON101/codingTest20/q8/abc_copy.txt\", \"r\")\n",
    "txt = f1.readlines()\n",
    "f1.close()\n",
    "txt.reverse()\n",
    "\n",
    "f2 = open(\"C:/Users/kj/Desktop/myGit/PYTHON101/codingTest20/q8/abc_copy.txt\", \"w\")\n",
    "for t in txt:\n",
    "    print(t)\n",
    "    f2.write(t.strip())\n",
    "    f2.write('\\n')\n",
    "\n",
    "f2.close()     "
   ]
  },
  {
   "cell_type": "code",
   "execution_count": null,
   "id": "1d0cc2e5-6b74-4ba8-b162-9a20b4c01afe",
   "metadata": {},
   "outputs": [],
   "source": [
    "# 9번"
   ]
  },
  {
   "cell_type": "code",
   "execution_count": 372,
   "id": "d7bb1065-d16b-408a-ad5d-e7d86d62b019",
   "metadata": {},
   "outputs": [
    {
     "name": "stdout",
     "output_type": "stream",
     "text": [
      "result.txt 생성완료\n"
     ]
    }
   ],
   "source": [
    "f = open(\"C:/Users/kj/Desktop/myGit/PYTHON101/codingTest20/q9/sample.txt\", \"r\")\n",
    "lines = f.readlines()\n",
    "f.close()\n",
    "\n",
    "total = 0\n",
    "avg = 0\n",
    "\n",
    "for line in lines:\n",
    "    line = int(line.strip())\n",
    "    total += line\n",
    "    \n",
    "avg = total / len(lines)\n",
    "result =f\"합계 : {total}, 평균 : {avg}\"\n",
    "\n",
    "with open(\"C:/Users/kj/Desktop/myGit/PYTHON101/codingTest20/q9/result.txt\", \"w\") as f:\n",
    "    f.write(result)\n",
    "    print(\"result.txt 생성완료\")\n"
   ]
  },
  {
   "cell_type": "code",
   "execution_count": 188,
   "id": "a57093d0-3452-44cf-8de8-3454e7e30606",
   "metadata": {},
   "outputs": [
    {
     "name": "stdout",
     "output_type": "stream",
     "text": [
      "합계 : 790, 평균 : 79.0\n"
     ]
    }
   ],
   "source": [
    "with open(\"C:/Users/kj/Desktop/myGit/PYTHON101/codingTest20/q9/sample.txt\", \"r\") as f:\n",
    "    numbers = [int(line.strip()) for line in f]\n",
    "\n",
    "total = sum(numbers)\n",
    "avg = total / len(numbers)\n",
    "\n",
    "print(f\"합계 : {total}, 평균 : {avg}\")\n"
   ]
  },
  {
   "cell_type": "code",
   "execution_count": null,
   "id": "75d3a6ec-e614-41f6-96c8-ea87ff24e747",
   "metadata": {},
   "outputs": [],
   "source": [
    "# 10번"
   ]
  },
  {
   "cell_type": "code",
   "execution_count": 284,
   "id": "dca1d0ec-09c1-4ece-b239-e2dd4999c25d",
   "metadata": {},
   "outputs": [
    {
     "name": "stdout",
     "output_type": "stream",
     "text": [
      "15\n",
      "3.0\n",
      "35\n",
      "7.0\n"
     ]
    }
   ],
   "source": [
    "class Calculator:\n",
    "    def __init__(self, num):\n",
    "        self.num = num\n",
    "        \n",
    "    def sum(self):\n",
    "        print(sum(self.num))\n",
    "\n",
    "    def avg(self):\n",
    "        print(sum(self.num)/len(self.num))\n",
    "        \n",
    "cal1 = Calculator([1,2,3,4,5])\n",
    "cal1.sum()\n",
    "cal1.avg()\n",
    "\n",
    "cal2 = Calculator([5,6,7,8,9])\n",
    "cal2.sum()\n",
    "cal2.avg()"
   ]
  },
  {
   "cell_type": "code",
   "execution_count": null,
   "id": "d7422c95-8aea-4cae-b350-b4d8fc4b711e",
   "metadata": {},
   "outputs": [],
   "source": [
    "# 11번 "
   ]
  },
  {
   "cell_type": "code",
   "execution_count": 332,
   "id": "b33f1039-d372-4c6a-8cb4-ebc45a71c8bb",
   "metadata": {},
   "outputs": [
    {
     "ename": "ModuleNotFoundError",
     "evalue": "No module named 'mymod'",
     "output_type": "error",
     "traceback": [
      "\u001b[1;31m---------------------------------------------------------------------------\u001b[0m",
      "\u001b[1;31mModuleNotFoundError\u001b[0m                       Traceback (most recent call last)",
      "Cell \u001b[1;32mIn[332], line 1\u001b[0m\n\u001b[1;32m----> 1\u001b[0m \u001b[38;5;28;01mimport\u001b[39;00m \u001b[38;5;21;01mmymod\u001b[39;00m\n",
      "\u001b[1;31mModuleNotFoundError\u001b[0m: No module named 'mymod'"
     ]
    }
   ],
   "source": [
    "## 1. import 모듈명 [as alias]\n",
    "## 모듈 디렉토리로 이동하거나 같은 폴더로 위치시킨 후  import\n",
    ">>> import mymod\n",
    ">>> mymod.__name__\n",
    "'mymod'\n",
    "\n",
    "## 모듈.클래스()\n",
    ">>> a = mymod.MyMode('123')\n",
    ">>> a\n",
    "<mymod.MyMode object at 0x000001E323D5F140>\n",
    ">>> print(a)\n",
    "my mode (123) class"
   ]
  },
  {
   "cell_type": "code",
   "execution_count": null,
   "id": "08593b57-1dd7-4123-8542-579e4d314c80",
   "metadata": {},
   "outputs": [],
   "source": [
    "## from 모듈명 import myMode [as alias]\n",
    ">>> from mymod import MyMode \n",
    ">>> a = MyMode('1234')\n",
    ">>> print(a)\n",
    "my mode (1234) class"
   ]
  },
  {
   "cell_type": "code",
   "execution_count": 342,
   "id": "e1187c7e-c923-4ee3-b485-375b94c5e172",
   "metadata": {},
   "outputs": [
    {
     "name": "stdout",
     "output_type": "stream",
     "text": [
      "my mode (1q2w) class\n"
     ]
    }
   ],
   "source": [
    "## 2. sys.path.append\n",
    "\n",
    "import sys\n",
    "\n",
    "sys.path\n",
    "\n",
    "## 인터프리터가 실행되는 동안만 \n",
    "sys.path.append(\"C:\\\\Users\\\\kj\\\\Desktop\\\\myGit\\\\PYTHON101\\\\codingTest20\\\\q11\\\\mymod.py\")\n",
    "\n",
    "sys.path\n",
    "\n",
    "\n",
    "a = MyMode('1q2w')\n",
    "print(a)\n",
    "\n"
   ]
  },
  {
   "cell_type": "code",
   "execution_count": 340,
   "id": "67061fb6-1813-45e1-a32c-7d140d26bfb9",
   "metadata": {},
   "outputs": [
    {
     "data": {
      "text/plain": [
       "['C:\\\\Users\\\\kj\\\\Desktop\\\\myGit\\\\PYTHON101\\\\codingTest20',\n",
       " 'C:\\\\Users\\\\kj\\\\anaconda3\\\\python312.zip',\n",
       " 'C:\\\\Users\\\\kj\\\\anaconda3\\\\DLLs',\n",
       " 'C:\\\\Users\\\\kj\\\\anaconda3\\\\Lib',\n",
       " 'C:\\\\Users\\\\kj\\\\anaconda3',\n",
       " '',\n",
       " 'C:\\\\Users\\\\kj\\\\anaconda3\\\\Lib\\\\site-packages',\n",
       " 'C:\\\\Users\\\\kj\\\\anaconda3\\\\Lib\\\\site-packages\\\\win32',\n",
       " 'C:\\\\Users\\\\kj\\\\anaconda3\\\\Lib\\\\site-packages\\\\win32\\\\lib',\n",
       " 'C:\\\\Users\\\\kj\\\\anaconda3\\\\Lib\\\\site-packages\\\\Pythonwin',\n",
       " 'C:\\\\Users\\\\kj\\\\anaconda3\\\\Lib\\\\site-packages\\\\setuptools\\\\_vendor',\n",
       " 'C:\\\\Users\\\\kj\\\\Desktop\\\\myGit\\\\PYTHON101\\\\codingTest20\\\\q11\\\\mymod.py']"
      ]
     },
     "execution_count": 340,
     "metadata": {},
     "output_type": "execute_result"
    }
   ],
   "source": [
    "sys.path"
   ]
  },
  {
   "cell_type": "code",
   "execution_count": 352,
   "id": "4066b810-ad3c-46ac-a9bd-73fddc28ce7f",
   "metadata": {},
   "outputs": [
    {
     "data": {
      "text/plain": [
       "['C:\\\\Users\\\\kj\\\\Desktop\\\\myGit\\\\PYTHON101\\\\codingTest20',\n",
       " 'C:\\\\Users\\\\kj\\\\anaconda3\\\\python312.zip',\n",
       " 'C:\\\\Users\\\\kj\\\\anaconda3\\\\DLLs',\n",
       " 'C:\\\\Users\\\\kj\\\\anaconda3\\\\Lib',\n",
       " 'C:\\\\Users\\\\kj\\\\anaconda3',\n",
       " '',\n",
       " 'C:\\\\Users\\\\kj\\\\anaconda3\\\\Lib\\\\site-packages',\n",
       " 'C:\\\\Users\\\\kj\\\\anaconda3\\\\Lib\\\\site-packages\\\\win32',\n",
       " 'C:\\\\Users\\\\kj\\\\anaconda3\\\\Lib\\\\site-packages\\\\win32\\\\lib',\n",
       " 'C:\\\\Users\\\\kj\\\\anaconda3\\\\Lib\\\\site-packages\\\\Pythonwin',\n",
       " 'C:\\\\Users\\\\kj\\\\anaconda3\\\\Lib\\\\site-packages\\\\setuptools\\\\_vendor']"
      ]
     },
     "execution_count": 352,
     "metadata": {},
     "output_type": "execute_result"
    }
   ],
   "source": [
    "#sys.path.remove(\"C:\\\\Users\\\\kj\\\\Desktop\\\\myGit\\\\PYTHON101\\\\codingTest20\\\\q11\\\\mymod.py\")\n",
    "sys.path"
   ]
  },
  {
   "cell_type": "code",
   "execution_count": 354,
   "id": "a69e9a6f-1dca-4214-8a14-ec24ff428005",
   "metadata": {},
   "outputs": [
    {
     "data": {
      "text/plain": [
       "['C:\\\\Users\\\\kj\\\\Desktop\\\\myGit\\\\PYTHON101\\\\codingTest20',\n",
       " 'C:\\\\Users\\\\kj\\\\anaconda3\\\\python312.zip',\n",
       " 'C:\\\\Users\\\\kj\\\\anaconda3\\\\DLLs',\n",
       " 'C:\\\\Users\\\\kj\\\\anaconda3\\\\Lib',\n",
       " 'C:\\\\Users\\\\kj\\\\anaconda3',\n",
       " '',\n",
       " 'C:\\\\Users\\\\kj\\\\anaconda3\\\\Lib\\\\site-packages',\n",
       " 'C:\\\\Users\\\\kj\\\\anaconda3\\\\Lib\\\\site-packages\\\\win32',\n",
       " 'C:\\\\Users\\\\kj\\\\anaconda3\\\\Lib\\\\site-packages\\\\win32\\\\lib',\n",
       " 'C:\\\\Users\\\\kj\\\\anaconda3\\\\Lib\\\\site-packages\\\\Pythonwin',\n",
       " 'C:\\\\Users\\\\kj\\\\anaconda3\\\\Lib\\\\site-packages\\\\setuptools\\\\_vendor']"
      ]
     },
     "execution_count": 354,
     "metadata": {},
     "output_type": "execute_result"
    }
   ],
   "source": [
    "\n",
    "sys.path"
   ]
  },
  {
   "cell_type": "code",
   "execution_count": null,
   "id": "3828db56-5f40-430c-95b7-eabebd6cc15f",
   "metadata": {},
   "outputs": [],
   "source": [
    "## 3. set PYTHONPATH=C:\\\\Users\\\\kj\\\\Desktop\\\\myGit\\\\PYTHON101\\\\codingTest20\\\\q11"
   ]
  },
  {
   "cell_type": "code",
   "execution_count": null,
   "id": "7a1c4461-e219-41d1-bfd5-49fd8a53bc25",
   "metadata": {},
   "outputs": [],
   "source": [
    "# C:\\Users\\kj>set PYTHONPATH=C:\\Users\\kj\\Desktop\\myGit\\PYTHON101\\codingTest20\\q11"
   ]
  },
  {
   "cell_type": "code",
   "execution_count": null,
   "id": "1b5dccf9-2009-42cc-a544-69fd6b36bc36",
   "metadata": {},
   "outputs": [],
   "source": [
    ">>> import mymod\n",
    ">>>\n",
    ">>> a = MyMode('tmp')\n",
    "Traceback (most recent call last):\n",
    "  File \"<stdin>\", line 1, in <module>\n",
    "NameError: name 'MyMode' is not defined. Did you mean: 'mymod'?\n",
    ">>> a = mymod.MyMode('tmp')\n",
    ">>> print(a)\n",
    "my mode (tmp) class"
   ]
  },
  {
   "cell_type": "code",
   "execution_count": null,
   "id": "73eb8d01-8a7c-404e-b758-805c25f4d570",
   "metadata": {},
   "outputs": [],
   "source": [
    "## 별칭사용시\n",
    ">>> from mymod import MyMode as mm\n",
    ">>> a = MyMode('123')\n",
    ">>> print(a)\n",
    "my mode (123) class"
   ]
  },
  {
   "cell_type": "code",
   "execution_count": null,
   "id": "919fe7a9-cf0a-4691-84ed-2b7928038302",
   "metadata": {},
   "outputs": [],
   "source": [
    ">>> from mymod import MyMode as mm\n",
    ">>> a = mm.MyMode('123')\n",
    "Traceback (most recent call last):\n",
    "  File \"<stdin>\", line 1, in <module>\n",
    "AttributeError: type object 'MyMode' has no attribute 'MyMode'"
   ]
  },
  {
   "cell_type": "code",
   "execution_count": null,
   "id": "95d67af0-b3e4-4d47-aaa3-f2858c637009",
   "metadata": {},
   "outputs": [],
   "source": [
    ">>> from mymod import MyMode as mm\n",
    ">>> a = mm('123')\n",
    ">>> print(a)\n",
    "my mode (123) class"
   ]
  },
  {
   "cell_type": "code",
   "execution_count": null,
   "id": "a3575d68-eeb9-4ddd-9781-0840e89557eb",
   "metadata": {},
   "outputs": [],
   "source": [
    "# 12번"
   ]
  },
  {
   "cell_type": "code",
   "execution_count": 386,
   "id": "9a9f760a-c1ab-464d-b70a-09a5ad56cb3a",
   "metadata": {},
   "outputs": [
    {
     "name": "stdout",
     "output_type": "stream",
     "text": [
      "IndexError\n",
      "finally\n",
      "7\n"
     ]
    }
   ],
   "source": [
    "result = 0\n",
    "\n",
    "\n",
    "try:\n",
    "    [1,2,3][4]\n",
    "    \"a\" + 1\n",
    "    4 / 0\n",
    "\n",
    "except TypeError:\n",
    "    print(\"TypeError\")\n",
    "    result += 1\n",
    "except ZeroDivisionError:\n",
    "    print(\"ZeroDivisionError\")\n",
    "    result += 2\n",
    "except IndexError:\n",
    "    print(\"IndexError\")\n",
    "    result += 3\n",
    "finally:\n",
    "    print(\"finally\")\n",
    "    result += 4\n",
    "\n",
    "print(result)\n",
    "\n",
    "\n"
   ]
  },
  {
   "cell_type": "code",
   "execution_count": null,
   "id": "22219bdf-3ec5-4f3a-9c8c-7fc1f5199f5d",
   "metadata": {},
   "outputs": [],
   "source": [
    "# 13번"
   ]
  },
  {
   "cell_type": "markdown",
   "id": "e869aecb-c2cf-4e29-adaa-52ceefa17450",
   "metadata": {},
   "source": [
    "# 로직\n",
    "두자리씩 검증해서 홀수면 -, 짝수면 * 사이에 위치시키는 함수 작성\n",
    "\n",
    "함수의 인수가 4546793(7자리)라고 했을때 \n",
    "\n",
    "for문 실행\n",
    "\n",
    "st = i\n",
    "ed = i + 1 # [error] st가 6이면 ed가 7이 되어 list index out of range 발생 => i는 0 ~ 최대 5까지 \n",
    "\n",
    "- pass 1 : [0],[1] 비교 \n",
    "- pass 2 : [1],[2] 비교 \n",
    "- pass 3 : [2],[3] 비교 \n",
    "- pass 4 : [3],[4] 비교 \n",
    "- pass 5 : [4],[5] 비교 \n",
    "- pass 6 : [5],[6] 비교 \n",
    "- pass 7 : [6],[7] 비교 # [error] i가 [6]일때 list index out of range 발생 => i는 최대 [5]까지 \n",
    "\n",
    "※ for문의 i 값은 0 ~ 5(6) = len(list)-1\n",
    "\n",
    "result = [] # 저장 방식은 스트링을 더하거나 리스트 append 사용\n",
    "\n",
    "for i in range(0, len(list)-1): # 인덱스 0 ~ 6까지 있으므로 pass 6회 실행( pass 6일때 [5],[6] 비교 가능)\n",
    "\n",
    "\n",
    "1. for문을 반복하면서 앞의 값을 먼저 일단 저장\n",
    " \n",
    "    result.append(num[i])\n",
    "\n",
    "2. 다음 인덱스와 비교하여 홀수 또는 짝수 판별\n",
    "    ```\n",
    "    - 홀수 연속 시 '-'\n",
    "    if num[i] % 2 != 0 and num[i + 1] % 2 != 0:\n",
    "        result.append('-')\n",
    "\n",
    "    - 짝수 연속 시 '*'\n",
    "    elif num[i] % 2 == 0 and num[i + 1] % 2 == 0:\n",
    "        result.append('*')\n",
    "    ```\n",
    "3. for문이 끝나고 마지막 숫자 추가 # for문이 끝났을 때 비교완료 후 454*67-9-가 result에 저장됨\n",
    "result.append(str(num[-1]))\n",
    "\n",
    "\n",
    "print(\"\".join(result))로 합쳐서 출력\n"
   ]
  },
  {
   "cell_type": "code",
   "execution_count": 805,
   "id": "23d4a7fb-0df8-4bba-b35b-c3c00d6247e3",
   "metadata": {},
   "outputs": [
    {
     "name": "stdout",
     "output_type": "stream",
     "text": [
      "454-67*9*3\n"
     ]
    }
   ],
   "source": [
    "def dashInsert(data):\n",
    "    \n",
    "    num = list(map(int, str(data)))\n",
    "    #print(len(num))\n",
    "    result = \"\"\n",
    "    \n",
    "    for i in range(len(num) - 1):\n",
    "        st = i\n",
    "        ed = i+1\n",
    "\n",
    "        #  list index out of range 방지\n",
    "        if ed == len(num):\n",
    "            break\n",
    "            \n",
    "        #print(f'{i} : {st}, {ed} 비교')\n",
    "        # 홀수 연속 -, 짝수 연속 *\n",
    "\n",
    "        txt = ''\n",
    "        if num[st] % 2 != 0 and num[ed] % 2 != 0:\n",
    "            #print(f'{i} : 홀수 : {num[st]}, {num[ed]}')\n",
    "            txt = '*'\n",
    "        elif num[st] % 2 == 0 and num[ed] % 2 == 0:\n",
    "            #print(f'{i} : 짝수 : {num[st]}, {num[ed]}')\n",
    "            txt = '-'\n",
    "\n",
    "        result += str(num[st])\n",
    "        result += txt\n",
    "        \n",
    "        # len(num)-2 일때 (마지막 인덱스 전, 마지막 인덱스) 비교가 끝난 마지막을 넣어준다.\n",
    "        if i == len(num)-2 : \n",
    "            result += str(num[ed])\n",
    "            \n",
    "    print(result)\n",
    "\n",
    "dashInsert(4546793)\n",
    "\n"
   ]
  },
  {
   "cell_type": "code",
   "execution_count": 821,
   "id": "d4bf0a13-eb46-45a6-9848-ef7f4a454378",
   "metadata": {},
   "outputs": [
    {
     "name": "stdout",
     "output_type": "stream",
     "text": [
      "6\n",
      "454*67-9-3\n"
     ]
    }
   ],
   "source": [
    "def dashInsert(data):\n",
    "    # 문자열로 변환\n",
    "    num = list(map(int, str(data)))\n",
    "    result = []\n",
    "    print(len(num) - 1)\n",
    "\n",
    "    for i in range(len(num) - 1):\n",
    "\n",
    "        st = i\n",
    "        ed = i + 1\n",
    "        # 현재 숫자 추가\n",
    "        result.append(str(num[i]))\n",
    "\n",
    "        # 홀수 연속 시 '-'\n",
    "        if num[st] % 2 != 0 and num[ed] % 2 != 0:\n",
    "            result.append('-')\n",
    "        # 짝수 연속 시 '*'\n",
    "        elif num[st] % 2 == 0 and num[ed] % 2 == 0:\n",
    "            result.append('*')\n",
    "\n",
    "    \n",
    "    # 마지막 숫자 추가\n",
    "    result.append(str(num[-1]))\n",
    "\n",
    "    # 리스트를 문자열로 합침\n",
    "    print(''.join(result))\n",
    "\n",
    "dashInsert(4546793)\n"
   ]
  },
  {
   "cell_type": "code",
   "execution_count": null,
   "id": "5cfe3b38-2350-429f-b6f6-0f4d04915ae3",
   "metadata": {},
   "outputs": [],
   "source": [
    "# 14번"
   ]
  },
  {
   "cell_type": "code",
   "execution_count": null,
   "id": "cb20f3d8-70c3-4f02-89d5-a93c9ef38818",
   "metadata": {},
   "outputs": [],
   "source": [
    "입력 예시 : aaabbbcccccca\n",
    "출력 예시 : a3b3c6a1"
   ]
  },
  {
   "cell_type": "code",
   "execution_count": 67,
   "id": "49a1f080-416a-45ea-9b70-18b45776ab44",
   "metadata": {},
   "outputs": [
    {
     "name": "stdout",
     "output_type": "stream",
     "text": [
      "a3b2c6a2"
     ]
    }
   ],
   "source": [
    "# 정규표현식 사용 \n",
    "\n",
    "import re\n",
    "txt = \"aaabbccccccaa\"\n",
    "p = re.compile(r'(.)\\1*')\n",
    "m = p.finditer(txt)\n",
    "\n",
    "for i in m:\n",
    "    char = i.group(1)\n",
    "    count = len(i.group())\n",
    "    print(char + str(count), end='')\n",
    "    "
   ]
  },
  {
   "cell_type": "code",
   "execution_count": 107,
   "id": "d585d170-d732-47ea-b1be-8071acfb7142",
   "metadata": {},
   "outputs": [
    {
     "name": "stdout",
     "output_type": "stream",
     "text": [
      "c\n",
      "0\n",
      "a[0], a[1]\n",
      "1\n",
      "a[1], a[2]\n",
      "2\n",
      "a[2], b[3]\n",
      "3\n",
      "b[3], b[4]\n",
      "4\n",
      "b[4], c[5]\n",
      "5\n",
      "c[5], c[6]\n",
      "6\n",
      "c[6], c[7]\n",
      "7\n",
      "c[7], c[8]\n",
      "8\n",
      "c[8], c[9]\n",
      "9\n",
      "c[9], c[10]\n",
      "10\n",
      "c[10], a[11]\n",
      "11\n",
      "a[11], a[12]\n",
      "['aaa', 'bb', 'cccccc']\n"
     ]
    }
   ],
   "source": [
    "txt = \"aaabbccccccaa\"\n",
    "char_list = list(txt)\n",
    "\n",
    "#print(char_list)\n",
    "\n",
    "crnt_char = \"\"\n",
    "count = 0\n",
    "result = []\n",
    "\n",
    "for i in range(len(char_list)-1):\n",
    "    \n",
    "    print(i)\n",
    "\n",
    "    print(f\"{char_list[i]}{[i]}, {char_list[i+1]}{[i+1]}\")\n",
    "        \n",
    "    # i, i+1 번째 비교 => 다르다면 result에 저장\n",
    "    if char_list[i] != char_list[i+1]:\n",
    "        count += 1 \n",
    "        result.append(char_list[i]*count)\n",
    "            \n",
    "        count = 0\n",
    "    else:\n",
    "        count += 1\n",
    "        crnt_char = char_list[i]\n",
    "    \n",
    "    # 카운트와 문자\n",
    "\n",
    "print(result)\n",
    "        \n"
   ]
  },
  {
   "cell_type": "code",
   "execution_count": null,
   "id": "b84d3a2f-da70-4bd3-9df7-af58e8b58a52",
   "metadata": {},
   "outputs": [],
   "source": []
  },
  {
   "cell_type": "code",
   "execution_count": null,
   "id": "121ced4e-d0a8-442e-91f9-ce133674d2e2",
   "metadata": {},
   "outputs": [],
   "source": []
  },
  {
   "cell_type": "code",
   "execution_count": null,
   "id": "037c3569-4062-4357-8096-948c0d90971c",
   "metadata": {},
   "outputs": [],
   "source": []
  },
  {
   "cell_type": "code",
   "execution_count": null,
   "id": "da224c00-f0ec-4d7e-81b7-d91420be4b4a",
   "metadata": {},
   "outputs": [],
   "source": [
    "# 17번"
   ]
  },
  {
   "cell_type": "code",
   "execution_count": 76,
   "id": "439756bd-4356-49f2-a6de-9aeed827d469",
   "metadata": {},
   "outputs": [
    {
     "name": "stdout",
     "output_type": "stream",
     "text": [
      "None\n",
      "<re.Match object; span=(0, 6), match='a....b'>\n",
      "None\n",
      "None\n"
     ]
    }
   ],
   "source": [
    "p = re.compile(\"a[.]{3,}b\")\n",
    "print(p.match(\"acccb\"))\n",
    "print(p.match(\"a....b\"))\n",
    "print(p.match(\"aaab\"))\n",
    "print(p.match(\"a.cccb\"))"
   ]
  },
  {
   "cell_type": "code",
   "execution_count": null,
   "id": "5d3ed48d-923a-4cc3-8674-fa739e557761",
   "metadata": {},
   "outputs": [],
   "source": [
    "# 18번"
   ]
  },
  {
   "cell_type": "code",
   "execution_count": 78,
   "id": "78c79bf8-51ed-4e84-821e-bf19495ec4d0",
   "metadata": {},
   "outputs": [
    {
     "name": "stdout",
     "output_type": "stream",
     "text": [
      "<re.Match object; span=(2, 8), match='python'>\n",
      "2\n",
      "8\n",
      "10\n"
     ]
    }
   ],
   "source": [
    "p = re.compile(\"[a-z]+\")\n",
    "m = p.search(\"5 python\") #01234567 => span 2, 8 \n",
    "print(m)\n",
    "print(m.start())\n",
    "print(m.end())\n",
    "print(m.start() + m.end())"
   ]
  },
  {
   "cell_type": "code",
   "execution_count": null,
   "id": "036ad942-f212-4695-8e83-2628ecc30b39",
   "metadata": {},
   "outputs": [],
   "source": []
  },
  {
   "cell_type": "code",
   "execution_count": null,
   "id": "b32174c5-97fd-474b-9fb9-8b982d253454",
   "metadata": {},
   "outputs": [],
   "source": []
  },
  {
   "cell_type": "code",
   "execution_count": null,
   "id": "a6e755ac-26d7-4944-a0f7-c52dc3c02117",
   "metadata": {},
   "outputs": [],
   "source": []
  },
  {
   "cell_type": "code",
   "execution_count": null,
   "id": "b53dd0d1-d061-43b8-9a07-f09690aeee0a",
   "metadata": {},
   "outputs": [],
   "source": []
  },
  {
   "cell_type": "code",
   "execution_count": null,
   "id": "7a27fc39-647f-4567-bdfa-0593f85db0af",
   "metadata": {},
   "outputs": [],
   "source": []
  },
  {
   "cell_type": "code",
   "execution_count": null,
   "id": "a7bb1f73-c6f7-4fdf-bce4-575ec33ec51a",
   "metadata": {},
   "outputs": [],
   "source": []
  },
  {
   "cell_type": "code",
   "execution_count": null,
   "id": "f63b4e10-1f09-41be-bf10-54517125e455",
   "metadata": {},
   "outputs": [],
   "source": []
  },
  {
   "cell_type": "code",
   "execution_count": null,
   "id": "bb561b02-c09e-4e40-8846-b5173525ca62",
   "metadata": {},
   "outputs": [],
   "source": []
  }
 ],
 "metadata": {
  "kernelspec": {
   "display_name": "Python 3 (ipykernel)",
   "language": "python",
   "name": "python3"
  },
  "language_info": {
   "codemirror_mode": {
    "name": "ipython",
    "version": 3
   },
   "file_extension": ".py",
   "mimetype": "text/x-python",
   "name": "python",
   "nbconvert_exporter": "python",
   "pygments_lexer": "ipython3",
   "version": "3.12.7"
  }
 },
 "nbformat": 4,
 "nbformat_minor": 5
}
