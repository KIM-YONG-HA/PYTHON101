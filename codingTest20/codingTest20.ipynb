{
 "cells": [
  {
   "cell_type": "markdown",
   "id": "f4c4b771-f84a-4b8c-9231-f31b7a057fb3",
   "metadata": {},
   "source": [
    "# 1번"
   ]
  },
  {
   "cell_type": "code",
   "execution_count": 6,
   "id": "94945d54-1e85-468d-b360-503192c8e746",
   "metadata": {},
   "outputs": [
    {
     "name": "stdout",
     "output_type": "stream",
     "text": [
      "a#b#c#d\n",
      "a#b#c#d\n"
     ]
    }
   ],
   "source": [
    "a1 = \"a:b:c:d\"\n",
    "print(a1.replace(\":\",\"#\"))\n",
    "\n",
    "b1 = a1.split(\":\")\n",
    "r1 = \"#\".join(b1)\n",
    "print(r1)\n"
   ]
  },
  {
   "cell_type": "markdown",
   "id": "19e48860-9dba-4ed0-abe2-084589c2585f",
   "metadata": {},
   "source": [
    "# 2번"
   ]
  },
  {
   "cell_type": "code",
   "execution_count": 15,
   "id": "8d85dc4a-ebe5-4d9d-b1e6-7845ace6ac08",
   "metadata": {},
   "outputs": [
    {
     "name": "stdout",
     "output_type": "stream",
     "text": [
      "80\n"
     ]
    },
    {
     "data": {
      "text/plain": [
       "70"
      ]
     },
     "execution_count": 15,
     "metadata": {},
     "output_type": "execute_result"
    }
   ],
   "source": [
    "a2 = {'A':90, 'B':80}\n",
    "print(a2.get('B'))\n",
    "a2.get('C', 70)"
   ]
  },
  {
   "cell_type": "markdown",
   "id": "706f05c8-429e-48b0-9e61-0a7b4f6a5c5d",
   "metadata": {},
   "source": [
    "# 3번"
   ]
  },
  {
   "cell_type": "code",
   "execution_count": 20,
   "id": "b631c4d5-9390-4640-8370-7e029966cc39",
   "metadata": {},
   "outputs": [
    {
     "name": "stdout",
     "output_type": "stream",
     "text": [
      "2812435110976\n",
      "2812434843392\n"
     ]
    }
   ],
   "source": [
    "a3 = [1,2,3]\n",
    "print(id(a3))\n",
    "a3 = a3 + [4,5]\n",
    "a3\n",
    "print(id(a3))"
   ]
  },
  {
   "cell_type": "code",
   "execution_count": 21,
   "id": "dd7fdebf-9074-4a0f-96b9-49345eaa327b",
   "metadata": {},
   "outputs": [
    {
     "name": "stdout",
     "output_type": "stream",
     "text": [
      "2812435110208\n",
      "2812435110208\n"
     ]
    },
    {
     "data": {
      "text/plain": [
       "[1, 2, 3, 4, 5]"
      ]
     },
     "execution_count": 21,
     "metadata": {},
     "output_type": "execute_result"
    }
   ],
   "source": [
    "a3 = [1,2,3]\n",
    "print(id(a3))\n",
    "a3.extend([4,5])\n",
    "print(id(a3))\n",
    "a3"
   ]
  },
  {
   "cell_type": "markdown",
   "id": "bfe48faf-00d1-4ffa-b1d5-7e377f3ef320",
   "metadata": {},
   "source": [
    "+는 주소 값이 변하고 extend는 주소값이 변하지 않는다 "
   ]
  },
  {
   "cell_type": "code",
   "execution_count": null,
   "id": "2e7a6961-5059-4d3e-91df-30ed5db7dcd3",
   "metadata": {},
   "outputs": [],
   "source": [
    "# 4번"
   ]
  },
  {
   "cell_type": "code",
   "execution_count": 51,
   "id": "589ad9be-247b-4965-bb42-efae51367dd5",
   "metadata": {},
   "outputs": [
    {
     "name": "stdout",
     "output_type": "stream",
     "text": [
      "[20, 55, 67, 82, 45, 33, 90, 87, 100, 25]\n",
      "481\n"
     ]
    }
   ],
   "source": [
    "a4 = [20,55,67,82,45,33,90,87,100,25]\n",
    "r4 = 0;\n",
    "for num in a4:\n",
    "    if num >= 50:\n",
    "        r4 += num\n",
    "        \n",
    "print(a4)\n",
    "print(r4)"
   ]
  },
  {
   "cell_type": "code",
   "execution_count": 47,
   "id": "b1fc40ff-94d0-4d03-8bc6-fde830348d89",
   "metadata": {},
   "outputs": [
    {
     "name": "stdout",
     "output_type": "stream",
     "text": [
      "[]\n",
      "0\n"
     ]
    }
   ],
   "source": [
    "r4 = sum(filter(lambda x : x >= 50, a4))\n",
    "print(a4)\n",
    "print(r4)"
   ]
  },
  {
   "cell_type": "code",
   "execution_count": 48,
   "id": "c8f9ba8c-5133-4480-84d6-c68b411c896c",
   "metadata": {},
   "outputs": [
    {
     "name": "stdout",
     "output_type": "stream",
     "text": [
      "[]\n",
      "0\n"
     ]
    }
   ],
   "source": [
    "r4 = sum([num for num in a4 if num >= 50])\n",
    "print(a4)\n",
    "print(r4)"
   ]
  },
  {
   "cell_type": "code",
   "execution_count": 49,
   "id": "a02f414a-530b-4920-b2b2-513362a0c2e7",
   "metadata": {},
   "outputs": [
    {
     "name": "stdout",
     "output_type": "stream",
     "text": [
      "[]\n",
      "481\n"
     ]
    }
   ],
   "source": [
    "a4 = [20,55,67,82,45,33,90,87,100,25]\n",
    "\n",
    "while a4:\n",
    "    mark = a4.pop()\n",
    "    if mark >= 50:\n",
    "        r4 += mark\n",
    "\n",
    "print(a4)\n",
    "print(r4)\n",
    "    "
   ]
  },
  {
   "cell_type": "markdown",
   "id": "eb3d9b1b-8c46-4679-a511-63580e94181d",
   "metadata": {},
   "source": [
    "# 5번\n",
    "0,1,1,2,3,5,8,13,..."
   ]
  },
  {
   "cell_type": "code",
   "execution_count": 58,
   "id": "d177abb8-1e4c-4a9d-98a9-e728149b7726",
   "metadata": {},
   "outputs": [
    {
     "name": "stdout",
     "output_type": "stream",
     "text": [
      "[0, 1, 1, 2, 3, 5, 8, 13, 21, 34]\n",
      "88\n"
     ]
    }
   ],
   "source": [
    "def fibonacci(n):\n",
    "\n",
    "    if n == 0 : return 0\n",
    "    if n == 1 : return 1\n",
    "\n",
    "    return fibonacci(n-2) + fibonacci(n-1)\n",
    "\n",
    "li = []\n",
    "for i in range(10):\n",
    "    li.append(fibonacci(i))\n",
    "\n",
    "print(li)\n",
    "\n",
    "total = sum(li)\n",
    "print(total)\n",
    "\n",
    "    "
   ]
  },
  {
   "cell_type": "code",
   "execution_count": null,
   "id": "4ac71779-9ed3-4398-b505-9b19e202ef09",
   "metadata": {},
   "outputs": [],
   "source": []
  },
  {
   "cell_type": "code",
   "execution_count": null,
   "id": "98b4d7e9-c3fa-4920-9cd2-c7f197092d6b",
   "metadata": {},
   "outputs": [],
   "source": []
  },
  {
   "cell_type": "code",
   "execution_count": null,
   "id": "e59b4a9c-3bca-4fd3-9e50-667b9295f915",
   "metadata": {},
   "outputs": [],
   "source": []
  },
  {
   "cell_type": "code",
   "execution_count": null,
   "id": "f822dc11-99c1-4ffb-98a7-fed197366332",
   "metadata": {},
   "outputs": [],
   "source": []
  },
  {
   "cell_type": "code",
   "execution_count": null,
   "id": "7dbbedcd-5f61-41d7-8361-b9c991de803b",
   "metadata": {},
   "outputs": [],
   "source": []
  }
 ],
 "metadata": {
  "kernelspec": {
   "display_name": "Python 3 (ipykernel)",
   "language": "python",
   "name": "python3"
  },
  "language_info": {
   "codemirror_mode": {
    "name": "ipython",
    "version": 3
   },
   "file_extension": ".py",
   "mimetype": "text/x-python",
   "name": "python",
   "nbconvert_exporter": "python",
   "pygments_lexer": "ipython3",
   "version": "3.12.7"
  }
 },
 "nbformat": 4,
 "nbformat_minor": 5
}
