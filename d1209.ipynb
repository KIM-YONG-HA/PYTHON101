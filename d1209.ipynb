{
 "cells": [
  {
   "cell_type": "code",
   "execution_count": 21,
   "id": "b8535de7-4a0b-42db-8258-b5ea1e8c606f",
   "metadata": {},
   "outputs": [
    {
     "data": {
      "text/plain": [
       "3"
      ]
     },
     "execution_count": 21,
     "metadata": {},
     "output_type": "execute_result"
    }
   ],
   "source": [
    "1 + 2"
   ]
  },
  {
   "cell_type": "code",
   "execution_count": 23,
   "id": "596b8957-9b62-4a06-a01a-fa4176a79f0a",
   "metadata": {},
   "outputs": [
    {
     "data": {
      "text/plain": [
       "1.25"
      ]
     },
     "execution_count": 23,
     "metadata": {},
     "output_type": "execute_result"
    }
   ],
   "source": [
    "3 / 2.4"
   ]
  },
  {
   "cell_type": "code",
   "execution_count": 25,
   "id": "4821df88-ff09-4783-b123-c0594e04fef2",
   "metadata": {},
   "outputs": [
    {
     "data": {
      "text/plain": [
       "27"
      ]
     },
     "execution_count": 25,
     "metadata": {},
     "output_type": "execute_result"
    }
   ],
   "source": [
    "3 * 9\n"
   ]
  },
  {
   "cell_type": "code",
   "execution_count": 45,
   "id": "26f3a4c7-70f9-4c58-8614-a5387f7cafcd",
   "metadata": {},
   "outputs": [
    {
     "name": "stdout",
     "output_type": "stream",
     "text": [
      "3\n",
      "<class 'int'>\n"
     ]
    }
   ],
   "source": [
    "a=1\n",
    "b=2\n",
    "c=a+b\n",
    "print(c)\n",
    "type(c)\n",
    "print(type(c))"
   ]
  },
  {
   "cell_type": "code",
   "execution_count": 49,
   "id": "61aab61a-c01d-4f2b-ab54-f9709b9bfb98",
   "metadata": {},
   "outputs": [
    {
     "name": "stdout",
     "output_type": "stream",
     "text": [
      "Python hi10\n"
     ]
    }
   ],
   "source": [
    "a=\"Python\"\n",
    "b=10\n",
    "print(a + \" hi\" + str(b))\n"
   ]
  },
  {
   "cell_type": "code",
   "execution_count": 31,
   "id": "a15dd542-7edc-4146-b9f3-fbd899297c23",
   "metadata": {},
   "outputs": [
    {
     "name": "stdout",
     "output_type": "stream",
     "text": [
      "a는 1보다 큽니다\n"
     ]
    }
   ],
   "source": [
    "a=3\n",
    "if a > 1 : \n",
    "    print(\"a는 1보다 큽니다\")"
   ]
  },
  {
   "cell_type": "code",
   "execution_count": 33,
   "id": "c2e7f2fb-57c4-4e70-a6b7-b8b3c715321a",
   "metadata": {},
   "outputs": [
    {
     "name": "stdout",
     "output_type": "stream",
     "text": [
      "1\n",
      "2\n",
      "3\n"
     ]
    }
   ],
   "source": [
    "for a in [1,2,3]:\n",
    "    print(a)\n",
    "    "
   ]
  },
  {
   "cell_type": "code",
   "execution_count": 37,
   "id": "562a508c-ffc4-488f-a892-9bc1e6c557e2",
   "metadata": {},
   "outputs": [
    {
     "name": "stdout",
     "output_type": "stream",
     "text": [
      "1\n",
      "2\n",
      "3\n"
     ]
    }
   ],
   "source": [
    "i=0\n",
    "while i < 3:\n",
    "    i += 1\n",
    "    print(i)"
   ]
  },
  {
   "cell_type": "code",
   "execution_count": 55,
   "id": "24971a77-0a47-443e-bdc7-d4039b0bc88d",
   "metadata": {},
   "outputs": [
    {
     "data": {
      "text/plain": [
       "'안녕하세요'"
      ]
     },
     "execution_count": 55,
     "metadata": {},
     "output_type": "execute_result"
    }
   ],
   "source": [
    "a=\"안\\\n",
    "녕\\\n",
    "하\\\n",
    "세\\\n",
    "요\"\n",
    "a\n"
   ]
  },
  {
   "cell_type": "code",
   "execution_count": 65,
   "id": "55f19bf6-745b-4462-b5a9-668ab8ee10e0",
   "metadata": {},
   "outputs": [
    {
     "name": "stdout",
     "output_type": "stream",
     "text": [
      "20241209\n",
      "Rainy\n"
     ]
    }
   ],
   "source": [
    "a=\"20241209Rainy\"\n",
    "date = a[:8]\n",
    "weather = a[8:]\n",
    "print(date)\n",
    "print(weather)"
   ]
  },
  {
   "cell_type": "code",
   "execution_count": 71,
   "id": "d14e788d-6131-43e4-83e6-2a92322d4ede",
   "metadata": {},
   "outputs": [
    {
     "name": "stdout",
     "output_type": "stream",
     "text": [
      "yniaR90214202\n"
     ]
    }
   ],
   "source": [
    "a=\"20241209Rainy\"\n",
    "print(a[::-1])\n"
   ]
  },
  {
   "cell_type": "code",
   "execution_count": 79,
   "id": "6ccc0aa9-926d-45f6-bcbd-7a7be3edd754",
   "metadata": {},
   "outputs": [
    {
     "data": {
      "text/plain": [
       "'10, 11'"
      ]
     },
     "execution_count": 79,
     "metadata": {},
     "output_type": "execute_result"
    }
   ],
   "source": [
    "\"{0}, {b}\".format(10, b=11)"
   ]
  }
 ],
 "metadata": {
  "kernelspec": {
   "display_name": "Python [conda env:base] *",
   "language": "python",
   "name": "conda-base-py"
  },
  "language_info": {
   "codemirror_mode": {
    "name": "ipython",
    "version": 3
   },
   "file_extension": ".py",
   "mimetype": "text/x-python",
   "name": "python",
   "nbconvert_exporter": "python",
   "pygments_lexer": "ipython3",
   "version": "3.12.7"
  }
 },
 "nbformat": 4,
 "nbformat_minor": 5
}
