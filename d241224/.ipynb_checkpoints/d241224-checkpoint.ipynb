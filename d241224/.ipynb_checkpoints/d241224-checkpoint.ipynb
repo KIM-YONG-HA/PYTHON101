{
 "cells": [
  {
   "cell_type": "code",
   "execution_count": 3,
   "id": "3ad0a8cd-295d-4267-92f9-15f22ddfceb8",
   "metadata": {},
   "outputs": [
    {
     "name": "stdout",
     "output_type": "stream",
     "text": [
      "[2, 4, 6, 8, 10, 12, 14, 16, 18]\n"
     ]
    }
   ],
   "source": [
    "def gugu(n):\n",
    "    result = []\n",
    "    for i in range(1,10):\n",
    "        result.append(n*i)\n",
    "\n",
    "    return result\n",
    "\n",
    "a = gugu(2)\n",
    "\n",
    "print(a)"
   ]
  },
  {
   "cell_type": "code",
   "execution_count": 9,
   "id": "1b73850d-be8b-45f2-b9bd-48d89ff0b37c",
   "metadata": {},
   "outputs": [
    {
     "name": "stdout",
     "output_type": "stream",
     "text": [
      "233168\n"
     ]
    }
   ],
   "source": [
    "result = 0\n",
    "\n",
    "for i in range(1,1000):\n",
    "    if i % 3 == 0 or i % 5 == 0:\n",
    "        result += i\n",
    "\n",
    "print(result)"
   ]
  },
  {
   "cell_type": "code",
   "execution_count": null,
   "id": "a0eac430-40d4-4d03-af96-2e46282c9e37",
   "metadata": {},
   "outputs": [],
   "source": []
  },
  {
   "cell_type": "code",
   "execution_count": null,
   "id": "d0458603-2c0a-4ab5-9c5a-1c072faccc6c",
   "metadata": {},
   "outputs": [],
   "source": []
  },
  {
   "cell_type": "code",
   "execution_count": 13,
   "id": "6297dc9f-21f7-45f2-851e-fe954896528c",
   "metadata": {},
   "outputs": [
    {
     "data": {
      "text/plain": [
       "15"
      ]
     },
     "execution_count": 13,
     "metadata": {},
     "output_type": "execute_result"
    }
   ],
   "source": [
    "def mul3(n):\n",
    "    return n * 3\n",
    "\n",
    "mul3(5)"
   ]
  },
  {
   "cell_type": "code",
   "execution_count": 15,
   "id": "b17ba7a4-1449-4150-a3c3-0086de443ac5",
   "metadata": {},
   "outputs": [
    {
     "data": {
      "text/plain": [
       "25"
      ]
     },
     "execution_count": 15,
     "metadata": {},
     "output_type": "execute_result"
    }
   ],
   "source": [
    "def mul5(n):\n",
    "    return n * 5\n",
    "\n",
    "mul5(5)"
   ]
  },
  {
   "cell_type": "code",
   "execution_count": null,
   "id": "d93c8de0-3761-4905-8dfe-d2c52a8b2f08",
   "metadata": {},
   "outputs": [],
   "source": [
    "### 메소드 사용"
   ]
  },
  {
   "cell_type": "code",
   "execution_count": 35,
   "id": "6fce39a8-fdee-400c-9723-7c6f175776eb",
   "metadata": {},
   "outputs": [
    {
     "name": "stdout",
     "output_type": "stream",
     "text": [
      "30\n",
      "50\n"
     ]
    }
   ],
   "source": [
    "class Mul:\n",
    "    def __init__(self, m):\n",
    "        self.m = m\n",
    "\n",
    "    def mul(self, n):\n",
    "        return self.m * n \n",
    "\n",
    "\n",
    "if __name__ == \"__main__\":\n",
    "    \n",
    "    mul3 = Mul(3)\n",
    "    mul5 = Mul(5)\n",
    "    \n",
    "    print(mul3.mul(10))\n",
    "    print(mul5.mul(10))\n"
   ]
  },
  {
   "cell_type": "code",
   "execution_count": null,
   "id": "e317e91c-62b1-454b-8242-c7d1c597ee8d",
   "metadata": {},
   "outputs": [],
   "source": [
    "### __call__ 메소드 사용"
   ]
  },
  {
   "cell_type": "code",
   "execution_count": 33,
   "id": "c2b3e0ee-0f69-4aae-95c4-25c17e94a09b",
   "metadata": {},
   "outputs": [
    {
     "name": "stdout",
     "output_type": "stream",
     "text": [
      "30\n",
      "50\n"
     ]
    }
   ],
   "source": [
    "class Mul:\n",
    "    def __init__(self, m):\n",
    "        self.m = m\n",
    "\n",
    "    def __call__(self, n):\n",
    "        return self.m * n \n",
    "\n",
    "\n",
    "if __name__ == \"__main__\":\n",
    "    \n",
    "    mul3 = Mul(3)\n",
    "    mul5 = Mul(5)\n",
    "    \n",
    "    print(mul3(10))\n",
    "    print(mul5(10))\n"
   ]
  },
  {
   "cell_type": "code",
   "execution_count": null,
   "id": "bd6e2c89-9590-46a4-9ebd-b4a83da95277",
   "metadata": {},
   "outputs": [],
   "source": [
    "### 클로저 사용 "
   ]
  },
  {
   "cell_type": "code",
   "execution_count": 45,
   "id": "9fd7e8fd-35e3-4158-a630-bcce32099b93",
   "metadata": {},
   "outputs": [
    {
     "name": "stdout",
     "output_type": "stream",
     "text": [
      "30\n",
      "50\n"
     ]
    }
   ],
   "source": [
    "def mul(m):\n",
    "    def wrapper(n):\n",
    "        return m * n\n",
    "\n",
    "    return wrapper\n",
    "\n",
    "if __name__ == \"__main__\":\n",
    "\n",
    "    mul3 = mul(3)\n",
    "    mul5 = mul(5)\n",
    "\n",
    "    print(mul3(10))\n",
    "    print(mul5(10))\n",
    "\n"
   ]
  },
  {
   "cell_type": "code",
   "execution_count": 49,
   "id": "093e072b-3fa2-4753-bf73-e04e15498311",
   "metadata": {},
   "outputs": [
    {
     "name": "stdout",
     "output_type": "stream",
     "text": [
      "12\n",
      "15\n"
     ]
    }
   ],
   "source": [
    "class MyAdd:\n",
    "    def __init__(self, n):\n",
    "        self.n = n \n",
    "    \n",
    "    def add(self, m):\n",
    "        return self.n + m \n",
    "\n",
    "add2 = MyAdd(2)\n",
    "add5 = MyAdd(5)\n",
    "\n",
    "print(add2.add(10))\n",
    "print(add5.add(10))"
   ]
  },
  {
   "cell_type": "code",
   "execution_count": 51,
   "id": "35bf05ec-04db-472f-8461-50449d91b93d",
   "metadata": {},
   "outputs": [
    {
     "name": "stdout",
     "output_type": "stream",
     "text": [
      "12\n",
      "15\n"
     ]
    }
   ],
   "source": [
    "class MyAdd:\n",
    "    def __init__(self, n):\n",
    "        self.n = n \n",
    "    \n",
    "    def __call__(self, m):\n",
    "        return self.n + m \n",
    "\n",
    "add2 = MyAdd(2)\n",
    "add5 = MyAdd(5)\n",
    "print(add2(10))\n",
    "print(add5(10))"
   ]
  },
  {
   "cell_type": "code",
   "execution_count": 65,
   "id": "77c29182-db4e-42e3-a1e2-5df5b8b2494b",
   "metadata": {},
   "outputs": [
    {
     "name": "stdout",
     "output_type": "stream",
     "text": [
      "<function add.<locals>.wrapper at 0x000002DF8DFE42C0>\n",
      "12\n"
     ]
    }
   ],
   "source": [
    "def add(n):\n",
    "    def wrapper(m):\n",
    "        return n + m \n",
    "    return wrapper\n",
    "\n",
    "add2 = add(2)\n",
    "print(add2)\n",
    "print(add2(10))\n"
   ]
  },
  {
   "cell_type": "code",
   "execution_count": null,
   "id": "9bbca165-b79c-48cc-aac0-129374fe4f76",
   "metadata": {},
   "outputs": [],
   "source": [
    "### 데코레이터\n"
   ]
  },
  {
   "cell_type": "code",
   "execution_count": 97,
   "id": "640aa542-1b0e-4056-a153-792df128535f",
   "metadata": {},
   "outputs": [
    {
     "name": "stdout",
     "output_type": "stream",
     "text": [
      "=== start ===\n",
      "소요시간 : 0.000000\n"
     ]
    }
   ],
   "source": [
    "import time\n",
    "\n",
    "def myFunc():\n",
    "    start = time.time()\n",
    "    print(\"=== start ===\")\n",
    "\n",
    "    end =time.time()\n",
    "    print(\"소요시간 : %f\" % (end - start))\n",
    "\n",
    "\n",
    "myFunc()"
   ]
  },
  {
   "cell_type": "code",
   "execution_count": 115,
   "id": "a663b57c-20cf-443c-b158-b3be9905131d",
   "metadata": {},
   "outputs": [
    {
     "name": "stdout",
     "output_type": "stream",
     "text": [
      "=== start ===\n",
      "수행 시간 0.0\n",
      "수행 시간 0.0\n"
     ]
    }
   ],
   "source": [
    "def decorationFunc(func):\n",
    "    def inner():\n",
    "        start = time.time()\n",
    "        result = func()\n",
    "        end = time.time()\n",
    "        print(f'수행 시간 {end - start}')\n",
    "        return result # 소요시간 리턴\n",
    "    return inner # 클로저 리턴\n",
    "\n",
    "@decorationFunc\n",
    "def myFunc():\n",
    "    print(\"=== start ===\")\n",
    "\n",
    "decoFunc = decorationFunc(myFunc)\n",
    "decoFunc()\n",
    "\n",
    "\n",
    "\n",
    "\n",
    "\n",
    "\n",
    "\n"
   ]
  },
  {
   "cell_type": "code",
   "execution_count": 103,
   "id": "ef03e679-0ba3-402a-9663-eed902179ab0",
   "metadata": {},
   "outputs": [
    {
     "name": "stdout",
     "output_type": "stream",
     "text": [
      "=== start ===\n",
      "수행 시간 0.0\n"
     ]
    }
   ],
   "source": [
    "def decorationFunc(func):\n",
    "    def inner():\n",
    "        start = time.time()\n",
    "        result = func()\n",
    "        end = time.time()\n",
    "        print(f'수행 시간 {end - start}')\n",
    "        return result # 소요시간 리턴\n",
    "    return inner # 클로저 리턴\n",
    "\n",
    "@decorationFunc\n",
    "def myFunc():\n",
    "    print(\"=== start ===\")\n",
    "\n",
    "myFunc()"
   ]
  }
 ],
 "metadata": {
  "kernelspec": {
   "display_name": "Python [conda env:base] *",
   "language": "python",
   "name": "conda-base-py"
  },
  "language_info": {
   "codemirror_mode": {
    "name": "ipython",
    "version": 3
   },
   "file_extension": ".py",
   "mimetype": "text/x-python",
   "name": "python",
   "nbconvert_exporter": "python",
   "pygments_lexer": "ipython3",
   "version": "3.12.7"
  }
 },
 "nbformat": 4,
 "nbformat_minor": 5
}
