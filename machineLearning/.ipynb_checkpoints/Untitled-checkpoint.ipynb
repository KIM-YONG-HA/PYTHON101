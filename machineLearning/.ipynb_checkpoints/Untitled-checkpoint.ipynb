{
 "cells": [
  {
   "cell_type": "code",
   "execution_count": null,
   "id": "1b62b16f-601c-4764-9daa-756a7b907060",
   "metadata": {},
   "outputs": [],
   "source": []
  },
  {
   "cell_type": "code",
   "execution_count": 13,
   "id": "5dc609fc-5be1-47aa-95d1-5846b0424af1",
   "metadata": {},
   "outputs": [
    {
     "name": "stdout",
     "output_type": "stream",
     "text": [
      "b'<?xml version=\"1.0\" encoding=\"UTF-8\" standalone=\"yes\"?><response><header><responseTime>2025-02-11T16:35:40.870+09:00</responseTime><resultCode>30</resultCode><resultMsg>SERVICE KEY IS NOT REGISTERED ERROR.</resultMsg></header></response>'\n"
     ]
    }
   ],
   "source": [
    "import requests\n",
    "#http://openapi.tour.go.kr/openapi/service/EdrcntTourismStatsService/getEdrcntTourismStatsList?serviceKey=FI33RYHRp%2BoBJ4cx%2BtCiGPg4SFIqKJkF%2FBulCBOSJxckXJbbt6UkhYZ5Eyi4zuCLD4ENNnaCh2ym8I6PaHlMgQ%3D%3D&YM=201201&NAT_CD=112&ED_CD=E\n",
    "\n",
    "#url = 'http://apis.data.go.kr/1613000/DmstcShipNvgInfoService/getShipOpratInfoList'\n",
    "url = 'http://openapi.tour.go.kr/openapi/service/EdrcntTourismStatsService/getEdrcntTourismStatsList'\n",
    "params ={'serviceKey' : 'FI33RYHRp%2BoBJ4cx%2BtCiGPg4SFIqKJkF%2FBulCBOSJxckXJbbt6UkhYZ5Eyi4zuCLD4ENNnaCh2ym8I6PaHlMgQ%3D%3D', 'YM' : '201201', 'NAT_CD' : '112', 'ED_CD' : 'E'}\n",
    "\n",
    "response = requests.get(url, params=params)\n",
    "print(response.content)"
   ]
  }
 ],
 "metadata": {
  "kernelspec": {
   "display_name": "Python [conda env:base] *",
   "language": "python",
   "name": "conda-base-py"
  },
  "language_info": {
   "codemirror_mode": {
    "name": "ipython",
    "version": 3
   },
   "file_extension": ".py",
   "mimetype": "text/x-python",
   "name": "python",
   "nbconvert_exporter": "python",
   "pygments_lexer": "ipython3",
   "version": "3.12.7"
  }
 },
 "nbformat": 4,
 "nbformat_minor": 5
}
