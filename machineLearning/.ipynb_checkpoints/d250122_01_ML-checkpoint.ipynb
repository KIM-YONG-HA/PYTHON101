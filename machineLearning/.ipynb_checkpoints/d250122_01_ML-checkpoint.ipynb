{
 "cells": [
  {
   "cell_type": "markdown",
   "id": "b53ac3d3-f050-46e7-add4-6285817a5a04",
   "metadata": {},
   "source": [
    "# 머신러닝을 위한 데이터 처리 절차\n",
    "## 1. 데이터 수집\n",
    "정형, 비정형, 반정형 데이터 \n",
    "\n",
    "\n",
    "## 2. 통계적 데이터 탐색\n",
    "## 3. 시각적 데이터 탐색\n",
    "## 4. 데이터 전처리\n",
    "## 5. 탐색적 데이터 분석과 상관분석\n",
    "## 6. 머신러닝 알고리즘 선정\n",
    "## 7. 머신러닝 수행 "
   ]
  },
  {
   "cell_type": "markdown",
   "id": "92bce119-b5b1-4094-a367-55bce9eae075",
   "metadata": {},
   "source": [
    "# 데이터"
   ]
  },
  {
   "cell_type": "code",
   "execution_count": null,
   "id": "4b7751a4-471e-4c9f-b8e1-1f0ee7520c36",
   "metadata": {},
   "outputs": [],
   "source": [
    "데이터는 수치형과 범주형으로 구분"
   ]
  },
  {
   "cell_type": "markdown",
   "id": "3988de3f-b1d1-4579-9728-ec936ae73487",
   "metadata": {},
   "source": [
    "## 수치형"
   ]
  },
  {
   "cell_type": "markdown",
   "id": "5e02cac8-a6bd-405c-acdf-4dfb5eafa6c2",
   "metadata": {},
   "source": [
    "수치형은 연속형, 이산형으로 구분\n",
    "수치형 데이터는 값을 예측(회귀모델)\n",
    "회귀: regression\n",
    "주식, 기온, 집값, ..."
   ]
  },
  {
   "cell_type": "markdown",
   "id": "ebb1d9f7-ca89-475b-8588-7fefc9a909fa",
   "metadata": {},
   "source": [
    "### 연속형"
   ]
  },
  {
   "cell_type": "code",
   "execution_count": 15,
   "id": "13b893cd-0a44-4636-9f59-56e8e0ce953f",
   "metadata": {},
   "outputs": [
    {
     "ename": "SyntaxError",
     "evalue": "invalid syntax (1184222009.py, line 1)",
     "output_type": "error",
     "traceback": [
      "\u001b[1;36m  Cell \u001b[1;32mIn[15], line 1\u001b[1;36m\u001b[0m\n\u001b[1;33m    실수 : 1.15, 1.17, 1.19, 1.21\u001b[0m\n\u001b[1;37m             ^\u001b[0m\n\u001b[1;31mSyntaxError\u001b[0m\u001b[1;31m:\u001b[0m invalid syntax\n"
     ]
    }
   ],
   "source": [
    "실수 : 1.15, 1.17, 1.19, 1.21\n",
    "키, 몸무게, 백분율, 강수량, 온도, ..."
   ]
  },
  {
   "cell_type": "markdown",
   "id": "e1326215-74c1-4679-ac74-44b536c3fa5e",
   "metadata": {},
   "source": [
    "### 이산형"
   ]
  },
  {
   "cell_type": "code",
   "execution_count": null,
   "id": "d35c3d83-052f-47b6-8770-3d9a6c4761b8",
   "metadata": {},
   "outputs": [],
   "source": [
    "정수 : 1, 2, 3, 4\n",
    "자녀수, 관객수, 개수, ..."
   ]
  },
  {
   "cell_type": "markdown",
   "id": "96992e20-f6d9-49bb-bf73-152a1b4fe6e8",
   "metadata": {},
   "source": [
    "## 범주형"
   ]
  },
  {
   "cell_type": "code",
   "execution_count": null,
   "id": "b026d0e6-1d0c-49af-90e6-883b3449b503",
   "metadata": {},
   "outputs": [],
   "source": [
    "범주형은 명목형, 순서형으로 구분 "
   ]
  },
  {
   "cell_type": "code",
   "execution_count": null,
   "id": "438cc4d2-0359-497f-b089-e68bb1c2a301",
   "metadata": {},
   "outputs": [],
   "source": [
    "범주형(숫자로 표현), 질적인 데이터, 분류 \n",
    "분류: classification\n",
    "혈액형, ...\n",
    "숫자로 나타내지만 크기는 상관없이 분류를 뜻한다.\n"
   ]
  },
  {
   "cell_type": "code",
   "execution_count": null,
   "id": "19ccc1ce-674d-4f3b-b1d3-44afec9fbfe3",
   "metadata": {},
   "outputs": [],
   "source": [
    "명목형 - 특성분류\n",
    "성별, 혈액형, ...\n"
   ]
  },
  {
   "cell_type": "code",
   "execution_count": null,
   "id": "bdd59243-caa0-4e91-974d-a3412d078a8e",
   "metadata": {},
   "outputs": [],
   "source": [
    "순서형\n",
    "학점 A, B, C, D, F => 1, 2, 3, 4, 5\n",
    "값이 크다고 좋은 것은 아니다, 서열이 존재하고 사칙연산의 의미가 없다.\n",
    "\n",
    "\n"
   ]
  },
  {
   "cell_type": "markdown",
   "id": "191c2c3d-b041-4f2a-8d9e-e995e100f861",
   "metadata": {},
   "source": [
    "## 기술통계량"
   ]
  },
  {
   "cell_type": "code",
   "execution_count": null,
   "id": "a01957f7-21b7-486b-bc26-ecc571fb8fdf",
   "metadata": {},
   "outputs": [],
   "source": [
    "중심경향 : 평균, 중앙, 최빈 / 데이터들의 중심을 표현하기 위한 값 / 이상치 제외\n",
    "산포도 : 데이터의 퍼짐 정도 / \n"
   ]
  },
  {
   "cell_type": "code",
   "execution_count": null,
   "id": "75bd8b23-79ec-4ce4-9921-c249e9d78d9a",
   "metadata": {},
   "outputs": [],
   "source": [
    "정규분포 : 최빈 = 평균 = 중앙값, 가장 이상적 \n",
    "아웃라이어 : 제외시킬 데이터, 평균은 아웃라이어 선정에 가장 취약한 값이다.\n",
    "정적편포 : 앞쪽이 많은\n",
    "부적편포 : 뒷쪽이 많은"
   ]
  },
  {
   "cell_type": "code",
   "execution_count": null,
   "id": "09fe3750-cdec-4344-beda-53d7b97caf78",
   "metadata": {},
   "outputs": [],
   "source": [
    "평균 : 산술평균, 기하평균, 조화평균 \n"
   ]
  },
  {
   "cell_type": "code",
   "execution_count": null,
   "id": "575f5f88-6eb1-4209-bf8f-ffb91fe19d10",
   "metadata": {},
   "outputs": [],
   "source": [
    "## 평균"
   ]
  },
  {
   "cell_type": "markdown",
   "id": "2ff2e412-2b23-4348-9ef6-480cdee20675",
   "metadata": {},
   "source": [
    "### 산술평균(Arithmetic mean)\n",
    "모든 데이터의 합 / 전체 개수"
   ]
  },
  {
   "cell_type": "markdown",
   "id": "84588458-3bbc-4b57-8c34-34311498d19c",
   "metadata": {},
   "source": [
    "<img src=\"https://wikimedia.org/api/rest_v1/media/math/render/svg/c03ccecb05cafe9c786f1b54d60eb5263bd296c1\"/>"
   ]
  },
  {
   "cell_type": "markdown",
   "id": "83ea1a44-dc12-478c-948d-2c8fd8780248",
   "metadata": {},
   "source": [
    "<img src=\"https://wikimedia.org/api/rest_v1/media/math/render/svg/b8b33202ff2ea533521f74607a900866c5a98e6a\"/>"
   ]
  },
  {
   "cell_type": "code",
   "execution_count": 30,
   "id": "86c2c0c3-a966-4116-a0f7-13b6539445aa",
   "metadata": {},
   "outputs": [],
   "source": [
    "import numpy as np\n",
    "import pandas as pd\n",
    "import seaborn as sns\n",
    "import matplotlib.pyplot as plt"
   ]
  },
  {
   "cell_type": "code",
   "execution_count": 44,
   "id": "296a6776-fb2a-443f-84e9-fbd394c3ac02",
   "metadata": {},
   "outputs": [
    {
     "data": {
      "text/html": [
       "<div>\n",
       "<style scoped>\n",
       "    .dataframe tbody tr th:only-of-type {\n",
       "        vertical-align: middle;\n",
       "    }\n",
       "\n",
       "    .dataframe tbody tr th {\n",
       "        vertical-align: top;\n",
       "    }\n",
       "\n",
       "    .dataframe thead th {\n",
       "        text-align: right;\n",
       "    }\n",
       "</style>\n",
       "<table border=\"1\" class=\"dataframe\">\n",
       "  <thead>\n",
       "    <tr style=\"text-align: right;\">\n",
       "      <th></th>\n",
       "      <th>total_bill</th>\n",
       "      <th>tip</th>\n",
       "      <th>sex</th>\n",
       "      <th>smoker</th>\n",
       "      <th>day</th>\n",
       "      <th>time</th>\n",
       "      <th>size</th>\n",
       "    </tr>\n",
       "  </thead>\n",
       "  <tbody>\n",
       "    <tr>\n",
       "      <th>0</th>\n",
       "      <td>16.99</td>\n",
       "      <td>1.01</td>\n",
       "      <td>Female</td>\n",
       "      <td>No</td>\n",
       "      <td>Sun</td>\n",
       "      <td>Dinner</td>\n",
       "      <td>2</td>\n",
       "    </tr>\n",
       "    <tr>\n",
       "      <th>1</th>\n",
       "      <td>10.34</td>\n",
       "      <td>1.66</td>\n",
       "      <td>Male</td>\n",
       "      <td>No</td>\n",
       "      <td>Sun</td>\n",
       "      <td>Dinner</td>\n",
       "      <td>3</td>\n",
       "    </tr>\n",
       "    <tr>\n",
       "      <th>2</th>\n",
       "      <td>21.01</td>\n",
       "      <td>3.50</td>\n",
       "      <td>Male</td>\n",
       "      <td>No</td>\n",
       "      <td>Sun</td>\n",
       "      <td>Dinner</td>\n",
       "      <td>3</td>\n",
       "    </tr>\n",
       "    <tr>\n",
       "      <th>3</th>\n",
       "      <td>23.68</td>\n",
       "      <td>3.31</td>\n",
       "      <td>Male</td>\n",
       "      <td>No</td>\n",
       "      <td>Sun</td>\n",
       "      <td>Dinner</td>\n",
       "      <td>2</td>\n",
       "    </tr>\n",
       "    <tr>\n",
       "      <th>4</th>\n",
       "      <td>24.59</td>\n",
       "      <td>3.61</td>\n",
       "      <td>Female</td>\n",
       "      <td>No</td>\n",
       "      <td>Sun</td>\n",
       "      <td>Dinner</td>\n",
       "      <td>4</td>\n",
       "    </tr>\n",
       "  </tbody>\n",
       "</table>\n",
       "</div>"
      ],
      "text/plain": [
       "   total_bill   tip     sex smoker  day    time  size\n",
       "0       16.99  1.01  Female     No  Sun  Dinner     2\n",
       "1       10.34  1.66    Male     No  Sun  Dinner     3\n",
       "2       21.01  3.50    Male     No  Sun  Dinner     3\n",
       "3       23.68  3.31    Male     No  Sun  Dinner     2\n",
       "4       24.59  3.61  Female     No  Sun  Dinner     4"
      ]
     },
     "execution_count": 44,
     "metadata": {},
     "output_type": "execute_result"
    }
   ],
   "source": [
    "df_tip = sns.load_dataset('tips')\n",
    "df_tip.head()"
   ]
  },
  {
   "cell_type": "code",
   "execution_count": 46,
   "id": "842e9e85-ef08-47b9-b08c-a819c17dd949",
   "metadata": {},
   "outputs": [
    {
     "name": "stdout",
     "output_type": "stream",
     "text": [
      "<class 'pandas.core.frame.DataFrame'>\n",
      "RangeIndex: 244 entries, 0 to 243\n",
      "Data columns (total 7 columns):\n",
      " #   Column      Non-Null Count  Dtype   \n",
      "---  ------      --------------  -----   \n",
      " 0   total_bill  244 non-null    float64 \n",
      " 1   tip         244 non-null    float64 \n",
      " 2   sex         244 non-null    category\n",
      " 3   smoker      244 non-null    category\n",
      " 4   day         244 non-null    category\n",
      " 5   time        244 non-null    category\n",
      " 6   size        244 non-null    int64   \n",
      "dtypes: category(4), float64(2), int64(1)\n",
      "memory usage: 7.4 KB\n"
     ]
    }
   ],
   "source": [
    "df_tip.info()"
   ]
  },
  {
   "cell_type": "code",
   "execution_count": 50,
   "id": "f4b91536-abec-42e3-83c9-90a1ea9d370c",
   "metadata": {},
   "outputs": [
    {
     "data": {
      "text/plain": [
       "19.78594262295082"
      ]
     },
     "execution_count": 50,
     "metadata": {},
     "output_type": "execute_result"
    }
   ],
   "source": [
    "df_tip['total_bill'].mean()"
   ]
  },
  {
   "cell_type": "code",
   "execution_count": 52,
   "id": "2b05855a-d609-442b-bb98-5f45e5a4e849",
   "metadata": {},
   "outputs": [
    {
     "data": {
      "text/plain": [
       "19.78594262295082"
      ]
     },
     "execution_count": 52,
     "metadata": {},
     "output_type": "execute_result"
    }
   ],
   "source": [
    "np.mean(df_tip['total_bill'])"
   ]
  },
  {
   "cell_type": "markdown",
   "id": "9141ed61-3230-474f-9216-7deb05d76493",
   "metadata": {},
   "source": [
    "## 기하평균(Geometric mean)\n",
    "n개의 양수 값을 모두 곱한 것의 n제곱근   \n",
    "다기간의 수익률에 대한 평균 수익률, 평균 물가 상승률"
   ]
  },
  {
   "cell_type": "markdown",
   "id": "e9e3aa37-9b2b-4b5a-a10a-09699aa0ccfb",
   "metadata": {},
   "source": [
    "<img src=\"https://wikimedia.org/api/rest_v1/media/math/render/svg/1f393c64bdc64328348f1a5ea9b54cef8edf09c1\" alt='기하평균 수식'/>"
   ]
  },
  {
   "cell_type": "code",
   "execution_count": 92,
   "id": "506de43b-5759-4484-a27c-19c02bc7ba3a",
   "metadata": {},
   "outputs": [],
   "source": [
    "pA = [240,260,270,290,360] #  A라는 상품의 판매갯수\n",
    "pB = [11,21,31,41] #  B라는 상품의 판매갯수"
   ]
  },
  {
   "cell_type": "code",
   "execution_count": 108,
   "id": "61a24fdc-4755-49ed-911e-f302a4547835",
   "metadata": {},
   "outputs": [],
   "source": [
    "#  연평균 성장률 (end / start)^(1/전체개수)\n",
    "def geometricMean(x):\n",
    "    return (x[-1] / x[0]) ** (1 / len(x)) - 1"
   ]
  },
  {
   "cell_type": "code",
   "execution_count": 110,
   "id": "1e65a419-28d1-4a64-9a10-b43fd2b2b00a",
   "metadata": {},
   "outputs": [
    {
     "name": "stdout",
     "output_type": "stream",
     "text": [
      "0.08447177119769855\n"
     ]
    }
   ],
   "source": [
    "a = geometricMean(pA)\n",
    "print(a)"
   ]
  },
  {
   "cell_type": "markdown",
   "id": "028c2cfc-f148-43f2-ab96-18d2f592442e",
   "metadata": {},
   "source": [
    "## 조화평균(Harmonic mean)\n",
    "각 요소의 역수의 산술 평균을 구해 다시 역수를 구한다.   \n",
    "평균적인 변화율을 구할 때에 주로 사용한다.   "
   ]
  },
  {
   "cell_type": "markdown",
   "id": "9fc59144-47c8-4591-9875-546982b89a2b",
   "metadata": {},
   "source": [
    "<img src=\"https://wikimedia.org/api/rest_v1/media/math/render/svg/546f6b86031f811c87b850aed224071d0994d62f\"/>"
   ]
  },
  {
   "cell_type": "code",
   "execution_count": null,
   "id": "45810b6c-5fae-4e07-9647-2388edec85a7",
   "metadata": {},
   "outputs": [],
   "source": [
    "## 산술, 기하, 조화평균의 관계 \n",
    "\n",
    "산술(A) a+b/2\n",
    "기하(G) √a+b\n",
    "조화(H) 2ab/a+b = G^2/A"
   ]
  },
  {
   "cell_type": "code",
   "execution_count": null,
   "id": "ff6f578d-ec24-4dcf-9823-11c8d6d041bd",
   "metadata": {},
   "outputs": [],
   "source": [
    "## 분류의 성능을 측정 \n",
    "precision(정확도, 정밀도)\n",
    "recall(재현률)\n",
    "F1-score(precision과 recall의 조화평균)"
   ]
  },
  {
   "attachments": {
    "e3fff6c7-2e3a-417b-ac21-7d38af2a03c6.png": {
     "image/png": "[encoded data removed]"
    }
   },
   "cell_type": "markdown",
   "id": "bcc56556-b540-4fb0-a438-115a9d7918fe",
   "metadata": {},
   "source": [
    "![image.png](attachment:e3fff6c7-2e3a-417b-ac21-7d38af2a03c6.png)"
   ]
  },
  {
   "cell_type": "code",
   "execution_count": null,
   "id": "7043245f-62d6-46cf-ac83-59e953d4e4f2",
   "metadata": {},
   "outputs": [],
   "source": [
    "전체 100개 \n",
    "실제값 p 90, n 10\n",
    "예측값 p 93, n 7"
   ]
  },
  {
   "cell_type": "markdown",
   "id": "d930fe4d-6607-4fa9-bb0a-440ad1f31756",
   "metadata": {},
   "source": [
    "### 정확도(Accuracy = Precision) \n",
    "모든 모델에서 사용   \n",
    "\n",
    "Accuracy =  TP + TN / (TP + TN + FP + FN) = 실제 맞춘 갯수 합 / 전체 개수"
   ]
  },
  {
   "cell_type": "markdown",
   "id": "2b930cab-6197-4b1b-b320-2d970c065301",
   "metadata": {},
   "source": [
    "### 정밀도(Precision)\n",
    "분류 모델에서 사용\n",
    "\n",
    "Precision = TP / (TP + FP)"
   ]
  },
  {
   "cell_type": "markdown",
   "id": "8c5b38fc-95b3-43eb-9204-e59f3f8cf713",
   "metadata": {},
   "source": [
    "### 재현률(Recall)\n",
    "Recall = TP / TP + FN"
   ]
  },
  {
   "cell_type": "markdown",
   "id": "acc2e9ab-849b-474e-83dc-34580282b5d7",
   "metadata": {},
   "source": [
    "### F1-score\n",
    "precision과 recall의 조화평균  \n",
    "F1-score = (2 * Precision * Recall) / (Precision + Recall)\n"
   ]
  },
  {
   "cell_type": "markdown",
   "id": "cd6fe529-9adc-405b-9b14-1f6ec780132e",
   "metadata": {},
   "source": [
    "## 중앙값(median)\n",
    "전체 데이터를 오름차순으로 배열했을 때 중앙에 위치한 값 "
   ]
  },
  {
   "cell_type": "markdown",
   "id": "92b2ed46-cccb-4a9a-acbf-c02edb073f6d",
   "metadata": {},
   "source": [
    "## 최빈값(mode)\n",
    "가장 많이 발생된 값 "
   ]
  },
  {
   "cell_type": "code",
   "execution_count": 138,
   "id": "6c468a30-9c77-430d-9e03-76e870183efb",
   "metadata": {},
   "outputs": [
    {
     "data": {
      "text/plain": [
       "0    9\n",
       "dtype: int64"
      ]
     },
     "execution_count": 138,
     "metadata": {},
     "output_type": "execute_result"
    }
   ],
   "source": [
    "a = [1,3,5,1,2,1,5,7,3,2,9,9,9,9]\n",
    "sr = pd.Series(a)\n",
    "sr.mode()"
   ]
  }
 ],
 "metadata": {
  "kernelspec": {
   "display_name": "Python [conda env:base] *",
   "language": "python",
   "name": "conda-base-py"
  },
  "language_info": {
   "codemirror_mode": {
    "name": "ipython",
    "version": 3
   },
   "file_extension": ".py",
   "mimetype": "text/x-python",
   "name": "python",
   "nbconvert_exporter": "python",
   "pygments_lexer": "ipython3",
   "version": "3.12.7"
  }
 },
 "nbformat": 4,
 "nbformat_minor": 5
}
