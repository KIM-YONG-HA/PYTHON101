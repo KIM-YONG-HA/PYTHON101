{
 "cells": [
  {
   "cell_type": "markdown",
   "id": "b53ac3d3-f050-46e7-add4-6285817a5a04",
   "metadata": {},
   "source": [
    "# 머신러닝을 위한 데이터 처리 절차\n",
    "## 1. 데이터 수집\n",
    "정형, 비정형, 반정형 데이터 \n",
    "\n",
    "\n",
    "## 2. 통계적 데이터 탐색\n",
    "## 3. 시각적 데이터 탐색\n",
    "## 4. 데이터 전처리\n",
    "## 5. 탐색적 데이터 분석과 상관분석\n",
    "## 6. 머신러닝 알고리즘 선정\n",
    "## 7. 머신러닝 수행 "
   ]
  },
  {
   "cell_type": "markdown",
   "id": "92bce119-b5b1-4094-a367-55bce9eae075",
   "metadata": {},
   "source": [
    "# 데이터"
   ]
  },
  {
   "cell_type": "code",
   "execution_count": null,
   "id": "4b7751a4-471e-4c9f-b8e1-1f0ee7520c36",
   "metadata": {},
   "outputs": [],
   "source": [
    "데이터는 수치형과 범주형으로 구분"
   ]
  },
  {
   "cell_type": "markdown",
   "id": "3988de3f-b1d1-4579-9728-ec936ae73487",
   "metadata": {},
   "source": [
    "## 수치형"
   ]
  },
  {
   "cell_type": "markdown",
   "id": "5e02cac8-a6bd-405c-acdf-4dfb5eafa6c2",
   "metadata": {},
   "source": [
    "수치형은 연속형, 이산형으로 구분\n",
    "수치형 데이터는 값을 예측(회귀모델)\n",
    "회귀: regression\n",
    "주식, 기온, 집값, ..."
   ]
  },
  {
   "cell_type": "markdown",
   "id": "ebb1d9f7-ca89-475b-8588-7fefc9a909fa",
   "metadata": {},
   "source": [
    "### 연속형"
   ]
  },
  {
   "cell_type": "markdown",
   "id": "25f99266-dd92-4465-a5a1-795d3542e83e",
   "metadata": {},
   "source": [
    "실수 : 1.15, 1.17, 1.19, 1.21\n",
    "키, 몸무게, 백분율, 강수량, 온도, ..."
   ]
  },
  {
   "cell_type": "markdown",
   "id": "e1326215-74c1-4679-ac74-44b536c3fa5e",
   "metadata": {},
   "source": [
    "### 이산형"
   ]
  },
  {
   "cell_type": "code",
   "execution_count": null,
   "id": "d35c3d83-052f-47b6-8770-3d9a6c4761b8",
   "metadata": {},
   "outputs": [],
   "source": [
    "정수 : 1, 2, 3, 4\n",
    "자녀수, 관객수, 개수, ..."
   ]
  },
  {
   "cell_type": "markdown",
   "id": "96992e20-f6d9-49bb-bf73-152a1b4fe6e8",
   "metadata": {},
   "source": [
    "## 범주형"
   ]
  },
  {
   "cell_type": "code",
   "execution_count": null,
   "id": "b026d0e6-1d0c-49af-90e6-883b3449b503",
   "metadata": {},
   "outputs": [],
   "source": [
    "범주형은 명목형, 순서형으로 구분 "
   ]
  },
  {
   "cell_type": "code",
   "execution_count": null,
   "id": "438cc4d2-0359-497f-b089-e68bb1c2a301",
   "metadata": {},
   "outputs": [],
   "source": [
    "범주형(숫자로 표현), 질적인 데이터, 분류 \n",
    "분류: classification\n",
    "혈액형, ...\n",
    "숫자로 나타내지만 크기는 상관없이 분류를 뜻한다.\n"
   ]
  },
  {
   "cell_type": "code",
   "execution_count": null,
   "id": "19ccc1ce-674d-4f3b-b1d3-44afec9fbfe3",
   "metadata": {},
   "outputs": [],
   "source": [
    "명목형 - 특성분류\n",
    "성별, 혈액형, ...\n"
   ]
  },
  {
   "cell_type": "code",
   "execution_count": null,
   "id": "bdd59243-caa0-4e91-974d-a3412d078a8e",
   "metadata": {},
   "outputs": [],
   "source": [
    "순서형\n",
    "학점 A, B, C, D, F => 1, 2, 3, 4, 5\n",
    "값이 크다고 좋은 것은 아니다, 서열이 존재하고 사칙연산의 의미가 없다.\n",
    "\n",
    "\n"
   ]
  },
  {
   "cell_type": "markdown",
   "id": "191c2c3d-b041-4f2a-8d9e-e995e100f861",
   "metadata": {},
   "source": [
    "## 기술통계량"
   ]
  },
  {
   "cell_type": "code",
   "execution_count": null,
   "id": "a01957f7-21b7-486b-bc26-ecc571fb8fdf",
   "metadata": {},
   "outputs": [],
   "source": [
    "중심경향 : 평균, 중앙, 최빈 / 데이터들의 중심을 표현하기 위한 값 / 이상치 제외\n",
    "산포도 : 데이터의 퍼짐 정도 / \n"
   ]
  },
  {
   "cell_type": "code",
   "execution_count": null,
   "id": "75bd8b23-79ec-4ce4-9921-c249e9d78d9a",
   "metadata": {},
   "outputs": [],
   "source": [
    "정규분포 : 최빈 = 평균 = 중앙값, 가장 이상적 \n",
    "아웃라이어 : 제외시킬 데이터, 평균은 아웃라이어 선정에 가장 취약한 값이다.\n",
    "정적편포 : 앞쪽이 많은\n",
    "부적편포 : 뒷쪽이 많은"
   ]
  },
  {
   "cell_type": "code",
   "execution_count": null,
   "id": "09fe3750-cdec-4344-beda-53d7b97caf78",
   "metadata": {},
   "outputs": [],
   "source": [
    "평균 : 산술평균, 기하평균, 조화평균 \n"
   ]
  },
  {
   "cell_type": "code",
   "execution_count": null,
   "id": "575f5f88-6eb1-4209-bf8f-ffb91fe19d10",
   "metadata": {},
   "outputs": [],
   "source": [
    "## 평균"
   ]
  },
  {
   "cell_type": "markdown",
   "id": "2ff2e412-2b23-4348-9ef6-480cdee20675",
   "metadata": {},
   "source": [
    "### 산술평균(Arithmetic mean)\n",
    "모든 데이터의 합 / 전체 개수"
   ]
  },
  {
   "cell_type": "markdown",
   "id": "84588458-3bbc-4b57-8c34-34311498d19c",
   "metadata": {},
   "source": [
    "<img src=\"https://wikimedia.org/api/rest_v1/media/math/render/svg/c03ccecb05cafe9c786f1b54d60eb5263bd296c1\"/>"
   ]
  },
  {
   "cell_type": "markdown",
   "id": "83ea1a44-dc12-478c-948d-2c8fd8780248",
   "metadata": {},
   "source": [
    "<img src=\"https://wikimedia.org/api/rest_v1/media/math/render/svg/b8b33202ff2ea533521f74607a900866c5a98e6a\"/>"
   ]
  },
  {
   "cell_type": "code",
   "execution_count": 30,
   "id": "86c2c0c3-a966-4116-a0f7-13b6539445aa",
   "metadata": {},
   "outputs": [],
   "source": [
    "import numpy as np\n",
    "import pandas as pd\n",
    "import seaborn as sns\n",
    "import matplotlib.pyplot as plt"
   ]
  },
  {
   "cell_type": "code",
   "execution_count": 44,
   "id": "296a6776-fb2a-443f-84e9-fbd394c3ac02",
   "metadata": {},
   "outputs": [
    {
     "data": {
      "text/html": [
       "<div>\n",
       "<style scoped>\n",
       "    .dataframe tbody tr th:only-of-type {\n",
       "        vertical-align: middle;\n",
       "    }\n",
       "\n",
       "    .dataframe tbody tr th {\n",
       "        vertical-align: top;\n",
       "    }\n",
       "\n",
       "    .dataframe thead th {\n",
       "        text-align: right;\n",
       "    }\n",
       "</style>\n",
       "<table border=\"1\" class=\"dataframe\">\n",
       "  <thead>\n",
       "    <tr style=\"text-align: right;\">\n",
       "      <th></th>\n",
       "      <th>total_bill</th>\n",
       "      <th>tip</th>\n",
       "      <th>sex</th>\n",
       "      <th>smoker</th>\n",
       "      <th>day</th>\n",
       "      <th>time</th>\n",
       "      <th>size</th>\n",
       "    </tr>\n",
       "  </thead>\n",
       "  <tbody>\n",
       "    <tr>\n",
       "      <th>0</th>\n",
       "      <td>16.99</td>\n",
       "      <td>1.01</td>\n",
       "      <td>Female</td>\n",
       "      <td>No</td>\n",
       "      <td>Sun</td>\n",
       "      <td>Dinner</td>\n",
       "      <td>2</td>\n",
       "    </tr>\n",
       "    <tr>\n",
       "      <th>1</th>\n",
       "      <td>10.34</td>\n",
       "      <td>1.66</td>\n",
       "      <td>Male</td>\n",
       "      <td>No</td>\n",
       "      <td>Sun</td>\n",
       "      <td>Dinner</td>\n",
       "      <td>3</td>\n",
       "    </tr>\n",
       "    <tr>\n",
       "      <th>2</th>\n",
       "      <td>21.01</td>\n",
       "      <td>3.50</td>\n",
       "      <td>Male</td>\n",
       "      <td>No</td>\n",
       "      <td>Sun</td>\n",
       "      <td>Dinner</td>\n",
       "      <td>3</td>\n",
       "    </tr>\n",
       "    <tr>\n",
       "      <th>3</th>\n",
       "      <td>23.68</td>\n",
       "      <td>3.31</td>\n",
       "      <td>Male</td>\n",
       "      <td>No</td>\n",
       "      <td>Sun</td>\n",
       "      <td>Dinner</td>\n",
       "      <td>2</td>\n",
       "    </tr>\n",
       "    <tr>\n",
       "      <th>4</th>\n",
       "      <td>24.59</td>\n",
       "      <td>3.61</td>\n",
       "      <td>Female</td>\n",
       "      <td>No</td>\n",
       "      <td>Sun</td>\n",
       "      <td>Dinner</td>\n",
       "      <td>4</td>\n",
       "    </tr>\n",
       "  </tbody>\n",
       "</table>\n",
       "</div>"
      ],
      "text/plain": [
       "   total_bill   tip     sex smoker  day    time  size\n",
       "0       16.99  1.01  Female     No  Sun  Dinner     2\n",
       "1       10.34  1.66    Male     No  Sun  Dinner     3\n",
       "2       21.01  3.50    Male     No  Sun  Dinner     3\n",
       "3       23.68  3.31    Male     No  Sun  Dinner     2\n",
       "4       24.59  3.61  Female     No  Sun  Dinner     4"
      ]
     },
     "execution_count": 44,
     "metadata": {},
     "output_type": "execute_result"
    }
   ],
   "source": [
    "df_tip = sns.load_dataset('tips')\n",
    "df_tip.head()"
   ]
  },
  {
   "cell_type": "code",
   "execution_count": 46,
   "id": "842e9e85-ef08-47b9-b08c-a819c17dd949",
   "metadata": {},
   "outputs": [
    {
     "name": "stdout",
     "output_type": "stream",
     "text": [
      "<class 'pandas.core.frame.DataFrame'>\n",
      "RangeIndex: 244 entries, 0 to 243\n",
      "Data columns (total 7 columns):\n",
      " #   Column      Non-Null Count  Dtype   \n",
      "---  ------      --------------  -----   \n",
      " 0   total_bill  244 non-null    float64 \n",
      " 1   tip         244 non-null    float64 \n",
      " 2   sex         244 non-null    category\n",
      " 3   smoker      244 non-null    category\n",
      " 4   day         244 non-null    category\n",
      " 5   time        244 non-null    category\n",
      " 6   size        244 non-null    int64   \n",
      "dtypes: category(4), float64(2), int64(1)\n",
      "memory usage: 7.4 KB\n"
     ]
    }
   ],
   "source": [
    "df_tip.info()"
   ]
  },
  {
   "cell_type": "code",
   "execution_count": 50,
   "id": "f4b91536-abec-42e3-83c9-90a1ea9d370c",
   "metadata": {},
   "outputs": [
    {
     "data": {
      "text/plain": [
       "19.78594262295082"
      ]
     },
     "execution_count": 50,
     "metadata": {},
     "output_type": "execute_result"
    }
   ],
   "source": [
    "df_tip['total_bill'].mean()"
   ]
  },
  {
   "cell_type": "code",
   "execution_count": 52,
   "id": "2b05855a-d609-442b-bb98-5f45e5a4e849",
   "metadata": {},
   "outputs": [
    {
     "data": {
      "text/plain": [
       "19.78594262295082"
      ]
     },
     "execution_count": 52,
     "metadata": {},
     "output_type": "execute_result"
    }
   ],
   "source": [
    "np.mean(df_tip['total_bill'])"
   ]
  },
  {
   "cell_type": "markdown",
   "id": "9141ed61-3230-474f-9216-7deb05d76493",
   "metadata": {},
   "source": [
    "## 기하평균(Geometric mean)\n",
    "n개의 양수 값을 모두 곱한 것의 n제곱근   \n",
    "다기간의 수익률에 대한 평균 수익률, 평균 물가 상승률"
   ]
  },
  {
   "cell_type": "markdown",
   "id": "e9e3aa37-9b2b-4b5a-a10a-09699aa0ccfb",
   "metadata": {},
   "source": [
    "<img src=\"https://wikimedia.org/api/rest_v1/media/math/render/svg/1f393c64bdc64328348f1a5ea9b54cef8edf09c1\" alt='기하평균 수식'/>"
   ]
  },
  {
   "cell_type": "code",
   "execution_count": 92,
   "id": "506de43b-5759-4484-a27c-19c02bc7ba3a",
   "metadata": {},
   "outputs": [],
   "source": [
    "pA = [240,260,270,290,360] #  A라는 상품의 판매갯수\n",
    "pB = [11,21,31,41] #  B라는 상품의 판매갯수"
   ]
  },
  {
   "cell_type": "code",
   "execution_count": 108,
   "id": "61a24fdc-4755-49ed-911e-f302a4547835",
   "metadata": {},
   "outputs": [],
   "source": [
    "#  연평균 성장률 (end / start)^(1/전체개수)\n",
    "def geometricMean(x):\n",
    "    return (x[-1] / x[0]) ** (1 / len(x)) - 1"
   ]
  },
  {
   "cell_type": "code",
   "execution_count": 110,
   "id": "1e65a419-28d1-4a64-9a10-b43fd2b2b00a",
   "metadata": {},
   "outputs": [
    {
     "name": "stdout",
     "output_type": "stream",
     "text": [
      "0.08447177119769855\n"
     ]
    }
   ],
   "source": [
    "a = geometricMean(pA)\n",
    "print(a)"
   ]
  },
  {
   "cell_type": "markdown",
   "id": "028c2cfc-f148-43f2-ab96-18d2f592442e",
   "metadata": {},
   "source": [
    "## 조화평균(Harmonic mean)\n",
    "각 요소의 역수의 산술 평균을 구해 다시 역수를 구한다.   \n",
    "평균적인 변화율을 구할 때에 주로 사용한다.   "
   ]
  },
  {
   "cell_type": "markdown",
   "id": "9fc59144-47c8-4591-9875-546982b89a2b",
   "metadata": {},
   "source": [
    "<img src=\"https://wikimedia.org/api/rest_v1/media/math/render/svg/546f6b86031f811c87b850aed224071d0994d62f\"/>"
   ]
  },
  {
   "cell_type": "code",
   "execution_count": null,
   "id": "45810b6c-5fae-4e07-9647-2388edec85a7",
   "metadata": {},
   "outputs": [],
   "source": [
    "## 산술, 기하, 조화평균의 관계 \n",
    "\n",
    "산술(A) a+b/2\n",
    "기하(G) √a+b\n",
    "조화(H) 2ab/a+b = G^2/A"
   ]
  },
  {
   "cell_type": "code",
   "execution_count": null,
   "id": "ff6f578d-ec24-4dcf-9823-11c8d6d041bd",
   "metadata": {},
   "outputs": [],
   "source": [
    "## 분류의 성능을 측정 \n",
    "precision(정확도, 정밀도)\n",
    "recall(재현률)\n",
    "F1-score(precision과 recall의 조화평균)"
   ]
  },
  {
   "attachments": {
    "e3fff6c7-2e3a-417b-ac21-7d38af2a03c6.png": {
     "image/png": "[encoded data removed]"
    }
   },
   "cell_type": "markdown",
   "id": "bcc56556-b540-4fb0-a438-115a9d7918fe",
   "metadata": {},
   "source": [
    "![image.png](attachment:e3fff6c7-2e3a-417b-ac21-7d38af2a03c6.png)"
   ]
  },
  {
   "cell_type": "code",
   "execution_count": null,
   "id": "7043245f-62d6-46cf-ac83-59e953d4e4f2",
   "metadata": {},
   "outputs": [],
   "source": [
    "전체 100개 \n",
    "실제값 p 90, n 10\n",
    "예측값 p 93, n 7"
   ]
  },
  {
   "cell_type": "markdown",
   "id": "d930fe4d-6607-4fa9-bb0a-440ad1f31756",
   "metadata": {},
   "source": [
    "### 정확도(Accuracy = Precision) \n",
    "모든 모델에서 사용   \n",
    "\n",
    "Accuracy =  TP + TN / (TP + TN + FP + FN) = 실제 맞춘 갯수 합 / 전체 개수"
   ]
  },
  {
   "cell_type": "markdown",
   "id": "2b930cab-6197-4b1b-b320-2d970c065301",
   "metadata": {},
   "source": [
    "### 정밀도(Precision)\n",
    "분류 모델에서 사용\n",
    "\n",
    "Precision = TP / (TP + FP)"
   ]
  },
  {
   "cell_type": "markdown",
   "id": "8c5b38fc-95b3-43eb-9204-e59f3f8cf713",
   "metadata": {},
   "source": [
    "### 재현률(Recall)\n",
    "Recall = TP / TP + FN"
   ]
  },
  {
   "cell_type": "markdown",
   "id": "acc2e9ab-849b-474e-83dc-34580282b5d7",
   "metadata": {},
   "source": [
    "### F1-score\n",
    "precision과 recall의 조화평균  \n",
    "F1-score = (2 * Precision * Recall) / (Precision + Recall)\n"
   ]
  },
  {
   "cell_type": "markdown",
   "id": "cd6fe529-9adc-405b-9b14-1f6ec780132e",
   "metadata": {},
   "source": [
    "## 중앙값(median)\n",
    "전체 데이터를 오름차순으로 배열했을 때 중앙에 위치한 값 "
   ]
  },
  {
   "cell_type": "markdown",
   "id": "92b2ed46-cccb-4a9a-acbf-c02edb073f6d",
   "metadata": {},
   "source": [
    "## 최빈값(mode)\n",
    "가장 많이 발생된 값 "
   ]
  },
  {
   "cell_type": "code",
   "execution_count": 138,
   "id": "6c468a30-9c77-430d-9e03-76e870183efb",
   "metadata": {},
   "outputs": [
    {
     "data": {
      "text/plain": [
       "0    9\n",
       "dtype: int64"
      ]
     },
     "execution_count": 138,
     "metadata": {},
     "output_type": "execute_result"
    }
   ],
   "source": [
    "a = [1,3,5,1,2,1,5,7,3,2,9,9,9,9]\n",
    "sr = pd.Series(a)\n",
    "sr.mode() \n"
   ]
  },
  {
   "cell_type": "markdown",
   "id": "fffd9225-57c8-4548-ac53-082e547bad82",
   "metadata": {},
   "source": [
    "## 산포도 \n",
    "데이터가 중심에서 얼마나 떨어져있는지를 측정하는 척도 \n",
    "\n",
    "분산 = (평균값 - 요소값)^2의 평균 \n",
    "분산이 클수록 평균으로 부터 많이 떨어진(흩어진) 상태 \n",
    "표준편차 = 분산의 제곱근 = √분산\n",
    "분산보다 표준편차값이 더 작다.\n",
    "\n",
    "범위 : 최댓값과 최솟값의 차이 \n",
    "사분위수 : 전체 데이터를 오름차순으로 정렬 후 4등분할한 영역 "
   ]
  },
  {
   "cell_type": "markdown",
   "id": "9ac09a93-1a6d-40e5-8468-039d18bd00f2",
   "metadata": {},
   "source": [
    "## 분위수(Quantile)\n",
    "사분위수, 십분위수, 백분위수\n",
    "\n",
    "### 사분위수 범위(Inter Qunatile Range, IQR)\n",
    "1사분위(25%) ~ 3사분위(75%)\n",
    "\n",
    "### 사분위수 활용\n",
    "이상치의 범위를 확인할 때 사용\n",
    "\n",
    "### 이상치 계산\n",
    "Q3 + (IQR * 1.5)\n",
    "Q1 - (IQR * 1.5)"
   ]
  },
  {
   "cell_type": "markdown",
   "id": "8e284512-ce01-4a26-82b2-c477ebfcffee",
   "metadata": {},
   "source": [
    "## 변수(Variable)\n",
    "feature : 어떤 값에 원인이 되는 변수, 입력, 독립변수, 설명변수, 예측변수\n",
    "target : 어떤 값에 결과가 되는 변수, 출력, 종속변수, 반응변수, 결과변수 \n",
    "\n"
   ]
  },
  {
   "cell_type": "code",
   "execution_count": null,
   "id": "6349df93-83ee-4d23-9dfe-22ca002f376e",
   "metadata": {},
   "outputs": [],
   "source": [
    "feature는 n개의 샘플로 구성 \n",
    "feature가 여러개 feature matrix = X\n",
    "target vector = y\n",
    "1:1로 매칭 \n",
    "\n"
   ]
  },
  {
   "cell_type": "code",
   "execution_count": null,
   "id": "7a2540c6-2050-4aba-ae58-942986c161ed",
   "metadata": {},
   "outputs": [],
   "source": [
    "지도학습 : 정답이 있음 (정답=label)\n",
    "비지도학습 : 정답이 없음 "
   ]
  },
  {
   "cell_type": "markdown",
   "id": "4bcca799-b221-48c4-b228-1678ea05a55b",
   "metadata": {},
   "source": [
    "## 3. 시각적 데이터 탐색 "
   ]
  },
  {
   "cell_type": "code",
   "execution_count": 152,
   "id": "7768a340-f35d-438e-8f4c-6888237018a3",
   "metadata": {},
   "outputs": [
    {
     "data": {
      "text/html": [
       "<div>\n",
       "<style scoped>\n",
       "    .dataframe tbody tr th:only-of-type {\n",
       "        vertical-align: middle;\n",
       "    }\n",
       "\n",
       "    .dataframe tbody tr th {\n",
       "        vertical-align: top;\n",
       "    }\n",
       "\n",
       "    .dataframe thead th {\n",
       "        text-align: right;\n",
       "    }\n",
       "</style>\n",
       "<table border=\"1\" class=\"dataframe\">\n",
       "  <thead>\n",
       "    <tr style=\"text-align: right;\">\n",
       "      <th></th>\n",
       "      <th>total_bill</th>\n",
       "      <th>tip</th>\n",
       "      <th>size</th>\n",
       "    </tr>\n",
       "  </thead>\n",
       "  <tbody>\n",
       "    <tr>\n",
       "      <th>count</th>\n",
       "      <td>244.000000</td>\n",
       "      <td>244.000000</td>\n",
       "      <td>244.000000</td>\n",
       "    </tr>\n",
       "    <tr>\n",
       "      <th>mean</th>\n",
       "      <td>19.785943</td>\n",
       "      <td>2.998279</td>\n",
       "      <td>2.569672</td>\n",
       "    </tr>\n",
       "    <tr>\n",
       "      <th>std</th>\n",
       "      <td>8.902412</td>\n",
       "      <td>1.383638</td>\n",
       "      <td>0.951100</td>\n",
       "    </tr>\n",
       "    <tr>\n",
       "      <th>min</th>\n",
       "      <td>3.070000</td>\n",
       "      <td>1.000000</td>\n",
       "      <td>1.000000</td>\n",
       "    </tr>\n",
       "    <tr>\n",
       "      <th>25%</th>\n",
       "      <td>13.347500</td>\n",
       "      <td>2.000000</td>\n",
       "      <td>2.000000</td>\n",
       "    </tr>\n",
       "    <tr>\n",
       "      <th>50%</th>\n",
       "      <td>17.795000</td>\n",
       "      <td>2.900000</td>\n",
       "      <td>2.000000</td>\n",
       "    </tr>\n",
       "    <tr>\n",
       "      <th>75%</th>\n",
       "      <td>24.127500</td>\n",
       "      <td>3.562500</td>\n",
       "      <td>3.000000</td>\n",
       "    </tr>\n",
       "    <tr>\n",
       "      <th>max</th>\n",
       "      <td>50.810000</td>\n",
       "      <td>10.000000</td>\n",
       "      <td>6.000000</td>\n",
       "    </tr>\n",
       "  </tbody>\n",
       "</table>\n",
       "</div>"
      ],
      "text/plain": [
       "       total_bill         tip        size\n",
       "count  244.000000  244.000000  244.000000\n",
       "mean    19.785943    2.998279    2.569672\n",
       "std      8.902412    1.383638    0.951100\n",
       "min      3.070000    1.000000    1.000000\n",
       "25%     13.347500    2.000000    2.000000\n",
       "50%     17.795000    2.900000    2.000000\n",
       "75%     24.127500    3.562500    3.000000\n",
       "max     50.810000   10.000000    6.000000"
      ]
     },
     "execution_count": 152,
     "metadata": {},
     "output_type": "execute_result"
    }
   ],
   "source": [
    "df_tip.describe()"
   ]
  },
  {
   "cell_type": "code",
   "execution_count": 162,
   "id": "cce8a6da-5700-4bbb-b1a6-ae6f7f0fcbcf",
   "metadata": {},
   "outputs": [
    {
     "data": {
      "text/html": [
       "<div>\n",
       "<style scoped>\n",
       "    .dataframe tbody tr th:only-of-type {\n",
       "        vertical-align: middle;\n",
       "    }\n",
       "\n",
       "    .dataframe tbody tr th {\n",
       "        vertical-align: top;\n",
       "    }\n",
       "\n",
       "    .dataframe thead th {\n",
       "        text-align: right;\n",
       "    }\n",
       "</style>\n",
       "<table border=\"1\" class=\"dataframe\">\n",
       "  <thead>\n",
       "    <tr style=\"text-align: right;\">\n",
       "      <th></th>\n",
       "      <th>total_bill</th>\n",
       "      <th>tip</th>\n",
       "      <th>sex</th>\n",
       "      <th>smoker</th>\n",
       "      <th>day</th>\n",
       "      <th>time</th>\n",
       "      <th>size</th>\n",
       "    </tr>\n",
       "  </thead>\n",
       "  <tbody>\n",
       "    <tr>\n",
       "      <th>count</th>\n",
       "      <td>244.000000</td>\n",
       "      <td>244.000000</td>\n",
       "      <td>244</td>\n",
       "      <td>244</td>\n",
       "      <td>244</td>\n",
       "      <td>244</td>\n",
       "      <td>244.000000</td>\n",
       "    </tr>\n",
       "    <tr>\n",
       "      <th>unique</th>\n",
       "      <td>NaN</td>\n",
       "      <td>NaN</td>\n",
       "      <td>2</td>\n",
       "      <td>2</td>\n",
       "      <td>4</td>\n",
       "      <td>2</td>\n",
       "      <td>NaN</td>\n",
       "    </tr>\n",
       "    <tr>\n",
       "      <th>top</th>\n",
       "      <td>NaN</td>\n",
       "      <td>NaN</td>\n",
       "      <td>Male</td>\n",
       "      <td>No</td>\n",
       "      <td>Sat</td>\n",
       "      <td>Dinner</td>\n",
       "      <td>NaN</td>\n",
       "    </tr>\n",
       "    <tr>\n",
       "      <th>freq</th>\n",
       "      <td>NaN</td>\n",
       "      <td>NaN</td>\n",
       "      <td>157</td>\n",
       "      <td>151</td>\n",
       "      <td>87</td>\n",
       "      <td>176</td>\n",
       "      <td>NaN</td>\n",
       "    </tr>\n",
       "    <tr>\n",
       "      <th>mean</th>\n",
       "      <td>19.785943</td>\n",
       "      <td>2.998279</td>\n",
       "      <td>NaN</td>\n",
       "      <td>NaN</td>\n",
       "      <td>NaN</td>\n",
       "      <td>NaN</td>\n",
       "      <td>2.569672</td>\n",
       "    </tr>\n",
       "    <tr>\n",
       "      <th>std</th>\n",
       "      <td>8.902412</td>\n",
       "      <td>1.383638</td>\n",
       "      <td>NaN</td>\n",
       "      <td>NaN</td>\n",
       "      <td>NaN</td>\n",
       "      <td>NaN</td>\n",
       "      <td>0.951100</td>\n",
       "    </tr>\n",
       "    <tr>\n",
       "      <th>min</th>\n",
       "      <td>3.070000</td>\n",
       "      <td>1.000000</td>\n",
       "      <td>NaN</td>\n",
       "      <td>NaN</td>\n",
       "      <td>NaN</td>\n",
       "      <td>NaN</td>\n",
       "      <td>1.000000</td>\n",
       "    </tr>\n",
       "    <tr>\n",
       "      <th>25%</th>\n",
       "      <td>13.347500</td>\n",
       "      <td>2.000000</td>\n",
       "      <td>NaN</td>\n",
       "      <td>NaN</td>\n",
       "      <td>NaN</td>\n",
       "      <td>NaN</td>\n",
       "      <td>2.000000</td>\n",
       "    </tr>\n",
       "    <tr>\n",
       "      <th>50%</th>\n",
       "      <td>17.795000</td>\n",
       "      <td>2.900000</td>\n",
       "      <td>NaN</td>\n",
       "      <td>NaN</td>\n",
       "      <td>NaN</td>\n",
       "      <td>NaN</td>\n",
       "      <td>2.000000</td>\n",
       "    </tr>\n",
       "    <tr>\n",
       "      <th>75%</th>\n",
       "      <td>24.127500</td>\n",
       "      <td>3.562500</td>\n",
       "      <td>NaN</td>\n",
       "      <td>NaN</td>\n",
       "      <td>NaN</td>\n",
       "      <td>NaN</td>\n",
       "      <td>3.000000</td>\n",
       "    </tr>\n",
       "    <tr>\n",
       "      <th>max</th>\n",
       "      <td>50.810000</td>\n",
       "      <td>10.000000</td>\n",
       "      <td>NaN</td>\n",
       "      <td>NaN</td>\n",
       "      <td>NaN</td>\n",
       "      <td>NaN</td>\n",
       "      <td>6.000000</td>\n",
       "    </tr>\n",
       "  </tbody>\n",
       "</table>\n",
       "</div>"
      ],
      "text/plain": [
       "        total_bill         tip   sex smoker  day    time        size\n",
       "count   244.000000  244.000000   244    244  244     244  244.000000\n",
       "unique         NaN         NaN     2      2    4       2         NaN\n",
       "top            NaN         NaN  Male     No  Sat  Dinner         NaN\n",
       "freq           NaN         NaN   157    151   87     176         NaN\n",
       "mean     19.785943    2.998279   NaN    NaN  NaN     NaN    2.569672\n",
       "std       8.902412    1.383638   NaN    NaN  NaN     NaN    0.951100\n",
       "min       3.070000    1.000000   NaN    NaN  NaN     NaN    1.000000\n",
       "25%      13.347500    2.000000   NaN    NaN  NaN     NaN    2.000000\n",
       "50%      17.795000    2.900000   NaN    NaN  NaN     NaN    2.000000\n",
       "75%      24.127500    3.562500   NaN    NaN  NaN     NaN    3.000000\n",
       "max      50.810000   10.000000   NaN    NaN  NaN     NaN    6.000000"
      ]
     },
     "execution_count": 162,
     "metadata": {},
     "output_type": "execute_result"
    }
   ],
   "source": [
    "desc = df_tip.describe(include='all')\n",
    "desc"
   ]
  },
  {
   "cell_type": "code",
   "execution_count": 176,
   "id": "32ff4fd3-97ab-48f8-a6e7-f307fcedbb6e",
   "metadata": {},
   "outputs": [
    {
     "data": {
      "text/plain": [
       "8.902411954856856"
      ]
     },
     "execution_count": 176,
     "metadata": {},
     "output_type": "execute_result"
    }
   ],
   "source": [
    "desc['total_bill']['std']"
   ]
  },
  {
   "cell_type": "code",
   "execution_count": 184,
   "id": "eb00b19e-9aa7-471c-a478-939a6c3d13d4",
   "metadata": {},
   "outputs": [
    {
     "data": {
      "text/plain": [
       "13.3475"
      ]
     },
     "execution_count": 184,
     "metadata": {},
     "output_type": "execute_result"
    }
   ],
   "source": [
    "q1 = desc['total_bill']['25%']\n",
    "q1"
   ]
  },
  {
   "cell_type": "code",
   "execution_count": 188,
   "id": "02757b1f-17b1-4955-9408-ee909f3b32f4",
   "metadata": {},
   "outputs": [
    {
     "data": {
      "text/plain": [
       "13.3475"
      ]
     },
     "execution_count": 188,
     "metadata": {},
     "output_type": "execute_result"
    }
   ],
   "source": [
    "q3 = desc['total_bill']['75%']\n",
    "q1"
   ]
  },
  {
   "cell_type": "markdown",
   "id": "e345c404-4875-4aba-af4b-c2369e6229ac",
   "metadata": {},
   "source": [
    "## 범주형 데이터 "
   ]
  },
  {
   "cell_type": "markdown",
   "id": "9d5ea8cd-599b-43cb-99c2-032f4e25a0cc",
   "metadata": {},
   "source": [
    "### 범주형 데이터의 기술통계 \n",
    "주로 빈도를 계산한다\n",
    "value_counts()"
   ]
  },
  {
   "cell_type": "code",
   "execution_count": 197,
   "id": "f585216b-bd6e-48d5-a9b1-185f98d96cb1",
   "metadata": {},
   "outputs": [
    {
     "data": {
      "text/html": [
       "<div>\n",
       "<style scoped>\n",
       "    .dataframe tbody tr th:only-of-type {\n",
       "        vertical-align: middle;\n",
       "    }\n",
       "\n",
       "    .dataframe tbody tr th {\n",
       "        vertical-align: top;\n",
       "    }\n",
       "\n",
       "    .dataframe thead th {\n",
       "        text-align: right;\n",
       "    }\n",
       "</style>\n",
       "<table border=\"1\" class=\"dataframe\">\n",
       "  <thead>\n",
       "    <tr style=\"text-align: right;\">\n",
       "      <th></th>\n",
       "      <th>total_bill</th>\n",
       "      <th>tip</th>\n",
       "      <th>sex</th>\n",
       "      <th>smoker</th>\n",
       "      <th>day</th>\n",
       "      <th>time</th>\n",
       "      <th>size</th>\n",
       "    </tr>\n",
       "  </thead>\n",
       "  <tbody>\n",
       "    <tr>\n",
       "      <th>0</th>\n",
       "      <td>16.99</td>\n",
       "      <td>1.01</td>\n",
       "      <td>Female</td>\n",
       "      <td>No</td>\n",
       "      <td>Sun</td>\n",
       "      <td>Dinner</td>\n",
       "      <td>2</td>\n",
       "    </tr>\n",
       "    <tr>\n",
       "      <th>1</th>\n",
       "      <td>10.34</td>\n",
       "      <td>1.66</td>\n",
       "      <td>Male</td>\n",
       "      <td>No</td>\n",
       "      <td>Sun</td>\n",
       "      <td>Dinner</td>\n",
       "      <td>3</td>\n",
       "    </tr>\n",
       "    <tr>\n",
       "      <th>2</th>\n",
       "      <td>21.01</td>\n",
       "      <td>3.50</td>\n",
       "      <td>Male</td>\n",
       "      <td>No</td>\n",
       "      <td>Sun</td>\n",
       "      <td>Dinner</td>\n",
       "      <td>3</td>\n",
       "    </tr>\n",
       "    <tr>\n",
       "      <th>3</th>\n",
       "      <td>23.68</td>\n",
       "      <td>3.31</td>\n",
       "      <td>Male</td>\n",
       "      <td>No</td>\n",
       "      <td>Sun</td>\n",
       "      <td>Dinner</td>\n",
       "      <td>2</td>\n",
       "    </tr>\n",
       "    <tr>\n",
       "      <th>4</th>\n",
       "      <td>24.59</td>\n",
       "      <td>3.61</td>\n",
       "      <td>Female</td>\n",
       "      <td>No</td>\n",
       "      <td>Sun</td>\n",
       "      <td>Dinner</td>\n",
       "      <td>4</td>\n",
       "    </tr>\n",
       "  </tbody>\n",
       "</table>\n",
       "</div>"
      ],
      "text/plain": [
       "   total_bill   tip     sex smoker  day    time  size\n",
       "0       16.99  1.01  Female     No  Sun  Dinner     2\n",
       "1       10.34  1.66    Male     No  Sun  Dinner     3\n",
       "2       21.01  3.50    Male     No  Sun  Dinner     3\n",
       "3       23.68  3.31    Male     No  Sun  Dinner     2\n",
       "4       24.59  3.61  Female     No  Sun  Dinner     4"
      ]
     },
     "execution_count": 197,
     "metadata": {},
     "output_type": "execute_result"
    }
   ],
   "source": [
    "df_tip.head()"
   ]
  },
  {
   "cell_type": "code",
   "execution_count": 199,
   "id": "34c8ab77-4aa7-4724-9667-96aac5768347",
   "metadata": {},
   "outputs": [
    {
     "data": {
      "text/plain": [
       "sex\n",
       "Male      157\n",
       "Female     87\n",
       "Name: count, dtype: int64"
      ]
     },
     "execution_count": 199,
     "metadata": {},
     "output_type": "execute_result"
    }
   ],
   "source": [
    "df_tip['sex'].value_counts()"
   ]
  },
  {
   "cell_type": "code",
   "execution_count": 203,
   "id": "a19c6bed-c556-43fe-9548-f4c0c565ca69",
   "metadata": {},
   "outputs": [
    {
     "data": {
      "text/html": [
       "<div>\n",
       "<style scoped>\n",
       "    .dataframe tbody tr th:only-of-type {\n",
       "        vertical-align: middle;\n",
       "    }\n",
       "\n",
       "    .dataframe tbody tr th {\n",
       "        vertical-align: top;\n",
       "    }\n",
       "\n",
       "    .dataframe thead th {\n",
       "        text-align: right;\n",
       "    }\n",
       "</style>\n",
       "<table border=\"1\" class=\"dataframe\">\n",
       "  <thead>\n",
       "    <tr style=\"text-align: right;\">\n",
       "      <th></th>\n",
       "      <th>count</th>\n",
       "    </tr>\n",
       "    <tr>\n",
       "      <th>sex</th>\n",
       "      <th></th>\n",
       "    </tr>\n",
       "  </thead>\n",
       "  <tbody>\n",
       "    <tr>\n",
       "      <th>Male</th>\n",
       "      <td>157</td>\n",
       "    </tr>\n",
       "    <tr>\n",
       "      <th>Female</th>\n",
       "      <td>87</td>\n",
       "    </tr>\n",
       "  </tbody>\n",
       "</table>\n",
       "</div>"
      ],
      "text/plain": [
       "        count\n",
       "sex          \n",
       "Male      157\n",
       "Female     87"
      ]
     },
     "execution_count": 203,
     "metadata": {},
     "output_type": "execute_result"
    }
   ],
   "source": [
    "df_sex = pd.DataFrame(df_tip['sex'].value_counts())\n",
    "df_sex"
   ]
  },
  {
   "cell_type": "markdown",
   "id": "4d8c992f-9df1-42d4-b94a-6d0176580321",
   "metadata": {},
   "source": [
    "sex는 male과 female로 나뉘어져있다.\n",
    "male 1, female 2로 하면 머신러닝 시 비교를 하기 때문에\n",
    "남자는 male 1, female 0\n",
    "여자는 male 0, female 1로 변경한다\n",
    "이러한 방식을 One Hot Encoding이라고 한다 "
   ]
  },
  {
   "cell_type": "code",
   "execution_count": 207,
   "id": "254615f7-70cd-4ebd-9d90-6d8ef36eaadf",
   "metadata": {},
   "outputs": [
    {
     "data": {
      "text/html": [
       "<div>\n",
       "<style scoped>\n",
       "    .dataframe tbody tr th:only-of-type {\n",
       "        vertical-align: middle;\n",
       "    }\n",
       "\n",
       "    .dataframe tbody tr th {\n",
       "        vertical-align: top;\n",
       "    }\n",
       "\n",
       "    .dataframe thead th {\n",
       "        text-align: right;\n",
       "    }\n",
       "</style>\n",
       "<table border=\"1\" class=\"dataframe\">\n",
       "  <thead>\n",
       "    <tr style=\"text-align: right;\">\n",
       "      <th></th>\n",
       "      <th>count</th>\n",
       "    </tr>\n",
       "    <tr>\n",
       "      <th>smoker</th>\n",
       "      <th></th>\n",
       "    </tr>\n",
       "  </thead>\n",
       "  <tbody>\n",
       "    <tr>\n",
       "      <th>No</th>\n",
       "      <td>151</td>\n",
       "    </tr>\n",
       "    <tr>\n",
       "      <th>Yes</th>\n",
       "      <td>93</td>\n",
       "    </tr>\n",
       "  </tbody>\n",
       "</table>\n",
       "</div>"
      ],
      "text/plain": [
       "        count\n",
       "smoker       \n",
       "No        151\n",
       "Yes        93"
      ]
     },
     "execution_count": 207,
     "metadata": {},
     "output_type": "execute_result"
    }
   ],
   "source": [
    "pd.DataFrame(df_tip['smoker'].value_counts())"
   ]
  },
  {
   "cell_type": "code",
   "execution_count": 211,
   "id": "0dfb4865-8080-4ea7-bb8e-2df4ce0d2596",
   "metadata": {},
   "outputs": [
    {
     "data": {
      "text/plain": [
       "['Sun', 'Sat', 'Thur', 'Fri']\n",
       "Categories (4, object): ['Thur', 'Fri', 'Sat', 'Sun']"
      ]
     },
     "execution_count": 211,
     "metadata": {},
     "output_type": "execute_result"
    }
   ],
   "source": [
    "pd.DataFrame(df_tip['day'].value_counts())"
   ]
  },
  {
   "cell_type": "code",
   "execution_count": 213,
   "id": "448e320c-aedf-4585-9acb-49b2b64bb8f3",
   "metadata": {},
   "outputs": [
    {
     "data": {
      "text/html": [
       "<div>\n",
       "<style scoped>\n",
       "    .dataframe tbody tr th:only-of-type {\n",
       "        vertical-align: middle;\n",
       "    }\n",
       "\n",
       "    .dataframe tbody tr th {\n",
       "        vertical-align: top;\n",
       "    }\n",
       "\n",
       "    .dataframe thead th {\n",
       "        text-align: right;\n",
       "    }\n",
       "</style>\n",
       "<table border=\"1\" class=\"dataframe\">\n",
       "  <thead>\n",
       "    <tr style=\"text-align: right;\">\n",
       "      <th></th>\n",
       "      <th>count</th>\n",
       "    </tr>\n",
       "    <tr>\n",
       "      <th>time</th>\n",
       "      <th></th>\n",
       "    </tr>\n",
       "  </thead>\n",
       "  <tbody>\n",
       "    <tr>\n",
       "      <th>Dinner</th>\n",
       "      <td>176</td>\n",
       "    </tr>\n",
       "    <tr>\n",
       "      <th>Lunch</th>\n",
       "      <td>68</td>\n",
       "    </tr>\n",
       "  </tbody>\n",
       "</table>\n",
       "</div>"
      ],
      "text/plain": [
       "        count\n",
       "time         \n",
       "Dinner    176\n",
       "Lunch      68"
      ]
     },
     "execution_count": 213,
     "metadata": {},
     "output_type": "execute_result"
    }
   ],
   "source": [
    "pd.DataFrame(df_tip['time'].value_counts())"
   ]
  },
  {
   "cell_type": "code",
   "execution_count": null,
   "id": "79c8534a-4af7-4f8a-971c-a21b16114596",
   "metadata": {},
   "outputs": [],
   "source": [
    "# 요일별 전체 요금, 팁의 합"
   ]
  },
  {
   "cell_type": "code",
   "execution_count": 219,
   "id": "44795215-7d3e-4ae3-87b5-b82f0d105138",
   "metadata": {},
   "outputs": [
    {
     "data": {
      "text/html": [
       "<div>\n",
       "<style scoped>\n",
       "    .dataframe tbody tr th:only-of-type {\n",
       "        vertical-align: middle;\n",
       "    }\n",
       "\n",
       "    .dataframe tbody tr th {\n",
       "        vertical-align: top;\n",
       "    }\n",
       "\n",
       "    .dataframe thead th {\n",
       "        text-align: right;\n",
       "    }\n",
       "</style>\n",
       "<table border=\"1\" class=\"dataframe\">\n",
       "  <thead>\n",
       "    <tr style=\"text-align: right;\">\n",
       "      <th></th>\n",
       "      <th>total_bill</th>\n",
       "      <th>tip</th>\n",
       "    </tr>\n",
       "    <tr>\n",
       "      <th>day</th>\n",
       "      <th></th>\n",
       "      <th></th>\n",
       "    </tr>\n",
       "  </thead>\n",
       "  <tbody>\n",
       "    <tr>\n",
       "      <th>Thur</th>\n",
       "      <td>1096.33</td>\n",
       "      <td>171.83</td>\n",
       "    </tr>\n",
       "    <tr>\n",
       "      <th>Fri</th>\n",
       "      <td>325.88</td>\n",
       "      <td>51.96</td>\n",
       "    </tr>\n",
       "    <tr>\n",
       "      <th>Sat</th>\n",
       "      <td>1778.40</td>\n",
       "      <td>260.40</td>\n",
       "    </tr>\n",
       "    <tr>\n",
       "      <th>Sun</th>\n",
       "      <td>1627.16</td>\n",
       "      <td>247.39</td>\n",
       "    </tr>\n",
       "  </tbody>\n",
       "</table>\n",
       "</div>"
      ],
      "text/plain": [
       "      total_bill     tip\n",
       "day                     \n",
       "Thur     1096.33  171.83\n",
       "Fri       325.88   51.96\n",
       "Sat      1778.40  260.40\n",
       "Sun      1627.16  247.39"
      ]
     },
     "execution_count": 219,
     "metadata": {},
     "output_type": "execute_result"
    }
   ],
   "source": [
    "df_tip.groupby(by='day', observed=True)[['total_bill', 'tip']].sum()"
   ]
  },
  {
   "cell_type": "code",
   "execution_count": 223,
   "id": "a65e6174-9d10-47f2-8031-6f16e2f2bbc4",
   "metadata": {},
   "outputs": [
    {
     "data": {
      "text/html": [
       "<div>\n",
       "<style scoped>\n",
       "    .dataframe tbody tr th:only-of-type {\n",
       "        vertical-align: middle;\n",
       "    }\n",
       "\n",
       "    .dataframe tbody tr th {\n",
       "        vertical-align: top;\n",
       "    }\n",
       "\n",
       "    .dataframe thead th {\n",
       "        text-align: right;\n",
       "    }\n",
       "</style>\n",
       "<table border=\"1\" class=\"dataframe\">\n",
       "  <thead>\n",
       "    <tr style=\"text-align: right;\">\n",
       "      <th></th>\n",
       "      <th>total_bill</th>\n",
       "      <th>tip</th>\n",
       "    </tr>\n",
       "    <tr>\n",
       "      <th>smoker</th>\n",
       "      <th></th>\n",
       "      <th></th>\n",
       "    </tr>\n",
       "  </thead>\n",
       "  <tbody>\n",
       "    <tr>\n",
       "      <th>Yes</th>\n",
       "      <td>1930.34</td>\n",
       "      <td>279.81</td>\n",
       "    </tr>\n",
       "    <tr>\n",
       "      <th>No</th>\n",
       "      <td>2897.43</td>\n",
       "      <td>451.77</td>\n",
       "    </tr>\n",
       "  </tbody>\n",
       "</table>\n",
       "</div>"
      ],
      "text/plain": [
       "        total_bill     tip\n",
       "smoker                    \n",
       "Yes        1930.34  279.81\n",
       "No         2897.43  451.77"
      ]
     },
     "execution_count": 223,
     "metadata": {},
     "output_type": "execute_result"
    }
   ],
   "source": [
    "# 흡연여부에 따라 전체금액, 팁 합계\n",
    "df_tip.groupby(by='smoker', observed=True)[['total_bill', 'tip']].sum()"
   ]
  },
  {
   "cell_type": "code",
   "execution_count": 225,
   "id": "d4c40456-2864-4fae-b4b4-0bd0aa3217b3",
   "metadata": {},
   "outputs": [
    {
     "data": {
      "text/html": [
       "<div>\n",
       "<style scoped>\n",
       "    .dataframe tbody tr th:only-of-type {\n",
       "        vertical-align: middle;\n",
       "    }\n",
       "\n",
       "    .dataframe tbody tr th {\n",
       "        vertical-align: top;\n",
       "    }\n",
       "\n",
       "    .dataframe thead th {\n",
       "        text-align: right;\n",
       "    }\n",
       "</style>\n",
       "<table border=\"1\" class=\"dataframe\">\n",
       "  <thead>\n",
       "    <tr style=\"text-align: right;\">\n",
       "      <th></th>\n",
       "      <th>total_bill</th>\n",
       "      <th>tip</th>\n",
       "    </tr>\n",
       "    <tr>\n",
       "      <th>sex</th>\n",
       "      <th></th>\n",
       "      <th></th>\n",
       "    </tr>\n",
       "  </thead>\n",
       "  <tbody>\n",
       "    <tr>\n",
       "      <th>Male</th>\n",
       "      <td>3256.82</td>\n",
       "      <td>485.07</td>\n",
       "    </tr>\n",
       "    <tr>\n",
       "      <th>Female</th>\n",
       "      <td>1570.95</td>\n",
       "      <td>246.51</td>\n",
       "    </tr>\n",
       "  </tbody>\n",
       "</table>\n",
       "</div>"
      ],
      "text/plain": [
       "        total_bill     tip\n",
       "sex                       \n",
       "Male       3256.82  485.07\n",
       "Female     1570.95  246.51"
      ]
     },
     "execution_count": 225,
     "metadata": {},
     "output_type": "execute_result"
    }
   ],
   "source": [
    "# 성별에 따라 전체금액, 팁의 합계\n",
    "df_tip.groupby(by='sex', observed=True)[['total_bill', 'tip']].sum()"
   ]
  },
  {
   "cell_type": "code",
   "execution_count": 227,
   "id": "f4afe4b9-60c9-4cfb-9faf-78296aad6b04",
   "metadata": {},
   "outputs": [
    {
     "data": {
      "text/html": [
       "<div>\n",
       "<style scoped>\n",
       "    .dataframe tbody tr th:only-of-type {\n",
       "        vertical-align: middle;\n",
       "    }\n",
       "\n",
       "    .dataframe tbody tr th {\n",
       "        vertical-align: top;\n",
       "    }\n",
       "\n",
       "    .dataframe thead th {\n",
       "        text-align: right;\n",
       "    }\n",
       "</style>\n",
       "<table border=\"1\" class=\"dataframe\">\n",
       "  <thead>\n",
       "    <tr style=\"text-align: right;\">\n",
       "      <th></th>\n",
       "      <th>total_bill</th>\n",
       "      <th>tip</th>\n",
       "      <th>size</th>\n",
       "    </tr>\n",
       "    <tr>\n",
       "      <th>day</th>\n",
       "      <th></th>\n",
       "      <th></th>\n",
       "      <th></th>\n",
       "    </tr>\n",
       "  </thead>\n",
       "  <tbody>\n",
       "    <tr>\n",
       "      <th>Thur</th>\n",
       "      <td>17.682742</td>\n",
       "      <td>2.771452</td>\n",
       "      <td>2.451613</td>\n",
       "    </tr>\n",
       "    <tr>\n",
       "      <th>Fri</th>\n",
       "      <td>17.151579</td>\n",
       "      <td>2.734737</td>\n",
       "      <td>2.105263</td>\n",
       "    </tr>\n",
       "    <tr>\n",
       "      <th>Sat</th>\n",
       "      <td>20.441379</td>\n",
       "      <td>2.993103</td>\n",
       "      <td>2.517241</td>\n",
       "    </tr>\n",
       "    <tr>\n",
       "      <th>Sun</th>\n",
       "      <td>21.410000</td>\n",
       "      <td>3.255132</td>\n",
       "      <td>2.842105</td>\n",
       "    </tr>\n",
       "  </tbody>\n",
       "</table>\n",
       "</div>"
      ],
      "text/plain": [
       "      total_bill       tip      size\n",
       "day                                 \n",
       "Thur   17.682742  2.771452  2.451613\n",
       "Fri    17.151579  2.734737  2.105263\n",
       "Sat    20.441379  2.993103  2.517241\n",
       "Sun    21.410000  3.255132  2.842105"
      ]
     },
     "execution_count": 227,
     "metadata": {},
     "output_type": "execute_result"
    }
   ],
   "source": [
    "# 요일별 전체금액, 팁, 인원수의 평균\n",
    "df_tip.groupby(by='day', observed=True)[['total_bill', 'tip', 'size']].mean()"
   ]
  },
  {
   "cell_type": "markdown",
   "id": "49158b5d-7176-44b6-baa2-d946243c1cb6",
   "metadata": {},
   "source": [
    "## 4. 탐색적데이터 분석 \n",
    "EDA(Exploration Data Analysis)\n",
    "데이터 내의 값 분포, 변수 간의 관계, null, NaN, na 와 같은 결측값(Missing Data) 존재 유무를 파악하는 과정"
   ]
  },
  {
   "cell_type": "code",
   "execution_count": 280,
   "id": "9a3ac7b3-c0d2-41f0-b096-c7749213ee68",
   "metadata": {},
   "outputs": [
    {
     "data": {
      "text/html": [
       "<div>\n",
       "<style scoped>\n",
       "    .dataframe tbody tr th:only-of-type {\n",
       "        vertical-align: middle;\n",
       "    }\n",
       "\n",
       "    .dataframe tbody tr th {\n",
       "        vertical-align: top;\n",
       "    }\n",
       "\n",
       "    .dataframe thead th {\n",
       "        text-align: right;\n",
       "    }\n",
       "</style>\n",
       "<table border=\"1\" class=\"dataframe\">\n",
       "  <thead>\n",
       "    <tr style=\"text-align: right;\">\n",
       "      <th></th>\n",
       "      <th>total_bill</th>\n",
       "      <th>tip</th>\n",
       "      <th>sex</th>\n",
       "      <th>smoker</th>\n",
       "      <th>day</th>\n",
       "      <th>time</th>\n",
       "      <th>size</th>\n",
       "    </tr>\n",
       "  </thead>\n",
       "  <tbody>\n",
       "    <tr>\n",
       "      <th>0</th>\n",
       "      <td>16.99</td>\n",
       "      <td>1.01</td>\n",
       "      <td>Female</td>\n",
       "      <td>No</td>\n",
       "      <td>Sun</td>\n",
       "      <td>Dinner</td>\n",
       "      <td>2</td>\n",
       "    </tr>\n",
       "    <tr>\n",
       "      <th>1</th>\n",
       "      <td>10.34</td>\n",
       "      <td>1.66</td>\n",
       "      <td>Male</td>\n",
       "      <td>No</td>\n",
       "      <td>Sun</td>\n",
       "      <td>Dinner</td>\n",
       "      <td>3</td>\n",
       "    </tr>\n",
       "    <tr>\n",
       "      <th>2</th>\n",
       "      <td>21.01</td>\n",
       "      <td>3.50</td>\n",
       "      <td>Male</td>\n",
       "      <td>No</td>\n",
       "      <td>Sun</td>\n",
       "      <td>Dinner</td>\n",
       "      <td>3</td>\n",
       "    </tr>\n",
       "    <tr>\n",
       "      <th>3</th>\n",
       "      <td>23.68</td>\n",
       "      <td>3.31</td>\n",
       "      <td>Male</td>\n",
       "      <td>No</td>\n",
       "      <td>Sun</td>\n",
       "      <td>Dinner</td>\n",
       "      <td>2</td>\n",
       "    </tr>\n",
       "    <tr>\n",
       "      <th>4</th>\n",
       "      <td>24.59</td>\n",
       "      <td>3.61</td>\n",
       "      <td>Female</td>\n",
       "      <td>No</td>\n",
       "      <td>Sun</td>\n",
       "      <td>Dinner</td>\n",
       "      <td>4</td>\n",
       "    </tr>\n",
       "  </tbody>\n",
       "</table>\n",
       "</div>"
      ],
      "text/plain": [
       "   total_bill   tip     sex smoker  day    time  size\n",
       "0       16.99  1.01  Female     No  Sun  Dinner     2\n",
       "1       10.34  1.66    Male     No  Sun  Dinner     3\n",
       "2       21.01  3.50    Male     No  Sun  Dinner     3\n",
       "3       23.68  3.31    Male     No  Sun  Dinner     2\n",
       "4       24.59  3.61  Female     No  Sun  Dinner     4"
      ]
     },
     "execution_count": 280,
     "metadata": {},
     "output_type": "execute_result"
    }
   ],
   "source": [
    "df_tip.head()"
   ]
  },
  {
   "cell_type": "code",
   "execution_count": 232,
   "id": "1e925770-70df-46ac-b727-f79b914ee65a",
   "metadata": {},
   "outputs": [
    {
     "data": {
      "text/plain": [
       "0    16.99\n",
       "1    10.34\n",
       "2    21.01\n",
       "3    23.68\n",
       "4    24.59\n",
       "Name: total_bill, dtype: float64"
      ]
     },
     "execution_count": 232,
     "metadata": {},
     "output_type": "execute_result"
    }
   ],
   "source": [
    "df_tip['total_bill'].head()"
   ]
  },
  {
   "cell_type": "code",
   "execution_count": 242,
   "id": "46ddb559-06fc-4a02-b5cd-9892eafa0a5c",
   "metadata": {},
   "outputs": [
    {
     "data": {
      "image/png": "[encoded data removed]",
      "text/plain": [
       "<Figure size 640x480 with 1 Axes>"
      ]
     },
     "metadata": {},
     "output_type": "display_data"
    }
   ],
   "source": [
    "df_tip['total_bill'].plot(kind='hist')\n",
    "plt.xlabel('total_bill')\n",
    "plt.ylabel('count')\n",
    "plt.grid()\n",
    "plt.show()"
   ]
  },
  {
   "cell_type": "code",
   "execution_count": 288,
   "id": "351c32d7-c857-46d3-95c0-958888217f27",
   "metadata": {},
   "outputs": [
    {
     "data": {
      "text/plain": [
       "<Figure size 500x500 with 0 Axes>"
      ]
     },
     "metadata": {},
     "output_type": "display_data"
    },
    {
     "data": {
      "image/png": "[encoded data removed]",
      "text/plain": [
       "<Figure size 640x480 with 1 Axes>"
      ]
     },
     "metadata": {},
     "output_type": "display_data"
    }
   ],
   "source": [
    "df_tip.plot(kind='scatter', x='total_bill', y='tip', color='#fa1', alpha=0.7)\n",
    "plt.show()"
   ]
  },
  {
   "cell_type": "code",
   "execution_count": 296,
   "id": "1a013896-0629-4342-98e6-525218336d45",
   "metadata": {},
   "outputs": [
    {
     "data": {
      "text/plain": [
       "<Axes: xlabel='day', ylabel='count'>"
      ]
     },
     "execution_count": 296,
     "metadata": {},
     "output_type": "execute_result"
    },
    {
     "data": {
      "image/png": "[encoded data removed]",
      "text/plain": [
       "<Figure size 500x500 with 1 Axes>"
      ]
     },
     "metadata": {},
     "output_type": "display_data"
    }
   ],
   "source": [
    "plt.figure(figsize=(5, 5))\n",
    "sns.countplot(data=df_tip, x='day', hue='sex', palette=sns.color_palette('Set1', 2))\n"
   ]
  },
  {
   "cell_type": "code",
   "execution_count": 300,
   "id": "09afb79d-7811-497b-b5c5-b3d6617604f5",
   "metadata": {},
   "outputs": [
    {
     "data": {
      "text/plain": [
       "<seaborn.axisgrid.FacetGrid at 0x217a31152e0>"
      ]
     },
     "execution_count": 300,
     "metadata": {},
     "output_type": "execute_result"
    },
    {
     "data": {
      "image/png": "[encoded data removed]",
      "text/plain": [
       "<Figure size 511.111x500 with 1 Axes>"
      ]
     },
     "metadata": {},
     "output_type": "display_data"
    }
   ],
   "source": [
    "sns.catplot(data=df_tip, kind='box', x='day', y='tip')"
   ]
  },
  {
   "cell_type": "code",
   "execution_count": null,
   "id": "7dc99098-a350-4b3c-9436-dedd0ea1dcff",
   "metadata": {},
   "outputs": [],
   "source": [
    "IQR, 1~3분위의 그래프 "
   ]
  },
  {
   "cell_type": "code",
   "execution_count": 302,
   "id": "0646a8d6-6f3a-44d0-b631-656c2c99e549",
   "metadata": {},
   "outputs": [
    {
     "data": {
      "text/plain": [
       "<seaborn.axisgrid.FacetGrid at 0x217a31bf140>"
      ]
     },
     "execution_count": 302,
     "metadata": {},
     "output_type": "execute_result"
    },
    {
     "data": {
      "image/png": "[encoded data removed]",
      "text/plain": [
       "<Figure size 600.25x500 with 1 Axes>"
      ]
     },
     "metadata": {},
     "output_type": "display_data"
    }
   ],
   "source": [
    "sns.catplot(data=df_tip, kind='box', x='day', y='tip', hue='sex')"
   ]
  },
  {
   "cell_type": "markdown",
   "id": "351b10e2-165b-44ea-b14f-bd6bba7ea128",
   "metadata": {},
   "source": [
    "## 4. 데이터 전처리 \n",
    "데이터의 품질을 높이는 작업\n",
    "\n",
    "데이터 분석을 위한 필수과정이며, 분석 결과 오류 방지 및 분석 결과 신뢰도 향상 시킬 수 있는 작업이다.\n",
    "\n",
    "데이터 분석 및 처리에 적합한 형태로 만드는 과정을 일컫는다 \n",
    "\n",
    "### 데이터 생애주기\n",
    "원시데이터 -> 데이터 전처리 -> 원천데이터 -> 검증/레이블링 -> 레이블링 데이터\n",
    "\n",
    "\n",
    "### 데이터 전처리 단계\n",
    "데이터 정제 -> 데이터 통합 -> 데이터 변환 -> 데이터 축소"
   ]
  },
  {
   "cell_type": "code",
   "execution_count": null,
   "id": "552fe113-ecb3-4351-b2ed-0b119a237ab2",
   "metadata": {},
   "outputs": [],
   "source": [
    "### 1. 데이터 정제 \n",
    "없는 데이터는 채우고, 잡음 데이터는 제거, 모순된 데이터는 올바르게 교정\n",
    "NaN, null, na 값의 제거\n",
    "누락값, 불일치, 오류 수정\n",
    "컴퓨터로 처리할 수 없는 데이터 제거\n",
    "날짜나 숫자 등의 형식을 일치 \n",
    "모순데이터(남자의 주민등록 뒷자리가 2로 시작)"
   ]
  },
  {
   "cell_type": "code",
   "execution_count": null,
   "id": "91ff3159-8403-4bde-93c9-80fbc4d02844",
   "metadata": {},
   "outputs": [],
   "source": [
    "### 2. 데이터 통합\n",
    "출처가 다른 상호연관성이 있는 데이터들을 하나로 결합하는 과정 \n",
    "표현단위가 다른 방식에 대한 통일\n",
    "중복된 데이터를 검출 "
   ]
  },
  {
   "cell_type": "code",
   "execution_count": null,
   "id": "f820206b-cbc9-4f92-8ce9-a3026799093b",
   "metadata": {},
   "outputs": [],
   "source": [
    "### 3. 데이터 변환\n",
    "다양한 형식으로 수집된 데이터를 분석에 용이하도록 일관성 있는 데이터 형식으로 변환  \n",
    "정규화(normalization) - 최대-최소 정규화, z-score정규화, 소수 스케일링 \n",
    "평균화(평활화) : 잡음을 제거하기 위해 추세(데이터범위)를 벗어난 값을 변환 \n",
    "속성생성 : 데이터 분포를 대표할 수 있는 컬럼을 생성 "
   ]
  },
  {
   "cell_type": "code",
   "execution_count": null,
   "id": "c39fe950-b6a0-4f5f-9aec-cf4a0434ba2a",
   "metadata": {},
   "outputs": [],
   "source": [
    "### 4. 데이터 축소\n",
    "분석에 필요한 데이터를 축소, 고유한 특성은 손상되지 않도록 분석 효율성을 향상시키는 작업 \n",
    "데이터 압축 : 데이터 인코딩, 데이터 변환을 통해 데이터 포맷을 변경 \n",
    "차원 축소(PCA) : 특정 구간에 분포하는 값으로 스케일 변경 "
   ]
  }
 ],
 "metadata": {
  "kernelspec": {
   "display_name": "Python [conda env:base] *",
   "language": "python",
   "name": "conda-base-py"
  },
  "language_info": {
   "codemirror_mode": {
    "name": "ipython",
    "version": 3
   },
   "file_extension": ".py",
   "mimetype": "text/x-python",
   "name": "python",
   "nbconvert_exporter": "python",
   "pygments_lexer": "ipython3",
   "version": "3.12.7"
  }
 },
 "nbformat": 4,
 "nbformat_minor": 5
}
