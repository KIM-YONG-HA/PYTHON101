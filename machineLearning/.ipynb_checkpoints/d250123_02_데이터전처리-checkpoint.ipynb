{
 "cells": [
  {
   "cell_type": "markdown",
   "id": "5c7e70e4-9a19-4c14-bcb3-7081f8936e6b",
   "metadata": {},
   "source": [
    "## 데이터 전처리 절차 \n",
    "\n",
    "### 데이터 오류 분석\n",
    "\n",
    "결측값, 이상값, 노이즈, 모순데이터, 불균형 데이터 등\n",
    "\n",
    "### 데이터 전처리 대상 \n",
    "\n",
    "모든 데이터 대상, 비정형/반정형 데이터에 집중\n",
    "\n",
    "### 데이터 전처리 방법 결정 \n",
    "\n",
    "삭제, 대체(범주형은 최빈값), 예측값 삽입, 스케일링, 변수 추가 또는 변환 \n",
    "\n",
    "### 데이터 결측값 처리 \n",
    "\n",
    "삭제, 대체, 예측값 삽입, 수작업"
   ]
  },
  {
   "cell_type": "code",
   "execution_count": 44,
   "id": "6a8147d2-1161-477d-9653-94fa13f62bd1",
   "metadata": {},
   "outputs": [],
   "source": [
    "import numpy as np\n",
    "import pandas as pd\n",
    "import seaborn as sns\n",
    "import matplotlib.pyplot as plt\n",
    "from matplotlib import font_manager as fm\n",
    "\n",
    "font_path = 'C:/Users/kj/Desktop/myGit/PYTHON101/pandas/study/data/malgun.ttf'\n",
    "font_prop = fm.FontProperties(fname=font_path)\n",
    "\n",
    "plt.rcParams['font.family'] = font_prop.get_name()\n",
    "plt.rcParams['figure.figsize'] = (4, 4)\n"
   ]
  },
  {
   "cell_type": "markdown",
   "id": "4f51f108-23cc-4848-a922-1af87ab9f414",
   "metadata": {},
   "source": [
    "## 타이타닉 데이터셋 컬럼\n",
    "* survivied: 생존여부 (1: 생존, 0: 사망)\n",
    "* pclass: 좌석 등급 (1등급, 2등급, 3등급)\n",
    "* sex: 성별\n",
    "* age: 나이\n",
    "* sibsp: 형제 + 배우자 수\n",
    "* parch: 부모 + 자녀 수\n",
    "* fare: 좌석 요금\n",
    "* embarked: 탑승 항구 (S, C, Q)\n",
    "* class: pclass와 동일\n",
    "* who: 남자(man), 여자(woman), 아이(child)\n",
    "* adult_male: 성인 남자 여부\n",
    "* deck: 데크 번호 (알파벳 + 숫자 혼용)\n",
    "* embark_town: 탑승 항구 이름\n",
    "* alive: 생존여부 (yes, no)\n",
    "* alone: 혼자 탑승 여부"
   ]
  },
  {
   "cell_type": "code",
   "execution_count": 4,
   "id": "f56c54cc-75da-4a66-bcb1-984dbcac6dcb",
   "metadata": {},
   "outputs": [
    {
     "data": {
      "text/html": [
       "<div>\n",
       "<style scoped>\n",
       "    .dataframe tbody tr th:only-of-type {\n",
       "        vertical-align: middle;\n",
       "    }\n",
       "\n",
       "    .dataframe tbody tr th {\n",
       "        vertical-align: top;\n",
       "    }\n",
       "\n",
       "    .dataframe thead th {\n",
       "        text-align: right;\n",
       "    }\n",
       "</style>\n",
       "<table border=\"1\" class=\"dataframe\">\n",
       "  <thead>\n",
       "    <tr style=\"text-align: right;\">\n",
       "      <th></th>\n",
       "      <th>survived</th>\n",
       "      <th>pclass</th>\n",
       "      <th>sex</th>\n",
       "      <th>age</th>\n",
       "      <th>sibsp</th>\n",
       "      <th>parch</th>\n",
       "      <th>fare</th>\n",
       "      <th>embarked</th>\n",
       "      <th>class</th>\n",
       "      <th>who</th>\n",
       "      <th>adult_male</th>\n",
       "      <th>deck</th>\n",
       "      <th>embark_town</th>\n",
       "      <th>alive</th>\n",
       "      <th>alone</th>\n",
       "    </tr>\n",
       "  </thead>\n",
       "  <tbody>\n",
       "    <tr>\n",
       "      <th>0</th>\n",
       "      <td>0</td>\n",
       "      <td>3</td>\n",
       "      <td>male</td>\n",
       "      <td>22.0</td>\n",
       "      <td>1</td>\n",
       "      <td>0</td>\n",
       "      <td>7.2500</td>\n",
       "      <td>S</td>\n",
       "      <td>Third</td>\n",
       "      <td>man</td>\n",
       "      <td>True</td>\n",
       "      <td>NaN</td>\n",
       "      <td>Southampton</td>\n",
       "      <td>no</td>\n",
       "      <td>False</td>\n",
       "    </tr>\n",
       "    <tr>\n",
       "      <th>1</th>\n",
       "      <td>1</td>\n",
       "      <td>1</td>\n",
       "      <td>female</td>\n",
       "      <td>38.0</td>\n",
       "      <td>1</td>\n",
       "      <td>0</td>\n",
       "      <td>71.2833</td>\n",
       "      <td>C</td>\n",
       "      <td>First</td>\n",
       "      <td>woman</td>\n",
       "      <td>False</td>\n",
       "      <td>C</td>\n",
       "      <td>Cherbourg</td>\n",
       "      <td>yes</td>\n",
       "      <td>False</td>\n",
       "    </tr>\n",
       "    <tr>\n",
       "      <th>2</th>\n",
       "      <td>1</td>\n",
       "      <td>3</td>\n",
       "      <td>female</td>\n",
       "      <td>26.0</td>\n",
       "      <td>0</td>\n",
       "      <td>0</td>\n",
       "      <td>7.9250</td>\n",
       "      <td>S</td>\n",
       "      <td>Third</td>\n",
       "      <td>woman</td>\n",
       "      <td>False</td>\n",
       "      <td>NaN</td>\n",
       "      <td>Southampton</td>\n",
       "      <td>yes</td>\n",
       "      <td>True</td>\n",
       "    </tr>\n",
       "    <tr>\n",
       "      <th>3</th>\n",
       "      <td>1</td>\n",
       "      <td>1</td>\n",
       "      <td>female</td>\n",
       "      <td>35.0</td>\n",
       "      <td>1</td>\n",
       "      <td>0</td>\n",
       "      <td>53.1000</td>\n",
       "      <td>S</td>\n",
       "      <td>First</td>\n",
       "      <td>woman</td>\n",
       "      <td>False</td>\n",
       "      <td>C</td>\n",
       "      <td>Southampton</td>\n",
       "      <td>yes</td>\n",
       "      <td>False</td>\n",
       "    </tr>\n",
       "    <tr>\n",
       "      <th>4</th>\n",
       "      <td>0</td>\n",
       "      <td>3</td>\n",
       "      <td>male</td>\n",
       "      <td>35.0</td>\n",
       "      <td>0</td>\n",
       "      <td>0</td>\n",
       "      <td>8.0500</td>\n",
       "      <td>S</td>\n",
       "      <td>Third</td>\n",
       "      <td>man</td>\n",
       "      <td>True</td>\n",
       "      <td>NaN</td>\n",
       "      <td>Southampton</td>\n",
       "      <td>no</td>\n",
       "      <td>True</td>\n",
       "    </tr>\n",
       "  </tbody>\n",
       "</table>\n",
       "</div>"
      ],
      "text/plain": [
       "   survived  pclass     sex   age  sibsp  parch     fare embarked  class  \\\n",
       "0         0       3    male  22.0      1      0   7.2500        S  Third   \n",
       "1         1       1  female  38.0      1      0  71.2833        C  First   \n",
       "2         1       3  female  26.0      0      0   7.9250        S  Third   \n",
       "3         1       1  female  35.0      1      0  53.1000        S  First   \n",
       "4         0       3    male  35.0      0      0   8.0500        S  Third   \n",
       "\n",
       "     who  adult_male deck  embark_town alive  alone  \n",
       "0    man        True  NaN  Southampton    no  False  \n",
       "1  woman       False    C    Cherbourg   yes  False  \n",
       "2  woman       False  NaN  Southampton   yes   True  \n",
       "3  woman       False    C  Southampton   yes  False  \n",
       "4    man        True  NaN  Southampton    no   True  "
      ]
     },
     "execution_count": 4,
     "metadata": {},
     "output_type": "execute_result"
    }
   ],
   "source": [
    "titanic = sns.load_dataset('titanic')\n",
    "titanic.head()"
   ]
  },
  {
   "cell_type": "code",
   "execution_count": 6,
   "id": "0f560174-96d4-4976-b884-67cd36660060",
   "metadata": {},
   "outputs": [
    {
     "name": "stdout",
     "output_type": "stream",
     "text": [
      "<class 'pandas.core.frame.DataFrame'>\n",
      "RangeIndex: 891 entries, 0 to 890\n",
      "Data columns (total 15 columns):\n",
      " #   Column       Non-Null Count  Dtype   \n",
      "---  ------       --------------  -----   \n",
      " 0   survived     891 non-null    int64   \n",
      " 1   pclass       891 non-null    int64   \n",
      " 2   sex          891 non-null    object  \n",
      " 3   age          714 non-null    float64 \n",
      " 4   sibsp        891 non-null    int64   \n",
      " 5   parch        891 non-null    int64   \n",
      " 6   fare         891 non-null    float64 \n",
      " 7   embarked     889 non-null    object  \n",
      " 8   class        891 non-null    category\n",
      " 9   who          891 non-null    object  \n",
      " 10  adult_male   891 non-null    bool    \n",
      " 11  deck         203 non-null    category\n",
      " 12  embark_town  889 non-null    object  \n",
      " 13  alive        891 non-null    object  \n",
      " 14  alone        891 non-null    bool    \n",
      "dtypes: bool(2), category(2), float64(2), int64(4), object(5)\n",
      "memory usage: 80.7+ KB\n"
     ]
    }
   ],
   "source": [
    "titanic.info()"
   ]
  },
  {
   "cell_type": "markdown",
   "id": "abeee940-a102-4f3f-9d0f-85d38e7fb3e9",
   "metadata": {},
   "source": [
    "## 데이터셋에서 결측값 확인\n",
    "```\n",
    "DataFrame.info()\n",
    "DataFrame.isnull()\n",
    "DataFrame.isnull().sum()\n",
    "```"
   ]
  },
  {
   "cell_type": "code",
   "execution_count": 8,
   "id": "b9bd6169-299f-4f7c-b48b-d02555325672",
   "metadata": {},
   "outputs": [
    {
     "data": {
      "text/plain": [
       "survived         0\n",
       "pclass           0\n",
       "sex              0\n",
       "age            177\n",
       "sibsp            0\n",
       "parch            0\n",
       "fare             0\n",
       "embarked         2\n",
       "class            0\n",
       "who              0\n",
       "adult_male       0\n",
       "deck           688\n",
       "embark_town      2\n",
       "alive            0\n",
       "alone            0\n",
       "dtype: int64"
      ]
     },
     "execution_count": 8,
     "metadata": {},
     "output_type": "execute_result"
    }
   ],
   "source": [
    "titanic.isnull().sum()"
   ]
  },
  {
   "cell_type": "markdown",
   "id": "07f7b74e-4213-4a1d-8db3-df488335f714",
   "metadata": {},
   "source": [
    "## 데이터셋 결측치 삭제 \n",
    "```\n",
    "DataFrame.dropna() : 결측값 있는 모든 행 삭제(default axis=0)\n",
    "titanic['embark_town'].dropna() : 지정한 컬럼명에서 결측값을 삭제하고 출력 \n",
    "titanic.dropna(thresh=int(len(titanic) / 2), axis=1) : 전체 데이터셋에서 50% 이상 결측치를 포함하는 feature(변수, 컬럼, 필드)를 삭제\n",
    "50% 이상의 결측치를 가진 열을 제거\n",
    "```\n"
   ]
  },
  {
   "cell_type": "code",
   "execution_count": 13,
   "id": "cf76d2e2-6b80-41e0-9587-47340f68ecb9",
   "metadata": {},
   "outputs": [],
   "source": [
    "titanic.dropna(thresh=int(len(titanic) / 2), axis=1, inplace=True)"
   ]
  },
  {
   "cell_type": "code",
   "execution_count": 15,
   "id": "34fa9ff4-62c3-4b9b-86c2-3620cbc83485",
   "metadata": {},
   "outputs": [
    {
     "name": "stdout",
     "output_type": "stream",
     "text": [
      "<class 'pandas.core.frame.DataFrame'>\n",
      "RangeIndex: 891 entries, 0 to 890\n",
      "Data columns (total 14 columns):\n",
      " #   Column       Non-Null Count  Dtype   \n",
      "---  ------       --------------  -----   \n",
      " 0   survived     891 non-null    int64   \n",
      " 1   pclass       891 non-null    int64   \n",
      " 2   sex          891 non-null    object  \n",
      " 3   age          714 non-null    float64 \n",
      " 4   sibsp        891 non-null    int64   \n",
      " 5   parch        891 non-null    int64   \n",
      " 6   fare         891 non-null    float64 \n",
      " 7   embarked     889 non-null    object  \n",
      " 8   class        891 non-null    category\n",
      " 9   who          891 non-null    object  \n",
      " 10  adult_male   891 non-null    bool    \n",
      " 11  embark_town  889 non-null    object  \n",
      " 12  alive        891 non-null    object  \n",
      " 13  alone        891 non-null    bool    \n",
      "dtypes: bool(2), category(1), float64(2), int64(4), object(5)\n",
      "memory usage: 79.4+ KB\n"
     ]
    }
   ],
   "source": [
    "titanic.info()"
   ]
  },
  {
   "cell_type": "markdown",
   "id": "ef0ee4cd-22d0-4cf8-a7b2-d8480f2d08a4",
   "metadata": {},
   "source": [
    "## 데이터셋 결측치 대체\n",
    "```\n",
    "DataFrame.fillna() : 누락된 값에 통계 값으로 대체 또는 모든 누락 값을 '0'(str)으로 대체\n",
    "DataFrame.fillna(0) : 모든 결측값을 0(int)로 대체\n",
    "titanic['age'].fillna(0) : age컬럼의 결측값을 0으로 대체\n",
    "titanic['age'].fillna(titanic['age'].mean()) : 결측값을 평균 값으로 대체 \n",
    "```\n",
    "수치데이터 : 평균값\n",
    "범주데이터 : 최빈값\n",
    "0으로 대체하는 방법은 데이터의 편향(bias)가 발생할 가능성이 높다."
   ]
  },
  {
   "cell_type": "code",
   "execution_count": 60,
   "id": "96ef9b24-8c90-4326-85c1-2eae604af3db",
   "metadata": {},
   "outputs": [
    {
     "data": {
      "image/png": "[encoded data removed]",
      "text/plain": [
       "<Figure size 400x400 with 1 Axes>"
      ]
     },
     "metadata": {},
     "output_type": "display_data"
    }
   ],
   "source": [
    "plt.figure(figsize=(4, 4))\n",
    "sns.histplot(titanic['age'], kde=True)\n",
    "plt.title('타이타닉 원본 데이터')\n",
    "plt.grid()\n",
    "plt.show()"
   ]
  },
  {
   "cell_type": "code",
   "execution_count": 62,
   "id": "0eda2f74-f4d5-4ddb-abbb-cb4c757cf548",
   "metadata": {},
   "outputs": [
    {
     "data": {
      "image/png": "[encoded data removed]",
      "text/plain": [
       "<Figure size 400x400 with 1 Axes>"
      ]
     },
     "metadata": {},
     "output_type": "display_data"
    }
   ],
   "source": [
    "# age 열에 결측치를 0(int)로 채웠을 때\n",
    "plt.figure(figsize=(4, 4))\n",
    "sns.histplot(titanic['age'].fillna(0), kde=True)\n",
    "plt.title('결측치 0')\n",
    "plt.grid()\n",
    "plt.show()\n"
   ]
  },
  {
   "cell_type": "code",
   "execution_count": 64,
   "id": "08f89d03-26a9-4990-9856-87f5c87451eb",
   "metadata": {},
   "outputs": [
    {
     "data": {
      "image/png": "[encoded data removed]",
      "text/plain": [
       "<Figure size 400x400 with 1 Axes>"
      ]
     },
     "metadata": {},
     "output_type": "display_data"
    }
   ],
   "source": [
    "# age 열에 결측치를 평균값으로 채웠을 때\n",
    "plt.figure(figsize=(4, 4))\n",
    "sns.histplot(titanic['age'].fillna(titanic['age'].mean()) , kde=True)\n",
    "plt.title('결측치 평균')\n",
    "plt.grid()\n",
    "plt.show()"
   ]
  },
  {
   "cell_type": "code",
   "execution_count": null,
   "id": "2969df9c-a6f3-43ed-b19f-212cb914558a",
   "metadata": {},
   "outputs": [],
   "source": [
    "# age 열에 결측치를 중앙값으로 채웠을 때"
   ]
  },
  {
   "cell_type": "code",
   "execution_count": 74,
   "id": "8c087083-989c-4568-b344-b653d7996c8c",
   "metadata": {},
   "outputs": [
    {
     "data": {
      "image/png": "[encoded data removed]",
      "text/plain": [
       "<Figure size 400x400 with 1 Axes>"
      ]
     },
     "metadata": {},
     "output_type": "display_data"
    }
   ],
   "source": [
    "plt.figure(figsize=(4, 4))\n",
    "sns.histplot(titanic['age'].fillna(titanic['age'].median()), kde=True)\n",
    "plt.title('결측치 중앙값')\n",
    "plt.grid()\n",
    "plt.show()"
   ]
  },
  {
   "cell_type": "code",
   "execution_count": null,
   "id": "4ee504d9-e1bc-4f56-acf4-80d312f452c3",
   "metadata": {},
   "outputs": [],
   "source": [
    "※ 평균값과 중앙값의 차이가 크게 없어 평균값으로 대체"
   ]
  },
  {
   "cell_type": "code",
   "execution_count": 80,
   "id": "e2f6098d-9cf0-42c8-a852-a775c61675ed",
   "metadata": {},
   "outputs": [],
   "source": [
    "titanic.fillna({'age':titanic.age.median()}, inplace=True)"
   ]
  },
  {
   "cell_type": "code",
   "execution_count": 86,
   "id": "4164ae65-8181-485f-8590-be2407c04bff",
   "metadata": {},
   "outputs": [
    {
     "data": {
      "image/png": "[encoded data removed]",
      "text/plain": [
       "<Figure size 400x400 with 1 Axes>"
      ]
     },
     "metadata": {},
     "output_type": "display_data"
    }
   ],
   "source": [
    "#plt.figure(figsize=(4, 4))\n",
    "sns.histplot(titanic['age'], kde=True)\n",
    "plt.grid()\n",
    "plt.show()"
   ]
  },
  {
   "cell_type": "code",
   "execution_count": 88,
   "id": "568651f2-0fd9-4246-83ef-165914044f47",
   "metadata": {},
   "outputs": [
    {
     "name": "stdout",
     "output_type": "stream",
     "text": [
      "<class 'pandas.core.frame.DataFrame'>\n",
      "RangeIndex: 891 entries, 0 to 890\n",
      "Data columns (total 14 columns):\n",
      " #   Column       Non-Null Count  Dtype   \n",
      "---  ------       --------------  -----   \n",
      " 0   survived     891 non-null    int64   \n",
      " 1   pclass       891 non-null    int64   \n",
      " 2   sex          891 non-null    object  \n",
      " 3   age          891 non-null    float64 \n",
      " 4   sibsp        891 non-null    int64   \n",
      " 5   parch        891 non-null    int64   \n",
      " 6   fare         891 non-null    float64 \n",
      " 7   embarked     889 non-null    object  \n",
      " 8   class        891 non-null    category\n",
      " 9   who          891 non-null    object  \n",
      " 10  adult_male   891 non-null    bool    \n",
      " 11  embark_town  889 non-null    object  \n",
      " 12  alive        891 non-null    object  \n",
      " 13  alone        891 non-null    bool    \n",
      "dtypes: bool(2), category(1), float64(2), int64(4), object(5)\n",
      "memory usage: 79.4+ KB\n"
     ]
    }
   ],
   "source": [
    "titanic.info()"
   ]
  },
  {
   "cell_type": "code",
   "execution_count": 106,
   "id": "94b94253-6449-4dfd-9022-28ddf1cc9c66",
   "metadata": {},
   "outputs": [
    {
     "data": {
      "text/plain": [
       "0    S\n",
       "Name: embarked, dtype: object"
      ]
     },
     "execution_count": 106,
     "metadata": {},
     "output_type": "execute_result"
    }
   ],
   "source": [
    "titanic['embarked'].mode()"
   ]
  },
  {
   "cell_type": "code",
   "execution_count": 112,
   "id": "73ec9605-8184-4080-a520-a1dc9dd29f1e",
   "metadata": {},
   "outputs": [],
   "source": [
    "titanic.fillna({'embarked':titanic['embarked'].mode()[0]}, inplace=True)\n",
    "titanic['embark_town'] = titanic['embark_town'].fillna(titanic['embark_town'].mode()[0])"
   ]
  },
  {
   "cell_type": "code",
   "execution_count": 108,
   "id": "64a75fbd-7561-4c7d-91be-90d75e138ba3",
   "metadata": {},
   "outputs": [
    {
     "name": "stdout",
     "output_type": "stream",
     "text": [
      "<class 'pandas.core.frame.DataFrame'>\n",
      "RangeIndex: 891 entries, 0 to 890\n",
      "Data columns (total 14 columns):\n",
      " #   Column       Non-Null Count  Dtype   \n",
      "---  ------       --------------  -----   \n",
      " 0   survived     891 non-null    int64   \n",
      " 1   pclass       891 non-null    int64   \n",
      " 2   sex          891 non-null    object  \n",
      " 3   age          891 non-null    float64 \n",
      " 4   sibsp        891 non-null    int64   \n",
      " 5   parch        891 non-null    int64   \n",
      " 6   fare         891 non-null    float64 \n",
      " 7   embarked     891 non-null    object  \n",
      " 8   class        891 non-null    category\n",
      " 9   who          891 non-null    object  \n",
      " 10  adult_male   891 non-null    bool    \n",
      " 11  embark_town  891 non-null    object  \n",
      " 12  alive        891 non-null    object  \n",
      " 13  alone        891 non-null    bool    \n",
      "dtypes: bool(2), category(1), float64(2), int64(4), object(5)\n",
      "memory usage: 79.4+ KB\n"
     ]
    }
   ],
   "source": [
    "titanic.info()"
   ]
  },
  {
   "cell_type": "code",
   "execution_count": 110,
   "id": "2dc279fb-49c0-4ba6-8d9c-fc382428d991",
   "metadata": {},
   "outputs": [
    {
     "data": {
      "text/plain": [
       "survived       0\n",
       "pclass         0\n",
       "sex            0\n",
       "age            0\n",
       "sibsp          0\n",
       "parch          0\n",
       "fare           0\n",
       "embarked       0\n",
       "class          0\n",
       "who            0\n",
       "adult_male     0\n",
       "embark_town    0\n",
       "alive          0\n",
       "alone          0\n",
       "dtype: int64"
      ]
     },
     "execution_count": 110,
     "metadata": {},
     "output_type": "execute_result"
    }
   ],
   "source": [
    "titanic.isna().sum()"
   ]
  },
  {
   "cell_type": "markdown",
   "id": "d9af7aa9-65d7-4373-a7e0-a1b7f612e6b5",
   "metadata": {},
   "source": [
    "## 데이터 이상값 처리 \n",
    "이상값(Outlier) : 일반적인 다른 값과 멀리 떨어져 있는 값\n",
    "이상값 발생 원인 : 잘못된 수집 및 입력, 고의적인 이상값, 표본 설정 오류 \n",
    "\n",
    "## 이상값 검출 방법 \n",
    "\n",
    "### ESD(Extream Studenized Deviation) \n",
    "\n",
    "평균과 표준편차를 이용하여 이상값의 범위를 한정 \n",
    "\n",
    "```\n",
    "#  평균(m μ), 표준편차(s)라고 할때\n",
    "m - 3s < 정상데이터 < m + 3s\n",
    "```\n",
    "\n",
    "### 사분위수\n",
    "```\n",
    "IQR = Q3 - Q1\n",
    "Q1 - (IQR * 1.5) < 정상데이터 < Q3 + (IQR * 1.5)\n",
    "하한값, 상한값 사이의 정상데이터 \n",
    "```\n",
    "\n",
    "### 기하평균 \n",
    "기하평균 - 2.5s < 정상데이터 < 기하평균 + 2.5s\n",
    "\n",
    "\n"
   ]
  },
  {
   "cell_type": "markdown",
   "id": "1acf94b5-5e7b-4dda-bd15-2f359457304f",
   "metadata": {},
   "source": [
    "## 데이터 이상값 시각화\n",
    "* 히스토그램, 밀도차트 : 평균, 중앙값으로 부터 먼 값\n",
    "* 박스플롯 : 수염 밖으로 이상값이 표시됨\n",
    "* 산포도 : 다른 값하고 멀리 떨어져 있는 값, scatter가 대표적 "
   ]
  },
  {
   "cell_type": "markdown",
   "id": "55a74fd7-628b-478a-a0da-d778d1d2cf50",
   "metadata": {},
   "source": [
    "## 분석 기법을 이용한 이상값 확인 \n",
    "비지도학습의 군집 기법\n",
    "마할라노비스 거리 : 데이터 분산을 고려한 거리나 다변량\n",
    "iForeset(Isolation forest) : Decision Tree(의사결정 트리, 일반적으로 이진트리이용), 분할횟수로 이상값 검출 \n"
   ]
  },
  {
   "cell_type": "markdown",
   "id": "0de44f0c-a0fc-457e-8ea8-518031fdf4eb",
   "metadata": {},
   "source": [
    "## 이상값 처리 방법\n",
    "* 삭제\n",
    "* 대체 : 통계값(평균, 중앙, 최빈값 등)\n",
    "* 회귀값 : 회귀모델(결과가 어떤 값)의 결과 값으로 대체 \n",
    "* 구간화 : 정렬된 데이터를 여러 개의 구간으로 배분한 후 구간의 대표값으로 대체\n",
    "* 군집화 : 비슷한 성격을 가진 크럴스터 단위로 묶은 다음 처리 \n",
    "* 변환 : 오른쪽 꼬리가 긴 경우 로그, 제곱근 변환하여 큰 값을 작게 만들고 왼쪽 꼬리가 긴 경우는 지수 변환 제곱변환하여 값을 크게 한다 "
   ]
  },
  {
   "cell_type": "code",
   "execution_count": null,
   "id": "b2df516d-977c-4a89-b0be-a3137d0eaf34",
   "metadata": {},
   "outputs": [],
   "source": []
  },
  {
   "cell_type": "code",
   "execution_count": null,
   "id": "0481f75d-5c11-47aa-81aa-1c162c7fb449",
   "metadata": {},
   "outputs": [],
   "source": [
    "## 기하평균"
   ]
  },
  {
   "cell_type": "code",
   "execution_count": null,
   "id": "d4254c20-cc96-4423-9381-002f94d93bea",
   "metadata": {},
   "outputs": [],
   "source": [
    "def geometric_mean(x):\n",
    "    pass "
   ]
  },
  {
   "cell_type": "code",
   "execution_count": null,
   "id": "b4d32fba-ed0e-4eb6-a45f-73b3fcd11f09",
   "metadata": {},
   "outputs": [],
   "source": [
    "## 조화평균"
   ]
  },
  {
   "cell_type": "code",
   "execution_count": null,
   "id": "88459902-5643-49ff-ac88-24048593a4ad",
   "metadata": {},
   "outputs": [],
   "source": [
    "def harmonic_mean(x):\n",
    "    pass "
   ]
  },
  {
   "cell_type": "code",
   "execution_count": null,
   "id": "3c3247c7-607c-42a0-bb9c-5eee0426dfaf",
   "metadata": {},
   "outputs": [],
   "source": [
    "from statistics import harmonic_mean # 3.5 이상 사용 가능 \n"
   ]
  },
  {
   "cell_type": "code",
   "execution_count": null,
   "id": "115caba7-2468-4833-8121-790a6e81e7ea",
   "metadata": {},
   "outputs": [],
   "source": [
    "## log"
   ]
  },
  {
   "cell_type": "code",
   "execution_count": 139,
   "id": "cc7693b8-b82b-4e32-8d93-6c4375118f42",
   "metadata": {},
   "outputs": [
    {
     "name": "stdout",
     "output_type": "stream",
     "text": [
      "[0.         2.30258509 4.60517019]\n",
      "[0. 1. 2.]\n",
      "[0.         3.32192809 6.64385619]\n"
     ]
    }
   ],
   "source": [
    "data = [1, 10, 100]\n",
    "\n",
    "#  자연로그(밑e)\n",
    "a = np.log(data)\n",
    "\n",
    "#  상용로그\n",
    "b = np.log10(data)\n",
    "\n",
    "#  밑 2인 로그\n",
    "c = np.log2(data)\n",
    "\n",
    "print(a)\n",
    "print(b)\n",
    "print(c)"
   ]
  },
  {
   "cell_type": "markdown",
   "id": "c69563b8-9b73-4014-a0ff-be843cdf723c",
   "metadata": {},
   "source": [
    "## 데이터 이상값 영향도 \n",
    "\n",
    "### 이상값 영향을 많이 받는 것\n",
    "* 평균, 분산, 표준편차 \n",
    "* 앙상블 모델 : boosting\n",
    "* 비지도 : 군집, k-menas\n",
    "\n",
    "### 이상값 영향을 덜 받는 것\n",
    "* 중앙값\n",
    "* 지도 : 분류/회귀 -> KNN\n",
    "* 비지도 : 군집-> DBSCAN\n",
    "\n",
    "### 밀도기반 \n",
    "특정 반경 안에 데이터가 몇 개 있는지 세는 방법"
   ]
  },
  {
   "cell_type": "code",
   "execution_count": 143,
   "id": "94a38b2f-080d-4cc9-8ceb-9c9c8dc6d347",
   "metadata": {},
   "outputs": [
    {
     "name": "stdout",
     "output_type": "stream",
     "text": [
      "평균 :  30.0 60.0\n",
      "중앙 :  30.0 30.0\n"
     ]
    }
   ],
   "source": [
    "\n",
    "## 평균, 중앙값 영향도 \n",
    "data1 = [10,20,30,40,50]\n",
    "data2 = [10,20,30,40,200]\n",
    "\n",
    "a = pd.Series(data1)\n",
    "b = pd.Series(data2)\n",
    "\n",
    "print(\"평균 : \", a.mean(), b.mean())\n",
    "print(\"중앙 : \", a.median(), b.median())\n",
    "\n"
   ]
  },
  {
   "cell_type": "code",
   "execution_count": 145,
   "id": "34e114ea-b05c-43f4-b334-c22917107b85",
   "metadata": {},
   "outputs": [
    {
     "data": {
      "text/html": [
       "<div>\n",
       "<style scoped>\n",
       "    .dataframe tbody tr th:only-of-type {\n",
       "        vertical-align: middle;\n",
       "    }\n",
       "\n",
       "    .dataframe tbody tr th {\n",
       "        vertical-align: top;\n",
       "    }\n",
       "\n",
       "    .dataframe thead th {\n",
       "        text-align: right;\n",
       "    }\n",
       "</style>\n",
       "<table border=\"1\" class=\"dataframe\">\n",
       "  <thead>\n",
       "    <tr style=\"text-align: right;\">\n",
       "      <th></th>\n",
       "      <th>survived</th>\n",
       "      <th>pclass</th>\n",
       "      <th>sex</th>\n",
       "      <th>age</th>\n",
       "      <th>sibsp</th>\n",
       "      <th>parch</th>\n",
       "      <th>fare</th>\n",
       "      <th>embarked</th>\n",
       "      <th>class</th>\n",
       "      <th>who</th>\n",
       "      <th>adult_male</th>\n",
       "      <th>deck</th>\n",
       "      <th>embark_town</th>\n",
       "      <th>alive</th>\n",
       "      <th>alone</th>\n",
       "    </tr>\n",
       "  </thead>\n",
       "  <tbody>\n",
       "    <tr>\n",
       "      <th>0</th>\n",
       "      <td>0</td>\n",
       "      <td>3</td>\n",
       "      <td>male</td>\n",
       "      <td>22.0</td>\n",
       "      <td>1</td>\n",
       "      <td>0</td>\n",
       "      <td>7.2500</td>\n",
       "      <td>S</td>\n",
       "      <td>Third</td>\n",
       "      <td>man</td>\n",
       "      <td>True</td>\n",
       "      <td>NaN</td>\n",
       "      <td>Southampton</td>\n",
       "      <td>no</td>\n",
       "      <td>False</td>\n",
       "    </tr>\n",
       "    <tr>\n",
       "      <th>1</th>\n",
       "      <td>1</td>\n",
       "      <td>1</td>\n",
       "      <td>female</td>\n",
       "      <td>38.0</td>\n",
       "      <td>1</td>\n",
       "      <td>0</td>\n",
       "      <td>71.2833</td>\n",
       "      <td>C</td>\n",
       "      <td>First</td>\n",
       "      <td>woman</td>\n",
       "      <td>False</td>\n",
       "      <td>C</td>\n",
       "      <td>Cherbourg</td>\n",
       "      <td>yes</td>\n",
       "      <td>False</td>\n",
       "    </tr>\n",
       "    <tr>\n",
       "      <th>2</th>\n",
       "      <td>1</td>\n",
       "      <td>3</td>\n",
       "      <td>female</td>\n",
       "      <td>26.0</td>\n",
       "      <td>0</td>\n",
       "      <td>0</td>\n",
       "      <td>7.9250</td>\n",
       "      <td>S</td>\n",
       "      <td>Third</td>\n",
       "      <td>woman</td>\n",
       "      <td>False</td>\n",
       "      <td>NaN</td>\n",
       "      <td>Southampton</td>\n",
       "      <td>yes</td>\n",
       "      <td>True</td>\n",
       "    </tr>\n",
       "    <tr>\n",
       "      <th>3</th>\n",
       "      <td>1</td>\n",
       "      <td>1</td>\n",
       "      <td>female</td>\n",
       "      <td>35.0</td>\n",
       "      <td>1</td>\n",
       "      <td>0</td>\n",
       "      <td>53.1000</td>\n",
       "      <td>S</td>\n",
       "      <td>First</td>\n",
       "      <td>woman</td>\n",
       "      <td>False</td>\n",
       "      <td>C</td>\n",
       "      <td>Southampton</td>\n",
       "      <td>yes</td>\n",
       "      <td>False</td>\n",
       "    </tr>\n",
       "    <tr>\n",
       "      <th>4</th>\n",
       "      <td>0</td>\n",
       "      <td>3</td>\n",
       "      <td>male</td>\n",
       "      <td>35.0</td>\n",
       "      <td>0</td>\n",
       "      <td>0</td>\n",
       "      <td>8.0500</td>\n",
       "      <td>S</td>\n",
       "      <td>Third</td>\n",
       "      <td>man</td>\n",
       "      <td>True</td>\n",
       "      <td>NaN</td>\n",
       "      <td>Southampton</td>\n",
       "      <td>no</td>\n",
       "      <td>True</td>\n",
       "    </tr>\n",
       "  </tbody>\n",
       "</table>\n",
       "</div>"
      ],
      "text/plain": [
       "   survived  pclass     sex   age  sibsp  parch     fare embarked  class  \\\n",
       "0         0       3    male  22.0      1      0   7.2500        S  Third   \n",
       "1         1       1  female  38.0      1      0  71.2833        C  First   \n",
       "2         1       3  female  26.0      0      0   7.9250        S  Third   \n",
       "3         1       1  female  35.0      1      0  53.1000        S  First   \n",
       "4         0       3    male  35.0      0      0   8.0500        S  Third   \n",
       "\n",
       "     who  adult_male deck  embark_town alive  alone  \n",
       "0    man        True  NaN  Southampton    no  False  \n",
       "1  woman       False    C    Cherbourg   yes  False  \n",
       "2  woman       False  NaN  Southampton   yes   True  \n",
       "3  woman       False    C  Southampton   yes  False  \n",
       "4    man        True  NaN  Southampton    no   True  "
      ]
     },
     "execution_count": 145,
     "metadata": {},
     "output_type": "execute_result"
    }
   ],
   "source": [
    "titanic = sns.load_dataset('titanic')\n",
    "titanic.head()"
   ]
  },
  {
   "cell_type": "code",
   "execution_count": 155,
   "id": "8f3a8cad-1865-45c4-ab81-d9c6ca0c98c7",
   "metadata": {},
   "outputs": [
    {
     "data": {
      "text/html": [
       "<div>\n",
       "<style scoped>\n",
       "    .dataframe tbody tr th:only-of-type {\n",
       "        vertical-align: middle;\n",
       "    }\n",
       "\n",
       "    .dataframe tbody tr th {\n",
       "        vertical-align: top;\n",
       "    }\n",
       "\n",
       "    .dataframe thead th {\n",
       "        text-align: right;\n",
       "    }\n",
       "</style>\n",
       "<table border=\"1\" class=\"dataframe\">\n",
       "  <thead>\n",
       "    <tr style=\"text-align: right;\">\n",
       "      <th></th>\n",
       "      <th>survived</th>\n",
       "      <th>pclass</th>\n",
       "      <th>age</th>\n",
       "      <th>sibsp</th>\n",
       "      <th>parch</th>\n",
       "      <th>fare</th>\n",
       "    </tr>\n",
       "  </thead>\n",
       "  <tbody>\n",
       "    <tr>\n",
       "      <th>count</th>\n",
       "      <td>891.000000</td>\n",
       "      <td>891.000000</td>\n",
       "      <td>714.000000</td>\n",
       "      <td>891.000000</td>\n",
       "      <td>891.000000</td>\n",
       "      <td>891.000000</td>\n",
       "    </tr>\n",
       "    <tr>\n",
       "      <th>mean</th>\n",
       "      <td>0.383838</td>\n",
       "      <td>2.308642</td>\n",
       "      <td>29.699118</td>\n",
       "      <td>0.523008</td>\n",
       "      <td>0.381594</td>\n",
       "      <td>32.204208</td>\n",
       "    </tr>\n",
       "    <tr>\n",
       "      <th>std</th>\n",
       "      <td>0.486592</td>\n",
       "      <td>0.836071</td>\n",
       "      <td>14.526497</td>\n",
       "      <td>1.102743</td>\n",
       "      <td>0.806057</td>\n",
       "      <td>49.693429</td>\n",
       "    </tr>\n",
       "    <tr>\n",
       "      <th>min</th>\n",
       "      <td>0.000000</td>\n",
       "      <td>1.000000</td>\n",
       "      <td>0.420000</td>\n",
       "      <td>0.000000</td>\n",
       "      <td>0.000000</td>\n",
       "      <td>0.000000</td>\n",
       "    </tr>\n",
       "    <tr>\n",
       "      <th>25%</th>\n",
       "      <td>0.000000</td>\n",
       "      <td>2.000000</td>\n",
       "      <td>20.125000</td>\n",
       "      <td>0.000000</td>\n",
       "      <td>0.000000</td>\n",
       "      <td>7.910400</td>\n",
       "    </tr>\n",
       "    <tr>\n",
       "      <th>50%</th>\n",
       "      <td>0.000000</td>\n",
       "      <td>3.000000</td>\n",
       "      <td>28.000000</td>\n",
       "      <td>0.000000</td>\n",
       "      <td>0.000000</td>\n",
       "      <td>14.454200</td>\n",
       "    </tr>\n",
       "    <tr>\n",
       "      <th>75%</th>\n",
       "      <td>1.000000</td>\n",
       "      <td>3.000000</td>\n",
       "      <td>38.000000</td>\n",
       "      <td>1.000000</td>\n",
       "      <td>0.000000</td>\n",
       "      <td>31.000000</td>\n",
       "    </tr>\n",
       "    <tr>\n",
       "      <th>max</th>\n",
       "      <td>1.000000</td>\n",
       "      <td>3.000000</td>\n",
       "      <td>80.000000</td>\n",
       "      <td>8.000000</td>\n",
       "      <td>6.000000</td>\n",
       "      <td>512.329200</td>\n",
       "    </tr>\n",
       "  </tbody>\n",
       "</table>\n",
       "</div>"
      ],
      "text/plain": [
       "         survived      pclass         age       sibsp       parch        fare\n",
       "count  891.000000  891.000000  714.000000  891.000000  891.000000  891.000000\n",
       "mean     0.383838    2.308642   29.699118    0.523008    0.381594   32.204208\n",
       "std      0.486592    0.836071   14.526497    1.102743    0.806057   49.693429\n",
       "min      0.000000    1.000000    0.420000    0.000000    0.000000    0.000000\n",
       "25%      0.000000    2.000000   20.125000    0.000000    0.000000    7.910400\n",
       "50%      0.000000    3.000000   28.000000    0.000000    0.000000   14.454200\n",
       "75%      1.000000    3.000000   38.000000    1.000000    0.000000   31.000000\n",
       "max      1.000000    3.000000   80.000000    8.000000    6.000000  512.329200"
      ]
     },
     "execution_count": 155,
     "metadata": {},
     "output_type": "execute_result"
    }
   ],
   "source": [
    "res = titanic.describe()\n",
    "res"
   ]
  },
  {
   "cell_type": "code",
   "execution_count": 165,
   "id": "9aa60326-f087-44e4-bfb2-2b96ef74b899",
   "metadata": {},
   "outputs": [
    {
     "name": "stdout",
     "output_type": "stream",
     "text": [
      "17.875\n"
     ]
    }
   ],
   "source": [
    "Q3 = res['age']['75%']\n",
    "Q1 = res['age']['25%']\n",
    "IQR = Q3 - Q1\n",
    "print(IQR)"
   ]
  },
  {
   "cell_type": "code",
   "execution_count": 167,
   "id": "15148c94-eadb-4815-a7af-b3f751a5672d",
   "metadata": {},
   "outputs": [
    {
     "data": {
      "text/plain": [
       "64.8125"
      ]
     },
     "execution_count": 167,
     "metadata": {},
     "output_type": "execute_result"
    }
   ],
   "source": [
    "Q3 + (IQR*1.5)"
   ]
  },
  {
   "cell_type": "code",
   "execution_count": null,
   "id": "15bf38b5-977e-4672-98ba-f1cc8b6b849c",
   "metadata": {},
   "outputs": [],
   "source": [
    "# 클래스별로 운임을 histplot"
   ]
  },
  {
   "cell_type": "code",
   "execution_count": 173,
   "id": "efb2b8a6-bd2d-4ba3-b4aa-a50183793f85",
   "metadata": {},
   "outputs": [],
   "source": [
    "first = titanic[titanic['class'] == 'First']['fare']\n",
    "second = titanic[titanic['class'] == 'Second']['fare']\n",
    "third = titanic[titanic['class'] == 'Third']['fare']"
   ]
  },
  {
   "cell_type": "code",
   "execution_count": 237,
   "id": "1ba62720-f8e8-4d4a-b046-261c066adc2d",
   "metadata": {},
   "outputs": [
    {
     "data": {
      "image/png": "[encoded data removed]",
      "text/plain": [
       "<Figure size 300x300 with 1 Axes>"
      ]
     },
     "metadata": {},
     "output_type": "display_data"
    }
   ],
   "source": [
    "plt.figure(figsize=(3, 3))\n",
    "sns.histplot(data=first, kde=True)\n",
    "plt.title('Fisrt Class')\n",
    "plt.grid()\n",
    "plt.show()"
   ]
  },
  {
   "cell_type": "code",
   "execution_count": 189,
   "id": "14b1a482-7a6c-4ab4-ab79-15f043d48176",
   "metadata": {},
   "outputs": [
    {
     "data": {
      "image/png": "[encoded data removed]",
      "text/plain": [
       "<Figure size 300x300 with 1 Axes>"
      ]
     },
     "metadata": {},
     "output_type": "display_data"
    }
   ],
   "source": [
    "plt.figure(figsize=(3, 3))\n",
    "sns.histplot(data=second, kde=True)\n",
    "plt.title('Second Class')\n",
    "plt.grid()\n",
    "plt.show()"
   ]
  },
  {
   "cell_type": "code",
   "execution_count": 191,
   "id": "d743baa9-6307-4cc1-8fb8-8da7de49efed",
   "metadata": {},
   "outputs": [
    {
     "data": {
      "image/png": "[encoded data removed]",
      "text/plain": [
       "<Figure size 300x300 with 1 Axes>"
      ]
     },
     "metadata": {},
     "output_type": "display_data"
    }
   ],
   "source": [
    "plt.figure(figsize=(3, 3))\n",
    "sns.histplot(data=third, kde=True)\n",
    "plt.title('Third Class')\n",
    "plt.grid()\n",
    "plt.show()"
   ]
  },
  {
   "cell_type": "code",
   "execution_count": 241,
   "id": "7679e52f-d4b9-449f-99ce-e8824629f9e6",
   "metadata": {},
   "outputs": [
    {
     "data": {
      "image/png": "[encoded data removed]",
      "text/plain": [
       "<Figure size 1500x500 with 3 Axes>"
      ]
     },
     "metadata": {},
     "output_type": "display_data"
    }
   ],
   "source": [
    "fig, axes = plt.subplots(1, 3, figsize=(15, 5))\n",
    "\n",
    "sns.histplot(data=first, kde=True, ax=axes[0], color='#DC143C')\n",
    "axes[0].set_title('First Class')\n",
    "axes[0].grid()\n",
    "\n",
    "sns.histplot(data=second, kde=True, ax=axes[1], color='#1E90FF')\n",
    "axes[1].set_title('Second Class')\n",
    "axes[1].grid()\n",
    "\n",
    "sns.histplot(data=third, kde=True, ax=axes[2], color='#FF4500')\n",
    "axes[2].set_title('Third Class')\n",
    "axes[2].grid()\n",
    "\n",
    "plt.tight_layout()\n",
    "plt.show()"
   ]
  },
  {
   "cell_type": "code",
   "execution_count": 263,
   "id": "2a562b87-dbc1-484f-808c-547710589327",
   "metadata": {},
   "outputs": [
    {
     "data": {
      "text/plain": [
       "<Axes: xlabel='fare', ylabel='class'>"
      ]
     },
     "execution_count": 263,
     "metadata": {},
     "output_type": "execute_result"
    },
    {
     "data": {
      "image/png": "[encoded data removed]",
      "text/plain": [
       "<Figure size 1000x500 with 1 Axes>"
      ]
     },
     "metadata": {},
     "output_type": "display_data"
    }
   ],
   "source": [
    "plt.figure(figsize=(10,5))\n",
    "sns.boxplot(data=titanic, x='fare', y='class', hue='class', palette='Set2', orient='h')\n"
   ]
  },
  {
   "cell_type": "code",
   "execution_count": 277,
   "id": "ec52e9d6-394d-47f3-b768-19217867c7e6",
   "metadata": {},
   "outputs": [
    {
     "data": {
      "text/plain": [
       "258    512.3292\n",
       "737    512.3292\n",
       "679    512.3292\n",
       "88     263.0000\n",
       "27     263.0000\n",
       "341    263.0000\n",
       "438    263.0000\n",
       "311    262.3750\n",
       "742    262.3750\n",
       "118    247.5208\n",
       "299    247.5208\n",
       "557    227.5250\n",
       "700    227.5250\n",
       "380    227.5250\n",
       "716    227.5250\n",
       "527    221.7792\n",
       "377    211.5000\n",
       "730    211.3375\n",
       "779    211.3375\n",
       "689    211.3375\n",
       "318    164.8667\n",
       "856    164.8667\n",
       "268    153.4625\n",
       "332    153.4625\n",
       "609    153.4625\n",
       "498    151.5500\n",
       "305    151.5500\n",
       "297    151.5500\n",
       "708    151.5500\n",
       "195    146.5208\n",
       "Name: fare, dtype: float64"
      ]
     },
     "execution_count": 277,
     "metadata": {},
     "output_type": "execute_result"
    }
   ],
   "source": [
    "titanic['fare'].sort_values(ascending=False).head(30)"
   ]
  },
  {
   "cell_type": "code",
   "execution_count": 279,
   "id": "7a4bfde2-c4c9-4e2e-89a3-71f6689772ef",
   "metadata": {},
   "outputs": [
    {
     "data": {
      "text/plain": [
       "271    0.0000\n",
       "597    0.0000\n",
       "302    0.0000\n",
       "633    0.0000\n",
       "277    0.0000\n",
       "413    0.0000\n",
       "674    0.0000\n",
       "263    0.0000\n",
       "466    0.0000\n",
       "732    0.0000\n",
       "179    0.0000\n",
       "806    0.0000\n",
       "481    0.0000\n",
       "822    0.0000\n",
       "815    0.0000\n",
       "378    4.0125\n",
       "872    5.0000\n",
       "326    6.2375\n",
       "843    6.4375\n",
       "818    6.4500\n",
       "371    6.4958\n",
       "202    6.4958\n",
       "654    6.7500\n",
       "143    6.7500\n",
       "411    6.8583\n",
       "825    6.9500\n",
       "129    6.9750\n",
       "804    6.9750\n",
       "477    7.0458\n",
       "611    7.0500\n",
       "Name: fare, dtype: float64"
      ]
     },
     "execution_count": 279,
     "metadata": {},
     "output_type": "execute_result"
    }
   ],
   "source": [
    "titanic['fare'].sort_values(ascending=True).head(30)"
   ]
  },
  {
   "cell_type": "code",
   "execution_count": null,
   "id": "d5260001-b502-496d-93ac-9f9bec95fc15",
   "metadata": {},
   "outputs": [],
   "source": [
    "# tips 데이터 셋에서 tip  이상치 탐색"
   ]
  },
  {
   "cell_type": "code",
   "execution_count": 285,
   "id": "48924068-e308-4925-88e5-3354421a70ab",
   "metadata": {},
   "outputs": [
    {
     "data": {
      "text/html": [
       "<div>\n",
       "<style scoped>\n",
       "    .dataframe tbody tr th:only-of-type {\n",
       "        vertical-align: middle;\n",
       "    }\n",
       "\n",
       "    .dataframe tbody tr th {\n",
       "        vertical-align: top;\n",
       "    }\n",
       "\n",
       "    .dataframe thead th {\n",
       "        text-align: right;\n",
       "    }\n",
       "</style>\n",
       "<table border=\"1\" class=\"dataframe\">\n",
       "  <thead>\n",
       "    <tr style=\"text-align: right;\">\n",
       "      <th></th>\n",
       "      <th>total_bill</th>\n",
       "      <th>tip</th>\n",
       "      <th>sex</th>\n",
       "      <th>smoker</th>\n",
       "      <th>day</th>\n",
       "      <th>time</th>\n",
       "      <th>size</th>\n",
       "    </tr>\n",
       "  </thead>\n",
       "  <tbody>\n",
       "    <tr>\n",
       "      <th>0</th>\n",
       "      <td>16.99</td>\n",
       "      <td>1.01</td>\n",
       "      <td>Female</td>\n",
       "      <td>No</td>\n",
       "      <td>Sun</td>\n",
       "      <td>Dinner</td>\n",
       "      <td>2</td>\n",
       "    </tr>\n",
       "    <tr>\n",
       "      <th>1</th>\n",
       "      <td>10.34</td>\n",
       "      <td>1.66</td>\n",
       "      <td>Male</td>\n",
       "      <td>No</td>\n",
       "      <td>Sun</td>\n",
       "      <td>Dinner</td>\n",
       "      <td>3</td>\n",
       "    </tr>\n",
       "    <tr>\n",
       "      <th>2</th>\n",
       "      <td>21.01</td>\n",
       "      <td>3.50</td>\n",
       "      <td>Male</td>\n",
       "      <td>No</td>\n",
       "      <td>Sun</td>\n",
       "      <td>Dinner</td>\n",
       "      <td>3</td>\n",
       "    </tr>\n",
       "    <tr>\n",
       "      <th>3</th>\n",
       "      <td>23.68</td>\n",
       "      <td>3.31</td>\n",
       "      <td>Male</td>\n",
       "      <td>No</td>\n",
       "      <td>Sun</td>\n",
       "      <td>Dinner</td>\n",
       "      <td>2</td>\n",
       "    </tr>\n",
       "    <tr>\n",
       "      <th>4</th>\n",
       "      <td>24.59</td>\n",
       "      <td>3.61</td>\n",
       "      <td>Female</td>\n",
       "      <td>No</td>\n",
       "      <td>Sun</td>\n",
       "      <td>Dinner</td>\n",
       "      <td>4</td>\n",
       "    </tr>\n",
       "  </tbody>\n",
       "</table>\n",
       "</div>"
      ],
      "text/plain": [
       "   total_bill   tip     sex smoker  day    time  size\n",
       "0       16.99  1.01  Female     No  Sun  Dinner     2\n",
       "1       10.34  1.66    Male     No  Sun  Dinner     3\n",
       "2       21.01  3.50    Male     No  Sun  Dinner     3\n",
       "3       23.68  3.31    Male     No  Sun  Dinner     2\n",
       "4       24.59  3.61  Female     No  Sun  Dinner     4"
      ]
     },
     "execution_count": 285,
     "metadata": {},
     "output_type": "execute_result"
    }
   ],
   "source": [
    "df_tips = sns.load_dataset('tips')\n",
    "df_tips.head()"
   ]
  },
  {
   "cell_type": "code",
   "execution_count": 317,
   "id": "eb674a53-921b-4b08-a91a-3f388c930034",
   "metadata": {},
   "outputs": [
    {
     "data": {
      "image/png": "[encoded data removed]",
      "text/plain": [
       "<Figure size 500x600 with 1 Axes>"
      ]
     },
     "metadata": {},
     "output_type": "display_data"
    }
   ],
   "source": [
    "plt.figure(figsize=(5, 6))\n",
    "sns.boxplot(data=df_tips['tip'], orient='v')\n",
    "plt.grid()\n",
    "plt.show()"
   ]
  },
  {
   "cell_type": "code",
   "execution_count": 313,
   "id": "4b9aa081-0e13-4a47-abf1-1c4f69361c6d",
   "metadata": {},
   "outputs": [
    {
     "data": {
      "text/plain": [
       "<Axes: >"
      ]
     },
     "execution_count": 313,
     "metadata": {},
     "output_type": "execute_result"
    },
    {
     "data": {
      "image/png": "[encoded data removed]",
      "text/plain": [
       "<Figure size 400x400 with 1 Axes>"
      ]
     },
     "metadata": {},
     "output_type": "display_data"
    }
   ],
   "source": [
    "df_tips['tip'].plot(kind='box')"
   ]
  },
  {
   "cell_type": "code",
   "execution_count": 325,
   "id": "24c1e88f-1dff-4fa2-8c87-1779195f1090",
   "metadata": {},
   "outputs": [
    {
     "data": {
      "image/png": "[encoded data removed]",
      "text/plain": [
       "<Figure size 500x600 with 1 Axes>"
      ]
     },
     "metadata": {},
     "output_type": "display_data"
    }
   ],
   "source": [
    "plt.figure(figsize=(5, 6))\n",
    "sns.boxplot(data=df_tips, x='sex', y='tip', orient='v', hue='sex')\n",
    "plt.grid()\n",
    "plt.show()"
   ]
  },
  {
   "cell_type": "markdown",
   "id": "d6009f5f-b4e7-4963-b7f2-b030d7c1fbe6",
   "metadata": {},
   "source": [
    "## 이상값 처리 \n",
    "평균 m, 표준편차 s\n",
    "ESD : m - 3s < 정상범위 < m + 3s"
   ]
  },
  {
   "cell_type": "code",
   "execution_count": 343,
   "id": "9a8b54e1-4874-41ab-b11d-a2304518df38",
   "metadata": {},
   "outputs": [
    {
     "name": "stdout",
     "output_type": "stream",
     "text": [
      "하한값 :  -1.1526358784789585\n",
      "상한값 :  7.149193255528138\n",
      "-1.15 < 정상값의 범위 <  7.15\n"
     ]
    }
   ],
   "source": [
    "# tips 데이터셋의 tip의 정상값의 범위\n",
    "\n",
    "min_val = df_tips['tip'].mean() - (3 * df_tips['tip'].std())\n",
    "max_val = df_tips['tip'].mean() + (3 * df_tips['tip'].std())\n",
    "\n",
    "print(\"하한값 : \", min_val)\n",
    "print(\"상한값 : \", max_val)\n",
    "print(round(min_val,2), \"< 정상값의 범위 < \" , round(max_val,2))\n"
   ]
  },
  {
   "cell_type": "code",
   "execution_count": 345,
   "id": "966f5ffd-c5dc-4f64-a40d-c6dee21bb925",
   "metadata": {},
   "outputs": [],
   "source": [
    "tip_mean, tip_std = df_tips['tip'].mean(), df_tips['tip'].std()\n",
    "lower = tip_mean - 3 * tip_std\n",
    "upper = tip_mean + 3 * tip_std\n"
   ]
  },
  {
   "cell_type": "markdown",
   "id": "23c5747e-7430-4aaa-a87b-8d74a4510019",
   "metadata": {},
   "source": [
    "### 사분위수 \n",
    "IQR = Q3 - Q1\n",
    "Q1 - IQR * 1.5 < < Q3 + IQR * 1.5\n"
   ]
  },
  {
   "cell_type": "code",
   "execution_count": 384,
   "id": "13cf437d-5898-4acd-b7aa-ac0c905be402",
   "metadata": {},
   "outputs": [
    {
     "name": "stdout",
     "output_type": "stream",
     "text": [
      "-0.34375 < 정상 범위 < 5.90625\n"
     ]
    }
   ],
   "source": [
    "tips_desc = df_tips['tip'].describe()\n",
    "# q3 = tips_desc['75%']\n",
    "# q1 = tips_desc['25%']\n",
    "\n",
    "q1, q3 = df_tips['tip'].quantile([0.25, 0.75])\n",
    "\n",
    "upper = q3 + iqr * 1.5\n",
    "iqr = q3 - q1\n",
    "\n",
    "lower = q1 - iqr * 1.5\n",
    "upper = q3 + iqr * 1.5\n",
    "\n",
    "print(f'{lower} < 정상 범위 < {upper}')"
   ]
  },
  {
   "cell_type": "code",
   "execution_count": 408,
   "id": "88201d69-3975-449d-b1ad-1a51eba02ead",
   "metadata": {},
   "outputs": [
    {
     "name": "stdout",
     "output_type": "stream",
     "text": [
      "(244, 7)\n",
      "(235, 7)\n"
     ]
    }
   ],
   "source": [
    "# tips2에 정상범위의 값만 인덱싱 \n",
    "\n",
    "print(df_tips.shape)\n",
    "cond = (df_tips['tip'] > lower) & (df_tips['tip'] < upper)\n",
    "tips2 = df_tips[cond]\n",
    "print(tips2.shape)\n"
   ]
  },
  {
   "cell_type": "markdown",
   "id": "58975d46-b82d-4267-92a1-7558e8c3c7eb",
   "metadata": {},
   "source": [
    "## 이상값 대체 \n",
    "lower보다 작으면 lower\n",
    "upper보다 크면 upper"
   ]
  },
  {
   "cell_type": "code",
   "execution_count": 410,
   "id": "36a72029-9dab-48c7-b5c5-43d2e2b31eb1",
   "metadata": {},
   "outputs": [
    {
     "data": {
      "text/html": [
       "<div>\n",
       "<style scoped>\n",
       "    .dataframe tbody tr th:only-of-type {\n",
       "        vertical-align: middle;\n",
       "    }\n",
       "\n",
       "    .dataframe tbody tr th {\n",
       "        vertical-align: top;\n",
       "    }\n",
       "\n",
       "    .dataframe thead th {\n",
       "        text-align: right;\n",
       "    }\n",
       "</style>\n",
       "<table border=\"1\" class=\"dataframe\">\n",
       "  <thead>\n",
       "    <tr style=\"text-align: right;\">\n",
       "      <th></th>\n",
       "      <th>total_bill</th>\n",
       "      <th>tip</th>\n",
       "      <th>size</th>\n",
       "    </tr>\n",
       "  </thead>\n",
       "  <tbody>\n",
       "    <tr>\n",
       "      <th>count</th>\n",
       "      <td>244.000000</td>\n",
       "      <td>244.000000</td>\n",
       "      <td>244.000000</td>\n",
       "    </tr>\n",
       "    <tr>\n",
       "      <th>mean</th>\n",
       "      <td>19.785943</td>\n",
       "      <td>2.998279</td>\n",
       "      <td>2.569672</td>\n",
       "    </tr>\n",
       "    <tr>\n",
       "      <th>std</th>\n",
       "      <td>8.902412</td>\n",
       "      <td>1.383638</td>\n",
       "      <td>0.951100</td>\n",
       "    </tr>\n",
       "    <tr>\n",
       "      <th>min</th>\n",
       "      <td>3.070000</td>\n",
       "      <td>1.000000</td>\n",
       "      <td>1.000000</td>\n",
       "    </tr>\n",
       "    <tr>\n",
       "      <th>25%</th>\n",
       "      <td>13.347500</td>\n",
       "      <td>2.000000</td>\n",
       "      <td>2.000000</td>\n",
       "    </tr>\n",
       "    <tr>\n",
       "      <th>50%</th>\n",
       "      <td>17.795000</td>\n",
       "      <td>2.900000</td>\n",
       "      <td>2.000000</td>\n",
       "    </tr>\n",
       "    <tr>\n",
       "      <th>75%</th>\n",
       "      <td>24.127500</td>\n",
       "      <td>3.562500</td>\n",
       "      <td>3.000000</td>\n",
       "    </tr>\n",
       "    <tr>\n",
       "      <th>max</th>\n",
       "      <td>50.810000</td>\n",
       "      <td>10.000000</td>\n",
       "      <td>6.000000</td>\n",
       "    </tr>\n",
       "  </tbody>\n",
       "</table>\n",
       "</div>"
      ],
      "text/plain": [
       "       total_bill         tip        size\n",
       "count  244.000000  244.000000  244.000000\n",
       "mean    19.785943    2.998279    2.569672\n",
       "std      8.902412    1.383638    0.951100\n",
       "min      3.070000    1.000000    1.000000\n",
       "25%     13.347500    2.000000    2.000000\n",
       "50%     17.795000    2.900000    2.000000\n",
       "75%     24.127500    3.562500    3.000000\n",
       "max     50.810000   10.000000    6.000000"
      ]
     },
     "execution_count": 410,
     "metadata": {},
     "output_type": "execute_result"
    }
   ],
   "source": [
    "df_tips.describe()"
   ]
  },
  {
   "cell_type": "code",
   "execution_count": 444,
   "id": "8782f5db-1f45-407e-97b9-575ce4e4bd8f",
   "metadata": {},
   "outputs": [],
   "source": [
    "tips3 = df_tips.copy()"
   ]
  },
  {
   "cell_type": "code",
   "execution_count": 432,
   "id": "9646b81a-31e7-441f-9740-b2bb6d8aefc7",
   "metadata": {},
   "outputs": [],
   "source": [
    "cond1 = tips3['tip'] > upper\n",
    "cond2 = tips3['tip'] < lower\n",
    "tips3.loc[cond1, 'tip'] = upper\n",
    "tips3.loc[cond2, 'tip'] = lower"
   ]
  },
  {
   "cell_type": "code",
   "execution_count": 434,
   "id": "4ee41fee-2539-46e3-8d2a-9ed35bc6a1a5",
   "metadata": {},
   "outputs": [
    {
     "data": {
      "text/html": [
       "<div>\n",
       "<style scoped>\n",
       "    .dataframe tbody tr th:only-of-type {\n",
       "        vertical-align: middle;\n",
       "    }\n",
       "\n",
       "    .dataframe tbody tr th {\n",
       "        vertical-align: top;\n",
       "    }\n",
       "\n",
       "    .dataframe thead th {\n",
       "        text-align: right;\n",
       "    }\n",
       "</style>\n",
       "<table border=\"1\" class=\"dataframe\">\n",
       "  <thead>\n",
       "    <tr style=\"text-align: right;\">\n",
       "      <th></th>\n",
       "      <th>total_bill</th>\n",
       "      <th>tip</th>\n",
       "      <th>size</th>\n",
       "    </tr>\n",
       "  </thead>\n",
       "  <tbody>\n",
       "    <tr>\n",
       "      <th>count</th>\n",
       "      <td>244.000000</td>\n",
       "      <td>244.000000</td>\n",
       "      <td>244.000000</td>\n",
       "    </tr>\n",
       "    <tr>\n",
       "      <th>mean</th>\n",
       "      <td>18.635353</td>\n",
       "      <td>2.950026</td>\n",
       "      <td>2.569672</td>\n",
       "    </tr>\n",
       "    <tr>\n",
       "      <th>std</th>\n",
       "      <td>8.402967</td>\n",
       "      <td>1.225609</td>\n",
       "      <td>0.951100</td>\n",
       "    </tr>\n",
       "    <tr>\n",
       "      <th>min</th>\n",
       "      <td>3.070000</td>\n",
       "      <td>1.000000</td>\n",
       "      <td>1.000000</td>\n",
       "    </tr>\n",
       "    <tr>\n",
       "      <th>25%</th>\n",
       "      <td>12.755000</td>\n",
       "      <td>2.000000</td>\n",
       "      <td>2.000000</td>\n",
       "    </tr>\n",
       "    <tr>\n",
       "      <th>50%</th>\n",
       "      <td>17.030000</td>\n",
       "      <td>2.900000</td>\n",
       "      <td>2.000000</td>\n",
       "    </tr>\n",
       "    <tr>\n",
       "      <th>75%</th>\n",
       "      <td>22.775000</td>\n",
       "      <td>3.562500</td>\n",
       "      <td>3.000000</td>\n",
       "    </tr>\n",
       "    <tr>\n",
       "      <th>max</th>\n",
       "      <td>48.170000</td>\n",
       "      <td>5.906250</td>\n",
       "      <td>6.000000</td>\n",
       "    </tr>\n",
       "  </tbody>\n",
       "</table>\n",
       "</div>"
      ],
      "text/plain": [
       "       total_bill         tip        size\n",
       "count  244.000000  244.000000  244.000000\n",
       "mean    18.635353    2.950026    2.569672\n",
       "std      8.402967    1.225609    0.951100\n",
       "min      3.070000    1.000000    1.000000\n",
       "25%     12.755000    2.000000    2.000000\n",
       "50%     17.030000    2.900000    2.000000\n",
       "75%     22.775000    3.562500    3.000000\n",
       "max     48.170000    5.906250    6.000000"
      ]
     },
     "execution_count": 434,
     "metadata": {},
     "output_type": "execute_result"
    }
   ],
   "source": [
    "tips3.describe()"
   ]
  },
  {
   "cell_type": "code",
   "execution_count": 446,
   "id": "4c214c79-37c0-421a-85d5-4ecfad231b3c",
   "metadata": {},
   "outputs": [],
   "source": [
    "def fix_tip(value):\n",
    "    if value > upper:\n",
    "        return upper\n",
    "    elif value < lower:\n",
    "        return lower\n",
    "    return value\n",
    "\n",
    "tips3['tip'] = tips3['tip'].apply(fix_tip)"
   ]
  }
 ],
 "metadata": {
  "kernelspec": {
   "display_name": "Python [conda env:base] *",
   "language": "python",
   "name": "conda-base-py"
  },
  "language_info": {
   "codemirror_mode": {
    "name": "ipython",
    "version": 3
   },
   "file_extension": ".py",
   "mimetype": "text/x-python",
   "name": "python",
   "nbconvert_exporter": "python",
   "pygments_lexer": "ipython3",
   "version": "3.12.7"
  }
 },
 "nbformat": 4,
 "nbformat_minor": 5
}
