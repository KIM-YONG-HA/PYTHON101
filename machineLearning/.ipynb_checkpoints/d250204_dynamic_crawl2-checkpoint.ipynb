{
 "cells": [
  {
   "cell_type": "markdown",
   "id": "4d9948d3-3bb1-4f26-98c4-751b4506fd02",
   "metadata": {},
   "source": [
    "#### selenium 라이브러리\n",
    "- 동적 웹 페이지에서 크롤링하기위해 웹 브라우저를 원격으로 조작하는 기능 제공\n",
    "- 라이브러리 설치와 임포트 필요\n",
    "- 웹 브라우저에 대한 원격 제어를 위해 webdriver 사용"
   ]
  },
  {
   "cell_type": "code",
   "execution_count": 2,
   "id": "64bbaa15-ccdb-454c-acbf-322f24cf225b",
   "metadata": {},
   "outputs": [
    {
     "name": "stdout",
     "output_type": "stream",
     "text": [
      "Collecting selenium\n",
      "  Downloading selenium-4.28.1-py3-none-any.whl.metadata (7.1 kB)\n",
      "Requirement already satisfied: urllib3<3,>=1.26 in c:\\users\\kj\\anaconda3\\lib\\site-packages (from urllib3[socks]<3,>=1.26->selenium) (2.2.3)\n",
      "Collecting trio~=0.17 (from selenium)\n",
      "  Downloading trio-0.28.0-py3-none-any.whl.metadata (8.5 kB)\n",
      "Collecting trio-websocket~=0.9 (from selenium)\n",
      "  Downloading trio_websocket-0.11.1-py3-none-any.whl.metadata (4.7 kB)\n",
      "Requirement already satisfied: certifi>=2021.10.8 in c:\\users\\kj\\anaconda3\\lib\\site-packages (from selenium) (2024.8.30)\n",
      "Requirement already satisfied: typing_extensions~=4.9 in c:\\users\\kj\\anaconda3\\lib\\site-packages (from selenium) (4.11.0)\n",
      "Requirement already satisfied: websocket-client~=1.8 in c:\\users\\kj\\anaconda3\\lib\\site-packages (from selenium) (1.8.0)\n",
      "Collecting attrs>=23.2.0 (from trio~=0.17->selenium)\n",
      "  Downloading attrs-25.1.0-py3-none-any.whl.metadata (10 kB)\n",
      "Requirement already satisfied: sortedcontainers in c:\\users\\kj\\anaconda3\\lib\\site-packages (from trio~=0.17->selenium) (2.4.0)\n",
      "Requirement already satisfied: idna in c:\\users\\kj\\anaconda3\\lib\\site-packages (from trio~=0.17->selenium) (3.7)\n",
      "Collecting outcome (from trio~=0.17->selenium)\n",
      "  Downloading outcome-1.3.0.post0-py2.py3-none-any.whl.metadata (2.6 kB)\n",
      "Requirement already satisfied: sniffio>=1.3.0 in c:\\users\\kj\\anaconda3\\lib\\site-packages (from trio~=0.17->selenium) (1.3.0)\n",
      "Requirement already satisfied: cffi>=1.14 in c:\\users\\kj\\anaconda3\\lib\\site-packages (from trio~=0.17->selenium) (1.17.1)\n",
      "Collecting wsproto>=0.14 (from trio-websocket~=0.9->selenium)\n",
      "  Downloading wsproto-1.2.0-py3-none-any.whl.metadata (5.6 kB)\n",
      "Requirement already satisfied: pysocks!=1.5.7,<2.0,>=1.5.6 in c:\\users\\kj\\anaconda3\\lib\\site-packages (from urllib3[socks]<3,>=1.26->selenium) (1.7.1)\n",
      "Requirement already satisfied: pycparser in c:\\users\\kj\\anaconda3\\lib\\site-packages (from cffi>=1.14->trio~=0.17->selenium) (2.21)\n",
      "Requirement already satisfied: h11<1,>=0.9.0 in c:\\users\\kj\\anaconda3\\lib\\site-packages (from wsproto>=0.14->trio-websocket~=0.9->selenium) (0.14.0)\n",
      "Downloading selenium-4.28.1-py3-none-any.whl (9.5 MB)\n",
      "   ---------------------------------------- 0.0/9.5 MB ? eta -:--:--\n",
      "   - -------------------------------------- 0.3/9.5 MB ? eta -:--:--\n",
      "   --- ------------------------------------ 0.8/9.5 MB 2.0 MB/s eta 0:00:05\n",
      "   ---- ----------------------------------- 1.0/9.5 MB 1.9 MB/s eta 0:00:05\n",
      "   ------ --------------------------------- 1.6/9.5 MB 2.0 MB/s eta 0:00:04\n",
      "   -------- ------------------------------- 2.1/9.5 MB 2.0 MB/s eta 0:00:04\n",
      "   --------- ------------------------------ 2.4/9.5 MB 2.0 MB/s eta 0:00:04\n",
      "   ------------ --------------------------- 2.9/9.5 MB 2.0 MB/s eta 0:00:04\n",
      "   ------------- -------------------------- 3.1/9.5 MB 2.0 MB/s eta 0:00:04\n",
      "   --------------- ------------------------ 3.7/9.5 MB 2.0 MB/s eta 0:00:03\n",
      "   ----------------- ---------------------- 4.2/9.5 MB 2.0 MB/s eta 0:00:03\n",
      "   ------------------ --------------------- 4.5/9.5 MB 2.0 MB/s eta 0:00:03\n",
      "   -------------------- ------------------- 5.0/9.5 MB 2.0 MB/s eta 0:00:03\n",
      "   ----------------------- ---------------- 5.5/9.5 MB 2.0 MB/s eta 0:00:03\n",
      "   ------------------------ --------------- 5.8/9.5 MB 2.0 MB/s eta 0:00:02\n",
      "   -------------------------- ------------- 6.3/9.5 MB 2.0 MB/s eta 0:00:02\n",
      "   ---------------------------- ----------- 6.8/9.5 MB 2.0 MB/s eta 0:00:02\n",
      "   ----------------------------- ---------- 7.1/9.5 MB 2.0 MB/s eta 0:00:02\n",
      "   ------------------------------- -------- 7.6/9.5 MB 2.0 MB/s eta 0:00:01\n",
      "   ---------------------------------- ----- 8.1/9.5 MB 2.0 MB/s eta 0:00:01\n",
      "   ------------------------------------ --- 8.7/9.5 MB 2.0 MB/s eta 0:00:01\n",
      "   ---------------------------------------  9.4/9.5 MB 2.1 MB/s eta 0:00:01\n",
      "   ---------------------------------------- 9.5/9.5 MB 2.1 MB/s eta 0:00:00\n",
      "Downloading trio-0.28.0-py3-none-any.whl (486 kB)\n",
      "Downloading trio_websocket-0.11.1-py3-none-any.whl (17 kB)\n",
      "Downloading attrs-25.1.0-py3-none-any.whl (63 kB)\n",
      "Downloading wsproto-1.2.0-py3-none-any.whl (24 kB)\n",
      "Downloading outcome-1.3.0.post0-py2.py3-none-any.whl (10 kB)\n",
      "Installing collected packages: wsproto, attrs, outcome, trio, trio-websocket, selenium\n",
      "  Attempting uninstall: attrs\n",
      "    Found existing installation: attrs 23.1.0\n",
      "    Uninstalling attrs-23.1.0:\n",
      "      Successfully uninstalled attrs-23.1.0\n",
      "Successfully installed attrs-25.1.0 outcome-1.3.0.post0 selenium-4.28.1 trio-0.28.0 trio-websocket-0.11.1 wsproto-1.2.0\n"
     ]
    }
   ],
   "source": [
    "# selenium 설치\n",
    "!pip install selenium"
   ]
  },
  {
   "cell_type": "code",
   "execution_count": 4,
   "id": "f285fac5-19e5-42cb-8021-ca158250fb6a",
   "metadata": {},
   "outputs": [],
   "source": [
    "# webdriver 모듈을 사용하기 위해 임포트\n",
    "from selenium import webdriver"
   ]
  },
  {
   "cell_type": "code",
   "execution_count": 12,
   "id": "ac6060cc-b3f5-465f-a05c-f39b87488923",
   "metadata": {},
   "outputs": [],
   "source": [
    "# webdriver 중에서 크롬 브라우저를 제어하기 위해 크롬 webdriver 객체 생성\n",
    "wd = webdriver.Chrome()\n",
    "wd.get('http://www.coffeebeankorea.com')"
   ]
  },
  {
   "cell_type": "code",
   "execution_count": 5,
   "id": "22d82496-41c4-4082-b083-23643b88c8f5",
   "metadata": {},
   "outputs": [],
   "source": [
    "# 크롬 웹 브라우저를 제어하는 자동화된 테스트 소프트웨어가 selenium 이다.\n",
    "# selenium이 제어하는 크롬 창에서 웹페이지를 열어 확인해보자.\n",
    "\n"
   ]
  },
  {
   "cell_type": "markdown",
   "id": "b5bcfc92-b170-41a5-9d68-8da29ae44635",
   "metadata": {},
   "source": [
    "- 웹 페이지 분석\n",
    "- 커피빈의 전국 매장 정보를 크롤링 해보자"
   ]
  },
  {
   "cell_type": "markdown",
   "id": "df9e1b94-73ca-4714-a855-0ce7905ac796",
   "metadata": {},
   "source": [
    "##### 매장정보 찾기\n",
    "- 커피빈 홈페이지(www.coffeebeankorea.com)에서 매장 정보가 있는 페이지를 찾는다.\n",
    "- 홈페이지 상단 메뉴 STORE & 서비스 - 매장 찾기 를 선택하면 매장 검색 페이지가 나온다.\n",
    "    - selenium이 제어하는 크롬 창이 아닌 다른 브라우저 창에서 검색한다."
   ]
  },
  {
   "cell_type": "markdown",
   "id": "194fdcf4-707d-4e8a-8947-5fd56fb965cf",
   "metadata": {},
   "source": [
    "##### 자바스크립트 함수 확인하기\n",
    "- 할리스 홈페이지와 달리 검색 페이지 하단에 매장 정보가 없다.\n",
    "- 지역 검색에서 서울을 선택하면 서울에 있는 매장 정보가 보여진다.\n",
    "- 서울을 선택하기 위해 마우스를 올리면 브라우저 창 왼쪽 하단에 javascript:storeLocal2('서울') 이라고 표시됨. 즉, 시/도를 선택하면 자바스트립트의 storeLocal2() 함수가 호출되어 매장 목록이 표시된다.\n",
    "- HTML 소스 확인\n",
    "  - HTML 소스에는 조회된 매장 목록이 없다. 시/도를 선택하면 storeLocal2() 함수를 호출하여 선택한 지역의 매장 목록을 표시하는 동적 웹페이지 구조이기 때문이다. 따라서 selenium/webdriver를 이용해 직접 storeLocal2() 함수를 호출해야 한다.\n",
    "- 버튼에 연결된 자바스크립트 확인\n",
    "  - 서초중앙로점 매장 목록에 자세히보기 버튼에 마우스를 올리면 상태표시줄에 javascript:storePop2('363') 이 표시된다. 그리고 버튼을 클릭하면 매장 상세 정보가 팝업 창으로 열린다.\n",
    "  - 이 페이지는 자세히보기 버튼을 클릭하면 자바스크립트의 storePop2('363') 함수가 호출되어 매장 정보가 팝업 창으로 나타나는 형식"
   ]
  },
  {
   "cell_type": "markdown",
   "id": "6b092308-2e72-4dff-9ad9-69f123e9073f",
   "metadata": {},
   "source": [
    "##### 개발자 도구에서 크롤링에 필요한 정보 확인\n",
    "- 동적 웹페이지는 HTML 소스보기 에서는 내용이 보이지 않는다. 하지만 개발자 도구에서는 동적으로 실행되어 완성된 웹페이지의 HTML 을 확인할 수 있다. 개발자 도구를 열어보자.\n",
    "- 개발자 도구의 Elements 탭을 클릭해서 HTML 소스보기에서 보이지 않던 <ul id='storeListUL'>을 확인할 수 있다.\n",
    "- Source 탭을 클릭하면 store.js 파일에서 storePop2() 함수를 확인할 수 있다. storePop2() 함수의 매개변수 no는 매장번호(storeNo)인 것을 알 수 있다.\n",
    "- Newwork 탭을 클릭하여 전송된 정보를 확인해보자\n",
    "  - 지역 검색에서 서울과 강남구를 클릭하여 요청한 지역 검색 결과를 확인하기 위해 Fetch/XHR 에서 맨 아래 새로 추가된 store_data2.asp?...을 클릭하고 Payload 탭을 클릭하면 storeLocal과 storeLocal2에 서울과 강남구가 설정된 것을 확인할 수 있다.\n",
    "  - 매장 목록에서 자세히보기 버튼을 클릭해 새로운 요청을 수행하여 새로 추가된 store_data2.asp?storeNo=ooo 를 클릭하고 Preview 탭을 클릭하면 응답 데이터를 확인할 수 있다.\n",
    "  - store.asp에서 storePop2(storeNo)를 호출하면 Preview 탭에서 확인한 것과 같은 매장 데이터를 응답으로 받아서 팝업 창에 보여주는 동적 웹페이지 구조를 가지고 있다."
   ]
  },
  {
   "cell_type": "code",
   "execution_count": null,
   "id": "ef5972d3-16ff-42e8-8249-0b5ae4ab2f31",
   "metadata": {},
   "outputs": [],
   "source": []
  },
  {
   "cell_type": "markdown",
   "id": "59254420-df7e-42dc-8b61-ff97bce67616",
   "metadata": {},
   "source": [
    "- 크롤링 작업을 단계적으로 수행해 보자"
   ]
  },
  {
   "cell_type": "code",
   "execution_count": 89,
   "id": "ffc4cbf6-8db7-4b3d-bf96-bcf596f230d5",
   "metadata": {},
   "outputs": [],
   "source": [
    "# selenium 패키지의 webdriver 임포트\n",
    "from selenium import webdriver"
   ]
  },
  {
   "cell_type": "code",
   "execution_count": 90,
   "id": "54acaf25-f532-4d37-a859-d33742bea739",
   "metadata": {},
   "outputs": [],
   "source": [
    "# 크롬 webdriver 객체 생성\n",
    "wd = webdriver.Chrome()"
   ]
  },
  {
   "cell_type": "code",
   "execution_count": 91,
   "id": "986c7329-fee0-48fa-a513-963f72e5108f",
   "metadata": {},
   "outputs": [],
   "source": [
    "# 웹 페이지 연결\n",
    "url = 'https://www.coffeebeankorea.com/store/store.asp'\n",
    "wd.get(url)"
   ]
  },
  {
   "cell_type": "code",
   "execution_count": 92,
   "id": "0559ee92-9abc-445d-9079-496f183c27ad",
   "metadata": {},
   "outputs": [],
   "source": [
    "# 자바스크립트 함수를 호출해 매장 정보 페이지 열기\n",
    "# 매장 정보 페이지를 열기 위해 자바스크립트 함수인 storePop2(363) 을 호출\n",
    "\n",
    "wd.execute_script(\"storePop2(363)\")\n",
    "\n",
    "\n",
    "\n",
    "# 위 작업으로 363번 매장인 서초중앙로점에 대한 정보가 팝업 창으로 표시된다.\n",
    "\n",
    "# 이 상태에서 Ctrl + U를 눌러 HTML 소스코드를 보면 팝업 창에 대한 정보가 보이지 않는다. 팝업 창은 storePop2(363) 함수를\n",
    "# 동적으로 호출하여 받은 응답 데이터로 만든 페이지이므로 정적으로 작성된 HTML 소스만 보여주는 HTML 소스보기 기능으로 확인할 \n",
    "# 수가 없다."
   ]
  },
  {
   "cell_type": "code",
   "execution_count": 93,
   "id": "1784e7b6-fec7-4db3-94da-00bf8c8e808a",
   "metadata": {},
   "outputs": [],
   "source": [
    "# 자바스크립트가 수행된 동적 웹페이지 소스코드 저장\n",
    "html = wd.page_source"
   ]
  },
  {
   "cell_type": "code",
   "execution_count": 153,
   "id": "19c55e32-9e03-48b8-8ceb-8a23896909f4",
   "metadata": {},
   "outputs": [
    {
     "name": "stdout",
     "output_type": "stream",
     "text": [
      "서초중앙로점\n",
      "서울시 서초구 서초중앙로 209, 해성빌딩 1층  \n"
     ]
    }
   ],
   "source": [
    "# BeautifulSoup 객체 생성\n",
    "\n",
    "from bs4 import BeautifulSoup\n",
    "soup = BeautifulSoup(html, \"html.parser\")\n",
    "data = soup.select(\"#matizCoverLayer0Content div.store_txt\")\n",
    "#print(data)\n",
    "\n",
    "\n",
    "\n",
    "# request = urllib.request.Request(url)\n",
    "# response = urllib.request.urlopen(request)\n",
    "\n",
    "# html = response.read().decode('utf-8')\n",
    "# \n",
    "\n",
    "# \n",
    "# data"
   ]
  },
  {
   "cell_type": "code",
   "execution_count": 157,
   "id": "88d6be0b-2784-41d7-9a96-5e0ed66cb245",
   "metadata": {},
   "outputs": [
    {
     "name": "stdout",
     "output_type": "stream",
     "text": [
      "서초중앙로점\n"
     ]
    }
   ],
   "source": [
    "# 매장 이름 추출\n",
    "\n",
    "store_name = soup.select('div.store_txt h2')\n",
    "print(store_name[0].string)\n",
    "\n",
    "\n"
   ]
  },
  {
   "cell_type": "code",
   "execution_count": 173,
   "id": "31407f81-1576-4439-b5e8-d0a310fa7f94",
   "metadata": {},
   "outputs": [
    {
     "name": "stdout",
     "output_type": "stream",
     "text": [
      "서울시 서초구 서초중앙로 209, 해성빌딩 1층  \n",
      "서울시 서초구 서초중앙로 209, 해성빌딩 1층  \n"
     ]
    }
   ],
   "source": [
    "# 매장 주소 추출\n",
    "\n",
    "store_addr = soup.select('#matizCoverLayer0Content > div > div > div.store_txt > table > tbody:nth-child(1) > tr:nth-child(3) > td')\n",
    "print(store_addr[0].get_text())\n",
    "\n",
    "store_addr2 = soup.select('.store_txt > table > tbody > tr > td')\n",
    "print(store_addr2[2].get_text())\n"
   ]
  },
  {
   "cell_type": "code",
   "execution_count": 161,
   "id": "d4c8dcc5-8152-412a-beeb-0e416ea13b61",
   "metadata": {},
   "outputs": [
    {
     "name": "stdout",
     "output_type": "stream",
     "text": [
      "02-537-2992\n"
     ]
    }
   ],
   "source": [
    "# 매장 전화번호 추출\n",
    "store_tel = soup.select('#matizCoverLayer0Content > div > div > div.store_txt > table > tbody:nth-child(1) > tr:nth-child(4) > td')\n",
    "print(store_tel[0].string)"
   ]
  }
 ],
 "metadata": {
  "kernelspec": {
   "display_name": "Python [conda env:base] *",
   "language": "python",
   "name": "conda-base-py"
  },
  "language_info": {
   "codemirror_mode": {
    "name": "ipython",
    "version": 3
   },
   "file_extension": ".py",
   "mimetype": "text/x-python",
   "name": "python",
   "nbconvert_exporter": "python",
   "pygments_lexer": "ipython3",
   "version": "3.12.7"
  }
 },
 "nbformat": 4,
 "nbformat_minor": 5
}
