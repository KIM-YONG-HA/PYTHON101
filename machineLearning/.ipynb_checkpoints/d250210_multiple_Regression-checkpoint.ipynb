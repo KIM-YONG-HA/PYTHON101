{
 "cells": [
  {
   "cell_type": "markdown",
   "id": "e906386b-620f-42bd-b5dd-71f34f0ef069",
   "metadata": {},
   "source": [
    "- 여러 개의 특성(feature)을 사용한 선형 회귀를 다중 회귀(multiple regression)라고 한다.\n",
    "- 1개의 특성을 사용했을 때 선형회귀가 학습하는 것은 직선\n",
    "- 특성이 2개면 선형회귀는 평면을 학습. 즉, 3차원 공간을 형성하고 타깃 = a * 특성1 + b * 특성2 + 절편\n",
    "- 여러 개 특성(길이, 높이, 두께)을 사용. 이 때 길이, 높이, 두께 3개의 특성을 제곱하고 특성끼리 곱해서 또 다른 특성을 만듬 => 특성공학\n",
    "- 특성공학 => 기존의 특성을 사용해 새로운 특성을 뽑아내는 작업 => 사이킷런의 PolynomialFeatures 클래스 사용"
   ]
  },
  {
   "cell_type": "code",
   "execution_count": 4,
   "id": "7e05fdd6-72f6-4477-9c43-84225c6c411b",
   "metadata": {},
   "outputs": [],
   "source": [
    "# 라이브러리 임포트, fish 데이터 읽어오기\n",
    "import numpy as np\n",
    "import pandas as pd\n",
    "import seaborn as seaborn\n",
    "from matplotlib import pyplot as plt"
   ]
  },
  {
   "cell_type": "code",
   "execution_count": 6,
   "id": "fd667c47-38f7-4ff0-a6e0-f3d038453d59",
   "metadata": {},
   "outputs": [],
   "source": [
    "# Fish.csv 파일 읽어오기\n",
    "fish_df = pd.read_csv('data/Fish.csv')"
   ]
  },
  {
   "cell_type": "code",
   "execution_count": 8,
   "id": "02160b27-f190-4e52-826c-ec0b1565b400",
   "metadata": {},
   "outputs": [
    {
     "data": {
      "text/html": [
       "<div>\n",
       "<style scoped>\n",
       "    .dataframe tbody tr th:only-of-type {\n",
       "        vertical-align: middle;\n",
       "    }\n",
       "\n",
       "    .dataframe tbody tr th {\n",
       "        vertical-align: top;\n",
       "    }\n",
       "\n",
       "    .dataframe thead th {\n",
       "        text-align: right;\n",
       "    }\n",
       "</style>\n",
       "<table border=\"1\" class=\"dataframe\">\n",
       "  <thead>\n",
       "    <tr style=\"text-align: right;\">\n",
       "      <th></th>\n",
       "      <th>Species</th>\n",
       "      <th>Weight</th>\n",
       "      <th>Length1</th>\n",
       "      <th>Length2</th>\n",
       "      <th>Length3</th>\n",
       "      <th>Height</th>\n",
       "      <th>Width</th>\n",
       "    </tr>\n",
       "  </thead>\n",
       "  <tbody>\n",
       "    <tr>\n",
       "      <th>0</th>\n",
       "      <td>Bream</td>\n",
       "      <td>242.0</td>\n",
       "      <td>23.2</td>\n",
       "      <td>25.4</td>\n",
       "      <td>30.0</td>\n",
       "      <td>11.5200</td>\n",
       "      <td>4.0200</td>\n",
       "    </tr>\n",
       "    <tr>\n",
       "      <th>1</th>\n",
       "      <td>Bream</td>\n",
       "      <td>290.0</td>\n",
       "      <td>24.0</td>\n",
       "      <td>26.3</td>\n",
       "      <td>31.2</td>\n",
       "      <td>12.4800</td>\n",
       "      <td>4.3056</td>\n",
       "    </tr>\n",
       "    <tr>\n",
       "      <th>2</th>\n",
       "      <td>Bream</td>\n",
       "      <td>340.0</td>\n",
       "      <td>23.9</td>\n",
       "      <td>26.5</td>\n",
       "      <td>31.1</td>\n",
       "      <td>12.3778</td>\n",
       "      <td>4.6961</td>\n",
       "    </tr>\n",
       "    <tr>\n",
       "      <th>3</th>\n",
       "      <td>Bream</td>\n",
       "      <td>363.0</td>\n",
       "      <td>26.3</td>\n",
       "      <td>29.0</td>\n",
       "      <td>33.5</td>\n",
       "      <td>12.7300</td>\n",
       "      <td>4.4555</td>\n",
       "    </tr>\n",
       "    <tr>\n",
       "      <th>4</th>\n",
       "      <td>Bream</td>\n",
       "      <td>430.0</td>\n",
       "      <td>26.5</td>\n",
       "      <td>29.0</td>\n",
       "      <td>34.0</td>\n",
       "      <td>12.4440</td>\n",
       "      <td>5.1340</td>\n",
       "    </tr>\n",
       "  </tbody>\n",
       "</table>\n",
       "</div>"
      ],
      "text/plain": [
       "  Species  Weight  Length1  Length2  Length3   Height   Width\n",
       "0   Bream   242.0     23.2     25.4     30.0  11.5200  4.0200\n",
       "1   Bream   290.0     24.0     26.3     31.2  12.4800  4.3056\n",
       "2   Bream   340.0     23.9     26.5     31.1  12.3778  4.6961\n",
       "3   Bream   363.0     26.3     29.0     33.5  12.7300  4.4555\n",
       "4   Bream   430.0     26.5     29.0     34.0  12.4440  5.1340"
      ]
     },
     "execution_count": 8,
     "metadata": {},
     "output_type": "execute_result"
    }
   ],
   "source": [
    "# Perch 데이터 확인\n",
    "fish_df.head()"
   ]
  },
  {
   "cell_type": "code",
   "execution_count": 52,
   "id": "c9a77b28-3c55-47f5-b787-79e8f7e4035e",
   "metadata": {},
   "outputs": [],
   "source": [
    "# 농어(perch) 무게 => perch_weight\n",
    "# 농어 길이(Length2), 높이(Height), 두께(Width) => perch_full\n",
    "\n",
    "perch_full = np.array(fish_df[fish_df['Species']=='Perch'][['Length2','Height','Width']])\n",
    "perch_weight = np.array(fish_df[fish_df['Species']=='Perch']['Weight'])\n"
   ]
  },
  {
   "cell_type": "code",
   "execution_count": 40,
   "id": "6940d919-d150-401c-9055-a0fffe4c1202",
   "metadata": {},
   "outputs": [],
   "source": [
    "# perch_full과 perch_weight를 훈련세트와 테스트세트로 분리\n",
    "\n",
    "from sklearn.model_selection import train_test_split\n",
    "\n",
    "X_train, X_test, y_train, y_test = train_test_split(perch_full, perch_weight, random_state=42)"
   ]
  },
  {
   "cell_type": "code",
   "execution_count": 54,
   "id": "df0187f6-c61f-4d21-9b8d-5af914992e43",
   "metadata": {},
   "outputs": [
    {
     "name": "stdout",
     "output_type": "stream",
     "text": [
      "(42, 3)\n"
     ]
    }
   ],
   "source": [
    "print(X_train.shape)"
   ]
  },
  {
   "cell_type": "markdown",
   "id": "9c317419-4ae8-4b18-a834-0049a303b448",
   "metadata": {},
   "source": [
    "- 사이킷런의 추정기(estimator) : LinearRegression 같은 모델 클래스 ( fit(), predict(), score() )\n",
    "- 사이킷런의 변환기(transformer) : 특성을 만들거나 전처리하기 위한 클래스 ( fit(), transform(), fit_transform() )\n",
    "- 다중 회귀에 사용할 여러 특성을 만들기 위해 PolynomialFeatures 클래스 사용"
   ]
  },
  {
   "cell_type": "code",
   "execution_count": 71,
   "id": "1d0231fb-9a59-4e9d-92d3-63e71323d9e8",
   "metadata": {},
   "outputs": [
    {
     "name": "stdout",
     "output_type": "stream",
     "text": [
      "[[1. 2. 3. 4. 6. 9.]]\n"
     ]
    }
   ],
   "source": [
    "# PolynomialFeatures 클래스 임포트\n",
    "from sklearn.preprocessing import PolynomialFeatures\n",
    "\n",
    "# PolynomialFeatures 사용 예 => 2개의 특성(특성값 2, 3)으로 이루어진 샘플 하나를 적용\n",
    "poly = PolynomialFeatures()\n",
    "poly.fit([[2, 3]])\n",
    "print(poly.transform([[2, 3]])) #  두 특성을 각각 제곱, 곱, 1x절편\n"
   ]
  },
  {
   "cell_type": "code",
   "execution_count": 75,
   "id": "58d296bf-f1df-4828-8120-1250cfe11e6d",
   "metadata": {},
   "outputs": [
    {
     "name": "stdout",
     "output_type": "stream",
     "text": [
      "[[ 3.  4.  9. 12. 16.]]\n"
     ]
    }
   ],
   "source": [
    "# 특성값 3, 4를 이용해서 PolynomialFeatures 적용\n",
    "poly = PolynomialFeatures(include_bias=False)\n",
    "poly.fit([[3, 4]])\n",
    "print(poly.transform([[3, 4]])) #  두 특성을 각각 제곱, 곱, 1x절편\n"
   ]
  },
  {
   "cell_type": "code",
   "execution_count": 77,
   "id": "ead4ba75-676e-470e-be5d-99bd71a218ea",
   "metadata": {},
   "outputs": [
    {
     "data": {
      "text/plain": [
       "array([[2., 3., 4., 6., 9.]])"
      ]
     },
     "execution_count": 77,
     "metadata": {},
     "output_type": "execute_result"
    }
   ],
   "source": [
    "# PolynomialFeatures의 inclue_bias = False 적용해서 절편에 기울기 삭제, 특성값 (2, 3) 적용\n",
    "poly = PolynomialFeatures(include_bias=False)\n",
    "poly.fit_transform([[2, 3]])"
   ]
  },
  {
   "cell_type": "markdown",
   "id": "99fa9df0-d357-41ed-bb7a-2c3aedf5e61b",
   "metadata": {},
   "source": [
    "- X_train 데이터에 변환기를 적용해 봅시다."
   ]
  },
  {
   "cell_type": "code",
   "execution_count": 89,
   "id": "68115884-5295-447b-b428-b25318da6756",
   "metadata": {},
   "outputs": [
    {
     "name": "stdout",
     "output_type": "stream",
     "text": [
      "(42, 9)\n"
     ]
    }
   ],
   "source": [
    "# X_train 데이터에 변환기를 적용하고 적용된 shape 확인\n",
    "poly = PolynomialFeatures(include_bias=False)\n",
    "poly.fit(X_train)\n",
    "train_poly = poly.transform(X_train)\n",
    "print(train_poly.shape)\n"
   ]
  },
  {
   "cell_type": "code",
   "execution_count": 91,
   "id": "f52db499-cb0a-44f1-b9c2-ba9251ac7708",
   "metadata": {},
   "outputs": [
    {
     "data": {
      "text/plain": [
       "array(['x0', 'x1', 'x2', 'x0^2', 'x0 x1', 'x0 x2', 'x1^2', 'x1 x2',\n",
       "       'x2^2'], dtype=object)"
      ]
     },
     "execution_count": 91,
     "metadata": {},
     "output_type": "execute_result"
    }
   ],
   "source": [
    "# 변환기에 의해 만들어진 9개의 특성이 어떻게 만들어졌는지 확인\n",
    "poly.get_feature_names_out()"
   ]
  },
  {
   "cell_type": "code",
   "execution_count": 95,
   "id": "4d9b7d6c-68ca-4467-90c1-3c13566e29bb",
   "metadata": {},
   "outputs": [],
   "source": [
    "# 테스트세트에도 변환기 적용\n",
    "test_poly = poly.transform(X_test)"
   ]
  },
  {
   "cell_type": "code",
   "execution_count": 99,
   "id": "8e71f3f1-26b6-4fd3-984f-f57800710642",
   "metadata": {},
   "outputs": [
    {
     "data": {
      "text/plain": [
       "(14, 9)"
      ]
     },
     "execution_count": 99,
     "metadata": {},
     "output_type": "execute_result"
    }
   ],
   "source": [
    "test_poly.shape"
   ]
  },
  {
   "cell_type": "markdown",
   "id": "08a15fbe-e786-4906-a3e3-408612e74fd8",
   "metadata": {},
   "source": [
    "- 변환된 특성을 사용하여 다중 회귀 모델 훈련"
   ]
  },
  {
   "cell_type": "markdown",
   "id": "7c048c86-17ef-4d74-af4d-ac13ae7ed208",
   "metadata": {},
   "source": [
    "- 다중 회귀 모델을 훈련하는 것은 선형 회귀 모델을 훈련하는 것과 같다.\n",
    "- 다만, 여러 개의 특성을 사용하여 선형 회귀를 수행하는 것 뿐"
   ]
  },
  {
   "cell_type": "code",
   "execution_count": 101,
   "id": "a233a2ee-4868-4ded-acb0-3321febfddd8",
   "metadata": {},
   "outputs": [
    {
     "data": {
      "text/html": [
       "<style>#sk-container-id-1 {\n",
       "  /* Definition of color scheme common for light and dark mode */\n",
       "  --sklearn-color-text: black;\n",
       "  --sklearn-color-line: gray;\n",
       "  /* Definition of color scheme for unfitted estimators */\n",
       "  --sklearn-color-unfitted-level-0: #fff5e6;\n",
       "  --sklearn-color-unfitted-level-1: #f6e4d2;\n",
       "  --sklearn-color-unfitted-level-2: #ffe0b3;\n",
       "  --sklearn-color-unfitted-level-3: chocolate;\n",
       "  /* Definition of color scheme for fitted estimators */\n",
       "  --sklearn-color-fitted-level-0: #f0f8ff;\n",
       "  --sklearn-color-fitted-level-1: #d4ebff;\n",
       "  --sklearn-color-fitted-level-2: #b3dbfd;\n",
       "  --sklearn-color-fitted-level-3: cornflowerblue;\n",
       "\n",
       "  /* Specific color for light theme */\n",
       "  --sklearn-color-text-on-default-background: var(--sg-text-color, var(--theme-code-foreground, var(--jp-content-font-color1, black)));\n",
       "  --sklearn-color-background: var(--sg-background-color, var(--theme-background, var(--jp-layout-color0, white)));\n",
       "  --sklearn-color-border-box: var(--sg-text-color, var(--theme-code-foreground, var(--jp-content-font-color1, black)));\n",
       "  --sklearn-color-icon: #696969;\n",
       "\n",
       "  @media (prefers-color-scheme: dark) {\n",
       "    /* Redefinition of color scheme for dark theme */\n",
       "    --sklearn-color-text-on-default-background: var(--sg-text-color, var(--theme-code-foreground, var(--jp-content-font-color1, white)));\n",
       "    --sklearn-color-background: var(--sg-background-color, var(--theme-background, var(--jp-layout-color0, #111)));\n",
       "    --sklearn-color-border-box: var(--sg-text-color, var(--theme-code-foreground, var(--jp-content-font-color1, white)));\n",
       "    --sklearn-color-icon: #878787;\n",
       "  }\n",
       "}\n",
       "\n",
       "#sk-container-id-1 {\n",
       "  color: var(--sklearn-color-text);\n",
       "}\n",
       "\n",
       "#sk-container-id-1 pre {\n",
       "  padding: 0;\n",
       "}\n",
       "\n",
       "#sk-container-id-1 input.sk-hidden--visually {\n",
       "  border: 0;\n",
       "  clip: rect(1px 1px 1px 1px);\n",
       "  clip: rect(1px, 1px, 1px, 1px);\n",
       "  height: 1px;\n",
       "  margin: -1px;\n",
       "  overflow: hidden;\n",
       "  padding: 0;\n",
       "  position: absolute;\n",
       "  width: 1px;\n",
       "}\n",
       "\n",
       "#sk-container-id-1 div.sk-dashed-wrapped {\n",
       "  border: 1px dashed var(--sklearn-color-line);\n",
       "  margin: 0 0.4em 0.5em 0.4em;\n",
       "  box-sizing: border-box;\n",
       "  padding-bottom: 0.4em;\n",
       "  background-color: var(--sklearn-color-background);\n",
       "}\n",
       "\n",
       "#sk-container-id-1 div.sk-container {\n",
       "  /* jupyter's `normalize.less` sets `[hidden] { display: none; }`\n",
       "     but bootstrap.min.css set `[hidden] { display: none !important; }`\n",
       "     so we also need the `!important` here to be able to override the\n",
       "     default hidden behavior on the sphinx rendered scikit-learn.org.\n",
       "     See: https://github.com/scikit-learn/scikit-learn/issues/21755 */\n",
       "  display: inline-block !important;\n",
       "  position: relative;\n",
       "}\n",
       "\n",
       "#sk-container-id-1 div.sk-text-repr-fallback {\n",
       "  display: none;\n",
       "}\n",
       "\n",
       "div.sk-parallel-item,\n",
       "div.sk-serial,\n",
       "div.sk-item {\n",
       "  /* draw centered vertical line to link estimators */\n",
       "  background-image: linear-gradient(var(--sklearn-color-text-on-default-background), var(--sklearn-color-text-on-default-background));\n",
       "  background-size: 2px 100%;\n",
       "  background-repeat: no-repeat;\n",
       "  background-position: center center;\n",
       "}\n",
       "\n",
       "/* Parallel-specific style estimator block */\n",
       "\n",
       "#sk-container-id-1 div.sk-parallel-item::after {\n",
       "  content: \"\";\n",
       "  width: 100%;\n",
       "  border-bottom: 2px solid var(--sklearn-color-text-on-default-background);\n",
       "  flex-grow: 1;\n",
       "}\n",
       "\n",
       "#sk-container-id-1 div.sk-parallel {\n",
       "  display: flex;\n",
       "  align-items: stretch;\n",
       "  justify-content: center;\n",
       "  background-color: var(--sklearn-color-background);\n",
       "  position: relative;\n",
       "}\n",
       "\n",
       "#sk-container-id-1 div.sk-parallel-item {\n",
       "  display: flex;\n",
       "  flex-direction: column;\n",
       "}\n",
       "\n",
       "#sk-container-id-1 div.sk-parallel-item:first-child::after {\n",
       "  align-self: flex-end;\n",
       "  width: 50%;\n",
       "}\n",
       "\n",
       "#sk-container-id-1 div.sk-parallel-item:last-child::after {\n",
       "  align-self: flex-start;\n",
       "  width: 50%;\n",
       "}\n",
       "\n",
       "#sk-container-id-1 div.sk-parallel-item:only-child::after {\n",
       "  width: 0;\n",
       "}\n",
       "\n",
       "/* Serial-specific style estimator block */\n",
       "\n",
       "#sk-container-id-1 div.sk-serial {\n",
       "  display: flex;\n",
       "  flex-direction: column;\n",
       "  align-items: center;\n",
       "  background-color: var(--sklearn-color-background);\n",
       "  padding-right: 1em;\n",
       "  padding-left: 1em;\n",
       "}\n",
       "\n",
       "\n",
       "/* Toggleable style: style used for estimator/Pipeline/ColumnTransformer box that is\n",
       "clickable and can be expanded/collapsed.\n",
       "- Pipeline and ColumnTransformer use this feature and define the default style\n",
       "- Estimators will overwrite some part of the style using the `sk-estimator` class\n",
       "*/\n",
       "\n",
       "/* Pipeline and ColumnTransformer style (default) */\n",
       "\n",
       "#sk-container-id-1 div.sk-toggleable {\n",
       "  /* Default theme specific background. It is overwritten whether we have a\n",
       "  specific estimator or a Pipeline/ColumnTransformer */\n",
       "  background-color: var(--sklearn-color-background);\n",
       "}\n",
       "\n",
       "/* Toggleable label */\n",
       "#sk-container-id-1 label.sk-toggleable__label {\n",
       "  cursor: pointer;\n",
       "  display: block;\n",
       "  width: 100%;\n",
       "  margin-bottom: 0;\n",
       "  padding: 0.5em;\n",
       "  box-sizing: border-box;\n",
       "  text-align: center;\n",
       "}\n",
       "\n",
       "#sk-container-id-1 label.sk-toggleable__label-arrow:before {\n",
       "  /* Arrow on the left of the label */\n",
       "  content: \"▸\";\n",
       "  float: left;\n",
       "  margin-right: 0.25em;\n",
       "  color: var(--sklearn-color-icon);\n",
       "}\n",
       "\n",
       "#sk-container-id-1 label.sk-toggleable__label-arrow:hover:before {\n",
       "  color: var(--sklearn-color-text);\n",
       "}\n",
       "\n",
       "/* Toggleable content - dropdown */\n",
       "\n",
       "#sk-container-id-1 div.sk-toggleable__content {\n",
       "  max-height: 0;\n",
       "  max-width: 0;\n",
       "  overflow: hidden;\n",
       "  text-align: left;\n",
       "  /* unfitted */\n",
       "  background-color: var(--sklearn-color-unfitted-level-0);\n",
       "}\n",
       "\n",
       "#sk-container-id-1 div.sk-toggleable__content.fitted {\n",
       "  /* fitted */\n",
       "  background-color: var(--sklearn-color-fitted-level-0);\n",
       "}\n",
       "\n",
       "#sk-container-id-1 div.sk-toggleable__content pre {\n",
       "  margin: 0.2em;\n",
       "  border-radius: 0.25em;\n",
       "  color: var(--sklearn-color-text);\n",
       "  /* unfitted */\n",
       "  background-color: var(--sklearn-color-unfitted-level-0);\n",
       "}\n",
       "\n",
       "#sk-container-id-1 div.sk-toggleable__content.fitted pre {\n",
       "  /* unfitted */\n",
       "  background-color: var(--sklearn-color-fitted-level-0);\n",
       "}\n",
       "\n",
       "#sk-container-id-1 input.sk-toggleable__control:checked~div.sk-toggleable__content {\n",
       "  /* Expand drop-down */\n",
       "  max-height: 200px;\n",
       "  max-width: 100%;\n",
       "  overflow: auto;\n",
       "}\n",
       "\n",
       "#sk-container-id-1 input.sk-toggleable__control:checked~label.sk-toggleable__label-arrow:before {\n",
       "  content: \"▾\";\n",
       "}\n",
       "\n",
       "/* Pipeline/ColumnTransformer-specific style */\n",
       "\n",
       "#sk-container-id-1 div.sk-label input.sk-toggleable__control:checked~label.sk-toggleable__label {\n",
       "  color: var(--sklearn-color-text);\n",
       "  background-color: var(--sklearn-color-unfitted-level-2);\n",
       "}\n",
       "\n",
       "#sk-container-id-1 div.sk-label.fitted input.sk-toggleable__control:checked~label.sk-toggleable__label {\n",
       "  background-color: var(--sklearn-color-fitted-level-2);\n",
       "}\n",
       "\n",
       "/* Estimator-specific style */\n",
       "\n",
       "/* Colorize estimator box */\n",
       "#sk-container-id-1 div.sk-estimator input.sk-toggleable__control:checked~label.sk-toggleable__label {\n",
       "  /* unfitted */\n",
       "  background-color: var(--sklearn-color-unfitted-level-2);\n",
       "}\n",
       "\n",
       "#sk-container-id-1 div.sk-estimator.fitted input.sk-toggleable__control:checked~label.sk-toggleable__label {\n",
       "  /* fitted */\n",
       "  background-color: var(--sklearn-color-fitted-level-2);\n",
       "}\n",
       "\n",
       "#sk-container-id-1 div.sk-label label.sk-toggleable__label,\n",
       "#sk-container-id-1 div.sk-label label {\n",
       "  /* The background is the default theme color */\n",
       "  color: var(--sklearn-color-text-on-default-background);\n",
       "}\n",
       "\n",
       "/* On hover, darken the color of the background */\n",
       "#sk-container-id-1 div.sk-label:hover label.sk-toggleable__label {\n",
       "  color: var(--sklearn-color-text);\n",
       "  background-color: var(--sklearn-color-unfitted-level-2);\n",
       "}\n",
       "\n",
       "/* Label box, darken color on hover, fitted */\n",
       "#sk-container-id-1 div.sk-label.fitted:hover label.sk-toggleable__label.fitted {\n",
       "  color: var(--sklearn-color-text);\n",
       "  background-color: var(--sklearn-color-fitted-level-2);\n",
       "}\n",
       "\n",
       "/* Estimator label */\n",
       "\n",
       "#sk-container-id-1 div.sk-label label {\n",
       "  font-family: monospace;\n",
       "  font-weight: bold;\n",
       "  display: inline-block;\n",
       "  line-height: 1.2em;\n",
       "}\n",
       "\n",
       "#sk-container-id-1 div.sk-label-container {\n",
       "  text-align: center;\n",
       "}\n",
       "\n",
       "/* Estimator-specific */\n",
       "#sk-container-id-1 div.sk-estimator {\n",
       "  font-family: monospace;\n",
       "  border: 1px dotted var(--sklearn-color-border-box);\n",
       "  border-radius: 0.25em;\n",
       "  box-sizing: border-box;\n",
       "  margin-bottom: 0.5em;\n",
       "  /* unfitted */\n",
       "  background-color: var(--sklearn-color-unfitted-level-0);\n",
       "}\n",
       "\n",
       "#sk-container-id-1 div.sk-estimator.fitted {\n",
       "  /* fitted */\n",
       "  background-color: var(--sklearn-color-fitted-level-0);\n",
       "}\n",
       "\n",
       "/* on hover */\n",
       "#sk-container-id-1 div.sk-estimator:hover {\n",
       "  /* unfitted */\n",
       "  background-color: var(--sklearn-color-unfitted-level-2);\n",
       "}\n",
       "\n",
       "#sk-container-id-1 div.sk-estimator.fitted:hover {\n",
       "  /* fitted */\n",
       "  background-color: var(--sklearn-color-fitted-level-2);\n",
       "}\n",
       "\n",
       "/* Specification for estimator info (e.g. \"i\" and \"?\") */\n",
       "\n",
       "/* Common style for \"i\" and \"?\" */\n",
       "\n",
       ".sk-estimator-doc-link,\n",
       "a:link.sk-estimator-doc-link,\n",
       "a:visited.sk-estimator-doc-link {\n",
       "  float: right;\n",
       "  font-size: smaller;\n",
       "  line-height: 1em;\n",
       "  font-family: monospace;\n",
       "  background-color: var(--sklearn-color-background);\n",
       "  border-radius: 1em;\n",
       "  height: 1em;\n",
       "  width: 1em;\n",
       "  text-decoration: none !important;\n",
       "  margin-left: 1ex;\n",
       "  /* unfitted */\n",
       "  border: var(--sklearn-color-unfitted-level-1) 1pt solid;\n",
       "  color: var(--sklearn-color-unfitted-level-1);\n",
       "}\n",
       "\n",
       ".sk-estimator-doc-link.fitted,\n",
       "a:link.sk-estimator-doc-link.fitted,\n",
       "a:visited.sk-estimator-doc-link.fitted {\n",
       "  /* fitted */\n",
       "  border: var(--sklearn-color-fitted-level-1) 1pt solid;\n",
       "  color: var(--sklearn-color-fitted-level-1);\n",
       "}\n",
       "\n",
       "/* On hover */\n",
       "div.sk-estimator:hover .sk-estimator-doc-link:hover,\n",
       ".sk-estimator-doc-link:hover,\n",
       "div.sk-label-container:hover .sk-estimator-doc-link:hover,\n",
       ".sk-estimator-doc-link:hover {\n",
       "  /* unfitted */\n",
       "  background-color: var(--sklearn-color-unfitted-level-3);\n",
       "  color: var(--sklearn-color-background);\n",
       "  text-decoration: none;\n",
       "}\n",
       "\n",
       "div.sk-estimator.fitted:hover .sk-estimator-doc-link.fitted:hover,\n",
       ".sk-estimator-doc-link.fitted:hover,\n",
       "div.sk-label-container:hover .sk-estimator-doc-link.fitted:hover,\n",
       ".sk-estimator-doc-link.fitted:hover {\n",
       "  /* fitted */\n",
       "  background-color: var(--sklearn-color-fitted-level-3);\n",
       "  color: var(--sklearn-color-background);\n",
       "  text-decoration: none;\n",
       "}\n",
       "\n",
       "/* Span, style for the box shown on hovering the info icon */\n",
       ".sk-estimator-doc-link span {\n",
       "  display: none;\n",
       "  z-index: 9999;\n",
       "  position: relative;\n",
       "  font-weight: normal;\n",
       "  right: .2ex;\n",
       "  padding: .5ex;\n",
       "  margin: .5ex;\n",
       "  width: min-content;\n",
       "  min-width: 20ex;\n",
       "  max-width: 50ex;\n",
       "  color: var(--sklearn-color-text);\n",
       "  box-shadow: 2pt 2pt 4pt #999;\n",
       "  /* unfitted */\n",
       "  background: var(--sklearn-color-unfitted-level-0);\n",
       "  border: .5pt solid var(--sklearn-color-unfitted-level-3);\n",
       "}\n",
       "\n",
       ".sk-estimator-doc-link.fitted span {\n",
       "  /* fitted */\n",
       "  background: var(--sklearn-color-fitted-level-0);\n",
       "  border: var(--sklearn-color-fitted-level-3);\n",
       "}\n",
       "\n",
       ".sk-estimator-doc-link:hover span {\n",
       "  display: block;\n",
       "}\n",
       "\n",
       "/* \"?\"-specific style due to the `<a>` HTML tag */\n",
       "\n",
       "#sk-container-id-1 a.estimator_doc_link {\n",
       "  float: right;\n",
       "  font-size: 1rem;\n",
       "  line-height: 1em;\n",
       "  font-family: monospace;\n",
       "  background-color: var(--sklearn-color-background);\n",
       "  border-radius: 1rem;\n",
       "  height: 1rem;\n",
       "  width: 1rem;\n",
       "  text-decoration: none;\n",
       "  /* unfitted */\n",
       "  color: var(--sklearn-color-unfitted-level-1);\n",
       "  border: var(--sklearn-color-unfitted-level-1) 1pt solid;\n",
       "}\n",
       "\n",
       "#sk-container-id-1 a.estimator_doc_link.fitted {\n",
       "  /* fitted */\n",
       "  border: var(--sklearn-color-fitted-level-1) 1pt solid;\n",
       "  color: var(--sklearn-color-fitted-level-1);\n",
       "}\n",
       "\n",
       "/* On hover */\n",
       "#sk-container-id-1 a.estimator_doc_link:hover {\n",
       "  /* unfitted */\n",
       "  background-color: var(--sklearn-color-unfitted-level-3);\n",
       "  color: var(--sklearn-color-background);\n",
       "  text-decoration: none;\n",
       "}\n",
       "\n",
       "#sk-container-id-1 a.estimator_doc_link.fitted:hover {\n",
       "  /* fitted */\n",
       "  background-color: var(--sklearn-color-fitted-level-3);\n",
       "}\n",
       "</style><div id=\"sk-container-id-1\" class=\"sk-top-container\"><div class=\"sk-text-repr-fallback\"><pre>LinearRegression()</pre><b>In a Jupyter environment, please rerun this cell to show the HTML representation or trust the notebook. <br />On GitHub, the HTML representation is unable to render, please try loading this page with nbviewer.org.</b></div><div class=\"sk-container\" hidden><div class=\"sk-item\"><div class=\"sk-estimator fitted sk-toggleable\"><input class=\"sk-toggleable__control sk-hidden--visually\" id=\"sk-estimator-id-1\" type=\"checkbox\" checked><label for=\"sk-estimator-id-1\" class=\"sk-toggleable__label fitted sk-toggleable__label-arrow fitted\">&nbsp;&nbsp;LinearRegression<a class=\"sk-estimator-doc-link fitted\" rel=\"noreferrer\" target=\"_blank\" href=\"https://scikit-learn.org/1.5/modules/generated/sklearn.linear_model.LinearRegression.html\">?<span>Documentation for LinearRegression</span></a><span class=\"sk-estimator-doc-link fitted\">i<span>Fitted</span></span></label><div class=\"sk-toggleable__content fitted\"><pre>LinearRegression()</pre></div> </div></div></div></div>"
      ],
      "text/plain": [
       "LinearRegression()"
      ]
     },
     "execution_count": 101,
     "metadata": {},
     "output_type": "execute_result"
    }
   ],
   "source": [
    "# 다중 회귀(선형 회귀) 클래스 임포트 , 학습, 평가\n",
    "from sklearn.linear_model import LinearRegression\n",
    "lr = LinearRegression()\n",
    "lr.fit(train_poly, y_train)"
   ]
  },
  {
   "cell_type": "code",
   "execution_count": 109,
   "id": "1437bd7e-d0c8-4c31-b2c1-7a7f5884275b",
   "metadata": {},
   "outputs": [
    {
     "name": "stdout",
     "output_type": "stream",
     "text": [
      "0.9903557670312703\n"
     ]
    }
   ],
   "source": [
    "print(lr.score(train_poly, y_train))"
   ]
  },
  {
   "cell_type": "code",
   "execution_count": 107,
   "id": "703e9996-6c89-4ea2-8d6f-c8b43d9832e5",
   "metadata": {},
   "outputs": [
    {
     "name": "stdout",
     "output_type": "stream",
     "text": [
      "0.9712376207461859\n"
     ]
    }
   ],
   "source": [
    "# 테스트셋에 대해 평가 결과 확인\n",
    "print(lr.score(test_poly, y_test))"
   ]
  },
  {
   "cell_type": "markdown",
   "id": "decb763b-66e1-4678-9aa2-d466a2da4d8e",
   "metadata": {},
   "source": [
    "- 특성을 더 많이 추가해 보자. 5제곱까지 특성을 만들어서 추가해 보자.\n",
    "- PolynomialFeatures 클래스의 degree 매개변수에 최대차수를 지정하면 된다."
   ]
  },
  {
   "cell_type": "code",
   "execution_count": 27,
   "id": "b61fb206-0099-4a67-aed3-a457225166fc",
   "metadata": {},
   "outputs": [],
   "source": [
    "# PolynomialFeatures 클래스의 degree 매개변수에 5를 적용하고 학습, 트레인셋과 테스트셋에 변환 적용 후 트레인셋 shape 출력\n"
   ]
  },
  {
   "cell_type": "code",
   "execution_count": 29,
   "id": "f97ca827-6434-4d4a-b932-c2e9645bf623",
   "metadata": {},
   "outputs": [],
   "source": [
    "# 변환기로 만들어진 55개 특성 확인\n"
   ]
  },
  {
   "cell_type": "code",
   "execution_count": 31,
   "id": "2b5e5fac-3e81-4413-b810-b389f075bcb3",
   "metadata": {},
   "outputs": [],
   "source": [
    "# 55개의 특성을 가진 데이터로 다시 훈련하고 score 확인\n"
   ]
  },
  {
   "cell_type": "code",
   "execution_count": 33,
   "id": "ba9e7e5f-3232-454d-b30e-2f6f248287c4",
   "metadata": {},
   "outputs": [],
   "source": [
    "# 테스트셋 평가 점수 출력\n"
   ]
  },
  {
   "cell_type": "markdown",
   "id": "c87e52da-e0de-49b5-a1ce-a88da7d48138",
   "metadata": {},
   "source": [
    "- 테스트세트에서 점수가 음수가 나오는 문제가 생김\n",
    "- 특성의 개수가 너무 많아 훈련세트에서는 점수가 높은데 테스트세트에서 점수가 너무 낮아 특성개수를 조정해야 함"
   ]
  },
  {
   "cell_type": "code",
   "execution_count": null,
   "id": "26f1e62e-07e1-4b62-acc5-f0320bb17ed7",
   "metadata": {},
   "outputs": [],
   "source": []
  },
  {
   "cell_type": "markdown",
   "id": "488bd150-a8ab-4304-b096-1cf450e78a16",
   "metadata": {},
   "source": [
    "##### 규제(regularization)\n",
    "- 머신러닝 모델이 훈련 세트를 너무 과도하게 학습하지 못하도록 훼방하는 것\n",
    "- 모델이 훈련 세트에 과대적합되지 않도록 만드는 것\n",
    "- 선형 회귀 모델의 경우 특성에 곱해지는 계수(기울기)의 크기를 작게 만드는 일"
   ]
  },
  {
   "cell_type": "markdown",
   "id": "630a4e04-2da1-4417-ae3d-510e0d511ea0",
   "metadata": {},
   "source": [
    "- 규제는 계수(기울기)의 값을 조정하는 작업인데 기울기에 곱해지는 값( y = a * x1 + b * x2 + c => 여기에서 x1, x2 즉, 특성의 값)이 표준화가 되어 있지 않으면 기울기의 값을 조정했을 때 특성마다 값의 차이가 많이 발생되어 공정하게 제어될 수가 없음.\n",
    "- 규제를 적용하기 전에 표준화 작업을 먼저 진행해야 함.\n",
    "- 사이킷런의 StandardScaler 클래스 사용 : 변환기"
   ]
  },
  {
   "cell_type": "code",
   "execution_count": 35,
   "id": "d4f5762d-9859-4870-b435-2a6e45e84d6a",
   "metadata": {},
   "outputs": [],
   "source": [
    "# 변환기로 StandardScaler 클래스 사용. train_poly, test_poly 데이터셋 변환\n",
    "\n",
    "\n",
    "# 훈련세트로 학습한 변환기를 사용해 테스트 세트를 변환해야 함."
   ]
  },
  {
   "cell_type": "code",
   "execution_count": 37,
   "id": "e8223ba1-7a5d-4d71-a7d1-9d662af0a217",
   "metadata": {},
   "outputs": [],
   "source": [
    "# 변환기에서 학습한 55개 평균값 출력\n"
   ]
  },
  {
   "cell_type": "code",
   "execution_count": 39,
   "id": "86ae36a1-9d6a-442e-8d1a-812f65a5eda9",
   "metadata": {},
   "outputs": [],
   "source": [
    "# 변환기에서 찾은 평균값과 표준편차의 개수 출력\n"
   ]
  },
  {
   "cell_type": "markdown",
   "id": "acdb1bd1-04e8-4c4d-919f-6337e638e5eb",
   "metadata": {},
   "source": [
    "- 선형 회귀 모델에 규제를 추가한 모델을 릿지(ridge)와 라쏘(lasso)라고 한다.\n",
    "- 릿지는 계수를 제곱한 값을 기준으로 규제를 적용\n",
    "- 라쏘는 계수의 절대값을 기준으로 규제를 적용\n",
    "- 릿지를 더 선호\n",
    "- 릿지와 라쏘 모두 계수의 크기를 줄이지만 라쏘는 아예 0으로 만들 수 있음\n",
    "- 사이킷런 라이브러리가 릿지, 라쏘 제공"
   ]
  },
  {
   "cell_type": "code",
   "execution_count": null,
   "id": "18d5f93b-619d-4c42-8788-f6ede4a04ca0",
   "metadata": {},
   "outputs": [],
   "source": []
  },
  {
   "cell_type": "markdown",
   "id": "ce8c1d41-66e6-4812-9c1c-be8b3c777104",
   "metadata": {},
   "source": [
    "##### 릿지 회귀\n",
    "- 사이킷런 라이브러리에서 제공하기 때문에 fit()으로 훈련하고 score()로 평가\n",
    "- train_scaled 데이터로 릿지 모델을 훈련해 보자"
   ]
  },
  {
   "cell_type": "code",
   "execution_count": 41,
   "id": "151642b4-8c86-4512-ab3b-cb568d0c948c",
   "metadata": {},
   "outputs": [],
   "source": [
    "# Ridge 클래스 임포트, 학습, 평가\n"
   ]
  },
  {
   "cell_type": "code",
   "execution_count": 43,
   "id": "fc62b97b-10d6-4da3-bfe4-c3a545e2de46",
   "metadata": {},
   "outputs": [],
   "source": [
    "# 테스트셋 평가\n"
   ]
  },
  {
   "cell_type": "markdown",
   "id": "7e640f9c-477f-4587-9548-5b15e85278a3",
   "metadata": {},
   "source": [
    "- 릿지와 라쏘 모델을 사용할 때 규제의 양을 임의로 조절할 수 있다.\n",
    "- 모델 객체를 만들 때 alpha 매개변수로 규제의 강도를 조절\n",
    "- alpha 값이 크면 규제의 강도가 세지므로 계수 값을 더 줄이고 조금 더 과소적합되도록 유도\n",
    "- alpha 값이 작으면 계수를 줄이는 역할이 줄어들고 선형 회귀 모델과 유사해지므로 과대적합될 가능성이 크다.\n",
    "- alpha 값은 사람이 지정해 줘야 하는 파라미터로 이런 파라미터를 하이퍼파라미터라고 한다."
   ]
  },
  {
   "cell_type": "markdown",
   "id": "f5535ff6-2fb9-4817-b9ec-0efbd9828d94",
   "metadata": {},
   "source": [
    "- 적절한 alpha 값을 찾는 한 가지 방법은 alpha 값에 대한 R제곱(결정계수) 값의 그래프를 그려보는 것\n",
    "- 훈련세트와 테스트세트의 점수가 가장 가까운 지점이 최적의 alpha 값이 된다."
   ]
  },
  {
   "cell_type": "code",
   "execution_count": 47,
   "id": "164d3c65-cd2d-453c-aecf-df7e1847bf9e",
   "metadata": {},
   "outputs": [],
   "source": [
    "# 트레인 스코어와 테스트 스코어 저장할 빈 리스트 생성\n"
   ]
  },
  {
   "cell_type": "markdown",
   "id": "872a0b54-1863-41a9-b8df-657fbc170c99",
   "metadata": {},
   "source": [
    "- alpha 값을 0.001에서 100까지 10배씩 늘려가면 릿지 회귀 모델을 훈련한 다은 훈련세트와 테스트세트의 점수를 저장"
   ]
  },
  {
   "cell_type": "code",
   "execution_count": null,
   "id": "b2f76ff3-3010-4913-ab13-1815147956ac",
   "metadata": {},
   "outputs": [],
   "source": [
    "\n"
   ]
  },
  {
   "cell_type": "markdown",
   "id": "a745f685-ada1-4f23-88c3-84e4c041f92d",
   "metadata": {},
   "source": [
    "- 위에서 계산한 릿지의 alpha를 조정한 score 결과를 가지고 시각화를 해서 최적의 alpha 값을 찾아보자"
   ]
  },
  {
   "cell_type": "code",
   "execution_count": null,
   "id": "3a4d46a3-a7c3-4625-a196-f1373d2b2158",
   "metadata": {},
   "outputs": [],
   "source": []
  },
  {
   "cell_type": "markdown",
   "id": "d4b37d46-a854-4374-bec1-a62fee046771",
   "metadata": {},
   "source": [
    "- alpha 값이 0.001부터 100까지 이므로 그래프의 0값 근처에 값이 몰려있어서 최적의 alpha 값을 확인하기 어려움\n",
    "- alpha 값이 있는 alpha_list의 6개의 값을 동일한 간격으로 나타내기 위해 상용 로그 함수로 바꾸어 지수로 표현해보자\n",
    "- 0.001에 로그를 취하면 -3, 0.01에 로그를 취하면 -2"
   ]
  },
  {
   "cell_type": "code",
   "execution_count": 51,
   "id": "64552942-6d6b-400a-a450-3e90ee4396a8",
   "metadata": {},
   "outputs": [],
   "source": [
    "# 상용로그 테스트\n"
   ]
  },
  {
   "cell_type": "code",
   "execution_count": 53,
   "id": "b60e7764-5150-4d36-8e1f-55737b7fc6d3",
   "metadata": {},
   "outputs": [],
   "source": [
    "# 상용로그 취한 값을 x축으로 시각화\n"
   ]
  },
  {
   "cell_type": "markdown",
   "id": "7c9a2df8-198a-4241-8b94-3bdb625aabfe",
   "metadata": {},
   "source": [
    "- 가장 적절한 alpha 값은 두 그래프가 가장 가깝고 테스트 세트의 점수가 가장 높은 -1, 즉 0.1이다.\n",
    "- 최적의 alpha 값을 찾았으니 alpha 값을 0.1로하여 최종 모델을 훈련하자"
   ]
  },
  {
   "cell_type": "code",
   "execution_count": 55,
   "id": "d07b7bf4-3c39-412a-89dd-f8625ce8e302",
   "metadata": {},
   "outputs": [],
   "source": [
    "# Ridge의 alpha 값을 0.1로 학습, 평가\n"
   ]
  },
  {
   "cell_type": "code",
   "execution_count": null,
   "id": "b50e6fe3-8a4e-429c-8f08-b4a56fa7b3e5",
   "metadata": {},
   "outputs": [],
   "source": []
  },
  {
   "cell_type": "markdown",
   "id": "311bf3dc-6067-4515-9e35-b148d8933d9c",
   "metadata": {
    "jp-MarkdownHeadingCollapsed": true
   },
   "source": [
    "##### 라쏘 회귀\n",
    "- 라쏘 모델은 릿지와 매우 비슷\n",
    "- Ridge 클래스를 Lasso 클래스로만 바꾸면 됨"
   ]
  },
  {
   "cell_type": "code",
   "execution_count": 57,
   "id": "734efb5b-bb0d-4762-aa9f-b9a9ae7cb1f2",
   "metadata": {},
   "outputs": [],
   "source": [
    "# lasso 클래스 임포트, 학습, 평가\n"
   ]
  },
  {
   "cell_type": "markdown",
   "id": "3ffed2c1-06b6-439d-b137-fb60bfda1000",
   "metadata": {},
   "source": [
    "- 라쏘도 과대적합을 잘 규제해 주네요"
   ]
  },
  {
   "cell_type": "code",
   "execution_count": 59,
   "id": "6b95e46b-2027-472a-bba7-f4324ade0c30",
   "metadata": {},
   "outputs": [],
   "source": [
    "# 라쏘의 평가 점수 출력\n"
   ]
  },
  {
   "cell_type": "markdown",
   "id": "bb27940b-05e7-4e2f-a3b6-4b9e0a24922e",
   "metadata": {},
   "source": [
    "- 라쏘 모델도 alpha 매개변수로 규제의 강도 조절 할 수 있다."
   ]
  },
  {
   "cell_type": "code",
   "execution_count": 61,
   "id": "70f75cf3-81a6-485c-ae65-d41abf3d5cb4",
   "metadata": {},
   "outputs": [],
   "source": [
    "# 라쏘의 alpha 값을 0.001, 0.01, 0.1, 1, 10, 100 으로 학습한 결과를 시각화\n"
   ]
  },
  {
   "cell_type": "code",
   "execution_count": 63,
   "id": "0cb47f53-cf7c-45b7-919b-3740034700fa",
   "metadata": {},
   "outputs": [],
   "source": [
    "# 리지회귀와 마찬가지로 x 축에 log를 취한 결과 시각화\n"
   ]
  },
  {
   "cell_type": "markdown",
   "id": "063e23f7-9fd2-429b-ba65-f7d9cd02712b",
   "metadata": {},
   "source": [
    "- 라쏘 모델의 최적의 alpha 값은 1, 즉 10입니다.\n",
    "- 이 값으로 다시 모델을 훈련해 보자"
   ]
  },
  {
   "cell_type": "code",
   "execution_count": 65,
   "id": "22244442-4082-4d1e-82a6-71ed155ddcaf",
   "metadata": {},
   "outputs": [],
   "source": [
    "# 시각화로 찾은 최적의 alpha 값(10)을 적용해서 학습 후 평가\n"
   ]
  },
  {
   "cell_type": "markdown",
   "id": "fe591eb4-f69e-4bb8-a753-b6ffa9de8c02",
   "metadata": {},
   "source": [
    "- 라쏘 모델은 계수 값을 아예 0으로 만들 수 있다고 했는데 라쏘 모델의 계수는 coef_ 속성에 있으니 확인해 봅시다."
   ]
  },
  {
   "cell_type": "code",
   "execution_count": 67,
   "id": "ea799338-7057-4103-8b0a-bf841c812b88",
   "metadata": {},
   "outputs": [],
   "source": [
    "# 라쏘로 찾은 기울기(계수) 값을 출력해서 0값이 있는지 확인\n"
   ]
  },
  {
   "cell_type": "code",
   "execution_count": 69,
   "id": "cf8a844a-9f72-435e-931b-d6cf93faf52e",
   "metadata": {},
   "outputs": [],
   "source": [
    "# 라쏘 회귀에서 기울기 값이 0인 전체 개수 출력\n"
   ]
  },
  {
   "cell_type": "markdown",
   "id": "4cd7376c-0b2e-4720-9c63-fc035b6da405",
   "metadata": {},
   "source": [
    "- 55개 특성 중 라쏘 모델은 15개만 사용했다는 것을 알 수 있다.\n",
    "- 이러한 라쏘 모델의 특징으로 데이터 특성에서 유용한 특성을 골라내는 용도로도 사용할 수 있다."
   ]
  },
  {
   "cell_type": "code",
   "execution_count": null,
   "id": "3603dfad-63fa-47b8-abb9-6def249d7c40",
   "metadata": {},
   "outputs": [],
   "source": []
  }
 ],
 "metadata": {
  "kernelspec": {
   "display_name": "Python [conda env:base] *",
   "language": "python",
   "name": "conda-base-py"
  },
  "language_info": {
   "codemirror_mode": {
    "name": "ipython",
    "version": 3
   },
   "file_extension": ".py",
   "mimetype": "text/x-python",
   "name": "python",
   "nbconvert_exporter": "python",
   "pygments_lexer": "ipython3",
   "version": "3.12.7"
  }
 },
 "nbformat": 4,
 "nbformat_minor": 5
}
