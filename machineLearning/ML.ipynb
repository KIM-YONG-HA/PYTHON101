{
 "cells": [
  {
   "cell_type": "code",
   "execution_count": null,
   "id": "90beef54-c402-4d6e-8f14-68817b766ee2",
   "metadata": {},
   "outputs": [],
   "source": [
    "# 머신러닝을 위한 데이터 처리 절차\n",
    "1. 데이터 수집\n",
    "2. 통계적 데이터 탐색\n",
    "3. 시각적 데이터 탐색\n",
    "4. 데이터 전처리\n",
    "5. 탐색적 데이터 분석과 상관분석\n",
    "6. 머신러닝 알고리즘 선정\n",
    "7. 머신러닝 수행 "
   ]
  }
 ],
 "metadata": {
  "kernelspec": {
   "display_name": "Python [conda env:base] *",
   "language": "python",
   "name": "conda-base-py"
  },
  "language_info": {
   "codemirror_mode": {
    "name": "ipython",
    "version": 3
   },
   "file_extension": ".py",
   "mimetype": "text/x-python",
   "name": "python",
   "nbconvert_exporter": "python",
   "pygments_lexer": "ipython3",
   "version": "3.12.7"
  }
 },
 "nbformat": 4,
 "nbformat_minor": 5
}
