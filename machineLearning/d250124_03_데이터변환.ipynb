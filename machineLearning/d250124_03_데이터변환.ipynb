{
 "cells": [
  {
   "cell_type": "markdown",
   "id": "93b94f50-3f2e-476e-b98e-984cfed14cd6",
   "metadata": {},
   "source": [
    "# 데이터 변환(transform)\n",
    "데이터의 값 자체를 바꾸는 것\n",
    "이상치를 완화, 정규분포가 되도록 하기 위해 변환\n",
    "머신러닝이 학습하기 좋게, 잘 되게 하기 위함\n",
    "대부분의 모델은 변수가 특정분포(정규분포에 가까운)를 따른다는 가정을 기반\n",
    "데이터 분포에 따라 로그, 루트, 지수, 거듭제곱 등 다양한 함수를 사용하여 데이터 분포 변환(numpy 활용)"
   ]
  },
  {
   "cell_type": "code",
   "execution_count": null,
   "id": "795f711a-b1d8-4299-9faf-7110b8d260ea",
   "metadata": {},
   "outputs": [],
   "source": []
  },
  {
   "cell_type": "code",
   "execution_count": null,
   "id": "43931e67-e1fa-47a4-8289-a610e8a317a7",
   "metadata": {},
   "outputs": [],
   "source": []
  },
  {
   "cell_type": "code",
   "execution_count": null,
   "id": "1bdb2bcf-77a3-4c0c-8998-9b75eaae80c8",
   "metadata": {},
   "outputs": [],
   "source": []
  },
  {
   "cell_type": "code",
   "execution_count": null,
   "id": "a8953373-e02c-4c8e-85a8-2946ba4961bb",
   "metadata": {},
   "outputs": [],
   "source": []
  },
  {
   "cell_type": "code",
   "execution_count": null,
   "id": "e123db0a-fbce-4c92-ba18-45fad2650e2d",
   "metadata": {},
   "outputs": [],
   "source": []
  }
 ],
 "metadata": {
  "kernelspec": {
   "display_name": "Python [conda env:base] *",
   "language": "python",
   "name": "conda-base-py"
  },
  "language_info": {
   "codemirror_mode": {
    "name": "ipython",
    "version": 3
   },
   "file_extension": ".py",
   "mimetype": "text/x-python",
   "name": "python",
   "nbconvert_exporter": "python",
   "pygments_lexer": "ipython3",
   "version": "3.12.7"
  }
 },
 "nbformat": 4,
 "nbformat_minor": 5
}
