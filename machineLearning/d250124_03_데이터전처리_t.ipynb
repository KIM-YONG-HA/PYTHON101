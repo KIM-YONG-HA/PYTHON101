{
 "cells": [
  {
   "cell_type": "markdown",
   "id": "d1193c06-f50d-41b6-80af-49dee964117b",
   "metadata": {},
   "source": [
    "#### 4. 데이터 전처리"
   ]
  },
  {
   "cell_type": "markdown",
   "id": "daf5f79c-9af0-40a9-bd99-fa1d21ec4234",
   "metadata": {},
   "source": [
    "- 데이터 전처리는 데이터의 품질을 높이는 중요한 작업\n",
    "- 데이터 생애주기 : 원시데이터 -> 데이터 전처리 -> 원천 데이터 -> 검증/레이블링 -> 레이블링 데이터\n",
    "- 데이터 분석을 위한 필수 과정, 분석 결과 오류방지, 분석결과 신뢰도 향상\n",
    "  \n",
    "**데이터를 분석 및 처리에 적합한 형태로 만드는 과정을 총칭하는 개념**\n",
    "\n",
    "- 아무리 좋은 도구나 분석기법도 품질이 낮은 데이터로 좋은 결과를 얻을 수 없다.\n",
    "- 데이터 전처리 단계 : 데이터 정제 / 데이터 통합 / 데이터 변환 / 데이터 축소"
   ]
  },
  {
   "cell_type": "markdown",
   "id": "81f0ea98-8c8d-457f-84ee-0a6f35a689f5",
   "metadata": {},
   "source": [
    "#### 1. 데이터 정제\n",
    "- 없는 데이터는 채우고, 잡음 데이터는 제거하고, 모순된 데이터는 올바르게 교정\n",
    "- NaN, null, na 값의 제거\n",
    "- 누락값, 불일치, 오류 수정\n",
    "- 컴퓨터로 처리할 수 없는 데이터 제거\n",
    "- 날짜나 숫자 등의 형식을 일치\n",
    "- 모순데이터(남자인데 주민번호 8문자가 2인 경우)"
   ]
  },
  {
   "cell_type": "markdown",
   "id": "360c4962-531b-42ef-95b1-cbfce2830d0a",
   "metadata": {},
   "source": [
    "#### 2. 데이터 통합\n",
    "- 출처가 다른 상호 연관성이 있는 여러 데이터들을 하나로 결합하는 과정\n",
    "- 표현단위가 다른 방식에 대한 일치\n",
    "- 중복된 데이터를 검출"
   ]
  },
  {
   "cell_type": "markdown",
   "id": "9aa4dd9b-bc63-43dd-9b2e-5247595b35a4",
   "metadata": {},
   "source": [
    "#### 3. 데이터 변환\n",
    "- 다양한 형식으로 수집된 데이터를 분석에 용이하도록 일관성있는 데이터 형식으로 변환\n",
    "- 정규화 : 데이터를 노멀하게 바꿔주는 것. 최대-최소 정규화, z-score 정규화, 소수 스케일링\n",
    "- 평균화(평활화) : 잡음을 제거하기 위해 데이터범위(추세) 벗어난 값을 변환\n",
    "- 속성 생성 : 데이터 분포를 대표할 수 있는 새로운 컬럼을 생성"
   ]
  },
  {
   "cell_type": "markdown",
   "id": "3974c0f8-3014-4f52-b371-9260c5692436",
   "metadata": {},
   "source": [
    "#### 4. 데이터 축소\n",
    "- 분석에 필요한 데이터를 축소, 고유한 특성은 손상되지 않도록 하고 분석 효율성을 향상키는 작업\n",
    "- 데이터 압축 : 데이터 인코딩, 데이터 변환을 통해 데이터 포맷 변경\n",
    "- 차원축소(PCA) : 특정 구간에 분포하는 값으로 스케일 변환"
   ]
  },
  {
   "cell_type": "code",
   "execution_count": null,
   "id": "1e17df9b-e18b-40b3-92e7-26643d25ed7e",
   "metadata": {},
   "outputs": [],
   "source": []
  },
  {
   "cell_type": "markdown",
   "id": "a5796fcf-a364-4369-b806-bd6e786abc67",
   "metadata": {},
   "source": [
    "#### 데이터 전처리 절차\n",
    "- 데이터 오류 분석\n",
    "  - 결측값, 이상값, 노이즈, 모순 데이터, 불균형 데이터....\n",
    "- 데이터 전처리 대상 선정\n",
    "  - 모든 데이터 대상, 비정형/반정형 데이터에 집중.....\n",
    "- 데이터 전처리 방법 결정\n",
    "  - 삭제, 대체, 예측값 삽입, Scaling, 변수 추가, 변수 변환....."
   ]
  },
  {
   "cell_type": "markdown",
   "id": "a42b96c3-8ecf-4ca4-bc1d-407c38df5c74",
   "metadata": {},
   "source": [
    "##### 데이터 결측값 처리\n",
    "- 삭제, 대체, 예측값 삽입, 수작업"
   ]
  },
  {
   "cell_type": "code",
   "execution_count": 9,
   "id": "ef6b90da-78a2-4cf9-ab56-953221330636",
   "metadata": {},
   "outputs": [],
   "source": [
    "import pandas as pd\n",
    "import numpy as np\n",
    "import matplotlib.pyplot as plt\n",
    "import seaborn as sns"
   ]
  },
  {
   "cell_type": "code",
   "execution_count": 10,
   "id": "36ec0af9-ac85-4e36-a8b6-0d03db5eb637",
   "metadata": {},
   "outputs": [
    {
     "data": {
      "text/html": [
       "<div>\n",
       "<style scoped>\n",
       "    .dataframe tbody tr th:only-of-type {\n",
       "        vertical-align: middle;\n",
       "    }\n",
       "\n",
       "    .dataframe tbody tr th {\n",
       "        vertical-align: top;\n",
       "    }\n",
       "\n",
       "    .dataframe thead th {\n",
       "        text-align: right;\n",
       "    }\n",
       "</style>\n",
       "<table border=\"1\" class=\"dataframe\">\n",
       "  <thead>\n",
       "    <tr style=\"text-align: right;\">\n",
       "      <th></th>\n",
       "      <th>survived</th>\n",
       "      <th>pclass</th>\n",
       "      <th>sex</th>\n",
       "      <th>age</th>\n",
       "      <th>sibsp</th>\n",
       "      <th>parch</th>\n",
       "      <th>fare</th>\n",
       "      <th>embarked</th>\n",
       "      <th>class</th>\n",
       "      <th>who</th>\n",
       "      <th>adult_male</th>\n",
       "      <th>deck</th>\n",
       "      <th>embark_town</th>\n",
       "      <th>alive</th>\n",
       "      <th>alone</th>\n",
       "    </tr>\n",
       "  </thead>\n",
       "  <tbody>\n",
       "    <tr>\n",
       "      <th>0</th>\n",
       "      <td>0</td>\n",
       "      <td>3</td>\n",
       "      <td>male</td>\n",
       "      <td>22.0</td>\n",
       "      <td>1</td>\n",
       "      <td>0</td>\n",
       "      <td>7.2500</td>\n",
       "      <td>S</td>\n",
       "      <td>Third</td>\n",
       "      <td>man</td>\n",
       "      <td>True</td>\n",
       "      <td>NaN</td>\n",
       "      <td>Southampton</td>\n",
       "      <td>no</td>\n",
       "      <td>False</td>\n",
       "    </tr>\n",
       "    <tr>\n",
       "      <th>1</th>\n",
       "      <td>1</td>\n",
       "      <td>1</td>\n",
       "      <td>female</td>\n",
       "      <td>38.0</td>\n",
       "      <td>1</td>\n",
       "      <td>0</td>\n",
       "      <td>71.2833</td>\n",
       "      <td>C</td>\n",
       "      <td>First</td>\n",
       "      <td>woman</td>\n",
       "      <td>False</td>\n",
       "      <td>C</td>\n",
       "      <td>Cherbourg</td>\n",
       "      <td>yes</td>\n",
       "      <td>False</td>\n",
       "    </tr>\n",
       "    <tr>\n",
       "      <th>2</th>\n",
       "      <td>1</td>\n",
       "      <td>3</td>\n",
       "      <td>female</td>\n",
       "      <td>26.0</td>\n",
       "      <td>0</td>\n",
       "      <td>0</td>\n",
       "      <td>7.9250</td>\n",
       "      <td>S</td>\n",
       "      <td>Third</td>\n",
       "      <td>woman</td>\n",
       "      <td>False</td>\n",
       "      <td>NaN</td>\n",
       "      <td>Southampton</td>\n",
       "      <td>yes</td>\n",
       "      <td>True</td>\n",
       "    </tr>\n",
       "    <tr>\n",
       "      <th>3</th>\n",
       "      <td>1</td>\n",
       "      <td>1</td>\n",
       "      <td>female</td>\n",
       "      <td>35.0</td>\n",
       "      <td>1</td>\n",
       "      <td>0</td>\n",
       "      <td>53.1000</td>\n",
       "      <td>S</td>\n",
       "      <td>First</td>\n",
       "      <td>woman</td>\n",
       "      <td>False</td>\n",
       "      <td>C</td>\n",
       "      <td>Southampton</td>\n",
       "      <td>yes</td>\n",
       "      <td>False</td>\n",
       "    </tr>\n",
       "    <tr>\n",
       "      <th>4</th>\n",
       "      <td>0</td>\n",
       "      <td>3</td>\n",
       "      <td>male</td>\n",
       "      <td>35.0</td>\n",
       "      <td>0</td>\n",
       "      <td>0</td>\n",
       "      <td>8.0500</td>\n",
       "      <td>S</td>\n",
       "      <td>Third</td>\n",
       "      <td>man</td>\n",
       "      <td>True</td>\n",
       "      <td>NaN</td>\n",
       "      <td>Southampton</td>\n",
       "      <td>no</td>\n",
       "      <td>True</td>\n",
       "    </tr>\n",
       "  </tbody>\n",
       "</table>\n",
       "</div>"
      ],
      "text/plain": [
       "   survived  pclass     sex   age  sibsp  parch     fare embarked  class  \\\n",
       "0         0       3    male  22.0      1      0   7.2500        S  Third   \n",
       "1         1       1  female  38.0      1      0  71.2833        C  First   \n",
       "2         1       3  female  26.0      0      0   7.9250        S  Third   \n",
       "3         1       1  female  35.0      1      0  53.1000        S  First   \n",
       "4         0       3    male  35.0      0      0   8.0500        S  Third   \n",
       "\n",
       "     who  adult_male deck  embark_town alive  alone  \n",
       "0    man        True  NaN  Southampton    no  False  \n",
       "1  woman       False    C    Cherbourg   yes  False  \n",
       "2  woman       False  NaN  Southampton   yes   True  \n",
       "3  woman       False    C  Southampton   yes  False  \n",
       "4    man        True  NaN  Southampton    no   True  "
      ]
     },
     "execution_count": 10,
     "metadata": {},
     "output_type": "execute_result"
    }
   ],
   "source": [
    "titanic = sns.load_dataset('titanic')\n",
    "titanic.head()"
   ]
  },
  {
   "cell_type": "markdown",
   "id": "ecd6227c-211c-434b-9768-f7901dda74e7",
   "metadata": {},
   "source": [
    "- 데이터셋에서 결측값 확인\n",
    "  - df.info() : 컬럼별 데이터의 수\n",
    "  - df.isnull() : 결측값이 True\n",
    "  - df.isnull().sum() : 결측값이 몇개인지 확인"
   ]
  },
  {
   "cell_type": "code",
   "execution_count": 12,
   "id": "ebe1d21a-2a1b-4446-bfe8-8a279865c546",
   "metadata": {},
   "outputs": [
    {
     "name": "stdout",
     "output_type": "stream",
     "text": [
      "<class 'pandas.core.frame.DataFrame'>\n",
      "RangeIndex: 891 entries, 0 to 890\n",
      "Data columns (total 15 columns):\n",
      " #   Column       Non-Null Count  Dtype   \n",
      "---  ------       --------------  -----   \n",
      " 0   survived     891 non-null    int64   \n",
      " 1   pclass       891 non-null    int64   \n",
      " 2   sex          891 non-null    object  \n",
      " 3   age          714 non-null    float64 \n",
      " 4   sibsp        891 non-null    int64   \n",
      " 5   parch        891 non-null    int64   \n",
      " 6   fare         891 non-null    float64 \n",
      " 7   embarked     889 non-null    object  \n",
      " 8   class        891 non-null    category\n",
      " 9   who          891 non-null    object  \n",
      " 10  adult_male   891 non-null    bool    \n",
      " 11  deck         203 non-null    category\n",
      " 12  embark_town  889 non-null    object  \n",
      " 13  alive        891 non-null    object  \n",
      " 14  alone        891 non-null    bool    \n",
      "dtypes: bool(2), category(2), float64(2), int64(4), object(5)\n",
      "memory usage: 80.7+ KB\n"
     ]
    }
   ],
   "source": [
    "titanic.info()"
   ]
  },
  {
   "cell_type": "code",
   "execution_count": 13,
   "id": "748a31de-4ba9-4674-96fe-3ec88df2f865",
   "metadata": {},
   "outputs": [
    {
     "data": {
      "text/html": [
       "<div>\n",
       "<style scoped>\n",
       "    .dataframe tbody tr th:only-of-type {\n",
       "        vertical-align: middle;\n",
       "    }\n",
       "\n",
       "    .dataframe tbody tr th {\n",
       "        vertical-align: top;\n",
       "    }\n",
       "\n",
       "    .dataframe thead th {\n",
       "        text-align: right;\n",
       "    }\n",
       "</style>\n",
       "<table border=\"1\" class=\"dataframe\">\n",
       "  <thead>\n",
       "    <tr style=\"text-align: right;\">\n",
       "      <th></th>\n",
       "      <th>survived</th>\n",
       "      <th>pclass</th>\n",
       "      <th>sex</th>\n",
       "      <th>age</th>\n",
       "      <th>sibsp</th>\n",
       "      <th>parch</th>\n",
       "      <th>fare</th>\n",
       "      <th>embarked</th>\n",
       "      <th>class</th>\n",
       "      <th>who</th>\n",
       "      <th>adult_male</th>\n",
       "      <th>deck</th>\n",
       "      <th>embark_town</th>\n",
       "      <th>alive</th>\n",
       "      <th>alone</th>\n",
       "    </tr>\n",
       "  </thead>\n",
       "  <tbody>\n",
       "    <tr>\n",
       "      <th>0</th>\n",
       "      <td>False</td>\n",
       "      <td>False</td>\n",
       "      <td>False</td>\n",
       "      <td>False</td>\n",
       "      <td>False</td>\n",
       "      <td>False</td>\n",
       "      <td>False</td>\n",
       "      <td>False</td>\n",
       "      <td>False</td>\n",
       "      <td>False</td>\n",
       "      <td>False</td>\n",
       "      <td>True</td>\n",
       "      <td>False</td>\n",
       "      <td>False</td>\n",
       "      <td>False</td>\n",
       "    </tr>\n",
       "    <tr>\n",
       "      <th>1</th>\n",
       "      <td>False</td>\n",
       "      <td>False</td>\n",
       "      <td>False</td>\n",
       "      <td>False</td>\n",
       "      <td>False</td>\n",
       "      <td>False</td>\n",
       "      <td>False</td>\n",
       "      <td>False</td>\n",
       "      <td>False</td>\n",
       "      <td>False</td>\n",
       "      <td>False</td>\n",
       "      <td>False</td>\n",
       "      <td>False</td>\n",
       "      <td>False</td>\n",
       "      <td>False</td>\n",
       "    </tr>\n",
       "    <tr>\n",
       "      <th>2</th>\n",
       "      <td>False</td>\n",
       "      <td>False</td>\n",
       "      <td>False</td>\n",
       "      <td>False</td>\n",
       "      <td>False</td>\n",
       "      <td>False</td>\n",
       "      <td>False</td>\n",
       "      <td>False</td>\n",
       "      <td>False</td>\n",
       "      <td>False</td>\n",
       "      <td>False</td>\n",
       "      <td>True</td>\n",
       "      <td>False</td>\n",
       "      <td>False</td>\n",
       "      <td>False</td>\n",
       "    </tr>\n",
       "    <tr>\n",
       "      <th>3</th>\n",
       "      <td>False</td>\n",
       "      <td>False</td>\n",
       "      <td>False</td>\n",
       "      <td>False</td>\n",
       "      <td>False</td>\n",
       "      <td>False</td>\n",
       "      <td>False</td>\n",
       "      <td>False</td>\n",
       "      <td>False</td>\n",
       "      <td>False</td>\n",
       "      <td>False</td>\n",
       "      <td>False</td>\n",
       "      <td>False</td>\n",
       "      <td>False</td>\n",
       "      <td>False</td>\n",
       "    </tr>\n",
       "    <tr>\n",
       "      <th>4</th>\n",
       "      <td>False</td>\n",
       "      <td>False</td>\n",
       "      <td>False</td>\n",
       "      <td>False</td>\n",
       "      <td>False</td>\n",
       "      <td>False</td>\n",
       "      <td>False</td>\n",
       "      <td>False</td>\n",
       "      <td>False</td>\n",
       "      <td>False</td>\n",
       "      <td>False</td>\n",
       "      <td>True</td>\n",
       "      <td>False</td>\n",
       "      <td>False</td>\n",
       "      <td>False</td>\n",
       "    </tr>\n",
       "    <tr>\n",
       "      <th>...</th>\n",
       "      <td>...</td>\n",
       "      <td>...</td>\n",
       "      <td>...</td>\n",
       "      <td>...</td>\n",
       "      <td>...</td>\n",
       "      <td>...</td>\n",
       "      <td>...</td>\n",
       "      <td>...</td>\n",
       "      <td>...</td>\n",
       "      <td>...</td>\n",
       "      <td>...</td>\n",
       "      <td>...</td>\n",
       "      <td>...</td>\n",
       "      <td>...</td>\n",
       "      <td>...</td>\n",
       "    </tr>\n",
       "    <tr>\n",
       "      <th>886</th>\n",
       "      <td>False</td>\n",
       "      <td>False</td>\n",
       "      <td>False</td>\n",
       "      <td>False</td>\n",
       "      <td>False</td>\n",
       "      <td>False</td>\n",
       "      <td>False</td>\n",
       "      <td>False</td>\n",
       "      <td>False</td>\n",
       "      <td>False</td>\n",
       "      <td>False</td>\n",
       "      <td>True</td>\n",
       "      <td>False</td>\n",
       "      <td>False</td>\n",
       "      <td>False</td>\n",
       "    </tr>\n",
       "    <tr>\n",
       "      <th>887</th>\n",
       "      <td>False</td>\n",
       "      <td>False</td>\n",
       "      <td>False</td>\n",
       "      <td>False</td>\n",
       "      <td>False</td>\n",
       "      <td>False</td>\n",
       "      <td>False</td>\n",
       "      <td>False</td>\n",
       "      <td>False</td>\n",
       "      <td>False</td>\n",
       "      <td>False</td>\n",
       "      <td>False</td>\n",
       "      <td>False</td>\n",
       "      <td>False</td>\n",
       "      <td>False</td>\n",
       "    </tr>\n",
       "    <tr>\n",
       "      <th>888</th>\n",
       "      <td>False</td>\n",
       "      <td>False</td>\n",
       "      <td>False</td>\n",
       "      <td>True</td>\n",
       "      <td>False</td>\n",
       "      <td>False</td>\n",
       "      <td>False</td>\n",
       "      <td>False</td>\n",
       "      <td>False</td>\n",
       "      <td>False</td>\n",
       "      <td>False</td>\n",
       "      <td>True</td>\n",
       "      <td>False</td>\n",
       "      <td>False</td>\n",
       "      <td>False</td>\n",
       "    </tr>\n",
       "    <tr>\n",
       "      <th>889</th>\n",
       "      <td>False</td>\n",
       "      <td>False</td>\n",
       "      <td>False</td>\n",
       "      <td>False</td>\n",
       "      <td>False</td>\n",
       "      <td>False</td>\n",
       "      <td>False</td>\n",
       "      <td>False</td>\n",
       "      <td>False</td>\n",
       "      <td>False</td>\n",
       "      <td>False</td>\n",
       "      <td>False</td>\n",
       "      <td>False</td>\n",
       "      <td>False</td>\n",
       "      <td>False</td>\n",
       "    </tr>\n",
       "    <tr>\n",
       "      <th>890</th>\n",
       "      <td>False</td>\n",
       "      <td>False</td>\n",
       "      <td>False</td>\n",
       "      <td>False</td>\n",
       "      <td>False</td>\n",
       "      <td>False</td>\n",
       "      <td>False</td>\n",
       "      <td>False</td>\n",
       "      <td>False</td>\n",
       "      <td>False</td>\n",
       "      <td>False</td>\n",
       "      <td>True</td>\n",
       "      <td>False</td>\n",
       "      <td>False</td>\n",
       "      <td>False</td>\n",
       "    </tr>\n",
       "  </tbody>\n",
       "</table>\n",
       "<p>891 rows × 15 columns</p>\n",
       "</div>"
      ],
      "text/plain": [
       "     survived  pclass    sex    age  sibsp  parch   fare  embarked  class  \\\n",
       "0       False   False  False  False  False  False  False     False  False   \n",
       "1       False   False  False  False  False  False  False     False  False   \n",
       "2       False   False  False  False  False  False  False     False  False   \n",
       "3       False   False  False  False  False  False  False     False  False   \n",
       "4       False   False  False  False  False  False  False     False  False   \n",
       "..        ...     ...    ...    ...    ...    ...    ...       ...    ...   \n",
       "886     False   False  False  False  False  False  False     False  False   \n",
       "887     False   False  False  False  False  False  False     False  False   \n",
       "888     False   False  False   True  False  False  False     False  False   \n",
       "889     False   False  False  False  False  False  False     False  False   \n",
       "890     False   False  False  False  False  False  False     False  False   \n",
       "\n",
       "       who  adult_male   deck  embark_town  alive  alone  \n",
       "0    False       False   True        False  False  False  \n",
       "1    False       False  False        False  False  False  \n",
       "2    False       False   True        False  False  False  \n",
       "3    False       False  False        False  False  False  \n",
       "4    False       False   True        False  False  False  \n",
       "..     ...         ...    ...          ...    ...    ...  \n",
       "886  False       False   True        False  False  False  \n",
       "887  False       False  False        False  False  False  \n",
       "888  False       False   True        False  False  False  \n",
       "889  False       False  False        False  False  False  \n",
       "890  False       False   True        False  False  False  \n",
       "\n",
       "[891 rows x 15 columns]"
      ]
     },
     "execution_count": 13,
     "metadata": {},
     "output_type": "execute_result"
    }
   ],
   "source": [
    "titanic.isnull()"
   ]
  },
  {
   "cell_type": "code",
   "execution_count": 14,
   "id": "61df15f3-a9de-4d07-a20c-cff0f28ab77f",
   "metadata": {},
   "outputs": [
    {
     "data": {
      "text/plain": [
       "survived         0\n",
       "pclass           0\n",
       "sex              0\n",
       "age            177\n",
       "sibsp            0\n",
       "parch            0\n",
       "fare             0\n",
       "embarked         2\n",
       "class            0\n",
       "who              0\n",
       "adult_male       0\n",
       "deck           688\n",
       "embark_town      2\n",
       "alive            0\n",
       "alone            0\n",
       "dtype: int64"
      ]
     },
     "execution_count": 14,
     "metadata": {},
     "output_type": "execute_result"
    }
   ],
   "source": [
    "titanic.isnull().sum()"
   ]
  },
  {
   "cell_type": "markdown",
   "id": "1e76906d-303e-4e22-83ad-4ed37d34ca72",
   "metadata": {},
   "source": [
    "- 데이터셋에서 결측값 처리 - 삭제\n",
    "  - df.dropna() : 결측값이 있는 모든 행 삭제\n",
    "  - df.dropna(axis=0) : 결측값이 있는 행 전체 삭제\n",
    "  - titanic['embark_town'].dropna() : 'embark_town'열에서 결측값을 삭제하고 출력\n",
    "  - titanic.dropna( thresh = int( len(titanic) / 2), axis=1) : 전체 데이터셋에서 50%이상 결측치를 포함하는 feature(변수, 필드, 컬럼) 삭제"
   ]
  },
  {
   "cell_type": "code",
   "execution_count": 16,
   "id": "6cc6faaf-2c4a-4c3c-9b93-56dde29972a5",
   "metadata": {},
   "outputs": [
    {
     "data": {
      "text/plain": [
       "445"
      ]
     },
     "execution_count": 16,
     "metadata": {},
     "output_type": "execute_result"
    }
   ],
   "source": [
    "int( len(titanic) / 2)"
   ]
  },
  {
   "cell_type": "code",
   "execution_count": 17,
   "id": "45c9f4a7-1093-429a-80c4-e172ea775707",
   "metadata": {},
   "outputs": [],
   "source": [
    "titanic = titanic.dropna( thresh = int( len(titanic) / 2), axis=1)"
   ]
  },
  {
   "cell_type": "code",
   "execution_count": 18,
   "id": "5d5f4909-6fd5-426f-8d9c-a8b06c8a056e",
   "metadata": {},
   "outputs": [
    {
     "data": {
      "text/plain": [
       "survived         0\n",
       "pclass           0\n",
       "sex              0\n",
       "age            177\n",
       "sibsp            0\n",
       "parch            0\n",
       "fare             0\n",
       "embarked         2\n",
       "class            0\n",
       "who              0\n",
       "adult_male       0\n",
       "embark_town      2\n",
       "alive            0\n",
       "alone            0\n",
       "dtype: int64"
      ]
     },
     "execution_count": 18,
     "metadata": {},
     "output_type": "execute_result"
    }
   ],
   "source": [
    "titanic.isnull().sum()"
   ]
  },
  {
   "cell_type": "markdown",
   "id": "9dc8c482-4749-4b56-9ac1-0ed496ea2409",
   "metadata": {},
   "source": [
    "- 데이터셋에서 결측값 처리 - 대체\n",
    "  - df.fillna() : 누락된 값에 통계 값으로 대체 하거나 모든 누락값을 '0'으로 대체\n",
    "  - df.fillna(0) : 모든 결측값을 0으로 대체\n",
    "  - df['age'].fillna(0) : 'age' 컬럼의 결측값을 0으로 대체\n",
    "  - df['age'].fillna( df['age'].mean() ) : 평균값으로 누락값을 대체\n",
    "  - 수치 데이터는 평균값을 범주형 데이터는 최빈값을 주로 사용\n",
    "  - 0으로 대체하는 방법은 데이터의 편향(bias)가 발생 가능성이 높다."
   ]
  },
  {
   "cell_type": "code",
   "execution_count": 20,
   "id": "25ca4791-5628-4f6e-baf9-0728c4b73c64",
   "metadata": {},
   "outputs": [
    {
     "name": "stderr",
     "output_type": "stream",
     "text": [
      "C:\\Users\\kj\\AppData\\Local\\Temp\\ipykernel_7252\\4273747164.py:2: UserWarning: \n",
      "\n",
      "`distplot` is a deprecated function and will be removed in seaborn v0.14.0.\n",
      "\n",
      "Please adapt your code to use either `displot` (a figure-level function with\n",
      "similar flexibility) or `histplot` (an axes-level function for histograms).\n",
      "\n",
      "For a guide to updating your code to use the new functions, please see\n",
      "https://gist.github.com/mwaskom/de44147ed2974457ad6372750bbe5751\n",
      "\n",
      "  sns.distplot(titanic['age'])\n"
     ]
    },
    {
     "data": {
      "image/png": "[encoded data removed]",
      "text/plain": [
       "<Figure size 800x800 with 1 Axes>"
      ]
     },
     "metadata": {},
     "output_type": "display_data"
    }
   ],
   "source": [
    "plt.figure(figsize=(8,8))\n",
    "sns.distplot(titanic['age'])\n",
    "plt.grid()\n",
    "plt.show()"
   ]
  },
  {
   "cell_type": "code",
   "execution_count": 21,
   "id": "7d41b6a2-df1b-4fed-a876-9ea0c512d3ec",
   "metadata": {},
   "outputs": [],
   "source": [
    "# age열의 결측치를 0으로 채움\n",
    "age0 = titanic['age'].fillna(0)"
   ]
  },
  {
   "cell_type": "code",
   "execution_count": 22,
   "id": "5b055a02-f04f-437d-b67e-2d03aa7b94b2",
   "metadata": {},
   "outputs": [
    {
     "data": {
      "text/plain": [
       "survived         0\n",
       "pclass           0\n",
       "sex              0\n",
       "age            177\n",
       "sibsp            0\n",
       "parch            0\n",
       "fare             0\n",
       "embarked         2\n",
       "class            0\n",
       "who              0\n",
       "adult_male       0\n",
       "embark_town      2\n",
       "alive            0\n",
       "alone            0\n",
       "dtype: int64"
      ]
     },
     "execution_count": 22,
     "metadata": {},
     "output_type": "execute_result"
    }
   ],
   "source": [
    "titanic.isnull().sum()"
   ]
  },
  {
   "cell_type": "code",
   "execution_count": 23,
   "id": "886e77e5-f18e-437e-a4eb-5305e3adb1fb",
   "metadata": {},
   "outputs": [
    {
     "data": {
      "text/plain": [
       "0      22.0\n",
       "1      38.0\n",
       "2      26.0\n",
       "3      35.0\n",
       "4      35.0\n",
       "       ... \n",
       "886    27.0\n",
       "887    19.0\n",
       "888     0.0\n",
       "889    26.0\n",
       "890    32.0\n",
       "Name: age, Length: 891, dtype: float64"
      ]
     },
     "execution_count": 23,
     "metadata": {},
     "output_type": "execute_result"
    }
   ],
   "source": [
    "age0"
   ]
  },
  {
   "cell_type": "code",
   "execution_count": 24,
   "id": "777d0513-805f-404b-907e-8c3870bc3d44",
   "metadata": {},
   "outputs": [
    {
     "data": {
      "text/plain": [
       "0      22.0\n",
       "1      38.0\n",
       "2      26.0\n",
       "3      35.0\n",
       "4      35.0\n",
       "       ... \n",
       "886    27.0\n",
       "887    19.0\n",
       "888     NaN\n",
       "889    26.0\n",
       "890    32.0\n",
       "Name: age, Length: 891, dtype: float64"
      ]
     },
     "execution_count": 24,
     "metadata": {},
     "output_type": "execute_result"
    }
   ],
   "source": [
    "titanic['age']"
   ]
  },
  {
   "cell_type": "code",
   "execution_count": 25,
   "id": "c260d74d-718b-4dc2-80dc-30554c34a1d3",
   "metadata": {},
   "outputs": [
    {
     "data": {
      "text/html": [
       "<div>\n",
       "<style scoped>\n",
       "    .dataframe tbody tr th:only-of-type {\n",
       "        vertical-align: middle;\n",
       "    }\n",
       "\n",
       "    .dataframe tbody tr th {\n",
       "        vertical-align: top;\n",
       "    }\n",
       "\n",
       "    .dataframe thead th {\n",
       "        text-align: right;\n",
       "    }\n",
       "</style>\n",
       "<table border=\"1\" class=\"dataframe\">\n",
       "  <thead>\n",
       "    <tr style=\"text-align: right;\">\n",
       "      <th></th>\n",
       "      <th>survived</th>\n",
       "      <th>pclass</th>\n",
       "      <th>sex</th>\n",
       "      <th>age</th>\n",
       "      <th>sibsp</th>\n",
       "      <th>parch</th>\n",
       "      <th>fare</th>\n",
       "      <th>embarked</th>\n",
       "      <th>class</th>\n",
       "      <th>who</th>\n",
       "      <th>adult_male</th>\n",
       "      <th>embark_town</th>\n",
       "      <th>alive</th>\n",
       "      <th>alone</th>\n",
       "    </tr>\n",
       "  </thead>\n",
       "  <tbody>\n",
       "    <tr>\n",
       "      <th>886</th>\n",
       "      <td>0</td>\n",
       "      <td>2</td>\n",
       "      <td>male</td>\n",
       "      <td>27.0</td>\n",
       "      <td>0</td>\n",
       "      <td>0</td>\n",
       "      <td>13.00</td>\n",
       "      <td>S</td>\n",
       "      <td>Second</td>\n",
       "      <td>man</td>\n",
       "      <td>True</td>\n",
       "      <td>Southampton</td>\n",
       "      <td>no</td>\n",
       "      <td>True</td>\n",
       "    </tr>\n",
       "    <tr>\n",
       "      <th>887</th>\n",
       "      <td>1</td>\n",
       "      <td>1</td>\n",
       "      <td>female</td>\n",
       "      <td>19.0</td>\n",
       "      <td>0</td>\n",
       "      <td>0</td>\n",
       "      <td>30.00</td>\n",
       "      <td>S</td>\n",
       "      <td>First</td>\n",
       "      <td>woman</td>\n",
       "      <td>False</td>\n",
       "      <td>Southampton</td>\n",
       "      <td>yes</td>\n",
       "      <td>True</td>\n",
       "    </tr>\n",
       "    <tr>\n",
       "      <th>888</th>\n",
       "      <td>0</td>\n",
       "      <td>3</td>\n",
       "      <td>female</td>\n",
       "      <td>NaN</td>\n",
       "      <td>1</td>\n",
       "      <td>2</td>\n",
       "      <td>23.45</td>\n",
       "      <td>S</td>\n",
       "      <td>Third</td>\n",
       "      <td>woman</td>\n",
       "      <td>False</td>\n",
       "      <td>Southampton</td>\n",
       "      <td>no</td>\n",
       "      <td>False</td>\n",
       "    </tr>\n",
       "    <tr>\n",
       "      <th>889</th>\n",
       "      <td>1</td>\n",
       "      <td>1</td>\n",
       "      <td>male</td>\n",
       "      <td>26.0</td>\n",
       "      <td>0</td>\n",
       "      <td>0</td>\n",
       "      <td>30.00</td>\n",
       "      <td>C</td>\n",
       "      <td>First</td>\n",
       "      <td>man</td>\n",
       "      <td>True</td>\n",
       "      <td>Cherbourg</td>\n",
       "      <td>yes</td>\n",
       "      <td>True</td>\n",
       "    </tr>\n",
       "    <tr>\n",
       "      <th>890</th>\n",
       "      <td>0</td>\n",
       "      <td>3</td>\n",
       "      <td>male</td>\n",
       "      <td>32.0</td>\n",
       "      <td>0</td>\n",
       "      <td>0</td>\n",
       "      <td>7.75</td>\n",
       "      <td>Q</td>\n",
       "      <td>Third</td>\n",
       "      <td>man</td>\n",
       "      <td>True</td>\n",
       "      <td>Queenstown</td>\n",
       "      <td>no</td>\n",
       "      <td>True</td>\n",
       "    </tr>\n",
       "  </tbody>\n",
       "</table>\n",
       "</div>"
      ],
      "text/plain": [
       "     survived  pclass     sex   age  sibsp  parch   fare embarked   class  \\\n",
       "886         0       2    male  27.0      0      0  13.00        S  Second   \n",
       "887         1       1  female  19.0      0      0  30.00        S   First   \n",
       "888         0       3  female   NaN      1      2  23.45        S   Third   \n",
       "889         1       1    male  26.0      0      0  30.00        C   First   \n",
       "890         0       3    male  32.0      0      0   7.75        Q   Third   \n",
       "\n",
       "       who  adult_male  embark_town alive  alone  \n",
       "886    man        True  Southampton    no   True  \n",
       "887  woman       False  Southampton   yes   True  \n",
       "888  woman       False  Southampton    no  False  \n",
       "889    man        True    Cherbourg   yes   True  \n",
       "890    man        True   Queenstown    no   True  "
      ]
     },
     "execution_count": 25,
     "metadata": {},
     "output_type": "execute_result"
    }
   ],
   "source": [
    "titanic.tail()"
   ]
  },
  {
   "cell_type": "code",
   "execution_count": 26,
   "id": "02867990-d992-4887-9084-3eaae49570f6",
   "metadata": {},
   "outputs": [
    {
     "name": "stderr",
     "output_type": "stream",
     "text": [
      "C:\\Users\\kj\\AppData\\Local\\Temp\\ipykernel_7252\\2389813882.py:2: UserWarning: \n",
      "\n",
      "`distplot` is a deprecated function and will be removed in seaborn v0.14.0.\n",
      "\n",
      "Please adapt your code to use either `displot` (a figure-level function with\n",
      "similar flexibility) or `histplot` (an axes-level function for histograms).\n",
      "\n",
      "For a guide to updating your code to use the new functions, please see\n",
      "https://gist.github.com/mwaskom/de44147ed2974457ad6372750bbe5751\n",
      "\n",
      "  sns.distplot(age0)\n"
     ]
    },
    {
     "data": {
      "image/png": "[encoded data removed]",
      "text/plain": [
       "<Figure size 800x800 with 1 Axes>"
      ]
     },
     "metadata": {},
     "output_type": "display_data"
    }
   ],
   "source": [
    "plt.figure(figsize=(8,8))\n",
    "sns.distplot(age0)\n",
    "plt.grid()\n",
    "plt.show()"
   ]
  },
  {
   "cell_type": "code",
   "execution_count": 27,
   "id": "234b9865-5b1c-420a-af2c-afd1636f8f72",
   "metadata": {},
   "outputs": [
    {
     "name": "stderr",
     "output_type": "stream",
     "text": [
      "C:\\Users\\kj\\AppData\\Local\\Temp\\ipykernel_7252\\4277732442.py:4: UserWarning: \n",
      "\n",
      "`distplot` is a deprecated function and will be removed in seaborn v0.14.0.\n",
      "\n",
      "Please adapt your code to use either `displot` (a figure-level function with\n",
      "similar flexibility) or `histplot` (an axes-level function for histograms).\n",
      "\n",
      "For a guide to updating your code to use the new functions, please see\n",
      "https://gist.github.com/mwaskom/de44147ed2974457ad6372750bbe5751\n",
      "\n",
      "  sns.distplot(age1)\n"
     ]
    },
    {
     "data": {
      "image/png": "[encoded data removed]",
      "text/plain": [
       "<Figure size 800x800 with 1 Axes>"
      ]
     },
     "metadata": {},
     "output_type": "display_data"
    }
   ],
   "source": [
    "# age열의 결측치를 평균값으로 채움\n",
    "age1 = titanic.age.fillna(titanic['age'].mean())\n",
    "plt.figure(figsize=(8,8))\n",
    "sns.distplot(age1)\n",
    "plt.grid()\n",
    "plt.show()"
   ]
  },
  {
   "cell_type": "code",
   "execution_count": 28,
   "id": "55fe3822-5cbe-43b2-96a2-2ccdca05b0bb",
   "metadata": {},
   "outputs": [
    {
     "name": "stderr",
     "output_type": "stream",
     "text": [
      "C:\\Users\\kj\\AppData\\Local\\Temp\\ipykernel_7252\\990162403.py:4: UserWarning: \n",
      "\n",
      "`distplot` is a deprecated function and will be removed in seaborn v0.14.0.\n",
      "\n",
      "Please adapt your code to use either `displot` (a figure-level function with\n",
      "similar flexibility) or `histplot` (an axes-level function for histograms).\n",
      "\n",
      "For a guide to updating your code to use the new functions, please see\n",
      "https://gist.github.com/mwaskom/de44147ed2974457ad6372750bbe5751\n",
      "\n",
      "  sns.distplot(age1)\n"
     ]
    },
    {
     "data": {
      "image/png": "[encoded data removed]",
      "text/plain": [
       "<Figure size 800x800 with 1 Axes>"
      ]
     },
     "metadata": {},
     "output_type": "display_data"
    }
   ],
   "source": [
    "# age열의 결측치를 중앙값으로 채움\n",
    "age2 = titanic['age'].fillna(titanic['age'].median())\n",
    "plt.figure(figsize=(8,8))\n",
    "sns.distplot(age1)\n",
    "plt.grid()\n",
    "plt.show()"
   ]
  },
  {
   "cell_type": "code",
   "execution_count": 29,
   "id": "c383fb0a-2ab0-4fab-8702-e7e244d4aff4",
   "metadata": {},
   "outputs": [
    {
     "name": "stdout",
     "output_type": "stream",
     "text": [
      "<class 'pandas.core.frame.DataFrame'>\n",
      "RangeIndex: 891 entries, 0 to 890\n",
      "Data columns (total 14 columns):\n",
      " #   Column       Non-Null Count  Dtype   \n",
      "---  ------       --------------  -----   \n",
      " 0   survived     891 non-null    int64   \n",
      " 1   pclass       891 non-null    int64   \n",
      " 2   sex          891 non-null    object  \n",
      " 3   age          714 non-null    float64 \n",
      " 4   sibsp        891 non-null    int64   \n",
      " 5   parch        891 non-null    int64   \n",
      " 6   fare         891 non-null    float64 \n",
      " 7   embarked     889 non-null    object  \n",
      " 8   class        891 non-null    category\n",
      " 9   who          891 non-null    object  \n",
      " 10  adult_male   891 non-null    bool    \n",
      " 11  embark_town  889 non-null    object  \n",
      " 12  alive        891 non-null    object  \n",
      " 13  alone        891 non-null    bool    \n",
      "dtypes: bool(2), category(1), float64(2), int64(4), object(5)\n",
      "memory usage: 79.4+ KB\n"
     ]
    }
   ],
   "source": [
    "titanic.info()"
   ]
  },
  {
   "cell_type": "code",
   "execution_count": 30,
   "id": "26e0265f-6f74-4a46-9462-8fd287f8507c",
   "metadata": {},
   "outputs": [
    {
     "data": {
      "text/plain": [
       "embark_town\n",
       "Southampton    644\n",
       "Cherbourg      168\n",
       "Queenstown      77\n",
       "Name: count, dtype: int64"
      ]
     },
     "execution_count": 30,
     "metadata": {},
     "output_type": "execute_result"
    }
   ],
   "source": [
    "titanic.embark_town.value_counts()"
   ]
  },
  {
   "cell_type": "code",
   "execution_count": 31,
   "id": "9bb6f39e-6e07-4a7d-827d-7b95097032a6",
   "metadata": {},
   "outputs": [
    {
     "data": {
      "text/plain": [
       "embarked\n",
       "S    644\n",
       "C    168\n",
       "Q     77\n",
       "Name: count, dtype: int64"
      ]
     },
     "execution_count": 31,
     "metadata": {},
     "output_type": "execute_result"
    }
   ],
   "source": [
    "titanic.embarked.value_counts()"
   ]
  },
  {
   "cell_type": "code",
   "execution_count": null,
   "id": "1be82bb0-8966-407b-a424-6f9e3d434cf3",
   "metadata": {},
   "outputs": [],
   "source": []
  },
  {
   "cell_type": "code",
   "execution_count": 32,
   "id": "fd8ccaa5-1cf1-4f0d-87a6-c88b3045e656",
   "metadata": {},
   "outputs": [],
   "source": [
    "titanic.age.fillna(titanic.age.median(), inplace=True)"
   ]
  },
  {
   "cell_type": "code",
   "execution_count": 33,
   "id": "e5f91f9c-08ad-4737-b3e2-e0bce8636ebb",
   "metadata": {},
   "outputs": [
    {
     "name": "stdout",
     "output_type": "stream",
     "text": [
      "<class 'pandas.core.frame.DataFrame'>\n",
      "RangeIndex: 891 entries, 0 to 890\n",
      "Data columns (total 14 columns):\n",
      " #   Column       Non-Null Count  Dtype   \n",
      "---  ------       --------------  -----   \n",
      " 0   survived     891 non-null    int64   \n",
      " 1   pclass       891 non-null    int64   \n",
      " 2   sex          891 non-null    object  \n",
      " 3   age          891 non-null    float64 \n",
      " 4   sibsp        891 non-null    int64   \n",
      " 5   parch        891 non-null    int64   \n",
      " 6   fare         891 non-null    float64 \n",
      " 7   embarked     889 non-null    object  \n",
      " 8   class        891 non-null    category\n",
      " 9   who          891 non-null    object  \n",
      " 10  adult_male   891 non-null    bool    \n",
      " 11  embark_town  889 non-null    object  \n",
      " 12  alive        891 non-null    object  \n",
      " 13  alone        891 non-null    bool    \n",
      "dtypes: bool(2), category(1), float64(2), int64(4), object(5)\n",
      "memory usage: 79.4+ KB\n"
     ]
    }
   ],
   "source": [
    "titanic.info()"
   ]
  },
  {
   "cell_type": "code",
   "execution_count": 34,
   "id": "4af5720e-4ab4-486c-a611-3dd2288408dd",
   "metadata": {},
   "outputs": [
    {
     "data": {
      "text/plain": [
       "'Southampton'"
      ]
     },
     "execution_count": 34,
     "metadata": {},
     "output_type": "execute_result"
    }
   ],
   "source": [
    "titanic['embark_town'].mode()[0]"
   ]
  },
  {
   "cell_type": "code",
   "execution_count": 35,
   "id": "0d385a41-0b9a-41f1-93d5-730a5b7404ee",
   "metadata": {},
   "outputs": [
    {
     "data": {
      "text/plain": [
       "survived       0\n",
       "pclass         0\n",
       "sex            0\n",
       "age            0\n",
       "sibsp          0\n",
       "parch          0\n",
       "fare           0\n",
       "embarked       2\n",
       "class          0\n",
       "who            0\n",
       "adult_male     0\n",
       "embark_town    2\n",
       "alive          0\n",
       "alone          0\n",
       "dtype: int64"
      ]
     },
     "execution_count": 35,
     "metadata": {},
     "output_type": "execute_result"
    }
   ],
   "source": [
    "titanic.isnull().sum()"
   ]
  },
  {
   "cell_type": "code",
   "execution_count": 36,
   "id": "e4373797-e4cd-4e9a-beae-ffd3420c091e",
   "metadata": {},
   "outputs": [
    {
     "data": {
      "text/html": [
       "<div>\n",
       "<style scoped>\n",
       "    .dataframe tbody tr th:only-of-type {\n",
       "        vertical-align: middle;\n",
       "    }\n",
       "\n",
       "    .dataframe tbody tr th {\n",
       "        vertical-align: top;\n",
       "    }\n",
       "\n",
       "    .dataframe thead th {\n",
       "        text-align: right;\n",
       "    }\n",
       "</style>\n",
       "<table border=\"1\" class=\"dataframe\">\n",
       "  <thead>\n",
       "    <tr style=\"text-align: right;\">\n",
       "      <th></th>\n",
       "      <th>survived</th>\n",
       "      <th>pclass</th>\n",
       "      <th>sex</th>\n",
       "      <th>age</th>\n",
       "      <th>sibsp</th>\n",
       "      <th>parch</th>\n",
       "      <th>fare</th>\n",
       "      <th>embarked</th>\n",
       "      <th>class</th>\n",
       "      <th>who</th>\n",
       "      <th>adult_male</th>\n",
       "      <th>embark_town</th>\n",
       "      <th>alive</th>\n",
       "      <th>alone</th>\n",
       "    </tr>\n",
       "  </thead>\n",
       "  <tbody>\n",
       "    <tr>\n",
       "      <th>0</th>\n",
       "      <td>0</td>\n",
       "      <td>3</td>\n",
       "      <td>male</td>\n",
       "      <td>22.0</td>\n",
       "      <td>1</td>\n",
       "      <td>0</td>\n",
       "      <td>7.2500</td>\n",
       "      <td>S</td>\n",
       "      <td>Third</td>\n",
       "      <td>man</td>\n",
       "      <td>True</td>\n",
       "      <td>Southampton</td>\n",
       "      <td>no</td>\n",
       "      <td>False</td>\n",
       "    </tr>\n",
       "    <tr>\n",
       "      <th>1</th>\n",
       "      <td>1</td>\n",
       "      <td>1</td>\n",
       "      <td>female</td>\n",
       "      <td>38.0</td>\n",
       "      <td>1</td>\n",
       "      <td>0</td>\n",
       "      <td>71.2833</td>\n",
       "      <td>C</td>\n",
       "      <td>First</td>\n",
       "      <td>woman</td>\n",
       "      <td>False</td>\n",
       "      <td>Cherbourg</td>\n",
       "      <td>yes</td>\n",
       "      <td>False</td>\n",
       "    </tr>\n",
       "    <tr>\n",
       "      <th>2</th>\n",
       "      <td>1</td>\n",
       "      <td>3</td>\n",
       "      <td>female</td>\n",
       "      <td>26.0</td>\n",
       "      <td>0</td>\n",
       "      <td>0</td>\n",
       "      <td>7.9250</td>\n",
       "      <td>S</td>\n",
       "      <td>Third</td>\n",
       "      <td>woman</td>\n",
       "      <td>False</td>\n",
       "      <td>Southampton</td>\n",
       "      <td>yes</td>\n",
       "      <td>True</td>\n",
       "    </tr>\n",
       "    <tr>\n",
       "      <th>3</th>\n",
       "      <td>1</td>\n",
       "      <td>1</td>\n",
       "      <td>female</td>\n",
       "      <td>35.0</td>\n",
       "      <td>1</td>\n",
       "      <td>0</td>\n",
       "      <td>53.1000</td>\n",
       "      <td>S</td>\n",
       "      <td>First</td>\n",
       "      <td>woman</td>\n",
       "      <td>False</td>\n",
       "      <td>Southampton</td>\n",
       "      <td>yes</td>\n",
       "      <td>False</td>\n",
       "    </tr>\n",
       "    <tr>\n",
       "      <th>4</th>\n",
       "      <td>0</td>\n",
       "      <td>3</td>\n",
       "      <td>male</td>\n",
       "      <td>35.0</td>\n",
       "      <td>0</td>\n",
       "      <td>0</td>\n",
       "      <td>8.0500</td>\n",
       "      <td>S</td>\n",
       "      <td>Third</td>\n",
       "      <td>man</td>\n",
       "      <td>True</td>\n",
       "      <td>Southampton</td>\n",
       "      <td>no</td>\n",
       "      <td>True</td>\n",
       "    </tr>\n",
       "  </tbody>\n",
       "</table>\n",
       "</div>"
      ],
      "text/plain": [
       "   survived  pclass     sex   age  sibsp  parch     fare embarked  class  \\\n",
       "0         0       3    male  22.0      1      0   7.2500        S  Third   \n",
       "1         1       1  female  38.0      1      0  71.2833        C  First   \n",
       "2         1       3  female  26.0      0      0   7.9250        S  Third   \n",
       "3         1       1  female  35.0      1      0  53.1000        S  First   \n",
       "4         0       3    male  35.0      0      0   8.0500        S  Third   \n",
       "\n",
       "     who  adult_male  embark_town alive  alone  \n",
       "0    man        True  Southampton    no  False  \n",
       "1  woman       False    Cherbourg   yes  False  \n",
       "2  woman       False  Southampton   yes   True  \n",
       "3  woman       False  Southampton   yes  False  \n",
       "4    man        True  Southampton    no   True  "
      ]
     },
     "execution_count": 36,
     "metadata": {},
     "output_type": "execute_result"
    }
   ],
   "source": [
    "titanic.head()"
   ]
  },
  {
   "cell_type": "code",
   "execution_count": 37,
   "id": "15675847-e047-41eb-85d6-22e385a37e51",
   "metadata": {},
   "outputs": [],
   "source": [
    "titanic.fillna({'embark_town': titanic.embark_town.mode()[0]}, inplace=True)\n",
    "# titanic.embark_town.fillna(titanic.embark_town.mode()[0], inplace=True)"
   ]
  },
  {
   "cell_type": "code",
   "execution_count": 38,
   "id": "08ff7f4a-cb57-43f6-93ff-f532a9cd56af",
   "metadata": {},
   "outputs": [
    {
     "data": {
      "text/plain": [
       "survived       0\n",
       "pclass         0\n",
       "sex            0\n",
       "age            0\n",
       "sibsp          0\n",
       "parch          0\n",
       "fare           0\n",
       "embarked       2\n",
       "class          0\n",
       "who            0\n",
       "adult_male     0\n",
       "embark_town    0\n",
       "alive          0\n",
       "alone          0\n",
       "dtype: int64"
      ]
     },
     "execution_count": 38,
     "metadata": {},
     "output_type": "execute_result"
    }
   ],
   "source": [
    "titanic.isnull().sum()"
   ]
  },
  {
   "cell_type": "code",
   "execution_count": 39,
   "id": "124abe75-6f85-4dcb-b002-aa3988ba1773",
   "metadata": {},
   "outputs": [],
   "source": [
    "titanic.fillna({'embarked': titanic.embarked.mode()[0]}, inplace=True)"
   ]
  },
  {
   "cell_type": "code",
   "execution_count": 40,
   "id": "c05f1255-68e7-4a81-9df0-c4cec830b116",
   "metadata": {},
   "outputs": [
    {
     "data": {
      "text/plain": [
       "survived       0\n",
       "pclass         0\n",
       "sex            0\n",
       "age            0\n",
       "sibsp          0\n",
       "parch          0\n",
       "fare           0\n",
       "embarked       0\n",
       "class          0\n",
       "who            0\n",
       "adult_male     0\n",
       "embark_town    0\n",
       "alive          0\n",
       "alone          0\n",
       "dtype: int64"
      ]
     },
     "execution_count": 40,
     "metadata": {},
     "output_type": "execute_result"
    }
   ],
   "source": [
    "titanic.isnull().sum()"
   ]
  },
  {
   "cell_type": "code",
   "execution_count": 41,
   "id": "99876dc2-b40d-4f32-b4b7-1d94e23f99de",
   "metadata": {},
   "outputs": [
    {
     "data": {
      "text/plain": [
       "embark_town\n",
       "Southampton    646\n",
       "Cherbourg      168\n",
       "Queenstown      77\n",
       "Name: count, dtype: int64"
      ]
     },
     "execution_count": 41,
     "metadata": {},
     "output_type": "execute_result"
    }
   ],
   "source": [
    "titanic.embark_town.value_counts()"
   ]
  },
  {
   "cell_type": "code",
   "execution_count": null,
   "id": "3fa11c53-7ef7-49b6-8280-1dab2c2bc8fb",
   "metadata": {},
   "outputs": [],
   "source": []
  },
  {
   "cell_type": "markdown",
   "id": "2348998e-e2b7-4ead-8196-e3bade7af777",
   "metadata": {},
   "source": [
    "#### 데이터 이상값 처리\n",
    "- 이상값(Outlier) : 일반적인 다른 값과 멀리 동떨어진 값 (거리, 밀도 기준)"
   ]
  },
  {
   "cell_type": "markdown",
   "id": "9f79b52e-55d2-441d-a286-b413c11332d1",
   "metadata": {},
   "source": [
    "- 이상값이 발생되는 원인\n",
    "  - 잘못 입력(수집), 고의적인 이상값, 표본 설정 오류"
   ]
  },
  {
   "cell_type": "markdown",
   "id": "99682cc1-9ed7-4e45-8078-b3dad5a413a8",
   "metadata": {},
   "source": [
    "- 이상값 검출 방법\n",
    "  - ESD(Extrem Studentized Deviation)\n",
    "    - 평균과 표준편차를 이용해서 이상값의 범위를 한정 ( 평균 => m , 표준편차 => s )\n",
    "    - m - 3s < 정상데이터 < m + 3s\n",
    "  - 사분위수 이용\n",
    "    - Q1 - IQR*1.5 < 정상데이터 < Q3 + IQR * 1.5\n",
    "  - 기하평균 이용\n",
    "    - 기하평균 - 2.5s < 정상데이터 < 기하평균 + 2.5s"
   ]
  },
  {
   "cell_type": "markdown",
   "id": "e2715ed5-363a-40b7-a171-72ecc4c53a08",
   "metadata": {},
   "source": [
    "- 이상값 데이터 확인 : 시각화\n",
    "  - 히스토그램, 밀도차트 : 평균, 중앙값으로부터 먼 값\n",
    "  - 박스플롯(상자차트) : 수염 밖으로 이상값이 별도 표시\n",
    "  - 산포도(scatter) : 다른 값하고 멀리 떨어져 있는 값"
   ]
  },
  {
   "cell_type": "markdown",
   "id": "a0479952-e364-403e-8417-73099989f2f6",
   "metadata": {},
   "source": [
    "- 분석기법을 이용한 이상값 확인\n",
    "  - 비지도학습의 군집 기법\n",
    "  - 마할라노비스 거리 : 데이터 분산을 고려한 거리, 다변량 이상값 판단에 대표적인 방법\n",
    "  - iForest(Isolation forest) : Decision Tree(의사결정 트리), 분할 횟수로 이상값 검출"
   ]
  },
  {
   "cell_type": "markdown",
   "id": "8140a78a-5789-47d6-8914-9deed5307129",
   "metadata": {},
   "source": [
    "- 이상값 처리 방법\n",
    "  - 삭제 : 이상값 포함 데이터 삭제\n",
    "  - 대체 : 통계값(평균, 최빈값, 중앙값 등)\n",
    "  - 회귀값 적용 : 회귀모델(결과가 어떤값)의 결과값으로 대체\n",
    "  - 구간화 : 정렬된 데이터를 여러 개의 구간으로 배분한 후 구간 대표값으로 대체\n",
    "  - 군집화 : 비슷한 성격을 가진 클러스터 단위로 묶은 다음 처리\n",
    "  - 변환 : 오른쪽 꼬리가 긴 경우 => 로그변환, 제곱근 변환으로 큰 값을 작게 만들기\n",
    "           왼쪽 꼬리가 긴 경우 => 지수변환, 제곱변환으로 작은 값을 크게 만들기"
   ]
  },
  {
   "cell_type": "markdown",
   "id": "c30f9d6d-cd4f-4e29-a268-4c959b4cb800",
   "metadata": {},
   "source": [
    "##### 데이터 이상값 영향도\n",
    "- 이상값 영향을 많이 받는 것\n",
    "  - 평균, 분산, 표준편차, 범위 등\n",
    "  - 앙상블 : Boosting\n",
    "  - 비지도 : 군집 -> K-means\n",
    "- 이상값 영향을 적게 받는 것\n",
    "  - 중앙값\n",
    "  - 지도 : 분류/회귀 -> KNN\n",
    "  - 비지도 : 군집 -> DBSCAN\n",
    "\n",
    "- 밀도 기반 : 특정 반경안에 데이터가 몇개 있는지를 세는 방법"
   ]
  },
  {
   "cell_type": "code",
   "execution_count": 49,
   "id": "b8fd8536-b250-4740-9295-76c7aea661a5",
   "metadata": {},
   "outputs": [
    {
     "name": "stdout",
     "output_type": "stream",
     "text": [
      "평균 :  30.0 60.0\n",
      "중앙값 :  30.0 30.0\n"
     ]
    }
   ],
   "source": [
    "# 이상값과 평균, 중앙값의 영향도\n",
    "data1 = [10, 20, 30, 40, 50]\n",
    "data2 = [10, 20, 30, 40, 200]\n",
    "a = pd.Series(data1)\n",
    "b = pd.Series(data2)\n",
    "print('평균 : ', a.mean(), b.mean())\n",
    "print('중앙값 : ', a.median(), b.median())"
   ]
  },
  {
   "cell_type": "code",
   "execution_count": 50,
   "id": "6166b99d-f5e6-4340-b620-0d8fe9839d05",
   "metadata": {},
   "outputs": [
    {
     "data": {
      "text/html": [
       "<div>\n",
       "<style scoped>\n",
       "    .dataframe tbody tr th:only-of-type {\n",
       "        vertical-align: middle;\n",
       "    }\n",
       "\n",
       "    .dataframe tbody tr th {\n",
       "        vertical-align: top;\n",
       "    }\n",
       "\n",
       "    .dataframe thead th {\n",
       "        text-align: right;\n",
       "    }\n",
       "</style>\n",
       "<table border=\"1\" class=\"dataframe\">\n",
       "  <thead>\n",
       "    <tr style=\"text-align: right;\">\n",
       "      <th></th>\n",
       "      <th>survived</th>\n",
       "      <th>pclass</th>\n",
       "      <th>sex</th>\n",
       "      <th>age</th>\n",
       "      <th>sibsp</th>\n",
       "      <th>parch</th>\n",
       "      <th>fare</th>\n",
       "      <th>embarked</th>\n",
       "      <th>class</th>\n",
       "      <th>who</th>\n",
       "      <th>adult_male</th>\n",
       "      <th>deck</th>\n",
       "      <th>embark_town</th>\n",
       "      <th>alive</th>\n",
       "      <th>alone</th>\n",
       "    </tr>\n",
       "  </thead>\n",
       "  <tbody>\n",
       "    <tr>\n",
       "      <th>0</th>\n",
       "      <td>0</td>\n",
       "      <td>3</td>\n",
       "      <td>male</td>\n",
       "      <td>22.0</td>\n",
       "      <td>1</td>\n",
       "      <td>0</td>\n",
       "      <td>7.2500</td>\n",
       "      <td>S</td>\n",
       "      <td>Third</td>\n",
       "      <td>man</td>\n",
       "      <td>True</td>\n",
       "      <td>NaN</td>\n",
       "      <td>Southampton</td>\n",
       "      <td>no</td>\n",
       "      <td>False</td>\n",
       "    </tr>\n",
       "    <tr>\n",
       "      <th>1</th>\n",
       "      <td>1</td>\n",
       "      <td>1</td>\n",
       "      <td>female</td>\n",
       "      <td>38.0</td>\n",
       "      <td>1</td>\n",
       "      <td>0</td>\n",
       "      <td>71.2833</td>\n",
       "      <td>C</td>\n",
       "      <td>First</td>\n",
       "      <td>woman</td>\n",
       "      <td>False</td>\n",
       "      <td>C</td>\n",
       "      <td>Cherbourg</td>\n",
       "      <td>yes</td>\n",
       "      <td>False</td>\n",
       "    </tr>\n",
       "    <tr>\n",
       "      <th>2</th>\n",
       "      <td>1</td>\n",
       "      <td>3</td>\n",
       "      <td>female</td>\n",
       "      <td>26.0</td>\n",
       "      <td>0</td>\n",
       "      <td>0</td>\n",
       "      <td>7.9250</td>\n",
       "      <td>S</td>\n",
       "      <td>Third</td>\n",
       "      <td>woman</td>\n",
       "      <td>False</td>\n",
       "      <td>NaN</td>\n",
       "      <td>Southampton</td>\n",
       "      <td>yes</td>\n",
       "      <td>True</td>\n",
       "    </tr>\n",
       "    <tr>\n",
       "      <th>3</th>\n",
       "      <td>1</td>\n",
       "      <td>1</td>\n",
       "      <td>female</td>\n",
       "      <td>35.0</td>\n",
       "      <td>1</td>\n",
       "      <td>0</td>\n",
       "      <td>53.1000</td>\n",
       "      <td>S</td>\n",
       "      <td>First</td>\n",
       "      <td>woman</td>\n",
       "      <td>False</td>\n",
       "      <td>C</td>\n",
       "      <td>Southampton</td>\n",
       "      <td>yes</td>\n",
       "      <td>False</td>\n",
       "    </tr>\n",
       "    <tr>\n",
       "      <th>4</th>\n",
       "      <td>0</td>\n",
       "      <td>3</td>\n",
       "      <td>male</td>\n",
       "      <td>35.0</td>\n",
       "      <td>0</td>\n",
       "      <td>0</td>\n",
       "      <td>8.0500</td>\n",
       "      <td>S</td>\n",
       "      <td>Third</td>\n",
       "      <td>man</td>\n",
       "      <td>True</td>\n",
       "      <td>NaN</td>\n",
       "      <td>Southampton</td>\n",
       "      <td>no</td>\n",
       "      <td>True</td>\n",
       "    </tr>\n",
       "  </tbody>\n",
       "</table>\n",
       "</div>"
      ],
      "text/plain": [
       "   survived  pclass     sex   age  sibsp  parch     fare embarked  class  \\\n",
       "0         0       3    male  22.0      1      0   7.2500        S  Third   \n",
       "1         1       1  female  38.0      1      0  71.2833        C  First   \n",
       "2         1       3  female  26.0      0      0   7.9250        S  Third   \n",
       "3         1       1  female  35.0      1      0  53.1000        S  First   \n",
       "4         0       3    male  35.0      0      0   8.0500        S  Third   \n",
       "\n",
       "     who  adult_male deck  embark_town alive  alone  \n",
       "0    man        True  NaN  Southampton    no  False  \n",
       "1  woman       False    C    Cherbourg   yes  False  \n",
       "2  woman       False  NaN  Southampton   yes   True  \n",
       "3  woman       False    C  Southampton   yes  False  \n",
       "4    man        True  NaN  Southampton    no   True  "
      ]
     },
     "execution_count": 50,
     "metadata": {},
     "output_type": "execute_result"
    }
   ],
   "source": [
    "# 이상값 탐색\n",
    "titanic = sns.load_dataset('titanic')\n",
    "titanic.head()"
   ]
  },
  {
   "cell_type": "markdown",
   "id": "de478371-76b4-4a99-84ee-35f903c70b78",
   "metadata": {},
   "source": [
    "- 기초 통계량 : 평균, 표준편차, 사분위수, 최대, 최소\n",
    "- describe() 함수"
   ]
  },
  {
   "cell_type": "code",
   "execution_count": 52,
   "id": "6c1ae93f-a84a-4f71-a602-7d66c1f973b1",
   "metadata": {},
   "outputs": [],
   "source": [
    "res = titanic.describe()"
   ]
  },
  {
   "cell_type": "code",
   "execution_count": 53,
   "id": "cb72c834-b897-4ad3-b515-af0fed33c8fb",
   "metadata": {},
   "outputs": [
    {
     "data": {
      "text/html": [
       "<div>\n",
       "<style scoped>\n",
       "    .dataframe tbody tr th:only-of-type {\n",
       "        vertical-align: middle;\n",
       "    }\n",
       "\n",
       "    .dataframe tbody tr th {\n",
       "        vertical-align: top;\n",
       "    }\n",
       "\n",
       "    .dataframe thead th {\n",
       "        text-align: right;\n",
       "    }\n",
       "</style>\n",
       "<table border=\"1\" class=\"dataframe\">\n",
       "  <thead>\n",
       "    <tr style=\"text-align: right;\">\n",
       "      <th></th>\n",
       "      <th>survived</th>\n",
       "      <th>pclass</th>\n",
       "      <th>age</th>\n",
       "      <th>sibsp</th>\n",
       "      <th>parch</th>\n",
       "      <th>fare</th>\n",
       "    </tr>\n",
       "  </thead>\n",
       "  <tbody>\n",
       "    <tr>\n",
       "      <th>count</th>\n",
       "      <td>891.000000</td>\n",
       "      <td>891.000000</td>\n",
       "      <td>714.000000</td>\n",
       "      <td>891.000000</td>\n",
       "      <td>891.000000</td>\n",
       "      <td>891.000000</td>\n",
       "    </tr>\n",
       "    <tr>\n",
       "      <th>mean</th>\n",
       "      <td>0.383838</td>\n",
       "      <td>2.308642</td>\n",
       "      <td>29.699118</td>\n",
       "      <td>0.523008</td>\n",
       "      <td>0.381594</td>\n",
       "      <td>32.204208</td>\n",
       "    </tr>\n",
       "    <tr>\n",
       "      <th>std</th>\n",
       "      <td>0.486592</td>\n",
       "      <td>0.836071</td>\n",
       "      <td>14.526497</td>\n",
       "      <td>1.102743</td>\n",
       "      <td>0.806057</td>\n",
       "      <td>49.693429</td>\n",
       "    </tr>\n",
       "    <tr>\n",
       "      <th>min</th>\n",
       "      <td>0.000000</td>\n",
       "      <td>1.000000</td>\n",
       "      <td>0.420000</td>\n",
       "      <td>0.000000</td>\n",
       "      <td>0.000000</td>\n",
       "      <td>0.000000</td>\n",
       "    </tr>\n",
       "    <tr>\n",
       "      <th>25%</th>\n",
       "      <td>0.000000</td>\n",
       "      <td>2.000000</td>\n",
       "      <td>20.125000</td>\n",
       "      <td>0.000000</td>\n",
       "      <td>0.000000</td>\n",
       "      <td>7.910400</td>\n",
       "    </tr>\n",
       "    <tr>\n",
       "      <th>50%</th>\n",
       "      <td>0.000000</td>\n",
       "      <td>3.000000</td>\n",
       "      <td>28.000000</td>\n",
       "      <td>0.000000</td>\n",
       "      <td>0.000000</td>\n",
       "      <td>14.454200</td>\n",
       "    </tr>\n",
       "    <tr>\n",
       "      <th>75%</th>\n",
       "      <td>1.000000</td>\n",
       "      <td>3.000000</td>\n",
       "      <td>38.000000</td>\n",
       "      <td>1.000000</td>\n",
       "      <td>0.000000</td>\n",
       "      <td>31.000000</td>\n",
       "    </tr>\n",
       "    <tr>\n",
       "      <th>max</th>\n",
       "      <td>1.000000</td>\n",
       "      <td>3.000000</td>\n",
       "      <td>80.000000</td>\n",
       "      <td>8.000000</td>\n",
       "      <td>6.000000</td>\n",
       "      <td>512.329200</td>\n",
       "    </tr>\n",
       "  </tbody>\n",
       "</table>\n",
       "</div>"
      ],
      "text/plain": [
       "         survived      pclass         age       sibsp       parch        fare\n",
       "count  891.000000  891.000000  714.000000  891.000000  891.000000  891.000000\n",
       "mean     0.383838    2.308642   29.699118    0.523008    0.381594   32.204208\n",
       "std      0.486592    0.836071   14.526497    1.102743    0.806057   49.693429\n",
       "min      0.000000    1.000000    0.420000    0.000000    0.000000    0.000000\n",
       "25%      0.000000    2.000000   20.125000    0.000000    0.000000    7.910400\n",
       "50%      0.000000    3.000000   28.000000    0.000000    0.000000   14.454200\n",
       "75%      1.000000    3.000000   38.000000    1.000000    0.000000   31.000000\n",
       "max      1.000000    3.000000   80.000000    8.000000    6.000000  512.329200"
      ]
     },
     "execution_count": 53,
     "metadata": {},
     "output_type": "execute_result"
    }
   ],
   "source": [
    "titanic.describe()"
   ]
  },
  {
   "cell_type": "code",
   "execution_count": 54,
   "id": "81a1de1e-ad25-40f7-94fe-579ad34c223c",
   "metadata": {},
   "outputs": [
    {
     "data": {
      "text/plain": [
       "38.0"
      ]
     },
     "execution_count": 54,
     "metadata": {},
     "output_type": "execute_result"
    }
   ],
   "source": [
    "res['age']['75%']"
   ]
  },
  {
   "cell_type": "code",
   "execution_count": 55,
   "id": "e192f932-3b10-4a46-ae1c-b96a8834a29a",
   "metadata": {},
   "outputs": [
    {
     "data": {
      "text/html": [
       "<div>\n",
       "<style scoped>\n",
       "    .dataframe tbody tr th:only-of-type {\n",
       "        vertical-align: middle;\n",
       "    }\n",
       "\n",
       "    .dataframe tbody tr th {\n",
       "        vertical-align: top;\n",
       "    }\n",
       "\n",
       "    .dataframe thead th {\n",
       "        text-align: right;\n",
       "    }\n",
       "</style>\n",
       "<table border=\"1\" class=\"dataframe\">\n",
       "  <thead>\n",
       "    <tr style=\"text-align: right;\">\n",
       "      <th></th>\n",
       "      <th>survived</th>\n",
       "      <th>pclass</th>\n",
       "      <th>sex</th>\n",
       "      <th>age</th>\n",
       "      <th>sibsp</th>\n",
       "      <th>parch</th>\n",
       "      <th>fare</th>\n",
       "      <th>embarked</th>\n",
       "      <th>class</th>\n",
       "      <th>who</th>\n",
       "      <th>adult_male</th>\n",
       "      <th>deck</th>\n",
       "      <th>embark_town</th>\n",
       "      <th>alive</th>\n",
       "      <th>alone</th>\n",
       "    </tr>\n",
       "  </thead>\n",
       "  <tbody>\n",
       "    <tr>\n",
       "      <th>0</th>\n",
       "      <td>0</td>\n",
       "      <td>3</td>\n",
       "      <td>male</td>\n",
       "      <td>22.0</td>\n",
       "      <td>1</td>\n",
       "      <td>0</td>\n",
       "      <td>7.2500</td>\n",
       "      <td>S</td>\n",
       "      <td>Third</td>\n",
       "      <td>man</td>\n",
       "      <td>True</td>\n",
       "      <td>NaN</td>\n",
       "      <td>Southampton</td>\n",
       "      <td>no</td>\n",
       "      <td>False</td>\n",
       "    </tr>\n",
       "    <tr>\n",
       "      <th>1</th>\n",
       "      <td>1</td>\n",
       "      <td>1</td>\n",
       "      <td>female</td>\n",
       "      <td>38.0</td>\n",
       "      <td>1</td>\n",
       "      <td>0</td>\n",
       "      <td>71.2833</td>\n",
       "      <td>C</td>\n",
       "      <td>First</td>\n",
       "      <td>woman</td>\n",
       "      <td>False</td>\n",
       "      <td>C</td>\n",
       "      <td>Cherbourg</td>\n",
       "      <td>yes</td>\n",
       "      <td>False</td>\n",
       "    </tr>\n",
       "    <tr>\n",
       "      <th>2</th>\n",
       "      <td>1</td>\n",
       "      <td>3</td>\n",
       "      <td>female</td>\n",
       "      <td>26.0</td>\n",
       "      <td>0</td>\n",
       "      <td>0</td>\n",
       "      <td>7.9250</td>\n",
       "      <td>S</td>\n",
       "      <td>Third</td>\n",
       "      <td>woman</td>\n",
       "      <td>False</td>\n",
       "      <td>NaN</td>\n",
       "      <td>Southampton</td>\n",
       "      <td>yes</td>\n",
       "      <td>True</td>\n",
       "    </tr>\n",
       "    <tr>\n",
       "      <th>3</th>\n",
       "      <td>1</td>\n",
       "      <td>1</td>\n",
       "      <td>female</td>\n",
       "      <td>35.0</td>\n",
       "      <td>1</td>\n",
       "      <td>0</td>\n",
       "      <td>53.1000</td>\n",
       "      <td>S</td>\n",
       "      <td>First</td>\n",
       "      <td>woman</td>\n",
       "      <td>False</td>\n",
       "      <td>C</td>\n",
       "      <td>Southampton</td>\n",
       "      <td>yes</td>\n",
       "      <td>False</td>\n",
       "    </tr>\n",
       "    <tr>\n",
       "      <th>4</th>\n",
       "      <td>0</td>\n",
       "      <td>3</td>\n",
       "      <td>male</td>\n",
       "      <td>35.0</td>\n",
       "      <td>0</td>\n",
       "      <td>0</td>\n",
       "      <td>8.0500</td>\n",
       "      <td>S</td>\n",
       "      <td>Third</td>\n",
       "      <td>man</td>\n",
       "      <td>True</td>\n",
       "      <td>NaN</td>\n",
       "      <td>Southampton</td>\n",
       "      <td>no</td>\n",
       "      <td>True</td>\n",
       "    </tr>\n",
       "  </tbody>\n",
       "</table>\n",
       "</div>"
      ],
      "text/plain": [
       "   survived  pclass     sex   age  sibsp  parch     fare embarked  class  \\\n",
       "0         0       3    male  22.0      1      0   7.2500        S  Third   \n",
       "1         1       1  female  38.0      1      0  71.2833        C  First   \n",
       "2         1       3  female  26.0      0      0   7.9250        S  Third   \n",
       "3         1       1  female  35.0      1      0  53.1000        S  First   \n",
       "4         0       3    male  35.0      0      0   8.0500        S  Third   \n",
       "\n",
       "     who  adult_male deck  embark_town alive  alone  \n",
       "0    man        True  NaN  Southampton    no  False  \n",
       "1  woman       False    C    Cherbourg   yes  False  \n",
       "2  woman       False  NaN  Southampton   yes   True  \n",
       "3  woman       False    C  Southampton   yes  False  \n",
       "4    man        True  NaN  Southampton    no   True  "
      ]
     },
     "execution_count": 55,
     "metadata": {},
     "output_type": "execute_result"
    }
   ],
   "source": [
    "# 클래스별로 운임을 표시하는 distplot 작성\n",
    "titanic.head()"
   ]
  },
  {
   "cell_type": "code",
   "execution_count": 56,
   "id": "bb2a9c08-6bcb-42ac-8484-83dfabff006c",
   "metadata": {},
   "outputs": [
    {
     "name": "stderr",
     "output_type": "stream",
     "text": [
      "C:\\Users\\kj\\AppData\\Local\\Temp\\ipykernel_7252\\287116824.py:5: UserWarning: \n",
      "\n",
      "`distplot` is a deprecated function and will be removed in seaborn v0.14.0.\n",
      "\n",
      "Please adapt your code to use either `displot` (a figure-level function with\n",
      "similar flexibility) or `histplot` (an axes-level function for histograms).\n",
      "\n",
      "For a guide to updating your code to use the new functions, please see\n",
      "https://gist.github.com/mwaskom/de44147ed2974457ad6372750bbe5751\n",
      "\n",
      "  sns.distplot(titanic[titanic.pclass == (i+1)]['fare'], axlabel=class_names[i])\n",
      "C:\\Users\\kj\\AppData\\Local\\Temp\\ipykernel_7252\\287116824.py:5: UserWarning: \n",
      "\n",
      "`distplot` is a deprecated function and will be removed in seaborn v0.14.0.\n",
      "\n",
      "Please adapt your code to use either `displot` (a figure-level function with\n",
      "similar flexibility) or `histplot` (an axes-level function for histograms).\n",
      "\n",
      "For a guide to updating your code to use the new functions, please see\n",
      "https://gist.github.com/mwaskom/de44147ed2974457ad6372750bbe5751\n",
      "\n",
      "  sns.distplot(titanic[titanic.pclass == (i+1)]['fare'], axlabel=class_names[i])\n",
      "C:\\Users\\kj\\AppData\\Local\\Temp\\ipykernel_7252\\287116824.py:5: UserWarning: \n",
      "\n",
      "`distplot` is a deprecated function and will be removed in seaborn v0.14.0.\n",
      "\n",
      "Please adapt your code to use either `displot` (a figure-level function with\n",
      "similar flexibility) or `histplot` (an axes-level function for histograms).\n",
      "\n",
      "For a guide to updating your code to use the new functions, please see\n",
      "https://gist.github.com/mwaskom/de44147ed2974457ad6372750bbe5751\n",
      "\n",
      "  sns.distplot(titanic[titanic.pclass == (i+1)]['fare'], axlabel=class_names[i])\n"
     ]
    },
    {
     "data": {
      "image/png": "[encoded data removed]",
      "text/plain": [
       "<Figure size 1200x500 with 3 Axes>"
      ]
     },
     "metadata": {},
     "output_type": "display_data"
    }
   ],
   "source": [
    "class_names = ['first', 'second', 'third']\n",
    "plt.figure(figsize=(12,5))\n",
    "for i in range(3):\n",
    "    plt.subplot(1, 3, i+1)\n",
    "    sns.distplot(titanic[titanic.pclass == (i+1)]['fare'], axlabel=class_names[i])\n",
    "plt.tight_layout()\n",
    "plt.show()"
   ]
  },
  {
   "cell_type": "code",
   "execution_count": null,
   "id": "ab35dd0e-e9c2-45ac-ba92-f74c213d2331",
   "metadata": {},
   "outputs": [],
   "source": []
  },
  {
   "cell_type": "code",
   "execution_count": 57,
   "id": "33308e9b-24ae-4096-9993-387aa7fb4fa4",
   "metadata": {},
   "outputs": [
    {
     "data": {
      "image/png": "[encoded data removed]",
      "text/plain": [
       "<Figure size 1600x600 with 1 Axes>"
      ]
     },
     "metadata": {},
     "output_type": "display_data"
    }
   ],
   "source": [
    "# class별 요금을 가로 박스플롯으로 그려서 이상값을 확인\n",
    "plt.figure(figsize=(16,6))\n",
    "sns.boxplot(x='fare', y='class', orient='h', data=titanic, palette='Set2', hue='class')\n",
    "plt.grid()\n",
    "plt.show()"
   ]
  },
  {
   "cell_type": "code",
   "execution_count": 58,
   "id": "2e1b1712-e3ad-4440-900f-b11b4738cded",
   "metadata": {},
   "outputs": [
    {
     "data": {
      "text/plain": [
       "258    512.3292\n",
       "737    512.3292\n",
       "679    512.3292\n",
       "88     263.0000\n",
       "27     263.0000\n",
       "341    263.0000\n",
       "438    263.0000\n",
       "311    262.3750\n",
       "742    262.3750\n",
       "118    247.5208\n",
       "299    247.5208\n",
       "557    227.5250\n",
       "700    227.5250\n",
       "380    227.5250\n",
       "716    227.5250\n",
       "527    221.7792\n",
       "377    211.5000\n",
       "730    211.3375\n",
       "779    211.3375\n",
       "689    211.3375\n",
       "318    164.8667\n",
       "856    164.8667\n",
       "268    153.4625\n",
       "332    153.4625\n",
       "609    153.4625\n",
       "498    151.5500\n",
       "305    151.5500\n",
       "297    151.5500\n",
       "708    151.5500\n",
       "195    146.5208\n",
       "Name: fare, dtype: float64"
      ]
     },
     "execution_count": 58,
     "metadata": {},
     "output_type": "execute_result"
    }
   ],
   "source": [
    "titanic.fare.sort_values(ascending=False).head(30)"
   ]
  },
  {
   "cell_type": "code",
   "execution_count": 59,
   "id": "6d96ede3-f3fd-4e68-828b-b2df7e505c07",
   "metadata": {},
   "outputs": [
    {
     "data": {
      "text/plain": [
       "271    0.0000\n",
       "597    0.0000\n",
       "302    0.0000\n",
       "633    0.0000\n",
       "277    0.0000\n",
       "413    0.0000\n",
       "674    0.0000\n",
       "263    0.0000\n",
       "466    0.0000\n",
       "732    0.0000\n",
       "179    0.0000\n",
       "806    0.0000\n",
       "481    0.0000\n",
       "822    0.0000\n",
       "815    0.0000\n",
       "378    4.0125\n",
       "872    5.0000\n",
       "326    6.2375\n",
       "843    6.4375\n",
       "818    6.4500\n",
       "371    6.4958\n",
       "202    6.4958\n",
       "654    6.7500\n",
       "143    6.7500\n",
       "411    6.8583\n",
       "825    6.9500\n",
       "129    6.9750\n",
       "804    6.9750\n",
       "477    7.0458\n",
       "611    7.0500\n",
       "Name: fare, dtype: float64"
      ]
     },
     "execution_count": 59,
     "metadata": {},
     "output_type": "execute_result"
    }
   ],
   "source": [
    "titanic.fare.sort_values(ascending=True).head(30)"
   ]
  },
  {
   "cell_type": "code",
   "execution_count": 60,
   "id": "1e8f9c49-a548-41a6-a5d3-f0b85db3e917",
   "metadata": {},
   "outputs": [
    {
     "data": {
      "text/html": [
       "<div>\n",
       "<style scoped>\n",
       "    .dataframe tbody tr th:only-of-type {\n",
       "        vertical-align: middle;\n",
       "    }\n",
       "\n",
       "    .dataframe tbody tr th {\n",
       "        vertical-align: top;\n",
       "    }\n",
       "\n",
       "    .dataframe thead th {\n",
       "        text-align: right;\n",
       "    }\n",
       "</style>\n",
       "<table border=\"1\" class=\"dataframe\">\n",
       "  <thead>\n",
       "    <tr style=\"text-align: right;\">\n",
       "      <th></th>\n",
       "      <th>total_bill</th>\n",
       "      <th>tip</th>\n",
       "      <th>sex</th>\n",
       "      <th>smoker</th>\n",
       "      <th>day</th>\n",
       "      <th>time</th>\n",
       "      <th>size</th>\n",
       "    </tr>\n",
       "  </thead>\n",
       "  <tbody>\n",
       "    <tr>\n",
       "      <th>0</th>\n",
       "      <td>16.99</td>\n",
       "      <td>1.01</td>\n",
       "      <td>Female</td>\n",
       "      <td>No</td>\n",
       "      <td>Sun</td>\n",
       "      <td>Dinner</td>\n",
       "      <td>2</td>\n",
       "    </tr>\n",
       "    <tr>\n",
       "      <th>1</th>\n",
       "      <td>10.34</td>\n",
       "      <td>1.66</td>\n",
       "      <td>Male</td>\n",
       "      <td>No</td>\n",
       "      <td>Sun</td>\n",
       "      <td>Dinner</td>\n",
       "      <td>3</td>\n",
       "    </tr>\n",
       "    <tr>\n",
       "      <th>2</th>\n",
       "      <td>21.01</td>\n",
       "      <td>3.50</td>\n",
       "      <td>Male</td>\n",
       "      <td>No</td>\n",
       "      <td>Sun</td>\n",
       "      <td>Dinner</td>\n",
       "      <td>3</td>\n",
       "    </tr>\n",
       "    <tr>\n",
       "      <th>3</th>\n",
       "      <td>23.68</td>\n",
       "      <td>3.31</td>\n",
       "      <td>Male</td>\n",
       "      <td>No</td>\n",
       "      <td>Sun</td>\n",
       "      <td>Dinner</td>\n",
       "      <td>2</td>\n",
       "    </tr>\n",
       "    <tr>\n",
       "      <th>4</th>\n",
       "      <td>24.59</td>\n",
       "      <td>3.61</td>\n",
       "      <td>Female</td>\n",
       "      <td>No</td>\n",
       "      <td>Sun</td>\n",
       "      <td>Dinner</td>\n",
       "      <td>4</td>\n",
       "    </tr>\n",
       "  </tbody>\n",
       "</table>\n",
       "</div>"
      ],
      "text/plain": [
       "   total_bill   tip     sex smoker  day    time  size\n",
       "0       16.99  1.01  Female     No  Sun  Dinner     2\n",
       "1       10.34  1.66    Male     No  Sun  Dinner     3\n",
       "2       21.01  3.50    Male     No  Sun  Dinner     3\n",
       "3       23.68  3.31    Male     No  Sun  Dinner     2\n",
       "4       24.59  3.61  Female     No  Sun  Dinner     4"
      ]
     },
     "execution_count": 60,
     "metadata": {},
     "output_type": "execute_result"
    }
   ],
   "source": [
    "# tips 데이터셋에서 tip 값의 이상치 탐색\n",
    "tips = sns.load_dataset('tips')\n",
    "tips.head()"
   ]
  },
  {
   "cell_type": "code",
   "execution_count": 61,
   "id": "81bfadd0-0864-4c77-9226-872119f9443a",
   "metadata": {},
   "outputs": [
    {
     "data": {
      "image/png": "[encoded data removed]",
      "text/plain": [
       "<Figure size 600x600 with 1 Axes>"
      ]
     },
     "metadata": {},
     "output_type": "display_data"
    }
   ],
   "source": [
    "tips['tip'].plot.box(figsize=(6,6))\n",
    "plt.show()"
   ]
  },
  {
   "cell_type": "code",
   "execution_count": 62,
   "id": "b75357b6-2ed5-4c0e-a706-59000df3a2c5",
   "metadata": {},
   "outputs": [
    {
     "data": {
      "image/png": "[encoded data removed]",
      "text/plain": [
       "<Figure size 600x600 with 1 Axes>"
      ]
     },
     "metadata": {},
     "output_type": "display_data"
    }
   ],
   "source": [
    "plt.figure(figsize=(6,6))\n",
    "sns.boxplot(x='sex', y='tip', orient='v', data=tips, palette='Set2', hue='sex')\n",
    "plt.grid()\n",
    "plt.show()"
   ]
  },
  {
   "cell_type": "code",
   "execution_count": null,
   "id": "04b0bdad-de30-4574-ab8e-6ccb1346339a",
   "metadata": {},
   "outputs": [],
   "source": []
  },
  {
   "cell_type": "markdown",
   "id": "fc956570-8fe6-4b92-8b27-e2d5965222fe",
   "metadata": {},
   "source": [
    "#### 이상값 처리"
   ]
  },
  {
   "cell_type": "markdown",
   "id": "73899013-03ec-4201-aa92-05a9e11e885b",
   "metadata": {},
   "source": [
    "- ESD를 이용해서 이상값의 범위 확인( 평균 : m, 표준편차 : s )\n",
    "  - m - 3s < 정상범위 < m + 3s"
   ]
  },
  {
   "cell_type": "code",
   "execution_count": 65,
   "id": "5ff7d5ae-cbf8-4370-b0ae-a25b1b66b8b6",
   "metadata": {},
   "outputs": [
    {
     "name": "stdout",
     "output_type": "stream",
     "text": [
      "Lower : -1.15, Upper : 7.15 \n"
     ]
    }
   ],
   "source": [
    "# tips 데이터셋의 tip 의 정상값의 범위의 하한값과 상한값을 계산 출력\n",
    "t_mean, t_std = tips['tip'].mean(), tips['tip'].std()\n",
    "print(f'Lower : {round(t_mean - 3 * t_std, 2 )}, Upper : {round(t_mean + 3 * t_std, 2)} ')"
   ]
  },
  {
   "cell_type": "markdown",
   "id": "02a3c300-8ec5-4291-8be8-ae69bfee5844",
   "metadata": {},
   "source": [
    "- 사분위수를 이용해서 정상값의 범위 확인\n",
    "  - Q1 - IQR * 1.5 < 정상범위 < Q3 + IQR * 1.5"
   ]
  },
  {
   "cell_type": "code",
   "execution_count": 67,
   "id": "b95e9ac6-adc8-4e1f-b218-aecbfba86adf",
   "metadata": {},
   "outputs": [
    {
     "name": "stdout",
     "output_type": "stream",
     "text": [
      "하한값 : -0.34375, 상한값 : 5.90625\n"
     ]
    }
   ],
   "source": [
    "s = tips['tip']\n",
    "Q1, Q3 = s.quantile([0.25 , 0.75])\n",
    "IQR = Q3 - Q1\n",
    "q_lower = Q1 - IQR * 1.5\n",
    "q_upper = Q3 + IQR * 1.5\n",
    "print(f'하한값 : {q_lower}, 상한값 : {q_upper}')"
   ]
  },
  {
   "cell_type": "code",
   "execution_count": 68,
   "id": "6bc725af-4923-4b73-8be2-c84ef9219fa7",
   "metadata": {},
   "outputs": [],
   "source": [
    "# tips2 데이터프레임에 정상범위에 있는 값만 추출, tips 와 샘플차이 확인\n",
    "tips2 = tips[ (tips['tip'] > q_lower ) & (tips['tip'] < q_upper)]"
   ]
  },
  {
   "cell_type": "code",
   "execution_count": 69,
   "id": "31078808-410a-4390-9f07-0bfe1f81aab3",
   "metadata": {},
   "outputs": [
    {
     "data": {
      "text/plain": [
       "235"
      ]
     },
     "execution_count": 69,
     "metadata": {},
     "output_type": "execute_result"
    }
   ],
   "source": [
    "len(tips2)"
   ]
  },
  {
   "cell_type": "code",
   "execution_count": 70,
   "id": "a426d2fe-d5f1-45d2-b5aa-b3432f69a71b",
   "metadata": {},
   "outputs": [
    {
     "data": {
      "text/plain": [
       "(235, 7)"
      ]
     },
     "execution_count": 70,
     "metadata": {},
     "output_type": "execute_result"
    }
   ],
   "source": [
    "tips2.shape"
   ]
  },
  {
   "cell_type": "code",
   "execution_count": 71,
   "id": "61d1418e-8f7f-408e-8945-88194cb5e778",
   "metadata": {},
   "outputs": [
    {
     "name": "stdout",
     "output_type": "stream",
     "text": [
      "(244, 7) (235, 7)\n"
     ]
    }
   ],
   "source": [
    "print(tips.shape, tips2.shape)"
   ]
  },
  {
   "cell_type": "code",
   "execution_count": 72,
   "id": "1b2cbdc4-4ca8-49b6-b771-8b4b16bbe0bb",
   "metadata": {},
   "outputs": [
    {
     "data": {
      "text/html": [
       "<div>\n",
       "<style scoped>\n",
       "    .dataframe tbody tr th:only-of-type {\n",
       "        vertical-align: middle;\n",
       "    }\n",
       "\n",
       "    .dataframe tbody tr th {\n",
       "        vertical-align: top;\n",
       "    }\n",
       "\n",
       "    .dataframe thead th {\n",
       "        text-align: right;\n",
       "    }\n",
       "</style>\n",
       "<table border=\"1\" class=\"dataframe\">\n",
       "  <thead>\n",
       "    <tr style=\"text-align: right;\">\n",
       "      <th></th>\n",
       "      <th>total_bill</th>\n",
       "      <th>tip</th>\n",
       "      <th>sex</th>\n",
       "      <th>smoker</th>\n",
       "      <th>day</th>\n",
       "      <th>time</th>\n",
       "      <th>size</th>\n",
       "    </tr>\n",
       "  </thead>\n",
       "  <tbody>\n",
       "    <tr>\n",
       "      <th>23</th>\n",
       "      <td>39.42</td>\n",
       "      <td>7.58</td>\n",
       "      <td>Male</td>\n",
       "      <td>No</td>\n",
       "      <td>Sat</td>\n",
       "      <td>Dinner</td>\n",
       "      <td>4</td>\n",
       "    </tr>\n",
       "    <tr>\n",
       "      <th>47</th>\n",
       "      <td>32.40</td>\n",
       "      <td>6.00</td>\n",
       "      <td>Male</td>\n",
       "      <td>No</td>\n",
       "      <td>Sun</td>\n",
       "      <td>Dinner</td>\n",
       "      <td>4</td>\n",
       "    </tr>\n",
       "    <tr>\n",
       "      <th>59</th>\n",
       "      <td>48.27</td>\n",
       "      <td>6.73</td>\n",
       "      <td>Male</td>\n",
       "      <td>No</td>\n",
       "      <td>Sat</td>\n",
       "      <td>Dinner</td>\n",
       "      <td>4</td>\n",
       "    </tr>\n",
       "    <tr>\n",
       "      <th>141</th>\n",
       "      <td>34.30</td>\n",
       "      <td>6.70</td>\n",
       "      <td>Male</td>\n",
       "      <td>No</td>\n",
       "      <td>Thur</td>\n",
       "      <td>Lunch</td>\n",
       "      <td>6</td>\n",
       "    </tr>\n",
       "    <tr>\n",
       "      <th>170</th>\n",
       "      <td>50.81</td>\n",
       "      <td>10.00</td>\n",
       "      <td>Male</td>\n",
       "      <td>Yes</td>\n",
       "      <td>Sat</td>\n",
       "      <td>Dinner</td>\n",
       "      <td>3</td>\n",
       "    </tr>\n",
       "    <tr>\n",
       "      <th>183</th>\n",
       "      <td>23.17</td>\n",
       "      <td>6.50</td>\n",
       "      <td>Male</td>\n",
       "      <td>Yes</td>\n",
       "      <td>Sun</td>\n",
       "      <td>Dinner</td>\n",
       "      <td>4</td>\n",
       "    </tr>\n",
       "    <tr>\n",
       "      <th>212</th>\n",
       "      <td>48.33</td>\n",
       "      <td>9.00</td>\n",
       "      <td>Male</td>\n",
       "      <td>No</td>\n",
       "      <td>Sat</td>\n",
       "      <td>Dinner</td>\n",
       "      <td>4</td>\n",
       "    </tr>\n",
       "    <tr>\n",
       "      <th>214</th>\n",
       "      <td>28.17</td>\n",
       "      <td>6.50</td>\n",
       "      <td>Female</td>\n",
       "      <td>Yes</td>\n",
       "      <td>Sat</td>\n",
       "      <td>Dinner</td>\n",
       "      <td>3</td>\n",
       "    </tr>\n",
       "    <tr>\n",
       "      <th>239</th>\n",
       "      <td>29.03</td>\n",
       "      <td>5.92</td>\n",
       "      <td>Male</td>\n",
       "      <td>No</td>\n",
       "      <td>Sat</td>\n",
       "      <td>Dinner</td>\n",
       "      <td>3</td>\n",
       "    </tr>\n",
       "  </tbody>\n",
       "</table>\n",
       "</div>"
      ],
      "text/plain": [
       "     total_bill    tip     sex smoker   day    time  size\n",
       "23        39.42   7.58    Male     No   Sat  Dinner     4\n",
       "47        32.40   6.00    Male     No   Sun  Dinner     4\n",
       "59        48.27   6.73    Male     No   Sat  Dinner     4\n",
       "141       34.30   6.70    Male     No  Thur   Lunch     6\n",
       "170       50.81  10.00    Male    Yes   Sat  Dinner     3\n",
       "183       23.17   6.50    Male    Yes   Sun  Dinner     4\n",
       "212       48.33   9.00    Male     No   Sat  Dinner     4\n",
       "214       28.17   6.50  Female    Yes   Sat  Dinner     3\n",
       "239       29.03   5.92    Male     No   Sat  Dinner     3"
      ]
     },
     "execution_count": 72,
     "metadata": {},
     "output_type": "execute_result"
    }
   ],
   "source": [
    "# 이상값 데이터들의 값목록 출력\n",
    "tips_outlier = tips[(tips['tip']<=q_lower) | (tips['tip']>=q_upper)]\n",
    "tips_outlier"
   ]
  },
  {
   "cell_type": "code",
   "execution_count": 73,
   "id": "aaf8f6da-48ce-4c09-9fd5-625431a1ac16",
   "metadata": {},
   "outputs": [
    {
     "data": {
      "text/plain": [
       "9"
      ]
     },
     "execution_count": 73,
     "metadata": {},
     "output_type": "execute_result"
    }
   ],
   "source": [
    "len(tips_outlier)"
   ]
  },
  {
   "cell_type": "code",
   "execution_count": 74,
   "id": "4afda711-e861-49f1-87fa-1d4326632e10",
   "metadata": {},
   "outputs": [
    {
     "data": {
      "text/html": [
       "<div>\n",
       "<style scoped>\n",
       "    .dataframe tbody tr th:only-of-type {\n",
       "        vertical-align: middle;\n",
       "    }\n",
       "\n",
       "    .dataframe tbody tr th {\n",
       "        vertical-align: top;\n",
       "    }\n",
       "\n",
       "    .dataframe thead th {\n",
       "        text-align: right;\n",
       "    }\n",
       "</style>\n",
       "<table border=\"1\" class=\"dataframe\">\n",
       "  <thead>\n",
       "    <tr style=\"text-align: right;\">\n",
       "      <th></th>\n",
       "      <th>total_bill</th>\n",
       "      <th>tip</th>\n",
       "      <th>sex</th>\n",
       "      <th>smoker</th>\n",
       "      <th>day</th>\n",
       "      <th>time</th>\n",
       "      <th>size</th>\n",
       "    </tr>\n",
       "  </thead>\n",
       "  <tbody>\n",
       "    <tr>\n",
       "      <th>23</th>\n",
       "      <td>39.42</td>\n",
       "      <td>7.58</td>\n",
       "      <td>Male</td>\n",
       "      <td>No</td>\n",
       "      <td>Sat</td>\n",
       "      <td>Dinner</td>\n",
       "      <td>4</td>\n",
       "    </tr>\n",
       "    <tr>\n",
       "      <th>47</th>\n",
       "      <td>32.40</td>\n",
       "      <td>6.00</td>\n",
       "      <td>Male</td>\n",
       "      <td>No</td>\n",
       "      <td>Sun</td>\n",
       "      <td>Dinner</td>\n",
       "      <td>4</td>\n",
       "    </tr>\n",
       "    <tr>\n",
       "      <th>59</th>\n",
       "      <td>48.27</td>\n",
       "      <td>6.73</td>\n",
       "      <td>Male</td>\n",
       "      <td>No</td>\n",
       "      <td>Sat</td>\n",
       "      <td>Dinner</td>\n",
       "      <td>4</td>\n",
       "    </tr>\n",
       "    <tr>\n",
       "      <th>141</th>\n",
       "      <td>34.30</td>\n",
       "      <td>6.70</td>\n",
       "      <td>Male</td>\n",
       "      <td>No</td>\n",
       "      <td>Thur</td>\n",
       "      <td>Lunch</td>\n",
       "      <td>6</td>\n",
       "    </tr>\n",
       "    <tr>\n",
       "      <th>170</th>\n",
       "      <td>50.81</td>\n",
       "      <td>10.00</td>\n",
       "      <td>Male</td>\n",
       "      <td>Yes</td>\n",
       "      <td>Sat</td>\n",
       "      <td>Dinner</td>\n",
       "      <td>3</td>\n",
       "    </tr>\n",
       "    <tr>\n",
       "      <th>183</th>\n",
       "      <td>23.17</td>\n",
       "      <td>6.50</td>\n",
       "      <td>Male</td>\n",
       "      <td>Yes</td>\n",
       "      <td>Sun</td>\n",
       "      <td>Dinner</td>\n",
       "      <td>4</td>\n",
       "    </tr>\n",
       "    <tr>\n",
       "      <th>212</th>\n",
       "      <td>48.33</td>\n",
       "      <td>9.00</td>\n",
       "      <td>Male</td>\n",
       "      <td>No</td>\n",
       "      <td>Sat</td>\n",
       "      <td>Dinner</td>\n",
       "      <td>4</td>\n",
       "    </tr>\n",
       "    <tr>\n",
       "      <th>214</th>\n",
       "      <td>28.17</td>\n",
       "      <td>6.50</td>\n",
       "      <td>Female</td>\n",
       "      <td>Yes</td>\n",
       "      <td>Sat</td>\n",
       "      <td>Dinner</td>\n",
       "      <td>3</td>\n",
       "    </tr>\n",
       "    <tr>\n",
       "      <th>239</th>\n",
       "      <td>29.03</td>\n",
       "      <td>5.92</td>\n",
       "      <td>Male</td>\n",
       "      <td>No</td>\n",
       "      <td>Sat</td>\n",
       "      <td>Dinner</td>\n",
       "      <td>3</td>\n",
       "    </tr>\n",
       "  </tbody>\n",
       "</table>\n",
       "</div>"
      ],
      "text/plain": [
       "     total_bill    tip     sex smoker   day    time  size\n",
       "23        39.42   7.58    Male     No   Sat  Dinner     4\n",
       "47        32.40   6.00    Male     No   Sun  Dinner     4\n",
       "59        48.27   6.73    Male     No   Sat  Dinner     4\n",
       "141       34.30   6.70    Male     No  Thur   Lunch     6\n",
       "170       50.81  10.00    Male    Yes   Sat  Dinner     3\n",
       "183       23.17   6.50    Male    Yes   Sun  Dinner     4\n",
       "212       48.33   9.00    Male     No   Sat  Dinner     4\n",
       "214       28.17   6.50  Female    Yes   Sat  Dinner     3\n",
       "239       29.03   5.92    Male     No   Sat  Dinner     3"
      ]
     },
     "execution_count": 74,
     "metadata": {},
     "output_type": "execute_result"
    }
   ],
   "source": [
    "tips4 = tips.copy()\n",
    "tips4.loc[ (tips4['tip'] > q_upper) | ( tips4['tip'] < q_lower ) ]"
   ]
  },
  {
   "cell_type": "code",
   "execution_count": 75,
   "id": "7a65f6db-f23e-42c0-bd0e-bf9a24f3a058",
   "metadata": {},
   "outputs": [
    {
     "data": {
      "text/html": [
       "<div>\n",
       "<style scoped>\n",
       "    .dataframe tbody tr th:only-of-type {\n",
       "        vertical-align: middle;\n",
       "    }\n",
       "\n",
       "    .dataframe tbody tr th {\n",
       "        vertical-align: top;\n",
       "    }\n",
       "\n",
       "    .dataframe thead th {\n",
       "        text-align: right;\n",
       "    }\n",
       "</style>\n",
       "<table border=\"1\" class=\"dataframe\">\n",
       "  <thead>\n",
       "    <tr style=\"text-align: right;\">\n",
       "      <th></th>\n",
       "      <th>total_bill</th>\n",
       "      <th>tip</th>\n",
       "      <th>sex</th>\n",
       "      <th>smoker</th>\n",
       "      <th>day</th>\n",
       "      <th>time</th>\n",
       "      <th>size</th>\n",
       "    </tr>\n",
       "  </thead>\n",
       "  <tbody>\n",
       "  </tbody>\n",
       "</table>\n",
       "</div>"
      ],
      "text/plain": [
       "Empty DataFrame\n",
       "Columns: [total_bill, tip, sex, smoker, day, time, size]\n",
       "Index: []"
      ]
     },
     "execution_count": 75,
     "metadata": {},
     "output_type": "execute_result"
    }
   ],
   "source": [
    "# 이상값 대체 - q_lower보다 작은 값은 q_lower로 q_upper보다 큰 값은 q_upper로 대체\n",
    "tips3 = tips.copy()\n",
    "tips3.loc[tips3['tip'] > q_upper, 'tip'] = q_upper\n",
    "tips3.loc[tips3['tip'] < q_lower, 'tip'] = q_lower\n",
    "tips3.loc[ (tips3['tip'] > q_upper) | ( tips3['tip'] < q_lower ) ]"
   ]
  },
  {
   "cell_type": "code",
   "execution_count": 76,
   "id": "25eb9741-8ae1-4428-bbe7-a397afd02b55",
   "metadata": {},
   "outputs": [
    {
     "data": {
      "image/png": "[encoded data removed]",
      "text/plain": [
       "<Figure size 640x480 with 1 Axes>"
      ]
     },
     "metadata": {},
     "output_type": "display_data"
    }
   ],
   "source": [
    "# tips의 tip의 값을 box 플롯으로 확인해서 이상값 확인\n",
    "tips3['tip'].plot.box()\n",
    "plt.show()"
   ]
  },
  {
   "cell_type": "code",
   "execution_count": null,
   "id": "2c195427-762f-4213-b426-2603e5b295ef",
   "metadata": {},
   "outputs": [],
   "source": []
  },
  {
   "cell_type": "code",
   "execution_count": null,
   "id": "1b886d61-335d-483f-902b-90417ed6ba1e",
   "metadata": {},
   "outputs": [],
   "source": []
  },
  {
   "cell_type": "markdown",
   "id": "1b760da9-a606-4e6f-9e3b-9521e29da38a",
   "metadata": {},
   "source": [
    "- 전처리 기법 중 데이터 변환, 데이터 스케일링, 변수 추가 및 변수 변환"
   ]
  },
  {
   "cell_type": "markdown",
   "id": "fd931d9c-111b-40bc-8003-0a635333457e",
   "metadata": {},
   "source": [
    "1. 데이터 변환(Transform)\n",
    "- 데이터의 값 자체를 바꾼다는 것\n",
    "- 이상치를 완화하거나, 정규분포가 되도록 하기 위해 사용\n",
    "- 머신러닝이 학습하기 좋도록 하는 목적도 있고, 학습이 잘 되도록 하기 위함\n",
    "- 대부분의 모델은 변수가 특정 분포(정규분포에 가까운)를 따른다는 가정을 기반\n",
    "- 데이터 분포에 따라 로그, 루트, 지수, 거듭제곱 등 다양한 함수를 사용하여 데이터 분포 변환(numpy활용)"
   ]
  },
  {
   "cell_type": "markdown",
   "id": "84fa05c8-4254-40b7-859a-c9fe294eb5d6",
   "metadata": {},
   "source": [
    "##### 데이터 변환에 사용되는 함수\n",
    "- 로그(log1p), 제곱근(sqrt) : 큰 값을 작게 만들어 줌, 오른쪽 꼬리가 긴 분포를 정규분포와 비슷한 형태로 변환, 큰 이상치를 작게 만들 수 있음\n",
    "- 익스포넨셜(expm1), 제곱(power) : 작은 값을 크게 만들어 줌, 왼쪽 꼬리가 긴 분포를 정규분포와 비슷한 형태로 변환"
   ]
  },
  {
   "cell_type": "code",
   "execution_count": 152,
   "id": "bb9ce6d6-5d1a-4280-bcd8-4b35a142d72b",
   "metadata": {},
   "outputs": [],
   "source": [
    "def draw_distplot(col_name):\n",
    "    class_names = ['first', 'second', 'third']\n",
    "    plt.figure(figsize=(12,5))\n",
    "    for i in range(0,3):\n",
    "        plt.subplot(1,3,i+1)\n",
    "        sns.distplot(titanic[titanic.pclass == (i+1)][col_name], axlabel = class_names[i])\n",
    "    plt.tight_layout()\n",
    "    plt.show()"
   ]
  },
  {
   "cell_type": "code",
   "execution_count": 154,
   "id": "59c5d429-1c29-4f6c-91b1-7806c974773b",
   "metadata": {},
   "outputs": [
    {
     "name": "stderr",
     "output_type": "stream",
     "text": [
      "C:\\Users\\kj\\AppData\\Local\\Temp\\ipykernel_7252\\425490978.py:6: UserWarning: \n",
      "\n",
      "`distplot` is a deprecated function and will be removed in seaborn v0.14.0.\n",
      "\n",
      "Please adapt your code to use either `displot` (a figure-level function with\n",
      "similar flexibility) or `histplot` (an axes-level function for histograms).\n",
      "\n",
      "For a guide to updating your code to use the new functions, please see\n",
      "https://gist.github.com/mwaskom/de44147ed2974457ad6372750bbe5751\n",
      "\n",
      "  sns.distplot(titanic[titanic.pclass == (i+1)][col_name], axlabel = class_names[i])\n",
      "C:\\Users\\kj\\AppData\\Local\\Temp\\ipykernel_7252\\425490978.py:6: UserWarning: \n",
      "\n",
      "`distplot` is a deprecated function and will be removed in seaborn v0.14.0.\n",
      "\n",
      "Please adapt your code to use either `displot` (a figure-level function with\n",
      "similar flexibility) or `histplot` (an axes-level function for histograms).\n",
      "\n",
      "For a guide to updating your code to use the new functions, please see\n",
      "https://gist.github.com/mwaskom/de44147ed2974457ad6372750bbe5751\n",
      "\n",
      "  sns.distplot(titanic[titanic.pclass == (i+1)][col_name], axlabel = class_names[i])\n",
      "C:\\Users\\kj\\AppData\\Local\\Temp\\ipykernel_7252\\425490978.py:6: UserWarning: \n",
      "\n",
      "`distplot` is a deprecated function and will be removed in seaborn v0.14.0.\n",
      "\n",
      "Please adapt your code to use either `displot` (a figure-level function with\n",
      "similar flexibility) or `histplot` (an axes-level function for histograms).\n",
      "\n",
      "For a guide to updating your code to use the new functions, please see\n",
      "https://gist.github.com/mwaskom/de44147ed2974457ad6372750bbe5751\n",
      "\n",
      "  sns.distplot(titanic[titanic.pclass == (i+1)][col_name], axlabel = class_names[i])\n"
     ]
    },
    {
     "data": {
      "image/png": "[encoded data removed]",
      "text/plain": [
       "<Figure size 1200x500 with 3 Axes>"
      ]
     },
     "metadata": {},
     "output_type": "display_data"
    }
   ],
   "source": [
    "draw_distplot('fare')"
   ]
  },
  {
   "cell_type": "code",
   "execution_count": 156,
   "id": "1a219f89-de97-4906-b0ed-5b4c88b6b918",
   "metadata": {},
   "outputs": [
    {
     "data": {
      "text/plain": [
       "4.787316519674893"
      ]
     },
     "execution_count": 156,
     "metadata": {},
     "output_type": "execute_result"
    }
   ],
   "source": [
    "titanic.fare.skew()"
   ]
  },
  {
   "cell_type": "code",
   "execution_count": 158,
   "id": "113da010-07c4-4d05-9624-d2441bccf5e3",
   "metadata": {},
   "outputs": [
    {
     "data": {
      "text/plain": [
       "33.39814088089868"
      ]
     },
     "execution_count": 158,
     "metadata": {},
     "output_type": "execute_result"
    }
   ],
   "source": [
    "titanic.fare.kurt()"
   ]
  },
  {
   "cell_type": "code",
   "execution_count": 160,
   "id": "692b6053-0f7f-40e7-8043-b2a47dcc40ee",
   "metadata": {},
   "outputs": [
    {
     "data": {
      "text/html": [
       "<div>\n",
       "<style scoped>\n",
       "    .dataframe tbody tr th:only-of-type {\n",
       "        vertical-align: middle;\n",
       "    }\n",
       "\n",
       "    .dataframe tbody tr th {\n",
       "        vertical-align: top;\n",
       "    }\n",
       "\n",
       "    .dataframe thead th {\n",
       "        text-align: right;\n",
       "    }\n",
       "</style>\n",
       "<table border=\"1\" class=\"dataframe\">\n",
       "  <thead>\n",
       "    <tr style=\"text-align: right;\">\n",
       "      <th></th>\n",
       "      <th>survived</th>\n",
       "      <th>pclass</th>\n",
       "      <th>sex</th>\n",
       "      <th>age</th>\n",
       "      <th>sibsp</th>\n",
       "      <th>parch</th>\n",
       "      <th>fare</th>\n",
       "      <th>embarked</th>\n",
       "      <th>class</th>\n",
       "      <th>who</th>\n",
       "      <th>adult_male</th>\n",
       "      <th>deck</th>\n",
       "      <th>embark_town</th>\n",
       "      <th>alive</th>\n",
       "      <th>alone</th>\n",
       "    </tr>\n",
       "  </thead>\n",
       "  <tbody>\n",
       "    <tr>\n",
       "      <th>0</th>\n",
       "      <td>0</td>\n",
       "      <td>3</td>\n",
       "      <td>male</td>\n",
       "      <td>22.0</td>\n",
       "      <td>1</td>\n",
       "      <td>0</td>\n",
       "      <td>7.2500</td>\n",
       "      <td>S</td>\n",
       "      <td>Third</td>\n",
       "      <td>man</td>\n",
       "      <td>True</td>\n",
       "      <td>NaN</td>\n",
       "      <td>Southampton</td>\n",
       "      <td>no</td>\n",
       "      <td>False</td>\n",
       "    </tr>\n",
       "    <tr>\n",
       "      <th>1</th>\n",
       "      <td>1</td>\n",
       "      <td>1</td>\n",
       "      <td>female</td>\n",
       "      <td>38.0</td>\n",
       "      <td>1</td>\n",
       "      <td>0</td>\n",
       "      <td>71.2833</td>\n",
       "      <td>C</td>\n",
       "      <td>First</td>\n",
       "      <td>woman</td>\n",
       "      <td>False</td>\n",
       "      <td>C</td>\n",
       "      <td>Cherbourg</td>\n",
       "      <td>yes</td>\n",
       "      <td>False</td>\n",
       "    </tr>\n",
       "    <tr>\n",
       "      <th>2</th>\n",
       "      <td>1</td>\n",
       "      <td>3</td>\n",
       "      <td>female</td>\n",
       "      <td>26.0</td>\n",
       "      <td>0</td>\n",
       "      <td>0</td>\n",
       "      <td>7.9250</td>\n",
       "      <td>S</td>\n",
       "      <td>Third</td>\n",
       "      <td>woman</td>\n",
       "      <td>False</td>\n",
       "      <td>NaN</td>\n",
       "      <td>Southampton</td>\n",
       "      <td>yes</td>\n",
       "      <td>True</td>\n",
       "    </tr>\n",
       "    <tr>\n",
       "      <th>3</th>\n",
       "      <td>1</td>\n",
       "      <td>1</td>\n",
       "      <td>female</td>\n",
       "      <td>35.0</td>\n",
       "      <td>1</td>\n",
       "      <td>0</td>\n",
       "      <td>53.1000</td>\n",
       "      <td>S</td>\n",
       "      <td>First</td>\n",
       "      <td>woman</td>\n",
       "      <td>False</td>\n",
       "      <td>C</td>\n",
       "      <td>Southampton</td>\n",
       "      <td>yes</td>\n",
       "      <td>False</td>\n",
       "    </tr>\n",
       "    <tr>\n",
       "      <th>4</th>\n",
       "      <td>0</td>\n",
       "      <td>3</td>\n",
       "      <td>male</td>\n",
       "      <td>35.0</td>\n",
       "      <td>0</td>\n",
       "      <td>0</td>\n",
       "      <td>8.0500</td>\n",
       "      <td>S</td>\n",
       "      <td>Third</td>\n",
       "      <td>man</td>\n",
       "      <td>True</td>\n",
       "      <td>NaN</td>\n",
       "      <td>Southampton</td>\n",
       "      <td>no</td>\n",
       "      <td>True</td>\n",
       "    </tr>\n",
       "  </tbody>\n",
       "</table>\n",
       "</div>"
      ],
      "text/plain": [
       "   survived  pclass     sex   age  sibsp  parch     fare embarked  class  \\\n",
       "0         0       3    male  22.0      1      0   7.2500        S  Third   \n",
       "1         1       1  female  38.0      1      0  71.2833        C  First   \n",
       "2         1       3  female  26.0      0      0   7.9250        S  Third   \n",
       "3         1       1  female  35.0      1      0  53.1000        S  First   \n",
       "4         0       3    male  35.0      0      0   8.0500        S  Third   \n",
       "\n",
       "     who  adult_male deck  embark_town alive  alone  \n",
       "0    man        True  NaN  Southampton    no  False  \n",
       "1  woman       False    C    Cherbourg   yes  False  \n",
       "2  woman       False  NaN  Southampton   yes   True  \n",
       "3  woman       False    C  Southampton   yes  False  \n",
       "4    man        True  NaN  Southampton    no   True  "
      ]
     },
     "execution_count": 160,
     "metadata": {},
     "output_type": "execute_result"
    }
   ],
   "source": [
    "titanic.head()"
   ]
  },
  {
   "cell_type": "code",
   "execution_count": 162,
   "id": "5293e84e-230b-4684-b0fb-176a0014b4d2",
   "metadata": {},
   "outputs": [],
   "source": [
    "from sklearn import preprocessing"
   ]
  },
  {
   "cell_type": "code",
   "execution_count": 164,
   "id": "0f3de306-3662-4c81-bc67-a097e503fef5",
   "metadata": {},
   "outputs": [],
   "source": [
    "a = np.log1p(titanic.fare)\n",
    "b = preprocessing.scale(np.log1p(titanic.fare))"
   ]
  },
  {
   "cell_type": "code",
   "execution_count": 168,
   "id": "73c0e7eb-bbee-4dbb-8e02-9c266cc99b2b",
   "metadata": {},
   "outputs": [
    {
     "name": "stdout",
     "output_type": "stream",
     "text": [
      "<class 'pandas.core.series.Series'> <class 'numpy.ndarray'>\n"
     ]
    }
   ],
   "source": [
    "print(type(a), type(b))"
   ]
  },
  {
   "cell_type": "code",
   "execution_count": 170,
   "id": "301c613e-e271-40dc-aaef-84043bafc60c",
   "metadata": {},
   "outputs": [
    {
     "data": {
      "text/plain": [
       "0      2.110213\n",
       "1      4.280593\n",
       "2      2.188856\n",
       "3      3.990834\n",
       "4      2.202765\n",
       "         ...   \n",
       "886    2.639057\n",
       "887    3.433987\n",
       "888    3.196630\n",
       "889    3.433987\n",
       "890    2.169054\n",
       "Name: fare, Length: 891, dtype: float64"
      ]
     },
     "execution_count": 170,
     "metadata": {},
     "output_type": "execute_result"
    }
   ],
   "source": [
    "a"
   ]
  },
  {
   "cell_type": "code",
   "execution_count": 172,
   "id": "9057094d-c74a-456e-90a9-d026398bcd0c",
   "metadata": {},
   "outputs": [
    {
     "data": {
      "text/plain": [
       "array([-0.87974057,  1.36121993, -0.79853997,  1.06203806, -0.78417924,\n",
       "       -0.7386163 ,  1.03814556,  0.13649914, -0.48145578,  0.48943791,\n",
       "       -0.091565  ,  0.36526094, -0.78417924,  0.52869893, -0.80676338,\n",
       "       -0.13322852,  0.45751954, -0.33369847, -0.01838584, -0.88287417,\n",
       "        0.34443948, -0.33369847, -0.78655506,  0.65571883,  0.13649914,\n",
       "        0.53229169, -0.88287417,  2.69870078, -0.80385215, -0.80192362,\n",
       "        0.40823345,  2.09779492, -0.81898658, -0.53680577,  1.50608578,\n",
       "        1.04082775, -0.88234706, -0.78417924, -0.01838584, -0.47227212,\n",
       "       -0.63319725,  0.13298517, -0.80192362,  0.81478225, -0.80385215,\n",
       "       -0.78417924, -0.1640523 , -0.81898658,  0.16437971, -0.02931208,\n",
       "        0.76785943, -0.81310326,  1.43621998,  0.34443948,  1.21895045,\n",
       "        0.65571883, -0.53680577, -0.88234706,  0.40928266,  0.93636109,\n",
       "       -0.88234706,  1.47877855,  1.52215108,  0.41465572,  0.40823345,\n",
       "       -0.18008317, -0.53680577, -0.77189658, -0.79853997, -0.71656193,\n",
       "       -0.53680577,  0.93636109,  1.39240823, -0.23166126,  1.12489551,\n",
       "       -0.83085476, -0.80192362, -0.78417924,  0.45322631, -0.37316264,\n",
       "       -0.68111276, -0.63073594, -0.81457095,  0.94066327, -0.53680577,\n",
       "       -0.14237942,  0.62339383, -0.78417924,  2.69870078, -0.78417924,\n",
       "       -0.78417924, -0.80676338,  1.20568099,  0.11284358, -0.87974057,\n",
       "       -0.78417924,  0.63151108,  1.24131627,  0.22282615,  0.34443948,\n",
       "       -0.80192362, -0.80192362,  1.44360968, -0.71744924, -0.79853997,\n",
       "       -0.80192362, -0.83085476, -0.81604073, -0.80192362,  0.27115228,\n",
       "        1.04082775, -0.23166126, -0.78417924, -0.59926162, -0.23138737,\n",
       "       -0.79853997, -0.81898658,  0.13298517,  2.63631328,  0.52869893,\n",
       "        1.39240823, -0.78417924,  0.48943791, -0.33369847,  1.44360968,\n",
       "       -0.47227212, -0.81898658, -0.89338449,  0.19484336, -0.9147446 ,\n",
       "       -0.80192362, -0.90507975, -0.22860581,  0.34443948, -0.33369847,\n",
       "       -0.19287328,  0.35521685,  1.06203806, -0.65897704,  1.46853013,\n",
       "       -0.18008317, -0.81898658, -0.14237942, -0.94429408, -0.4507126 ,\n",
       "        0.6904871 , -0.81359617,  0.62339383,  0.34443948, -0.33369847,\n",
       "       -0.36933848,  1.29205644, -0.78417924, -0.22860581, -0.87194793,\n",
       "        1.20906652, -0.8209591 , -0.78417924, -0.71656193,  1.33615918,\n",
       "       -0.12717267, -0.14852539, -0.81604073, -0.71656193,  0.76785943,\n",
       "        0.11044794,  1.09767807,  0.41465572,  0.34156738,  1.12489551,\n",
       "        0.5975333 ,  0.45751954, -0.48145578, -0.79853997,  0.51000128,\n",
       "       -0.80676338,  0.3238412 ,  0.44328361, -0.33369847, -3.05857773,\n",
       "        1.33615918, -0.19260306,  0.53229169,  0.75026378,  0.1800042 ,\n",
       "        1.00111055, -0.1640523 ,  0.36526094, -0.1640523 , -0.80192362,\n",
       "       -0.33369847, -0.33369847, -0.80676338,  0.34443948,  0.40823345,\n",
       "        2.09779492, -0.81898658, -0.74453911, -0.81898658, -0.33369847,\n",
       "       -0.63073594,  1.33615918, -0.9787286 , -0.88287417, -0.78417924,\n",
       "       -0.54017818, -0.14237942,  0.02354629, -0.81898658,  0.51986362,\n",
       "       -0.90507975,  0.13298517, -0.87974057, -0.33369847, -0.81898658,\n",
       "        1.83412923, -0.79853997,  0.3819898 ,  1.430392  , -0.53680577,\n",
       "       -0.78417924, -0.33369847, -0.78417924, -0.80192362,  1.59897456,\n",
       "       -0.6455926 , -0.53680577, -0.87974057, -0.33369847,  0.3238412 ,\n",
       "        1.52215108, -0.81604073, -0.29746599,  0.53229169, -0.53680577,\n",
       "       -0.84286094,  0.34443948,  0.35395586, -0.53680577, -0.38860247,\n",
       "       -0.23166126, -0.1640523 , -0.53680577, -0.89550454, -0.88287417,\n",
       "        1.59897456, -0.81604073, -0.22860581,  1.05156834,  0.34443948,\n",
       "       -0.87974057, -0.54017818,  0.36526094, -0.12717267,  0.09534794,\n",
       "       -0.18008317,  1.46853013,  1.55847839,  3.38529374,  0.34443948,\n",
       "       -0.81898658,  0.53229169,  1.47430738, -3.05857773, -0.81898658,\n",
       "       -0.53680577,  0.76785943, -0.81604073,  2.14527242,  2.01863318,\n",
       "        0.51986362, -3.05857773,  0.06007113,  0.47704166, -0.81898658,\n",
       "        1.45241905, -0.81898658, -3.05857773,  0.45751954,  0.09717164,\n",
       "       -0.81898658, -0.80676338, -0.63073594, -0.78417924,  0.34443948,\n",
       "       -0.71656193, -0.63073594, -0.80192362, -0.33369847, -0.81898658,\n",
       "        1.46401426,  1.61114752, -0.3429588 , -0.69671789, -0.80192362,\n",
       "        0.40823345, -0.88234706,  2.13240832,  0.50360313,  2.63631328,\n",
       "       -0.81898658,  0.23352593, -3.05857773, -0.38278544, -0.78417924,\n",
       "        2.13240832,  1.81228993,  1.79382279,  0.26497567,  1.1326494 ,\n",
       "        1.51827284,  2.69625347,  0.34443948, -0.80192362,  0.35395586,\n",
       "       -0.80676338,  0.34443948, -0.26246196,  2.21882202,  2.01003326,\n",
       "       -0.87974057, -0.80192362, -0.38278544,  0.45322631,  1.33615918,\n",
       "        2.01863318, -1.014936  , -0.33369847,  0.11044794,  1.15119683,\n",
       "        0.23352593,  0.43587263,  2.14527242, -0.01838584,  2.0035358 ,\n",
       "       -0.80192362,  1.29205644,  2.01003326, -0.78417924,  0.65571883,\n",
       "        0.34443948,  2.69870078, -0.33369847, -0.33369847, -0.33369847,\n",
       "       -0.33369847, -0.33369847, -0.12717267, -0.1393201 , -0.71656193,\n",
       "       -0.65813856,  0.64147695, -0.88234706, -0.02931208, -0.88287417,\n",
       "       -0.63073594,  1.09767807, -0.33369847, -0.80385215, -0.80385215,\n",
       "        0.41465572,  0.40823345, -0.23166126, -0.90507975, -0.1640523 ,\n",
       "       -0.87974057,  1.41638158, -0.88234706, -0.81898658,  1.33249386,\n",
       "        1.10579012, -0.9787286 , -0.78417924,  2.01863318,  0.13649914,\n",
       "        1.50608578, -0.87974057,  2.47463661, -1.39422295, -0.81604073,\n",
       "        2.54970455, -0.14903716, -0.79853997,  1.04082775, -0.80192362,\n",
       "        1.39240823,  0.93636109, -0.33369847, -0.82144395, -0.41021643,\n",
       "        1.89317153, -0.81359617, -0.79853997,  1.83412923, -0.091565  ,\n",
       "       -0.81359617, -0.80676338,  0.34443948, -0.53680577, -0.35983961,\n",
       "       -0.79853997, -0.78417924, -0.59926162, -0.14237942, -0.71656193,\n",
       "        0.13298517, -0.81898658,  0.02158767, -0.81604073,  0.3238412 ,\n",
       "       -0.80192362, -0.92996533,  1.59897456, -3.05857773, -0.79853997,\n",
       "       -0.78417924,  0.56716288, -0.33369847, -0.33369847,  0.27115228,\n",
       "       -0.80192362, -0.8209591 , -0.80434066, -0.23528881,  0.09534794,\n",
       "       -0.87974057,  0.34443948,  0.34443948, -0.81898658, -0.78417924,\n",
       "        0.36526094, -0.12717267,  0.34443948, -0.89550454,  1.1141402 ,\n",
       "        1.89317153,  0.62339383,  0.02158767,  2.69870078, -0.53680577,\n",
       "        0.35395586, -0.63073594, -0.81604073, -0.33369847, -0.77707309,\n",
       "        1.50219896,  0.06007113,  0.36526094,  0.04782513,  0.50360313,\n",
       "        0.40928266,  0.08331375,  0.40928266,  1.58876012, -0.78417924,\n",
       "       -0.80192362,  0.36526094,  1.03814556, -0.53680577, -0.81898658,\n",
       "        0.36526094, -0.78417924,  0.73727594, -0.33369847, -0.78417924,\n",
       "       -0.90507975, -3.05857773,  0.36526094, -0.82194086,  0.04782513,\n",
       "       -0.87974057, -0.71656193,  0.40928266, -0.27690071, -0.59807002,\n",
       "        1.04082775,  0.13298517, -0.9056186 , -0.84639324, -0.38763069,\n",
       "        0.93636109, -3.05857773, -0.78417924, -0.62216726,  1.61114752,\n",
       "        0.3238412 ,  1.59897456,  0.47704166, -0.78417924, -0.1393201 ,\n",
       "        0.08331375, -0.87974057,  0.50360313,  0.99102373, -0.78417924,\n",
       "       -0.23138737,  1.45644407, -0.18939148,  2.13240832, -0.81359617,\n",
       "       -0.71656193, -0.81898658, -0.83334057, -0.62216726,  1.55847839,\n",
       "        1.79382279,  0.34443948,  0.36526094,  0.20218593,  1.12489551,\n",
       "       -0.81898658, -0.78417924,  0.35537578,  1.1757752 , -0.8494271 ,\n",
       "        0.61300339, -0.53680577,  0.27115228,  0.34443948, -0.80192362,\n",
       "        1.6379422 , -0.80192362, -0.88287417,  1.15119683, -0.88234706,\n",
       "       -0.81898658, -0.53680577,  2.52341198, -0.79853997, -0.4507126 ,\n",
       "        0.34443948, -0.88234706, -0.88234706,  0.19484336, -0.71656193,\n",
       "        0.35395586,  0.36526094,  1.77030412, -0.22860581,  0.99093786,\n",
       "        1.35716522,  0.52869893,  0.52869893,  0.34443948,  1.77030412,\n",
       "        0.34443948,  0.34443948, -0.27197037,  0.11044794,  0.6904871 ,\n",
       "        1.81228993,  0.34443948, -0.80968284, -0.88287417, -0.81604073,\n",
       "        0.36526094,  0.76563657,  2.54970455,  1.47430738, -0.05151766,\n",
       "       -0.81898658, -0.80192362, -0.29746599, -0.78417924, -0.78417924,\n",
       "        0.27115228, -0.80192362,  0.13649914, -0.88234706, -0.80676338,\n",
       "       -0.53680577,  1.0306316 ,  0.35915272, -0.81898658, -0.78417924,\n",
       "       -0.22860581, -0.33369847,  1.1141402 , -0.23138737, -0.79853997,\n",
       "        0.48708246,  1.81228993,  0.34443948,  0.77890253, -0.71123279,\n",
       "        1.47430738, -0.19582465,  1.46853013, -0.78417924, -0.78417924,\n",
       "       -0.89550454,  1.45644407, -0.87974057, -0.81898658,  0.34443948,\n",
       "        0.27115228,  0.58245975, -3.05857773, -0.88287417,  1.1326494 ,\n",
       "        0.3819898 , -0.80192362,  0.83449674, -0.78417924,  0.36526094,\n",
       "       -0.16092818, -0.80192362,  0.50360313,  0.81478225,  2.14527242,\n",
       "        0.52869893, -0.90507975, -0.1640523 , -0.81898658, -0.78417924,\n",
       "        1.26732424, -0.23528881, -0.12717267,  0.75026378, -0.53680577,\n",
       "       -0.23166126,  1.05156834, -0.14903716, -0.80676338, -0.12717267,\n",
       "        0.56162484, -0.38278544,  1.45241905, -0.80192362, -0.8209591 ,\n",
       "        0.48708246, -0.90454119,  0.50360313, -3.05857773,  0.41465572,\n",
       "       -0.33369847, -0.79853997,  0.35395586,  0.76785943, -0.12717267,\n",
       "       -0.80676338,  1.33249386,  0.41465572,  1.12489551,  0.04782513,\n",
       "        1.43621998, -0.80192362,  0.65571883, -0.84286094, -0.84286094,\n",
       "       -0.80192362,  0.22282615, -0.74134905, -0.80968284, -0.94429408,\n",
       "        1.39240823, -0.80192362, -0.1640523 , -0.33369847,  1.83412923,\n",
       "        2.0035358 , -0.88287417,  0.32854313, -0.8494271 , -0.79853997,\n",
       "        1.39240823, -0.33369847, -0.81604073, -0.78417924,  1.04082775,\n",
       "        0.75026378,  1.04082775, -0.53680577, -0.33369847, -3.05857773,\n",
       "       -0.81604073, -0.78417924, -0.59766995,  0.93636109,  3.38529374,\n",
       "       -0.77424427,  1.43621998, -0.65813856,  0.93636109,  0.75026378,\n",
       "        0.81478225,  0.76785943, -0.56679408, -0.81359617,  2.47384674,\n",
       "        1.13391055, -0.30341474,  1.12489551, -0.88287417,  0.36526094,\n",
       "       -0.29746599, -0.78417924, -0.8209591 ,  1.81228993, -0.83085476,\n",
       "        2.54970455,  0.35537578, -0.23166126, -0.81996646, -0.80676338,\n",
       "        0.34443948, -0.29746599,  0.35537578,  2.13240832, -0.18008317,\n",
       "        0.99102373,  0.36526094,  1.04082775, -0.63237945, -0.33369847,\n",
       "       -0.83085476,  2.54970455, -0.53680577, -0.1640523 , -0.81604073,\n",
       "        0.58245975, -0.90454119, -0.33369847, -0.33369847,  1.06203806,\n",
       "       -0.71656193,  0.13298517, -0.82046266,  0.34443948, -0.79853997,\n",
       "        2.47384674,  0.02354629, -3.05857773, -0.33369847, -0.33369847,\n",
       "       -0.12717267,  0.62339383,  3.38529374, -0.80192362, -0.80192362,\n",
       "        0.48708246,  1.46401426,  2.69625347, -0.12717267, -0.79853997,\n",
       "        1.35716522,  0.09717164, -0.33369847,  1.06203806, -0.81898658,\n",
       "        0.22282615, -0.37316264, -0.63073594, -0.80192362,  1.26732424,\n",
       "       -0.22860581, -0.81359617, -0.4507126 , -0.78417924,  1.55847839,\n",
       "       -0.22860581, -0.89550454, -0.88234706,  1.89317153, -0.81604073,\n",
       "        1.45241905,  0.76563657, -0.81898658,  0.27115228, -0.74912768,\n",
       "       -0.63073594, -0.80676338, -0.53680577, -0.88287417,  0.22282615,\n",
       "       -0.81898658, -0.81898658, -0.37316264, -0.82046266,  2.47384674,\n",
       "       -0.88234706,  1.13391055,  0.48708246,  0.24200664, -0.90507975,\n",
       "       -0.87974057, -0.8494271 ,  0.45751954,  0.11284358,  1.46853013,\n",
       "       -0.81898658,  0.34443948,  1.33615918,  0.51000128, -0.80192362,\n",
       "       -0.33369847,  0.34172843, -0.71434167, -0.88234706,  0.27115228,\n",
       "       -0.33369847,  0.35395586,  1.89317153, -0.73226064, -0.9147446 ,\n",
       "       -0.81604073, -3.05857773, -0.81604073, -0.33369847,  1.06203806,\n",
       "       -0.80288743,  0.27115228, -0.53680577,  0.52869893, -0.78417924,\n",
       "       -3.05857773, -0.79853997,  0.69741655, -0.98505674,  0.41465572,\n",
       "        1.6379422 , -0.71656193, -3.05857773, -0.37316264,  0.76785943,\n",
       "       -0.91798642,  1.12489551,  0.69741655, -0.81898658,  1.47877855,\n",
       "       -0.23166126,  0.02158767, -0.88234706, -0.80676338, -0.75604344,\n",
       "        1.51827284, -0.71656193, -0.78417924,  1.12489551,  0.47704166,\n",
       "       -0.79853997, -0.53680577,  0.51986362, -0.98679061, -0.71656193,\n",
       "       -0.84286094,  1.33615918, -0.80192362,  0.58245975,  1.58876012,\n",
       "        0.52869893, -0.81604073, -0.18008317,  0.7605377 ,  0.34443948,\n",
       "       -0.6455926 ,  2.21882202,  0.36526094,  0.04782513, -0.88234706,\n",
       "       -0.25503395, -0.4507126 ,  0.34172843,  1.33615918, -0.33369847,\n",
       "       -0.33369847, -0.27226219,  1.01109979, -0.63073594, -0.48145578,\n",
       "       -0.80192362,  1.05156834, -1.20855039, -0.68111276,  0.26497567,\n",
       "       -0.88287417, -0.59727956, -0.80192362, -0.80192362,  1.51827284,\n",
       "        0.34443948, -0.80192362, -0.53530746, -0.53680577, -0.90507975,\n",
       "        0.45751954, -0.33369847,  0.48708246,  0.24200664,  0.48708246,\n",
       "       -0.81898658])"
      ]
     },
     "execution_count": 172,
     "metadata": {},
     "output_type": "execute_result"
    }
   ],
   "source": [
    "b"
   ]
  },
  {
   "cell_type": "code",
   "execution_count": 174,
   "id": "e1f72dcb-3e6b-4060-b17a-f8a6e35a1919",
   "metadata": {},
   "outputs": [
    {
     "data": {
      "text/html": [
       "<div>\n",
       "<style scoped>\n",
       "    .dataframe tbody tr th:only-of-type {\n",
       "        vertical-align: middle;\n",
       "    }\n",
       "\n",
       "    .dataframe tbody tr th {\n",
       "        vertical-align: top;\n",
       "    }\n",
       "\n",
       "    .dataframe thead th {\n",
       "        text-align: right;\n",
       "    }\n",
       "</style>\n",
       "<table border=\"1\" class=\"dataframe\">\n",
       "  <thead>\n",
       "    <tr style=\"text-align: right;\">\n",
       "      <th></th>\n",
       "      <th>survived</th>\n",
       "      <th>pclass</th>\n",
       "      <th>sex</th>\n",
       "      <th>age</th>\n",
       "      <th>sibsp</th>\n",
       "      <th>parch</th>\n",
       "      <th>fare</th>\n",
       "      <th>embarked</th>\n",
       "      <th>class</th>\n",
       "      <th>who</th>\n",
       "      <th>adult_male</th>\n",
       "      <th>deck</th>\n",
       "      <th>embark_town</th>\n",
       "      <th>alive</th>\n",
       "      <th>alone</th>\n",
       "      <th>fare_log</th>\n",
       "    </tr>\n",
       "  </thead>\n",
       "  <tbody>\n",
       "    <tr>\n",
       "      <th>0</th>\n",
       "      <td>0</td>\n",
       "      <td>3</td>\n",
       "      <td>male</td>\n",
       "      <td>22.0</td>\n",
       "      <td>1</td>\n",
       "      <td>0</td>\n",
       "      <td>7.2500</td>\n",
       "      <td>S</td>\n",
       "      <td>Third</td>\n",
       "      <td>man</td>\n",
       "      <td>True</td>\n",
       "      <td>NaN</td>\n",
       "      <td>Southampton</td>\n",
       "      <td>no</td>\n",
       "      <td>False</td>\n",
       "      <td>-0.879741</td>\n",
       "    </tr>\n",
       "    <tr>\n",
       "      <th>1</th>\n",
       "      <td>1</td>\n",
       "      <td>1</td>\n",
       "      <td>female</td>\n",
       "      <td>38.0</td>\n",
       "      <td>1</td>\n",
       "      <td>0</td>\n",
       "      <td>71.2833</td>\n",
       "      <td>C</td>\n",
       "      <td>First</td>\n",
       "      <td>woman</td>\n",
       "      <td>False</td>\n",
       "      <td>C</td>\n",
       "      <td>Cherbourg</td>\n",
       "      <td>yes</td>\n",
       "      <td>False</td>\n",
       "      <td>1.361220</td>\n",
       "    </tr>\n",
       "    <tr>\n",
       "      <th>2</th>\n",
       "      <td>1</td>\n",
       "      <td>3</td>\n",
       "      <td>female</td>\n",
       "      <td>26.0</td>\n",
       "      <td>0</td>\n",
       "      <td>0</td>\n",
       "      <td>7.9250</td>\n",
       "      <td>S</td>\n",
       "      <td>Third</td>\n",
       "      <td>woman</td>\n",
       "      <td>False</td>\n",
       "      <td>NaN</td>\n",
       "      <td>Southampton</td>\n",
       "      <td>yes</td>\n",
       "      <td>True</td>\n",
       "      <td>-0.798540</td>\n",
       "    </tr>\n",
       "    <tr>\n",
       "      <th>3</th>\n",
       "      <td>1</td>\n",
       "      <td>1</td>\n",
       "      <td>female</td>\n",
       "      <td>35.0</td>\n",
       "      <td>1</td>\n",
       "      <td>0</td>\n",
       "      <td>53.1000</td>\n",
       "      <td>S</td>\n",
       "      <td>First</td>\n",
       "      <td>woman</td>\n",
       "      <td>False</td>\n",
       "      <td>C</td>\n",
       "      <td>Southampton</td>\n",
       "      <td>yes</td>\n",
       "      <td>False</td>\n",
       "      <td>1.062038</td>\n",
       "    </tr>\n",
       "    <tr>\n",
       "      <th>4</th>\n",
       "      <td>0</td>\n",
       "      <td>3</td>\n",
       "      <td>male</td>\n",
       "      <td>35.0</td>\n",
       "      <td>0</td>\n",
       "      <td>0</td>\n",
       "      <td>8.0500</td>\n",
       "      <td>S</td>\n",
       "      <td>Third</td>\n",
       "      <td>man</td>\n",
       "      <td>True</td>\n",
       "      <td>NaN</td>\n",
       "      <td>Southampton</td>\n",
       "      <td>no</td>\n",
       "      <td>True</td>\n",
       "      <td>-0.784179</td>\n",
       "    </tr>\n",
       "  </tbody>\n",
       "</table>\n",
       "</div>"
      ],
      "text/plain": [
       "   survived  pclass     sex   age  sibsp  parch     fare embarked  class  \\\n",
       "0         0       3    male  22.0      1      0   7.2500        S  Third   \n",
       "1         1       1  female  38.0      1      0  71.2833        C  First   \n",
       "2         1       3  female  26.0      0      0   7.9250        S  Third   \n",
       "3         1       1  female  35.0      1      0  53.1000        S  First   \n",
       "4         0       3    male  35.0      0      0   8.0500        S  Third   \n",
       "\n",
       "     who  adult_male deck  embark_town alive  alone  fare_log  \n",
       "0    man        True  NaN  Southampton    no  False -0.879741  \n",
       "1  woman       False    C    Cherbourg   yes  False  1.361220  \n",
       "2  woman       False  NaN  Southampton   yes   True -0.798540  \n",
       "3  woman       False    C  Southampton   yes  False  1.062038  \n",
       "4    man        True  NaN  Southampton    no   True -0.784179  "
      ]
     },
     "execution_count": 174,
     "metadata": {},
     "output_type": "execute_result"
    }
   ],
   "source": [
    "titanic['fare_log'] = preprocessing.scale(np.log1p(titanic.fare))\n",
    "titanic.head()"
   ]
  },
  {
   "cell_type": "code",
   "execution_count": 178,
   "id": "2b159095-0df5-4c91-9be9-3cfdc5b493ce",
   "metadata": {},
   "outputs": [
    {
     "name": "stderr",
     "output_type": "stream",
     "text": [
      "C:\\Users\\kj\\AppData\\Local\\Temp\\ipykernel_7252\\425490978.py:6: UserWarning: \n",
      "\n",
      "`distplot` is a deprecated function and will be removed in seaborn v0.14.0.\n",
      "\n",
      "Please adapt your code to use either `displot` (a figure-level function with\n",
      "similar flexibility) or `histplot` (an axes-level function for histograms).\n",
      "\n",
      "For a guide to updating your code to use the new functions, please see\n",
      "https://gist.github.com/mwaskom/de44147ed2974457ad6372750bbe5751\n",
      "\n",
      "  sns.distplot(titanic[titanic.pclass == (i+1)][col_name], axlabel = class_names[i])\n",
      "C:\\Users\\kj\\AppData\\Local\\Temp\\ipykernel_7252\\425490978.py:6: UserWarning: \n",
      "\n",
      "`distplot` is a deprecated function and will be removed in seaborn v0.14.0.\n",
      "\n",
      "Please adapt your code to use either `displot` (a figure-level function with\n",
      "similar flexibility) or `histplot` (an axes-level function for histograms).\n",
      "\n",
      "For a guide to updating your code to use the new functions, please see\n",
      "https://gist.github.com/mwaskom/de44147ed2974457ad6372750bbe5751\n",
      "\n",
      "  sns.distplot(titanic[titanic.pclass == (i+1)][col_name], axlabel = class_names[i])\n",
      "C:\\Users\\kj\\AppData\\Local\\Temp\\ipykernel_7252\\425490978.py:6: UserWarning: \n",
      "\n",
      "`distplot` is a deprecated function and will be removed in seaborn v0.14.0.\n",
      "\n",
      "Please adapt your code to use either `displot` (a figure-level function with\n",
      "similar flexibility) or `histplot` (an axes-level function for histograms).\n",
      "\n",
      "For a guide to updating your code to use the new functions, please see\n",
      "https://gist.github.com/mwaskom/de44147ed2974457ad6372750bbe5751\n",
      "\n",
      "  sns.distplot(titanic[titanic.pclass == (i+1)][col_name], axlabel = class_names[i])\n"
     ]
    },
    {
     "data": {
      "image/png": "[encoded data removed]",
      "text/plain": [
       "<Figure size 1200x500 with 3 Axes>"
      ]
     },
     "metadata": {},
     "output_type": "display_data"
    }
   ],
   "source": [
    "draw_distplot('fare_log')"
   ]
  },
  {
   "cell_type": "code",
   "execution_count": 180,
   "id": "941b5c0a-6b52-41f7-9134-9732040070bb",
   "metadata": {},
   "outputs": [
    {
     "data": {
      "text/plain": [
       "0.394928009518931"
      ]
     },
     "execution_count": 180,
     "metadata": {},
     "output_type": "execute_result"
    }
   ],
   "source": [
    "titanic.fare_log.skew()"
   ]
  },
  {
   "cell_type": "code",
   "execution_count": 182,
   "id": "0fd077da-cc59-40e6-90fb-680b39c8bc5f",
   "metadata": {},
   "outputs": [
    {
     "data": {
      "text/plain": [
       "0.9761421066831049"
      ]
     },
     "execution_count": 182,
     "metadata": {},
     "output_type": "execute_result"
    }
   ],
   "source": [
    "titanic.fare_log.kurt()"
   ]
  },
  {
   "cell_type": "markdown",
   "id": "d212cc8e-92c2-4b44-902b-af3326a851b8",
   "metadata": {},
   "source": [
    "- feature engineering(피처 엔지니어링) : 모델 학습 성능을 높이기 위해 feature를 조작하거나 추가하는 것"
   ]
  },
  {
   "cell_type": "code",
   "execution_count": 191,
   "id": "27415cc9-f956-45fb-9654-642faa652589",
   "metadata": {},
   "outputs": [
    {
     "data": {
      "image/png": "[encoded data removed]",
      "text/plain": [
       "<Figure size 1000x500 with 2 Axes>"
      ]
     },
     "metadata": {},
     "output_type": "display_data"
    }
   ],
   "source": [
    "from scipy import stats\n",
    "fig = plt.figure(figsize=(10,5))\n",
    "fig.add_subplot(1, 2, 1)\n",
    "res = stats.probplot(titanic['fare'], plot = plt)\n",
    "fig.add_subplot(1, 2, 2)\n",
    "res = stats.probplot(titanic['fare_log'], plot = plt)"
   ]
  },
  {
   "cell_type": "code",
   "execution_count": 193,
   "id": "f9eeca63-3e1c-4066-8b94-a0f214e81a14",
   "metadata": {},
   "outputs": [
    {
     "data": {
      "image/png": "[encoded data removed]",
      "text/plain": [
       "<Figure size 640x480 with 1 Axes>"
      ]
     },
     "metadata": {},
     "output_type": "display_data"
    }
   ],
   "source": [
    "# tips 데이터셋을 이용해서 tip 컬럼의 분포를 시각화 해서 확인해보고 정규분포에 가깝게 만들기 위해 로그 변환하여 시각화\n",
    "t = tips['tip']\n",
    "t.plot.hist(bins=20)\n",
    "plt.show()"
   ]
  },
  {
   "cell_type": "code",
   "execution_count": 195,
   "id": "49897617-aa0d-4f67-ab64-fb3151ad0922",
   "metadata": {},
   "outputs": [
    {
     "data": {
      "image/png": "[encoded data removed]",
      "text/plain": [
       "<Figure size 640x480 with 1 Axes>"
      ]
     },
     "metadata": {},
     "output_type": "display_data"
    }
   ],
   "source": [
    "t = np.log1p(tips['tip'])\n",
    "t.plot.hist(bins=20)\n",
    "plt.show()"
   ]
  },
  {
   "cell_type": "code",
   "execution_count": 201,
   "id": "164e9f4c-35eb-44f4-b73e-86fd6b36a976",
   "metadata": {},
   "outputs": [
    {
     "data": {
      "image/png": "[encoded data removed]",
      "text/plain": [
       "<Figure size 640x480 with 1 Axes>"
      ]
     },
     "metadata": {},
     "output_type": "display_data"
    }
   ],
   "source": [
    "t = np.sqrt(tips['tip'])\n",
    "t.plot.hist(bins=20)\n",
    "plt.show()"
   ]
  },
  {
   "cell_type": "code",
   "execution_count": 199,
   "id": "c396b0a5-018b-4e54-8521-054de84e1f83",
   "metadata": {},
   "outputs": [
    {
     "data": {
      "image/png": "[encoded data removed]",
      "text/plain": [
       "<Figure size 640x480 with 1 Axes>"
      ]
     },
     "metadata": {},
     "output_type": "display_data"
    }
   ],
   "source": [
    "t = preprocessing.scale(np.log1p(tips['tip']))\n",
    "sns.histplot(t, bins=20)\n",
    "plt.show()"
   ]
  },
  {
   "cell_type": "code",
   "execution_count": 203,
   "id": "c2744dca-4de6-4b56-b6f3-cc9ac8b4e9bb",
   "metadata": {},
   "outputs": [
    {
     "name": "stdout",
     "output_type": "stream",
     "text": [
      "0    1.01\n",
      "1    1.66\n",
      "2    3.50\n",
      "Name: tip, dtype: float64\n",
      "\n",
      "0    0.698135\n",
      "1    0.978326\n",
      "2    1.504077\n",
      "Name: tip, dtype: float64\n",
      "\n",
      "0    1.01\n",
      "1    1.66\n",
      "2    3.50\n",
      "Name: tip, dtype: float64\n"
     ]
    }
   ],
   "source": [
    "a = tips['tip']\n",
    "b = np.log1p(a)\n",
    "c = np.expm1(b)\n",
    "print(a[:3], b[:3], c[:3], sep='\\n\\n')"
   ]
  },
  {
   "cell_type": "code",
   "execution_count": 205,
   "id": "f26e41e7-22de-43ac-bd4d-5cb007fcb56a",
   "metadata": {},
   "outputs": [
    {
     "name": "stdout",
     "output_type": "stream",
     "text": [
      "0    1.01\n",
      "1    1.66\n",
      "2    3.50\n",
      "Name: tip, dtype: float64\n",
      "\n",
      "0    1.004988\n",
      "1    1.288410\n",
      "2    1.870829\n",
      "Name: tip, dtype: float64\n",
      "\n",
      "0    1.01\n",
      "1    1.66\n",
      "2    3.50\n",
      "Name: tip, dtype: float64\n"
     ]
    }
   ],
   "source": [
    "a = tips['tip']\n",
    "b = np.sqrt(a)\n",
    "c = np.power(b, 2)\n",
    "print(a[:3], b[:3], c[:3], sep='\\n\\n')"
   ]
  },
  {
   "cell_type": "code",
   "execution_count": null,
   "id": "72553f8f-d405-4f02-9c78-6fa9ae30bb0c",
   "metadata": {},
   "outputs": [],
   "source": []
  },
  {
   "cell_type": "markdown",
   "id": "a7077926-8c1f-467a-8ede-167a0ab10243",
   "metadata": {},
   "source": [
    "#### 2. 데이터 스케일링\n",
    "- 분석 목적에 맞게 데이터를 변화하는 과정\n",
    "- 학습 전 데이터 스케일링을 통해 값의 범위를 표준정규분포를 갖도록 변환하거나, 0 ~ 1로 변환\n",
    "- 종류 : MinMaxScaling, StandardScaling, RobustScaling"
   ]
  },
  {
   "cell_type": "markdown",
   "id": "1935325f-9598-474b-a294-705d0b8610e5",
   "metadata": {},
   "source": [
    "##### 1) MinMaxScaling\n",
    "- 최소최대 정규화, 두 극단 사이의 모든 데이터를 특정 구간(0~1)으로 모든 데이터를 변환하여 표준화\n",
    "- 스케일된 값 = (데이터값 - 최소값) / (최대값 - 최소값)"
   ]
  },
  {
   "cell_type": "code",
   "execution_count": 220,
   "id": "d0935c28-9da1-498f-8535-85278a01e3f1",
   "metadata": {},
   "outputs": [
    {
     "data": {
      "text/plain": [
       "array([[0.12044735],\n",
       "       [0.49891375],\n",
       "       [0.20209843],\n",
       "       ...,\n",
       "       [0.5297267 ],\n",
       "       [0.78260668],\n",
       "       [0.16403622]])"
      ]
     },
     "execution_count": 220,
     "metadata": {},
     "output_type": "execute_result"
    }
   ],
   "source": [
    "x = np.random.uniform(low=30, high = 50, size=[10000, 1])\n",
    "scaler = preprocessing.MinMaxScaler()\n",
    "scaler.fit(x)\n",
    "x_scaled = scaler.transform(x)\n",
    "x_scaled"
   ]
  },
  {
   "cell_type": "code",
   "execution_count": 222,
   "id": "8bec0cf4-5901-4860-a9b1-f777d68a58cc",
   "metadata": {},
   "outputs": [
    {
     "data": {
      "text/plain": [
       "array([[32.40956056],\n",
       "       [39.97744168],\n",
       "       [34.04227002],\n",
       "       ...,\n",
       "       [40.59358287],\n",
       "       [45.65021577],\n",
       "       [33.28117134]])"
      ]
     },
     "execution_count": 222,
     "metadata": {},
     "output_type": "execute_result"
    }
   ],
   "source": [
    "x"
   ]
  },
  {
   "cell_type": "code",
   "execution_count": null,
   "id": "4159b991-8748-47b8-907e-02823f8ba7a1",
   "metadata": {},
   "outputs": [],
   "source": []
  },
  {
   "cell_type": "markdown",
   "id": "406ec149-0121-4f85-91fd-c434507bcf14",
   "metadata": {},
   "source": [
    "##### 2) StandardScaling\n",
    "- 평균이 0, 분산이 1인 표준정규분포(z-분포)로 변환\n",
    "- z = (데이터값 - 평균) / 표준편차"
   ]
  },
  {
   "cell_type": "code",
   "execution_count": 225,
   "id": "f839e3a6-ae7e-48ba-893c-22f69c1894e0",
   "metadata": {},
   "outputs": [
    {
     "data": {
      "text/plain": [
       "array([[-1.29868215],\n",
       "       [ 1.11160462],\n",
       "       [ 0.99017153],\n",
       "       ...,\n",
       "       [ 1.16822443],\n",
       "       [ 0.20734563],\n",
       "       [ 0.824583  ]])"
      ]
     },
     "execution_count": 225,
     "metadata": {},
     "output_type": "execute_result"
    }
   ],
   "source": [
    "x = np.random.uniform(low=30, high = 50, size=[10000, 1])\n",
    "scaler = preprocessing.StandardScaler()\n",
    "scaler.fit(x)\n",
    "x_scaled = scaler.transform(x)\n",
    "x_scaled"
   ]
  },
  {
   "cell_type": "code",
   "execution_count": null,
   "id": "e54d65b3-2f04-4318-9048-438f892719bc",
   "metadata": {},
   "outputs": [],
   "source": []
  },
  {
   "cell_type": "markdown",
   "id": "0ac9d4da-2efc-4173-b8b8-b0bba785b3f6",
   "metadata": {},
   "source": [
    "##### 3) RobustScaling\n",
    "- 중앙값과 IQR 사용\n",
    "- 데이터셋에 아웃라이어가 들어있을 때 Robust하게 표준화 할 수 있는 방법\n",
    "- 아웃라이어 영향을 최소화하는 방법\n",
    "- 중앙값을 뺀 다음에 IQR로 나누어 특징벡터 반환"
   ]
  },
  {
   "cell_type": "code",
   "execution_count": 246,
   "id": "dde1007d-e50b-4eff-90b0-f7c7c45a01d2",
   "metadata": {},
   "outputs": [
    {
     "data": {
      "text/plain": [
       "array([[-0.73684211, -0.72727273],\n",
       "       [-0.52631579, -0.54545455],\n",
       "       [-0.52631579, -0.18181818],\n",
       "       [-0.10526316,  0.        ],\n",
       "       [ 0.31578947,  0.        ],\n",
       "       [-0.73684211,  0.        ],\n",
       "       [ 0.52631579,  0.72727273],\n",
       "       [ 0.73684211,  0.90909091],\n",
       "       [ 0.10526316,  1.27272727],\n",
       "       [ 0.73684211, -0.54545455]])"
      ]
     },
     "execution_count": 246,
     "metadata": {},
     "output_type": "execute_result"
    }
   ],
   "source": [
    "df = pd.DataFrame([ \n",
    "    [2, 1, 3], [3, 2, 5], [3, 4, 7], [5, 5, 10], [7, 5, 12], [2, 5, 7],[8, 9, 13], [9, 10, 13],\n",
    "    [6, 12, 12], [9, 2, 13] ], columns=['hour', 'attendance', 'score'])\n",
    "x_data = df.drop(['score'], axis=1 )\n",
    "y_data = df['score']\n",
    "robust = preprocessing.RobustScaler()\n",
    "robust.fit(x_data)\n",
    "scaled_x = robust.transform(x_data)\n",
    "scaled_x"
   ]
  },
  {
   "cell_type": "code",
   "execution_count": 244,
   "id": "8870b6a5-daf8-4120-b2a3-2c49effcd241",
   "metadata": {},
   "outputs": [
    {
     "data": {
      "text/html": [
       "<div>\n",
       "<style scoped>\n",
       "    .dataframe tbody tr th:only-of-type {\n",
       "        vertical-align: middle;\n",
       "    }\n",
       "\n",
       "    .dataframe tbody tr th {\n",
       "        vertical-align: top;\n",
       "    }\n",
       "\n",
       "    .dataframe thead th {\n",
       "        text-align: right;\n",
       "    }\n",
       "</style>\n",
       "<table border=\"1\" class=\"dataframe\">\n",
       "  <thead>\n",
       "    <tr style=\"text-align: right;\">\n",
       "      <th></th>\n",
       "      <th>hour</th>\n",
       "      <th>attendance</th>\n",
       "    </tr>\n",
       "  </thead>\n",
       "  <tbody>\n",
       "    <tr>\n",
       "      <th>0</th>\n",
       "      <td>2</td>\n",
       "      <td>1</td>\n",
       "    </tr>\n",
       "    <tr>\n",
       "      <th>1</th>\n",
       "      <td>3</td>\n",
       "      <td>2</td>\n",
       "    </tr>\n",
       "    <tr>\n",
       "      <th>2</th>\n",
       "      <td>3</td>\n",
       "      <td>4</td>\n",
       "    </tr>\n",
       "    <tr>\n",
       "      <th>3</th>\n",
       "      <td>5</td>\n",
       "      <td>5</td>\n",
       "    </tr>\n",
       "    <tr>\n",
       "      <th>4</th>\n",
       "      <td>7</td>\n",
       "      <td>5</td>\n",
       "    </tr>\n",
       "    <tr>\n",
       "      <th>5</th>\n",
       "      <td>2</td>\n",
       "      <td>5</td>\n",
       "    </tr>\n",
       "    <tr>\n",
       "      <th>6</th>\n",
       "      <td>8</td>\n",
       "      <td>9</td>\n",
       "    </tr>\n",
       "    <tr>\n",
       "      <th>7</th>\n",
       "      <td>9</td>\n",
       "      <td>10</td>\n",
       "    </tr>\n",
       "    <tr>\n",
       "      <th>8</th>\n",
       "      <td>6</td>\n",
       "      <td>12</td>\n",
       "    </tr>\n",
       "    <tr>\n",
       "      <th>9</th>\n",
       "      <td>9</td>\n",
       "      <td>2</td>\n",
       "    </tr>\n",
       "  </tbody>\n",
       "</table>\n",
       "</div>"
      ],
      "text/plain": [
       "   hour  attendance\n",
       "0     2           1\n",
       "1     3           2\n",
       "2     3           4\n",
       "3     5           5\n",
       "4     7           5\n",
       "5     2           5\n",
       "6     8           9\n",
       "7     9          10\n",
       "8     6          12\n",
       "9     9           2"
      ]
     },
     "execution_count": 244,
     "metadata": {},
     "output_type": "execute_result"
    }
   ],
   "source": [
    "x_data"
   ]
  },
  {
   "cell_type": "code",
   "execution_count": 249,
   "id": "431c87e5-ef38-45f6-8f78-1aef082dde9c",
   "metadata": {},
   "outputs": [],
   "source": [
    "def minmaxScale(x):\n",
    "    return (x - x.min()) / (x.max() - x.min() )"
   ]
  },
  {
   "cell_type": "code",
   "execution_count": 251,
   "id": "98456258-c74e-42de-8c41-2cf2b22cebca",
   "metadata": {},
   "outputs": [],
   "source": [
    "def standardScale(x):\n",
    "    return (x - x.mean() ) / x.std()"
   ]
  },
  {
   "cell_type": "code",
   "execution_count": 253,
   "id": "2ef35f04-ad25-48b9-8000-02382b2c0dcf",
   "metadata": {},
   "outputs": [
    {
     "name": "stdout",
     "output_type": "stream",
     "text": [
      "1.0 0.0\n"
     ]
    }
   ],
   "source": [
    "x = minmaxScale(tips['tip'])\n",
    "print( x.max(), x.min() )"
   ]
  },
  {
   "cell_type": "code",
   "execution_count": 257,
   "id": "86860e46-d69a-4ef2-afb7-8d06233e4743",
   "metadata": {},
   "outputs": [
    {
     "name": "stdout",
     "output_type": "stream",
     "text": [
      "5.060370093232102 -1.4442205371384713\n",
      "2.5844535983077414e-16 0.9999999999999999\n"
     ]
    }
   ],
   "source": [
    "x = standardScale(tips['tip'])\n",
    "print( x.max(), x.min() )\n",
    "print( x.mean(), x.std() )"
   ]
  },
  {
   "cell_type": "code",
   "execution_count": null,
   "id": "dc6e93b0-4df7-4410-a126-885cdf6f2ba9",
   "metadata": {},
   "outputs": [],
   "source": []
  },
  {
   "cell_type": "code",
   "execution_count": 264,
   "id": "3d3ee7d5-a541-411d-816f-b0bd61bf8320",
   "metadata": {},
   "outputs": [],
   "source": [
    "from sklearn.preprocessing import MinMaxScaler, StandardScaler, RobustScaler"
   ]
  },
  {
   "cell_type": "code",
   "execution_count": 268,
   "id": "814cd1f9-fb7c-4e71-82a4-0a811695ef7b",
   "metadata": {},
   "outputs": [
    {
     "name": "stdout",
     "output_type": "stream",
     "text": [
      "0.0 1.0\n"
     ]
    }
   ],
   "source": [
    "x = MinMaxScaler().fit_transform(tips[['tip']])\n",
    "print(x.min(), x.max() )"
   ]
  },
  {
   "cell_type": "code",
   "execution_count": null,
   "id": "0950d85e-869e-4971-a7c6-356450374e33",
   "metadata": {},
   "outputs": [],
   "source": []
  },
  {
   "cell_type": "markdown",
   "id": "d143ed6f-2b49-40c8-a798-7403a580c2dd",
   "metadata": {},
   "source": [
    "#### 3. 변수 추가 / 변수 변환\n",
    "- 파생 변수 => 새로운 변수가 만들어지는 것\n",
    "  - 기존 변수를 조합하거나, 특정 조건 혹은 함수 등을 적용해서 새롭게 만든 변수\n",
    "  - 상관관계가 있는 변수들끼리 결합하여 분산을 극대화하는 변수로 만들어 변수를 축약하여 희생되는 정보가 최소화\n",
    "  - 데이터에 포함된 나이인 연속형 변수를 이용해 연령대 범주형 변수 생성\n",
    "  - 요약 통계량을 이용한 변수 생성\n",
    "- 파생 변수 생성 방법 : 단위 변환, 요약 통계량 변환, 변수 분해, 변수 결합\n",
    "  - 단위 변환 : 변수의 단위 또는 척도 변환\n",
    "  - 요약 통계량 변환 : 통계량을 계산해서 생성\n",
    "  - 변수 분해 : 하나의 정보에서 다른 정보를 얻어 내는 방법(주민번호 -> 성별, 날짜 -> 년, 월, 일)\n",
    "  - 변수 결합 : 다양한 함수를 이용해서 수학적 결합을 통해 새로운 변수 생성(키, 몸무게를 이용 => BMI 계산)"
   ]
  },
  {
   "cell_type": "code",
   "execution_count": 274,
   "id": "6366978b-5a6c-4ee7-bfba-4d2138ba79f3",
   "metadata": {},
   "outputs": [
    {
     "data": {
      "text/html": [
       "<div>\n",
       "<style scoped>\n",
       "    .dataframe tbody tr th:only-of-type {\n",
       "        vertical-align: middle;\n",
       "    }\n",
       "\n",
       "    .dataframe tbody tr th {\n",
       "        vertical-align: top;\n",
       "    }\n",
       "\n",
       "    .dataframe thead th {\n",
       "        text-align: right;\n",
       "    }\n",
       "</style>\n",
       "<table border=\"1\" class=\"dataframe\">\n",
       "  <thead>\n",
       "    <tr style=\"text-align: right;\">\n",
       "      <th></th>\n",
       "      <th>total_bill</th>\n",
       "      <th>tip</th>\n",
       "      <th>sex</th>\n",
       "      <th>smoker</th>\n",
       "      <th>day</th>\n",
       "      <th>time</th>\n",
       "      <th>size</th>\n",
       "      <th>per_one_bill</th>\n",
       "    </tr>\n",
       "  </thead>\n",
       "  <tbody>\n",
       "    <tr>\n",
       "      <th>0</th>\n",
       "      <td>16.99</td>\n",
       "      <td>1.01</td>\n",
       "      <td>Female</td>\n",
       "      <td>No</td>\n",
       "      <td>Sun</td>\n",
       "      <td>Dinner</td>\n",
       "      <td>2</td>\n",
       "      <td>0.01</td>\n",
       "    </tr>\n",
       "    <tr>\n",
       "      <th>1</th>\n",
       "      <td>10.34</td>\n",
       "      <td>1.66</td>\n",
       "      <td>Male</td>\n",
       "      <td>No</td>\n",
       "      <td>Sun</td>\n",
       "      <td>Dinner</td>\n",
       "      <td>3</td>\n",
       "      <td>0.01</td>\n",
       "    </tr>\n",
       "    <tr>\n",
       "      <th>2</th>\n",
       "      <td>21.01</td>\n",
       "      <td>3.50</td>\n",
       "      <td>Male</td>\n",
       "      <td>No</td>\n",
       "      <td>Sun</td>\n",
       "      <td>Dinner</td>\n",
       "      <td>3</td>\n",
       "      <td>0.01</td>\n",
       "    </tr>\n",
       "    <tr>\n",
       "      <th>3</th>\n",
       "      <td>23.68</td>\n",
       "      <td>3.31</td>\n",
       "      <td>Male</td>\n",
       "      <td>No</td>\n",
       "      <td>Sun</td>\n",
       "      <td>Dinner</td>\n",
       "      <td>2</td>\n",
       "      <td>0.01</td>\n",
       "    </tr>\n",
       "    <tr>\n",
       "      <th>4</th>\n",
       "      <td>24.59</td>\n",
       "      <td>3.61</td>\n",
       "      <td>Female</td>\n",
       "      <td>No</td>\n",
       "      <td>Sun</td>\n",
       "      <td>Dinner</td>\n",
       "      <td>4</td>\n",
       "      <td>0.01</td>\n",
       "    </tr>\n",
       "  </tbody>\n",
       "</table>\n",
       "</div>"
      ],
      "text/plain": [
       "   total_bill   tip     sex smoker  day    time  size  per_one_bill\n",
       "0       16.99  1.01  Female     No  Sun  Dinner     2          0.01\n",
       "1       10.34  1.66    Male     No  Sun  Dinner     3          0.01\n",
       "2       21.01  3.50    Male     No  Sun  Dinner     3          0.01\n",
       "3       23.68  3.31    Male     No  Sun  Dinner     2          0.01\n",
       "4       24.59  3.61  Female     No  Sun  Dinner     4          0.01"
      ]
     },
     "execution_count": 274,
     "metadata": {},
     "output_type": "execute_result"
    }
   ],
   "source": [
    "# tips 데이터셋에서 total_bill, size 이 두개의 컬럼을 이용해서 per_one_bill 파생 변수 생성\n",
    "tips['per_one_bill'] = round(tips.total_bill / tips.size , 2 )\n",
    "tips.head()"
   ]
  },
  {
   "cell_type": "code",
   "execution_count": null,
   "id": "91a06d4b-416b-49d6-ad7c-7f054f746df3",
   "metadata": {},
   "outputs": [],
   "source": []
  },
  {
   "cell_type": "markdown",
   "id": "81311772-6eb2-4670-8f1d-50c54c66a032",
   "metadata": {},
   "source": [
    "##### 변수 변환\n",
    "- 분석 목적에 맞게 데이터를 변환하는 과정\n",
    "- 머신러닝의 최적화 모델 작업이 쉬워짐\n",
    "- 문자로된 입력데이터를 숫자로 변경\n",
    "- 부호화(Encoding), 구간화(Binning)"
   ]
  },
  {
   "cell_type": "markdown",
   "id": "8572d612-9c67-432a-a8b7-d717d411939d",
   "metadata": {},
   "source": [
    "##### 1) Encoding( 범주형 -> 수치형 ) 변환\n",
    "- 하나의 범주에 대해서 하나의 숫자로 매칭하는 방법\n",
    "- 값을 일련번호로 변경\n",
    "- 요일, 학점 등\n",
    "- Label Encoding, One hot Encoding"
   ]
  },
  {
   "cell_type": "markdown",
   "id": "8f431f98-bf41-43da-9e01-ef1d16e15570",
   "metadata": {},
   "source": [
    "- Label Encoding : 대응되는 값으로 1:1 변환\n",
    "- One hot Encoding : 범주의 개수 만큼 feature를 만들어 냄(feature -> 더미변수)"
   ]
  },
  {
   "cell_type": "markdown",
   "id": "a9d6cc2b-ae50-4bed-bb0b-3280922b2dbb",
   "metadata": {},
   "source": [
    "##### 2) Binning( 수치형 -> 범주형 ) 변환\n",
    "- 연속형 변수를 구간을 이용해서 범주형(Category)형태의 변수로 바꾸는 것\n",
    "- 정보가 압축되고 단순해져서 정확도 하락\n",
    "- 이상치 해결 방법 중 한 가지로 사용하거나, 오버피팅(Overfitting - 과대적합) 방지\n",
    "- pd.cut()"
   ]
  },
  {
   "cell_type": "markdown",
   "id": "ccb82b1f-0cd0-4cac-bc07-36e07a046713",
   "metadata": {},
   "source": [
    "##### 3) 실수형 변수 변환\n",
    "- 범주형 변수를 수치형 변수로 변경하는 것\n",
    "- Label Encoding : 값의 일련번호로 변경, Category 타입의 cat.codes, Series.replace() => 순서가 있는 경우\n",
    "- One hot Encoding : 범주의 개수만큼 feature를 만들어 냄. pd.get_dummies() => 순서가 없는 경우"
   ]
  },
  {
   "cell_type": "code",
   "execution_count": 297,
   "id": "0fef5ec6-bd54-48dc-be8c-1e43602dd0a5",
   "metadata": {},
   "outputs": [
    {
     "data": {
      "text/html": [
       "<div>\n",
       "<style scoped>\n",
       "    .dataframe tbody tr th:only-of-type {\n",
       "        vertical-align: middle;\n",
       "    }\n",
       "\n",
       "    .dataframe tbody tr th {\n",
       "        vertical-align: top;\n",
       "    }\n",
       "\n",
       "    .dataframe thead th {\n",
       "        text-align: right;\n",
       "    }\n",
       "</style>\n",
       "<table border=\"1\" class=\"dataframe\">\n",
       "  <thead>\n",
       "    <tr style=\"text-align: right;\">\n",
       "      <th></th>\n",
       "      <th>A</th>\n",
       "      <th>B</th>\n",
       "    </tr>\n",
       "  </thead>\n",
       "  <tbody>\n",
       "    <tr>\n",
       "      <th>0</th>\n",
       "      <td>월</td>\n",
       "      <td>여자</td>\n",
       "    </tr>\n",
       "    <tr>\n",
       "      <th>1</th>\n",
       "      <td>화</td>\n",
       "      <td>남자</td>\n",
       "    </tr>\n",
       "    <tr>\n",
       "      <th>2</th>\n",
       "      <td>수</td>\n",
       "      <td>여자</td>\n",
       "    </tr>\n",
       "    <tr>\n",
       "      <th>3</th>\n",
       "      <td>화</td>\n",
       "      <td>남자</td>\n",
       "    </tr>\n",
       "    <tr>\n",
       "      <th>4</th>\n",
       "      <td>수</td>\n",
       "      <td>남자</td>\n",
       "    </tr>\n",
       "    <tr>\n",
       "      <th>5</th>\n",
       "      <td>금</td>\n",
       "      <td>남자</td>\n",
       "    </tr>\n",
       "    <tr>\n",
       "      <th>6</th>\n",
       "      <td>월</td>\n",
       "      <td>여자</td>\n",
       "    </tr>\n",
       "  </tbody>\n",
       "</table>\n",
       "</div>"
      ],
      "text/plain": [
       "   A   B\n",
       "0  월  여자\n",
       "1  화  남자\n",
       "2  수  여자\n",
       "3  화  남자\n",
       "4  수  남자\n",
       "5  금  남자\n",
       "6  월  여자"
      ]
     },
     "execution_count": 297,
     "metadata": {},
     "output_type": "execute_result"
    }
   ],
   "source": [
    "df = pd.DataFrame({'A':['월', '화', '수', '화', '수', '금','월'], \n",
    "                   'B':['여자', '남자', '여자', '남자', '남자', '남자', '여자']} )\n",
    "df"
   ]
  },
  {
   "cell_type": "code",
   "execution_count": 299,
   "id": "19a1fa0f-7d32-4b94-bc01-257a09b3b9a5",
   "metadata": {},
   "outputs": [
    {
     "name": "stdout",
     "output_type": "stream",
     "text": [
      "['월', '화', '수', '목', '금', '토', '일']\n"
     ]
    }
   ],
   "source": [
    "# Label Encoding\n",
    "weekdays = '월 화 수 목 금 토 일'.split(' ')\n",
    "print(weekdays)"
   ]
  },
  {
   "cell_type": "code",
   "execution_count": 301,
   "id": "a984d5f9-ade1-4bbc-980d-d012a9e383b6",
   "metadata": {},
   "outputs": [
    {
     "data": {
      "text/plain": [
       "list"
      ]
     },
     "execution_count": 301,
     "metadata": {},
     "output_type": "execute_result"
    }
   ],
   "source": [
    "type(weekdays)"
   ]
  },
  {
   "cell_type": "code",
   "execution_count": 303,
   "id": "3edfa924-1f79-458e-ae6a-ad82629c3d5f",
   "metadata": {},
   "outputs": [
    {
     "name": "stdout",
     "output_type": "stream",
     "text": [
      "<class 'pandas.core.frame.DataFrame'>\n",
      "RangeIndex: 7 entries, 0 to 6\n",
      "Data columns (total 2 columns):\n",
      " #   Column  Non-Null Count  Dtype \n",
      "---  ------  --------------  ----- \n",
      " 0   A       7 non-null      object\n",
      " 1   B       7 non-null      object\n",
      "dtypes: object(2)\n",
      "memory usage: 244.0+ bytes\n"
     ]
    }
   ],
   "source": [
    "df.info()"
   ]
  },
  {
   "cell_type": "code",
   "execution_count": 305,
   "id": "428a4dd3-256c-409a-85bd-327c6064e84a",
   "metadata": {},
   "outputs": [
    {
     "name": "stdout",
     "output_type": "stream",
     "text": [
      "['월', '화', '수', '화', '수', '금', '월']\n",
      "Categories (7, object): ['월' < '화' < '수' < '목' < '금' < '토' < '일']\n"
     ]
    }
   ],
   "source": [
    "A_order = pd.Categorical(df['A'], weekdays, ordered=True)\n",
    "A_unorder = pd.Categorical(df['A'], weekdays, ordered=False)\n",
    "print(A_order)"
   ]
  },
  {
   "cell_type": "code",
   "execution_count": 307,
   "id": "f4009193-a84c-44ef-b8e5-008086a598f5",
   "metadata": {},
   "outputs": [
    {
     "data": {
      "text/plain": [
       "['월', '화', '수', '화', '수', '금', '월']\n",
       "Categories (7, object): ['월', '화', '수', '목', '금', '토', '일']"
      ]
     },
     "execution_count": 307,
     "metadata": {},
     "output_type": "execute_result"
    }
   ],
   "source": [
    "A_unorder"
   ]
  },
  {
   "cell_type": "code",
   "execution_count": 311,
   "id": "ad767311-51e5-4951-a419-64883e62beb9",
   "metadata": {},
   "outputs": [
    {
     "name": "stdout",
     "output_type": "stream",
     "text": [
      "<class 'pandas.core.arrays.categorical.Categorical'>\n"
     ]
    }
   ],
   "source": [
    "print(type(A_unorder))"
   ]
  },
  {
   "cell_type": "code",
   "execution_count": 313,
   "id": "e89ea82d-372e-4a31-859f-53e0d8fb3b66",
   "metadata": {},
   "outputs": [
    {
     "data": {
      "text/html": [
       "<div>\n",
       "<style scoped>\n",
       "    .dataframe tbody tr th:only-of-type {\n",
       "        vertical-align: middle;\n",
       "    }\n",
       "\n",
       "    .dataframe tbody tr th {\n",
       "        vertical-align: top;\n",
       "    }\n",
       "\n",
       "    .dataframe thead th {\n",
       "        text-align: right;\n",
       "    }\n",
       "</style>\n",
       "<table border=\"1\" class=\"dataframe\">\n",
       "  <thead>\n",
       "    <tr style=\"text-align: right;\">\n",
       "      <th></th>\n",
       "      <th>A</th>\n",
       "      <th>B</th>\n",
       "      <th>A_Result</th>\n",
       "    </tr>\n",
       "  </thead>\n",
       "  <tbody>\n",
       "    <tr>\n",
       "      <th>0</th>\n",
       "      <td>월</td>\n",
       "      <td>여자</td>\n",
       "      <td>월</td>\n",
       "    </tr>\n",
       "    <tr>\n",
       "      <th>1</th>\n",
       "      <td>화</td>\n",
       "      <td>남자</td>\n",
       "      <td>화</td>\n",
       "    </tr>\n",
       "    <tr>\n",
       "      <th>2</th>\n",
       "      <td>수</td>\n",
       "      <td>여자</td>\n",
       "      <td>수</td>\n",
       "    </tr>\n",
       "    <tr>\n",
       "      <th>3</th>\n",
       "      <td>화</td>\n",
       "      <td>남자</td>\n",
       "      <td>화</td>\n",
       "    </tr>\n",
       "    <tr>\n",
       "      <th>4</th>\n",
       "      <td>수</td>\n",
       "      <td>남자</td>\n",
       "      <td>수</td>\n",
       "    </tr>\n",
       "    <tr>\n",
       "      <th>5</th>\n",
       "      <td>금</td>\n",
       "      <td>남자</td>\n",
       "      <td>금</td>\n",
       "    </tr>\n",
       "    <tr>\n",
       "      <th>6</th>\n",
       "      <td>월</td>\n",
       "      <td>여자</td>\n",
       "      <td>월</td>\n",
       "    </tr>\n",
       "  </tbody>\n",
       "</table>\n",
       "</div>"
      ],
      "text/plain": [
       "   A   B A_Result\n",
       "0  월  여자        월\n",
       "1  화  남자        화\n",
       "2  수  여자        수\n",
       "3  화  남자        화\n",
       "4  수  남자        수\n",
       "5  금  남자        금\n",
       "6  월  여자        월"
      ]
     },
     "execution_count": 313,
     "metadata": {},
     "output_type": "execute_result"
    }
   ],
   "source": [
    "df['A_Result'] = pd.Categorical(df['A'], weekdays, ordered=True)\n",
    "df"
   ]
  },
  {
   "cell_type": "code",
   "execution_count": 315,
   "id": "d9296590-ea5a-4e2e-b357-f7dd8243b08c",
   "metadata": {},
   "outputs": [
    {
     "name": "stdout",
     "output_type": "stream",
     "text": [
      "<class 'pandas.core.frame.DataFrame'>\n",
      "RangeIndex: 7 entries, 0 to 6\n",
      "Data columns (total 3 columns):\n",
      " #   Column    Non-Null Count  Dtype   \n",
      "---  ------    --------------  -----   \n",
      " 0   A         7 non-null      object  \n",
      " 1   B         7 non-null      object  \n",
      " 2   A_Result  7 non-null      category\n",
      "dtypes: category(1), object(2)\n",
      "memory usage: 607.0+ bytes\n"
     ]
    }
   ],
   "source": [
    "df.info()"
   ]
  },
  {
   "cell_type": "code",
   "execution_count": 317,
   "id": "6b80db80-db0f-449b-84af-57ef488c25c5",
   "metadata": {},
   "outputs": [
    {
     "data": {
      "text/html": [
       "<div>\n",
       "<style scoped>\n",
       "    .dataframe tbody tr th:only-of-type {\n",
       "        vertical-align: middle;\n",
       "    }\n",
       "\n",
       "    .dataframe tbody tr th {\n",
       "        vertical-align: top;\n",
       "    }\n",
       "\n",
       "    .dataframe thead th {\n",
       "        text-align: right;\n",
       "    }\n",
       "</style>\n",
       "<table border=\"1\" class=\"dataframe\">\n",
       "  <thead>\n",
       "    <tr style=\"text-align: right;\">\n",
       "      <th></th>\n",
       "      <th>A</th>\n",
       "      <th>B</th>\n",
       "      <th>A_Result</th>\n",
       "    </tr>\n",
       "  </thead>\n",
       "  <tbody>\n",
       "    <tr>\n",
       "      <th>0</th>\n",
       "      <td>월</td>\n",
       "      <td>여자</td>\n",
       "      <td>0</td>\n",
       "    </tr>\n",
       "    <tr>\n",
       "      <th>1</th>\n",
       "      <td>화</td>\n",
       "      <td>남자</td>\n",
       "      <td>1</td>\n",
       "    </tr>\n",
       "    <tr>\n",
       "      <th>2</th>\n",
       "      <td>수</td>\n",
       "      <td>여자</td>\n",
       "      <td>2</td>\n",
       "    </tr>\n",
       "    <tr>\n",
       "      <th>3</th>\n",
       "      <td>화</td>\n",
       "      <td>남자</td>\n",
       "      <td>1</td>\n",
       "    </tr>\n",
       "    <tr>\n",
       "      <th>4</th>\n",
       "      <td>수</td>\n",
       "      <td>남자</td>\n",
       "      <td>2</td>\n",
       "    </tr>\n",
       "    <tr>\n",
       "      <th>5</th>\n",
       "      <td>금</td>\n",
       "      <td>남자</td>\n",
       "      <td>4</td>\n",
       "    </tr>\n",
       "    <tr>\n",
       "      <th>6</th>\n",
       "      <td>월</td>\n",
       "      <td>여자</td>\n",
       "      <td>0</td>\n",
       "    </tr>\n",
       "  </tbody>\n",
       "</table>\n",
       "</div>"
      ],
      "text/plain": [
       "   A   B  A_Result\n",
       "0  월  여자         0\n",
       "1  화  남자         1\n",
       "2  수  여자         2\n",
       "3  화  남자         1\n",
       "4  수  남자         2\n",
       "5  금  남자         4\n",
       "6  월  여자         0"
      ]
     },
     "execution_count": 317,
     "metadata": {},
     "output_type": "execute_result"
    }
   ],
   "source": [
    "df['A_Result'] = df['A_Result'].cat.codes\n",
    "df"
   ]
  },
  {
   "cell_type": "code",
   "execution_count": 319,
   "id": "e4b75e7e-42e5-4490-accd-71f85a202eee",
   "metadata": {},
   "outputs": [
    {
     "name": "stdout",
     "output_type": "stream",
     "text": [
      "<class 'pandas.core.frame.DataFrame'>\n",
      "RangeIndex: 7 entries, 0 to 6\n",
      "Data columns (total 3 columns):\n",
      " #   Column    Non-Null Count  Dtype \n",
      "---  ------    --------------  ----- \n",
      " 0   A         7 non-null      object\n",
      " 1   B         7 non-null      object\n",
      " 2   A_Result  7 non-null      int8  \n",
      "dtypes: int8(1), object(2)\n",
      "memory usage: 251.0+ bytes\n"
     ]
    }
   ],
   "source": [
    "df.info()"
   ]
  },
  {
   "cell_type": "code",
   "execution_count": 321,
   "id": "7e071efe-33a9-47b5-88bc-aa29496f1576",
   "metadata": {},
   "outputs": [
    {
     "name": "stderr",
     "output_type": "stream",
     "text": [
      "C:\\Users\\kj\\AppData\\Local\\Temp\\ipykernel_7252\\3489341832.py:1: FutureWarning: Downcasting behavior in `replace` is deprecated and will be removed in a future version. To retain the old behavior, explicitly call `result.infer_objects(copy=False)`. To opt-in to the future behavior, set `pd.set_option('future.no_silent_downcasting', True)`\n",
      "  df['B_Result'] = df['B'].replace(['남자', '여자'], [1, 2])\n"
     ]
    },
    {
     "data": {
      "text/html": [
       "<div>\n",
       "<style scoped>\n",
       "    .dataframe tbody tr th:only-of-type {\n",
       "        vertical-align: middle;\n",
       "    }\n",
       "\n",
       "    .dataframe tbody tr th {\n",
       "        vertical-align: top;\n",
       "    }\n",
       "\n",
       "    .dataframe thead th {\n",
       "        text-align: right;\n",
       "    }\n",
       "</style>\n",
       "<table border=\"1\" class=\"dataframe\">\n",
       "  <thead>\n",
       "    <tr style=\"text-align: right;\">\n",
       "      <th></th>\n",
       "      <th>A</th>\n",
       "      <th>B</th>\n",
       "      <th>A_Result</th>\n",
       "      <th>B_Result</th>\n",
       "    </tr>\n",
       "  </thead>\n",
       "  <tbody>\n",
       "    <tr>\n",
       "      <th>0</th>\n",
       "      <td>월</td>\n",
       "      <td>여자</td>\n",
       "      <td>0</td>\n",
       "      <td>2</td>\n",
       "    </tr>\n",
       "    <tr>\n",
       "      <th>1</th>\n",
       "      <td>화</td>\n",
       "      <td>남자</td>\n",
       "      <td>1</td>\n",
       "      <td>1</td>\n",
       "    </tr>\n",
       "    <tr>\n",
       "      <th>2</th>\n",
       "      <td>수</td>\n",
       "      <td>여자</td>\n",
       "      <td>2</td>\n",
       "      <td>2</td>\n",
       "    </tr>\n",
       "    <tr>\n",
       "      <th>3</th>\n",
       "      <td>화</td>\n",
       "      <td>남자</td>\n",
       "      <td>1</td>\n",
       "      <td>1</td>\n",
       "    </tr>\n",
       "    <tr>\n",
       "      <th>4</th>\n",
       "      <td>수</td>\n",
       "      <td>남자</td>\n",
       "      <td>2</td>\n",
       "      <td>1</td>\n",
       "    </tr>\n",
       "    <tr>\n",
       "      <th>5</th>\n",
       "      <td>금</td>\n",
       "      <td>남자</td>\n",
       "      <td>4</td>\n",
       "      <td>1</td>\n",
       "    </tr>\n",
       "    <tr>\n",
       "      <th>6</th>\n",
       "      <td>월</td>\n",
       "      <td>여자</td>\n",
       "      <td>0</td>\n",
       "      <td>2</td>\n",
       "    </tr>\n",
       "  </tbody>\n",
       "</table>\n",
       "</div>"
      ],
      "text/plain": [
       "   A   B  A_Result  B_Result\n",
       "0  월  여자         0         2\n",
       "1  화  남자         1         1\n",
       "2  수  여자         2         2\n",
       "3  화  남자         1         1\n",
       "4  수  남자         2         1\n",
       "5  금  남자         4         1\n",
       "6  월  여자         0         2"
      ]
     },
     "execution_count": 321,
     "metadata": {},
     "output_type": "execute_result"
    }
   ],
   "source": [
    "df['B_Result'] = df['B'].replace(['남자', '여자'], [1, 2])\n",
    "df"
   ]
  },
  {
   "cell_type": "code",
   "execution_count": 323,
   "id": "8561e70a-e3fd-458a-b0fb-23c5a249b5fb",
   "metadata": {},
   "outputs": [
    {
     "data": {
      "text/html": [
       "<div>\n",
       "<style scoped>\n",
       "    .dataframe tbody tr th:only-of-type {\n",
       "        vertical-align: middle;\n",
       "    }\n",
       "\n",
       "    .dataframe tbody tr th {\n",
       "        vertical-align: top;\n",
       "    }\n",
       "\n",
       "    .dataframe thead th {\n",
       "        text-align: right;\n",
       "    }\n",
       "</style>\n",
       "<table border=\"1\" class=\"dataframe\">\n",
       "  <thead>\n",
       "    <tr style=\"text-align: right;\">\n",
       "      <th></th>\n",
       "      <th>금</th>\n",
       "      <th>수</th>\n",
       "      <th>월</th>\n",
       "      <th>화</th>\n",
       "    </tr>\n",
       "  </thead>\n",
       "  <tbody>\n",
       "    <tr>\n",
       "      <th>0</th>\n",
       "      <td>False</td>\n",
       "      <td>False</td>\n",
       "      <td>True</td>\n",
       "      <td>False</td>\n",
       "    </tr>\n",
       "    <tr>\n",
       "      <th>1</th>\n",
       "      <td>False</td>\n",
       "      <td>False</td>\n",
       "      <td>False</td>\n",
       "      <td>True</td>\n",
       "    </tr>\n",
       "    <tr>\n",
       "      <th>2</th>\n",
       "      <td>False</td>\n",
       "      <td>True</td>\n",
       "      <td>False</td>\n",
       "      <td>False</td>\n",
       "    </tr>\n",
       "    <tr>\n",
       "      <th>3</th>\n",
       "      <td>False</td>\n",
       "      <td>False</td>\n",
       "      <td>False</td>\n",
       "      <td>True</td>\n",
       "    </tr>\n",
       "    <tr>\n",
       "      <th>4</th>\n",
       "      <td>False</td>\n",
       "      <td>True</td>\n",
       "      <td>False</td>\n",
       "      <td>False</td>\n",
       "    </tr>\n",
       "    <tr>\n",
       "      <th>5</th>\n",
       "      <td>True</td>\n",
       "      <td>False</td>\n",
       "      <td>False</td>\n",
       "      <td>False</td>\n",
       "    </tr>\n",
       "    <tr>\n",
       "      <th>6</th>\n",
       "      <td>False</td>\n",
       "      <td>False</td>\n",
       "      <td>True</td>\n",
       "      <td>False</td>\n",
       "    </tr>\n",
       "  </tbody>\n",
       "</table>\n",
       "</div>"
      ],
      "text/plain": [
       "       금      수      월      화\n",
       "0  False  False   True  False\n",
       "1  False  False  False   True\n",
       "2  False   True  False  False\n",
       "3  False  False  False   True\n",
       "4  False   True  False  False\n",
       "5   True  False  False  False\n",
       "6  False  False   True  False"
      ]
     },
     "execution_count": 323,
     "metadata": {},
     "output_type": "execute_result"
    }
   ],
   "source": [
    "# one hot encoding\n",
    "a = pd.get_dummies(df['A'])\n",
    "a"
   ]
  },
  {
   "cell_type": "code",
   "execution_count": 341,
   "id": "d04c1e21-9f3d-4e3b-8cbd-9861595c7eaa",
   "metadata": {},
   "outputs": [
    {
     "data": {
      "text/html": [
       "<div>\n",
       "<style scoped>\n",
       "    .dataframe tbody tr th:only-of-type {\n",
       "        vertical-align: middle;\n",
       "    }\n",
       "\n",
       "    .dataframe tbody tr th {\n",
       "        vertical-align: top;\n",
       "    }\n",
       "\n",
       "    .dataframe thead th {\n",
       "        text-align: right;\n",
       "    }\n",
       "</style>\n",
       "<table border=\"1\" class=\"dataframe\">\n",
       "  <thead>\n",
       "    <tr style=\"text-align: right;\">\n",
       "      <th></th>\n",
       "      <th>남자</th>\n",
       "      <th>여자</th>\n",
       "    </tr>\n",
       "  </thead>\n",
       "  <tbody>\n",
       "    <tr>\n",
       "      <th>0</th>\n",
       "      <td>0</td>\n",
       "      <td>1</td>\n",
       "    </tr>\n",
       "    <tr>\n",
       "      <th>1</th>\n",
       "      <td>1</td>\n",
       "      <td>0</td>\n",
       "    </tr>\n",
       "    <tr>\n",
       "      <th>2</th>\n",
       "      <td>0</td>\n",
       "      <td>1</td>\n",
       "    </tr>\n",
       "    <tr>\n",
       "      <th>3</th>\n",
       "      <td>1</td>\n",
       "      <td>0</td>\n",
       "    </tr>\n",
       "    <tr>\n",
       "      <th>4</th>\n",
       "      <td>1</td>\n",
       "      <td>0</td>\n",
       "    </tr>\n",
       "    <tr>\n",
       "      <th>5</th>\n",
       "      <td>1</td>\n",
       "      <td>0</td>\n",
       "    </tr>\n",
       "    <tr>\n",
       "      <th>6</th>\n",
       "      <td>0</td>\n",
       "      <td>1</td>\n",
       "    </tr>\n",
       "  </tbody>\n",
       "</table>\n",
       "</div>"
      ],
      "text/plain": [
       "   남자  여자\n",
       "0   0   1\n",
       "1   1   0\n",
       "2   0   1\n",
       "3   1   0\n",
       "4   1   0\n",
       "5   1   0\n",
       "6   0   1"
      ]
     },
     "execution_count": 341,
     "metadata": {},
     "output_type": "execute_result"
    }
   ],
   "source": [
    "b = pd.get_dummies(df['B']).astype('int')\n",
    "b"
   ]
  },
  {
   "cell_type": "code",
   "execution_count": 327,
   "id": "015ca71a-33a8-4bd6-8ffb-4702ddedfd80",
   "metadata": {},
   "outputs": [
    {
     "data": {
      "text/html": [
       "<div>\n",
       "<style scoped>\n",
       "    .dataframe tbody tr th:only-of-type {\n",
       "        vertical-align: middle;\n",
       "    }\n",
       "\n",
       "    .dataframe tbody tr th {\n",
       "        vertical-align: top;\n",
       "    }\n",
       "\n",
       "    .dataframe thead th {\n",
       "        text-align: right;\n",
       "    }\n",
       "</style>\n",
       "<table border=\"1\" class=\"dataframe\">\n",
       "  <thead>\n",
       "    <tr style=\"text-align: right;\">\n",
       "      <th></th>\n",
       "      <th>A</th>\n",
       "      <th>B</th>\n",
       "      <th>A_Result</th>\n",
       "      <th>B_Result</th>\n",
       "    </tr>\n",
       "  </thead>\n",
       "  <tbody>\n",
       "    <tr>\n",
       "      <th>0</th>\n",
       "      <td>월</td>\n",
       "      <td>여자</td>\n",
       "      <td>0</td>\n",
       "      <td>2</td>\n",
       "    </tr>\n",
       "    <tr>\n",
       "      <th>1</th>\n",
       "      <td>화</td>\n",
       "      <td>남자</td>\n",
       "      <td>1</td>\n",
       "      <td>1</td>\n",
       "    </tr>\n",
       "    <tr>\n",
       "      <th>2</th>\n",
       "      <td>수</td>\n",
       "      <td>여자</td>\n",
       "      <td>2</td>\n",
       "      <td>2</td>\n",
       "    </tr>\n",
       "    <tr>\n",
       "      <th>3</th>\n",
       "      <td>화</td>\n",
       "      <td>남자</td>\n",
       "      <td>1</td>\n",
       "      <td>1</td>\n",
       "    </tr>\n",
       "    <tr>\n",
       "      <th>4</th>\n",
       "      <td>수</td>\n",
       "      <td>남자</td>\n",
       "      <td>2</td>\n",
       "      <td>1</td>\n",
       "    </tr>\n",
       "  </tbody>\n",
       "</table>\n",
       "</div>"
      ],
      "text/plain": [
       "   A   B  A_Result  B_Result\n",
       "0  월  여자         0         2\n",
       "1  화  남자         1         1\n",
       "2  수  여자         2         2\n",
       "3  화  남자         1         1\n",
       "4  수  남자         2         1"
      ]
     },
     "execution_count": 327,
     "metadata": {},
     "output_type": "execute_result"
    }
   ],
   "source": [
    "df.head()"
   ]
  },
  {
   "cell_type": "code",
   "execution_count": 331,
   "id": "8a94596b-798f-4a3a-a476-5423607b60bf",
   "metadata": {},
   "outputs": [
    {
     "data": {
      "text/html": [
       "<div>\n",
       "<style scoped>\n",
       "    .dataframe tbody tr th:only-of-type {\n",
       "        vertical-align: middle;\n",
       "    }\n",
       "\n",
       "    .dataframe tbody tr th {\n",
       "        vertical-align: top;\n",
       "    }\n",
       "\n",
       "    .dataframe thead th {\n",
       "        text-align: right;\n",
       "    }\n",
       "</style>\n",
       "<table border=\"1\" class=\"dataframe\">\n",
       "  <thead>\n",
       "    <tr style=\"text-align: right;\">\n",
       "      <th></th>\n",
       "      <th>A</th>\n",
       "      <th>B</th>\n",
       "      <th>A_Result</th>\n",
       "      <th>B_Result</th>\n",
       "      <th>금</th>\n",
       "      <th>수</th>\n",
       "      <th>월</th>\n",
       "      <th>화</th>\n",
       "      <th>남자</th>\n",
       "      <th>여자</th>\n",
       "    </tr>\n",
       "  </thead>\n",
       "  <tbody>\n",
       "    <tr>\n",
       "      <th>0</th>\n",
       "      <td>월</td>\n",
       "      <td>여자</td>\n",
       "      <td>0</td>\n",
       "      <td>2</td>\n",
       "      <td>False</td>\n",
       "      <td>False</td>\n",
       "      <td>True</td>\n",
       "      <td>False</td>\n",
       "      <td>False</td>\n",
       "      <td>True</td>\n",
       "    </tr>\n",
       "    <tr>\n",
       "      <th>1</th>\n",
       "      <td>화</td>\n",
       "      <td>남자</td>\n",
       "      <td>1</td>\n",
       "      <td>1</td>\n",
       "      <td>False</td>\n",
       "      <td>False</td>\n",
       "      <td>False</td>\n",
       "      <td>True</td>\n",
       "      <td>True</td>\n",
       "      <td>False</td>\n",
       "    </tr>\n",
       "    <tr>\n",
       "      <th>2</th>\n",
       "      <td>수</td>\n",
       "      <td>여자</td>\n",
       "      <td>2</td>\n",
       "      <td>2</td>\n",
       "      <td>False</td>\n",
       "      <td>True</td>\n",
       "      <td>False</td>\n",
       "      <td>False</td>\n",
       "      <td>False</td>\n",
       "      <td>True</td>\n",
       "    </tr>\n",
       "    <tr>\n",
       "      <th>3</th>\n",
       "      <td>화</td>\n",
       "      <td>남자</td>\n",
       "      <td>1</td>\n",
       "      <td>1</td>\n",
       "      <td>False</td>\n",
       "      <td>False</td>\n",
       "      <td>False</td>\n",
       "      <td>True</td>\n",
       "      <td>True</td>\n",
       "      <td>False</td>\n",
       "    </tr>\n",
       "    <tr>\n",
       "      <th>4</th>\n",
       "      <td>수</td>\n",
       "      <td>남자</td>\n",
       "      <td>2</td>\n",
       "      <td>1</td>\n",
       "      <td>False</td>\n",
       "      <td>True</td>\n",
       "      <td>False</td>\n",
       "      <td>False</td>\n",
       "      <td>True</td>\n",
       "      <td>False</td>\n",
       "    </tr>\n",
       "    <tr>\n",
       "      <th>5</th>\n",
       "      <td>금</td>\n",
       "      <td>남자</td>\n",
       "      <td>4</td>\n",
       "      <td>1</td>\n",
       "      <td>True</td>\n",
       "      <td>False</td>\n",
       "      <td>False</td>\n",
       "      <td>False</td>\n",
       "      <td>True</td>\n",
       "      <td>False</td>\n",
       "    </tr>\n",
       "    <tr>\n",
       "      <th>6</th>\n",
       "      <td>월</td>\n",
       "      <td>여자</td>\n",
       "      <td>0</td>\n",
       "      <td>2</td>\n",
       "      <td>False</td>\n",
       "      <td>False</td>\n",
       "      <td>True</td>\n",
       "      <td>False</td>\n",
       "      <td>False</td>\n",
       "      <td>True</td>\n",
       "    </tr>\n",
       "  </tbody>\n",
       "</table>\n",
       "</div>"
      ],
      "text/plain": [
       "   A   B  A_Result  B_Result      금      수      월      화     남자     여자\n",
       "0  월  여자         0         2  False  False   True  False  False   True\n",
       "1  화  남자         1         1  False  False  False   True   True  False\n",
       "2  수  여자         2         2  False   True  False  False  False   True\n",
       "3  화  남자         1         1  False  False  False   True   True  False\n",
       "4  수  남자         2         1  False   True  False  False   True  False\n",
       "5  금  남자         4         1   True  False  False  False   True  False\n",
       "6  월  여자         0         2  False  False   True  False  False   True"
      ]
     },
     "execution_count": 331,
     "metadata": {},
     "output_type": "execute_result"
    }
   ],
   "source": [
    "df2 = pd.concat([df, a, b], axis=1)\n",
    "df2"
   ]
  },
  {
   "cell_type": "code",
   "execution_count": 333,
   "id": "2747b78e-b768-41bd-b6b8-404c62813c6a",
   "metadata": {},
   "outputs": [
    {
     "data": {
      "text/html": [
       "<div>\n",
       "<style scoped>\n",
       "    .dataframe tbody tr th:only-of-type {\n",
       "        vertical-align: middle;\n",
       "    }\n",
       "\n",
       "    .dataframe tbody tr th {\n",
       "        vertical-align: top;\n",
       "    }\n",
       "\n",
       "    .dataframe thead th {\n",
       "        text-align: right;\n",
       "    }\n",
       "</style>\n",
       "<table border=\"1\" class=\"dataframe\">\n",
       "  <thead>\n",
       "    <tr style=\"text-align: right;\">\n",
       "      <th></th>\n",
       "      <th>A_Result</th>\n",
       "      <th>남자</th>\n",
       "      <th>여자</th>\n",
       "    </tr>\n",
       "  </thead>\n",
       "  <tbody>\n",
       "    <tr>\n",
       "      <th>0</th>\n",
       "      <td>0</td>\n",
       "      <td>False</td>\n",
       "      <td>True</td>\n",
       "    </tr>\n",
       "    <tr>\n",
       "      <th>1</th>\n",
       "      <td>1</td>\n",
       "      <td>True</td>\n",
       "      <td>False</td>\n",
       "    </tr>\n",
       "    <tr>\n",
       "      <th>2</th>\n",
       "      <td>2</td>\n",
       "      <td>False</td>\n",
       "      <td>True</td>\n",
       "    </tr>\n",
       "    <tr>\n",
       "      <th>3</th>\n",
       "      <td>1</td>\n",
       "      <td>True</td>\n",
       "      <td>False</td>\n",
       "    </tr>\n",
       "    <tr>\n",
       "      <th>4</th>\n",
       "      <td>2</td>\n",
       "      <td>True</td>\n",
       "      <td>False</td>\n",
       "    </tr>\n",
       "    <tr>\n",
       "      <th>5</th>\n",
       "      <td>4</td>\n",
       "      <td>True</td>\n",
       "      <td>False</td>\n",
       "    </tr>\n",
       "    <tr>\n",
       "      <th>6</th>\n",
       "      <td>0</td>\n",
       "      <td>False</td>\n",
       "      <td>True</td>\n",
       "    </tr>\n",
       "  </tbody>\n",
       "</table>\n",
       "</div>"
      ],
      "text/plain": [
       "   A_Result     남자     여자\n",
       "0         0  False   True\n",
       "1         1   True  False\n",
       "2         2  False   True\n",
       "3         1   True  False\n",
       "4         2   True  False\n",
       "5         4   True  False\n",
       "6         0  False   True"
      ]
     },
     "execution_count": 333,
     "metadata": {},
     "output_type": "execute_result"
    }
   ],
   "source": [
    "X = df2[['A_Result', '남자', '여자']]\n",
    "X"
   ]
  },
  {
   "cell_type": "code",
   "execution_count": 335,
   "id": "72025c73-98f3-47cb-94e3-b68406d0d919",
   "metadata": {},
   "outputs": [
    {
     "data": {
      "text/html": [
       "<div>\n",
       "<style scoped>\n",
       "    .dataframe tbody tr th:only-of-type {\n",
       "        vertical-align: middle;\n",
       "    }\n",
       "\n",
       "    .dataframe tbody tr th {\n",
       "        vertical-align: top;\n",
       "    }\n",
       "\n",
       "    .dataframe thead th {\n",
       "        text-align: right;\n",
       "    }\n",
       "</style>\n",
       "<table border=\"1\" class=\"dataframe\">\n",
       "  <thead>\n",
       "    <tr style=\"text-align: right;\">\n",
       "      <th></th>\n",
       "      <th>A</th>\n",
       "      <th>B</th>\n",
       "      <th>A_Result</th>\n",
       "      <th>B_Result</th>\n",
       "    </tr>\n",
       "  </thead>\n",
       "  <tbody>\n",
       "    <tr>\n",
       "      <th>0</th>\n",
       "      <td>월</td>\n",
       "      <td>여자</td>\n",
       "      <td>0</td>\n",
       "      <td>2</td>\n",
       "    </tr>\n",
       "    <tr>\n",
       "      <th>1</th>\n",
       "      <td>화</td>\n",
       "      <td>남자</td>\n",
       "      <td>1</td>\n",
       "      <td>1</td>\n",
       "    </tr>\n",
       "    <tr>\n",
       "      <th>2</th>\n",
       "      <td>수</td>\n",
       "      <td>여자</td>\n",
       "      <td>2</td>\n",
       "      <td>2</td>\n",
       "    </tr>\n",
       "    <tr>\n",
       "      <th>3</th>\n",
       "      <td>화</td>\n",
       "      <td>남자</td>\n",
       "      <td>1</td>\n",
       "      <td>1</td>\n",
       "    </tr>\n",
       "    <tr>\n",
       "      <th>4</th>\n",
       "      <td>수</td>\n",
       "      <td>남자</td>\n",
       "      <td>2</td>\n",
       "      <td>1</td>\n",
       "    </tr>\n",
       "    <tr>\n",
       "      <th>5</th>\n",
       "      <td>금</td>\n",
       "      <td>남자</td>\n",
       "      <td>4</td>\n",
       "      <td>1</td>\n",
       "    </tr>\n",
       "    <tr>\n",
       "      <th>6</th>\n",
       "      <td>월</td>\n",
       "      <td>여자</td>\n",
       "      <td>0</td>\n",
       "      <td>2</td>\n",
       "    </tr>\n",
       "  </tbody>\n",
       "</table>\n",
       "</div>"
      ],
      "text/plain": [
       "   A   B  A_Result  B_Result\n",
       "0  월  여자         0         2\n",
       "1  화  남자         1         1\n",
       "2  수  여자         2         2\n",
       "3  화  남자         1         1\n",
       "4  수  남자         2         1\n",
       "5  금  남자         4         1\n",
       "6  월  여자         0         2"
      ]
     },
     "execution_count": 335,
     "metadata": {},
     "output_type": "execute_result"
    }
   ],
   "source": [
    "df"
   ]
  },
  {
   "cell_type": "code",
   "execution_count": 343,
   "id": "0861e268-b314-47cc-b873-f9ee884d9982",
   "metadata": {},
   "outputs": [
    {
     "data": {
      "text/html": [
       "<div>\n",
       "<style scoped>\n",
       "    .dataframe tbody tr th:only-of-type {\n",
       "        vertical-align: middle;\n",
       "    }\n",
       "\n",
       "    .dataframe tbody tr th {\n",
       "        vertical-align: top;\n",
       "    }\n",
       "\n",
       "    .dataframe thead th {\n",
       "        text-align: right;\n",
       "    }\n",
       "</style>\n",
       "<table border=\"1\" class=\"dataframe\">\n",
       "  <thead>\n",
       "    <tr style=\"text-align: right;\">\n",
       "      <th></th>\n",
       "      <th>A_Result</th>\n",
       "      <th>B_Result</th>\n",
       "      <th>A_금</th>\n",
       "      <th>A_수</th>\n",
       "      <th>A_월</th>\n",
       "      <th>A_화</th>\n",
       "      <th>B_남자</th>\n",
       "      <th>B_여자</th>\n",
       "    </tr>\n",
       "  </thead>\n",
       "  <tbody>\n",
       "    <tr>\n",
       "      <th>0</th>\n",
       "      <td>0</td>\n",
       "      <td>2</td>\n",
       "      <td>0</td>\n",
       "      <td>0</td>\n",
       "      <td>1</td>\n",
       "      <td>0</td>\n",
       "      <td>0</td>\n",
       "      <td>1</td>\n",
       "    </tr>\n",
       "    <tr>\n",
       "      <th>1</th>\n",
       "      <td>1</td>\n",
       "      <td>1</td>\n",
       "      <td>0</td>\n",
       "      <td>0</td>\n",
       "      <td>0</td>\n",
       "      <td>1</td>\n",
       "      <td>1</td>\n",
       "      <td>0</td>\n",
       "    </tr>\n",
       "    <tr>\n",
       "      <th>2</th>\n",
       "      <td>2</td>\n",
       "      <td>2</td>\n",
       "      <td>0</td>\n",
       "      <td>1</td>\n",
       "      <td>0</td>\n",
       "      <td>0</td>\n",
       "      <td>0</td>\n",
       "      <td>1</td>\n",
       "    </tr>\n",
       "    <tr>\n",
       "      <th>3</th>\n",
       "      <td>1</td>\n",
       "      <td>1</td>\n",
       "      <td>0</td>\n",
       "      <td>0</td>\n",
       "      <td>0</td>\n",
       "      <td>1</td>\n",
       "      <td>1</td>\n",
       "      <td>0</td>\n",
       "    </tr>\n",
       "    <tr>\n",
       "      <th>4</th>\n",
       "      <td>2</td>\n",
       "      <td>1</td>\n",
       "      <td>0</td>\n",
       "      <td>1</td>\n",
       "      <td>0</td>\n",
       "      <td>0</td>\n",
       "      <td>1</td>\n",
       "      <td>0</td>\n",
       "    </tr>\n",
       "    <tr>\n",
       "      <th>5</th>\n",
       "      <td>4</td>\n",
       "      <td>1</td>\n",
       "      <td>1</td>\n",
       "      <td>0</td>\n",
       "      <td>0</td>\n",
       "      <td>0</td>\n",
       "      <td>1</td>\n",
       "      <td>0</td>\n",
       "    </tr>\n",
       "    <tr>\n",
       "      <th>6</th>\n",
       "      <td>0</td>\n",
       "      <td>2</td>\n",
       "      <td>0</td>\n",
       "      <td>0</td>\n",
       "      <td>1</td>\n",
       "      <td>0</td>\n",
       "      <td>0</td>\n",
       "      <td>1</td>\n",
       "    </tr>\n",
       "  </tbody>\n",
       "</table>\n",
       "</div>"
      ],
      "text/plain": [
       "   A_Result  B_Result  A_금  A_수  A_월  A_화  B_남자  B_여자\n",
       "0         0         2    0    0    1    0     0     1\n",
       "1         1         1    0    0    0    1     1     0\n",
       "2         2         2    0    1    0    0     0     1\n",
       "3         1         1    0    0    0    1     1     0\n",
       "4         2         1    0    1    0    0     1     0\n",
       "5         4         1    1    0    0    0     1     0\n",
       "6         0         2    0    0    1    0     0     1"
      ]
     },
     "execution_count": 343,
     "metadata": {},
     "output_type": "execute_result"
    }
   ],
   "source": [
    "df3 = pd.get_dummies(df).astype('int')\n",
    "df3"
   ]
  },
  {
   "cell_type": "markdown",
   "id": "1f7a923c-30a7-4cc7-8880-1419da29ae9a",
   "metadata": {},
   "source": [
    "- 범주형 변수 변환(Binnig) : 구간화"
   ]
  },
  {
   "cell_type": "code",
   "execution_count": 346,
   "id": "0f4714cb-2e37-4a6d-94bf-b2fe23732a89",
   "metadata": {},
   "outputs": [
    {
     "data": {
      "text/plain": [
       "[0, 1, 2, 3, 4, 5, 6, 7, 8, 9]"
      ]
     },
     "execution_count": 346,
     "metadata": {},
     "output_type": "execute_result"
    }
   ],
   "source": [
    "data = [0, 1, 2, 3, 4, 5, 6, 7, 8, 9]\n",
    "df = pd.DataFrame(data, columns=['data'])\n",
    "df['data'].to_list()"
   ]
  },
  {
   "cell_type": "code",
   "execution_count": 348,
   "id": "b3154010-8f24-4793-b319-212d5b65c53a",
   "metadata": {},
   "outputs": [
    {
     "data": {
      "text/html": [
       "<div>\n",
       "<style scoped>\n",
       "    .dataframe tbody tr th:only-of-type {\n",
       "        vertical-align: middle;\n",
       "    }\n",
       "\n",
       "    .dataframe tbody tr th {\n",
       "        vertical-align: top;\n",
       "    }\n",
       "\n",
       "    .dataframe thead th {\n",
       "        text-align: right;\n",
       "    }\n",
       "</style>\n",
       "<table border=\"1\" class=\"dataframe\">\n",
       "  <thead>\n",
       "    <tr style=\"text-align: right;\">\n",
       "      <th></th>\n",
       "      <th>data</th>\n",
       "    </tr>\n",
       "  </thead>\n",
       "  <tbody>\n",
       "    <tr>\n",
       "      <th>0</th>\n",
       "      <td>0</td>\n",
       "    </tr>\n",
       "    <tr>\n",
       "      <th>1</th>\n",
       "      <td>1</td>\n",
       "    </tr>\n",
       "    <tr>\n",
       "      <th>2</th>\n",
       "      <td>2</td>\n",
       "    </tr>\n",
       "    <tr>\n",
       "      <th>3</th>\n",
       "      <td>3</td>\n",
       "    </tr>\n",
       "    <tr>\n",
       "      <th>4</th>\n",
       "      <td>4</td>\n",
       "    </tr>\n",
       "    <tr>\n",
       "      <th>5</th>\n",
       "      <td>5</td>\n",
       "    </tr>\n",
       "    <tr>\n",
       "      <th>6</th>\n",
       "      <td>6</td>\n",
       "    </tr>\n",
       "    <tr>\n",
       "      <th>7</th>\n",
       "      <td>7</td>\n",
       "    </tr>\n",
       "    <tr>\n",
       "      <th>8</th>\n",
       "      <td>8</td>\n",
       "    </tr>\n",
       "    <tr>\n",
       "      <th>9</th>\n",
       "      <td>9</td>\n",
       "    </tr>\n",
       "  </tbody>\n",
       "</table>\n",
       "</div>"
      ],
      "text/plain": [
       "   data\n",
       "0     0\n",
       "1     1\n",
       "2     2\n",
       "3     3\n",
       "4     4\n",
       "5     5\n",
       "6     6\n",
       "7     7\n",
       "8     8\n",
       "9     9"
      ]
     },
     "execution_count": 348,
     "metadata": {},
     "output_type": "execute_result"
    }
   ],
   "source": [
    "df"
   ]
  },
  {
   "cell_type": "code",
   "execution_count": 356,
   "id": "ea4db3fb-2ddc-4d92-b4c1-3450e26e2b32",
   "metadata": {},
   "outputs": [
    {
     "data": {
      "text/html": [
       "<div>\n",
       "<style scoped>\n",
       "    .dataframe tbody tr th:only-of-type {\n",
       "        vertical-align: middle;\n",
       "    }\n",
       "\n",
       "    .dataframe tbody tr th {\n",
       "        vertical-align: top;\n",
       "    }\n",
       "\n",
       "    .dataframe thead th {\n",
       "        text-align: right;\n",
       "    }\n",
       "</style>\n",
       "<table border=\"1\" class=\"dataframe\">\n",
       "  <thead>\n",
       "    <tr style=\"text-align: right;\">\n",
       "      <th></th>\n",
       "      <th>data</th>\n",
       "      <th>result_A</th>\n",
       "      <th>result_B</th>\n",
       "    </tr>\n",
       "  </thead>\n",
       "  <tbody>\n",
       "    <tr>\n",
       "      <th>0</th>\n",
       "      <td>0</td>\n",
       "      <td>A</td>\n",
       "      <td>0</td>\n",
       "    </tr>\n",
       "    <tr>\n",
       "      <th>1</th>\n",
       "      <td>1</td>\n",
       "      <td>A</td>\n",
       "      <td>0</td>\n",
       "    </tr>\n",
       "    <tr>\n",
       "      <th>2</th>\n",
       "      <td>2</td>\n",
       "      <td>A</td>\n",
       "      <td>0</td>\n",
       "    </tr>\n",
       "    <tr>\n",
       "      <th>3</th>\n",
       "      <td>3</td>\n",
       "      <td>A</td>\n",
       "      <td>1</td>\n",
       "    </tr>\n",
       "    <tr>\n",
       "      <th>4</th>\n",
       "      <td>4</td>\n",
       "      <td>B</td>\n",
       "      <td>1</td>\n",
       "    </tr>\n",
       "    <tr>\n",
       "      <th>5</th>\n",
       "      <td>5</td>\n",
       "      <td>B</td>\n",
       "      <td>1</td>\n",
       "    </tr>\n",
       "    <tr>\n",
       "      <th>6</th>\n",
       "      <td>6</td>\n",
       "      <td>B</td>\n",
       "      <td>2</td>\n",
       "    </tr>\n",
       "    <tr>\n",
       "      <th>7</th>\n",
       "      <td>7</td>\n",
       "      <td>C</td>\n",
       "      <td>2</td>\n",
       "    </tr>\n",
       "    <tr>\n",
       "      <th>8</th>\n",
       "      <td>8</td>\n",
       "      <td>C</td>\n",
       "      <td>2</td>\n",
       "    </tr>\n",
       "    <tr>\n",
       "      <th>9</th>\n",
       "      <td>9</td>\n",
       "      <td>C</td>\n",
       "      <td>2</td>\n",
       "    </tr>\n",
       "  </tbody>\n",
       "</table>\n",
       "</div>"
      ],
      "text/plain": [
       "   data result_A result_B\n",
       "0     0        A        0\n",
       "1     1        A        0\n",
       "2     2        A        0\n",
       "3     3        A        1\n",
       "4     4        B        1\n",
       "5     5        B        1\n",
       "6     6        B        2\n",
       "7     7        C        2\n",
       "8     8        C        2\n",
       "9     9        C        2"
      ]
     },
     "execution_count": 356,
     "metadata": {},
     "output_type": "execute_result"
    }
   ],
   "source": [
    "# Binning(구간화) 만들기\n",
    "# 0~3, 4~6, 7~9 에 대한 구간화, 각 구역에 대한 레이블 : A, B, C\n",
    "# df['result_A'] = pd.cut(df['data'], [0, 3, 6, 9], labels=['A', 'B', 'C'], right=True)\n",
    "Min, Max = df['data'].min(), df['data'].max()\n",
    "df['result_A'] = pd.cut(df['data'], [Min-1, 3, 6, Max], labels=['A', 'B', 'C'], right=True)\n",
    "df['result_B'] = pd.cut(df['data'], [Min, 3, 6, Max+1], labels=[0, 1, 2], right=False)\n",
    "df"
   ]
  },
  {
   "cell_type": "code",
   "execution_count": 358,
   "id": "a557cb33-390b-4580-9421-2e07fc2f8be4",
   "metadata": {},
   "outputs": [
    {
     "name": "stdout",
     "output_type": "stream",
     "text": [
      "<class 'pandas.core.frame.DataFrame'>\n",
      "RangeIndex: 10 entries, 0 to 9\n",
      "Data columns (total 3 columns):\n",
      " #   Column    Non-Null Count  Dtype   \n",
      "---  ------    --------------  -----   \n",
      " 0   data      10 non-null     int64   \n",
      " 1   result_A  10 non-null     category\n",
      " 2   result_B  10 non-null     category\n",
      "dtypes: category(2), int64(1)\n",
      "memory usage: 496.0 bytes\n"
     ]
    }
   ],
   "source": [
    "df.info()"
   ]
  },
  {
   "cell_type": "code",
   "execution_count": 360,
   "id": "5876590f-313b-4649-9eec-f2778cc2e932",
   "metadata": {},
   "outputs": [
    {
     "data": {
      "text/html": [
       "<div>\n",
       "<style scoped>\n",
       "    .dataframe tbody tr th:only-of-type {\n",
       "        vertical-align: middle;\n",
       "    }\n",
       "\n",
       "    .dataframe tbody tr th {\n",
       "        vertical-align: top;\n",
       "    }\n",
       "\n",
       "    .dataframe thead th {\n",
       "        text-align: right;\n",
       "    }\n",
       "</style>\n",
       "<table border=\"1\" class=\"dataframe\">\n",
       "  <thead>\n",
       "    <tr style=\"text-align: right;\">\n",
       "      <th></th>\n",
       "      <th>data</th>\n",
       "      <th>result_A</th>\n",
       "      <th>result_B</th>\n",
       "      <th>result_C</th>\n",
       "    </tr>\n",
       "  </thead>\n",
       "  <tbody>\n",
       "    <tr>\n",
       "      <th>0</th>\n",
       "      <td>0</td>\n",
       "      <td>A</td>\n",
       "      <td>0</td>\n",
       "      <td>0</td>\n",
       "    </tr>\n",
       "    <tr>\n",
       "      <th>1</th>\n",
       "      <td>1</td>\n",
       "      <td>A</td>\n",
       "      <td>0</td>\n",
       "      <td>0</td>\n",
       "    </tr>\n",
       "    <tr>\n",
       "      <th>2</th>\n",
       "      <td>2</td>\n",
       "      <td>A</td>\n",
       "      <td>0</td>\n",
       "      <td>0</td>\n",
       "    </tr>\n",
       "    <tr>\n",
       "      <th>3</th>\n",
       "      <td>3</td>\n",
       "      <td>A</td>\n",
       "      <td>1</td>\n",
       "      <td>0</td>\n",
       "    </tr>\n",
       "    <tr>\n",
       "      <th>4</th>\n",
       "      <td>4</td>\n",
       "      <td>B</td>\n",
       "      <td>1</td>\n",
       "      <td>1</td>\n",
       "    </tr>\n",
       "    <tr>\n",
       "      <th>5</th>\n",
       "      <td>5</td>\n",
       "      <td>B</td>\n",
       "      <td>1</td>\n",
       "      <td>1</td>\n",
       "    </tr>\n",
       "    <tr>\n",
       "      <th>6</th>\n",
       "      <td>6</td>\n",
       "      <td>B</td>\n",
       "      <td>2</td>\n",
       "      <td>1</td>\n",
       "    </tr>\n",
       "    <tr>\n",
       "      <th>7</th>\n",
       "      <td>7</td>\n",
       "      <td>C</td>\n",
       "      <td>2</td>\n",
       "      <td>2</td>\n",
       "    </tr>\n",
       "    <tr>\n",
       "      <th>8</th>\n",
       "      <td>8</td>\n",
       "      <td>C</td>\n",
       "      <td>2</td>\n",
       "      <td>2</td>\n",
       "    </tr>\n",
       "    <tr>\n",
       "      <th>9</th>\n",
       "      <td>9</td>\n",
       "      <td>C</td>\n",
       "      <td>2</td>\n",
       "      <td>2</td>\n",
       "    </tr>\n",
       "  </tbody>\n",
       "</table>\n",
       "</div>"
      ],
      "text/plain": [
       "   data result_A result_B  result_C\n",
       "0     0        A        0         0\n",
       "1     1        A        0         0\n",
       "2     2        A        0         0\n",
       "3     3        A        1         0\n",
       "4     4        B        1         1\n",
       "5     5        B        1         1\n",
       "6     6        B        2         1\n",
       "7     7        C        2         2\n",
       "8     8        C        2         2\n",
       "9     9        C        2         2"
      ]
     },
     "execution_count": 360,
     "metadata": {},
     "output_type": "execute_result"
    }
   ],
   "source": [
    "df['result_C'] = df['result_A'].cat.codes\n",
    "df"
   ]
  },
  {
   "cell_type": "code",
   "execution_count": null,
   "id": "e6b3db4f-5919-4678-94ce-35bc19511c41",
   "metadata": {},
   "outputs": [],
   "source": []
  },
  {
   "cell_type": "markdown",
   "id": "6254277d-bf97-4fe8-8837-4b640224f06d",
   "metadata": {},
   "source": [
    "- EDA(탐색적 데이터 분석)와 상관분석"
   ]
  }
 ],
 "metadata": {
  "kernelspec": {
   "display_name": "Python [conda env:base] *",
   "language": "python",
   "name": "conda-base-py"
  },
  "language_info": {
   "codemirror_mode": {
    "name": "ipython",
    "version": 3
   },
   "file_extension": ".py",
   "mimetype": "text/x-python",
   "name": "python",
   "nbconvert_exporter": "python",
   "pygments_lexer": "ipython3",
   "version": "3.12.7"
  }
 },
 "nbformat": 4,
 "nbformat_minor": 5
}
