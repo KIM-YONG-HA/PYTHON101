{
 "cells": [
  {
   "cell_type": "markdown",
   "id": "fc6ca89f-3711-42b2-9c3d-a437e21e40e5",
   "metadata": {},
   "source": [
    "# Artificial Intelligence, AI\n",
    "\n",
    "사람의 지능을 모티브로 한 기술, 4차 산업형멱의 핵심기술\n",
    "사람처럼 인식, 결심, 행동하는 기술을 구현하는 목적"
   ]
  },
  {
   "cell_type": "markdown",
   "id": "e3c2093e-6088-4133-99c3-bc96e93345f2",
   "metadata": {},
   "source": [
    "## 인공지능의 분류\n",
    "\n",
    "약인공지능 : 특정 분야에 \n",
    "강인공지능 :\n"
   ]
  },
  {
   "cell_type": "code",
   "execution_count": null,
   "id": "0968068b-f7e0-4e6c-94b9-484a49bbbd1b",
   "metadata": {},
   "outputs": [],
   "source": [
    "### 인공지능 \n",
    "프로그래밍을 구축하거나 인간을 모방하여 장의적으로 문제를 해결할 수 있는 기술을 의미."
   ]
  },
  {
   "cell_type": "code",
   "execution_count": null,
   "id": "e3015e83-b2e6-45eb-a67f-2a6f33888108",
   "metadata": {},
   "outputs": [],
   "source": [
    "### 머신러닝\n",
    "명시적 프로그래밍이아닌 데이터를 이용하여 스스로 학습하는 시스템 모델 \n",
    "회귀, 분류, 군집화 등이 있고 지도, 비지도, 강화학습으로 구분\n",
    "\n",
    "강화학습 - 게임에서 주로 사용 "
   ]
  },
  {
   "cell_type": "code",
   "execution_count": null,
   "id": "fcf60198-26ce-431a-a3e3-aac358245c83",
   "metadata": {},
   "outputs": [],
   "source": [
    "### 딥러닝\n",
    "머신러닝의 한 종류로서 사람의 뇌 신경망을 모방한 뉴럴 네트워크를 이용하는 모델 "
   ]
  },
  {
   "cell_type": "code",
   "execution_count": null,
   "id": "6b94d0db-f3a9-43db-9930-5f7df423657b",
   "metadata": {},
   "outputs": [],
   "source": [
    "## 데이터\n",
    "\n",
    "### 정형데이터\n",
    "\n",
    "### 비정형 데이터\n",
    "\n",
    "### 반정형 데이터"
   ]
  },
  {
   "cell_type": "code",
   "execution_count": null,
   "id": "3dd6e140-6a6f-4ef2-9481-72f77b67e451",
   "metadata": {},
   "outputs": [],
   "source": [
    "## 알고리즘 \n",
    "\n",
    "## 계산\n",
    "\n",
    "### GPU 병렬 처리 능력\n",
    "### 성능 향상\n",
    "### AI 전용 처리 장치 개발 "
   ]
  },
  {
   "cell_type": "code",
   "execution_count": null,
   "id": "8dbe4c56-27d2-4c3d-ac1c-c2413fb6341f",
   "metadata": {},
   "outputs": [],
   "source": [
    "지도학습\n",
    "학습단계 : 관찰된 데이터를 통해 최적의 함수를 생성\n",
    "테스트 단계 : 찾은 함수를 이용하여 결과값을 예측 \n",
    "\n",
    "\n",
    "\n",
    "\n",
    "\n",
    "비지도학습\n",
    "\n",
    "강화학습\n",
    "\n"
   ]
  }
 ],
 "metadata": {
  "kernelspec": {
   "display_name": "Python [conda env:base] *",
   "language": "python",
   "name": "conda-base-py"
  },
  "language_info": {
   "codemirror_mode": {
    "name": "ipython",
    "version": 3
   },
   "file_extension": ".py",
   "mimetype": "text/x-python",
   "name": "python",
   "nbconvert_exporter": "python",
   "pygments_lexer": "ipython3",
   "version": "3.12.7"
  }
 },
 "nbformat": 4,
 "nbformat_minor": 5
}
