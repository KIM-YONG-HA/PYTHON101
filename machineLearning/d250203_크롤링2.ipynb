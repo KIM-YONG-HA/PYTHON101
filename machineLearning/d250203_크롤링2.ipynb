{
 "cells": [
  {
   "cell_type": "markdown",
   "id": "afb3803c-4996-47b1-8537-927ad5e54275",
   "metadata": {},
   "source": [
    "2020 ~ 2024\n",
    "중국 국적의 입국자 "
   ]
  },
  {
   "cell_type": "code",
   "execution_count": 286,
   "id": "7af9ff6f-6c31-42b9-a267-5ace22fed8f9",
   "metadata": {},
   "outputs": [
    {
     "name": "stdout",
     "output_type": "stream",
     "text": [
      "['http://openapi.tour.go.kr/openapi/service/EdrcntTourismStatsService/getEdrcntTourismStatsList?YM=202001&NAT_CD=112&ED_CD=E&serviceKey=FI33RYHRp%2BoBJ4cx%2BtCiGPg4SFIqKJkF%2FBulCBOSJxckXJbbt6UkhYZ5Eyi4zuCLD4ENNnaCh2ym8I6PaHlMgQ%3D%3D', 'http://openapi.tour.go.kr/openapi/service/EdrcntTourismStatsService/getEdrcntTourismStatsList?YM=202002&NAT_CD=112&ED_CD=E&serviceKey=FI33RYHRp%2BoBJ4cx%2BtCiGPg4SFIqKJkF%2FBulCBOSJxckXJbbt6UkhYZ5Eyi4zuCLD4ENNnaCh2ym8I6PaHlMgQ%3D%3D', 'http://openapi.tour.go.kr/openapi/service/EdrcntTourismStatsService/getEdrcntTourismStatsList?YM=202003&NAT_CD=112&ED_CD=E&serviceKey=FI33RYHRp%2BoBJ4cx%2BtCiGPg4SFIqKJkF%2FBulCBOSJxckXJbbt6UkhYZ5Eyi4zuCLD4ENNnaCh2ym8I6PaHlMgQ%3D%3D', 'http://openapi.tour.go.kr/openapi/service/EdrcntTourismStatsService/getEdrcntTourismStatsList?YM=202004&NAT_CD=112&ED_CD=E&serviceKey=FI33RYHRp%2BoBJ4cx%2BtCiGPg4SFIqKJkF%2FBulCBOSJxckXJbbt6UkhYZ5Eyi4zuCLD4ENNnaCh2ym8I6PaHlMgQ%3D%3D', 'http://openapi.tour.go.kr/openapi/service/EdrcntTourismStatsService/getEdrcntTourismStatsList?YM=202005&NAT_CD=112&ED_CD=E&serviceKey=FI33RYHRp%2BoBJ4cx%2BtCiGPg4SFIqKJkF%2FBulCBOSJxckXJbbt6UkhYZ5Eyi4zuCLD4ENNnaCh2ym8I6PaHlMgQ%3D%3D', 'http://openapi.tour.go.kr/openapi/service/EdrcntTourismStatsService/getEdrcntTourismStatsList?YM=202006&NAT_CD=112&ED_CD=E&serviceKey=FI33RYHRp%2BoBJ4cx%2BtCiGPg4SFIqKJkF%2FBulCBOSJxckXJbbt6UkhYZ5Eyi4zuCLD4ENNnaCh2ym8I6PaHlMgQ%3D%3D', 'http://openapi.tour.go.kr/openapi/service/EdrcntTourismStatsService/getEdrcntTourismStatsList?YM=202007&NAT_CD=112&ED_CD=E&serviceKey=FI33RYHRp%2BoBJ4cx%2BtCiGPg4SFIqKJkF%2FBulCBOSJxckXJbbt6UkhYZ5Eyi4zuCLD4ENNnaCh2ym8I6PaHlMgQ%3D%3D', 'http://openapi.tour.go.kr/openapi/service/EdrcntTourismStatsService/getEdrcntTourismStatsList?YM=202008&NAT_CD=112&ED_CD=E&serviceKey=FI33RYHRp%2BoBJ4cx%2BtCiGPg4SFIqKJkF%2FBulCBOSJxckXJbbt6UkhYZ5Eyi4zuCLD4ENNnaCh2ym8I6PaHlMgQ%3D%3D', 'http://openapi.tour.go.kr/openapi/service/EdrcntTourismStatsService/getEdrcntTourismStatsList?YM=202009&NAT_CD=112&ED_CD=E&serviceKey=FI33RYHRp%2BoBJ4cx%2BtCiGPg4SFIqKJkF%2FBulCBOSJxckXJbbt6UkhYZ5Eyi4zuCLD4ENNnaCh2ym8I6PaHlMgQ%3D%3D', 'http://openapi.tour.go.kr/openapi/service/EdrcntTourismStatsService/getEdrcntTourismStatsList?YM=202010&NAT_CD=112&ED_CD=E&serviceKey=FI33RYHRp%2BoBJ4cx%2BtCiGPg4SFIqKJkF%2FBulCBOSJxckXJbbt6UkhYZ5Eyi4zuCLD4ENNnaCh2ym8I6PaHlMgQ%3D%3D', 'http://openapi.tour.go.kr/openapi/service/EdrcntTourismStatsService/getEdrcntTourismStatsList?YM=202011&NAT_CD=112&ED_CD=E&serviceKey=FI33RYHRp%2BoBJ4cx%2BtCiGPg4SFIqKJkF%2FBulCBOSJxckXJbbt6UkhYZ5Eyi4zuCLD4ENNnaCh2ym8I6PaHlMgQ%3D%3D', 'http://openapi.tour.go.kr/openapi/service/EdrcntTourismStatsService/getEdrcntTourismStatsList?YM=202012&NAT_CD=112&ED_CD=E&serviceKey=FI33RYHRp%2BoBJ4cx%2BtCiGPg4SFIqKJkF%2FBulCBOSJxckXJbbt6UkhYZ5Eyi4zuCLD4ENNnaCh2ym8I6PaHlMgQ%3D%3D', 'http://openapi.tour.go.kr/openapi/service/EdrcntTourismStatsService/getEdrcntTourismStatsList?YM=202101&NAT_CD=112&ED_CD=E&serviceKey=FI33RYHRp%2BoBJ4cx%2BtCiGPg4SFIqKJkF%2FBulCBOSJxckXJbbt6UkhYZ5Eyi4zuCLD4ENNnaCh2ym8I6PaHlMgQ%3D%3D', 'http://openapi.tour.go.kr/openapi/service/EdrcntTourismStatsService/getEdrcntTourismStatsList?YM=202102&NAT_CD=112&ED_CD=E&serviceKey=FI33RYHRp%2BoBJ4cx%2BtCiGPg4SFIqKJkF%2FBulCBOSJxckXJbbt6UkhYZ5Eyi4zuCLD4ENNnaCh2ym8I6PaHlMgQ%3D%3D', 'http://openapi.tour.go.kr/openapi/service/EdrcntTourismStatsService/getEdrcntTourismStatsList?YM=202103&NAT_CD=112&ED_CD=E&serviceKey=FI33RYHRp%2BoBJ4cx%2BtCiGPg4SFIqKJkF%2FBulCBOSJxckXJbbt6UkhYZ5Eyi4zuCLD4ENNnaCh2ym8I6PaHlMgQ%3D%3D', 'http://openapi.tour.go.kr/openapi/service/EdrcntTourismStatsService/getEdrcntTourismStatsList?YM=202104&NAT_CD=112&ED_CD=E&serviceKey=FI33RYHRp%2BoBJ4cx%2BtCiGPg4SFIqKJkF%2FBulCBOSJxckXJbbt6UkhYZ5Eyi4zuCLD4ENNnaCh2ym8I6PaHlMgQ%3D%3D', 'http://openapi.tour.go.kr/openapi/service/EdrcntTourismStatsService/getEdrcntTourismStatsList?YM=202105&NAT_CD=112&ED_CD=E&serviceKey=FI33RYHRp%2BoBJ4cx%2BtCiGPg4SFIqKJkF%2FBulCBOSJxckXJbbt6UkhYZ5Eyi4zuCLD4ENNnaCh2ym8I6PaHlMgQ%3D%3D', 'http://openapi.tour.go.kr/openapi/service/EdrcntTourismStatsService/getEdrcntTourismStatsList?YM=202106&NAT_CD=112&ED_CD=E&serviceKey=FI33RYHRp%2BoBJ4cx%2BtCiGPg4SFIqKJkF%2FBulCBOSJxckXJbbt6UkhYZ5Eyi4zuCLD4ENNnaCh2ym8I6PaHlMgQ%3D%3D', 'http://openapi.tour.go.kr/openapi/service/EdrcntTourismStatsService/getEdrcntTourismStatsList?YM=202107&NAT_CD=112&ED_CD=E&serviceKey=FI33RYHRp%2BoBJ4cx%2BtCiGPg4SFIqKJkF%2FBulCBOSJxckXJbbt6UkhYZ5Eyi4zuCLD4ENNnaCh2ym8I6PaHlMgQ%3D%3D', 'http://openapi.tour.go.kr/openapi/service/EdrcntTourismStatsService/getEdrcntTourismStatsList?YM=202108&NAT_CD=112&ED_CD=E&serviceKey=FI33RYHRp%2BoBJ4cx%2BtCiGPg4SFIqKJkF%2FBulCBOSJxckXJbbt6UkhYZ5Eyi4zuCLD4ENNnaCh2ym8I6PaHlMgQ%3D%3D', 'http://openapi.tour.go.kr/openapi/service/EdrcntTourismStatsService/getEdrcntTourismStatsList?YM=202109&NAT_CD=112&ED_CD=E&serviceKey=FI33RYHRp%2BoBJ4cx%2BtCiGPg4SFIqKJkF%2FBulCBOSJxckXJbbt6UkhYZ5Eyi4zuCLD4ENNnaCh2ym8I6PaHlMgQ%3D%3D', 'http://openapi.tour.go.kr/openapi/service/EdrcntTourismStatsService/getEdrcntTourismStatsList?YM=202110&NAT_CD=112&ED_CD=E&serviceKey=FI33RYHRp%2BoBJ4cx%2BtCiGPg4SFIqKJkF%2FBulCBOSJxckXJbbt6UkhYZ5Eyi4zuCLD4ENNnaCh2ym8I6PaHlMgQ%3D%3D', 'http://openapi.tour.go.kr/openapi/service/EdrcntTourismStatsService/getEdrcntTourismStatsList?YM=202111&NAT_CD=112&ED_CD=E&serviceKey=FI33RYHRp%2BoBJ4cx%2BtCiGPg4SFIqKJkF%2FBulCBOSJxckXJbbt6UkhYZ5Eyi4zuCLD4ENNnaCh2ym8I6PaHlMgQ%3D%3D', 'http://openapi.tour.go.kr/openapi/service/EdrcntTourismStatsService/getEdrcntTourismStatsList?YM=202112&NAT_CD=112&ED_CD=E&serviceKey=FI33RYHRp%2BoBJ4cx%2BtCiGPg4SFIqKJkF%2FBulCBOSJxckXJbbt6UkhYZ5Eyi4zuCLD4ENNnaCh2ym8I6PaHlMgQ%3D%3D', 'http://openapi.tour.go.kr/openapi/service/EdrcntTourismStatsService/getEdrcntTourismStatsList?YM=202201&NAT_CD=112&ED_CD=E&serviceKey=FI33RYHRp%2BoBJ4cx%2BtCiGPg4SFIqKJkF%2FBulCBOSJxckXJbbt6UkhYZ5Eyi4zuCLD4ENNnaCh2ym8I6PaHlMgQ%3D%3D', 'http://openapi.tour.go.kr/openapi/service/EdrcntTourismStatsService/getEdrcntTourismStatsList?YM=202202&NAT_CD=112&ED_CD=E&serviceKey=FI33RYHRp%2BoBJ4cx%2BtCiGPg4SFIqKJkF%2FBulCBOSJxckXJbbt6UkhYZ5Eyi4zuCLD4ENNnaCh2ym8I6PaHlMgQ%3D%3D', 'http://openapi.tour.go.kr/openapi/service/EdrcntTourismStatsService/getEdrcntTourismStatsList?YM=202203&NAT_CD=112&ED_CD=E&serviceKey=FI33RYHRp%2BoBJ4cx%2BtCiGPg4SFIqKJkF%2FBulCBOSJxckXJbbt6UkhYZ5Eyi4zuCLD4ENNnaCh2ym8I6PaHlMgQ%3D%3D', 'http://openapi.tour.go.kr/openapi/service/EdrcntTourismStatsService/getEdrcntTourismStatsList?YM=202204&NAT_CD=112&ED_CD=E&serviceKey=FI33RYHRp%2BoBJ4cx%2BtCiGPg4SFIqKJkF%2FBulCBOSJxckXJbbt6UkhYZ5Eyi4zuCLD4ENNnaCh2ym8I6PaHlMgQ%3D%3D', 'http://openapi.tour.go.kr/openapi/service/EdrcntTourismStatsService/getEdrcntTourismStatsList?YM=202205&NAT_CD=112&ED_CD=E&serviceKey=FI33RYHRp%2BoBJ4cx%2BtCiGPg4SFIqKJkF%2FBulCBOSJxckXJbbt6UkhYZ5Eyi4zuCLD4ENNnaCh2ym8I6PaHlMgQ%3D%3D', 'http://openapi.tour.go.kr/openapi/service/EdrcntTourismStatsService/getEdrcntTourismStatsList?YM=202206&NAT_CD=112&ED_CD=E&serviceKey=FI33RYHRp%2BoBJ4cx%2BtCiGPg4SFIqKJkF%2FBulCBOSJxckXJbbt6UkhYZ5Eyi4zuCLD4ENNnaCh2ym8I6PaHlMgQ%3D%3D', 'http://openapi.tour.go.kr/openapi/service/EdrcntTourismStatsService/getEdrcntTourismStatsList?YM=202207&NAT_CD=112&ED_CD=E&serviceKey=FI33RYHRp%2BoBJ4cx%2BtCiGPg4SFIqKJkF%2FBulCBOSJxckXJbbt6UkhYZ5Eyi4zuCLD4ENNnaCh2ym8I6PaHlMgQ%3D%3D', 'http://openapi.tour.go.kr/openapi/service/EdrcntTourismStatsService/getEdrcntTourismStatsList?YM=202208&NAT_CD=112&ED_CD=E&serviceKey=FI33RYHRp%2BoBJ4cx%2BtCiGPg4SFIqKJkF%2FBulCBOSJxckXJbbt6UkhYZ5Eyi4zuCLD4ENNnaCh2ym8I6PaHlMgQ%3D%3D', 'http://openapi.tour.go.kr/openapi/service/EdrcntTourismStatsService/getEdrcntTourismStatsList?YM=202209&NAT_CD=112&ED_CD=E&serviceKey=FI33RYHRp%2BoBJ4cx%2BtCiGPg4SFIqKJkF%2FBulCBOSJxckXJbbt6UkhYZ5Eyi4zuCLD4ENNnaCh2ym8I6PaHlMgQ%3D%3D', 'http://openapi.tour.go.kr/openapi/service/EdrcntTourismStatsService/getEdrcntTourismStatsList?YM=202210&NAT_CD=112&ED_CD=E&serviceKey=FI33RYHRp%2BoBJ4cx%2BtCiGPg4SFIqKJkF%2FBulCBOSJxckXJbbt6UkhYZ5Eyi4zuCLD4ENNnaCh2ym8I6PaHlMgQ%3D%3D', 'http://openapi.tour.go.kr/openapi/service/EdrcntTourismStatsService/getEdrcntTourismStatsList?YM=202211&NAT_CD=112&ED_CD=E&serviceKey=FI33RYHRp%2BoBJ4cx%2BtCiGPg4SFIqKJkF%2FBulCBOSJxckXJbbt6UkhYZ5Eyi4zuCLD4ENNnaCh2ym8I6PaHlMgQ%3D%3D', 'http://openapi.tour.go.kr/openapi/service/EdrcntTourismStatsService/getEdrcntTourismStatsList?YM=202212&NAT_CD=112&ED_CD=E&serviceKey=FI33RYHRp%2BoBJ4cx%2BtCiGPg4SFIqKJkF%2FBulCBOSJxckXJbbt6UkhYZ5Eyi4zuCLD4ENNnaCh2ym8I6PaHlMgQ%3D%3D', 'http://openapi.tour.go.kr/openapi/service/EdrcntTourismStatsService/getEdrcntTourismStatsList?YM=202301&NAT_CD=112&ED_CD=E&serviceKey=FI33RYHRp%2BoBJ4cx%2BtCiGPg4SFIqKJkF%2FBulCBOSJxckXJbbt6UkhYZ5Eyi4zuCLD4ENNnaCh2ym8I6PaHlMgQ%3D%3D', 'http://openapi.tour.go.kr/openapi/service/EdrcntTourismStatsService/getEdrcntTourismStatsList?YM=202302&NAT_CD=112&ED_CD=E&serviceKey=FI33RYHRp%2BoBJ4cx%2BtCiGPg4SFIqKJkF%2FBulCBOSJxckXJbbt6UkhYZ5Eyi4zuCLD4ENNnaCh2ym8I6PaHlMgQ%3D%3D', 'http://openapi.tour.go.kr/openapi/service/EdrcntTourismStatsService/getEdrcntTourismStatsList?YM=202303&NAT_CD=112&ED_CD=E&serviceKey=FI33RYHRp%2BoBJ4cx%2BtCiGPg4SFIqKJkF%2FBulCBOSJxckXJbbt6UkhYZ5Eyi4zuCLD4ENNnaCh2ym8I6PaHlMgQ%3D%3D', 'http://openapi.tour.go.kr/openapi/service/EdrcntTourismStatsService/getEdrcntTourismStatsList?YM=202304&NAT_CD=112&ED_CD=E&serviceKey=FI33RYHRp%2BoBJ4cx%2BtCiGPg4SFIqKJkF%2FBulCBOSJxckXJbbt6UkhYZ5Eyi4zuCLD4ENNnaCh2ym8I6PaHlMgQ%3D%3D', 'http://openapi.tour.go.kr/openapi/service/EdrcntTourismStatsService/getEdrcntTourismStatsList?YM=202305&NAT_CD=112&ED_CD=E&serviceKey=FI33RYHRp%2BoBJ4cx%2BtCiGPg4SFIqKJkF%2FBulCBOSJxckXJbbt6UkhYZ5Eyi4zuCLD4ENNnaCh2ym8I6PaHlMgQ%3D%3D', 'http://openapi.tour.go.kr/openapi/service/EdrcntTourismStatsService/getEdrcntTourismStatsList?YM=202306&NAT_CD=112&ED_CD=E&serviceKey=FI33RYHRp%2BoBJ4cx%2BtCiGPg4SFIqKJkF%2FBulCBOSJxckXJbbt6UkhYZ5Eyi4zuCLD4ENNnaCh2ym8I6PaHlMgQ%3D%3D', 'http://openapi.tour.go.kr/openapi/service/EdrcntTourismStatsService/getEdrcntTourismStatsList?YM=202307&NAT_CD=112&ED_CD=E&serviceKey=FI33RYHRp%2BoBJ4cx%2BtCiGPg4SFIqKJkF%2FBulCBOSJxckXJbbt6UkhYZ5Eyi4zuCLD4ENNnaCh2ym8I6PaHlMgQ%3D%3D', 'http://openapi.tour.go.kr/openapi/service/EdrcntTourismStatsService/getEdrcntTourismStatsList?YM=202308&NAT_CD=112&ED_CD=E&serviceKey=FI33RYHRp%2BoBJ4cx%2BtCiGPg4SFIqKJkF%2FBulCBOSJxckXJbbt6UkhYZ5Eyi4zuCLD4ENNnaCh2ym8I6PaHlMgQ%3D%3D', 'http://openapi.tour.go.kr/openapi/service/EdrcntTourismStatsService/getEdrcntTourismStatsList?YM=202309&NAT_CD=112&ED_CD=E&serviceKey=FI33RYHRp%2BoBJ4cx%2BtCiGPg4SFIqKJkF%2FBulCBOSJxckXJbbt6UkhYZ5Eyi4zuCLD4ENNnaCh2ym8I6PaHlMgQ%3D%3D', 'http://openapi.tour.go.kr/openapi/service/EdrcntTourismStatsService/getEdrcntTourismStatsList?YM=202310&NAT_CD=112&ED_CD=E&serviceKey=FI33RYHRp%2BoBJ4cx%2BtCiGPg4SFIqKJkF%2FBulCBOSJxckXJbbt6UkhYZ5Eyi4zuCLD4ENNnaCh2ym8I6PaHlMgQ%3D%3D', 'http://openapi.tour.go.kr/openapi/service/EdrcntTourismStatsService/getEdrcntTourismStatsList?YM=202311&NAT_CD=112&ED_CD=E&serviceKey=FI33RYHRp%2BoBJ4cx%2BtCiGPg4SFIqKJkF%2FBulCBOSJxckXJbbt6UkhYZ5Eyi4zuCLD4ENNnaCh2ym8I6PaHlMgQ%3D%3D', 'http://openapi.tour.go.kr/openapi/service/EdrcntTourismStatsService/getEdrcntTourismStatsList?YM=202312&NAT_CD=112&ED_CD=E&serviceKey=FI33RYHRp%2BoBJ4cx%2BtCiGPg4SFIqKJkF%2FBulCBOSJxckXJbbt6UkhYZ5Eyi4zuCLD4ENNnaCh2ym8I6PaHlMgQ%3D%3D', 'http://openapi.tour.go.kr/openapi/service/EdrcntTourismStatsService/getEdrcntTourismStatsList?YM=202401&NAT_CD=112&ED_CD=E&serviceKey=FI33RYHRp%2BoBJ4cx%2BtCiGPg4SFIqKJkF%2FBulCBOSJxckXJbbt6UkhYZ5Eyi4zuCLD4ENNnaCh2ym8I6PaHlMgQ%3D%3D', 'http://openapi.tour.go.kr/openapi/service/EdrcntTourismStatsService/getEdrcntTourismStatsList?YM=202402&NAT_CD=112&ED_CD=E&serviceKey=FI33RYHRp%2BoBJ4cx%2BtCiGPg4SFIqKJkF%2FBulCBOSJxckXJbbt6UkhYZ5Eyi4zuCLD4ENNnaCh2ym8I6PaHlMgQ%3D%3D', 'http://openapi.tour.go.kr/openapi/service/EdrcntTourismStatsService/getEdrcntTourismStatsList?YM=202403&NAT_CD=112&ED_CD=E&serviceKey=FI33RYHRp%2BoBJ4cx%2BtCiGPg4SFIqKJkF%2FBulCBOSJxckXJbbt6UkhYZ5Eyi4zuCLD4ENNnaCh2ym8I6PaHlMgQ%3D%3D', 'http://openapi.tour.go.kr/openapi/service/EdrcntTourismStatsService/getEdrcntTourismStatsList?YM=202404&NAT_CD=112&ED_CD=E&serviceKey=FI33RYHRp%2BoBJ4cx%2BtCiGPg4SFIqKJkF%2FBulCBOSJxckXJbbt6UkhYZ5Eyi4zuCLD4ENNnaCh2ym8I6PaHlMgQ%3D%3D', 'http://openapi.tour.go.kr/openapi/service/EdrcntTourismStatsService/getEdrcntTourismStatsList?YM=202405&NAT_CD=112&ED_CD=E&serviceKey=FI33RYHRp%2BoBJ4cx%2BtCiGPg4SFIqKJkF%2FBulCBOSJxckXJbbt6UkhYZ5Eyi4zuCLD4ENNnaCh2ym8I6PaHlMgQ%3D%3D', 'http://openapi.tour.go.kr/openapi/service/EdrcntTourismStatsService/getEdrcntTourismStatsList?YM=202406&NAT_CD=112&ED_CD=E&serviceKey=FI33RYHRp%2BoBJ4cx%2BtCiGPg4SFIqKJkF%2FBulCBOSJxckXJbbt6UkhYZ5Eyi4zuCLD4ENNnaCh2ym8I6PaHlMgQ%3D%3D', 'http://openapi.tour.go.kr/openapi/service/EdrcntTourismStatsService/getEdrcntTourismStatsList?YM=202407&NAT_CD=112&ED_CD=E&serviceKey=FI33RYHRp%2BoBJ4cx%2BtCiGPg4SFIqKJkF%2FBulCBOSJxckXJbbt6UkhYZ5Eyi4zuCLD4ENNnaCh2ym8I6PaHlMgQ%3D%3D', 'http://openapi.tour.go.kr/openapi/service/EdrcntTourismStatsService/getEdrcntTourismStatsList?YM=202408&NAT_CD=112&ED_CD=E&serviceKey=FI33RYHRp%2BoBJ4cx%2BtCiGPg4SFIqKJkF%2FBulCBOSJxckXJbbt6UkhYZ5Eyi4zuCLD4ENNnaCh2ym8I6PaHlMgQ%3D%3D', 'http://openapi.tour.go.kr/openapi/service/EdrcntTourismStatsService/getEdrcntTourismStatsList?YM=202409&NAT_CD=112&ED_CD=E&serviceKey=FI33RYHRp%2BoBJ4cx%2BtCiGPg4SFIqKJkF%2FBulCBOSJxckXJbbt6UkhYZ5Eyi4zuCLD4ENNnaCh2ym8I6PaHlMgQ%3D%3D', 'http://openapi.tour.go.kr/openapi/service/EdrcntTourismStatsService/getEdrcntTourismStatsList?YM=202410&NAT_CD=112&ED_CD=E&serviceKey=FI33RYHRp%2BoBJ4cx%2BtCiGPg4SFIqKJkF%2FBulCBOSJxckXJbbt6UkhYZ5Eyi4zuCLD4ENNnaCh2ym8I6PaHlMgQ%3D%3D', 'http://openapi.tour.go.kr/openapi/service/EdrcntTourismStatsService/getEdrcntTourismStatsList?YM=202411&NAT_CD=112&ED_CD=E&serviceKey=FI33RYHRp%2BoBJ4cx%2BtCiGPg4SFIqKJkF%2FBulCBOSJxckXJbbt6UkhYZ5Eyi4zuCLD4ENNnaCh2ym8I6PaHlMgQ%3D%3D', 'http://openapi.tour.go.kr/openapi/service/EdrcntTourismStatsService/getEdrcntTourismStatsList?YM=202412&NAT_CD=112&ED_CD=E&serviceKey=FI33RYHRp%2BoBJ4cx%2BtCiGPg4SFIqKJkF%2FBulCBOSJxckXJbbt6UkhYZ5Eyi4zuCLD4ENNnaCh2ym8I6PaHlMgQ%3D%3D']\n"
     ]
    }
   ],
   "source": [
    "import requests\n",
    "import pandas as pd\n",
    "\n",
    "url = \"http://openapi.tour.go.kr/openapi/service/EdrcntTourismStatsService/getEdrcntTourismStatsList\"\n",
    "service_key = \"FI33RYHRp%2BoBJ4cx%2BtCiGPg4SFIqKJkF%2FBulCBOSJxckXJbbt6UkhYZ5Eyi4zuCLD4ENNnaCh2ym8I6PaHlMgQ%3D%3D\"\n",
    "urls = []\n",
    "\n",
    "#  url 생성\n",
    "#  params\n",
    "#  start : 시작연도\n",
    "#  end : 종료연도\n",
    "#  nat_cd : 국가 코드\n",
    "#  ed_cd : 출입국구분코드\n",
    "#  return : void, urls 변수에 append \n",
    "def generate_url(start, end, nat_cd, ed_cd):\n",
    "    for i in range(start, end+1):\n",
    "        for j in range(1, 13):\n",
    "            YM = str(i)+f\"%02d\" % j\n",
    "            urls.append(f\"{url}?YM={YM}&NAT_CD={nat_cd}&ED_CD={ed_cd}&serviceKey={service_key}\")\n",
    "\n",
    "generate_url(2020, 2024, 112, 'E')\n",
    "print(urls)\n",
    "\n",
    "#  xml 데이터를 크롤링\n",
    "def get_xml():\n",
    "    pass    \n",
    "\n",
    "\n",
    "#  데이터프레임 생성 \n",
    "def create_dataframe():\n",
    "    pass\n",
    "\n",
    "\n",
    "\n",
    "\n",
    "\n"
   ]
  },
  {
   "cell_type": "code",
   "execution_count": null,
   "id": "bbaf93e7-cc0b-4809-b9b9-201957558932",
   "metadata": {},
   "outputs": [],
   "source": []
  },
  {
   "cell_type": "code",
   "execution_count": null,
   "id": "24b8900b-9644-4c3c-bb8d-fa4c8006b323",
   "metadata": {},
   "outputs": [],
   "source": []
  },
  {
   "cell_type": "code",
   "execution_count": null,
   "id": "ec997e7b-31d0-4dfe-a1ae-8c59125ffdbd",
   "metadata": {},
   "outputs": [],
   "source": []
  },
  {
   "cell_type": "code",
   "execution_count": null,
   "id": "9d1d24b2-1fab-4244-a058-7da288abeb4d",
   "metadata": {},
   "outputs": [],
   "source": []
  },
  {
   "cell_type": "code",
   "execution_count": 106,
   "id": "bfa6ade6-2502-4c1e-b816-09e6fb3ace9f",
   "metadata": {},
   "outputs": [
    {
     "data": {
      "text/html": [
       "<div>\n",
       "<style scoped>\n",
       "    .dataframe tbody tr th:only-of-type {\n",
       "        vertical-align: middle;\n",
       "    }\n",
       "\n",
       "    .dataframe tbody tr th {\n",
       "        vertical-align: top;\n",
       "    }\n",
       "\n",
       "    .dataframe thead th {\n",
       "        text-align: right;\n",
       "    }\n",
       "</style>\n",
       "<table border=\"1\" class=\"dataframe\">\n",
       "  <thead>\n",
       "    <tr style=\"text-align: right;\">\n",
       "      <th></th>\n",
       "      <th>입국일</th>\n",
       "      <th>방문자</th>\n",
       "    </tr>\n",
       "  </thead>\n",
       "  <tbody>\n",
       "    <tr>\n",
       "      <th>0</th>\n",
       "      <td>202001</td>\n",
       "      <td>0</td>\n",
       "    </tr>\n",
       "    <tr>\n",
       "      <th>1</th>\n",
       "      <td>202002</td>\n",
       "      <td>0</td>\n",
       "    </tr>\n",
       "    <tr>\n",
       "      <th>2</th>\n",
       "      <td>202003</td>\n",
       "      <td>0</td>\n",
       "    </tr>\n",
       "    <tr>\n",
       "      <th>3</th>\n",
       "      <td>202004</td>\n",
       "      <td>0</td>\n",
       "    </tr>\n",
       "    <tr>\n",
       "      <th>4</th>\n",
       "      <td>202005</td>\n",
       "      <td>0</td>\n",
       "    </tr>\n",
       "  </tbody>\n",
       "</table>\n",
       "</div>"
      ],
      "text/plain": [
       "      입국일  방문자\n",
       "0  202001    0\n",
       "1  202002    0\n",
       "2  202003    0\n",
       "3  202004    0\n",
       "4  202005    0"
      ]
     },
     "execution_count": 106,
     "metadata": {},
     "output_type": "execute_result"
    }
   ],
   "source": [
    "df = pd.DataFrame(list_data)\n",
    "df.columns = ['입국일', '방문자']\n",
    "df.head()"
   ]
  }
 ],
 "metadata": {
  "kernelspec": {
   "display_name": "Python [conda env:base] *",
   "language": "python",
   "name": "conda-base-py"
  },
  "language_info": {
   "codemirror_mode": {
    "name": "ipython",
    "version": 3
   },
   "file_extension": ".py",
   "mimetype": "text/x-python",
   "name": "python",
   "nbconvert_exporter": "python",
   "pygments_lexer": "ipython3",
   "version": "3.12.7"
  }
 },
 "nbformat": 4,
 "nbformat_minor": 5
}
