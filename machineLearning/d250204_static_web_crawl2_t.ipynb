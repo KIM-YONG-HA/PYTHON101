{
 "cells": [
  {
   "cell_type": "code",
   "execution_count": 6,
   "id": "01f16782-e221-43dd-a276-f19165cf9a63",
   "metadata": {},
   "outputs": [],
   "source": [
    "html = '''<h1 id=\"title\">광주국제직업전문학교</h1><div class=\"top\"><ul class=\"menu\"><li><a href=\"http://www.kjca.co.kr/menber/login.html\" class=\"login\">\n",
    "로그인</a></li></ul><ul class=\"brand\"><li><a href=\"http://www.kjca.co.kr/media/\">광주국제</a></li><li><a href=\"http://www.kjca.co.kr/academy/\">\n",
    "광주국제아카데미</a></li></ul></div>'''"
   ]
  },
  {
   "cell_type": "code",
   "execution_count": 8,
   "id": "79b682d3-881c-47d1-a51f-c9c274aaa7ba",
   "metadata": {},
   "outputs": [],
   "source": [
    "# BeautifulSoup 라이브러리 임포트\n",
    "from bs4 import BeautifulSoup"
   ]
  },
  {
   "cell_type": "code",
   "execution_count": 10,
   "id": "209e79b3-00f5-496d-a749-b6f1293ea52c",
   "metadata": {},
   "outputs": [
    {
     "data": {
      "text/plain": [
       "<h1 id=\"title\">광주국제직업전문학교</h1><div class=\"top\"><ul class=\"menu\"><li><a class=\"login\" href=\"http://www.kjca.co.kr/menber/login.html\">\n",
       "로그인</a></li></ul><ul class=\"brand\"><li><a href=\"http://www.kjca.co.kr/media/\">광주국제</a></li><li><a href=\"http://www.kjca.co.kr/academy/\">\n",
       "광주국제아카데미</a></li></ul></div>"
      ]
     },
     "execution_count": 10,
     "metadata": {},
     "output_type": "execute_result"
    }
   ],
   "source": [
    "# BeautifulSoup 객체 생성, html 문자열을 html.parser이용\n",
    "soup = BeautifulSoup(html, 'html.parser')\n",
    "soup"
   ]
  },
  {
   "cell_type": "code",
   "execution_count": 12,
   "id": "14b5613d-0607-457d-807f-02805a401675",
   "metadata": {},
   "outputs": [
    {
     "name": "stdout",
     "output_type": "stream",
     "text": [
      "<h1 id=\"title\">\n",
      " 광주국제직업전문학교\n",
      "</h1>\n",
      "<div class=\"top\">\n",
      " <ul class=\"menu\">\n",
      "  <li>\n",
      "   <a class=\"login\" href=\"http://www.kjca.co.kr/menber/login.html\">\n",
      "    로그인\n",
      "   </a>\n",
      "  </li>\n",
      " </ul>\n",
      " <ul class=\"brand\">\n",
      "  <li>\n",
      "   <a href=\"http://www.kjca.co.kr/media/\">\n",
      "    광주국제\n",
      "   </a>\n",
      "  </li>\n",
      "  <li>\n",
      "   <a href=\"http://www.kjca.co.kr/academy/\">\n",
      "    광주국제아카데미\n",
      "   </a>\n",
      "  </li>\n",
      " </ul>\n",
      "</div>\n",
      "\n"
     ]
    }
   ],
   "source": [
    "# prettify() 이용해서 HTML 문서 형태로 출력\n",
    "print(soup.prettify())"
   ]
  },
  {
   "cell_type": "markdown",
   "id": "1861cd88-f022-4e51-95b0-a724f642ae80",
   "metadata": {},
   "source": [
    "- BeautifulSoup 이용 HTML 태그 다루기"
   ]
  },
  {
   "cell_type": "code",
   "execution_count": 14,
   "id": "b69f724f-6c44-4353-abbb-6422129d518d",
   "metadata": {},
   "outputs": [
    {
     "data": {
      "text/plain": [
       "<h1 id=\"title\">광주국제직업전문학교</h1>"
      ]
     },
     "execution_count": 14,
     "metadata": {},
     "output_type": "execute_result"
    }
   ],
   "source": [
    "# 지정된 1개의 태그만 파싱(parsing)하기\n",
    "# soup에 저장된 태그 중 첫 번째 h1 태그 1개만 파싱하여 반환\n",
    "soup.h1"
   ]
  },
  {
   "cell_type": "code",
   "execution_count": 16,
   "id": "875467d7-5ad2-4459-86b7-bf7c8419f254",
   "metadata": {},
   "outputs": [
    {
     "data": {
      "text/plain": [
       "<ul class=\"menu\"><li><a class=\"login\" href=\"http://www.kjca.co.kr/menber/login.html\">\n",
       "로그인</a></li></ul>"
      ]
     },
     "execution_count": 16,
     "metadata": {},
     "output_type": "execute_result"
    }
   ],
   "source": [
    "soup.ul"
   ]
  },
  {
   "cell_type": "code",
   "execution_count": 18,
   "id": "2c93e95c-33e4-499a-a66a-193a50479f21",
   "metadata": {},
   "outputs": [
    {
     "data": {
      "text/plain": [
       "<h1 id=\"title\">광주국제직업전문학교</h1>"
      ]
     },
     "execution_count": 18,
     "metadata": {},
     "output_type": "execute_result"
    }
   ],
   "source": [
    "# soup에서 첫 번째 h1 파싱하여 tag_h1에 저장\n",
    "tag_h1 = soup.h1\n",
    "tag_h1"
   ]
  },
  {
   "cell_type": "code",
   "execution_count": 20,
   "id": "3e1a8d9c-f150-40f0-b506-97e1eeafcb56",
   "metadata": {},
   "outputs": [
    {
     "data": {
      "text/plain": [
       "<div class=\"top\"><ul class=\"menu\"><li><a class=\"login\" href=\"http://www.kjca.co.kr/menber/login.html\">\n",
       "로그인</a></li></ul><ul class=\"brand\"><li><a href=\"http://www.kjca.co.kr/media/\">광주국제</a></li><li><a href=\"http://www.kjca.co.kr/academy/\">\n",
       "광주국제아카데미</a></li></ul></div>"
      ]
     },
     "execution_count": 20,
     "metadata": {},
     "output_type": "execute_result"
    }
   ],
   "source": [
    "# soup에서 첫번째 div 하나만 tag_div에 저장\n",
    "tag_div = soup.div\n",
    "tag_div"
   ]
  },
  {
   "cell_type": "code",
   "execution_count": 22,
   "id": "58104156-01b1-4c23-8e30-927694adb6d3",
   "metadata": {},
   "outputs": [
    {
     "data": {
      "text/plain": [
       "<ul class=\"menu\"><li><a class=\"login\" href=\"http://www.kjca.co.kr/menber/login.html\">\n",
       "로그인</a></li></ul>"
      ]
     },
     "execution_count": 22,
     "metadata": {},
     "output_type": "execute_result"
    }
   ],
   "source": [
    "# soup에서 첫 번째 ul 하나만 tag_ul에 저장\n",
    "tag_ul = soup.ul\n",
    "tag_ul"
   ]
  },
  {
   "cell_type": "code",
   "execution_count": 24,
   "id": "e8631fa2-f926-4c25-9910-d37e95f95a60",
   "metadata": {},
   "outputs": [
    {
     "data": {
      "text/plain": [
       "<li><a class=\"login\" href=\"http://www.kjca.co.kr/menber/login.html\">\n",
       "로그인</a></li>"
      ]
     },
     "execution_count": 24,
     "metadata": {},
     "output_type": "execute_result"
    }
   ],
   "source": [
    "# soup에서 첫 번째 li 하나만 tag_li에 저장\n",
    "tag_li = soup.li\n",
    "tag_li"
   ]
  },
  {
   "cell_type": "code",
   "execution_count": 26,
   "id": "03a7e8ba-576e-4631-b761-0ee263a8b379",
   "metadata": {},
   "outputs": [
    {
     "data": {
      "text/plain": [
       "<a class=\"login\" href=\"http://www.kjca.co.kr/menber/login.html\">\n",
       "로그인</a>"
      ]
     },
     "execution_count": 26,
     "metadata": {},
     "output_type": "execute_result"
    }
   ],
   "source": [
    "# soup에서 첫 번째 a 하나만 tag_a에 저장\n",
    "tag_a = soup.a\n",
    "tag_a"
   ]
  },
  {
   "cell_type": "code",
   "execution_count": null,
   "id": "01c1f5e4-22d8-407a-bec7-a6bf90776ce3",
   "metadata": {},
   "outputs": [],
   "source": []
  },
  {
   "cell_type": "markdown",
   "id": "995c08af-ea96-4d73-a15a-93e659a47eac",
   "metadata": {},
   "source": [
    "- 지정된 태그를 모두 파싱하여 리스트를 구성"
   ]
  },
  {
   "cell_type": "code",
   "execution_count": 28,
   "id": "3c9276c4-5671-4276-8385-788efd971fd0",
   "metadata": {},
   "outputs": [
    {
     "data": {
      "text/plain": [
       "[<ul class=\"menu\"><li><a class=\"login\" href=\"http://www.kjca.co.kr/menber/login.html\">\n",
       " 로그인</a></li></ul>,\n",
       " <ul class=\"brand\"><li><a href=\"http://www.kjca.co.kr/media/\">광주국제</a></li><li><a href=\"http://www.kjca.co.kr/academy/\">\n",
       " 광주국제아카데미</a></li></ul>]"
      ]
     },
     "execution_count": 28,
     "metadata": {},
     "output_type": "execute_result"
    }
   ],
   "source": [
    "# soup에 저장된 태그 중 ul 태그를 모두 찾아 tag_ul_all 리스트로 반환\n",
    "tag_ul_all = soup.find_all('ul')\n",
    "tag_ul_all"
   ]
  },
  {
   "cell_type": "code",
   "execution_count": 30,
   "id": "9aa97d20-6239-433c-9a1c-1e24cc5d2993",
   "metadata": {},
   "outputs": [
    {
     "data": {
      "text/plain": [
       "[<li><a class=\"login\" href=\"http://www.kjca.co.kr/menber/login.html\">\n",
       " 로그인</a></li>,\n",
       " <li><a href=\"http://www.kjca.co.kr/media/\">광주국제</a></li>,\n",
       " <li><a href=\"http://www.kjca.co.kr/academy/\">\n",
       " 광주국제아카데미</a></li>]"
      ]
     },
     "execution_count": 30,
     "metadata": {},
     "output_type": "execute_result"
    }
   ],
   "source": [
    "# soup에 저장된 태그 중 li 태그를 모두 찾아 tag_li_all 리스트로 반환\n",
    "tag_li_all = soup.find_all('li')\n",
    "tag_li_all"
   ]
  },
  {
   "cell_type": "code",
   "execution_count": 32,
   "id": "2cda7ec1-832b-4dda-828d-c70f23309e62",
   "metadata": {},
   "outputs": [
    {
     "data": {
      "text/plain": [
       "[<a class=\"login\" href=\"http://www.kjca.co.kr/menber/login.html\">\n",
       " 로그인</a>,\n",
       " <a href=\"http://www.kjca.co.kr/media/\">광주국제</a>,\n",
       " <a href=\"http://www.kjca.co.kr/academy/\">\n",
       " 광주국제아카데미</a>]"
      ]
     },
     "execution_count": 32,
     "metadata": {},
     "output_type": "execute_result"
    }
   ],
   "source": [
    "# soup에 저장된 태그 중 a 태그를 모두 찾아 tag_a_all 리스트로 반환\n",
    "tag_a_all = soup.find_all('a')\n",
    "tag_a_all"
   ]
  },
  {
   "cell_type": "code",
   "execution_count": 34,
   "id": "11485273-b313-4b0e-b0e4-4d067e348460",
   "metadata": {},
   "outputs": [
    {
     "data": {
      "text/plain": [
       "{'href': 'http://www.kjca.co.kr/menber/login.html', 'class': ['login']}"
      ]
     },
     "execution_count": 34,
     "metadata": {},
     "output_type": "execute_result"
    }
   ],
   "source": [
    "# attrs : 속성 이름과 속성 값으로 딕셔너리 구성\n",
    "tag_a.attrs"
   ]
  },
  {
   "cell_type": "code",
   "execution_count": 36,
   "id": "209a7f58-e1aa-4bff-995e-0c3228cd8fc6",
   "metadata": {},
   "outputs": [
    {
     "data": {
      "text/plain": [
       "<a class=\"login\" href=\"http://www.kjca.co.kr/menber/login.html\">\n",
       "로그인</a>"
      ]
     },
     "execution_count": 36,
     "metadata": {},
     "output_type": "execute_result"
    }
   ],
   "source": [
    "tag_a"
   ]
  },
  {
   "cell_type": "code",
   "execution_count": 38,
   "id": "4a55cfc5-01be-4815-b926-ad3218f894a5",
   "metadata": {},
   "outputs": [
    {
     "data": {
      "text/plain": [
       "'http://www.kjca.co.kr/menber/login.html'"
      ]
     },
     "execution_count": 38,
     "metadata": {},
     "output_type": "execute_result"
    }
   ],
   "source": [
    "# tag_a의 href 속성값 확인\n",
    "tag_a.attrs['href']"
   ]
  },
  {
   "cell_type": "code",
   "execution_count": 40,
   "id": "c5c1f3a1-114b-452a-ab75-6b66109eed5e",
   "metadata": {},
   "outputs": [
    {
     "data": {
      "text/plain": [
       "'http://www.kjca.co.kr/menber/login.html'"
      ]
     },
     "execution_count": 40,
     "metadata": {},
     "output_type": "execute_result"
    }
   ],
   "source": [
    "tag_a['href']"
   ]
  },
  {
   "cell_type": "code",
   "execution_count": 42,
   "id": "025860f4-c92f-4130-9624-ddcf4d84aea3",
   "metadata": {},
   "outputs": [
    {
     "data": {
      "text/plain": [
       "['login']"
      ]
     },
     "execution_count": 42,
     "metadata": {},
     "output_type": "execute_result"
    }
   ],
   "source": [
    "# tag_a의 class 속성값 확인\n",
    "tag_a['class']"
   ]
  },
  {
   "cell_type": "code",
   "execution_count": 46,
   "id": "a44800c4-a8bb-475a-93d0-889d203f8500",
   "metadata": {},
   "outputs": [
    {
     "data": {
      "text/plain": [
       "[<ul class=\"menu\"><li><a class=\"login\" href=\"http://www.kjca.co.kr/menber/login.html\">\n",
       " 로그인</a></li></ul>,\n",
       " <ul class=\"brand\"><li><a href=\"http://www.kjca.co.kr/media/\">광주국제</a></li><li><a href=\"http://www.kjca.co.kr/academy/\">\n",
       " 광주국제아카데미</a></li></ul>]"
      ]
     },
     "execution_count": 46,
     "metadata": {},
     "output_type": "execute_result"
    }
   ],
   "source": [
    "soup.find_all('ul')"
   ]
  },
  {
   "cell_type": "code",
   "execution_count": 48,
   "id": "c921ece2-dab2-4a54-b11c-78cce252627f",
   "metadata": {},
   "outputs": [
    {
     "data": {
      "text/plain": [
       "<ul class=\"brand\"><li><a href=\"http://www.kjca.co.kr/media/\">광주국제</a></li><li><a href=\"http://www.kjca.co.kr/academy/\">\n",
       "광주국제아카데미</a></li></ul>"
      ]
     },
     "execution_count": 48,
     "metadata": {},
     "output_type": "execute_result"
    }
   ],
   "source": [
    "# find() : 속성을 이용해 특정 태그 파싱\n",
    "# ul 태그 중 class의 속성값이 brand인 것 찾기\n",
    "tag_ul_2 = soup.find('ul', attrs={'class':'brand'})\n",
    "tag_ul_2"
   ]
  },
  {
   "cell_type": "code",
   "execution_count": 50,
   "id": "7f51f9cb-23d9-4bcc-8901-901ee53d32bf",
   "metadata": {},
   "outputs": [
    {
     "data": {
      "text/plain": [
       "<ul class=\"brand\"><li><a href=\"http://www.kjca.co.kr/media/\">광주국제</a></li><li><a href=\"http://www.kjca.co.kr/academy/\">\n",
       "광주국제아카데미</a></li></ul>"
      ]
     },
     "execution_count": 50,
     "metadata": {},
     "output_type": "execute_result"
    }
   ],
   "source": [
    "soup.find('ul', {'class':'brand'})"
   ]
  },
  {
   "cell_type": "code",
   "execution_count": 52,
   "id": "e067f995-ec8e-4a8d-a844-183f28f3e5e9",
   "metadata": {},
   "outputs": [
    {
     "data": {
      "text/plain": [
       "<ul class=\"menu\"><li><a class=\"login\" href=\"http://www.kjca.co.kr/menber/login.html\">\n",
       "로그인</a></li></ul>"
      ]
     },
     "execution_count": 52,
     "metadata": {},
     "output_type": "execute_result"
    }
   ],
   "source": [
    "tag_ul"
   ]
  },
  {
   "cell_type": "code",
   "execution_count": 54,
   "id": "3bf23180-f1bc-4a03-ad5b-36f6382ae86e",
   "metadata": {},
   "outputs": [
    {
     "data": {
      "text/plain": [
       "[<ul class=\"menu\"><li><a class=\"login\" href=\"http://www.kjca.co.kr/menber/login.html\">\n",
       " 로그인</a></li></ul>,\n",
       " <ul class=\"brand\"><li><a href=\"http://www.kjca.co.kr/media/\">광주국제</a></li><li><a href=\"http://www.kjca.co.kr/academy/\">\n",
       " 광주국제아카데미</a></li></ul>]"
      ]
     },
     "execution_count": 54,
     "metadata": {},
     "output_type": "execute_result"
    }
   ],
   "source": [
    "tag_ul_all"
   ]
  },
  {
   "cell_type": "code",
   "execution_count": 56,
   "id": "7f5af813-404b-4280-8a1e-d459175f7576",
   "metadata": {},
   "outputs": [
    {
     "data": {
      "text/plain": [
       "<h1 id=\"title\">광주국제직업전문학교</h1>"
      ]
     },
     "execution_count": 56,
     "metadata": {},
     "output_type": "execute_result"
    }
   ],
   "source": [
    "# id 속성값이 title인 것 찾기\n",
    "title = soup.find(id='title')\n",
    "title"
   ]
  },
  {
   "cell_type": "code",
   "execution_count": 58,
   "id": "7e809334-d336-4306-b6e5-e7b9748f062c",
   "metadata": {},
   "outputs": [
    {
     "data": {
      "text/plain": [
       "'광주국제직업전문학교'"
      ]
     },
     "execution_count": 58,
     "metadata": {},
     "output_type": "execute_result"
    }
   ],
   "source": [
    "# title에 들어있는 문자열(내용) 출력\n",
    "title.string"
   ]
  },
  {
   "cell_type": "code",
   "execution_count": 60,
   "id": "82f072c1-b49d-4331-a630-770197ce5aef",
   "metadata": {},
   "outputs": [
    {
     "data": {
      "text/plain": [
       "[<a class=\"login\" href=\"http://www.kjca.co.kr/menber/login.html\">\n",
       " 로그인</a>,\n",
       " <a href=\"http://www.kjca.co.kr/media/\">광주국제</a>,\n",
       " <a href=\"http://www.kjca.co.kr/academy/\">\n",
       " 광주국제아카데미</a>]"
      ]
     },
     "execution_count": 60,
     "metadata": {},
     "output_type": "execute_result"
    }
   ],
   "source": [
    "# select() : 지정한 태그를 모두 파싱하여 리스트 구성 = find_all()과 같음\n",
    "# soup에서 a 태그를 모두 찾아 aaa에 저장  \n",
    "aaa = soup.select('a')\n",
    "aaa"
   ]
  },
  {
   "cell_type": "code",
   "execution_count": null,
   "id": "7dc203b2-e038-40fb-b5f4-3ceaf3004f08",
   "metadata": {},
   "outputs": [],
   "source": []
  },
  {
   "cell_type": "code",
   "execution_count": 64,
   "id": "acdd34e4-09ac-4956-a062-7a3880447e89",
   "metadata": {},
   "outputs": [
    {
     "data": {
      "text/plain": [
       "[<li><a href=\"http://www.kjca.co.kr/media/\">광주국제</a></li>,\n",
       " <li><a href=\"http://www.kjca.co.kr/academy/\">\n",
       " 광주국제아카데미</a></li>]"
      ]
     },
     "execution_count": 64,
     "metadata": {},
     "output_type": "execute_result"
    }
   ],
   "source": [
    "# div태그 안에있는 ul태그의 class 속성값이 brand인 블록 안의 li 태그 블록 모두 추출\n",
    "li_list = soup.select('div>ul.brand>li')\n",
    "li_list"
   ]
  },
  {
   "cell_type": "code",
   "execution_count": 62,
   "id": "574996c1-fc48-4934-8b9b-ebad01d50586",
   "metadata": {},
   "outputs": [
    {
     "data": {
      "text/plain": [
       "<h1 id=\"title\">광주국제직업전문학교</h1><div class=\"top\"><ul class=\"menu\"><li><a class=\"login\" href=\"http://www.kjca.co.kr/menber/login.html\">\n",
       "로그인</a></li></ul><ul class=\"brand\"><li><a href=\"http://www.kjca.co.kr/media/\">광주국제</a></li><li><a href=\"http://www.kjca.co.kr/academy/\">\n",
       "광주국제아카데미</a></li></ul></div>"
      ]
     },
     "execution_count": 62,
     "metadata": {},
     "output_type": "execute_result"
    }
   ],
   "source": [
    "soup"
   ]
  },
  {
   "cell_type": "code",
   "execution_count": 70,
   "id": "c51ad529-f50a-4cbd-a28e-4301a9fd7495",
   "metadata": {},
   "outputs": [
    {
     "name": "stdout",
     "output_type": "stream",
     "text": [
      "광주국제\n",
      "\n",
      "광주국제아카데미\n"
     ]
    }
   ],
   "source": [
    "# li_list 의 li태그의 문자열 출력\n",
    "for i in li_list:\n",
    "    print(i.string)\n"
   ]
  },
  {
   "cell_type": "code",
   "execution_count": null,
   "id": "9a0c8d6d-2001-4a60-8add-f333095ccf64",
   "metadata": {},
   "outputs": [],
   "source": []
  },
  {
   "cell_type": "markdown",
   "id": "ef8cac50-be27-432d-84d3-5a9c8cac9ec8",
   "metadata": {},
   "source": [
    "- 정적 웹 페이지 크롤링\n",
    "- 크롤링 허용 여부 확인 => www.hollys.co.kr/robots.txt"
   ]
  },
  {
   "cell_type": "code",
   "execution_count": null,
   "id": "5af78dee-9daa-4a8a-8e51-47f4b1f9b174",
   "metadata": {},
   "outputs": [],
   "source": []
  },
  {
   "cell_type": "markdown",
   "id": "f3489a50-7577-4a05-bbc8-cc3ade622333",
   "metadata": {},
   "source": [
    "- 웹페이지 분석하기 => 해당 페이지의 html 소스를 확인"
   ]
  },
  {
   "cell_type": "markdown",
   "id": "695c3b23-da56-43db-a70a-bb0ab1000dbf",
   "metadata": {},
   "source": [
    "##### 할리스커피의 전국 매장 정보 크롤링 ( www.hollys.co.kr )"
   ]
  },
  {
   "cell_type": "markdown",
   "id": "34128a40-0b3c-4911-ba89-e4863864ffb9",
   "metadata": {},
   "source": [
    "- 할리스커피 홈페이지 화면 상단 메뉴에서 Store를 선택하면 매장검색 페이지가 열린다. 매장 정보 표를 이용해서 매장 정보 크롤링 작업\n",
    "- html 코드 확인 : Ctrl + U를 눌러 소스 보기 창을 띄워 분석할 HTML 코드 확인\n",
    "- HTML 코드에서 매장정보 테이블을 찾아 분석해보자\n",
    "- 페이지 이동에 따른 주소 변화를 확인하면 전체 매장 정보를 모두 크롤링 할 수 있다."
   ]
  },
  {
   "cell_type": "code",
   "execution_count": null,
   "id": "2adf1063-0f3f-433c-bb39-9e4e39d6f259",
   "metadata": {},
   "outputs": [],
   "source": []
  },
  {
   "cell_type": "code",
   "execution_count": 74,
   "id": "e83e8471-ae89-4f4c-9cf1-680588047f55",
   "metadata": {},
   "outputs": [],
   "source": [
    "# 크롤링 시작\n",
    "# urllib.request 임포트\n",
    "import urllib.request"
   ]
  },
  {
   "cell_type": "code",
   "execution_count": 76,
   "id": "c5bf02ca-ba11-49bd-8b59-01ebe4e6eb00",
   "metadata": {},
   "outputs": [],
   "source": [
    "# 작업 결과 저장할 리스트 준비\n",
    "result = []"
   ]
  },
  {
   "cell_type": "code",
   "execution_count": 35,
   "id": "702609b0-ea45-4010-9b07-cb6ed4ed190c",
   "metadata": {},
   "outputs": [],
   "source": [
    "# BeautifulSoup 객체를 생성해서 파싱\n",
    "# 1. 1 ~ 49 페이지까지 반복해서 url 설정\n",
    "# 2. url 요청하여 응답받은 웹페이지 저장\n",
    "# 3. BeautifulSoup 객체 생성\n",
    "# 4. tr 태그 하위의 td 태그 중에서 필요한 항목만 추출하여 result 리스트에 추가 저장"
   ]
  },
  {
   "cell_type": "code",
   "execution_count": 36,
   "id": "9e81dc36-4c6a-40c1-9b69-c37d9ce8dcca",
   "metadata": {},
   "outputs": [],
   "source": []
  },
  {
   "cell_type": "code",
   "execution_count": 37,
   "id": "e3f3dcd9-6e9e-4376-afc6-ae9bfc46b793",
   "metadata": {},
   "outputs": [
    {
     "data": {
      "text/plain": [
       "list"
      ]
     },
     "execution_count": 37,
     "metadata": {},
     "output_type": "execute_result"
    }
   ],
   "source": []
  },
  {
   "cell_type": "code",
   "execution_count": 38,
   "id": "fd621132-2c66-45d7-a440-c8ff00fc922b",
   "metadata": {},
   "outputs": [
    {
     "data": {
      "text/plain": [
       "484"
      ]
     },
     "execution_count": 38,
     "metadata": {},
     "output_type": "execute_result"
    }
   ],
   "source": []
  },
  {
   "cell_type": "code",
   "execution_count": 39,
   "id": "b2f2835a-6ce3-40f4-8c11-0ed5fe7d79a7",
   "metadata": {},
   "outputs": [
    {
     "data": {
      "text/plain": [
       "['전주백제대로점2', '전북 전주시 덕진구', '전라북도 전주시 덕진구 백제대로 592 (금암동) 1층', '063-271-5056']"
      ]
     },
     "execution_count": 39,
     "metadata": {},
     "output_type": "execute_result"
    }
   ],
   "source": []
  },
  {
   "cell_type": "code",
   "execution_count": 40,
   "id": "0668461f-ca95-4e62-bfdc-48a9bde05703",
   "metadata": {},
   "outputs": [
    {
     "data": {
      "text/plain": [
       "['신촌점', '서울 서대문구', '서울특별시 서대문구 연세로 34 (창천동 31-12)  할리스', '02-393-2004']"
      ]
     },
     "execution_count": 40,
     "metadata": {},
     "output_type": "execute_result"
    }
   ],
   "source": []
  },
  {
   "cell_type": "code",
   "execution_count": 41,
   "id": "df4075d1-9988-4e3d-9b21-d08599df5ccd",
   "metadata": {},
   "outputs": [
    {
     "data": {
      "text/plain": [
       "[<td class=\"noline center_t\">서울 서대문구</td>,\n",
       " <td class=\"center_t\"><a href=\"#\" onclick=\"javascript:storeView(1); return false;\">신촌점</a></td>,\n",
       " <td class=\"center_t tdp0\">영업중</td>,\n",
       " <td class=\"center_t\"><a href=\"#\" onclick=\"javascript:storeView(1); return false;\">서울특별시 서대문구 연세로 34 (창천동 31-12)  할리스</a></td>,\n",
       " <td class=\"center_t\">\n",
       " </td>,\n",
       " <td class=\"center_t\">02-393-2004</td>]"
      ]
     },
     "execution_count": 41,
     "metadata": {},
     "output_type": "execute_result"
    }
   ],
   "source": []
  },
  {
   "cell_type": "code",
   "execution_count": 42,
   "id": "50bf75b2-9dab-4f5f-99d2-87812fa7b67d",
   "metadata": {},
   "outputs": [
    {
     "data": {
      "text/plain": [
       "<td class=\"noline center_t\">서울 서대문구</td>"
      ]
     },
     "execution_count": 42,
     "metadata": {},
     "output_type": "execute_result"
    }
   ],
   "source": []
  },
  {
   "cell_type": "code",
   "execution_count": 43,
   "id": "f7f00681-e91f-477b-81e6-fabad33ea3ee",
   "metadata": {},
   "outputs": [
    {
     "data": {
      "text/plain": [
       "'서울 서대문구'"
      ]
     },
     "execution_count": 43,
     "metadata": {},
     "output_type": "execute_result"
    }
   ],
   "source": []
  },
  {
   "cell_type": "code",
   "execution_count": null,
   "id": "e7b8d1a4-9f13-48ef-abc6-880a75879c3c",
   "metadata": {},
   "outputs": [],
   "source": []
  },
  {
   "cell_type": "markdown",
   "id": "7f86d924-cc87-47c3-8f6a-4e28e8fcdb18",
   "metadata": {},
   "source": [
    "- 크롤링한 데이터 저장"
   ]
  },
  {
   "cell_type": "code",
   "execution_count": 45,
   "id": "a903aa30-5f8b-4ca3-84a6-b9100e5ff34b",
   "metadata": {},
   "outputs": [],
   "source": [
    "# pandas 임포트\n",
    "# hollys_tbl 에 데이터프레임 형식으로 저장( 컬럼명 : store, sido-gu , address , phone )\n"
   ]
  },
  {
   "cell_type": "code",
   "execution_count": 46,
   "id": "b3d6301f-b277-4e82-86ff-ba1ad4ee88ac",
   "metadata": {},
   "outputs": [
    {
     "data": {
      "text/plain": [
       "(484, 4)"
      ]
     },
     "execution_count": 46,
     "metadata": {},
     "output_type": "execute_result"
    }
   ],
   "source": []
  },
  {
   "cell_type": "code",
   "execution_count": 47,
   "id": "7d0849b4-edcc-42f8-9780-ec5bf4b4f25d",
   "metadata": {},
   "outputs": [
    {
     "data": {
      "text/html": [
       "<div>\n",
       "<style scoped>\n",
       "    .dataframe tbody tr th:only-of-type {\n",
       "        vertical-align: middle;\n",
       "    }\n",
       "\n",
       "    .dataframe tbody tr th {\n",
       "        vertical-align: top;\n",
       "    }\n",
       "\n",
       "    .dataframe thead th {\n",
       "        text-align: right;\n",
       "    }\n",
       "</style>\n",
       "<table border=\"1\" class=\"dataframe\">\n",
       "  <thead>\n",
       "    <tr style=\"text-align: right;\">\n",
       "      <th></th>\n",
       "      <th>store</th>\n",
       "      <th>sido-gu</th>\n",
       "      <th>address</th>\n",
       "      <th>phone</th>\n",
       "    </tr>\n",
       "  </thead>\n",
       "  <tbody>\n",
       "    <tr>\n",
       "      <th>0</th>\n",
       "      <td>전주백제대로점2</td>\n",
       "      <td>전북 전주시 덕진구</td>\n",
       "      <td>전라북도 전주시 덕진구 백제대로 592 (금암동) 1층</td>\n",
       "      <td>063-271-5056</td>\n",
       "    </tr>\n",
       "    <tr>\n",
       "      <th>1</th>\n",
       "      <td>분당미금점</td>\n",
       "      <td>경기 성남시 분당구</td>\n",
       "      <td>경기도 성남시 분당구 미금일로90번길 24 (구미동) B1F ~ 1F</td>\n",
       "      <td>031-713-7739</td>\n",
       "    </tr>\n",
       "    <tr>\n",
       "      <th>2</th>\n",
       "      <td>부산일광신도시점</td>\n",
       "      <td>부산 기장군</td>\n",
       "      <td>부산광역시 기장군 일광읍 해빛6로 43-20 .</td>\n",
       "      <td>070-4790-2715</td>\n",
       "    </tr>\n",
       "    <tr>\n",
       "      <th>3</th>\n",
       "      <td>메리츠봉래타워점</td>\n",
       "      <td>서울 중구</td>\n",
       "      <td>서울시 중구 칠패로 28 메리츠강북타워 1층</td>\n",
       "      <td>02-753-8835</td>\n",
       "    </tr>\n",
       "    <tr>\n",
       "      <th>4</th>\n",
       "      <td>성남모란역점</td>\n",
       "      <td>경기 성남시 중원구</td>\n",
       "      <td>경기도 성남시 중원구 성남대로1148번길 8 (성남동) 1층, 성남동3453</td>\n",
       "      <td>031-758-5953</td>\n",
       "    </tr>\n",
       "  </tbody>\n",
       "</table>\n",
       "</div>"
      ],
      "text/plain": [
       "      store     sido-gu                                     address  \\\n",
       "0  전주백제대로점2  전북 전주시 덕진구              전라북도 전주시 덕진구 백제대로 592 (금암동) 1층   \n",
       "1     분당미금점  경기 성남시 분당구      경기도 성남시 분당구 미금일로90번길 24 (구미동) B1F ~ 1F   \n",
       "2  부산일광신도시점      부산 기장군                  부산광역시 기장군 일광읍 해빛6로 43-20 .   \n",
       "3  메리츠봉래타워점       서울 중구                    서울시 중구 칠패로 28 메리츠강북타워 1층   \n",
       "4    성남모란역점  경기 성남시 중원구  경기도 성남시 중원구 성남대로1148번길 8 (성남동) 1층, 성남동3453   \n",
       "\n",
       "           phone  \n",
       "0   063-271-5056  \n",
       "1   031-713-7739  \n",
       "2  070-4790-2715  \n",
       "3    02-753-8835  \n",
       "4   031-758-5953  "
      ]
     },
     "execution_count": 47,
     "metadata": {},
     "output_type": "execute_result"
    }
   ],
   "source": []
  },
  {
   "cell_type": "code",
   "execution_count": 48,
   "id": "c83f6c15-45e6-4ecd-858b-ebe65701bbf5",
   "metadata": {},
   "outputs": [],
   "source": [
    "# 데이터프레임을 csv 파일로 저장\n"
   ]
  },
  {
   "cell_type": "code",
   "execution_count": null,
   "id": "0463f291-a892-43f3-bc81-8ea57de8978a",
   "metadata": {},
   "outputs": [],
   "source": []
  }
 ],
 "metadata": {
  "kernelspec": {
   "display_name": "Python [conda env:base] *",
   "language": "python",
   "name": "conda-base-py"
  },
  "language_info": {
   "codemirror_mode": {
    "name": "ipython",
    "version": 3
   },
   "file_extension": ".py",
   "mimetype": "text/x-python",
   "name": "python",
   "nbconvert_exporter": "python",
   "pygments_lexer": "ipython3",
   "version": "3.12.7"
  }
 },
 "nbformat": 4,
 "nbformat_minor": 5
}
