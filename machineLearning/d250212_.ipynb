{
 "cells": [
  {
   "cell_type": "code",
   "execution_count": null,
   "id": "8f1b2fe4-b994-4a11-8751-a51b1db340dd",
   "metadata": {},
   "outputs": [],
   "source": []
  }
 ],
 "metadata": {
  "kernelspec": {
   "display_name": "",
   "name": ""
  },
  "language_info": {
   "name": ""
  }
 },
 "nbformat": 4,
 "nbformat_minor": 5
}
