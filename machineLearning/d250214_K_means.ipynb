{
 "cells": [
  {
   "cell_type": "markdown",
   "id": "c4299992",
   "metadata": {},
   "source": [
    "### k-평균\n",
    "- 실제 비지도 학습에서는 위에서 작업했던 것처럼 사진에 어떤 과일이 들어 있는지 알지 못한다.\n",
    "- 사진에 어떤 과일이 있는지 알지 못하는 경우 k-평균 군집 알고리즘이 평균값을 자동으로 찾아준다.\n",
    "- 이 평균값이 클러스터의 중심에 위치하기 때문에 클러스터 중심(cluster center) 또는 센트로이드(centroid) 라고 부른다."
   ]
  },
  {
   "cell_type": "markdown",
   "id": "11040928",
   "metadata": {},
   "source": [
    "#### k-평균 알고리즘 작동 방식\n",
    "1. 무작위로 k개의 클러스터 중심을 정한다.\n",
    "2. 각 샘플에서 가장 가까운 클러스터 중심을 찾아 해당 클러스터의 샘플로 지정\n",
    "3. 클러스터에 속한 샘플의 평균값으로 클러스터 중심을 변경\n",
    "4. 클러스터 중심에 변화가 없을 때까지 2번으로 돌아가 반복"
   ]
  },
  {
   "cell_type": "markdown",
   "id": "4f911ecb",
   "metadata": {},
   "source": [
    "- k-평균 알고리즘은 처음에는 랜덤하게 클러스터 중심을 선택하고 점차 가장 가까운 샘플의 중심으로 이동하는 비교적 간단한 알고리즘이다."
   ]
  },
  {
   "cell_type": "code",
   "execution_count": null,
   "id": "d421a1a9",
   "metadata": {},
   "outputs": [],
   "source": []
  },
  {
   "cell_type": "markdown",
   "id": "868c5665",
   "metadata": {},
   "source": [
    "### KMeans 클래스"
   ]
  },
  {
   "cell_type": "markdown",
   "id": "6d675bc3",
   "metadata": {},
   "source": [
    "- fruits_300.npy 파일 로딩\n",
    "- 3차원 배열(샘플개수, 너비, 높이)을 (샘플개수, 너비 * 높이) 크기를 가진 2차원 배열로 변경"
   ]
  },
  {
   "cell_type": "code",
   "execution_count": null,
   "id": "4ec9cfed",
   "metadata": {},
   "outputs": [],
   "source": [
    "\n"
   ]
  },
  {
   "cell_type": "code",
   "execution_count": null,
   "id": "68807fb2",
   "metadata": {},
   "outputs": [],
   "source": []
  },
  {
   "cell_type": "code",
   "execution_count": 4,
   "id": "b47fb827",
   "metadata": {},
   "outputs": [],
   "source": [
    "# KMeans 임포트, 생성, 학습\n",
    "\n",
    "\n"
   ]
  },
  {
   "cell_type": "markdown",
   "id": "b01d8118",
   "metadata": {},
   "source": [
    "- 군집된 결과는 KMeans 클래스 객체의 labels_ 속성에 저장"
   ]
  },
  {
   "cell_type": "code",
   "execution_count": 6,
   "id": "f76cd1bf",
   "metadata": {},
   "outputs": [],
   "source": [
    "# 군집된 결과 확인\n"
   ]
  },
  {
   "cell_type": "code",
   "execution_count": 8,
   "id": "c2cda513",
   "metadata": {},
   "outputs": [],
   "source": [
    "# 군집의 유니크 값의 개수 확인\n",
    "\n"
   ]
  },
  {
   "cell_type": "markdown",
   "id": "9a713c1a",
   "metadata": {},
   "source": [
    "- 각 클러스터가 어떤 이미지를 나타냈는지 그림으로 출력하기 위해 유틸리티 함수 draw_fruits() 만들기"
   ]
  },
  {
   "cell_type": "code",
   "execution_count": null,
   "id": "40f43252",
   "metadata": {},
   "outputs": [],
   "source": [
    "\n",
    "\n",
    "\n",
    "\n"
   ]
  },
  {
   "cell_type": "code",
   "execution_count": 11,
   "id": "aefe8b62",
   "metadata": {},
   "outputs": [],
   "source": [
    "# draw_fruits 함수를 이용해서 km_labels_ 값이 0인 이미지 출력\n",
    "\n"
   ]
  },
  {
   "cell_type": "code",
   "execution_count": 13,
   "id": "800220a0",
   "metadata": {},
   "outputs": [],
   "source": [
    "# 클러스터 센터의 구조 출력\n",
    "\n"
   ]
  },
  {
   "cell_type": "code",
   "execution_count": 15,
   "id": "ae4b7e27",
   "metadata": {},
   "outputs": [],
   "source": [
    "# 센터의 구조를 100 * 100으로 변경해서 draw_fruits 함수 이용해서 이미지 출력\n",
    "\n"
   ]
  },
  {
   "cell_type": "code",
   "execution_count": null,
   "id": "1b9b44ef",
   "metadata": {},
   "outputs": [],
   "source": [
    "\n"
   ]
  },
  {
   "cell_type": "code",
   "execution_count": null,
   "id": "8650bc7b",
   "metadata": {},
   "outputs": [],
   "source": [
    "\n"
   ]
  },
  {
   "cell_type": "code",
   "execution_count": null,
   "id": "05fad704",
   "metadata": {},
   "outputs": [],
   "source": [
    "\n"
   ]
  },
  {
   "cell_type": "code",
   "execution_count": null,
   "id": "f8fc8620",
   "metadata": {},
   "outputs": [],
   "source": [
    "\n"
   ]
  },
  {
   "cell_type": "code",
   "execution_count": null,
   "id": "2bdd9767",
   "metadata": {},
   "outputs": [],
   "source": []
  },
  {
   "cell_type": "markdown",
   "id": "59edd4c3",
   "metadata": {},
   "source": [
    "#### 최적의 K 값 찾기"
   ]
  },
  {
   "cell_type": "markdown",
   "id": "5fe544dd",
   "metadata": {},
   "source": [
    "- 적절한 클러스터 개수를 찾기 위한 대표적인 방법이 엘보우 방법\n",
    "- k-평균 알고리즘은 클러스터 중심과 클러스터에 속한 샘플 사이의 거리를 잴 수 있다. 이 거리의 제곱 합을 이너셔(inertia)라고 함\n",
    "- 이너셔는 클러스터에 속한 샘플이 얼마나 가깝게 모여 있는지를 나타내는 값으로 생각할 수 있다.\n",
    "- 일반적으로 클러스터 개수가 늘어나면 클러스터 개개의 크기는 줄어들기 때문에 이너셔도 줄어든다.\n",
    "- 엘보우 방법은 클러스터 개수를 늘려가면서 이너셔의 변화를 관찰하여 최적의 클러스터 개수를 찾는다."
   ]
  },
  {
   "cell_type": "markdown",
   "id": "a36e058b",
   "metadata": {},
   "source": [
    "- 과일 데이터를 사용해 이너셔 계산\n",
    "- KMeans 클래스는 자동으로 이너셔를 계산해서 inertia_ 속성으로 제공"
   ]
  },
  {
   "cell_type": "code",
   "execution_count": 21,
   "id": "145bf676",
   "metadata": {},
   "outputs": [],
   "source": [
    "# k 값을 바꿔가며 이너셔 값을 이미지로 출력\n",
    "\n",
    "\n",
    "\n",
    "\n",
    "\n"
   ]
  },
  {
   "cell_type": "code",
   "execution_count": null,
   "id": "5f7138ef",
   "metadata": {},
   "outputs": [],
   "source": []
  }
 ],
 "metadata": {
  "kernelspec": {
   "display_name": "Python [conda env:base] *",
   "language": "python",
   "name": "conda-base-py"
  },
  "language_info": {
   "codemirror_mode": {
    "name": "ipython",
    "version": 3
   },
   "file_extension": ".py",
   "mimetype": "text/x-python",
   "name": "python",
   "nbconvert_exporter": "python",
   "pygments_lexer": "ipython3",
   "version": "3.12.7"
  }
 },
 "nbformat": 4,
 "nbformat_minor": 5
}
