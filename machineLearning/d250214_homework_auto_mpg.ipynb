{
 "cells": [
  {
   "cell_type": "markdown",
   "id": "ed0d4729-4a3e-425d-8be3-3cfef082786d",
   "metadata": {},
   "source": [
    "## **자동차연비 예측 회귀모델**"
   ]
  },
  {
   "cell_type": "markdown",
   "id": "0fa38bd2-bc69-45f7-907c-0f9336b1beae",
   "metadata": {},
   "source": [
    "https://archive.ics.uci.edu/dataset/9/auto+mpg"
   ]
  },
  {
   "cell_type": "markdown",
   "id": "062a2967-83d6-4745-a4c5-223ad1af3663",
   "metadata": {},
   "source": [
    "1. 데이터수집 \n",
    "2. 전체리 및 데이터분할\n",
    "3. 모델 구축 및 학습\n",
    "4. 모델 평가 \n",
    "5. 예측 "
   ]
  },
  {
   "cell_type": "markdown",
   "id": "1f3435d6-74a8-4ebc-a532-2ea1ade213dc",
   "metadata": {},
   "source": [
    "사용자 입력정보를 통해 예상 연비 출력 \n",
    "1. cylinders : \n",
    "2. displacement :\n",
    "3. weight :\n",
    "4. acceleration :\n",
    "5. model_year :"
   ]
  }
 ],
 "metadata": {
  "kernelspec": {
   "display_name": "Python [conda env:base] *",
   "language": "python",
   "name": "conda-base-py"
  },
  "language_info": {
   "codemirror_mode": {
    "name": "ipython",
    "version": 3
   },
   "file_extension": ".py",
   "mimetype": "text/x-python",
   "name": "python",
   "nbconvert_exporter": "python",
   "pygments_lexer": "ipython3",
   "version": "3.12.7"
  }
 },
 "nbformat": 4,
 "nbformat_minor": 5
}
