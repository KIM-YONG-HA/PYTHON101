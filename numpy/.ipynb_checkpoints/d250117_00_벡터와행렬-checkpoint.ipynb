{
 "cells": [
  {
   "cell_type": "code",
   "execution_count": 1,
   "id": "f0cad02d-c830-4a7c-a447-6e805630da2a",
   "metadata": {},
   "outputs": [],
   "source": [
    "# 백터와 행렬"
   ]
  },
  {
   "cell_type": "markdown",
   "id": "5e22bb54-2cf4-485b-a33c-004bbbbed3d1",
   "metadata": {},
   "source": [
    "## vector\n",
    "크기와 방향을 가진 수의 집합\n",
    "벡터를 이루는 숫자 성분을 스칼라라고 하며, 열벡터와 행백터로 나뉜다.\n",
    "선형대수(linalg)에서 기본적으로 열 벡터로 표현한다.\n",
    "크기가 1인 벡터를 단위벡터, 모든 원소가 0인 벡터를 영벡터라고 한다.\n",
    "벡터를 구분하기 위해서 대괄호를 사용 \n",
    "array함수를 사용해서 생성한 1차원 배열로 벡터를 나타낸다.\n",
    "\n",
    "\n",
    "좌표평면 (0,0) => 원점\n",
    "x가 3, y가 2일때 벡터는 [3,2]로 표현하고 \n",
    "0,0에서 3,2 까지가 크기이다. \n",
    "\n",
    "시점 : 벡터의 시작점\n",
    "종점 : 벡터의 종료점\n",
    "\n",
    "시점을 원점으로 옮겼을 때 크기와 방향만 같다면 같다\n",
    "\n",
    "→\n",
    "a\n",
    "\n",
    " \n",
    "열 벡터\n",
    "[\n",
    "    [3],\n",
    "    [2],\n",
    "    [5]\n",
    "]\n",
    "\n",
    "행 벡터??\n",
    "[ [3,2,5] ]\n",
    " \n",
    "\n"
   ]
  },
  {
   "cell_type": "markdown",
   "id": "a15b3c0f-0995-4865-a97b-86b049ed0560",
   "metadata": {},
   "source": [
    "## 행렬\n",
    "크기만 가진 행과 열로 구성된 수의 집합 \n",
    "array함수를 사용해서 생성한 2차원 배열로 행렬을 나타낸다.\n",
    "인덱스는 0부터 시작 \n",
    "행렬 표기는 대괄호를 사용하여 나열한다.\n",
    "\n",
    "정사각행렬: n x n \n",
    "```\n",
    "1 2\n",
    "3 4\n",
    "\n",
    "1 2 3\n",
    "4 5 6\n",
    "7 8 9 \n",
    "```\n",
    "\n",
    "대각행렬 : 대각선을 제외한 모든 원소가 0 \n",
    "\n",
    "```\n",
    "1 0 0\n",
    "0 5 0\n",
    "0 0 9\n",
    "```\n",
    "\n",
    "\n",
    "단위행렬(항등행렬) : 대각선의 원소가 1인 행렬 \n",
    "```\n",
    "1 0 0\n",
    "0 1 0\n",
    "0 0 1\n",
    "```\n",
    "\n",
    "삼각행렬 : 주 대각선의 기준으로 위 또는 아래의 모든 원소가 0인 행렬 \n",
    "\n"
   ]
  },
  {
   "cell_type": "code",
   "execution_count": 4,
   "id": "a7e77cb3-fe1f-4803-ae3c-27badcef0a88",
   "metadata": {},
   "outputs": [
    {
     "name": "stdout",
     "output_type": "stream",
     "text": [
      "[0 1 2 3 4 5 6 7 8 9]\n"
     ]
    }
   ],
   "source": [
    "import numpy as np\n",
    "cvt = np.arange(10)\n",
    "print(cvt)"
   ]
  },
  {
   "cell_type": "code",
   "execution_count": 5,
   "id": "020eb74d-000e-4dfe-ab4e-0595e9780504",
   "metadata": {},
   "outputs": [
    {
     "name": "stdout",
     "output_type": "stream",
     "text": [
      "(10, 1)\n",
      "[[0]\n",
      " [1]\n",
      " [2]\n",
      " [3]\n",
      " [4]\n",
      " [5]\n",
      " [6]\n",
      " [7]\n",
      " [8]\n",
      " [9]]\n"
     ]
    }
   ],
   "source": [
    "## 열벡터 생성 \n",
    "cvt.shape = (len(cvt), 1)\n",
    "print(cvt.shape)\n",
    "print(cvt)"
   ]
  },
  {
   "cell_type": "code",
   "execution_count": 6,
   "id": "abefc3aa-4f8c-48ad-9279-a04cd9e2e866",
   "metadata": {},
   "outputs": [
    {
     "name": "stdout",
     "output_type": "stream",
     "text": [
      "(10, 1)\n",
      "[[0]\n",
      " [1]\n",
      " [2]\n",
      " [3]\n",
      " [4]\n",
      " [5]\n",
      " [6]\n",
      " [7]\n",
      " [8]\n",
      " [9]]\n"
     ]
    }
   ],
   "source": [
    "cvt.resize(len(cvt), 1)\n",
    "print(cvt.shape)\n",
    "print(cvt)"
   ]
  },
  {
   "cell_type": "code",
   "execution_count": 9,
   "id": "41c71c4c-da2d-479e-9fb8-c09052fb18e1",
   "metadata": {},
   "outputs": [
    {
     "name": "stdout",
     "output_type": "stream",
     "text": [
      "(1, 10)\n",
      "[[0 1 2 3 4 5 6 7 8 9]]\n",
      "2\n"
     ]
    }
   ],
   "source": [
    "#  행벡터\n",
    "cvt.shape = (1, len(cvt))\n",
    "print(cvt.shape)\n",
    "print(cvt)\n",
    "print(cvt.ndim)"
   ]
  },
  {
   "cell_type": "code",
   "execution_count": null,
   "id": "e54c029e-7c25-4b72-8864-f382ff213187",
   "metadata": {},
   "outputs": [],
   "source": [
    "## linespace함수 이용 "
   ]
  },
  {
   "cell_type": "code",
   "execution_count": 13,
   "id": "8bde20b9-16d1-45f2-a89e-36484c59169c",
   "metadata": {},
   "outputs": [
    {
     "data": {
      "text/plain": [
       "array([1. , 1.9, 2.8, 3.7, 4.6, 5.5, 6.4, 7.3, 8.2, 9.1])"
      ]
     },
     "execution_count": 13,
     "metadata": {},
     "output_type": "execute_result"
    }
   ],
   "source": [
    "## 1 ~ 10 사이의 수를 10개 추출(종료값을 포함하지 않도록)\n",
    "np.linspace(1, 10, 10, endpoint=False) #  시작, 종료, 갯수, 마지막 포함여부"
   ]
  },
  {
   "cell_type": "code",
   "execution_count": 15,
   "id": "9464e9d8-561f-4ee0-b36f-664603379b86",
   "metadata": {},
   "outputs": [
    {
     "data": {
      "text/plain": [
       "array([ 1.,  2.,  3.,  4.,  5.,  6.,  7.,  8.,  9., 10.])"
      ]
     },
     "execution_count": 15,
     "metadata": {},
     "output_type": "execute_result"
    }
   ],
   "source": [
    "np.linspace(1, 10, 10, endpoint=True) #  시작, 종료, 갯수, 마지막 포함여부"
   ]
  },
  {
   "cell_type": "code",
   "execution_count": 17,
   "id": "98e0790c-69c5-47c1-b6af-d273f58a2e43",
   "metadata": {},
   "outputs": [
    {
     "data": {
      "text/plain": [
       "(array([ 1.   ,  2.125,  3.25 ,  4.375,  5.5  ,  6.625,  7.75 ,  8.875,\n",
       "        10.   ]),\n",
       " 1.125)"
      ]
     },
     "execution_count": 17,
     "metadata": {},
     "output_type": "execute_result"
    }
   ],
   "source": [
    "## 1 ~ 10 사이의 수를 9개 추출, 종료값을 포함시키며, 샘플 간격 출력 \n",
    "np.linspace(1, 10, 9, endpoint=True, retstep=True)"
   ]
  },
  {
   "cell_type": "code",
   "execution_count": null,
   "id": "bee69544-c0a5-445e-a287-ee182195dee2",
   "metadata": {},
   "outputs": [],
   "source": []
  },
  {
   "cell_type": "markdown",
   "id": "1766fc96-0677-4211-ab3a-61b9c49fe686",
   "metadata": {},
   "source": [
    "## 행렬 정의 "
   ]
  },
  {
   "cell_type": "code",
   "execution_count": null,
   "id": "6b67fd73-60ca-423f-b62d-14f75a2f55f9",
   "metadata": {},
   "outputs": [],
   "source": [
    "행렬의 크기 : 행 x 열    \n",
    "숫자를 직사각형 모양으로 배열해 놓은 것\n",
    "행렬을 구성하는 숫자를 원소라고 함\n",
    "\n",
    "행벡터 : 하나의 행으로 구성된 행렬   \n",
    "열벡터 : 하나의 열로 구성된 행렬   \n"
   ]
  },
  {
   "cell_type": "code",
   "execution_count": null,
   "id": "a65df9aa-f730-4801-ba33-bd51f29fc533",
   "metadata": {},
   "outputs": [],
   "source": [
    "# 2 x 3 행렬"
   ]
  },
  {
   "cell_type": "code",
   "execution_count": 25,
   "id": "178842f9-cebe-4239-85bc-13edbdf63405",
   "metadata": {},
   "outputs": [
    {
     "data": {
      "text/plain": [
       "array([[1, 2, 3],\n",
       "       [4, 5, 6]])"
      ]
     },
     "execution_count": 25,
     "metadata": {},
     "output_type": "execute_result"
    }
   ],
   "source": [
    "a = np.array([[1,2,3], [4,5,6]])\n",
    "a"
   ]
  },
  {
   "cell_type": "code",
   "execution_count": null,
   "id": "e4f41361-7bbc-4bb2-bb6a-050f942f56e8",
   "metadata": {},
   "outputs": [],
   "source": [
    "## 벡터의 연산\n",
    "### 벡터의 크기"
   ]
  },
  {
   "cell_type": "markdown",
   "id": "f0ffe182-55b0-4e60-a98d-61f35458712e",
   "metadata": {},
   "source": [
    "->\n",
    "r  =  √x1^2 + x2^2 + ... \n",
    "np.sqrt(np.pow(r[0], 2) + np.pow(r[1], 2) + ...)\n",
    "\n",
    "\n",
    "벡터의 절대값이 벡터의 크기이다 \n",
    "\n",
    "벡터의 크기를 계산 = 벡터의 제곱 합에 제곱근 "
   ]
  },
  {
   "cell_type": "code",
   "execution_count": 29,
   "id": "f415865b-db27-4f17-ba3c-937c378958f6",
   "metadata": {},
   "outputs": [
    {
     "name": "stdout",
     "output_type": "stream",
     "text": [
      "[5 4 3 2 1]\n"
     ]
    }
   ],
   "source": [
    "r = np.arange(5, 0, -1)\n",
    "print(r)"
   ]
  },
  {
   "cell_type": "markdown",
   "id": "fda4dd2d-f0f2-4f7d-bb32-66b397320849",
   "metadata": {},
   "source": [
    "### 손으로 계산하기"
   ]
  },
  {
   "cell_type": "markdown",
   "id": "8259cb45-fe64-4a93-9b57-2d4956cd3723",
   "metadata": {},
   "source": [
    "1. 각 요소의 제곱의 값을 더해서\n",
    "5^2 + 4^2 + 3^2 + 2^2 + 1^2\n",
    "25 + 16 + 9 + 4 + 1\n",
    "55"
   ]
  },
  {
   "cell_type": "markdown",
   "id": "04601531-b253-4bde-9a65-7dfa35093e4b",
   "metadata": {},
   "source": [
    "2. 제곱근을 구한다."
   ]
  },
  {
   "cell_type": "code",
   "execution_count": 46,
   "id": "8e801947-d12f-428e-b879-6422bbce99ec",
   "metadata": {},
   "outputs": [
    {
     "data": {
      "text/plain": [
       "7.416198487095663"
      ]
     },
     "execution_count": 46,
     "metadata": {},
     "output_type": "execute_result"
    }
   ],
   "source": [
    "np.sqrt(55)"
   ]
  },
  {
   "cell_type": "code",
   "execution_count": null,
   "id": "141b19ef-79c4-4ef3-aa73-d1838ce586c4",
   "metadata": {},
   "outputs": [],
   "source": [
    "### 넘파이 함수 사용해서 계산하기 "
   ]
  },
  {
   "cell_type": "code",
   "execution_count": 35,
   "id": "4508e639-814a-4740-b71d-b86551a1441d",
   "metadata": {},
   "outputs": [
    {
     "name": "stdout",
     "output_type": "stream",
     "text": [
      "스칼라 : 7.416198487095663\n"
     ]
    }
   ],
   "source": [
    "vector_size = np.sqrt(np.power(r[0], 2) + np.power(r[1], 2) + np.power(r[2], 2) + np.power(r[3], 2) + np.power(r[4], 2))\n",
    "print(\"스칼라 :\", vector_size)"
   ]
  },
  {
   "cell_type": "code",
   "execution_count": null,
   "id": "5be72d74-7343-4ee5-a721-ce00a2d4cca3",
   "metadata": {},
   "outputs": [],
   "source": [
    "### 선형대수함수로 계산하기 "
   ]
  },
  {
   "cell_type": "code",
   "execution_count": 39,
   "id": "4c7e9f97-95a4-49d0-b186-9e5428dcdb81",
   "metadata": {},
   "outputs": [
    {
     "data": {
      "text/plain": [
       "7.416198487095663"
      ]
     },
     "execution_count": 39,
     "metadata": {},
     "output_type": "execute_result"
    }
   ],
   "source": [
    "np.linalg.norm(r)"
   ]
  },
  {
   "cell_type": "markdown",
   "id": "63284404-4a75-4b9d-af13-90aea06fa5e3",
   "metadata": {},
   "source": [
    "벡터의 크기를 계산 = 벡터의 곱에 제곱근 \n",
    "cross 연산 : r x r 외적\n",
    "dot연산 : r · r 내적.. 대응대는 요소끼리 곱 "
   ]
  },
  {
   "cell_type": "code",
   "execution_count": 52,
   "id": "040b59e5-ca91-4a76-bd1e-ebc2fdf8b2e8",
   "metadata": {},
   "outputs": [
    {
     "data": {
      "text/plain": [
       "55"
      ]
     },
     "execution_count": 52,
     "metadata": {},
     "output_type": "execute_result"
    }
   ],
   "source": [
    "np.dot(r, r)"
   ]
  },
  {
   "cell_type": "markdown",
   "id": "6e7d20ff-e374-4bbb-8213-b0ffc1a15eb3",
   "metadata": {},
   "source": [
    "r = 5 4 3 2 1 \n",
    "    x x x x x \n",
    "r = 5 4 3 2 1 \n",
    "\n",
    "dot결과는 55"
   ]
  },
  {
   "cell_type": "code",
   "execution_count": 56,
   "id": "d797ea38-6a75-4cf6-bfa7-b83d3077afe1",
   "metadata": {},
   "outputs": [],
   "source": [
    "## 최종 벡터 크기 결과 "
   ]
  },
  {
   "cell_type": "code",
   "execution_count": 58,
   "id": "56343ef4-7c35-407a-948a-ad6b8337b723",
   "metadata": {},
   "outputs": [
    {
     "data": {
      "text/plain": [
       "7.416198487095663"
      ]
     },
     "execution_count": 58,
     "metadata": {},
     "output_type": "execute_result"
    }
   ],
   "source": [
    "np.sqrt(np.dot(r, r))"
   ]
  },
  {
   "cell_type": "code",
   "execution_count": null,
   "id": "875d2a24-35a9-4b71-bc5b-8076e5033765",
   "metadata": {},
   "outputs": [],
   "source": []
  },
  {
   "cell_type": "code",
   "execution_count": 62,
   "id": "7d8023d0-057e-4e62-a485-e2c326604158",
   "metadata": {},
   "outputs": [
    {
     "name": "stdout",
     "output_type": "stream",
     "text": [
      "[6 8]\n",
      "[6 8]\n"
     ]
    }
   ],
   "source": [
    "a = np.array([1,2])\n",
    "b = np.array([5,6])\n",
    "\n",
    "print(a + b)\n",
    "print(np.add(a, b))\n",
    "\n"
   ]
  },
  {
   "cell_type": "code",
   "execution_count": 64,
   "id": "a6002e61-de93-42ee-b736-ad95edb191c4",
   "metadata": {},
   "outputs": [
    {
     "name": "stdout",
     "output_type": "stream",
     "text": [
      "[-4 -4]\n",
      "[-4 -4]\n"
     ]
    }
   ],
   "source": [
    "print(a - b)\n",
    "print(np.subtract(a, b))"
   ]
  },
  {
   "cell_type": "code",
   "execution_count": 66,
   "id": "4fa15965-6dc9-40d5-981b-4fdb9a5ed25b",
   "metadata": {},
   "outputs": [
    {
     "name": "stdout",
     "output_type": "stream",
     "text": [
      "[ 5 12]\n",
      "[ 5 12]\n"
     ]
    }
   ],
   "source": [
    "print(a * b)\n",
    "print(np.multiply(a, b))"
   ]
  },
  {
   "cell_type": "markdown",
   "id": "81c42d1b-9f9c-4e61-b47c-b93c9ec4342a",
   "metadata": {},
   "source": [
    "a [1, 2]\n",
    "b [5, 6]\n",
    "a * b \n",
    "1x5 2x6\n",
    "a dot b = 5 + 12 (scalar)"
   ]
  },
  {
   "cell_type": "code",
   "execution_count": null,
   "id": "5574a116-f965-45ac-98fd-5af8e912e9a0",
   "metadata": {},
   "outputs": [],
   "source": []
  },
  {
   "cell_type": "code",
   "execution_count": null,
   "id": "4fc8cfe1-fcc2-4854-9e6e-a46058da31b7",
   "metadata": {},
   "outputs": [],
   "source": [
    "## 벡터의 내적 \n",
    "벡터의 내적은 dot함수 또는 @연산자를 이용할 수 있다"
   ]
  },
  {
   "cell_type": "code",
   "execution_count": 72,
   "id": "7809079d-1f6d-46ff-932d-0a969e894a9b",
   "metadata": {},
   "outputs": [
    {
     "data": {
      "text/plain": [
       "17"
      ]
     },
     "execution_count": 72,
     "metadata": {},
     "output_type": "execute_result"
    }
   ],
   "source": [
    "np.dot(a, b)"
   ]
  },
  {
   "cell_type": "code",
   "execution_count": 74,
   "id": "3db40c75-eb5d-48d3-99d1-f9687125f4a6",
   "metadata": {},
   "outputs": [
    {
     "data": {
      "text/plain": [
       "17"
      ]
     },
     "execution_count": 74,
     "metadata": {},
     "output_type": "execute_result"
    }
   ],
   "source": [
    "a@b"
   ]
  },
  {
   "cell_type": "markdown",
   "id": "bbcbb490-6fa1-46fd-938a-c4a8c596d9ad",
   "metadata": {},
   "source": [
    "## 벡터의 외적 \n",
    "외적의 결과는 벡터이다 \n",
    "a x b = np.cross(a, b)"
   ]
  },
  {
   "cell_type": "code",
   "execution_count": 76,
   "id": "84542b02-8326-424a-a12a-4ba916e00886",
   "metadata": {},
   "outputs": [
    {
     "data": {
      "text/plain": [
       "array(-4)"
      ]
     },
     "execution_count": 76,
     "metadata": {},
     "output_type": "execute_result"
    }
   ],
   "source": [
    "np.cross(a, b)"
   ]
  },
  {
   "cell_type": "code",
   "execution_count": null,
   "id": "96353e11-5d83-4d1a-9e9f-f11f765bcabb",
   "metadata": {},
   "outputs": [],
   "source": [
    "(1 x 6) - ( 2 x 5 ) = -4 "
   ]
  },
  {
   "cell_type": "code",
   "execution_count": null,
   "id": "88fd2918-7369-4c4c-9fb4-37634d55449a",
   "metadata": {},
   "outputs": [],
   "source": []
  },
  {
   "cell_type": "markdown",
   "id": "5f8da2d3-0403-4ca5-bf7a-4e841c054470",
   "metadata": {},
   "source": [
    "## 행렬의 연산 \n",
    "벡터 연산과 동일하다\n",
    "\n",
    "행렬 곱셈의 법칙 \n",
    "1. 교환법칙이 성립하지 않는다.\n",
    "\n",
    "A (3*2)\n",
    "0 0\n",
    "0 0\n",
    "0 0\n",
    "\n",
    "B (2*2)\n",
    "0 0\n",
    "0 0\n",
    "\n",
    "첫번째 행렬의 열의 값과 두번째 행렬의 행의 값이 같아야 연산이 가능하다.\n",
    "=> A(3*2) * B(2*2) 연산 가능   \n",
    "=> B(2*2) * A(3*2) 연산 불가능\n",
    "A * B != B * A \n",
    "\n",
    "2. 결합법칙은 성립한다\n",
    "(A*B)*C = A*(B*C)\n",
    "A(3*2) * B(2*4) => 3 * 4의 행렬\n",
    "\n",
    "분배법칙이 성립한다.\n",
    "(A+B)*C = A*C + B*C\n",
    "\n",
    "\n"
   ]
  },
  {
   "cell_type": "markdown",
   "id": "dcb0516c-0c0b-4091-86a9-2bb847faef80",
   "metadata": {},
   "source": [
    "## 전치행렬\n",
    "원소들의 행 인덱스와 열 인덱스를 바꾸는 작업 \n",
    "\n",
    "A(2*3) * B(2*3)이라고할 때 \n",
    "B를 전치를 시켜 \n",
    "3*2 2*3으로 만들어준다 \n"
   ]
  },
  {
   "cell_type": "markdown",
   "id": "ab1abfdd-79f9-49ee-a30b-4c444fd5a198",
   "metadata": {},
   "source": [
    "## 항등행렬(Identity matrix)\n",
    "단위행렬(unit matrix)이라고도 하며 \n",
    "\n",
    "3*3 행렬에서 \n",
    "\n",
    "0 0 0 \n",
    "0 0 0\n",
    "0 0 0\n",
    "\n",
    "대각선이 1인 행렬\n",
    "\n",
    "1 0 0 \n",
    "0 1 0\n",
    "0 0 1\n",
    "\n",
    "특정 행렬과 곱하면 특정행렬을 그대로 출력해주는 행렬 \n"
   ]
  },
  {
   "cell_type": "code",
   "execution_count": 78,
   "id": "49008af9-b2f4-46d9-ab5f-809f0e43fa27",
   "metadata": {},
   "outputs": [
    {
     "data": {
      "text/plain": [
       "array([[1., 0., 0.],\n",
       "       [0., 1., 0.],\n",
       "       [0., 0., 1.]])"
      ]
     },
     "execution_count": 78,
     "metadata": {},
     "output_type": "execute_result"
    }
   ],
   "source": [
    "np.eye(3)"
   ]
  },
  {
   "cell_type": "markdown",
   "id": "3093f053-b4ec-4585-b245-1865844fbc1e",
   "metadata": {},
   "source": [
    "## 역행렬(Inverse matrix)\n",
    "\n",
    "특정 행렬과 곱하면 항등행렬(I)이 결과로 나온다.   \n",
    "\n",
    "C * A = I or A * C = I\n",
    "\n",
    "C는 A의 역행렬 \n",
    "\n",
    "A * A<sup>-1</sup> = I"
   ]
  },
  {
   "cell_type": "markdown",
   "id": "db76ccd0-8390-4916-b20d-7875110a81ce",
   "metadata": {},
   "source": [
    "A   \n",
    "a b   \n",
    "c d   \n",
    "\n",
    "A<sup>-1</sup>    \n",
    "d -b     \n",
    "-c a    \n",
    "\n",
    "1 / ad - bc"
   ]
  },
  {
   "cell_type": "markdown",
   "id": "6fd985df-6c40-4969-9310-9e8ad14840a7",
   "metadata": {},
   "source": [
    "정사각 행렬일 경우에만 가능하다"
   ]
  },
  {
   "cell_type": "code",
   "execution_count": 111,
   "id": "3695b6eb-d5b2-4be8-984c-301d72498aae",
   "metadata": {},
   "outputs": [],
   "source": [
    "A = np.array([[1,2],[4,5]])\n",
    "invA = np.linalg.inv(A)"
   ]
  },
  {
   "cell_type": "code",
   "execution_count": 113,
   "id": "aab16168-54e9-497a-9483-93454d518137",
   "metadata": {},
   "outputs": [
    {
     "data": {
      "text/plain": [
       "array([[1., 0.],\n",
       "       [0., 1.]])"
      ]
     },
     "execution_count": 113,
     "metadata": {},
     "output_type": "execute_result"
    }
   ],
   "source": [
    "np.dot(A, invA) ## 단위행렬이 나온다 "
   ]
  },
  {
   "cell_type": "markdown",
   "id": "db922eec-f674-4338-8263-4241071177e1",
   "metadata": {},
   "source": [
    "## 행렬과 벡터의 곱셈"
   ]
  },
  {
   "cell_type": "code",
   "execution_count": 149,
   "id": "5e6df404-0bec-4991-a024-3974f08ae2a8",
   "metadata": {},
   "outputs": [],
   "source": [
    "A = np.array([[1,2,3], [4,5,6], [7,8,9]]) #  3 * 3\n",
    "x = np.array([10,20,30]) #  1 * 3"
   ]
  },
  {
   "cell_type": "code",
   "execution_count": 145,
   "id": "dded8dae-558e-4278-b8b1-42604d16e81a",
   "metadata": {},
   "outputs": [
    {
     "name": "stdout",
     "output_type": "stream",
     "text": [
      "[[1 2 3]\n",
      " [4 5 6]\n",
      " [7 8 9]]\n",
      "[10 20 30]\n"
     ]
    }
   ],
   "source": [
    "print(A)\n",
    "print(x)"
   ]
  },
  {
   "cell_type": "code",
   "execution_count": 147,
   "id": "b5dd94c2-b1e0-42dc-ad8d-2ee01f590d37",
   "metadata": {},
   "outputs": [
    {
     "data": {
      "text/plain": [
       "array([140, 320, 500])"
      ]
     },
     "execution_count": 147,
     "metadata": {},
     "output_type": "execute_result"
    }
   ],
   "source": [
    "np.dot(A, x)"
   ]
  },
  {
   "cell_type": "code",
   "execution_count": 137,
   "id": "43c54a58-3d2b-459e-8300-816abc4b5f73",
   "metadata": {},
   "outputs": [
    {
     "name": "stdout",
     "output_type": "stream",
     "text": [
      "140\n",
      "320\n",
      "500\n"
     ]
    }
   ],
   "source": [
    "\n",
    "# 1 2 3  10 20 30\n",
    "# 4 6 7  \n",
    "# 7 8 9 \n",
    "\n",
    "print((1 * 10) + (2 * 20) + (3 * 30))\n",
    "print((4 * 10) + (5 * 20) + (6 * 30))\n",
    "print((7 * 10) + (8 * 20) + (9 * 30))  \n"
   ]
  },
  {
   "cell_type": "code",
   "execution_count": 159,
   "id": "a0a7cbfb-de48-423c-b7ed-457df61d2d68",
   "metadata": {},
   "outputs": [
    {
     "name": "stdout",
     "output_type": "stream",
     "text": [
      "[1 4 7]\n"
     ]
    },
    {
     "data": {
      "text/plain": [
       "array([140, 320, 500])"
      ]
     },
     "execution_count": 159,
     "metadata": {},
     "output_type": "execute_result"
    }
   ],
   "source": [
    "v1 = A[:,0] #  1, 4, 7 : 첫 번째 행  \n",
    "v2 = A[:,1] #  2, 5, 8\n",
    "v3 = A[:,2] #  3, 6, 0\n",
    "print(v1)\n",
    "np.dot(x[0], v1) + np.dot(x[1], v2) + np.dot(x[2], v3)"
   ]
  },
  {
   "cell_type": "markdown",
   "id": "3711b617-9fb0-45dd-b612-88600c8962e8",
   "metadata": {},
   "source": [
    "크기가 다른 행렬 간의 곱\n",
    "\n",
    "m x n, n x p일때 n의 값이 같아야한다    \n",
    "=> m x p 의 형태로 출력된다   \n",
    "\n"
   ]
  },
  {
   "cell_type": "code",
   "execution_count": 161,
   "id": "4fd47335-63c8-4888-973d-7a01ff05c349",
   "metadata": {},
   "outputs": [
    {
     "name": "stdout",
     "output_type": "stream",
     "text": [
      "[[1 2 3]\n",
      " [4 5 6]]\n",
      "[[1 2]\n",
      " [3 4]\n",
      " [5 6]]\n"
     ]
    }
   ],
   "source": [
    "A = np.array([[1,2,3], [4,5,6]]) #  2 * 3\n",
    "B = np.array([[1,2],[3,4,],[5,6]]) #  3 * 2 => 2 * 2 형태로 \n",
    "\n",
    "print(A)\n",
    "print(B)"
   ]
  },
  {
   "cell_type": "code",
   "execution_count": 163,
   "id": "18c6d8c7-8038-46f6-ab1b-3fe8433ffb15",
   "metadata": {},
   "outputs": [
    {
     "data": {
      "text/plain": [
       "array([[22, 28],\n",
       "       [49, 64]])"
      ]
     },
     "execution_count": 163,
     "metadata": {},
     "output_type": "execute_result"
    }
   ],
   "source": [
    "np.dot(A, B)"
   ]
  },
  {
   "cell_type": "markdown",
   "id": "4c5ce92f-b1b4-472c-9dab-48c2486a9830",
   "metadata": {},
   "source": [
    "1 2 3   1 2 \n",
    "4 5 6   3 4\n",
    "        5 6\n",
    "\n",
    "[1 2 3][1 3 5] = 1 + 6 + 15 => 22\n",
    "[4 5 6][1 3 5] = 4 + 15 + 30 => 49\n",
    "\n",
    "[1 2 3][2 4 6] = 2 + 8 + 18 => 28\n",
    "[4 5 6][2 4 6] = 8 + 20 + 36 => 64\n"
   ]
  },
  {
   "cell_type": "code",
   "execution_count": null,
   "id": "4e7d4623-1881-4a5f-8114-ef82596807ce",
   "metadata": {},
   "outputs": [],
   "source": [
    "## 스칼라와 벡터의 곱 "
   ]
  },
  {
   "cell_type": "code",
   "execution_count": 173,
   "id": "cba07c41-5f9d-42e3-b4a9-f464ab6127d5",
   "metadata": {},
   "outputs": [
    {
     "name": "stdout",
     "output_type": "stream",
     "text": [
      "[[10]\n",
      " [20]\n",
      " [30]]\n"
     ]
    }
   ],
   "source": [
    "#  3행 1열 벡터\n",
    "v = np.array([[1], [2], [3]]) # 열이 하나 : 열벡터 \n",
    "a = 10\n",
    "print(v*a)"
   ]
  },
  {
   "cell_type": "code",
   "execution_count": 171,
   "id": "c6fa4018-c314-493b-8985-dc955b9be88a",
   "metadata": {},
   "outputs": [
    {
     "data": {
      "text/plain": [
       "array([[10],\n",
       "       [20],\n",
       "       [30]])"
      ]
     },
     "execution_count": 171,
     "metadata": {},
     "output_type": "execute_result"
    }
   ],
   "source": [
    "np.dot(v, a)"
   ]
  },
  {
   "cell_type": "markdown",
   "id": "997b1b57-c4f4-4d37-9ac2-746ddedd9875",
   "metadata": {},
   "source": [
    "## 선형연립방정식 \n",
    "\n",
    "a<sub>1</sub>x<sub>1</sub> + a<sub>2</sub>x<sub>2</sub> + a<sub>3</sub>x<sub>3</sub> = b   \n",
    "a<sub>1</sub>x<sub>1</sub> + a<sub>2</sub>x<sub>2</sub> + a<sub>3</sub>x<sub>3</sub> = b   \n",
    "a<sub>1</sub>x<sub>1</sub> + a<sub>2</sub>x<sub>2</sub> + a<sub>3</sub>x<sub>3</sub> = b   \n"
   ]
  },
  {
   "cell_type": "markdown",
   "id": "6318a9b6-9640-4f21-b09b-0842e0e65b01",
   "metadata": {},
   "source": [
    "\n",
    "전치가 필요 \n",
    "```\n",
    "[a1, a2, a3] [x1, x2, x3]\n",
    "```\n",
    "```\n",
    "[a1, a2, a3] [x1,\n",
    "              x2,\n",
    "              x3]\n",
    "```\n",
    "\n",
    "\n",
    "\n",
    "\n"
   ]
  },
  {
   "cell_type": "markdown",
   "id": "efb81059-8ff1-4369-923b-02871b4c10a7",
   "metadata": {},
   "source": [
    "ax = b\n",
    "해를 구하기위해 역행렬을 곱한다 \n",
    "\n",
    "a-1ax = ba-1\n",
    "x = ba-1"
   ]
  },
  {
   "cell_type": "code",
   "execution_count": null,
   "id": "99ab55fa-0ebf-4ded-9cb1-a9b8cf1849ff",
   "metadata": {},
   "outputs": [],
   "source": []
  },
  {
   "cell_type": "code",
   "execution_count": null,
   "id": "8c2b285c-89ed-4e7e-b458-7e3b555f70b2",
   "metadata": {},
   "outputs": [],
   "source": []
  },
  {
   "cell_type": "markdown",
   "id": "72817dd8-a596-4896-b481-9fb5d2c159be",
   "metadata": {},
   "source": [
    "4·x1 + 3·x2 = 23\n",
    "3·x1 + 2·x2 = 16"
   ]
  },
  {
   "cell_type": "code",
   "execution_count": 214,
   "id": "5cb6d0ee-a7ef-481c-9866-b8f20c87ae3f",
   "metadata": {},
   "outputs": [
    {
     "name": "stdout",
     "output_type": "stream",
     "text": [
      "[2. 5.]\n"
     ]
    }
   ],
   "source": [
    "A = np.array([[4,3], [3,2]])\n",
    "b = np.array([23, 16])\n",
    "invA = np.linalg.inv(A)\n",
    "x = np.dot(b, invA)\n",
    "print(x)\n",
    "\n",
    "# A x A-1 = I 항등, 단위행렬 \n",
    "\n"
   ]
  },
  {
   "cell_type": "markdown",
   "id": "b8a027be-da03-4463-a57b-6897813e5f73",
   "metadata": {},
   "source": [
    "## solve\n",
    "solve함수를 이용하면 해를 바로 구할 수 있다."
   ]
  },
  {
   "cell_type": "code",
   "execution_count": 212,
   "id": "f78c25b8-3d44-4f7a-a9c3-f06bcca5ecb5",
   "metadata": {},
   "outputs": [
    {
     "name": "stdout",
     "output_type": "stream",
     "text": [
      "[2. 5.]\n"
     ]
    }
   ],
   "source": [
    "x = np.linalg.solve(A, b)\n",
    "print(x)"
   ]
  },
  {
   "cell_type": "code",
   "execution_count": null,
   "id": "03c528c7-7941-4872-a191-9b256571d8da",
   "metadata": {},
   "outputs": [],
   "source": [
    "1 x1 + 4 x2 + 3 x3 = 23\n",
    "1 x1 + 3 x2 + 2 x3 = 16\n",
    "\n",
    "방정식 2개, 미지수 3개 => lstsq를 사용한다 "
   ]
  },
  {
   "cell_type": "code",
   "execution_count": null,
   "id": "2ebe59ef-c959-4d4b-bd71-029de07f7936",
   "metadata": {},
   "outputs": [],
   "source": [
    "linalg.solve와 linalg.lstsq 함수는 연립방정식의 해를 구한다.\n",
    "차이점은 \n",
    "\n",
    "linalg.solve : 미지수 개수와 방정식의 개수가 같을 때 사용\n",
    "linalg.lstsq : 미지수 개수와 방정식의 개수가 다를 때 사용"
   ]
  },
  {
   "cell_type": "code",
   "execution_count": null,
   "id": "d2c0a034-d17a-401a-9c95-779ff648162d",
   "metadata": {},
   "outputs": [],
   "source": [
    "# x = np.linalg.solve(A, b) #  미지수 개수와, 방정식의 개수가 다르기때문에 오류 출력"
   ]
  },
  {
   "cell_type": "code",
   "execution_count": 224,
   "id": "8d7773fa-41d0-4aa3-83c2-684d689ca9b0",
   "metadata": {},
   "outputs": [
    {
     "name": "stdout",
     "output_type": "stream",
     "text": [
      "Solution: [-1.  3.  4.]\n",
      "Residuals: []\n",
      "Rank: 2\n",
      "Singular values: [6.3186121  0.27411887]\n"
     ]
    }
   ],
   "source": [
    "A1 = np.array([\n",
    "    [1 ,4, 3],\n",
    "    [1, 3, 2]\n",
    "])\n",
    "\n",
    "b1 = np.array([23, 16])\n",
    "\n",
    "x1, residuals, rank, s = np.linalg.lstsq(A1, b1, rcond=None)\n",
    "print(\"Solution:\", x1)\n",
    "print(\"Residuals:\", residuals)\n",
    "print(\"Rank:\", rank)\n",
    "print(\"Singular values:\", s)\n"
   ]
  }
 ],
 "metadata": {
  "kernelspec": {
   "display_name": "Python [conda env:base] *",
   "language": "python",
   "name": "conda-base-py"
  },
  "language_info": {
   "codemirror_mode": {
    "name": "ipython",
    "version": 3
   },
   "file_extension": ".py",
   "mimetype": "text/x-python",
   "name": "python",
   "nbconvert_exporter": "python",
   "pygments_lexer": "ipython3",
   "version": "3.12.7"
  }
 },
 "nbformat": 4,
 "nbformat_minor": 5
}
