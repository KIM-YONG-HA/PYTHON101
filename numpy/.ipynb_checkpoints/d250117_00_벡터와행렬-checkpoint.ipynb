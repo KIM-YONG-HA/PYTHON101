{
 "cells": [
  {
   "cell_type": "code",
   "execution_count": 1,
   "id": "f0cad02d-c830-4a7c-a447-6e805630da2a",
   "metadata": {},
   "outputs": [],
   "source": [
    "# 백터와 행렬"
   ]
  },
  {
   "cell_type": "markdown",
   "id": "5e22bb54-2cf4-485b-a33c-004bbbbed3d1",
   "metadata": {},
   "source": [
    "## vector\n",
    "크기와 방향을 가진 수의 집합\n",
    "벡터를 이루는 숫자 성분을 스칼라라고 하며, 열벡터와 행백터로 나뉜다.\n",
    "선형대수(linalg)에서 기본적으로 열 벡터로 표현한다.\n",
    "크기가 1인 벡터를 단위벡터, 모든 원소가 0인 벡터를 영벡터라고 한다.\n",
    "벡터를 구분하기 위해서 대괄호를 사용 \n",
    "array함수를 사용해서 생성한 1차원 배열로 벡터를 나타낸다.\n",
    "\n",
    "\n",
    "좌표평면 (0,0) => 원점\n",
    "x가 3, y가 2일때 벡터는 [3,2]로 표현하고 \n",
    "0,0에서 3,2 까지가 크기이다. \n",
    "\n",
    "시점 : 벡터의 시작점\n",
    "종점 : 벡터의 종료점\n",
    "\n",
    "시점을 원점으로 옮겼을 때 크기와 방향만 같다면 같다\n",
    "\n",
    "→\n",
    "a\n",
    "\n",
    " \n",
    "열 벡터\n",
    "[\n",
    "    [3],\n",
    "    [2],\n",
    "    [5]\n",
    "]\n",
    "\n",
    "행 벡터??\n",
    "[ [3,2,5] ]\n",
    " \n",
    "\n"
   ]
  },
  {
   "cell_type": "markdown",
   "id": "a15b3c0f-0995-4865-a97b-86b049ed0560",
   "metadata": {},
   "source": [
    "## 행렬\n",
    "크기만 가진 행과 열로 구성된 수의 집합 \n",
    "array함수를 사용해서 생성한 2차원 배열로 행렬을 나타낸다.\n",
    "인덱스는 0부터 시작 \n",
    "행렬 표기는 대괄호를 사용하여 나열한다.\n",
    "\n",
    "정사각행렬: n x n \n",
    "```\n",
    "1 2\n",
    "3 4\n",
    "\n",
    "1 2 3\n",
    "4 5 6\n",
    "7 8 9 \n",
    "```\n",
    "\n",
    "대각행렬 : 대각선을 제외한 모든 원소가 0 \n",
    "\n",
    "```\n",
    "1 0 0\n",
    "0 5 0\n",
    "0 0 9\n",
    "```\n",
    "\n",
    "\n",
    "단위행렬(항등행렬) : 대각선의 원소가 1인 행렬 \n",
    "```\n",
    "1 0 0\n",
    "0 1 0\n",
    "0 0 1\n",
    "```\n",
    "\n",
    "삼각행렬 : 주 대각선의 기준으로 위 또는 아래의 모든 원소가 0인 행렬 \n",
    "\n"
   ]
  },
  {
   "cell_type": "code",
   "execution_count": 4,
   "id": "a7e77cb3-fe1f-4803-ae3c-27badcef0a88",
   "metadata": {},
   "outputs": [
    {
     "name": "stdout",
     "output_type": "stream",
     "text": [
      "[0 1 2 3 4 5 6 7 8 9]\n"
     ]
    }
   ],
   "source": [
    "import numpy as np\n",
    "cvt = np.arange(10)\n",
    "print(cvt)"
   ]
  },
  {
   "cell_type": "code",
   "execution_count": 5,
   "id": "020eb74d-000e-4dfe-ab4e-0595e9780504",
   "metadata": {},
   "outputs": [
    {
     "name": "stdout",
     "output_type": "stream",
     "text": [
      "(10, 1)\n",
      "[[0]\n",
      " [1]\n",
      " [2]\n",
      " [3]\n",
      " [4]\n",
      " [5]\n",
      " [6]\n",
      " [7]\n",
      " [8]\n",
      " [9]]\n"
     ]
    }
   ],
   "source": [
    "## 열벡터 생성 \n",
    "cvt.shape = (len(cvt), 1)\n",
    "print(cvt.shape)\n",
    "print(cvt)"
   ]
  },
  {
   "cell_type": "code",
   "execution_count": 6,
   "id": "abefc3aa-4f8c-48ad-9279-a04cd9e2e866",
   "metadata": {},
   "outputs": [
    {
     "name": "stdout",
     "output_type": "stream",
     "text": [
      "(10, 1)\n",
      "[[0]\n",
      " [1]\n",
      " [2]\n",
      " [3]\n",
      " [4]\n",
      " [5]\n",
      " [6]\n",
      " [7]\n",
      " [8]\n",
      " [9]]\n"
     ]
    }
   ],
   "source": [
    "cvt.resize(len(cvt), 1)\n",
    "print(cvt.shape)\n",
    "print(cvt)"
   ]
  },
  {
   "cell_type": "code",
   "execution_count": 9,
   "id": "41c71c4c-da2d-479e-9fb8-c09052fb18e1",
   "metadata": {},
   "outputs": [
    {
     "name": "stdout",
     "output_type": "stream",
     "text": [
      "(1, 10)\n",
      "[[0 1 2 3 4 5 6 7 8 9]]\n",
      "2\n"
     ]
    }
   ],
   "source": [
    "#  행벡터\n",
    "cvt.shape = (1, len(cvt))\n",
    "print(cvt.shape)\n",
    "print(cvt)\n",
    "print(cvt.ndim)"
   ]
  },
  {
   "cell_type": "code",
   "execution_count": null,
   "id": "e54c029e-7c25-4b72-8864-f382ff213187",
   "metadata": {},
   "outputs": [],
   "source": [
    "## linespace함수 이용 "
   ]
  },
  {
   "cell_type": "code",
   "execution_count": 13,
   "id": "8bde20b9-16d1-45f2-a89e-36484c59169c",
   "metadata": {},
   "outputs": [
    {
     "data": {
      "text/plain": [
       "array([1. , 1.9, 2.8, 3.7, 4.6, 5.5, 6.4, 7.3, 8.2, 9.1])"
      ]
     },
     "execution_count": 13,
     "metadata": {},
     "output_type": "execute_result"
    }
   ],
   "source": [
    "## 1 ~ 10 사이의 수를 10개 추출(종료값을 포함하지 않도록)\n",
    "np.linspace(1, 10, 10, endpoint=False) #  시작, 종료, 갯수, 마지막 포함여부"
   ]
  },
  {
   "cell_type": "code",
   "execution_count": 15,
   "id": "9464e9d8-561f-4ee0-b36f-664603379b86",
   "metadata": {},
   "outputs": [
    {
     "data": {
      "text/plain": [
       "array([ 1.,  2.,  3.,  4.,  5.,  6.,  7.,  8.,  9., 10.])"
      ]
     },
     "execution_count": 15,
     "metadata": {},
     "output_type": "execute_result"
    }
   ],
   "source": [
    "np.linspace(1, 10, 10, endpoint=True) #  시작, 종료, 갯수, 마지막 포함여부"
   ]
  },
  {
   "cell_type": "code",
   "execution_count": 17,
   "id": "98e0790c-69c5-47c1-b6af-d273f58a2e43",
   "metadata": {},
   "outputs": [
    {
     "data": {
      "text/plain": [
       "(array([ 1.   ,  2.125,  3.25 ,  4.375,  5.5  ,  6.625,  7.75 ,  8.875,\n",
       "        10.   ]),\n",
       " 1.125)"
      ]
     },
     "execution_count": 17,
     "metadata": {},
     "output_type": "execute_result"
    }
   ],
   "source": [
    "## 1 ~ 10 사이의 수를 9개 추출, 종료값을 포함시키며, 샘플 간격 출력 \n",
    "np.linspace(1, 10, 9, endpoint=True, retstep=True)"
   ]
  },
  {
   "cell_type": "code",
   "execution_count": null,
   "id": "bee69544-c0a5-445e-a287-ee182195dee2",
   "metadata": {},
   "outputs": [],
   "source": []
  },
  {
   "cell_type": "markdown",
   "id": "1766fc96-0677-4211-ab3a-61b9c49fe686",
   "metadata": {},
   "source": [
    "## 행렬 정의 "
   ]
  }
 ],
 "metadata": {
  "kernelspec": {
   "display_name": "Python [conda env:base] *",
   "language": "python",
   "name": "conda-base-py"
  },
  "language_info": {
   "codemirror_mode": {
    "name": "ipython",
    "version": 3
   },
   "file_extension": ".py",
   "mimetype": "text/x-python",
   "name": "python",
   "nbconvert_exporter": "python",
   "pygments_lexer": "ipython3",
   "version": "3.12.7"
  }
 },
 "nbformat": 4,
 "nbformat_minor": 5
}
