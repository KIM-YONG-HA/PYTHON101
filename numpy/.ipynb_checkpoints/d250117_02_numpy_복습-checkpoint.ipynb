{
 "cells": [
  {
   "cell_type": "code",
   "execution_count": 2,
   "id": "1a69424f-ea07-4c35-8130-ea42311de9b4",
   "metadata": {},
   "outputs": [],
   "source": [
    "import numpy as np"
   ]
  },
  {
   "cell_type": "code",
   "execution_count": 78,
   "id": "1e9dc29a-51e3-4aa8-a169-a81a8bd9cd83",
   "metadata": {},
   "outputs": [
    {
     "name": "stdout",
     "output_type": "stream",
     "text": [
      "[1 2 3 4 5 6 7 8 9]\n"
     ]
    }
   ],
   "source": [
    "b = np.array([i for i in range(1, 10)])\n",
    "print(b)"
   ]
  },
  {
   "cell_type": "code",
   "execution_count": 84,
   "id": "f0ee3ddf-f19b-488f-a834-1aae47023107",
   "metadata": {},
   "outputs": [
    {
     "name": "stdout",
     "output_type": "stream",
     "text": [
      "[[1 2 3]\n",
      " [4 5 6]\n",
      " [7 8 9]]\n",
      "(3, 3)\n",
      "2\n"
     ]
    }
   ],
   "source": [
    "b.resize(3,3)\n",
    "print(b)\n",
    "print(b.shape)\n",
    "print(b.ndim)"
   ]
  },
  {
   "cell_type": "code",
   "execution_count": null,
   "id": "535b65ce-7839-4ba3-b918-cd8ca096f398",
   "metadata": {},
   "outputs": [],
   "source": [
    "## 2차원 전치행렬"
   ]
  },
  {
   "cell_type": "code",
   "execution_count": null,
   "id": "40b5743d-a1cd-4897-9bfa-948954674787",
   "metadata": {},
   "outputs": [],
   "source": [
    "```\n",
    "[\n",
    "    [1,2,3],\n",
    "    [4,5,6],\n",
    "    [7,8,9]\n",
    "]\n",
    "```\n",
    "\n"
   ]
  },
  {
   "cell_type": "code",
   "execution_count": 20,
   "id": "56f01ebe-0554-466e-baab-3c394343225f",
   "metadata": {},
   "outputs": [
    {
     "name": "stdout",
     "output_type": "stream",
     "text": [
      "[[1 4 7]\n",
      " [2 5 8]\n",
      " [3 6 9]]\n"
     ]
    }
   ],
   "source": [
    "b = b.T\n",
    "print(b)"
   ]
  },
  {
   "cell_type": "code",
   "execution_count": 22,
   "id": "0e95fefe-ed1e-4d2e-8dbd-b35eae9d9c3e",
   "metadata": {},
   "outputs": [
    {
     "name": "stdout",
     "output_type": "stream",
     "text": [
      "[[1 4 7]\n",
      " [2 5 8]\n",
      " [3 6 9]]\n"
     ]
    }
   ],
   "source": [
    "print(b)"
   ]
  },
  {
   "cell_type": "code",
   "execution_count": 76,
   "id": "e7d9a37e-b0cc-4ea8-9b06-8d86945424c8",
   "metadata": {},
   "outputs": [
    {
     "name": "stdout",
     "output_type": "stream",
     "text": [
      "(2, 2, 2)\n",
      "[[[1 2]\n",
      "  [3 4]]\n",
      "\n",
      " [[5 6]\n",
      "  [7 8]]]\n",
      "======\n",
      "[[[1 5]\n",
      "  [3 7]]\n",
      "\n",
      " [[2 6]\n",
      "  [4 8]]]\n",
      "======\n"
     ]
    }
   ],
   "source": [
    "arr = np.array([\n",
    "    \n",
    "    [\n",
    "        [1, 2], [3, 4]\n",
    "    ],\n",
    "    \n",
    "    [\n",
    "        [5, 6], [7, 8]\n",
    "    ]\n",
    "])\n",
    "print(arr.shape)\n",
    "print(arr, end='\\n======\\n')\n",
    "print(arr.T, end='\\n======\\n')\n",
    "\n",
    "#print(arr.swapaxes(0, 1), end='\\n======\\n')\n"
   ]
  },
  {
   "cell_type": "code",
   "execution_count": 68,
   "id": "08a577bf-df55-4040-8b2d-e35fd1c31ec1",
   "metadata": {},
   "outputs": [
    {
     "name": "stdout",
     "output_type": "stream",
     "text": [
      "(3, 2, 2)\n",
      "[[[ 1  5  9]\n",
      "  [ 3  7 11]]\n",
      "\n",
      " [[ 2  6 10]\n",
      "  [ 4  8 12]]]\n"
     ]
    }
   ],
   "source": [
    "arr = np.array([\n",
    "    \n",
    "    [\n",
    "        [1, 2], [3, 4]\n",
    "    ],\n",
    "    \n",
    "    [\n",
    "        [5, 6], [7, 8]\n",
    "    ],\n",
    "    [\n",
    "        [9, 10], [11, 12]\n",
    "    ]\n",
    "])\n",
    "print(arr.shape) #  depth:3, row:2, column:2\n",
    "\n"
   ]
  },
  {
   "cell_type": "code",
   "execution_count": 70,
   "id": "87d27d36-e9ec-42d8-a70c-75a45ae1bc14",
   "metadata": {},
   "outputs": [
    {
     "name": "stdout",
     "output_type": "stream",
     "text": [
      "[[[ 1  2]\n",
      "  [ 3  4]]\n",
      "\n",
      " [[ 5  6]\n",
      "  [ 7  8]]\n",
      "\n",
      " [[ 9 10]\n",
      "  [11 12]]]\n"
     ]
    }
   ],
   "source": [
    "print(arr)"
   ]
  },
  {
   "cell_type": "code",
   "execution_count": 74,
   "id": "11be09e4-f729-4c2e-b44e-8c6b74d9174b",
   "metadata": {},
   "outputs": [
    {
     "name": "stdout",
     "output_type": "stream",
     "text": [
      "(2, 2, 3)\n"
     ]
    }
   ],
   "source": [
    "print(arr.T)"
   ]
  }
 ],
 "metadata": {
  "kernelspec": {
   "display_name": "Python [conda env:base] *",
   "language": "python",
   "name": "conda-base-py"
  },
  "language_info": {
   "codemirror_mode": {
    "name": "ipython",
    "version": 3
   },
   "file_extension": ".py",
   "mimetype": "text/x-python",
   "name": "python",
   "nbconvert_exporter": "python",
   "pygments_lexer": "ipython3",
   "version": "3.12.7"
  }
 },
 "nbformat": 4,
 "nbformat_minor": 5
}
