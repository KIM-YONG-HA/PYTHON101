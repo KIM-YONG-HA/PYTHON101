{
 "cells": [
  {
   "cell_type": "markdown",
   "id": "bc354e6b-222c-4072-a3c1-2c3edfcb81f9",
   "metadata": {},
   "source": [
    "# numpy\n",
    "수치해석용 파이썬 라이브러리  \n",
    "ndarray를 이용한 다차원 행렬 자료구조 제공  \n",
    "파이썬 보다 빠른 연산속도  \n",
    "행렬 인덱싱으로 짧고 간결한 코드   \n",
    "다차원 배열, 행렬 연산 가능   \n",
    "파이썬 기반 과학 및 수학 연산 패키지에 활용   "
   ]
  },
  {
   "cell_type": "markdown",
   "id": "2cf126f5-981b-4844-9b08-9822fede5123",
   "metadata": {},
   "source": [
    "## 1차원 배열"
   ]
  },
  {
   "cell_type": "markdown",
   "id": "3ede84b7-e157-4482-8370-69aac2e06f45",
   "metadata": {},
   "source": [
    "## numpy 배열 구조\n",
    "같은 유형의 데이터만 저장   \n",
    "원소 개수 변경 불가   \n",
    "array 클래스 이용하여 생성   \n",
    "ndarray(다차원배열)타입   \n",
    "배열의 차원을 axis(축)이라고 하며, 축의 개수를 rank 라고 함    "
   ]
  },
  {
   "cell_type": "code",
   "execution_count": 4,
   "id": "dd582601-6c74-41b3-9d17-3320689f4e89",
   "metadata": {},
   "outputs": [],
   "source": [
    "import numpy as np"
   ]
  },
  {
   "cell_type": "code",
   "execution_count": 6,
   "id": "8d4ec9b3-9385-4c07-962a-acc21dbcc3b1",
   "metadata": {},
   "outputs": [
    {
     "data": {
      "text/plain": [
       "list"
      ]
     },
     "execution_count": 6,
     "metadata": {},
     "output_type": "execute_result"
    }
   ],
   "source": [
    "a = [1, 2, 3, 4, 5]\n",
    "print(type(a))\n",
    "print(a)"
   ]
  },
  {
   "cell_type": "code",
   "execution_count": 10,
   "id": "d8bf86e3-204b-485c-95a2-6eba4793dd8a",
   "metadata": {},
   "outputs": [
    {
     "name": "stdout",
     "output_type": "stream",
     "text": [
      "<class 'numpy.ndarray'>\n",
      "[1 2 3 4 5]\n"
     ]
    }
   ],
   "source": [
    "arr = np.array(a)\n",
    "print(type(arr))\n",
    "print(arr)"
   ]
  },
  {
   "cell_type": "code",
   "execution_count": 17,
   "id": "ee3da2d0-0061-4133-ad53-6711e97a7a68",
   "metadata": {},
   "outputs": [
    {
     "name": "stdout",
     "output_type": "stream",
     "text": [
      "['1' '2' '3' 'hi']\n",
      "<class 'numpy.str_'>\n"
     ]
    }
   ],
   "source": [
    "arr2 = np.array([1, 2, 3, 'hi'])\n",
    "print(arr2)\n",
    "print(type(arr2[0]))"
   ]
  },
  {
   "cell_type": "markdown",
   "id": "75c6cc47-6a15-4e4f-af7f-71a50a67afe6",
   "metadata": {},
   "source": [
    "같은 유형의 데이터만 저장 가능하기 때문에 모두 str로 변경된다"
   ]
  },
  {
   "cell_type": "code",
   "execution_count": 21,
   "id": "5f921483-5e44-45f5-952d-2c09b4ddb22d",
   "metadata": {},
   "outputs": [
    {
     "data": {
      "text/plain": [
       "dtype('<U11')"
      ]
     },
     "execution_count": 21,
     "metadata": {},
     "output_type": "execute_result"
    }
   ],
   "source": [
    "arr2.dtype"
   ]
  },
  {
   "cell_type": "code",
   "execution_count": null,
   "id": "b6a5fe15-928e-4073-b696-c459353cf0ba",
   "metadata": {},
   "outputs": [],
   "source": [
    "## 차원"
   ]
  },
  {
   "cell_type": "code",
   "execution_count": 29,
   "id": "57800d7d-4a40-4053-b5c0-a62d036aa39f",
   "metadata": {},
   "outputs": [
    {
     "data": {
      "text/plain": [
       "1"
      ]
     },
     "execution_count": 29,
     "metadata": {},
     "output_type": "execute_result"
    }
   ],
   "source": [
    "arr.ndim"
   ]
  },
  {
   "cell_type": "code",
   "execution_count": 27,
   "id": "829a9746-6ad5-4aa1-aba0-1d859afaec1d",
   "metadata": {},
   "outputs": [
    {
     "data": {
      "text/plain": [
       "1"
      ]
     },
     "execution_count": 27,
     "metadata": {},
     "output_type": "execute_result"
    }
   ],
   "source": [
    "np.ndim(arr)"
   ]
  },
  {
   "cell_type": "code",
   "execution_count": 31,
   "id": "6d73356d-f86b-46a6-b93b-00bb1dc9b25a",
   "metadata": {},
   "outputs": [
    {
     "data": {
      "text/plain": [
       "(5,)"
      ]
     },
     "execution_count": 31,
     "metadata": {},
     "output_type": "execute_result"
    }
   ],
   "source": [
    "arr.shape"
   ]
  },
  {
   "cell_type": "code",
   "execution_count": 33,
   "id": "491532fa-9a10-4e02-973f-da1fbe40aa28",
   "metadata": {},
   "outputs": [
    {
     "data": {
      "text/plain": [
       "5"
      ]
     },
     "execution_count": 33,
     "metadata": {},
     "output_type": "execute_result"
    }
   ],
   "source": [
    "arr.size"
   ]
  },
  {
   "cell_type": "code",
   "execution_count": 43,
   "id": "274c2372-3559-462c-8816-14063108fbb8",
   "metadata": {},
   "outputs": [
    {
     "name": "stdout",
     "output_type": "stream",
     "text": [
      "(4,)\n",
      "1\n"
     ]
    }
   ],
   "source": [
    "arr1 = np.array([1,2,3,4])\n",
    "print(arr1.shape)\n",
    "print(arr1.ndim)"
   ]
  },
  {
   "cell_type": "code",
   "execution_count": 45,
   "id": "0c09e69e-5464-4776-938f-5ef90847a0c1",
   "metadata": {},
   "outputs": [
    {
     "name": "stdout",
     "output_type": "stream",
     "text": [
      "(1, 4)\n",
      "2\n"
     ]
    }
   ],
   "source": [
    "\n",
    "\n",
    "\n",
    "arr2 = np.array([[1,2,3,4]])\n",
    "print(arr2.shape)\n",
    "print(arr2.ndim)"
   ]
  },
  {
   "cell_type": "code",
   "execution_count": null,
   "id": "694919fc-69f6-46c1-b222-f34f12e622ce",
   "metadata": {},
   "outputs": [],
   "source": [
    "## numpy 배열 생성"
   ]
  },
  {
   "cell_type": "code",
   "execution_count": null,
   "id": "973d8282-d4b8-49cf-96ed-480296e06ce8",
   "metadata": {},
   "outputs": [],
   "source": [
    "### empty"
   ]
  },
  {
   "cell_type": "code",
   "execution_count": 61,
   "id": "3398ec2f-1170-417f-813e-00b87e76b26f",
   "metadata": {},
   "outputs": [
    {
     "name": "stdout",
     "output_type": "stream",
     "text": [
      "float64\n",
      "(2, 3)\n",
      "2\n",
      "6\n",
      "[[1. 1. 1.]\n",
      " [1. 1. 1.]]\n"
     ]
    }
   ],
   "source": [
    "ar = np.empty((2,3))\n",
    "print(ar.dtype)\n",
    "print(ar.shape)\n",
    "print(ar.ndim)\n",
    "print(ar.size)\n",
    "print(ar)"
   ]
  },
  {
   "cell_type": "code",
   "execution_count": null,
   "id": "c5c3753d-8a39-47b8-8f3c-97138d2676e5",
   "metadata": {},
   "outputs": [],
   "source": [
    "### ones"
   ]
  },
  {
   "cell_type": "code",
   "execution_count": 57,
   "id": "0ecbf687-c5ec-4e41-bf1e-cd953939b7c7",
   "metadata": {},
   "outputs": [
    {
     "name": "stdout",
     "output_type": "stream",
     "text": [
      "float64\n",
      "(2, 3)\n",
      "2\n",
      "6\n",
      "[[1. 1. 1.]\n",
      " [1. 1. 1.]]\n"
     ]
    }
   ],
   "source": [
    "ar = np.ones((2,3))\n",
    "print(ar.dtype)\n",
    "print(ar.shape)\n",
    "print(ar.ndim)\n",
    "print(ar.size)\n",
    "print(ar)"
   ]
  },
  {
   "cell_type": "code",
   "execution_count": null,
   "id": "75f80269-b327-46b3-9e80-663ca80a16b5",
   "metadata": {},
   "outputs": [],
   "source": [
    "### zeros"
   ]
  },
  {
   "cell_type": "code",
   "execution_count": 63,
   "id": "fd4bc969-e85f-401d-9019-b5e886bbfabd",
   "metadata": {},
   "outputs": [
    {
     "name": "stdout",
     "output_type": "stream",
     "text": [
      "float64\n",
      "(2, 3)\n",
      "2\n",
      "6\n",
      "[[0. 0. 0.]\n",
      " [0. 0. 0.]]\n"
     ]
    }
   ],
   "source": [
    "ar = np.zeros((2,3))\n",
    "print(ar.dtype)\n",
    "print(ar.shape)\n",
    "print(ar.ndim)\n",
    "print(ar.size)\n",
    "print(ar)"
   ]
  },
  {
   "cell_type": "code",
   "execution_count": null,
   "id": "c396bb0b-96f1-4585-8330-00af26d7bb46",
   "metadata": {},
   "outputs": [],
   "source": [
    "### full"
   ]
  },
  {
   "cell_type": "code",
   "execution_count": 69,
   "id": "e69bba8e-c452-4532-b814-303efa0f26f4",
   "metadata": {},
   "outputs": [
    {
     "name": "stdout",
     "output_type": "stream",
     "text": [
      "int32\n",
      "(2, 3)\n",
      "2\n",
      "6\n",
      "[[10 10 10]\n",
      " [10 10 10]]\n"
     ]
    }
   ],
   "source": [
    "ar = np.full((2,3), 10)\n",
    "print(ar.dtype)\n",
    "print(ar.shape)\n",
    "print(ar.ndim)\n",
    "print(ar.size)\n",
    "print(ar)"
   ]
  },
  {
   "cell_type": "code",
   "execution_count": null,
   "id": "aa326717-6d67-441a-9387-fde6417b9512",
   "metadata": {},
   "outputs": [],
   "source": [
    "### eye "
   ]
  },
  {
   "cell_type": "code",
   "execution_count": 81,
   "id": "3223711c-c52f-4c4f-b09f-f2e68b2b1d99",
   "metadata": {},
   "outputs": [
    {
     "name": "stdout",
     "output_type": "stream",
     "text": [
      "float64\n",
      "(4, 4)\n",
      "2\n",
      "16\n",
      "[[1. 0. 0. 0.]\n",
      " [0. 1. 0. 0.]\n",
      " [0. 0. 1. 0.]\n",
      " [0. 0. 0. 1.]]\n"
     ]
    }
   ],
   "source": [
    "ar = np.eye(4)\n",
    "print(ar.dtype)\n",
    "print(ar.shape)\n",
    "print(ar.ndim)\n",
    "print(ar.size)\n",
    "print(ar)"
   ]
  },
  {
   "cell_type": "code",
   "execution_count": null,
   "id": "952580a4-0bc7-41b7-8759-a594872b20c9",
   "metadata": {},
   "outputs": [],
   "source": [
    "## 배열의 타입 변경 "
   ]
  },
  {
   "cell_type": "code",
   "execution_count": 113,
   "id": "8b5a56d4-1c58-4f9d-9711-5dc43cf3d323",
   "metadata": {},
   "outputs": [
    {
     "name": "stdout",
     "output_type": "stream",
     "text": [
      "float64\n"
     ]
    }
   ],
   "source": [
    "arr1 = np.ones((2,2))\n",
    "print(arr1.dtype)"
   ]
  },
  {
   "cell_type": "code",
   "execution_count": 117,
   "id": "b30f065d-e1f7-44d7-a0c9-ef078a0cd3cb",
   "metadata": {},
   "outputs": [
    {
     "name": "stdout",
     "output_type": "stream",
     "text": [
      "int64\n"
     ]
    }
   ],
   "source": [
    "arr1 = arr1.astype(np.int64)\n",
    "print(arr1.dtype)"
   ]
  },
  {
   "cell_type": "code",
   "execution_count": 119,
   "id": "3a76c270-a121-4d73-b658-55cd7735b66b",
   "metadata": {},
   "outputs": [
    {
     "name": "stdout",
     "output_type": "stream",
     "text": [
      "float32\n"
     ]
    }
   ],
   "source": [
    "arr1 = arr1.astype(np.float32)\n",
    "print(arr1.dtype)"
   ]
  },
  {
   "cell_type": "code",
   "execution_count": 121,
   "id": "e5f543f9-0f4f-4661-b6a7-79be496f70e8",
   "metadata": {},
   "outputs": [
    {
     "name": "stdout",
     "output_type": "stream",
     "text": [
      "float32\n"
     ]
    }
   ],
   "source": [
    "arr1.astype(int)\n",
    "print(arr1.dtype)"
   ]
  },
  {
   "cell_type": "code",
   "execution_count": null,
   "id": "4eaa35e6-0c8d-488f-b51b-d80701aed604",
   "metadata": {},
   "outputs": [],
   "source": [
    "## 배열 타입 지정"
   ]
  },
  {
   "cell_type": "code",
   "execution_count": 123,
   "id": "b0915abf-8738-48fb-b8bc-2ffc09e7f43b",
   "metadata": {},
   "outputs": [
    {
     "name": "stdout",
     "output_type": "stream",
     "text": [
      "int32\n"
     ]
    }
   ],
   "source": [
    "arr = np.array([1,2,3], dtype=np.int32)\n",
    "print(arr.dtype)"
   ]
  },
  {
   "cell_type": "code",
   "execution_count": null,
   "id": "a5a6536a-67fc-45d8-85dd-58fa999b498a",
   "metadata": {},
   "outputs": [],
   "source": [
    "## numpy 배열 사용"
   ]
  },
  {
   "cell_type": "code",
   "execution_count": 137,
   "id": "a023226a-f905-4d69-bf3b-5cd396c42a81",
   "metadata": {},
   "outputs": [
    {
     "name": "stdout",
     "output_type": "stream",
     "text": [
      "[[1 1 1]\n",
      " [1 1 1]\n",
      " [1 1 1]]\n",
      "4\n"
     ]
    }
   ],
   "source": [
    "arr = np.full((3,3), 1)\n",
    "print(arr)\n",
    "print(arr.itemsize)"
   ]
  },
  {
   "cell_type": "code",
   "execution_count": 139,
   "id": "bf8e66cf-d3ea-4e43-a86e-5b6622785d79",
   "metadata": {},
   "outputs": [
    {
     "name": "stdout",
     "output_type": "stream",
     "text": [
      "[[1. 1. 1.]\n",
      " [1. 1. 1.]\n",
      " [1. 1. 1.]]\n",
      "8\n"
     ]
    }
   ],
   "source": [
    "arr = np.ones((3,3))\n",
    "print(arr)\n",
    "print(arr.itemsize)"
   ]
  },
  {
   "cell_type": "code",
   "execution_count": 156,
   "id": "10559571-807c-422d-b378-975c4f3bafa5",
   "metadata": {},
   "outputs": [
    {
     "name": "stdout",
     "output_type": "stream",
     "text": [
      "(4,)\n"
     ]
    }
   ],
   "source": [
    "a = np.array([1, 2, 3, 4])\n",
    "print(a.shape)"
   ]
  },
  {
   "cell_type": "code",
   "execution_count": 158,
   "id": "ad634eb5-9c9b-4265-a426-8dd08694c6af",
   "metadata": {},
   "outputs": [],
   "source": [
    "a.shape = 1, 4"
   ]
  },
  {
   "cell_type": "code",
   "execution_count": 160,
   "id": "136e6a9e-c9a5-4db8-b143-5f0a63c9d048",
   "metadata": {},
   "outputs": [
    {
     "name": "stdout",
     "output_type": "stream",
     "text": [
      "(1, 4)\n"
     ]
    }
   ],
   "source": [
    "print(a.shape)"
   ]
  },
  {
   "cell_type": "code",
   "execution_count": 162,
   "id": "32912237-8c8d-4df7-8277-21541b5a10cc",
   "metadata": {},
   "outputs": [
    {
     "name": "stdout",
     "output_type": "stream",
     "text": [
      "[[1 2 3 4]]\n"
     ]
    }
   ],
   "source": [
    "print(a)"
   ]
  },
  {
   "cell_type": "code",
   "execution_count": 164,
   "id": "6d821736-89da-48bb-9e08-0bfde11ef185",
   "metadata": {},
   "outputs": [],
   "source": [
    "a.shape = 2,2"
   ]
  },
  {
   "cell_type": "code",
   "execution_count": 166,
   "id": "68c61b0f-0db9-4abd-ba1c-db5a7f13d975",
   "metadata": {},
   "outputs": [
    {
     "name": "stdout",
     "output_type": "stream",
     "text": [
      "(2, 2)\n"
     ]
    }
   ],
   "source": [
    "print(a.shape)"
   ]
  },
  {
   "cell_type": "code",
   "execution_count": 168,
   "id": "dcdeadba-c4de-4929-9d91-5fed31cc7ce8",
   "metadata": {},
   "outputs": [
    {
     "name": "stdout",
     "output_type": "stream",
     "text": [
      "[[1 2]\n",
      " [3 4]]\n"
     ]
    }
   ],
   "source": [
    "print(a)"
   ]
  },
  {
   "cell_type": "code",
   "execution_count": 170,
   "id": "9e0a0d3e-4b35-4566-befc-70cda289c023",
   "metadata": {},
   "outputs": [
    {
     "data": {
      "text/plain": [
       "4"
      ]
     },
     "execution_count": 170,
     "metadata": {},
     "output_type": "execute_result"
    }
   ],
   "source": [
    "a.size"
   ]
  },
  {
   "cell_type": "code",
   "execution_count": 172,
   "id": "70538a0e-7244-4c0b-9a0a-a39847be31eb",
   "metadata": {},
   "outputs": [
    {
     "data": {
      "text/plain": [
       "(5,)"
      ]
     },
     "execution_count": 172,
     "metadata": {},
     "output_type": "execute_result"
    }
   ],
   "source": [
    "b = np.array([1,2,3,4,5])\n",
    "b.shape"
   ]
  },
  {
   "cell_type": "code",
   "execution_count": 174,
   "id": "20a5fdeb-db36-4634-b80b-c131bc11c432",
   "metadata": {},
   "outputs": [
    {
     "data": {
      "text/plain": [
       "(1, 5)"
      ]
     },
     "execution_count": 174,
     "metadata": {},
     "output_type": "execute_result"
    }
   ],
   "source": [
    "b = np.array([1,2,3,4,5])\n",
    "b.shape = 1, 5\n",
    "b.shape"
   ]
  },
  {
   "cell_type": "code",
   "execution_count": null,
   "id": "9b268f97-3de0-4823-827b-588c45fc9d06",
   "metadata": {},
   "outputs": [],
   "source": [
    "## 배열 차원 변경 "
   ]
  },
  {
   "cell_type": "code",
   "execution_count": 184,
   "id": "ffd96fb3-2086-434a-80e7-06d86432d3fe",
   "metadata": {},
   "outputs": [
    {
     "name": "stdout",
     "output_type": "stream",
     "text": [
      "(3, 3)\n",
      "9\n",
      "[[1 2 3]\n",
      " [3 4 5]\n",
      " [7 8 9]]\n"
     ]
    }
   ],
   "source": [
    "c = np.array([[1,2,3], [3,4,5], [7,8,9]])\n",
    "print(c.shape)\n",
    "print(c.size)\n",
    "print(c)"
   ]
  },
  {
   "cell_type": "code",
   "execution_count": 188,
   "id": "8dd03d0b-46a8-466c-960e-c28b05165038",
   "metadata": {},
   "outputs": [
    {
     "name": "stdout",
     "output_type": "stream",
     "text": [
      "(9,)\n",
      "[1 2 3 3 4 5 7 8 9]\n"
     ]
    }
   ],
   "source": [
    "c.shape = c.size\n",
    "print(c.shape)\n",
    "print(c)"
   ]
  },
  {
   "cell_type": "code",
   "execution_count": null,
   "id": "fc977802-4086-4595-8892-1396bc7a2ab6",
   "metadata": {},
   "outputs": [],
   "source": [
    "### resize"
   ]
  },
  {
   "cell_type": "code",
   "execution_count": 198,
   "id": "4653b566-4368-46f3-81fe-576a3275f56d",
   "metadata": {},
   "outputs": [
    {
     "name": "stdout",
     "output_type": "stream",
     "text": [
      "(6,)\n"
     ]
    }
   ],
   "source": [
    "a = np.array([1,2,3,4,5,6])\n",
    "print(a.shape)"
   ]
  },
  {
   "cell_type": "code",
   "execution_count": 200,
   "id": "82fec750-458d-4bff-889c-e41bea5610f2",
   "metadata": {},
   "outputs": [
    {
     "name": "stdout",
     "output_type": "stream",
     "text": [
      "(2, 3)\n"
     ]
    }
   ],
   "source": [
    "a.resize(2,3)\n",
    "print(a.shape)"
   ]
  },
  {
   "cell_type": "code",
   "execution_count": 202,
   "id": "05b2fb0f-dfcf-42b4-be68-00a5d8d8cdaf",
   "metadata": {},
   "outputs": [
    {
     "name": "stdout",
     "output_type": "stream",
     "text": [
      "[[1 2 3]\n",
      " [4 5 6]]\n"
     ]
    }
   ],
   "source": [
    "print(a)"
   ]
  },
  {
   "cell_type": "code",
   "execution_count": null,
   "id": "bf4342e5-ec38-4736-807a-1c0f31b3c774",
   "metadata": {},
   "outputs": [],
   "source": [
    "### reshape"
   ]
  },
  {
   "cell_type": "code",
   "execution_count": 208,
   "id": "4400062c-3157-4050-bbfb-d192f59f08b2",
   "metadata": {},
   "outputs": [
    {
     "data": {
      "text/plain": [
       "array([[1, 2],\n",
       "       [3, 4],\n",
       "       [5, 6]])"
      ]
     },
     "execution_count": 208,
     "metadata": {},
     "output_type": "execute_result"
    }
   ],
   "source": [
    "a.reshape(3,2)"
   ]
  },
  {
   "cell_type": "code",
   "execution_count": null,
   "id": "3fc6e2c9-69a0-45cc-834d-c3810fa11046",
   "metadata": {},
   "outputs": [],
   "source": [
    "## 배열 데이터 공유"
   ]
  },
  {
   "cell_type": "code",
   "execution_count": 254,
   "id": "3644dd66-98b5-4e8d-8c4a-2d4f7233c441",
   "metadata": {},
   "outputs": [
    {
     "data": {
      "text/plain": [
       "array([1, 2, 3, 4, 5, 6])"
      ]
     },
     "execution_count": 254,
     "metadata": {},
     "output_type": "execute_result"
    }
   ],
   "source": [
    "a = np.array([1,2,3,4,5,6])\n",
    "a.view()"
   ]
  },
  {
   "cell_type": "code",
   "execution_count": 256,
   "id": "39bca1ec-30d2-4e40-956d-cc479ae3cf07",
   "metadata": {},
   "outputs": [
    {
     "name": "stdout",
     "output_type": "stream",
     "text": [
      "[1 2 3 4 5 6]\n"
     ]
    }
   ],
   "source": [
    "b = a.view()\n",
    "print(b)"
   ]
  },
  {
   "cell_type": "code",
   "execution_count": 258,
   "id": "45c550f1-d98c-4121-b895-f06028bc8047",
   "metadata": {},
   "outputs": [
    {
     "data": {
      "text/plain": [
       "False"
      ]
     },
     "execution_count": 258,
     "metadata": {},
     "output_type": "execute_result"
    }
   ],
   "source": [
    "a is b"
   ]
  },
  {
   "cell_type": "code",
   "execution_count": 260,
   "id": "79b9b1e9-e04b-4e0a-8a3f-1e365a032779",
   "metadata": {},
   "outputs": [
    {
     "data": {
      "text/plain": [
       "array([1, 2, 3, 4, 5, 6])"
      ]
     },
     "execution_count": 260,
     "metadata": {},
     "output_type": "execute_result"
    }
   ],
   "source": [
    "b.base"
   ]
  },
  {
   "cell_type": "code",
   "execution_count": 262,
   "id": "fb81b118-2a29-4cbe-b3ff-f4dc39603ff4",
   "metadata": {},
   "outputs": [
    {
     "data": {
      "text/plain": [
       "True"
      ]
     },
     "execution_count": 262,
     "metadata": {},
     "output_type": "execute_result"
    }
   ],
   "source": [
    "a is b.base"
   ]
  },
  {
   "cell_type": "code",
   "execution_count": 264,
   "id": "39240228-071a-4719-92ed-d51246eb80d5",
   "metadata": {},
   "outputs": [
    {
     "name": "stdout",
     "output_type": "stream",
     "text": [
      "[10  2  3  4  5  6]\n"
     ]
    }
   ],
   "source": [
    "b[0] = 10\n",
    "print(b)"
   ]
  },
  {
   "cell_type": "code",
   "execution_count": 266,
   "id": "ec92337a-ceda-4f8e-bc0e-308396a4cdf6",
   "metadata": {},
   "outputs": [
    {
     "name": "stdout",
     "output_type": "stream",
     "text": [
      "[10  2  3  4  5  6]\n"
     ]
    }
   ],
   "source": [
    "print(a)"
   ]
  },
  {
   "cell_type": "code",
   "execution_count": 274,
   "id": "7dba021a-4f96-480b-a44b-9e9b04b87d57",
   "metadata": {},
   "outputs": [
    {
     "name": "stdout",
     "output_type": "stream",
     "text": [
      "[[10  2  3]\n",
      " [ 4  5  6]]\n",
      "[10  2  3  4  5  6]\n"
     ]
    }
   ],
   "source": [
    "d = a.reshape(2,3)\n",
    "print(d)\n",
    "print(a)"
   ]
  },
  {
   "cell_type": "code",
   "execution_count": 280,
   "id": "a6288a94-c465-425b-8043-6dea1e7ced37",
   "metadata": {},
   "outputs": [
    {
     "name": "stdout",
     "output_type": "stream",
     "text": [
      "[[1 2 3]\n",
      " [4 5 6]]\n",
      "[1 2 3 4 5 6]\n"
     ]
    }
   ],
   "source": [
    "a = np.array([1,2,3,4,5,6])\n",
    "d = a.reshape(2,3)\n",
    "print(d)\n",
    "print(a)"
   ]
  },
  {
   "cell_type": "code",
   "execution_count": 282,
   "id": "9402cc79-01f4-496e-9664-fd7c9b108436",
   "metadata": {},
   "outputs": [
    {
     "name": "stdout",
     "output_type": "stream",
     "text": [
      "[  1   2   3   4   5 100]\n",
      "[[  1   2   3]\n",
      " [  4   5 100]]\n"
     ]
    }
   ],
   "source": [
    "a[-1] = 100\n",
    "print(a)\n",
    "print(d)"
   ]
  },
  {
   "cell_type": "code",
   "execution_count": null,
   "id": "4109d02c-03f0-4318-b40d-7a9af377ef17",
   "metadata": {},
   "outputs": [],
   "source": []
  },
  {
   "cell_type": "markdown",
   "id": "d41afdce-aa28-4d66-a3b5-f1c9facd067f",
   "metadata": {},
   "source": [
    "## 스칼라\n",
    "길이가 1인 벡터(차원을 갖지 않는 배열)\n",
    "숫자값 하나\n",
    "단일차원의 값 ex) 1, 2, 3, ...\n",
    "크기만 있고 방향을 가지지 않은 양\n",
    "좌표평면 위의 점(1, 3)은 2차원이기때문에 스칼라가 아니다."
   ]
  },
  {
   "cell_type": "code",
   "execution_count": 290,
   "id": "ca85c030-1684-4b13-ac38-25dcd1176c6c",
   "metadata": {},
   "outputs": [
    {
     "name": "stdout",
     "output_type": "stream",
     "text": [
      "<class 'numpy.ndarray'>\n",
      "(1,)\n",
      "1\n"
     ]
    }
   ],
   "source": [
    "data = np.array([45])\n",
    "print(type(data))\n",
    "print(data.shape)\n",
    "print(data.ndim)"
   ]
  },
  {
   "cell_type": "code",
   "execution_count": 292,
   "id": "35909733-9997-4e97-9a87-ae26a165c6db",
   "metadata": {},
   "outputs": [
    {
     "name": "stdout",
     "output_type": "stream",
     "text": [
      "<class 'numpy.ndarray'>\n",
      "()\n",
      "0\n"
     ]
    }
   ],
   "source": [
    "data = np.array(45)\n",
    "print(type(data))\n",
    "print(data.shape)\n",
    "print(data.ndim)"
   ]
  },
  {
   "cell_type": "code",
   "execution_count": null,
   "id": "aaa3c595-af7a-42ae-9050-3a3401aa433f",
   "metadata": {},
   "outputs": [],
   "source": [
    "### 스칼라의 타입 자료형 \n",
    "1. int\n",
    "2. float\n",
    "3. none\n",
    "4. bool"
   ]
  },
  {
   "cell_type": "code",
   "execution_count": 294,
   "id": "1a2a87c0-c093-4968-9381-a506e9daf0e9",
   "metadata": {},
   "outputs": [
    {
     "data": {
      "text/plain": [
       "3"
      ]
     },
     "execution_count": 294,
     "metadata": {},
     "output_type": "execute_result"
    }
   ],
   "source": [
    "int(3.14)"
   ]
  },
  {
   "cell_type": "code",
   "execution_count": 296,
   "id": "2b8144a8-9600-44c5-a59a-cc63e40d9a1e",
   "metadata": {},
   "outputs": [
    {
     "data": {
      "text/plain": [
       "100"
      ]
     },
     "execution_count": 296,
     "metadata": {},
     "output_type": "execute_result"
    }
   ],
   "source": [
    "int('100')"
   ]
  },
  {
   "cell_type": "code",
   "execution_count": 298,
   "id": "df339b05-c306-4ca2-a7b4-a674197806d6",
   "metadata": {},
   "outputs": [
    {
     "ename": "ValueError",
     "evalue": "invalid literal for int() with base 10: '3.7'",
     "output_type": "error",
     "traceback": [
      "\u001b[1;31m---------------------------------------------------------------------------\u001b[0m",
      "\u001b[1;31mValueError\u001b[0m                                Traceback (most recent call last)",
      "Cell \u001b[1;32mIn[298], line 1\u001b[0m\n\u001b[1;32m----> 1\u001b[0m \u001b[38;5;28mint\u001b[39m(\u001b[38;5;124m'\u001b[39m\u001b[38;5;124m3.7\u001b[39m\u001b[38;5;124m'\u001b[39m)\n",
      "\u001b[1;31mValueError\u001b[0m: invalid literal for int() with base 10: '3.7'"
     ]
    }
   ],
   "source": [
    "int('3.7')"
   ]
  },
  {
   "cell_type": "code",
   "execution_count": 304,
   "id": "a7344c08-a473-406d-8d07-e6ce0c39dbf5",
   "metadata": {},
   "outputs": [
    {
     "data": {
      "text/plain": [
       "256"
      ]
     },
     "execution_count": 304,
     "metadata": {},
     "output_type": "execute_result"
    }
   ],
   "source": [
    "int('100', 16) ## 진수"
   ]
  },
  {
   "cell_type": "code",
   "execution_count": 306,
   "id": "57eb2f05-2c64-4c52-ae3f-b84ff4dedae6",
   "metadata": {},
   "outputs": [
    {
     "data": {
      "text/plain": [
       "10.0"
      ]
     },
     "execution_count": 306,
     "metadata": {},
     "output_type": "execute_result"
    }
   ],
   "source": [
    "float(10)"
   ]
  },
  {
   "cell_type": "code",
   "execution_count": 312,
   "id": "845cfbf3-c788-42ae-9cfb-5736a463730a",
   "metadata": {},
   "outputs": [
    {
     "data": {
      "text/plain": [
       "3.14"
      ]
     },
     "execution_count": 312,
     "metadata": {},
     "output_type": "execute_result"
    }
   ],
   "source": [
    "float('3.14')"
   ]
  },
  {
   "cell_type": "code",
   "execution_count": 318,
   "id": "1d4e9af7-bee1-4d4e-9cc2-0193b9b90edd",
   "metadata": {},
   "outputs": [
    {
     "name": "stdout",
     "output_type": "stream",
     "text": [
      "None\n"
     ]
    }
   ],
   "source": [
    "data = None\n",
    "print(data)"
   ]
  },
  {
   "cell_type": "code",
   "execution_count": 320,
   "id": "6e648d3d-bad6-49d6-a9db-106309e32346",
   "metadata": {},
   "outputs": [
    {
     "data": {
      "text/plain": [
       "False"
      ]
     },
     "execution_count": 320,
     "metadata": {},
     "output_type": "execute_result"
    }
   ],
   "source": [
    "bool(0)"
   ]
  },
  {
   "cell_type": "code",
   "execution_count": 326,
   "id": "e5d95b74-43a9-41c7-849e-36e43b68798d",
   "metadata": {},
   "outputs": [
    {
     "data": {
      "text/plain": [
       "True"
      ]
     },
     "execution_count": 326,
     "metadata": {},
     "output_type": "execute_result"
    }
   ],
   "source": [
    "bool(2)"
   ]
  },
  {
   "cell_type": "code",
   "execution_count": 328,
   "id": "509a7a51-5498-434c-abe4-1e3cbbf13daa",
   "metadata": {},
   "outputs": [
    {
     "data": {
      "text/plain": [
       "False"
      ]
     },
     "execution_count": 328,
     "metadata": {},
     "output_type": "execute_result"
    }
   ],
   "source": [
    "bool('')"
   ]
  },
  {
   "cell_type": "code",
   "execution_count": 330,
   "id": "5e63c4a0-3e60-43bf-92dc-b7996df9dd3e",
   "metadata": {},
   "outputs": [
    {
     "data": {
      "text/plain": [
       "True"
      ]
     },
     "execution_count": 330,
     "metadata": {},
     "output_type": "execute_result"
    }
   ],
   "source": [
    "bool('bool?')"
   ]
  },
  {
   "cell_type": "code",
   "execution_count": 336,
   "id": "33d8b3ff-43e8-48e7-97b4-1021e940c309",
   "metadata": {},
   "outputs": [
    {
     "data": {
      "text/plain": [
       "False"
      ]
     },
     "execution_count": 336,
     "metadata": {},
     "output_type": "execute_result"
    }
   ],
   "source": [
    "bool([])"
   ]
  },
  {
   "cell_type": "code",
   "execution_count": 338,
   "id": "4a9f1325-94b5-4835-b122-1c8a696fb710",
   "metadata": {},
   "outputs": [
    {
     "data": {
      "text/plain": [
       "True"
      ]
     },
     "execution_count": 338,
     "metadata": {},
     "output_type": "execute_result"
    }
   ],
   "source": [
    "bool([1])"
   ]
  },
  {
   "cell_type": "markdown",
   "id": "65d9eb9c-cea8-4992-a411-aded1d10e134",
   "metadata": {},
   "source": [
    "## 배열과 스칼라의 연산 "
   ]
  },
  {
   "cell_type": "code",
   "execution_count": 26,
   "id": "538c4b90-c785-4910-9bd2-7bcb42c864ed",
   "metadata": {},
   "outputs": [
    {
     "data": {
      "text/plain": [
       "array([2, 3, 4])"
      ]
     },
     "execution_count": 26,
     "metadata": {},
     "output_type": "execute_result"
    }
   ],
   "source": [
    "import numpy as np\n",
    "a = np.array([1,2,3])\n",
    "a + 1"
   ]
  },
  {
   "cell_type": "code",
   "execution_count": 28,
   "id": "cb7b58d6-bce3-476e-b470-56f592a9bd61",
   "metadata": {},
   "outputs": [
    {
     "data": {
      "text/plain": [
       "array([11, 12, 13])"
      ]
     },
     "execution_count": 28,
     "metadata": {},
     "output_type": "execute_result"
    }
   ],
   "source": [
    "b = np.array([10,10,10])\n",
    "b + a"
   ]
  },
  {
   "cell_type": "code",
   "execution_count": 30,
   "id": "0ec0239f-73da-40dd-873e-4921b75f352e",
   "metadata": {},
   "outputs": [
    {
     "ename": "ValueError",
     "evalue": "operands could not be broadcast together with shapes (3,) (4,) ",
     "output_type": "error",
     "traceback": [
      "\u001b[1;31m---------------------------------------------------------------------------\u001b[0m",
      "\u001b[1;31mValueError\u001b[0m                                Traceback (most recent call last)",
      "Cell \u001b[1;32mIn[30], line 2\u001b[0m\n\u001b[0;32m      1\u001b[0m c \u001b[38;5;241m=\u001b[39m np\u001b[38;5;241m.\u001b[39marray([\u001b[38;5;241m1\u001b[39m,\u001b[38;5;241m1\u001b[39m,\u001b[38;5;241m1\u001b[39m,\u001b[38;5;241m1\u001b[39m])\n\u001b[1;32m----> 2\u001b[0m a \u001b[38;5;241m+\u001b[39m c\n",
      "\u001b[1;31mValueError\u001b[0m: operands could not be broadcast together with shapes (3,) (4,) "
     ]
    }
   ],
   "source": [
    "c = np.array([1,1,1,1])\n",
    "a + c"
   ]
  },
  {
   "cell_type": "markdown",
   "id": "9f47a8b7-8ab0-45b3-b891-def04cbdd449",
   "metadata": {},
   "source": [
    "shape이 달라서 연산이 불가능하다."
   ]
  },
  {
   "cell_type": "code",
   "execution_count": 34,
   "id": "78781847-d4ed-4dee-8342-1d52f33e33e1",
   "metadata": {},
   "outputs": [
    {
     "data": {
      "text/plain": [
       "array([1.14, 2.14, 3.14])"
      ]
     },
     "execution_count": 34,
     "metadata": {},
     "output_type": "execute_result"
    }
   ],
   "source": [
    "a + 0.14"
   ]
  },
  {
   "cell_type": "code",
   "execution_count": null,
   "id": "7af01dc6-ed56-4ea7-84c3-2a1622a65576",
   "metadata": {},
   "outputs": [],
   "source": [
    "## 인덱싱과 슬라이싱\n",
    "\n",
    "슬라이싱의 결과는 ndarray이며 원본 배열의 view이다(원본도 같이 바뀜)"
   ]
  },
  {
   "cell_type": "code",
   "execution_count": 106,
   "id": "aa4219b7-2e1f-4a3d-b4a7-56b1b4d60a5d",
   "metadata": {},
   "outputs": [
    {
     "name": "stdout",
     "output_type": "stream",
     "text": [
      "[0 1 2 3 4 5 6 7]\n",
      "<class 'numpy.ndarray'>\n"
     ]
    }
   ],
   "source": [
    "a = np.arange(0, 8, 1)\n",
    "print(a)\n",
    "print(type(a))"
   ]
  },
  {
   "cell_type": "code",
   "execution_count": 108,
   "id": "0e0f22d9-cac9-4029-b51f-45be3a0d0d4f",
   "metadata": {},
   "outputs": [
    {
     "name": "stdout",
     "output_type": "stream",
     "text": [
      "[0 1 2 3 4 5 6 7]\n",
      "<class 'numpy.ndarray'>\n"
     ]
    }
   ],
   "source": [
    "b = np.arange(8)\n",
    "print(b)\n",
    "print(type(b))"
   ]
  },
  {
   "cell_type": "code",
   "execution_count": 110,
   "id": "83f4a1ca-c327-4eda-8b68-25c3872b075d",
   "metadata": {},
   "outputs": [
    {
     "data": {
      "text/plain": [
       "array([8, 7, 6, 5, 4, 3])"
      ]
     },
     "execution_count": 110,
     "metadata": {},
     "output_type": "execute_result"
    }
   ],
   "source": [
    "c = np.arange(8, 2, -1)\n",
    "c"
   ]
  },
  {
   "cell_type": "code",
   "execution_count": 120,
   "id": "9a2c7183-10e8-425a-b2f3-dd5cdebff921",
   "metadata": {},
   "outputs": [
    {
     "data": {
      "text/plain": [
       "array([[0, 1, 2, 3],\n",
       "       [4, 5, 6, 7]])"
      ]
     },
     "execution_count": 120,
     "metadata": {},
     "output_type": "execute_result"
    }
   ],
   "source": [
    "a.reshape(2,4)"
   ]
  },
  {
   "cell_type": "code",
   "execution_count": 122,
   "id": "c87abfae-c21f-4cae-be3a-78385e6b0552",
   "metadata": {},
   "outputs": [
    {
     "data": {
      "text/plain": [
       "array([0, 1, 2, 3, 4, 5, 6, 7])"
      ]
     },
     "execution_count": 122,
     "metadata": {},
     "output_type": "execute_result"
    }
   ],
   "source": [
    "a"
   ]
  },
  {
   "cell_type": "code",
   "execution_count": 124,
   "id": "da8e5afa-cdd7-4586-809a-e9d9569d6561",
   "metadata": {},
   "outputs": [],
   "source": [
    "a.resize(2,4)"
   ]
  },
  {
   "cell_type": "code",
   "execution_count": 126,
   "id": "2369b5e8-c66b-46cd-8872-a0da6944abbe",
   "metadata": {},
   "outputs": [
    {
     "data": {
      "text/plain": [
       "array([[0, 1, 2, 3],\n",
       "       [4, 5, 6, 7]])"
      ]
     },
     "execution_count": 126,
     "metadata": {},
     "output_type": "execute_result"
    }
   ],
   "source": [
    "a"
   ]
  },
  {
   "cell_type": "code",
   "execution_count": 130,
   "id": "11012114-fb61-450f-99a3-5ded36b9aa1e",
   "metadata": {},
   "outputs": [
    {
     "data": {
      "text/plain": [
       "4"
      ]
     },
     "execution_count": 130,
     "metadata": {},
     "output_type": "execute_result"
    }
   ],
   "source": [
    "a[1][0]"
   ]
  },
  {
   "cell_type": "code",
   "execution_count": null,
   "id": "7637678c-a9a2-463c-bc9a-e8263acb103a",
   "metadata": {},
   "outputs": [],
   "source": [
    "## 전치행렬"
   ]
  },
  {
   "cell_type": "code",
   "execution_count": 144,
   "id": "97a7b289-c887-4926-ae29-5362848ebdf9",
   "metadata": {},
   "outputs": [
    {
     "data": {
      "text/plain": [
       "array([[0, 1, 2, 3],\n",
       "       [4, 5, 6, 7]])"
      ]
     },
     "execution_count": 144,
     "metadata": {},
     "output_type": "execute_result"
    }
   ],
   "source": [
    "a.resize(2,4)\n",
    "a"
   ]
  },
  {
   "cell_type": "code",
   "execution_count": 146,
   "id": "a0e77963-012f-46ee-94ab-d8f4c09868c7",
   "metadata": {},
   "outputs": [
    {
     "data": {
      "text/plain": [
       "array([[0, 4],\n",
       "       [1, 5],\n",
       "       [2, 6],\n",
       "       [3, 7]])"
      ]
     },
     "execution_count": 146,
     "metadata": {},
     "output_type": "execute_result"
    }
   ],
   "source": [
    "a.T"
   ]
  },
  {
   "cell_type": "markdown",
   "id": "59099717-6c2e-447a-94df-636af661cd57",
   "metadata": {},
   "source": [
    "n행 m열이 m행 n열로 변경된다 "
   ]
  },
  {
   "cell_type": "code",
   "execution_count": 148,
   "id": "b0bb7e98-4675-4c0e-8541-bb0d23771be3",
   "metadata": {},
   "outputs": [
    {
     "data": {
      "text/plain": [
       "array([[0, 1, 2, 3],\n",
       "       [4, 5, 6, 7]])"
      ]
     },
     "execution_count": 148,
     "metadata": {},
     "output_type": "execute_result"
    }
   ],
   "source": [
    "a"
   ]
  },
  {
   "cell_type": "code",
   "execution_count": 152,
   "id": "038b18fa-8ea4-43f6-a905-458651592e2f",
   "metadata": {},
   "outputs": [
    {
     "data": {
      "text/plain": [
       "array([[[0, 1],\n",
       "        [2, 3]],\n",
       "\n",
       "       [[4, 5],\n",
       "        [6, 7]]])"
      ]
     },
     "execution_count": 152,
     "metadata": {},
     "output_type": "execute_result"
    }
   ],
   "source": [
    "a.resize(2,2,2)\n",
    "a"
   ]
  },
  {
   "cell_type": "code",
   "execution_count": 154,
   "id": "ba6da750-2092-4e0e-b799-8d104027c791",
   "metadata": {},
   "outputs": [
    {
     "data": {
      "text/plain": [
       "array([[[0, 4],\n",
       "        [2, 6]],\n",
       "\n",
       "       [[1, 5],\n",
       "        [3, 7]]])"
      ]
     },
     "execution_count": 154,
     "metadata": {},
     "output_type": "execute_result"
    }
   ],
   "source": [
    "a.T"
   ]
  },
  {
   "cell_type": "code",
   "execution_count": 156,
   "id": "35f9cde6-76e5-4d6d-b9c6-4ac420abfcd6",
   "metadata": {},
   "outputs": [
    {
     "data": {
      "text/plain": [
       "array([[[0, 1],\n",
       "        [4, 5]],\n",
       "\n",
       "       [[2, 3],\n",
       "        [6, 7]]])"
      ]
     },
     "execution_count": 156,
     "metadata": {},
     "output_type": "execute_result"
    }
   ],
   "source": [
    "a.swapaxes(0, 1) # 0: 면, 1: 행, 2: 열 ???"
   ]
  },
  {
   "cell_type": "code",
   "execution_count": 158,
   "id": "0dd7758f-2e99-4df8-92f8-8f814d96deed",
   "metadata": {},
   "outputs": [
    {
     "name": "stdout",
     "output_type": "stream",
     "text": [
      "원본 배열:\n",
      "[[[1 2]\n",
      "  [3 4]]\n",
      "\n",
      " [[5 6]\n",
      "  [7 8]]]\n",
      "\n",
      "전치된 배열:\n",
      "[[[1 5]\n",
      "  [2 6]]\n",
      "\n",
      " [[3 7]\n",
      "  [4 8]]]\n"
     ]
    }
   ],
   "source": [
    "import numpy as np\n",
    "\n",
    "# 3차원 배열 생성\n",
    "A = np.array([\n",
    "    [\n",
    "        [1, 2],\n",
    "        [3, 4]\n",
    "    ],\n",
    "    [\n",
    "        [5, 6],\n",
    "        [7, 8]\n",
    "    ]\n",
    "])\n",
    "\n",
    "print(\"원본 배열:\")\n",
    "print(A)\n",
    "\n",
    "# 전치 수행\n",
    "A_transposed = A.transpose(1, 2, 0)\n",
    "\n",
    "print(\"\\n전치된 배열:\")\n",
    "print(A_transposed)\n"
   ]
  },
  {
   "cell_type": "code",
   "execution_count": null,
   "id": "39095827-45bf-4d41-aa37-09a2904ef119",
   "metadata": {},
   "outputs": [],
   "source": []
  },
  {
   "cell_type": "code",
   "execution_count": null,
   "id": "9da79927-331f-42fa-9382-3fae3a2b1f28",
   "metadata": {},
   "outputs": [],
   "source": []
  },
  {
   "cell_type": "code",
   "execution_count": null,
   "id": "cc062473-352b-4162-b357-f1336a6ab6f3",
   "metadata": {},
   "outputs": [],
   "source": []
  },
  {
   "cell_type": "code",
   "execution_count": null,
   "id": "75162540-ab5c-4913-925b-ba9abc6fde19",
   "metadata": {},
   "outputs": [],
   "source": []
  },
  {
   "cell_type": "markdown",
   "id": "b701ee7f-3664-491f-8522-5a69dda05ab2",
   "metadata": {},
   "source": [
    "## universal 함수\n",
    "배열 요소 빠르게 처리 \n",
    "ndarray 안의 데이터를 원소(요소)별로 연산을 수행해주는 함수 \n",
    "배열의 모든 원소를 불러 한꺼번에 처리할 수 있따.\n",
    "단항, 이항 유니버셜이 있다."
   ]
  },
  {
   "cell_type": "code",
   "execution_count": 176,
   "id": "7b50c4d1-cfc5-40d0-840f-3f2013d50de2",
   "metadata": {},
   "outputs": [
    {
     "data": {
      "text/plain": [
       "array([2., 3., 7., 7.])"
      ]
     },
     "execution_count": 176,
     "metadata": {},
     "output_type": "execute_result"
    }
   ],
   "source": [
    "a = np.array([2.41, 3.44, 6.59, 7.46])\n",
    "np.round(a)"
   ]
  },
  {
   "cell_type": "code",
   "execution_count": 174,
   "id": "a576f887-f887-4887-a95f-e4e63d05d9e6",
   "metadata": {},
   "outputs": [
    {
     "data": {
      "text/plain": [
       "array([2.4, 3.4, 6.6, 7.5])"
      ]
     },
     "execution_count": 174,
     "metadata": {},
     "output_type": "execute_result"
    }
   ],
   "source": [
    "np.round(a, 1)"
   ]
  },
  {
   "cell_type": "code",
   "execution_count": 182,
   "id": "1ea62196-8e4e-425c-96da-fc117ba96144",
   "metadata": {},
   "outputs": [
    {
     "data": {
      "text/plain": [
       "array([3., 4., 7., 8.])"
      ]
     },
     "execution_count": 182,
     "metadata": {},
     "output_type": "execute_result"
    }
   ],
   "source": [
    "np.ceil(a)"
   ]
  },
  {
   "cell_type": "code",
   "execution_count": 184,
   "id": "403c74c0-cd86-440a-a850-6dfb47694278",
   "metadata": {},
   "outputs": [
    {
     "data": {
      "text/plain": [
       "array([2., 3., 6., 7.])"
      ]
     },
     "execution_count": 184,
     "metadata": {},
     "output_type": "execute_result"
    }
   ],
   "source": [
    "np.floor(a)"
   ]
  },
  {
   "cell_type": "markdown",
   "id": "f5db67f9-adb8-441f-84d9-a68fc238f9fc",
   "metadata": {},
   "source": [
    "## 논리함수 \n",
    "and, or, not"
   ]
  },
  {
   "cell_type": "code",
   "execution_count": 208,
   "id": "639d21de-0665-4f99-a58d-7983788ce87f",
   "metadata": {},
   "outputs": [],
   "source": [
    "a = np.array([True, False, True, False])\n",
    "b = np.array([True, True, False, False])"
   ]
  },
  {
   "cell_type": "code",
   "execution_count": 210,
   "id": "80f3fe7e-3c49-4d4a-b047-508e0201ff83",
   "metadata": {},
   "outputs": [
    {
     "data": {
      "text/plain": [
       "array([ True, False, False, False])"
      ]
     },
     "execution_count": 210,
     "metadata": {},
     "output_type": "execute_result"
    }
   ],
   "source": [
    "np.logical_and(a, b) #  논리 곱  True=1, False=0"
   ]
  },
  {
   "cell_type": "code",
   "execution_count": 212,
   "id": "5b119dd7-6f33-41e2-a001-4a73ffe85831",
   "metadata": {},
   "outputs": [
    {
     "data": {
      "text/plain": [
       "array([ True,  True,  True, False])"
      ]
     },
     "execution_count": 212,
     "metadata": {},
     "output_type": "execute_result"
    }
   ],
   "source": [
    "np.logical_or(a, b) #  논리 합  "
   ]
  },
  {
   "cell_type": "code",
   "execution_count": 214,
   "id": "72db711a-0c72-4572-8cc7-314541de27a4",
   "metadata": {},
   "outputs": [
    {
     "data": {
      "text/plain": [
       "array([False,  True, False,  True])"
      ]
     },
     "execution_count": 214,
     "metadata": {},
     "output_type": "execute_result"
    }
   ],
   "source": [
    "np.logical_not(a)"
   ]
  },
  {
   "cell_type": "markdown",
   "id": "9d012d4a-1fe0-403a-acce-5704d38fbe2a",
   "metadata": {},
   "source": [
    "#  배타적 논리합 : 두 값이 다르면 참, 같으면 거짓 \n",
    "A B X\n",
    "0 0 0 F\n",
    "0 1 1 T\n",
    "1 0 1 T\n",
    "1 1 0 F"
   ]
  },
  {
   "cell_type": "code",
   "execution_count": 216,
   "id": "b2d9fce5-716e-4eb0-baac-36e413fb4afa",
   "metadata": {},
   "outputs": [
    {
     "data": {
      "text/plain": [
       "array([False,  True,  True, False])"
      ]
     },
     "execution_count": 216,
     "metadata": {},
     "output_type": "execute_result"
    }
   ],
   "source": [
    "np.logical_xor(a, b) "
   ]
  },
  {
   "cell_type": "code",
   "execution_count": 220,
   "id": "9afed925-d040-4e72-ad3a-30dd2dc0a361",
   "metadata": {},
   "outputs": [
    {
     "data": {
      "text/plain": [
       "array([False,  True,  True,  True])"
      ]
     },
     "execution_count": 220,
     "metadata": {},
     "output_type": "execute_result"
    }
   ],
   "source": [
    "a = np.array([2.41, 3.44, 6.59, 7.46])\n",
    "np.logical_not(a < 3) #  결국 a > 3"
   ]
  },
  {
   "cell_type": "code",
   "execution_count": null,
   "id": "613b5b7e-57c1-423f-a17b-3ee96eb9745d",
   "metadata": {},
   "outputs": [],
   "source": [
    "## 최댓값/최솟값"
   ]
  },
  {
   "cell_type": "code",
   "execution_count": 254,
   "id": "4dd68003-25dc-4157-95dd-7a3fcd835f1a",
   "metadata": {},
   "outputs": [
    {
     "name": "stdout",
     "output_type": "stream",
     "text": [
      "[2.41 3.44 6.59 7.46]\n",
      "[4.41 2.44 5.59 3.46]\n"
     ]
    }
   ],
   "source": [
    "a = np.array([2.41, 3.44, 6.59, 7.46])\n",
    "b = np.array([4.41, 2.44, 5.59, 3.46])\n",
    "print(a)\n",
    "print(b)"
   ]
  },
  {
   "cell_type": "code",
   "execution_count": 228,
   "id": "d290236f-4220-4089-9204-cae980e82e8b",
   "metadata": {},
   "outputs": [
    {
     "data": {
      "text/plain": [
       "5.59"
      ]
     },
     "execution_count": 228,
     "metadata": {},
     "output_type": "execute_result"
    }
   ],
   "source": [
    "np.max(a)"
   ]
  },
  {
   "cell_type": "code",
   "execution_count": 230,
   "id": "95c57dda-d04e-4086-829f-095ea51df40f",
   "metadata": {},
   "outputs": [
    {
     "data": {
      "text/plain": [
       "array([4.41, 2.44, 5.59, 3.46])"
      ]
     },
     "execution_count": 230,
     "metadata": {},
     "output_type": "execute_result"
    }
   ],
   "source": [
    "np.maximum(a, b)"
   ]
  },
  {
   "cell_type": "code",
   "execution_count": 236,
   "id": "b49e987d-e10e-42c8-9de1-f291f2b3f777",
   "metadata": {},
   "outputs": [
    {
     "data": {
      "text/plain": [
       "array([2.41, 2.44, 5.59, 3.46])"
      ]
     },
     "execution_count": 236,
     "metadata": {},
     "output_type": "execute_result"
    }
   ],
   "source": [
    "np.minimum(a, b)"
   ]
  },
  {
   "cell_type": "code",
   "execution_count": 238,
   "id": "395c8957-461d-4e56-94cd-c770a0ee97ed",
   "metadata": {},
   "outputs": [
    {
     "data": {
      "text/plain": [
       "array([ 6.82,  5.88, 12.18, 10.92])"
      ]
     },
     "execution_count": 238,
     "metadata": {},
     "output_type": "execute_result"
    }
   ],
   "source": [
    "np.add(a, b)"
   ]
  },
  {
   "cell_type": "code",
   "execution_count": 240,
   "id": "887f73e6-a976-45f8-8a5e-0581bcc7cc11",
   "metadata": {},
   "outputs": [],
   "source": [
    "a.resize(2,2)\n",
    "b.resize(2,2)"
   ]
  },
  {
   "cell_type": "code",
   "execution_count": 242,
   "id": "c5732771-5f11-4453-82c2-ef7317a49d1b",
   "metadata": {},
   "outputs": [
    {
     "data": {
      "text/plain": [
       "array([[ 6.82,  5.88],\n",
       "       [12.18, 10.92]])"
      ]
     },
     "execution_count": 242,
     "metadata": {},
     "output_type": "execute_result"
    }
   ],
   "source": [
    "np.add(a, b) "
   ]
  },
  {
   "cell_type": "code",
   "execution_count": 244,
   "id": "549fe70c-7da9-40ca-8c23-28abfb616f57",
   "metadata": {},
   "outputs": [],
   "source": [
    "c = np.array([1,2])"
   ]
  },
  {
   "cell_type": "code",
   "execution_count": 246,
   "id": "e5fd0afd-6322-4afe-92a9-84d31e4e6779",
   "metadata": {},
   "outputs": [
    {
     "data": {
      "text/plain": [
       "array([[5.41, 4.44],\n",
       "       [6.59, 5.46]])"
      ]
     },
     "execution_count": 246,
     "metadata": {},
     "output_type": "execute_result"
    }
   ],
   "source": [
    "np.add(b, c)"
   ]
  },
  {
   "cell_type": "code",
   "execution_count": 250,
   "id": "22bc06b4-50f1-4850-a69a-d4b02098cc3f",
   "metadata": {},
   "outputs": [],
   "source": [
    "c.resize(1, 2)"
   ]
  },
  {
   "cell_type": "code",
   "execution_count": 252,
   "id": "1dc92f27-aa87-4279-9ef6-f6e871957ef0",
   "metadata": {},
   "outputs": [
    {
     "data": {
      "text/plain": [
       "(1, 2)"
      ]
     },
     "execution_count": 252,
     "metadata": {},
     "output_type": "execute_result"
    }
   ],
   "source": [
    "c.shape"
   ]
  },
  {
   "cell_type": "markdown",
   "id": "d07c0255-d0b1-4c51-bc70-cfb59cf42047",
   "metadata": {},
   "source": [
    "행 또는 열의 개수가 일치하고 나머지가 1일때 \n",
    "각 행 또는 각 열에 연산이 된다.\n",
    "\n",
    "```\n",
    "10 20 -> 1 2 -> 11 22\n",
    "30 40           31 42\n",
    "\n",
    "10 20 -> 1   -> 11 21\n",
    "30 40    2      32 42\n",
    "```"
   ]
  },
  {
   "cell_type": "markdown",
   "id": "a29d1daf-8421-4cf6-ab5b-2ad1c30cbb97",
   "metadata": {},
   "source": [
    "## 논리 인덱싱"
   ]
  },
  {
   "cell_type": "code",
   "execution_count": 265,
   "id": "2df322e6-ce6e-498d-be61-bde03c7d669c",
   "metadata": {},
   "outputs": [
    {
     "name": "stdout",
     "output_type": "stream",
     "text": [
      "(3, 3)\n",
      "2\n",
      "[[10 20 30]\n",
      " [40 50 60]\n",
      " [70 80 90]]\n"
     ]
    }
   ],
   "source": [
    "arr = np.array([[10,20,30],[40,50,60], [70,80,90]])\n",
    "print(arr.shape)\n",
    "print(arr.ndim)\n",
    "print(arr)\n"
   ]
  },
  {
   "cell_type": "code",
   "execution_count": 269,
   "id": "c737daee-e04a-4a47-ac83-ff175c0b195d",
   "metadata": {},
   "outputs": [
    {
     "name": "stdout",
     "output_type": "stream",
     "text": [
      "[10 20 30]\n",
      "10\n",
      "[60 70 80 90]\n",
      "(4,)\n"
     ]
    }
   ],
   "source": [
    "print(arr[0])\n",
    "print(arr[0][0])\n",
    "print(arr[arr>50])\n",
    "print(arr[arr>50].shape)"
   ]
  },
  {
   "cell_type": "code",
   "execution_count": 277,
   "id": "2806ca2a-e327-4364-9354-e7e51ea3e3a9",
   "metadata": {},
   "outputs": [
    {
     "data": {
      "text/plain": [
       "array([10, 20, 30, 40, 50, 60, 70, 80, 90])"
      ]
     },
     "execution_count": 277,
     "metadata": {},
     "output_type": "execute_result"
    }
   ],
   "source": [
    "arr"
   ]
  },
  {
   "cell_type": "code",
   "execution_count": 279,
   "id": "131abad1-f9e5-4ec3-84c2-3394c86520ca",
   "metadata": {},
   "outputs": [],
   "source": [
    "arr.resize(arr.size)"
   ]
  },
  {
   "cell_type": "code",
   "execution_count": 283,
   "id": "16c40cd5-9025-4d38-b146-ef9879ecaf59",
   "metadata": {},
   "outputs": [
    {
     "data": {
      "text/plain": [
       "(array([5, 6, 7, 8], dtype=int64),)"
      ]
     },
     "execution_count": 283,
     "metadata": {},
     "output_type": "execute_result"
    }
   ],
   "source": [
    "np.where(arr>50)"
   ]
  },
  {
   "cell_type": "code",
   "execution_count": 293,
   "id": "cb55934c-7a2e-4ed9-8599-12265bce7669",
   "metadata": {},
   "outputs": [
    {
     "data": {
      "text/plain": [
       "array(['0', '0', '0', '0', '0', '50보다 크다', '50보다 크다', '50보다 크다',\n",
       "       '50보다 크다'], dtype='<U11')"
      ]
     },
     "execution_count": 293,
     "metadata": {},
     "output_type": "execute_result"
    }
   ],
   "source": [
    "np.where(arr>50, '50보다 크다', 0)"
   ]
  },
  {
   "cell_type": "code",
   "execution_count": 295,
   "id": "96719abe-4d2a-47e6-8931-2066dfa6ac3d",
   "metadata": {},
   "outputs": [
    {
     "data": {
      "text/plain": [
       "array(['10', '20', '30', '40', '50', '50보다 크다', '50보다 크다', '50보다 크다',\n",
       "       '50보다 크다'], dtype='<U11')"
      ]
     },
     "execution_count": 295,
     "metadata": {},
     "output_type": "execute_result"
    }
   ],
   "source": [
    "np.where(arr>50, '50보다 크다', arr)"
   ]
  },
  {
   "cell_type": "code",
   "execution_count": 299,
   "id": "b5434af3-1898-4eac-aa23-e1293e1c6949",
   "metadata": {},
   "outputs": [
    {
     "data": {
      "text/plain": [
       "array([ 0,  0,  0,  0,  0, 60, 70, 80, 90])"
      ]
     },
     "execution_count": 299,
     "metadata": {},
     "output_type": "execute_result"
    }
   ],
   "source": [
    "np.where(arr>50, arr, 0)"
   ]
  },
  {
   "cell_type": "code",
   "execution_count": 305,
   "id": "4dae5757-5607-4016-95b0-a14796f39f05",
   "metadata": {},
   "outputs": [
    {
     "data": {
      "text/plain": [
       "array([20, 50, 70])"
      ]
     },
     "execution_count": 305,
     "metadata": {},
     "output_type": "execute_result"
    }
   ],
   "source": [
    "arr[[1,4,6]]"
   ]
  },
  {
   "cell_type": "code",
   "execution_count": 307,
   "id": "ea1abcce-4a4d-4b20-a8cc-49d6f732a88d",
   "metadata": {},
   "outputs": [
    {
     "data": {
      "text/plain": [
       "array([60, 70, 80, 90])"
      ]
     },
     "execution_count": 307,
     "metadata": {},
     "output_type": "execute_result"
    }
   ],
   "source": [
    "arr[np.where(arr>50)]"
   ]
  },
  {
   "cell_type": "code",
   "execution_count": 309,
   "id": "77131ced-4227-4935-963a-9066c283cb33",
   "metadata": {},
   "outputs": [
    {
     "data": {
      "text/plain": [
       "(3, 3)"
      ]
     },
     "execution_count": 309,
     "metadata": {},
     "output_type": "execute_result"
    }
   ],
   "source": [
    "arr.resize(3,3)\n",
    "arr.shape"
   ]
  },
  {
   "cell_type": "code",
   "execution_count": 311,
   "id": "edd52fe5-63e8-46c6-be18-fa468358aa09",
   "metadata": {},
   "outputs": [
    {
     "data": {
      "text/plain": [
       "array([60, 70, 80, 90])"
      ]
     },
     "execution_count": 311,
     "metadata": {},
     "output_type": "execute_result"
    }
   ],
   "source": [
    "arr[np.where(arr>50)]"
   ]
  },
  {
   "cell_type": "code",
   "execution_count": null,
   "id": "726869e2-a232-431a-921d-e0de4bd76e17",
   "metadata": {},
   "outputs": [],
   "source": [
    "## 수학함수 사용"
   ]
  },
  {
   "cell_type": "markdown",
   "id": "ceb18029-719e-4406-b4f1-9ff19df1619c",
   "metadata": {},
   "source": [
    "```\n",
    "np.function_name(a, b)\n",
    "```\n",
    "\n",
    "add : 더하기\n",
    "subtract :  빼기\n",
    "muliply : 곱하기\n",
    "divide : 나누기\n",
    "mod(=remainder) : 나머지\n",
    "divmod : 몫과 나머지"
   ]
  },
  {
   "cell_type": "code",
   "execution_count": 325,
   "id": "9b1181ae-045a-4842-82f6-28ea9f535de8",
   "metadata": {},
   "outputs": [],
   "source": [
    "a = np.array([11, 21, 31])\n",
    "b = np.array([1, 2, 3])"
   ]
  },
  {
   "cell_type": "code",
   "execution_count": 315,
   "id": "935e225a-aaad-420e-be25-eb5919e39ccc",
   "metadata": {},
   "outputs": [
    {
     "data": {
      "text/plain": [
       "array([11, 22, 33])"
      ]
     },
     "execution_count": 315,
     "metadata": {},
     "output_type": "execute_result"
    }
   ],
   "source": [
    "np.add(a, b)"
   ]
  },
  {
   "cell_type": "code",
   "execution_count": 317,
   "id": "8ae60fd4-1c95-41b9-9be0-9148bd66ff0c",
   "metadata": {},
   "outputs": [
    {
     "data": {
      "text/plain": [
       "array([ 9, 18, 27])"
      ]
     },
     "execution_count": 317,
     "metadata": {},
     "output_type": "execute_result"
    }
   ],
   "source": [
    "np.subtract(a, b)"
   ]
  },
  {
   "cell_type": "code",
   "execution_count": 319,
   "id": "ec1091f0-70ea-42b2-a0f2-b4e91b553b23",
   "metadata": {},
   "outputs": [
    {
     "data": {
      "text/plain": [
       "array([10, 40, 90])"
      ]
     },
     "execution_count": 319,
     "metadata": {},
     "output_type": "execute_result"
    }
   ],
   "source": [
    "np.multiply(a, b)"
   ]
  },
  {
   "cell_type": "code",
   "execution_count": 321,
   "id": "17136d01-f088-4959-8995-5518efa9b85a",
   "metadata": {},
   "outputs": [
    {
     "data": {
      "text/plain": [
       "array([10., 10., 10.])"
      ]
     },
     "execution_count": 321,
     "metadata": {},
     "output_type": "execute_result"
    }
   ],
   "source": [
    "np.divide(a, b)"
   ]
  },
  {
   "cell_type": "code",
   "execution_count": 327,
   "id": "e1b924c5-c1b3-4483-b310-e1ed6f5f7bd9",
   "metadata": {},
   "outputs": [
    {
     "data": {
      "text/plain": [
       "array([0, 1, 1])"
      ]
     },
     "execution_count": 327,
     "metadata": {},
     "output_type": "execute_result"
    }
   ],
   "source": [
    "np.mod(a, b)"
   ]
  },
  {
   "cell_type": "code",
   "execution_count": 331,
   "id": "b7c6be2b-3ca9-49f1-b296-d9d60b203115",
   "metadata": {},
   "outputs": [
    {
     "data": {
      "text/plain": [
       "(array([11, 10, 10]), array([0, 1, 1]))"
      ]
     },
     "execution_count": 331,
     "metadata": {},
     "output_type": "execute_result"
    }
   ],
   "source": [
    "np.divmod(a, b)"
   ]
  },
  {
   "cell_type": "code",
   "execution_count": 341,
   "id": "d363a6ce-0e12-4f63-92f2-990b62239c2a",
   "metadata": {},
   "outputs": [
    {
     "name": "stdout",
     "output_type": "stream",
     "text": [
      "<class 'tuple'>\n",
      "몫 [11 10 10]\n",
      "나머지 [0 1 1]\n"
     ]
    }
   ],
   "source": [
    "rs = np.divmod(a, b)\n",
    "print(type(rs))\n",
    "print(\"몫\", rs[0])\n",
    "print(\"나머지\", rs[1])"
   ]
  },
  {
   "cell_type": "code",
   "execution_count": null,
   "id": "8963e159-08ac-4766-8015-b87410fcb80a",
   "metadata": {},
   "outputs": [],
   "source": [
    "## 소수점 처리 함수\n",
    "round, around, ceil, floor, fix(0에 가깝게)"
   ]
  },
  {
   "cell_type": "code",
   "execution_count": 367,
   "id": "ec82cca1-9fcf-4831-b8b1-1a9dd1c506bb",
   "metadata": {},
   "outputs": [],
   "source": [
    "a = np.array([1.2, 2.39, 3.14, 4.49, 5.62])"
   ]
  },
  {
   "cell_type": "code",
   "execution_count": 349,
   "id": "a72918b0-a42a-4f22-b2d5-3fb3e98b3307",
   "metadata": {},
   "outputs": [
    {
     "data": {
      "text/plain": [
       "array([1., 2., 3., 4., 6.])"
      ]
     },
     "execution_count": 349,
     "metadata": {},
     "output_type": "execute_result"
    }
   ],
   "source": [
    "np.round(a)"
   ]
  },
  {
   "cell_type": "code",
   "execution_count": 361,
   "id": "3b90cdc5-33ea-4261-9feb-1a94e32a6c62",
   "metadata": {},
   "outputs": [
    {
     "data": {
      "text/plain": [
       "array([1.2, 2.4, 3.1, 4.5, 5.6])"
      ]
     },
     "execution_count": 361,
     "metadata": {},
     "output_type": "execute_result"
    }
   ],
   "source": [
    "np.round(a, 1)"
   ]
  },
  {
   "cell_type": "code",
   "execution_count": 369,
   "id": "a942d39c-c8cb-4a1f-96ac-8e7a0e08e53d",
   "metadata": {},
   "outputs": [
    {
     "data": {
      "text/plain": [
       "array([2., 3., 4., 5., 6.])"
      ]
     },
     "execution_count": 369,
     "metadata": {},
     "output_type": "execute_result"
    }
   ],
   "source": [
    "np.ceil(a)"
   ]
  },
  {
   "cell_type": "code",
   "execution_count": 371,
   "id": "6c19509b-9c05-446b-bfda-1d21f279b486",
   "metadata": {},
   "outputs": [
    {
     "data": {
      "text/plain": [
       "array([1., 2., 3., 4., 5.])"
      ]
     },
     "execution_count": 371,
     "metadata": {},
     "output_type": "execute_result"
    }
   ],
   "source": [
    "np.floor(a)"
   ]
  },
  {
   "cell_type": "markdown",
   "id": "dc2ea5d0-ad48-44e7-baec-8b2f474d60ef",
   "metadata": {},
   "source": [
    "## 부호, 제곱, 제곱근\n",
    "sign : 부호\n",
    "abs(absolute) : 절대값\n",
    "positive : 양수 리턴\n",
    "negative : 음수 리턴 \n",
    "square : (무조건) 제곱 \n",
    "power : 몇제곱할 것인지 지정 \n",
    "sqrt : 제곱근 계산 "
   ]
  },
  {
   "cell_type": "code",
   "execution_count": 377,
   "id": "886daa50-48df-4408-b93a-496970860969",
   "metadata": {},
   "outputs": [],
   "source": [
    "a = np.array([10, -20, 30, -40, 50])"
   ]
  },
  {
   "cell_type": "code",
   "execution_count": 379,
   "id": "30b81c57-17cc-4346-8cbc-3fb3e343c54c",
   "metadata": {},
   "outputs": [
    {
     "data": {
      "text/plain": [
       "array([ 1, -1,  1, -1,  1])"
      ]
     },
     "execution_count": 379,
     "metadata": {},
     "output_type": "execute_result"
    }
   ],
   "source": [
    "np.sign(a)"
   ]
  },
  {
   "cell_type": "code",
   "execution_count": 381,
   "id": "71220a67-795f-4499-a9a6-f241b396390d",
   "metadata": {},
   "outputs": [
    {
     "data": {
      "text/plain": [
       "array([10, 20, 30, 40, 50])"
      ]
     },
     "execution_count": 381,
     "metadata": {},
     "output_type": "execute_result"
    }
   ],
   "source": [
    "np.abs(a)"
   ]
  },
  {
   "cell_type": "code",
   "execution_count": 383,
   "id": "e95048f1-ec0e-4705-a9fb-90f2975a0914",
   "metadata": {},
   "outputs": [
    {
     "data": {
      "text/plain": [
       "array([ 10, -20,  30, -40,  50])"
      ]
     },
     "execution_count": 383,
     "metadata": {},
     "output_type": "execute_result"
    }
   ],
   "source": [
    "np.positive(a)"
   ]
  },
  {
   "cell_type": "code",
   "execution_count": 385,
   "id": "a25af044-ea9c-4296-94bc-e76f8656c888",
   "metadata": {},
   "outputs": [
    {
     "data": {
      "text/plain": [
       "array([-10,  20, -30,  40, -50])"
      ]
     },
     "execution_count": 385,
     "metadata": {},
     "output_type": "execute_result"
    }
   ],
   "source": [
    "np.negative(a)"
   ]
  },
  {
   "cell_type": "code",
   "execution_count": 387,
   "id": "dc734762-b5b2-4e5a-951d-91b1b149ec3e",
   "metadata": {},
   "outputs": [
    {
     "data": {
      "text/plain": [
       "array([ 100,  400,  900, 1600, 2500])"
      ]
     },
     "execution_count": 387,
     "metadata": {},
     "output_type": "execute_result"
    }
   ],
   "source": [
    "np.square(a)"
   ]
  },
  {
   "cell_type": "code",
   "execution_count": 393,
   "id": "0027aeb6-126f-4c02-9bec-8679d0933003",
   "metadata": {},
   "outputs": [
    {
     "data": {
      "text/plain": [
       "array([  1000,  -8000,  27000, -64000, 125000], dtype=int32)"
      ]
     },
     "execution_count": 393,
     "metadata": {},
     "output_type": "execute_result"
    }
   ],
   "source": [
    "np.power(a, 3)"
   ]
  },
  {
   "cell_type": "code",
   "execution_count": 395,
   "id": "3d4c627e-793a-4485-b57e-9b8af2b546f1",
   "metadata": {},
   "outputs": [
    {
     "data": {
      "text/plain": [
       "array([1.        , 3.        , 6.        , 7.07106781])"
      ]
     },
     "execution_count": 395,
     "metadata": {},
     "output_type": "execute_result"
    }
   ],
   "source": [
    "b = np.array([1, 9, 36, 50])\n",
    "np.sqrt(b)"
   ]
  },
  {
   "cell_type": "markdown",
   "id": "3a2b83b6-a6f9-4a8a-8ebc-2fcc6564c49b",
   "metadata": {},
   "source": [
    "## 삼각함수 \n",
    "sin : 사인\n",
    "cos : 코사인\n",
    "tan : 탄젠트"
   ]
  },
  {
   "cell_type": "code",
   "execution_count": 404,
   "id": "ba52e76c-baaa-473f-8cfd-75360c777f21",
   "metadata": {},
   "outputs": [],
   "source": [
    "arr = np.array([0, 30, 45, 60, 90])"
   ]
  },
  {
   "cell_type": "code",
   "execution_count": 406,
   "id": "cc59bddf-971f-4fd1-9252-aa57198a34e3",
   "metadata": {},
   "outputs": [
    {
     "data": {
      "text/plain": [
       "array([ 0.        , -0.98803162,  0.85090352, -0.30481062,  0.89399666])"
      ]
     },
     "execution_count": 406,
     "metadata": {},
     "output_type": "execute_result"
    }
   ],
   "source": [
    "np.sin(arr)"
   ]
  },
  {
   "cell_type": "code",
   "execution_count": 408,
   "id": "8676d644-581f-43bd-a1d7-67072514d152",
   "metadata": {},
   "outputs": [
    {
     "data": {
      "text/plain": [
       "array([0.        , 0.5       , 0.70710678, 0.8660254 , 1.        ])"
      ]
     },
     "execution_count": 408,
     "metadata": {},
     "output_type": "execute_result"
    }
   ],
   "source": [
    "np.sin(arr*np.pi / 180) #  라디안 값으로 "
   ]
  },
  {
   "cell_type": "code",
   "execution_count": 410,
   "id": "19b82177-ae2e-4bb0-a36b-35d2af2acbf7",
   "metadata": {},
   "outputs": [
    {
     "data": {
      "text/plain": [
       "array([0.        , 0.5       , 0.70710678, 0.8660254 , 1.        ])"
      ]
     },
     "execution_count": 410,
     "metadata": {},
     "output_type": "execute_result"
    }
   ],
   "source": [
    "np.sin(np.radians(arr))"
   ]
  },
  {
   "cell_type": "code",
   "execution_count": 418,
   "id": "2d9c4c45-07df-43ca-9f2e-3ca58d5c3ba0",
   "metadata": {},
   "outputs": [
    {
     "data": {
      "text/plain": [
       "array([ 1. ,  2.8,  4.6,  6.4,  8.2, 10. ])"
      ]
     },
     "execution_count": 418,
     "metadata": {},
     "output_type": "execute_result"
    }
   ],
   "source": [
    "np.linspace(1, 10, 6)"
   ]
  },
  {
   "cell_type": "code",
   "execution_count": 420,
   "id": "e140657a-db02-4dc9-b59e-28806b836fde",
   "metadata": {},
   "outputs": [
    {
     "data": {
      "text/plain": [
       "array([-3.        , -2.79310345, -2.5862069 , -2.37931034, -2.17241379,\n",
       "       -1.96551724, -1.75862069, -1.55172414, -1.34482759, -1.13793103,\n",
       "       -0.93103448, -0.72413793, -0.51724138, -0.31034483, -0.10344828,\n",
       "        0.10344828,  0.31034483,  0.51724138,  0.72413793,  0.93103448,\n",
       "        1.13793103,  1.34482759,  1.55172414,  1.75862069,  1.96551724,\n",
       "        2.17241379,  2.37931034,  2.5862069 ,  2.79310345,  3.        ])"
      ]
     },
     "execution_count": 420,
     "metadata": {},
     "output_type": "execute_result"
    }
   ],
   "source": [
    "np.linspace(-3, 3, 30)"
   ]
  },
  {
   "cell_type": "code",
   "execution_count": 422,
   "id": "52b41758-adc6-488b-bc2f-ed0ca23b6966",
   "metadata": {},
   "outputs": [
    {
     "data": {
      "text/plain": [
       "array([-0.14112001, -0.34147822, -0.52727112, -0.69057395, -0.82442125,\n",
       "       -0.92310392, -0.9824128 , -0.99981813, -0.97457752, -0.90776756,\n",
       "       -0.80223796, -0.66248994, -0.49448427, -0.30538701, -0.10326387,\n",
       "        0.10326387,  0.30538701,  0.49448427,  0.66248994,  0.80223796,\n",
       "        0.90776756,  0.97457752,  0.99981813,  0.9824128 ,  0.92310392,\n",
       "        0.82442125,  0.69057395,  0.52727112,  0.34147822,  0.14112001])"
      ]
     },
     "execution_count": 422,
     "metadata": {},
     "output_type": "execute_result"
    }
   ],
   "source": [
    "np.sin(np.linspace(-3, 3, 30))"
   ]
  },
  {
   "cell_type": "code",
   "execution_count": 480,
   "id": "2b982568-cac0-4383-8973-2a9994b75313",
   "metadata": {},
   "outputs": [
    {
     "data": {
      "image/png": "[encoded data removed]",
      "text/plain": [
       "<Figure size 640x480 with 1 Axes>"
      ]
     },
     "metadata": {},
     "output_type": "display_data"
    }
   ],
   "source": [
    "import numpy as np\n",
    "import matplotlib.pyplot as plt\n",
    "\n",
    "x = np.linspace(-3, 3, 30)\n",
    "y = np.sin(x)\n",
    "plt.plot(x, y, marker='o')\n",
    "plt.legend()\n",
    "plt.show()\n",
    "\n",
    "\n"
   ]
  },
  {
   "cell_type": "code",
   "execution_count": 486,
   "id": "01b39a34-287c-4f9a-8070-8b392bbb37df",
   "metadata": {},
   "outputs": [
    {
     "name": "stderr",
     "output_type": "stream",
     "text": [
      "C:\\Users\\kj\\AppData\\Local\\Temp\\ipykernel_10556\\4243327664.py:5: RuntimeWarning: invalid value encountered in arcsin\n",
      "  y = np.arcsin(x)\n"
     ]
    },
    {
     "data": {
      "image/png": "[encoded data removed]",
      "text/plain": [
       "<Figure size 640x480 with 1 Axes>"
      ]
     },
     "metadata": {},
     "output_type": "display_data"
    }
   ],
   "source": [
    "import numpy as np\n",
    "import matplotlib.pyplot as plt\n",
    "\n",
    "x = np.linspace(-3, 3, 30)\n",
    "y = np.arcsin(x)\n",
    "plt.plot(x, y, marker='o')\n",
    "plt.show()\n",
    "\n",
    "\n"
   ]
  },
  {
   "cell_type": "code",
   "execution_count": 504,
   "id": "6ed17b9e-a795-42d9-8d85-4377e727a842",
   "metadata": {},
   "outputs": [
    {
     "data": {
      "text/plain": [
       "array([ 80,  90, 100])"
      ]
     },
     "execution_count": 504,
     "metadata": {},
     "output_type": "execute_result"
    }
   ],
   "source": [
    "a = np.array([10,20,30,40,50,60,70,80,90,100])\n",
    "\n",
    "a[np.logical_and(a>=80, a<=100)]\n"
   ]
  },
  {
   "cell_type": "markdown",
   "id": "4cb3c312-711b-46c1-a533-13344571983b",
   "metadata": {},
   "source": [
    "## 비교연산 함수\n",
    "less : <, 작다\n",
    "less_equal : <=, 작거나 같다\n",
    "greater : >, 크다\n",
    "greater_equal : >=, 크거나 같다\n",
    "not_equal : <>, != "
   ]
  },
  {
   "cell_type": "code",
   "execution_count": 508,
   "id": "27472d19-ed59-437e-9d1c-26d9a0d0b69c",
   "metadata": {},
   "outputs": [
    {
     "data": {
      "text/plain": [
       "array([False, False, False, False, False, False, False, False,  True,\n",
       "        True])"
      ]
     },
     "execution_count": 508,
     "metadata": {},
     "output_type": "execute_result"
    }
   ],
   "source": [
    "a>80"
   ]
  },
  {
   "cell_type": "code",
   "execution_count": 510,
   "id": "ea023b71-0299-4909-b411-9f69f38f8a85",
   "metadata": {},
   "outputs": [
    {
     "data": {
      "text/plain": [
       "array([ 90, 100])"
      ]
     },
     "execution_count": 510,
     "metadata": {},
     "output_type": "execute_result"
    }
   ],
   "source": [
    "a[a>80]"
   ]
  },
  {
   "cell_type": "code",
   "execution_count": 512,
   "id": "5c106d7e-09da-4f41-9442-745e44f10b2b",
   "metadata": {},
   "outputs": [
    {
     "data": {
      "text/plain": [
       "array([False, False, False, False, False, False, False, False,  True,\n",
       "        True])"
      ]
     },
     "execution_count": 512,
     "metadata": {},
     "output_type": "execute_result"
    }
   ],
   "source": [
    "np.greater(a, 80)"
   ]
  },
  {
   "cell_type": "code",
   "execution_count": 1,
   "id": "84050c4d-284c-4916-8903-7c10eb53dc87",
   "metadata": {},
   "outputs": [],
   "source": [
    "## 최댓값"
   ]
  },
  {
   "cell_type": "code",
   "execution_count": 48,
   "id": "8dad0902-6d9e-4733-a420-a47ec7cedf01",
   "metadata": {},
   "outputs": [],
   "source": [
    "import numpy as np\n",
    "arr = np.array([[80,60,90],[100,60,90]])"
   ]
  },
  {
   "cell_type": "code",
   "execution_count": 49,
   "id": "6af0aed7-3c83-4ca1-aed5-456bd5fa4420",
   "metadata": {},
   "outputs": [
    {
     "data": {
      "text/plain": [
       "array([[ 80,  60,  90],\n",
       "       [100,  60,  90]])"
      ]
     },
     "execution_count": 49,
     "metadata": {},
     "output_type": "execute_result"
    }
   ],
   "source": [
    "arr"
   ]
  },
  {
   "cell_type": "code",
   "execution_count": 50,
   "id": "708ac266-8dde-4554-befe-0549b3e25fdd",
   "metadata": {},
   "outputs": [
    {
     "data": {
      "text/plain": [
       "100"
      ]
     },
     "execution_count": 50,
     "metadata": {},
     "output_type": "execute_result"
    }
   ],
   "source": [
    "np.max(arr)"
   ]
  },
  {
   "cell_type": "code",
   "execution_count": 51,
   "id": "532d9243-18dd-453d-9fcd-27b97dc5505b",
   "metadata": {},
   "outputs": [
    {
     "data": {
      "text/plain": [
       "array([100,  60,  90])"
      ]
     },
     "execution_count": 51,
     "metadata": {},
     "output_type": "execute_result"
    }
   ],
   "source": [
    "np.max(arr, axis=0)"
   ]
  },
  {
   "cell_type": "code",
   "execution_count": 52,
   "id": "f11eb078-00a9-45e5-89ea-69c10e719594",
   "metadata": {},
   "outputs": [
    {
     "data": {
      "text/plain": [
       "array([ 90, 100])"
      ]
     },
     "execution_count": 52,
     "metadata": {},
     "output_type": "execute_result"
    }
   ],
   "source": [
    "np.max(arr, axis=1)"
   ]
  },
  {
   "cell_type": "code",
   "execution_count": 53,
   "id": "a4903bda-74b6-4a5b-928b-90688bb0272f",
   "metadata": {},
   "outputs": [
    {
     "data": {
      "text/plain": [
       "3"
      ]
     },
     "execution_count": 53,
     "metadata": {},
     "output_type": "execute_result"
    }
   ],
   "source": [
    "np.argmax(arr)"
   ]
  },
  {
   "cell_type": "markdown",
   "id": "2d800b28-9381-4a0e-ba09-f918cc1b8e17",
   "metadata": {},
   "source": [
    "## argmax\n",
    "최댓값이 아닌 인덱스를 구한다 "
   ]
  },
  {
   "cell_type": "code",
   "execution_count": 54,
   "id": "fb419868-a39f-4f43-a6d8-be11e867ea24",
   "metadata": {
    "scrolled": true
   },
   "outputs": [
    {
     "data": {
      "text/plain": [
       "array([1, 0, 0], dtype=int64)"
      ]
     },
     "execution_count": 54,
     "metadata": {},
     "output_type": "execute_result"
    }
   ],
   "source": [
    "np.argmax(arr, axis=0)"
   ]
  },
  {
   "cell_type": "code",
   "execution_count": 63,
   "id": "eaff8106-00c2-4537-a90f-cc58c340890a",
   "metadata": {},
   "outputs": [
    {
     "data": {
      "text/plain": [
       "array([2, 0], dtype=int64)"
      ]
     },
     "execution_count": 63,
     "metadata": {},
     "output_type": "execute_result"
    }
   ],
   "source": [
    "np.argmax(arr, axis=1)"
   ]
  },
  {
   "cell_type": "code",
   "execution_count": 65,
   "id": "591036d9-0a51-4a08-91b7-d57669f18ca3",
   "metadata": {},
   "outputs": [
    {
     "data": {
      "text/plain": [
       "array([ 90, 100])"
      ]
     },
     "execution_count": 65,
     "metadata": {},
     "output_type": "execute_result"
    }
   ],
   "source": [
    "np.max(arr, axis=1)"
   ]
  },
  {
   "cell_type": "code",
   "execution_count": 81,
   "id": "e9e763cd-748d-4140-8ea5-5c51ef274155",
   "metadata": {},
   "outputs": [
    {
     "data": {
      "text/plain": [
       "array([ 90, 100])"
      ]
     },
     "execution_count": 81,
     "metadata": {},
     "output_type": "execute_result"
    }
   ],
   "source": [
    "#o = np.zeros((1,2))\n",
    "o = np.array([0,0])\n",
    "np.max(arr, axis=1, out=o)"
   ]
  },
  {
   "cell_type": "code",
   "execution_count": 87,
   "id": "ebfdcb28-5e74-491a-9cf5-eb4b31f5972e",
   "metadata": {},
   "outputs": [
    {
     "data": {
      "text/plain": [
       "array([ 90, 100])"
      ]
     },
     "execution_count": 87,
     "metadata": {},
     "output_type": "execute_result"
    }
   ],
   "source": [
    "o"
   ]
  },
  {
   "cell_type": "code",
   "execution_count": null,
   "id": "b4c3aac8-5fd1-419e-bd41-90c68fa33a3d",
   "metadata": {},
   "outputs": [],
   "source": [
    "## max, maximum의 차이\n",
    "max: 배열 하나에서 가장 최댓값"
   ]
  },
  {
   "cell_type": "code",
   "execution_count": 25,
   "id": "1126b6a2-bfbc-4470-a4b0-6ff52de9b031",
   "metadata": {},
   "outputs": [
    {
     "name": "stdout",
     "output_type": "stream",
     "text": [
      "[[1 2 3]\n",
      " [4 5 6]\n",
      " [7 8 9]]\n"
     ]
    }
   ],
   "source": [
    "import numpy as np\n",
    "a = np.array([i for i in range(1,10)])\n",
    "a.resize(3,3)\n",
    "\n",
    "print(a)"
   ]
  },
  {
   "cell_type": "markdown",
   "id": "d8dd33b1-ebd4-4bff-a65d-58de84b9530b",
   "metadata": {},
   "source": [
    "## np.max()"
   ]
  },
  {
   "cell_type": "code",
   "execution_count": 19,
   "id": "148ecec9-0837-407f-974c-8cb93a41d552",
   "metadata": {},
   "outputs": [
    {
     "name": "stdout",
     "output_type": "stream",
     "text": [
      "[7 8 9]\n"
     ]
    }
   ],
   "source": [
    "#  배열 전체 요소중 가장 큰 값\n",
    "print(np.max(a, axis=0)) #  행 방향(행이 늘어나는, 세로 )"
   ]
  },
  {
   "cell_type": "code",
   "execution_count": null,
   "id": "aef9cf6d-af55-4ca3-8417-6faba654ab00",
   "metadata": {},
   "outputs": [],
   "source": [
    "행이 늘어나는 세로 방향중 \n",
    "[1,2,3] \n",
    "[4,5,6] \n",
    "[7,8,9] \n",
    "1, 4, 7 중에서 7\n",
    "2, 5, 8 중에서 8\n",
    "3, 6, 9 중에서 9\n",
    "결과: [7 8 9]"
   ]
  },
  {
   "cell_type": "code",
   "execution_count": 17,
   "id": "9030e9e3-7ee5-4c04-92db-b537573f7ae8",
   "metadata": {},
   "outputs": [
    {
     "name": "stdout",
     "output_type": "stream",
     "text": [
      "[3 6 9]\n"
     ]
    }
   ],
   "source": [
    "print(np.max(a, axis=1)) # 열 방향(열이 늘어나는, 가로)"
   ]
  },
  {
   "cell_type": "markdown",
   "id": "75ced24d-2a28-4b09-91ca-1dae46ca7bc2",
   "metadata": {},
   "source": [
    "열이 늘어나는 가로 방향에서 \n",
    "[1,2,3] 요소중 3\n",
    "[4,5,6] 요소중 6\n",
    "[7,8,9] 요소중 9\n",
    "결과 : [3 6 9]"
   ]
  },
  {
   "cell_type": "code",
   "execution_count": null,
   "id": "25fd4277-d13d-4880-acd8-38c8fa17e187",
   "metadata": {},
   "outputs": [],
   "source": [
    "### np.max() 함수의 out 옵션\n",
    "out옵션으로 저장할 변수를 지정할 수 있으며 배열타입이어야한다."
   ]
  },
  {
   "cell_type": "code",
   "execution_count": 59,
   "id": "527deb9e-f8fb-45d8-9943-5b1183d1aec3",
   "metadata": {},
   "outputs": [
    {
     "name": "stdout",
     "output_type": "stream",
     "text": [
      "[7 8 9]\n"
     ]
    }
   ],
   "source": [
    "o = np.array([0,0,0])\n",
    "np.max(a, axis=0, out=o)\n",
    "print(o)"
   ]
  },
  {
   "cell_type": "code",
   "execution_count": 57,
   "id": "57a70cec-344d-4702-9563-f35f51aa29ec",
   "metadata": {},
   "outputs": [
    {
     "name": "stdout",
     "output_type": "stream",
     "text": [
      "[3 6 9]\n"
     ]
    }
   ],
   "source": [
    "o = np.array([0,0,0])\n",
    "np.max(a, axis=1, out=o)\n",
    "print(o)"
   ]
  },
  {
   "cell_type": "code",
   "execution_count": null,
   "id": "9a79fb05-2545-40fe-8ef3-4a78e839c689",
   "metadata": {},
   "outputs": [],
   "source": [
    "## np.argmax()"
   ]
  },
  {
   "cell_type": "markdown",
   "id": "83255343-155d-476c-9ff1-53b7f240f74f",
   "metadata": {},
   "source": [
    "## np.mean()"
   ]
  },
  {
   "cell_type": "code",
   "execution_count": 67,
   "id": "abbd432a-a75d-45c4-af02-ad06cd1c705e",
   "metadata": {},
   "outputs": [
    {
     "data": {
      "text/plain": [
       "10.0"
      ]
     },
     "execution_count": 67,
     "metadata": {},
     "output_type": "execute_result"
    }
   ],
   "source": [
    "a = np.array([5, 10, 15])\n",
    "print(np.mean(a))"
   ]
  },
  {
   "cell_type": "code",
   "execution_count": 69,
   "id": "2937e68b-7a58-44f4-907c-c5b326f3b0eb",
   "metadata": {},
   "outputs": [
    {
     "name": "stdout",
     "output_type": "stream",
     "text": [
      "10.0\n"
     ]
    }
   ],
   "source": [
    "print(np.mean(a, axis=0))"
   ]
  },
  {
   "cell_type": "code",
   "execution_count": 71,
   "id": "3f04b841-168b-4150-beb7-493cc8cda766",
   "metadata": {},
   "outputs": [
    {
     "ename": "AxisError",
     "evalue": "axis 1 is out of bounds for array of dimension 1",
     "output_type": "error",
     "traceback": [
      "\u001b[1;31m---------------------------------------------------------------------------\u001b[0m",
      "\u001b[1;31mAxisError\u001b[0m                                 Traceback (most recent call last)",
      "Cell \u001b[1;32mIn[71], line 1\u001b[0m\n\u001b[1;32m----> 1\u001b[0m \u001b[38;5;28mprint\u001b[39m(np\u001b[38;5;241m.\u001b[39mmean(a, axis\u001b[38;5;241m=\u001b[39m\u001b[38;5;241m1\u001b[39m))\n",
      "File \u001b[1;32m~\\anaconda3\\Lib\\site-packages\\numpy\\core\\fromnumeric.py:3504\u001b[0m, in \u001b[0;36mmean\u001b[1;34m(a, axis, dtype, out, keepdims, where)\u001b[0m\n\u001b[0;32m   3501\u001b[0m     \u001b[38;5;28;01melse\u001b[39;00m:\n\u001b[0;32m   3502\u001b[0m         \u001b[38;5;28;01mreturn\u001b[39;00m mean(axis\u001b[38;5;241m=\u001b[39maxis, dtype\u001b[38;5;241m=\u001b[39mdtype, out\u001b[38;5;241m=\u001b[39mout, \u001b[38;5;241m*\u001b[39m\u001b[38;5;241m*\u001b[39mkwargs)\n\u001b[1;32m-> 3504\u001b[0m \u001b[38;5;28;01mreturn\u001b[39;00m _methods\u001b[38;5;241m.\u001b[39m_mean(a, axis\u001b[38;5;241m=\u001b[39maxis, dtype\u001b[38;5;241m=\u001b[39mdtype,\n\u001b[0;32m   3505\u001b[0m                       out\u001b[38;5;241m=\u001b[39mout, \u001b[38;5;241m*\u001b[39m\u001b[38;5;241m*\u001b[39mkwargs)\n",
      "File \u001b[1;32m~\\anaconda3\\Lib\\site-packages\\numpy\\core\\_methods.py:106\u001b[0m, in \u001b[0;36m_mean\u001b[1;34m(a, axis, dtype, out, keepdims, where)\u001b[0m\n\u001b[0;32m    102\u001b[0m arr \u001b[38;5;241m=\u001b[39m asanyarray(a)\n\u001b[0;32m    104\u001b[0m is_float16_result \u001b[38;5;241m=\u001b[39m \u001b[38;5;28;01mFalse\u001b[39;00m\n\u001b[1;32m--> 106\u001b[0m rcount \u001b[38;5;241m=\u001b[39m _count_reduce_items(arr, axis, keepdims\u001b[38;5;241m=\u001b[39mkeepdims, where\u001b[38;5;241m=\u001b[39mwhere)\n\u001b[0;32m    107\u001b[0m \u001b[38;5;28;01mif\u001b[39;00m rcount \u001b[38;5;241m==\u001b[39m \u001b[38;5;241m0\u001b[39m \u001b[38;5;28;01mif\u001b[39;00m where \u001b[38;5;129;01mis\u001b[39;00m \u001b[38;5;28;01mTrue\u001b[39;00m \u001b[38;5;28;01melse\u001b[39;00m umr_any(rcount \u001b[38;5;241m==\u001b[39m \u001b[38;5;241m0\u001b[39m, axis\u001b[38;5;241m=\u001b[39m\u001b[38;5;28;01mNone\u001b[39;00m):\n\u001b[0;32m    108\u001b[0m     warnings\u001b[38;5;241m.\u001b[39mwarn(\u001b[38;5;124m\"\u001b[39m\u001b[38;5;124mMean of empty slice.\u001b[39m\u001b[38;5;124m\"\u001b[39m, \u001b[38;5;167;01mRuntimeWarning\u001b[39;00m, stacklevel\u001b[38;5;241m=\u001b[39m\u001b[38;5;241m2\u001b[39m)\n",
      "File \u001b[1;32m~\\anaconda3\\Lib\\site-packages\\numpy\\core\\_methods.py:77\u001b[0m, in \u001b[0;36m_count_reduce_items\u001b[1;34m(arr, axis, keepdims, where)\u001b[0m\n\u001b[0;32m     75\u001b[0m     items \u001b[38;5;241m=\u001b[39m \u001b[38;5;241m1\u001b[39m\n\u001b[0;32m     76\u001b[0m     \u001b[38;5;28;01mfor\u001b[39;00m ax \u001b[38;5;129;01min\u001b[39;00m axis:\n\u001b[1;32m---> 77\u001b[0m         items \u001b[38;5;241m*\u001b[39m\u001b[38;5;241m=\u001b[39m arr\u001b[38;5;241m.\u001b[39mshape[mu\u001b[38;5;241m.\u001b[39mnormalize_axis_index(ax, arr\u001b[38;5;241m.\u001b[39mndim)]\n\u001b[0;32m     78\u001b[0m     items \u001b[38;5;241m=\u001b[39m nt\u001b[38;5;241m.\u001b[39mintp(items)\n\u001b[0;32m     79\u001b[0m \u001b[38;5;28;01melse\u001b[39;00m:\n\u001b[0;32m     80\u001b[0m     \u001b[38;5;66;03m# TODO: Optimize case when `where` is broadcast along a non-reduction\u001b[39;00m\n\u001b[0;32m     81\u001b[0m     \u001b[38;5;66;03m# axis and full sum is more excessive than needed.\u001b[39;00m\n\u001b[0;32m     82\u001b[0m \n\u001b[0;32m     83\u001b[0m     \u001b[38;5;66;03m# guarded to protect circular imports\u001b[39;00m\n",
      "\u001b[1;31mAxisError\u001b[0m: axis 1 is out of bounds for array of dimension 1"
     ]
    }
   ],
   "source": [
    "print(np.mean(a, axis=1)) ## 2차원 이상일 때 axis 1 "
   ]
  },
  {
   "cell_type": "code",
   "execution_count": 74,
   "id": "5f449d71-1cc2-436f-a359-9d56f85b6d46",
   "metadata": {},
   "outputs": [
    {
     "name": "stdout",
     "output_type": "stream",
     "text": [
      "nan\n"
     ]
    }
   ],
   "source": [
    "a = np.array([5, np.nan, 15])\n",
    "print(np.mean(a)) #  nan값이 있다면 평균 계산 불가 "
   ]
  },
  {
   "cell_type": "code",
   "execution_count": 76,
   "id": "8be54c45-90a5-4a22-8e59-851f9dd1f0bc",
   "metadata": {},
   "outputs": [
    {
     "name": "stdout",
     "output_type": "stream",
     "text": [
      "10.0\n"
     ]
    }
   ],
   "source": [
    "print(np.nanmean(a)) #  nan 제외한 평균값"
   ]
  },
  {
   "cell_type": "markdown",
   "id": "79b21b68-1279-4ac4-a8a1-5d868e94df8c",
   "metadata": {},
   "source": [
    "## np.median()\n",
    "중앙값을 리턴"
   ]
  },
  {
   "cell_type": "code",
   "execution_count": 86,
   "id": "245c5bbe-3598-4c32-8f39-bc205b63344e",
   "metadata": {},
   "outputs": [],
   "source": [
    "a = np.array([5, 10, 15])\n",
    "b = np.array([5, 10, 15, 20])\n",
    "c = np.array([5, 3, 15])"
   ]
  },
  {
   "cell_type": "code",
   "execution_count": 88,
   "id": "6357ab1e-260a-4b30-bac3-16ed8831135b",
   "metadata": {},
   "outputs": [
    {
     "name": "stdout",
     "output_type": "stream",
     "text": [
      "10.0\n",
      "12.5\n",
      "5.0\n"
     ]
    }
   ],
   "source": [
    "print(np.median(a))\n",
    "print(np.median(b)) #  짝수개일 때 중앙 두 값의 평균 리턴 (10+15)/2 = 12.5\n",
    "print(np.median(c)) #  소팅 후 중앙값 리턴 "
   ]
  },
  {
   "cell_type": "markdown",
   "id": "902b1f15-3c96-4d6b-8706-eb540aff4038",
   "metadata": {},
   "source": [
    "## np.average(arr[, axis=0], weights=weight)\n",
    "가중 평균\n",
    "평균 배열과, 가중치 길이는 같아야한다."
   ]
  },
  {
   "cell_type": "code",
   "execution_count": 100,
   "id": "06f317f7-47b3-4132-b64b-659247410e92",
   "metadata": {},
   "outputs": [],
   "source": [
    "kor = np.array([70, 80, 50, 30])\n",
    "weight = np.array([4, 1, 2, 3])"
   ]
  },
  {
   "cell_type": "code",
   "execution_count": 114,
   "id": "afac6983-8abc-4fc9-82b9-61a45c05e935",
   "metadata": {},
   "outputs": [
    {
     "name": "stdout",
     "output_type": "stream",
     "text": [
      "57.5\n"
     ]
    }
   ],
   "source": [
    "print(np.average(kor))"
   ]
  },
  {
   "cell_type": "code",
   "execution_count": 116,
   "id": "9587eb1a-9f96-4930-bc14-4414cf4a8640",
   "metadata": {},
   "outputs": [
    {
     "name": "stdout",
     "output_type": "stream",
     "text": [
      "55.0\n"
     ]
    }
   ],
   "source": [
    "print(np.average(kor, axis=0, weights=weight))"
   ]
  },
  {
   "cell_type": "code",
   "execution_count": null,
   "id": "538e157f-90e0-4be8-948b-9bfd7d180c08",
   "metadata": {},
   "outputs": [],
   "source": []
  },
  {
   "cell_type": "code",
   "execution_count": 118,
   "id": "da746acf-0bc4-4b85-b107-10cf54d3d57a",
   "metadata": {},
   "outputs": [
    {
     "name": "stdout",
     "output_type": "stream",
     "text": [
      "[[1 2 3]\n",
      " [4 5 6]\n",
      " [7 8 9]]\n"
     ]
    }
   ],
   "source": [
    "a = np.array([1,2,3,4,5,6,7,8,9])\n",
    "a.resize(3,3)\n",
    "print(a)"
   ]
  },
  {
   "cell_type": "code",
   "execution_count": 124,
   "id": "8c61041e-c1c8-45c2-8d68-76b0771bcbdb",
   "metadata": {},
   "outputs": [
    {
     "data": {
      "text/plain": [
       "5.0"
      ]
     },
     "execution_count": 124,
     "metadata": {},
     "output_type": "execute_result"
    }
   ],
   "source": [
    "print(np.median(a))"
   ]
  },
  {
   "cell_type": "code",
   "execution_count": 126,
   "id": "ca1fe143-061d-4b8e-8ac7-81027ed401a7",
   "metadata": {},
   "outputs": [
    {
     "name": "stdout",
     "output_type": "stream",
     "text": [
      "[4. 5. 6.]\n"
     ]
    }
   ],
   "source": [
    "print(np.median(a, axis=0))"
   ]
  },
  {
   "cell_type": "code",
   "execution_count": 128,
   "id": "f5ca7966-7455-4323-a638-8d75498dd5a5",
   "metadata": {},
   "outputs": [
    {
     "name": "stdout",
     "output_type": "stream",
     "text": [
      "[2. 5. 8.]\n"
     ]
    }
   ],
   "source": [
    "print(np.median(a, axis=1))"
   ]
  },
  {
   "cell_type": "markdown",
   "id": "b33eebae-676f-4b44-bf03-1d32af4bf6a6",
   "metadata": {},
   "source": [
    "## np.var()\n",
    "분산\n",
    "모집단 분산, 표본집단 분산 : ddof=1"
   ]
  },
  {
   "cell_type": "code",
   "execution_count": 130,
   "id": "a34c3d79-9d9a-489e-b547-8ed9d6ecdf1c",
   "metadata": {},
   "outputs": [
    {
     "name": "stdout",
     "output_type": "stream",
     "text": [
      "6.666666666666667\n",
      "[6. 6. 6.]\n",
      "[0.66666667 0.66666667 0.66666667]\n"
     ]
    }
   ],
   "source": [
    "print(np.var(a))\n",
    "print(np.var(a, axis=0))\n",
    "print(np.var(a, axis=1))"
   ]
  },
  {
   "cell_type": "code",
   "execution_count": null,
   "id": "a3256788-7294-44f0-b7cf-f95dbfdba14b",
   "metadata": {},
   "outputs": [],
   "source": []
  },
  {
   "cell_type": "markdown",
   "id": "5a994b8b-f9d7-4c09-8e62-24688f0adeba",
   "metadata": {},
   "source": [
    "## np.std()\n",
    "표준편차"
   ]
  },
  {
   "cell_type": "markdown",
   "id": "bcf81b6c-d7e9-4abe-abee-577170bf5191",
   "metadata": {},
   "source": [
    "## np.corr()\n",
    "두 배열의 사이의 상관관계\n",
    "두 배열 증가하는 추세면 1에 가까움\n",
    "두 배열 감소하는 추세면 -1에 가까움"
   ]
  },
  {
   "cell_type": "code",
   "execution_count": 134,
   "id": "2abc77a4-385a-47fe-993e-1f3c767fd9ab",
   "metadata": {},
   "outputs": [],
   "source": [
    "a = np.array([1,2,3,4])\n",
    "b = np.array([5,6,7,8])\n",
    "c = np.array([8,7,6,5])\n"
   ]
  },
  {
   "cell_type": "code",
   "execution_count": 136,
   "id": "5b10d460-e9be-4a21-a740-734d3941414d",
   "metadata": {},
   "outputs": [
    {
     "name": "stdout",
     "output_type": "stream",
     "text": [
      "[[1. 1.]\n",
      " [1. 1.]]\n"
     ]
    }
   ],
   "source": [
    "print(np.corrcoef(a, b))"
   ]
  },
  {
   "cell_type": "code",
   "execution_count": 138,
   "id": "afa9bd93-c969-46ae-af07-c4abda2e5049",
   "metadata": {},
   "outputs": [
    {
     "name": "stdout",
     "output_type": "stream",
     "text": [
      "[[ 1. -1.]\n",
      " [-1.  1.]]\n"
     ]
    }
   ],
   "source": [
    "print(np.corrcoef(a, c))"
   ]
  },
  {
   "cell_type": "code",
   "execution_count": null,
   "id": "ecc2d0c7-687d-4df3-aeca-f8fa1ae8ee83",
   "metadata": {},
   "outputs": [],
   "source": []
  },
  {
   "cell_type": "code",
   "execution_count": null,
   "id": "c69f3391-4eb8-4d2c-9081-43e350eb8a0a",
   "metadata": {},
   "outputs": [],
   "source": [
    "## 정렬"
   ]
  },
  {
   "cell_type": "code",
   "execution_count": 156,
   "id": "57534a1d-abe3-455e-996c-5997ce41ac3a",
   "metadata": {},
   "outputs": [
    {
     "name": "stdout",
     "output_type": "stream",
     "text": [
      "[0 1 2 3 3 6 8]\n",
      "[1 3 2 8 3 0 6]\n",
      "[8 6 3 3 2 1 0]\n"
     ]
    }
   ],
   "source": [
    "ran = np.array([1,3,2,8,3,0,6])\n",
    "print(np.sort(ran)) #  default asc\n",
    "print(ran)\n",
    "print(np.sort(ran)[::-1])"
   ]
  },
  {
   "cell_type": "code",
   "execution_count": 174,
   "id": "4e038e88-a3ce-4ceb-83a6-ad58d0054bc6",
   "metadata": {},
   "outputs": [
    {
     "name": "stdout",
     "output_type": "stream",
     "text": [
      "[5 0 2 1 4 6 3]\n",
      "[0 1 2 3 3 6 8]\n",
      "[8 6 3 3 2 1 0]\n"
     ]
    }
   ],
   "source": [
    "print(np.argsort(ran)) #  인덱스를 추출 \n",
    "print(ran[np.argsort(ran)])\n",
    "print(ran[np.argsort(-ran)]) #  역순 "
   ]
  },
  {
   "cell_type": "code",
   "execution_count": null,
   "id": "aad3edda-6ab3-4aec-a7d2-c1a50c0f1234",
   "metadata": {},
   "outputs": [],
   "source": [
    "## 집합 "
   ]
  },
  {
   "cell_type": "code",
   "execution_count": 178,
   "id": "9952f0f2-97db-4869-bc84-d8beaacfcd55",
   "metadata": {},
   "outputs": [
    {
     "name": "stdout",
     "output_type": "stream",
     "text": [
      "[ 1  3  4 10]\n",
      "[1 2 3 4 5]\n"
     ]
    }
   ],
   "source": [
    "a = np.array([1,1,3,4,10])\n",
    "b = np.array([1,2,3,4,5])\n",
    "\n",
    "print(np.unique(a))\n",
    "print(np.unique(b))"
   ]
  },
  {
   "cell_type": "code",
   "execution_count": null,
   "id": "494e1b51-5baf-446c-871a-15685a14c9c0",
   "metadata": {},
   "outputs": [],
   "source": [
    "## 난수 생성\n",
    "\n",
    "choice, randint, rand, randn"
   ]
  },
  {
   "cell_type": "code",
   "execution_count": 192,
   "id": "0c9ba4c2-0c20-4d33-8f87-e776e5a5309c",
   "metadata": {},
   "outputs": [
    {
     "data": {
      "text/plain": [
       "array([6, 6, 1, 7, 6])"
      ]
     },
     "execution_count": 192,
     "metadata": {},
     "output_type": "execute_result"
    }
   ],
   "source": [
    "# 0 이상 ~ 10 미만의 5개 난수(중복혀용)\n",
    "np.random.choice(10, 5)"
   ]
  },
  {
   "cell_type": "code",
   "execution_count": null,
   "id": "2f16477a-929d-47db-badc-4cc951c281c7",
   "metadata": {},
   "outputs": [],
   "source": [
    "# 0 이상 ~ 10 미만의 5개 난수(중복제외)"
   ]
  },
  {
   "cell_type": "code",
   "execution_count": 186,
   "id": "d19d3827-f9f8-4b41-adfe-3b0017799790",
   "metadata": {},
   "outputs": [
    {
     "data": {
      "text/plain": [
       "array([2, 1, 6, 9, 3])"
      ]
     },
     "execution_count": 186,
     "metadata": {},
     "output_type": "execute_result"
    }
   ],
   "source": [
    "np.random.choice(10, 5, False)"
   ]
  },
  {
   "cell_type": "code",
   "execution_count": 194,
   "id": "6474dbd6-74fd-40b8-99a8-6e521b15e9a7",
   "metadata": {},
   "outputs": [
    {
     "data": {
      "text/plain": [
       "array([[0, 1, 8],\n",
       "       [7, 9, 5]])"
      ]
     },
     "execution_count": 194,
     "metadata": {},
     "output_type": "execute_result"
    }
   ],
   "source": [
    "# 0 ~ 10 미만 6개 추출 2 x 3 배열로 추출(중복제외)\n",
    "np.random.choice(10, (2,3), False)"
   ]
  },
  {
   "cell_type": "code",
   "execution_count": 244,
   "id": "670d714d-32b0-471d-9c2b-61a14a1c362b",
   "metadata": {},
   "outputs": [
    {
     "name": "stdout",
     "output_type": "stream",
     "text": [
      "[0 1 2 3 4 5 6 7 8 9]\n"
     ]
    },
    {
     "data": {
      "text/plain": [
       "array([[9, 2, 8],\n",
       "       [1, 4, 1]])"
      ]
     },
     "execution_count": 244,
     "metadata": {},
     "output_type": "execute_result"
    }
   ],
   "source": [
    "# 주어진 배열에서 6개를 2 x 3 배열로 추출\n",
    "a = np.arange(10)\n",
    "print(a)\n",
    "np.random.choice(a, (2,3))"
   ]
  },
  {
   "cell_type": "code",
   "execution_count": 270,
   "id": "b0da323d-6353-4a8d-9f12-4651a83d8c13",
   "metadata": {},
   "outputs": [
    {
     "name": "stdout",
     "output_type": "stream",
     "text": [
      "[1, 5, 2, 4, 2, 1, 5]\n",
      "[0.2, 0.1, 0, 0.4, 0, 0.2, 0.1]\n"
     ]
    },
    {
     "data": {
      "text/plain": [
       "array([4, 1])"
      ]
     },
     "execution_count": 270,
     "metadata": {},
     "output_type": "execute_result"
    }
   ],
   "source": [
    "#  서로 다른 선택 확률을 가진, 주어진 배열에서 4개 추출(중복제외)\n",
    "\n",
    "#  추출할 값\n",
    "arr = [1, 5, 2, 4, 2, 1, 5]\n",
    "print(arr)\n",
    "\n",
    "#  추출될 확률\n",
    "p = [0.2, 0.1, 0, 0.4 , 0, 0.2, 0.1] #  합계가 1이어야한다.\n",
    "print(p)\n",
    "\n",
    "# 합계가 1이 아닐 경우 확률 정규화 진행 \n",
    "\n",
    "# 확률 정규화\n",
    "# p = np.array(p)\n",
    "# p = p / p.sum()  # 정규화하여 합계가 1이 되도록 조정\n",
    "\n",
    "np.random.choice(arr, 2, p=p, replace=False)\n"
   ]
  },
  {
   "cell_type": "markdown",
   "id": "79cd9e5a-a4ea-446d-b0bf-7306e3e8a30b",
   "metadata": {},
   "source": [
    "```\n",
    "np.random.randint(low, high, size[, replace=False])\n",
    "```\n",
    "최소, 최대, 개수, 중복여부"
   ]
  },
  {
   "cell_type": "code",
   "execution_count": 284,
   "id": "ca53b660-3ebb-4d99-8255-bad33a0276a9",
   "metadata": {},
   "outputs": [
    {
     "name": "stdout",
     "output_type": "stream",
     "text": [
      "37\n",
      "40\n",
      "[42  3 41 35  3 37]\n"
     ]
    }
   ],
   "source": [
    "#  0 ~ 10 미만의 정수 5개 추출\n",
    "print(np.random.randint(1, 46)) #  최솟값, 최댓값\n",
    "print(np.random.randint(46)) #  0 ~ 45까지\n",
    "print(np.random.randint(1, 46, size=6))\n"
   ]
  },
  {
   "cell_type": "code",
   "execution_count": null,
   "id": "c2775131-7227-467a-88c7-b6d049026ea3",
   "metadata": {},
   "outputs": [],
   "source": [
    "## rand\n",
    "\n",
    "0 ~ 1 미만의 범위에서 실수값 난수 생성"
   ]
  },
  {
   "cell_type": "code",
   "execution_count": 292,
   "id": "e585dfd5-02c0-4195-9c45-c0190e018a9d",
   "metadata": {},
   "outputs": [
    {
     "name": "stdout",
     "output_type": "stream",
     "text": [
      "[0.36837193 0.23751168 0.94441308 0.90669743 0.13333388 0.29135861]\n",
      "[[0.45000924 0.09070843]\n",
      " [0.35542237 0.19280421]]\n"
     ]
    }
   ],
   "source": [
    "print(np.random.rand(6)) #  개수만 지정\n",
    "print(np.random.rand(2,2)) #  차원 지정"
   ]
  },
  {
   "cell_type": "code",
   "execution_count": null,
   "id": "c0524b45-d331-4ee8-8957-3d2b68a1de66",
   "metadata": {},
   "outputs": [],
   "source": []
  },
  {
   "cell_type": "code",
   "execution_count": null,
   "id": "874b03f3-58e5-41e7-b182-afd883d80ef8",
   "metadata": {},
   "outputs": [],
   "source": []
  },
  {
   "cell_type": "code",
   "execution_count": null,
   "id": "0a169b59-d3d5-4e31-b7ff-307460f14583",
   "metadata": {},
   "outputs": [],
   "source": []
  },
  {
   "cell_type": "code",
   "execution_count": null,
   "id": "5653ad8c-447c-4222-97c8-a0ea3c92b2e8",
   "metadata": {},
   "outputs": [],
   "source": []
  }
 ],
 "metadata": {
  "kernelspec": {
   "display_name": "Python [conda env:base] *",
   "language": "python",
   "name": "conda-base-py"
  },
  "language_info": {
   "codemirror_mode": {
    "name": "ipython",
    "version": 3
   },
   "file_extension": ".py",
   "mimetype": "text/x-python",
   "name": "python",
   "nbconvert_exporter": "python",
   "pygments_lexer": "ipython3",
   "version": "3.12.7"
  }
 },
 "nbformat": 4,
 "nbformat_minor": 5
}
