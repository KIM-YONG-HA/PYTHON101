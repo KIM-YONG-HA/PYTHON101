{
 "cells": [
  {
   "cell_type": "markdown",
   "id": "bc354e6b-222c-4072-a3c1-2c3edfcb81f9",
   "metadata": {},
   "source": [
    "# numpy\n",
    "수치해석용 파이썬 라이브러리\n",
    "ndarray를 이용한 다차원 행렬 자료구조 제공\n",
    "파이썬 보다 빠른 연산속도\n",
    "행렬 인덱싱으로 짧고 간결한 코드 \n",
    "다차원 배열, 행렬 연산 가능\n",
    "파이썬 기반 과학 및 수학 연산 패키지에 활용"
   ]
  },
  {
   "cell_type": "markdown",
   "id": "2cf126f5-981b-4844-9b08-9822fede5123",
   "metadata": {},
   "source": [
    "## 1차원 배열"
   ]
  },
  {
   "cell_type": "markdown",
   "id": "3ede84b7-e157-4482-8370-69aac2e06f45",
   "metadata": {},
   "source": [
    "## numpy 배열 구조\n",
    "같은 유형의 데이터만 저장\n",
    "원소 개수 변경 불가\n",
    "array 클래스 이용하여 생성\n",
    "ndarray(다차원배열)타입\n",
    "배열의 차원을 axis(축)이라고 하며, 축의 개수를 rank 라고 함 "
   ]
  },
  {
   "cell_type": "code",
   "execution_count": 4,
   "id": "dd582601-6c74-41b3-9d17-3320689f4e89",
   "metadata": {},
   "outputs": [],
   "source": [
    "import numpy as np"
   ]
  },
  {
   "cell_type": "code",
   "execution_count": 6,
   "id": "8d4ec9b3-9385-4c07-962a-acc21dbcc3b1",
   "metadata": {},
   "outputs": [
    {
     "data": {
      "text/plain": [
       "list"
      ]
     },
     "execution_count": 6,
     "metadata": {},
     "output_type": "execute_result"
    }
   ],
   "source": [
    "a = [1, 2, 3, 4, 5]\n",
    "print(type(a))\n",
    "print(a)"
   ]
  },
  {
   "cell_type": "code",
   "execution_count": 10,
   "id": "d8bf86e3-204b-485c-95a2-6eba4793dd8a",
   "metadata": {},
   "outputs": [
    {
     "name": "stdout",
     "output_type": "stream",
     "text": [
      "<class 'numpy.ndarray'>\n",
      "[1 2 3 4 5]\n"
     ]
    }
   ],
   "source": [
    "arr = np.array(a)\n",
    "print(type(arr))\n",
    "print(arr)"
   ]
  },
  {
   "cell_type": "code",
   "execution_count": 17,
   "id": "ee3da2d0-0061-4133-ad53-6711e97a7a68",
   "metadata": {},
   "outputs": [
    {
     "name": "stdout",
     "output_type": "stream",
     "text": [
      "['1' '2' '3' 'hi']\n",
      "<class 'numpy.str_'>\n"
     ]
    }
   ],
   "source": [
    "arr2 = np.array([1, 2, 3, 'hi'])\n",
    "print(arr2)\n",
    "print(type(arr2[0]))"
   ]
  },
  {
   "cell_type": "markdown",
   "id": "75c6cc47-6a15-4e4f-af7f-71a50a67afe6",
   "metadata": {},
   "source": [
    "같은 유형의 데이터만 저장 가능하기 때문에 모두 str로 변경된다"
   ]
  },
  {
   "cell_type": "code",
   "execution_count": 21,
   "id": "5f921483-5e44-45f5-952d-2c09b4ddb22d",
   "metadata": {},
   "outputs": [
    {
     "data": {
      "text/plain": [
       "dtype('<U11')"
      ]
     },
     "execution_count": 21,
     "metadata": {},
     "output_type": "execute_result"
    }
   ],
   "source": [
    "arr2.dtype"
   ]
  },
  {
   "cell_type": "code",
   "execution_count": null,
   "id": "b6a5fe15-928e-4073-b696-c459353cf0ba",
   "metadata": {},
   "outputs": [],
   "source": [
    "## 차원"
   ]
  },
  {
   "cell_type": "code",
   "execution_count": 29,
   "id": "57800d7d-4a40-4053-b5c0-a62d036aa39f",
   "metadata": {},
   "outputs": [
    {
     "data": {
      "text/plain": [
       "1"
      ]
     },
     "execution_count": 29,
     "metadata": {},
     "output_type": "execute_result"
    }
   ],
   "source": [
    "arr.ndim"
   ]
  },
  {
   "cell_type": "code",
   "execution_count": 27,
   "id": "829a9746-6ad5-4aa1-aba0-1d859afaec1d",
   "metadata": {},
   "outputs": [
    {
     "data": {
      "text/plain": [
       "1"
      ]
     },
     "execution_count": 27,
     "metadata": {},
     "output_type": "execute_result"
    }
   ],
   "source": [
    "np.ndim(arr)"
   ]
  },
  {
   "cell_type": "code",
   "execution_count": 31,
   "id": "6d73356d-f86b-46a6-b93b-00bb1dc9b25a",
   "metadata": {},
   "outputs": [
    {
     "data": {
      "text/plain": [
       "(5,)"
      ]
     },
     "execution_count": 31,
     "metadata": {},
     "output_type": "execute_result"
    }
   ],
   "source": [
    "arr.shape"
   ]
  },
  {
   "cell_type": "code",
   "execution_count": 33,
   "id": "491532fa-9a10-4e02-973f-da1fbe40aa28",
   "metadata": {},
   "outputs": [
    {
     "data": {
      "text/plain": [
       "5"
      ]
     },
     "execution_count": 33,
     "metadata": {},
     "output_type": "execute_result"
    }
   ],
   "source": [
    "arr.size"
   ]
  },
  {
   "cell_type": "code",
   "execution_count": 43,
   "id": "274c2372-3559-462c-8816-14063108fbb8",
   "metadata": {},
   "outputs": [
    {
     "name": "stdout",
     "output_type": "stream",
     "text": [
      "(4,)\n",
      "1\n"
     ]
    }
   ],
   "source": [
    "arr1 = np.array([1,2,3,4])\n",
    "print(arr1.shape)\n",
    "print(arr1.ndim)"
   ]
  },
  {
   "cell_type": "code",
   "execution_count": 45,
   "id": "0c09e69e-5464-4776-938f-5ef90847a0c1",
   "metadata": {},
   "outputs": [
    {
     "name": "stdout",
     "output_type": "stream",
     "text": [
      "(1, 4)\n",
      "2\n"
     ]
    }
   ],
   "source": [
    "\n",
    "\n",
    "\n",
    "arr2 = np.array([[1,2,3,4]])\n",
    "print(arr2.shape)\n",
    "print(arr2.ndim)"
   ]
  },
  {
   "cell_type": "code",
   "execution_count": null,
   "id": "694919fc-69f6-46c1-b222-f34f12e622ce",
   "metadata": {},
   "outputs": [],
   "source": [
    "## numpy 배열 생성"
   ]
  },
  {
   "cell_type": "code",
   "execution_count": null,
   "id": "973d8282-d4b8-49cf-96ed-480296e06ce8",
   "metadata": {},
   "outputs": [],
   "source": [
    "### empty"
   ]
  },
  {
   "cell_type": "code",
   "execution_count": 61,
   "id": "3398ec2f-1170-417f-813e-00b87e76b26f",
   "metadata": {},
   "outputs": [
    {
     "name": "stdout",
     "output_type": "stream",
     "text": [
      "float64\n",
      "(2, 3)\n",
      "2\n",
      "6\n",
      "[[1. 1. 1.]\n",
      " [1. 1. 1.]]\n"
     ]
    }
   ],
   "source": [
    "ar = np.empty((2,3))\n",
    "print(ar.dtype)\n",
    "print(ar.shape)\n",
    "print(ar.ndim)\n",
    "print(ar.size)\n",
    "print(ar)"
   ]
  },
  {
   "cell_type": "code",
   "execution_count": null,
   "id": "c5c3753d-8a39-47b8-8f3c-97138d2676e5",
   "metadata": {},
   "outputs": [],
   "source": [
    "### ones"
   ]
  },
  {
   "cell_type": "code",
   "execution_count": 57,
   "id": "0ecbf687-c5ec-4e41-bf1e-cd953939b7c7",
   "metadata": {},
   "outputs": [
    {
     "name": "stdout",
     "output_type": "stream",
     "text": [
      "float64\n",
      "(2, 3)\n",
      "2\n",
      "6\n",
      "[[1. 1. 1.]\n",
      " [1. 1. 1.]]\n"
     ]
    }
   ],
   "source": [
    "ar = np.ones((2,3))\n",
    "print(ar.dtype)\n",
    "print(ar.shape)\n",
    "print(ar.ndim)\n",
    "print(ar.size)\n",
    "print(ar)"
   ]
  },
  {
   "cell_type": "code",
   "execution_count": null,
   "id": "75f80269-b327-46b3-9e80-663ca80a16b5",
   "metadata": {},
   "outputs": [],
   "source": [
    "### zeros"
   ]
  },
  {
   "cell_type": "code",
   "execution_count": 63,
   "id": "fd4bc969-e85f-401d-9019-b5e886bbfabd",
   "metadata": {},
   "outputs": [
    {
     "name": "stdout",
     "output_type": "stream",
     "text": [
      "float64\n",
      "(2, 3)\n",
      "2\n",
      "6\n",
      "[[0. 0. 0.]\n",
      " [0. 0. 0.]]\n"
     ]
    }
   ],
   "source": [
    "ar = np.zeros((2,3))\n",
    "print(ar.dtype)\n",
    "print(ar.shape)\n",
    "print(ar.ndim)\n",
    "print(ar.size)\n",
    "print(ar)"
   ]
  },
  {
   "cell_type": "code",
   "execution_count": null,
   "id": "c396bb0b-96f1-4585-8330-00af26d7bb46",
   "metadata": {},
   "outputs": [],
   "source": [
    "### full"
   ]
  },
  {
   "cell_type": "code",
   "execution_count": 69,
   "id": "e69bba8e-c452-4532-b814-303efa0f26f4",
   "metadata": {},
   "outputs": [
    {
     "name": "stdout",
     "output_type": "stream",
     "text": [
      "int32\n",
      "(2, 3)\n",
      "2\n",
      "6\n",
      "[[10 10 10]\n",
      " [10 10 10]]\n"
     ]
    }
   ],
   "source": [
    "ar = np.full((2,3), 10)\n",
    "print(ar.dtype)\n",
    "print(ar.shape)\n",
    "print(ar.ndim)\n",
    "print(ar.size)\n",
    "print(ar)"
   ]
  },
  {
   "cell_type": "code",
   "execution_count": null,
   "id": "aa326717-6d67-441a-9387-fde6417b9512",
   "metadata": {},
   "outputs": [],
   "source": [
    "### eye "
   ]
  },
  {
   "cell_type": "code",
   "execution_count": 81,
   "id": "3223711c-c52f-4c4f-b09f-f2e68b2b1d99",
   "metadata": {},
   "outputs": [
    {
     "name": "stdout",
     "output_type": "stream",
     "text": [
      "float64\n",
      "(4, 4)\n",
      "2\n",
      "16\n",
      "[[1. 0. 0. 0.]\n",
      " [0. 1. 0. 0.]\n",
      " [0. 0. 1. 0.]\n",
      " [0. 0. 0. 1.]]\n"
     ]
    }
   ],
   "source": [
    "ar = np.eye(4)\n",
    "print(ar.dtype)\n",
    "print(ar.shape)\n",
    "print(ar.ndim)\n",
    "print(ar.size)\n",
    "print(ar)"
   ]
  },
  {
   "cell_type": "code",
   "execution_count": null,
   "id": "952580a4-0bc7-41b7-8759-a594872b20c9",
   "metadata": {},
   "outputs": [],
   "source": [
    "## 배열의 타입 변경 "
   ]
  },
  {
   "cell_type": "code",
   "execution_count": 113,
   "id": "8b5a56d4-1c58-4f9d-9711-5dc43cf3d323",
   "metadata": {},
   "outputs": [
    {
     "name": "stdout",
     "output_type": "stream",
     "text": [
      "float64\n"
     ]
    }
   ],
   "source": [
    "arr1 = np.ones((2,2))\n",
    "print(arr1.dtype)"
   ]
  },
  {
   "cell_type": "code",
   "execution_count": 117,
   "id": "b30f065d-e1f7-44d7-a0c9-ef078a0cd3cb",
   "metadata": {},
   "outputs": [
    {
     "name": "stdout",
     "output_type": "stream",
     "text": [
      "int64\n"
     ]
    }
   ],
   "source": [
    "arr1 = arr1.astype(np.int64)\n",
    "print(arr1.dtype)"
   ]
  },
  {
   "cell_type": "code",
   "execution_count": 119,
   "id": "3a76c270-a121-4d73-b658-55cd7735b66b",
   "metadata": {},
   "outputs": [
    {
     "name": "stdout",
     "output_type": "stream",
     "text": [
      "float32\n"
     ]
    }
   ],
   "source": [
    "arr1 = arr1.astype(np.float32)\n",
    "print(arr1.dtype)"
   ]
  },
  {
   "cell_type": "code",
   "execution_count": 121,
   "id": "e5f543f9-0f4f-4661-b6a7-79be496f70e8",
   "metadata": {},
   "outputs": [
    {
     "name": "stdout",
     "output_type": "stream",
     "text": [
      "float32\n"
     ]
    }
   ],
   "source": [
    "arr1.astype(int)\n",
    "print(arr1.dtype)"
   ]
  },
  {
   "cell_type": "code",
   "execution_count": null,
   "id": "4eaa35e6-0c8d-488f-b51b-d80701aed604",
   "metadata": {},
   "outputs": [],
   "source": [
    "## 배열 타입 지정"
   ]
  },
  {
   "cell_type": "code",
   "execution_count": 123,
   "id": "b0915abf-8738-48fb-b8bc-2ffc09e7f43b",
   "metadata": {},
   "outputs": [
    {
     "name": "stdout",
     "output_type": "stream",
     "text": [
      "int32\n"
     ]
    }
   ],
   "source": [
    "arr = np.array([1,2,3], dtype=np.int32)\n",
    "print(arr.dtype)"
   ]
  },
  {
   "cell_type": "code",
   "execution_count": null,
   "id": "a5a6536a-67fc-45d8-85dd-58fa999b498a",
   "metadata": {},
   "outputs": [],
   "source": [
    "## numpy 배열 사용"
   ]
  },
  {
   "cell_type": "code",
   "execution_count": 137,
   "id": "a023226a-f905-4d69-bf3b-5cd396c42a81",
   "metadata": {},
   "outputs": [
    {
     "name": "stdout",
     "output_type": "stream",
     "text": [
      "[[1 1 1]\n",
      " [1 1 1]\n",
      " [1 1 1]]\n",
      "4\n"
     ]
    }
   ],
   "source": [
    "arr = np.full((3,3), 1)\n",
    "print(arr)\n",
    "print(arr.itemsize)"
   ]
  },
  {
   "cell_type": "code",
   "execution_count": 139,
   "id": "bf8e66cf-d3ea-4e43-a86e-5b6622785d79",
   "metadata": {},
   "outputs": [
    {
     "name": "stdout",
     "output_type": "stream",
     "text": [
      "[[1. 1. 1.]\n",
      " [1. 1. 1.]\n",
      " [1. 1. 1.]]\n",
      "8\n"
     ]
    }
   ],
   "source": [
    "arr = np.ones((3,3))\n",
    "print(arr)\n",
    "print(arr.itemsize)"
   ]
  },
  {
   "cell_type": "code",
   "execution_count": 156,
   "id": "10559571-807c-422d-b378-975c4f3bafa5",
   "metadata": {},
   "outputs": [
    {
     "name": "stdout",
     "output_type": "stream",
     "text": [
      "(4,)\n"
     ]
    }
   ],
   "source": [
    "a = np.array([1, 2, 3, 4])\n",
    "print(a.shape)"
   ]
  },
  {
   "cell_type": "code",
   "execution_count": 158,
   "id": "ad634eb5-9c9b-4265-a426-8dd08694c6af",
   "metadata": {},
   "outputs": [],
   "source": [
    "a.shape = 1, 4"
   ]
  },
  {
   "cell_type": "code",
   "execution_count": 160,
   "id": "136e6a9e-c9a5-4db8-b143-5f0a63c9d048",
   "metadata": {},
   "outputs": [
    {
     "name": "stdout",
     "output_type": "stream",
     "text": [
      "(1, 4)\n"
     ]
    }
   ],
   "source": [
    "print(a.shape)"
   ]
  },
  {
   "cell_type": "code",
   "execution_count": 162,
   "id": "32912237-8c8d-4df7-8277-21541b5a10cc",
   "metadata": {},
   "outputs": [
    {
     "name": "stdout",
     "output_type": "stream",
     "text": [
      "[[1 2 3 4]]\n"
     ]
    }
   ],
   "source": [
    "print(a)"
   ]
  },
  {
   "cell_type": "code",
   "execution_count": 164,
   "id": "6d821736-89da-48bb-9e08-0bfde11ef185",
   "metadata": {},
   "outputs": [],
   "source": [
    "a.shape = 2,2"
   ]
  },
  {
   "cell_type": "code",
   "execution_count": 166,
   "id": "68c61b0f-0db9-4abd-ba1c-db5a7f13d975",
   "metadata": {},
   "outputs": [
    {
     "name": "stdout",
     "output_type": "stream",
     "text": [
      "(2, 2)\n"
     ]
    }
   ],
   "source": [
    "print(a.shape)"
   ]
  },
  {
   "cell_type": "code",
   "execution_count": 168,
   "id": "dcdeadba-c4de-4929-9d91-5fed31cc7ce8",
   "metadata": {},
   "outputs": [
    {
     "name": "stdout",
     "output_type": "stream",
     "text": [
      "[[1 2]\n",
      " [3 4]]\n"
     ]
    }
   ],
   "source": [
    "print(a)"
   ]
  },
  {
   "cell_type": "code",
   "execution_count": 170,
   "id": "9e0a0d3e-4b35-4566-befc-70cda289c023",
   "metadata": {},
   "outputs": [
    {
     "data": {
      "text/plain": [
       "4"
      ]
     },
     "execution_count": 170,
     "metadata": {},
     "output_type": "execute_result"
    }
   ],
   "source": [
    "a.size"
   ]
  },
  {
   "cell_type": "code",
   "execution_count": 172,
   "id": "70538a0e-7244-4c0b-9a0a-a39847be31eb",
   "metadata": {},
   "outputs": [
    {
     "data": {
      "text/plain": [
       "(5,)"
      ]
     },
     "execution_count": 172,
     "metadata": {},
     "output_type": "execute_result"
    }
   ],
   "source": [
    "b = np.array([1,2,3,4,5])\n",
    "b.shape"
   ]
  },
  {
   "cell_type": "code",
   "execution_count": 174,
   "id": "20a5fdeb-db36-4634-b80b-c131bc11c432",
   "metadata": {},
   "outputs": [
    {
     "data": {
      "text/plain": [
       "(1, 5)"
      ]
     },
     "execution_count": 174,
     "metadata": {},
     "output_type": "execute_result"
    }
   ],
   "source": [
    "b = np.array([1,2,3,4,5])\n",
    "b.shape = 1, 5\n",
    "b.shape"
   ]
  },
  {
   "cell_type": "code",
   "execution_count": null,
   "id": "9b268f97-3de0-4823-827b-588c45fc9d06",
   "metadata": {},
   "outputs": [],
   "source": [
    "## 배열 차원 변경 "
   ]
  },
  {
   "cell_type": "code",
   "execution_count": 184,
   "id": "ffd96fb3-2086-434a-80e7-06d86432d3fe",
   "metadata": {},
   "outputs": [
    {
     "name": "stdout",
     "output_type": "stream",
     "text": [
      "(3, 3)\n",
      "9\n",
      "[[1 2 3]\n",
      " [3 4 5]\n",
      " [7 8 9]]\n"
     ]
    }
   ],
   "source": [
    "c = np.array([[1,2,3], [3,4,5], [7,8,9]])\n",
    "print(c.shape)\n",
    "print(c.size)\n",
    "print(c)"
   ]
  },
  {
   "cell_type": "code",
   "execution_count": 188,
   "id": "8dd03d0b-46a8-466c-960e-c28b05165038",
   "metadata": {},
   "outputs": [
    {
     "name": "stdout",
     "output_type": "stream",
     "text": [
      "(9,)\n",
      "[1 2 3 3 4 5 7 8 9]\n"
     ]
    }
   ],
   "source": [
    "c.shape = c.size\n",
    "print(c.shape)\n",
    "print(c)"
   ]
  },
  {
   "cell_type": "code",
   "execution_count": null,
   "id": "fc977802-4086-4595-8892-1396bc7a2ab6",
   "metadata": {},
   "outputs": [],
   "source": [
    "### resize"
   ]
  },
  {
   "cell_type": "code",
   "execution_count": 198,
   "id": "4653b566-4368-46f3-81fe-576a3275f56d",
   "metadata": {},
   "outputs": [
    {
     "name": "stdout",
     "output_type": "stream",
     "text": [
      "(6,)\n"
     ]
    }
   ],
   "source": [
    "a = np.array([1,2,3,4,5,6])\n",
    "print(a.shape)"
   ]
  },
  {
   "cell_type": "code",
   "execution_count": 200,
   "id": "82fec750-458d-4bff-889c-e41bea5610f2",
   "metadata": {},
   "outputs": [
    {
     "name": "stdout",
     "output_type": "stream",
     "text": [
      "(2, 3)\n"
     ]
    }
   ],
   "source": [
    "a.resize(2,3)\n",
    "print(a.shape)"
   ]
  },
  {
   "cell_type": "code",
   "execution_count": 202,
   "id": "05b2fb0f-dfcf-42b4-be68-00a5d8d8cdaf",
   "metadata": {},
   "outputs": [
    {
     "name": "stdout",
     "output_type": "stream",
     "text": [
      "[[1 2 3]\n",
      " [4 5 6]]\n"
     ]
    }
   ],
   "source": [
    "print(a)"
   ]
  },
  {
   "cell_type": "code",
   "execution_count": null,
   "id": "bf4342e5-ec38-4736-807a-1c0f31b3c774",
   "metadata": {},
   "outputs": [],
   "source": [
    "### reshape"
   ]
  },
  {
   "cell_type": "code",
   "execution_count": 208,
   "id": "4400062c-3157-4050-bbfb-d192f59f08b2",
   "metadata": {},
   "outputs": [
    {
     "data": {
      "text/plain": [
       "array([[1, 2],\n",
       "       [3, 4],\n",
       "       [5, 6]])"
      ]
     },
     "execution_count": 208,
     "metadata": {},
     "output_type": "execute_result"
    }
   ],
   "source": [
    "a.reshape(3,2)"
   ]
  },
  {
   "cell_type": "code",
   "execution_count": null,
   "id": "3fc6e2c9-69a0-45cc-834d-c3810fa11046",
   "metadata": {},
   "outputs": [],
   "source": [
    "## 배열 데이터 공유"
   ]
  },
  {
   "cell_type": "code",
   "execution_count": 254,
   "id": "3644dd66-98b5-4e8d-8c4a-2d4f7233c441",
   "metadata": {},
   "outputs": [
    {
     "data": {
      "text/plain": [
       "array([1, 2, 3, 4, 5, 6])"
      ]
     },
     "execution_count": 254,
     "metadata": {},
     "output_type": "execute_result"
    }
   ],
   "source": [
    "a = np.array([1,2,3,4,5,6])\n",
    "a.view()"
   ]
  },
  {
   "cell_type": "code",
   "execution_count": 256,
   "id": "39bca1ec-30d2-4e40-956d-cc479ae3cf07",
   "metadata": {},
   "outputs": [
    {
     "name": "stdout",
     "output_type": "stream",
     "text": [
      "[1 2 3 4 5 6]\n"
     ]
    }
   ],
   "source": [
    "b = a.view()\n",
    "print(b)"
   ]
  },
  {
   "cell_type": "code",
   "execution_count": 258,
   "id": "45c550f1-d98c-4121-b895-f06028bc8047",
   "metadata": {},
   "outputs": [
    {
     "data": {
      "text/plain": [
       "False"
      ]
     },
     "execution_count": 258,
     "metadata": {},
     "output_type": "execute_result"
    }
   ],
   "source": [
    "a is b"
   ]
  },
  {
   "cell_type": "code",
   "execution_count": 260,
   "id": "79b9b1e9-e04b-4e0a-8a3f-1e365a032779",
   "metadata": {},
   "outputs": [
    {
     "data": {
      "text/plain": [
       "array([1, 2, 3, 4, 5, 6])"
      ]
     },
     "execution_count": 260,
     "metadata": {},
     "output_type": "execute_result"
    }
   ],
   "source": [
    "b.base"
   ]
  },
  {
   "cell_type": "code",
   "execution_count": 262,
   "id": "fb81b118-2a29-4cbe-b3ff-f4dc39603ff4",
   "metadata": {},
   "outputs": [
    {
     "data": {
      "text/plain": [
       "True"
      ]
     },
     "execution_count": 262,
     "metadata": {},
     "output_type": "execute_result"
    }
   ],
   "source": [
    "a is b.base"
   ]
  },
  {
   "cell_type": "code",
   "execution_count": 264,
   "id": "39240228-071a-4719-92ed-d51246eb80d5",
   "metadata": {},
   "outputs": [
    {
     "name": "stdout",
     "output_type": "stream",
     "text": [
      "[10  2  3  4  5  6]\n"
     ]
    }
   ],
   "source": [
    "b[0] = 10\n",
    "print(b)"
   ]
  },
  {
   "cell_type": "code",
   "execution_count": 266,
   "id": "ec92337a-ceda-4f8e-bc0e-308396a4cdf6",
   "metadata": {},
   "outputs": [
    {
     "name": "stdout",
     "output_type": "stream",
     "text": [
      "[10  2  3  4  5  6]\n"
     ]
    }
   ],
   "source": [
    "print(a)"
   ]
  },
  {
   "cell_type": "code",
   "execution_count": 274,
   "id": "7dba021a-4f96-480b-a44b-9e9b04b87d57",
   "metadata": {},
   "outputs": [
    {
     "name": "stdout",
     "output_type": "stream",
     "text": [
      "[[10  2  3]\n",
      " [ 4  5  6]]\n",
      "[10  2  3  4  5  6]\n"
     ]
    }
   ],
   "source": [
    "d = a.reshape(2,3)\n",
    "print(d)\n",
    "print(a)"
   ]
  },
  {
   "cell_type": "code",
   "execution_count": 280,
   "id": "a6288a94-c465-425b-8043-6dea1e7ced37",
   "metadata": {},
   "outputs": [
    {
     "name": "stdout",
     "output_type": "stream",
     "text": [
      "[[1 2 3]\n",
      " [4 5 6]]\n",
      "[1 2 3 4 5 6]\n"
     ]
    }
   ],
   "source": [
    "a = np.array([1,2,3,4,5,6])\n",
    "d = a.reshape(2,3)\n",
    "print(d)\n",
    "print(a)"
   ]
  },
  {
   "cell_type": "code",
   "execution_count": 282,
   "id": "9402cc79-01f4-496e-9664-fd7c9b108436",
   "metadata": {},
   "outputs": [
    {
     "name": "stdout",
     "output_type": "stream",
     "text": [
      "[  1   2   3   4   5 100]\n",
      "[[  1   2   3]\n",
      " [  4   5 100]]\n"
     ]
    }
   ],
   "source": [
    "a[-1] = 100\n",
    "print(a)\n",
    "print(d)"
   ]
  },
  {
   "cell_type": "code",
   "execution_count": null,
   "id": "4109d02c-03f0-4318-b40d-7a9af377ef17",
   "metadata": {},
   "outputs": [],
   "source": []
  },
  {
   "cell_type": "markdown",
   "id": "d41afdce-aa28-4d66-a3b5-f1c9facd067f",
   "metadata": {},
   "source": [
    "## 스칼라\n",
    "길이가 1인 벡터(차원을 갖지 않는 배열)\n",
    "숫자값 하나\n",
    "단일차원의 값 ex) 1, 2, 3, ...\n",
    "크기만 있고 방향을 가지지 않은 양\n",
    "좌표평면 위의 점(1, 3)은 2차원이기때문에 스칼라가 아니다."
   ]
  },
  {
   "cell_type": "code",
   "execution_count": 290,
   "id": "ca85c030-1684-4b13-ac38-25dcd1176c6c",
   "metadata": {},
   "outputs": [
    {
     "name": "stdout",
     "output_type": "stream",
     "text": [
      "<class 'numpy.ndarray'>\n",
      "(1,)\n",
      "1\n"
     ]
    }
   ],
   "source": [
    "data = np.array([45])\n",
    "print(type(data))\n",
    "print(data.shape)\n",
    "print(data.ndim)"
   ]
  },
  {
   "cell_type": "code",
   "execution_count": 292,
   "id": "35909733-9997-4e97-9a87-ae26a165c6db",
   "metadata": {},
   "outputs": [
    {
     "name": "stdout",
     "output_type": "stream",
     "text": [
      "<class 'numpy.ndarray'>\n",
      "()\n",
      "0\n"
     ]
    }
   ],
   "source": [
    "data = np.array(45)\n",
    "print(type(data))\n",
    "print(data.shape)\n",
    "print(data.ndim)"
   ]
  },
  {
   "cell_type": "code",
   "execution_count": null,
   "id": "aaa3c595-af7a-42ae-9050-3a3401aa433f",
   "metadata": {},
   "outputs": [],
   "source": [
    "### 스칼라의 타입 자료형 \n",
    "1. int\n",
    "2. float\n",
    "3. none\n",
    "4. bool"
   ]
  },
  {
   "cell_type": "code",
   "execution_count": 294,
   "id": "1a2a87c0-c093-4968-9381-a506e9daf0e9",
   "metadata": {},
   "outputs": [
    {
     "data": {
      "text/plain": [
       "3"
      ]
     },
     "execution_count": 294,
     "metadata": {},
     "output_type": "execute_result"
    }
   ],
   "source": [
    "int(3.14)"
   ]
  },
  {
   "cell_type": "code",
   "execution_count": 296,
   "id": "2b8144a8-9600-44c5-a59a-cc63e40d9a1e",
   "metadata": {},
   "outputs": [
    {
     "data": {
      "text/plain": [
       "100"
      ]
     },
     "execution_count": 296,
     "metadata": {},
     "output_type": "execute_result"
    }
   ],
   "source": [
    "int('100')"
   ]
  },
  {
   "cell_type": "code",
   "execution_count": 298,
   "id": "df339b05-c306-4ca2-a7b4-a674197806d6",
   "metadata": {},
   "outputs": [
    {
     "ename": "ValueError",
     "evalue": "invalid literal for int() with base 10: '3.7'",
     "output_type": "error",
     "traceback": [
      "\u001b[1;31m---------------------------------------------------------------------------\u001b[0m",
      "\u001b[1;31mValueError\u001b[0m                                Traceback (most recent call last)",
      "Cell \u001b[1;32mIn[298], line 1\u001b[0m\n\u001b[1;32m----> 1\u001b[0m \u001b[38;5;28mint\u001b[39m(\u001b[38;5;124m'\u001b[39m\u001b[38;5;124m3.7\u001b[39m\u001b[38;5;124m'\u001b[39m)\n",
      "\u001b[1;31mValueError\u001b[0m: invalid literal for int() with base 10: '3.7'"
     ]
    }
   ],
   "source": [
    "int('3.7')"
   ]
  },
  {
   "cell_type": "code",
   "execution_count": 304,
   "id": "a7344c08-a473-406d-8d07-e6ce0c39dbf5",
   "metadata": {},
   "outputs": [
    {
     "data": {
      "text/plain": [
       "256"
      ]
     },
     "execution_count": 304,
     "metadata": {},
     "output_type": "execute_result"
    }
   ],
   "source": [
    "int('100', 16) ## 진수"
   ]
  },
  {
   "cell_type": "code",
   "execution_count": 306,
   "id": "57eb2f05-2c64-4c52-ae3f-b84ff4dedae6",
   "metadata": {},
   "outputs": [
    {
     "data": {
      "text/plain": [
       "10.0"
      ]
     },
     "execution_count": 306,
     "metadata": {},
     "output_type": "execute_result"
    }
   ],
   "source": [
    "float(10)"
   ]
  },
  {
   "cell_type": "code",
   "execution_count": 312,
   "id": "845cfbf3-c788-42ae-9cfb-5736a463730a",
   "metadata": {},
   "outputs": [
    {
     "data": {
      "text/plain": [
       "3.14"
      ]
     },
     "execution_count": 312,
     "metadata": {},
     "output_type": "execute_result"
    }
   ],
   "source": [
    "float('3.14')"
   ]
  },
  {
   "cell_type": "code",
   "execution_count": 318,
   "id": "1d4e9af7-bee1-4d4e-9cc2-0193b9b90edd",
   "metadata": {},
   "outputs": [
    {
     "name": "stdout",
     "output_type": "stream",
     "text": [
      "None\n"
     ]
    }
   ],
   "source": [
    "data = None\n",
    "print(data)"
   ]
  },
  {
   "cell_type": "code",
   "execution_count": 320,
   "id": "6e648d3d-bad6-49d6-a9db-106309e32346",
   "metadata": {},
   "outputs": [
    {
     "data": {
      "text/plain": [
       "False"
      ]
     },
     "execution_count": 320,
     "metadata": {},
     "output_type": "execute_result"
    }
   ],
   "source": [
    "bool(0)"
   ]
  },
  {
   "cell_type": "code",
   "execution_count": 326,
   "id": "e5d95b74-43a9-41c7-849e-36e43b68798d",
   "metadata": {},
   "outputs": [
    {
     "data": {
      "text/plain": [
       "True"
      ]
     },
     "execution_count": 326,
     "metadata": {},
     "output_type": "execute_result"
    }
   ],
   "source": [
    "bool(2)"
   ]
  },
  {
   "cell_type": "code",
   "execution_count": 328,
   "id": "509a7a51-5498-434c-abe4-1e3cbbf13daa",
   "metadata": {},
   "outputs": [
    {
     "data": {
      "text/plain": [
       "False"
      ]
     },
     "execution_count": 328,
     "metadata": {},
     "output_type": "execute_result"
    }
   ],
   "source": [
    "bool('')"
   ]
  },
  {
   "cell_type": "code",
   "execution_count": 330,
   "id": "5e63c4a0-3e60-43bf-92dc-b7996df9dd3e",
   "metadata": {},
   "outputs": [
    {
     "data": {
      "text/plain": [
       "True"
      ]
     },
     "execution_count": 330,
     "metadata": {},
     "output_type": "execute_result"
    }
   ],
   "source": [
    "bool('bool?')"
   ]
  },
  {
   "cell_type": "code",
   "execution_count": 336,
   "id": "33d8b3ff-43e8-48e7-97b4-1021e940c309",
   "metadata": {},
   "outputs": [
    {
     "data": {
      "text/plain": [
       "False"
      ]
     },
     "execution_count": 336,
     "metadata": {},
     "output_type": "execute_result"
    }
   ],
   "source": [
    "bool([])"
   ]
  },
  {
   "cell_type": "code",
   "execution_count": 338,
   "id": "4a9f1325-94b5-4835-b122-1c8a696fb710",
   "metadata": {},
   "outputs": [
    {
     "data": {
      "text/plain": [
       "True"
      ]
     },
     "execution_count": 338,
     "metadata": {},
     "output_type": "execute_result"
    }
   ],
   "source": [
    "bool([1])"
   ]
  },
  {
   "cell_type": "markdown",
   "id": "65d9eb9c-cea8-4992-a411-aded1d10e134",
   "metadata": {},
   "source": [
    "## 배열과 스칼라의 연산 "
   ]
  },
  {
   "cell_type": "code",
   "execution_count": 26,
   "id": "538c4b90-c785-4910-9bd2-7bcb42c864ed",
   "metadata": {},
   "outputs": [
    {
     "data": {
      "text/plain": [
       "array([2, 3, 4])"
      ]
     },
     "execution_count": 26,
     "metadata": {},
     "output_type": "execute_result"
    }
   ],
   "source": [
    "import numpy as np\n",
    "a = np.array([1,2,3])\n",
    "a + 1"
   ]
  },
  {
   "cell_type": "code",
   "execution_count": 28,
   "id": "cb7b58d6-bce3-476e-b470-56f592a9bd61",
   "metadata": {},
   "outputs": [
    {
     "data": {
      "text/plain": [
       "array([11, 12, 13])"
      ]
     },
     "execution_count": 28,
     "metadata": {},
     "output_type": "execute_result"
    }
   ],
   "source": [
    "b = np.array([10,10,10])\n",
    "b + a"
   ]
  },
  {
   "cell_type": "code",
   "execution_count": 30,
   "id": "0ec0239f-73da-40dd-873e-4921b75f352e",
   "metadata": {},
   "outputs": [
    {
     "ename": "ValueError",
     "evalue": "operands could not be broadcast together with shapes (3,) (4,) ",
     "output_type": "error",
     "traceback": [
      "\u001b[1;31m---------------------------------------------------------------------------\u001b[0m",
      "\u001b[1;31mValueError\u001b[0m                                Traceback (most recent call last)",
      "Cell \u001b[1;32mIn[30], line 2\u001b[0m\n\u001b[0;32m      1\u001b[0m c \u001b[38;5;241m=\u001b[39m np\u001b[38;5;241m.\u001b[39marray([\u001b[38;5;241m1\u001b[39m,\u001b[38;5;241m1\u001b[39m,\u001b[38;5;241m1\u001b[39m,\u001b[38;5;241m1\u001b[39m])\n\u001b[1;32m----> 2\u001b[0m a \u001b[38;5;241m+\u001b[39m c\n",
      "\u001b[1;31mValueError\u001b[0m: operands could not be broadcast together with shapes (3,) (4,) "
     ]
    }
   ],
   "source": [
    "c = np.array([1,1,1,1])\n",
    "a + c"
   ]
  },
  {
   "cell_type": "markdown",
   "id": "9f47a8b7-8ab0-45b3-b891-def04cbdd449",
   "metadata": {},
   "source": [
    "shape이 달라서 연산이 불가능하다."
   ]
  },
  {
   "cell_type": "code",
   "execution_count": 34,
   "id": "78781847-d4ed-4dee-8342-1d52f33e33e1",
   "metadata": {},
   "outputs": [
    {
     "data": {
      "text/plain": [
       "array([1.14, 2.14, 3.14])"
      ]
     },
     "execution_count": 34,
     "metadata": {},
     "output_type": "execute_result"
    }
   ],
   "source": [
    "a + 0.14"
   ]
  },
  {
   "cell_type": "code",
   "execution_count": null,
   "id": "7af01dc6-ed56-4ea7-84c3-2a1622a65576",
   "metadata": {},
   "outputs": [],
   "source": [
    "## 인덱싱과 슬라이싱\n",
    "\n",
    "슬라이싱의 결과는 ndarray이며 원본 배열의 view이다(원본도 같이 바뀜)"
   ]
  },
  {
   "cell_type": "code",
   "execution_count": 106,
   "id": "aa4219b7-2e1f-4a3d-b4a7-56b1b4d60a5d",
   "metadata": {},
   "outputs": [
    {
     "name": "stdout",
     "output_type": "stream",
     "text": [
      "[0 1 2 3 4 5 6 7]\n",
      "<class 'numpy.ndarray'>\n"
     ]
    }
   ],
   "source": [
    "a = np.arange(0, 8, 1)\n",
    "print(a)\n",
    "print(type(a))"
   ]
  },
  {
   "cell_type": "code",
   "execution_count": 108,
   "id": "0e0f22d9-cac9-4029-b51f-45be3a0d0d4f",
   "metadata": {},
   "outputs": [
    {
     "name": "stdout",
     "output_type": "stream",
     "text": [
      "[0 1 2 3 4 5 6 7]\n",
      "<class 'numpy.ndarray'>\n"
     ]
    }
   ],
   "source": [
    "b = np.arange(8)\n",
    "print(b)\n",
    "print(type(b))"
   ]
  },
  {
   "cell_type": "code",
   "execution_count": 110,
   "id": "83f4a1ca-c327-4eda-8b68-25c3872b075d",
   "metadata": {},
   "outputs": [
    {
     "data": {
      "text/plain": [
       "array([8, 7, 6, 5, 4, 3])"
      ]
     },
     "execution_count": 110,
     "metadata": {},
     "output_type": "execute_result"
    }
   ],
   "source": [
    "c = np.arange(8, 2, -1)\n",
    "c"
   ]
  },
  {
   "cell_type": "code",
   "execution_count": 120,
   "id": "9a2c7183-10e8-425a-b2f3-dd5cdebff921",
   "metadata": {},
   "outputs": [
    {
     "data": {
      "text/plain": [
       "array([[0, 1, 2, 3],\n",
       "       [4, 5, 6, 7]])"
      ]
     },
     "execution_count": 120,
     "metadata": {},
     "output_type": "execute_result"
    }
   ],
   "source": [
    "a.reshape(2,4)"
   ]
  },
  {
   "cell_type": "code",
   "execution_count": 122,
   "id": "c87abfae-c21f-4cae-be3a-78385e6b0552",
   "metadata": {},
   "outputs": [
    {
     "data": {
      "text/plain": [
       "array([0, 1, 2, 3, 4, 5, 6, 7])"
      ]
     },
     "execution_count": 122,
     "metadata": {},
     "output_type": "execute_result"
    }
   ],
   "source": [
    "a"
   ]
  },
  {
   "cell_type": "code",
   "execution_count": 124,
   "id": "da8e5afa-cdd7-4586-809a-e9d9569d6561",
   "metadata": {},
   "outputs": [],
   "source": [
    "a.resize(2,4)"
   ]
  },
  {
   "cell_type": "code",
   "execution_count": 126,
   "id": "2369b5e8-c66b-46cd-8872-a0da6944abbe",
   "metadata": {},
   "outputs": [
    {
     "data": {
      "text/plain": [
       "array([[0, 1, 2, 3],\n",
       "       [4, 5, 6, 7]])"
      ]
     },
     "execution_count": 126,
     "metadata": {},
     "output_type": "execute_result"
    }
   ],
   "source": [
    "a"
   ]
  },
  {
   "cell_type": "code",
   "execution_count": 130,
   "id": "11012114-fb61-450f-99a3-5ded36b9aa1e",
   "metadata": {},
   "outputs": [
    {
     "data": {
      "text/plain": [
       "4"
      ]
     },
     "execution_count": 130,
     "metadata": {},
     "output_type": "execute_result"
    }
   ],
   "source": [
    "a[1][0]"
   ]
  },
  {
   "cell_type": "code",
   "execution_count": null,
   "id": "7637678c-a9a2-463c-bc9a-e8263acb103a",
   "metadata": {},
   "outputs": [],
   "source": [
    "## 전치행렬"
   ]
  },
  {
   "cell_type": "code",
   "execution_count": 144,
   "id": "97a7b289-c887-4926-ae29-5362848ebdf9",
   "metadata": {},
   "outputs": [
    {
     "data": {
      "text/plain": [
       "array([[0, 1, 2, 3],\n",
       "       [4, 5, 6, 7]])"
      ]
     },
     "execution_count": 144,
     "metadata": {},
     "output_type": "execute_result"
    }
   ],
   "source": [
    "a.resize(2,4)\n",
    "a"
   ]
  },
  {
   "cell_type": "code",
   "execution_count": 146,
   "id": "a0e77963-012f-46ee-94ab-d8f4c09868c7",
   "metadata": {},
   "outputs": [
    {
     "data": {
      "text/plain": [
       "array([[0, 4],\n",
       "       [1, 5],\n",
       "       [2, 6],\n",
       "       [3, 7]])"
      ]
     },
     "execution_count": 146,
     "metadata": {},
     "output_type": "execute_result"
    }
   ],
   "source": [
    "a.T"
   ]
  },
  {
   "cell_type": "markdown",
   "id": "59099717-6c2e-447a-94df-636af661cd57",
   "metadata": {},
   "source": [
    "n행 m열이 m행 n열로 변경된다 "
   ]
  },
  {
   "cell_type": "code",
   "execution_count": 148,
   "id": "b0bb7e98-4675-4c0e-8541-bb0d23771be3",
   "metadata": {},
   "outputs": [
    {
     "data": {
      "text/plain": [
       "array([[0, 1, 2, 3],\n",
       "       [4, 5, 6, 7]])"
      ]
     },
     "execution_count": 148,
     "metadata": {},
     "output_type": "execute_result"
    }
   ],
   "source": [
    "a"
   ]
  },
  {
   "cell_type": "code",
   "execution_count": 152,
   "id": "038b18fa-8ea4-43f6-a905-458651592e2f",
   "metadata": {},
   "outputs": [
    {
     "data": {
      "text/plain": [
       "array([[[0, 1],\n",
       "        [2, 3]],\n",
       "\n",
       "       [[4, 5],\n",
       "        [6, 7]]])"
      ]
     },
     "execution_count": 152,
     "metadata": {},
     "output_type": "execute_result"
    }
   ],
   "source": [
    "a.resize(2,2,2)\n",
    "a"
   ]
  },
  {
   "cell_type": "code",
   "execution_count": 154,
   "id": "ba6da750-2092-4e0e-b799-8d104027c791",
   "metadata": {},
   "outputs": [
    {
     "data": {
      "text/plain": [
       "array([[[0, 4],\n",
       "        [2, 6]],\n",
       "\n",
       "       [[1, 5],\n",
       "        [3, 7]]])"
      ]
     },
     "execution_count": 154,
     "metadata": {},
     "output_type": "execute_result"
    }
   ],
   "source": [
    "a.T"
   ]
  },
  {
   "cell_type": "code",
   "execution_count": 156,
   "id": "35f9cde6-76e5-4d6d-b9c6-4ac420abfcd6",
   "metadata": {},
   "outputs": [
    {
     "data": {
      "text/plain": [
       "array([[[0, 1],\n",
       "        [4, 5]],\n",
       "\n",
       "       [[2, 3],\n",
       "        [6, 7]]])"
      ]
     },
     "execution_count": 156,
     "metadata": {},
     "output_type": "execute_result"
    }
   ],
   "source": [
    "a.swapaxes(0, 1)"
   ]
  }
 ],
 "metadata": {
  "kernelspec": {
   "display_name": "Python [conda env:base] *",
   "language": "python",
   "name": "conda-base-py"
  },
  "language_info": {
   "codemirror_mode": {
    "name": "ipython",
    "version": 3
   },
   "file_extension": ".py",
   "mimetype": "text/x-python",
   "name": "python",
   "nbconvert_exporter": "python",
   "pygments_lexer": "ipython3",
   "version": "3.12.7"
  }
 },
 "nbformat": 4,
 "nbformat_minor": 5
}
