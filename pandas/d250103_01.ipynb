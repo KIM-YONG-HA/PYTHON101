{
 "cells": [
  {
   "cell_type": "code",
   "execution_count": 1,
   "id": "72e251a3-8cb2-44b4-9839-a69267890952",
   "metadata": {},
   "outputs": [
    {
     "name": "stdout",
     "output_type": "stream",
     "text": [
      "Package                           Version\n",
      "--------------------------------- ------------------\n",
      "aext-assistant                    4.0.35\n",
      "aext-assistant-server             4.0.35\n",
      "aext-core                         4.0.35\n",
      "aext-core-server                  4.0.35\n",
      "aext-panels                       4.0.35\n",
      "aext-panels-server                4.0.35\n",
      "aext-share-notebook               4.0.35\n",
      "aext-share-notebook-server        4.0.35\n",
      "aext-shared                       4.0.35\n",
      "aiobotocore                       2.12.3\n",
      "aiohappyeyeballs                  2.4.0\n",
      "aiohttp                           3.10.5\n",
      "aioitertools                      0.7.1\n",
      "aiosignal                         1.2.0\n",
      "alabaster                         0.7.16\n",
      "altair                            5.0.1\n",
      "anaconda-anon-usage               0.4.4\n",
      "anaconda-catalogs                 0.2.0\n",
      "anaconda-client                   1.12.3\n",
      "anaconda-cloud-auth               0.5.1\n",
      "anaconda-navigator                2.6.3\n",
      "anaconda-project                  0.11.1\n",
      "annotated-types                   0.6.0\n",
      "anyio                             4.2.0\n",
      "appdirs                           1.4.4\n",
      "archspec                          0.2.3\n",
      "argon2-cffi                       21.3.0\n",
      "argon2-cffi-bindings              21.2.0\n",
      "arrow                             1.2.3\n",
      "astroid                           2.14.2\n",
      "astropy                           6.1.3\n",
      "astropy-iers-data                 0.2024.9.2.0.33.23\n",
      "asttokens                         2.0.5\n",
      "async-lru                         2.0.4\n",
      "atomicwrites                      1.4.0\n",
      "attrs                             23.1.0\n",
      "Automat                           20.2.0\n",
      "autopep8                          2.0.4\n",
      "Babel                             2.11.0\n",
      "bcrypt                            3.2.0\n",
      "beautifulsoup4                    4.12.3\n",
      "binaryornot                       0.4.4\n",
      "black                             24.8.0\n",
      "bleach                            4.1.0\n",
      "blinker                           1.6.2\n",
      "bokeh                             3.6.0\n",
      "boltons                           23.0.0\n",
      "botocore                          1.34.69\n",
      "Bottleneck                        1.3.7\n",
      "Brotli                            1.0.9\n",
      "cachetools                        5.3.3\n",
      "certifi                           2024.8.30\n",
      "cffi                              1.17.1\n",
      "chardet                           4.0.0\n",
      "charset-normalizer                3.3.2\n",
      "click                             8.1.7\n",
      "cloudpickle                       3.0.0\n",
      "colorama                          0.4.6\n",
      "colorcet                          3.1.0\n",
      "comm                              0.2.1\n",
      "conda                             24.11.0\n",
      "conda-build                       24.9.0\n",
      "conda-content-trust               0.2.0\n",
      "conda_index                       0.5.0\n",
      "conda-libmamba-solver             24.9.0\n",
      "conda-pack                        0.7.1\n",
      "conda-package-handling            2.3.0\n",
      "conda_package_streaming           0.10.0\n",
      "conda-repo-cli                    1.0.114\n",
      "conda-token                       0.5.0+1.g2209e04\n",
      "constantly                        23.10.4\n",
      "contourpy                         1.2.0\n",
      "cookiecutter                      2.6.0\n",
      "cryptography                      43.0.0\n",
      "cssselect                         1.2.0\n",
      "cycler                            0.11.0\n",
      "cytoolz                           0.12.2\n",
      "dask                              2024.8.2\n",
      "dask-expr                         1.1.13\n",
      "datashader                        0.16.3\n",
      "debugpy                           1.6.7\n",
      "decorator                         5.1.1\n",
      "defusedxml                        0.7.1\n",
      "diff-match-patch                  20200713\n",
      "dill                              0.3.8\n",
      "distributed                       2024.8.2\n",
      "distro                            1.9.0\n",
      "docstring-to-markdown             0.11\n",
      "docutils                          0.18.1\n",
      "et-xmlfile                        1.1.0\n",
      "executing                         0.8.3\n",
      "Faker                             33.1.0\n",
      "fastjsonschema                    2.16.2\n",
      "filelock                          3.13.1\n",
      "flake8                            7.0.0\n",
      "Flask                             3.0.3\n",
      "fonttools                         4.51.0\n",
      "frozendict                        2.4.2\n",
      "frozenlist                        1.4.0\n",
      "fsspec                            2024.6.1\n",
      "gensim                            4.3.3\n",
      "gitdb                             4.0.7\n",
      "GitPython                         3.1.43\n",
      "greenlet                          3.0.1\n",
      "h11                               0.14.0\n",
      "h5py                              3.11.0\n",
      "HeapDict                          1.0.1\n",
      "holoviews                         1.19.1\n",
      "httpcore                          1.0.2\n",
      "httpx                             0.27.0\n",
      "hvplot                            0.11.0\n",
      "hyperlink                         21.0.0\n",
      "idna                              3.7\n",
      "imagecodecs                       2023.1.23\n",
      "imageio                           2.33.1\n",
      "imagesize                         1.4.1\n",
      "imbalanced-learn                  0.12.3\n",
      "importlib-metadata                7.0.1\n",
      "incremental                       22.10.0\n",
      "inflection                        0.5.1\n",
      "iniconfig                         1.1.1\n",
      "intake                            2.0.7\n",
      "intervaltree                      3.1.0\n",
      "ipykernel                         6.28.0\n",
      "ipython                           8.27.0\n",
      "ipython-genutils                  0.2.0\n",
      "ipywidgets                        7.8.1\n",
      "isort                             5.13.2\n",
      "itemadapter                       0.3.0\n",
      "itemloaders                       1.1.0\n",
      "itsdangerous                      2.2.0\n",
      "jaraco.classes                    3.2.1\n",
      "jedi                              0.19.1\n",
      "jellyfish                         1.0.1\n",
      "Jinja2                            3.1.4\n",
      "jmespath                          1.0.1\n",
      "joblib                            1.4.2\n",
      "json5                             0.9.6\n",
      "jsonpatch                         1.33\n",
      "jsonpointer                       2.1\n",
      "jsonschema                        4.23.0\n",
      "jsonschema-specifications         2023.7.1\n",
      "jupyter                           1.0.0\n",
      "jupyter_client                    8.6.0\n",
      "jupyter-console                   6.6.3\n",
      "jupyter_core                      5.7.2\n",
      "jupyter-events                    0.10.0\n",
      "jupyter-lsp                       2.2.0\n",
      "jupyter_server                    2.14.1\n",
      "jupyter_server_terminals          0.4.4\n",
      "jupyterlab                        4.2.5\n",
      "jupyterlab-pygments               0.1.2\n",
      "jupyterlab_server                 2.27.3\n",
      "jupyterlab-widgets                1.0.0\n",
      "keyring                           24.3.1\n",
      "kiwisolver                        1.4.4\n",
      "lazy_loader                       0.4\n",
      "lazy-object-proxy                 1.10.0\n",
      "lckr_jupyterlab_variableinspector 3.1.0\n",
      "libarchive-c                      5.1\n",
      "libmambapy                        1.5.8\n",
      "linkify-it-py                     2.0.0\n",
      "llvmlite                          0.43.0\n",
      "lmdb                              1.4.1\n",
      "locket                            1.0.0\n",
      "lxml                              5.2.1\n",
      "lz4                               4.3.2\n",
      "Markdown                          3.4.1\n",
      "markdown-it-py                    2.2.0\n",
      "MarkupSafe                        2.1.3\n",
      "matplotlib                        3.9.2\n",
      "matplotlib-inline                 0.1.6\n",
      "mccabe                            0.7.0\n",
      "mdit-py-plugins                   0.3.0\n",
      "mdurl                             0.1.0\n",
      "menuinst                          2.1.2\n",
      "mistune                           2.0.4\n",
      "mkl_fft                           1.3.10\n",
      "mkl_random                        1.2.7\n",
      "mkl-service                       2.4.0\n",
      "more-itertools                    10.3.0\n",
      "mpmath                            1.3.0\n",
      "msgpack                           1.0.3\n",
      "multidict                         6.0.4\n",
      "multipledispatch                  0.6.0\n",
      "mypy                              1.11.2\n",
      "mypy-extensions                   1.0.0\n",
      "navigator-updater                 0.5.1\n",
      "nb_conda_kernels                  2.5.2\n",
      "nbclient                          0.8.0\n",
      "nbconvert                         7.16.4\n",
      "nbformat                          5.10.4\n",
      "nest-asyncio                      1.6.0\n",
      "networkx                          3.3\n",
      "nltk                              3.9.1\n",
      "notebook                          7.2.2\n",
      "notebook_shim                     0.2.3\n",
      "numba                             0.60.0\n",
      "numexpr                           2.8.7\n",
      "numpy                             1.26.4\n",
      "numpydoc                          1.7.0\n",
      "openpyxl                          3.1.5\n",
      "overrides                         7.4.0\n",
      "packaging                         24.1\n",
      "pandas                            2.2.2\n",
      "pandocfilters                     1.5.0\n",
      "panel                             1.5.2\n",
      "param                             2.1.1\n",
      "paramiko                          2.8.1\n",
      "parsel                            1.8.1\n",
      "parso                             0.8.3\n",
      "partd                             1.4.1\n",
      "pathspec                          0.10.3\n",
      "patsy                             0.5.6\n",
      "pexpect                           4.8.0\n",
      "pickleshare                       0.7.5\n",
      "pillow                            10.4.0\n",
      "pip                               24.2\n",
      "pkce                              1.0.3\n",
      "pkginfo                           1.10.0\n",
      "platformdirs                      3.10.0\n",
      "plotly                            5.24.1\n",
      "pluggy                            1.0.0\n",
      "ply                               3.11\n",
      "prometheus-client                 0.14.1\n",
      "prompt-toolkit                    3.0.43\n",
      "Protego                           0.1.16\n",
      "protobuf                          4.25.3\n",
      "psutil                            5.9.0\n",
      "ptyprocess                        0.7.0\n",
      "pure-eval                         0.2.2\n",
      "py-cpuinfo                        9.0.0\n",
      "pyarrow                           16.1.0\n",
      "pyasn1                            0.4.8\n",
      "pyasn1-modules                    0.2.8\n",
      "pycodestyle                       2.11.1\n",
      "pycosat                           0.6.6\n",
      "pycparser                         2.21\n",
      "pyct                              0.5.0\n",
      "pycurl                            7.45.3\n",
      "pydantic                          2.8.2\n",
      "pydantic_core                     2.20.1\n",
      "pydeck                            0.8.0\n",
      "PyDispatcher                      2.0.5\n",
      "pydocstyle                        6.3.0\n",
      "pyerfa                            2.0.1.4\n",
      "pyflakes                          3.2.0\n",
      "Pygments                          2.15.1\n",
      "PyJWT                             2.8.0\n",
      "pylint                            2.16.2\n",
      "pylint-venv                       3.0.3\n",
      "pyls-spyder                       0.4.0\n",
      "PyNaCl                            1.5.0\n",
      "pyodbc                            5.1.0\n",
      "pyOpenSSL                         24.2.1\n",
      "pyparsing                         3.1.2\n",
      "PyQt5                             5.15.10\n",
      "PyQt5-sip                         12.13.0\n",
      "PyQtWebEngine                     5.15.6\n",
      "PySocks                           1.7.1\n",
      "pytest                            7.4.4\n",
      "python-dateutil                   2.9.0.post0\n",
      "python-dotenv                     0.21.0\n",
      "python-json-logger                2.0.7\n",
      "python-lsp-black                  2.0.0\n",
      "python-lsp-jsonrpc                1.1.2\n",
      "python-lsp-server                 1.10.0\n",
      "python-slugify                    5.0.2\n",
      "pytoolconfig                      1.2.6\n",
      "pytz                              2024.1\n",
      "pyviz_comms                       3.0.2\n",
      "PyWavelets                        1.7.0\n",
      "pywin32                           305.1\n",
      "pywin32-ctypes                    0.2.2\n",
      "pywinpty                          2.0.10\n",
      "PyYAML                            6.0.1\n",
      "pyzmq                             25.1.2\n",
      "QDarkStyle                        3.2.3\n",
      "qstylizer                         0.2.2\n",
      "QtAwesome                         1.3.1\n",
      "qtconsole                         5.5.1\n",
      "QtPy                              2.4.1\n",
      "queuelib                          1.6.2\n",
      "referencing                       0.30.2\n",
      "regex                             2024.9.11\n",
      "requests                          2.32.3\n",
      "requests-file                     1.5.1\n",
      "requests-toolbelt                 1.0.0\n",
      "rfc3339-validator                 0.1.4\n",
      "rfc3986-validator                 0.1.1\n",
      "rich                              13.7.1\n",
      "rope                              1.12.0\n",
      "rpds-py                           0.10.6\n",
      "Rtree                             1.0.1\n",
      "ruamel.yaml                       0.18.6\n",
      "ruamel.yaml.clib                  0.2.8\n",
      "ruamel-yaml-conda                 0.17.21\n",
      "s3fs                              2024.6.1\n",
      "scikit-image                      0.24.0\n",
      "scikit-learn                      1.5.1\n",
      "scipy                             1.13.1\n",
      "Scrapy                            2.11.1\n",
      "seaborn                           0.13.2\n",
      "semver                            3.0.2\n",
      "Send2Trash                        1.8.2\n",
      "sentry-sdk                        2.18.0\n",
      "service-identity                  18.1.0\n",
      "setuptools                        75.1.0\n",
      "sip                               6.7.12\n",
      "six                               1.16.0\n",
      "smart-open                        5.2.1\n",
      "smmap                             4.0.0\n",
      "sniffio                           1.3.0\n",
      "snowballstemmer                   2.2.0\n",
      "sortedcontainers                  2.4.0\n",
      "soupsieve                         2.5\n",
      "Sphinx                            7.3.7\n",
      "sphinxcontrib-applehelp           1.0.2\n",
      "sphinxcontrib-devhelp             1.0.2\n",
      "sphinxcontrib-htmlhelp            2.0.0\n",
      "sphinxcontrib-jsmath              1.0.1\n",
      "sphinxcontrib-qthelp              1.0.3\n",
      "sphinxcontrib-serializinghtml     1.1.10\n",
      "spyder                            5.5.1\n",
      "spyder-kernels                    2.5.0\n",
      "SQLAlchemy                        2.0.34\n",
      "stack-data                        0.2.0\n",
      "statsmodels                       0.14.2\n",
      "streamlit                         1.37.1\n",
      "sympy                             1.13.2\n",
      "tables                            3.10.1\n",
      "tabulate                          0.9.0\n",
      "tblib                             1.7.0\n",
      "tenacity                          8.2.3\n",
      "terminado                         0.17.1\n",
      "text-unidecode                    1.3\n",
      "textdistance                      4.2.1\n",
      "threadpoolctl                     3.5.0\n",
      "three-merge                       0.1.1\n",
      "tifffile                          2023.4.12\n",
      "tinycss2                          1.2.1\n",
      "tldextract                        5.1.2\n",
      "toml                              0.10.2\n",
      "tomli                             2.0.1\n",
      "tomlkit                           0.11.1\n",
      "toolz                             0.12.0\n",
      "tornado                           6.4.1\n",
      "tqdm                              4.66.5\n",
      "traitlets                         5.14.3\n",
      "truststore                        0.8.0\n",
      "Twisted                           23.10.0\n",
      "twisted-iocpsupport               1.0.2\n",
      "typing_extensions                 4.11.0\n",
      "tzdata                            2023.3\n",
      "uc-micro-py                       1.0.1\n",
      "ujson                             5.10.0\n",
      "unicodedata2                      15.1.0\n",
      "Unidecode                         1.3.8\n",
      "urllib3                           2.2.3\n",
      "w3lib                             2.1.2\n",
      "watchdog                          4.0.1\n",
      "wcwidth                           0.2.5\n",
      "webencodings                      0.5.1\n",
      "websocket-client                  1.8.0\n",
      "Werkzeug                          3.0.3\n",
      "whatthepatch                      1.0.2\n",
      "wheel                             0.44.0\n",
      "widgetsnbextension                3.6.6\n",
      "win-inet-pton                     1.1.0\n",
      "wrapt                             1.14.1\n",
      "xarray                            2023.6.0\n",
      "xlwings                           0.32.1\n",
      "xyzservices                       2022.9.0\n",
      "yapf                              0.40.2\n",
      "yarl                              1.11.0\n",
      "zict                              3.0.0\n",
      "zipp                              3.17.0\n",
      "zope.interface                    5.4.0\n",
      "zstandard                         0.23.0\n",
      "Note: you may need to restart the kernel to use updated packages.\n"
     ]
    }
   ],
   "source": [
    "pip list"
   ]
  },
  {
   "cell_type": "code",
   "execution_count": 13,
   "id": "53aa61d6-151f-4ba0-b0d8-7f69ad8893ae",
   "metadata": {},
   "outputs": [
    {
     "name": "stdout",
     "output_type": "stream",
     "text": [
      "<class 'pandas.core.series.Series'>\n",
      "a    1\n",
      "b    2\n",
      "c    3\n",
      "dtype: int64\n"
     ]
    }
   ],
   "source": [
    "import pandas as pd\n",
    "\n",
    "dict_data = {'a':1, 'b':2, 'c':3}\n",
    "\n",
    "sr = pd.Series(dict_data)\n",
    "print(type(sr))\n",
    "print(sr)\n"
   ]
  },
  {
   "cell_type": "code",
   "execution_count": 15,
   "id": "564cad8a-be98-4c6b-a149-31e8464cf62a",
   "metadata": {},
   "outputs": [
    {
     "name": "stdout",
     "output_type": "stream",
     "text": [
      "Index(['a', 'b', 'c'], dtype='object')\n"
     ]
    }
   ],
   "source": [
    "print(sr.index)"
   ]
  },
  {
   "cell_type": "code",
   "execution_count": 19,
   "id": "236790d6-9711-4811-a239-f7e6ac80a797",
   "metadata": {},
   "outputs": [
    {
     "name": "stdout",
     "output_type": "stream",
     "text": [
      "[1 2 3]\n"
     ]
    }
   ],
   "source": [
    "print(sr.values)"
   ]
  },
  {
   "cell_type": "code",
   "execution_count": 21,
   "id": "b4d91e23-f095-4329-b5f8-c8ae84f6e1c3",
   "metadata": {
    "scrolled": true
   },
   "outputs": [
    {
     "name": "stdout",
     "output_type": "stream",
     "text": [
      "0      3.141582\n",
      "1             0\n",
      "2          True\n",
      "3    2025-01-03\n",
      "4        python\n",
      "dtype: object\n"
     ]
    }
   ],
   "source": [
    "list_data = [3.141582,0,True,'2025-01-03','python']\n",
    "sr2 = pd.Series(list_data)\n",
    "print(sr2)"
   ]
  },
  {
   "cell_type": "code",
   "execution_count": 25,
   "id": "068d3f8f-6648-4d73-ad8b-8ff359535169",
   "metadata": {},
   "outputs": [
    {
     "name": "stdout",
     "output_type": "stream",
     "text": [
      "RangeIndex(start=0, stop=5, step=1)\n"
     ]
    }
   ],
   "source": [
    "print(sr2.index)"
   ]
  },
  {
   "cell_type": "code",
   "execution_count": 27,
   "id": "55a689ac-91b7-43fa-aeed-a4eb600d161f",
   "metadata": {},
   "outputs": [
    {
     "name": "stdout",
     "output_type": "stream",
     "text": [
      "[3.141582 0 True '2025-01-03' 'python']\n"
     ]
    }
   ],
   "source": [
    "print(sr2.values)"
   ]
  },
  {
   "cell_type": "code",
   "execution_count": 29,
   "id": "8ea3e2e3-a404-49a6-83b4-ef73e832a671",
   "metadata": {},
   "outputs": [
    {
     "name": "stdout",
     "output_type": "stream",
     "text": [
      "python\n"
     ]
    }
   ],
   "source": [
    "print(sr2[4])"
   ]
  },
  {
   "cell_type": "code",
   "execution_count": 39,
   "id": "e1c595e2-4429-44c0-8ee1-c723a39ddd30",
   "metadata": {},
   "outputs": [
    {
     "name": "stdout",
     "output_type": "stream",
     "text": [
      "0        A\n",
      "1    False\n",
      "2        비\n",
      "3        0\n",
      "dtype: object\n"
     ]
    }
   ],
   "source": [
    "tup_data = ('A',False,'비',0)\n",
    "sr3 = pd.Series(tup_data)\n",
    "print(sr3)"
   ]
  },
  {
   "cell_type": "code",
   "execution_count": 45,
   "id": "2f5a6aee-6f86-4339-86a1-c10e71c84957",
   "metadata": {},
   "outputs": [
    {
     "name": "stdout",
     "output_type": "stream",
     "text": [
      "english        A\n",
      "boolean    False\n",
      "korean         비\n",
      "number         0\n",
      "dtype: object\n"
     ]
    }
   ],
   "source": [
    "tup_data = ('A',False,'비',0)\n",
    "sr3 = pd.Series(tup_data, index=['english','boolean','korean','number'])\n",
    "print(sr3)"
   ]
  },
  {
   "cell_type": "code",
   "execution_count": 47,
   "id": "b56e439c-5629-48c9-9016-b56df59ae2a2",
   "metadata": {},
   "outputs": [
    {
     "name": "stdout",
     "output_type": "stream",
     "text": [
      "A\n"
     ]
    },
    {
     "name": "stderr",
     "output_type": "stream",
     "text": [
      "C:\\Users\\kj\\AppData\\Local\\Temp\\ipykernel_5996\\2956881224.py:1: FutureWarning: Series.__getitem__ treating keys as positions is deprecated. In a future version, integer keys will always be treated as labels (consistent with DataFrame behavior). To access a value by position, use `ser.iloc[pos]`\n",
      "  print(sr3[0])\n"
     ]
    }
   ],
   "source": [
    "print(sr3[0])"
   ]
  },
  {
   "cell_type": "code",
   "execution_count": 51,
   "id": "dda6f125-5e18-4d78-94e5-192d349352be",
   "metadata": {},
   "outputs": [
    {
     "name": "stdout",
     "output_type": "stream",
     "text": [
      "A\n"
     ]
    }
   ],
   "source": [
    "print(sr3.iloc[0])"
   ]
  },
  {
   "cell_type": "code",
   "execution_count": 49,
   "id": "19cbf3ab-abd4-4099-8f3e-c434cd178ce3",
   "metadata": {},
   "outputs": [
    {
     "name": "stdout",
     "output_type": "stream",
     "text": [
      "A\n"
     ]
    }
   ],
   "source": [
    "print(sr3['english'])"
   ]
  },
  {
   "cell_type": "code",
   "execution_count": 53,
   "id": "26080ca9-2b66-4682-a13e-eec660af88b6",
   "metadata": {},
   "outputs": [
    {
     "ename": "KeyError",
     "evalue": "'key of type tuple not found and not a MultiIndex'",
     "output_type": "error",
     "traceback": [
      "\u001b[1;31m---------------------------------------------------------------------------\u001b[0m",
      "\u001b[1;31mKeyError\u001b[0m                                  Traceback (most recent call last)",
      "Cell \u001b[1;32mIn[53], line 1\u001b[0m\n\u001b[1;32m----> 1\u001b[0m \u001b[38;5;28mprint\u001b[39m(sr3[\u001b[38;5;124m'\u001b[39m\u001b[38;5;124menglish\u001b[39m\u001b[38;5;124m'\u001b[39m,\u001b[38;5;124m'\u001b[39m\u001b[38;5;124mkorean\u001b[39m\u001b[38;5;124m'\u001b[39m])\n",
      "File \u001b[1;32m~\\anaconda3\\Lib\\site-packages\\pandas\\core\\series.py:1153\u001b[0m, in \u001b[0;36mSeries.__getitem__\u001b[1;34m(self, key)\u001b[0m\n\u001b[0;32m   1150\u001b[0m     key \u001b[38;5;241m=\u001b[39m np\u001b[38;5;241m.\u001b[39masarray(key, dtype\u001b[38;5;241m=\u001b[39m\u001b[38;5;28mbool\u001b[39m)\n\u001b[0;32m   1151\u001b[0m     \u001b[38;5;28;01mreturn\u001b[39;00m \u001b[38;5;28mself\u001b[39m\u001b[38;5;241m.\u001b[39m_get_rows_with_mask(key)\n\u001b[1;32m-> 1153\u001b[0m \u001b[38;5;28;01mreturn\u001b[39;00m \u001b[38;5;28mself\u001b[39m\u001b[38;5;241m.\u001b[39m_get_with(key)\n",
      "File \u001b[1;32m~\\anaconda3\\Lib\\site-packages\\pandas\\core\\series.py:1163\u001b[0m, in \u001b[0;36mSeries._get_with\u001b[1;34m(self, key)\u001b[0m\n\u001b[0;32m   1158\u001b[0m     \u001b[38;5;28;01mraise\u001b[39;00m \u001b[38;5;167;01mTypeError\u001b[39;00m(\n\u001b[0;32m   1159\u001b[0m         \u001b[38;5;124m\"\u001b[39m\u001b[38;5;124mIndexing a Series with DataFrame is not \u001b[39m\u001b[38;5;124m\"\u001b[39m\n\u001b[0;32m   1160\u001b[0m         \u001b[38;5;124m\"\u001b[39m\u001b[38;5;124msupported, use the appropriate DataFrame column\u001b[39m\u001b[38;5;124m\"\u001b[39m\n\u001b[0;32m   1161\u001b[0m     )\n\u001b[0;32m   1162\u001b[0m \u001b[38;5;28;01melif\u001b[39;00m \u001b[38;5;28misinstance\u001b[39m(key, \u001b[38;5;28mtuple\u001b[39m):\n\u001b[1;32m-> 1163\u001b[0m     \u001b[38;5;28;01mreturn\u001b[39;00m \u001b[38;5;28mself\u001b[39m\u001b[38;5;241m.\u001b[39m_get_values_tuple(key)\n\u001b[0;32m   1165\u001b[0m \u001b[38;5;28;01melif\u001b[39;00m \u001b[38;5;129;01mnot\u001b[39;00m is_list_like(key):\n\u001b[0;32m   1166\u001b[0m     \u001b[38;5;66;03m# e.g. scalars that aren't recognized by lib.is_scalar, GH#32684\u001b[39;00m\n\u001b[0;32m   1167\u001b[0m     \u001b[38;5;28;01mreturn\u001b[39;00m \u001b[38;5;28mself\u001b[39m\u001b[38;5;241m.\u001b[39mloc[key]\n",
      "File \u001b[1;32m~\\anaconda3\\Lib\\site-packages\\pandas\\core\\series.py:1207\u001b[0m, in \u001b[0;36mSeries._get_values_tuple\u001b[1;34m(self, key)\u001b[0m\n\u001b[0;32m   1204\u001b[0m     \u001b[38;5;28;01mreturn\u001b[39;00m result\n\u001b[0;32m   1206\u001b[0m \u001b[38;5;28;01mif\u001b[39;00m \u001b[38;5;129;01mnot\u001b[39;00m \u001b[38;5;28misinstance\u001b[39m(\u001b[38;5;28mself\u001b[39m\u001b[38;5;241m.\u001b[39mindex, MultiIndex):\n\u001b[1;32m-> 1207\u001b[0m     \u001b[38;5;28;01mraise\u001b[39;00m \u001b[38;5;167;01mKeyError\u001b[39;00m(\u001b[38;5;124m\"\u001b[39m\u001b[38;5;124mkey of type tuple not found and not a MultiIndex\u001b[39m\u001b[38;5;124m\"\u001b[39m)\n\u001b[0;32m   1209\u001b[0m \u001b[38;5;66;03m# If key is contained, would have returned by now\u001b[39;00m\n\u001b[0;32m   1210\u001b[0m indexer, new_index \u001b[38;5;241m=\u001b[39m \u001b[38;5;28mself\u001b[39m\u001b[38;5;241m.\u001b[39mindex\u001b[38;5;241m.\u001b[39mget_loc_level(key)\n",
      "\u001b[1;31mKeyError\u001b[0m: 'key of type tuple not found and not a MultiIndex'"
     ]
    }
   ],
   "source": [
    "print(sr3['english','korean'])"
   ]
  },
  {
   "cell_type": "code",
   "execution_count": 55,
   "id": "4d4439f4-7dce-4ceb-a302-4df72664daa4",
   "metadata": {},
   "outputs": [
    {
     "name": "stdout",
     "output_type": "stream",
     "text": [
      "english    A\n",
      "korean     비\n",
      "dtype: object\n"
     ]
    }
   ],
   "source": [
    "print(sr3[['english','korean']])"
   ]
  },
  {
   "cell_type": "code",
   "execution_count": 59,
   "id": "64e72f8b-685c-4388-a0b0-cd7c40293af7",
   "metadata": {},
   "outputs": [
    {
     "name": "stdout",
     "output_type": "stream",
     "text": [
      "english        A\n",
      "boolean    False\n",
      "dtype: object\n"
     ]
    }
   ],
   "source": [
    "print(sr3[0:2])"
   ]
  },
  {
   "cell_type": "code",
   "execution_count": null,
   "id": "539a798a-a62f-41d0-9ca3-6f42cb25c555",
   "metadata": {},
   "outputs": [],
   "source": []
  },
  {
   "cell_type": "code",
   "execution_count": null,
   "id": "d7976c6b-c470-4fe7-acc5-97a790e7110a",
   "metadata": {},
   "outputs": [],
   "source": []
  },
  {
   "cell_type": "code",
   "execution_count": 67,
   "id": "02c7ba17-45a7-43a7-912f-6b17f7a15e5a",
   "metadata": {},
   "outputs": [
    {
     "name": "stdout",
     "output_type": "stream",
     "text": [
      "<class 'pandas.core.frame.DataFrame'>\n",
      "\n",
      "\n",
      "  name  age gender\n",
      "0  홍길동   52      M\n",
      "1  유재석   44      F\n",
      "2  정형돈   41      M\n",
      "3  박명수   51      M\n"
     ]
    }
   ],
   "source": [
    "dict_data = {\n",
    "    'name':['홍길동', '유재석', '정형돈', '박명수'],\n",
    "    'age':[52, 44, 41, 51],\n",
    "    'gender':['M','F','M','M']\n",
    "}\n",
    "\n",
    "df = pd.DataFrame(dict_data)\n",
    "print(type(df))\n",
    "print(df)\n",
    "\n",
    "    "
   ]
  },
  {
   "cell_type": "code",
   "execution_count": null,
   "id": "51a03561-3aca-4805-9f0e-8014cbbdb126",
   "metadata": {},
   "outputs": [],
   "source": []
  },
  {
   "cell_type": "code",
   "execution_count": 87,
   "id": "49330e17-4751-4906-af5f-4e8f4a2d74e5",
   "metadata": {},
   "outputs": [
    {
     "name": "stdout",
     "output_type": "stream",
     "text": [
      "    0  1        2\n",
      "0  15  남    한국중학교\n",
      "1  16  여  한국여자중학교\n"
     ]
    }
   ],
   "source": [
    "df = pd.DataFrame([[15, '남', '한국중학교'], [16, '여', '한국여자중학교']])\n",
    "print(df)"
   ]
  },
  {
   "cell_type": "code",
   "execution_count": 89,
   "id": "bccc35b8-0e55-475f-a76b-b687e166cd15",
   "metadata": {},
   "outputs": [
    {
     "name": "stdout",
     "output_type": "stream",
     "text": [
      "      0  1        2\n",
      "홍길동  15  남    한국중학교\n",
      "정길동  16  여  한국여자중학교\n"
     ]
    }
   ],
   "source": [
    "df = pd.DataFrame([[15, '남', '한국중학교'], [16, '여', '한국여자중학교']], index=['홍길동','정길동'])\n",
    "print(df)"
   ]
  },
  {
   "cell_type": "code",
   "execution_count": 123,
   "id": "a844e35d-aeb0-4273-ad29-ea566c4f7283",
   "metadata": {},
   "outputs": [
    {
     "name": "stdout",
     "output_type": "stream",
     "text": [
      "     나이 성별      학교명\n",
      "홍길동  15  남    한국중학교\n",
      "정길동  16  여  한국여자중학교\n"
     ]
    }
   ],
   "source": [
    "df = pd.DataFrame([[15, '남', '한국중학교'], [16, '여', '한국여자중학교']], index=['홍길동','정길동'], columns=['나이','성별','학교명'])\n",
    "print(df)\n",
    "\n"
   ]
  },
  {
   "cell_type": "code",
   "execution_count": null,
   "id": "00d51c06-d91b-4089-b3e5-e3aa44b38669",
   "metadata": {},
   "outputs": [],
   "source": []
  },
  {
   "cell_type": "code",
   "execution_count": 126,
   "id": "3920dee5-4580-41a4-a47f-c4537d05f746",
   "metadata": {},
   "outputs": [
    {
     "name": "stdout",
     "output_type": "stream",
     "text": [
      "Index(['홍길동', '정길동'], dtype='object')\n",
      "Index(['나이', '성별', '학교명'], dtype='object')\n"
     ]
    }
   ],
   "source": [
    "print(df.index)\n",
    "print(df.columns)"
   ]
  },
  {
   "cell_type": "code",
   "execution_count": 128,
   "id": "80769bac-10f1-4fd0-82f4-141ce9e0c565",
   "metadata": {},
   "outputs": [
    {
     "name": "stdout",
     "output_type": "stream",
     "text": [
      "     나이 성별      학교명\n",
      "노홍철  15  남    한국중학교\n",
      "정준하  16  여  한국여자중학교\n"
     ]
    }
   ],
   "source": [
    "df.index = ['노홍철','정준하']\n",
    "print(df)"
   ]
  },
  {
   "cell_type": "code",
   "execution_count": 103,
   "id": "28ff2049-7239-4630-9cfd-499718db84fb",
   "metadata": {},
   "outputs": [
    {
     "name": "stdout",
     "output_type": "stream",
     "text": [
      "      age gender schoo_name\n",
      "홍 길동   15      남      한국중학교\n",
      "정 길동   16      여    한국여자중학교\n"
     ]
    }
   ],
   "source": [
    "df.columns = ['age', 'gender', 'schoo_name']\n",
    "print(df)"
   ]
  },
  {
   "cell_type": "code",
   "execution_count": 115,
   "id": "6b338074-8666-47f8-9332-6bc63379cd0d",
   "metadata": {},
   "outputs": [
    {
     "name": "stdout",
     "output_type": "stream",
     "text": [
      "     age gender schoo_name\n",
      "노홍철   15      남      한국중학교\n",
      "정준하   16      여    한국여자중학교\n"
     ]
    }
   ],
   "source": [
    "df.rename(columns = {'gender':'성별'}) #  임시적으로 저장된다.\n",
    "print(df)\n"
   ]
  },
  {
   "cell_type": "code",
   "execution_count": 117,
   "id": "066c1e95-e305-4e65-83aa-ba95a4e4c866",
   "metadata": {},
   "outputs": [
    {
     "name": "stdout",
     "output_type": "stream",
     "text": [
      "     age 성별 schoo_name\n",
      "노홍철   15  남      한국중학교\n",
      "정준하   16  여    한국여자중학교\n"
     ]
    }
   ],
   "source": [
    "df.rename(columns = {'gender':'성별'}, inplace = True) #  이뮤터블 때문에 영구 적용 시켜야한다.\n",
    "print(df)\n"
   ]
  },
  {
   "cell_type": "code",
   "execution_count": 121,
   "id": "e7b6d61d-6219-4b8b-a94a-caa4cf721095",
   "metadata": {},
   "outputs": [
    {
     "name": "stdout",
     "output_type": "stream",
     "text": [
      "     age 성별 schoo_name\n",
      "김홍철   15  남      한국중학교\n",
      "정준하   16  여    한국여자중학교\n"
     ]
    }
   ],
   "source": [
    "df.rename(index = {'노홍철':'김홍철'}, inplace = True)\n",
    "print(df)"
   ]
  },
  {
   "cell_type": "code",
   "execution_count": null,
   "id": "cb25ec16-d810-4d56-84e1-5526fc8d0b4b",
   "metadata": {},
   "outputs": [],
   "source": []
  },
  {
   "cell_type": "code",
   "execution_count": null,
   "id": "ffd76232-10d3-40fa-8571-fbc8a10d3a03",
   "metadata": {},
   "outputs": [],
   "source": [
    "## 행 열의 삭제 "
   ]
  },
  {
   "cell_type": "code",
   "execution_count": 266,
   "id": "f29617ff-4408-432a-bfdf-450c8d830cef",
   "metadata": {},
   "outputs": [
    {
     "data": {
      "text/html": [
       "<div>\n",
       "<style scoped>\n",
       "    .dataframe tbody tr th:only-of-type {\n",
       "        vertical-align: middle;\n",
       "    }\n",
       "\n",
       "    .dataframe tbody tr th {\n",
       "        vertical-align: top;\n",
       "    }\n",
       "\n",
       "    .dataframe thead th {\n",
       "        text-align: right;\n",
       "    }\n",
       "</style>\n",
       "<table border=\"1\" class=\"dataframe\">\n",
       "  <thead>\n",
       "    <tr style=\"text-align: right;\">\n",
       "      <th></th>\n",
       "      <th>수학</th>\n",
       "      <th>영어</th>\n",
       "      <th>국어</th>\n",
       "      <th>음악</th>\n",
       "    </tr>\n",
       "  </thead>\n",
       "  <tbody>\n",
       "    <tr>\n",
       "      <th>재석</th>\n",
       "      <td>90</td>\n",
       "      <td>92</td>\n",
       "      <td>93</td>\n",
       "      <td>91</td>\n",
       "    </tr>\n",
       "    <tr>\n",
       "      <th>형돈</th>\n",
       "      <td>80</td>\n",
       "      <td>82</td>\n",
       "      <td>83</td>\n",
       "      <td>81</td>\n",
       "    </tr>\n",
       "    <tr>\n",
       "      <th>하하</th>\n",
       "      <td>70</td>\n",
       "      <td>72</td>\n",
       "      <td>73</td>\n",
       "      <td>71</td>\n",
       "    </tr>\n",
       "  </tbody>\n",
       "</table>\n",
       "</div>"
      ],
      "text/plain": [
       "    수학  영어  국어  음악\n",
       "재석  90  92  93  91\n",
       "형돈  80  82  83  81\n",
       "하하  70  72  73  71"
      ]
     },
     "execution_count": 266,
     "metadata": {},
     "output_type": "execute_result"
    }
   ],
   "source": [
    "exam_data = {'수학':[90,80,70],'영어':[92,82,72],'국어':[93,83,73],'음악':[91,81,71]}\n",
    "\n",
    "df_origin = pd.DataFrame(exam_data, index = ['재석', '형돈', '하하'])\n",
    "\n",
    "\n",
    "df_copy = df_origin[:]\n",
    "df_copy\n",
    "\n"
   ]
  },
  {
   "cell_type": "code",
   "execution_count": 206,
   "id": "f50d35d5-b7c9-4f15-a1f3-fc884a43c08a",
   "metadata": {
    "scrolled": true
   },
   "outputs": [],
   "source": [
    "#df_copy.drop('하하', inplace = True)"
   ]
  },
  {
   "cell_type": "code",
   "execution_count": 268,
   "id": "13e04f4f-cc79-42d0-b964-b77e0c652134",
   "metadata": {},
   "outputs": [
    {
     "data": {
      "text/html": [
       "<div>\n",
       "<style scoped>\n",
       "    .dataframe tbody tr th:only-of-type {\n",
       "        vertical-align: middle;\n",
       "    }\n",
       "\n",
       "    .dataframe tbody tr th {\n",
       "        vertical-align: top;\n",
       "    }\n",
       "\n",
       "    .dataframe thead th {\n",
       "        text-align: right;\n",
       "    }\n",
       "</style>\n",
       "<table border=\"1\" class=\"dataframe\">\n",
       "  <thead>\n",
       "    <tr style=\"text-align: right;\">\n",
       "      <th></th>\n",
       "      <th>수학</th>\n",
       "      <th>영어</th>\n",
       "      <th>국어</th>\n",
       "      <th>음악</th>\n",
       "    </tr>\n",
       "  </thead>\n",
       "  <tbody>\n",
       "    <tr>\n",
       "      <th>재석</th>\n",
       "      <td>90</td>\n",
       "      <td>92</td>\n",
       "      <td>93</td>\n",
       "      <td>91</td>\n",
       "    </tr>\n",
       "    <tr>\n",
       "      <th>하하</th>\n",
       "      <td>70</td>\n",
       "      <td>72</td>\n",
       "      <td>73</td>\n",
       "      <td>71</td>\n",
       "    </tr>\n",
       "  </tbody>\n",
       "</table>\n",
       "</div>"
      ],
      "text/plain": [
       "    수학  영어  국어  음악\n",
       "재석  90  92  93  91\n",
       "하하  70  72  73  71"
      ]
     },
     "execution_count": 268,
     "metadata": {},
     "output_type": "execute_result"
    }
   ],
   "source": [
    "df_copy = df_copy.drop('형돈', axis = 0)\n",
    "df_copy"
   ]
  },
  {
   "cell_type": "code",
   "execution_count": 270,
   "id": "568e3e30-b03f-4bfe-aabc-cd961901f229",
   "metadata": {},
   "outputs": [
    {
     "data": {
      "text/html": [
       "<div>\n",
       "<style scoped>\n",
       "    .dataframe tbody tr th:only-of-type {\n",
       "        vertical-align: middle;\n",
       "    }\n",
       "\n",
       "    .dataframe tbody tr th {\n",
       "        vertical-align: top;\n",
       "    }\n",
       "\n",
       "    .dataframe thead th {\n",
       "        text-align: right;\n",
       "    }\n",
       "</style>\n",
       "<table border=\"1\" class=\"dataframe\">\n",
       "  <thead>\n",
       "    <tr style=\"text-align: right;\">\n",
       "      <th></th>\n",
       "      <th>수학</th>\n",
       "      <th>영어</th>\n",
       "      <th>국어</th>\n",
       "      <th>음악</th>\n",
       "    </tr>\n",
       "  </thead>\n",
       "  <tbody>\n",
       "  </tbody>\n",
       "</table>\n",
       "</div>"
      ],
      "text/plain": [
       "Empty DataFrame\n",
       "Columns: [수학, 영어, 국어, 음악]\n",
       "Index: []"
      ]
     },
     "execution_count": 270,
     "metadata": {},
     "output_type": "execute_result"
    }
   ],
   "source": [
    "df_copy.drop(['재석', '하하'], axis = 0, inplace = True)\n",
    "df_copy"
   ]
  },
  {
   "cell_type": "code",
   "execution_count": 272,
   "id": "0c24400d-bfee-4b10-a0ce-342853be967f",
   "metadata": {},
   "outputs": [
    {
     "data": {
      "text/html": [
       "<div>\n",
       "<style scoped>\n",
       "    .dataframe tbody tr th:only-of-type {\n",
       "        vertical-align: middle;\n",
       "    }\n",
       "\n",
       "    .dataframe tbody tr th {\n",
       "        vertical-align: top;\n",
       "    }\n",
       "\n",
       "    .dataframe thead th {\n",
       "        text-align: right;\n",
       "    }\n",
       "</style>\n",
       "<table border=\"1\" class=\"dataframe\">\n",
       "  <thead>\n",
       "    <tr style=\"text-align: right;\">\n",
       "      <th></th>\n",
       "      <th>수학</th>\n",
       "      <th>국어</th>\n",
       "      <th>음악</th>\n",
       "    </tr>\n",
       "  </thead>\n",
       "  <tbody>\n",
       "  </tbody>\n",
       "</table>\n",
       "</div>"
      ],
      "text/plain": [
       "Empty DataFrame\n",
       "Columns: [수학, 국어, 음악]\n",
       "Index: []"
      ]
     },
     "execution_count": 272,
     "metadata": {},
     "output_type": "execute_result"
    }
   ],
   "source": [
    "df_copy.drop('영어', axis = 1, inplace = True)\n",
    "df_copy"
   ]
  },
  {
   "cell_type": "code",
   "execution_count": 274,
   "id": "ee917564-dcad-4490-85d9-f2b61d9bd164",
   "metadata": {},
   "outputs": [
    {
     "data": {
      "text/html": [
       "<div>\n",
       "<style scoped>\n",
       "    .dataframe tbody tr th:only-of-type {\n",
       "        vertical-align: middle;\n",
       "    }\n",
       "\n",
       "    .dataframe tbody tr th {\n",
       "        vertical-align: top;\n",
       "    }\n",
       "\n",
       "    .dataframe thead th {\n",
       "        text-align: right;\n",
       "    }\n",
       "</style>\n",
       "<table border=\"1\" class=\"dataframe\">\n",
       "  <thead>\n",
       "    <tr style=\"text-align: right;\">\n",
       "      <th></th>\n",
       "      <th>수학</th>\n",
       "    </tr>\n",
       "  </thead>\n",
       "  <tbody>\n",
       "  </tbody>\n",
       "</table>\n",
       "</div>"
      ],
      "text/plain": [
       "Empty DataFrame\n",
       "Columns: [수학]\n",
       "Index: []"
      ]
     },
     "execution_count": 274,
     "metadata": {},
     "output_type": "execute_result"
    }
   ],
   "source": [
    "df_copy.drop(['국어', '음악'], axis = 1, inplace = True)\n",
    "df_copy"
   ]
  },
  {
   "cell_type": "code",
   "execution_count": null,
   "id": "e8bee551-b70e-4e8d-be8d-1d9ac0106b4d",
   "metadata": {},
   "outputs": [],
   "source": [
    "## 행 선택"
   ]
  },
  {
   "cell_type": "code",
   "execution_count": 294,
   "id": "93ebaecb-6985-4eb1-8bd2-ce23a51df99a",
   "metadata": {},
   "outputs": [
    {
     "name": "stdout",
     "output_type": "stream",
     "text": [
      "<class 'pandas.core.series.Series'>\n",
      "수학    70\n",
      "영어    72\n",
      "국어    73\n",
      "음악    71\n",
      "Name: 하하, dtype: int64\n"
     ]
    }
   ],
   "source": [
    "df_copy = df_origin[:]\n",
    "slct = df_copy.loc['하하']\n",
    "print(type(slct))\n",
    "print(slct)\n",
    "\n",
    "\n"
   ]
  },
  {
   "cell_type": "code",
   "execution_count": 298,
   "id": "bd0b27a1-9c4d-40e9-9618-66b0f1e6ab3c",
   "metadata": {},
   "outputs": [
    {
     "name": "stdout",
     "output_type": "stream",
     "text": [
      "수학    80\n",
      "영어    82\n",
      "국어    83\n",
      "음악    81\n",
      "Name: 형돈, dtype: int64\n"
     ]
    }
   ],
   "source": [
    "slct = df_copy.iloc[1]\n",
    "print(slct)"
   ]
  },
  {
   "cell_type": "code",
   "execution_count": null,
   "id": "2f7ba73e-06e7-4b59-835b-bf405193199d",
   "metadata": {},
   "outputs": [],
   "source": [
    "## 여러 행 선택 "
   ]
  },
  {
   "cell_type": "code",
   "execution_count": 302,
   "id": "7e0325eb-66f4-4374-8582-d7af50bed58f",
   "metadata": {},
   "outputs": [
    {
     "name": "stdout",
     "output_type": "stream",
     "text": [
      "<class 'pandas.core.frame.DataFrame'>\n",
      "    수학  영어  국어  음악\n",
      "하하  70  72  73  71\n",
      "재석  90  92  93  91\n"
     ]
    }
   ],
   "source": [
    "slct = df_copy.loc[['하하', '재석']]\n",
    "print(type(slct))\n",
    "print(slct)\n",
    "\n",
    "\n"
   ]
  },
  {
   "cell_type": "code",
   "execution_count": 310,
   "id": "cdc128fc-aacc-4d3c-8fcd-aae39e75b50f",
   "metadata": {},
   "outputs": [
    {
     "name": "stdout",
     "output_type": "stream",
     "text": [
      "<class 'pandas.core.frame.DataFrame'>\n",
      "    수학  영어  국어  음악\n",
      "하하  70  72  73  71\n",
      "재석  90  92  93  91\n"
     ]
    }
   ],
   "source": [
    "slct = df_copy.iloc[[2,0]]\n",
    "print(type(slct))\n",
    "print(slct)\n",
    "\n",
    "\n"
   ]
  },
  {
   "cell_type": "code",
   "execution_count": null,
   "id": "0bf7011f-bf7f-4513-92e9-9a0ea755049e",
   "metadata": {},
   "outputs": [],
   "source": [
    "## 열 선택 "
   ]
  },
  {
   "cell_type": "code",
   "execution_count": null,
   "id": "336db199-0370-494c-9db4-e796ebe8213b",
   "metadata": {},
   "outputs": [],
   "source": [
    "1. DataFrame[column_name]\n",
    "2. DataFrame.column_name"
   ]
  },
  {
   "cell_type": "code",
   "execution_count": 312,
   "id": "cdb9bb10-4d97-4c48-ad32-543b4c948c0a",
   "metadata": {},
   "outputs": [
    {
     "data": {
      "text/plain": [
       "재석    90\n",
       "형돈    80\n",
       "하하    70\n",
       "Name: 수학, dtype: int64"
      ]
     },
     "execution_count": 312,
     "metadata": {},
     "output_type": "execute_result"
    }
   ],
   "source": [
    "df_copy['수학']"
   ]
  },
  {
   "cell_type": "code",
   "execution_count": 316,
   "id": "7a29a181-cb58-4828-be0a-7e05c7b192bd",
   "metadata": {},
   "outputs": [
    {
     "data": {
      "text/plain": [
       "재석    90\n",
       "형돈    80\n",
       "하하    70\n",
       "Name: 수학, dtype: int64"
      ]
     },
     "execution_count": 316,
     "metadata": {},
     "output_type": "execute_result"
    }
   ],
   "source": [
    "df_copy.수학"
   ]
  },
  {
   "cell_type": "code",
   "execution_count": null,
   "id": "06a8b256-109e-47c7-a641-85aa744761b2",
   "metadata": {},
   "outputs": [],
   "source": [
    "## 여러 열 선택"
   ]
  },
  {
   "cell_type": "code",
   "execution_count": 328,
   "id": "040ad396-b718-4143-ac6f-c0afe2eb037e",
   "metadata": {},
   "outputs": [
    {
     "name": "stdout",
     "output_type": "stream",
     "text": [
      "    수학  영어\n",
      "재석  90  92\n",
      "형돈  80  82\n",
      "하하  70  72\n"
     ]
    }
   ],
   "source": [
    "slct = df_copy[['수학','영어']]\n",
    "print(slct)\n"
   ]
  },
  {
   "cell_type": "code",
   "execution_count": null,
   "id": "6e80ff26-1f24-44e6-b750-a4bb01bb0c15",
   "metadata": {},
   "outputs": [],
   "source": [
    "## 원소 선택 "
   ]
  },
  {
   "cell_type": "code",
   "execution_count": 336,
   "id": "13e3c8eb-effa-4479-906a-dfb14581e6c7",
   "metadata": {},
   "outputs": [
    {
     "name": "stdout",
     "output_type": "stream",
     "text": [
      "90\n",
      "92\n"
     ]
    }
   ],
   "source": [
    "math = df_copy.iloc[0, 0]\n",
    "eng = df_copy.iloc[0, 1]\n",
    "print(math)\n",
    "print(eng)"
   ]
  },
  {
   "cell_type": "code",
   "execution_count": 358,
   "id": "3105870f-357d-4376-8154-54565afa2391",
   "metadata": {},
   "outputs": [
    {
     "name": "stdout",
     "output_type": "stream",
     "text": [
      "    수학  영어  국어  음악\n",
      "재석  90  92  93  91\n",
      "형돈  80  82  83  81\n",
      "하하  70  72  73  71\n"
     ]
    },
    {
     "data": {
      "text/plain": [
       "91"
      ]
     },
     "execution_count": 358,
     "metadata": {},
     "output_type": "execute_result"
    }
   ],
   "source": [
    "print(df_copy)\n",
    "df_copy.loc['재석','음악']"
   ]
  },
  {
   "cell_type": "code",
   "execution_count": 352,
   "id": "367830cc-d284-4302-8e4f-bc22515598ff",
   "metadata": {},
   "outputs": [
    {
     "name": "stdout",
     "output_type": "stream",
     "text": [
      "    수학  영어  국어  음악\n",
      "재석  90  92  93  91\n",
      "형돈  80  82  83  81\n",
      "하하  70  72  73  71\n"
     ]
    },
    {
     "data": {
      "text/plain": [
       "재석    90\n",
       "하하    70\n",
       "Name: 수학, dtype: int64"
      ]
     },
     "execution_count": 352,
     "metadata": {},
     "output_type": "execute_result"
    }
   ],
   "source": [
    "print(df_copy)\n",
    "df_copy.loc[['재석','하하'], '수학']"
   ]
  },
  {
   "cell_type": "code",
   "execution_count": 354,
   "id": "0a49a706-6c86-4d56-a114-e8637fd3d5e6",
   "metadata": {},
   "outputs": [
    {
     "name": "stdout",
     "output_type": "stream",
     "text": [
      "    수학  영어  국어  음악\n",
      "재석  90  92  93  91\n",
      "형돈  80  82  83  81\n",
      "하하  70  72  73  71\n"
     ]
    },
    {
     "data": {
      "text/html": [
       "<div>\n",
       "<style scoped>\n",
       "    .dataframe tbody tr th:only-of-type {\n",
       "        vertical-align: middle;\n",
       "    }\n",
       "\n",
       "    .dataframe tbody tr th {\n",
       "        vertical-align: top;\n",
       "    }\n",
       "\n",
       "    .dataframe thead th {\n",
       "        text-align: right;\n",
       "    }\n",
       "</style>\n",
       "<table border=\"1\" class=\"dataframe\">\n",
       "  <thead>\n",
       "    <tr style=\"text-align: right;\">\n",
       "      <th></th>\n",
       "      <th>수학</th>\n",
       "      <th>국어</th>\n",
       "    </tr>\n",
       "  </thead>\n",
       "  <tbody>\n",
       "    <tr>\n",
       "      <th>재석</th>\n",
       "      <td>90</td>\n",
       "      <td>93</td>\n",
       "    </tr>\n",
       "    <tr>\n",
       "      <th>하하</th>\n",
       "      <td>70</td>\n",
       "      <td>73</td>\n",
       "    </tr>\n",
       "  </tbody>\n",
       "</table>\n",
       "</div>"
      ],
      "text/plain": [
       "    수학  국어\n",
       "재석  90  93\n",
       "하하  70  73"
      ]
     },
     "execution_count": 354,
     "metadata": {},
     "output_type": "execute_result"
    }
   ],
   "source": [
    "print(df_copy)\n",
    "df_copy.loc[['재석','하하'], ['수학','국어']]"
   ]
  },
  {
   "cell_type": "code",
   "execution_count": 360,
   "id": "8176c398-de9d-43f9-8f17-69d67fc6f4e1",
   "metadata": {},
   "outputs": [
    {
     "data": {
      "text/html": [
       "<div>\n",
       "<style scoped>\n",
       "    .dataframe tbody tr th:only-of-type {\n",
       "        vertical-align: middle;\n",
       "    }\n",
       "\n",
       "    .dataframe tbody tr th {\n",
       "        vertical-align: top;\n",
       "    }\n",
       "\n",
       "    .dataframe thead th {\n",
       "        text-align: right;\n",
       "    }\n",
       "</style>\n",
       "<table border=\"1\" class=\"dataframe\">\n",
       "  <thead>\n",
       "    <tr style=\"text-align: right;\">\n",
       "      <th></th>\n",
       "      <th>수학</th>\n",
       "      <th>국어</th>\n",
       "    </tr>\n",
       "  </thead>\n",
       "  <tbody>\n",
       "    <tr>\n",
       "      <th>재석</th>\n",
       "      <td>90</td>\n",
       "      <td>93</td>\n",
       "    </tr>\n",
       "    <tr>\n",
       "      <th>하하</th>\n",
       "      <td>70</td>\n",
       "      <td>73</td>\n",
       "    </tr>\n",
       "  </tbody>\n",
       "</table>\n",
       "</div>"
      ],
      "text/plain": [
       "    수학  국어\n",
       "재석  90  93\n",
       "하하  70  73"
      ]
     },
     "execution_count": 360,
     "metadata": {},
     "output_type": "execute_result"
    }
   ],
   "source": [
    "\n",
    "df_copy.iloc[[0,2], [0,2]]"
   ]
  },
  {
   "cell_type": "code",
   "execution_count": 366,
   "id": "708cf71c-d046-4992-8c46-0411690b8873",
   "metadata": {},
   "outputs": [
    {
     "name": "stdout",
     "output_type": "stream",
     "text": [
      "    수학  영어  국어  음악\n",
      "재석  90  92  93  91\n",
      "형돈  80  82  83  81\n",
      "하하  70  72  73  71\n"
     ]
    },
    {
     "data": {
      "text/html": [
       "<div>\n",
       "<style scoped>\n",
       "    .dataframe tbody tr th:only-of-type {\n",
       "        vertical-align: middle;\n",
       "    }\n",
       "\n",
       "    .dataframe tbody tr th {\n",
       "        vertical-align: top;\n",
       "    }\n",
       "\n",
       "    .dataframe thead th {\n",
       "        text-align: right;\n",
       "    }\n",
       "</style>\n",
       "<table border=\"1\" class=\"dataframe\">\n",
       "  <thead>\n",
       "    <tr style=\"text-align: right;\">\n",
       "      <th></th>\n",
       "      <th>수학</th>\n",
       "      <th>영어</th>\n",
       "      <th>국어</th>\n",
       "    </tr>\n",
       "  </thead>\n",
       "  <tbody>\n",
       "    <tr>\n",
       "      <th>재석</th>\n",
       "      <td>90</td>\n",
       "      <td>92</td>\n",
       "      <td>93</td>\n",
       "    </tr>\n",
       "    <tr>\n",
       "      <th>형돈</th>\n",
       "      <td>80</td>\n",
       "      <td>82</td>\n",
       "      <td>83</td>\n",
       "    </tr>\n",
       "    <tr>\n",
       "      <th>하하</th>\n",
       "      <td>70</td>\n",
       "      <td>72</td>\n",
       "      <td>73</td>\n",
       "    </tr>\n",
       "  </tbody>\n",
       "</table>\n",
       "</div>"
      ],
      "text/plain": [
       "    수학  영어  국어\n",
       "재석  90  92  93\n",
       "형돈  80  82  83\n",
       "하하  70  72  73"
      ]
     },
     "execution_count": 366,
     "metadata": {},
     "output_type": "execute_result"
    }
   ],
   "source": [
    "print(df_copy)\n",
    "df_copy.loc['재석':'하하', '수학':'국어']"
   ]
  },
  {
   "cell_type": "code",
   "execution_count": 404,
   "id": "f282ffd4-6c60-4094-b9ca-daa6226ecd3d",
   "metadata": {},
   "outputs": [
    {
     "data": {
      "text/html": [
       "<div>\n",
       "<style scoped>\n",
       "    .dataframe tbody tr th:only-of-type {\n",
       "        vertical-align: middle;\n",
       "    }\n",
       "\n",
       "    .dataframe tbody tr th {\n",
       "        vertical-align: top;\n",
       "    }\n",
       "\n",
       "    .dataframe thead th {\n",
       "        text-align: right;\n",
       "    }\n",
       "</style>\n",
       "<table border=\"1\" class=\"dataframe\">\n",
       "  <thead>\n",
       "    <tr style=\"text-align: right;\">\n",
       "      <th></th>\n",
       "      <th>수학</th>\n",
       "      <th>영어</th>\n",
       "      <th>국어</th>\n",
       "    </tr>\n",
       "  </thead>\n",
       "  <tbody>\n",
       "    <tr>\n",
       "      <th>재석</th>\n",
       "      <td>90</td>\n",
       "      <td>92</td>\n",
       "      <td>93</td>\n",
       "    </tr>\n",
       "    <tr>\n",
       "      <th>형돈</th>\n",
       "      <td>80</td>\n",
       "      <td>82</td>\n",
       "      <td>83</td>\n",
       "    </tr>\n",
       "    <tr>\n",
       "      <th>하하</th>\n",
       "      <td>70</td>\n",
       "      <td>72</td>\n",
       "      <td>73</td>\n",
       "    </tr>\n",
       "  </tbody>\n",
       "</table>\n",
       "</div>"
      ],
      "text/plain": [
       "    수학  영어  국어\n",
       "재석  90  92  93\n",
       "형돈  80  82  83\n",
       "하하  70  72  73"
      ]
     },
     "execution_count": 404,
     "metadata": {},
     "output_type": "execute_result"
    }
   ],
   "source": [
    "df_copy.iloc[0:3, 0:3]"
   ]
  },
  {
   "cell_type": "code",
   "execution_count": null,
   "id": "5b6183f3-fae9-4db4-ad20-ff0eb23084f4",
   "metadata": {},
   "outputs": [],
   "source": [
    "## 열 추가 \n",
    "DataFrame[column_name] = data value\n"
   ]
  },
  {
   "cell_type": "code",
   "execution_count": 406,
   "id": "23b8faaf-f25f-44af-9beb-cc8651e7be56",
   "metadata": {},
   "outputs": [
    {
     "data": {
      "text/html": [
       "<div>\n",
       "<style scoped>\n",
       "    .dataframe tbody tr th:only-of-type {\n",
       "        vertical-align: middle;\n",
       "    }\n",
       "\n",
       "    .dataframe tbody tr th {\n",
       "        vertical-align: top;\n",
       "    }\n",
       "\n",
       "    .dataframe thead th {\n",
       "        text-align: right;\n",
       "    }\n",
       "</style>\n",
       "<table border=\"1\" class=\"dataframe\">\n",
       "  <thead>\n",
       "    <tr style=\"text-align: right;\">\n",
       "      <th></th>\n",
       "      <th>수학</th>\n",
       "      <th>영어</th>\n",
       "      <th>국어</th>\n",
       "      <th>음악</th>\n",
       "    </tr>\n",
       "  </thead>\n",
       "  <tbody>\n",
       "    <tr>\n",
       "      <th>재석</th>\n",
       "      <td>90</td>\n",
       "      <td>92</td>\n",
       "      <td>93</td>\n",
       "      <td>91</td>\n",
       "    </tr>\n",
       "    <tr>\n",
       "      <th>형돈</th>\n",
       "      <td>80</td>\n",
       "      <td>82</td>\n",
       "      <td>83</td>\n",
       "      <td>81</td>\n",
       "    </tr>\n",
       "    <tr>\n",
       "      <th>하하</th>\n",
       "      <td>70</td>\n",
       "      <td>72</td>\n",
       "      <td>73</td>\n",
       "      <td>71</td>\n",
       "    </tr>\n",
       "  </tbody>\n",
       "</table>\n",
       "</div>"
      ],
      "text/plain": [
       "    수학  영어  국어  음악\n",
       "재석  90  92  93  91\n",
       "형돈  80  82  83  81\n",
       "하하  70  72  73  71"
      ]
     },
     "execution_count": 406,
     "metadata": {},
     "output_type": "execute_result"
    }
   ],
   "source": [
    "df_copy\n"
   ]
  },
  {
   "cell_type": "code",
   "execution_count": 416,
   "id": "046da642-97c4-4f25-abe9-11a592b2ed37",
   "metadata": {},
   "outputs": [
    {
     "data": {
      "text/html": [
       "<div>\n",
       "<style scoped>\n",
       "    .dataframe tbody tr th:only-of-type {\n",
       "        vertical-align: middle;\n",
       "    }\n",
       "\n",
       "    .dataframe tbody tr th {\n",
       "        vertical-align: top;\n",
       "    }\n",
       "\n",
       "    .dataframe thead th {\n",
       "        text-align: right;\n",
       "    }\n",
       "</style>\n",
       "<table border=\"1\" class=\"dataframe\">\n",
       "  <thead>\n",
       "    <tr style=\"text-align: right;\">\n",
       "      <th></th>\n",
       "      <th>수학</th>\n",
       "      <th>영어</th>\n",
       "      <th>국어</th>\n",
       "      <th>음악</th>\n",
       "    </tr>\n",
       "  </thead>\n",
       "  <tbody>\n",
       "    <tr>\n",
       "      <th>재석</th>\n",
       "      <td>90</td>\n",
       "      <td>92</td>\n",
       "      <td>93</td>\n",
       "      <td>0</td>\n",
       "    </tr>\n",
       "    <tr>\n",
       "      <th>형돈</th>\n",
       "      <td>80</td>\n",
       "      <td>82</td>\n",
       "      <td>83</td>\n",
       "      <td>0</td>\n",
       "    </tr>\n",
       "    <tr>\n",
       "      <th>하하</th>\n",
       "      <td>70</td>\n",
       "      <td>72</td>\n",
       "      <td>73</td>\n",
       "      <td>0</td>\n",
       "    </tr>\n",
       "  </tbody>\n",
       "</table>\n",
       "</div>"
      ],
      "text/plain": [
       "    수학  영어  국어  음악\n",
       "재석  90  92  93   0\n",
       "형돈  80  82  83   0\n",
       "하하  70  72  73   0"
      ]
     },
     "execution_count": 416,
     "metadata": {},
     "output_type": "execute_result"
    }
   ],
   "source": [
    "#df_copy['음악'] = 0\n",
    "df_copy"
   ]
  },
  {
   "cell_type": "code",
   "execution_count": 424,
   "id": "e52d05e2-b657-46dd-bfbe-2fc6b1bc5630",
   "metadata": {},
   "outputs": [],
   "source": [
    "df_copy['컴퓨터'] = [80, 70, 60]"
   ]
  },
  {
   "cell_type": "code",
   "execution_count": 426,
   "id": "170a5e38-d5fe-4b2f-b22b-a3854492def1",
   "metadata": {},
   "outputs": [
    {
     "data": {
      "text/html": [
       "<div>\n",
       "<style scoped>\n",
       "    .dataframe tbody tr th:only-of-type {\n",
       "        vertical-align: middle;\n",
       "    }\n",
       "\n",
       "    .dataframe tbody tr th {\n",
       "        vertical-align: top;\n",
       "    }\n",
       "\n",
       "    .dataframe thead th {\n",
       "        text-align: right;\n",
       "    }\n",
       "</style>\n",
       "<table border=\"1\" class=\"dataframe\">\n",
       "  <thead>\n",
       "    <tr style=\"text-align: right;\">\n",
       "      <th></th>\n",
       "      <th>수학</th>\n",
       "      <th>영어</th>\n",
       "      <th>국어</th>\n",
       "      <th>음악</th>\n",
       "      <th>컴퓨터</th>\n",
       "    </tr>\n",
       "  </thead>\n",
       "  <tbody>\n",
       "    <tr>\n",
       "      <th>재석</th>\n",
       "      <td>90</td>\n",
       "      <td>92</td>\n",
       "      <td>93</td>\n",
       "      <td>80</td>\n",
       "      <td>80</td>\n",
       "    </tr>\n",
       "    <tr>\n",
       "      <th>형돈</th>\n",
       "      <td>80</td>\n",
       "      <td>82</td>\n",
       "      <td>83</td>\n",
       "      <td>70</td>\n",
       "      <td>70</td>\n",
       "    </tr>\n",
       "    <tr>\n",
       "      <th>하하</th>\n",
       "      <td>70</td>\n",
       "      <td>72</td>\n",
       "      <td>73</td>\n",
       "      <td>60</td>\n",
       "      <td>60</td>\n",
       "    </tr>\n",
       "  </tbody>\n",
       "</table>\n",
       "</div>"
      ],
      "text/plain": [
       "    수학  영어  국어  음악  컴퓨터\n",
       "재석  90  92  93  80   80\n",
       "형돈  80  82  83  70   70\n",
       "하하  70  72  73  60   60"
      ]
     },
     "execution_count": 426,
     "metadata": {},
     "output_type": "execute_result"
    }
   ],
   "source": [
    "df_copy"
   ]
  },
  {
   "cell_type": "code",
   "execution_count": 432,
   "id": "8b027056-6441-477e-839c-8126ce0a8307",
   "metadata": {},
   "outputs": [
    {
     "data": {
      "text/html": [
       "<div>\n",
       "<style scoped>\n",
       "    .dataframe tbody tr th:only-of-type {\n",
       "        vertical-align: middle;\n",
       "    }\n",
       "\n",
       "    .dataframe tbody tr th {\n",
       "        vertical-align: top;\n",
       "    }\n",
       "\n",
       "    .dataframe thead th {\n",
       "        text-align: right;\n",
       "    }\n",
       "</style>\n",
       "<table border=\"1\" class=\"dataframe\">\n",
       "  <thead>\n",
       "    <tr style=\"text-align: right;\">\n",
       "      <th></th>\n",
       "      <th>수학</th>\n",
       "      <th>영어</th>\n",
       "      <th>국어</th>\n",
       "      <th>음악</th>\n",
       "    </tr>\n",
       "  </thead>\n",
       "  <tbody>\n",
       "    <tr>\n",
       "      <th>재석</th>\n",
       "      <td>90</td>\n",
       "      <td>92</td>\n",
       "      <td>93</td>\n",
       "      <td>80</td>\n",
       "    </tr>\n",
       "    <tr>\n",
       "      <th>형돈</th>\n",
       "      <td>80</td>\n",
       "      <td>82</td>\n",
       "      <td>83</td>\n",
       "      <td>70</td>\n",
       "    </tr>\n",
       "    <tr>\n",
       "      <th>하하</th>\n",
       "      <td>70</td>\n",
       "      <td>72</td>\n",
       "      <td>73</td>\n",
       "      <td>60</td>\n",
       "    </tr>\n",
       "  </tbody>\n",
       "</table>\n",
       "</div>"
      ],
      "text/plain": [
       "    수학  영어  국어  음악\n",
       "재석  90  92  93  80\n",
       "형돈  80  82  83  70\n",
       "하하  70  72  73  60"
      ]
     },
     "execution_count": 432,
     "metadata": {},
     "output_type": "execute_result"
    }
   ],
   "source": [
    "df_copy.drop('컴퓨터', axis = 1)"
   ]
  },
  {
   "cell_type": "code",
   "execution_count": 450,
   "id": "3dd4be3e-4011-4e8d-ab29-79f892bd329a",
   "metadata": {},
   "outputs": [
    {
     "data": {
      "text/html": [
       "<div>\n",
       "<style scoped>\n",
       "    .dataframe tbody tr th:only-of-type {\n",
       "        vertical-align: middle;\n",
       "    }\n",
       "\n",
       "    .dataframe tbody tr th {\n",
       "        vertical-align: top;\n",
       "    }\n",
       "\n",
       "    .dataframe thead th {\n",
       "        text-align: right;\n",
       "    }\n",
       "</style>\n",
       "<table border=\"1\" class=\"dataframe\">\n",
       "  <thead>\n",
       "    <tr style=\"text-align: right;\">\n",
       "      <th></th>\n",
       "      <th>수학</th>\n",
       "      <th>영어</th>\n",
       "      <th>국어</th>\n",
       "      <th>음악</th>\n",
       "      <th>컴퓨터</th>\n",
       "    </tr>\n",
       "  </thead>\n",
       "  <tbody>\n",
       "    <tr>\n",
       "      <th>재석</th>\n",
       "      <td>90</td>\n",
       "      <td>92</td>\n",
       "      <td>93</td>\n",
       "      <td>80</td>\n",
       "      <td>80</td>\n",
       "    </tr>\n",
       "    <tr>\n",
       "      <th>형돈</th>\n",
       "      <td>80</td>\n",
       "      <td>82</td>\n",
       "      <td>83</td>\n",
       "      <td>70</td>\n",
       "      <td>70</td>\n",
       "    </tr>\n",
       "    <tr>\n",
       "      <th>하하</th>\n",
       "      <td>70</td>\n",
       "      <td>72</td>\n",
       "      <td>73</td>\n",
       "      <td>60</td>\n",
       "      <td>60</td>\n",
       "    </tr>\n",
       "    <tr>\n",
       "      <th>준하</th>\n",
       "      <td>100</td>\n",
       "      <td>99</td>\n",
       "      <td>98</td>\n",
       "      <td>94</td>\n",
       "      <td>91</td>\n",
       "    </tr>\n",
       "  </tbody>\n",
       "</table>\n",
       "</div>"
      ],
      "text/plain": [
       "     수학  영어  국어  음악  컴퓨터\n",
       "재석   90  92  93  80   80\n",
       "형돈   80  82  83  70   70\n",
       "하하   70  72  73  60   60\n",
       "준하  100  99  98  94   91"
      ]
     },
     "execution_count": 450,
     "metadata": {},
     "output_type": "execute_result"
    }
   ],
   "source": [
    "df_copy"
   ]
  },
  {
   "cell_type": "code",
   "execution_count": 452,
   "id": "ee5e1a59-f6fe-484d-a0a5-0498c7fa5eaa",
   "metadata": {},
   "outputs": [],
   "source": [
    "df_copy.loc['준하'] = 70"
   ]
  },
  {
   "cell_type": "code",
   "execution_count": 440,
   "id": "b3c9c8db-12a3-4233-aca7-196fcce03817",
   "metadata": {},
   "outputs": [
    {
     "data": {
      "text/html": [
       "<div>\n",
       "<style scoped>\n",
       "    .dataframe tbody tr th:only-of-type {\n",
       "        vertical-align: middle;\n",
       "    }\n",
       "\n",
       "    .dataframe tbody tr th {\n",
       "        vertical-align: top;\n",
       "    }\n",
       "\n",
       "    .dataframe thead th {\n",
       "        text-align: right;\n",
       "    }\n",
       "</style>\n",
       "<table border=\"1\" class=\"dataframe\">\n",
       "  <thead>\n",
       "    <tr style=\"text-align: right;\">\n",
       "      <th></th>\n",
       "      <th>수학</th>\n",
       "      <th>영어</th>\n",
       "      <th>국어</th>\n",
       "      <th>음악</th>\n",
       "      <th>컴퓨터</th>\n",
       "    </tr>\n",
       "  </thead>\n",
       "  <tbody>\n",
       "    <tr>\n",
       "      <th>재석</th>\n",
       "      <td>90</td>\n",
       "      <td>92</td>\n",
       "      <td>93</td>\n",
       "      <td>80</td>\n",
       "      <td>80</td>\n",
       "    </tr>\n",
       "    <tr>\n",
       "      <th>형돈</th>\n",
       "      <td>80</td>\n",
       "      <td>82</td>\n",
       "      <td>83</td>\n",
       "      <td>70</td>\n",
       "      <td>70</td>\n",
       "    </tr>\n",
       "    <tr>\n",
       "      <th>하하</th>\n",
       "      <td>70</td>\n",
       "      <td>72</td>\n",
       "      <td>73</td>\n",
       "      <td>60</td>\n",
       "      <td>60</td>\n",
       "    </tr>\n",
       "    <tr>\n",
       "      <th>준하</th>\n",
       "      <td>70</td>\n",
       "      <td>70</td>\n",
       "      <td>70</td>\n",
       "      <td>70</td>\n",
       "      <td>70</td>\n",
       "    </tr>\n",
       "  </tbody>\n",
       "</table>\n",
       "</div>"
      ],
      "text/plain": [
       "    수학  영어  국어  음악  컴퓨터\n",
       "재석  90  92  93  80   80\n",
       "형돈  80  82  83  70   70\n",
       "하하  70  72  73  60   60\n",
       "준하  70  70  70  70   70"
      ]
     },
     "execution_count": 440,
     "metadata": {},
     "output_type": "execute_result"
    }
   ],
   "source": [
    "df_copy"
   ]
  },
  {
   "cell_type": "code",
   "execution_count": 454,
   "id": "0007ffd7-7434-44ce-b570-47a8077e1b5b",
   "metadata": {},
   "outputs": [],
   "source": [
    "df_copy.loc['준하'] = [100,99,98,94,91]"
   ]
  },
  {
   "cell_type": "code",
   "execution_count": 448,
   "id": "822e3e21-ee80-456c-b1a4-2ab6d5ca0a23",
   "metadata": {},
   "outputs": [
    {
     "name": "stdout",
     "output_type": "stream",
     "text": [
      "     수학  영어  국어  음악  컴퓨터\n",
      "재석   90  92  93  80   80\n",
      "형돈   80  82  83  70   70\n",
      "하하   70  72  73  60   60\n",
      "준하  100  99  98  94   91\n"
     ]
    }
   ],
   "source": [
    "print(df_copy)"
   ]
  },
  {
   "cell_type": "code",
   "execution_count": 456,
   "id": "6d1bf171-b2b2-403a-981d-ab990ed2b7bd",
   "metadata": {},
   "outputs": [],
   "source": [
    "df_copy.loc['재석', '수학'] = 100"
   ]
  },
  {
   "cell_type": "code",
   "execution_count": 460,
   "id": "2ab186dd-03b9-447c-8bd3-60022c9820dc",
   "metadata": {},
   "outputs": [
    {
     "name": "stdout",
     "output_type": "stream",
     "text": [
      "     수학  영어  국어  음악  컴퓨터\n",
      "재석  100  92  93  80   80\n",
      "형돈   80  82  83  70   70\n",
      "하하   70  72  73  60   60\n",
      "준하  100  99  98  94   91\n"
     ]
    }
   ],
   "source": [
    "print(df_copy)"
   ]
  },
  {
   "cell_type": "code",
   "execution_count": 462,
   "id": "34ed62e3-ca0c-4cc1-9d93-742ff0239bcd",
   "metadata": {},
   "outputs": [],
   "source": [
    "df_copy.iloc[0, 0] = 10"
   ]
  },
  {
   "cell_type": "code",
   "execution_count": 464,
   "id": "8fe49b69-90fc-46ff-8461-fd69b4a86591",
   "metadata": {},
   "outputs": [
    {
     "name": "stdout",
     "output_type": "stream",
     "text": [
      "     수학  영어  국어  음악  컴퓨터\n",
      "재석   10  92  93  80   80\n",
      "형돈   80  82  83  70   70\n",
      "하하   70  72  73  60   60\n",
      "준하  100  99  98  94   91\n"
     ]
    }
   ],
   "source": [
    "print(df_copy)"
   ]
  },
  {
   "cell_type": "code",
   "execution_count": 472,
   "id": "85d9caad-a740-40a3-9745-bd3006173e46",
   "metadata": {},
   "outputs": [],
   "source": [
    "df_copy.loc['준하',['수학','영어','국어','음악','컴퓨터']] = 0"
   ]
  },
  {
   "cell_type": "code",
   "execution_count": 474,
   "id": "4be426b9-884c-44c5-88f2-e66edf61cfbc",
   "metadata": {},
   "outputs": [
    {
     "name": "stdout",
     "output_type": "stream",
     "text": [
      "    수학  영어  국어  음악  컴퓨터\n",
      "재석  10  92  93  80   80\n",
      "형돈  80  82  83  70   70\n",
      "하하  70  72  73  60   60\n",
      "준하   0   0   0   0    0\n"
     ]
    }
   ],
   "source": [
    "print(df_copy)"
   ]
  },
  {
   "cell_type": "code",
   "execution_count": 480,
   "id": "6a6235b0-66f2-4d65-92bf-c93ab5cd2fda",
   "metadata": {},
   "outputs": [],
   "source": [
    "df_copy.loc['준하',:] = 1"
   ]
  },
  {
   "cell_type": "code",
   "execution_count": 482,
   "id": "38a4dfc1-59c9-4a4c-83c7-c11501745411",
   "metadata": {},
   "outputs": [
    {
     "name": "stdout",
     "output_type": "stream",
     "text": [
      "    수학  영어  국어  음악  컴퓨터\n",
      "재석  10  92  93  80   80\n",
      "형돈  80  82  83  70   70\n",
      "하하  70  72  73  60   60\n",
      "준하   1   1   1   1    1\n"
     ]
    }
   ],
   "source": [
    "print(df_copy)"
   ]
  },
  {
   "cell_type": "code",
   "execution_count": null,
   "id": "a5614c48-e0a4-40d1-ac3c-f1de48543141",
   "metadata": {},
   "outputs": [],
   "source": []
  },
  {
   "cell_type": "markdown",
   "id": "e86b58ed-9c5d-48ba-9626-9507f28fdf17",
   "metadata": {},
   "source": [
    "# 정리"
   ]
  },
  {
   "cell_type": "markdown",
   "id": "22f9e399-436d-4d33-98d1-30d607a76363",
   "metadata": {},
   "source": [
    "## 데이터 초기화"
   ]
  },
  {
   "cell_type": "code",
   "execution_count": 672,
   "id": "68e3d022-a5fa-46b6-bf42-9186aa541b45",
   "metadata": {},
   "outputs": [],
   "source": [
    "import pandas as pd\n",
    "\n",
    "list_data = [65, 66, 67, 68]\n",
    "dup_data = (65, 66, 67, 68)\n",
    "dict_simple = {'a':1, 'b':2, 'c':3, 'd':4}\n",
    "dict_ascii = {\n",
    "    'A':65,\n",
    "    'B':66,\n",
    "    'C':67,\n",
    "    'D':68,\n",
    "}\n",
    "dict_user_info = {\n",
    "    'name':['박명수', '유재석', '노홍철', '조세호'],\n",
    "    'age':[55,44,33,22],\n",
    "    'gender':['M', 'F', 'F', 'M'],\n",
    "    'boolean':[True, True, True, False]\n",
    "}"
   ]
  },
  {
   "cell_type": "markdown",
   "id": "ae54294f-bceb-4747-b02d-806526a318e1",
   "metadata": {},
   "source": [
    "## 시리즈(Series)"
   ]
  },
  {
   "cell_type": "code",
   "execution_count": 770,
   "id": "95807f3b-41ad-4088-a599-5b6ad511e8e3",
   "metadata": {},
   "outputs": [
    {
     "name": "stdout",
     "output_type": "stream",
     "text": [
      "[s1 인덱스 추가 전]\n",
      "0    65\n",
      "1    66\n",
      "2    67\n",
      "3    68\n",
      "dtype: int64\n",
      "\n",
      "RangeIndex(start=0, stop=4, step=1)\n",
      "\n",
      "[65 66 67 68]\n",
      "\n",
      "int64\n",
      "\n",
      "\n",
      "인덱스 추가 전까지는 s1[n] 사용 가능\n",
      "65\n",
      "68\n"
     ]
    }
   ],
   "source": [
    "# 시리즈 생성 - 리스트 사용\n",
    "s1 = pd.Series(list_data)\n",
    "print(\"[s1 인덱스 추가 전]\")\n",
    "print(s1, end='\\n\\n')\n",
    "print(s1.index, end='\\n\\n') #  RangeIndex(start=0, stop=8, step=1)\n",
    "print(s1.values, end='\\n\\n') #  [ 65  66  67  68  97  98  99 100] : 넘파이 배열 \n",
    "print(s1.dtype, end='\\n\\n') # int64\n",
    "\n",
    "print()\n",
    "print(f\"인덱스 추가 전까지는 s1[n] 사용 가능\")\n",
    "print(s1[0])\n",
    "print(s1[3]) \n"
   ]
  },
  {
   "cell_type": "code",
   "execution_count": 774,
   "id": "35ce4521-81c8-4662-9c97-91e32960e1df",
   "metadata": {},
   "outputs": [
    {
     "name": "stdout",
     "output_type": "stream",
     "text": [
      "[s1 인덱스 추가 후]\n",
      "A    65\n",
      "B    66\n",
      "C    67\n",
      "D    68\n",
      "dtype: int64\n",
      "\n",
      "Index(['A', 'B', 'C', 'D'], dtype='object')\n",
      "\n",
      "[65 66 67 68]\n",
      "\n",
      "int64\n",
      "\n"
     ]
    }
   ],
   "source": [
    "#  시리즈 키 추가\n",
    "s1 = pd.Series(list_data, index=['A','B','C','D'])\n",
    "#  시리즈 생성 시 인덱스로 추가 가능  \n",
    "#s1.index = ['A','B','C','D']\n",
    "print(\"[s1 인덱스 추가 후]\")\n",
    "print(s1, end='\\n\\n')\n",
    "print(s1.index, end='\\n\\n')\n",
    "print(s1.values, end='\\n\\n') #  넘파이 배열 \n",
    "print(s1.dtype, end='\\n\\n')"
   ]
  },
  {
   "cell_type": "code",
   "execution_count": 776,
   "id": "ec6e8a76-b33e-4fce-8b08-4f66fdbbf489",
   "metadata": {},
   "outputs": [
    {
     "name": "stdout",
     "output_type": "stream",
     "text": [
      "----------\n",
      "65\n",
      "----------\n",
      "----------\n",
      "A    65\n",
      "B    66\n",
      "dtype: int64\n",
      "----------\n",
      "----------\n",
      "B    66\n",
      "dtype: int64\n",
      "----------\n",
      "----------\n",
      "B    66\n",
      "C    67\n",
      "D    68\n",
      "dtype: int64\n",
      "----------\n"
     ]
    }
   ],
   "source": [
    "#  시리즈 원소 접근\n",
    "#print(s1[0]) #  인덱스 추가 후 오류발생\n",
    "\n",
    "#  key 하나 사용\n",
    "print(\"-\"*10)\n",
    "print(s1['A'])\n",
    "print(\"-\"*10)\n",
    "\n",
    "#  key 여러 개 사용 \n",
    "print(\"-\"*10)\n",
    "print(s1[['A','B']])\n",
    "print(\"-\"*10)\n",
    "\n",
    "#  인덱싱으로 접근 \n",
    "print(\"-\"*10)\n",
    "print(s1[1:2])\n",
    "print(\"-\"*10)\n",
    "\n",
    "#  시리즈 조건 사용 가능\n",
    "print(\"-\"*10)\n",
    "print(s1[s1 > 65]) #  조건식에 만족하는(True) 데이터만 출력\n",
    "print(\"-\"*10)\n",
    "\n"
   ]
  },
  {
   "cell_type": "code",
   "execution_count": 700,
   "id": "6106221a-b677-431f-8aa8-0e94de416c69",
   "metadata": {},
   "outputs": [
    {
     "name": "stdout",
     "output_type": "stream",
     "text": [
      "A    65\n",
      "B    66\n",
      "C    67\n",
      "D    68\n",
      "dtype: int64\n",
      "\n",
      "Index(['A', 'B', 'C', 'D'], dtype='object')\n",
      "\n",
      "[65 66 67 68]\n",
      "\n",
      "int64\n",
      "\n"
     ]
    }
   ],
   "source": [
    "# 시리즈 생성 - 딕셔너리 사용 \n",
    "s2 = pd.Series(dict_ascii)\n",
    "print(s2, end='\\n\\n')\n",
    "print(s2.index, end='\\n\\n')\n",
    "print(s2.values, end='\\n\\n')\n",
    "print(s2.dtype, end='\\n\\n')"
   ]
  },
  {
   "cell_type": "code",
   "execution_count": 820,
   "id": "3f0c2e34-58a9-4364-b4db-10ba78abc224",
   "metadata": {
    "scrolled": true
   },
   "outputs": [
    {
     "name": "stdout",
     "output_type": "stream",
     "text": [
      "A     65\n",
      "B     66\n",
      "C     67\n",
      "D     68\n",
      "a     97\n",
      "b     98\n",
      "c     99\n",
      "d    100\n",
      "e    101\n",
      "dtype: int64\n"
     ]
    }
   ],
   "source": [
    "#  시리즈 데이터 추가 \n",
    "\n",
    "#  index 및 value 추가\n",
    "#  loc는 기존 키가 없다면 새로 추가하고 아니면 덮어씌운다(중복없이 관리 가능)\n",
    "s1.loc['a'] = 97\n",
    "s1.loc['b'] = 98\n",
    "s1.loc['c'] = 99\n",
    "s1.loc['d'] = 100\n",
    "s1.loc['e'] = 101\n",
    "\n",
    "#  index, value 추가 후 concat \n",
    "#  concat은 데이터 병합이기때문에 중복 가능 \n",
    "#s1_copy = pd.Series([99, 100], index=['c', 'd'])\n",
    "#s1 = pd.concat([s1, s1_copy])\n",
    "\n",
    "print(s1)"
   ]
  },
  {
   "cell_type": "code",
   "execution_count": 822,
   "id": "8de25fb6-f86f-4355-8293-a10fdfee8fb9",
   "metadata": {
    "scrolled": true
   },
   "outputs": [
    {
     "name": "stdout",
     "output_type": "stream",
     "text": [
      "A     65\n",
      "B     66\n",
      "C     67\n",
      "D     68\n",
      "a     97\n",
      "b     98\n",
      "c     99\n",
      "d    100\n",
      "dtype: int64\n"
     ]
    }
   ],
   "source": [
    "#  시리즈 데이터 삭제 \n",
    "#  drop은 원본을 삭제하지 않고 새로운 객체를 리턴하기 때문에 시리즈 객체에 다시 재저장 필요\n",
    "s1 = s1.drop('e')\n",
    "print(s1)"
   ]
  },
  {
   "cell_type": "markdown",
   "id": "aee7f458-e1ed-4fe8-ba02-a4bd49341eca",
   "metadata": {},
   "source": [
    "## 데이터프레임(DataFrame)"
   ]
  },
  {
   "cell_type": "code",
   "execution_count": null,
   "id": "4c56c123-01ff-4e42-9579-abbdc29b0979",
   "metadata": {},
   "outputs": [],
   "source": []
  }
 ],
 "metadata": {
  "kernelspec": {
   "display_name": "Python [conda env:base] *",
   "language": "python",
   "name": "conda-base-py"
  },
  "language_info": {
   "codemirror_mode": {
    "name": "ipython",
    "version": 3
   },
   "file_extension": ".py",
   "mimetype": "text/x-python",
   "name": "python",
   "nbconvert_exporter": "python",
   "pygments_lexer": "ipython3",
   "version": "3.12.7"
  }
 },
 "nbformat": 4,
 "nbformat_minor": 5
}
