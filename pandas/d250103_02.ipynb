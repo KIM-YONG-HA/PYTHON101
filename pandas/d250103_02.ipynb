{
 "cells": [
  {
   "cell_type": "code",
   "execution_count": null,
   "id": "8465842b-1319-4823-bbc1-78ee5f5aef15",
   "metadata": {},
   "outputs": [],
   "source": [
    "## 전치행렬\n",
    "행과 열의 위치를 바꾼다 "
   ]
  },
  {
   "cell_type": "code",
   "execution_count": 99,
   "id": "3e66c670-f580-46ed-9fd5-71c451308370",
   "metadata": {},
   "outputs": [
    {
     "name": "stdout",
     "output_type": "stream",
     "text": [
      "    재석  형돈  하하\n",
      "수학  90  80  70\n",
      "영어  92  82  72\n",
      "국어  93  83  73\n",
      "음악  91  81  71\n"
     ]
    }
   ],
   "source": [
    "import pandas as pd\n",
    "\n",
    "exam_data = {'수학':[90,80,70],'영어':[92,82,72],'국어':[93,83,73],'음악':[91,81,71]}\n",
    "df_origin = pd.DataFrame(exam_data, index = ['재석', '형돈', '하하'])\n",
    "df_copy = df_origin[:]\n",
    "df_copy = df_copy.transpose() # df_copy.T 도 가능 \n",
    "print(df_copy)"
   ]
  },
  {
   "cell_type": "code",
   "execution_count": null,
   "id": "2253c8fa-2e7d-4134-87cb-c0d8a5e3ab79",
   "metadata": {},
   "outputs": [],
   "source": [
    "## 인덱스의 활용\n",
    "\n",
    "### 특정 열을 행 인덱스로 설정 "
   ]
  },
  {
   "cell_type": "code",
   "execution_count": 101,
   "id": "3e276eae-92d4-4635-a21e-6abc267f6545",
   "metadata": {},
   "outputs": [
    {
     "name": "stdout",
     "output_type": "stream",
     "text": [
      "  index  재석  형돈  하하\n",
      "0    수학  90  80  70\n",
      "1    영어  92  82  72\n",
      "2    국어  93  83  73\n",
      "3    음악  91  81  71\n"
     ]
    }
   ],
   "source": [
    "df_copy = df_copy.reset_index()\n",
    "print(df_copy)"
   ]
  },
  {
   "cell_type": "code",
   "execution_count": 117,
   "id": "ef75efb7-e532-4e17-9db3-d4321fe3eafc",
   "metadata": {},
   "outputs": [],
   "source": [
    "df_copy = df_copy.set_index(['index'])"
   ]
  },
  {
   "cell_type": "code",
   "execution_count": 105,
   "id": "e6a54bf4-5f86-4144-8a8d-57f6de56ec4a",
   "metadata": {},
   "outputs": [
    {
     "data": {
      "text/html": [
       "<div>\n",
       "<style scoped>\n",
       "    .dataframe tbody tr th:only-of-type {\n",
       "        vertical-align: middle;\n",
       "    }\n",
       "\n",
       "    .dataframe tbody tr th {\n",
       "        vertical-align: top;\n",
       "    }\n",
       "\n",
       "    .dataframe thead th {\n",
       "        text-align: right;\n",
       "    }\n",
       "</style>\n",
       "<table border=\"1\" class=\"dataframe\">\n",
       "  <thead>\n",
       "    <tr style=\"text-align: right;\">\n",
       "      <th></th>\n",
       "      <th>재석</th>\n",
       "      <th>형돈</th>\n",
       "      <th>하하</th>\n",
       "    </tr>\n",
       "    <tr>\n",
       "      <th>index</th>\n",
       "      <th></th>\n",
       "      <th></th>\n",
       "      <th></th>\n",
       "    </tr>\n",
       "  </thead>\n",
       "  <tbody>\n",
       "    <tr>\n",
       "      <th>수학</th>\n",
       "      <td>90</td>\n",
       "      <td>80</td>\n",
       "      <td>70</td>\n",
       "    </tr>\n",
       "    <tr>\n",
       "      <th>영어</th>\n",
       "      <td>92</td>\n",
       "      <td>82</td>\n",
       "      <td>72</td>\n",
       "    </tr>\n",
       "    <tr>\n",
       "      <th>국어</th>\n",
       "      <td>93</td>\n",
       "      <td>83</td>\n",
       "      <td>73</td>\n",
       "    </tr>\n",
       "    <tr>\n",
       "      <th>음악</th>\n",
       "      <td>91</td>\n",
       "      <td>81</td>\n",
       "      <td>71</td>\n",
       "    </tr>\n",
       "  </tbody>\n",
       "</table>\n",
       "</div>"
      ],
      "text/plain": [
       "       재석  형돈  하하\n",
       "index            \n",
       "수학     90  80  70\n",
       "영어     92  82  72\n",
       "국어     93  83  73\n",
       "음악     91  81  71"
      ]
     },
     "execution_count": 105,
     "metadata": {},
     "output_type": "execute_result"
    }
   ],
   "source": [
    "df_copy"
   ]
  },
  {
   "cell_type": "code",
   "execution_count": 119,
   "id": "b41ac32d-9af3-412d-84c3-7ff5d5bb7ab1",
   "metadata": {},
   "outputs": [],
   "source": [
    "df_copy = df_copy.reset_index()"
   ]
  },
  {
   "cell_type": "code",
   "execution_count": 109,
   "id": "829913ae-bc27-4a76-ae34-eb0a32cd75c1",
   "metadata": {},
   "outputs": [
    {
     "data": {
      "text/html": [
       "<div>\n",
       "<style scoped>\n",
       "    .dataframe tbody tr th:only-of-type {\n",
       "        vertical-align: middle;\n",
       "    }\n",
       "\n",
       "    .dataframe tbody tr th {\n",
       "        vertical-align: top;\n",
       "    }\n",
       "\n",
       "    .dataframe thead th {\n",
       "        text-align: right;\n",
       "    }\n",
       "</style>\n",
       "<table border=\"1\" class=\"dataframe\">\n",
       "  <thead>\n",
       "    <tr style=\"text-align: right;\">\n",
       "      <th></th>\n",
       "      <th>index</th>\n",
       "      <th>재석</th>\n",
       "      <th>형돈</th>\n",
       "      <th>하하</th>\n",
       "    </tr>\n",
       "  </thead>\n",
       "  <tbody>\n",
       "    <tr>\n",
       "      <th>0</th>\n",
       "      <td>수학</td>\n",
       "      <td>90</td>\n",
       "      <td>80</td>\n",
       "      <td>70</td>\n",
       "    </tr>\n",
       "    <tr>\n",
       "      <th>1</th>\n",
       "      <td>영어</td>\n",
       "      <td>92</td>\n",
       "      <td>82</td>\n",
       "      <td>72</td>\n",
       "    </tr>\n",
       "    <tr>\n",
       "      <th>2</th>\n",
       "      <td>국어</td>\n",
       "      <td>93</td>\n",
       "      <td>83</td>\n",
       "      <td>73</td>\n",
       "    </tr>\n",
       "    <tr>\n",
       "      <th>3</th>\n",
       "      <td>음악</td>\n",
       "      <td>91</td>\n",
       "      <td>81</td>\n",
       "      <td>71</td>\n",
       "    </tr>\n",
       "  </tbody>\n",
       "</table>\n",
       "</div>"
      ],
      "text/plain": [
       "  index  재석  형돈  하하\n",
       "0    수학  90  80  70\n",
       "1    영어  92  82  72\n",
       "2    국어  93  83  73\n",
       "3    음악  91  81  71"
      ]
     },
     "execution_count": 109,
     "metadata": {},
     "output_type": "execute_result"
    }
   ],
   "source": [
    "df_copy"
   ]
  },
  {
   "cell_type": "code",
   "execution_count": 123,
   "id": "13070864-be4b-495c-aced-4bbde345ce05",
   "metadata": {},
   "outputs": [],
   "source": [
    "df_copy = df_copy.set_index(['재석','형돈'])"
   ]
  },
  {
   "cell_type": "code",
   "execution_count": 125,
   "id": "0d3ebcc7-4de3-42a1-8203-b22ffcebbc62",
   "metadata": {},
   "outputs": [
    {
     "data": {
      "text/html": [
       "<div>\n",
       "<style scoped>\n",
       "    .dataframe tbody tr th:only-of-type {\n",
       "        vertical-align: middle;\n",
       "    }\n",
       "\n",
       "    .dataframe tbody tr th {\n",
       "        vertical-align: top;\n",
       "    }\n",
       "\n",
       "    .dataframe thead th {\n",
       "        text-align: right;\n",
       "    }\n",
       "</style>\n",
       "<table border=\"1\" class=\"dataframe\">\n",
       "  <thead>\n",
       "    <tr style=\"text-align: right;\">\n",
       "      <th></th>\n",
       "      <th></th>\n",
       "      <th>index</th>\n",
       "      <th>level_0</th>\n",
       "      <th>하하</th>\n",
       "    </tr>\n",
       "    <tr>\n",
       "      <th>재석</th>\n",
       "      <th>형돈</th>\n",
       "      <th></th>\n",
       "      <th></th>\n",
       "      <th></th>\n",
       "    </tr>\n",
       "  </thead>\n",
       "  <tbody>\n",
       "    <tr>\n",
       "      <th>90</th>\n",
       "      <th>80</th>\n",
       "      <td>수학</td>\n",
       "      <td>0</td>\n",
       "      <td>70</td>\n",
       "    </tr>\n",
       "    <tr>\n",
       "      <th>92</th>\n",
       "      <th>82</th>\n",
       "      <td>영어</td>\n",
       "      <td>1</td>\n",
       "      <td>72</td>\n",
       "    </tr>\n",
       "    <tr>\n",
       "      <th>93</th>\n",
       "      <th>83</th>\n",
       "      <td>국어</td>\n",
       "      <td>2</td>\n",
       "      <td>73</td>\n",
       "    </tr>\n",
       "    <tr>\n",
       "      <th>91</th>\n",
       "      <th>81</th>\n",
       "      <td>음악</td>\n",
       "      <td>3</td>\n",
       "      <td>71</td>\n",
       "    </tr>\n",
       "  </tbody>\n",
       "</table>\n",
       "</div>"
      ],
      "text/plain": [
       "      index  level_0  하하\n",
       "재석 형돈                   \n",
       "90 80    수학        0  70\n",
       "92 82    영어        1  72\n",
       "93 83    국어        2  73\n",
       "91 81    음악        3  71"
      ]
     },
     "execution_count": 125,
     "metadata": {},
     "output_type": "execute_result"
    }
   ],
   "source": [
    "df_copy"
   ]
  },
  {
   "cell_type": "code",
   "execution_count": 129,
   "id": "f4d296f2-0ef9-4ae5-b7bc-bb98846c7709",
   "metadata": {},
   "outputs": [
    {
     "data": {
      "text/html": [
       "<div>\n",
       "<style scoped>\n",
       "    .dataframe tbody tr th:only-of-type {\n",
       "        vertical-align: middle;\n",
       "    }\n",
       "\n",
       "    .dataframe tbody tr th {\n",
       "        vertical-align: top;\n",
       "    }\n",
       "\n",
       "    .dataframe thead th {\n",
       "        text-align: right;\n",
       "    }\n",
       "</style>\n",
       "<table border=\"1\" class=\"dataframe\">\n",
       "  <thead>\n",
       "    <tr style=\"text-align: right;\">\n",
       "      <th></th>\n",
       "      <th>c0</th>\n",
       "      <th>c1</th>\n",
       "      <th>c2</th>\n",
       "      <th>c3</th>\n",
       "      <th>c4</th>\n",
       "    </tr>\n",
       "  </thead>\n",
       "  <tbody>\n",
       "    <tr>\n",
       "      <th>r0</th>\n",
       "      <td>1</td>\n",
       "      <td>4</td>\n",
       "      <td>7</td>\n",
       "      <td>10</td>\n",
       "      <td>13</td>\n",
       "    </tr>\n",
       "    <tr>\n",
       "      <th>r1</th>\n",
       "      <td>2</td>\n",
       "      <td>5</td>\n",
       "      <td>8</td>\n",
       "      <td>11</td>\n",
       "      <td>14</td>\n",
       "    </tr>\n",
       "    <tr>\n",
       "      <th>r2</th>\n",
       "      <td>3</td>\n",
       "      <td>6</td>\n",
       "      <td>9</td>\n",
       "      <td>12</td>\n",
       "      <td>15</td>\n",
       "    </tr>\n",
       "  </tbody>\n",
       "</table>\n",
       "</div>"
      ],
      "text/plain": [
       "    c0  c1  c2  c3  c4\n",
       "r0   1   4   7  10  13\n",
       "r1   2   5   8  11  14\n",
       "r2   3   6   9  12  15"
      ]
     },
     "execution_count": 129,
     "metadata": {},
     "output_type": "execute_result"
    }
   ],
   "source": [
    "dict_data = {\n",
    "    'c0':[1,2,3],\n",
    "    'c1':[4,5,6],\n",
    "    'c2':[7,8,9],\n",
    "    'c3':[10,11,12],\n",
    "    'c4':[13,14,15]\n",
    "}\n",
    "\n",
    "ndf = pd.DataFrame(dict_data, index = ['r0', 'r1', 'r2'])\n",
    "ndf"
   ]
  },
  {
   "cell_type": "code",
   "execution_count": 137,
   "id": "e2ef4fc1-5282-48b9-a2b0-77529fac14ef",
   "metadata": {},
   "outputs": [
    {
     "data": {
      "text/html": [
       "<div>\n",
       "<style scoped>\n",
       "    .dataframe tbody tr th:only-of-type {\n",
       "        vertical-align: middle;\n",
       "    }\n",
       "\n",
       "    .dataframe tbody tr th {\n",
       "        vertical-align: top;\n",
       "    }\n",
       "\n",
       "    .dataframe thead th {\n",
       "        text-align: right;\n",
       "    }\n",
       "</style>\n",
       "<table border=\"1\" class=\"dataframe\">\n",
       "  <thead>\n",
       "    <tr style=\"text-align: right;\">\n",
       "      <th></th>\n",
       "      <th>c0</th>\n",
       "      <th>c1</th>\n",
       "      <th>c2</th>\n",
       "      <th>c3</th>\n",
       "      <th>c4</th>\n",
       "    </tr>\n",
       "  </thead>\n",
       "  <tbody>\n",
       "    <tr>\n",
       "      <th>r0</th>\n",
       "      <td>1.0</td>\n",
       "      <td>4.0</td>\n",
       "      <td>7.0</td>\n",
       "      <td>10.0</td>\n",
       "      <td>13.0</td>\n",
       "    </tr>\n",
       "    <tr>\n",
       "      <th>r1</th>\n",
       "      <td>2.0</td>\n",
       "      <td>5.0</td>\n",
       "      <td>8.0</td>\n",
       "      <td>11.0</td>\n",
       "      <td>14.0</td>\n",
       "    </tr>\n",
       "    <tr>\n",
       "      <th>r2</th>\n",
       "      <td>3.0</td>\n",
       "      <td>6.0</td>\n",
       "      <td>9.0</td>\n",
       "      <td>12.0</td>\n",
       "      <td>15.0</td>\n",
       "    </tr>\n",
       "    <tr>\n",
       "      <th>r3</th>\n",
       "      <td>NaN</td>\n",
       "      <td>NaN</td>\n",
       "      <td>NaN</td>\n",
       "      <td>NaN</td>\n",
       "      <td>NaN</td>\n",
       "    </tr>\n",
       "    <tr>\n",
       "      <th>r4</th>\n",
       "      <td>NaN</td>\n",
       "      <td>NaN</td>\n",
       "      <td>NaN</td>\n",
       "      <td>NaN</td>\n",
       "      <td>NaN</td>\n",
       "    </tr>\n",
       "  </tbody>\n",
       "</table>\n",
       "</div>"
      ],
      "text/plain": [
       "     c0   c1   c2    c3    c4\n",
       "r0  1.0  4.0  7.0  10.0  13.0\n",
       "r1  2.0  5.0  8.0  11.0  14.0\n",
       "r2  3.0  6.0  9.0  12.0  15.0\n",
       "r3  NaN  NaN  NaN   NaN   NaN\n",
       "r4  NaN  NaN  NaN   NaN   NaN"
      ]
     },
     "execution_count": 137,
     "metadata": {},
     "output_type": "execute_result"
    }
   ],
   "source": [
    "new_index = ['r0', 'r1', 'r2', 'r3', 'r4']\n",
    "ndf = ndf.reindex(new_index)\n",
    "ndf\n"
   ]
  },
  {
   "cell_type": "code",
   "execution_count": null,
   "id": "4c589992-d325-4b1b-bcac-80057b91b834",
   "metadata": {},
   "outputs": [],
   "source": [
    "NaN(Not a Number)"
   ]
  },
  {
   "cell_type": "code",
   "execution_count": null,
   "id": "6fe54e35-b785-4db4-aa1e-9b6a43031bb7",
   "metadata": {},
   "outputs": [],
   "source": []
  },
  {
   "cell_type": "code",
   "execution_count": 157,
   "id": "bcc88f17-9978-4d84-9795-5d9b2a56ca47",
   "metadata": {},
   "outputs": [
    {
     "data": {
      "text/html": [
       "<div>\n",
       "<style scoped>\n",
       "    .dataframe tbody tr th:only-of-type {\n",
       "        vertical-align: middle;\n",
       "    }\n",
       "\n",
       "    .dataframe tbody tr th {\n",
       "        vertical-align: top;\n",
       "    }\n",
       "\n",
       "    .dataframe thead th {\n",
       "        text-align: right;\n",
       "    }\n",
       "</style>\n",
       "<table border=\"1\" class=\"dataframe\">\n",
       "  <thead>\n",
       "    <tr style=\"text-align: right;\">\n",
       "      <th></th>\n",
       "      <th>c0</th>\n",
       "      <th>c1</th>\n",
       "      <th>c2</th>\n",
       "      <th>c3</th>\n",
       "      <th>c4</th>\n",
       "    </tr>\n",
       "  </thead>\n",
       "  <tbody>\n",
       "    <tr>\n",
       "      <th>r0</th>\n",
       "      <td>1</td>\n",
       "      <td>4</td>\n",
       "      <td>7</td>\n",
       "      <td>10</td>\n",
       "      <td>13</td>\n",
       "    </tr>\n",
       "    <tr>\n",
       "      <th>r1</th>\n",
       "      <td>2</td>\n",
       "      <td>5</td>\n",
       "      <td>8</td>\n",
       "      <td>11</td>\n",
       "      <td>14</td>\n",
       "    </tr>\n",
       "    <tr>\n",
       "      <th>r2</th>\n",
       "      <td>3</td>\n",
       "      <td>6</td>\n",
       "      <td>9</td>\n",
       "      <td>12</td>\n",
       "      <td>15</td>\n",
       "    </tr>\n",
       "    <tr>\n",
       "      <th>r3</th>\n",
       "      <td>0</td>\n",
       "      <td>0</td>\n",
       "      <td>0</td>\n",
       "      <td>0</td>\n",
       "      <td>0</td>\n",
       "    </tr>\n",
       "    <tr>\n",
       "      <th>r4</th>\n",
       "      <td>0</td>\n",
       "      <td>0</td>\n",
       "      <td>0</td>\n",
       "      <td>0</td>\n",
       "      <td>0</td>\n",
       "    </tr>\n",
       "  </tbody>\n",
       "</table>\n",
       "</div>"
      ],
      "text/plain": [
       "    c0  c1  c2  c3  c4\n",
       "r0   1   4   7  10  13\n",
       "r1   2   5   8  11  14\n",
       "r2   3   6   9  12  15\n",
       "r3   0   0   0   0   0\n",
       "r4   0   0   0   0   0"
      ]
     },
     "execution_count": 157,
     "metadata": {},
     "output_type": "execute_result"
    }
   ],
   "source": [
    "\n",
    "dict_data = {\n",
    "    'c0':[1,2,3],\n",
    "    'c1':[4,5,6],\n",
    "    'c2':[7,8,9],\n",
    "    'c3':[10,11,12],\n",
    "    'c4':[13,14,15]\n",
    "}\n",
    "\n",
    "ndf = pd.DataFrame(dict_data, index = ['r0', 'r1', 'r2'])\n",
    "\n",
    "\n",
    "new_index = ['r0', 'r1', 'r2', 'r3', 'r4']\n",
    "ndf = ndf.reindex(new_index, fill_value = 0)\n",
    "ndf\n"
   ]
  },
  {
   "cell_type": "code",
   "execution_count": 161,
   "id": "d1a86218-7c5d-45d6-8a1b-623cc8eadb3a",
   "metadata": {},
   "outputs": [
    {
     "data": {
      "text/html": [
       "<div>\n",
       "<style scoped>\n",
       "    .dataframe tbody tr th:only-of-type {\n",
       "        vertical-align: middle;\n",
       "    }\n",
       "\n",
       "    .dataframe tbody tr th {\n",
       "        vertical-align: top;\n",
       "    }\n",
       "\n",
       "    .dataframe thead th {\n",
       "        text-align: right;\n",
       "    }\n",
       "</style>\n",
       "<table border=\"1\" class=\"dataframe\">\n",
       "  <thead>\n",
       "    <tr style=\"text-align: right;\">\n",
       "      <th></th>\n",
       "      <th>index</th>\n",
       "      <th>c0</th>\n",
       "      <th>c1</th>\n",
       "      <th>c2</th>\n",
       "      <th>c3</th>\n",
       "      <th>c4</th>\n",
       "    </tr>\n",
       "  </thead>\n",
       "  <tbody>\n",
       "    <tr>\n",
       "      <th>0</th>\n",
       "      <td>r0</td>\n",
       "      <td>1</td>\n",
       "      <td>4</td>\n",
       "      <td>7</td>\n",
       "      <td>10</td>\n",
       "      <td>13</td>\n",
       "    </tr>\n",
       "    <tr>\n",
       "      <th>1</th>\n",
       "      <td>r1</td>\n",
       "      <td>2</td>\n",
       "      <td>5</td>\n",
       "      <td>8</td>\n",
       "      <td>11</td>\n",
       "      <td>14</td>\n",
       "    </tr>\n",
       "    <tr>\n",
       "      <th>2</th>\n",
       "      <td>r2</td>\n",
       "      <td>3</td>\n",
       "      <td>6</td>\n",
       "      <td>9</td>\n",
       "      <td>12</td>\n",
       "      <td>15</td>\n",
       "    </tr>\n",
       "    <tr>\n",
       "      <th>3</th>\n",
       "      <td>r3</td>\n",
       "      <td>0</td>\n",
       "      <td>0</td>\n",
       "      <td>0</td>\n",
       "      <td>0</td>\n",
       "      <td>0</td>\n",
       "    </tr>\n",
       "    <tr>\n",
       "      <th>4</th>\n",
       "      <td>r4</td>\n",
       "      <td>0</td>\n",
       "      <td>0</td>\n",
       "      <td>0</td>\n",
       "      <td>0</td>\n",
       "      <td>0</td>\n",
       "    </tr>\n",
       "  </tbody>\n",
       "</table>\n",
       "</div>"
      ],
      "text/plain": [
       "  index  c0  c1  c2  c3  c4\n",
       "0    r0   1   4   7  10  13\n",
       "1    r1   2   5   8  11  14\n",
       "2    r2   3   6   9  12  15\n",
       "3    r3   0   0   0   0   0\n",
       "4    r4   0   0   0   0   0"
      ]
     },
     "execution_count": 161,
     "metadata": {},
     "output_type": "execute_result"
    }
   ],
   "source": [
    "ndf = ndf.reset_index()\n",
    "ndf"
   ]
  },
  {
   "cell_type": "code",
   "execution_count": 163,
   "id": "4f16a606-8508-4a7e-8997-3ecfef034145",
   "metadata": {},
   "outputs": [
    {
     "data": {
      "text/html": [
       "<div>\n",
       "<style scoped>\n",
       "    .dataframe tbody tr th:only-of-type {\n",
       "        vertical-align: middle;\n",
       "    }\n",
       "\n",
       "    .dataframe tbody tr th {\n",
       "        vertical-align: top;\n",
       "    }\n",
       "\n",
       "    .dataframe thead th {\n",
       "        text-align: right;\n",
       "    }\n",
       "</style>\n",
       "<table border=\"1\" class=\"dataframe\">\n",
       "  <thead>\n",
       "    <tr style=\"text-align: right;\">\n",
       "      <th></th>\n",
       "      <th>c0</th>\n",
       "      <th>c1</th>\n",
       "      <th>c2</th>\n",
       "      <th>c3</th>\n",
       "      <th>c4</th>\n",
       "    </tr>\n",
       "    <tr>\n",
       "      <th>index</th>\n",
       "      <th></th>\n",
       "      <th></th>\n",
       "      <th></th>\n",
       "      <th></th>\n",
       "      <th></th>\n",
       "    </tr>\n",
       "  </thead>\n",
       "  <tbody>\n",
       "    <tr>\n",
       "      <th>r0</th>\n",
       "      <td>1</td>\n",
       "      <td>4</td>\n",
       "      <td>7</td>\n",
       "      <td>10</td>\n",
       "      <td>13</td>\n",
       "    </tr>\n",
       "    <tr>\n",
       "      <th>r1</th>\n",
       "      <td>2</td>\n",
       "      <td>5</td>\n",
       "      <td>8</td>\n",
       "      <td>11</td>\n",
       "      <td>14</td>\n",
       "    </tr>\n",
       "    <tr>\n",
       "      <th>r2</th>\n",
       "      <td>3</td>\n",
       "      <td>6</td>\n",
       "      <td>9</td>\n",
       "      <td>12</td>\n",
       "      <td>15</td>\n",
       "    </tr>\n",
       "    <tr>\n",
       "      <th>r3</th>\n",
       "      <td>0</td>\n",
       "      <td>0</td>\n",
       "      <td>0</td>\n",
       "      <td>0</td>\n",
       "      <td>0</td>\n",
       "    </tr>\n",
       "    <tr>\n",
       "      <th>r4</th>\n",
       "      <td>0</td>\n",
       "      <td>0</td>\n",
       "      <td>0</td>\n",
       "      <td>0</td>\n",
       "      <td>0</td>\n",
       "    </tr>\n",
       "  </tbody>\n",
       "</table>\n",
       "</div>"
      ],
      "text/plain": [
       "       c0  c1  c2  c3  c4\n",
       "index                    \n",
       "r0      1   4   7  10  13\n",
       "r1      2   5   8  11  14\n",
       "r2      3   6   9  12  15\n",
       "r3      0   0   0   0   0\n",
       "r4      0   0   0   0   0"
      ]
     },
     "execution_count": 163,
     "metadata": {},
     "output_type": "execute_result"
    }
   ],
   "source": [
    "ndf = ndf.set_index(['index'])\n",
    "ndf"
   ]
  },
  {
   "cell_type": "code",
   "execution_count": 173,
   "id": "5953a5ab-8ce9-4ae3-b46e-f2f3ff620492",
   "metadata": {},
   "outputs": [
    {
     "data": {
      "text/plain": [
       "'r0'"
      ]
     },
     "execution_count": 173,
     "metadata": {},
     "output_type": "execute_result"
    }
   ],
   "source": [
    "ndf.index[0]"
   ]
  },
  {
   "cell_type": "markdown",
   "id": "1f4ddf14-1beb-4351-bbf3-bbf3ef0bf7ef",
   "metadata": {},
   "source": [
    "## 행 인덱스 기준으로 정렬"
   ]
  },
  {
   "cell_type": "code",
   "execution_count": 182,
   "id": "2b9ba76f-dcf8-434c-982e-d6911c1c80a4",
   "metadata": {},
   "outputs": [
    {
     "data": {
      "text/html": [
       "<div>\n",
       "<style scoped>\n",
       "    .dataframe tbody tr th:only-of-type {\n",
       "        vertical-align: middle;\n",
       "    }\n",
       "\n",
       "    .dataframe tbody tr th {\n",
       "        vertical-align: top;\n",
       "    }\n",
       "\n",
       "    .dataframe thead th {\n",
       "        text-align: right;\n",
       "    }\n",
       "</style>\n",
       "<table border=\"1\" class=\"dataframe\">\n",
       "  <thead>\n",
       "    <tr style=\"text-align: right;\">\n",
       "      <th></th>\n",
       "      <th>c0</th>\n",
       "      <th>c1</th>\n",
       "      <th>c2</th>\n",
       "      <th>c3</th>\n",
       "      <th>c4</th>\n",
       "    </tr>\n",
       "    <tr>\n",
       "      <th>index</th>\n",
       "      <th></th>\n",
       "      <th></th>\n",
       "      <th></th>\n",
       "      <th></th>\n",
       "      <th></th>\n",
       "    </tr>\n",
       "  </thead>\n",
       "  <tbody>\n",
       "    <tr>\n",
       "      <th>r4</th>\n",
       "      <td>0</td>\n",
       "      <td>0</td>\n",
       "      <td>0</td>\n",
       "      <td>0</td>\n",
       "      <td>0</td>\n",
       "    </tr>\n",
       "    <tr>\n",
       "      <th>r3</th>\n",
       "      <td>0</td>\n",
       "      <td>0</td>\n",
       "      <td>0</td>\n",
       "      <td>0</td>\n",
       "      <td>0</td>\n",
       "    </tr>\n",
       "    <tr>\n",
       "      <th>r2</th>\n",
       "      <td>3</td>\n",
       "      <td>6</td>\n",
       "      <td>9</td>\n",
       "      <td>12</td>\n",
       "      <td>15</td>\n",
       "    </tr>\n",
       "    <tr>\n",
       "      <th>r1</th>\n",
       "      <td>2</td>\n",
       "      <td>5</td>\n",
       "      <td>8</td>\n",
       "      <td>11</td>\n",
       "      <td>14</td>\n",
       "    </tr>\n",
       "    <tr>\n",
       "      <th>r0</th>\n",
       "      <td>1</td>\n",
       "      <td>4</td>\n",
       "      <td>7</td>\n",
       "      <td>10</td>\n",
       "      <td>13</td>\n",
       "    </tr>\n",
       "  </tbody>\n",
       "</table>\n",
       "</div>"
      ],
      "text/plain": [
       "       c0  c1  c2  c3  c4\n",
       "index                    \n",
       "r4      0   0   0   0   0\n",
       "r3      0   0   0   0   0\n",
       "r2      3   6   9  12  15\n",
       "r1      2   5   8  11  14\n",
       "r0      1   4   7  10  13"
      ]
     },
     "execution_count": 182,
     "metadata": {},
     "output_type": "execute_result"
    }
   ],
   "source": [
    "ndf = ndf.sort_index(ascending=False)\n",
    "ndf\n"
   ]
  },
  {
   "cell_type": "code",
   "execution_count": 184,
   "id": "c4c2b04c-496a-46f6-9420-351a19504e14",
   "metadata": {},
   "outputs": [],
   "source": [
    "ndf = ndf.sort_index()"
   ]
  },
  {
   "cell_type": "code",
   "execution_count": 186,
   "id": "00853c96-000e-468b-a263-5379340205cc",
   "metadata": {},
   "outputs": [
    {
     "data": {
      "text/html": [
       "<div>\n",
       "<style scoped>\n",
       "    .dataframe tbody tr th:only-of-type {\n",
       "        vertical-align: middle;\n",
       "    }\n",
       "\n",
       "    .dataframe tbody tr th {\n",
       "        vertical-align: top;\n",
       "    }\n",
       "\n",
       "    .dataframe thead th {\n",
       "        text-align: right;\n",
       "    }\n",
       "</style>\n",
       "<table border=\"1\" class=\"dataframe\">\n",
       "  <thead>\n",
       "    <tr style=\"text-align: right;\">\n",
       "      <th></th>\n",
       "      <th>c0</th>\n",
       "      <th>c1</th>\n",
       "      <th>c2</th>\n",
       "      <th>c3</th>\n",
       "      <th>c4</th>\n",
       "    </tr>\n",
       "    <tr>\n",
       "      <th>index</th>\n",
       "      <th></th>\n",
       "      <th></th>\n",
       "      <th></th>\n",
       "      <th></th>\n",
       "      <th></th>\n",
       "    </tr>\n",
       "  </thead>\n",
       "  <tbody>\n",
       "    <tr>\n",
       "      <th>r0</th>\n",
       "      <td>1</td>\n",
       "      <td>4</td>\n",
       "      <td>7</td>\n",
       "      <td>10</td>\n",
       "      <td>13</td>\n",
       "    </tr>\n",
       "    <tr>\n",
       "      <th>r1</th>\n",
       "      <td>2</td>\n",
       "      <td>5</td>\n",
       "      <td>8</td>\n",
       "      <td>11</td>\n",
       "      <td>14</td>\n",
       "    </tr>\n",
       "    <tr>\n",
       "      <th>r2</th>\n",
       "      <td>3</td>\n",
       "      <td>6</td>\n",
       "      <td>9</td>\n",
       "      <td>12</td>\n",
       "      <td>15</td>\n",
       "    </tr>\n",
       "    <tr>\n",
       "      <th>r3</th>\n",
       "      <td>0</td>\n",
       "      <td>0</td>\n",
       "      <td>0</td>\n",
       "      <td>0</td>\n",
       "      <td>0</td>\n",
       "    </tr>\n",
       "    <tr>\n",
       "      <th>r4</th>\n",
       "      <td>0</td>\n",
       "      <td>0</td>\n",
       "      <td>0</td>\n",
       "      <td>0</td>\n",
       "      <td>0</td>\n",
       "    </tr>\n",
       "  </tbody>\n",
       "</table>\n",
       "</div>"
      ],
      "text/plain": [
       "       c0  c1  c2  c3  c4\n",
       "index                    \n",
       "r0      1   4   7  10  13\n",
       "r1      2   5   8  11  14\n",
       "r2      3   6   9  12  15\n",
       "r3      0   0   0   0   0\n",
       "r4      0   0   0   0   0"
      ]
     },
     "execution_count": 186,
     "metadata": {},
     "output_type": "execute_result"
    }
   ],
   "source": [
    "ndf"
   ]
  },
  {
   "cell_type": "code",
   "execution_count": null,
   "id": "7598740d-e2fe-4fa3-ac89-83957560d4d5",
   "metadata": {},
   "outputs": [],
   "source": [
    "## 컬럼 기준으로 정렬"
   ]
  },
  {
   "cell_type": "code",
   "execution_count": 198,
   "id": "d41db16d-4396-420e-8717-33b394b43928",
   "metadata": {},
   "outputs": [
    {
     "data": {
      "text/html": [
       "<div>\n",
       "<style scoped>\n",
       "    .dataframe tbody tr th:only-of-type {\n",
       "        vertical-align: middle;\n",
       "    }\n",
       "\n",
       "    .dataframe tbody tr th {\n",
       "        vertical-align: top;\n",
       "    }\n",
       "\n",
       "    .dataframe thead th {\n",
       "        text-align: right;\n",
       "    }\n",
       "</style>\n",
       "<table border=\"1\" class=\"dataframe\">\n",
       "  <thead>\n",
       "    <tr style=\"text-align: right;\">\n",
       "      <th></th>\n",
       "      <th>c0</th>\n",
       "      <th>c1</th>\n",
       "      <th>c2</th>\n",
       "      <th>c3</th>\n",
       "      <th>c4</th>\n",
       "    </tr>\n",
       "    <tr>\n",
       "      <th>index</th>\n",
       "      <th></th>\n",
       "      <th></th>\n",
       "      <th></th>\n",
       "      <th></th>\n",
       "      <th></th>\n",
       "    </tr>\n",
       "  </thead>\n",
       "  <tbody>\n",
       "    <tr>\n",
       "      <th>r2</th>\n",
       "      <td>3</td>\n",
       "      <td>6</td>\n",
       "      <td>9</td>\n",
       "      <td>12</td>\n",
       "      <td>15</td>\n",
       "    </tr>\n",
       "    <tr>\n",
       "      <th>r1</th>\n",
       "      <td>2</td>\n",
       "      <td>5</td>\n",
       "      <td>8</td>\n",
       "      <td>11</td>\n",
       "      <td>14</td>\n",
       "    </tr>\n",
       "    <tr>\n",
       "      <th>r0</th>\n",
       "      <td>1</td>\n",
       "      <td>4</td>\n",
       "      <td>7</td>\n",
       "      <td>10</td>\n",
       "      <td>13</td>\n",
       "    </tr>\n",
       "    <tr>\n",
       "      <th>r3</th>\n",
       "      <td>0</td>\n",
       "      <td>0</td>\n",
       "      <td>0</td>\n",
       "      <td>0</td>\n",
       "      <td>0</td>\n",
       "    </tr>\n",
       "    <tr>\n",
       "      <th>r4</th>\n",
       "      <td>0</td>\n",
       "      <td>0</td>\n",
       "      <td>0</td>\n",
       "      <td>0</td>\n",
       "      <td>0</td>\n",
       "    </tr>\n",
       "  </tbody>\n",
       "</table>\n",
       "</div>"
      ],
      "text/plain": [
       "       c0  c1  c2  c3  c4\n",
       "index                    \n",
       "r2      3   6   9  12  15\n",
       "r1      2   5   8  11  14\n",
       "r0      1   4   7  10  13\n",
       "r3      0   0   0   0   0\n",
       "r4      0   0   0   0   0"
      ]
     },
     "execution_count": 198,
     "metadata": {},
     "output_type": "execute_result"
    }
   ],
   "source": [
    "ndf = ndf.sort_values(by = 'c3', ascending = False) # 오름차순 False = 내림차순 DESC\n",
    "ndf"
   ]
  },
  {
   "cell_type": "code",
   "execution_count": null,
   "id": "a115f3b1-a441-4f68-8f57-2eab1acf7cb7",
   "metadata": {},
   "outputs": [],
   "source": [
    "## Series, DataFrame의 산술연산"
   ]
  },
  {
   "cell_type": "code",
   "execution_count": null,
   "id": "71a2f001-35e5-4bd3-9028-228b586982ed",
   "metadata": {},
   "outputs": [],
   "source": [
    "### Series + 숫자"
   ]
  },
  {
   "cell_type": "code",
   "execution_count": 228,
   "id": "63ce37e1-dece-4f06-af05-f74fe0e9d4bb",
   "metadata": {},
   "outputs": [
    {
     "name": "stdout",
     "output_type": "stream",
     "text": [
      "국어    97\n",
      "영어    92\n",
      "수학    95\n",
      "dtype: int64\n"
     ]
    }
   ],
   "source": [
    "stu1_score = {\n",
    "    '국어':100,\n",
    "    '영어':95,\n",
    "    '수학':98\n",
    "}\n",
    "\n",
    "stu2_score = {\n",
    "    '수학':14,\n",
    "    '국어':50,\n",
    "    '영어':63,\n",
    "    \n",
    "}\n",
    "stu = pd.Series(stu1_score)\n",
    "\n",
    "\n",
    "\n",
    "stu = stu + -3\n",
    "print(stu)\n"
   ]
  },
  {
   "cell_type": "code",
   "execution_count": null,
   "id": "6f5559e4-f67e-4bba-abd0-5abd61541348",
   "metadata": {},
   "outputs": [],
   "source": [
    "### Series + Series"
   ]
  },
  {
   "cell_type": "code",
   "execution_count": 266,
   "id": "f30d3732-8a11-4126-8386-46459d9b6adb",
   "metadata": {},
   "outputs": [],
   "source": [
    "stu1_score = {\n",
    "    '국어':100,\n",
    "    '영어':95,\n",
    "    '수학':98,\n",
    "}\n",
    "\n",
    "stu2_score = {\n",
    "    '수학':14,\n",
    "    '국어':50,\n",
    "    '영어':63,\n",
    "}\n",
    "stu1 = pd.Series(stu1_score)\n",
    "stu2 = pd.Series(stu2_score)"
   ]
  },
  {
   "cell_type": "code",
   "execution_count": 268,
   "id": "99fd4bc4-c99b-4aab-89a6-9eb5ce061962",
   "metadata": {},
   "outputs": [
    {
     "name": "stdout",
     "output_type": "stream",
     "text": [
      "국어    100\n",
      "영어     95\n",
      "수학     98\n",
      "dtype: int64\n",
      "수학    14\n",
      "국어    50\n",
      "영어    63\n",
      "dtype: int64\n",
      "\n",
      "국어    150\n",
      "수학    112\n",
      "영어    158\n",
      "dtype: int64\n"
     ]
    }
   ],
   "source": [
    "print(stu1)\n",
    "print(stu2)\n",
    "print()\n",
    "print(stu1 + stu2)\n",
    "\n",
    "\n",
    "add = stu1 + stu2\n",
    "sub = stu1 - stu2\n",
    "mul = stu1 * stu2\n",
    "div = stu1 / stu2\n",
    "\n",
    "\n"
   ]
  },
  {
   "cell_type": "code",
   "execution_count": 270,
   "id": "ba9a591c-353d-44b7-8eff-725ade95aad2",
   "metadata": {},
   "outputs": [
    {
     "data": {
      "text/html": [
       "<div>\n",
       "<style scoped>\n",
       "    .dataframe tbody tr th:only-of-type {\n",
       "        vertical-align: middle;\n",
       "    }\n",
       "\n",
       "    .dataframe tbody tr th {\n",
       "        vertical-align: top;\n",
       "    }\n",
       "\n",
       "    .dataframe thead th {\n",
       "        text-align: right;\n",
       "    }\n",
       "</style>\n",
       "<table border=\"1\" class=\"dataframe\">\n",
       "  <thead>\n",
       "    <tr style=\"text-align: right;\">\n",
       "      <th></th>\n",
       "      <th>국어</th>\n",
       "      <th>수학</th>\n",
       "      <th>영어</th>\n",
       "    </tr>\n",
       "  </thead>\n",
       "  <tbody>\n",
       "    <tr>\n",
       "      <th>add</th>\n",
       "      <td>150.0</td>\n",
       "      <td>112.0</td>\n",
       "      <td>158.000000</td>\n",
       "    </tr>\n",
       "    <tr>\n",
       "      <th>sub</th>\n",
       "      <td>50.0</td>\n",
       "      <td>84.0</td>\n",
       "      <td>32.000000</td>\n",
       "    </tr>\n",
       "    <tr>\n",
       "      <th>mul</th>\n",
       "      <td>5000.0</td>\n",
       "      <td>1372.0</td>\n",
       "      <td>5985.000000</td>\n",
       "    </tr>\n",
       "    <tr>\n",
       "      <th>div</th>\n",
       "      <td>2.0</td>\n",
       "      <td>7.0</td>\n",
       "      <td>1.507937</td>\n",
       "    </tr>\n",
       "  </tbody>\n",
       "</table>\n",
       "</div>"
      ],
      "text/plain": [
       "         국어      수학           영어\n",
       "add   150.0   112.0   158.000000\n",
       "sub    50.0    84.0    32.000000\n",
       "mul  5000.0  1372.0  5985.000000\n",
       "div     2.0     7.0     1.507937"
      ]
     },
     "execution_count": 270,
     "metadata": {},
     "output_type": "execute_result"
    }
   ],
   "source": [
    "result = pd.DataFrame([add, sub, mul, div], index = ['add', 'sub', 'mul', 'div'])\n",
    "result\n",
    "\n",
    "#  시리즈의 연산을 데이터프레임으로 만들면 기존의 키가 열이 된다 "
   ]
  },
  {
   "cell_type": "code",
   "execution_count": 344,
   "id": "b6b5785b-8bba-4718-a1a4-9a839fddd2a3",
   "metadata": {},
   "outputs": [
    {
     "name": "stdout",
     "output_type": "stream",
     "text": [
      "국어      NaN\n",
      "수학      NaN\n",
      "영어    180.0\n",
      "dtype: float64\n"
     ]
    }
   ],
   "source": [
    "\n",
    "\n",
    "import numpy as np\n",
    "#st1 = pd.Series({'국어':nan, '영어':90, '수학':44})\n",
    "st1 = pd.Series({'국어':np.nan, '영어':90, '수학':44})\n",
    "st2 = pd.Series({'국어':33, '영어':90,})\n",
    "\n",
    "add = st1 + st2\n",
    "print(add)\n",
    "\n",
    "# sub = stu1 - stu2\n",
    "# mul = stu1 * stu2\n",
    "# div = stu1 / stu2\n",
    "\n",
    "# result = pd.DataFrame([add, sub, mul, div], index = ['add', 'sub', 'mul', 'div'])"
   ]
  },
  {
   "cell_type": "code",
   "execution_count": null,
   "id": "308d3d47-4a19-4f2c-a934-012015e752fd",
   "metadata": {},
   "outputs": [],
   "source": [
    "## 연산 메소드 "
   ]
  },
  {
   "cell_type": "code",
   "execution_count": 346,
   "id": "4bad6789-a3d2-4c1b-972c-7509ec2efab3",
   "metadata": {},
   "outputs": [
    {
     "name": "stdout",
     "output_type": "stream",
     "text": [
      "국어     NaN\n",
      "영어    90.0\n",
      "수학    44.0\n",
      "dtype: float64\n",
      "국어    33\n",
      "영어    90\n",
      "dtype: int64\n"
     ]
    }
   ],
   "source": [
    "print(st1)\n",
    "print(st2)"
   ]
  },
  {
   "cell_type": "code",
   "execution_count": 360,
   "id": "81e48a67-1f21-448c-9648-9020cb45a673",
   "metadata": {},
   "outputs": [
    {
     "name": "stdout",
     "output_type": "stream",
     "text": [
      "국어     33.0\n",
      "수학     44.0\n",
      "영어    180.0\n",
      "dtype: float64\n"
     ]
    },
    {
     "data": {
      "text/html": [
       "<div>\n",
       "<style scoped>\n",
       "    .dataframe tbody tr th:only-of-type {\n",
       "        vertical-align: middle;\n",
       "    }\n",
       "\n",
       "    .dataframe tbody tr th {\n",
       "        vertical-align: top;\n",
       "    }\n",
       "\n",
       "    .dataframe thead th {\n",
       "        text-align: right;\n",
       "    }\n",
       "</style>\n",
       "<table border=\"1\" class=\"dataframe\">\n",
       "  <thead>\n",
       "    <tr style=\"text-align: right;\">\n",
       "      <th></th>\n",
       "      <th>국어</th>\n",
       "      <th>수학</th>\n",
       "      <th>영어</th>\n",
       "    </tr>\n",
       "  </thead>\n",
       "  <tbody>\n",
       "    <tr>\n",
       "      <th>add</th>\n",
       "      <td>33.0</td>\n",
       "      <td>44.0</td>\n",
       "      <td>180.0</td>\n",
       "    </tr>\n",
       "    <tr>\n",
       "      <th>sub</th>\n",
       "      <td>-33.0</td>\n",
       "      <td>44.0</td>\n",
       "      <td>0.0</td>\n",
       "    </tr>\n",
       "    <tr>\n",
       "      <th>mul</th>\n",
       "      <td>0.0</td>\n",
       "      <td>0.0</td>\n",
       "      <td>8100.0</td>\n",
       "    </tr>\n",
       "    <tr>\n",
       "      <th>div</th>\n",
       "      <td>0.0</td>\n",
       "      <td>inf</td>\n",
       "      <td>1.0</td>\n",
       "    </tr>\n",
       "  </tbody>\n",
       "</table>\n",
       "</div>"
      ],
      "text/plain": [
       "       국어    수학      영어\n",
       "add  33.0  44.0   180.0\n",
       "sub -33.0  44.0     0.0\n",
       "mul   0.0   0.0  8100.0\n",
       "div   0.0   inf     1.0"
      ]
     },
     "execution_count": 360,
     "metadata": {},
     "output_type": "execute_result"
    }
   ],
   "source": [
    "st_add = st1.add(st2, fill_value=0)\n",
    "st_sub = st1.sub(st2, fill_value=0)\n",
    "st_mul = st1.mul(st2, fill_value=0)\n",
    "st_div = st1.div(st2, fill_value=0)\n",
    "\n",
    "print(st_add)\n",
    "\n",
    "result = pd.DataFrame([st_add, st_sub, st_mul, st_div], index=['add', 'sub', 'mul', 'div'])\n",
    "result\n",
    "\n",
    "\n",
    "\n"
   ]
  },
  {
   "cell_type": "code",
   "execution_count": null,
   "id": "71ba2bef-d44e-4049-b92a-17543b42e273",
   "metadata": {},
   "outputs": [],
   "source": []
  },
  {
   "cell_type": "code",
   "execution_count": null,
   "id": "ad853814-6050-4833-811e-162a6a5b8fc1",
   "metadata": {},
   "outputs": [],
   "source": [
    "## 데이터프레임 산술연산 "
   ]
  },
  {
   "cell_type": "code",
   "execution_count": null,
   "id": "0a86f07b-d34a-4b6e-b676-a1d2704df20a",
   "metadata": {},
   "outputs": [],
   "source": [
    "### 데이터프레임 + 숫자"
   ]
  },
  {
   "cell_type": "code",
   "execution_count": 372,
   "id": "9ab997ce-ccf1-4b7f-9ada-8c67912a5c04",
   "metadata": {},
   "outputs": [
    {
     "data": {
      "text/html": [
       "<div>\n",
       "<style scoped>\n",
       "    .dataframe tbody tr th:only-of-type {\n",
       "        vertical-align: middle;\n",
       "    }\n",
       "\n",
       "    .dataframe tbody tr th {\n",
       "        vertical-align: top;\n",
       "    }\n",
       "\n",
       "    .dataframe thead th {\n",
       "        text-align: right;\n",
       "    }\n",
       "</style>\n",
       "<table border=\"1\" class=\"dataframe\">\n",
       "  <thead>\n",
       "    <tr style=\"text-align: right;\">\n",
       "      <th></th>\n",
       "      <th>survived</th>\n",
       "      <th>pclass</th>\n",
       "      <th>sex</th>\n",
       "      <th>age</th>\n",
       "      <th>sibsp</th>\n",
       "      <th>parch</th>\n",
       "      <th>fare</th>\n",
       "      <th>embarked</th>\n",
       "      <th>class</th>\n",
       "      <th>who</th>\n",
       "      <th>adult_male</th>\n",
       "      <th>deck</th>\n",
       "      <th>embark_town</th>\n",
       "      <th>alive</th>\n",
       "      <th>alone</th>\n",
       "    </tr>\n",
       "  </thead>\n",
       "  <tbody>\n",
       "    <tr>\n",
       "      <th>886</th>\n",
       "      <td>0</td>\n",
       "      <td>2</td>\n",
       "      <td>male</td>\n",
       "      <td>27.0</td>\n",
       "      <td>0</td>\n",
       "      <td>0</td>\n",
       "      <td>13.00</td>\n",
       "      <td>S</td>\n",
       "      <td>Second</td>\n",
       "      <td>man</td>\n",
       "      <td>True</td>\n",
       "      <td>NaN</td>\n",
       "      <td>Southampton</td>\n",
       "      <td>no</td>\n",
       "      <td>True</td>\n",
       "    </tr>\n",
       "    <tr>\n",
       "      <th>887</th>\n",
       "      <td>1</td>\n",
       "      <td>1</td>\n",
       "      <td>female</td>\n",
       "      <td>19.0</td>\n",
       "      <td>0</td>\n",
       "      <td>0</td>\n",
       "      <td>30.00</td>\n",
       "      <td>S</td>\n",
       "      <td>First</td>\n",
       "      <td>woman</td>\n",
       "      <td>False</td>\n",
       "      <td>B</td>\n",
       "      <td>Southampton</td>\n",
       "      <td>yes</td>\n",
       "      <td>True</td>\n",
       "    </tr>\n",
       "    <tr>\n",
       "      <th>888</th>\n",
       "      <td>0</td>\n",
       "      <td>3</td>\n",
       "      <td>female</td>\n",
       "      <td>NaN</td>\n",
       "      <td>1</td>\n",
       "      <td>2</td>\n",
       "      <td>23.45</td>\n",
       "      <td>S</td>\n",
       "      <td>Third</td>\n",
       "      <td>woman</td>\n",
       "      <td>False</td>\n",
       "      <td>NaN</td>\n",
       "      <td>Southampton</td>\n",
       "      <td>no</td>\n",
       "      <td>False</td>\n",
       "    </tr>\n",
       "    <tr>\n",
       "      <th>889</th>\n",
       "      <td>1</td>\n",
       "      <td>1</td>\n",
       "      <td>male</td>\n",
       "      <td>26.0</td>\n",
       "      <td>0</td>\n",
       "      <td>0</td>\n",
       "      <td>30.00</td>\n",
       "      <td>C</td>\n",
       "      <td>First</td>\n",
       "      <td>man</td>\n",
       "      <td>True</td>\n",
       "      <td>C</td>\n",
       "      <td>Cherbourg</td>\n",
       "      <td>yes</td>\n",
       "      <td>True</td>\n",
       "    </tr>\n",
       "    <tr>\n",
       "      <th>890</th>\n",
       "      <td>0</td>\n",
       "      <td>3</td>\n",
       "      <td>male</td>\n",
       "      <td>32.0</td>\n",
       "      <td>0</td>\n",
       "      <td>0</td>\n",
       "      <td>7.75</td>\n",
       "      <td>Q</td>\n",
       "      <td>Third</td>\n",
       "      <td>man</td>\n",
       "      <td>True</td>\n",
       "      <td>NaN</td>\n",
       "      <td>Queenstown</td>\n",
       "      <td>no</td>\n",
       "      <td>True</td>\n",
       "    </tr>\n",
       "  </tbody>\n",
       "</table>\n",
       "</div>"
      ],
      "text/plain": [
       "     survived  pclass     sex   age  sibsp  parch   fare embarked   class  \\\n",
       "886         0       2    male  27.0      0      0  13.00        S  Second   \n",
       "887         1       1  female  19.0      0      0  30.00        S   First   \n",
       "888         0       3  female   NaN      1      2  23.45        S   Third   \n",
       "889         1       1    male  26.0      0      0  30.00        C   First   \n",
       "890         0       3    male  32.0      0      0   7.75        Q   Third   \n",
       "\n",
       "       who  adult_male deck  embark_town alive  alone  \n",
       "886    man        True  NaN  Southampton    no   True  \n",
       "887  woman       False    B  Southampton   yes   True  \n",
       "888  woman       False  NaN  Southampton    no  False  \n",
       "889    man        True    C    Cherbourg   yes   True  \n",
       "890    man        True  NaN   Queenstown    no   True  "
      ]
     },
     "execution_count": 372,
     "metadata": {},
     "output_type": "execute_result"
    }
   ],
   "source": [
    "import seaborn as sns #  데이터 셋들이 많음.\n",
    "\n",
    "titanic = sns.load_dataset('titanic')\n",
    "\n",
    "titanic.head() #  앞 5줄 출력\n",
    "\n",
    "titanic.tail() #  뒤 5줄 출력 "
   ]
  },
  {
   "cell_type": "code",
   "execution_count": 374,
   "id": "02887f04-6fb3-433e-b4b3-c78447fefad2",
   "metadata": {},
   "outputs": [
    {
     "data": {
      "text/plain": [
       "pandas.core.frame.DataFrame"
      ]
     },
     "execution_count": 374,
     "metadata": {},
     "output_type": "execute_result"
    }
   ],
   "source": [
    "type(titanic)"
   ]
  },
  {
   "cell_type": "code",
   "execution_count": null,
   "id": "09833ddd-0990-40c3-b69e-455a68d203f1",
   "metadata": {},
   "outputs": [],
   "source": [
    "### age, fare 열의 데이터만 추출 "
   ]
  },
  {
   "cell_type": "code",
   "execution_count": 396,
   "id": "d5179235-8020-4ac1-b1a0-c709caf8b609",
   "metadata": {},
   "outputs": [
    {
     "name": "stdout",
     "output_type": "stream",
     "text": [
      "    age     fare\n",
      "0  22.0   7.2500\n",
      "1  38.0  71.2833\n",
      "2  26.0   7.9250\n",
      "3  35.0  53.1000\n",
      "4  35.0   8.0500\n",
      "\n",
      "    age     fare\n",
      "0  32.0  17.2500\n",
      "1  48.0  81.2833\n",
      "2  36.0  17.9250\n",
      "3  45.0  63.1000\n",
      "4  45.0  18.0500\n"
     ]
    }
   ],
   "source": [
    "tdf = titanic.loc[:,['age','fare']]\n",
    "\n",
    "print(tdf.head())\n",
    "print()\n",
    "\n",
    "add = tdf.head() + 10\n",
    "print(add)\n"
   ]
  },
  {
   "cell_type": "code",
   "execution_count": null,
   "id": "d880688c-8dca-4161-8af6-40060afd840d",
   "metadata": {},
   "outputs": [],
   "source": [
    "### 데이터프레임 + 데이터프레임 "
   ]
  },
  {
   "cell_type": "code",
   "execution_count": 412,
   "id": "bff95744-6294-45ce-a2b8-de13a31f5e07",
   "metadata": {},
   "outputs": [
    {
     "data": {
      "text/html": [
       "<div>\n",
       "<style scoped>\n",
       "    .dataframe tbody tr th:only-of-type {\n",
       "        vertical-align: middle;\n",
       "    }\n",
       "\n",
       "    .dataframe tbody tr th {\n",
       "        vertical-align: top;\n",
       "    }\n",
       "\n",
       "    .dataframe thead th {\n",
       "        text-align: right;\n",
       "    }\n",
       "</style>\n",
       "<table border=\"1\" class=\"dataframe\">\n",
       "  <thead>\n",
       "    <tr style=\"text-align: right;\">\n",
       "      <th></th>\n",
       "      <th>age</th>\n",
       "      <th>fare</th>\n",
       "      <th>kkk</th>\n",
       "    </tr>\n",
       "  </thead>\n",
       "  <tbody>\n",
       "    <tr>\n",
       "      <th>0</th>\n",
       "      <td>32.0</td>\n",
       "      <td>17.2500</td>\n",
       "      <td>5</td>\n",
       "    </tr>\n",
       "    <tr>\n",
       "      <th>1</th>\n",
       "      <td>48.0</td>\n",
       "      <td>81.2833</td>\n",
       "      <td>5</td>\n",
       "    </tr>\n",
       "    <tr>\n",
       "      <th>2</th>\n",
       "      <td>36.0</td>\n",
       "      <td>17.9250</td>\n",
       "      <td>5</td>\n",
       "    </tr>\n",
       "    <tr>\n",
       "      <th>3</th>\n",
       "      <td>45.0</td>\n",
       "      <td>63.1000</td>\n",
       "      <td>5</td>\n",
       "    </tr>\n",
       "    <tr>\n",
       "      <th>4</th>\n",
       "      <td>45.0</td>\n",
       "      <td>18.0500</td>\n",
       "      <td>5</td>\n",
       "    </tr>\n",
       "  </tbody>\n",
       "</table>\n",
       "</div>"
      ],
      "text/plain": [
       "    age     fare  kkk\n",
       "0  32.0  17.2500    5\n",
       "1  48.0  81.2833    5\n",
       "2  36.0  17.9250    5\n",
       "3  45.0  63.1000    5\n",
       "4  45.0  18.0500    5"
      ]
     },
     "execution_count": 412,
     "metadata": {},
     "output_type": "execute_result"
    }
   ],
   "source": [
    "add['kkk'] = 5\n",
    "add.head()"
   ]
  },
  {
   "cell_type": "code",
   "execution_count": 404,
   "id": "8907657c-f376-4ee5-adbd-90cf7bbf9540",
   "metadata": {},
   "outputs": [
    {
     "data": {
      "text/html": [
       "<div>\n",
       "<style scoped>\n",
       "    .dataframe tbody tr th:only-of-type {\n",
       "        vertical-align: middle;\n",
       "    }\n",
       "\n",
       "    .dataframe tbody tr th {\n",
       "        vertical-align: top;\n",
       "    }\n",
       "\n",
       "    .dataframe thead th {\n",
       "        text-align: right;\n",
       "    }\n",
       "</style>\n",
       "<table border=\"1\" class=\"dataframe\">\n",
       "  <thead>\n",
       "    <tr style=\"text-align: right;\">\n",
       "      <th></th>\n",
       "      <th>age</th>\n",
       "      <th>fare</th>\n",
       "      <th>kkk</th>\n",
       "    </tr>\n",
       "  </thead>\n",
       "  <tbody>\n",
       "    <tr>\n",
       "      <th>0</th>\n",
       "      <td>10.0</td>\n",
       "      <td>10.0</td>\n",
       "      <td>NaN</td>\n",
       "    </tr>\n",
       "    <tr>\n",
       "      <th>1</th>\n",
       "      <td>10.0</td>\n",
       "      <td>10.0</td>\n",
       "      <td>NaN</td>\n",
       "    </tr>\n",
       "    <tr>\n",
       "      <th>2</th>\n",
       "      <td>10.0</td>\n",
       "      <td>10.0</td>\n",
       "      <td>NaN</td>\n",
       "    </tr>\n",
       "    <tr>\n",
       "      <th>3</th>\n",
       "      <td>10.0</td>\n",
       "      <td>10.0</td>\n",
       "      <td>NaN</td>\n",
       "    </tr>\n",
       "    <tr>\n",
       "      <th>4</th>\n",
       "      <td>10.0</td>\n",
       "      <td>10.0</td>\n",
       "      <td>NaN</td>\n",
       "    </tr>\n",
       "  </tbody>\n",
       "</table>\n",
       "</div>"
      ],
      "text/plain": [
       "    age  fare  kkk\n",
       "0  10.0  10.0  NaN\n",
       "1  10.0  10.0  NaN\n",
       "2  10.0  10.0  NaN\n",
       "3  10.0  10.0  NaN\n",
       "4  10.0  10.0  NaN"
      ]
     },
     "execution_count": 404,
     "metadata": {},
     "output_type": "execute_result"
    }
   ],
   "source": [
    "result = add - tdf\n",
    "result.head()"
   ]
  },
  {
   "cell_type": "code",
   "execution_count": 414,
   "id": "634fdb66-f39e-47d7-aee5-3fcc319ad434",
   "metadata": {},
   "outputs": [
    {
     "data": {
      "text/html": [
       "<div>\n",
       "<style scoped>\n",
       "    .dataframe tbody tr th:only-of-type {\n",
       "        vertical-align: middle;\n",
       "    }\n",
       "\n",
       "    .dataframe tbody tr th {\n",
       "        vertical-align: top;\n",
       "    }\n",
       "\n",
       "    .dataframe thead th {\n",
       "        text-align: right;\n",
       "    }\n",
       "</style>\n",
       "<table border=\"1\" class=\"dataframe\">\n",
       "  <thead>\n",
       "    <tr style=\"text-align: right;\">\n",
       "      <th></th>\n",
       "      <th>age</th>\n",
       "      <th>fare</th>\n",
       "    </tr>\n",
       "  </thead>\n",
       "  <tbody>\n",
       "    <tr>\n",
       "      <th>0</th>\n",
       "      <td>32.0</td>\n",
       "      <td>17.2500</td>\n",
       "    </tr>\n",
       "    <tr>\n",
       "      <th>1</th>\n",
       "      <td>48.0</td>\n",
       "      <td>81.2833</td>\n",
       "    </tr>\n",
       "    <tr>\n",
       "      <th>2</th>\n",
       "      <td>36.0</td>\n",
       "      <td>17.9250</td>\n",
       "    </tr>\n",
       "    <tr>\n",
       "      <th>3</th>\n",
       "      <td>45.0</td>\n",
       "      <td>63.1000</td>\n",
       "    </tr>\n",
       "    <tr>\n",
       "      <th>4</th>\n",
       "      <td>45.0</td>\n",
       "      <td>18.0500</td>\n",
       "    </tr>\n",
       "  </tbody>\n",
       "</table>\n",
       "</div>"
      ],
      "text/plain": [
       "    age     fare\n",
       "0  32.0  17.2500\n",
       "1  48.0  81.2833\n",
       "2  36.0  17.9250\n",
       "3  45.0  63.1000\n",
       "4  45.0  18.0500"
      ]
     },
     "execution_count": 414,
     "metadata": {},
     "output_type": "execute_result"
    }
   ],
   "source": [
    "add = add.drop('kkk', axis=1)\n",
    "add"
   ]
  },
  {
   "cell_type": "code",
   "execution_count": 416,
   "id": "6b65644d-efd7-4148-8569-5c8950d42d1d",
   "metadata": {},
   "outputs": [
    {
     "name": "stdout",
     "output_type": "stream",
     "text": [
      "<class 'pandas.core.frame.DataFrame'>\n",
      "RangeIndex: 891 entries, 0 to 890\n",
      "Data columns (total 2 columns):\n",
      " #   Column  Non-Null Count  Dtype  \n",
      "---  ------  --------------  -----  \n",
      " 0   age     714 non-null    float64\n",
      " 1   fare    891 non-null    float64\n",
      "dtypes: float64(2)\n",
      "memory usage: 14.1 KB\n"
     ]
    }
   ],
   "source": [
    "tdf.info()"
   ]
  },
  {
   "cell_type": "code",
   "execution_count": 418,
   "id": "817948ec-141d-4dae-9a0a-287ee3c0d186",
   "metadata": {},
   "outputs": [
    {
     "name": "stdout",
     "output_type": "stream",
     "text": [
      "<class 'pandas.core.frame.DataFrame'>\n",
      "RangeIndex: 891 entries, 0 to 890\n",
      "Data columns (total 15 columns):\n",
      " #   Column       Non-Null Count  Dtype   \n",
      "---  ------       --------------  -----   \n",
      " 0   survived     891 non-null    int64   \n",
      " 1   pclass       891 non-null    int64   \n",
      " 2   sex          891 non-null    object  \n",
      " 3   age          714 non-null    float64 \n",
      " 4   sibsp        891 non-null    int64   \n",
      " 5   parch        891 non-null    int64   \n",
      " 6   fare         891 non-null    float64 \n",
      " 7   embarked     889 non-null    object  \n",
      " 8   class        891 non-null    category\n",
      " 9   who          891 non-null    object  \n",
      " 10  adult_male   891 non-null    bool    \n",
      " 11  deck         203 non-null    category\n",
      " 12  embark_town  889 non-null    object  \n",
      " 13  alive        891 non-null    object  \n",
      " 14  alone        891 non-null    bool    \n",
      "dtypes: bool(2), category(2), float64(2), int64(4), object(5)\n",
      "memory usage: 80.7+ KB\n"
     ]
    }
   ],
   "source": [
    "titanic.info()"
   ]
  },
  {
   "cell_type": "code",
   "execution_count": 420,
   "id": "d2ee5279-b347-4d59-b74b-97d897e78da7",
   "metadata": {},
   "outputs": [
    {
     "data": {
      "text/html": [
       "<div>\n",
       "<style scoped>\n",
       "    .dataframe tbody tr th:only-of-type {\n",
       "        vertical-align: middle;\n",
       "    }\n",
       "\n",
       "    .dataframe tbody tr th {\n",
       "        vertical-align: top;\n",
       "    }\n",
       "\n",
       "    .dataframe thead th {\n",
       "        text-align: right;\n",
       "    }\n",
       "</style>\n",
       "<table border=\"1\" class=\"dataframe\">\n",
       "  <thead>\n",
       "    <tr style=\"text-align: right;\">\n",
       "      <th></th>\n",
       "      <th>age</th>\n",
       "      <th>fare</th>\n",
       "    </tr>\n",
       "  </thead>\n",
       "  <tbody>\n",
       "    <tr>\n",
       "      <th>886</th>\n",
       "      <td>27.0</td>\n",
       "      <td>13.00</td>\n",
       "    </tr>\n",
       "    <tr>\n",
       "      <th>887</th>\n",
       "      <td>19.0</td>\n",
       "      <td>30.00</td>\n",
       "    </tr>\n",
       "    <tr>\n",
       "      <th>888</th>\n",
       "      <td>NaN</td>\n",
       "      <td>23.45</td>\n",
       "    </tr>\n",
       "    <tr>\n",
       "      <th>889</th>\n",
       "      <td>26.0</td>\n",
       "      <td>30.00</td>\n",
       "    </tr>\n",
       "    <tr>\n",
       "      <th>890</th>\n",
       "      <td>32.0</td>\n",
       "      <td>7.75</td>\n",
       "    </tr>\n",
       "  </tbody>\n",
       "</table>\n",
       "</div>"
      ],
      "text/plain": [
       "      age   fare\n",
       "886  27.0  13.00\n",
       "887  19.0  30.00\n",
       "888   NaN  23.45\n",
       "889  26.0  30.00\n",
       "890  32.0   7.75"
      ]
     },
     "execution_count": 420,
     "metadata": {},
     "output_type": "execute_result"
    }
   ],
   "source": [
    "tdf.tail()"
   ]
  },
  {
   "cell_type": "markdown",
   "id": "9b0da177-0606-4602-8aa4-58f925836fe9",
   "metadata": {},
   "source": [
    "888 NaN 결측치 존재\n",
    "\n",
    "전처리 작업 : 0, 평균값, 최솟값, 최댓값 등으로 처리 "
   ]
  },
  {
   "cell_type": "code",
   "execution_count": 426,
   "id": "32fa163a-03f9-4ebe-8bfa-98218952dbaf",
   "metadata": {},
   "outputs": [
    {
     "name": "stdout",
     "output_type": "stream",
     "text": [
      "     age     fare\n",
      "0   22.0   7.2500\n",
      "1   38.0  71.2833\n",
      "2   26.0   7.9250\n",
      "3   35.0  53.1000\n",
      "4   35.0   8.0500\n",
      "5    NaN   8.4583\n",
      "6   54.0  51.8625\n",
      "7    2.0  21.0750\n",
      "8   27.0  11.1333\n",
      "9   14.0  30.0708\n",
      "10   4.0  16.7000\n"
     ]
    }
   ],
   "source": [
    "df1 = titanic.loc[0:10,['age','fare']]\n",
    "print(df1)\n"
   ]
  },
  {
   "cell_type": "code",
   "execution_count": 428,
   "id": "53bf7dfa-2ae5-49e7-9ba3-d5159455a7bf",
   "metadata": {},
   "outputs": [
    {
     "name": "stdout",
     "output_type": "stream",
     "text": [
      "     age     fare\n",
      "3   35.0  53.1000\n",
      "4   35.0   8.0500\n",
      "5    NaN   8.4583\n",
      "6   54.0  51.8625\n",
      "7    2.0  21.0750\n",
      "8   27.0  11.1333\n",
      "9   14.0  30.0708\n",
      "10   4.0  16.7000\n",
      "11  58.0  26.5500\n",
      "12  20.0   8.0500\n",
      "13  39.0  31.2750\n"
     ]
    }
   ],
   "source": [
    "df2 = titanic.loc[3:13,['age','fare']]\n",
    "print(df2)"
   ]
  },
  {
   "cell_type": "code",
   "execution_count": 430,
   "id": "bd868a09-1696-43e8-addb-046344e29e31",
   "metadata": {},
   "outputs": [
    {
     "name": "stdout",
     "output_type": "stream",
     "text": [
      "      age      fare\n",
      "0     NaN       NaN\n",
      "1     NaN       NaN\n",
      "2     NaN       NaN\n",
      "3    70.0  106.2000\n",
      "4    70.0   16.1000\n",
      "5     NaN   16.9166\n",
      "6   108.0  103.7250\n",
      "7     4.0   42.1500\n",
      "8    54.0   22.2666\n",
      "9    28.0   60.1416\n",
      "10    8.0   33.4000\n",
      "11    NaN       NaN\n",
      "12    NaN       NaN\n",
      "13    NaN       NaN\n"
     ]
    }
   ],
   "source": [
    "print(df1 + df2)"
   ]
  },
  {
   "cell_type": "code",
   "execution_count": 432,
   "id": "485f9e8d-dcbe-4c05-ab5e-626ead6254c8",
   "metadata": {},
   "outputs": [
    {
     "name": "stdout",
     "output_type": "stream",
     "text": [
      "      age      fare\n",
      "0    22.0    7.2500\n",
      "1    38.0   71.2833\n",
      "2    26.0    7.9250\n",
      "3    70.0  106.2000\n",
      "4    70.0   16.1000\n",
      "5     NaN   16.9166\n",
      "6   108.0  103.7250\n",
      "7     4.0   42.1500\n",
      "8    54.0   22.2666\n",
      "9    28.0   60.1416\n",
      "10    8.0   33.4000\n",
      "11   58.0   26.5500\n",
      "12   20.0    8.0500\n",
      "13   39.0   31.2750\n"
     ]
    }
   ],
   "source": [
    "df_add = df1.add(df2, fill_value=0)\n",
    "print(df_add)"
   ]
  }
 ],
 "metadata": {
  "kernelspec": {
   "display_name": "Python 3 (ipykernel)",
   "language": "python",
   "name": "python3"
  },
  "language_info": {
   "codemirror_mode": {
    "name": "ipython",
    "version": 3
   },
   "file_extension": ".py",
   "mimetype": "text/x-python",
   "name": "python",
   "nbconvert_exporter": "python",
   "pygments_lexer": "ipython3",
   "version": "3.12.7"
  }
 },
 "nbformat": 4,
 "nbformat_minor": 5
}
