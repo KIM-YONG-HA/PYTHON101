{
 "cells": [
  {
   "cell_type": "code",
   "execution_count": 32,
   "id": "f176da99-88ef-4c79-9d74-3c52462f6770",
   "metadata": {},
   "outputs": [],
   "source": [
    "# import pandas as pd\n",
    "\n",
    "# file_path1 = \"read_csv_sample.csv\"\n",
    "# file_path2 = \"weather.csv\"\n",
    "# file_path3 = \"weather1.csv\"\n",
    "\n",
    "# df1 = pd.read_csv(file_path1)\n",
    "# df2 = pd.read_csv(file_path2)\n",
    "# df3 = pd.read_csv(file_path3, encoding='cp949')\n"
   ]
  },
  {
   "cell_type": "code",
   "execution_count": null,
   "id": "5ffa27be-1eb8-48f1-b273-afaf0818c7b8",
   "metadata": {},
   "outputs": [],
   "source": []
  },
  {
   "cell_type": "markdown",
   "id": "b14c78bd-56bd-411a-a697-0eabae30af37",
   "metadata": {},
   "source": [
    "# 데이터 입출력"
   ]
  },
  {
   "cell_type": "markdown",
   "id": "897cc9e1-8e20-416a-a0b9-d15f5121734e",
   "metadata": {},
   "source": [
    "## csv \n",
    "pd.read_csv(filepath, header, index_col, names)\n",
    "filepath : 파일 경로\n",
    "header : 헤더의 열 이름으로 사용할 행 또는 열 지정\n",
    "index_col : DataFrame의 행 인덱스가 되는 열 지정 \n",
    "names : 열 이름으로 지정할 문자열 "
   ]
  },
  {
   "cell_type": "code",
   "execution_count": 50,
   "id": "be3f97bc-2e8d-4f02-bb2e-05db13cfbd0e",
   "metadata": {},
   "outputs": [
    {
     "name": "stdout",
     "output_type": "stream",
     "text": [
      "   c0  c1  c2  c3\n",
      "0   0   1   4   7\n",
      "1   1   2   5   8\n",
      "2   2   3   6   9\n"
     ]
    }
   ],
   "source": [
    "import pandas as pd\n",
    "\n",
    "file_path1 = \"read_csv_sample.csv\"\n",
    "\n",
    "df1 = pd.read_csv(file_path1)\n",
    "print(df1)"
   ]
  },
  {
   "cell_type": "code",
   "execution_count": 48,
   "id": "c90d7062-7a2e-493d-89c2-5050156c24be",
   "metadata": {},
   "outputs": [
    {
     "name": "stdout",
     "output_type": "stream",
     "text": [
      "    0   1   2   3\n",
      "0  c0  c1  c2  c3\n",
      "1   0   1   4   7\n",
      "2   1   2   5   8\n",
      "3   2   3   6   9\n"
     ]
    }
   ],
   "source": [
    "df2 = pd.read_csv(file_path1, header=None)\n",
    "print(df2)"
   ]
  },
  {
   "cell_type": "code",
   "execution_count": 62,
   "id": "f48c0d4f-dfcd-4def-a2bb-95b2effd4439",
   "metadata": {},
   "outputs": [
    {
     "name": "stdout",
     "output_type": "stream",
     "text": [
      "   c0  c1  c2  c3\n",
      "0   0   1   4   7\n",
      "1   1   2   5   8\n",
      "2   2   3   6   9\n"
     ]
    }
   ],
   "source": [
    "df3 = pd.read_csv(file_path1, index_col=None)\n",
    "print(df3)"
   ]
  },
  {
   "cell_type": "code",
   "execution_count": 60,
   "id": "be182a99-e58f-45fd-9f64-92528e21c536",
   "metadata": {},
   "outputs": [
    {
     "name": "stdout",
     "output_type": "stream",
     "text": [
      "    c1  c2  c3\n",
      "c0            \n",
      "0    1   4   7\n",
      "1    2   5   8\n",
      "2    3   6   9\n"
     ]
    }
   ],
   "source": [
    "df4 = pd.read_csv(file_path1, index_col='c0')\n",
    "print(df4)"
   ]
  },
  {
   "cell_type": "markdown",
   "id": "c02daba6-4490-450c-b171-cf0f0c0332c6",
   "metadata": {},
   "source": [
    "## excel\n",
    "pd.read_excel(filepath, header, index_col, names, sheet_name)"
   ]
  },
  {
   "cell_type": "code",
   "execution_count": 72,
   "id": "cc9b7646-d85b-4c8f-b15d-7f8fdee27eee",
   "metadata": {},
   "outputs": [
    {
     "name": "stdout",
     "output_type": "stream",
     "text": [
      "  전력량 (억㎾h) 발전 전력별  1990  1991  1992  1993  1994  1995  1996  1997  ...  2007  \\\n",
      "0        남한     합계  1077  1186  1310  1444  1650  1847  2055  2244  ...  4031   \n",
      "1       NaN     수력    64    51    49    60    41    55    52    54  ...    50   \n",
      "2       NaN     화력   484   573   696   803  1022  1122  1264  1420  ...  2551   \n",
      "3       NaN    원자력   529   563   565   581   587   670   739   771  ...  1429   \n",
      "4       NaN    신재생     -     -     -     -     -     -     -     -  ...     -   \n",
      "5        북한     합계   277   263   247   221   231   230   213   193  ...   236   \n",
      "6       NaN     수력   156   150   142   133   138   142   125   107  ...   133   \n",
      "7       NaN     화력   121   113   105    88    93    88    88    86  ...   103   \n",
      "8       NaN    원자력     -     -     -     -     -     -     -     -  ...     -   \n",
      "\n",
      "   2008  2009  2010  2011  2012  2013  2014  2015  2016  \n",
      "0  4224  4336  4747  4969  5096  5171  5220  5281  5404  \n",
      "1    56    56    65    78    77    84    78    58    66  \n",
      "2  2658  2802  3196  3343  3430  3581  3427  3402  3523  \n",
      "3  1510  1478  1486  1547  1503  1388  1564  1648  1620  \n",
      "4     -     -     -     -    86   118   151   173   195  \n",
      "5   255   235   237   211   215   221   216   190   239  \n",
      "6   141   125   134   132   135   139   130   100   128  \n",
      "7   114   110   103    79    80    82    86    90   111  \n",
      "8     -     -     -     -     -     -     -     -     -  \n",
      "\n",
      "[9 rows x 29 columns]\n"
     ]
    }
   ],
   "source": [
    "xdf1 = pd.read_excel(\"남북한발전전력량.xlsx\")\n",
    "print(xdf1)"
   ]
  },
  {
   "cell_type": "code",
   "execution_count": 76,
   "id": "d4cc311b-5f74-48e7-936d-69bd9ecb7ace",
   "metadata": {},
   "outputs": [
    {
     "name": "stdout",
     "output_type": "stream",
     "text": [
      "          0       1     2     3     4     5     6     7     8     9   ...  \\\n",
      "0  전력량 (억㎾h)  발전 전력별  1990  1991  1992  1993  1994  1995  1996  1997  ...   \n",
      "1         남한      합계  1077  1186  1310  1444  1650  1847  2055  2244  ...   \n",
      "2        NaN      수력    64    51    49    60    41    55    52    54  ...   \n",
      "3        NaN      화력   484   573   696   803  1022  1122  1264  1420  ...   \n",
      "4        NaN     원자력   529   563   565   581   587   670   739   771  ...   \n",
      "5        NaN     신재생     -     -     -     -     -     -     -     -  ...   \n",
      "6         북한      합계   277   263   247   221   231   230   213   193  ...   \n",
      "7        NaN      수력   156   150   142   133   138   142   125   107  ...   \n",
      "8        NaN      화력   121   113   105    88    93    88    88    86  ...   \n",
      "9        NaN     원자력     -     -     -     -     -     -     -     -  ...   \n",
      "\n",
      "     19    20    21    22    23    24    25    26    27    28  \n",
      "0  2007  2008  2009  2010  2011  2012  2013  2014  2015  2016  \n",
      "1  4031  4224  4336  4747  4969  5096  5171  5220  5281  5404  \n",
      "2    50    56    56    65    78    77    84    78    58    66  \n",
      "3  2551  2658  2802  3196  3343  3430  3581  3427  3402  3523  \n",
      "4  1429  1510  1478  1486  1547  1503  1388  1564  1648  1620  \n",
      "5     -     -     -     -     -    86   118   151   173   195  \n",
      "6   236   255   235   237   211   215   221   216   190   239  \n",
      "7   133   141   125   134   132   135   139   130   100   128  \n",
      "8   103   114   110   103    79    80    82    86    90   111  \n",
      "9     -     -     -     -     -     -     -     -     -     -  \n",
      "\n",
      "[10 rows x 29 columns]\n"
     ]
    }
   ],
   "source": [
    "xdf2 = pd.read_excel(\"남북한발전전력량.xlsx\", header=None)\n",
    "print(xdf2)"
   ]
  },
  {
   "cell_type": "code",
   "execution_count": null,
   "id": "80287ad0-eac6-4bd9-9743-cafd2d9386ce",
   "metadata": {},
   "outputs": [],
   "source": [
    "## json"
   ]
  },
  {
   "cell_type": "code",
   "execution_count": 133,
   "id": "a81d3348-633a-40ea-b1dc-bd95a89d5a47",
   "metadata": {},
   "outputs": [
    {
     "name": "stdout",
     "output_type": "stream",
     "text": [
      "            year        developer opensource\n",
      "pandas      2008    Wes Mckinneye       True\n",
      "NumPy       2006  Travis Oliphant       True\n",
      "matplotlib  2003   John D. Hunter       True\n",
      "\n"
     ]
    }
   ],
   "source": [
    "\n",
    "jdf1 = pd.read_json(\"read_json_sample.json\")\n",
    "print(jdf1)\n",
    "print()\n"
   ]
  },
  {
   "cell_type": "code",
   "execution_count": null,
   "id": "61f10d41-db3f-478c-a6bb-ebd03b9310a6",
   "metadata": {},
   "outputs": [],
   "source": []
  },
  {
   "cell_type": "markdown",
   "id": "0cb15a55-c004-4822-9e1c-16b08d3b1d2d",
   "metadata": {},
   "source": [
    "## 외부데이터 저장 \n",
    "\n",
    "\n",
    "### 데이터프레임을 csv파일로 저장 \n",
    "\n",
    "df.to_csv(filename, sep, na_rep, columns, header, index, mode, encoding)\n",
    "\n",
    "* filename : 파일명\n",
    "* sep : 구분 문자(default는 콤마)\n",
    "* na_rep : 누락된 데이터를 나타낼 문자열\n",
    "* columns : 저장할 열이름 \n",
    "* header : 열이름으로 저장할 문자열, False 설정시 열 이름을 파일에 저장 안 함\n",
    "* index : True면 행 이름을 인덱스로 저장\n",
    "* mode : 파일 모드, default w\n",
    "* encoding : 문자열 체계, 일반적으로 한글은 utf-8, 윈도우는 cp949\n",
    "\n",
    "\n"
   ]
  },
  {
   "cell_type": "code",
   "execution_count": 129,
   "id": "e1580b6d-292b-45cd-8e54-111c38b62e4f",
   "metadata": {},
   "outputs": [
    {
     "name": "stdout",
     "output_type": "stream",
     "text": [
      "      name gender   age\n",
      "0      Tom      M   NaN\n",
      "1    David   None  20.0\n",
      "2    Peter      M  30.0\n",
      "3     Jhon      F  45.0\n",
      "4  Michael   None  60.0\n"
     ]
    }
   ],
   "source": [
    "data = {\n",
    "    'name':{0:'Tom', 1:'David', 2:'Peter', 3:'Jhon', 4:'Michael'},\n",
    "    'gender':{0:'M', 1:None, 2:'M', 3:'F', 4:None},\n",
    "    'age':{0:None, 1:20, 2:30, 3:45, 4:60}\n",
    "}\n",
    "\n",
    "df = pd.DataFrame(data)\n",
    "\n",
    "print(df)\n",
    "\n",
    "df.to_csv(\"df_to_csv.csv\")"
   ]
  },
  {
   "cell_type": "code",
   "execution_count": null,
   "id": "21458d51-ddd1-463a-a121-327c154f0618",
   "metadata": {},
   "outputs": [],
   "source": [
    "## 여러 개의 DataFrame을 여러 시트에 저장하기 \n",
    "\n",
    "ExcelWriter 함수 \n",
    "1. pd.ExcelWriter() 객체 생성\n",
    "2. to_excel()함수를 이용하여 시트 추가 \n",
    "3. save()함수로 저장 "
   ]
  },
  {
   "cell_type": "code",
   "execution_count": 135,
   "id": "b0f9776c-dde3-4295-923c-fc3dca85048e",
   "metadata": {},
   "outputs": [],
   "source": [
    "data1 = {\n",
    "    'name':{0:'Tom', 1:'David', 2:'Peter', 3:'Jhon', 4:'Michael'},\n",
    "    'gender':{0:'M', 1:None, 2:'M', 3:'F', 4:None},\n",
    "    'age':{0:None, 1:20, 2:30, 3:45, 4:60}\n",
    "}\n",
    "\n",
    "data2 = {\n",
    "    'name':{0:'Tom2', 1:'David2', 2:'Peter2', 3:'Jhon2', 4:'Michael2'},\n",
    "    'gender':{0:'M', 1:None, 2:'M', 3:'F', 4:None},\n",
    "    'age':{0:None, 1:20, 2:30, 3:45, 4:60}\n",
    "}\n",
    "\n",
    "df1 = pd.DataFrame(data1)\n",
    "df2 = pd.DataFrame(data2)"
   ]
  },
  {
   "cell_type": "code",
   "execution_count": 151,
   "id": "464775d6-d750-4c6c-86bb-421f0835a205",
   "metadata": {},
   "outputs": [],
   "source": [
    "excel_file = pd.ExcelWriter('df_to_excel2.xlsx')\n",
    "df1.to_excel(excel_file, sheet_name='info_data1')\n",
    "df2.to_excel(excel_file, sheet_name='info_data2')\n",
    "excel_file.close()"
   ]
  }
 ],
 "metadata": {
  "kernelspec": {
   "display_name": "Python [conda env:base] *",
   "language": "python",
   "name": "conda-base-py"
  },
  "language_info": {
   "codemirror_mode": {
    "name": "ipython",
    "version": 3
   },
   "file_extension": ".py",
   "mimetype": "text/x-python",
   "name": "python",
   "nbconvert_exporter": "python",
   "pygments_lexer": "ipython3",
   "version": "3.12.7"
  }
 },
 "nbformat": 4,
 "nbformat_minor": 5
}
