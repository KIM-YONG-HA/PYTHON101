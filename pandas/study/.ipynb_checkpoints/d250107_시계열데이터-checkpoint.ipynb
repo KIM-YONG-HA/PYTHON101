{
 "cells": [
  {
   "cell_type": "markdown",
   "id": "cf2c196f-02d3-4e81-af24-c5f264812627",
   "metadata": {},
   "source": [
    "# 시계열 데이터"
   ]
  },
  {
   "cell_type": "markdown",
   "id": "a94c4d69-a6f1-4170-9ce3-fe31d75e3089",
   "metadata": {},
   "source": [
    "시간의 흐름을 나타내는 데이터\n",
    "* 특정한 시점을 기록하는 Timestamp\n",
    "* 두 지점 사이의 일정한 기간을 의미하는 Period"
   ]
  },
  {
   "cell_type": "markdown",
   "id": "725fba20-c543-4087-92e7-92dc0c95818d",
   "metadata": {},
   "source": [
    "## 다른 자료형을 시계열객체로 변환"
   ]
  },
  {
   "cell_type": "markdown",
   "id": "61f66935-6b3d-463a-b0d4-c6b31616f29e",
   "metadata": {},
   "source": [
    "문자열, 숫자 등의 값을 시계열 데이터로 변환한다."
   ]
  },
  {
   "cell_type": "code",
   "execution_count": null,
   "id": "e49794bb-8a03-42bb-b7b9-f1a46dac7f0a",
   "metadata": {},
   "outputs": [],
   "source": [
    "## 문자열 -> Timestamp "
   ]
  },
  {
   "cell_type": "markdown",
   "id": "6a98c463-cd75-42c7-b8a3-e0eedc1cf3a2",
   "metadata": {},
   "source": [
    "to_datetime()"
   ]
  },
  {
   "cell_type": "code",
   "execution_count": 10,
   "id": "35c0aa60-b49a-4f26-bef5-d5b5106700e1",
   "metadata": {},
   "outputs": [],
   "source": [
    "import numpy as np\n",
    "import pandas as pd"
   ]
  },
  {
   "cell_type": "code",
   "execution_count": 24,
   "id": "3beca3ed-e50f-492c-8c07-bcc1cb3d19a6",
   "metadata": {},
   "outputs": [
    {
     "data": {
      "text/html": [
       "<div>\n",
       "<style scoped>\n",
       "    .dataframe tbody tr th:only-of-type {\n",
       "        vertical-align: middle;\n",
       "    }\n",
       "\n",
       "    .dataframe tbody tr th {\n",
       "        vertical-align: top;\n",
       "    }\n",
       "\n",
       "    .dataframe thead th {\n",
       "        text-align: right;\n",
       "    }\n",
       "</style>\n",
       "<table border=\"1\" class=\"dataframe\">\n",
       "  <thead>\n",
       "    <tr style=\"text-align: right;\">\n",
       "      <th></th>\n",
       "      <th>Date</th>\n",
       "      <th>Close</th>\n",
       "      <th>Start</th>\n",
       "      <th>High</th>\n",
       "      <th>Low</th>\n",
       "      <th>Volume</th>\n",
       "    </tr>\n",
       "  </thead>\n",
       "  <tbody>\n",
       "    <tr>\n",
       "      <th>0</th>\n",
       "      <td>2018-07-02</td>\n",
       "      <td>10100</td>\n",
       "      <td>10850</td>\n",
       "      <td>10900</td>\n",
       "      <td>10000</td>\n",
       "      <td>137977</td>\n",
       "    </tr>\n",
       "    <tr>\n",
       "      <th>1</th>\n",
       "      <td>2018-06-29</td>\n",
       "      <td>10700</td>\n",
       "      <td>10550</td>\n",
       "      <td>10900</td>\n",
       "      <td>9990</td>\n",
       "      <td>170253</td>\n",
       "    </tr>\n",
       "    <tr>\n",
       "      <th>2</th>\n",
       "      <td>2018-06-28</td>\n",
       "      <td>10400</td>\n",
       "      <td>10900</td>\n",
       "      <td>10950</td>\n",
       "      <td>10150</td>\n",
       "      <td>155769</td>\n",
       "    </tr>\n",
       "    <tr>\n",
       "      <th>3</th>\n",
       "      <td>2018-06-27</td>\n",
       "      <td>10900</td>\n",
       "      <td>10800</td>\n",
       "      <td>11050</td>\n",
       "      <td>10500</td>\n",
       "      <td>133548</td>\n",
       "    </tr>\n",
       "    <tr>\n",
       "      <th>4</th>\n",
       "      <td>2018-06-26</td>\n",
       "      <td>10800</td>\n",
       "      <td>10900</td>\n",
       "      <td>11000</td>\n",
       "      <td>10700</td>\n",
       "      <td>63039</td>\n",
       "    </tr>\n",
       "  </tbody>\n",
       "</table>\n",
       "</div>"
      ],
      "text/plain": [
       "         Date  Close  Start   High    Low  Volume\n",
       "0  2018-07-02  10100  10850  10900  10000  137977\n",
       "1  2018-06-29  10700  10550  10900   9990  170253\n",
       "2  2018-06-28  10400  10900  10950  10150  155769\n",
       "3  2018-06-27  10900  10800  11050  10500  133548\n",
       "4  2018-06-26  10800  10900  11000  10700   63039"
      ]
     },
     "execution_count": 24,
     "metadata": {},
     "output_type": "execute_result"
    }
   ],
   "source": [
    "file_path = 'data/stock-data.csv'\n",
    "stock = pd.read_csv(file_path)\n",
    "stock.head()"
   ]
  },
  {
   "cell_type": "code",
   "execution_count": 22,
   "id": "8232e941-818b-47ff-b4a0-15a72ee85559",
   "metadata": {},
   "outputs": [
    {
     "name": "stdout",
     "output_type": "stream",
     "text": [
      "<class 'pandas.core.series.Series'>\n",
      "RangeIndex: 20 entries, 0 to 19\n",
      "Series name: Date\n",
      "Non-Null Count  Dtype \n",
      "--------------  ----- \n",
      "20 non-null     object\n",
      "dtypes: object(1)\n",
      "memory usage: 292.0+ bytes\n"
     ]
    }
   ],
   "source": [
    "stock['Date'].info()"
   ]
  },
  {
   "cell_type": "code",
   "execution_count": 30,
   "id": "67b67495-099a-4cd3-944f-63bf103be5d5",
   "metadata": {},
   "outputs": [],
   "source": [
    "stock['new_date'] = pd.to_datetime(stock['Date'])"
   ]
  },
  {
   "cell_type": "code",
   "execution_count": 38,
   "id": "f8e76723-17a8-4e53-a9f6-befc5cd2d18d",
   "metadata": {},
   "outputs": [
    {
     "data": {
      "text/html": [
       "<div>\n",
       "<style scoped>\n",
       "    .dataframe tbody tr th:only-of-type {\n",
       "        vertical-align: middle;\n",
       "    }\n",
       "\n",
       "    .dataframe tbody tr th {\n",
       "        vertical-align: top;\n",
       "    }\n",
       "\n",
       "    .dataframe thead th {\n",
       "        text-align: right;\n",
       "    }\n",
       "</style>\n",
       "<table border=\"1\" class=\"dataframe\">\n",
       "  <thead>\n",
       "    <tr style=\"text-align: right;\">\n",
       "      <th></th>\n",
       "      <th>Date</th>\n",
       "      <th>Close</th>\n",
       "      <th>Start</th>\n",
       "      <th>High</th>\n",
       "      <th>Low</th>\n",
       "      <th>Volume</th>\n",
       "      <th>new_date</th>\n",
       "    </tr>\n",
       "  </thead>\n",
       "  <tbody>\n",
       "    <tr>\n",
       "      <th>0</th>\n",
       "      <td>2018-07-02</td>\n",
       "      <td>10100</td>\n",
       "      <td>10850</td>\n",
       "      <td>10900</td>\n",
       "      <td>10000</td>\n",
       "      <td>137977</td>\n",
       "      <td>2018-07-02</td>\n",
       "    </tr>\n",
       "    <tr>\n",
       "      <th>1</th>\n",
       "      <td>2018-06-29</td>\n",
       "      <td>10700</td>\n",
       "      <td>10550</td>\n",
       "      <td>10900</td>\n",
       "      <td>9990</td>\n",
       "      <td>170253</td>\n",
       "      <td>2018-06-29</td>\n",
       "    </tr>\n",
       "    <tr>\n",
       "      <th>2</th>\n",
       "      <td>2018-06-28</td>\n",
       "      <td>10400</td>\n",
       "      <td>10900</td>\n",
       "      <td>10950</td>\n",
       "      <td>10150</td>\n",
       "      <td>155769</td>\n",
       "      <td>2018-06-28</td>\n",
       "    </tr>\n",
       "    <tr>\n",
       "      <th>3</th>\n",
       "      <td>2018-06-27</td>\n",
       "      <td>10900</td>\n",
       "      <td>10800</td>\n",
       "      <td>11050</td>\n",
       "      <td>10500</td>\n",
       "      <td>133548</td>\n",
       "      <td>2018-06-27</td>\n",
       "    </tr>\n",
       "    <tr>\n",
       "      <th>4</th>\n",
       "      <td>2018-06-26</td>\n",
       "      <td>10800</td>\n",
       "      <td>10900</td>\n",
       "      <td>11000</td>\n",
       "      <td>10700</td>\n",
       "      <td>63039</td>\n",
       "      <td>2018-06-26</td>\n",
       "    </tr>\n",
       "  </tbody>\n",
       "</table>\n",
       "</div>"
      ],
      "text/plain": [
       "         Date  Close  Start   High    Low  Volume   new_date\n",
       "0  2018-07-02  10100  10850  10900  10000  137977 2018-07-02\n",
       "1  2018-06-29  10700  10550  10900   9990  170253 2018-06-29\n",
       "2  2018-06-28  10400  10900  10950  10150  155769 2018-06-28\n",
       "3  2018-06-27  10900  10800  11050  10500  133548 2018-06-27\n",
       "4  2018-06-26  10800  10900  11000  10700   63039 2018-06-26"
      ]
     },
     "execution_count": 38,
     "metadata": {},
     "output_type": "execute_result"
    }
   ],
   "source": [
    "stock.head()"
   ]
  },
  {
   "cell_type": "code",
   "execution_count": 42,
   "id": "b24a65db-1106-44e5-b001-4256d34b1f3a",
   "metadata": {},
   "outputs": [
    {
     "name": "stdout",
     "output_type": "stream",
     "text": [
      "<class 'pandas.core.series.Series'>\n",
      "RangeIndex: 20 entries, 0 to 19\n",
      "Series name: new_date\n",
      "Non-Null Count  Dtype         \n",
      "--------------  -----         \n",
      "20 non-null     datetime64[ns]\n",
      "dtypes: datetime64[ns](1)\n",
      "memory usage: 292.0 bytes\n"
     ]
    }
   ],
   "source": [
    "stock['new_date'].info()"
   ]
  },
  {
   "cell_type": "code",
   "execution_count": 56,
   "id": "33077f1a-769e-40e8-baa1-eed3d36f3f43",
   "metadata": {},
   "outputs": [
    {
     "ename": "SyntaxError",
     "evalue": "invalid syntax (508491640.py, line 2)",
     "output_type": "error",
     "traceback": [
      "\u001b[1;36m  Cell \u001b[1;32mIn[56], line 2\u001b[1;36m\u001b[0m\n\u001b[1;33m    if cols not 'name':\u001b[0m\n\u001b[1;37m                ^\u001b[0m\n\u001b[1;31mSyntaxError\u001b[0m\u001b[1;31m:\u001b[0m invalid syntax\n"
     ]
    }
   ],
   "source": [
    "cols = \"name\"\n",
    "if cols not 'name':\n",
    "    pass\n",
    "else:\n",
    "    print(\"is\")\n",
    "    \n",
    "#['b'] + [cols for cols in df.columns if cols != 'name']"
   ]
  },
  {
   "cell_type": "code",
   "execution_count": 48,
   "id": "012844e0-4fa2-43f6-ac32-579916272363",
   "metadata": {},
   "outputs": [],
   "source": [
    "stock.set_index('new_date', inplace=True)"
   ]
  },
  {
   "cell_type": "code",
   "execution_count": 52,
   "id": "b515dff8-dc74-440d-a9c4-62537d475985",
   "metadata": {},
   "outputs": [],
   "source": [
    "stock.drop('Date', axis=1, inplace=True)"
   ]
  },
  {
   "cell_type": "code",
   "execution_count": 54,
   "id": "499025e4-6fd7-41e0-846e-1253d41e66f8",
   "metadata": {},
   "outputs": [
    {
     "data": {
      "text/html": [
       "<div>\n",
       "<style scoped>\n",
       "    .dataframe tbody tr th:only-of-type {\n",
       "        vertical-align: middle;\n",
       "    }\n",
       "\n",
       "    .dataframe tbody tr th {\n",
       "        vertical-align: top;\n",
       "    }\n",
       "\n",
       "    .dataframe thead th {\n",
       "        text-align: right;\n",
       "    }\n",
       "</style>\n",
       "<table border=\"1\" class=\"dataframe\">\n",
       "  <thead>\n",
       "    <tr style=\"text-align: right;\">\n",
       "      <th></th>\n",
       "      <th>Close</th>\n",
       "      <th>Start</th>\n",
       "      <th>High</th>\n",
       "      <th>Low</th>\n",
       "      <th>Volume</th>\n",
       "    </tr>\n",
       "    <tr>\n",
       "      <th>new_date</th>\n",
       "      <th></th>\n",
       "      <th></th>\n",
       "      <th></th>\n",
       "      <th></th>\n",
       "      <th></th>\n",
       "    </tr>\n",
       "  </thead>\n",
       "  <tbody>\n",
       "    <tr>\n",
       "      <th>2018-07-02</th>\n",
       "      <td>10100</td>\n",
       "      <td>10850</td>\n",
       "      <td>10900</td>\n",
       "      <td>10000</td>\n",
       "      <td>137977</td>\n",
       "    </tr>\n",
       "    <tr>\n",
       "      <th>2018-06-29</th>\n",
       "      <td>10700</td>\n",
       "      <td>10550</td>\n",
       "      <td>10900</td>\n",
       "      <td>9990</td>\n",
       "      <td>170253</td>\n",
       "    </tr>\n",
       "    <tr>\n",
       "      <th>2018-06-28</th>\n",
       "      <td>10400</td>\n",
       "      <td>10900</td>\n",
       "      <td>10950</td>\n",
       "      <td>10150</td>\n",
       "      <td>155769</td>\n",
       "    </tr>\n",
       "    <tr>\n",
       "      <th>2018-06-27</th>\n",
       "      <td>10900</td>\n",
       "      <td>10800</td>\n",
       "      <td>11050</td>\n",
       "      <td>10500</td>\n",
       "      <td>133548</td>\n",
       "    </tr>\n",
       "    <tr>\n",
       "      <th>2018-06-26</th>\n",
       "      <td>10800</td>\n",
       "      <td>10900</td>\n",
       "      <td>11000</td>\n",
       "      <td>10700</td>\n",
       "      <td>63039</td>\n",
       "    </tr>\n",
       "  </tbody>\n",
       "</table>\n",
       "</div>"
      ],
      "text/plain": [
       "            Close  Start   High    Low  Volume\n",
       "new_date                                      \n",
       "2018-07-02  10100  10850  10900  10000  137977\n",
       "2018-06-29  10700  10550  10900   9990  170253\n",
       "2018-06-28  10400  10900  10950  10150  155769\n",
       "2018-06-27  10900  10800  11050  10500  133548\n",
       "2018-06-26  10800  10900  11000  10700   63039"
      ]
     },
     "execution_count": 54,
     "metadata": {},
     "output_type": "execute_result"
    }
   ],
   "source": [
    "stock.head()"
   ]
  },
  {
   "cell_type": "code",
   "execution_count": null,
   "id": "251d5216-d0a0-44c6-860c-a984d1b92ca3",
   "metadata": {},
   "outputs": [],
   "source": [
    "## Timestamp -> Period 변경"
   ]
  },
  {
   "cell_type": "code",
   "execution_count": 58,
   "id": "358bfa09-3ac1-42fb-b57c-7df62f33b477",
   "metadata": {},
   "outputs": [
    {
     "data": {
      "text/plain": [
       "DatetimeIndex(['2019-01-01', '2024-03-01', '2021-06-01'], dtype='datetime64[ns]', freq=None)"
      ]
     },
     "execution_count": 58,
     "metadata": {},
     "output_type": "execute_result"
    }
   ],
   "source": [
    "dates = ['2019-01-01', '2024-03-01', '2021-06-01']\n",
    "to_dates = pd.to_datetime(dates)\n",
    "to_dates"
   ]
  },
  {
   "cell_type": "code",
   "execution_count": 60,
   "id": "71d1d71d-bb9c-4bcc-bfb8-5e062c4d3f4f",
   "metadata": {},
   "outputs": [
    {
     "data": {
      "text/plain": [
       "PeriodIndex(['2019-01-01', '2024-03-01', '2021-06-01'], dtype='period[D]')"
      ]
     },
     "execution_count": 60,
     "metadata": {},
     "output_type": "execute_result"
    }
   ],
   "source": [
    "to_dates.to_period(freq='D')"
   ]
  },
  {
   "cell_type": "markdown",
   "id": "e15b3e14-e3b1-4c39-9497-eb9e568306f3",
   "metadata": {},
   "source": [
    "pandas.to_period에서 freq는 주어진 시계열 데이터를 **어떤 주기(빈도)**로 변환할지 지정하는 인수입니다. \n",
    "즉, 데이터를 일별, 월별, 연도별 등으로 변환하는 방식입니다.\n",
    "\n",
    "freq는 Frequency의 약자로, 문자열로 지정됩니다.\n",
    "주요 값들은 pandas에서 제공하는 표준 시간 주기(Frequency Alias)입니다.\n",
    "\n",
    "\n",
    "Alias\t주기\t설명\n",
    "\n",
    "'S'\t초(Secondly)\t데이터를 초 단위로 변환\n",
    "'T' 또는 'min'\t분(Minutely)\t데이터를 분 단위로 변환\n",
    "'H'\t시간별(Hourly)\t데이터를 시간 단위로 변환\n",
    "\n",
    "'D'\t일별(Daily)\t데이터를 하루 단위로 변환\n",
    "'W'\t주별(Weekly)\t데이터를 주 단위로 변환\n",
    "'M'\t월별(Monthly)\t데이터를 월 단위로 변환(month end 월말)\n",
    "'MS'\t월 시작(Month Start)\t월의 첫 번째 날로 변환\n",
    "\n",
    "'Q'\t분기별(Quarterly)\t데이터를 분기 단위로 변환\n",
    "'QS'\t분기 시작(Quarter Start)\t분기의 첫 번째 날로 변환\n",
    "\n",
    "'Y' 또는 'A'\t연도별(Yearly/Annual)\t데이터를 연 단위로 변환\n",
    "'YS' 또는 'AS'\t연도 시작(Year Start)\t연도의 첫 번째 날로 변환\n",
    "\n",
    "'B'\t영업일(Business day)\t데이터를 영업일 단위로 변환"
   ]
  },
  {
   "cell_type": "code",
   "execution_count": 74,
   "id": "2ad2cbe9-ecd9-417a-93aa-194e8971094e",
   "metadata": {},
   "outputs": [
    {
     "name": "stdout",
     "output_type": "stream",
     "text": [
      "PeriodIndex(['2019-01-01', '2024-03-01', '2021-06-01'], dtype='period[D]')\n"
     ]
    }
   ],
   "source": [
    "pr_day = to_dates.to_period(freq='D')\n",
    "print(pr_day)"
   ]
  },
  {
   "cell_type": "code",
   "execution_count": 78,
   "id": "343b4eb1-2061-4faa-891a-cdb75f4aac7e",
   "metadata": {},
   "outputs": [
    {
     "name": "stdout",
     "output_type": "stream",
     "text": [
      "PeriodIndex(['2019-01', '2024-03', '2021-06'], dtype='period[M]')\n"
     ]
    }
   ],
   "source": [
    "pr_month = to_dates.to_period(freq='M')\n",
    "print(pr_month)"
   ]
  },
  {
   "cell_type": "code",
   "execution_count": 70,
   "id": "6558edbb-57af-4ed4-b541-3861e3746c49",
   "metadata": {},
   "outputs": [
    {
     "name": "stdout",
     "output_type": "stream",
     "text": [
      "PeriodIndex(['2019', '2024', '2021'], dtype='period[Y-DEC]')\n"
     ]
    }
   ],
   "source": [
    "pr_year = to_dates.to_period(freq='Y')\n",
    "print(pr_year)"
   ]
  },
  {
   "cell_type": "markdown",
   "id": "afdaa59e-a4db-49bf-aa25-51aa14ba147e",
   "metadata": {},
   "source": [
    "<br>\n",
    "<br>\n",
    "<br>"
   ]
  },
  {
   "cell_type": "markdown",
   "id": "721a4ed1-35b4-487c-bbd5-2cbd1b5482da",
   "metadata": {},
   "source": [
    "## 시계열 데이터 만들기 "
   ]
  },
  {
   "cell_type": "markdown",
   "id": "35828bef-bfa7-4c4a-b61b-ba6ee536f45e",
   "metadata": {},
   "source": [
    "Timestamp 배열 : pd.date_range()"
   ]
  },
  {
   "cell_type": "code",
   "execution_count": 121,
   "id": "f7464224-812d-42af-836d-56b081cebfbf",
   "metadata": {},
   "outputs": [
    {
     "name": "stdout",
     "output_type": "stream",
     "text": [
      "DatetimeIndex(['2019-01-01 00:00:00+09:00', '2019-02-01 00:00:00+09:00',\n",
      "               '2019-03-01 00:00:00+09:00', '2019-04-01 00:00:00+09:00',\n",
      "               '2019-05-01 00:00:00+09:00', '2019-06-01 00:00:00+09:00'],\n",
      "              dtype='datetime64[ns, Asia/Seoul]', freq='MS')\n"
     ]
    }
   ],
   "source": [
    "ts_arr = pd.date_range(start='2019-01-01', end=None, periods=6, freq='MS', tz='Asia/Seoul')\n",
    "print(ts_arr)"
   ]
  },
  {
   "cell_type": "code",
   "execution_count": 129,
   "id": "4a4f12e7-cb40-4c23-b5fd-b7d883bf90ea",
   "metadata": {},
   "outputs": [
    {
     "name": "stdout",
     "output_type": "stream",
     "text": [
      "DatetimeIndex(['2019-01-31 00:00:00+09:00', '2019-04-30 00:00:00+09:00',\n",
      "               '2019-07-31 00:00:00+09:00', '2019-10-31 00:00:00+09:00',\n",
      "               '2020-01-31 00:00:00+09:00', '2020-04-30 00:00:00+09:00'],\n",
      "              dtype='datetime64[ns, Asia/Seoul]', freq='3ME')\n"
     ]
    }
   ],
   "source": [
    "ts_arr = pd.date_range(start='2019-01-01', end=None, periods=6, freq='ME', tz='Asia/Seoul')\n",
    "print(ts_arr)"
   ]
  },
  {
   "cell_type": "markdown",
   "id": "de254692-e7d6-4c14-b16c-495f4e858519",
   "metadata": {},
   "source": [
    "freq='3ME' 입력시 3개월 간격으로 생성 "
   ]
  },
  {
   "cell_type": "markdown",
   "id": "6025c6a5-46f0-47b5-8f19-1cadf1eb54cd",
   "metadata": {},
   "source": [
    "Period 배열 : pd.period_range()"
   ]
  },
  {
   "cell_type": "code",
   "execution_count": 152,
   "id": "2084042d-7709-44f5-9161-c103cab44104",
   "metadata": {},
   "outputs": [
    {
     "name": "stdout",
     "output_type": "stream",
     "text": [
      "PeriodIndex(['2019-01-01 00:00', '2019-01-01 04:00', '2019-01-01 08:00'], dtype='period[4h]')\n"
     ]
    }
   ],
   "source": [
    "pr_arr = pd.period_range(start='2019-01-01', end=None, periods=3, freq='4h')\n",
    "print(pr_arr)"
   ]
  },
  {
   "cell_type": "markdown",
   "id": "e2296e73-e64b-4b70-aaf5-499e911ff64c",
   "metadata": {},
   "source": [
    "<br>\n",
    "<br>\n",
    "<br>"
   ]
  },
  {
   "cell_type": "code",
   "execution_count": null,
   "id": "03771b45-cfcc-4023-b79b-3af860c66c08",
   "metadata": {},
   "outputs": [],
   "source": [
    "## 날짜 데이터 분리"
   ]
  },
  {
   "cell_type": "code",
   "execution_count": 163,
   "id": "7f680ed2-dbf4-4c3e-9d64-d1a1b671f7d5",
   "metadata": {},
   "outputs": [
    {
     "data": {
      "text/html": [
       "<div>\n",
       "<style scoped>\n",
       "    .dataframe tbody tr th:only-of-type {\n",
       "        vertical-align: middle;\n",
       "    }\n",
       "\n",
       "    .dataframe tbody tr th {\n",
       "        vertical-align: top;\n",
       "    }\n",
       "\n",
       "    .dataframe thead th {\n",
       "        text-align: right;\n",
       "    }\n",
       "</style>\n",
       "<table border=\"1\" class=\"dataframe\">\n",
       "  <thead>\n",
       "    <tr style=\"text-align: right;\">\n",
       "      <th></th>\n",
       "      <th>Date</th>\n",
       "      <th>Close</th>\n",
       "      <th>Start</th>\n",
       "      <th>High</th>\n",
       "      <th>Low</th>\n",
       "      <th>Volume</th>\n",
       "      <th>new_date</th>\n",
       "    </tr>\n",
       "  </thead>\n",
       "  <tbody>\n",
       "    <tr>\n",
       "      <th>0</th>\n",
       "      <td>2018-07-02</td>\n",
       "      <td>10100</td>\n",
       "      <td>10850</td>\n",
       "      <td>10900</td>\n",
       "      <td>10000</td>\n",
       "      <td>137977</td>\n",
       "      <td>2018-07-02</td>\n",
       "    </tr>\n",
       "    <tr>\n",
       "      <th>1</th>\n",
       "      <td>2018-06-29</td>\n",
       "      <td>10700</td>\n",
       "      <td>10550</td>\n",
       "      <td>10900</td>\n",
       "      <td>9990</td>\n",
       "      <td>170253</td>\n",
       "      <td>2018-06-29</td>\n",
       "    </tr>\n",
       "    <tr>\n",
       "      <th>2</th>\n",
       "      <td>2018-06-28</td>\n",
       "      <td>10400</td>\n",
       "      <td>10900</td>\n",
       "      <td>10950</td>\n",
       "      <td>10150</td>\n",
       "      <td>155769</td>\n",
       "      <td>2018-06-28</td>\n",
       "    </tr>\n",
       "    <tr>\n",
       "      <th>3</th>\n",
       "      <td>2018-06-27</td>\n",
       "      <td>10900</td>\n",
       "      <td>10800</td>\n",
       "      <td>11050</td>\n",
       "      <td>10500</td>\n",
       "      <td>133548</td>\n",
       "      <td>2018-06-27</td>\n",
       "    </tr>\n",
       "    <tr>\n",
       "      <th>4</th>\n",
       "      <td>2018-06-26</td>\n",
       "      <td>10800</td>\n",
       "      <td>10900</td>\n",
       "      <td>11000</td>\n",
       "      <td>10700</td>\n",
       "      <td>63039</td>\n",
       "      <td>2018-06-26</td>\n",
       "    </tr>\n",
       "  </tbody>\n",
       "</table>\n",
       "</div>"
      ],
      "text/plain": [
       "         Date  Close  Start   High    Low  Volume   new_date\n",
       "0  2018-07-02  10100  10850  10900  10000  137977 2018-07-02\n",
       "1  2018-06-29  10700  10550  10900   9990  170253 2018-06-29\n",
       "2  2018-06-28  10400  10900  10950  10150  155769 2018-06-28\n",
       "3  2018-06-27  10900  10800  11050  10500  133548 2018-06-27\n",
       "4  2018-06-26  10800  10900  11000  10700   63039 2018-06-26"
      ]
     },
     "execution_count": 163,
     "metadata": {},
     "output_type": "execute_result"
    }
   ],
   "source": [
    "stock = pd.read_csv('data/stock-data.csv')\n",
    "stock['new_date'] = pd.to_datetime(stock['Date'])\n",
    "stock.head()"
   ]
  },
  {
   "cell_type": "code",
   "execution_count": 167,
   "id": "3a774315-6dd4-4fed-948b-9d8f50a57dee",
   "metadata": {},
   "outputs": [],
   "source": [
    "stock['year'] = stock['new_date'].dt.year"
   ]
  },
  {
   "cell_type": "code",
   "execution_count": 169,
   "id": "a750f987-e849-4873-8380-8c0252a74ce2",
   "metadata": {},
   "outputs": [],
   "source": [
    "stock['month'] = stock['new_date'].dt.month"
   ]
  },
  {
   "cell_type": "code",
   "execution_count": 171,
   "id": "778f7c1e-00f6-4192-b05e-d5297a937110",
   "metadata": {},
   "outputs": [],
   "source": [
    "stock['day'] = stock['new_date'].dt.day"
   ]
  },
  {
   "cell_type": "code",
   "execution_count": 173,
   "id": "1887456d-40ec-413c-ba8a-7507a590c528",
   "metadata": {},
   "outputs": [
    {
     "data": {
      "text/html": [
       "<div>\n",
       "<style scoped>\n",
       "    .dataframe tbody tr th:only-of-type {\n",
       "        vertical-align: middle;\n",
       "    }\n",
       "\n",
       "    .dataframe tbody tr th {\n",
       "        vertical-align: top;\n",
       "    }\n",
       "\n",
       "    .dataframe thead th {\n",
       "        text-align: right;\n",
       "    }\n",
       "</style>\n",
       "<table border=\"1\" class=\"dataframe\">\n",
       "  <thead>\n",
       "    <tr style=\"text-align: right;\">\n",
       "      <th></th>\n",
       "      <th>Date</th>\n",
       "      <th>Close</th>\n",
       "      <th>Start</th>\n",
       "      <th>High</th>\n",
       "      <th>Low</th>\n",
       "      <th>Volume</th>\n",
       "      <th>new_date</th>\n",
       "      <th>year</th>\n",
       "      <th>month</th>\n",
       "      <th>day</th>\n",
       "    </tr>\n",
       "  </thead>\n",
       "  <tbody>\n",
       "    <tr>\n",
       "      <th>0</th>\n",
       "      <td>2018-07-02</td>\n",
       "      <td>10100</td>\n",
       "      <td>10850</td>\n",
       "      <td>10900</td>\n",
       "      <td>10000</td>\n",
       "      <td>137977</td>\n",
       "      <td>2018-07-02</td>\n",
       "      <td>2018</td>\n",
       "      <td>7</td>\n",
       "      <td>2</td>\n",
       "    </tr>\n",
       "    <tr>\n",
       "      <th>1</th>\n",
       "      <td>2018-06-29</td>\n",
       "      <td>10700</td>\n",
       "      <td>10550</td>\n",
       "      <td>10900</td>\n",
       "      <td>9990</td>\n",
       "      <td>170253</td>\n",
       "      <td>2018-06-29</td>\n",
       "      <td>2018</td>\n",
       "      <td>6</td>\n",
       "      <td>29</td>\n",
       "    </tr>\n",
       "    <tr>\n",
       "      <th>2</th>\n",
       "      <td>2018-06-28</td>\n",
       "      <td>10400</td>\n",
       "      <td>10900</td>\n",
       "      <td>10950</td>\n",
       "      <td>10150</td>\n",
       "      <td>155769</td>\n",
       "      <td>2018-06-28</td>\n",
       "      <td>2018</td>\n",
       "      <td>6</td>\n",
       "      <td>28</td>\n",
       "    </tr>\n",
       "    <tr>\n",
       "      <th>3</th>\n",
       "      <td>2018-06-27</td>\n",
       "      <td>10900</td>\n",
       "      <td>10800</td>\n",
       "      <td>11050</td>\n",
       "      <td>10500</td>\n",
       "      <td>133548</td>\n",
       "      <td>2018-06-27</td>\n",
       "      <td>2018</td>\n",
       "      <td>6</td>\n",
       "      <td>27</td>\n",
       "    </tr>\n",
       "    <tr>\n",
       "      <th>4</th>\n",
       "      <td>2018-06-26</td>\n",
       "      <td>10800</td>\n",
       "      <td>10900</td>\n",
       "      <td>11000</td>\n",
       "      <td>10700</td>\n",
       "      <td>63039</td>\n",
       "      <td>2018-06-26</td>\n",
       "      <td>2018</td>\n",
       "      <td>6</td>\n",
       "      <td>26</td>\n",
       "    </tr>\n",
       "  </tbody>\n",
       "</table>\n",
       "</div>"
      ],
      "text/plain": [
       "         Date  Close  Start   High    Low  Volume   new_date  year  month  day\n",
       "0  2018-07-02  10100  10850  10900  10000  137977 2018-07-02  2018      7    2\n",
       "1  2018-06-29  10700  10550  10900   9990  170253 2018-06-29  2018      6   29\n",
       "2  2018-06-28  10400  10900  10950  10150  155769 2018-06-28  2018      6   28\n",
       "3  2018-06-27  10900  10800  11050  10500  133548 2018-06-27  2018      6   27\n",
       "4  2018-06-26  10800  10900  11000  10700   63039 2018-06-26  2018      6   26"
      ]
     },
     "execution_count": 173,
     "metadata": {},
     "output_type": "execute_result"
    }
   ],
   "source": [
    "stock.head()"
   ]
  },
  {
   "cell_type": "code",
   "execution_count": null,
   "id": "97533742-a82f-4836-9270-7e6af167bbc1",
   "metadata": {},
   "outputs": [],
   "source": []
  }
 ],
 "metadata": {
  "kernelspec": {
   "display_name": "Python [conda env:base] *",
   "language": "python",
   "name": "conda-base-py"
  },
  "language_info": {
   "codemirror_mode": {
    "name": "ipython",
    "version": 3
   },
   "file_extension": ".py",
   "mimetype": "text/x-python",
   "name": "python",
   "nbconvert_exporter": "python",
   "pygments_lexer": "ipython3",
   "version": "3.12.7"
  }
 },
 "nbformat": 4,
 "nbformat_minor": 5
}
