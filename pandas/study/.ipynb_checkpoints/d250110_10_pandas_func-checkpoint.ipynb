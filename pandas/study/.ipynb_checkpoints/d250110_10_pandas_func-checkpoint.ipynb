{
 "cells": [
  {
   "cell_type": "markdown",
   "id": "f12012ef-3351-4170-af50-f56c058da2f9",
   "metadata": {},
   "source": [
    "### 함수 매핑\n",
    "- 시리즈 또는 데이터프레임의 개별 원소를 특정함수에 일대일 대응시키는 과정\n",
    "- 사용자가 직접 만든 함수(lambda 함수 포함)를 적용할 수 있어서 판다스 기본 함수로 처리하기 어려운 복잡한 연산을 적용하는 것이 가능함"
   ]
  },
  {
   "cell_type": "markdown",
   "id": "7ab5a93d-b0fd-4759-a3f9-c13033301ab2",
   "metadata": {},
   "source": [
    "#### 개별 원소에 함수 매핑\n",
    "- 시리즈 원소에 함수 매핑\n",
    "  - 시리즈 객체에 apply() 함수를 적용하면 인자로 전달하는 매핑 함수에 시리즈의 모든 원소를 하나씩 입력하고 함수의 리턴값을 리턴\n",
    "  - 시리즈 원소의 개수만큼 리턴값을 받아서 같은 크기의 시리즈 객체로 반환\n",
    "  - **Series객체.apply(매핑 함수)**"
   ]
  },
  {
   "cell_type": "markdown",
   "id": "1456349e-05e1-4316-8051-0777b5d90d1f",
   "metadata": {},
   "source": [
    "titanic 데이터셋에서 숫자 데이터로 구성된 2개의 열('age', 'fare')을 선택하고, 숫자 10을 원소 값으로 갖는 새로운 열('ten')을 추가"
   ]
  },
  {
   "cell_type": "code",
   "execution_count": 4,
   "id": "e7c895ec-e4be-47ce-aa66-1469d7c63244",
   "metadata": {},
   "outputs": [],
   "source": [
    "import seaborn as sns\n",
    "import pandas as pd"
   ]
  },
  {
   "cell_type": "code",
   "execution_count": 5,
   "id": "3a0352c5-a696-4bba-b4b4-2b8246b8389d",
   "metadata": {},
   "outputs": [
    {
     "data": {
      "text/html": [
       "<div>\n",
       "<style scoped>\n",
       "    .dataframe tbody tr th:only-of-type {\n",
       "        vertical-align: middle;\n",
       "    }\n",
       "\n",
       "    .dataframe tbody tr th {\n",
       "        vertical-align: top;\n",
       "    }\n",
       "\n",
       "    .dataframe thead th {\n",
       "        text-align: right;\n",
       "    }\n",
       "</style>\n",
       "<table border=\"1\" class=\"dataframe\">\n",
       "  <thead>\n",
       "    <tr style=\"text-align: right;\">\n",
       "      <th></th>\n",
       "      <th>age</th>\n",
       "      <th>fare</th>\n",
       "      <th>ten</th>\n",
       "    </tr>\n",
       "  </thead>\n",
       "  <tbody>\n",
       "    <tr>\n",
       "      <th>0</th>\n",
       "      <td>22.0</td>\n",
       "      <td>7.2500</td>\n",
       "      <td>10</td>\n",
       "    </tr>\n",
       "    <tr>\n",
       "      <th>1</th>\n",
       "      <td>38.0</td>\n",
       "      <td>71.2833</td>\n",
       "      <td>10</td>\n",
       "    </tr>\n",
       "    <tr>\n",
       "      <th>2</th>\n",
       "      <td>26.0</td>\n",
       "      <td>7.9250</td>\n",
       "      <td>10</td>\n",
       "    </tr>\n",
       "    <tr>\n",
       "      <th>3</th>\n",
       "      <td>35.0</td>\n",
       "      <td>53.1000</td>\n",
       "      <td>10</td>\n",
       "    </tr>\n",
       "    <tr>\n",
       "      <th>4</th>\n",
       "      <td>35.0</td>\n",
       "      <td>8.0500</td>\n",
       "      <td>10</td>\n",
       "    </tr>\n",
       "  </tbody>\n",
       "</table>\n",
       "</div>"
      ],
      "text/plain": [
       "    age     fare  ten\n",
       "0  22.0   7.2500   10\n",
       "1  38.0  71.2833   10\n",
       "2  26.0   7.9250   10\n",
       "3  35.0  53.1000   10\n",
       "4  35.0   8.0500   10"
      ]
     },
     "execution_count": 5,
     "metadata": {},
     "output_type": "execute_result"
    }
   ],
   "source": [
    "titanic = sns.load_dataset('titanic')\n",
    "df = titanic.loc[:, ['age', 'fare']]\n",
    "df['ten'] =  10\n",
    "df.head()"
   ]
  },
  {
   "cell_type": "markdown",
   "id": "e518e0e0-3a5f-4102-a5b9-829fb247c1f6",
   "metadata": {},
   "source": [
    "두 개의 함수 정의\n",
    "- add_10(n) 함수 : 매개변수로 받아온 값에 10을 더하는 기능\n",
    "- add_two_obj(a, b) 함수 : 매개변수로 받아온 2개의 값을 더하는 기능"
   ]
  },
  {
   "cell_type": "code",
   "execution_count": 7,
   "id": "2f022221-972e-4d9b-ac2c-f9a90d829bd3",
   "metadata": {},
   "outputs": [
    {
     "name": "stdout",
     "output_type": "stream",
     "text": [
      "20\n",
      "20\n"
     ]
    }
   ],
   "source": [
    "def add_10(n):\n",
    "    return n + 10\n",
    "\n",
    "def add_two_obj(a, f):\n",
    "    return a + f\n",
    "\n",
    "print(add_10(10))\n",
    "print(add_two_obj(10, 10))"
   ]
  },
  {
   "cell_type": "markdown",
   "id": "24fcc7b2-90f0-4165-b551-5590c63cb196",
   "metadata": {},
   "source": [
    "**apply() 함수 이용**"
   ]
  },
  {
   "cell_type": "markdown",
   "id": "a3552d84-d096-4171-8b84-84bcff559672",
   "metadata": {},
   "source": [
    "df['age']열에 add_10 함수를 매핑하면 모든 원소에 숫자 10을 더한 결과를 리턴(결과는 시리즈)"
   ]
  },
  {
   "cell_type": "code",
   "execution_count": 10,
   "id": "804a7055-f66a-4cda-bf7f-e354f892f5f6",
   "metadata": {},
   "outputs": [
    {
     "data": {
      "text/plain": [
       "0    32.0\n",
       "1    48.0\n",
       "2    36.0\n",
       "3    45.0\n",
       "4    45.0\n",
       "Name: age, dtype: float64"
      ]
     },
     "execution_count": 10,
     "metadata": {},
     "output_type": "execute_result"
    }
   ],
   "source": [
    "sr1 = df['age'].apply(add_10)\n",
    "sr1.head()"
   ]
  },
  {
   "cell_type": "code",
   "execution_count": 11,
   "id": "457402b6-0ac2-42b7-85f2-4acbb86ac3be",
   "metadata": {},
   "outputs": [
    {
     "data": {
      "text/plain": [
       "0    32.0\n",
       "1    48.0\n",
       "2    36.0\n",
       "3    45.0\n",
       "4    45.0\n",
       "Name: age, dtype: float64"
      ]
     },
     "execution_count": 11,
     "metadata": {},
     "output_type": "execute_result"
    }
   ],
   "source": [
    "sr2 = df['age'].apply(add_two_obj , f =10)\n",
    "sr2.head()"
   ]
  },
  {
   "cell_type": "code",
   "execution_count": 12,
   "id": "66c6252d-36e3-4a75-809e-c30c5f9bdeec",
   "metadata": {},
   "outputs": [
    {
     "data": {
      "text/plain": [
       "0    32.0\n",
       "1    48.0\n",
       "2    36.0\n",
       "3    45.0\n",
       "4    45.0\n",
       "Name: age, dtype: float64"
      ]
     },
     "execution_count": 12,
     "metadata": {},
     "output_type": "execute_result"
    }
   ],
   "source": [
    "sr3 = df['age'].apply(lambda x: x + 10)\n",
    "sr3.head()"
   ]
  },
  {
   "cell_type": "code",
   "execution_count": 13,
   "id": "c2c97de1-0550-4d04-a920-06e69bf9d7f3",
   "metadata": {},
   "outputs": [
    {
     "data": {
      "text/plain": [
       "0    32.0\n",
       "1    48.0\n",
       "2    36.0\n",
       "3    45.0\n",
       "4    45.0\n",
       "Name: age, dtype: float64"
      ]
     },
     "execution_count": 13,
     "metadata": {},
     "output_type": "execute_result"
    }
   ],
   "source": [
    "sr4 = df['age'].apply(lambda x : add_10(x))\n",
    "sr4.head()"
   ]
  },
  {
   "cell_type": "code",
   "execution_count": 14,
   "id": "9c7cf856-4de0-445c-a457-8f55434ffbc0",
   "metadata": {},
   "outputs": [
    {
     "data": {
      "text/plain": [
       "0    32.0\n",
       "1    48.0\n",
       "2    36.0\n",
       "3    45.0\n",
       "4    45.0\n",
       "Name: age, dtype: float64"
      ]
     },
     "execution_count": 14,
     "metadata": {},
     "output_type": "execute_result"
    }
   ],
   "source": [
    "sr5 = df['age'].apply(lambda a, b: a + b , b = 10)\n",
    "sr5.head()"
   ]
  },
  {
   "cell_type": "code",
   "execution_count": 15,
   "id": "c84781f7-6189-45e6-ab4e-cc5a6e068961",
   "metadata": {},
   "outputs": [
    {
     "data": {
      "text/plain": [
       "0    32.0\n",
       "1    48.0\n",
       "2    36.0\n",
       "3    45.0\n",
       "4    45.0\n",
       "Name: age, dtype: float64"
      ]
     },
     "execution_count": 15,
     "metadata": {},
     "output_type": "execute_result"
    }
   ],
   "source": [
    "sr6 = df['age'].apply(lambda a, b, c: a + b + c , b = 5, c = 5)\n",
    "sr6.head()"
   ]
  },
  {
   "cell_type": "code",
   "execution_count": 16,
   "id": "77d78e8c-1ab1-4e42-85a5-911ac19e9932",
   "metadata": {},
   "outputs": [
    {
     "data": {
      "text/plain": [
       "0    False\n",
       "1     True\n",
       "2    False\n",
       "3     True\n",
       "4     True\n",
       "Name: age, dtype: bool"
      ]
     },
     "execution_count": 16,
     "metadata": {},
     "output_type": "execute_result"
    }
   ],
   "source": [
    "def over_thirty(n):\n",
    "    return n > 30\n",
    "\n",
    "sr7 = df['age'].apply(over_thirty)\n",
    "sr7.head()"
   ]
  },
  {
   "cell_type": "code",
   "execution_count": 17,
   "id": "4e78e347-70ce-4164-808c-9d35638bed98",
   "metadata": {},
   "outputs": [
    {
     "data": {
      "text/plain": [
       "0    False\n",
       "1     True\n",
       "2    False\n",
       "3     True\n",
       "4     True\n",
       "Name: age, dtype: bool"
      ]
     },
     "execution_count": 17,
     "metadata": {},
     "output_type": "execute_result"
    }
   ],
   "source": [
    "def over_thirty(n):\n",
    "    return n > 30\n",
    "\n",
    "sr7 = df['age'].map(over_thirty)\n",
    "sr7.head()"
   ]
  },
  {
   "cell_type": "code",
   "execution_count": 18,
   "id": "08cd80d2-c5be-4102-9597-e6e7fe2dae6d",
   "metadata": {},
   "outputs": [
    {
     "data": {
      "text/plain": [
       "0    False\n",
       "1     True\n",
       "2    False\n",
       "3     True\n",
       "4     True\n",
       "Name: age, dtype: bool"
      ]
     },
     "execution_count": 18,
     "metadata": {},
     "output_type": "execute_result"
    }
   ],
   "source": [
    "sr8 = df['age'].apply(lambda x : x > 30)\n",
    "sr8.head()"
   ]
  },
  {
   "cell_type": "code",
   "execution_count": 19,
   "id": "6cc49fb7-cd36-4335-9608-e2c37a40ef65",
   "metadata": {},
   "outputs": [
    {
     "data": {
      "text/plain": [
       "0    False\n",
       "1     True\n",
       "2    False\n",
       "3     True\n",
       "4     True\n",
       "Name: age, dtype: bool"
      ]
     },
     "execution_count": 19,
     "metadata": {},
     "output_type": "execute_result"
    }
   ],
   "source": [
    "sr8 = df['age'].map(lambda x : x > 30)\n",
    "sr8.head()"
   ]
  },
  {
   "cell_type": "code",
   "execution_count": 20,
   "id": "35d4396f-3ede-4846-8732-cf26cbc8676d",
   "metadata": {},
   "outputs": [
    {
     "data": {
      "text/plain": [
       "0    미성년\n",
       "1     성인\n",
       "2    미성년\n",
       "3     성인\n",
       "4     성인\n",
       "Name: age, dtype: object"
      ]
     },
     "execution_count": 20,
     "metadata": {},
     "output_type": "execute_result"
    }
   ],
   "source": [
    "sr9 = df['age'].map(lambda x : '성인' if x > 30 else '미성년')\n",
    "sr9.head()"
   ]
  },
  {
   "cell_type": "markdown",
   "id": "98564fba-db38-4e58-9dbd-3040e7a63a99",
   "metadata": {},
   "source": [
    "**성별(sex)이 male이면 '남자', female이면 '여자'를 구하는 gender 시리즈 구하기**"
   ]
  },
  {
   "cell_type": "code",
   "execution_count": 22,
   "id": "e91f14c8-295d-4a7a-9245-83b59ed98f24",
   "metadata": {},
   "outputs": [
    {
     "data": {
      "text/plain": [
       "0    남자\n",
       "1    여자\n",
       "2    여자\n",
       "3    여자\n",
       "4    남자\n",
       "Name: sex, dtype: object"
      ]
     },
     "execution_count": 22,
     "metadata": {},
     "output_type": "execute_result"
    }
   ],
   "source": [
    "gender = titanic['sex'].map(lambda x : '남자' if x == 'male' else '여자')\n",
    "gender.head()"
   ]
  },
  {
   "cell_type": "code",
   "execution_count": 23,
   "id": "0cc99227-1f8a-406d-9442-c882214a4134",
   "metadata": {},
   "outputs": [
    {
     "data": {
      "text/plain": [
       "0      male\n",
       "1    female\n",
       "2    female\n",
       "3    female\n",
       "4      male\n",
       "Name: sex, dtype: object"
      ]
     },
     "execution_count": 23,
     "metadata": {},
     "output_type": "execute_result"
    }
   ],
   "source": [
    "titanic['sex'].head()"
   ]
  },
  {
   "cell_type": "code",
   "execution_count": null,
   "id": "3a409f49-5408-4f3c-939b-08ffe1cf90d6",
   "metadata": {},
   "outputs": [],
   "source": []
  },
  {
   "cell_type": "markdown",
   "id": "fb5d734d-c338-42c3-a9ad-6ba898e2dbdd",
   "metadata": {},
   "source": [
    "- 데이터프레임 원소에 함수 매핑\n",
    "  - 데이터프레임의 개별 원소에 특정함수를 매핑하려면 map() 함수를 활용\n",
    "  - 매핑 함수에 데이터프레임의 각 원소를 하나씩 넣어서 리턴값으로 리턴받음\n",
    "  - 원소의 원래 위치에 매핑 함수의 리턴값을 입력하여 동일한 형태의 데이터프레임이 만들어진다.\n",
    "  - **DataFrame객체.map(매핑 함수)**"
   ]
  },
  {
   "cell_type": "markdown",
   "id": "e6fadffb-a9f7-41ec-9317-cb706516bc04",
   "metadata": {},
   "source": [
    "titanic 데이터셋에서 age, fare 열을 df으로 만들고, add_10 함수와 add_two_obj 함수를 만들어 보자"
   ]
  },
  {
   "cell_type": "code",
   "execution_count": 26,
   "id": "d41049eb-ab31-4bb3-8790-5e47a8681e18",
   "metadata": {},
   "outputs": [],
   "source": [
    "titanic = sns.load_dataset('titanic')\n",
    "df = titanic.loc[:,['age', 'fare']]\n",
    "\n",
    "def add_10(n):\n",
    "    return n + 10\n",
    "\n",
    "def add_two_obj(a, b):\n",
    "    return a + b"
   ]
  },
  {
   "cell_type": "code",
   "execution_count": 27,
   "id": "e63940e4-c182-4e13-9941-d4d0f4ebf03c",
   "metadata": {},
   "outputs": [
    {
     "data": {
      "text/html": [
       "<div>\n",
       "<style scoped>\n",
       "    .dataframe tbody tr th:only-of-type {\n",
       "        vertical-align: middle;\n",
       "    }\n",
       "\n",
       "    .dataframe tbody tr th {\n",
       "        vertical-align: top;\n",
       "    }\n",
       "\n",
       "    .dataframe thead th {\n",
       "        text-align: right;\n",
       "    }\n",
       "</style>\n",
       "<table border=\"1\" class=\"dataframe\">\n",
       "  <thead>\n",
       "    <tr style=\"text-align: right;\">\n",
       "      <th></th>\n",
       "      <th>age</th>\n",
       "      <th>fare</th>\n",
       "    </tr>\n",
       "  </thead>\n",
       "  <tbody>\n",
       "    <tr>\n",
       "      <th>0</th>\n",
       "      <td>22.0</td>\n",
       "      <td>7.2500</td>\n",
       "    </tr>\n",
       "    <tr>\n",
       "      <th>1</th>\n",
       "      <td>38.0</td>\n",
       "      <td>71.2833</td>\n",
       "    </tr>\n",
       "    <tr>\n",
       "      <th>2</th>\n",
       "      <td>26.0</td>\n",
       "      <td>7.9250</td>\n",
       "    </tr>\n",
       "    <tr>\n",
       "      <th>3</th>\n",
       "      <td>35.0</td>\n",
       "      <td>53.1000</td>\n",
       "    </tr>\n",
       "    <tr>\n",
       "      <th>4</th>\n",
       "      <td>35.0</td>\n",
       "      <td>8.0500</td>\n",
       "    </tr>\n",
       "  </tbody>\n",
       "</table>\n",
       "</div>"
      ],
      "text/plain": [
       "    age     fare\n",
       "0  22.0   7.2500\n",
       "1  38.0  71.2833\n",
       "2  26.0   7.9250\n",
       "3  35.0  53.1000\n",
       "4  35.0   8.0500"
      ]
     },
     "execution_count": 27,
     "metadata": {},
     "output_type": "execute_result"
    }
   ],
   "source": [
    "df.head()"
   ]
  },
  {
   "cell_type": "code",
   "execution_count": 28,
   "id": "67fd1693-7f02-4b5d-b895-66615b25bc4b",
   "metadata": {},
   "outputs": [
    {
     "data": {
      "text/html": [
       "<div>\n",
       "<style scoped>\n",
       "    .dataframe tbody tr th:only-of-type {\n",
       "        vertical-align: middle;\n",
       "    }\n",
       "\n",
       "    .dataframe tbody tr th {\n",
       "        vertical-align: top;\n",
       "    }\n",
       "\n",
       "    .dataframe thead th {\n",
       "        text-align: right;\n",
       "    }\n",
       "</style>\n",
       "<table border=\"1\" class=\"dataframe\">\n",
       "  <thead>\n",
       "    <tr style=\"text-align: right;\">\n",
       "      <th></th>\n",
       "      <th>age</th>\n",
       "      <th>fare</th>\n",
       "    </tr>\n",
       "  </thead>\n",
       "  <tbody>\n",
       "    <tr>\n",
       "      <th>0</th>\n",
       "      <td>32.0</td>\n",
       "      <td>17.2500</td>\n",
       "    </tr>\n",
       "    <tr>\n",
       "      <th>1</th>\n",
       "      <td>48.0</td>\n",
       "      <td>81.2833</td>\n",
       "    </tr>\n",
       "    <tr>\n",
       "      <th>2</th>\n",
       "      <td>36.0</td>\n",
       "      <td>17.9250</td>\n",
       "    </tr>\n",
       "    <tr>\n",
       "      <th>3</th>\n",
       "      <td>45.0</td>\n",
       "      <td>63.1000</td>\n",
       "    </tr>\n",
       "    <tr>\n",
       "      <th>4</th>\n",
       "      <td>45.0</td>\n",
       "      <td>18.0500</td>\n",
       "    </tr>\n",
       "  </tbody>\n",
       "</table>\n",
       "</div>"
      ],
      "text/plain": [
       "    age     fare\n",
       "0  32.0  17.2500\n",
       "1  48.0  81.2833\n",
       "2  36.0  17.9250\n",
       "3  45.0  63.1000\n",
       "4  45.0  18.0500"
      ]
     },
     "execution_count": 28,
     "metadata": {},
     "output_type": "execute_result"
    }
   ],
   "source": [
    "df_map = df.map(add_10)\n",
    "df_map.head()"
   ]
  },
  {
   "cell_type": "code",
   "execution_count": 29,
   "id": "5d4eeed7-46d5-4e53-8fc9-8f37cadb9ae0",
   "metadata": {},
   "outputs": [
    {
     "data": {
      "text/html": [
       "<div>\n",
       "<style scoped>\n",
       "    .dataframe tbody tr th:only-of-type {\n",
       "        vertical-align: middle;\n",
       "    }\n",
       "\n",
       "    .dataframe tbody tr th {\n",
       "        vertical-align: top;\n",
       "    }\n",
       "\n",
       "    .dataframe thead th {\n",
       "        text-align: right;\n",
       "    }\n",
       "</style>\n",
       "<table border=\"1\" class=\"dataframe\">\n",
       "  <thead>\n",
       "    <tr style=\"text-align: right;\">\n",
       "      <th></th>\n",
       "      <th>age</th>\n",
       "      <th>fare</th>\n",
       "    </tr>\n",
       "  </thead>\n",
       "  <tbody>\n",
       "    <tr>\n",
       "      <th>0</th>\n",
       "      <td>32.0</td>\n",
       "      <td>17.2500</td>\n",
       "    </tr>\n",
       "    <tr>\n",
       "      <th>1</th>\n",
       "      <td>48.0</td>\n",
       "      <td>81.2833</td>\n",
       "    </tr>\n",
       "    <tr>\n",
       "      <th>2</th>\n",
       "      <td>36.0</td>\n",
       "      <td>17.9250</td>\n",
       "    </tr>\n",
       "    <tr>\n",
       "      <th>3</th>\n",
       "      <td>45.0</td>\n",
       "      <td>63.1000</td>\n",
       "    </tr>\n",
       "    <tr>\n",
       "      <th>4</th>\n",
       "      <td>45.0</td>\n",
       "      <td>18.0500</td>\n",
       "    </tr>\n",
       "  </tbody>\n",
       "</table>\n",
       "</div>"
      ],
      "text/plain": [
       "    age     fare\n",
       "0  32.0  17.2500\n",
       "1  48.0  81.2833\n",
       "2  36.0  17.9250\n",
       "3  45.0  63.1000\n",
       "4  45.0  18.0500"
      ]
     },
     "execution_count": 29,
     "metadata": {},
     "output_type": "execute_result"
    }
   ],
   "source": [
    "df2 = df.map(lambda x : x + 10)\n",
    "df2.head()"
   ]
  },
  {
   "cell_type": "code",
   "execution_count": 30,
   "id": "d3a9574b-1143-418f-9cf7-d34f90328360",
   "metadata": {},
   "outputs": [
    {
     "data": {
      "text/html": [
       "<div>\n",
       "<style scoped>\n",
       "    .dataframe tbody tr th:only-of-type {\n",
       "        vertical-align: middle;\n",
       "    }\n",
       "\n",
       "    .dataframe tbody tr th {\n",
       "        vertical-align: top;\n",
       "    }\n",
       "\n",
       "    .dataframe thead th {\n",
       "        text-align: right;\n",
       "    }\n",
       "</style>\n",
       "<table border=\"1\" class=\"dataframe\">\n",
       "  <thead>\n",
       "    <tr style=\"text-align: right;\">\n",
       "      <th></th>\n",
       "      <th>age</th>\n",
       "      <th>fare</th>\n",
       "    </tr>\n",
       "  </thead>\n",
       "  <tbody>\n",
       "    <tr>\n",
       "      <th>0</th>\n",
       "      <td>32.0</td>\n",
       "      <td>17.2500</td>\n",
       "    </tr>\n",
       "    <tr>\n",
       "      <th>1</th>\n",
       "      <td>48.0</td>\n",
       "      <td>81.2833</td>\n",
       "    </tr>\n",
       "    <tr>\n",
       "      <th>2</th>\n",
       "      <td>36.0</td>\n",
       "      <td>17.9250</td>\n",
       "    </tr>\n",
       "    <tr>\n",
       "      <th>3</th>\n",
       "      <td>45.0</td>\n",
       "      <td>63.1000</td>\n",
       "    </tr>\n",
       "    <tr>\n",
       "      <th>4</th>\n",
       "      <td>45.0</td>\n",
       "      <td>18.0500</td>\n",
       "    </tr>\n",
       "  </tbody>\n",
       "</table>\n",
       "</div>"
      ],
      "text/plain": [
       "    age     fare\n",
       "0  32.0  17.2500\n",
       "1  48.0  81.2833\n",
       "2  36.0  17.9250\n",
       "3  45.0  63.1000\n",
       "4  45.0  18.0500"
      ]
     },
     "execution_count": 30,
     "metadata": {},
     "output_type": "execute_result"
    }
   ],
   "source": [
    "df3 = df.map(add_two_obj, b = 10)\n",
    "df3.head()"
   ]
  },
  {
   "cell_type": "code",
   "execution_count": 31,
   "id": "94a3f4ec-d148-494d-a89f-dd5b065de177",
   "metadata": {},
   "outputs": [
    {
     "data": {
      "text/html": [
       "<div>\n",
       "<style scoped>\n",
       "    .dataframe tbody tr th:only-of-type {\n",
       "        vertical-align: middle;\n",
       "    }\n",
       "\n",
       "    .dataframe tbody tr th {\n",
       "        vertical-align: top;\n",
       "    }\n",
       "\n",
       "    .dataframe thead th {\n",
       "        text-align: right;\n",
       "    }\n",
       "</style>\n",
       "<table border=\"1\" class=\"dataframe\">\n",
       "  <thead>\n",
       "    <tr style=\"text-align: right;\">\n",
       "      <th></th>\n",
       "      <th>age</th>\n",
       "      <th>fare</th>\n",
       "    </tr>\n",
       "  </thead>\n",
       "  <tbody>\n",
       "    <tr>\n",
       "      <th>0</th>\n",
       "      <td>32.0</td>\n",
       "      <td>17.2500</td>\n",
       "    </tr>\n",
       "    <tr>\n",
       "      <th>1</th>\n",
       "      <td>48.0</td>\n",
       "      <td>81.2833</td>\n",
       "    </tr>\n",
       "    <tr>\n",
       "      <th>2</th>\n",
       "      <td>36.0</td>\n",
       "      <td>17.9250</td>\n",
       "    </tr>\n",
       "    <tr>\n",
       "      <th>3</th>\n",
       "      <td>45.0</td>\n",
       "      <td>63.1000</td>\n",
       "    </tr>\n",
       "    <tr>\n",
       "      <th>4</th>\n",
       "      <td>45.0</td>\n",
       "      <td>18.0500</td>\n",
       "    </tr>\n",
       "  </tbody>\n",
       "</table>\n",
       "</div>"
      ],
      "text/plain": [
       "    age     fare\n",
       "0  32.0  17.2500\n",
       "1  48.0  81.2833\n",
       "2  36.0  17.9250\n",
       "3  45.0  63.1000\n",
       "4  45.0  18.0500"
      ]
     },
     "execution_count": 31,
     "metadata": {},
     "output_type": "execute_result"
    }
   ],
   "source": [
    "df4 = df.map(lambda a, b: a + b , b = 10)\n",
    "df4.head()"
   ]
  },
  {
   "cell_type": "code",
   "execution_count": null,
   "id": "71c0cbd8-eea2-4d10-975b-e35c66e3ba64",
   "metadata": {},
   "outputs": [],
   "source": []
  },
  {
   "cell_type": "markdown",
   "id": "48f5ccd9-e656-4e4d-bab6-6907ffca8cd8",
   "metadata": {},
   "source": [
    "#### 시리즈 객체에 함수 매핑\n",
    "- 데이터프레임의 각 열(시리즈)에 함수 매핑\n",
    "  - 데이터프레임에 apply(axis = 0) 함수를 적용하면 모든 열을 하나씩 분리하여 매핑함수의 인자로 각 열(시리즈)이 전달된다.\n",
    "  - **DataFrame객체.apply(매핑 함수, axis=0)**\n",
    "  - 시리즈를 입력받고 시리즈를 반환하는 함수를 매핑하면, 결과로 데이터프레임을 반환\n",
    "  - 데이터프레임의 열을 매핑함수에 전달하면 각 열의 리턴값은 시리즈 형태로 반환, 그리고 이 시리즈가 하나의 데이터프레임으로 통합"
   ]
  },
  {
   "cell_type": "code",
   "execution_count": 33,
   "id": "e8fabdfa-4d4c-4010-a874-8156a0a5a4dc",
   "metadata": {},
   "outputs": [
    {
     "data": {
      "text/plain": [
       "pandas.core.frame.DataFrame"
      ]
     },
     "execution_count": 33,
     "metadata": {},
     "output_type": "execute_result"
    }
   ],
   "source": [
    "type(df)"
   ]
  },
  {
   "cell_type": "code",
   "execution_count": 34,
   "id": "a83908c8-a5a8-474f-a468-0e86a9589e14",
   "metadata": {},
   "outputs": [
    {
     "data": {
      "text/plain": [
       "0      False\n",
       "1      False\n",
       "2      False\n",
       "3      False\n",
       "4      False\n",
       "       ...  \n",
       "886    False\n",
       "887    False\n",
       "888     True\n",
       "889    False\n",
       "890    False\n",
       "Name: age, Length: 891, dtype: bool"
      ]
     },
     "execution_count": 34,
     "metadata": {},
     "output_type": "execute_result"
    }
   ],
   "source": [
    "df['age'].isna()"
   ]
  },
  {
   "cell_type": "code",
   "execution_count": 35,
   "id": "a1f37b2d-bb78-4422-b53b-a6fd984ded0b",
   "metadata": {},
   "outputs": [
    {
     "name": "stdout",
     "output_type": "stream",
     "text": [
      "     age   fare\n",
      "0  False  False\n",
      "1  False  False\n",
      "2  False  False\n",
      "3  False  False\n",
      "4  False  False\n",
      "<class 'pandas.core.frame.DataFrame'>\n"
     ]
    }
   ],
   "source": [
    "def missing_value(series):\n",
    "    return series.isna()\n",
    "\n",
    "result = df.apply(missing_value, axis=0)\n",
    "print(result.head())\n",
    "print(type(result))"
   ]
  },
  {
   "cell_type": "code",
   "execution_count": 36,
   "id": "b2d50716-103f-4d07-88cd-27322f273793",
   "metadata": {},
   "outputs": [
    {
     "name": "stdout",
     "output_type": "stream",
     "text": [
      "     age   fare\n",
      "0  False  False\n",
      "1  False  False\n",
      "2  False  False\n",
      "3  False  False\n",
      "4  False  False\n",
      "<class 'pandas.core.frame.DataFrame'>\n"
     ]
    }
   ],
   "source": [
    "r1 = df.apply(lambda x : x.isna() , axis=0)\n",
    "print(r1.head())\n",
    "print(type(r1))"
   ]
  },
  {
   "cell_type": "code",
   "execution_count": null,
   "id": "a35ababd-0aea-4a99-8562-375c5c37402b",
   "metadata": {},
   "outputs": [],
   "source": []
  },
  {
   "cell_type": "markdown",
   "id": "16cfb760-a83d-4071-91fd-ba1b5eba69a4",
   "metadata": {},
   "source": [
    "- 데이터프레임에서 시리즈(열)를 입력받아서 하나의 값을 반환하는 함수를 매핑하면 결과는 시리즈를 반환"
   ]
  },
  {
   "cell_type": "code",
   "execution_count": 38,
   "id": "82c03c4c-0534-41e0-b3ca-111685b31df9",
   "metadata": {},
   "outputs": [
    {
     "name": "stdout",
     "output_type": "stream",
     "text": [
      "age      79.5800\n",
      "fare    512.3292\n",
      "dtype: float64\n",
      "<class 'pandas.core.series.Series'>\n"
     ]
    }
   ],
   "source": [
    "def min_max(x):\n",
    "    return x.max() - x.min()\n",
    "\n",
    "result = df.apply(min_max, axis=0)\n",
    "print(result)\n",
    "print(type(result))"
   ]
  },
  {
   "cell_type": "code",
   "execution_count": 39,
   "id": "1a16aeac-d8af-4de2-95eb-2c4bc19b5782",
   "metadata": {},
   "outputs": [
    {
     "name": "stdout",
     "output_type": "stream",
     "text": [
      "age      79.5800\n",
      "fare    512.3292\n",
      "dtype: float64\n",
      "<class 'pandas.core.series.Series'>\n"
     ]
    }
   ],
   "source": [
    "r2 = df.apply(lambda x : x.max() - x.min(), axis=0)\n",
    "print(r2)\n",
    "print(type(r2))"
   ]
  },
  {
   "cell_type": "code",
   "execution_count": null,
   "id": "6cf771fd-4a05-421a-8815-3a80aac66363",
   "metadata": {},
   "outputs": [],
   "source": []
  },
  {
   "cell_type": "code",
   "execution_count": 40,
   "id": "7f4d1229-d39d-4f8a-a9c6-60f86cdc533c",
   "metadata": {},
   "outputs": [],
   "source": [
    "## df에 calc 함수를 매핑, 최대, 최소, 평균, 중앙값"
   ]
  },
  {
   "cell_type": "code",
   "execution_count": 111,
   "id": "71063041-72cf-486f-91ef-56e473854437",
   "metadata": {},
   "outputs": [
    {
     "data": {
      "text/html": [
       "<div>\n",
       "<style scoped>\n",
       "    .dataframe tbody tr th:only-of-type {\n",
       "        vertical-align: middle;\n",
       "    }\n",
       "\n",
       "    .dataframe tbody tr th {\n",
       "        vertical-align: top;\n",
       "    }\n",
       "\n",
       "    .dataframe thead th {\n",
       "        text-align: right;\n",
       "    }\n",
       "</style>\n",
       "<table border=\"1\" class=\"dataframe\">\n",
       "  <thead>\n",
       "    <tr style=\"text-align: right;\">\n",
       "      <th></th>\n",
       "      <th>age</th>\n",
       "      <th>fare</th>\n",
       "    </tr>\n",
       "  </thead>\n",
       "  <tbody>\n",
       "    <tr>\n",
       "      <th>max</th>\n",
       "      <td>80.000000</td>\n",
       "      <td>512.329200</td>\n",
       "    </tr>\n",
       "    <tr>\n",
       "      <th>min</th>\n",
       "      <td>0.420000</td>\n",
       "      <td>0.000000</td>\n",
       "    </tr>\n",
       "    <tr>\n",
       "      <th>mean</th>\n",
       "      <td>29.699118</td>\n",
       "      <td>32.204208</td>\n",
       "    </tr>\n",
       "    <tr>\n",
       "      <th>median</th>\n",
       "      <td>28.000000</td>\n",
       "      <td>14.454200</td>\n",
       "    </tr>\n",
       "  </tbody>\n",
       "</table>\n",
       "</div>"
      ],
      "text/plain": [
       "              age        fare\n",
       "max     80.000000  512.329200\n",
       "min      0.420000    0.000000\n",
       "mean    29.699118   32.204208\n",
       "median  28.000000   14.454200"
      ]
     },
     "execution_count": 111,
     "metadata": {},
     "output_type": "execute_result"
    }
   ],
   "source": [
    "def calc(series):\n",
    "    sr_list = {'max':series.max(), 'min':series.min(), 'mean':series.mean(), 'median':series.median()}\n",
    "    return pd.Series(sr_list)\n",
    "\n",
    "r3 = df.apply(calc, axis=0)\n",
    "r3"
   ]
  },
  {
   "cell_type": "code",
   "execution_count": null,
   "id": "e6270a43-8a2a-49f4-9787-c03beeb6e159",
   "metadata": {},
   "outputs": [],
   "source": [
    "## 각 행에 대해 최대, 최솟값의 차이와, 평균을 계산하는 매칭함수 , 인덱스 : 차이, 평균"
   ]
  },
  {
   "cell_type": "code",
   "execution_count": 125,
   "id": "77857ca3-9cc4-4957-a52c-3eefe0c5fea7",
   "metadata": {},
   "outputs": [
    {
     "data": {
      "text/html": [
       "<div>\n",
       "<style scoped>\n",
       "    .dataframe tbody tr th:only-of-type {\n",
       "        vertical-align: middle;\n",
       "    }\n",
       "\n",
       "    .dataframe tbody tr th {\n",
       "        vertical-align: top;\n",
       "    }\n",
       "\n",
       "    .dataframe thead th {\n",
       "        text-align: right;\n",
       "    }\n",
       "</style>\n",
       "<table border=\"1\" class=\"dataframe\">\n",
       "  <thead>\n",
       "    <tr style=\"text-align: right;\">\n",
       "      <th></th>\n",
       "      <th>age</th>\n",
       "      <th>fare</th>\n",
       "    </tr>\n",
       "  </thead>\n",
       "  <tbody>\n",
       "    <tr>\n",
       "      <th>0</th>\n",
       "      <td>22.0</td>\n",
       "      <td>7.2500</td>\n",
       "    </tr>\n",
       "    <tr>\n",
       "      <th>1</th>\n",
       "      <td>38.0</td>\n",
       "      <td>71.2833</td>\n",
       "    </tr>\n",
       "    <tr>\n",
       "      <th>2</th>\n",
       "      <td>26.0</td>\n",
       "      <td>7.9250</td>\n",
       "    </tr>\n",
       "    <tr>\n",
       "      <th>3</th>\n",
       "      <td>35.0</td>\n",
       "      <td>53.1000</td>\n",
       "    </tr>\n",
       "    <tr>\n",
       "      <th>4</th>\n",
       "      <td>35.0</td>\n",
       "      <td>8.0500</td>\n",
       "    </tr>\n",
       "  </tbody>\n",
       "</table>\n",
       "</div>"
      ],
      "text/plain": [
       "    age     fare\n",
       "0  22.0   7.2500\n",
       "1  38.0  71.2833\n",
       "2  26.0   7.9250\n",
       "3  35.0  53.1000\n",
       "4  35.0   8.0500"
      ]
     },
     "execution_count": 125,
     "metadata": {},
     "output_type": "execute_result"
    }
   ],
   "source": [
    "df.head()"
   ]
  },
  {
   "cell_type": "code",
   "execution_count": 157,
   "id": "f7aaaecc-def9-4f5b-a4ec-52ccff859e25",
   "metadata": {},
   "outputs": [
    {
     "data": {
      "text/html": [
       "<div>\n",
       "<style scoped>\n",
       "    .dataframe tbody tr th:only-of-type {\n",
       "        vertical-align: middle;\n",
       "    }\n",
       "\n",
       "    .dataframe tbody tr th {\n",
       "        vertical-align: top;\n",
       "    }\n",
       "\n",
       "    .dataframe thead th {\n",
       "        text-align: right;\n",
       "    }\n",
       "</style>\n",
       "<table border=\"1\" class=\"dataframe\">\n",
       "  <thead>\n",
       "    <tr style=\"text-align: right;\">\n",
       "      <th></th>\n",
       "      <th>차이</th>\n",
       "      <th>평균</th>\n",
       "    </tr>\n",
       "  </thead>\n",
       "  <tbody>\n",
       "    <tr>\n",
       "      <th>0</th>\n",
       "      <td>14.7500</td>\n",
       "      <td>14.62500</td>\n",
       "    </tr>\n",
       "    <tr>\n",
       "      <th>1</th>\n",
       "      <td>33.2833</td>\n",
       "      <td>54.64165</td>\n",
       "    </tr>\n",
       "    <tr>\n",
       "      <th>2</th>\n",
       "      <td>18.0750</td>\n",
       "      <td>16.96250</td>\n",
       "    </tr>\n",
       "    <tr>\n",
       "      <th>3</th>\n",
       "      <td>18.1000</td>\n",
       "      <td>44.05000</td>\n",
       "    </tr>\n",
       "    <tr>\n",
       "      <th>4</th>\n",
       "      <td>26.9500</td>\n",
       "      <td>21.52500</td>\n",
       "    </tr>\n",
       "  </tbody>\n",
       "</table>\n",
       "</div>"
      ],
      "text/plain": [
       "        차이        평균\n",
       "0  14.7500  14.62500\n",
       "1  33.2833  54.64165\n",
       "2  18.0750  16.96250\n",
       "3  18.1000  44.05000\n",
       "4  26.9500  21.52500"
      ]
     },
     "execution_count": 157,
     "metadata": {},
     "output_type": "execute_result"
    }
   ],
   "source": [
    "def calc2(row):\n",
    "    diff = row.max() - row.min()\n",
    "    avg = row.mean()\n",
    "    return pd.Series([diff, avg], index=['차이', '평균'])\n",
    "\n",
    "r4 = df.apply(calc2, axis=1)\n",
    "r4.head()\n"
   ]
  },
  {
   "cell_type": "code",
   "execution_count": 165,
   "id": "7318b73a-4cbe-444a-b001-743b94e7282c",
   "metadata": {},
   "outputs": [
    {
     "data": {
      "text/html": [
       "<div>\n",
       "<style scoped>\n",
       "    .dataframe tbody tr th:only-of-type {\n",
       "        vertical-align: middle;\n",
       "    }\n",
       "\n",
       "    .dataframe tbody tr th {\n",
       "        vertical-align: top;\n",
       "    }\n",
       "\n",
       "    .dataframe thead th {\n",
       "        text-align: right;\n",
       "    }\n",
       "</style>\n",
       "<table border=\"1\" class=\"dataframe\">\n",
       "  <thead>\n",
       "    <tr style=\"text-align: right;\">\n",
       "      <th></th>\n",
       "      <th>차이</th>\n",
       "      <th>평균</th>\n",
       "    </tr>\n",
       "  </thead>\n",
       "  <tbody>\n",
       "    <tr>\n",
       "      <th>0</th>\n",
       "      <td>14.7500</td>\n",
       "      <td>14.62500</td>\n",
       "    </tr>\n",
       "    <tr>\n",
       "      <th>1</th>\n",
       "      <td>33.2833</td>\n",
       "      <td>54.64165</td>\n",
       "    </tr>\n",
       "    <tr>\n",
       "      <th>2</th>\n",
       "      <td>18.0750</td>\n",
       "      <td>16.96250</td>\n",
       "    </tr>\n",
       "    <tr>\n",
       "      <th>3</th>\n",
       "      <td>18.1000</td>\n",
       "      <td>44.05000</td>\n",
       "    </tr>\n",
       "    <tr>\n",
       "      <th>4</th>\n",
       "      <td>26.9500</td>\n",
       "      <td>21.52500</td>\n",
       "    </tr>\n",
       "  </tbody>\n",
       "</table>\n",
       "</div>"
      ],
      "text/plain": [
       "        차이        평균\n",
       "0  14.7500  14.62500\n",
       "1  33.2833  54.64165\n",
       "2  18.0750  16.96250\n",
       "3  18.1000  44.05000\n",
       "4  26.9500  21.52500"
      ]
     },
     "execution_count": 165,
     "metadata": {},
     "output_type": "execute_result"
    }
   ],
   "source": [
    "r5 = df.apply(lambda row: pd.Series([row.max()-row.min(), row.mean()], index=['차이', '평균']), axis=1)\n",
    "r5.head()"
   ]
  },
  {
   "cell_type": "code",
   "execution_count": 171,
   "id": "a9352d21-cb7d-4e37-875b-c3bc20c1078d",
   "metadata": {},
   "outputs": [
    {
     "data": {
      "text/html": [
       "<div>\n",
       "<style scoped>\n",
       "    .dataframe tbody tr th:only-of-type {\n",
       "        vertical-align: middle;\n",
       "    }\n",
       "\n",
       "    .dataframe tbody tr th {\n",
       "        vertical-align: top;\n",
       "    }\n",
       "\n",
       "    .dataframe thead th {\n",
       "        text-align: right;\n",
       "    }\n",
       "</style>\n",
       "<table border=\"1\" class=\"dataframe\">\n",
       "  <thead>\n",
       "    <tr style=\"text-align: right;\">\n",
       "      <th></th>\n",
       "      <th>차이</th>\n",
       "      <th>평균</th>\n",
       "    </tr>\n",
       "  </thead>\n",
       "  <tbody>\n",
       "    <tr>\n",
       "      <th>0</th>\n",
       "      <td>147.500</td>\n",
       "      <td>14.62500</td>\n",
       "    </tr>\n",
       "    <tr>\n",
       "      <th>1</th>\n",
       "      <td>332.833</td>\n",
       "      <td>54.64165</td>\n",
       "    </tr>\n",
       "    <tr>\n",
       "      <th>2</th>\n",
       "      <td>180.750</td>\n",
       "      <td>16.96250</td>\n",
       "    </tr>\n",
       "    <tr>\n",
       "      <th>3</th>\n",
       "      <td>181.000</td>\n",
       "      <td>44.05000</td>\n",
       "    </tr>\n",
       "    <tr>\n",
       "      <th>4</th>\n",
       "      <td>269.500</td>\n",
       "      <td>21.52500</td>\n",
       "    </tr>\n",
       "  </tbody>\n",
       "</table>\n",
       "</div>"
      ],
      "text/plain": [
       "        차이        평균\n",
       "0  147.500  14.62500\n",
       "1  332.833  54.64165\n",
       "2  180.750  16.96250\n",
       "3  181.000  44.05000\n",
       "4  269.500  21.52500"
      ]
     },
     "execution_count": 171,
     "metadata": {},
     "output_type": "execute_result"
    }
   ],
   "source": [
    "def calc3(row, mul=1):\n",
    "    diff = (row.max() - row.min()) * mul\n",
    "    avg = row.mean()\n",
    "    return pd.Series([diff, avg], index=['차이', '평균'])\n",
    "\n",
    "r6 = df.apply(calc3, mul=10, axis=1)\n",
    "r6.head()\n"
   ]
  },
  {
   "cell_type": "code",
   "execution_count": 179,
   "id": "dd530bc0-756a-439d-83e5-a4d8d333bdd2",
   "metadata": {},
   "outputs": [
    {
     "data": {
      "text/html": [
       "<div>\n",
       "<style scoped>\n",
       "    .dataframe tbody tr th:only-of-type {\n",
       "        vertical-align: middle;\n",
       "    }\n",
       "\n",
       "    .dataframe tbody tr th {\n",
       "        vertical-align: top;\n",
       "    }\n",
       "\n",
       "    .dataframe thead th {\n",
       "        text-align: right;\n",
       "    }\n",
       "</style>\n",
       "<table border=\"1\" class=\"dataframe\">\n",
       "  <thead>\n",
       "    <tr style=\"text-align: right;\">\n",
       "      <th></th>\n",
       "      <th>차이</th>\n",
       "      <th>평균</th>\n",
       "    </tr>\n",
       "  </thead>\n",
       "  <tbody>\n",
       "    <tr>\n",
       "      <th>0</th>\n",
       "      <td>147.500</td>\n",
       "      <td>14.62500</td>\n",
       "    </tr>\n",
       "    <tr>\n",
       "      <th>1</th>\n",
       "      <td>332.833</td>\n",
       "      <td>54.64165</td>\n",
       "    </tr>\n",
       "    <tr>\n",
       "      <th>2</th>\n",
       "      <td>180.750</td>\n",
       "      <td>16.96250</td>\n",
       "    </tr>\n",
       "    <tr>\n",
       "      <th>3</th>\n",
       "      <td>181.000</td>\n",
       "      <td>44.05000</td>\n",
       "    </tr>\n",
       "    <tr>\n",
       "      <th>4</th>\n",
       "      <td>269.500</td>\n",
       "      <td>21.52500</td>\n",
       "    </tr>\n",
       "  </tbody>\n",
       "</table>\n",
       "</div>"
      ],
      "text/plain": [
       "        차이        평균\n",
       "0  147.500  14.62500\n",
       "1  332.833  54.64165\n",
       "2  180.750  16.96250\n",
       "3  181.000  44.05000\n",
       "4  269.500  21.52500"
      ]
     },
     "execution_count": 179,
     "metadata": {},
     "output_type": "execute_result"
    }
   ],
   "source": [
    "r7 = df.apply(lambda row, mul=1: pd.Series([(row.max()-row.min()) * mul, row.mean()], index=['차이', '평균']), mul=10, axis=1)\n",
    "r7.head()"
   ]
  }
 ],
 "metadata": {
  "kernelspec": {
   "display_name": "Python [conda env:base] *",
   "language": "python",
   "name": "conda-base-py"
  },
  "language_info": {
   "codemirror_mode": {
    "name": "ipython",
    "version": 3
   },
   "file_extension": ".py",
   "mimetype": "text/x-python",
   "name": "python",
   "nbconvert_exporter": "python",
   "pygments_lexer": "ipython3",
   "version": "3.12.7"
  }
 },
 "nbformat": 4,
 "nbformat_minor": 5
}
