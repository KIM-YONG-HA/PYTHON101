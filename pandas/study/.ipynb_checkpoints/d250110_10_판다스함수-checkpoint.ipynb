{
 "cells": [
  {
   "cell_type": "markdown",
   "id": "0b138d0c-9c82-409a-b0aa-db27dc7aeb18",
   "metadata": {},
   "source": [
    "## pandas.Series.apply()"
   ]
  },
  {
   "cell_type": "markdown",
   "id": "1bd01c4c-be5c-4e5b-a31e-26d6c56d195d",
   "metadata": {},
   "source": [
    "pandas.Series.apply(\n",
    "    self,\n",
    "    func: 'AggFuncType',\n",
    "    convert_dtype: 'bool | lib.NoDefault' = <no_default>,\n",
    "    args: 'tuple[Any, ...]' = (),\n",
    "    *,\n",
    "    by_row: \"Literal[False, 'compat']\" = 'compat',\n",
    "    **kwargs,\n",
    ") -> 'DataFrame | Series'"
   ]
  },
  {
   "cell_type": "code",
   "execution_count": null,
   "id": "347dd043-5f6f-4c8a-8c81-f1fcfdedab88",
   "metadata": {},
   "outputs": [],
   "source": []
  },
  {
   "cell_type": "code",
   "execution_count": 32,
   "id": "4ef01fba-5ceb-49c3-996d-c1f5dea1efe8",
   "metadata": {},
   "outputs": [],
   "source": [
    "import numpy as np\n",
    "import pandas as pd\n",
    "import seaborn as sns"
   ]
  },
  {
   "cell_type": "code",
   "execution_count": null,
   "id": "40bf0787-ca04-4174-b6ee-2b979449f6c1",
   "metadata": {},
   "outputs": [],
   "source": [
    "pd.DataFrame.apply()"
   ]
  },
  {
   "cell_type": "code",
   "execution_count": 6,
   "id": "0c7c4d19-8826-4b54-a1e9-3fa230f61160",
   "metadata": {},
   "outputs": [
    {
     "data": {
      "text/html": [
       "<div>\n",
       "<style scoped>\n",
       "    .dataframe tbody tr th:only-of-type {\n",
       "        vertical-align: middle;\n",
       "    }\n",
       "\n",
       "    .dataframe tbody tr th {\n",
       "        vertical-align: top;\n",
       "    }\n",
       "\n",
       "    .dataframe thead th {\n",
       "        text-align: right;\n",
       "    }\n",
       "</style>\n",
       "<table border=\"1\" class=\"dataframe\">\n",
       "  <thead>\n",
       "    <tr style=\"text-align: right;\">\n",
       "      <th></th>\n",
       "      <th>age</th>\n",
       "      <th>fare</th>\n",
       "    </tr>\n",
       "  </thead>\n",
       "  <tbody>\n",
       "    <tr>\n",
       "      <th>0</th>\n",
       "      <td>22.0</td>\n",
       "      <td>7.2500</td>\n",
       "    </tr>\n",
       "    <tr>\n",
       "      <th>1</th>\n",
       "      <td>38.0</td>\n",
       "      <td>71.2833</td>\n",
       "    </tr>\n",
       "    <tr>\n",
       "      <th>2</th>\n",
       "      <td>26.0</td>\n",
       "      <td>7.9250</td>\n",
       "    </tr>\n",
       "    <tr>\n",
       "      <th>3</th>\n",
       "      <td>35.0</td>\n",
       "      <td>53.1000</td>\n",
       "    </tr>\n",
       "    <tr>\n",
       "      <th>4</th>\n",
       "      <td>35.0</td>\n",
       "      <td>8.0500</td>\n",
       "    </tr>\n",
       "  </tbody>\n",
       "</table>\n",
       "</div>"
      ],
      "text/plain": [
       "    age     fare\n",
       "0  22.0   7.2500\n",
       "1  38.0  71.2833\n",
       "2  26.0   7.9250\n",
       "3  35.0  53.1000\n",
       "4  35.0   8.0500"
      ]
     },
     "execution_count": 6,
     "metadata": {},
     "output_type": "execute_result"
    }
   ],
   "source": [
    "titanic = sns.load_dataset('titanic')\n",
    "df = titanic.loc[:, ['age', 'fare']]\n",
    "df.head()"
   ]
  },
  {
   "cell_type": "code",
   "execution_count": 30,
   "id": "d639d051-e8fc-4082-86f0-c542b90e554d",
   "metadata": {},
   "outputs": [
    {
     "name": "stdout",
     "output_type": "stream",
     "text": [
      "0    32.0\n",
      "1    48.0\n",
      "2    36.0\n",
      "3    45.0\n",
      "4    45.0\n",
      "Name: age, dtype: float64\n",
      "\n",
      "0    32.0\n",
      "1    48.0\n",
      "2    36.0\n",
      "3    45.0\n",
      "4    45.0\n",
      "Name: age, dtype: float64\n"
     ]
    }
   ],
   "source": [
    "def add_10(n):\n",
    "    return n + 10\n",
    "\n",
    "def add_two_obj(n, m):\n",
    "    #print(f\"n : {n} , m : {m}\")\n",
    "    return n + m\n",
    "\n",
    "sr1 = df['age'].apply(add_10)\n",
    "print(sr1.head(), end='\\n\\n')\n",
    "\n",
    "sr2 = df['age'].apply(add_two_obj, m=10)\n",
    "print(sr2.head())"
   ]
  },
  {
   "cell_type": "code",
   "execution_count": null,
   "id": "d24048ca-eda1-45ca-ba6b-760acb415b8a",
   "metadata": {},
   "outputs": [],
   "source": []
  },
  {
   "cell_type": "code",
   "execution_count": null,
   "id": "fe735d55-d20b-4b35-9529-036985a1e4c9",
   "metadata": {},
   "outputs": [],
   "source": []
  },
  {
   "cell_type": "code",
   "execution_count": null,
   "id": "189d23ab-39e1-457a-819b-1ecb9b8239d4",
   "metadata": {},
   "outputs": [],
   "source": []
  },
  {
   "cell_type": "code",
   "execution_count": null,
   "id": "cf77372d-776c-4497-b2f3-1a0163b5f2ff",
   "metadata": {},
   "outputs": [],
   "source": []
  },
  {
   "cell_type": "markdown",
   "id": "3a947c42-fd1f-40e9-9b72-950f0c13e88a",
   "metadata": {},
   "source": [
    "## pandas.Series.Map()"
   ]
  },
  {
   "cell_type": "code",
   "execution_count": null,
   "id": "33795b3e-67b8-4998-97f8-1b11ed4020da",
   "metadata": {},
   "outputs": [],
   "source": []
  },
  {
   "cell_type": "code",
   "execution_count": null,
   "id": "6a6a7dc3-f5ae-4715-bb12-74249a838706",
   "metadata": {},
   "outputs": [],
   "source": []
  },
  {
   "cell_type": "markdown",
   "id": "13e72997-15d3-429f-862c-a5b6d71dd468",
   "metadata": {},
   "source": [
    "## pandas.DataFrame.apply()"
   ]
  },
  {
   "cell_type": "markdown",
   "id": "054cdfad-704b-4c27-ba62-e33af68e1318",
   "metadata": {},
   "source": [
    "```\n",
    "pandas.DataFrame.apply(\n",
    "    self,\n",
    "    func: 'AggFuncType',\n",
    "    axis: 'Axis' = 0,\n",
    "    raw: 'bool' = False,\n",
    "    result_type: \"Literal['expand', 'reduce', 'broadcast'] | None\" = None,\n",
    "    args=(),\n",
    "    by_row: \"Literal[False, 'compat']\" = 'compat',\n",
    "    engine: \"Literal['python', 'numba']\" = 'python',\n",
    "    engine_kwargs: 'dict[str, bool] | None' = None,\n",
    "    **kwargs,\n",
    ")\n",
    "```"
   ]
  },
  {
   "cell_type": "markdown",
   "id": "44281e68-d358-4fff-b7cf-b83cf2b2e50f",
   "metadata": {},
   "source": [
    "## pandas.DataFrame.map()"
   ]
  },
  {
   "cell_type": "code",
   "execution_count": null,
   "id": "b3fb809c-7d33-49f5-ad3a-efca04d02694",
   "metadata": {},
   "outputs": [],
   "source": []
  },
  {
   "cell_type": "code",
   "execution_count": null,
   "id": "da38fadf-faf0-456c-a52c-64d33c08701a",
   "metadata": {},
   "outputs": [],
   "source": []
  },
  {
   "cell_type": "code",
   "execution_count": null,
   "id": "fc7e40e9-5850-468d-b5d5-4c8d6c159e60",
   "metadata": {},
   "outputs": [],
   "source": []
  },
  {
   "cell_type": "code",
   "execution_count": null,
   "id": "dfbee9bf-276b-40e4-904a-b6311f992352",
   "metadata": {},
   "outputs": [],
   "source": []
  },
  {
   "cell_type": "code",
   "execution_count": null,
   "id": "d73b4f28-6f49-4b38-a6c9-b5c3dcd3cb43",
   "metadata": {},
   "outputs": [],
   "source": []
  }
 ],
 "metadata": {
  "kernelspec": {
   "display_name": "Python [conda env:base] *",
   "language": "python",
   "name": "conda-base-py"
  },
  "language_info": {
   "codemirror_mode": {
    "name": "ipython",
    "version": 3
   },
   "file_extension": ".py",
   "mimetype": "text/x-python",
   "name": "python",
   "nbconvert_exporter": "python",
   "pygments_lexer": "ipython3",
   "version": "3.12.7"
  }
 },
 "nbformat": 4,
 "nbformat_minor": 5
}
