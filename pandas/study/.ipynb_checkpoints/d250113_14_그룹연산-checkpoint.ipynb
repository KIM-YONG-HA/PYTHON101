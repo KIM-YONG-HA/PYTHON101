{
 "cells": [
  {
   "cell_type": "markdown",
   "id": "0f6fd864-5aae-48b6-9ad2-abda990095d6",
   "metadata": {},
   "source": [
    "# 그룹 연산"
   ]
  },
  {
   "cell_type": "markdown",
   "id": "180a281f-ed31-4977-a969-3d4116379a09",
   "metadata": {},
   "source": [
    "1단계(분할) : 데이터를 특정 조건으로 분할\n",
    "2단계(적용) : 데이터를 집계, 변환, 필터링에 필요한 함수 적용\n",
    "3단계(결합) : 2단계의 처리 결과를 결합"
   ]
  },
  {
   "cell_type": "markdown",
   "id": "f89291c3-4b37-4a85-aa89-7ec480250d54",
   "metadata": {},
   "source": [
    "## 1단계 : 그룹 객체 만들기"
   ]
  },
  {
   "cell_type": "markdown",
   "id": "c1c7419b-b2ff-4259-ab0b-cbc86f580f08",
   "metadata": {},
   "source": [
    "### 타이타닉 age, sex, class, fare, survived 열을 선택해서 class열 기준으로 그룹화"
   ]
  },
  {
   "cell_type": "code",
   "execution_count": 1,
   "id": "1c0e9fd2-6424-4a8c-853f-ad8b2164f22a",
   "metadata": {},
   "outputs": [],
   "source": [
    "import pandas as pd\n",
    "import seaborn as sns"
   ]
  },
  {
   "cell_type": "code",
   "execution_count": 33,
   "id": "7bbf7943-9d59-48e8-bd95-943b07d5bf32",
   "metadata": {},
   "outputs": [
    {
     "name": "stdout",
     "output_type": "stream",
     "text": [
      "<pandas.core.groupby.generic.DataFrameGroupBy object at 0x000001B1DAA99130>\n"
     ]
    }
   ],
   "source": [
    "titanic = sns.load_dataset('titanic')\n",
    "df = titanic.loc[:,  ['age', 'sex', 'class', 'fare', 'survived']]\n",
    "grouped = df.groupby(['class'], observed=True)\n",
    "print(grouped)"
   ]
  },
  {
   "cell_type": "code",
   "execution_count": 35,
   "id": "86207db5-b6a0-4e15-9f84-9f4402d129e2",
   "metadata": {},
   "outputs": [
    {
     "data": {
      "text/plain": [
       "['Third', 'First', 'Second']\n",
       "Categories (3, object): ['First', 'Second', 'Third']"
      ]
     },
     "execution_count": 35,
     "metadata": {},
     "output_type": "execute_result"
    }
   ],
   "source": [
    "df['class'].unique()"
   ]
  },
  {
   "cell_type": "markdown",
   "id": "43788449-dd8e-4b45-a593-b6bf0f17f809",
   "metadata": {},
   "source": [
    "### DataFrameGrouBy 객체가 리턴"
   ]
  },
  {
   "cell_type": "code",
   "execution_count": 41,
   "id": "213e8458-ccaa-4631-ab92-7023af9751a8",
   "metadata": {},
   "outputs": [
    {
     "name": "stdout",
     "output_type": "stream",
     "text": [
      "key :  ('First',)\n",
      "number :  216\n",
      "     age     sex  class     fare  survived\n",
      "1   38.0  female  First  71.2833         1\n",
      "3   35.0  female  First  53.1000         1\n",
      "6   54.0    male  First  51.8625         0\n",
      "11  58.0  female  First  26.5500         1\n",
      "23  28.0    male  First  35.5000         1\n",
      "key :  ('Second',)\n",
      "number :  184\n",
      "     age     sex   class     fare  survived\n",
      "9   14.0  female  Second  30.0708         1\n",
      "15  55.0  female  Second  16.0000         1\n",
      "17   NaN    male  Second  13.0000         1\n",
      "20  35.0    male  Second  26.0000         0\n",
      "21  34.0    male  Second  13.0000         1\n",
      "key :  ('Third',)\n",
      "number :  491\n",
      "    age     sex  class     fare  survived\n",
      "0  22.0    male  Third   7.2500         0\n",
      "2  26.0  female  Third   7.9250         1\n",
      "4  35.0    male  Third   8.0500         0\n",
      "5   NaN    male  Third   8.4583         0\n",
      "7   2.0    male  Third  21.0750         0\n"
     ]
    }
   ],
   "source": [
    "for key, group in grouped:\n",
    "    print(\"key : \", key)\n",
    "    print(\"number : \", len(group)) \n",
    "    print(group.head(), end='\\n')\n",
    "    "
   ]
  },
  {
   "cell_type": "markdown",
   "id": "cb7e553f-bb71-4268-adb2-3ccef5546735",
   "metadata": {},
   "source": [
    "### 그룹 연산 메소드\n",
    "연산이 가능하도록 문자열 데이터는 제외시킨다."
   ]
  },
  {
   "cell_type": "code",
   "execution_count": 45,
   "id": "6eb4a4ee-3f30-4ced-8a10-16aa5b63a709",
   "metadata": {},
   "outputs": [
    {
     "data": {
      "text/html": [
       "<div>\n",
       "<style scoped>\n",
       "    .dataframe tbody tr th:only-of-type {\n",
       "        vertical-align: middle;\n",
       "    }\n",
       "\n",
       "    .dataframe tbody tr th {\n",
       "        vertical-align: top;\n",
       "    }\n",
       "\n",
       "    .dataframe thead th {\n",
       "        text-align: right;\n",
       "    }\n",
       "</style>\n",
       "<table border=\"1\" class=\"dataframe\">\n",
       "  <thead>\n",
       "    <tr style=\"text-align: right;\">\n",
       "      <th></th>\n",
       "      <th>age</th>\n",
       "      <th>fare</th>\n",
       "      <th>survived</th>\n",
       "    </tr>\n",
       "    <tr>\n",
       "      <th>class</th>\n",
       "      <th></th>\n",
       "      <th></th>\n",
       "      <th></th>\n",
       "    </tr>\n",
       "  </thead>\n",
       "  <tbody>\n",
       "    <tr>\n",
       "      <th>First</th>\n",
       "      <td>38.233441</td>\n",
       "      <td>84.154687</td>\n",
       "      <td>0.629630</td>\n",
       "    </tr>\n",
       "    <tr>\n",
       "      <th>Second</th>\n",
       "      <td>29.877630</td>\n",
       "      <td>20.662183</td>\n",
       "      <td>0.472826</td>\n",
       "    </tr>\n",
       "    <tr>\n",
       "      <th>Third</th>\n",
       "      <td>25.140620</td>\n",
       "      <td>13.675550</td>\n",
       "      <td>0.242363</td>\n",
       "    </tr>\n",
       "  </tbody>\n",
       "</table>\n",
       "</div>"
      ],
      "text/plain": [
       "              age       fare  survived\n",
       "class                                 \n",
       "First   38.233441  84.154687  0.629630\n",
       "Second  29.877630  20.662183  0.472826\n",
       "Third   25.140620  13.675550  0.242363"
      ]
     },
     "execution_count": 45,
     "metadata": {},
     "output_type": "execute_result"
    }
   ],
   "source": [
    "avg = grouped.mean(numeric_only=True)\n",
    "avg"
   ]
  },
  {
   "cell_type": "markdown",
   "id": "44bbf443-a731-4b0b-be4c-6823ca111128",
   "metadata": {},
   "source": [
    "### 그룹 객체 선택 "
   ]
  },
  {
   "cell_type": "code",
   "execution_count": 65,
   "id": "9e194bab-3f09-432e-8cd0-de1db4caf817",
   "metadata": {},
   "outputs": [
    {
     "data": {
      "text/html": [
       "<div>\n",
       "<style scoped>\n",
       "    .dataframe tbody tr th:only-of-type {\n",
       "        vertical-align: middle;\n",
       "    }\n",
       "\n",
       "    .dataframe tbody tr th {\n",
       "        vertical-align: top;\n",
       "    }\n",
       "\n",
       "    .dataframe thead th {\n",
       "        text-align: right;\n",
       "    }\n",
       "</style>\n",
       "<table border=\"1\" class=\"dataframe\">\n",
       "  <thead>\n",
       "    <tr style=\"text-align: right;\">\n",
       "      <th></th>\n",
       "      <th>age</th>\n",
       "      <th>sex</th>\n",
       "      <th>class</th>\n",
       "      <th>fare</th>\n",
       "      <th>survived</th>\n",
       "    </tr>\n",
       "  </thead>\n",
       "  <tbody>\n",
       "    <tr>\n",
       "      <th>0</th>\n",
       "      <td>22.0</td>\n",
       "      <td>male</td>\n",
       "      <td>Third</td>\n",
       "      <td>7.2500</td>\n",
       "      <td>0</td>\n",
       "    </tr>\n",
       "    <tr>\n",
       "      <th>2</th>\n",
       "      <td>26.0</td>\n",
       "      <td>female</td>\n",
       "      <td>Third</td>\n",
       "      <td>7.9250</td>\n",
       "      <td>1</td>\n",
       "    </tr>\n",
       "    <tr>\n",
       "      <th>4</th>\n",
       "      <td>35.0</td>\n",
       "      <td>male</td>\n",
       "      <td>Third</td>\n",
       "      <td>8.0500</td>\n",
       "      <td>0</td>\n",
       "    </tr>\n",
       "    <tr>\n",
       "      <th>5</th>\n",
       "      <td>NaN</td>\n",
       "      <td>male</td>\n",
       "      <td>Third</td>\n",
       "      <td>8.4583</td>\n",
       "      <td>0</td>\n",
       "    </tr>\n",
       "    <tr>\n",
       "      <th>7</th>\n",
       "      <td>2.0</td>\n",
       "      <td>male</td>\n",
       "      <td>Third</td>\n",
       "      <td>21.0750</td>\n",
       "      <td>0</td>\n",
       "    </tr>\n",
       "  </tbody>\n",
       "</table>\n",
       "</div>"
      ],
      "text/plain": [
       "    age     sex  class     fare  survived\n",
       "0  22.0    male  Third   7.2500         0\n",
       "2  26.0  female  Third   7.9250         1\n",
       "4  35.0    male  Third   8.0500         0\n",
       "5   NaN    male  Third   8.4583         0\n",
       "7   2.0    male  Third  21.0750         0"
      ]
     },
     "execution_count": 65,
     "metadata": {},
     "output_type": "execute_result"
    }
   ],
   "source": [
    "group3 = grouped.get_group(name=('Third', ))\n",
    "group3.head()"
   ]
  },
  {
   "cell_type": "markdown",
   "id": "9bb49641-ff09-4943-9736-df9be4008e75",
   "metadata": {},
   "source": [
    "### class, sex 열로 그룹화"
   ]
  },
  {
   "cell_type": "code",
   "execution_count": 79,
   "id": "ab92e0cf-03be-4a0d-89bb-a3ac28e129ea",
   "metadata": {},
   "outputs": [
    {
     "data": {
      "text/plain": [
       "<pandas.core.groupby.generic.DataFrameGroupBy object at 0x000001B1DB08BA10>"
      ]
     },
     "execution_count": 79,
     "metadata": {},
     "output_type": "execute_result"
    }
   ],
   "source": [
    "grouped_two = df.groupby(['class', 'sex'], observed=True)\n",
    "grouped_two"
   ]
  },
  {
   "cell_type": "code",
   "execution_count": 89,
   "id": "18f24c95-fef2-4366-8f11-8fe4198ad52b",
   "metadata": {},
   "outputs": [
    {
     "name": "stdout",
     "output_type": "stream",
     "text": [
      "#key :  ('First', 'female')\n",
      "#number :  94\n",
      "     age     sex  class      fare  survived\n",
      "1   38.0  female  First   71.2833         1\n",
      "3   35.0  female  First   53.1000         1\n",
      "11  58.0  female  First   26.5500         1\n",
      "31   NaN  female  First  146.5208         1\n",
      "52  49.0  female  First   76.7292         1\n",
      "\n",
      "\n",
      "#key :  ('First', 'male')\n",
      "#number :  122\n",
      "     age   sex  class      fare  survived\n",
      "6   54.0  male  First   51.8625         0\n",
      "23  28.0  male  First   35.5000         1\n",
      "27  19.0  male  First  263.0000         0\n",
      "30  40.0  male  First   27.7208         0\n",
      "34  28.0  male  First   82.1708         0\n",
      "\n",
      "\n",
      "#key :  ('Second', 'female')\n",
      "#number :  76\n",
      "     age     sex   class     fare  survived\n",
      "9   14.0  female  Second  30.0708         1\n",
      "15  55.0  female  Second  16.0000         1\n",
      "41  27.0  female  Second  21.0000         0\n",
      "43   3.0  female  Second  41.5792         1\n",
      "53  29.0  female  Second  26.0000         1\n",
      "\n",
      "\n",
      "#key :  ('Second', 'male')\n",
      "#number :  108\n",
      "     age   sex   class  fare  survived\n",
      "17   NaN  male  Second  13.0         1\n",
      "20  35.0  male  Second  26.0         0\n",
      "21  34.0  male  Second  13.0         1\n",
      "33  66.0  male  Second  10.5         0\n",
      "70  32.0  male  Second  10.5         0\n",
      "\n",
      "\n",
      "#key :  ('Third', 'female')\n",
      "#number :  144\n",
      "     age     sex  class     fare  survived\n",
      "2   26.0  female  Third   7.9250         1\n",
      "8   27.0  female  Third  11.1333         1\n",
      "10   4.0  female  Third  16.7000         1\n",
      "14  14.0  female  Third   7.8542         0\n",
      "18  31.0  female  Third  18.0000         0\n",
      "\n",
      "\n",
      "#key :  ('Third', 'male')\n",
      "#number :  347\n",
      "     age   sex  class     fare  survived\n",
      "0   22.0  male  Third   7.2500         0\n",
      "4   35.0  male  Third   8.0500         0\n",
      "5    NaN  male  Third   8.4583         0\n",
      "7    2.0  male  Third  21.0750         0\n",
      "12  20.0  male  Third   8.0500         0\n",
      "\n",
      "\n"
     ]
    }
   ],
   "source": [
    "for key, group in grouped_two:\n",
    "    print(\"#key : \", key)\n",
    "    print(\"#number : \", len(group)) \n",
    "    print(group.head(), end='\\n\\n\\n')\n",
    "    "
   ]
  },
  {
   "cell_type": "code",
   "execution_count": null,
   "id": "1eb5eec2-5002-4228-839f-ef685d67dbfc",
   "metadata": {},
   "outputs": [],
   "source": []
  },
  {
   "cell_type": "markdown",
   "id": "4c9e3894-245c-4c89-8242-b28c2a0489b2",
   "metadata": {},
   "source": [
    "### 그룹 객체 연산"
   ]
  },
  {
   "cell_type": "code",
   "execution_count": 93,
   "id": "1627115b-2b4a-4443-874d-2899c44ddf3c",
   "metadata": {},
   "outputs": [
    {
     "data": {
      "text/html": [
       "<div>\n",
       "<style scoped>\n",
       "    .dataframe tbody tr th:only-of-type {\n",
       "        vertical-align: middle;\n",
       "    }\n",
       "\n",
       "    .dataframe tbody tr th {\n",
       "        vertical-align: top;\n",
       "    }\n",
       "\n",
       "    .dataframe thead th {\n",
       "        text-align: right;\n",
       "    }\n",
       "</style>\n",
       "<table border=\"1\" class=\"dataframe\">\n",
       "  <thead>\n",
       "    <tr style=\"text-align: right;\">\n",
       "      <th></th>\n",
       "      <th></th>\n",
       "      <th>age</th>\n",
       "      <th>fare</th>\n",
       "      <th>survived</th>\n",
       "    </tr>\n",
       "    <tr>\n",
       "      <th>class</th>\n",
       "      <th>sex</th>\n",
       "      <th></th>\n",
       "      <th></th>\n",
       "      <th></th>\n",
       "    </tr>\n",
       "  </thead>\n",
       "  <tbody>\n",
       "    <tr>\n",
       "      <th rowspan=\"2\" valign=\"top\">First</th>\n",
       "      <th>female</th>\n",
       "      <td>34.611765</td>\n",
       "      <td>106.125798</td>\n",
       "      <td>0.968085</td>\n",
       "    </tr>\n",
       "    <tr>\n",
       "      <th>male</th>\n",
       "      <td>41.281386</td>\n",
       "      <td>67.226127</td>\n",
       "      <td>0.368852</td>\n",
       "    </tr>\n",
       "    <tr>\n",
       "      <th rowspan=\"2\" valign=\"top\">Second</th>\n",
       "      <th>female</th>\n",
       "      <td>28.722973</td>\n",
       "      <td>21.970121</td>\n",
       "      <td>0.921053</td>\n",
       "    </tr>\n",
       "    <tr>\n",
       "      <th>male</th>\n",
       "      <td>30.740707</td>\n",
       "      <td>19.741782</td>\n",
       "      <td>0.157407</td>\n",
       "    </tr>\n",
       "    <tr>\n",
       "      <th rowspan=\"2\" valign=\"top\">Third</th>\n",
       "      <th>female</th>\n",
       "      <td>21.750000</td>\n",
       "      <td>16.118810</td>\n",
       "      <td>0.500000</td>\n",
       "    </tr>\n",
       "    <tr>\n",
       "      <th>male</th>\n",
       "      <td>26.507589</td>\n",
       "      <td>12.661633</td>\n",
       "      <td>0.135447</td>\n",
       "    </tr>\n",
       "  </tbody>\n",
       "</table>\n",
       "</div>"
      ],
      "text/plain": [
       "                     age        fare  survived\n",
       "class  sex                                    \n",
       "First  female  34.611765  106.125798  0.968085\n",
       "       male    41.281386   67.226127  0.368852\n",
       "Second female  28.722973   21.970121  0.921053\n",
       "       male    30.740707   19.741782  0.157407\n",
       "Third  female  21.750000   16.118810  0.500000\n",
       "       male    26.507589   12.661633  0.135447"
      ]
     },
     "execution_count": 93,
     "metadata": {},
     "output_type": "execute_result"
    }
   ],
   "source": [
    "avg_two = grouped_two.mean(numeric_only=True)\n",
    "avg_two"
   ]
  },
  {
   "cell_type": "markdown",
   "id": "cc93b41b-f882-4184-abf9-0f0b4112ba2d",
   "metadata": {},
   "source": [
    "### 멀티 인덱스의 특정 그룹만 추출"
   ]
  },
  {
   "cell_type": "code",
   "execution_count": 99,
   "id": "c08c8297-7b9f-4c53-b7b9-3d34f5faff0d",
   "metadata": {},
   "outputs": [
    {
     "data": {
      "text/html": [
       "<div>\n",
       "<style scoped>\n",
       "    .dataframe tbody tr th:only-of-type {\n",
       "        vertical-align: middle;\n",
       "    }\n",
       "\n",
       "    .dataframe tbody tr th {\n",
       "        vertical-align: top;\n",
       "    }\n",
       "\n",
       "    .dataframe thead th {\n",
       "        text-align: right;\n",
       "    }\n",
       "</style>\n",
       "<table border=\"1\" class=\"dataframe\">\n",
       "  <thead>\n",
       "    <tr style=\"text-align: right;\">\n",
       "      <th></th>\n",
       "      <th>age</th>\n",
       "      <th>sex</th>\n",
       "      <th>class</th>\n",
       "      <th>fare</th>\n",
       "      <th>survived</th>\n",
       "    </tr>\n",
       "  </thead>\n",
       "  <tbody>\n",
       "    <tr>\n",
       "      <th>2</th>\n",
       "      <td>26.0</td>\n",
       "      <td>female</td>\n",
       "      <td>Third</td>\n",
       "      <td>7.9250</td>\n",
       "      <td>1</td>\n",
       "    </tr>\n",
       "    <tr>\n",
       "      <th>8</th>\n",
       "      <td>27.0</td>\n",
       "      <td>female</td>\n",
       "      <td>Third</td>\n",
       "      <td>11.1333</td>\n",
       "      <td>1</td>\n",
       "    </tr>\n",
       "    <tr>\n",
       "      <th>10</th>\n",
       "      <td>4.0</td>\n",
       "      <td>female</td>\n",
       "      <td>Third</td>\n",
       "      <td>16.7000</td>\n",
       "      <td>1</td>\n",
       "    </tr>\n",
       "    <tr>\n",
       "      <th>14</th>\n",
       "      <td>14.0</td>\n",
       "      <td>female</td>\n",
       "      <td>Third</td>\n",
       "      <td>7.8542</td>\n",
       "      <td>0</td>\n",
       "    </tr>\n",
       "    <tr>\n",
       "      <th>18</th>\n",
       "      <td>31.0</td>\n",
       "      <td>female</td>\n",
       "      <td>Third</td>\n",
       "      <td>18.0000</td>\n",
       "      <td>0</td>\n",
       "    </tr>\n",
       "  </tbody>\n",
       "</table>\n",
       "</div>"
      ],
      "text/plain": [
       "     age     sex  class     fare  survived\n",
       "2   26.0  female  Third   7.9250         1\n",
       "8   27.0  female  Third  11.1333         1\n",
       "10   4.0  female  Third  16.7000         1\n",
       "14  14.0  female  Third   7.8542         0\n",
       "18  31.0  female  Third  18.0000         0"
      ]
     },
     "execution_count": 99,
     "metadata": {},
     "output_type": "execute_result"
    }
   ],
   "source": [
    "group_3 = grouped_two.get_group(('Third', 'female'))\n",
    "group_3.head()"
   ]
  },
  {
   "attachments": {},
   "cell_type": "markdown",
   "id": "e48e4b55-ad3a-489b-956d-75d920be9905",
   "metadata": {},
   "source": [
    "## 2단계 : "
   ]
  },
  {
   "cell_type": "markdown",
   "id": "61a61518-9db6-4e62-a128-32b2764edfe1",
   "metadata": {},
   "source": [
    "### 데이터 집계(aggregation)\n",
    "mean, max, min, sum, count, size, var, std, describe, info, first, last, etc..."
   ]
  },
  {
   "cell_type": "code",
   "execution_count": null,
   "id": "4e261da8-26ad-4279-a6af-209963ce2add",
   "metadata": {},
   "outputs": [],
   "source": [
    "### 각 그룹에 대해 각 열의 표준편차 계산, 각 그룹을 행 인덱스로 갖는 데이터 프레임 생성"
   ]
  },
  {
   "cell_type": "code",
   "execution_count": 113,
   "id": "deb334ce-8726-4408-b2b0-100de7862f99",
   "metadata": {},
   "outputs": [
    {
     "data": {
      "text/html": [
       "<div>\n",
       "<style scoped>\n",
       "    .dataframe tbody tr th:only-of-type {\n",
       "        vertical-align: middle;\n",
       "    }\n",
       "\n",
       "    .dataframe tbody tr th {\n",
       "        vertical-align: top;\n",
       "    }\n",
       "\n",
       "    .dataframe thead th {\n",
       "        text-align: right;\n",
       "    }\n",
       "</style>\n",
       "<table border=\"1\" class=\"dataframe\">\n",
       "  <thead>\n",
       "    <tr style=\"text-align: right;\">\n",
       "      <th></th>\n",
       "      <th>age</th>\n",
       "      <th>fare</th>\n",
       "      <th>survived</th>\n",
       "    </tr>\n",
       "    <tr>\n",
       "      <th>class</th>\n",
       "      <th></th>\n",
       "      <th></th>\n",
       "      <th></th>\n",
       "    </tr>\n",
       "  </thead>\n",
       "  <tbody>\n",
       "    <tr>\n",
       "      <th>First</th>\n",
       "      <td>14.802856</td>\n",
       "      <td>78.380373</td>\n",
       "      <td>0.484026</td>\n",
       "    </tr>\n",
       "    <tr>\n",
       "      <th>Second</th>\n",
       "      <td>14.001077</td>\n",
       "      <td>13.417399</td>\n",
       "      <td>0.500623</td>\n",
       "    </tr>\n",
       "    <tr>\n",
       "      <th>Third</th>\n",
       "      <td>12.495398</td>\n",
       "      <td>11.778142</td>\n",
       "      <td>0.428949</td>\n",
       "    </tr>\n",
       "  </tbody>\n",
       "</table>\n",
       "</div>"
      ],
      "text/plain": [
       "              age       fare  survived\n",
       "class                                 \n",
       "First   14.802856  78.380373  0.484026\n",
       "Second  14.001077  13.417399  0.500623\n",
       "Third   12.495398  11.778142  0.428949"
      ]
     },
     "execution_count": 113,
     "metadata": {},
     "output_type": "execute_result"
    }
   ],
   "source": [
    "std_all = grouped.std(numeric_only=True)\n",
    "std_all"
   ]
  },
  {
   "cell_type": "code",
   "execution_count": 115,
   "id": "07d812de-9088-4854-a920-bb1c63dccb9c",
   "metadata": {},
   "outputs": [
    {
     "data": {
      "text/plain": [
       "class\n",
       "First     78.380373\n",
       "Second    13.417399\n",
       "Third     11.778142\n",
       "Name: fare, dtype: float64"
      ]
     },
     "execution_count": 115,
     "metadata": {},
     "output_type": "execute_result"
    }
   ],
   "source": [
    "std_all['fare']"
   ]
  },
  {
   "cell_type": "code",
   "execution_count": 117,
   "id": "2ab95fdd-787b-4918-b052-7b030a996173",
   "metadata": {},
   "outputs": [
    {
     "data": {
      "text/plain": [
       "37.98844628499314"
      ]
     },
     "execution_count": 117,
     "metadata": {},
     "output_type": "execute_result"
    }
   ],
   "source": [
    "std_all['fare'].std()"
   ]
  },
  {
   "cell_type": "code",
   "execution_count": 123,
   "id": "99c3a489-1610-44a5-a9ee-2f6f8f379e0d",
   "metadata": {},
   "outputs": [
    {
     "data": {
      "text/plain": [
       "class\n",
       "First     78.380373\n",
       "Second    13.417399\n",
       "Third     11.778142\n",
       "Name: fare, dtype: float64"
      ]
     },
     "execution_count": 123,
     "metadata": {},
     "output_type": "execute_result"
    }
   ],
   "source": [
    "grouped['fare'].std(numeric_only=True)"
   ]
  },
  {
   "cell_type": "code",
   "execution_count": 125,
   "id": "2a732d7a-edca-4ec5-96bd-ece5f548d63e",
   "metadata": {},
   "outputs": [
    {
     "data": {
      "text/html": [
       "<div>\n",
       "<style scoped>\n",
       "    .dataframe tbody tr th:only-of-type {\n",
       "        vertical-align: middle;\n",
       "    }\n",
       "\n",
       "    .dataframe tbody tr th {\n",
       "        vertical-align: top;\n",
       "    }\n",
       "\n",
       "    .dataframe thead th {\n",
       "        text-align: right;\n",
       "    }\n",
       "</style>\n",
       "<table border=\"1\" class=\"dataframe\">\n",
       "  <thead>\n",
       "    <tr style=\"text-align: right;\">\n",
       "      <th></th>\n",
       "      <th>fare</th>\n",
       "      <th>age</th>\n",
       "    </tr>\n",
       "    <tr>\n",
       "      <th>class</th>\n",
       "      <th></th>\n",
       "      <th></th>\n",
       "    </tr>\n",
       "  </thead>\n",
       "  <tbody>\n",
       "    <tr>\n",
       "      <th>First</th>\n",
       "      <td>78.380373</td>\n",
       "      <td>14.802856</td>\n",
       "    </tr>\n",
       "    <tr>\n",
       "      <th>Second</th>\n",
       "      <td>13.417399</td>\n",
       "      <td>14.001077</td>\n",
       "    </tr>\n",
       "    <tr>\n",
       "      <th>Third</th>\n",
       "      <td>11.778142</td>\n",
       "      <td>12.495398</td>\n",
       "    </tr>\n",
       "  </tbody>\n",
       "</table>\n",
       "</div>"
      ],
      "text/plain": [
       "             fare        age\n",
       "class                       \n",
       "First   78.380373  14.802856\n",
       "Second  13.417399  14.001077\n",
       "Third   11.778142  12.495398"
      ]
     },
     "execution_count": 125,
     "metadata": {},
     "output_type": "execute_result"
    }
   ],
   "source": [
    "grouped[['fare', 'age']].std()"
   ]
  },
  {
   "cell_type": "code",
   "execution_count": null,
   "id": "7229adbe-6664-4967-a2ab-9ff29a6aefb4",
   "metadata": {},
   "outputs": [],
   "source": [
    "### agg() : 사용자 정의 함수 적용"
   ]
  },
  {
   "cell_type": "code",
   "execution_count": 129,
   "id": "2f5ec3e8-789c-4262-8dde-07ad65558a09",
   "metadata": {},
   "outputs": [
    {
     "data": {
      "text/html": [
       "<div>\n",
       "<style scoped>\n",
       "    .dataframe tbody tr th:only-of-type {\n",
       "        vertical-align: middle;\n",
       "    }\n",
       "\n",
       "    .dataframe tbody tr th {\n",
       "        vertical-align: top;\n",
       "    }\n",
       "\n",
       "    .dataframe thead tr th {\n",
       "        text-align: left;\n",
       "    }\n",
       "\n",
       "    .dataframe thead tr:last-of-type th {\n",
       "        text-align: right;\n",
       "    }\n",
       "</style>\n",
       "<table border=\"1\" class=\"dataframe\">\n",
       "  <thead>\n",
       "    <tr>\n",
       "      <th></th>\n",
       "      <th colspan=\"8\" halign=\"left\">age</th>\n",
       "      <th colspan=\"5\" halign=\"left\">fare</th>\n",
       "      <th colspan=\"8\" halign=\"left\">survived</th>\n",
       "    </tr>\n",
       "    <tr>\n",
       "      <th></th>\n",
       "      <th>count</th>\n",
       "      <th>mean</th>\n",
       "      <th>std</th>\n",
       "      <th>min</th>\n",
       "      <th>25%</th>\n",
       "      <th>50%</th>\n",
       "      <th>75%</th>\n",
       "      <th>max</th>\n",
       "      <th>count</th>\n",
       "      <th>mean</th>\n",
       "      <th>...</th>\n",
       "      <th>75%</th>\n",
       "      <th>max</th>\n",
       "      <th>count</th>\n",
       "      <th>mean</th>\n",
       "      <th>std</th>\n",
       "      <th>min</th>\n",
       "      <th>25%</th>\n",
       "      <th>50%</th>\n",
       "      <th>75%</th>\n",
       "      <th>max</th>\n",
       "    </tr>\n",
       "    <tr>\n",
       "      <th>class</th>\n",
       "      <th></th>\n",
       "      <th></th>\n",
       "      <th></th>\n",
       "      <th></th>\n",
       "      <th></th>\n",
       "      <th></th>\n",
       "      <th></th>\n",
       "      <th></th>\n",
       "      <th></th>\n",
       "      <th></th>\n",
       "      <th></th>\n",
       "      <th></th>\n",
       "      <th></th>\n",
       "      <th></th>\n",
       "      <th></th>\n",
       "      <th></th>\n",
       "      <th></th>\n",
       "      <th></th>\n",
       "      <th></th>\n",
       "      <th></th>\n",
       "      <th></th>\n",
       "    </tr>\n",
       "  </thead>\n",
       "  <tbody>\n",
       "    <tr>\n",
       "      <th>First</th>\n",
       "      <td>186.0</td>\n",
       "      <td>38.233441</td>\n",
       "      <td>14.802856</td>\n",
       "      <td>0.92</td>\n",
       "      <td>27.0</td>\n",
       "      <td>37.0</td>\n",
       "      <td>49.0</td>\n",
       "      <td>80.0</td>\n",
       "      <td>216.0</td>\n",
       "      <td>84.154687</td>\n",
       "      <td>...</td>\n",
       "      <td>93.5</td>\n",
       "      <td>512.3292</td>\n",
       "      <td>216.0</td>\n",
       "      <td>0.629630</td>\n",
       "      <td>0.484026</td>\n",
       "      <td>0.0</td>\n",
       "      <td>0.0</td>\n",
       "      <td>1.0</td>\n",
       "      <td>1.0</td>\n",
       "      <td>1.0</td>\n",
       "    </tr>\n",
       "    <tr>\n",
       "      <th>Second</th>\n",
       "      <td>173.0</td>\n",
       "      <td>29.877630</td>\n",
       "      <td>14.001077</td>\n",
       "      <td>0.67</td>\n",
       "      <td>23.0</td>\n",
       "      <td>29.0</td>\n",
       "      <td>36.0</td>\n",
       "      <td>70.0</td>\n",
       "      <td>184.0</td>\n",
       "      <td>20.662183</td>\n",
       "      <td>...</td>\n",
       "      <td>26.0</td>\n",
       "      <td>73.5000</td>\n",
       "      <td>184.0</td>\n",
       "      <td>0.472826</td>\n",
       "      <td>0.500623</td>\n",
       "      <td>0.0</td>\n",
       "      <td>0.0</td>\n",
       "      <td>0.0</td>\n",
       "      <td>1.0</td>\n",
       "      <td>1.0</td>\n",
       "    </tr>\n",
       "    <tr>\n",
       "      <th>Third</th>\n",
       "      <td>355.0</td>\n",
       "      <td>25.140620</td>\n",
       "      <td>12.495398</td>\n",
       "      <td>0.42</td>\n",
       "      <td>18.0</td>\n",
       "      <td>24.0</td>\n",
       "      <td>32.0</td>\n",
       "      <td>74.0</td>\n",
       "      <td>491.0</td>\n",
       "      <td>13.675550</td>\n",
       "      <td>...</td>\n",
       "      <td>15.5</td>\n",
       "      <td>69.5500</td>\n",
       "      <td>491.0</td>\n",
       "      <td>0.242363</td>\n",
       "      <td>0.428949</td>\n",
       "      <td>0.0</td>\n",
       "      <td>0.0</td>\n",
       "      <td>0.0</td>\n",
       "      <td>0.0</td>\n",
       "      <td>1.0</td>\n",
       "    </tr>\n",
       "  </tbody>\n",
       "</table>\n",
       "<p>3 rows × 24 columns</p>\n",
       "</div>"
      ],
      "text/plain": [
       "          age                                                       fare  \\\n",
       "        count       mean        std   min   25%   50%   75%   max  count   \n",
       "class                                                                      \n",
       "First   186.0  38.233441  14.802856  0.92  27.0  37.0  49.0  80.0  216.0   \n",
       "Second  173.0  29.877630  14.001077  0.67  23.0  29.0  36.0  70.0  184.0   \n",
       "Third   355.0  25.140620  12.495398  0.42  18.0  24.0  32.0  74.0  491.0   \n",
       "\n",
       "                   ...                 survived                                \\\n",
       "             mean  ...   75%       max    count      mean       std  min  25%   \n",
       "class              ...                                                          \n",
       "First   84.154687  ...  93.5  512.3292    216.0  0.629630  0.484026  0.0  0.0   \n",
       "Second  20.662183  ...  26.0   73.5000    184.0  0.472826  0.500623  0.0  0.0   \n",
       "Third   13.675550  ...  15.5   69.5500    491.0  0.242363  0.428949  0.0  0.0   \n",
       "\n",
       "                       \n",
       "        50%  75%  max  \n",
       "class                  \n",
       "First   1.0  1.0  1.0  \n",
       "Second  0.0  1.0  1.0  \n",
       "Third   0.0  0.0  1.0  \n",
       "\n",
       "[3 rows x 24 columns]"
      ]
     },
     "execution_count": 129,
     "metadata": {},
     "output_type": "execute_result"
    }
   ],
   "source": [
    "grouped.describe()"
   ]
  },
  {
   "cell_type": "code",
   "execution_count": 131,
   "id": "256087af-064a-419a-83ae-b58858217ad6",
   "metadata": {},
   "outputs": [
    {
     "data": {
      "text/plain": [
       "class  age    sex     fare      survived\n",
       "First  24.00  female  69.3000   1           2\n",
       "       62.00  male    26.5500   0           2\n",
       "       0.92   male    151.5500  1           1\n",
       "       2.00   female  151.5500  0           1\n",
       "       4.00   male    81.8583   1           1\n",
       "                                           ..\n",
       "Third  61.00  male    6.2375    0           1\n",
       "       63.00  female  9.5875    1           1\n",
       "       65.00  male    7.7500    0           1\n",
       "       70.50  male    7.7500    0           1\n",
       "       74.00  male    7.7750    0           1\n",
       "Name: count, Length: 670, dtype: int64"
      ]
     },
     "execution_count": 131,
     "metadata": {},
     "output_type": "execute_result"
    }
   ],
   "source": [
    "grouped.value_counts()"
   ]
  },
  {
   "cell_type": "code",
   "execution_count": 133,
   "id": "cea11847-1b07-4d74-b769-1f1285e91c6f",
   "metadata": {},
   "outputs": [
    {
     "data": {
      "text/plain": [
       "class   sex   \n",
       "First   male      122\n",
       "        female     94\n",
       "Second  male      108\n",
       "        female     76\n",
       "Third   male      347\n",
       "        female    144\n",
       "Name: count, dtype: int64"
      ]
     },
     "execution_count": 133,
     "metadata": {},
     "output_type": "execute_result"
    }
   ],
   "source": [
    "grouped[['class', 'sex']].value_counts()"
   ]
  },
  {
   "cell_type": "code",
   "execution_count": 137,
   "id": "c3115f8a-5e2b-42df-afbe-c41842032d47",
   "metadata": {},
   "outputs": [
    {
     "data": {
      "text/html": [
       "<div>\n",
       "<style scoped>\n",
       "    .dataframe tbody tr th:only-of-type {\n",
       "        vertical-align: middle;\n",
       "    }\n",
       "\n",
       "    .dataframe tbody tr th {\n",
       "        vertical-align: top;\n",
       "    }\n",
       "\n",
       "    .dataframe thead th {\n",
       "        text-align: right;\n",
       "    }\n",
       "</style>\n",
       "<table border=\"1\" class=\"dataframe\">\n",
       "  <thead>\n",
       "    <tr style=\"text-align: right;\">\n",
       "      <th></th>\n",
       "      <th>age</th>\n",
       "      <th>fare</th>\n",
       "      <th>survived</th>\n",
       "    </tr>\n",
       "    <tr>\n",
       "      <th>class</th>\n",
       "      <th></th>\n",
       "      <th></th>\n",
       "      <th></th>\n",
       "    </tr>\n",
       "  </thead>\n",
       "  <tbody>\n",
       "    <tr>\n",
       "      <th>First</th>\n",
       "      <td>38.233441</td>\n",
       "      <td>84.154687</td>\n",
       "      <td>0.629630</td>\n",
       "    </tr>\n",
       "    <tr>\n",
       "      <th>Second</th>\n",
       "      <td>29.877630</td>\n",
       "      <td>20.662183</td>\n",
       "      <td>0.472826</td>\n",
       "    </tr>\n",
       "    <tr>\n",
       "      <th>Third</th>\n",
       "      <td>25.140620</td>\n",
       "      <td>13.675550</td>\n",
       "      <td>0.242363</td>\n",
       "    </tr>\n",
       "  </tbody>\n",
       "</table>\n",
       "</div>"
      ],
      "text/plain": [
       "              age       fare  survived\n",
       "class                                 \n",
       "First   38.233441  84.154687  0.629630\n",
       "Second  29.877630  20.662183  0.472826\n",
       "Third   25.140620  13.675550  0.242363"
      ]
     },
     "execution_count": 137,
     "metadata": {},
     "output_type": "execute_result"
    }
   ],
   "source": [
    "grouped.aggregate('mean', numeric_only=True)"
   ]
  },
  {
   "cell_type": "code",
   "execution_count": 149,
   "id": "d589be53-eb0b-4d09-a168-dca179a80964",
   "metadata": {},
   "outputs": [
    {
     "data": {
      "text/html": [
       "<div>\n",
       "<style scoped>\n",
       "    .dataframe tbody tr th:only-of-type {\n",
       "        vertical-align: middle;\n",
       "    }\n",
       "\n",
       "    .dataframe tbody tr th {\n",
       "        vertical-align: top;\n",
       "    }\n",
       "\n",
       "    .dataframe thead th {\n",
       "        text-align: right;\n",
       "    }\n",
       "</style>\n",
       "<table border=\"1\" class=\"dataframe\">\n",
       "  <thead>\n",
       "    <tr style=\"text-align: right;\">\n",
       "      <th></th>\n",
       "      <th>age</th>\n",
       "      <th>fare</th>\n",
       "      <th>survived</th>\n",
       "    </tr>\n",
       "    <tr>\n",
       "      <th>class</th>\n",
       "      <th></th>\n",
       "      <th></th>\n",
       "      <th></th>\n",
       "    </tr>\n",
       "  </thead>\n",
       "  <tbody>\n",
       "    <tr>\n",
       "      <th>First</th>\n",
       "      <td>38.233441</td>\n",
       "      <td>84.154687</td>\n",
       "      <td>0.629630</td>\n",
       "    </tr>\n",
       "    <tr>\n",
       "      <th>Second</th>\n",
       "      <td>29.877630</td>\n",
       "      <td>20.662183</td>\n",
       "      <td>0.472826</td>\n",
       "    </tr>\n",
       "    <tr>\n",
       "      <th>Third</th>\n",
       "      <td>25.140620</td>\n",
       "      <td>13.675550</td>\n",
       "      <td>0.242363</td>\n",
       "    </tr>\n",
       "  </tbody>\n",
       "</table>\n",
       "</div>"
      ],
      "text/plain": [
       "              age       fare  survived\n",
       "class                                 \n",
       "First   38.233441  84.154687  0.629630\n",
       "Second  29.877630  20.662183  0.472826\n",
       "Third   25.140620  13.675550  0.242363"
      ]
     },
     "execution_count": 149,
     "metadata": {},
     "output_type": "execute_result"
    }
   ],
   "source": [
    "grouped.agg('mean', numeric_only=True)"
   ]
  },
  {
   "cell_type": "code",
   "execution_count": 165,
   "id": "5b3a760f-ecbc-4839-bdfd-81f759e75f22",
   "metadata": {},
   "outputs": [
    {
     "data": {
      "text/html": [
       "<div>\n",
       "<style scoped>\n",
       "    .dataframe tbody tr th:only-of-type {\n",
       "        vertical-align: middle;\n",
       "    }\n",
       "\n",
       "    .dataframe tbody tr th {\n",
       "        vertical-align: top;\n",
       "    }\n",
       "\n",
       "    .dataframe thead tr th {\n",
       "        text-align: left;\n",
       "    }\n",
       "\n",
       "    .dataframe thead tr:last-of-type th {\n",
       "        text-align: right;\n",
       "    }\n",
       "</style>\n",
       "<table border=\"1\" class=\"dataframe\">\n",
       "  <thead>\n",
       "    <tr>\n",
       "      <th></th>\n",
       "      <th colspan=\"2\" halign=\"left\">age</th>\n",
       "      <th colspan=\"2\" halign=\"left\">sex</th>\n",
       "      <th colspan=\"2\" halign=\"left\">fare</th>\n",
       "      <th colspan=\"2\" halign=\"left\">survived</th>\n",
       "    </tr>\n",
       "    <tr>\n",
       "      <th></th>\n",
       "      <th>max</th>\n",
       "      <th>min</th>\n",
       "      <th>max</th>\n",
       "      <th>min</th>\n",
       "      <th>max</th>\n",
       "      <th>min</th>\n",
       "      <th>max</th>\n",
       "      <th>min</th>\n",
       "    </tr>\n",
       "    <tr>\n",
       "      <th>class</th>\n",
       "      <th></th>\n",
       "      <th></th>\n",
       "      <th></th>\n",
       "      <th></th>\n",
       "      <th></th>\n",
       "      <th></th>\n",
       "      <th></th>\n",
       "      <th></th>\n",
       "    </tr>\n",
       "  </thead>\n",
       "  <tbody>\n",
       "    <tr>\n",
       "      <th>First</th>\n",
       "      <td>80.0</td>\n",
       "      <td>0.92</td>\n",
       "      <td>male</td>\n",
       "      <td>female</td>\n",
       "      <td>512.3292</td>\n",
       "      <td>0.0</td>\n",
       "      <td>1</td>\n",
       "      <td>0</td>\n",
       "    </tr>\n",
       "    <tr>\n",
       "      <th>Second</th>\n",
       "      <td>70.0</td>\n",
       "      <td>0.67</td>\n",
       "      <td>male</td>\n",
       "      <td>female</td>\n",
       "      <td>73.5000</td>\n",
       "      <td>0.0</td>\n",
       "      <td>1</td>\n",
       "      <td>0</td>\n",
       "    </tr>\n",
       "    <tr>\n",
       "      <th>Third</th>\n",
       "      <td>74.0</td>\n",
       "      <td>0.42</td>\n",
       "      <td>male</td>\n",
       "      <td>female</td>\n",
       "      <td>69.5500</td>\n",
       "      <td>0.0</td>\n",
       "      <td>1</td>\n",
       "      <td>0</td>\n",
       "    </tr>\n",
       "  </tbody>\n",
       "</table>\n",
       "</div>"
      ],
      "text/plain": [
       "         age         sex              fare      survived    \n",
       "         max   min   max     min       max  min      max min\n",
       "class                                                       \n",
       "First   80.0  0.92  male  female  512.3292  0.0        1   0\n",
       "Second  70.0  0.67  male  female   73.5000  0.0        1   0\n",
       "Third   74.0  0.42  male  female   69.5500  0.0        1   0"
      ]
     },
     "execution_count": 165,
     "metadata": {},
     "output_type": "execute_result"
    }
   ],
   "source": [
    "grouped.agg(['max', 'min'])"
   ]
  },
  {
   "cell_type": "code",
   "execution_count": 167,
   "id": "08c45158-52ac-4020-bcdf-4aa7aaa2d64d",
   "metadata": {},
   "outputs": [
    {
     "data": {
      "text/html": [
       "<div>\n",
       "<style scoped>\n",
       "    .dataframe tbody tr th:only-of-type {\n",
       "        vertical-align: middle;\n",
       "    }\n",
       "\n",
       "    .dataframe tbody tr th {\n",
       "        vertical-align: top;\n",
       "    }\n",
       "\n",
       "    .dataframe thead tr th {\n",
       "        text-align: left;\n",
       "    }\n",
       "\n",
       "    .dataframe thead tr:last-of-type th {\n",
       "        text-align: right;\n",
       "    }\n",
       "</style>\n",
       "<table border=\"1\" class=\"dataframe\">\n",
       "  <thead>\n",
       "    <tr>\n",
       "      <th></th>\n",
       "      <th colspan=\"2\" halign=\"left\">fare</th>\n",
       "      <th>age</th>\n",
       "    </tr>\n",
       "    <tr>\n",
       "      <th></th>\n",
       "      <th>min</th>\n",
       "      <th>max</th>\n",
       "      <th>mean</th>\n",
       "    </tr>\n",
       "    <tr>\n",
       "      <th>class</th>\n",
       "      <th></th>\n",
       "      <th></th>\n",
       "      <th></th>\n",
       "    </tr>\n",
       "  </thead>\n",
       "  <tbody>\n",
       "    <tr>\n",
       "      <th>First</th>\n",
       "      <td>0.0</td>\n",
       "      <td>512.3292</td>\n",
       "      <td>38.233441</td>\n",
       "    </tr>\n",
       "    <tr>\n",
       "      <th>Second</th>\n",
       "      <td>0.0</td>\n",
       "      <td>73.5000</td>\n",
       "      <td>29.877630</td>\n",
       "    </tr>\n",
       "    <tr>\n",
       "      <th>Third</th>\n",
       "      <td>0.0</td>\n",
       "      <td>69.5500</td>\n",
       "      <td>25.140620</td>\n",
       "    </tr>\n",
       "  </tbody>\n",
       "</table>\n",
       "</div>"
      ],
      "text/plain": [
       "       fare                  age\n",
       "        min       max       mean\n",
       "class                           \n",
       "First   0.0  512.3292  38.233441\n",
       "Second  0.0   73.5000  29.877630\n",
       "Third   0.0   69.5500  25.140620"
      ]
     },
     "execution_count": 167,
     "metadata": {},
     "output_type": "execute_result"
    }
   ],
   "source": [
    "grouped.agg({'fare':['min', 'max'], 'age':['mean']})"
   ]
  },
  {
   "cell_type": "code",
   "execution_count": 173,
   "id": "89635e23-2f97-4308-bd0b-7bfa0162f213",
   "metadata": {},
   "outputs": [
    {
     "data": {
      "text/html": [
       "<div>\n",
       "<style scoped>\n",
       "    .dataframe tbody tr th:only-of-type {\n",
       "        vertical-align: middle;\n",
       "    }\n",
       "\n",
       "    .dataframe tbody tr th {\n",
       "        vertical-align: top;\n",
       "    }\n",
       "\n",
       "    .dataframe thead th {\n",
       "        text-align: right;\n",
       "    }\n",
       "</style>\n",
       "<table border=\"1\" class=\"dataframe\">\n",
       "  <thead>\n",
       "    <tr style=\"text-align: right;\">\n",
       "      <th></th>\n",
       "      <th>fare</th>\n",
       "      <th>age</th>\n",
       "    </tr>\n",
       "    <tr>\n",
       "      <th>class</th>\n",
       "      <th></th>\n",
       "      <th></th>\n",
       "    </tr>\n",
       "  </thead>\n",
       "  <tbody>\n",
       "    <tr>\n",
       "      <th>First</th>\n",
       "      <td>512.3292</td>\n",
       "      <td>79.08</td>\n",
       "    </tr>\n",
       "    <tr>\n",
       "      <th>Second</th>\n",
       "      <td>73.5000</td>\n",
       "      <td>69.33</td>\n",
       "    </tr>\n",
       "    <tr>\n",
       "      <th>Third</th>\n",
       "      <td>69.5500</td>\n",
       "      <td>73.58</td>\n",
       "    </tr>\n",
       "  </tbody>\n",
       "</table>\n",
       "</div>"
      ],
      "text/plain": [
       "            fare    age\n",
       "class                  \n",
       "First   512.3292  79.08\n",
       "Second   73.5000  69.33\n",
       "Third    69.5500  73.58"
      ]
     },
     "execution_count": 173,
     "metadata": {},
     "output_type": "execute_result"
    }
   ],
   "source": [
    "def min_max(x):\n",
    "    return x.max() - x.min()\n",
    "\n",
    "\n",
    "grouped[['fare', 'age']].agg(min_max)\n"
   ]
  },
  {
   "cell_type": "code",
   "execution_count": null,
   "id": "0d59a2a1-0cb7-4ac2-afe6-f3ce03da7e72",
   "metadata": {},
   "outputs": [],
   "source": []
  },
  {
   "cell_type": "code",
   "execution_count": null,
   "id": "e55135b7-7d3f-4b5b-92cb-d5787d7692c8",
   "metadata": {},
   "outputs": [],
   "source": [
    "## transform"
   ]
  },
  {
   "cell_type": "code",
   "execution_count": null,
   "id": "931d08b3-f911-40f8-a4b9-a0a45e61e8f1",
   "metadata": {},
   "outputs": [],
   "source": []
  },
  {
   "cell_type": "code",
   "execution_count": null,
   "id": "6a671b92-423d-4b93-81ee-281742d7aa49",
   "metadata": {},
   "outputs": [],
   "source": [
    "### 합계 "
   ]
  },
  {
   "cell_type": "code",
   "execution_count": 177,
   "id": "99ab0066-1b5c-477c-81c9-306b844dbb1f",
   "metadata": {},
   "outputs": [
    {
     "data": {
      "text/plain": [
       "class\n",
       "First     18177.4125\n",
       "Second     3801.8417\n",
       "Third      6714.6951\n",
       "Name: fare, dtype: float64"
      ]
     },
     "execution_count": 177,
     "metadata": {},
     "output_type": "execute_result"
    }
   ],
   "source": [
    "grouped['fare'].sum()"
   ]
  },
  {
   "cell_type": "code",
   "execution_count": null,
   "id": "db95841e-4749-44b7-9437-6fafda44c455",
   "metadata": {},
   "outputs": [],
   "source": [
    "### 누적합계"
   ]
  },
  {
   "cell_type": "code",
   "execution_count": 175,
   "id": "9a0a0a66-5433-4259-ae7e-5a2b5a753199",
   "metadata": {},
   "outputs": [
    {
     "data": {
      "text/plain": [
       "0          7.2500\n",
       "1         71.2833\n",
       "2         15.1750\n",
       "3        124.3833\n",
       "4         23.2250\n",
       "          ...    \n",
       "886     3801.8417\n",
       "887    18147.4125\n",
       "888     6706.9451\n",
       "889    18177.4125\n",
       "890     6714.6951\n",
       "Name: fare, Length: 891, dtype: float64"
      ]
     },
     "execution_count": 175,
     "metadata": {},
     "output_type": "execute_result"
    }
   ],
   "source": [
    "grouped['fare'].cumsum()"
   ]
  },
  {
   "cell_type": "code",
   "execution_count": 181,
   "id": "cc3ec4f4-8582-4c51-9af2-4ced7ce84c72",
   "metadata": {},
   "outputs": [
    {
     "data": {
      "text/plain": [
       "pandas.core.series.Series"
      ]
     },
     "execution_count": 181,
     "metadata": {},
     "output_type": "execute_result"
    }
   ],
   "source": [
    "type(grouped['fare'].cumsum())"
   ]
  },
  {
   "cell_type": "code",
   "execution_count": 183,
   "id": "a6d5c1e3-eb31-4cc4-a186-9ed06e548f35",
   "metadata": {},
   "outputs": [],
   "source": [
    "df['fare_cumsum'] = grouped['fare'].cumsum()"
   ]
  },
  {
   "cell_type": "code",
   "execution_count": 185,
   "id": "44f31d89-8319-4eb5-a4d7-d33ca8d9c1ca",
   "metadata": {},
   "outputs": [
    {
     "data": {
      "text/html": [
       "<div>\n",
       "<style scoped>\n",
       "    .dataframe tbody tr th:only-of-type {\n",
       "        vertical-align: middle;\n",
       "    }\n",
       "\n",
       "    .dataframe tbody tr th {\n",
       "        vertical-align: top;\n",
       "    }\n",
       "\n",
       "    .dataframe thead th {\n",
       "        text-align: right;\n",
       "    }\n",
       "</style>\n",
       "<table border=\"1\" class=\"dataframe\">\n",
       "  <thead>\n",
       "    <tr style=\"text-align: right;\">\n",
       "      <th></th>\n",
       "      <th>age</th>\n",
       "      <th>sex</th>\n",
       "      <th>class</th>\n",
       "      <th>fare</th>\n",
       "      <th>survived</th>\n",
       "      <th>fare_cumsum</th>\n",
       "    </tr>\n",
       "  </thead>\n",
       "  <tbody>\n",
       "    <tr>\n",
       "      <th>0</th>\n",
       "      <td>22.0</td>\n",
       "      <td>male</td>\n",
       "      <td>Third</td>\n",
       "      <td>7.2500</td>\n",
       "      <td>0</td>\n",
       "      <td>7.2500</td>\n",
       "    </tr>\n",
       "    <tr>\n",
       "      <th>1</th>\n",
       "      <td>38.0</td>\n",
       "      <td>female</td>\n",
       "      <td>First</td>\n",
       "      <td>71.2833</td>\n",
       "      <td>1</td>\n",
       "      <td>71.2833</td>\n",
       "    </tr>\n",
       "    <tr>\n",
       "      <th>2</th>\n",
       "      <td>26.0</td>\n",
       "      <td>female</td>\n",
       "      <td>Third</td>\n",
       "      <td>7.9250</td>\n",
       "      <td>1</td>\n",
       "      <td>15.1750</td>\n",
       "    </tr>\n",
       "    <tr>\n",
       "      <th>3</th>\n",
       "      <td>35.0</td>\n",
       "      <td>female</td>\n",
       "      <td>First</td>\n",
       "      <td>53.1000</td>\n",
       "      <td>1</td>\n",
       "      <td>124.3833</td>\n",
       "    </tr>\n",
       "    <tr>\n",
       "      <th>4</th>\n",
       "      <td>35.0</td>\n",
       "      <td>male</td>\n",
       "      <td>Third</td>\n",
       "      <td>8.0500</td>\n",
       "      <td>0</td>\n",
       "      <td>23.2250</td>\n",
       "    </tr>\n",
       "  </tbody>\n",
       "</table>\n",
       "</div>"
      ],
      "text/plain": [
       "    age     sex  class     fare  survived  fare_cumsum\n",
       "0  22.0    male  Third   7.2500         0       7.2500\n",
       "1  38.0  female  First  71.2833         1      71.2833\n",
       "2  26.0  female  Third   7.9250         1      15.1750\n",
       "3  35.0  female  First  53.1000         1     124.3833\n",
       "4  35.0    male  Third   8.0500         0      23.2250"
      ]
     },
     "execution_count": 185,
     "metadata": {},
     "output_type": "execute_result"
    }
   ],
   "source": [
    "df.head()"
   ]
  },
  {
   "cell_type": "code",
   "execution_count": 187,
   "id": "2346e3f6-4a45-4c3c-a614-d6357804acf3",
   "metadata": {},
   "outputs": [
    {
     "data": {
      "text/plain": [
       "0          7.2500\n",
       "1         71.2833\n",
       "2         15.1750\n",
       "3        124.3833\n",
       "4         23.2250\n",
       "          ...    \n",
       "886     3801.8417\n",
       "887    18147.4125\n",
       "888     6706.9451\n",
       "889    18177.4125\n",
       "890     6714.6951\n",
       "Name: fare, Length: 891, dtype: float64"
      ]
     },
     "execution_count": 187,
     "metadata": {},
     "output_type": "execute_result"
    }
   ],
   "source": [
    "grouped['fare'].transform('cumsum')"
   ]
  },
  {
   "cell_type": "code",
   "execution_count": 193,
   "id": "94f528f2-2b70-47cd-aead-27b49345c3f5",
   "metadata": {},
   "outputs": [
    {
     "data": {
      "text/html": [
       "<div>\n",
       "<style scoped>\n",
       "    .dataframe tbody tr th:only-of-type {\n",
       "        vertical-align: middle;\n",
       "    }\n",
       "\n",
       "    .dataframe tbody tr th {\n",
       "        vertical-align: top;\n",
       "    }\n",
       "\n",
       "    .dataframe thead th {\n",
       "        text-align: right;\n",
       "    }\n",
       "</style>\n",
       "<table border=\"1\" class=\"dataframe\">\n",
       "  <thead>\n",
       "    <tr style=\"text-align: right;\">\n",
       "      <th></th>\n",
       "      <th>fare</th>\n",
       "    </tr>\n",
       "  </thead>\n",
       "  <tbody>\n",
       "    <tr>\n",
       "      <th>0</th>\n",
       "      <td>7.2500</td>\n",
       "    </tr>\n",
       "    <tr>\n",
       "      <th>1</th>\n",
       "      <td>71.2833</td>\n",
       "    </tr>\n",
       "    <tr>\n",
       "      <th>2</th>\n",
       "      <td>15.1750</td>\n",
       "    </tr>\n",
       "    <tr>\n",
       "      <th>3</th>\n",
       "      <td>124.3833</td>\n",
       "    </tr>\n",
       "    <tr>\n",
       "      <th>4</th>\n",
       "      <td>23.2250</td>\n",
       "    </tr>\n",
       "    <tr>\n",
       "      <th>...</th>\n",
       "      <td>...</td>\n",
       "    </tr>\n",
       "    <tr>\n",
       "      <th>886</th>\n",
       "      <td>3801.8417</td>\n",
       "    </tr>\n",
       "    <tr>\n",
       "      <th>887</th>\n",
       "      <td>18147.4125</td>\n",
       "    </tr>\n",
       "    <tr>\n",
       "      <th>888</th>\n",
       "      <td>6706.9451</td>\n",
       "    </tr>\n",
       "    <tr>\n",
       "      <th>889</th>\n",
       "      <td>18177.4125</td>\n",
       "    </tr>\n",
       "    <tr>\n",
       "      <th>890</th>\n",
       "      <td>6714.6951</td>\n",
       "    </tr>\n",
       "  </tbody>\n",
       "</table>\n",
       "<p>891 rows × 1 columns</p>\n",
       "</div>"
      ],
      "text/plain": [
       "           fare\n",
       "0        7.2500\n",
       "1       71.2833\n",
       "2       15.1750\n",
       "3      124.3833\n",
       "4       23.2250\n",
       "..          ...\n",
       "886   3801.8417\n",
       "887  18147.4125\n",
       "888   6706.9451\n",
       "889  18177.4125\n",
       "890   6714.6951\n",
       "\n",
       "[891 rows x 1 columns]"
      ]
     },
     "execution_count": 193,
     "metadata": {},
     "output_type": "execute_result"
    }
   ],
   "source": [
    "grouped[['fare']].transform('cumsum')"
   ]
  },
  {
   "cell_type": "code",
   "execution_count": 195,
   "id": "fa336be2-f033-4e7a-8bd4-9b4aac4ce4e7",
   "metadata": {},
   "outputs": [
    {
     "name": "stdout",
     "output_type": "stream",
     "text": [
      "#key :  ('First',)\n",
      "#number :  216\n",
      "     age     sex  class     fare  survived  fare_cumsum\n",
      "1   38.0  female  First  71.2833         1      71.2833\n",
      "3   35.0  female  First  53.1000         1     124.3833\n",
      "6   54.0    male  First  51.8625         0     176.2458\n",
      "11  58.0  female  First  26.5500         1     202.7958\n",
      "23  28.0    male  First  35.5000         1     238.2958\n",
      "\n",
      "\n",
      "#key :  ('Second',)\n",
      "#number :  184\n",
      "     age     sex   class     fare  survived  fare_cumsum\n",
      "9   14.0  female  Second  30.0708         1      30.0708\n",
      "15  55.0  female  Second  16.0000         1      46.0708\n",
      "17   NaN    male  Second  13.0000         1      59.0708\n",
      "20  35.0    male  Second  26.0000         0      85.0708\n",
      "21  34.0    male  Second  13.0000         1      98.0708\n",
      "\n",
      "\n",
      "#key :  ('Third',)\n",
      "#number :  491\n",
      "    age     sex  class     fare  survived  fare_cumsum\n",
      "0  22.0    male  Third   7.2500         0       7.2500\n",
      "2  26.0  female  Third   7.9250         1      15.1750\n",
      "4  35.0    male  Third   8.0500         0      23.2250\n",
      "5   NaN    male  Third   8.4583         0      31.6833\n",
      "7   2.0    male  Third  21.0750         0      52.7583\n",
      "\n",
      "\n"
     ]
    }
   ],
   "source": [
    "for key, group in grouped:\n",
    "    print(\"#key : \", key)\n",
    "    print(\"#number : \", len(group)) \n",
    "    print(group.head(), end='\\n\\n\\n')\n",
    "    "
   ]
  },
  {
   "cell_type": "code",
   "execution_count": 197,
   "id": "4bda252b-369c-4910-bd21-c8212e80ae17",
   "metadata": {},
   "outputs": [
    {
     "data": {
      "text/html": [
       "<div>\n",
       "<style scoped>\n",
       "    .dataframe tbody tr th:only-of-type {\n",
       "        vertical-align: middle;\n",
       "    }\n",
       "\n",
       "    .dataframe tbody tr th {\n",
       "        vertical-align: top;\n",
       "    }\n",
       "\n",
       "    .dataframe thead th {\n",
       "        text-align: right;\n",
       "    }\n",
       "</style>\n",
       "<table border=\"1\" class=\"dataframe\">\n",
       "  <thead>\n",
       "    <tr style=\"text-align: right;\">\n",
       "      <th></th>\n",
       "      <th>age</th>\n",
       "      <th>survived</th>\n",
       "    </tr>\n",
       "  </thead>\n",
       "  <tbody>\n",
       "    <tr>\n",
       "      <th>0</th>\n",
       "      <td>25.140620</td>\n",
       "      <td>0.242363</td>\n",
       "    </tr>\n",
       "    <tr>\n",
       "      <th>1</th>\n",
       "      <td>38.233441</td>\n",
       "      <td>0.629630</td>\n",
       "    </tr>\n",
       "    <tr>\n",
       "      <th>2</th>\n",
       "      <td>25.140620</td>\n",
       "      <td>0.242363</td>\n",
       "    </tr>\n",
       "    <tr>\n",
       "      <th>3</th>\n",
       "      <td>38.233441</td>\n",
       "      <td>0.629630</td>\n",
       "    </tr>\n",
       "    <tr>\n",
       "      <th>4</th>\n",
       "      <td>25.140620</td>\n",
       "      <td>0.242363</td>\n",
       "    </tr>\n",
       "    <tr>\n",
       "      <th>...</th>\n",
       "      <td>...</td>\n",
       "      <td>...</td>\n",
       "    </tr>\n",
       "    <tr>\n",
       "      <th>886</th>\n",
       "      <td>29.877630</td>\n",
       "      <td>0.472826</td>\n",
       "    </tr>\n",
       "    <tr>\n",
       "      <th>887</th>\n",
       "      <td>38.233441</td>\n",
       "      <td>0.629630</td>\n",
       "    </tr>\n",
       "    <tr>\n",
       "      <th>888</th>\n",
       "      <td>25.140620</td>\n",
       "      <td>0.242363</td>\n",
       "    </tr>\n",
       "    <tr>\n",
       "      <th>889</th>\n",
       "      <td>38.233441</td>\n",
       "      <td>0.629630</td>\n",
       "    </tr>\n",
       "    <tr>\n",
       "      <th>890</th>\n",
       "      <td>25.140620</td>\n",
       "      <td>0.242363</td>\n",
       "    </tr>\n",
       "  </tbody>\n",
       "</table>\n",
       "<p>891 rows × 2 columns</p>\n",
       "</div>"
      ],
      "text/plain": [
       "           age  survived\n",
       "0    25.140620  0.242363\n",
       "1    38.233441  0.629630\n",
       "2    25.140620  0.242363\n",
       "3    38.233441  0.629630\n",
       "4    25.140620  0.242363\n",
       "..         ...       ...\n",
       "886  29.877630  0.472826\n",
       "887  38.233441  0.629630\n",
       "888  25.140620  0.242363\n",
       "889  38.233441  0.629630\n",
       "890  25.140620  0.242363\n",
       "\n",
       "[891 rows x 2 columns]"
      ]
     },
     "execution_count": 197,
     "metadata": {},
     "output_type": "execute_result"
    }
   ],
   "source": [
    "grouped[['age', 'survived']].transform('mean')"
   ]
  },
  {
   "cell_type": "code",
   "execution_count": 201,
   "id": "538a2550-6e79-4921-80cb-834573bfd48f",
   "metadata": {},
   "outputs": [
    {
     "data": {
      "text/plain": [
       "class\n",
       "First     [38.0, 35.0, 54.0, 58.0, 28.0, 19.0, 40.0, nan...\n",
       "Second    [14.0, 55.0, nan, 35.0, 34.0, 66.0, 27.0, 3.0,...\n",
       "Third     [22.0, 26.0, 35.0, nan, 2.0, 27.0, 4.0, 20.0, ...\n",
       "Name: age, dtype: object"
      ]
     },
     "execution_count": 201,
     "metadata": {},
     "output_type": "execute_result"
    }
   ],
   "source": [
    "grouped['age'].unique()"
   ]
  },
  {
   "cell_type": "markdown",
   "id": "b771a813-556f-4d4c-8bf6-6906543dd7b4",
   "metadata": {},
   "source": [
    "## age열에 포함된 개별데이터의 z-score 구하기 \n",
    "z-score : (원소 값 - 평균값) / 표준편차 "
   ]
  },
  {
   "cell_type": "code",
   "execution_count": 207,
   "id": "38e7c8d0-f52f-4d05-8eca-d372946e64bf",
   "metadata": {},
   "outputs": [
    {
     "data": {
      "text/plain": [
       "0     -0.251342\n",
       "1     -0.015770\n",
       "2      0.068776\n",
       "3     -0.218434\n",
       "4      0.789041\n",
       "         ...   \n",
       "886   -0.205529\n",
       "887   -1.299306\n",
       "888         NaN\n",
       "889   -0.826424\n",
       "890    0.548953\n",
       "Name: age, Length: 891, dtype: float64"
      ]
     },
     "execution_count": 207,
     "metadata": {},
     "output_type": "execute_result"
    }
   ],
   "source": [
    "def z_score(x):\n",
    "    return (x - x.mean()) / x.std()\n",
    "\n",
    "grouped['age'].transform(z_score)\n",
    "    "
   ]
  },
  {
   "cell_type": "code",
   "execution_count": 211,
   "id": "2383aa0d-cbaf-4c6f-a338-90db221056e6",
   "metadata": {},
   "outputs": [],
   "source": [
    "age_zscore = grouped['age'].transform(lambda x: (x - x.mean()) / x.std())"
   ]
  },
  {
   "cell_type": "code",
   "execution_count": 213,
   "id": "4257e4ff-62a4-402e-8a5b-3818f0f2ff91",
   "metadata": {},
   "outputs": [
    {
     "data": {
      "text/plain": [
       "0     -0.251342\n",
       "1     -0.015770\n",
       "2      0.068776\n",
       "3     -0.218434\n",
       "4      0.789041\n",
       "         ...   \n",
       "886   -0.205529\n",
       "887   -1.299306\n",
       "888         NaN\n",
       "889   -0.826424\n",
       "890    0.548953\n",
       "Name: age, Length: 891, dtype: float64"
      ]
     },
     "execution_count": 213,
     "metadata": {},
     "output_type": "execute_result"
    }
   ],
   "source": [
    "age_zscore"
   ]
  },
  {
   "cell_type": "code",
   "execution_count": 215,
   "id": "5e6b6ec9-2c84-469c-a690-9ee3a28dedea",
   "metadata": {},
   "outputs": [],
   "source": [
    "age_zscore2 = (df['age'] - grouped['age'].transform('mean')) / grouped['age'].transform('std')"
   ]
  },
  {
   "cell_type": "code",
   "execution_count": 217,
   "id": "b4328869-d356-413c-848e-2e8a936788b6",
   "metadata": {},
   "outputs": [
    {
     "data": {
      "text/plain": [
       "0     -0.251342\n",
       "1     -0.015770\n",
       "2      0.068776\n",
       "3     -0.218434\n",
       "4      0.789041\n",
       "         ...   \n",
       "886   -0.205529\n",
       "887   -1.299306\n",
       "888         NaN\n",
       "889   -0.826424\n",
       "890    0.548953\n",
       "Name: age, Length: 891, dtype: float64"
      ]
     },
     "execution_count": 217,
     "metadata": {},
     "output_type": "execute_result"
    }
   ],
   "source": [
    "age_zscore2"
   ]
  }
 ],
 "metadata": {
  "kernelspec": {
   "display_name": "Python [conda env:base] *",
   "language": "python",
   "name": "conda-base-py"
  },
  "language_info": {
   "codemirror_mode": {
    "name": "ipython",
    "version": 3
   },
   "file_extension": ".py",
   "mimetype": "text/x-python",
   "name": "python",
   "nbconvert_exporter": "python",
   "pygments_lexer": "ipython3",
   "version": "3.12.7"
  }
 },
 "nbformat": 4,
 "nbformat_minor": 5
}
