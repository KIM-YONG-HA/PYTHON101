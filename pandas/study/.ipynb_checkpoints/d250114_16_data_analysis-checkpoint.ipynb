{
 "cells": [
  {
   "cell_type": "markdown",
   "id": "87899897-a3ad-4b9e-a71e-8d9bcc58faca",
   "metadata": {},
   "source": [
    "- 일부 데이터 추출\n",
    "- 콤마를 제외한 숫자만 추출"
   ]
  },
  {
   "cell_type": "code",
   "execution_count": null,
   "id": "fa121228-1c12-4b6d-82eb-5db9f0fbbb04",
   "metadata": {},
   "outputs": [],
   "source": []
  },
  {
   "cell_type": "code",
   "execution_count": 74,
   "id": "f2fae9cd-537c-40c3-9199-d6091c2a9d70",
   "metadata": {},
   "outputs": [
    {
     "data": {
      "text/plain": [
       "12345"
      ]
     },
     "execution_count": 74,
     "metadata": {},
     "output_type": "execute_result"
    }
   ],
   "source": [
    "a = '1,2,3,4,5'\n",
    "int(a.replace(',',''))"
   ]
  },
  {
   "cell_type": "code",
   "execution_count": 80,
   "id": "1fff5acb-eeba-4750-95e6-7441e16e27f8",
   "metadata": {},
   "outputs": [
    {
     "name": "stdout",
     "output_type": "stream",
     "text": [
      "12345\n"
     ]
    }
   ],
   "source": [
    "import re\n",
    "a = '1,2,3,4,5'\n",
    "pa = re.compile('[^0-9]')\n",
    "result = re.sub(pa, '', a)\n",
    "print(result)"
   ]
  },
  {
   "cell_type": "code",
   "execution_count": null,
   "id": "840b3da4-7719-4681-84cb-c9590f15b38c",
   "metadata": {},
   "outputs": [],
   "source": []
  },
  {
   "cell_type": "code",
   "execution_count": 84,
   "id": "cb8c91e5-b3b8-49fc-a042-67c0d3353302",
   "metadata": {},
   "outputs": [
    {
     "name": "stdout",
     "output_type": "stream",
     "text": [
      "홍길동\n",
      "이길동\n",
      "박길동\n"
     ]
    }
   ],
   "source": [
    "b = '''\n",
    "    홍길동: 1234, Gil-dong Hong,\n",
    "    이길동: 3914, Gil-dong Lee,\n",
    "    박길동: 0000, Gil-dong Park\n",
    "    '''\n",
    "b = b.strip()\n",
    "b = b.split('\\n')\n",
    "for i in b:\n",
    "    i = i.split(':')\n",
    "    i = i[0].strip()\n",
    "    print(i)"
   ]
  },
  {
   "cell_type": "code",
   "execution_count": 86,
   "id": "e6326aed-c799-4216-a296-f3f127599660",
   "metadata": {},
   "outputs": [],
   "source": [
    "b = '''\n",
    "    홍길동: 1234, Gil-dong Hong,\n",
    "    이길동: 3914, Gil-dong Lee,\n",
    "    박길동: 0000, Gil-dong Park\n",
    "    '''"
   ]
  },
  {
   "cell_type": "code",
   "execution_count": 88,
   "id": "6ff02c83-7d50-49f9-87c0-56819c94727e",
   "metadata": {},
   "outputs": [
    {
     "name": "stdout",
     "output_type": "stream",
     "text": [
      "홍길동이길동박길동\n"
     ]
    }
   ],
   "source": [
    "p = re.compile('[^가-힣]')\n",
    "result = re.sub(p, '', b)\n",
    "print(result)"
   ]
  },
  {
   "cell_type": "code",
   "execution_count": null,
   "id": "c97bf8cb-b3b1-4c3f-97e0-e0a93513068b",
   "metadata": {},
   "outputs": [],
   "source": []
  },
  {
   "cell_type": "code",
   "execution_count": null,
   "id": "d0fd753c-3b31-4367-aad2-62c36dbf7d71",
   "metadata": {},
   "outputs": [],
   "source": []
  },
  {
   "cell_type": "code",
   "execution_count": 56,
   "id": "29b4ed36-27a6-41fa-bd4b-9b81ef30c35b",
   "metadata": {},
   "outputs": [
    {
     "data": {
      "text/plain": [
       "str"
      ]
     },
     "execution_count": 56,
     "metadata": {},
     "output_type": "execute_result"
    }
   ],
   "source": [
    "c='''\n",
    "<script>\n",
    "\t\tvar g_ssc = 'news.v3_media' || null;\n",
    "\t\tvar bSupportedIntersectionObserver = \"IntersectionObserver\" in window;\n",
    "\t\t</script>\n",
    "\t\t<meta charset=\"utf-8\">\n",
    "<meta name=\"viewport\" content=\"width=device-width,initial-scale=1.0,maximum-scale=1.0,minimum-scale=1.0,user-scalable=no,target-densitydpi=medium-dpi\"/>\n",
    "\t<link rel=\"stylesheet\" type=\"text/css\" href=\"https://ssl.pstatic.net/static.news/mnews/resources/20250105_234507/css/generated/newshome.css\" />\n",
    "\t\t\t<link rel=\"shortcut icon\" type=\"image/x-icon\" href=\"https://mimgnews.pstatic.net/image/news/m/2023/favicon/favicon.ico\" />\n",
    "<script>\n",
    "'''\n",
    "type(c)"
   ]
  },
  {
   "cell_type": "code",
   "execution_count": 58,
   "id": "e7dc1805-adcf-4e49-a092-82e7d37df442",
   "metadata": {},
   "outputs": [
    {
     "data": {
      "text/plain": [
       "352"
      ]
     },
     "execution_count": 58,
     "metadata": {},
     "output_type": "execute_result"
    }
   ],
   "source": [
    "c.find('href=')"
   ]
  },
  {
   "cell_type": "code",
   "execution_count": 60,
   "id": "4ceb59cd-6d3f-4e66-b114-f864bbf2c57e",
   "metadata": {},
   "outputs": [],
   "source": [
    "c = c[352:]"
   ]
  },
  {
   "cell_type": "code",
   "execution_count": 62,
   "id": "c20fb361-5088-439b-89ce-b13d78e6dea3",
   "metadata": {},
   "outputs": [
    {
     "data": {
      "text/plain": [
       "'href=\"https://ssl.pstatic.net/static.news/mnews/resources/20250105_234507/css/generated/newshome.css\" />\\n\\t\\t\\t<link rel=\"shortcut icon\" type=\"image/x-icon\" href=\"https://mimgnews.pstatic.net/image/news/m/2023/favicon/favicon.ico\" />\\n<script>\\n'"
      ]
     },
     "execution_count": 62,
     "metadata": {},
     "output_type": "execute_result"
    }
   ],
   "source": [
    "c"
   ]
  },
  {
   "cell_type": "code",
   "execution_count": 64,
   "id": "321ba08f-29c9-41c8-88b7-747c99528fef",
   "metadata": {},
   "outputs": [
    {
     "data": {
      "text/plain": [
       "['href=\"https://ssl.pstatic.net/static.news/mnews/resources/20250105_234507/css/generated/newshome.css\" ',\n",
       " '\\n\\t\\t\\t<link rel=\"shortcut icon\" type=\"image/x-icon\" href=\"https://mimgnews.pstatic.net/image/news/m/2023/favicon/favicon.ico\" ',\n",
       " '\\n<script>\\n']"
      ]
     },
     "execution_count": 64,
     "metadata": {},
     "output_type": "execute_result"
    }
   ],
   "source": [
    "c = c.split('/>')\n",
    "c"
   ]
  },
  {
   "cell_type": "code",
   "execution_count": 66,
   "id": "1ec80262-e777-4b20-8787-9197c6d07846",
   "metadata": {},
   "outputs": [
    {
     "data": {
      "text/plain": [
       "'href=\"https://ssl.pstatic.net/static.news/mnews/resources/20250105_234507/css/generated/newshome.css\" '"
      ]
     },
     "execution_count": 66,
     "metadata": {},
     "output_type": "execute_result"
    }
   ],
   "source": [
    "c[0]"
   ]
  },
  {
   "cell_type": "code",
   "execution_count": 68,
   "id": "969562ff-7deb-4ba2-8bac-e5adc74d3654",
   "metadata": {},
   "outputs": [],
   "source": [
    "url = c[0].split('\" ')[0]"
   ]
  },
  {
   "cell_type": "code",
   "execution_count": 70,
   "id": "2520a695-1220-4313-b997-a6d63b35ae56",
   "metadata": {},
   "outputs": [
    {
     "data": {
      "text/plain": [
       "'https://ssl.pstatic.net/static.news/mnews/resources/20250105_234507/css/generated/newshome.css'"
      ]
     },
     "execution_count": 70,
     "metadata": {},
     "output_type": "execute_result"
    }
   ],
   "source": [
    "url = url.split('href=\"')[1]\n",
    "url"
   ]
  },
  {
   "cell_type": "code",
   "execution_count": null,
   "id": "5ad6b61e-239d-4bb7-be66-54fc69b9fbb5",
   "metadata": {},
   "outputs": [],
   "source": []
  },
  {
   "cell_type": "markdown",
   "id": "9f241b7c-68d8-4eaf-8dc0-d76b0884772d",
   "metadata": {},
   "source": [
    "#### movies.csv 파일에서 영화장르(genres)의 개수와 영화장르별 개수 출력"
   ]
  },
  {
   "cell_type": "code",
   "execution_count": 94,
   "id": "7faba3e5-af24-4e4a-98ea-05dd51849c20",
   "metadata": {},
   "outputs": [
    {
     "data": {
      "text/html": [
       "<div>\n",
       "<style scoped>\n",
       "    .dataframe tbody tr th:only-of-type {\n",
       "        vertical-align: middle;\n",
       "    }\n",
       "\n",
       "    .dataframe tbody tr th {\n",
       "        vertical-align: top;\n",
       "    }\n",
       "\n",
       "    .dataframe thead th {\n",
       "        text-align: right;\n",
       "    }\n",
       "</style>\n",
       "<table border=\"1\" class=\"dataframe\">\n",
       "  <thead>\n",
       "    <tr style=\"text-align: right;\">\n",
       "      <th></th>\n",
       "      <th>movieId</th>\n",
       "      <th>title</th>\n",
       "      <th>genres</th>\n",
       "    </tr>\n",
       "  </thead>\n",
       "  <tbody>\n",
       "    <tr>\n",
       "      <th>0</th>\n",
       "      <td>1</td>\n",
       "      <td>Toy Story (1995)</td>\n",
       "      <td>Adventure|Animation|Children|Comedy|Fantasy</td>\n",
       "    </tr>\n",
       "    <tr>\n",
       "      <th>1</th>\n",
       "      <td>2</td>\n",
       "      <td>Jumanji (1995)</td>\n",
       "      <td>Adventure|Children|Fantasy</td>\n",
       "    </tr>\n",
       "    <tr>\n",
       "      <th>2</th>\n",
       "      <td>3</td>\n",
       "      <td>Grumpier Old Men (1995)</td>\n",
       "      <td>Comedy|Romance</td>\n",
       "    </tr>\n",
       "    <tr>\n",
       "      <th>3</th>\n",
       "      <td>4</td>\n",
       "      <td>Waiting to Exhale (1995)</td>\n",
       "      <td>Comedy|Drama|Romance</td>\n",
       "    </tr>\n",
       "    <tr>\n",
       "      <th>4</th>\n",
       "      <td>5</td>\n",
       "      <td>Father of the Bride Part II (1995)</td>\n",
       "      <td>Comedy</td>\n",
       "    </tr>\n",
       "  </tbody>\n",
       "</table>\n",
       "</div>"
      ],
      "text/plain": [
       "   movieId                               title  \\\n",
       "0        1                    Toy Story (1995)   \n",
       "1        2                      Jumanji (1995)   \n",
       "2        3             Grumpier Old Men (1995)   \n",
       "3        4            Waiting to Exhale (1995)   \n",
       "4        5  Father of the Bride Part II (1995)   \n",
       "\n",
       "                                        genres  \n",
       "0  Adventure|Animation|Children|Comedy|Fantasy  \n",
       "1                   Adventure|Children|Fantasy  \n",
       "2                               Comedy|Romance  \n",
       "3                         Comedy|Drama|Romance  \n",
       "4                                       Comedy  "
      ]
     },
     "execution_count": 94,
     "metadata": {},
     "output_type": "execute_result"
    }
   ],
   "source": [
    "import pandas as pd\n",
    "movie = pd.read_csv('movies.csv')\n",
    "movie.head()"
   ]
  },
  {
   "cell_type": "code",
   "execution_count": 96,
   "id": "ad050142-c472-4586-9150-2de63e697909",
   "metadata": {},
   "outputs": [
    {
     "name": "stdout",
     "output_type": "stream",
     "text": [
      "<class 'pandas.core.frame.DataFrame'>\n",
      "RangeIndex: 9742 entries, 0 to 9741\n",
      "Data columns (total 3 columns):\n",
      " #   Column   Non-Null Count  Dtype \n",
      "---  ------   --------------  ----- \n",
      " 0   movieId  9742 non-null   int64 \n",
      " 1   title    9742 non-null   object\n",
      " 2   genres   9742 non-null   object\n",
      "dtypes: int64(1), object(2)\n",
      "memory usage: 228.5+ KB\n"
     ]
    }
   ],
   "source": [
    "movie.info()"
   ]
  },
  {
   "cell_type": "code",
   "execution_count": 114,
   "id": "630182fb-e1ad-43b5-a7eb-39b416ce3869",
   "metadata": {},
   "outputs": [
    {
     "name": "stdout",
     "output_type": "stream",
     "text": [
      "전체 영화의 총 장르 개수 : 22084\n",
      "['Adventure', 'Animation', 'Children', 'Comedy', 'Fantasy', 'Adventure', 'Children', 'Fantasy', 'Comedy', 'Romance', 'Comedy', 'Drama', 'Romance', 'Comedy', 'Action', 'Crime', 'Thriller', 'Comedy', 'Romance', 'Adventure', 'Children', 'Action', 'Action', 'Adventure', 'Thriller', 'Comedy', 'Drama', 'Romance', 'Comedy', 'Horror', 'Adventure', 'Animation', 'Children', 'Drama', 'Action', 'Adventure', 'Romance', 'Crime', 'Drama', 'Drama', 'Romance', 'Comedy', 'Comedy', 'Action', 'Comedy', 'Crime', 'Drama', 'Thriller', 'Comedy', 'Crime']\n"
     ]
    }
   ],
   "source": [
    "result =[]\n",
    "for i in movie['genres']:\n",
    "    result.extend(i.split('|'))\n",
    "\n",
    "print(f'전체 영화의 총 장르 개수 : {len(result)}')\n",
    "print(result[:50])"
   ]
  },
  {
   "cell_type": "code",
   "execution_count": 122,
   "id": "1263a985-fe7d-41cf-ae0c-1acfe836f384",
   "metadata": {},
   "outputs": [
    {
     "name": "stdout",
     "output_type": "stream",
     "text": [
      "20\n",
      "['Mystery', 'Comedy', 'IMAX', 'Adventure', '(no genres listed)', 'Crime', 'Animation', 'Sci-Fi', 'Fantasy', 'Western', 'Horror', 'Children', 'Musical', 'Film-Noir', 'Thriller', 'Romance', 'War', 'Action', 'Documentary', 'Drama']\n"
     ]
    }
   ],
   "source": [
    "genre = list(set(result))\n",
    "print(len(genre))\n",
    "print(genre)"
   ]
  },
  {
   "cell_type": "code",
   "execution_count": 124,
   "id": "0b23940b-9705-4790-b3d4-0a8618c247c0",
   "metadata": {},
   "outputs": [
    {
     "name": "stdout",
     "output_type": "stream",
     "text": [
      "{'Adventure': 1263, 'Animation': 611, 'Children': 664, 'Comedy': 3756, 'Fantasy': 779, 'Romance': 1596, 'Drama': 4361, 'Action': 1828, 'Crime': 1199, 'Thriller': 1894, 'Horror': 978, 'Mystery': 573, 'Sci-Fi': 980, 'War': 382, 'Musical': 334, 'Documentary': 440, 'IMAX': 158, 'Western': 167, 'Film-Noir': 87, '(no genres listed)': 34}\n"
     ]
    }
   ],
   "source": [
    "count={}\n",
    "for i in result:\n",
    "    if count.get(i):\n",
    "        count[i] += 1\n",
    "    else:\n",
    "        count[i] = 1\n",
    "\n",
    "print(count)"
   ]
  },
  {
   "cell_type": "code",
   "execution_count": null,
   "id": "ba8ff41a-9b5c-464a-80fc-e93f130deffe",
   "metadata": {},
   "outputs": [],
   "source": []
  }
 ],
 "metadata": {
  "kernelspec": {
   "display_name": "Python [conda env:base] *",
   "language": "python",
   "name": "conda-base-py"
  },
  "language_info": {
   "codemirror_mode": {
    "name": "ipython",
    "version": 3
   },
   "file_extension": ".py",
   "mimetype": "text/x-python",
   "name": "python",
   "nbconvert_exporter": "python",
   "pygments_lexer": "ipython3",
   "version": "3.12.7"
  }
 },
 "nbformat": 4,
 "nbformat_minor": 5
}
