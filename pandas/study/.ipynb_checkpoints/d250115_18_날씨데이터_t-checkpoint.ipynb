{
 "cells": [
  {
   "cell_type": "code",
   "execution_count": 2,
   "id": "67d122e3-2322-4db5-9f55-d396890cb268",
   "metadata": {},
   "outputs": [],
   "source": [
    "import pandas as pd"
   ]
  },
  {
   "cell_type": "code",
   "execution_count": 4,
   "id": "738546fe-e430-4f26-905b-820faba8fa4a",
   "metadata": {},
   "outputs": [
    {
     "data": {
      "text/plain": [
       "17471"
      ]
     },
     "execution_count": 4,
     "metadata": {},
     "output_type": "execute_result"
    }
   ],
   "source": [
    "df = pd.read_csv('기온.csv', encoding='cp949')\n",
    "len(df)"
   ]
  },
  {
   "cell_type": "code",
   "execution_count": 6,
   "id": "a812fe9a-34f7-4e99-bf64-6766dd289bd6",
   "metadata": {},
   "outputs": [
    {
     "data": {
      "text/plain": [
       "17520"
      ]
     },
     "execution_count": 6,
     "metadata": {},
     "output_type": "execute_result"
    }
   ],
   "source": [
    "365 * 24 * 2"
   ]
  },
  {
   "cell_type": "code",
   "execution_count": 8,
   "id": "5e52c93c-1839-4926-94e3-d62c2603138a",
   "metadata": {},
   "outputs": [
    {
     "data": {
      "text/plain": [
       "지점          int64\n",
       "지점명        object\n",
       "일시         object\n",
       "기온(°C)    float64\n",
       "dtype: object"
      ]
     },
     "execution_count": 8,
     "metadata": {},
     "output_type": "execute_result"
    }
   ],
   "source": [
    "df.dtypes"
   ]
  },
  {
   "cell_type": "code",
   "execution_count": 10,
   "id": "ffc95f34-365a-45fd-9de5-2b3d595cac53",
   "metadata": {},
   "outputs": [
    {
     "data": {
      "text/html": [
       "<div>\n",
       "<style scoped>\n",
       "    .dataframe tbody tr th:only-of-type {\n",
       "        vertical-align: middle;\n",
       "    }\n",
       "\n",
       "    .dataframe tbody tr th {\n",
       "        vertical-align: top;\n",
       "    }\n",
       "\n",
       "    .dataframe thead th {\n",
       "        text-align: right;\n",
       "    }\n",
       "</style>\n",
       "<table border=\"1\" class=\"dataframe\">\n",
       "  <thead>\n",
       "    <tr style=\"text-align: right;\">\n",
       "      <th></th>\n",
       "      <th>지점</th>\n",
       "      <th>지점명</th>\n",
       "      <th>일시</th>\n",
       "      <th>기온(°C)</th>\n",
       "    </tr>\n",
       "  </thead>\n",
       "  <tbody>\n",
       "    <tr>\n",
       "      <th>0</th>\n",
       "      <td>108</td>\n",
       "      <td>서울</td>\n",
       "      <td>2023-01-01 01:00</td>\n",
       "      <td>1.5</td>\n",
       "    </tr>\n",
       "    <tr>\n",
       "      <th>1</th>\n",
       "      <td>108</td>\n",
       "      <td>서울</td>\n",
       "      <td>2023-01-01 02:00</td>\n",
       "      <td>1.5</td>\n",
       "    </tr>\n",
       "    <tr>\n",
       "      <th>2</th>\n",
       "      <td>108</td>\n",
       "      <td>서울</td>\n",
       "      <td>2023-01-01 03:00</td>\n",
       "      <td>1.6</td>\n",
       "    </tr>\n",
       "    <tr>\n",
       "      <th>3</th>\n",
       "      <td>108</td>\n",
       "      <td>서울</td>\n",
       "      <td>2023-01-01 04:00</td>\n",
       "      <td>1.5</td>\n",
       "    </tr>\n",
       "    <tr>\n",
       "      <th>4</th>\n",
       "      <td>108</td>\n",
       "      <td>서울</td>\n",
       "      <td>2023-01-01 05:00</td>\n",
       "      <td>0.8</td>\n",
       "    </tr>\n",
       "  </tbody>\n",
       "</table>\n",
       "</div>"
      ],
      "text/plain": [
       "    지점 지점명                일시  기온(°C)\n",
       "0  108  서울  2023-01-01 01:00     1.5\n",
       "1  108  서울  2023-01-01 02:00     1.5\n",
       "2  108  서울  2023-01-01 03:00     1.6\n",
       "3  108  서울  2023-01-01 04:00     1.5\n",
       "4  108  서울  2023-01-01 05:00     0.8"
      ]
     },
     "execution_count": 10,
     "metadata": {},
     "output_type": "execute_result"
    }
   ],
   "source": [
    "df.head()"
   ]
  },
  {
   "cell_type": "code",
   "execution_count": 12,
   "id": "c5e95e7f-989f-492e-9ff3-11e313a50c58",
   "metadata": {},
   "outputs": [
    {
     "data": {
      "text/html": [
       "<div>\n",
       "<style scoped>\n",
       "    .dataframe tbody tr th:only-of-type {\n",
       "        vertical-align: middle;\n",
       "    }\n",
       "\n",
       "    .dataframe tbody tr th {\n",
       "        vertical-align: top;\n",
       "    }\n",
       "\n",
       "    .dataframe thead th {\n",
       "        text-align: right;\n",
       "    }\n",
       "</style>\n",
       "<table border=\"1\" class=\"dataframe\">\n",
       "  <thead>\n",
       "    <tr style=\"text-align: right;\">\n",
       "      <th></th>\n",
       "      <th>지점명</th>\n",
       "      <th>일시</th>\n",
       "      <th>기온(°C)</th>\n",
       "    </tr>\n",
       "  </thead>\n",
       "  <tbody>\n",
       "    <tr>\n",
       "      <th>0</th>\n",
       "      <td>서울</td>\n",
       "      <td>2023-01-01 01:00</td>\n",
       "      <td>1.5</td>\n",
       "    </tr>\n",
       "    <tr>\n",
       "      <th>1</th>\n",
       "      <td>서울</td>\n",
       "      <td>2023-01-01 02:00</td>\n",
       "      <td>1.5</td>\n",
       "    </tr>\n",
       "    <tr>\n",
       "      <th>2</th>\n",
       "      <td>서울</td>\n",
       "      <td>2023-01-01 03:00</td>\n",
       "      <td>1.6</td>\n",
       "    </tr>\n",
       "    <tr>\n",
       "      <th>3</th>\n",
       "      <td>서울</td>\n",
       "      <td>2023-01-01 04:00</td>\n",
       "      <td>1.5</td>\n",
       "    </tr>\n",
       "    <tr>\n",
       "      <th>4</th>\n",
       "      <td>서울</td>\n",
       "      <td>2023-01-01 05:00</td>\n",
       "      <td>0.8</td>\n",
       "    </tr>\n",
       "  </tbody>\n",
       "</table>\n",
       "</div>"
      ],
      "text/plain": [
       "  지점명                일시  기온(°C)\n",
       "0  서울  2023-01-01 01:00     1.5\n",
       "1  서울  2023-01-01 02:00     1.5\n",
       "2  서울  2023-01-01 03:00     1.6\n",
       "3  서울  2023-01-01 04:00     1.5\n",
       "4  서울  2023-01-01 05:00     0.8"
      ]
     },
     "execution_count": 12,
     "metadata": {},
     "output_type": "execute_result"
    }
   ],
   "source": [
    "data = df[['지점명', '일시', '기온(°C)']]\n",
    "data.head()"
   ]
  },
  {
   "cell_type": "code",
   "execution_count": 14,
   "id": "146c3476-d23b-4f09-9769-35979f565b69",
   "metadata": {},
   "outputs": [
    {
     "data": {
      "text/plain": [
       "0         True\n",
       "1         True\n",
       "2         True\n",
       "3         True\n",
       "4         True\n",
       "         ...  \n",
       "17466    False\n",
       "17467    False\n",
       "17468    False\n",
       "17469    False\n",
       "17470    False\n",
       "Name: 지점명, Length: 17471, dtype: bool"
      ]
     },
     "execution_count": 14,
     "metadata": {},
     "output_type": "execute_result"
    }
   ],
   "source": [
    "data['지점명'] == '서울'"
   ]
  },
  {
   "cell_type": "code",
   "execution_count": 16,
   "id": "591449b8-fb40-4aea-92b5-3d6061a5091c",
   "metadata": {},
   "outputs": [
    {
     "data": {
      "text/html": [
       "<div>\n",
       "<style scoped>\n",
       "    .dataframe tbody tr th:only-of-type {\n",
       "        vertical-align: middle;\n",
       "    }\n",
       "\n",
       "    .dataframe tbody tr th {\n",
       "        vertical-align: top;\n",
       "    }\n",
       "\n",
       "    .dataframe thead th {\n",
       "        text-align: right;\n",
       "    }\n",
       "</style>\n",
       "<table border=\"1\" class=\"dataframe\">\n",
       "  <thead>\n",
       "    <tr style=\"text-align: right;\">\n",
       "      <th></th>\n",
       "      <th>지점명</th>\n",
       "      <th>일시</th>\n",
       "      <th>기온(°C)</th>\n",
       "    </tr>\n",
       "  </thead>\n",
       "  <tbody>\n",
       "    <tr>\n",
       "      <th>0</th>\n",
       "      <td>서울</td>\n",
       "      <td>2023-01-01 01:00</td>\n",
       "      <td>1.5</td>\n",
       "    </tr>\n",
       "    <tr>\n",
       "      <th>1</th>\n",
       "      <td>서울</td>\n",
       "      <td>2023-01-01 02:00</td>\n",
       "      <td>1.5</td>\n",
       "    </tr>\n",
       "    <tr>\n",
       "      <th>2</th>\n",
       "      <td>서울</td>\n",
       "      <td>2023-01-01 03:00</td>\n",
       "      <td>1.6</td>\n",
       "    </tr>\n",
       "    <tr>\n",
       "      <th>3</th>\n",
       "      <td>서울</td>\n",
       "      <td>2023-01-01 04:00</td>\n",
       "      <td>1.5</td>\n",
       "    </tr>\n",
       "    <tr>\n",
       "      <th>4</th>\n",
       "      <td>서울</td>\n",
       "      <td>2023-01-01 05:00</td>\n",
       "      <td>0.8</td>\n",
       "    </tr>\n",
       "    <tr>\n",
       "      <th>...</th>\n",
       "      <td>...</td>\n",
       "      <td>...</td>\n",
       "      <td>...</td>\n",
       "    </tr>\n",
       "    <tr>\n",
       "      <th>8731</th>\n",
       "      <td>서울</td>\n",
       "      <td>2023-12-30 20:00</td>\n",
       "      <td>1.4</td>\n",
       "    </tr>\n",
       "    <tr>\n",
       "      <th>8732</th>\n",
       "      <td>서울</td>\n",
       "      <td>2023-12-30 21:00</td>\n",
       "      <td>1.6</td>\n",
       "    </tr>\n",
       "    <tr>\n",
       "      <th>8733</th>\n",
       "      <td>서울</td>\n",
       "      <td>2023-12-30 22:00</td>\n",
       "      <td>1.7</td>\n",
       "    </tr>\n",
       "    <tr>\n",
       "      <th>8734</th>\n",
       "      <td>서울</td>\n",
       "      <td>2023-12-30 23:00</td>\n",
       "      <td>1.9</td>\n",
       "    </tr>\n",
       "    <tr>\n",
       "      <th>8735</th>\n",
       "      <td>서울</td>\n",
       "      <td>2023-12-31 00:00</td>\n",
       "      <td>2.1</td>\n",
       "    </tr>\n",
       "  </tbody>\n",
       "</table>\n",
       "<p>8736 rows × 3 columns</p>\n",
       "</div>"
      ],
      "text/plain": [
       "     지점명                일시  기온(°C)\n",
       "0     서울  2023-01-01 01:00     1.5\n",
       "1     서울  2023-01-01 02:00     1.5\n",
       "2     서울  2023-01-01 03:00     1.6\n",
       "3     서울  2023-01-01 04:00     1.5\n",
       "4     서울  2023-01-01 05:00     0.8\n",
       "...   ..               ...     ...\n",
       "8731  서울  2023-12-30 20:00     1.4\n",
       "8732  서울  2023-12-30 21:00     1.6\n",
       "8733  서울  2023-12-30 22:00     1.7\n",
       "8734  서울  2023-12-30 23:00     1.9\n",
       "8735  서울  2023-12-31 00:00     2.1\n",
       "\n",
       "[8736 rows x 3 columns]"
      ]
     },
     "execution_count": 16,
     "metadata": {},
     "output_type": "execute_result"
    }
   ],
   "source": [
    "is_seoul = data['지점명'] == '서울'\n",
    "seoul = data[is_seoul]\n",
    "seoul"
   ]
  },
  {
   "cell_type": "code",
   "execution_count": 18,
   "id": "0db2c919-300f-4451-8d01-e435d276ab43",
   "metadata": {},
   "outputs": [
    {
     "data": {
      "text/html": [
       "<div>\n",
       "<style scoped>\n",
       "    .dataframe tbody tr th:only-of-type {\n",
       "        vertical-align: middle;\n",
       "    }\n",
       "\n",
       "    .dataframe tbody tr th {\n",
       "        vertical-align: top;\n",
       "    }\n",
       "\n",
       "    .dataframe thead th {\n",
       "        text-align: right;\n",
       "    }\n",
       "</style>\n",
       "<table border=\"1\" class=\"dataframe\">\n",
       "  <thead>\n",
       "    <tr style=\"text-align: right;\">\n",
       "      <th></th>\n",
       "      <th>지점명</th>\n",
       "      <th>일시</th>\n",
       "      <th>기온(°C)</th>\n",
       "    </tr>\n",
       "  </thead>\n",
       "  <tbody>\n",
       "    <tr>\n",
       "      <th>8736</th>\n",
       "      <td>광주</td>\n",
       "      <td>2023-01-01 01:00</td>\n",
       "      <td>-0.5</td>\n",
       "    </tr>\n",
       "    <tr>\n",
       "      <th>8737</th>\n",
       "      <td>광주</td>\n",
       "      <td>2023-01-01 02:00</td>\n",
       "      <td>-0.7</td>\n",
       "    </tr>\n",
       "    <tr>\n",
       "      <th>8738</th>\n",
       "      <td>광주</td>\n",
       "      <td>2023-01-01 03:00</td>\n",
       "      <td>-0.9</td>\n",
       "    </tr>\n",
       "    <tr>\n",
       "      <th>8739</th>\n",
       "      <td>광주</td>\n",
       "      <td>2023-01-01 04:00</td>\n",
       "      <td>-1.5</td>\n",
       "    </tr>\n",
       "    <tr>\n",
       "      <th>8740</th>\n",
       "      <td>광주</td>\n",
       "      <td>2023-01-01 05:00</td>\n",
       "      <td>-1.6</td>\n",
       "    </tr>\n",
       "    <tr>\n",
       "      <th>...</th>\n",
       "      <td>...</td>\n",
       "      <td>...</td>\n",
       "      <td>...</td>\n",
       "    </tr>\n",
       "    <tr>\n",
       "      <th>17466</th>\n",
       "      <td>광주</td>\n",
       "      <td>2023-12-30 20:00</td>\n",
       "      <td>6.3</td>\n",
       "    </tr>\n",
       "    <tr>\n",
       "      <th>17467</th>\n",
       "      <td>광주</td>\n",
       "      <td>2023-12-30 21:00</td>\n",
       "      <td>6.5</td>\n",
       "    </tr>\n",
       "    <tr>\n",
       "      <th>17468</th>\n",
       "      <td>광주</td>\n",
       "      <td>2023-12-30 22:00</td>\n",
       "      <td>6.6</td>\n",
       "    </tr>\n",
       "    <tr>\n",
       "      <th>17469</th>\n",
       "      <td>광주</td>\n",
       "      <td>2023-12-30 23:00</td>\n",
       "      <td>6.1</td>\n",
       "    </tr>\n",
       "    <tr>\n",
       "      <th>17470</th>\n",
       "      <td>광주</td>\n",
       "      <td>2023-12-31 00:00</td>\n",
       "      <td>6.0</td>\n",
       "    </tr>\n",
       "  </tbody>\n",
       "</table>\n",
       "<p>8735 rows × 3 columns</p>\n",
       "</div>"
      ],
      "text/plain": [
       "      지점명                일시  기온(°C)\n",
       "8736   광주  2023-01-01 01:00    -0.5\n",
       "8737   광주  2023-01-01 02:00    -0.7\n",
       "8738   광주  2023-01-01 03:00    -0.9\n",
       "8739   광주  2023-01-01 04:00    -1.5\n",
       "8740   광주  2023-01-01 05:00    -1.6\n",
       "...    ..               ...     ...\n",
       "17466  광주  2023-12-30 20:00     6.3\n",
       "17467  광주  2023-12-30 21:00     6.5\n",
       "17468  광주  2023-12-30 22:00     6.6\n",
       "17469  광주  2023-12-30 23:00     6.1\n",
       "17470  광주  2023-12-31 00:00     6.0\n",
       "\n",
       "[8735 rows x 3 columns]"
      ]
     },
     "execution_count": 18,
     "metadata": {},
     "output_type": "execute_result"
    }
   ],
   "source": [
    "gj = data[data['지점명']=='광주']\n",
    "gj"
   ]
  },
  {
   "cell_type": "code",
   "execution_count": 20,
   "id": "0e4d3ee7-4648-4325-ab72-79a2f71a39e3",
   "metadata": {},
   "outputs": [
    {
     "data": {
      "text/plain": [
       "8760"
      ]
     },
     "execution_count": 20,
     "metadata": {},
     "output_type": "execute_result"
    }
   ],
   "source": [
    "365 * 24"
   ]
  },
  {
   "cell_type": "code",
   "execution_count": 22,
   "id": "f4a8b05d-877c-4241-840a-295eb6401b65",
   "metadata": {},
   "outputs": [
    {
     "name": "stdout",
     "output_type": "stream",
     "text": [
      "['2023-12-31', '2023-01-01']\n"
     ]
    }
   ],
   "source": [
    "temp = []\n",
    "for i in seoul['일시']:\n",
    "    temp.append(i.split(' ')[0])\n",
    "lack_seoul = []\n",
    "uni_temp = set(temp)\n",
    "for i in uni_temp:\n",
    "    if temp.count(i) != 24:\n",
    "        lack_seoul.append(i)\n",
    "print(lack_seoul)"
   ]
  },
  {
   "cell_type": "code",
   "execution_count": 24,
   "id": "20565bf0-d624-474d-81fb-e4d163695d7a",
   "metadata": {},
   "outputs": [
    {
     "name": "stdout",
     "output_type": "stream",
     "text": [
      "['2023-12-31', '2023-01-01', '2023-12-14']\n"
     ]
    }
   ],
   "source": [
    "temp = []\n",
    "for i in gj['일시']:\n",
    "    temp.append(i.split(' ')[0])\n",
    "lack_gj = []\n",
    "uni_temp = set(temp)\n",
    "for i in uni_temp:\n",
    "    if temp.count(i) != 24:\n",
    "        lack_gj.append(i)\n",
    "print(lack_gj)"
   ]
  },
  {
   "cell_type": "code",
   "execution_count": 44,
   "id": "746ad04a-4c8d-40ad-a377-952932c29d6c",
   "metadata": {},
   "outputs": [],
   "source": [
    "lack_data = list(lack_seoul + lack_gj)\n",
    "for i in lack_data:\n",
    "    seoul = seoul[seoul['일시'].str.split(' ').str[0] != i]\n",
    "    gj = gj[gj['일시'].str.split(' ').str[0] != i]"
   ]
  },
  {
   "cell_type": "code",
   "execution_count": 46,
   "id": "e1a88286-7ccd-465c-aa9b-96435897131c",
   "metadata": {},
   "outputs": [
    {
     "name": "stdout",
     "output_type": "stream",
     "text": [
      "8688\n",
      "8688\n"
     ]
    }
   ],
   "source": [
    "print(len(seoul))\n",
    "print(len(gj))"
   ]
  },
  {
   "cell_type": "code",
   "execution_count": 32,
   "id": "5e791a87-0279-45c9-861b-f899ce209d60",
   "metadata": {},
   "outputs": [
    {
     "name": "stdout",
     "output_type": "stream",
     "text": [
      "<class 'pandas.core.frame.DataFrame'>\n",
      "Index: 8688 entries, 23 to 8734\n",
      "Data columns (total 3 columns):\n",
      " #   Column  Non-Null Count  Dtype  \n",
      "---  ------  --------------  -----  \n",
      " 0   지점명     8688 non-null   object \n",
      " 1   일시      8688 non-null   object \n",
      " 2   기온(°C)  8688 non-null   float64\n",
      "dtypes: float64(1), object(2)\n",
      "memory usage: 529.5+ KB\n"
     ]
    }
   ],
   "source": [
    "seoul.info()"
   ]
  },
  {
   "cell_type": "code",
   "execution_count": 42,
   "id": "cf3fccda-6645-4a65-b571-94bfcfbf3784",
   "metadata": {},
   "outputs": [
    {
     "data": {
      "text/plain": [
       "23      2023-01-02\n",
       "24      2023-01-02\n",
       "25      2023-01-02\n",
       "26      2023-01-02\n",
       "27      2023-01-02\n",
       "           ...    \n",
       "8730    2023-12-30\n",
       "8731    2023-12-30\n",
       "8732    2023-12-30\n",
       "8733    2023-12-30\n",
       "8734    2023-12-30\n",
       "Name: 일시, Length: 8688, dtype: object"
      ]
     },
     "execution_count": 42,
     "metadata": {},
     "output_type": "execute_result"
    }
   ],
   "source": [
    "seoul['일시'].str.split(' ').str[0]"
   ]
  },
  {
   "cell_type": "code",
   "execution_count": 48,
   "id": "f1b20f7e-a413-4aed-94f3-7b41b04c6cb0",
   "metadata": {},
   "outputs": [],
   "source": [
    "import numpy as np"
   ]
  },
  {
   "cell_type": "code",
   "execution_count": 226,
   "id": "5353f34a-dda0-4387-ad53-7aea02bb0421",
   "metadata": {},
   "outputs": [
    {
     "data": {
      "text/html": [
       "<div>\n",
       "<style scoped>\n",
       "    .dataframe tbody tr th:only-of-type {\n",
       "        vertical-align: middle;\n",
       "    }\n",
       "\n",
       "    .dataframe tbody tr th {\n",
       "        vertical-align: top;\n",
       "    }\n",
       "\n",
       "    .dataframe thead th {\n",
       "        text-align: right;\n",
       "    }\n",
       "</style>\n",
       "<table border=\"1\" class=\"dataframe\">\n",
       "  <thead>\n",
       "    <tr style=\"text-align: right;\">\n",
       "      <th></th>\n",
       "      <th>seoul</th>\n",
       "      <th>gwangju</th>\n",
       "    </tr>\n",
       "  </thead>\n",
       "  <tbody>\n",
       "    <tr>\n",
       "      <th>00:00</th>\n",
       "      <td>0.0</td>\n",
       "      <td>0.0</td>\n",
       "    </tr>\n",
       "    <tr>\n",
       "      <th>01:00</th>\n",
       "      <td>0.0</td>\n",
       "      <td>0.0</td>\n",
       "    </tr>\n",
       "    <tr>\n",
       "      <th>02:00</th>\n",
       "      <td>0.0</td>\n",
       "      <td>0.0</td>\n",
       "    </tr>\n",
       "    <tr>\n",
       "      <th>03:00</th>\n",
       "      <td>0.0</td>\n",
       "      <td>0.0</td>\n",
       "    </tr>\n",
       "    <tr>\n",
       "      <th>04:00</th>\n",
       "      <td>0.0</td>\n",
       "      <td>0.0</td>\n",
       "    </tr>\n",
       "    <tr>\n",
       "      <th>05:00</th>\n",
       "      <td>0.0</td>\n",
       "      <td>0.0</td>\n",
       "    </tr>\n",
       "    <tr>\n",
       "      <th>06:00</th>\n",
       "      <td>0.0</td>\n",
       "      <td>0.0</td>\n",
       "    </tr>\n",
       "    <tr>\n",
       "      <th>07:00</th>\n",
       "      <td>0.0</td>\n",
       "      <td>0.0</td>\n",
       "    </tr>\n",
       "    <tr>\n",
       "      <th>08:00</th>\n",
       "      <td>0.0</td>\n",
       "      <td>0.0</td>\n",
       "    </tr>\n",
       "    <tr>\n",
       "      <th>09:00</th>\n",
       "      <td>0.0</td>\n",
       "      <td>0.0</td>\n",
       "    </tr>\n",
       "    <tr>\n",
       "      <th>10:00</th>\n",
       "      <td>0.0</td>\n",
       "      <td>0.0</td>\n",
       "    </tr>\n",
       "    <tr>\n",
       "      <th>11:00</th>\n",
       "      <td>0.0</td>\n",
       "      <td>0.0</td>\n",
       "    </tr>\n",
       "    <tr>\n",
       "      <th>12:00</th>\n",
       "      <td>0.0</td>\n",
       "      <td>0.0</td>\n",
       "    </tr>\n",
       "    <tr>\n",
       "      <th>13:00</th>\n",
       "      <td>0.0</td>\n",
       "      <td>0.0</td>\n",
       "    </tr>\n",
       "    <tr>\n",
       "      <th>14:00</th>\n",
       "      <td>0.0</td>\n",
       "      <td>0.0</td>\n",
       "    </tr>\n",
       "    <tr>\n",
       "      <th>15:00</th>\n",
       "      <td>0.0</td>\n",
       "      <td>0.0</td>\n",
       "    </tr>\n",
       "    <tr>\n",
       "      <th>16:00</th>\n",
       "      <td>0.0</td>\n",
       "      <td>0.0</td>\n",
       "    </tr>\n",
       "    <tr>\n",
       "      <th>17:00</th>\n",
       "      <td>0.0</td>\n",
       "      <td>0.0</td>\n",
       "    </tr>\n",
       "    <tr>\n",
       "      <th>18:00</th>\n",
       "      <td>0.0</td>\n",
       "      <td>0.0</td>\n",
       "    </tr>\n",
       "    <tr>\n",
       "      <th>19:00</th>\n",
       "      <td>0.0</td>\n",
       "      <td>0.0</td>\n",
       "    </tr>\n",
       "    <tr>\n",
       "      <th>20:00</th>\n",
       "      <td>0.0</td>\n",
       "      <td>0.0</td>\n",
       "    </tr>\n",
       "    <tr>\n",
       "      <th>21:00</th>\n",
       "      <td>0.0</td>\n",
       "      <td>0.0</td>\n",
       "    </tr>\n",
       "    <tr>\n",
       "      <th>22:00</th>\n",
       "      <td>0.0</td>\n",
       "      <td>0.0</td>\n",
       "    </tr>\n",
       "    <tr>\n",
       "      <th>23:00</th>\n",
       "      <td>0.0</td>\n",
       "      <td>0.0</td>\n",
       "    </tr>\n",
       "  </tbody>\n",
       "</table>\n",
       "</div>"
      ],
      "text/plain": [
       "       seoul  gwangju\n",
       "00:00    0.0      0.0\n",
       "01:00    0.0      0.0\n",
       "02:00    0.0      0.0\n",
       "03:00    0.0      0.0\n",
       "04:00    0.0      0.0\n",
       "05:00    0.0      0.0\n",
       "06:00    0.0      0.0\n",
       "07:00    0.0      0.0\n",
       "08:00    0.0      0.0\n",
       "09:00    0.0      0.0\n",
       "10:00    0.0      0.0\n",
       "11:00    0.0      0.0\n",
       "12:00    0.0      0.0\n",
       "13:00    0.0      0.0\n",
       "14:00    0.0      0.0\n",
       "15:00    0.0      0.0\n",
       "16:00    0.0      0.0\n",
       "17:00    0.0      0.0\n",
       "18:00    0.0      0.0\n",
       "19:00    0.0      0.0\n",
       "20:00    0.0      0.0\n",
       "21:00    0.0      0.0\n",
       "22:00    0.0      0.0\n",
       "23:00    0.0      0.0"
      ]
     },
     "execution_count": 226,
     "metadata": {},
     "output_type": "execute_result"
    }
   ],
   "source": [
    "time = ['00:00', '01:00', '02:00', '03:00', '04:00', '05:00', '06:00', '07:00', '08:00', '09:00', '10:00', '11:00', \n",
    "        '12:00', '13:00', '14:00', '15:00', '16:00', '17:00', '18:00', '19:00', '20:00', '21:00', '22:00', '23:00']\n",
    "\n",
    "zeros = np.zeros((24,2))\n",
    "df = pd.DataFrame(zeros, index=time, columns=['seoul', 'gwangju'])\n",
    "df"
   ]
  },
  {
   "cell_type": "code",
   "execution_count": 232,
   "id": "b80d5f24-ee88-46f0-9b36-4a9e3b0a4cf3",
   "metadata": {},
   "outputs": [],
   "source": [
    "max_idx = []\n",
    "for i in range(0, len(seoul)-48, 24):\n",
    "    max_idx.append(seoul.iloc[i:i+24,2].idxmax())\n",
    "for i in max_idx:\n",
    "    df.loc[seoul.iloc[i,1].split(' ')[1], 'seoul'] += 1"
   ]
  },
  {
   "cell_type": "code",
   "execution_count": 292,
   "id": "3ce15f14-a978-4e82-a38d-0e4e7da01e7c",
   "metadata": {
    "scrolled": true
   },
   "outputs": [],
   "source": [
    "max_idx = []\n",
    "for i in range(0, len(gj), 24):\n",
    "    max_idx.append(gj.iloc[i:i+24,2].idxmax())\n",
    "for i in max_idx:\n",
    "    df.loc[gj.iloc[i,1].split(' ')[1], 'gwangju'] += 1"
   ]
  },
  {
   "cell_type": "code",
   "execution_count": 290,
   "id": "703ad127-cda4-4bb6-83bc-4cc55ee4c98e",
   "metadata": {},
   "outputs": [],
   "source": [
    "gj.drop(['index'], axis=1, inplace=True)"
   ]
  },
  {
   "cell_type": "code",
   "execution_count": 272,
   "id": "393a3d4b-3cce-4241-8809-8da566f7a915",
   "metadata": {},
   "outputs": [],
   "source": [
    "gj.reset_index(inplace=True)"
   ]
  },
  {
   "cell_type": "code",
   "execution_count": 142,
   "id": "1cb61af7-25a1-4f43-8947-dccd002c8087",
   "metadata": {},
   "outputs": [
    {
     "data": {
      "text/plain": [
       "'01:00'"
      ]
     },
     "execution_count": 142,
     "metadata": {},
     "output_type": "execute_result"
    }
   ],
   "source": [
    "seoul.iloc[1, 1].split(' ')[1]"
   ]
  },
  {
   "cell_type": "code",
   "execution_count": 238,
   "id": "c03a5c0d-af26-4fce-baf6-f3a0acf56db8",
   "metadata": {},
   "outputs": [
    {
     "data": {
      "text/plain": [
       "Index(['00:00', '01:00', '02:00', '03:00', '04:00', '05:00', '06:00', '07:00',\n",
       "       '08:00', '09:00', '10:00', '11:00', '12:00', '13:00', '14:00', '15:00',\n",
       "       '16:00', '17:00', '18:00', '19:00', '20:00', '21:00', '22:00', '23:00'],\n",
       "      dtype='object')"
      ]
     },
     "execution_count": 238,
     "metadata": {},
     "output_type": "execute_result"
    }
   ],
   "source": [
    "df.index"
   ]
  },
  {
   "cell_type": "code",
   "execution_count": 186,
   "id": "190c16c7-79b1-41ad-9fbe-90888cd7929f",
   "metadata": {},
   "outputs": [],
   "source": [
    "df.loc['00:00', 'seoul']=5"
   ]
  },
  {
   "cell_type": "code",
   "execution_count": 296,
   "id": "10feaa5f-dcfb-40c9-bc1b-b32c4fe08958",
   "metadata": {},
   "outputs": [],
   "source": [
    "import matplotlib.pyplot as plt"
   ]
  },
  {
   "cell_type": "code",
   "execution_count": 314,
   "id": "9596b5a5-3cac-415b-8ae0-d083b0ffef8a",
   "metadata": {},
   "outputs": [
    {
     "data": {
      "image/png": "[encoded data removed]",
      "text/plain": [
       "<Figure size 1500x500 with 1 Axes>"
      ]
     },
     "metadata": {},
     "output_type": "display_data"
    }
   ],
   "source": [
    "from matplotlib import font_manager, rc\n",
    "font_path = 'malgun.ttf'\n",
    "font_name = font_manager.FontProperties(fname = font_path).get_name()\n",
    "rc('font', family = font_name)\n",
    "\n",
    "plt.figure(figsize=(15,5))\n",
    "plt.bar(df.index, df['seoul'], color = 'red')\n",
    "plt.plot(df.index, df['gwangju'], color = 'blue')\n",
    "plt.xticks(rotation=45)\n",
    "plt.legend(['광주', '서울'])\n",
    "plt.show()"
   ]
  },
  {
   "cell_type": "code",
   "execution_count": null,
   "id": "ca4dbdd9-cb67-4244-94c8-5e9f9841afbe",
   "metadata": {},
   "outputs": [],
   "source": []
  }
 ],
 "metadata": {
  "kernelspec": {
   "display_name": "Python [conda env:base] *",
   "language": "python",
   "name": "conda-base-py"
  },
  "language_info": {
   "codemirror_mode": {
    "name": "ipython",
    "version": 3
   },
   "file_extension": ".py",
   "mimetype": "text/x-python",
   "name": "python",
   "nbconvert_exporter": "python",
   "pygments_lexer": "ipython3",
   "version": "3.12.7"
  }
 },
 "nbformat": 4,
 "nbformat_minor": 5
}
