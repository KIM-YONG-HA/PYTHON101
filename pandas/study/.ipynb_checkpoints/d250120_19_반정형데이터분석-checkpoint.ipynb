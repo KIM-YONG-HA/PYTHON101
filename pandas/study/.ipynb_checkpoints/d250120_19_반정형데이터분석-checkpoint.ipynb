{
 "cells": [
  {
   "cell_type": "code",
   "execution_count": null,
   "id": "26b16d01-d114-45d8-ac27-d614c0e72b02",
   "metadata": {},
   "outputs": [],
   "source": [
    "# 반정형데이터 분석 \n",
    "## 국토교통부_아파트 전월세 실거래가 자료"
   ]
  },
  {
   "cell_type": "code",
   "execution_count": null,
   "id": "19e333f9-a0a5-49b1-9832-39bbfeb33c76",
   "metadata": {},
   "outputs": [],
   "source": [
    "#https://apis.data.go.kr/1613000/RTMSDataSvcAptRent/getRTMSDataSvcAptRent?serviceKey=서비스키&LAWD_CD=11110&DEAL_YMD=202407&pageNo=1&numOfRows=1\n",
    "\n",
    "#https://apis.data.go.kr/1613000/RTMSDataSvcAptRent/getRTMSDataSvcAptRent?serviceKey=%2FDspoCgDFk9q%2Bl7Cfmv%2FZuQTGXQna07VhEnnpVMfm7fwWTIOiC1fLQWrpKjQdWkv8kBxrWfOpyG2vqgSltntFA%3D%3D&LAWD_CD=11110&DEAL_YMD=201512"
   ]
  },
  {
   "cell_type": "code",
   "execution_count": 68,
   "id": "d2f4d556-2095-4604-b9cd-7779b35dc01e",
   "metadata": {},
   "outputs": [],
   "source": [
    "import numpy as np\n",
    "import pandas as pd\n",
    "import seaborn as sns\n",
    "import matplotlib.pyplot as plt\n",
    "from urllib.request import urlopen\n",
    "from bs4 import BeautifulSoup"
   ]
  },
  {
   "cell_type": "code",
   "execution_count": 86,
   "id": "7fb6640d-5723-439c-a64c-84d6e6b9905b",
   "metadata": {},
   "outputs": [],
   "source": [
    "SERVICE_KEY = \"%2FDspoCgDFk9q%2Bl7Cfmv%2FZuQTGXQna07VhEnnpVMfm7fwWTIOiC1fLQWrpKjQdWkv8kBxrWfOpyG2vqgSltntFA%3D%3D\"\n",
    "\n",
    "def generateURL(gu_code, date):\n",
    "    if gu_code != '': gu_code = \"&LAWD_CD=\" + str(gu_code)\n",
    "    if date != '': date = \"&DEAL_YMD=\" + str(date)\n",
    "    url = f\"http://apis.data.go.kr/1613000/RTMSDataSvcAptRent/getRTMSDataSvcAptRent?serviceKey={SERVICE_KEY}{gu_code}{date}\"\n",
    "    return url"
   ]
  },
  {
   "cell_type": "code",
   "execution_count": 166,
   "id": "12b1be53-e906-402b-83ef-6d4152ed24e0",
   "metadata": {},
   "outputs": [
    {
     "name": "stdout",
     "output_type": "stream",
     "text": [
      "<http.client.HTTPResponse object at 0x00000245127473D0>\n"
     ]
    }
   ],
   "source": [
    "url = generateURL(gu_code=11110, date=201512)\n",
    "result = urlopen(url)\n",
    "print(result)"
   ]
  },
  {
   "cell_type": "code",
   "execution_count": 168,
   "id": "1b83dcad-8415-4470-8c9c-a032ae7c14db",
   "metadata": {},
   "outputs": [],
   "source": [
    "rs = BeautifulSoup(result, 'lxml-xml')"
   ]
  },
  {
   "cell_type": "code",
   "execution_count": 244,
   "id": "2351baa8-a19e-46e6-ae7e-d9aacc06f3e0",
   "metadata": {},
   "outputs": [],
   "source": [
    "#print(rs)"
   ]
  },
  {
   "cell_type": "code",
   "execution_count": 266,
   "id": "393dbff5-79e2-4150-9f10-f6fb26069c1b",
   "metadata": {},
   "outputs": [
    {
     "ename": "TypeError",
     "evalue": "'NoneType' object is not callable",
     "output_type": "error",
     "traceback": [
      "\u001b[1;31m---------------------------------------------------------------------------\u001b[0m",
      "\u001b[1;31mTypeError\u001b[0m                                 Traceback (most recent call last)",
      "Cell \u001b[1;32mIn[266], line 2\u001b[0m\n\u001b[0;32m      1\u001b[0m \u001b[38;5;28;01mfor\u001b[39;00m item \u001b[38;5;129;01min\u001b[39;00m rs\u001b[38;5;241m.\u001b[39mbody\u001b[38;5;241m.\u001b[39mitems:\n\u001b[1;32m----> 2\u001b[0m     item \u001b[38;5;241m=\u001b[39m item\u001b[38;5;241m.\u001b[39mstrip()\n\u001b[0;32m      3\u001b[0m     data \u001b[38;5;241m=\u001b[39m [item\u001b[38;5;241m.\u001b[39mumdNm\u001b[38;5;241m.\u001b[39mstring, item\u001b[38;5;241m.\u001b[39maptNm\u001b[38;5;241m.\u001b[39mstring, item\u001b[38;5;241m.\u001b[39mexcluUseAr\u001b[38;5;241m.\u001b[39mstring, item\u001b[38;5;241m.\u001b[39mdeposit\u001b[38;5;241m.\u001b[39mstring, item\u001b[38;5;241m.\u001b[39mmonthlyRent\u001b[38;5;241m.\u001b[39mstring]\n\u001b[0;32m      4\u001b[0m     \u001b[38;5;28mprint\u001b[39m(data)\n",
      "\u001b[1;31mTypeError\u001b[0m: 'NoneType' object is not callable"
     ]
    }
   ],
   "source": [
    "for item in rs.body.items:\n",
    "    \n",
    "    data = [item.umdNm.string, item.aptNm.string, item.excluUseAr.string, item.deposit.string, item.monthlyRent.string]\n",
    "    print(data)\n"
   ]
  },
  {
   "cell_type": "code",
   "execution_count": null,
   "id": "9f7a59da-3c70-4baf-97ba-bc1477198353",
   "metadata": {},
   "outputs": [],
   "source": []
  },
  {
   "cell_type": "code",
   "execution_count": 196,
   "id": "a631b247-6e69-4665-a4c1-2659e2daf09b",
   "metadata": {},
   "outputs": [
    {
     "name": "stdout",
     "output_type": "stream",
     "text": [
      "[<item><aptNm>송림아마레스아파트</aptNm><buildYear>2003</buildYear><contractTerm/><contractType> </contractType><dealDay>15</dealDay><dealMonth>12</dealMonth><dealYear>2015</dealYear><deposit>33,000</deposit><excluUseAr>75.62</excluUseAr><floor>5</floor><jibun>2-12</jibun><monthlyRent>0</monthlyRent><preDeposit/><preMonthlyRent/><sggCd>11110</sggCd><umdNm>명륜1가</umdNm><useRRRight> </useRRRight></item>, <item><aptNm>삼성</aptNm><buildYear>1998</buildYear><contractTerm/><contractType> </contractType><dealDay>22</dealDay><dealMonth>12</dealMonth><dealYear>2015</dealYear><deposit>22,000</deposit><excluUseAr>59.97</excluUseAr><floor>7</floor><jibun>596</jibun><monthlyRent>0</monthlyRent><preDeposit/><preMonthlyRent/><sggCd>11110</sggCd><umdNm>평창동</umdNm><useRRRight> </useRRRight></item>, <item><aptNm>창신쌍용2</aptNm><buildYear>1993</buildYear><contractTerm/><contractType> </contractType><dealDay>5</dealDay><dealMonth>12</dealMonth><dealYear>2015</dealYear><deposit>17,000</deposit><excluUseAr>64.66</excluUseAr><floor>4</floor><jibun>703</jibun><monthlyRent>40</monthlyRent><preDeposit/><preMonthlyRent/><sggCd>11110</sggCd><umdNm>창신동</umdNm><useRRRight> </useRRRight></item>, <item><aptNm>경희궁의아침3단지</aptNm><buildYear>2004</buildYear><contractTerm/><contractType> </contractType><dealDay>28</dealDay><dealMonth>12</dealMonth><dealYear>2015</dealYear><deposit>77,000</deposit><excluUseAr>149</excluUseAr><floor>4</floor><jibun>72</jibun><monthlyRent>0</monthlyRent><preDeposit/><preMonthlyRent/><sggCd>11110</sggCd><umdNm>내수동</umdNm><useRRRight> </useRRRight></item>, <item><aptNm>아남2</aptNm><buildYear>1996</buildYear><contractTerm/><contractType> </contractType><dealDay>18</dealDay><dealMonth>12</dealMonth><dealYear>2015</dealYear><deposit>17,000</deposit><excluUseAr>59.4</excluUseAr><floor>4</floor><jibun>236</jibun><monthlyRent>60</monthlyRent><preDeposit/><preMonthlyRent/><sggCd>11110</sggCd><umdNm>명륜2가</umdNm><useRRRight> </useRRRight></item>, <item><aptNm>종로청계힐스테이트</aptNm><buildYear>2009</buildYear><contractTerm/><contractType> </contractType><dealDay>16</dealDay><dealMonth>12</dealMonth><dealYear>2015</dealYear><deposit>35,000</deposit><excluUseAr>59.9426</excluUseAr><floor>3</floor><jibun>766</jibun><monthlyRent>0</monthlyRent><preDeposit/><preMonthlyRent/><sggCd>11110</sggCd><umdNm>숭인동</umdNm><useRRRight> </useRRRight></item>, <item><aptNm>현대뜨레비앙</aptNm><buildYear>2003</buildYear><contractTerm/><contractType> </contractType><dealDay>9</dealDay><dealMonth>12</dealMonth><dealYear>2015</dealYear><deposit>18,000</deposit><excluUseAr>45.5</excluUseAr><floor>3</floor><jibun>55</jibun><monthlyRent>0</monthlyRent><preDeposit/><preMonthlyRent/><sggCd>11110</sggCd><umdNm>익선동</umdNm><useRRRight> </useRRRight></item>, <item><aptNm>아남1</aptNm><buildYear>1995</buildYear><contractTerm/><contractType> </contractType><dealDay>29</dealDay><dealMonth>12</dealMonth><dealYear>2015</dealYear><deposit>8,100</deposit><excluUseAr>84.9</excluUseAr><floor>2</floor><jibun>4</jibun><monthlyRent>0</monthlyRent><preDeposit/><preMonthlyRent/><sggCd>11110</sggCd><umdNm>명륜2가</umdNm><useRRRight> </useRRRight></item>, <item><aptNm>창신쌍용2</aptNm><buildYear>1993</buildYear><contractTerm/><contractType> </contractType><dealDay>23</dealDay><dealMonth>12</dealMonth><dealYear>2015</dealYear><deposit>21,000</deposit><excluUseAr>79.87</excluUseAr><floor>8</floor><jibun>703</jibun><monthlyRent>20</monthlyRent><preDeposit/><preMonthlyRent/><sggCd>11110</sggCd><umdNm>창신동</umdNm><useRRRight> </useRRRight></item>, <item><aptNm>광화문스페이스본(101동~105동)</aptNm><buildYear>2008</buildYear><contractTerm/><contractType> </contractType><dealDay>21</dealDay><dealMonth>12</dealMonth><dealYear>2015</dealYear><deposit>53,000</deposit><excluUseAr>126.34</excluUseAr><floor>4</floor><jibun>9</jibun><monthlyRent>80</monthlyRent><preDeposit/><preMonthlyRent/><sggCd>11110</sggCd><umdNm>사직동</umdNm><useRRRight> </useRRRight></item>]\n"
     ]
    }
   ],
   "source": [
    "item = rs.find_all('item')\n",
    "print(item)"
   ]
  },
  {
   "cell_type": "code",
   "execution_count": 238,
   "id": "1ce180a1-5cb2-43f9-a1f8-e7fb18a660c0",
   "metadata": {},
   "outputs": [
    {
     "name": "stdout",
     "output_type": "stream",
     "text": [
      "['명륜1가', '송림아마레스아파트', '75.62', '33,000', '0']\n",
      "['평창동', '삼성', '59.97', '22,000', '0']\n",
      "['창신동', '창신쌍용2', '64.66', '17,000', '40']\n",
      "['내수동', '경희궁의아침3단지', '149', '77,000', '0']\n",
      "['명륜2가', '아남2', '59.4', '17,000', '60']\n",
      "['숭인동', '종로청계힐스테이트', '59.9426', '35,000', '0']\n",
      "['익선동', '현대뜨레비앙', '45.5', '18,000', '0']\n",
      "['명륜2가', '아남1', '84.9', '8,100', '0']\n",
      "['창신동', '창신쌍용2', '79.87', '21,000', '20']\n",
      "['사직동', '광화문스페이스본(101동~105동)', '126.34', '53,000', '80']\n"
     ]
    }
   ],
   "source": [
    "datas = []\n",
    "for i in range(len(item)):\n",
    "    umdNm = item[i].umdNm.string.strip() #  법정동\n",
    "    aptNm = item[i].aptNm.string.strip() #  아파트명\n",
    "    excluUseAr = item[i].excluUseAr.string.strip() #  전용면적\n",
    "    deposit = item[i].deposit.string.strip() #  보증금액\n",
    "    monthlyRent = item[i].monthlyRent.string.strip() #  월세\n",
    "    data = [umdNm, aptNm, excluUseAr, deposit, monthlyRent]\n",
    "    datas.append(data)\n",
    "    print(data)\n"
   ]
  },
  {
   "cell_type": "code",
   "execution_count": 242,
   "id": "88a545fa-1363-4606-a3e0-8160e150294c",
   "metadata": {},
   "outputs": [
    {
     "data": {
      "text/html": [
       "<div>\n",
       "<style scoped>\n",
       "    .dataframe tbody tr th:only-of-type {\n",
       "        vertical-align: middle;\n",
       "    }\n",
       "\n",
       "    .dataframe tbody tr th {\n",
       "        vertical-align: top;\n",
       "    }\n",
       "\n",
       "    .dataframe thead th {\n",
       "        text-align: right;\n",
       "    }\n",
       "</style>\n",
       "<table border=\"1\" class=\"dataframe\">\n",
       "  <thead>\n",
       "    <tr style=\"text-align: right;\">\n",
       "      <th></th>\n",
       "      <th>법정동</th>\n",
       "      <th>아파트명</th>\n",
       "      <th>전용면적</th>\n",
       "      <th>보증금액</th>\n",
       "      <th>월세</th>\n",
       "    </tr>\n",
       "  </thead>\n",
       "  <tbody>\n",
       "    <tr>\n",
       "      <th>0</th>\n",
       "      <td>명륜1가</td>\n",
       "      <td>송림아마레스아파트</td>\n",
       "      <td>75.62</td>\n",
       "      <td>33,000</td>\n",
       "      <td>0</td>\n",
       "    </tr>\n",
       "    <tr>\n",
       "      <th>1</th>\n",
       "      <td>평창동</td>\n",
       "      <td>삼성</td>\n",
       "      <td>59.97</td>\n",
       "      <td>22,000</td>\n",
       "      <td>0</td>\n",
       "    </tr>\n",
       "    <tr>\n",
       "      <th>2</th>\n",
       "      <td>창신동</td>\n",
       "      <td>창신쌍용2</td>\n",
       "      <td>64.66</td>\n",
       "      <td>17,000</td>\n",
       "      <td>40</td>\n",
       "    </tr>\n",
       "    <tr>\n",
       "      <th>3</th>\n",
       "      <td>내수동</td>\n",
       "      <td>경희궁의아침3단지</td>\n",
       "      <td>149</td>\n",
       "      <td>77,000</td>\n",
       "      <td>0</td>\n",
       "    </tr>\n",
       "    <tr>\n",
       "      <th>4</th>\n",
       "      <td>명륜2가</td>\n",
       "      <td>아남2</td>\n",
       "      <td>59.4</td>\n",
       "      <td>17,000</td>\n",
       "      <td>60</td>\n",
       "    </tr>\n",
       "  </tbody>\n",
       "</table>\n",
       "</div>"
      ],
      "text/plain": [
       "    법정동       아파트명   전용면적    보증금액  월세\n",
       "0  명륜1가  송림아마레스아파트  75.62  33,000   0\n",
       "1   평창동         삼성  59.97  22,000   0\n",
       "2   창신동      창신쌍용2  64.66  17,000  40\n",
       "3   내수동  경희궁의아침3단지    149  77,000   0\n",
       "4  명륜2가        아남2   59.4  17,000  60"
      ]
     },
     "execution_count": 242,
     "metadata": {},
     "output_type": "execute_result"
    }
   ],
   "source": [
    "df = pd.DataFrame(datas, columns=['법정동', '아파트명', '전용면적', '보증금액', '월세'])\n",
    "df.head()"
   ]
  },
  {
   "cell_type": "code",
   "execution_count": null,
   "id": "6f45886d-c6fd-4a58-9cfe-a10d33922c2b",
   "metadata": {},
   "outputs": [],
   "source": []
  },
  {
   "cell_type": "code",
   "execution_count": null,
   "id": "2d58d3e2-bc12-4a5a-8d5f-681408d2b9ef",
   "metadata": {},
   "outputs": [],
   "source": []
  },
  {
   "cell_type": "code",
   "execution_count": null,
   "id": "f067013d-3269-4169-97c2-9338895abe0f",
   "metadata": {},
   "outputs": [],
   "source": []
  },
  {
   "cell_type": "code",
   "execution_count": 150,
   "id": "df9d7173-f782-4c23-9a22-e7c58f10329f",
   "metadata": {},
   "outputs": [],
   "source": [
    "# for i in rs.body.items:\n",
    "#     print(i.aptNm)"
   ]
  }
 ],
 "metadata": {
  "kernelspec": {
   "display_name": "Python [conda env:base] *",
   "language": "python",
   "name": "conda-base-py"
  },
  "language_info": {
   "codemirror_mode": {
    "name": "ipython",
    "version": 3
   },
   "file_extension": ".py",
   "mimetype": "text/x-python",
   "name": "python",
   "nbconvert_exporter": "python",
   "pygments_lexer": "ipython3",
   "version": "3.12.7"
  }
 },
 "nbformat": 4,
 "nbformat_minor": 5
}
