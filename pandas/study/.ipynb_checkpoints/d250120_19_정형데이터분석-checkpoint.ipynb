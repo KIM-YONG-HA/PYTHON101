{
 "cells": [
  {
   "cell_type": "markdown",
   "id": "027673f6-4c30-4567-a6d9-855c136bb8cb",
   "metadata": {},
   "source": [
    "# 정형데이터 수집 분석 시각화\n",
    "공공데이터포털 - 소상공인시장진흥공단_상가(상권)정보.csv   \n",
    "상권업종소분류가 카페인 데이터만 사용   \n",
    "시군구별 카페 개수 시각화(막대형, 산점도)   \n",
    "시군구별 카페 개수 합계 출력    "
   ]
  },
  {
   "cell_type": "code",
   "execution_count": 2,
   "id": "a86da130-1fc0-4a8c-becf-72439d111fab",
   "metadata": {},
   "outputs": [],
   "source": [
    "import numpy as np\n",
    "import pandas as pd\n",
    "import matplotlib.pyplot as plt\n",
    "from matplotlib import font_manager as fm\n",
    "\n",
    "import warnings\n",
    "\n",
    "warnings.filterwarnings('ignore')\n",
    "\n",
    "#  폰트 관련 경고 메세지 제거(unicode warning)\n",
    "plt.rcParams['axes.unicode_minus'] = False\n",
    "\n",
    "#  한글 폰트 설정 - 폰트 경로를 직접 지정\n",
    "font_path = \"data/malgun.ttf\"  # 폰트 파일 경로\n",
    "font_prop = fm.FontProperties(fname=font_path)\n",
    "\n",
    "plt.rcParams['font.family'] = font_prop.get_name()  # 폰트 이름 가져오기\n",
    "\n",
    "#  그래프 출력 사이즈 설정\n",
    "plt.rcParams['figure.figsize'] = (8, 4)\n",
    "\n"
   ]
  },
  {
   "cell_type": "code",
   "execution_count": 51,
   "id": "5f1e9ee2-aea2-44bd-88af-d5e9c58eaf9f",
   "metadata": {},
   "outputs": [
    {
     "data": {
      "text/html": [
       "<div>\n",
       "<style scoped>\n",
       "    .dataframe tbody tr th:only-of-type {\n",
       "        vertical-align: middle;\n",
       "    }\n",
       "\n",
       "    .dataframe tbody tr th {\n",
       "        vertical-align: top;\n",
       "    }\n",
       "\n",
       "    .dataframe thead th {\n",
       "        text-align: right;\n",
       "    }\n",
       "</style>\n",
       "<table border=\"1\" class=\"dataframe\">\n",
       "  <thead>\n",
       "    <tr style=\"text-align: right;\">\n",
       "      <th></th>\n",
       "      <th>상가업소번호</th>\n",
       "      <th>상호명</th>\n",
       "      <th>지점명</th>\n",
       "      <th>상권업종대분류코드</th>\n",
       "      <th>상권업종대분류명</th>\n",
       "      <th>상권업종중분류코드</th>\n",
       "      <th>상권업종중분류명</th>\n",
       "      <th>상권업종소분류코드</th>\n",
       "      <th>상권업종소분류명</th>\n",
       "      <th>표준산업분류코드</th>\n",
       "      <th>...</th>\n",
       "      <th>건물관리번호</th>\n",
       "      <th>건물명</th>\n",
       "      <th>도로명주소</th>\n",
       "      <th>구우편번호</th>\n",
       "      <th>신우편번호</th>\n",
       "      <th>동정보</th>\n",
       "      <th>층정보</th>\n",
       "      <th>호정보</th>\n",
       "      <th>경도</th>\n",
       "      <th>위도</th>\n",
       "    </tr>\n",
       "  </thead>\n",
       "  <tbody>\n",
       "    <tr>\n",
       "      <th>0</th>\n",
       "      <td>MA0101202210A0093845</td>\n",
       "      <td>이상한스냅</td>\n",
       "      <td>NaN</td>\n",
       "      <td>M1</td>\n",
       "      <td>과학·기술</td>\n",
       "      <td>M113</td>\n",
       "      <td>사진 촬영</td>\n",
       "      <td>M11301</td>\n",
       "      <td>사진촬영업</td>\n",
       "      <td>M73303</td>\n",
       "      <td>...</td>\n",
       "      <td>1147010300100090004000001</td>\n",
       "      <td>백송주택</td>\n",
       "      <td>서울특별시 양천구 월정로 283</td>\n",
       "      <td>158822</td>\n",
       "      <td>7902</td>\n",
       "      <td>NaN</td>\n",
       "      <td>NaN</td>\n",
       "      <td>NaN</td>\n",
       "      <td>126.828832</td>\n",
       "      <td>37.542117</td>\n",
       "    </tr>\n",
       "    <tr>\n",
       "      <th>1</th>\n",
       "      <td>MA010120220805430767</td>\n",
       "      <td>토끼정</td>\n",
       "      <td>NaN</td>\n",
       "      <td>I2</td>\n",
       "      <td>음식</td>\n",
       "      <td>I201</td>\n",
       "      <td>한식</td>\n",
       "      <td>I20101</td>\n",
       "      <td>백반/한정식</td>\n",
       "      <td>I56111</td>\n",
       "      <td>...</td>\n",
       "      <td>1150010500107740012000001</td>\n",
       "      <td>마커스빌딩</td>\n",
       "      <td>서울특별시 강서구 마곡동로 55</td>\n",
       "      <td>157805</td>\n",
       "      <td>7802</td>\n",
       "      <td>NaN</td>\n",
       "      <td>2</td>\n",
       "      <td>NaN</td>\n",
       "      <td>126.833022</td>\n",
       "      <td>37.560053</td>\n",
       "    </tr>\n",
       "    <tr>\n",
       "      <th>2</th>\n",
       "      <td>MA010120220805430797</td>\n",
       "      <td>가배차</td>\n",
       "      <td>NaN</td>\n",
       "      <td>I2</td>\n",
       "      <td>음식</td>\n",
       "      <td>I201</td>\n",
       "      <td>한식</td>\n",
       "      <td>I20101</td>\n",
       "      <td>백반/한정식</td>\n",
       "      <td>I56111</td>\n",
       "      <td>...</td>\n",
       "      <td>1171010400101430002012823</td>\n",
       "      <td>사이언스빌딩</td>\n",
       "      <td>서울특별시 송파구 가락로 209</td>\n",
       "      <td>138852</td>\n",
       "      <td>5663</td>\n",
       "      <td>NaN</td>\n",
       "      <td>1</td>\n",
       "      <td>NaN</td>\n",
       "      <td>127.116136</td>\n",
       "      <td>37.507170</td>\n",
       "    </tr>\n",
       "  </tbody>\n",
       "</table>\n",
       "<p>3 rows × 39 columns</p>\n",
       "</div>"
      ],
      "text/plain": [
       "                 상가업소번호    상호명  지점명 상권업종대분류코드 상권업종대분류명 상권업종중분류코드 상권업종중분류명  \\\n",
       "0  MA0101202210A0093845  이상한스냅  NaN        M1    과학·기술      M113    사진 촬영   \n",
       "1  MA010120220805430767    토끼정  NaN        I2       음식      I201       한식   \n",
       "2  MA010120220805430797    가배차  NaN        I2       음식      I201       한식   \n",
       "\n",
       "  상권업종소분류코드 상권업종소분류명 표준산업분류코드  ...                     건물관리번호     건물명  \\\n",
       "0    M11301    사진촬영업   M73303  ...  1147010300100090004000001    백송주택   \n",
       "1    I20101   백반/한정식   I56111  ...  1150010500107740012000001   마커스빌딩   \n",
       "2    I20101   백반/한정식   I56111  ...  1171010400101430002012823  사이언스빌딩   \n",
       "\n",
       "               도로명주소   구우편번호 신우편번호  동정보  층정보  호정보          경도         위도  \n",
       "0  서울특별시 양천구 월정로 283  158822  7902  NaN  NaN  NaN  126.828832  37.542117  \n",
       "1  서울특별시 강서구 마곡동로 55  157805  7802  NaN    2  NaN  126.833022  37.560053  \n",
       "2  서울특별시 송파구 가락로 209  138852  5663  NaN    1  NaN  127.116136  37.507170  \n",
       "\n",
       "[3 rows x 39 columns]"
      ]
     },
     "execution_count": 51,
     "metadata": {},
     "output_type": "execute_result"
    }
   ],
   "source": [
    "df = pd.read_csv('data/소상공인시장진흥공단_상가(상권)정보_서울_202409.csv', low_memory=False)\n",
    "df.head(3)"
   ]
  },
  {
   "cell_type": "code",
   "execution_count": 59,
   "id": "65da2a47-355a-479f-9b7a-be201a9c8e01",
   "metadata": {},
   "outputs": [],
   "source": [
    "cond = df['상권업종소분류명'] == '카페'\n",
    "cafe = df.loc[cond, ['상호명','시군구명','행정동명', '위도','경도']].copy()"
   ]
  },
  {
   "cell_type": "code",
   "execution_count": 61,
   "id": "9445b63f-79dc-47f9-a512-87d281709ad7",
   "metadata": {},
   "outputs": [
    {
     "name": "stdout",
     "output_type": "stream",
     "text": [
      "<class 'pandas.core.frame.DataFrame'>\n",
      "Index: 20454 entries, 7 to 466021\n",
      "Data columns (total 5 columns):\n",
      " #   Column  Non-Null Count  Dtype  \n",
      "---  ------  --------------  -----  \n",
      " 0   상호명     20454 non-null  object \n",
      " 1   시군구명    20454 non-null  object \n",
      " 2   행정동명    20454 non-null  object \n",
      " 3   위도      20454 non-null  float64\n",
      " 4   경도      20454 non-null  float64\n",
      "dtypes: float64(2), object(3)\n",
      "memory usage: 958.8+ KB\n"
     ]
    }
   ],
   "source": [
    "cafe.info()"
   ]
  },
  {
   "cell_type": "code",
   "execution_count": 6,
   "id": "79efe463-0bdf-414e-9568-a4a71c58a4f6",
   "metadata": {},
   "outputs": [
    {
     "data": {
      "text/html": [
       "<div>\n",
       "<style scoped>\n",
       "    .dataframe tbody tr th:only-of-type {\n",
       "        vertical-align: middle;\n",
       "    }\n",
       "\n",
       "    .dataframe tbody tr th {\n",
       "        vertical-align: top;\n",
       "    }\n",
       "\n",
       "    .dataframe thead th {\n",
       "        text-align: right;\n",
       "    }\n",
       "</style>\n",
       "<table border=\"1\" class=\"dataframe\">\n",
       "  <thead>\n",
       "    <tr style=\"text-align: right;\">\n",
       "      <th></th>\n",
       "      <th>상호명</th>\n",
       "      <th>시군구명</th>\n",
       "      <th>경도</th>\n",
       "      <th>위도</th>\n",
       "    </tr>\n",
       "  </thead>\n",
       "  <tbody>\n",
       "    <tr>\n",
       "      <th>7</th>\n",
       "      <td>카페숲</td>\n",
       "      <td>금천구</td>\n",
       "      <td>126.909939</td>\n",
       "      <td>37.446689</td>\n",
       "    </tr>\n",
       "    <tr>\n",
       "      <th>51</th>\n",
       "      <td>매머드커피외대</td>\n",
       "      <td>동대문구</td>\n",
       "      <td>127.056962</td>\n",
       "      <td>37.598493</td>\n",
       "    </tr>\n",
       "    <tr>\n",
       "      <th>53</th>\n",
       "      <td>포르마레</td>\n",
       "      <td>강동구</td>\n",
       "      <td>127.125070</td>\n",
       "      <td>37.530474</td>\n",
       "    </tr>\n",
       "    <tr>\n",
       "      <th>111</th>\n",
       "      <td>더웨이유통할리스커피</td>\n",
       "      <td>중구</td>\n",
       "      <td>127.010407</td>\n",
       "      <td>37.553952</td>\n",
       "    </tr>\n",
       "    <tr>\n",
       "      <th>116</th>\n",
       "      <td>카페브릿지</td>\n",
       "      <td>영등포구</td>\n",
       "      <td>126.929094</td>\n",
       "      <td>37.525184</td>\n",
       "    </tr>\n",
       "  </tbody>\n",
       "</table>\n",
       "</div>"
      ],
      "text/plain": [
       "            상호명  시군구명          경도         위도\n",
       "7           카페숲   금천구  126.909939  37.446689\n",
       "51      매머드커피외대  동대문구  127.056962  37.598493\n",
       "53         포르마레   강동구  127.125070  37.530474\n",
       "111  더웨이유통할리스커피    중구  127.010407  37.553952\n",
       "116       카페브릿지  영등포구  126.929094  37.525184"
      ]
     },
     "execution_count": 6,
     "metadata": {},
     "output_type": "execute_result"
    }
   ],
   "source": [
    "cafe.head()"
   ]
  },
  {
   "cell_type": "code",
   "execution_count": 63,
   "id": "cd09a50f-7841-4573-9bac-92e3414b69b8",
   "metadata": {},
   "outputs": [
    {
     "data": {
      "text/plain": [
       "7        금천구\n",
       "51      동대문구\n",
       "53       강동구\n",
       "111       중구\n",
       "116     영등포구\n",
       "        ... \n",
       "6481     양천구\n",
       "6872     양천구\n",
       "6981     금천구\n",
       "7726     양천구\n",
       "8294     양천구\n",
       "Name: 시군구명, Length: 125, dtype: object"
      ]
     },
     "execution_count": 63,
     "metadata": {},
     "output_type": "execute_result"
    }
   ],
   "source": [
    "loc_group = cafe.groupby(by='시군구명')\n",
    "loc_group['시군구명'].head()"
   ]
  },
  {
   "cell_type": "code",
   "execution_count": 69,
   "id": "7bbc1a0a-9c89-4710-89d3-0ee33beb93eb",
   "metadata": {},
   "outputs": [],
   "source": [
    "cafe_data = loc_group['시군구명'].value_counts()"
   ]
  },
  {
   "cell_type": "code",
   "execution_count": 77,
   "id": "05cb3624-1301-4714-ad57-5e7031d4c376",
   "metadata": {},
   "outputs": [
    {
     "data": {
      "text/plain": [
       "시군구명\n",
       "강남구     1928\n",
       "강동구      677\n",
       "강북구      452\n",
       "강서구      932\n",
       "관악구      721\n",
       "광진구      731\n",
       "구로구      553\n",
       "금천구      507\n",
       "노원구      614\n",
       "도봉구      366\n",
       "동대문구     632\n",
       "동작구      567\n",
       "마포구     1775\n",
       "서대문구     632\n",
       "서초구     1131\n",
       "성동구      723\n",
       "성북구      727\n",
       "송파구     1259\n",
       "양천구      539\n",
       "영등포구    1068\n",
       "용산구      791\n",
       "은평구      570\n",
       "종로구     1128\n",
       "중구       947\n",
       "중랑구      484\n",
       "Name: count, dtype: int64"
      ]
     },
     "execution_count": 77,
     "metadata": {},
     "output_type": "execute_result"
    }
   ],
   "source": [
    "cafe_data"
   ]
  },
  {
   "cell_type": "code",
   "execution_count": 10,
   "id": "7eb7c94e-0dd3-4d55-8c98-0d73d4e6181d",
   "metadata": {},
   "outputs": [],
   "source": [
    "cafe_data = pd.DataFrame(cafe_data)"
   ]
  },
  {
   "cell_type": "code",
   "execution_count": 11,
   "id": "7c5b7121-161a-4332-a451-f6a8813e4061",
   "metadata": {},
   "outputs": [
    {
     "data": {
      "text/html": [
       "<div>\n",
       "<style scoped>\n",
       "    .dataframe tbody tr th:only-of-type {\n",
       "        vertical-align: middle;\n",
       "    }\n",
       "\n",
       "    .dataframe tbody tr th {\n",
       "        vertical-align: top;\n",
       "    }\n",
       "\n",
       "    .dataframe thead th {\n",
       "        text-align: right;\n",
       "    }\n",
       "</style>\n",
       "<table border=\"1\" class=\"dataframe\">\n",
       "  <thead>\n",
       "    <tr style=\"text-align: right;\">\n",
       "      <th></th>\n",
       "      <th>count</th>\n",
       "    </tr>\n",
       "    <tr>\n",
       "      <th>시군구명</th>\n",
       "      <th></th>\n",
       "    </tr>\n",
       "  </thead>\n",
       "  <tbody>\n",
       "    <tr>\n",
       "      <th>강남구</th>\n",
       "      <td>1928</td>\n",
       "    </tr>\n",
       "    <tr>\n",
       "      <th>강동구</th>\n",
       "      <td>677</td>\n",
       "    </tr>\n",
       "    <tr>\n",
       "      <th>강북구</th>\n",
       "      <td>452</td>\n",
       "    </tr>\n",
       "    <tr>\n",
       "      <th>강서구</th>\n",
       "      <td>932</td>\n",
       "    </tr>\n",
       "    <tr>\n",
       "      <th>관악구</th>\n",
       "      <td>721</td>\n",
       "    </tr>\n",
       "  </tbody>\n",
       "</table>\n",
       "</div>"
      ],
      "text/plain": [
       "      count\n",
       "시군구명       \n",
       "강남구    1928\n",
       "강동구     677\n",
       "강북구     452\n",
       "강서구     932\n",
       "관악구     721"
      ]
     },
     "execution_count": 11,
     "metadata": {},
     "output_type": "execute_result"
    }
   ],
   "source": [
    "cafe_data.head()"
   ]
  },
  {
   "cell_type": "code",
   "execution_count": 12,
   "id": "3691c601-c7d0-4b5b-89af-5eeefb131f85",
   "metadata": {},
   "outputs": [
    {
     "data": {
      "text/plain": [
       "<Axes: xlabel='시군구명'>"
      ]
     },
     "execution_count": 12,
     "metadata": {},
     "output_type": "execute_result"
    },
    {
     "data": {
      "image/png": "[encoded data removed]",
      "text/plain": [
       "<Figure size 800x400 with 1 Axes>"
      ]
     },
     "metadata": {},
     "output_type": "display_data"
    }
   ],
   "source": [
    "cafe_data.plot(kind='bar')"
   ]
  },
  {
   "cell_type": "code",
   "execution_count": 79,
   "id": "a5dabf3b-630a-4560-a406-00ed40d39d56",
   "metadata": {},
   "outputs": [
    {
     "data": {
      "text/html": [
       "<div>\n",
       "<style scoped>\n",
       "    .dataframe tbody tr th:only-of-type {\n",
       "        vertical-align: middle;\n",
       "    }\n",
       "\n",
       "    .dataframe tbody tr th {\n",
       "        vertical-align: top;\n",
       "    }\n",
       "\n",
       "    .dataframe thead th {\n",
       "        text-align: right;\n",
       "    }\n",
       "</style>\n",
       "<table border=\"1\" class=\"dataframe\">\n",
       "  <thead>\n",
       "    <tr style=\"text-align: right;\">\n",
       "      <th></th>\n",
       "      <th>상호명</th>\n",
       "      <th>시군구명</th>\n",
       "      <th>행정동명</th>\n",
       "      <th>위도</th>\n",
       "      <th>경도</th>\n",
       "    </tr>\n",
       "  </thead>\n",
       "  <tbody>\n",
       "    <tr>\n",
       "      <th>7</th>\n",
       "      <td>카페숲</td>\n",
       "      <td>금천구</td>\n",
       "      <td>시흥5동</td>\n",
       "      <td>37.446689</td>\n",
       "      <td>126.909939</td>\n",
       "    </tr>\n",
       "    <tr>\n",
       "      <th>51</th>\n",
       "      <td>매머드커피외대</td>\n",
       "      <td>동대문구</td>\n",
       "      <td>이문1동</td>\n",
       "      <td>37.598493</td>\n",
       "      <td>127.056962</td>\n",
       "    </tr>\n",
       "    <tr>\n",
       "      <th>53</th>\n",
       "      <td>포르마레</td>\n",
       "      <td>강동구</td>\n",
       "      <td>성내1동</td>\n",
       "      <td>37.530474</td>\n",
       "      <td>127.125070</td>\n",
       "    </tr>\n",
       "    <tr>\n",
       "      <th>111</th>\n",
       "      <td>더웨이유통할리스커피</td>\n",
       "      <td>중구</td>\n",
       "      <td>약수동</td>\n",
       "      <td>37.553952</td>\n",
       "      <td>127.010407</td>\n",
       "    </tr>\n",
       "    <tr>\n",
       "      <th>116</th>\n",
       "      <td>카페브릿지</td>\n",
       "      <td>영등포구</td>\n",
       "      <td>여의동</td>\n",
       "      <td>37.525184</td>\n",
       "      <td>126.929094</td>\n",
       "    </tr>\n",
       "  </tbody>\n",
       "</table>\n",
       "</div>"
      ],
      "text/plain": [
       "            상호명  시군구명  행정동명         위도          경도\n",
       "7           카페숲   금천구  시흥5동  37.446689  126.909939\n",
       "51      매머드커피외대  동대문구  이문1동  37.598493  127.056962\n",
       "53         포르마레   강동구  성내1동  37.530474  127.125070\n",
       "111  더웨이유통할리스커피    중구   약수동  37.553952  127.010407\n",
       "116       카페브릿지  영등포구   여의동  37.525184  126.929094"
      ]
     },
     "execution_count": 79,
     "metadata": {},
     "output_type": "execute_result"
    }
   ],
   "source": [
    "cafe.head()"
   ]
  },
  {
   "cell_type": "code",
   "execution_count": 14,
   "id": "ab96fabb-8eff-4006-b84c-e61319b22390",
   "metadata": {},
   "outputs": [
    {
     "data": {
      "image/png": "[encoded data removed]",
      "text/plain": [
       "<Figure size 1000x500 with 1 Axes>"
      ]
     },
     "metadata": {},
     "output_type": "display_data"
    }
   ],
   "source": [
    "cafe_scatter = cafe_data.copy()\n",
    "cafe_scatter.reset_index(inplace=True)\n",
    "cafe_scatter.plot(kind='scatter', x='시군구명', y='count', c='#fa1', figsize=(10, 5), marker='o',  alpha=1)\n",
    "plt.xticks(rotation=45)\n",
    "plt.legend('---',loc='upper right')\n",
    "plt.show()"
   ]
  },
  {
   "cell_type": "code",
   "execution_count": null,
   "id": "36ac48c0-90f1-4546-b4ac-e4818ad469b6",
   "metadata": {},
   "outputs": [],
   "source": []
  },
  {
   "cell_type": "code",
   "execution_count": null,
   "id": "90051409-62c9-4db2-b035-10fbbc8134ce",
   "metadata": {},
   "outputs": [],
   "source": []
  },
  {
   "cell_type": "code",
   "execution_count": null,
   "id": "85ec0025-81ea-41d1-958f-25cdd547efd5",
   "metadata": {},
   "outputs": [],
   "source": []
  },
  {
   "cell_type": "code",
   "execution_count": null,
   "id": "21b03043-bf4b-4021-b048-4ae8541991cf",
   "metadata": {},
   "outputs": [],
   "source": []
  },
  {
   "cell_type": "code",
   "execution_count": null,
   "id": "c4826ffa-7caa-41c1-a22b-392a00defea7",
   "metadata": {},
   "outputs": [],
   "source": []
  },
  {
   "cell_type": "code",
   "execution_count": 45,
   "id": "3270d5ea-e205-4ad4-909f-7db8f91346d1",
   "metadata": {},
   "outputs": [],
   "source": [
    "# import folium as f\n",
    "# cafe_map = f.Map(location=[37.55, 126.98], zoom_start=12)\n",
    "# cafe_map\n"
   ]
  },
  {
   "cell_type": "code",
   "execution_count": 47,
   "id": "00072b67-2627-42cb-98cb-e67f03e7579e",
   "metadata": {},
   "outputs": [],
   "source": [
    "# for name, lat, lng in zip(cafe.index, cafe['위도'], cafe['경도']):\n",
    "#      f.CircleMarker(location=[lat, lng],\n",
    "#                     radius=3,\n",
    "#                     color='#fa1',\n",
    "#                     fill=True,\n",
    "#                     fill_color='blue',\n",
    "#                     fill_opacity=0.4,\n",
    "#                     popup=cafe['상호명']\n",
    "#                    ).add_to(cafe_map)\n",
    "\n",
    "# cafe_map"
   ]
  }
 ],
 "metadata": {
  "kernelspec": {
   "display_name": "Python [conda env:base] *",
   "language": "python",
   "name": "conda-base-py"
  },
  "language_info": {
   "codemirror_mode": {
    "name": "ipython",
    "version": 3
   },
   "file_extension": ".py",
   "mimetype": "text/x-python",
   "name": "python",
   "nbconvert_exporter": "python",
   "pygments_lexer": "ipython3",
   "version": "3.12.7"
  }
 },
 "nbformat": 4,
 "nbformat_minor": 5
}
