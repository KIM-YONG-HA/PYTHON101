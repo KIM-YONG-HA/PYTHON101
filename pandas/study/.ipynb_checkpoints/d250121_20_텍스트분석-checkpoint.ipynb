{
 "cells": [
  {
   "cell_type": "code",
   "execution_count": null,
   "id": "b6a8f396-ede1-4496-96d3-c0ebe7273bbc",
   "metadata": {},
   "outputs": [],
   "source": []
  },
  {
   "cell_type": "code",
   "execution_count": 1,
   "id": "8f258022-0e97-41c7-aec4-f436ed896b12",
   "metadata": {},
   "outputs": [],
   "source": [
    "import numpy as np\n",
    "import pandas as pd\n",
    "import matplotlib.pyplot as plt\n",
    "import seaborn as sns\n",
    "from matplotlib import font_manager as fm\n",
    "import warnings"
   ]
  },
  {
   "cell_type": "code",
   "execution_count": 2,
   "id": "0ffc7da2-e8a2-4c7a-afc0-28d676d3daf4",
   "metadata": {},
   "outputs": [
    {
     "name": "stdout",
     "output_type": "stream",
     "text": [
      "<class 'bytes'>\n",
      "<class 'str'>\n"
     ]
    }
   ],
   "source": [
    "file_path = 'data/bc_card.txt'\n",
    "with open(file_path, 'rb') as f:\n",
    "    with open('data/dc_card_output.txt', 'w') as w:\n",
    "        data = f.read()\n",
    "        print(type(data))\n",
    "        data = data.decode('cp949')\n",
    "        print(type(data))\n",
    "        w.write(data)"
   ]
  },
  {
   "cell_type": "code",
   "execution_count": 3,
   "id": "069bf4d7-56cf-4670-9395-10b497f5a9e1",
   "metadata": {},
   "outputs": [
    {
     "name": "stdout",
     "output_type": "stream",
     "text": [
      "10235713\n"
     ]
    }
   ],
   "source": [
    "with open('data/bc_card_output.txt', 'r') as f:\n",
    "    data = f.read()\n",
    "    print(len(data))"
   ]
  },
  {
   "cell_type": "code",
   "execution_count": 4,
   "id": "ad5fd7dd-ef10-49c7-835a-4b8bbdafb0e1",
   "metadata": {},
   "outputs": [
    {
     "data": {
      "text/plain": [
       "'REG_YYMM\\tMEGA_CTY_NO\\tMEGA_CTY_NM\\tCTY_RGN_NO\\tCTY_RGN_NM\\tADMI_CTY_NO\\tADMI_CTY_NM\\tMAIN_BUZ_CODE\\tMAIN_BUZ_DESC\\tTP_GRP_NO\\tTP_GRP_NM\\tTP_BUZ_NO\\tTP_BUZ_NM\\tCSTMR_GUBUN\\tCSTMR_MEGA_CTY_NO\\tCSTMR_MEGA_CTY_NM\\tCSTMR_CTY_RGN_NO\\tCSTMR_CTY_RGN_NM\\tSEX_CTGO_CD\\tAGE_VAL\\tFLC\\tAMT\\tCNT201906\\t11\\t서울특별시\\t1162\\t관악구\\t11620585\\t낙성대동\\t80\\t음식\\t80\\t일반음식\\t8006\\t서양음식\\t내국인\\t11\\t서울특별시\\t1162\\t관악구\\t2\\t30대\\t2\\t26284804\\t1892201906\\t11\\t서울특별시\\t1159\\t동작구\\t11590560\\t상도4동\\t30\\t생활\\t40\\t유통업영리\\t4010\\t편 의 점\\t내국인\\t11\\t서울특별시\\t1165\\t서초구\\t2\\t20대\\t1\\t109290\\t18201906\\t11\\t서울특별시\\t1162\\t관악구\\t11620595\\t청룡동\\t30\\t생활\\t83\\t음식료품\\t8399\\t기타음료식품\\t내국인\\t11\\t서울특별시\\t1162\\t관악구\\t1\\t20대\\t1\\t268850\\t52201906\\t11\\t서울특별시\\t1144\\t마포구\\t11'"
      ]
     },
     "execution_count": 4,
     "metadata": {},
     "output_type": "execute_result"
    }
   ],
   "source": [
    "data[:600]"
   ]
  },
  {
   "cell_type": "markdown",
   "id": "a2c9645e-9492-4086-a6f6-8528ca636319",
   "metadata": {},
   "source": [
    "\\tCNT201906\n",
    "마지막 컬럼 CNT뒤에 날짜데이터가 붙어있음."
   ]
  },
  {
   "cell_type": "code",
   "execution_count": 6,
   "id": "a794a73a-afd0-465d-a299-4ceaf2a51b9e",
   "metadata": {},
   "outputs": [
    {
     "name": "stdout",
     "output_type": "stream",
     "text": [
      "['REG_YYMM', 'MEGA_CTY_NO', 'MEGA_CTY_NM', 'CTY_RGN_NO', 'CTY_RGN_NM', 'ADMI_CTY_NO', 'ADMI_CTY_NM', 'MAIN_BUZ_CODE', 'MAIN_BUZ_DESC', 'TP_GRP_NO', 'TP_GRP_NM', 'TP_BUZ_NO', 'TP_BUZ_NM', 'CSTMR_GUBUN', 'CSTMR_MEGA_CTY_NO', 'CSTMR_MEGA_CTY_NM', 'CSTMR_CTY_RGN_NO', 'CSTMR_CTY_RGN_NM', 'SEX_CTGO_CD', 'AGE_VAL', 'FLC', 'AMT', 'CNT201906']\n",
      "23\n"
     ]
    }
   ],
   "source": [
    "data_split = data.split('\\t')\n",
    "print(data_split[:23])\n",
    "print(len(data_split[:23]))"
   ]
  },
  {
   "cell_type": "code",
   "execution_count": 7,
   "id": "7f76a51e-edba-405f-a628-44be933264ac",
   "metadata": {},
   "outputs": [
    {
     "data": {
      "text/plain": [
       "'CNT201906'"
      ]
     },
     "execution_count": 7,
     "metadata": {},
     "output_type": "execute_result"
    }
   ],
   "source": [
    "data_split[22]"
   ]
  },
  {
   "cell_type": "code",
   "execution_count": 8,
   "id": "57710d37-7ed0-4122-89af-c235388ebe58",
   "metadata": {},
   "outputs": [
    {
     "data": {
      "text/plain": [
       "'CNT\\t201906'"
      ]
     },
     "execution_count": 8,
     "metadata": {},
     "output_type": "execute_result"
    }
   ],
   "source": [
    "data_split[22][:3] + '\\t' + data_split[22][3:]"
   ]
  },
  {
   "cell_type": "code",
   "execution_count": 9,
   "id": "ea8f25ae-84dd-4036-bea8-d9f5b4787540",
   "metadata": {},
   "outputs": [
    {
     "data": {
      "text/plain": [
       "257"
      ]
     },
     "execution_count": 9,
     "metadata": {},
     "output_type": "execute_result"
    }
   ],
   "source": [
    "data.find('CNT') #  260에 \\t 추가 "
   ]
  },
  {
   "cell_type": "code",
   "execution_count": 10,
   "id": "3eccc517-ee8c-41ec-8eb8-d2ece2eed870",
   "metadata": {},
   "outputs": [
    {
     "name": "stdout",
     "output_type": "stream",
     "text": [
      "['REG_YYMM', 'MEGA_CTY_NO', 'MEGA_CTY_NM', 'CTY_RGN_NO', 'CTY_RGN_NM', 'ADMI_CTY_NO', 'ADMI_CTY_NM', 'MAIN_BUZ_CODE', 'MAIN_BUZ_DESC', 'TP_GRP_NO', 'TP_GRP_NM', 'TP_BUZ_NO', 'TP_BUZ_NM', 'CSTMR_GUBUN', 'CSTMR_MEGA_CTY_NO', 'CSTMR_MEGA_CTY_NM', 'CSTMR_CTY_RGN_NO', 'CSTMR_CTY_RGN_NM', 'SEX_CTGO_CD', 'AGE_VAL', 'FLC', 'AMT', 'CNT', '201906', '11', '서울특별시', '1162', '관악구', '11620585', '낙성대동', '80', '음식', '80', '일반음식', '8006', '서양음식', '내국인', '11', '서울특별시', '1162', '관악구', '2', '30대', '2', '26284804', '1892201906', '11', '서울특별시', '1159', '동작구', '11590560', '상도4동', '30', '생활', '40', '유통업영리', '4010', '편 의 점', '내국인', '11', '서울특별시', '1165', '서초구', '2', '20대', '1', '109290', '18201906', '11', '서울특별시', '1162', '관악구', '11620595', '청룡동', '30', '생활', '83', '음식료품', '8399', '기타음료식품', '내국인', '11', '서울특별시', '1162', '관악구', '1', '20대', '1', '268850', '52201906', '11', '서울특별시', '1144', '마포구', '11440660', '서교동', '80', '음식', '80', '일반음식']\n"
     ]
    }
   ],
   "source": [
    "data = data[:260] + '\\t' + data[260:]\n",
    "data[:300]\n",
    "data_split = data.split('\\t')\n",
    "print(data_split[:100])"
   ]
  },
  {
   "cell_type": "code",
   "execution_count": 11,
   "id": "927935ef-a6d5-4b03-8fdb-c82ad4264963",
   "metadata": {},
   "outputs": [],
   "source": [
    "cols = 23\n",
    "total_data = len(data_split)"
   ]
  },
  {
   "cell_type": "code",
   "execution_count": 12,
   "id": "553e3f17-c69a-4b5e-a82f-d0f45cc4d9b0",
   "metadata": {},
   "outputs": [
    {
     "name": "stdout",
     "output_type": "stream",
     "text": [
      "95654.17391304347\n",
      "4\n"
     ]
    }
   ],
   "source": [
    "print(total_data / cols)\n",
    "print(total_data % cols)"
   ]
  },
  {
   "cell_type": "markdown",
   "id": "26bb5cbf-918d-49e3-8eb2-64f25f09bfed",
   "metadata": {},
   "source": [
    "전체 데이터 개수를 컬럼수로 나누었을때 딱 떨어지지 않아서 어딘가 문제가 있을 가능성.\n"
   ]
  },
  {
   "cell_type": "code",
   "execution_count": 20,
   "id": "16a7d36f-4c62-4850-b44d-6bece6e1f8c0",
   "metadata": {},
   "outputs": [
    {
     "data": {
      "text/plain": [
       "('CNT', '201906')"
      ]
     },
     "execution_count": 20,
     "metadata": {},
     "output_type": "execute_result"
    }
   ],
   "source": [
    "data_split[22], data_split[23] "
   ]
  },
  {
   "cell_type": "code",
   "execution_count": 65,
   "id": "ea8c3a26-88e2-4511-a847-90d782508ba0",
   "metadata": {},
   "outputs": [
    {
     "data": {
      "text/plain": [
       "('1892201906', '18201906', '52201906', '1790201906')"
      ]
     },
     "execution_count": 65,
     "metadata": {},
     "output_type": "execute_result"
    }
   ],
   "source": [
    "data_split[23+22], data_split[23+22+22], data_split[23+22+22+22] , data_split[23+22+22+22+22] "
   ]
  },
  {
   "cell_type": "code",
   "execution_count": null,
   "id": "ba91c9f0-8292-4a64-9f9f-99e91f7b3d19",
   "metadata": {},
   "outputs": [],
   "source": []
  },
  {
   "cell_type": "code",
   "execution_count": null,
   "id": "2ec5119c-a41e-40a1-83c2-04f2dfb2ece7",
   "metadata": {},
   "outputs": [],
   "source": []
  },
  {
   "cell_type": "code",
   "execution_count": null,
   "id": "24d87e1c-51a9-4967-823c-1501b2e5ece0",
   "metadata": {},
   "outputs": [],
   "source": []
  },
  {
   "cell_type": "code",
   "execution_count": null,
   "id": "dc329d39-3922-44a8-8466-dd82466b5dce",
   "metadata": {},
   "outputs": [],
   "source": [
    "cycle = 22\n",
    "i = 1\n",
    "while i < round((len(data_split) - cycle) / cycle):\n",
    "    IDX = cols+(cycle*i)\n",
    "    target_index = data_split[IDX].find('201906')\n",
    "    i += 1\n",
    "    data_split[IDX] = data_split[IDX][:target_index] + '\\t' \n"
   ]
  }
 ],
 "metadata": {
  "kernelspec": {
   "display_name": "Python [conda env:base] *",
   "language": "python",
   "name": "conda-base-py"
  },
  "language_info": {
   "codemirror_mode": {
    "name": "ipython",
    "version": 3
   },
   "file_extension": ".py",
   "mimetype": "text/x-python",
   "name": "python",
   "nbconvert_exporter": "python",
   "pygments_lexer": "ipython3",
   "version": "3.12.7"
  }
 },
 "nbformat": 4,
 "nbformat_minor": 5
}
