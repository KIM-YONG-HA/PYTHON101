{
 "cells": [
  {
   "cell_type": "code",
   "execution_count": 4,
   "id": "2e275172-890e-4a22-ae7a-a14352f1a46b",
   "metadata": {},
   "outputs": [],
   "source": [
    "import pandas as pd"
   ]
  },
  {
   "cell_type": "code",
   "execution_count": 18,
   "id": "8b34b083-192a-45a7-8018-67877f23f10b",
   "metadata": {},
   "outputs": [
    {
     "name": "stdout",
     "output_type": "stream",
     "text": [
      "0    가\n",
      "1    나\n",
      "2    다\n",
      "3    라\n",
      "dtype: object\n"
     ]
    }
   ],
   "source": [
    "tup_data = ('가', '나', '다', '라')\n",
    "sr = pd.Series(tup_data)\n",
    "print(sr)"
   ]
  },
  {
   "cell_type": "code",
   "execution_count": 22,
   "id": "3fb7aca3-d8bf-48ac-8ac5-9a6131703f56",
   "metadata": {},
   "outputs": [
    {
     "name": "stdout",
     "output_type": "stream",
     "text": [
      "A    가\n",
      "B    나\n",
      "C    다\n",
      "D    라\n",
      "dtype: object\n"
     ]
    }
   ],
   "source": [
    "sr.index = ['A', 'B', 'C', 'D']\n",
    "print(sr)"
   ]
  },
  {
   "cell_type": "code",
   "execution_count": 26,
   "id": "28c85287-88da-4aba-bd60-78d34a6982bb",
   "metadata": {},
   "outputs": [
    {
     "name": "stdout",
     "output_type": "stream",
     "text": [
      "A    가\n",
      "B    나\n",
      "C    다\n",
      "D    라\n",
      "dtype: object\n"
     ]
    }
   ],
   "source": [
    "sr = pd.Series(tup_data, index=['A','B','C','D'])\n",
    "print(sr)"
   ]
  },
  {
   "cell_type": "code",
   "execution_count": 36,
   "id": "aa5eed95-3d9e-4389-8c5d-e370bd09ea3d",
   "metadata": {},
   "outputs": [
    {
     "name": "stdout",
     "output_type": "stream",
     "text": [
      "[1, 2]\n"
     ]
    }
   ],
   "source": [
    "r = [1, 2]\n",
    "ser = pd.Series(r, copy=False)\n",
    "ser.iloc[0] = 999\n",
    "print(r)"
   ]
  },
  {
   "cell_type": "code",
   "execution_count": 40,
   "id": "fa3c788b-4756-4974-a7fd-d98c5b896a73",
   "metadata": {},
   "outputs": [
    {
     "name": "stdout",
     "output_type": "stream",
     "text": [
      "0    가\n",
      "1    나\n",
      "2    다\n",
      "3    라\n",
      "dtype: object\n"
     ]
    }
   ],
   "source": [
    "kor = pd.Series(['가', '나', '다', '라'])\n",
    "print(kor)"
   ]
  },
  {
   "cell_type": "code",
   "execution_count": 8,
   "id": "5d576457-e2a3-4cd3-9c99-1d5b96c46482",
   "metadata": {},
   "outputs": [
    {
     "name": "stdout",
     "output_type": "stream",
     "text": [
      "RangeIndex(start=0, stop=4, step=1)\n"
     ]
    }
   ],
   "source": [
    "sr = pd.Series(['가', '나', '다', '라'])\n",
    "print(sr.index)"
   ]
  },
  {
   "cell_type": "code",
   "execution_count": 10,
   "id": "0d31dbe3-512a-405b-9050-f983ee01cb81",
   "metadata": {},
   "outputs": [
    {
     "name": "stdout",
     "output_type": "stream",
     "text": [
      "가\n"
     ]
    }
   ],
   "source": [
    "print(sr[0])"
   ]
  },
  {
   "cell_type": "code",
   "execution_count": 12,
   "id": "3663adbf-9d3f-4250-947e-2a61b15746fb",
   "metadata": {},
   "outputs": [
    {
     "name": "stdout",
     "output_type": "stream",
     "text": [
      "1    나\n",
      "3    라\n",
      "dtype: object\n"
     ]
    }
   ],
   "source": [
    "print(sr[[1,3]])"
   ]
  },
  {
   "cell_type": "code",
   "execution_count": 18,
   "id": "c7a6ee87-5be0-4a41-b2dd-e0bad2185d65",
   "metadata": {},
   "outputs": [
    {
     "name": "stdout",
     "output_type": "stream",
     "text": [
      "0    가\n",
      "1    나\n",
      "2    다\n",
      "3    라\n",
      "dtype: object\n"
     ]
    }
   ],
   "source": [
    "print(sr[0:4])"
   ]
  },
  {
   "cell_type": "code",
   "execution_count": null,
   "id": "6d2d23fa-d6cc-4024-b833-7b0c91ecef63",
   "metadata": {},
   "outputs": [],
   "source": []
  }
 ],
 "metadata": {
  "kernelspec": {
   "display_name": "Python [conda env:base] *",
   "language": "python",
   "name": "conda-base-py"
  },
  "language_info": {
   "codemirror_mode": {
    "name": "ipython",
    "version": 3
   },
   "file_extension": ".py",
   "mimetype": "text/x-python",
   "name": "python",
   "nbconvert_exporter": "python",
   "pygments_lexer": "ipython3",
   "version": "3.12.7"
  }
 },
 "nbformat": 4,
 "nbformat_minor": 5
}
