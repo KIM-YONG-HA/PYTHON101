{
 "cells": [
  {
   "cell_type": "code",
   "execution_count": null,
   "id": "268105d9-e8c9-42a6-b188-c43e3c39c89c",
   "metadata": {},
   "outputs": [],
   "source": [
    "\n",
    "## 전처리 작업 \n",
    "데이터 분석의 정확도는 분석데이터의 품질에 따라 좌우된다.\n",
    "데이터 품질을 높이기 위해서는 누락데이터(NaN), 중복데이터 등 오유를 수정할 필요가 있다.\n",
    "수집한 데이터를 분석에 적합하도록 사전 처리하는 것을 전처리라고 한다.\n",
    "\n",
    "\n",
    "### 누락 데이터 확인 \n",
    "\n"
   ]
  },
  {
   "cell_type": "code",
   "execution_count": 1,
   "id": "9da5a270-4db1-4f75-95c8-7159cce885ee",
   "metadata": {},
   "outputs": [],
   "source": [
    "import seaborn as sns"
   ]
  },
  {
   "cell_type": "code",
   "execution_count": 3,
   "id": "804a3831-c5c8-494a-bdf8-8ce08cd492ad",
   "metadata": {},
   "outputs": [
    {
     "data": {
      "text/html": [
       "<div>\n",
       "<style scoped>\n",
       "    .dataframe tbody tr th:only-of-type {\n",
       "        vertical-align: middle;\n",
       "    }\n",
       "\n",
       "    .dataframe tbody tr th {\n",
       "        vertical-align: top;\n",
       "    }\n",
       "\n",
       "    .dataframe thead th {\n",
       "        text-align: right;\n",
       "    }\n",
       "</style>\n",
       "<table border=\"1\" class=\"dataframe\">\n",
       "  <thead>\n",
       "    <tr style=\"text-align: right;\">\n",
       "      <th></th>\n",
       "      <th>survived</th>\n",
       "      <th>pclass</th>\n",
       "      <th>sex</th>\n",
       "      <th>age</th>\n",
       "      <th>sibsp</th>\n",
       "      <th>parch</th>\n",
       "      <th>fare</th>\n",
       "      <th>embarked</th>\n",
       "      <th>class</th>\n",
       "      <th>who</th>\n",
       "      <th>adult_male</th>\n",
       "      <th>deck</th>\n",
       "      <th>embark_town</th>\n",
       "      <th>alive</th>\n",
       "      <th>alone</th>\n",
       "    </tr>\n",
       "  </thead>\n",
       "  <tbody>\n",
       "    <tr>\n",
       "      <th>0</th>\n",
       "      <td>0</td>\n",
       "      <td>3</td>\n",
       "      <td>male</td>\n",
       "      <td>22.0</td>\n",
       "      <td>1</td>\n",
       "      <td>0</td>\n",
       "      <td>7.2500</td>\n",
       "      <td>S</td>\n",
       "      <td>Third</td>\n",
       "      <td>man</td>\n",
       "      <td>True</td>\n",
       "      <td>NaN</td>\n",
       "      <td>Southampton</td>\n",
       "      <td>no</td>\n",
       "      <td>False</td>\n",
       "    </tr>\n",
       "    <tr>\n",
       "      <th>1</th>\n",
       "      <td>1</td>\n",
       "      <td>1</td>\n",
       "      <td>female</td>\n",
       "      <td>38.0</td>\n",
       "      <td>1</td>\n",
       "      <td>0</td>\n",
       "      <td>71.2833</td>\n",
       "      <td>C</td>\n",
       "      <td>First</td>\n",
       "      <td>woman</td>\n",
       "      <td>False</td>\n",
       "      <td>C</td>\n",
       "      <td>Cherbourg</td>\n",
       "      <td>yes</td>\n",
       "      <td>False</td>\n",
       "    </tr>\n",
       "    <tr>\n",
       "      <th>2</th>\n",
       "      <td>1</td>\n",
       "      <td>3</td>\n",
       "      <td>female</td>\n",
       "      <td>26.0</td>\n",
       "      <td>0</td>\n",
       "      <td>0</td>\n",
       "      <td>7.9250</td>\n",
       "      <td>S</td>\n",
       "      <td>Third</td>\n",
       "      <td>woman</td>\n",
       "      <td>False</td>\n",
       "      <td>NaN</td>\n",
       "      <td>Southampton</td>\n",
       "      <td>yes</td>\n",
       "      <td>True</td>\n",
       "    </tr>\n",
       "    <tr>\n",
       "      <th>3</th>\n",
       "      <td>1</td>\n",
       "      <td>1</td>\n",
       "      <td>female</td>\n",
       "      <td>35.0</td>\n",
       "      <td>1</td>\n",
       "      <td>0</td>\n",
       "      <td>53.1000</td>\n",
       "      <td>S</td>\n",
       "      <td>First</td>\n",
       "      <td>woman</td>\n",
       "      <td>False</td>\n",
       "      <td>C</td>\n",
       "      <td>Southampton</td>\n",
       "      <td>yes</td>\n",
       "      <td>False</td>\n",
       "    </tr>\n",
       "    <tr>\n",
       "      <th>4</th>\n",
       "      <td>0</td>\n",
       "      <td>3</td>\n",
       "      <td>male</td>\n",
       "      <td>35.0</td>\n",
       "      <td>0</td>\n",
       "      <td>0</td>\n",
       "      <td>8.0500</td>\n",
       "      <td>S</td>\n",
       "      <td>Third</td>\n",
       "      <td>man</td>\n",
       "      <td>True</td>\n",
       "      <td>NaN</td>\n",
       "      <td>Southampton</td>\n",
       "      <td>no</td>\n",
       "      <td>True</td>\n",
       "    </tr>\n",
       "  </tbody>\n",
       "</table>\n",
       "</div>"
      ],
      "text/plain": [
       "   survived  pclass     sex   age  sibsp  parch     fare embarked  class  \\\n",
       "0         0       3    male  22.0      1      0   7.2500        S  Third   \n",
       "1         1       1  female  38.0      1      0  71.2833        C  First   \n",
       "2         1       3  female  26.0      0      0   7.9250        S  Third   \n",
       "3         1       1  female  35.0      1      0  53.1000        S  First   \n",
       "4         0       3    male  35.0      0      0   8.0500        S  Third   \n",
       "\n",
       "     who  adult_male deck  embark_town alive  alone  \n",
       "0    man        True  NaN  Southampton    no  False  \n",
       "1  woman       False    C    Cherbourg   yes  False  \n",
       "2  woman       False  NaN  Southampton   yes   True  \n",
       "3  woman       False    C  Southampton   yes  False  \n",
       "4    man        True  NaN  Southampton    no   True  "
      ]
     },
     "execution_count": 3,
     "metadata": {},
     "output_type": "execute_result"
    }
   ],
   "source": [
    "df = sns.load_dataset('titanic')\n",
    "df.head()"
   ]
  },
  {
   "cell_type": "code",
   "execution_count": 5,
   "id": "c8c038ad-9848-4d82-bf1c-56e5d31c0385",
   "metadata": {},
   "outputs": [
    {
     "name": "stdout",
     "output_type": "stream",
     "text": [
      "<class 'pandas.core.frame.DataFrame'>\n",
      "RangeIndex: 891 entries, 0 to 890\n",
      "Data columns (total 15 columns):\n",
      " #   Column       Non-Null Count  Dtype   \n",
      "---  ------       --------------  -----   \n",
      " 0   survived     891 non-null    int64   \n",
      " 1   pclass       891 non-null    int64   \n",
      " 2   sex          891 non-null    object  \n",
      " 3   age          714 non-null    float64 \n",
      " 4   sibsp        891 non-null    int64   \n",
      " 5   parch        891 non-null    int64   \n",
      " 6   fare         891 non-null    float64 \n",
      " 7   embarked     889 non-null    object  \n",
      " 8   class        891 non-null    category\n",
      " 9   who          891 non-null    object  \n",
      " 10  adult_male   891 non-null    bool    \n",
      " 11  deck         203 non-null    category\n",
      " 12  embark_town  889 non-null    object  \n",
      " 13  alive        891 non-null    object  \n",
      " 14  alone        891 non-null    bool    \n",
      "dtypes: bool(2), category(2), float64(2), int64(4), object(5)\n",
      "memory usage: 80.7+ KB\n"
     ]
    }
   ],
   "source": [
    "df.info()"
   ]
  },
  {
   "cell_type": "code",
   "execution_count": 7,
   "id": "1fa06af3-76b9-4668-bccd-f4252f58a239",
   "metadata": {},
   "outputs": [
    {
     "data": {
      "text/plain": [
       "deck\n",
       "C    59\n",
       "B    47\n",
       "D    33\n",
       "E    32\n",
       "A    15\n",
       "F    13\n",
       "G     4\n",
       "Name: count, dtype: int64"
      ]
     },
     "execution_count": 7,
     "metadata": {},
     "output_type": "execute_result"
    }
   ],
   "source": [
    "df['deck'].value_counts()"
   ]
  },
  {
   "cell_type": "code",
   "execution_count": 9,
   "id": "929a66c2-0f5e-49d2-b96a-55bfac496933",
   "metadata": {},
   "outputs": [
    {
     "data": {
      "text/html": [
       "<div>\n",
       "<style scoped>\n",
       "    .dataframe tbody tr th:only-of-type {\n",
       "        vertical-align: middle;\n",
       "    }\n",
       "\n",
       "    .dataframe tbody tr th {\n",
       "        vertical-align: top;\n",
       "    }\n",
       "\n",
       "    .dataframe thead th {\n",
       "        text-align: right;\n",
       "    }\n",
       "</style>\n",
       "<table border=\"1\" class=\"dataframe\">\n",
       "  <thead>\n",
       "    <tr style=\"text-align: right;\">\n",
       "      <th></th>\n",
       "      <th>survived</th>\n",
       "      <th>pclass</th>\n",
       "      <th>sex</th>\n",
       "      <th>age</th>\n",
       "      <th>sibsp</th>\n",
       "      <th>parch</th>\n",
       "      <th>fare</th>\n",
       "      <th>embarked</th>\n",
       "      <th>class</th>\n",
       "      <th>who</th>\n",
       "      <th>adult_male</th>\n",
       "      <th>deck</th>\n",
       "      <th>embark_town</th>\n",
       "      <th>alive</th>\n",
       "      <th>alone</th>\n",
       "    </tr>\n",
       "  </thead>\n",
       "  <tbody>\n",
       "    <tr>\n",
       "      <th>0</th>\n",
       "      <td>False</td>\n",
       "      <td>False</td>\n",
       "      <td>False</td>\n",
       "      <td>False</td>\n",
       "      <td>False</td>\n",
       "      <td>False</td>\n",
       "      <td>False</td>\n",
       "      <td>False</td>\n",
       "      <td>False</td>\n",
       "      <td>False</td>\n",
       "      <td>False</td>\n",
       "      <td>True</td>\n",
       "      <td>False</td>\n",
       "      <td>False</td>\n",
       "      <td>False</td>\n",
       "    </tr>\n",
       "    <tr>\n",
       "      <th>1</th>\n",
       "      <td>False</td>\n",
       "      <td>False</td>\n",
       "      <td>False</td>\n",
       "      <td>False</td>\n",
       "      <td>False</td>\n",
       "      <td>False</td>\n",
       "      <td>False</td>\n",
       "      <td>False</td>\n",
       "      <td>False</td>\n",
       "      <td>False</td>\n",
       "      <td>False</td>\n",
       "      <td>False</td>\n",
       "      <td>False</td>\n",
       "      <td>False</td>\n",
       "      <td>False</td>\n",
       "    </tr>\n",
       "    <tr>\n",
       "      <th>2</th>\n",
       "      <td>False</td>\n",
       "      <td>False</td>\n",
       "      <td>False</td>\n",
       "      <td>False</td>\n",
       "      <td>False</td>\n",
       "      <td>False</td>\n",
       "      <td>False</td>\n",
       "      <td>False</td>\n",
       "      <td>False</td>\n",
       "      <td>False</td>\n",
       "      <td>False</td>\n",
       "      <td>True</td>\n",
       "      <td>False</td>\n",
       "      <td>False</td>\n",
       "      <td>False</td>\n",
       "    </tr>\n",
       "    <tr>\n",
       "      <th>3</th>\n",
       "      <td>False</td>\n",
       "      <td>False</td>\n",
       "      <td>False</td>\n",
       "      <td>False</td>\n",
       "      <td>False</td>\n",
       "      <td>False</td>\n",
       "      <td>False</td>\n",
       "      <td>False</td>\n",
       "      <td>False</td>\n",
       "      <td>False</td>\n",
       "      <td>False</td>\n",
       "      <td>False</td>\n",
       "      <td>False</td>\n",
       "      <td>False</td>\n",
       "      <td>False</td>\n",
       "    </tr>\n",
       "    <tr>\n",
       "      <th>4</th>\n",
       "      <td>False</td>\n",
       "      <td>False</td>\n",
       "      <td>False</td>\n",
       "      <td>False</td>\n",
       "      <td>False</td>\n",
       "      <td>False</td>\n",
       "      <td>False</td>\n",
       "      <td>False</td>\n",
       "      <td>False</td>\n",
       "      <td>False</td>\n",
       "      <td>False</td>\n",
       "      <td>True</td>\n",
       "      <td>False</td>\n",
       "      <td>False</td>\n",
       "      <td>False</td>\n",
       "    </tr>\n",
       "  </tbody>\n",
       "</table>\n",
       "</div>"
      ],
      "text/plain": [
       "   survived  pclass    sex    age  sibsp  parch   fare  embarked  class  \\\n",
       "0     False   False  False  False  False  False  False     False  False   \n",
       "1     False   False  False  False  False  False  False     False  False   \n",
       "2     False   False  False  False  False  False  False     False  False   \n",
       "3     False   False  False  False  False  False  False     False  False   \n",
       "4     False   False  False  False  False  False  False     False  False   \n",
       "\n",
       "     who  adult_male   deck  embark_town  alive  alone  \n",
       "0  False       False   True        False  False  False  \n",
       "1  False       False  False        False  False  False  \n",
       "2  False       False   True        False  False  False  \n",
       "3  False       False  False        False  False  False  \n",
       "4  False       False   True        False  False  False  "
      ]
     },
     "execution_count": 9,
     "metadata": {},
     "output_type": "execute_result"
    }
   ],
   "source": [
    "df.head().isnull()"
   ]
  },
  {
   "cell_type": "code",
   "execution_count": 11,
   "id": "2ad41906-8780-4351-9e04-5bb11c21212e",
   "metadata": {},
   "outputs": [
    {
     "data": {
      "text/html": [
       "<div>\n",
       "<style scoped>\n",
       "    .dataframe tbody tr th:only-of-type {\n",
       "        vertical-align: middle;\n",
       "    }\n",
       "\n",
       "    .dataframe tbody tr th {\n",
       "        vertical-align: top;\n",
       "    }\n",
       "\n",
       "    .dataframe thead th {\n",
       "        text-align: right;\n",
       "    }\n",
       "</style>\n",
       "<table border=\"1\" class=\"dataframe\">\n",
       "  <thead>\n",
       "    <tr style=\"text-align: right;\">\n",
       "      <th></th>\n",
       "      <th>survived</th>\n",
       "      <th>pclass</th>\n",
       "      <th>sex</th>\n",
       "      <th>age</th>\n",
       "      <th>sibsp</th>\n",
       "      <th>parch</th>\n",
       "      <th>fare</th>\n",
       "      <th>embarked</th>\n",
       "      <th>class</th>\n",
       "      <th>who</th>\n",
       "      <th>adult_male</th>\n",
       "      <th>deck</th>\n",
       "      <th>embark_town</th>\n",
       "      <th>alive</th>\n",
       "      <th>alone</th>\n",
       "    </tr>\n",
       "  </thead>\n",
       "  <tbody>\n",
       "    <tr>\n",
       "      <th>0</th>\n",
       "      <td>True</td>\n",
       "      <td>True</td>\n",
       "      <td>True</td>\n",
       "      <td>True</td>\n",
       "      <td>True</td>\n",
       "      <td>True</td>\n",
       "      <td>True</td>\n",
       "      <td>True</td>\n",
       "      <td>True</td>\n",
       "      <td>True</td>\n",
       "      <td>True</td>\n",
       "      <td>False</td>\n",
       "      <td>True</td>\n",
       "      <td>True</td>\n",
       "      <td>True</td>\n",
       "    </tr>\n",
       "    <tr>\n",
       "      <th>1</th>\n",
       "      <td>True</td>\n",
       "      <td>True</td>\n",
       "      <td>True</td>\n",
       "      <td>True</td>\n",
       "      <td>True</td>\n",
       "      <td>True</td>\n",
       "      <td>True</td>\n",
       "      <td>True</td>\n",
       "      <td>True</td>\n",
       "      <td>True</td>\n",
       "      <td>True</td>\n",
       "      <td>True</td>\n",
       "      <td>True</td>\n",
       "      <td>True</td>\n",
       "      <td>True</td>\n",
       "    </tr>\n",
       "    <tr>\n",
       "      <th>2</th>\n",
       "      <td>True</td>\n",
       "      <td>True</td>\n",
       "      <td>True</td>\n",
       "      <td>True</td>\n",
       "      <td>True</td>\n",
       "      <td>True</td>\n",
       "      <td>True</td>\n",
       "      <td>True</td>\n",
       "      <td>True</td>\n",
       "      <td>True</td>\n",
       "      <td>True</td>\n",
       "      <td>False</td>\n",
       "      <td>True</td>\n",
       "      <td>True</td>\n",
       "      <td>True</td>\n",
       "    </tr>\n",
       "    <tr>\n",
       "      <th>3</th>\n",
       "      <td>True</td>\n",
       "      <td>True</td>\n",
       "      <td>True</td>\n",
       "      <td>True</td>\n",
       "      <td>True</td>\n",
       "      <td>True</td>\n",
       "      <td>True</td>\n",
       "      <td>True</td>\n",
       "      <td>True</td>\n",
       "      <td>True</td>\n",
       "      <td>True</td>\n",
       "      <td>True</td>\n",
       "      <td>True</td>\n",
       "      <td>True</td>\n",
       "      <td>True</td>\n",
       "    </tr>\n",
       "    <tr>\n",
       "      <th>4</th>\n",
       "      <td>True</td>\n",
       "      <td>True</td>\n",
       "      <td>True</td>\n",
       "      <td>True</td>\n",
       "      <td>True</td>\n",
       "      <td>True</td>\n",
       "      <td>True</td>\n",
       "      <td>True</td>\n",
       "      <td>True</td>\n",
       "      <td>True</td>\n",
       "      <td>True</td>\n",
       "      <td>False</td>\n",
       "      <td>True</td>\n",
       "      <td>True</td>\n",
       "      <td>True</td>\n",
       "    </tr>\n",
       "  </tbody>\n",
       "</table>\n",
       "</div>"
      ],
      "text/plain": [
       "   survived  pclass   sex   age  sibsp  parch  fare  embarked  class   who  \\\n",
       "0      True    True  True  True   True   True  True      True   True  True   \n",
       "1      True    True  True  True   True   True  True      True   True  True   \n",
       "2      True    True  True  True   True   True  True      True   True  True   \n",
       "3      True    True  True  True   True   True  True      True   True  True   \n",
       "4      True    True  True  True   True   True  True      True   True  True   \n",
       "\n",
       "   adult_male   deck  embark_town  alive  alone  \n",
       "0        True  False         True   True   True  \n",
       "1        True   True         True   True   True  \n",
       "2        True  False         True   True   True  \n",
       "3        True   True         True   True   True  \n",
       "4        True  False         True   True   True  "
      ]
     },
     "execution_count": 11,
     "metadata": {},
     "output_type": "execute_result"
    }
   ],
   "source": [
    "df.head().notnull()"
   ]
  },
  {
   "cell_type": "code",
   "execution_count": 13,
   "id": "a539b00f-cec2-4302-a17a-87aa575ef085",
   "metadata": {},
   "outputs": [
    {
     "data": {
      "text/html": [
       "<div>\n",
       "<style scoped>\n",
       "    .dataframe tbody tr th:only-of-type {\n",
       "        vertical-align: middle;\n",
       "    }\n",
       "\n",
       "    .dataframe tbody tr th {\n",
       "        vertical-align: top;\n",
       "    }\n",
       "\n",
       "    .dataframe thead th {\n",
       "        text-align: right;\n",
       "    }\n",
       "</style>\n",
       "<table border=\"1\" class=\"dataframe\">\n",
       "  <thead>\n",
       "    <tr style=\"text-align: right;\">\n",
       "      <th></th>\n",
       "      <th>survived</th>\n",
       "      <th>pclass</th>\n",
       "      <th>sex</th>\n",
       "      <th>age</th>\n",
       "      <th>sibsp</th>\n",
       "      <th>parch</th>\n",
       "      <th>fare</th>\n",
       "      <th>embarked</th>\n",
       "      <th>class</th>\n",
       "      <th>who</th>\n",
       "      <th>adult_male</th>\n",
       "      <th>deck</th>\n",
       "      <th>embark_town</th>\n",
       "      <th>alive</th>\n",
       "      <th>alone</th>\n",
       "    </tr>\n",
       "  </thead>\n",
       "  <tbody>\n",
       "    <tr>\n",
       "      <th>0</th>\n",
       "      <td>False</td>\n",
       "      <td>False</td>\n",
       "      <td>False</td>\n",
       "      <td>False</td>\n",
       "      <td>False</td>\n",
       "      <td>False</td>\n",
       "      <td>False</td>\n",
       "      <td>False</td>\n",
       "      <td>False</td>\n",
       "      <td>False</td>\n",
       "      <td>False</td>\n",
       "      <td>True</td>\n",
       "      <td>False</td>\n",
       "      <td>False</td>\n",
       "      <td>False</td>\n",
       "    </tr>\n",
       "    <tr>\n",
       "      <th>1</th>\n",
       "      <td>False</td>\n",
       "      <td>False</td>\n",
       "      <td>False</td>\n",
       "      <td>False</td>\n",
       "      <td>False</td>\n",
       "      <td>False</td>\n",
       "      <td>False</td>\n",
       "      <td>False</td>\n",
       "      <td>False</td>\n",
       "      <td>False</td>\n",
       "      <td>False</td>\n",
       "      <td>False</td>\n",
       "      <td>False</td>\n",
       "      <td>False</td>\n",
       "      <td>False</td>\n",
       "    </tr>\n",
       "    <tr>\n",
       "      <th>2</th>\n",
       "      <td>False</td>\n",
       "      <td>False</td>\n",
       "      <td>False</td>\n",
       "      <td>False</td>\n",
       "      <td>False</td>\n",
       "      <td>False</td>\n",
       "      <td>False</td>\n",
       "      <td>False</td>\n",
       "      <td>False</td>\n",
       "      <td>False</td>\n",
       "      <td>False</td>\n",
       "      <td>True</td>\n",
       "      <td>False</td>\n",
       "      <td>False</td>\n",
       "      <td>False</td>\n",
       "    </tr>\n",
       "    <tr>\n",
       "      <th>3</th>\n",
       "      <td>False</td>\n",
       "      <td>False</td>\n",
       "      <td>False</td>\n",
       "      <td>False</td>\n",
       "      <td>False</td>\n",
       "      <td>False</td>\n",
       "      <td>False</td>\n",
       "      <td>False</td>\n",
       "      <td>False</td>\n",
       "      <td>False</td>\n",
       "      <td>False</td>\n",
       "      <td>False</td>\n",
       "      <td>False</td>\n",
       "      <td>False</td>\n",
       "      <td>False</td>\n",
       "    </tr>\n",
       "    <tr>\n",
       "      <th>4</th>\n",
       "      <td>False</td>\n",
       "      <td>False</td>\n",
       "      <td>False</td>\n",
       "      <td>False</td>\n",
       "      <td>False</td>\n",
       "      <td>False</td>\n",
       "      <td>False</td>\n",
       "      <td>False</td>\n",
       "      <td>False</td>\n",
       "      <td>False</td>\n",
       "      <td>False</td>\n",
       "      <td>True</td>\n",
       "      <td>False</td>\n",
       "      <td>False</td>\n",
       "      <td>False</td>\n",
       "    </tr>\n",
       "  </tbody>\n",
       "</table>\n",
       "</div>"
      ],
      "text/plain": [
       "   survived  pclass    sex    age  sibsp  parch   fare  embarked  class  \\\n",
       "0     False   False  False  False  False  False  False     False  False   \n",
       "1     False   False  False  False  False  False  False     False  False   \n",
       "2     False   False  False  False  False  False  False     False  False   \n",
       "3     False   False  False  False  False  False  False     False  False   \n",
       "4     False   False  False  False  False  False  False     False  False   \n",
       "\n",
       "     who  adult_male   deck  embark_town  alive  alone  \n",
       "0  False       False   True        False  False  False  \n",
       "1  False       False  False        False  False  False  \n",
       "2  False       False   True        False  False  False  \n",
       "3  False       False  False        False  False  False  \n",
       "4  False       False   True        False  False  False  "
      ]
     },
     "execution_count": 13,
     "metadata": {},
     "output_type": "execute_result"
    }
   ],
   "source": [
    "df.head().isna()"
   ]
  },
  {
   "cell_type": "code",
   "execution_count": 19,
   "id": "781becb9-7fd9-4f9c-82ac-7dc65f7970ee",
   "metadata": {},
   "outputs": [
    {
     "data": {
      "text/html": [
       "<div>\n",
       "<style scoped>\n",
       "    .dataframe tbody tr th:only-of-type {\n",
       "        vertical-align: middle;\n",
       "    }\n",
       "\n",
       "    .dataframe tbody tr th {\n",
       "        vertical-align: top;\n",
       "    }\n",
       "\n",
       "    .dataframe thead th {\n",
       "        text-align: right;\n",
       "    }\n",
       "</style>\n",
       "<table border=\"1\" class=\"dataframe\">\n",
       "  <thead>\n",
       "    <tr style=\"text-align: right;\">\n",
       "      <th></th>\n",
       "      <th>survived</th>\n",
       "      <th>pclass</th>\n",
       "      <th>sex</th>\n",
       "      <th>age</th>\n",
       "      <th>sibsp</th>\n",
       "      <th>parch</th>\n",
       "      <th>fare</th>\n",
       "      <th>embarked</th>\n",
       "      <th>class</th>\n",
       "      <th>who</th>\n",
       "      <th>adult_male</th>\n",
       "      <th>deck</th>\n",
       "      <th>embark_town</th>\n",
       "      <th>alive</th>\n",
       "      <th>alone</th>\n",
       "    </tr>\n",
       "  </thead>\n",
       "  <tbody>\n",
       "    <tr>\n",
       "      <th>0</th>\n",
       "      <td>True</td>\n",
       "      <td>True</td>\n",
       "      <td>True</td>\n",
       "      <td>True</td>\n",
       "      <td>True</td>\n",
       "      <td>True</td>\n",
       "      <td>True</td>\n",
       "      <td>True</td>\n",
       "      <td>True</td>\n",
       "      <td>True</td>\n",
       "      <td>True</td>\n",
       "      <td>False</td>\n",
       "      <td>True</td>\n",
       "      <td>True</td>\n",
       "      <td>True</td>\n",
       "    </tr>\n",
       "    <tr>\n",
       "      <th>1</th>\n",
       "      <td>True</td>\n",
       "      <td>True</td>\n",
       "      <td>True</td>\n",
       "      <td>True</td>\n",
       "      <td>True</td>\n",
       "      <td>True</td>\n",
       "      <td>True</td>\n",
       "      <td>True</td>\n",
       "      <td>True</td>\n",
       "      <td>True</td>\n",
       "      <td>True</td>\n",
       "      <td>True</td>\n",
       "      <td>True</td>\n",
       "      <td>True</td>\n",
       "      <td>True</td>\n",
       "    </tr>\n",
       "    <tr>\n",
       "      <th>2</th>\n",
       "      <td>True</td>\n",
       "      <td>True</td>\n",
       "      <td>True</td>\n",
       "      <td>True</td>\n",
       "      <td>True</td>\n",
       "      <td>True</td>\n",
       "      <td>True</td>\n",
       "      <td>True</td>\n",
       "      <td>True</td>\n",
       "      <td>True</td>\n",
       "      <td>True</td>\n",
       "      <td>False</td>\n",
       "      <td>True</td>\n",
       "      <td>True</td>\n",
       "      <td>True</td>\n",
       "    </tr>\n",
       "    <tr>\n",
       "      <th>3</th>\n",
       "      <td>True</td>\n",
       "      <td>True</td>\n",
       "      <td>True</td>\n",
       "      <td>True</td>\n",
       "      <td>True</td>\n",
       "      <td>True</td>\n",
       "      <td>True</td>\n",
       "      <td>True</td>\n",
       "      <td>True</td>\n",
       "      <td>True</td>\n",
       "      <td>True</td>\n",
       "      <td>True</td>\n",
       "      <td>True</td>\n",
       "      <td>True</td>\n",
       "      <td>True</td>\n",
       "    </tr>\n",
       "    <tr>\n",
       "      <th>4</th>\n",
       "      <td>True</td>\n",
       "      <td>True</td>\n",
       "      <td>True</td>\n",
       "      <td>True</td>\n",
       "      <td>True</td>\n",
       "      <td>True</td>\n",
       "      <td>True</td>\n",
       "      <td>True</td>\n",
       "      <td>True</td>\n",
       "      <td>True</td>\n",
       "      <td>True</td>\n",
       "      <td>False</td>\n",
       "      <td>True</td>\n",
       "      <td>True</td>\n",
       "      <td>True</td>\n",
       "    </tr>\n",
       "  </tbody>\n",
       "</table>\n",
       "</div>"
      ],
      "text/plain": [
       "   survived  pclass   sex   age  sibsp  parch  fare  embarked  class   who  \\\n",
       "0      True    True  True  True   True   True  True      True   True  True   \n",
       "1      True    True  True  True   True   True  True      True   True  True   \n",
       "2      True    True  True  True   True   True  True      True   True  True   \n",
       "3      True    True  True  True   True   True  True      True   True  True   \n",
       "4      True    True  True  True   True   True  True      True   True  True   \n",
       "\n",
       "   adult_male   deck  embark_town  alive  alone  \n",
       "0        True  False         True   True   True  \n",
       "1        True   True         True   True   True  \n",
       "2        True  False         True   True   True  \n",
       "3        True   True         True   True   True  \n",
       "4        True  False         True   True   True  "
      ]
     },
     "execution_count": 19,
     "metadata": {},
     "output_type": "execute_result"
    }
   ],
   "source": [
    "df.head().notna()"
   ]
  },
  {
   "cell_type": "code",
   "execution_count": 15,
   "id": "bce504b3-f28f-4314-80e9-ba16f846f884",
   "metadata": {},
   "outputs": [
    {
     "data": {
      "text/plain": [
       "survived       0\n",
       "pclass         0\n",
       "sex            0\n",
       "age            0\n",
       "sibsp          0\n",
       "parch          0\n",
       "fare           0\n",
       "embarked       0\n",
       "class          0\n",
       "who            0\n",
       "adult_male     0\n",
       "deck           3\n",
       "embark_town    0\n",
       "alive          0\n",
       "alone          0\n",
       "dtype: int64"
      ]
     },
     "execution_count": 15,
     "metadata": {},
     "output_type": "execute_result"
    }
   ],
   "source": [
    "df.head().isnull().sum()"
   ]
  },
  {
   "cell_type": "code",
   "execution_count": 17,
   "id": "1959d18c-28fe-4f4d-b7fa-0eaa26279de9",
   "metadata": {},
   "outputs": [
    {
     "data": {
      "text/plain": [
       "survived         0\n",
       "pclass           0\n",
       "sex              0\n",
       "age            177\n",
       "sibsp            0\n",
       "parch            0\n",
       "fare             0\n",
       "embarked         2\n",
       "class            0\n",
       "who              0\n",
       "adult_male       0\n",
       "deck           688\n",
       "embark_town      2\n",
       "alive            0\n",
       "alone            0\n",
       "dtype: int64"
      ]
     },
     "execution_count": 17,
     "metadata": {},
     "output_type": "execute_result"
    }
   ],
   "source": [
    "df.isnull().sum()"
   ]
  },
  {
   "cell_type": "code",
   "execution_count": null,
   "id": "88bd5795-afd5-424c-a346-644af98453ed",
   "metadata": {},
   "outputs": [],
   "source": [
    "## 누락데이터 제거\n",
    "\n",
    "누락데이터가 있는 행 또는 열을 삭제 \n",
    "df.dropna(axis=1, thresh=500)\n",
    "axis=1 : 열방향\n",
    "thresh=n : 누락데이터가 n개 이상일 때 삭제하는 조건 "
   ]
  },
  {
   "cell_type": "code",
   "execution_count": 75,
   "id": "4baf522a-70ff-4028-882b-40a8c94f4745",
   "metadata": {},
   "outputs": [
    {
     "data": {
      "text/html": [
       "<div>\n",
       "<style scoped>\n",
       "    .dataframe tbody tr th:only-of-type {\n",
       "        vertical-align: middle;\n",
       "    }\n",
       "\n",
       "    .dataframe tbody tr th {\n",
       "        vertical-align: top;\n",
       "    }\n",
       "\n",
       "    .dataframe thead th {\n",
       "        text-align: right;\n",
       "    }\n",
       "</style>\n",
       "<table border=\"1\" class=\"dataframe\">\n",
       "  <thead>\n",
       "    <tr style=\"text-align: right;\">\n",
       "      <th></th>\n",
       "      <th>survived</th>\n",
       "      <th>pclass</th>\n",
       "      <th>sex</th>\n",
       "      <th>age</th>\n",
       "      <th>sibsp</th>\n",
       "      <th>parch</th>\n",
       "      <th>fare</th>\n",
       "      <th>embarked</th>\n",
       "      <th>class</th>\n",
       "      <th>who</th>\n",
       "      <th>adult_male</th>\n",
       "      <th>embark_town</th>\n",
       "      <th>alive</th>\n",
       "      <th>alone</th>\n",
       "    </tr>\n",
       "  </thead>\n",
       "  <tbody>\n",
       "    <tr>\n",
       "      <th>0</th>\n",
       "      <td>0</td>\n",
       "      <td>3</td>\n",
       "      <td>male</td>\n",
       "      <td>22.0</td>\n",
       "      <td>1</td>\n",
       "      <td>0</td>\n",
       "      <td>7.2500</td>\n",
       "      <td>S</td>\n",
       "      <td>Third</td>\n",
       "      <td>man</td>\n",
       "      <td>True</td>\n",
       "      <td>Southampton</td>\n",
       "      <td>no</td>\n",
       "      <td>False</td>\n",
       "    </tr>\n",
       "    <tr>\n",
       "      <th>1</th>\n",
       "      <td>1</td>\n",
       "      <td>1</td>\n",
       "      <td>female</td>\n",
       "      <td>38.0</td>\n",
       "      <td>1</td>\n",
       "      <td>0</td>\n",
       "      <td>71.2833</td>\n",
       "      <td>C</td>\n",
       "      <td>First</td>\n",
       "      <td>woman</td>\n",
       "      <td>False</td>\n",
       "      <td>Cherbourg</td>\n",
       "      <td>yes</td>\n",
       "      <td>False</td>\n",
       "    </tr>\n",
       "    <tr>\n",
       "      <th>2</th>\n",
       "      <td>1</td>\n",
       "      <td>3</td>\n",
       "      <td>female</td>\n",
       "      <td>26.0</td>\n",
       "      <td>0</td>\n",
       "      <td>0</td>\n",
       "      <td>7.9250</td>\n",
       "      <td>S</td>\n",
       "      <td>Third</td>\n",
       "      <td>woman</td>\n",
       "      <td>False</td>\n",
       "      <td>Southampton</td>\n",
       "      <td>yes</td>\n",
       "      <td>True</td>\n",
       "    </tr>\n",
       "    <tr>\n",
       "      <th>3</th>\n",
       "      <td>1</td>\n",
       "      <td>1</td>\n",
       "      <td>female</td>\n",
       "      <td>35.0</td>\n",
       "      <td>1</td>\n",
       "      <td>0</td>\n",
       "      <td>53.1000</td>\n",
       "      <td>S</td>\n",
       "      <td>First</td>\n",
       "      <td>woman</td>\n",
       "      <td>False</td>\n",
       "      <td>Southampton</td>\n",
       "      <td>yes</td>\n",
       "      <td>False</td>\n",
       "    </tr>\n",
       "    <tr>\n",
       "      <th>4</th>\n",
       "      <td>0</td>\n",
       "      <td>3</td>\n",
       "      <td>male</td>\n",
       "      <td>35.0</td>\n",
       "      <td>0</td>\n",
       "      <td>0</td>\n",
       "      <td>8.0500</td>\n",
       "      <td>S</td>\n",
       "      <td>Third</td>\n",
       "      <td>man</td>\n",
       "      <td>True</td>\n",
       "      <td>Southampton</td>\n",
       "      <td>no</td>\n",
       "      <td>True</td>\n",
       "    </tr>\n",
       "  </tbody>\n",
       "</table>\n",
       "</div>"
      ],
      "text/plain": [
       "   survived  pclass     sex   age  sibsp  parch     fare embarked  class  \\\n",
       "0         0       3    male  22.0      1      0   7.2500        S  Third   \n",
       "1         1       1  female  38.0      1      0  71.2833        C  First   \n",
       "2         1       3  female  26.0      0      0   7.9250        S  Third   \n",
       "3         1       1  female  35.0      1      0  53.1000        S  First   \n",
       "4         0       3    male  35.0      0      0   8.0500        S  Third   \n",
       "\n",
       "     who  adult_male  embark_town alive  alone  \n",
       "0    man        True  Southampton    no  False  \n",
       "1  woman       False    Cherbourg   yes  False  \n",
       "2  woman       False  Southampton   yes   True  \n",
       "3  woman       False  Southampton   yes  False  \n",
       "4    man        True  Southampton    no   True  "
      ]
     },
     "execution_count": 75,
     "metadata": {},
     "output_type": "execute_result"
    }
   ],
   "source": [
    "df_deck_pre = df.dropna(axis=1, thresh=500)\n",
    "df_deck_pre.head()"
   ]
  },
  {
   "cell_type": "code",
   "execution_count": 77,
   "id": "3faca44b-9229-4093-a816-c07f089db678",
   "metadata": {},
   "outputs": [
    {
     "name": "stdout",
     "output_type": "stream",
     "text": [
      "<class 'pandas.core.frame.DataFrame'>\n",
      "RangeIndex: 891 entries, 0 to 890\n",
      "Data columns (total 14 columns):\n",
      " #   Column       Non-Null Count  Dtype   \n",
      "---  ------       --------------  -----   \n",
      " 0   survived     891 non-null    int64   \n",
      " 1   pclass       891 non-null    int64   \n",
      " 2   sex          891 non-null    object  \n",
      " 3   age          714 non-null    float64 \n",
      " 4   sibsp        891 non-null    int64   \n",
      " 5   parch        891 non-null    int64   \n",
      " 6   fare         891 non-null    float64 \n",
      " 7   embarked     889 non-null    object  \n",
      " 8   class        891 non-null    category\n",
      " 9   who          891 non-null    object  \n",
      " 10  adult_male   891 non-null    bool    \n",
      " 11  embark_town  889 non-null    object  \n",
      " 12  alive        891 non-null    object  \n",
      " 13  alone        891 non-null    bool    \n",
      "dtypes: bool(2), category(1), float64(2), int64(4), object(5)\n",
      "memory usage: 79.4+ KB\n"
     ]
    }
   ],
   "source": [
    "df_deck_pre.info()"
   ]
  },
  {
   "cell_type": "code",
   "execution_count": null,
   "id": "bdb3ea3c-2d59-4208-a48e-99972eb88821",
   "metadata": {},
   "outputs": [],
   "source": []
  },
  {
   "cell_type": "code",
   "execution_count": null,
   "id": "5e520703-7479-45f5-8f77-3758d607368f",
   "metadata": {},
   "outputs": [],
   "source": []
  },
  {
   "cell_type": "code",
   "execution_count": 79,
   "id": "013a655c-2fc5-40df-9350-2809b5460735",
   "metadata": {},
   "outputs": [],
   "source": [
    "df_age_pre = df_deck_pre.dropna(subset=['age'], how='any', axis=0)"
   ]
  },
  {
   "cell_type": "code",
   "execution_count": 81,
   "id": "af54995f-4612-466c-b91b-6b866d787fd1",
   "metadata": {},
   "outputs": [
    {
     "name": "stdout",
     "output_type": "stream",
     "text": [
      "<class 'pandas.core.frame.DataFrame'>\n",
      "Index: 714 entries, 0 to 890\n",
      "Data columns (total 14 columns):\n",
      " #   Column       Non-Null Count  Dtype   \n",
      "---  ------       --------------  -----   \n",
      " 0   survived     714 non-null    int64   \n",
      " 1   pclass       714 non-null    int64   \n",
      " 2   sex          714 non-null    object  \n",
      " 3   age          714 non-null    float64 \n",
      " 4   sibsp        714 non-null    int64   \n",
      " 5   parch        714 non-null    int64   \n",
      " 6   fare         714 non-null    float64 \n",
      " 7   embarked     712 non-null    object  \n",
      " 8   class        714 non-null    category\n",
      " 9   who          714 non-null    object  \n",
      " 10  adult_male   714 non-null    bool    \n",
      " 11  embark_town  712 non-null    object  \n",
      " 12  alive        714 non-null    object  \n",
      " 13  alone        714 non-null    bool    \n",
      "dtypes: bool(2), category(1), float64(2), int64(4), object(5)\n",
      "memory usage: 69.2+ KB\n"
     ]
    }
   ],
   "source": [
    "df_age_pre.info()"
   ]
  },
  {
   "cell_type": "code",
   "execution_count": 95,
   "id": "679face0-ffd3-4886-8f5f-6c22ce7d4d4d",
   "metadata": {},
   "outputs": [],
   "source": [
    "df_embark_town_pre = df_age_pre.dropna(subset=['embark_town'], how='any', axis=0)\n",
    "final_712 = df_embark_town_pre"
   ]
  },
  {
   "cell_type": "code",
   "execution_count": 97,
   "id": "3a788a38-a3c5-4655-afb4-63e546eb1df0",
   "metadata": {},
   "outputs": [
    {
     "name": "stdout",
     "output_type": "stream",
     "text": [
      "<class 'pandas.core.frame.DataFrame'>\n",
      "Index: 712 entries, 0 to 890\n",
      "Data columns (total 14 columns):\n",
      " #   Column       Non-Null Count  Dtype   \n",
      "---  ------       --------------  -----   \n",
      " 0   survived     712 non-null    int64   \n",
      " 1   pclass       712 non-null    int64   \n",
      " 2   sex          712 non-null    object  \n",
      " 3   age          712 non-null    float64 \n",
      " 4   sibsp        712 non-null    int64   \n",
      " 5   parch        712 non-null    int64   \n",
      " 6   fare         712 non-null    float64 \n",
      " 7   embarked     712 non-null    object  \n",
      " 8   class        712 non-null    category\n",
      " 9   who          712 non-null    object  \n",
      " 10  adult_male   712 non-null    bool    \n",
      " 11  embark_town  712 non-null    object  \n",
      " 12  alive        712 non-null    object  \n",
      " 13  alone        712 non-null    bool    \n",
      "dtypes: bool(2), category(1), float64(2), int64(4), object(5)\n",
      "memory usage: 69.0+ KB\n"
     ]
    }
   ],
   "source": [
    "final_712.info()"
   ]
  },
  {
   "cell_type": "code",
   "execution_count": 99,
   "id": "3374f031-9652-43f0-b43b-c8744aadb0fd",
   "metadata": {},
   "outputs": [
    {
     "data": {
      "text/plain": [
       "survived       0\n",
       "pclass         0\n",
       "sex            0\n",
       "age            0\n",
       "sibsp          0\n",
       "parch          0\n",
       "fare           0\n",
       "embarked       0\n",
       "class          0\n",
       "who            0\n",
       "adult_male     0\n",
       "embark_town    0\n",
       "alive          0\n",
       "alone          0\n",
       "dtype: int64"
      ]
     },
     "execution_count": 99,
     "metadata": {},
     "output_type": "execute_result"
    }
   ],
   "source": [
    "final_712.isnull().sum()"
   ]
  },
  {
   "cell_type": "code",
   "execution_count": null,
   "id": "47fc531d-142c-4a2a-a8b8-54058add2959",
   "metadata": {},
   "outputs": [],
   "source": [
    "## 누락데이터 치환 \n",
    "누락데이터를 대체할 값을 계산해서(평균, 최빈값 등) 치환한다.\n",
    "fillna() 함수 사용하며 inplace 옵션을 추가해야한다."
   ]
  },
  {
   "cell_type": "code",
   "execution_count": null,
   "id": "d8eb0830-037d-4e4a-9521-f142ae5ccf4b",
   "metadata": {},
   "outputs": [],
   "source": [
    "## titanic data set에서 누락된 age의 값은 평균으로 채운다."
   ]
  },
  {
   "cell_type": "code",
   "execution_count": 24,
   "id": "08fef8b4-1116-4ceb-bae8-a0e653432d69",
   "metadata": {},
   "outputs": [
    {
     "name": "stdout",
     "output_type": "stream",
     "text": [
      "0     22.0\n",
      "1     38.0\n",
      "2     26.0\n",
      "3     35.0\n",
      "4     35.0\n",
      "5      NaN\n",
      "6     54.0\n",
      "7      2.0\n",
      "8     27.0\n",
      "9     14.0\n",
      "10     4.0\n",
      "11    58.0\n",
      "12    20.0\n",
      "13    39.0\n",
      "14    14.0\n",
      "15    55.0\n",
      "16     2.0\n",
      "17     NaN\n",
      "18    31.0\n",
      "19     NaN\n",
      "Name: age, dtype: float64\n"
     ]
    }
   ],
   "source": [
    "import pandas as pd\n",
    "import seaborn as sns\n",
    "\n",
    "df = sns.load_dataset('titanic')\n",
    "print(df['age'].head(20))\n",
    "\n"
   ]
  },
  {
   "cell_type": "code",
   "execution_count": 40,
   "id": "a0ebeeeb-3079-478d-9bc1-4ec10992b8d2",
   "metadata": {},
   "outputs": [
    {
     "name": "stdout",
     "output_type": "stream",
     "text": [
      "0     22.000000\n",
      "1     38.000000\n",
      "2     26.000000\n",
      "3     35.000000\n",
      "4     35.000000\n",
      "5     29.699118\n",
      "6     54.000000\n",
      "7      2.000000\n",
      "8     27.000000\n",
      "9     14.000000\n",
      "10     4.000000\n",
      "11    58.000000\n",
      "12    20.000000\n",
      "13    39.000000\n",
      "14    14.000000\n",
      "15    55.000000\n",
      "16     2.000000\n",
      "17    29.699118\n",
      "18    31.000000\n",
      "19    29.699118\n",
      "Name: age, dtype: float64\n"
     ]
    }
   ],
   "source": [
    "age_mean = df['age'].mean()\n",
    "df['age'].fillna(age_mean, inplace=True)\n",
    "\n",
    "print(df['age'].head(20))"
   ]
  },
  {
   "cell_type": "code",
   "execution_count": 44,
   "id": "c0f1c031-535d-457b-b9e7-a3aabb415fbd",
   "metadata": {},
   "outputs": [
    {
     "name": "stdout",
     "output_type": "stream",
     "text": [
      "<class 'pandas.core.frame.DataFrame'>\n",
      "RangeIndex: 891 entries, 0 to 890\n",
      "Data columns (total 15 columns):\n",
      " #   Column       Non-Null Count  Dtype   \n",
      "---  ------       --------------  -----   \n",
      " 0   survived     891 non-null    int64   \n",
      " 1   pclass       891 non-null    int64   \n",
      " 2   sex          891 non-null    object  \n",
      " 3   age          891 non-null    float64 \n",
      " 4   sibsp        891 non-null    int64   \n",
      " 5   parch        891 non-null    int64   \n",
      " 6   fare         891 non-null    float64 \n",
      " 7   embarked     889 non-null    object  \n",
      " 8   class        891 non-null    category\n",
      " 9   who          891 non-null    object  \n",
      " 10  adult_male   891 non-null    bool    \n",
      " 11  deck         203 non-null    category\n",
      " 12  embark_town  889 non-null    object  \n",
      " 13  alive        891 non-null    object  \n",
      " 14  alone        891 non-null    bool    \n",
      "dtypes: bool(2), category(2), float64(2), int64(4), object(5)\n",
      "memory usage: 80.7+ KB\n"
     ]
    }
   ],
   "source": [
    "df.info()"
   ]
  },
  {
   "cell_type": "code",
   "execution_count": 48,
   "id": "f9fc47f9-9fe4-452d-8d12-2cbddbe6c002",
   "metadata": {},
   "outputs": [
    {
     "data": {
      "text/plain": [
       "828     Queenstown\n",
       "829            NaN\n",
       "830      Cherbourg\n",
       "831    Southampton\n",
       "832      Cherbourg\n",
       "Name: embark_town, dtype: object"
      ]
     },
     "execution_count": 48,
     "metadata": {},
     "output_type": "execute_result"
    }
   ],
   "source": [
    "df['embark_town'][828:833]"
   ]
  },
  {
   "cell_type": "code",
   "execution_count": null,
   "id": "0e12e5cd-4797-454e-91a2-9dde3ced55f5",
   "metadata": {},
   "outputs": [],
   "source": [
    "## 컬럼의 구성값 확인 \n",
    "value_counts()\n",
    "unique()"
   ]
  },
  {
   "cell_type": "code",
   "execution_count": 50,
   "id": "70ad113a-66a7-47df-93c2-239b485ab5a8",
   "metadata": {},
   "outputs": [
    {
     "data": {
      "text/plain": [
       "embark_town\n",
       "Southampton    644\n",
       "Cherbourg      168\n",
       "Queenstown      77\n",
       "Name: count, dtype: int64"
      ]
     },
     "execution_count": 50,
     "metadata": {},
     "output_type": "execute_result"
    }
   ],
   "source": [
    "df['embark_town'].value_counts()"
   ]
  },
  {
   "cell_type": "code",
   "execution_count": 66,
   "id": "10cfe98b-58c8-4ce3-b305-14d2836a6e98",
   "metadata": {},
   "outputs": [
    {
     "data": {
      "text/plain": [
       "'Southampton'"
      ]
     },
     "execution_count": 66,
     "metadata": {},
     "output_type": "execute_result"
    }
   ],
   "source": [
    "df['embark_town'].value_counts().idxmax()"
   ]
  },
  {
   "cell_type": "code",
   "execution_count": 58,
   "id": "6e3f08f6-6090-4e7c-8c73-89c42c5df01d",
   "metadata": {},
   "outputs": [
    {
     "data": {
      "text/plain": [
       "array(['Southampton', 'Cherbourg', 'Queenstown', nan], dtype=object)"
      ]
     },
     "execution_count": 58,
     "metadata": {},
     "output_type": "execute_result"
    }
   ],
   "source": [
    "df['embark_town'].unique()"
   ]
  },
  {
   "cell_type": "markdown",
   "id": "226d5e64-d46b-4c5b-979c-eb528f5767bf",
   "metadata": {},
   "source": [
    "1. 바로 위 데이터로 채우기\n",
    "2. 바로 아래 데이터로 채우기\n",
    "3. 가장 많이 나온 데이터로 채우기"
   ]
  },
  {
   "cell_type": "code",
   "execution_count": null,
   "id": "2da31f09-bfcc-4ca9-95f5-c75e079f03bd",
   "metadata": {},
   "outputs": [],
   "source": [
    "## 가장 많이 나오는 데이터 "
   ]
  },
  {
   "cell_type": "code",
   "execution_count": 92,
   "id": "482d9526-3f84-402e-9729-810432c40a6e",
   "metadata": {},
   "outputs": [
    {
     "data": {
      "text/plain": [
       "'Southampton'"
      ]
     },
     "execution_count": 92,
     "metadata": {},
     "output_type": "execute_result"
    }
   ],
   "source": [
    "embark_town_max = df['embark_town'].value_counts().idxmax()\n",
    "embark_town_max"
   ]
  },
  {
   "cell_type": "code",
   "execution_count": 94,
   "id": "e2c679a5-8559-4cdf-bb01-c498e4276542",
   "metadata": {},
   "outputs": [],
   "source": [
    "df['embark_town'].fillna(embark_town_max, inplace=True)"
   ]
  },
  {
   "cell_type": "code",
   "execution_count": 96,
   "id": "e57a5c0b-efa4-406c-a91f-67f04da48b93",
   "metadata": {},
   "outputs": [
    {
     "data": {
      "text/plain": [
       "0"
      ]
     },
     "execution_count": 96,
     "metadata": {},
     "output_type": "execute_result"
    }
   ],
   "source": [
    "df['embark_town'].isna().sum()"
   ]
  },
  {
   "cell_type": "code",
   "execution_count": 100,
   "id": "1a2da82b-6f2e-4878-b05f-0c27d17f9614",
   "metadata": {},
   "outputs": [
    {
     "data": {
      "text/plain": [
       "array(['Southampton', 'Cherbourg', 'Queenstown'], dtype=object)"
      ]
     },
     "execution_count": 100,
     "metadata": {},
     "output_type": "execute_result"
    }
   ],
   "source": [
    "df['embark_town'].unique()"
   ]
  },
  {
   "cell_type": "code",
   "execution_count": 98,
   "id": "ed65718a-1d9b-4567-a8a5-e565f2cf31ae",
   "metadata": {},
   "outputs": [
    {
     "name": "stdout",
     "output_type": "stream",
     "text": [
      "<class 'pandas.core.frame.DataFrame'>\n",
      "RangeIndex: 891 entries, 0 to 890\n",
      "Data columns (total 15 columns):\n",
      " #   Column       Non-Null Count  Dtype   \n",
      "---  ------       --------------  -----   \n",
      " 0   survived     891 non-null    int64   \n",
      " 1   pclass       891 non-null    int64   \n",
      " 2   sex          891 non-null    object  \n",
      " 3   age          891 non-null    float64 \n",
      " 4   sibsp        891 non-null    int64   \n",
      " 5   parch        891 non-null    int64   \n",
      " 6   fare         891 non-null    float64 \n",
      " 7   embarked     889 non-null    object  \n",
      " 8   class        891 non-null    category\n",
      " 9   who          891 non-null    object  \n",
      " 10  adult_male   891 non-null    bool    \n",
      " 11  deck         203 non-null    category\n",
      " 12  embark_town  891 non-null    object  \n",
      " 13  alive        891 non-null    object  \n",
      " 14  alone        891 non-null    bool    \n",
      "dtypes: bool(2), category(2), float64(2), int64(4), object(5)\n",
      "memory usage: 80.7+ KB\n"
     ]
    }
   ],
   "source": [
    "df.info()"
   ]
  },
  {
   "cell_type": "code",
   "execution_count": 102,
   "id": "c4a18cb1-e3b5-418e-8978-7f95a0a07f91",
   "metadata": {},
   "outputs": [
    {
     "data": {
      "text/plain": [
       "828     Queenstown\n",
       "829    Southampton\n",
       "830      Cherbourg\n",
       "831    Southampton\n",
       "832      Cherbourg\n",
       "Name: embark_town, dtype: object"
      ]
     },
     "execution_count": 102,
     "metadata": {},
     "output_type": "execute_result"
    }
   ],
   "source": [
    "df['embark_town'][828:833]"
   ]
  },
  {
   "cell_type": "code",
   "execution_count": 110,
   "id": "4b31caa3-af29-4f97-9d1f-e09115ccae90",
   "metadata": {},
   "outputs": [],
   "source": [
    "df = sns.load_dataset('titanic')\n",
    "age_mean = df['age'].mean()\n"
   ]
  },
  {
   "cell_type": "code",
   "execution_count": 114,
   "id": "add5480c-4beb-4a3e-ab37-e47a2848e583",
   "metadata": {},
   "outputs": [],
   "source": [
    "df['age'] = df['age'].fillna(age_mean)"
   ]
  },
  {
   "cell_type": "code",
   "execution_count": 134,
   "id": "133c6575-72e4-430c-a738-128f98509b0e",
   "metadata": {},
   "outputs": [],
   "source": [
    "df['embark_town'].bfill(inplace=True)"
   ]
  },
  {
   "cell_type": "code",
   "execution_count": 136,
   "id": "dba91d41-59e1-474e-a7ce-6c09ce7da62f",
   "metadata": {},
   "outputs": [
    {
     "data": {
      "text/plain": [
       "827      Cherbourg\n",
       "828     Queenstown\n",
       "829      Cherbourg\n",
       "830      Cherbourg\n",
       "831    Southampton\n",
       "832      Cherbourg\n",
       "Name: embark_town, dtype: object"
      ]
     },
     "execution_count": 136,
     "metadata": {},
     "output_type": "execute_result"
    }
   ],
   "source": [
    "df['embark_town'][827:833]"
   ]
  },
  {
   "cell_type": "code",
   "execution_count": 138,
   "id": "42acae04-6b04-4929-a87d-0a3a37df14e1",
   "metadata": {},
   "outputs": [
    {
     "name": "stdout",
     "output_type": "stream",
     "text": [
      "<class 'pandas.core.frame.DataFrame'>\n",
      "RangeIndex: 891 entries, 0 to 890\n",
      "Data columns (total 15 columns):\n",
      " #   Column       Non-Null Count  Dtype   \n",
      "---  ------       --------------  -----   \n",
      " 0   survived     891 non-null    int64   \n",
      " 1   pclass       891 non-null    int64   \n",
      " 2   sex          891 non-null    object  \n",
      " 3   age          891 non-null    float64 \n",
      " 4   sibsp        891 non-null    int64   \n",
      " 5   parch        891 non-null    int64   \n",
      " 6   fare         891 non-null    float64 \n",
      " 7   embarked     889 non-null    object  \n",
      " 8   class        891 non-null    category\n",
      " 9   who          891 non-null    object  \n",
      " 10  adult_male   891 non-null    bool    \n",
      " 11  deck         203 non-null    category\n",
      " 12  embark_town  891 non-null    object  \n",
      " 13  alive        891 non-null    object  \n",
      " 14  alone        891 non-null    bool    \n",
      "dtypes: bool(2), category(2), float64(2), int64(4), object(5)\n",
      "memory usage: 80.7+ KB\n"
     ]
    }
   ],
   "source": [
    "df.info()"
   ]
  },
  {
   "cell_type": "code",
   "execution_count": null,
   "id": "970b86f5-c578-478a-9080-2746ab67c2d3",
   "metadata": {},
   "outputs": [],
   "source": [
    "dropna=True : nan data 제외"
   ]
  },
  {
   "cell_type": "code",
   "execution_count": 146,
   "id": "8661f076-519b-4232-8149-7afbc2aed7a5",
   "metadata": {},
   "outputs": [
    {
     "data": {
      "text/plain": [
       "embarked\n",
       "S    644\n",
       "C    168\n",
       "Q     77\n",
       "Name: count, dtype: int64"
      ]
     },
     "execution_count": 146,
     "metadata": {},
     "output_type": "execute_result"
    }
   ],
   "source": [
    "df['embarked'].value_counts(dropna=True)"
   ]
  },
  {
   "cell_type": "code",
   "execution_count": 148,
   "id": "5a7e2c5f-8800-49ae-bcf0-48e587f67a96",
   "metadata": {},
   "outputs": [
    {
     "data": {
      "text/plain": [
       "embarked\n",
       "S      644\n",
       "C      168\n",
       "Q       77\n",
       "NaN      2\n",
       "Name: count, dtype: int64"
      ]
     },
     "execution_count": 148,
     "metadata": {},
     "output_type": "execute_result"
    }
   ],
   "source": [
    "df['embarked'].value_counts(dropna=False)"
   ]
  },
  {
   "cell_type": "code",
   "execution_count": 152,
   "id": "5b7f360a-8f19-48e5-bc2c-ff06d0f4719c",
   "metadata": {},
   "outputs": [
    {
     "data": {
      "text/plain": [
       "0      S\n",
       "1      C\n",
       "2      S\n",
       "3      S\n",
       "4      S\n",
       "      ..\n",
       "886    S\n",
       "887    S\n",
       "888    S\n",
       "889    C\n",
       "890    Q\n",
       "Name: embarked, Length: 891, dtype: object"
      ]
     },
     "execution_count": 152,
     "metadata": {},
     "output_type": "execute_result"
    }
   ],
   "source": [
    "df['embarked'].bfill()"
   ]
  },
  {
   "cell_type": "code",
   "execution_count": 156,
   "id": "e4aad04e-dbb4-43ad-937b-a1bb0f57d0b3",
   "metadata": {},
   "outputs": [
    {
     "name": "stdout",
     "output_type": "stream",
     "text": [
      "<class 'pandas.core.frame.DataFrame'>\n",
      "RangeIndex: 891 entries, 0 to 890\n",
      "Data columns (total 15 columns):\n",
      " #   Column       Non-Null Count  Dtype   \n",
      "---  ------       --------------  -----   \n",
      " 0   survived     891 non-null    int64   \n",
      " 1   pclass       891 non-null    int64   \n",
      " 2   sex          891 non-null    object  \n",
      " 3   age          891 non-null    float64 \n",
      " 4   sibsp        891 non-null    int64   \n",
      " 5   parch        891 non-null    int64   \n",
      " 6   fare         891 non-null    float64 \n",
      " 7   embarked     891 non-null    object  \n",
      " 8   class        891 non-null    category\n",
      " 9   who          891 non-null    object  \n",
      " 10  adult_male   891 non-null    bool    \n",
      " 11  deck         203 non-null    category\n",
      " 12  embark_town  891 non-null    object  \n",
      " 13  alive        891 non-null    object  \n",
      " 14  alone        891 non-null    bool    \n",
      "dtypes: bool(2), category(2), float64(2), int64(4), object(5)\n",
      "memory usage: 80.7+ KB\n"
     ]
    }
   ],
   "source": [
    "df.info()"
   ]
  },
  {
   "cell_type": "code",
   "execution_count": null,
   "id": "48783ac1-eb0b-42ed-bdac-22a70aa67a6d",
   "metadata": {},
   "outputs": [],
   "source": [
    "## 누락데이터 처리\n",
    "* 삭제\n",
    "* 이전 또는 이후 데이터로 채우기\n",
    "* 평균값으로 채우기\n",
    "* 최빈값으로 채우기 "
   ]
  },
  {
   "cell_type": "code",
   "execution_count": null,
   "id": "b0e44e07-3094-4ef5-9266-ad9e84f2c84b",
   "metadata": {},
   "outputs": [],
   "source": [
    "## 중복데이터 처리 \n",
    "### 중복데이터 확인\n",
    "duplicated() : 중복이면 True, 중복이 아니면 False\n",
    "한 행이 다 같은지 판단하며 윗 행과 비교하기때문에 0번째는 False"
   ]
  },
  {
   "cell_type": "code",
   "execution_count": 180,
   "id": "9a20da62-4d71-4668-b8b4-2733ab14cf63",
   "metadata": {},
   "outputs": [
    {
     "data": {
      "text/html": [
       "<div>\n",
       "<style scoped>\n",
       "    .dataframe tbody tr th:only-of-type {\n",
       "        vertical-align: middle;\n",
       "    }\n",
       "\n",
       "    .dataframe tbody tr th {\n",
       "        vertical-align: top;\n",
       "    }\n",
       "\n",
       "    .dataframe thead th {\n",
       "        text-align: right;\n",
       "    }\n",
       "</style>\n",
       "<table border=\"1\" class=\"dataframe\">\n",
       "  <thead>\n",
       "    <tr style=\"text-align: right;\">\n",
       "      <th></th>\n",
       "      <th>c1</th>\n",
       "      <th>c2</th>\n",
       "      <th>c3</th>\n",
       "    </tr>\n",
       "  </thead>\n",
       "  <tbody>\n",
       "    <tr>\n",
       "      <th>0</th>\n",
       "      <td>a</td>\n",
       "      <td>1</td>\n",
       "      <td>1</td>\n",
       "    </tr>\n",
       "    <tr>\n",
       "      <th>1</th>\n",
       "      <td>a</td>\n",
       "      <td>1</td>\n",
       "      <td>1</td>\n",
       "    </tr>\n",
       "    <tr>\n",
       "      <th>2</th>\n",
       "      <td>b</td>\n",
       "      <td>1</td>\n",
       "      <td>2</td>\n",
       "    </tr>\n",
       "    <tr>\n",
       "      <th>3</th>\n",
       "      <td>a</td>\n",
       "      <td>2</td>\n",
       "      <td>2</td>\n",
       "    </tr>\n",
       "    <tr>\n",
       "      <th>4</th>\n",
       "      <td>b</td>\n",
       "      <td>2</td>\n",
       "      <td>2</td>\n",
       "    </tr>\n",
       "  </tbody>\n",
       "</table>\n",
       "</div>"
      ],
      "text/plain": [
       "  c1  c2  c3\n",
       "0  a   1   1\n",
       "1  a   1   1\n",
       "2  b   1   2\n",
       "3  a   2   2\n",
       "4  b   2   2"
      ]
     },
     "execution_count": 180,
     "metadata": {},
     "output_type": "execute_result"
    }
   ],
   "source": [
    "data = {\n",
    "    'c1':['a','a','b','a','b'],\n",
    "    'c2':[1,1,1,2,2],\n",
    "    'c3':[1,1,2,2,2,],\n",
    "}\n",
    "df = pd.DataFrame(data)\n",
    "df"
   ]
  },
  {
   "cell_type": "code",
   "execution_count": 182,
   "id": "8f6f48e2-cd29-4385-8fab-2ca52b82b877",
   "metadata": {},
   "outputs": [
    {
     "data": {
      "text/plain": [
       "0    False\n",
       "1     True\n",
       "2    False\n",
       "3    False\n",
       "4    False\n",
       "dtype: bool"
      ]
     },
     "execution_count": 182,
     "metadata": {},
     "output_type": "execute_result"
    }
   ],
   "source": [
    "df.duplicated()"
   ]
  },
  {
   "cell_type": "code",
   "execution_count": 184,
   "id": "fce1dec1-33e3-4023-98fd-823b784bbcf9",
   "metadata": {},
   "outputs": [
    {
     "data": {
      "text/plain": [
       "0    False\n",
       "1     True\n",
       "2    False\n",
       "3     True\n",
       "4     True\n",
       "Name: c1, dtype: bool"
      ]
     },
     "execution_count": 184,
     "metadata": {},
     "output_type": "execute_result"
    }
   ],
   "source": [
    "df['c1'].duplicated() # 3, 4 true??"
   ]
  },
  {
   "cell_type": "code",
   "execution_count": 186,
   "id": "208ac61f-d13e-4f78-a212-b2616c04466b",
   "metadata": {},
   "outputs": [],
   "source": [
    "df.drop_duplicates(inplace=True)"
   ]
  },
  {
   "cell_type": "code",
   "execution_count": 188,
   "id": "3490a192-f7c5-4735-aced-374325a00777",
   "metadata": {},
   "outputs": [
    {
     "data": {
      "text/html": [
       "<div>\n",
       "<style scoped>\n",
       "    .dataframe tbody tr th:only-of-type {\n",
       "        vertical-align: middle;\n",
       "    }\n",
       "\n",
       "    .dataframe tbody tr th {\n",
       "        vertical-align: top;\n",
       "    }\n",
       "\n",
       "    .dataframe thead th {\n",
       "        text-align: right;\n",
       "    }\n",
       "</style>\n",
       "<table border=\"1\" class=\"dataframe\">\n",
       "  <thead>\n",
       "    <tr style=\"text-align: right;\">\n",
       "      <th></th>\n",
       "      <th>c1</th>\n",
       "      <th>c2</th>\n",
       "      <th>c3</th>\n",
       "    </tr>\n",
       "  </thead>\n",
       "  <tbody>\n",
       "    <tr>\n",
       "      <th>0</th>\n",
       "      <td>a</td>\n",
       "      <td>1</td>\n",
       "      <td>1</td>\n",
       "    </tr>\n",
       "    <tr>\n",
       "      <th>2</th>\n",
       "      <td>b</td>\n",
       "      <td>1</td>\n",
       "      <td>2</td>\n",
       "    </tr>\n",
       "    <tr>\n",
       "      <th>3</th>\n",
       "      <td>a</td>\n",
       "      <td>2</td>\n",
       "      <td>2</td>\n",
       "    </tr>\n",
       "    <tr>\n",
       "      <th>4</th>\n",
       "      <td>b</td>\n",
       "      <td>2</td>\n",
       "      <td>2</td>\n",
       "    </tr>\n",
       "  </tbody>\n",
       "</table>\n",
       "</div>"
      ],
      "text/plain": [
       "  c1  c2  c3\n",
       "0  a   1   1\n",
       "2  b   1   2\n",
       "3  a   2   2\n",
       "4  b   2   2"
      ]
     },
     "execution_count": 188,
     "metadata": {},
     "output_type": "execute_result"
    }
   ],
   "source": [
    "df"
   ]
  },
  {
   "cell_type": "code",
   "execution_count": 190,
   "id": "97d4ab3b-9108-44dc-a8a4-3befee75e17e",
   "metadata": {},
   "outputs": [
    {
     "data": {
      "text/html": [
       "<div>\n",
       "<style scoped>\n",
       "    .dataframe tbody tr th:only-of-type {\n",
       "        vertical-align: middle;\n",
       "    }\n",
       "\n",
       "    .dataframe tbody tr th {\n",
       "        vertical-align: top;\n",
       "    }\n",
       "\n",
       "    .dataframe thead th {\n",
       "        text-align: right;\n",
       "    }\n",
       "</style>\n",
       "<table border=\"1\" class=\"dataframe\">\n",
       "  <thead>\n",
       "    <tr style=\"text-align: right;\">\n",
       "      <th></th>\n",
       "      <th>c1</th>\n",
       "      <th>c2</th>\n",
       "      <th>c3</th>\n",
       "    </tr>\n",
       "  </thead>\n",
       "  <tbody>\n",
       "    <tr>\n",
       "      <th>0</th>\n",
       "      <td>a</td>\n",
       "      <td>1</td>\n",
       "      <td>1</td>\n",
       "    </tr>\n",
       "    <tr>\n",
       "      <th>2</th>\n",
       "      <td>b</td>\n",
       "      <td>1</td>\n",
       "      <td>2</td>\n",
       "    </tr>\n",
       "    <tr>\n",
       "      <th>3</th>\n",
       "      <td>a</td>\n",
       "      <td>2</td>\n",
       "      <td>2</td>\n",
       "    </tr>\n",
       "  </tbody>\n",
       "</table>\n",
       "</div>"
      ],
      "text/plain": [
       "  c1  c2  c3\n",
       "0  a   1   1\n",
       "2  b   1   2\n",
       "3  a   2   2"
      ]
     },
     "execution_count": 190,
     "metadata": {},
     "output_type": "execute_result"
    }
   ],
   "source": [
    "df.drop_duplicates(['c2', 'c3']) #  뒤의 값이 삭제됨 "
   ]
  },
  {
   "cell_type": "code",
   "execution_count": null,
   "id": "3c4d625d-c146-4466-920f-af260ff9826d",
   "metadata": {},
   "outputs": [],
   "source": [
    "## 데이터의 표준화\n",
    "수집한 데이타의 단위 일치, 대소문자의 변환, 약칭을 일치하는 등의 작업 \n",
    "표준화는 데이터 포맷을 일치시키는 작업이다\n"
   ]
  },
  {
   "cell_type": "code",
   "execution_count": null,
   "id": "b98f6b6e-bf6a-47f2-8616-4999d46e2a95",
   "metadata": {},
   "outputs": [],
   "source": [
    "### 단위 환산\n",
    "auto-mpg.csv의 mpg열의 값을 표준화 \n",
    "mpg = mile per gallon => kpl(kilo per liter)\n",
    "\n",
    "1 mile = 1.6093km\n",
    "1 gallon = 3.785L\n",
    "1 mpg = 1 mile / 1 gallon = 0.4240579710144928km/L\n",
    "1 mpg = 0.425km/L"
   ]
  },
  {
   "cell_type": "code",
   "execution_count": 222,
   "id": "4dd81e02-bc09-4f60-bb54-80e8a44e5658",
   "metadata": {},
   "outputs": [
    {
     "data": {
      "text/plain": [
       "0.4240579710144928"
      ]
     },
     "execution_count": 222,
     "metadata": {},
     "output_type": "execute_result"
    }
   ],
   "source": [
    "1.6093/3.795"
   ]
  },
  {
   "cell_type": "code",
   "execution_count": 224,
   "id": "07267df5-feff-4d16-a442-79212cbdcc97",
   "metadata": {},
   "outputs": [
    {
     "data": {
      "text/plain": [
       "7.65"
      ]
     },
     "execution_count": 224,
     "metadata": {},
     "output_type": "execute_result"
    }
   ],
   "source": [
    "round(18 * 0.425, 2)"
   ]
  },
  {
   "cell_type": "code",
   "execution_count": 192,
   "id": "269dad18-1208-4aba-aa8b-8b2263c9b39d",
   "metadata": {},
   "outputs": [
    {
     "data": {
      "text/html": [
       "<div>\n",
       "<style scoped>\n",
       "    .dataframe tbody tr th:only-of-type {\n",
       "        vertical-align: middle;\n",
       "    }\n",
       "\n",
       "    .dataframe tbody tr th {\n",
       "        vertical-align: top;\n",
       "    }\n",
       "\n",
       "    .dataframe thead th {\n",
       "        text-align: right;\n",
       "    }\n",
       "</style>\n",
       "<table border=\"1\" class=\"dataframe\">\n",
       "  <thead>\n",
       "    <tr style=\"text-align: right;\">\n",
       "      <th></th>\n",
       "      <th>mpg</th>\n",
       "      <th>cylinders</th>\n",
       "      <th>displayment</th>\n",
       "      <th>horsepower</th>\n",
       "      <th>weight</th>\n",
       "      <th>acceleration</th>\n",
       "      <th>model year</th>\n",
       "      <th>origin</th>\n",
       "      <th>name</th>\n",
       "    </tr>\n",
       "  </thead>\n",
       "  <tbody>\n",
       "    <tr>\n",
       "      <th>0</th>\n",
       "      <td>18.0</td>\n",
       "      <td>8</td>\n",
       "      <td>307.0</td>\n",
       "      <td>130.0</td>\n",
       "      <td>3504.0</td>\n",
       "      <td>12.0</td>\n",
       "      <td>70</td>\n",
       "      <td>1</td>\n",
       "      <td>chevrolet chevelle malibu</td>\n",
       "    </tr>\n",
       "    <tr>\n",
       "      <th>1</th>\n",
       "      <td>15.0</td>\n",
       "      <td>8</td>\n",
       "      <td>350.0</td>\n",
       "      <td>165.0</td>\n",
       "      <td>3693.0</td>\n",
       "      <td>11.5</td>\n",
       "      <td>70</td>\n",
       "      <td>1</td>\n",
       "      <td>buick skylark 320</td>\n",
       "    </tr>\n",
       "    <tr>\n",
       "      <th>2</th>\n",
       "      <td>18.0</td>\n",
       "      <td>8</td>\n",
       "      <td>318.0</td>\n",
       "      <td>150.0</td>\n",
       "      <td>3436.0</td>\n",
       "      <td>11.0</td>\n",
       "      <td>70</td>\n",
       "      <td>1</td>\n",
       "      <td>plymouth satellite</td>\n",
       "    </tr>\n",
       "    <tr>\n",
       "      <th>3</th>\n",
       "      <td>16.0</td>\n",
       "      <td>8</td>\n",
       "      <td>304.0</td>\n",
       "      <td>150.0</td>\n",
       "      <td>3433.0</td>\n",
       "      <td>12.0</td>\n",
       "      <td>70</td>\n",
       "      <td>1</td>\n",
       "      <td>amc rebel sst</td>\n",
       "    </tr>\n",
       "    <tr>\n",
       "      <th>4</th>\n",
       "      <td>17.0</td>\n",
       "      <td>8</td>\n",
       "      <td>302.0</td>\n",
       "      <td>140.0</td>\n",
       "      <td>3449.0</td>\n",
       "      <td>10.5</td>\n",
       "      <td>70</td>\n",
       "      <td>1</td>\n",
       "      <td>ford torino</td>\n",
       "    </tr>\n",
       "  </tbody>\n",
       "</table>\n",
       "</div>"
      ],
      "text/plain": [
       "    mpg  cylinders  displayment horsepower  weight  acceleration  model year  \\\n",
       "0  18.0          8        307.0      130.0  3504.0          12.0          70   \n",
       "1  15.0          8        350.0      165.0  3693.0          11.5          70   \n",
       "2  18.0          8        318.0      150.0  3436.0          11.0          70   \n",
       "3  16.0          8        304.0      150.0  3433.0          12.0          70   \n",
       "4  17.0          8        302.0      140.0  3449.0          10.5          70   \n",
       "\n",
       "   origin                       name  \n",
       "0       1  chevrolet chevelle malibu  \n",
       "1       1          buick skylark 320  \n",
       "2       1         plymouth satellite  \n",
       "3       1              amc rebel sst  \n",
       "4       1                ford torino  "
      ]
     },
     "execution_count": 192,
     "metadata": {},
     "output_type": "execute_result"
    }
   ],
   "source": [
    "import pandas as pd\n",
    "file_path = 'auto-mpg.csv'\n",
    "\n",
    "columns = ['mpg', 'cylinders', 'displayment', 'horsepower', 'weight', 'acceleration', 'model year', 'origin', 'name']\n",
    "df = pd.read_csv(file_path, names=columns)\n",
    "#  df.columns = columns\n",
    "df.head()"
   ]
  },
  {
   "cell_type": "code",
   "execution_count": 200,
   "id": "bcdf172e-1db4-444b-ae78-fbdd78433b13",
   "metadata": {},
   "outputs": [],
   "source": [
    "df['kpl'] = round(df['mpg'] * 0.425, 2)"
   ]
  },
  {
   "cell_type": "code",
   "execution_count": 202,
   "id": "43bf3cb3-3534-4b7c-8e7f-2f9e2ba585a4",
   "metadata": {},
   "outputs": [
    {
     "data": {
      "text/html": [
       "<div>\n",
       "<style scoped>\n",
       "    .dataframe tbody tr th:only-of-type {\n",
       "        vertical-align: middle;\n",
       "    }\n",
       "\n",
       "    .dataframe tbody tr th {\n",
       "        vertical-align: top;\n",
       "    }\n",
       "\n",
       "    .dataframe thead th {\n",
       "        text-align: right;\n",
       "    }\n",
       "</style>\n",
       "<table border=\"1\" class=\"dataframe\">\n",
       "  <thead>\n",
       "    <tr style=\"text-align: right;\">\n",
       "      <th></th>\n",
       "      <th>mpg</th>\n",
       "      <th>cylinders</th>\n",
       "      <th>displayment</th>\n",
       "      <th>horsepower</th>\n",
       "      <th>weight</th>\n",
       "      <th>acceleration</th>\n",
       "      <th>model year</th>\n",
       "      <th>origin</th>\n",
       "      <th>name</th>\n",
       "      <th>kpl</th>\n",
       "    </tr>\n",
       "  </thead>\n",
       "  <tbody>\n",
       "    <tr>\n",
       "      <th>0</th>\n",
       "      <td>18.0</td>\n",
       "      <td>8</td>\n",
       "      <td>307.0</td>\n",
       "      <td>130.0</td>\n",
       "      <td>3504.0</td>\n",
       "      <td>12.0</td>\n",
       "      <td>70</td>\n",
       "      <td>1</td>\n",
       "      <td>chevrolet chevelle malibu</td>\n",
       "      <td>7.65</td>\n",
       "    </tr>\n",
       "    <tr>\n",
       "      <th>1</th>\n",
       "      <td>15.0</td>\n",
       "      <td>8</td>\n",
       "      <td>350.0</td>\n",
       "      <td>165.0</td>\n",
       "      <td>3693.0</td>\n",
       "      <td>11.5</td>\n",
       "      <td>70</td>\n",
       "      <td>1</td>\n",
       "      <td>buick skylark 320</td>\n",
       "      <td>6.38</td>\n",
       "    </tr>\n",
       "    <tr>\n",
       "      <th>2</th>\n",
       "      <td>18.0</td>\n",
       "      <td>8</td>\n",
       "      <td>318.0</td>\n",
       "      <td>150.0</td>\n",
       "      <td>3436.0</td>\n",
       "      <td>11.0</td>\n",
       "      <td>70</td>\n",
       "      <td>1</td>\n",
       "      <td>plymouth satellite</td>\n",
       "      <td>7.65</td>\n",
       "    </tr>\n",
       "    <tr>\n",
       "      <th>3</th>\n",
       "      <td>16.0</td>\n",
       "      <td>8</td>\n",
       "      <td>304.0</td>\n",
       "      <td>150.0</td>\n",
       "      <td>3433.0</td>\n",
       "      <td>12.0</td>\n",
       "      <td>70</td>\n",
       "      <td>1</td>\n",
       "      <td>amc rebel sst</td>\n",
       "      <td>6.80</td>\n",
       "    </tr>\n",
       "    <tr>\n",
       "      <th>4</th>\n",
       "      <td>17.0</td>\n",
       "      <td>8</td>\n",
       "      <td>302.0</td>\n",
       "      <td>140.0</td>\n",
       "      <td>3449.0</td>\n",
       "      <td>10.5</td>\n",
       "      <td>70</td>\n",
       "      <td>1</td>\n",
       "      <td>ford torino</td>\n",
       "      <td>7.22</td>\n",
       "    </tr>\n",
       "  </tbody>\n",
       "</table>\n",
       "</div>"
      ],
      "text/plain": [
       "    mpg  cylinders  displayment horsepower  weight  acceleration  model year  \\\n",
       "0  18.0          8        307.0      130.0  3504.0          12.0          70   \n",
       "1  15.0          8        350.0      165.0  3693.0          11.5          70   \n",
       "2  18.0          8        318.0      150.0  3436.0          11.0          70   \n",
       "3  16.0          8        304.0      150.0  3433.0          12.0          70   \n",
       "4  17.0          8        302.0      140.0  3449.0          10.5          70   \n",
       "\n",
       "   origin                       name   kpl  \n",
       "0       1  chevrolet chevelle malibu  7.65  \n",
       "1       1          buick skylark 320  6.38  \n",
       "2       1         plymouth satellite  7.65  \n",
       "3       1              amc rebel sst  6.80  \n",
       "4       1                ford torino  7.22  "
      ]
     },
     "execution_count": 202,
     "metadata": {},
     "output_type": "execute_result"
    }
   ],
   "source": [
    "df.head()"
   ]
  },
  {
   "cell_type": "code",
   "execution_count": null,
   "id": "900fafc9-c5ab-4d29-8f29-e0f11ecec3c7",
   "metadata": {},
   "outputs": [],
   "source": [
    "## 자료형 변환\n",
    "astype 함수로 타입을 변환한다 "
   ]
  },
  {
   "cell_type": "code",
   "execution_count": 214,
   "id": "a06ee269-c392-4b4d-adb5-2877e0b04a0f",
   "metadata": {},
   "outputs": [
    {
     "data": {
      "text/plain": [
       "horsepower\n",
       "150.0    22\n",
       "90.00    20\n",
       "88.00    19\n",
       "110.0    18\n",
       "100.0    17\n",
       "         ..\n",
       "61.00     1\n",
       "93.00     1\n",
       "148.0     1\n",
       "152.0     1\n",
       "82.00     1\n",
       "Name: count, Length: 94, dtype: int64"
      ]
     },
     "execution_count": 214,
     "metadata": {},
     "output_type": "execute_result"
    }
   ],
   "source": [
    "df['horsepower'].value_counts(dropna=False)"
   ]
  },
  {
   "cell_type": "code",
   "execution_count": 220,
   "id": "dcb435ef-fec8-4316-bf26-276743cc427e",
   "metadata": {},
   "outputs": [
    {
     "data": {
      "text/plain": [
       "array(['130.0', '165.0', '150.0', '140.0', '198.0', '220.0', '215.0',\n",
       "       '225.0', '190.0', '170.0', '160.0', '95.00', '97.00', '85.00',\n",
       "       '88.00', '46.00', '87.00', '90.00', '113.0', '200.0', '210.0',\n",
       "       '193.0', '?', '100.0', '105.0', '175.0', '153.0', '180.0', '110.0',\n",
       "       '72.00', '86.00', '70.00', '76.00', '65.00', '69.00', '60.00',\n",
       "       '80.00', '54.00', '208.0', '155.0', '112.0', '92.00', '145.0',\n",
       "       '137.0', '158.0', '167.0', '94.00', '107.0', '230.0', '49.00',\n",
       "       '75.00', '91.00', '122.0', '67.00', '83.00', '78.00', '52.00',\n",
       "       '61.00', '93.00', '148.0', '129.0', '96.00', '71.00', '98.00',\n",
       "       '115.0', '53.00', '81.00', '79.00', '120.0', '152.0', '102.0',\n",
       "       '108.0', '68.00', '58.00', '149.0', '89.00', '63.00', '48.00',\n",
       "       '66.00', '139.0', '103.0', '125.0', '133.0', '138.0', '135.0',\n",
       "       '142.0', '77.00', '62.00', '132.0', '84.00', '64.00', '74.00',\n",
       "       '116.0', '82.00'], dtype=object)"
      ]
     },
     "execution_count": 220,
     "metadata": {},
     "output_type": "execute_result"
    }
   ],
   "source": [
    "df['horsepower'].unique()"
   ]
  },
  {
   "cell_type": "code",
   "execution_count": null,
   "id": "1c110aa6-d219-4c07-94b1-e5311c8a27a9",
   "metadata": {},
   "outputs": [],
   "source": [
    "### ? => np.nan으로 치환 "
   ]
  },
  {
   "cell_type": "code",
   "execution_count": 226,
   "id": "b2de6d33-d369-42b9-982e-7a954c00a66a",
   "metadata": {},
   "outputs": [],
   "source": [
    "import numpy as np\n",
    "df['horsepower'] = df['horsepower'].replace(\"?\", np.nan)"
   ]
  },
  {
   "cell_type": "code",
   "execution_count": 232,
   "id": "63f39c0b-76ca-4eb3-81e0-ea19a6605182",
   "metadata": {},
   "outputs": [
    {
     "data": {
      "text/plain": [
       "array(['130.0', '165.0', '150.0', '140.0', '198.0', '220.0', '215.0',\n",
       "       '225.0', '190.0', '170.0', '160.0', '95.00', '97.00', '85.00',\n",
       "       '88.00', '46.00', '87.00', '90.00', '113.0', '200.0', '210.0',\n",
       "       '193.0', nan, '100.0', '105.0', '175.0', '153.0', '180.0', '110.0',\n",
       "       '72.00', '86.00', '70.00', '76.00', '65.00', '69.00', '60.00',\n",
       "       '80.00', '54.00', '208.0', '155.0', '112.0', '92.00', '145.0',\n",
       "       '137.0', '158.0', '167.0', '94.00', '107.0', '230.0', '49.00',\n",
       "       '75.00', '91.00', '122.0', '67.00', '83.00', '78.00', '52.00',\n",
       "       '61.00', '93.00', '148.0', '129.0', '96.00', '71.00', '98.00',\n",
       "       '115.0', '53.00', '81.00', '79.00', '120.0', '152.0', '102.0',\n",
       "       '108.0', '68.00', '58.00', '149.0', '89.00', '63.00', '48.00',\n",
       "       '66.00', '139.0', '103.0', '125.0', '133.0', '138.0', '135.0',\n",
       "       '142.0', '77.00', '62.00', '132.0', '84.00', '64.00', '74.00',\n",
       "       '116.0', '82.00'], dtype=object)"
      ]
     },
     "execution_count": 232,
     "metadata": {},
     "output_type": "execute_result"
    }
   ],
   "source": [
    "df['horsepower'].unique()"
   ]
  },
  {
   "cell_type": "code",
   "execution_count": null,
   "id": "1cd950bb-46f0-414c-a03e-fb5a6fdff54f",
   "metadata": {},
   "outputs": [],
   "source": [
    "### astype 타입 변경"
   ]
  },
  {
   "cell_type": "code",
   "execution_count": 238,
   "id": "0f1b392e-7624-42b2-9f20-f789733eb745",
   "metadata": {},
   "outputs": [],
   "source": [
    "df['horsepower'] = df['horsepower'].astype('float')"
   ]
  },
  {
   "cell_type": "code",
   "execution_count": 242,
   "id": "33a37de3-d211-497a-bc5b-7622c1cbf268",
   "metadata": {},
   "outputs": [
    {
     "name": "stdout",
     "output_type": "stream",
     "text": [
      "<class 'pandas.core.frame.DataFrame'>\n",
      "RangeIndex: 398 entries, 0 to 397\n",
      "Data columns (total 10 columns):\n",
      " #   Column        Non-Null Count  Dtype  \n",
      "---  ------        --------------  -----  \n",
      " 0   mpg           398 non-null    float64\n",
      " 1   cylinders     398 non-null    int64  \n",
      " 2   displayment   398 non-null    float64\n",
      " 3   horsepower    392 non-null    float64\n",
      " 4   weight        398 non-null    float64\n",
      " 5   acceleration  398 non-null    float64\n",
      " 6   model year    398 non-null    int64  \n",
      " 7   origin        398 non-null    int64  \n",
      " 8   name          398 non-null    object \n",
      " 9   kpl           398 non-null    float64\n",
      "dtypes: float64(6), int64(3), object(1)\n",
      "memory usage: 31.2+ KB\n"
     ]
    }
   ],
   "source": [
    "df.info()"
   ]
  },
  {
   "cell_type": "code",
   "execution_count": 244,
   "id": "441507a1-c366-42d5-8e0c-6aa0455b1bd4",
   "metadata": {},
   "outputs": [
    {
     "data": {
      "text/plain": [
       "104.46938775510205"
      ]
     },
     "execution_count": 244,
     "metadata": {},
     "output_type": "execute_result"
    }
   ],
   "source": [
    "df['horsepower'].mean()"
   ]
  },
  {
   "cell_type": "code",
   "execution_count": null,
   "id": "23755e5a-6045-49c3-93df-0e64b9790654",
   "metadata": {},
   "outputs": [],
   "source": [
    "## origin 컬럼 "
   ]
  },
  {
   "cell_type": "code",
   "execution_count": 246,
   "id": "1b2c42e4-a4f3-4b09-8790-b11a66867ede",
   "metadata": {},
   "outputs": [
    {
     "data": {
      "text/plain": [
       "0    1\n",
       "1    1\n",
       "2    1\n",
       "3    1\n",
       "4    1\n",
       "Name: origin, dtype: int64"
      ]
     },
     "execution_count": 246,
     "metadata": {},
     "output_type": "execute_result"
    }
   ],
   "source": [
    "df['origin'].head()"
   ]
  },
  {
   "cell_type": "code",
   "execution_count": 250,
   "id": "e7528634-54c5-447c-bd7e-1fcac5e3b6de",
   "metadata": {},
   "outputs": [
    {
     "data": {
      "text/plain": [
       "origin\n",
       "1    249\n",
       "3     79\n",
       "2     70\n",
       "Name: count, dtype: int64"
      ]
     },
     "execution_count": 250,
     "metadata": {},
     "output_type": "execute_result"
    }
   ],
   "source": [
    "df['origin'].unique()\n",
    "df['origin'].value_counts()"
   ]
  },
  {
   "cell_type": "code",
   "execution_count": null,
   "id": "f836e28e-6f64-46dc-bb90-2120cbae73f0",
   "metadata": {},
   "outputs": [],
   "source": [
    "## origin 컬럼 치환\n",
    "범주형 데이터로 변환 category\n",
    "1 USA, 2 EU, 3 JPN\n"
   ]
  },
  {
   "cell_type": "code",
   "execution_count": 256,
   "id": "5b1d6d18-d9c7-4e50-9b7a-902227a3333d",
   "metadata": {},
   "outputs": [
    {
     "data": {
      "text/plain": [
       "array(['USA', 'JPN', 'EU'], dtype=object)"
      ]
     },
     "execution_count": 256,
     "metadata": {},
     "output_type": "execute_result"
    }
   ],
   "source": [
    "df['origin'] = df['origin'].replace({1:\"USA\",2:\"EU\",3:\"JPN\"})\n",
    "df['origin'].unique()"
   ]
  },
  {
   "cell_type": "code",
   "execution_count": 258,
   "id": "761a3366-7ad8-45d8-8f8d-32f8c6e58188",
   "metadata": {},
   "outputs": [
    {
     "data": {
      "text/plain": [
       "dtype('O')"
      ]
     },
     "execution_count": 258,
     "metadata": {},
     "output_type": "execute_result"
    }
   ],
   "source": [
    "df['origin'].dtypes"
   ]
  },
  {
   "cell_type": "code",
   "execution_count": 260,
   "id": "d139e7c4-b988-4397-a517-805ee9cdf1da",
   "metadata": {},
   "outputs": [],
   "source": [
    "df['origin'] = df['origin'].astype('category')"
   ]
  },
  {
   "cell_type": "code",
   "execution_count": 262,
   "id": "9e3fcac6-f2a3-4531-b218-fba26a6bf700",
   "metadata": {},
   "outputs": [
    {
     "name": "stdout",
     "output_type": "stream",
     "text": [
      "category\n"
     ]
    }
   ],
   "source": [
    "print(df['origin'].dtypes)"
   ]
  },
  {
   "cell_type": "code",
   "execution_count": 264,
   "id": "8d002532-558d-4266-a739-afec6f789e0e",
   "metadata": {},
   "outputs": [
    {
     "data": {
      "text/plain": [
       "0    70\n",
       "1    70\n",
       "2    70\n",
       "3    70\n",
       "4    70\n",
       "5    70\n",
       "6    70\n",
       "7    70\n",
       "8    70\n",
       "9    70\n",
       "Name: model year, dtype: int64"
      ]
     },
     "execution_count": 264,
     "metadata": {},
     "output_type": "execute_result"
    }
   ],
   "source": [
    "df['model year'].head(10)"
   ]
  },
  {
   "cell_type": "code",
   "execution_count": 266,
   "id": "0412d78d-7b2d-4760-bf10-1a1b6338f9b9",
   "metadata": {},
   "outputs": [
    {
     "data": {
      "text/plain": [
       "array([70, 71, 72, 73, 74, 75, 76, 77, 78, 79, 80, 81, 82], dtype=int64)"
      ]
     },
     "execution_count": 266,
     "metadata": {},
     "output_type": "execute_result"
    }
   ],
   "source": [
    "df['model year'].unique()"
   ]
  },
  {
   "cell_type": "code",
   "execution_count": 268,
   "id": "abfb1769-f654-4fd8-915b-844161c85d59",
   "metadata": {},
   "outputs": [
    {
     "data": {
      "text/plain": [
       "model year\n",
       "73    40\n",
       "78    36\n",
       "76    34\n",
       "82    31\n",
       "75    30\n",
       "70    29\n",
       "79    29\n",
       "80    29\n",
       "81    29\n",
       "71    28\n",
       "72    28\n",
       "77    28\n",
       "74    27\n",
       "Name: count, dtype: int64"
      ]
     },
     "execution_count": 268,
     "metadata": {},
     "output_type": "execute_result"
    }
   ],
   "source": [
    "df['model year'].value_counts()"
   ]
  },
  {
   "cell_type": "code",
   "execution_count": 272,
   "id": "bfbb8135-634e-4f9a-8564-37a606422708",
   "metadata": {},
   "outputs": [
    {
     "data": {
      "text/plain": [
       "304    79\n",
       "6      70\n",
       "22     70\n",
       "56     71\n",
       "17     70\n",
       "Name: model year, dtype: int64"
      ]
     },
     "execution_count": 272,
     "metadata": {},
     "output_type": "execute_result"
    }
   ],
   "source": [
    "df['model year'].sample(5)"
   ]
  },
  {
   "cell_type": "code",
   "execution_count": 274,
   "id": "240e5921-947d-4c75-8b91-6679cc1e290e",
   "metadata": {},
   "outputs": [],
   "source": [
    "df['model year'] = df['model year'].astype('category')"
   ]
  },
  {
   "cell_type": "code",
   "execution_count": 276,
   "id": "98aacbd1-672f-4b43-a778-ed6d06971111",
   "metadata": {},
   "outputs": [
    {
     "name": "stdout",
     "output_type": "stream",
     "text": [
      "<class 'pandas.core.series.Series'>\n",
      "RangeIndex: 398 entries, 0 to 397\n",
      "Series name: model year\n",
      "Non-Null Count  Dtype   \n",
      "--------------  -----   \n",
      "398 non-null    category\n",
      "dtypes: category(1)\n",
      "memory usage: 1.2 KB\n"
     ]
    }
   ],
   "source": [
    "df['model year'].info()"
   ]
  },
  {
   "cell_type": "code",
   "execution_count": 278,
   "id": "393378ba-9004-4394-95b4-8f30193255c5",
   "metadata": {},
   "outputs": [
    {
     "data": {
      "text/plain": [
       "270    78\n",
       "165    75\n",
       "172    75\n",
       "235    77\n",
       "163    75\n",
       "8      70\n",
       "206    76\n",
       "208    76\n",
       "79     72\n",
       "156    75\n",
       "Name: model year, dtype: category\n",
       "Categories (13, int64): [70, 71, 72, 73, ..., 79, 80, 81, 82]"
      ]
     },
     "execution_count": 278,
     "metadata": {},
     "output_type": "execute_result"
    }
   ],
   "source": [
    "df['model year'].sample(10)"
   ]
  },
  {
   "cell_type": "code",
   "execution_count": null,
   "id": "b36f9f63-ab62-4dd5-878d-46c51b54183d",
   "metadata": {},
   "outputs": [],
   "source": []
  },
  {
   "cell_type": "code",
   "execution_count": null,
   "id": "668497ff-0657-4a02-9b7a-3bcd8921a373",
   "metadata": {},
   "outputs": [],
   "source": []
  },
  {
   "cell_type": "code",
   "execution_count": null,
   "id": "c83730cd-6349-4841-8064-16c5a979e200",
   "metadata": {},
   "outputs": [],
   "source": [
    "## 범주형 데이터 구간 분할 "
   ]
  },
  {
   "cell_type": "code",
   "execution_count": null,
   "id": "09fd03db-3e91-48ae-bd0c-af2eeb253603",
   "metadata": {},
   "outputs": [],
   "source": [
    "### horsepower nan data 삭제 "
   ]
  },
  {
   "cell_type": "code",
   "execution_count": 280,
   "id": "68e11075-7dc5-4af9-8a3b-8e90aa192b03",
   "metadata": {},
   "outputs": [
    {
     "name": "stdout",
     "output_type": "stream",
     "text": [
      "<class 'pandas.core.frame.DataFrame'>\n",
      "RangeIndex: 398 entries, 0 to 397\n",
      "Data columns (total 10 columns):\n",
      " #   Column        Non-Null Count  Dtype   \n",
      "---  ------        --------------  -----   \n",
      " 0   mpg           398 non-null    float64 \n",
      " 1   cylinders     398 non-null    int64   \n",
      " 2   displayment   398 non-null    float64 \n",
      " 3   horsepower    392 non-null    float64 \n",
      " 4   weight        398 non-null    float64 \n",
      " 5   acceleration  398 non-null    float64 \n",
      " 6   model year    398 non-null    category\n",
      " 7   origin        398 non-null    category\n",
      " 8   name          398 non-null    object  \n",
      " 9   kpl           398 non-null    float64 \n",
      "dtypes: category(2), float64(6), int64(1), object(1)\n",
      "memory usage: 26.6+ KB\n"
     ]
    }
   ],
   "source": [
    "df.info()"
   ]
  },
  {
   "cell_type": "code",
   "execution_count": 286,
   "id": "004d016a-1ef7-45b9-ab25-8bec066997f0",
   "metadata": {},
   "outputs": [],
   "source": [
    "df = df.dropna(subset='horsepower', axis=0)"
   ]
  },
  {
   "cell_type": "code",
   "execution_count": 288,
   "id": "46e278bd-5f7e-4df2-806a-40c512b275a1",
   "metadata": {},
   "outputs": [
    {
     "name": "stdout",
     "output_type": "stream",
     "text": [
      "<class 'pandas.core.frame.DataFrame'>\n",
      "Index: 392 entries, 0 to 397\n",
      "Data columns (total 10 columns):\n",
      " #   Column        Non-Null Count  Dtype   \n",
      "---  ------        --------------  -----   \n",
      " 0   mpg           392 non-null    float64 \n",
      " 1   cylinders     392 non-null    int64   \n",
      " 2   displayment   392 non-null    float64 \n",
      " 3   horsepower    392 non-null    float64 \n",
      " 4   weight        392 non-null    float64 \n",
      " 5   acceleration  392 non-null    float64 \n",
      " 6   model year    392 non-null    category\n",
      " 7   origin        392 non-null    category\n",
      " 8   name          392 non-null    object  \n",
      " 9   kpl           392 non-null    float64 \n",
      "dtypes: category(2), float64(6), int64(1), object(1)\n",
      "memory usage: 29.1+ KB\n"
     ]
    }
   ],
   "source": [
    "df.info()"
   ]
  },
  {
   "cell_type": "code",
   "execution_count": 290,
   "id": "f54faf66-52b0-477a-b587-d397a244ee9c",
   "metadata": {},
   "outputs": [
    {
     "data": {
      "text/plain": [
       "horsepower\n",
       "150.0    22\n",
       "90.0     20\n",
       "88.0     19\n",
       "110.0    18\n",
       "100.0    17\n",
       "         ..\n",
       "61.0      1\n",
       "93.0      1\n",
       "148.0     1\n",
       "152.0     1\n",
       "82.0      1\n",
       "Name: count, Length: 93, dtype: int64"
      ]
     },
     "execution_count": 290,
     "metadata": {},
     "output_type": "execute_result"
    }
   ],
   "source": [
    "df['horsepower'].value_counts()"
   ]
  },
  {
   "cell_type": "code",
   "execution_count": 292,
   "id": "08cf8a16-1641-49dc-a4b1-c6c5671d0e7f",
   "metadata": {},
   "outputs": [
    {
     "data": {
      "text/plain": [
       "array([130., 165., 150., 140., 198., 220., 215., 225., 190., 170., 160.,\n",
       "        95.,  97.,  85.,  88.,  46.,  87.,  90., 113., 200., 210., 193.,\n",
       "       100., 105., 175., 153., 180., 110.,  72.,  86.,  70.,  76.,  65.,\n",
       "        69.,  60.,  80.,  54., 208., 155., 112.,  92., 145., 137., 158.,\n",
       "       167.,  94., 107., 230.,  49.,  75.,  91., 122.,  67.,  83.,  78.,\n",
       "        52.,  61.,  93., 148., 129.,  96.,  71.,  98., 115.,  53.,  81.,\n",
       "        79., 120., 152., 102., 108.,  68.,  58., 149.,  89.,  63.,  48.,\n",
       "        66., 139., 103., 125., 133., 138., 135., 142.,  77.,  62., 132.,\n",
       "        84.,  64.,  74., 116.,  82.])"
      ]
     },
     "execution_count": 292,
     "metadata": {},
     "output_type": "execute_result"
    }
   ],
   "source": [
    "df['horsepower'].unique()"
   ]
  },
  {
   "cell_type": "markdown",
   "id": "725e37bd-5201-4480-b02f-1af7ba809641",
   "metadata": {},
   "source": [
    "\n",
    "연속된 데이터의 구간을 분할한다 \n",
    "\n",
    "1구간 : 0 ~ 50\n",
    "2구간 : 50 ~ 150\n",
    "3구간 : 150 ~ 200\n",
    "4구간 : 200 ~ 300\n",
    "=> 범주 4개 \n",
    "구간 값 5개 : 0 50 150 200 300 \n",
    "\n",
    "=> binning 작업 \n",
    "\n",
    "구간 값을 임의로 지정하기 보다는 \n",
    "\n",
    "데이터의 분포 이해 : 연속적인 데이터를 범주형 데이터로 변환하여 값의 분포를 더 명확히 이해\n",
    "데이터 시각화 : 데이터를 구간으로 나누면 히스토그램이나 바 차트로 시각화할 때 더 간단하고 명확하게 표현\n",
    "분석 및 해석 용이 : 데이터를 그룹화하면 트렌드 파악이 쉬워지고, 데이터를 해석하거나 설명하는 데 유리.\n",
    "예: 특정 구간(200 이상)에 속하는 값들이 많다면, 그 구간에 대한 추가 분석이나 결론 도출이 가능."
   ]
  },
  {
   "cell_type": "code",
   "execution_count": 302,
   "id": "e861ebc8-b252-421a-b5b2-0924c279ad5a",
   "metadata": {},
   "outputs": [],
   "source": [
    "n, bin_div = np.histogram(df['horsepower'], bins=3) # 저출력, 중출력, 고출력 => 4개의 구간"
   ]
  },
  {
   "cell_type": "code",
   "execution_count": 308,
   "id": "53aad429-43b8-462e-b97e-3fc0b37317d1",
   "metadata": {},
   "outputs": [
    {
     "name": "stdout",
     "output_type": "stream",
     "text": [
      "[ 46.         107.33333333 168.66666667 230.        ]\n"
     ]
    }
   ],
   "source": [
    "print(bin_div)"
   ]
  },
  {
   "cell_type": "code",
   "execution_count": 312,
   "id": "f59cc682-635d-4526-86e0-c6cc48326a2a",
   "metadata": {},
   "outputs": [
    {
     "name": "stderr",
     "output_type": "stream",
     "text": [
      "C:\\Users\\kj\\AppData\\Local\\Temp\\ipykernel_1612\\3781731888.py:2: SettingWithCopyWarning: \n",
      "A value is trying to be set on a copy of a slice from a DataFrame.\n",
      "Try using .loc[row_indexer,col_indexer] = value instead\n",
      "\n",
      "See the caveats in the documentation: https://pandas.pydata.org/pandas-docs/stable/user_guide/indexing.html#returning-a-view-versus-a-copy\n",
      "  df['hp_bin'] = pd.cut(x=df['horsepower'], bins=bin_div, labels=bin_names, include_lowest=True)\n"
     ]
    }
   ],
   "source": [
    "bin_names = ['저출력', '보통출력' , '고출력']\n",
    "df['hp_bin'] = pd.cut(x=df['horsepower'], bins=bin_div, labels=bin_names, include_lowest=True)"
   ]
  },
  {
   "cell_type": "code",
   "execution_count": null,
   "id": "4bfefaf1-6f98-4864-a78f-91b2983391de",
   "metadata": {},
   "outputs": [],
   "source": [
    "include_lowest=True : 첫 번째 구간의 하한값(왼쪽 경계)도 포함"
   ]
  },
  {
   "cell_type": "code",
   "execution_count": 320,
   "id": "2c4b49c3-b623-43e8-91a0-91afc354d015",
   "metadata": {},
   "outputs": [
    {
     "data": {
      "text/html": [
       "<div>\n",
       "<style scoped>\n",
       "    .dataframe tbody tr th:only-of-type {\n",
       "        vertical-align: middle;\n",
       "    }\n",
       "\n",
       "    .dataframe tbody tr th {\n",
       "        vertical-align: top;\n",
       "    }\n",
       "\n",
       "    .dataframe thead th {\n",
       "        text-align: right;\n",
       "    }\n",
       "</style>\n",
       "<table border=\"1\" class=\"dataframe\">\n",
       "  <thead>\n",
       "    <tr style=\"text-align: right;\">\n",
       "      <th></th>\n",
       "      <th>mpg</th>\n",
       "      <th>cylinders</th>\n",
       "      <th>displayment</th>\n",
       "      <th>horsepower</th>\n",
       "      <th>weight</th>\n",
       "      <th>acceleration</th>\n",
       "      <th>model year</th>\n",
       "      <th>origin</th>\n",
       "      <th>name</th>\n",
       "      <th>kpl</th>\n",
       "      <th>hp_bin</th>\n",
       "    </tr>\n",
       "  </thead>\n",
       "  <tbody>\n",
       "    <tr>\n",
       "      <th>0</th>\n",
       "      <td>18.0</td>\n",
       "      <td>8</td>\n",
       "      <td>307.0</td>\n",
       "      <td>130.0</td>\n",
       "      <td>3504.0</td>\n",
       "      <td>12.0</td>\n",
       "      <td>70</td>\n",
       "      <td>USA</td>\n",
       "      <td>chevrolet chevelle malibu</td>\n",
       "      <td>7.65</td>\n",
       "      <td>보통출력</td>\n",
       "    </tr>\n",
       "    <tr>\n",
       "      <th>1</th>\n",
       "      <td>15.0</td>\n",
       "      <td>8</td>\n",
       "      <td>350.0</td>\n",
       "      <td>165.0</td>\n",
       "      <td>3693.0</td>\n",
       "      <td>11.5</td>\n",
       "      <td>70</td>\n",
       "      <td>USA</td>\n",
       "      <td>buick skylark 320</td>\n",
       "      <td>6.38</td>\n",
       "      <td>보통출력</td>\n",
       "    </tr>\n",
       "    <tr>\n",
       "      <th>2</th>\n",
       "      <td>18.0</td>\n",
       "      <td>8</td>\n",
       "      <td>318.0</td>\n",
       "      <td>150.0</td>\n",
       "      <td>3436.0</td>\n",
       "      <td>11.0</td>\n",
       "      <td>70</td>\n",
       "      <td>USA</td>\n",
       "      <td>plymouth satellite</td>\n",
       "      <td>7.65</td>\n",
       "      <td>보통출력</td>\n",
       "    </tr>\n",
       "    <tr>\n",
       "      <th>3</th>\n",
       "      <td>16.0</td>\n",
       "      <td>8</td>\n",
       "      <td>304.0</td>\n",
       "      <td>150.0</td>\n",
       "      <td>3433.0</td>\n",
       "      <td>12.0</td>\n",
       "      <td>70</td>\n",
       "      <td>USA</td>\n",
       "      <td>amc rebel sst</td>\n",
       "      <td>6.80</td>\n",
       "      <td>보통출력</td>\n",
       "    </tr>\n",
       "    <tr>\n",
       "      <th>4</th>\n",
       "      <td>17.0</td>\n",
       "      <td>8</td>\n",
       "      <td>302.0</td>\n",
       "      <td>140.0</td>\n",
       "      <td>3449.0</td>\n",
       "      <td>10.5</td>\n",
       "      <td>70</td>\n",
       "      <td>USA</td>\n",
       "      <td>ford torino</td>\n",
       "      <td>7.22</td>\n",
       "      <td>보통출력</td>\n",
       "    </tr>\n",
       "  </tbody>\n",
       "</table>\n",
       "</div>"
      ],
      "text/plain": [
       "    mpg  cylinders  displayment  horsepower  weight  acceleration model year  \\\n",
       "0  18.0          8        307.0       130.0  3504.0          12.0         70   \n",
       "1  15.0          8        350.0       165.0  3693.0          11.5         70   \n",
       "2  18.0          8        318.0       150.0  3436.0          11.0         70   \n",
       "3  16.0          8        304.0       150.0  3433.0          12.0         70   \n",
       "4  17.0          8        302.0       140.0  3449.0          10.5         70   \n",
       "\n",
       "  origin                       name   kpl hp_bin  \n",
       "0    USA  chevrolet chevelle malibu  7.65   보통출력  \n",
       "1    USA          buick skylark 320  6.38   보통출력  \n",
       "2    USA         plymouth satellite  7.65   보통출력  \n",
       "3    USA              amc rebel sst  6.80   보통출력  \n",
       "4    USA                ford torino  7.22   보통출력  "
      ]
     },
     "execution_count": 320,
     "metadata": {},
     "output_type": "execute_result"
    }
   ],
   "source": [
    "df.head()"
   ]
  },
  {
   "cell_type": "code",
   "execution_count": 322,
   "id": "81b0414d-2162-4e3f-aa73-79f232a3d37a",
   "metadata": {},
   "outputs": [
    {
     "data": {
      "text/html": [
       "<div>\n",
       "<style scoped>\n",
       "    .dataframe tbody tr th:only-of-type {\n",
       "        vertical-align: middle;\n",
       "    }\n",
       "\n",
       "    .dataframe tbody tr th {\n",
       "        vertical-align: top;\n",
       "    }\n",
       "\n",
       "    .dataframe thead th {\n",
       "        text-align: right;\n",
       "    }\n",
       "</style>\n",
       "<table border=\"1\" class=\"dataframe\">\n",
       "  <thead>\n",
       "    <tr style=\"text-align: right;\">\n",
       "      <th></th>\n",
       "      <th>mpg</th>\n",
       "      <th>cylinders</th>\n",
       "      <th>displayment</th>\n",
       "      <th>horsepower</th>\n",
       "      <th>weight</th>\n",
       "      <th>acceleration</th>\n",
       "      <th>model year</th>\n",
       "      <th>origin</th>\n",
       "      <th>name</th>\n",
       "      <th>kpl</th>\n",
       "      <th>hp_bin</th>\n",
       "    </tr>\n",
       "  </thead>\n",
       "  <tbody>\n",
       "    <tr>\n",
       "      <th>21</th>\n",
       "      <td>24.0</td>\n",
       "      <td>4</td>\n",
       "      <td>107.0</td>\n",
       "      <td>90.0</td>\n",
       "      <td>2430.0</td>\n",
       "      <td>14.5</td>\n",
       "      <td>70</td>\n",
       "      <td>EU</td>\n",
       "      <td>audi 100 ls</td>\n",
       "      <td>10.20</td>\n",
       "      <td>저출력</td>\n",
       "    </tr>\n",
       "    <tr>\n",
       "      <th>6</th>\n",
       "      <td>14.0</td>\n",
       "      <td>8</td>\n",
       "      <td>454.0</td>\n",
       "      <td>220.0</td>\n",
       "      <td>4354.0</td>\n",
       "      <td>9.0</td>\n",
       "      <td>70</td>\n",
       "      <td>USA</td>\n",
       "      <td>chevrolet impala</td>\n",
       "      <td>5.95</td>\n",
       "      <td>고출력</td>\n",
       "    </tr>\n",
       "    <tr>\n",
       "      <th>107</th>\n",
       "      <td>18.0</td>\n",
       "      <td>6</td>\n",
       "      <td>232.0</td>\n",
       "      <td>100.0</td>\n",
       "      <td>2789.0</td>\n",
       "      <td>15.0</td>\n",
       "      <td>73</td>\n",
       "      <td>USA</td>\n",
       "      <td>amc gremlin</td>\n",
       "      <td>7.65</td>\n",
       "      <td>저출력</td>\n",
       "    </tr>\n",
       "    <tr>\n",
       "      <th>360</th>\n",
       "      <td>30.7</td>\n",
       "      <td>6</td>\n",
       "      <td>145.0</td>\n",
       "      <td>76.0</td>\n",
       "      <td>3160.0</td>\n",
       "      <td>19.6</td>\n",
       "      <td>81</td>\n",
       "      <td>EU</td>\n",
       "      <td>volvo diesel</td>\n",
       "      <td>13.05</td>\n",
       "      <td>저출력</td>\n",
       "    </tr>\n",
       "    <tr>\n",
       "      <th>379</th>\n",
       "      <td>36.0</td>\n",
       "      <td>4</td>\n",
       "      <td>98.0</td>\n",
       "      <td>70.0</td>\n",
       "      <td>2125.0</td>\n",
       "      <td>17.3</td>\n",
       "      <td>82</td>\n",
       "      <td>USA</td>\n",
       "      <td>mercury lynx l</td>\n",
       "      <td>15.30</td>\n",
       "      <td>저출력</td>\n",
       "    </tr>\n",
       "    <tr>\n",
       "      <th>120</th>\n",
       "      <td>19.0</td>\n",
       "      <td>4</td>\n",
       "      <td>121.0</td>\n",
       "      <td>112.0</td>\n",
       "      <td>2868.0</td>\n",
       "      <td>15.5</td>\n",
       "      <td>73</td>\n",
       "      <td>EU</td>\n",
       "      <td>volvo 144ea</td>\n",
       "      <td>8.07</td>\n",
       "      <td>보통출력</td>\n",
       "    </tr>\n",
       "    <tr>\n",
       "      <th>76</th>\n",
       "      <td>18.0</td>\n",
       "      <td>4</td>\n",
       "      <td>121.0</td>\n",
       "      <td>112.0</td>\n",
       "      <td>2933.0</td>\n",
       "      <td>14.5</td>\n",
       "      <td>72</td>\n",
       "      <td>EU</td>\n",
       "      <td>volvo 145e (sw)</td>\n",
       "      <td>7.65</td>\n",
       "      <td>보통출력</td>\n",
       "    </tr>\n",
       "    <tr>\n",
       "      <th>10</th>\n",
       "      <td>15.0</td>\n",
       "      <td>8</td>\n",
       "      <td>383.0</td>\n",
       "      <td>170.0</td>\n",
       "      <td>3563.0</td>\n",
       "      <td>10.0</td>\n",
       "      <td>70</td>\n",
       "      <td>USA</td>\n",
       "      <td>dodge challenger se</td>\n",
       "      <td>6.38</td>\n",
       "      <td>고출력</td>\n",
       "    </tr>\n",
       "    <tr>\n",
       "      <th>290</th>\n",
       "      <td>15.5</td>\n",
       "      <td>8</td>\n",
       "      <td>351.0</td>\n",
       "      <td>142.0</td>\n",
       "      <td>4054.0</td>\n",
       "      <td>14.3</td>\n",
       "      <td>79</td>\n",
       "      <td>USA</td>\n",
       "      <td>ford country squire (sw)</td>\n",
       "      <td>6.59</td>\n",
       "      <td>보통출력</td>\n",
       "    </tr>\n",
       "    <tr>\n",
       "      <th>372</th>\n",
       "      <td>27.0</td>\n",
       "      <td>4</td>\n",
       "      <td>151.0</td>\n",
       "      <td>90.0</td>\n",
       "      <td>2735.0</td>\n",
       "      <td>18.0</td>\n",
       "      <td>82</td>\n",
       "      <td>USA</td>\n",
       "      <td>pontiac phoenix</td>\n",
       "      <td>11.48</td>\n",
       "      <td>저출력</td>\n",
       "    </tr>\n",
       "  </tbody>\n",
       "</table>\n",
       "</div>"
      ],
      "text/plain": [
       "      mpg  cylinders  displayment  horsepower  weight  acceleration  \\\n",
       "21   24.0          4        107.0        90.0  2430.0          14.5   \n",
       "6    14.0          8        454.0       220.0  4354.0           9.0   \n",
       "107  18.0          6        232.0       100.0  2789.0          15.0   \n",
       "360  30.7          6        145.0        76.0  3160.0          19.6   \n",
       "379  36.0          4         98.0        70.0  2125.0          17.3   \n",
       "120  19.0          4        121.0       112.0  2868.0          15.5   \n",
       "76   18.0          4        121.0       112.0  2933.0          14.5   \n",
       "10   15.0          8        383.0       170.0  3563.0          10.0   \n",
       "290  15.5          8        351.0       142.0  4054.0          14.3   \n",
       "372  27.0          4        151.0        90.0  2735.0          18.0   \n",
       "\n",
       "    model year origin                      name    kpl hp_bin  \n",
       "21          70     EU               audi 100 ls  10.20    저출력  \n",
       "6           70    USA          chevrolet impala   5.95    고출력  \n",
       "107         73    USA               amc gremlin   7.65    저출력  \n",
       "360         81     EU              volvo diesel  13.05    저출력  \n",
       "379         82    USA            mercury lynx l  15.30    저출력  \n",
       "120         73     EU               volvo 144ea   8.07   보통출력  \n",
       "76          72     EU           volvo 145e (sw)   7.65   보통출력  \n",
       "10          70    USA       dodge challenger se   6.38    고출력  \n",
       "290         79    USA  ford country squire (sw)   6.59   보통출력  \n",
       "372         82    USA           pontiac phoenix  11.48    저출력  "
      ]
     },
     "execution_count": 322,
     "metadata": {},
     "output_type": "execute_result"
    }
   ],
   "source": [
    "df.sample(10)"
   ]
  },
  {
   "cell_type": "code",
   "execution_count": null,
   "id": "f72f7abd-0b8c-4cbd-a0a8-4534f48fcd62",
   "metadata": {},
   "outputs": [],
   "source": [
    "## 더미 변수 활용"
   ]
  },
  {
   "cell_type": "markdown",
   "id": "ef859ba9-00e8-4348-a5d5-726745d6dc47",
   "metadata": {},
   "source": [
    "one-hot-encoding\n",
    "   저출력 보통출력 고출력\n",
    "0    0       1       0\n",
    "6    0       0       1\n",
    "\n",
    "범주형데이터를 수치로 변경"
   ]
  },
  {
   "cell_type": "code",
   "execution_count": 332,
   "id": "df64f48a-40f0-454b-af56-85d7978f750f",
   "metadata": {},
   "outputs": [
    {
     "data": {
      "text/html": [
       "<div>\n",
       "<style scoped>\n",
       "    .dataframe tbody tr th:only-of-type {\n",
       "        vertical-align: middle;\n",
       "    }\n",
       "\n",
       "    .dataframe tbody tr th {\n",
       "        vertical-align: top;\n",
       "    }\n",
       "\n",
       "    .dataframe thead th {\n",
       "        text-align: right;\n",
       "    }\n",
       "</style>\n",
       "<table border=\"1\" class=\"dataframe\">\n",
       "  <thead>\n",
       "    <tr style=\"text-align: right;\">\n",
       "      <th></th>\n",
       "      <th>저출력</th>\n",
       "      <th>보통출력</th>\n",
       "      <th>고출력</th>\n",
       "    </tr>\n",
       "  </thead>\n",
       "  <tbody>\n",
       "    <tr>\n",
       "      <th>0</th>\n",
       "      <td>False</td>\n",
       "      <td>True</td>\n",
       "      <td>False</td>\n",
       "    </tr>\n",
       "    <tr>\n",
       "      <th>1</th>\n",
       "      <td>False</td>\n",
       "      <td>True</td>\n",
       "      <td>False</td>\n",
       "    </tr>\n",
       "    <tr>\n",
       "      <th>2</th>\n",
       "      <td>False</td>\n",
       "      <td>True</td>\n",
       "      <td>False</td>\n",
       "    </tr>\n",
       "    <tr>\n",
       "      <th>3</th>\n",
       "      <td>False</td>\n",
       "      <td>True</td>\n",
       "      <td>False</td>\n",
       "    </tr>\n",
       "    <tr>\n",
       "      <th>4</th>\n",
       "      <td>False</td>\n",
       "      <td>True</td>\n",
       "      <td>False</td>\n",
       "    </tr>\n",
       "    <tr>\n",
       "      <th>5</th>\n",
       "      <td>False</td>\n",
       "      <td>False</td>\n",
       "      <td>True</td>\n",
       "    </tr>\n",
       "    <tr>\n",
       "      <th>6</th>\n",
       "      <td>False</td>\n",
       "      <td>False</td>\n",
       "      <td>True</td>\n",
       "    </tr>\n",
       "    <tr>\n",
       "      <th>7</th>\n",
       "      <td>False</td>\n",
       "      <td>False</td>\n",
       "      <td>True</td>\n",
       "    </tr>\n",
       "    <tr>\n",
       "      <th>8</th>\n",
       "      <td>False</td>\n",
       "      <td>False</td>\n",
       "      <td>True</td>\n",
       "    </tr>\n",
       "    <tr>\n",
       "      <th>9</th>\n",
       "      <td>False</td>\n",
       "      <td>False</td>\n",
       "      <td>True</td>\n",
       "    </tr>\n",
       "  </tbody>\n",
       "</table>\n",
       "</div>"
      ],
      "text/plain": [
       "     저출력   보통출력    고출력\n",
       "0  False   True  False\n",
       "1  False   True  False\n",
       "2  False   True  False\n",
       "3  False   True  False\n",
       "4  False   True  False\n",
       "5  False  False   True\n",
       "6  False  False   True\n",
       "7  False  False   True\n",
       "8  False  False   True\n",
       "9  False  False   True"
      ]
     },
     "execution_count": 332,
     "metadata": {},
     "output_type": "execute_result"
    }
   ],
   "source": [
    "horsepower_dummies = pd.get_dummies(df['hp_bin'])\n",
    "\n",
    "horsepower_dummies.head(10)"
   ]
  },
  {
   "cell_type": "code",
   "execution_count": 338,
   "id": "df270a6c-952d-45e9-8cf0-78063eb0cf27",
   "metadata": {},
   "outputs": [
    {
     "data": {
      "text/html": [
       "<div>\n",
       "<style scoped>\n",
       "    .dataframe tbody tr th:only-of-type {\n",
       "        vertical-align: middle;\n",
       "    }\n",
       "\n",
       "    .dataframe tbody tr th {\n",
       "        vertical-align: top;\n",
       "    }\n",
       "\n",
       "    .dataframe thead th {\n",
       "        text-align: right;\n",
       "    }\n",
       "</style>\n",
       "<table border=\"1\" class=\"dataframe\">\n",
       "  <thead>\n",
       "    <tr style=\"text-align: right;\">\n",
       "      <th></th>\n",
       "      <th>name</th>\n",
       "      <th>mpg</th>\n",
       "      <th>cylinders</th>\n",
       "      <th>displayment</th>\n",
       "      <th>horsepower</th>\n",
       "      <th>weight</th>\n",
       "      <th>acceleration</th>\n",
       "      <th>model year</th>\n",
       "      <th>origin</th>\n",
       "      <th>kpl</th>\n",
       "      <th>hp_bin</th>\n",
       "    </tr>\n",
       "  </thead>\n",
       "  <tbody>\n",
       "    <tr>\n",
       "      <th>0</th>\n",
       "      <td>chevrolet chevelle malibu</td>\n",
       "      <td>18.0</td>\n",
       "      <td>8</td>\n",
       "      <td>307.0</td>\n",
       "      <td>130.0</td>\n",
       "      <td>3504.0</td>\n",
       "      <td>12.0</td>\n",
       "      <td>70</td>\n",
       "      <td>USA</td>\n",
       "      <td>7.65</td>\n",
       "      <td>보통출력</td>\n",
       "    </tr>\n",
       "    <tr>\n",
       "      <th>1</th>\n",
       "      <td>buick skylark 320</td>\n",
       "      <td>15.0</td>\n",
       "      <td>8</td>\n",
       "      <td>350.0</td>\n",
       "      <td>165.0</td>\n",
       "      <td>3693.0</td>\n",
       "      <td>11.5</td>\n",
       "      <td>70</td>\n",
       "      <td>USA</td>\n",
       "      <td>6.38</td>\n",
       "      <td>보통출력</td>\n",
       "    </tr>\n",
       "    <tr>\n",
       "      <th>2</th>\n",
       "      <td>plymouth satellite</td>\n",
       "      <td>18.0</td>\n",
       "      <td>8</td>\n",
       "      <td>318.0</td>\n",
       "      <td>150.0</td>\n",
       "      <td>3436.0</td>\n",
       "      <td>11.0</td>\n",
       "      <td>70</td>\n",
       "      <td>USA</td>\n",
       "      <td>7.65</td>\n",
       "      <td>보통출력</td>\n",
       "    </tr>\n",
       "    <tr>\n",
       "      <th>3</th>\n",
       "      <td>amc rebel sst</td>\n",
       "      <td>16.0</td>\n",
       "      <td>8</td>\n",
       "      <td>304.0</td>\n",
       "      <td>150.0</td>\n",
       "      <td>3433.0</td>\n",
       "      <td>12.0</td>\n",
       "      <td>70</td>\n",
       "      <td>USA</td>\n",
       "      <td>6.80</td>\n",
       "      <td>보통출력</td>\n",
       "    </tr>\n",
       "    <tr>\n",
       "      <th>4</th>\n",
       "      <td>ford torino</td>\n",
       "      <td>17.0</td>\n",
       "      <td>8</td>\n",
       "      <td>302.0</td>\n",
       "      <td>140.0</td>\n",
       "      <td>3449.0</td>\n",
       "      <td>10.5</td>\n",
       "      <td>70</td>\n",
       "      <td>USA</td>\n",
       "      <td>7.22</td>\n",
       "      <td>보통출력</td>\n",
       "    </tr>\n",
       "    <tr>\n",
       "      <th>...</th>\n",
       "      <td>...</td>\n",
       "      <td>...</td>\n",
       "      <td>...</td>\n",
       "      <td>...</td>\n",
       "      <td>...</td>\n",
       "      <td>...</td>\n",
       "      <td>...</td>\n",
       "      <td>...</td>\n",
       "      <td>...</td>\n",
       "      <td>...</td>\n",
       "      <td>...</td>\n",
       "    </tr>\n",
       "    <tr>\n",
       "      <th>393</th>\n",
       "      <td>ford mustang gl</td>\n",
       "      <td>27.0</td>\n",
       "      <td>4</td>\n",
       "      <td>140.0</td>\n",
       "      <td>86.0</td>\n",
       "      <td>2790.0</td>\n",
       "      <td>15.6</td>\n",
       "      <td>82</td>\n",
       "      <td>USA</td>\n",
       "      <td>11.48</td>\n",
       "      <td>저출력</td>\n",
       "    </tr>\n",
       "    <tr>\n",
       "      <th>394</th>\n",
       "      <td>vw pickup</td>\n",
       "      <td>44.0</td>\n",
       "      <td>4</td>\n",
       "      <td>97.0</td>\n",
       "      <td>52.0</td>\n",
       "      <td>2130.0</td>\n",
       "      <td>24.6</td>\n",
       "      <td>82</td>\n",
       "      <td>EU</td>\n",
       "      <td>18.70</td>\n",
       "      <td>저출력</td>\n",
       "    </tr>\n",
       "    <tr>\n",
       "      <th>395</th>\n",
       "      <td>dodge rampage</td>\n",
       "      <td>32.0</td>\n",
       "      <td>4</td>\n",
       "      <td>135.0</td>\n",
       "      <td>84.0</td>\n",
       "      <td>2295.0</td>\n",
       "      <td>11.6</td>\n",
       "      <td>82</td>\n",
       "      <td>USA</td>\n",
       "      <td>13.60</td>\n",
       "      <td>저출력</td>\n",
       "    </tr>\n",
       "    <tr>\n",
       "      <th>396</th>\n",
       "      <td>ford ranger</td>\n",
       "      <td>28.0</td>\n",
       "      <td>4</td>\n",
       "      <td>120.0</td>\n",
       "      <td>79.0</td>\n",
       "      <td>2625.0</td>\n",
       "      <td>18.6</td>\n",
       "      <td>82</td>\n",
       "      <td>USA</td>\n",
       "      <td>11.90</td>\n",
       "      <td>저출력</td>\n",
       "    </tr>\n",
       "    <tr>\n",
       "      <th>397</th>\n",
       "      <td>chevy s-10</td>\n",
       "      <td>31.0</td>\n",
       "      <td>4</td>\n",
       "      <td>119.0</td>\n",
       "      <td>82.0</td>\n",
       "      <td>2720.0</td>\n",
       "      <td>19.4</td>\n",
       "      <td>82</td>\n",
       "      <td>USA</td>\n",
       "      <td>13.18</td>\n",
       "      <td>저출력</td>\n",
       "    </tr>\n",
       "  </tbody>\n",
       "</table>\n",
       "<p>392 rows × 11 columns</p>\n",
       "</div>"
      ],
      "text/plain": [
       "                          name   mpg  cylinders  displayment  horsepower  \\\n",
       "0    chevrolet chevelle malibu  18.0          8        307.0       130.0   \n",
       "1            buick skylark 320  15.0          8        350.0       165.0   \n",
       "2           plymouth satellite  18.0          8        318.0       150.0   \n",
       "3                amc rebel sst  16.0          8        304.0       150.0   \n",
       "4                  ford torino  17.0          8        302.0       140.0   \n",
       "..                         ...   ...        ...          ...         ...   \n",
       "393            ford mustang gl  27.0          4        140.0        86.0   \n",
       "394                  vw pickup  44.0          4         97.0        52.0   \n",
       "395              dodge rampage  32.0          4        135.0        84.0   \n",
       "396                ford ranger  28.0          4        120.0        79.0   \n",
       "397                 chevy s-10  31.0          4        119.0        82.0   \n",
       "\n",
       "     weight  acceleration model year origin    kpl hp_bin  \n",
       "0    3504.0          12.0         70    USA   7.65   보통출력  \n",
       "1    3693.0          11.5         70    USA   6.38   보통출력  \n",
       "2    3436.0          11.0         70    USA   7.65   보통출력  \n",
       "3    3433.0          12.0         70    USA   6.80   보통출력  \n",
       "4    3449.0          10.5         70    USA   7.22   보통출력  \n",
       "..      ...           ...        ...    ...    ...    ...  \n",
       "393  2790.0          15.6         82    USA  11.48    저출력  \n",
       "394  2130.0          24.6         82     EU  18.70    저출력  \n",
       "395  2295.0          11.6         82    USA  13.60    저출력  \n",
       "396  2625.0          18.6         82    USA  11.90    저출력  \n",
       "397  2720.0          19.4         82    USA  13.18    저출력  \n",
       "\n",
       "[392 rows x 11 columns]"
      ]
     },
     "execution_count": 338,
     "metadata": {},
     "output_type": "execute_result"
    }
   ],
   "source": [
    "\n",
    "# 컬럼 위치 변경 \n",
    "df_copy = df[:]\n",
    "\n",
    "cols = ['name'] + [col for col in df.columns if col != 'name']\n",
    "df_copy = df_copy[cols]\n",
    "\n",
    "df_copy\n",
    "\n",
    "\n",
    "# 열 순서를 인덱스로 재정의\n",
    "# columns = list(df.columns)\n",
    "# columns[0], columns[2] = columns[2], columns[0]  # 첫 번째와 세 번째 열 교환\n",
    "# df = df[columns]\n",
    "# print(df)\n",
    "\n",
    "# 'name' 열을 맨 앞으로 이동\n",
    "# col_to_move = df.pop('name')  # 'C' 열 제거 및 값 반환\n",
    "# df.insert(0, 'name', col_to_move)  # 맨 앞(0번째 위치)에 'name' 열 삽입\n",
    "# print(df)"
   ]
  },
  {
   "cell_type": "code",
   "execution_count": null,
   "id": "e1dd7601-3ae4-4eac-978f-00a0e35bf084",
   "metadata": {},
   "outputs": [],
   "source": [
    "## 정규화"
   ]
  },
  {
   "cell_type": "markdown",
   "id": "1d3f71bb-86ce-4d69-b60d-c82a4fc3059f",
   "metadata": {},
   "source": [
    "각 열의 데이터 범위를 동일한 크기 기준의 비율로 나타내는 방법\n",
    "\n",
    "1 ~ -1, 0 ~ 1 \n",
    "\n",
    "A\n",
    "1\n",
    "10\n",
    "100\n",
    "1000 => 1\n",
    "\n",
    "B\n",
    "1\n",
    "2\n",
    "3\n",
    "4\n",
    "5 => 1\n",
    "\n",
    "열의 최대값으로 나누어준다\n",
    "1    => 0.001\n",
    "10   => 0.01\n",
    "100  => 0.1\n",
    "1000 => 1\n",
    "\n",
    "\n",
    "\n"
   ]
  },
  {
   "cell_type": "code",
   "execution_count": 352,
   "id": "a65a0511-ae2b-4f31-95ae-bbba118acce8",
   "metadata": {},
   "outputs": [
    {
     "name": "stdout",
     "output_type": "stream",
     "text": [
      "0    0.0001\n",
      "1    0.0010\n",
      "2    0.0100\n",
      "3    0.1000\n",
      "4    1.0000\n",
      "Name: A, dtype: float64\n",
      "0    0.2\n",
      "1    0.4\n",
      "2    0.6\n",
      "3    0.8\n",
      "4    1.0\n",
      "Name: B, dtype: float64\n"
     ]
    }
   ],
   "source": [
    "tmp_data = {\n",
    "    \"A\":[1,10,100,1000,10000],\n",
    "    \"B\":[1,2,3,4,5],\n",
    "}\n",
    "\n",
    "tmp_df = pd.DataFrame(tmp_data)\n",
    "\n",
    "a = tmp_df.A / tmp_df.A.max()\n",
    "b = tmp_df['B'] / tmp_df['B'].max()\n",
    "\n",
    "print(a)\n",
    "print(b)\n"
   ]
  },
  {
   "cell_type": "code",
   "execution_count": 340,
   "id": "c6703cec-9074-4003-afd1-53a90f59c1a9",
   "metadata": {},
   "outputs": [
    {
     "data": {
      "text/plain": [
       "0      0.565217\n",
       "1      0.717391\n",
       "2      0.652174\n",
       "3      0.652174\n",
       "4      0.608696\n",
       "         ...   \n",
       "393    0.373913\n",
       "394    0.226087\n",
       "395    0.365217\n",
       "396    0.343478\n",
       "397    0.356522\n",
       "Name: horsepower, Length: 392, dtype: float64"
      ]
     },
     "execution_count": 340,
     "metadata": {},
     "output_type": "execute_result"
    }
   ],
   "source": [
    "df['horsepower'] / df['horsepower'].max()"
   ]
  },
  {
   "cell_type": "code",
   "execution_count": null,
   "id": "3eb2caa0-8d87-49e8-a2cf-ccf6bea72dba",
   "metadata": {},
   "outputs": [],
   "source": []
  },
  {
   "cell_type": "code",
   "execution_count": null,
   "id": "c6d11297-6c10-44c3-b92c-29e61e0eff37",
   "metadata": {},
   "outputs": [],
   "source": []
  }
 ],
 "metadata": {
  "kernelspec": {
   "display_name": "Python [conda env:base] *",
   "language": "python",
   "name": "conda-base-py"
  },
  "language_info": {
   "codemirror_mode": {
    "name": "ipython",
    "version": 3
   },
   "file_extension": ".py",
   "mimetype": "text/x-python",
   "name": "python",
   "nbconvert_exporter": "python",
   "pygments_lexer": "ipython3",
   "version": "3.12.7"
  }
 },
 "nbformat": 4,
 "nbformat_minor": 5
}
