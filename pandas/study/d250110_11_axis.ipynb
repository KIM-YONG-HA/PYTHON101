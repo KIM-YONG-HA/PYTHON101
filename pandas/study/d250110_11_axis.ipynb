{
 "cells": [
  {
   "cell_type": "code",
   "execution_count": null,
   "id": "b369bb8e-0f67-4117-bb11-59240f8ae9bc",
   "metadata": {},
   "outputs": [],
   "source": [
    "\n",
    "\n",
    "1차원\n",
    "2차원\n",
    "3차원 "
   ]
  },
  {
   "cell_type": "markdown",
   "id": "16caea29-dca6-464b-8219-0e6ba3697050",
   "metadata": {},
   "source": [
    "## DataFrame.sum()"
   ]
  },
  {
   "cell_type": "markdown",
   "id": "845887e5-f9e2-4af7-abe7-b57ba3251519",
   "metadata": {},
   "source": [
    "df.sum(\n",
    "    axis: 'Axis | None' = 0,\n",
    "    skipna: 'bool' = True,\n",
    "    numeric_only: 'bool' = False,\n",
    "    min_count: 'int' = 0,\n",
    "    **kwargs,\n",
    ")"
   ]
  },
  {
   "cell_type": "code",
   "execution_count": null,
   "id": "6822c447-7f96-4a6c-ab48-f09c5bab3464",
   "metadata": {},
   "outputs": [],
   "source": []
  },
  {
   "cell_type": "code",
   "execution_count": null,
   "id": "0ea35949-b83c-4ebc-881a-4101fb843e75",
   "metadata": {},
   "outputs": [],
   "source": []
  },
  {
   "cell_type": "code",
   "execution_count": null,
   "id": "8c564ddd-69a1-4849-aea7-bc5f5eb676aa",
   "metadata": {},
   "outputs": [],
   "source": []
  },
  {
   "cell_type": "markdown",
   "id": "2d7df35c-bec3-4e98-b28c-14870da92c7f",
   "metadata": {},
   "source": [
    "### 연산과정에서 axis 의미\n",
    "\n",
    "df.sum(axis=0) : 행이 늘어나는 방향(행을 따라)\n",
    "df.sum(axis=1) : 열이 늘어나는 방향(열을 따라)\n",
    "\n",
    "※ 조회, 삭제 시 axis옵션과 방향이 다르다.\n"
   ]
  },
  {
   "cell_type": "code",
   "execution_count": 1,
   "id": "8e28d271-1a11-474a-9c08-d340e219b4e0",
   "metadata": {},
   "outputs": [],
   "source": [
    "import pandas as pd"
   ]
  },
  {
   "cell_type": "code",
   "execution_count": 33,
   "id": "d53ef542-dd7e-46d2-975d-bd742181faa5",
   "metadata": {},
   "outputs": [
    {
     "name": "stdout",
     "output_type": "stream",
     "text": [
      "[df 출력]\n",
      "      col1  col2  col3\n",
      "row1     1     2     3\n",
      "row2     4     5     6\n",
      "row3     7     8     9\n",
      "\n",
      "[df.sum(axis=0)] : 행이 늘어나는 방향(행을 따라)\n",
      "col1    12\n",
      "col2    15\n",
      "col3    18\n",
      "dtype: int64\n",
      "\n",
      "[df.sum(axis=1)] : 열이 늘어나는 방향(열을 따라\n",
      "row1     6\n",
      "row2    15\n",
      "row3    24\n",
      "dtype: int64\n",
      "\n"
     ]
    }
   ],
   "source": [
    "arr = [\n",
    "    [1,2,3],\n",
    "    [4,5,6],\n",
    "    [7,8,9],\n",
    "]\n",
    "\n",
    "df = pd.DataFrame(arr, index=['row1', 'row2', 'row3'], columns=['col1', 'col2', 'col3'])\n",
    "print(\"[df 출력]\")\n",
    "print(df, end='\\n\\n')\n",
    "\n",
    "print(\"[df.sum(axis=0)] : 행이 늘어나는 방향(행을 따라)\")\n",
    "print(df.sum(axis=0), end='\\n\\n')\n",
    "\n",
    "print(\"[df.sum(axis=1)] : 열이 늘어나는 방향(열을 따라)\")\n",
    "print(df.sum(axis=1), end='\\n\\n')\n"
   ]
  }
 ],
 "metadata": {
  "kernelspec": {
   "display_name": "Python [conda env:base] *",
   "language": "python",
   "name": "conda-base-py"
  },
  "language_info": {
   "codemirror_mode": {
    "name": "ipython",
    "version": 3
   },
   "file_extension": ".py",
   "mimetype": "text/x-python",
   "name": "python",
   "nbconvert_exporter": "python",
   "pygments_lexer": "ipython3",
   "version": "3.12.7"
  }
 },
 "nbformat": 4,
 "nbformat_minor": 5
}
