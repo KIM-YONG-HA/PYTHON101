{
 "cells": [
  {
   "cell_type": "code",
   "execution_count": null,
   "id": "df303967-cb6c-4ee6-8cef-dde1e0749acb",
   "metadata": {},
   "outputs": [],
   "source": []
  },
  {
   "cell_type": "code",
   "execution_count": 2,
   "id": "76e20ac5-6487-46ce-81ce-da07cd7dc987",
   "metadata": {},
   "outputs": [],
   "source": [
    "import pandas as pd\n",
    "import seaborn as sns"
   ]
  },
  {
   "cell_type": "code",
   "execution_count": 58,
   "id": "2eb239a2-0560-4b74-9311-803bf8dc2b64",
   "metadata": {},
   "outputs": [],
   "source": [
    "#  1\n",
    "titanic = sns.load_dataset('titanic')\n",
    "df = titanic.loc[:, ['survived', 'pclass', 'sex', 'age', 'fare']]\n",
    "\n",
    "#  2\n",
    "df_group = df.groupby(['pclass'])"
   ]
  },
  {
   "cell_type": "code",
   "execution_count": 288,
   "id": "05a53c5d-1390-4278-b8b9-87c4ba8ee7b2",
   "metadata": {},
   "outputs": [],
   "source": [
    "#  3\n",
    "# def survive(x):\n",
    "    \n",
    "#     #  생존\n",
    "#     alive = x['survived'].sum() / len(x['survived'])\n",
    "#     dead = ((len(x['survived']) - x['survived'].sum()) / len(x['survived']))\n",
    "\n",
    "#     return pd.concat([dead, alive])\n",
    "        \n",
    "res = df_group[['pclass', 'survived']].apply(lambda x : x.survived.value_counts() / x.pclass.count())\n"
   ]
  },
  {
   "cell_type": "code",
   "execution_count": 290,
   "id": "74206be3-9695-4e6a-9a91-e0ecbe7fc31a",
   "metadata": {},
   "outputs": [],
   "source": [
    "sta = res.unstack()"
   ]
  },
  {
   "cell_type": "code",
   "execution_count": 292,
   "id": "a2a80fa1-a00d-450d-addb-439e8204613e",
   "metadata": {},
   "outputs": [],
   "source": [
    "sta.columns = ['사망', '생존']"
   ]
  },
  {
   "cell_type": "code",
   "execution_count": 294,
   "id": "c0e64fd8-254e-49b6-8a82-962b3f759ead",
   "metadata": {},
   "outputs": [
    {
     "data": {
      "text/html": [
       "<div>\n",
       "<style scoped>\n",
       "    .dataframe tbody tr th:only-of-type {\n",
       "        vertical-align: middle;\n",
       "    }\n",
       "\n",
       "    .dataframe tbody tr th {\n",
       "        vertical-align: top;\n",
       "    }\n",
       "\n",
       "    .dataframe thead th {\n",
       "        text-align: right;\n",
       "    }\n",
       "</style>\n",
       "<table border=\"1\" class=\"dataframe\">\n",
       "  <thead>\n",
       "    <tr style=\"text-align: right;\">\n",
       "      <th></th>\n",
       "      <th>사망</th>\n",
       "      <th>생존</th>\n",
       "    </tr>\n",
       "    <tr>\n",
       "      <th>pclass</th>\n",
       "      <th></th>\n",
       "      <th></th>\n",
       "    </tr>\n",
       "  </thead>\n",
       "  <tbody>\n",
       "    <tr>\n",
       "      <th>1</th>\n",
       "      <td>0.370370</td>\n",
       "      <td>0.629630</td>\n",
       "    </tr>\n",
       "    <tr>\n",
       "      <th>2</th>\n",
       "      <td>0.527174</td>\n",
       "      <td>0.472826</td>\n",
       "    </tr>\n",
       "    <tr>\n",
       "      <th>3</th>\n",
       "      <td>0.757637</td>\n",
       "      <td>0.242363</td>\n",
       "    </tr>\n",
       "  </tbody>\n",
       "</table>\n",
       "</div>"
      ],
      "text/plain": [
       "              사망        생존\n",
       "pclass                    \n",
       "1       0.370370  0.629630\n",
       "2       0.527174  0.472826\n",
       "3       0.757637  0.242363"
      ]
     },
     "execution_count": 294,
     "metadata": {},
     "output_type": "execute_result"
    }
   ],
   "source": [
    "sta"
   ]
  },
  {
   "cell_type": "code",
   "execution_count": null,
   "id": "7d12c2b3-03a2-477b-9c0f-245831c411d9",
   "metadata": {},
   "outputs": [],
   "source": []
  },
  {
   "cell_type": "code",
   "execution_count": 16,
   "id": "755cde62-92dc-4dd8-8754-8d38e5eb7939",
   "metadata": {},
   "outputs": [
    {
     "data": {
      "text/html": [
       "<div>\n",
       "<style scoped>\n",
       "    .dataframe tbody tr th:only-of-type {\n",
       "        vertical-align: middle;\n",
       "    }\n",
       "\n",
       "    .dataframe tbody tr th {\n",
       "        vertical-align: top;\n",
       "    }\n",
       "\n",
       "    .dataframe thead th {\n",
       "        text-align: right;\n",
       "    }\n",
       "</style>\n",
       "<table border=\"1\" class=\"dataframe\">\n",
       "  <thead>\n",
       "    <tr style=\"text-align: right;\">\n",
       "      <th></th>\n",
       "      <th>mpg</th>\n",
       "      <th>cylinders</th>\n",
       "      <th>displayment</th>\n",
       "      <th>horsepower</th>\n",
       "      <th>weight</th>\n",
       "      <th>acceleration</th>\n",
       "      <th>model year</th>\n",
       "      <th>origin</th>\n",
       "      <th>name</th>\n",
       "    </tr>\n",
       "  </thead>\n",
       "  <tbody>\n",
       "    <tr>\n",
       "      <th>0</th>\n",
       "      <td>18.0</td>\n",
       "      <td>8</td>\n",
       "      <td>307.0</td>\n",
       "      <td>130.0</td>\n",
       "      <td>3504.0</td>\n",
       "      <td>12.0</td>\n",
       "      <td>70</td>\n",
       "      <td>1</td>\n",
       "      <td>chevrolet chevelle malibu</td>\n",
       "    </tr>\n",
       "    <tr>\n",
       "      <th>1</th>\n",
       "      <td>15.0</td>\n",
       "      <td>8</td>\n",
       "      <td>350.0</td>\n",
       "      <td>165.0</td>\n",
       "      <td>3693.0</td>\n",
       "      <td>11.5</td>\n",
       "      <td>70</td>\n",
       "      <td>1</td>\n",
       "      <td>buick skylark 320</td>\n",
       "    </tr>\n",
       "    <tr>\n",
       "      <th>2</th>\n",
       "      <td>18.0</td>\n",
       "      <td>8</td>\n",
       "      <td>318.0</td>\n",
       "      <td>150.0</td>\n",
       "      <td>3436.0</td>\n",
       "      <td>11.0</td>\n",
       "      <td>70</td>\n",
       "      <td>1</td>\n",
       "      <td>plymouth satellite</td>\n",
       "    </tr>\n",
       "    <tr>\n",
       "      <th>3</th>\n",
       "      <td>16.0</td>\n",
       "      <td>8</td>\n",
       "      <td>304.0</td>\n",
       "      <td>150.0</td>\n",
       "      <td>3433.0</td>\n",
       "      <td>12.0</td>\n",
       "      <td>70</td>\n",
       "      <td>1</td>\n",
       "      <td>amc rebel sst</td>\n",
       "    </tr>\n",
       "    <tr>\n",
       "      <th>4</th>\n",
       "      <td>17.0</td>\n",
       "      <td>8</td>\n",
       "      <td>302.0</td>\n",
       "      <td>140.0</td>\n",
       "      <td>3449.0</td>\n",
       "      <td>10.5</td>\n",
       "      <td>70</td>\n",
       "      <td>1</td>\n",
       "      <td>ford torino</td>\n",
       "    </tr>\n",
       "  </tbody>\n",
       "</table>\n",
       "</div>"
      ],
      "text/plain": [
       "    mpg  cylinders  displayment horsepower  weight  acceleration  model year  \\\n",
       "0  18.0          8        307.0      130.0  3504.0          12.0          70   \n",
       "1  15.0          8        350.0      165.0  3693.0          11.5          70   \n",
       "2  18.0          8        318.0      150.0  3436.0          11.0          70   \n",
       "3  16.0          8        304.0      150.0  3433.0          12.0          70   \n",
       "4  17.0          8        302.0      140.0  3449.0          10.5          70   \n",
       "\n",
       "   origin                       name  \n",
       "0       1  chevrolet chevelle malibu  \n",
       "1       1          buick skylark 320  \n",
       "2       1         plymouth satellite  \n",
       "3       1              amc rebel sst  \n",
       "4       1                ford torino  "
      ]
     },
     "execution_count": 16,
     "metadata": {},
     "output_type": "execute_result"
    }
   ],
   "source": [
    "import pandas as pd\n",
    "import seaborn as sns\n",
    "\n",
    "file_path = 'data/auto-mpg.csv'\n",
    "columns = ['mpg', 'cylinders', 'displayment', 'horsepower', 'weight', 'acceleration', 'model year', 'origin', 'name']\n",
    "df = pd.read_csv(file_path, names=columns)\n",
    "\n",
    "df.head()"
   ]
  },
  {
   "cell_type": "code",
   "execution_count": 18,
   "id": "309ba442-c930-423d-9be1-024368f446bc",
   "metadata": {},
   "outputs": [
    {
     "data": {
      "text/plain": [
       "<Axes: xlabel='weight', ylabel='mpg'>"
      ]
     },
     "execution_count": 18,
     "metadata": {},
     "output_type": "execute_result"
    },
    {
     "data": {
      "image/png": "[encoded data removed]",
      "text/plain": [
       "<Figure size 640x480 with 1 Axes>"
      ]
     },
     "metadata": {},
     "output_type": "display_data"
    }
   ],
   "source": [
    "df.plot(kind='scatter', x='weight', y='mpg')"
   ]
  },
  {
   "cell_type": "code",
   "execution_count": 20,
   "id": "1730641a-bbd5-499e-b8a8-0aba9d5cd5c4",
   "metadata": {},
   "outputs": [
    {
     "data": {
      "text/plain": [
       "<Axes: xlabel='weight', ylabel='mpg'>"
      ]
     },
     "execution_count": 20,
     "metadata": {},
     "output_type": "execute_result"
    },
    {
     "data": {
      "image/png": "[encoded data removed]",
      "text/plain": [
       "<Figure size 640x480 with 1 Axes>"
      ]
     },
     "metadata": {},
     "output_type": "display_data"
    }
   ],
   "source": [
    "sns.scatterplot(x='weight', y='mpg', data=df)"
   ]
  },
  {
   "cell_type": "code",
   "execution_count": null,
   "id": "82587230-c33b-4b76-becf-032711b5adf1",
   "metadata": {},
   "outputs": [],
   "source": []
  },
  {
   "cell_type": "code",
   "execution_count": 22,
   "id": "8b1a9c4d-3c2f-4f57-9540-c4f6c654d829",
   "metadata": {},
   "outputs": [
    {
     "data": {
      "text/plain": [
       "'12345'"
      ]
     },
     "execution_count": 22,
     "metadata": {},
     "output_type": "execute_result"
    }
   ],
   "source": [
    "a = \"1,2,3,4,5\"\n",
    "a.replace(\",\",\"\")"
   ]
  },
  {
   "cell_type": "code",
   "execution_count": 80,
   "id": "9e543548-fb25-4062-a590-c24c7837227b",
   "metadata": {},
   "outputs": [
    {
     "data": {
      "text/plain": [
       "'12345'"
      ]
     },
     "execution_count": 80,
     "metadata": {},
     "output_type": "execute_result"
    }
   ],
   "source": [
    "pat = re.compile(r\"[^0-9]\")\n",
    "match = re.sub(pat, '', a)\n",
    "match"
   ]
  },
  {
   "cell_type": "code",
   "execution_count": 82,
   "id": "166b4ccb-aa85-40b9-b8ba-0e18682daeee",
   "metadata": {},
   "outputs": [
    {
     "data": {
      "text/plain": [
       "'12345'"
      ]
     },
     "execution_count": 82,
     "metadata": {},
     "output_type": "execute_result"
    }
   ],
   "source": [
    "match = re.sub(r\"[^0-9]\", '', a)\n",
    "match"
   ]
  },
  {
   "cell_type": "code",
   "execution_count": null,
   "id": "c517adc1-3771-47db-aaa9-7c73ea890ae9",
   "metadata": {},
   "outputs": [],
   "source": []
  },
  {
   "cell_type": "code",
   "execution_count": 120,
   "id": "5fde87d3-5f70-499c-b39d-52bc798b5bbc",
   "metadata": {},
   "outputs": [
    {
     "name": "stdout",
     "output_type": "stream",
     "text": [
      "홍길동\n",
      "이길동\n",
      "박길동\n"
     ]
    }
   ],
   "source": [
    "import re\n",
    "\n",
    "b = '''\n",
    "    홍길동: 1234, Gil-dong Hong,\n",
    "    이길동: 3914, Gil-dong Lee,\n",
    "    박길동: 0000, Gil-dong Park,\n",
    "    '''\n",
    "\n",
    "pat = re.compile(r\".+:\")\n",
    "match = pat.findall(b)\n",
    "\n",
    "for name in match:\n",
    "    print(name.replace(\":\", \"\").strip())"
   ]
  },
  {
   "cell_type": "code",
   "execution_count": 130,
   "id": "9eca1fa5-6cc6-49e6-a914-bb199529e361",
   "metadata": {},
   "outputs": [
    {
     "name": "stdout",
     "output_type": "stream",
     "text": [
      "홍길동\n",
      "이길동\n",
      "박길동\n"
     ]
    }
   ],
   "source": [
    "b = '''\n",
    "    홍길동: 1234, Gil-dong Hong,\n",
    "    이길동: 3914, Gil-dong Lee,\n",
    "    박길동: 0000, Gil-dong Park,\n",
    "    '''\n",
    "b = b.strip()\n",
    "b = b.split(\"\\n\")\n",
    "\n",
    "for i in b:\n",
    "    print(i.split(\":\")[0].strip())\n",
    "\n",
    "    "
   ]
  },
  {
   "cell_type": "code",
   "execution_count": 218,
   "id": "5f977c4b-0e3d-4239-83d3-24fbc9c47b09",
   "metadata": {},
   "outputs": [],
   "source": [
    "c = '''\n",
    "\t\t<script>\n",
    "\t\tvar g_ssc = 'news.v3_media' || null;\n",
    "\t\tvar bSupportedIntersectionObserver = \"IntersectionObserver\" in window;\n",
    "\t\t</script>\n",
    "\t\t<meta charset=\"utf-8\">\n",
    "<meta name=\"viewport\" content=\"width=device-width,initial-scale=1.0,maximum-scale=1.0,minimum-scale=1.0,user-scalable=no,target-densitydpi=medium-dpi\"/>\n",
    "\t<link rel=\"stylesheet\" type=\"text/css\" href=\"https://ssl.pstatic.net/static.news/mnews/resources/20250105_234507/css/generated/newshome.css\" />\n",
    "\t\t\t<link rel=\"shortcut icon\" type=\"image/x-icon\" href=\"https://mimgnews.pstatic.net/image/news/m/2023/favicon/favicon.ico\" />\n",
    "'''"
   ]
  },
  {
   "cell_type": "code",
   "execution_count": 220,
   "id": "14bf015c-944b-466d-b317-a3cd664d23a1",
   "metadata": {},
   "outputs": [
    {
     "data": {
      "text/plain": [
       "354"
      ]
     },
     "execution_count": 220,
     "metadata": {},
     "output_type": "execute_result"
    }
   ],
   "source": [
    "c.find('href=\"')"
   ]
  },
  {
   "cell_type": "code",
   "execution_count": 222,
   "id": "af5f557b-bf20-4c09-a609-ec2b5a7ad64d",
   "metadata": {},
   "outputs": [
    {
     "data": {
      "text/plain": [
       "'href=\"https://ssl.pstatic.net/static.news/mnews/resources/20250105_234507/css/generated/newshome.css\" />\\n\\t\\t\\t<link rel=\"shortcut icon\" type=\"image/x-icon\" href=\"https://mimgnews.pstatic.net/image/news/m/2023/favicon/favicon.ico\" />\\n'"
      ]
     },
     "execution_count": 222,
     "metadata": {},
     "output_type": "execute_result"
    }
   ],
   "source": [
    "c = c[354:]\n",
    "c"
   ]
  },
  {
   "cell_type": "code",
   "execution_count": 224,
   "id": "16b424ed-60f6-4112-b8b0-7f8db7ed1689",
   "metadata": {},
   "outputs": [
    {
     "data": {
      "text/plain": [
       "['href=\"https://ssl.pstatic.net/static.news/mnews/resources/20250105_234507/css/generated/newshome.css\" ',\n",
       " '\\n\\t\\t\\t<link rel=\"shortcut icon\" type=\"image/x-icon\" href=\"https://mimgnews.pstatic.net/image/news/m/2023/favicon/favicon.ico\" ',\n",
       " '\\n']"
      ]
     },
     "execution_count": 224,
     "metadata": {},
     "output_type": "execute_result"
    }
   ],
   "source": [
    "c = c.split(\"/>\")\n",
    "c"
   ]
  },
  {
   "cell_type": "code",
   "execution_count": 226,
   "id": "abd43c7f-d426-4092-b5ba-c140193701c8",
   "metadata": {},
   "outputs": [
    {
     "data": {
      "text/plain": [
       "'href=\"https://ssl.pstatic.net/static.news/mnews/resources/20250105_234507/css/generated/newshome.css\" '"
      ]
     },
     "execution_count": 226,
     "metadata": {},
     "output_type": "execute_result"
    }
   ],
   "source": [
    "c[0]"
   ]
  },
  {
   "cell_type": "code",
   "execution_count": 234,
   "id": "2b6e69fa-aa11-4cfb-8d45-5d78df218346",
   "metadata": {},
   "outputs": [],
   "source": [
    "url = c[0].split('\" ')\n"
   ]
  },
  {
   "cell_type": "code",
   "execution_count": 236,
   "id": "1952cead-b8f2-4e04-bac4-67ab003b008c",
   "metadata": {},
   "outputs": [],
   "source": [
    "url[0].split('\" ')\n",
    "url = url[0].split('href=\"')\n",
    "last = url[1]"
   ]
  },
  {
   "cell_type": "code",
   "execution_count": 242,
   "id": "ab580699-fc5b-44a0-9072-c57300fe661c",
   "metadata": {},
   "outputs": [
    {
     "data": {
      "text/plain": [
       "'https://ssl.pstatic.net/static.news/mnews/resources/20250105_234507/css/generated/newshome.css'"
      ]
     },
     "execution_count": 242,
     "metadata": {},
     "output_type": "execute_result"
    }
   ],
   "source": [
    "last.replace(\"'\", \"\")"
   ]
  },
  {
   "cell_type": "code",
   "execution_count": null,
   "id": "097b48ca-cff2-43f4-a8f2-2396d5d6b1d8",
   "metadata": {},
   "outputs": [],
   "source": []
  },
  {
   "cell_type": "markdown",
   "id": "3aea208f-57c2-464d-87f0-b88fb5065db8",
   "metadata": {},
   "source": [
    "## 영화 장르별 개수 출력"
   ]
  },
  {
   "cell_type": "code",
   "execution_count": 366,
   "id": "ba3d30f8-4d1c-48dd-97a3-23113b8dbe62",
   "metadata": {},
   "outputs": [
    {
     "name": "stdout",
     "output_type": "stream",
     "text": [
      "장르 종류 : \n",
      " ['Adventure', 'Animation', 'Children', 'Comedy', 'Fantasy', 'Romance', 'Drama', 'Action', 'Crime', 'Thriller', 'Horror', 'Mystery', 'Sci-Fi', 'War', 'Musical', 'Documentary', 'IMAX', 'Western', 'Film-Noir']\n",
      "장르 개수 : 19\n"
     ]
    }
   ],
   "source": [
    "import pandas as pd \n",
    "\n",
    "movies = pd.read_csv('data/movies.csv')\n",
    "cate_list = []\n",
    "\n",
    "#cate['genres'].apply(lambda x: cate_list = [ g for g in x.split(\"|\")] )\n",
    "\n",
    "\n",
    "def insertCategory(x):\n",
    "    \n",
    "    x_list = x.split(\"|\") \n",
    "    for x in x_list:\n",
    "        if x not in cate_list:\n",
    "            cate_list.append(x)\n",
    "            \n",
    "\n",
    "movies['genres'].apply(insertCategory)\n",
    "\n",
    "cate_list.pop()\n",
    "print(f\"장르 종류 : \\n\", cate_list)\n",
    "\n",
    "print(f\"장르 개수 : {len(cate_list)}\")\n"
   ]
  },
  {
   "cell_type": "code",
   "execution_count": 378,
   "id": "fb57a9bc-7f59-415e-a0e4-4bb2b6950345",
   "metadata": {},
   "outputs": [
    {
     "data": {
      "text/plain": [
       "20"
      ]
     },
     "execution_count": 378,
     "metadata": {},
     "output_type": "execute_result"
    }
   ],
   "source": []
  },
  {
   "cell_type": "code",
   "execution_count": null,
   "id": "bac251f7-d10b-4d01-a000-1cfaf6d704ae",
   "metadata": {},
   "outputs": [],
   "source": []
  },
  {
   "cell_type": "code",
   "execution_count": null,
   "id": "a8a2b380-eca1-4254-b0ce-db5a322039c0",
   "metadata": {},
   "outputs": [],
   "source": []
  },
  {
   "cell_type": "code",
   "execution_count": 346,
   "id": "571f5667-e788-4f5a-8e7b-0450fbd95ee9",
   "metadata": {},
   "outputs": [
    {
     "data": {
      "text/html": [
       "<div>\n",
       "<style scoped>\n",
       "    .dataframe tbody tr th:only-of-type {\n",
       "        vertical-align: middle;\n",
       "    }\n",
       "\n",
       "    .dataframe tbody tr th {\n",
       "        vertical-align: top;\n",
       "    }\n",
       "\n",
       "    .dataframe thead th {\n",
       "        text-align: right;\n",
       "    }\n",
       "</style>\n",
       "<table border=\"1\" class=\"dataframe\">\n",
       "  <thead>\n",
       "    <tr style=\"text-align: right;\">\n",
       "      <th></th>\n",
       "      <th>movieId</th>\n",
       "      <th>title</th>\n",
       "      <th>genres</th>\n",
       "    </tr>\n",
       "  </thead>\n",
       "  <tbody>\n",
       "    <tr>\n",
       "      <th>0</th>\n",
       "      <td>1</td>\n",
       "      <td>Toy Story (1995)</td>\n",
       "      <td>Adventure|Animation|Children|Comedy|Fantasy</td>\n",
       "    </tr>\n",
       "    <tr>\n",
       "      <th>1</th>\n",
       "      <td>2</td>\n",
       "      <td>Jumanji (1995)</td>\n",
       "      <td>Adventure|Children|Fantasy</td>\n",
       "    </tr>\n",
       "    <tr>\n",
       "      <th>2</th>\n",
       "      <td>3</td>\n",
       "      <td>Grumpier Old Men (1995)</td>\n",
       "      <td>Comedy|Romance</td>\n",
       "    </tr>\n",
       "    <tr>\n",
       "      <th>3</th>\n",
       "      <td>4</td>\n",
       "      <td>Waiting to Exhale (1995)</td>\n",
       "      <td>Comedy|Drama|Romance</td>\n",
       "    </tr>\n",
       "    <tr>\n",
       "      <th>4</th>\n",
       "      <td>5</td>\n",
       "      <td>Father of the Bride Part II (1995)</td>\n",
       "      <td>Comedy</td>\n",
       "    </tr>\n",
       "  </tbody>\n",
       "</table>\n",
       "</div>"
      ],
      "text/plain": [
       "   movieId                               title  \\\n",
       "0        1                    Toy Story (1995)   \n",
       "1        2                      Jumanji (1995)   \n",
       "2        3             Grumpier Old Men (1995)   \n",
       "3        4            Waiting to Exhale (1995)   \n",
       "4        5  Father of the Bride Part II (1995)   \n",
       "\n",
       "                                        genres  \n",
       "0  Adventure|Animation|Children|Comedy|Fantasy  \n",
       "1                   Adventure|Children|Fantasy  \n",
       "2                               Comedy|Romance  \n",
       "3                         Comedy|Drama|Romance  \n",
       "4                                       Comedy  "
      ]
     },
     "execution_count": 346,
     "metadata": {},
     "output_type": "execute_result"
    }
   ],
   "source": [
    "movies.head()"
   ]
  },
  {
   "cell_type": "code",
   "execution_count": 368,
   "id": "61e20b81-5fb6-4f0e-9837-ee11dc320fbc",
   "metadata": {},
   "outputs": [
    {
     "data": {
      "text/plain": [
       "<NumpyExtensionArray>\n",
       "['movieId', 'title', 'genres']\n",
       "Length: 3, dtype: object"
      ]
     },
     "execution_count": 368,
     "metadata": {},
     "output_type": "execute_result"
    }
   ],
   "source": [
    "#movies.columns = movies.columns +  str(cate_list)\n",
    "movies.columns.array\n"
   ]
  },
  {
   "cell_type": "code",
   "execution_count": 370,
   "id": "494cc14a-cd04-4134-8d48-ab1db86628e9",
   "metadata": {},
   "outputs": [
    {
     "data": {
      "text/html": [
       "<div>\n",
       "<style scoped>\n",
       "    .dataframe tbody tr th:only-of-type {\n",
       "        vertical-align: middle;\n",
       "    }\n",
       "\n",
       "    .dataframe tbody tr th {\n",
       "        vertical-align: top;\n",
       "    }\n",
       "\n",
       "    .dataframe thead th {\n",
       "        text-align: right;\n",
       "    }\n",
       "</style>\n",
       "<table border=\"1\" class=\"dataframe\">\n",
       "  <thead>\n",
       "    <tr style=\"text-align: right;\">\n",
       "      <th></th>\n",
       "      <th>movieId</th>\n",
       "      <th>title</th>\n",
       "      <th>genres</th>\n",
       "    </tr>\n",
       "  </thead>\n",
       "  <tbody>\n",
       "    <tr>\n",
       "      <th>0</th>\n",
       "      <td>1</td>\n",
       "      <td>Toy Story (1995)</td>\n",
       "      <td>Adventure|Animation|Children|Comedy|Fantasy</td>\n",
       "    </tr>\n",
       "    <tr>\n",
       "      <th>1</th>\n",
       "      <td>2</td>\n",
       "      <td>Jumanji (1995)</td>\n",
       "      <td>Adventure|Children|Fantasy</td>\n",
       "    </tr>\n",
       "    <tr>\n",
       "      <th>2</th>\n",
       "      <td>3</td>\n",
       "      <td>Grumpier Old Men (1995)</td>\n",
       "      <td>Comedy|Romance</td>\n",
       "    </tr>\n",
       "    <tr>\n",
       "      <th>3</th>\n",
       "      <td>4</td>\n",
       "      <td>Waiting to Exhale (1995)</td>\n",
       "      <td>Comedy|Drama|Romance</td>\n",
       "    </tr>\n",
       "    <tr>\n",
       "      <th>4</th>\n",
       "      <td>5</td>\n",
       "      <td>Father of the Bride Part II (1995)</td>\n",
       "      <td>Comedy</td>\n",
       "    </tr>\n",
       "  </tbody>\n",
       "</table>\n",
       "</div>"
      ],
      "text/plain": [
       "   movieId                               title  \\\n",
       "0        1                    Toy Story (1995)   \n",
       "1        2                      Jumanji (1995)   \n",
       "2        3             Grumpier Old Men (1995)   \n",
       "3        4            Waiting to Exhale (1995)   \n",
       "4        5  Father of the Bride Part II (1995)   \n",
       "\n",
       "                                        genres  \n",
       "0  Adventure|Animation|Children|Comedy|Fantasy  \n",
       "1                   Adventure|Children|Fantasy  \n",
       "2                               Comedy|Romance  \n",
       "3                         Comedy|Drama|Romance  \n",
       "4                                       Comedy  "
      ]
     },
     "execution_count": 370,
     "metadata": {},
     "output_type": "execute_result"
    }
   ],
   "source": [
    "movies.head()"
   ]
  },
  {
   "cell_type": "code",
   "execution_count": null,
   "id": "f699b58a-eedf-4330-9cc4-48f2b7fdf982",
   "metadata": {},
   "outputs": [],
   "source": []
  },
  {
   "cell_type": "code",
   "execution_count": 396,
   "id": "dbffb45f-fc9c-46e7-8094-97b948839abe",
   "metadata": {},
   "outputs": [
    {
     "data": {
      "text/html": [
       "<div>\n",
       "<style scoped>\n",
       "    .dataframe tbody tr th:only-of-type {\n",
       "        vertical-align: middle;\n",
       "    }\n",
       "\n",
       "    .dataframe tbody tr th {\n",
       "        vertical-align: top;\n",
       "    }\n",
       "\n",
       "    .dataframe thead th {\n",
       "        text-align: right;\n",
       "    }\n",
       "</style>\n",
       "<table border=\"1\" class=\"dataframe\">\n",
       "  <thead>\n",
       "    <tr style=\"text-align: right;\">\n",
       "      <th></th>\n",
       "      <th>genres</th>\n",
       "      <th>count</th>\n",
       "    </tr>\n",
       "  </thead>\n",
       "  <tbody>\n",
       "    <tr>\n",
       "      <th>0</th>\n",
       "      <td>Adventure</td>\n",
       "      <td>0</td>\n",
       "    </tr>\n",
       "    <tr>\n",
       "      <th>1</th>\n",
       "      <td>Animation</td>\n",
       "      <td>0</td>\n",
       "    </tr>\n",
       "    <tr>\n",
       "      <th>2</th>\n",
       "      <td>Children</td>\n",
       "      <td>0</td>\n",
       "    </tr>\n",
       "    <tr>\n",
       "      <th>3</th>\n",
       "      <td>Comedy</td>\n",
       "      <td>0</td>\n",
       "    </tr>\n",
       "    <tr>\n",
       "      <th>4</th>\n",
       "      <td>Fantasy</td>\n",
       "      <td>0</td>\n",
       "    </tr>\n",
       "    <tr>\n",
       "      <th>5</th>\n",
       "      <td>Romance</td>\n",
       "      <td>0</td>\n",
       "    </tr>\n",
       "    <tr>\n",
       "      <th>6</th>\n",
       "      <td>Drama</td>\n",
       "      <td>0</td>\n",
       "    </tr>\n",
       "    <tr>\n",
       "      <th>7</th>\n",
       "      <td>Action</td>\n",
       "      <td>0</td>\n",
       "    </tr>\n",
       "    <tr>\n",
       "      <th>8</th>\n",
       "      <td>Crime</td>\n",
       "      <td>0</td>\n",
       "    </tr>\n",
       "    <tr>\n",
       "      <th>9</th>\n",
       "      <td>Thriller</td>\n",
       "      <td>0</td>\n",
       "    </tr>\n",
       "    <tr>\n",
       "      <th>10</th>\n",
       "      <td>Horror</td>\n",
       "      <td>0</td>\n",
       "    </tr>\n",
       "    <tr>\n",
       "      <th>11</th>\n",
       "      <td>Mystery</td>\n",
       "      <td>0</td>\n",
       "    </tr>\n",
       "    <tr>\n",
       "      <th>12</th>\n",
       "      <td>Sci-Fi</td>\n",
       "      <td>0</td>\n",
       "    </tr>\n",
       "    <tr>\n",
       "      <th>13</th>\n",
       "      <td>War</td>\n",
       "      <td>0</td>\n",
       "    </tr>\n",
       "    <tr>\n",
       "      <th>14</th>\n",
       "      <td>Musical</td>\n",
       "      <td>0</td>\n",
       "    </tr>\n",
       "    <tr>\n",
       "      <th>15</th>\n",
       "      <td>Documentary</td>\n",
       "      <td>0</td>\n",
       "    </tr>\n",
       "    <tr>\n",
       "      <th>16</th>\n",
       "      <td>IMAX</td>\n",
       "      <td>0</td>\n",
       "    </tr>\n",
       "    <tr>\n",
       "      <th>17</th>\n",
       "      <td>Western</td>\n",
       "      <td>0</td>\n",
       "    </tr>\n",
       "    <tr>\n",
       "      <th>18</th>\n",
       "      <td>Film-Noir</td>\n",
       "      <td>0</td>\n",
       "    </tr>\n",
       "  </tbody>\n",
       "</table>\n",
       "</div>"
      ],
      "text/plain": [
       "         genres  count\n",
       "0     Adventure      0\n",
       "1     Animation      0\n",
       "2      Children      0\n",
       "3        Comedy      0\n",
       "4       Fantasy      0\n",
       "5       Romance      0\n",
       "6         Drama      0\n",
       "7        Action      0\n",
       "8         Crime      0\n",
       "9      Thriller      0\n",
       "10       Horror      0\n",
       "11      Mystery      0\n",
       "12       Sci-Fi      0\n",
       "13          War      0\n",
       "14      Musical      0\n",
       "15  Documentary      0\n",
       "16         IMAX      0\n",
       "17      Western      0\n",
       "18    Film-Noir      0"
      ]
     },
     "execution_count": 396,
     "metadata": {},
     "output_type": "execute_result"
    }
   ],
   "source": [
    "mo = pd.DataFrame(cate_list)\n",
    "mo.columns = ['genres']\n",
    "mo['count'] = 0\n",
    "\n",
    "#movies['genres'].apply(lambda x: )\n",
    "\n",
    "mo"
   ]
  },
  {
   "cell_type": "code",
   "execution_count": null,
   "id": "1e00949b-a093-4341-a9df-566db93daf66",
   "metadata": {},
   "outputs": [],
   "source": []
  },
  {
   "cell_type": "code",
   "execution_count": null,
   "id": "602113df-7725-4fb5-b4e1-8586b770eca3",
   "metadata": {},
   "outputs": [],
   "source": []
  },
  {
   "cell_type": "code",
   "execution_count": 440,
   "id": "8f25a613-4399-4c92-9528-8c1acfd89056",
   "metadata": {},
   "outputs": [
    {
     "name": "stdout",
     "output_type": "stream",
     "text": [
      "{'Adventure': 1263, 'Animation': 611, 'Children': 664, 'Comedy': 3756, 'Fantasy': 779, 'Romance': 1596, 'Drama': 4361, 'Action': 1828, 'Crime': 1199, 'Thriller': 1894, 'Horror': 978, 'Mystery': 573, 'Sci-Fi': 980, 'War': 382, 'Musical': 334, 'Documentary': 440, 'IMAX': 158, 'Western': 167, 'Film-Noir': 87, '(no genres listed)': 34}\n"
     ]
    }
   ],
   "source": [
    "import pandas as pd \n",
    "\n",
    "movies = pd.read_csv('data/movies.csv')\n",
    "\n",
    "result = []\n",
    "for i in movies['genres']:\n",
    "    result.extend(i.split(\"|\"))\n",
    "\n",
    "#result = set(result)\n",
    "#result = list(result)\n",
    "\n",
    "count = {}\n",
    "\n",
    "for i in result:\n",
    "    if count.get(i):\n",
    "        count[i] += 1\n",
    "    else:\n",
    "        count[i] = 1\n",
    "\n",
    "print(count)\n",
    "\n"
   ]
  },
  {
   "cell_type": "code",
   "execution_count": 464,
   "id": "853fd4c1-9505-4fd6-a266-dc76028df9b5",
   "metadata": {},
   "outputs": [
    {
     "name": "stdout",
     "output_type": "stream",
     "text": [
      "{'가': 2, '나': 1, '다': 1, '라': 1}\n"
     ]
    }
   ],
   "source": [
    "tmp = ['가', '나', '다', '라', '가']\n",
    "\n",
    "cnt = {}\n",
    "for key in tmp:\n",
    "    if cnt.get(key):\n",
    "        cnt[key] += 1\n",
    "    else:\n",
    "        cnt[key] = 1\n",
    "\n",
    "print(cnt)\n",
    "\n"
   ]
  },
  {
   "cell_type": "code",
   "execution_count": null,
   "id": "e4d82fd1-20bf-483f-920d-2fae78222c01",
   "metadata": {},
   "outputs": [],
   "source": []
  }
 ],
 "metadata": {
  "kernelspec": {
   "display_name": "Python [conda env:base] *",
   "language": "python",
   "name": "conda-base-py"
  },
  "language_info": {
   "codemirror_mode": {
    "name": "ipython",
    "version": 3
   },
   "file_extension": ".py",
   "mimetype": "text/x-python",
   "name": "python",
   "nbconvert_exporter": "python",
   "pygments_lexer": "ipython3",
   "version": "3.12.7"
  }
 },
 "nbformat": 4,
 "nbformat_minor": 5
}
