{
 "cells": [
  {
   "cell_type": "code",
   "execution_count": 1,
   "id": "26b16d01-d114-45d8-ac27-d614c0e72b02",
   "metadata": {},
   "outputs": [],
   "source": [
    "# 반정형데이터 분석 \n",
    "## 국토교통부_아파트 전월세 실거래가 자료"
   ]
  },
  {
   "cell_type": "code",
   "execution_count": 2,
   "id": "19e333f9-a0a5-49b1-9832-39bbfeb33c76",
   "metadata": {},
   "outputs": [],
   "source": [
    "#https://apis.data.go.kr/1613000/RTMSDataSvcAptRent/getRTMSDataSvcAptRent?serviceKey=서비스키&LAWD_CD=11110&DEAL_YMD=202407&pageNo=1&numOfRows=1\n",
    "\n",
    "#https://apis.data.go.kr/1613000/RTMSDataSvcAptRent/getRTMSDataSvcAptRent?serviceKey=%2FDspoCgDFk9q%2Bl7Cfmv%2FZuQTGXQna07VhEnnpVMfm7fwWTIOiC1fLQWrpKjQdWkv8kBxrWfOpyG2vqgSltntFA%3D%3D&LAWD_CD=11110&DEAL_YMD=201512\n",
    "\n",
    "#https://www.code.go.kr/stdcode/regCodeL.do"
   ]
  },
  {
   "cell_type": "code",
   "execution_count": 3,
   "id": "d2f4d556-2095-4604-b9cd-7779b35dc01e",
   "metadata": {},
   "outputs": [],
   "source": [
    "import numpy as np\n",
    "import pandas as pd\n",
    "import seaborn as sns\n",
    "import matplotlib.pyplot as plt\n",
    "from matplotlib import font_manager as fm\n",
    "from urllib.request import urlopen\n",
    "from bs4 import BeautifulSoup\n",
    "\n",
    "font_path = 'data/malgun.ttf'\n",
    "font_prop = fm.FontProperties(fname=font_path)\n",
    "plt.rcParams['font.family'] = font_prop.get_name()\n",
    "plt.rcParams['figure.figsize'] = (8, 4)\n"
   ]
  },
  {
   "cell_type": "code",
   "execution_count": 308,
   "id": "7fb6640d-5723-439c-a64c-84d6e6b9905b",
   "metadata": {},
   "outputs": [],
   "source": [
    "SERVICE_KEY = \"%2FDspoCgDFk9q%2Bl7Cfmv%2FZuQTGXQna07VhEnnpVMfm7fwWTIOiC1fLQWrpKjQdWkv8kBxrWfOpyG2vqgSltntFA%3D%3D\"\n",
    "\n",
    "def generateURL(gu_code, date, rows):\n",
    "    if gu_code != '': gu_code = \"&LAWD_CD=\" + str(gu_code)\n",
    "    if date != '': date = \"&DEAL_YMD=\" + str(date)\n",
    "    if rows != '': rows = \"&numOfRows=\" + str(rows)\n",
    "    \n",
    "    url = f\"http://apis.data.go.kr/1613000/RTMSDataSvcAptRent/getRTMSDataSvcAptRent?serviceKey={SERVICE_KEY}{gu_code}{date}{rows}\"\n",
    "    return url"
   ]
  },
  {
   "cell_type": "code",
   "execution_count": 310,
   "id": "12b1be53-e906-402b-83ef-6d4152ed24e0",
   "metadata": {},
   "outputs": [
    {
     "ename": "TypeError",
     "evalue": "generateURL() missing 1 required positional argument: 'rows'",
     "output_type": "error",
     "traceback": [
      "\u001b[1;31m---------------------------------------------------------------------------\u001b[0m",
      "\u001b[1;31mTypeError\u001b[0m                                 Traceback (most recent call last)",
      "Cell \u001b[1;32mIn[310], line 1\u001b[0m\n\u001b[1;32m----> 1\u001b[0m url \u001b[38;5;241m=\u001b[39m generateURL(gu_code\u001b[38;5;241m=\u001b[39m\u001b[38;5;241m11110\u001b[39m, date\u001b[38;5;241m=\u001b[39m\u001b[38;5;241m201512\u001b[39m)\n\u001b[0;32m      2\u001b[0m \u001b[38;5;28mprint\u001b[39m(url)\n\u001b[0;32m      3\u001b[0m result \u001b[38;5;241m=\u001b[39m urlopen(url)\n",
      "\u001b[1;31mTypeError\u001b[0m: generateURL() missing 1 required positional argument: 'rows'"
     ]
    }
   ],
   "source": [
    "url = generateURL(gu_code=11110, date=201512)\n",
    "print(url)\n",
    "result = urlopen(url)\n",
    "print(result)"
   ]
  },
  {
   "cell_type": "code",
   "execution_count": null,
   "id": "1b83dcad-8415-4470-8c9c-a032ae7c14db",
   "metadata": {},
   "outputs": [],
   "source": [
    "rs = BeautifulSoup(result, 'lxml-xml')"
   ]
  },
  {
   "cell_type": "code",
   "execution_count": null,
   "id": "393dbff5-79e2-4150-9f10-f6fb26069c1b",
   "metadata": {},
   "outputs": [],
   "source": [
    "for item in rs.body.items:\n",
    "    data = [item.umdNm.string, item.aptNm.string, item.excluUseAr.string, item.deposit.string, item.monthlyRent.string]\n",
    "    print(data)"
   ]
  },
  {
   "cell_type": "code",
   "execution_count": null,
   "id": "a631b247-6e69-4665-a4c1-2659e2daf09b",
   "metadata": {},
   "outputs": [],
   "source": [
    "item = rs.find_all('item')\n",
    "print(item)"
   ]
  },
  {
   "cell_type": "code",
   "execution_count": null,
   "id": "1ce180a1-5cb2-43f9-a1f8-e7fb18a660c0",
   "metadata": {},
   "outputs": [],
   "source": [
    "datas = []\n",
    "for i in range(len(item)):\n",
    "    umdNm = item[i].umdNm.string.strip() #  법정동\n",
    "    aptNm = item[i].aptNm.string.strip() #  아파트명\n",
    "    excluUseAr = item[i].excluUseAr.string.strip() #  전용면적\n",
    "    deposit = item[i].deposit.string.strip() #  보증금액\n",
    "    monthlyRent = item[i].monthlyRent.string.strip() #  월세\n",
    "    data = [umdNm, aptNm, excluUseAr, deposit, monthlyRent]\n",
    "    datas.append(data)\n",
    "    print(data)\n"
   ]
  },
  {
   "cell_type": "code",
   "execution_count": null,
   "id": "88a545fa-1363-4606-a3e0-8160e150294c",
   "metadata": {},
   "outputs": [],
   "source": [
    "df = pd.DataFrame(datas, columns=['법정동', '아파트명', '전용면적', '보증금액', '월세'])\n",
    "df.head()"
   ]
  },
  {
   "cell_type": "code",
   "execution_count": null,
   "id": "6f45886d-c6fd-4a58-9cfe-a10d33922c2b",
   "metadata": {},
   "outputs": [],
   "source": []
  },
  {
   "cell_type": "code",
   "execution_count": null,
   "id": "2d58d3e2-bc12-4a5a-8d5f-681408d2b9ef",
   "metadata": {},
   "outputs": [],
   "source": []
  },
  {
   "cell_type": "markdown",
   "id": "98e43ac5-8eb3-42f8-a89d-f5c73deb2dd6",
   "metadata": {},
   "source": [
    "1. 보증금액, 월세금액, 건축년도, 법정동, 아파트명, 전용면적, 지역코드로 열 구성 \n",
    "2. dtype을 숫자로 변경\n",
    "3. deposit열에 쉼표  제거 후 int로 변경\n",
    "4. rent_free, built_tr, gu_code는 int, size는 float으로 변경\n",
    "5. 동별(미아동, 수유동, 번동, 우이동) 보증금의 평균을 계산해서 bar차트로 \n",
    "6. 각 동의 평균월세를 구해서 bar차트\n",
    "7. 보증금에 대한 히스토그램\n",
    "8. 월세 히스토그램 "
   ]
  },
  {
   "cell_type": "code",
   "execution_count": 312,
   "id": "df9d7173-f782-4c23-9a22-e7c58f10329f",
   "metadata": {},
   "outputs": [
    {
     "name": "stdout",
     "output_type": "stream",
     "text": [
      "http://apis.data.go.kr/1613000/RTMSDataSvcAptRent/getRTMSDataSvcAptRent?serviceKey=%2FDspoCgDFk9q%2Bl7Cfmv%2FZuQTGXQna07VhEnnpVMfm7fwWTIOiC1fLQWrpKjQdWkv8kBxrWfOpyG2vqgSltntFA%3D%3D&LAWD_CD=11350&DEAL_YMD=202206&numOfRows=5000\n"
     ]
    }
   ],
   "source": [
    "url = generateURL(gu_code=11350, date=202206, rows=5000)\n",
    "result = urlopen(url)\n",
    "print(url)"
   ]
  },
  {
   "cell_type": "code",
   "execution_count": 314,
   "id": "cd94184b-3949-4918-8480-1b97049f1a4d",
   "metadata": {},
   "outputs": [],
   "source": [
    "rs = BeautifulSoup(result, 'lxml-xml')"
   ]
  },
  {
   "cell_type": "code",
   "execution_count": 20,
   "id": "ba5e8294-9a38-4765-bab6-cb1b6f1f6b16",
   "metadata": {},
   "outputs": [],
   "source": [
    "#rs.body.items"
   ]
  },
  {
   "cell_type": "code",
   "execution_count": 56,
   "id": "16fa6b76-e9ab-486a-9d48-be72d9d7c365",
   "metadata": {},
   "outputs": [],
   "source": [
    "datas = []\n",
    "for item in rs.body.items:\n",
    "    deposit = item.deposit.string.strip()\n",
    "    monthlyRent  = item.deposit.string.strip()\n",
    "    buildYear  = item.buildYear.string.strip()\n",
    "    umdNm  = item.umdNm.string.strip()\n",
    "    aptNm  = item.aptNm.string.strip()\n",
    "    excluUseAr = item.excluUseAr.string.strip()\n",
    "    sggCd = item.sggCd.string.strip()\n",
    "    data = [deposit, monthlyRent, buildYear, umdNm, aptNm, excluUseAr, sggCd]\n",
    "    datas.append(data)"
   ]
  },
  {
   "cell_type": "code",
   "execution_count": 78,
   "id": "bacbffd9-afea-43db-9a1f-07f28f1c8299",
   "metadata": {},
   "outputs": [
    {
     "data": {
      "text/html": [
       "<div>\n",
       "<style scoped>\n",
       "    .dataframe tbody tr th:only-of-type {\n",
       "        vertical-align: middle;\n",
       "    }\n",
       "\n",
       "    .dataframe tbody tr th {\n",
       "        vertical-align: top;\n",
       "    }\n",
       "\n",
       "    .dataframe thead th {\n",
       "        text-align: right;\n",
       "    }\n",
       "</style>\n",
       "<table border=\"1\" class=\"dataframe\">\n",
       "  <thead>\n",
       "    <tr style=\"text-align: right;\">\n",
       "      <th></th>\n",
       "      <th>보증금액</th>\n",
       "      <th>월세금액</th>\n",
       "      <th>건축년도</th>\n",
       "      <th>법정동</th>\n",
       "      <th>아파트명</th>\n",
       "      <th>전용면적</th>\n",
       "      <th>지역코드</th>\n",
       "    </tr>\n",
       "  </thead>\n",
       "  <tbody>\n",
       "    <tr>\n",
       "      <th>0</th>\n",
       "      <td>32,000</td>\n",
       "      <td>32,000</td>\n",
       "      <td>1999</td>\n",
       "      <td>상계동</td>\n",
       "      <td>불암현대</td>\n",
       "      <td>59.4</td>\n",
       "      <td>11350</td>\n",
       "    </tr>\n",
       "    <tr>\n",
       "      <th>1</th>\n",
       "      <td>55,000</td>\n",
       "      <td>55,000</td>\n",
       "      <td>1989</td>\n",
       "      <td>중계동</td>\n",
       "      <td>상아</td>\n",
       "      <td>84.97</td>\n",
       "      <td>11350</td>\n",
       "    </tr>\n",
       "    <tr>\n",
       "      <th>2</th>\n",
       "      <td>48,000</td>\n",
       "      <td>48,000</td>\n",
       "      <td>2006</td>\n",
       "      <td>월계동</td>\n",
       "      <td>우남푸르미아</td>\n",
       "      <td>84.78</td>\n",
       "      <td>11350</td>\n",
       "    </tr>\n",
       "    <tr>\n",
       "      <th>3</th>\n",
       "      <td>30,000</td>\n",
       "      <td>30,000</td>\n",
       "      <td>1989</td>\n",
       "      <td>상계동</td>\n",
       "      <td>상계대림</td>\n",
       "      <td>59.67</td>\n",
       "      <td>11350</td>\n",
       "    </tr>\n",
       "    <tr>\n",
       "      <th>4</th>\n",
       "      <td>17,000</td>\n",
       "      <td>17,000</td>\n",
       "      <td>1988</td>\n",
       "      <td>상계동</td>\n",
       "      <td>상계주공10(고층)</td>\n",
       "      <td>49.94</td>\n",
       "      <td>11350</td>\n",
       "    </tr>\n",
       "  </tbody>\n",
       "</table>\n",
       "</div>"
      ],
      "text/plain": [
       "     보증금액    월세금액  건축년도  법정동        아파트명   전용면적   지역코드\n",
       "0  32,000  32,000  1999  상계동        불암현대   59.4  11350\n",
       "1  55,000  55,000  1989  중계동          상아  84.97  11350\n",
       "2  48,000  48,000  2006  월계동      우남푸르미아  84.78  11350\n",
       "3  30,000  30,000  1989  상계동        상계대림  59.67  11350\n",
       "4  17,000  17,000  1988  상계동  상계주공10(고층)  49.94  11350"
      ]
     },
     "execution_count": 78,
     "metadata": {},
     "output_type": "execute_result"
    }
   ],
   "source": [
    "columns = ['보증금액', '월세금액', '건축년도', '법정동', '아파트명', '전용면적', '지역코드']\n",
    "df_apt = pd.DataFrame(datas, columns=columns)\n",
    "df_apt.head()"
   ]
  },
  {
   "cell_type": "code",
   "execution_count": 104,
   "id": "4c724289-6c27-486c-b427-60f017b8aaa7",
   "metadata": {},
   "outputs": [
    {
     "name": "stdout",
     "output_type": "stream",
     "text": [
      "<class 'pandas.core.frame.DataFrame'>\n",
      "RangeIndex: 1573 entries, 0 to 1572\n",
      "Data columns (total 7 columns):\n",
      " #   Column  Non-Null Count  Dtype \n",
      "---  ------  --------------  ----- \n",
      " 0   보증금액    1573 non-null   object\n",
      " 1   월세금액    1573 non-null   object\n",
      " 2   건축년도    1573 non-null   object\n",
      " 3   법정동     1573 non-null   object\n",
      " 4   아파트명    1573 non-null   object\n",
      " 5   전용면적    1573 non-null   object\n",
      " 6   지역코드    1573 non-null   object\n",
      "dtypes: object(7)\n",
      "memory usage: 86.2+ KB\n"
     ]
    }
   ],
   "source": [
    "df_apt.info()"
   ]
  },
  {
   "cell_type": "code",
   "execution_count": 106,
   "id": "32f0eb5d-19e5-4608-9478-6b02ffc4abdd",
   "metadata": {},
   "outputs": [],
   "source": [
    "df_apt_copy = df_apt.copy()\n",
    "df_apt_copy[['보증금액','월세금액','지역코드']] = df_apt_copy[['보증금액','월세금액','지역코드']].map(lambda x: x.replace(\",\", \"\"))"
   ]
  },
  {
   "cell_type": "code",
   "execution_count": 108,
   "id": "735901dc-ba66-4c57-add1-0be06a7255f7",
   "metadata": {},
   "outputs": [
    {
     "data": {
      "text/html": [
       "<div>\n",
       "<style scoped>\n",
       "    .dataframe tbody tr th:only-of-type {\n",
       "        vertical-align: middle;\n",
       "    }\n",
       "\n",
       "    .dataframe tbody tr th {\n",
       "        vertical-align: top;\n",
       "    }\n",
       "\n",
       "    .dataframe thead th {\n",
       "        text-align: right;\n",
       "    }\n",
       "</style>\n",
       "<table border=\"1\" class=\"dataframe\">\n",
       "  <thead>\n",
       "    <tr style=\"text-align: right;\">\n",
       "      <th></th>\n",
       "      <th>보증금액</th>\n",
       "      <th>월세금액</th>\n",
       "      <th>건축년도</th>\n",
       "      <th>법정동</th>\n",
       "      <th>아파트명</th>\n",
       "      <th>전용면적</th>\n",
       "      <th>지역코드</th>\n",
       "    </tr>\n",
       "  </thead>\n",
       "  <tbody>\n",
       "    <tr>\n",
       "      <th>0</th>\n",
       "      <td>32000</td>\n",
       "      <td>32000</td>\n",
       "      <td>1999</td>\n",
       "      <td>상계동</td>\n",
       "      <td>불암현대</td>\n",
       "      <td>59.4</td>\n",
       "      <td>11350</td>\n",
       "    </tr>\n",
       "    <tr>\n",
       "      <th>1</th>\n",
       "      <td>55000</td>\n",
       "      <td>55000</td>\n",
       "      <td>1989</td>\n",
       "      <td>중계동</td>\n",
       "      <td>상아</td>\n",
       "      <td>84.97</td>\n",
       "      <td>11350</td>\n",
       "    </tr>\n",
       "    <tr>\n",
       "      <th>2</th>\n",
       "      <td>48000</td>\n",
       "      <td>48000</td>\n",
       "      <td>2006</td>\n",
       "      <td>월계동</td>\n",
       "      <td>우남푸르미아</td>\n",
       "      <td>84.78</td>\n",
       "      <td>11350</td>\n",
       "    </tr>\n",
       "    <tr>\n",
       "      <th>3</th>\n",
       "      <td>30000</td>\n",
       "      <td>30000</td>\n",
       "      <td>1989</td>\n",
       "      <td>상계동</td>\n",
       "      <td>상계대림</td>\n",
       "      <td>59.67</td>\n",
       "      <td>11350</td>\n",
       "    </tr>\n",
       "    <tr>\n",
       "      <th>4</th>\n",
       "      <td>17000</td>\n",
       "      <td>17000</td>\n",
       "      <td>1988</td>\n",
       "      <td>상계동</td>\n",
       "      <td>상계주공10(고층)</td>\n",
       "      <td>49.94</td>\n",
       "      <td>11350</td>\n",
       "    </tr>\n",
       "  </tbody>\n",
       "</table>\n",
       "</div>"
      ],
      "text/plain": [
       "    보증금액   월세금액  건축년도  법정동        아파트명   전용면적   지역코드\n",
       "0  32000  32000  1999  상계동        불암현대   59.4  11350\n",
       "1  55000  55000  1989  중계동          상아  84.97  11350\n",
       "2  48000  48000  2006  월계동      우남푸르미아  84.78  11350\n",
       "3  30000  30000  1989  상계동        상계대림  59.67  11350\n",
       "4  17000  17000  1988  상계동  상계주공10(고층)  49.94  11350"
      ]
     },
     "execution_count": 108,
     "metadata": {},
     "output_type": "execute_result"
    }
   ],
   "source": [
    "df_apt_copy.head()"
   ]
  },
  {
   "cell_type": "code",
   "execution_count": 110,
   "id": "1002025f-13bd-4718-8fb0-baf79b2a5e20",
   "metadata": {},
   "outputs": [],
   "source": [
    "df_apt_copy[['보증금액','월세금액']] = df_apt_copy[['보증금액','월세금액']].astype(int)\n",
    "df_apt_copy['전용면적'] = df_apt_copy['전용면적'].astype(float)"
   ]
  },
  {
   "cell_type": "code",
   "execution_count": 112,
   "id": "994e7fdd-d150-473e-883c-0a92649ccdab",
   "metadata": {},
   "outputs": [
    {
     "name": "stdout",
     "output_type": "stream",
     "text": [
      "<class 'pandas.core.frame.DataFrame'>\n",
      "RangeIndex: 1573 entries, 0 to 1572\n",
      "Data columns (total 7 columns):\n",
      " #   Column  Non-Null Count  Dtype  \n",
      "---  ------  --------------  -----  \n",
      " 0   보증금액    1573 non-null   int32  \n",
      " 1   월세금액    1573 non-null   int32  \n",
      " 2   건축년도    1573 non-null   object \n",
      " 3   법정동     1573 non-null   object \n",
      " 4   아파트명    1573 non-null   object \n",
      " 5   전용면적    1573 non-null   float64\n",
      " 6   지역코드    1573 non-null   object \n",
      "dtypes: float64(1), int32(2), object(4)\n",
      "memory usage: 73.9+ KB\n"
     ]
    }
   ],
   "source": [
    "df_apt_copy.info()"
   ]
  },
  {
   "cell_type": "code",
   "execution_count": 270,
   "id": "c4e50133-485b-40ae-aa67-bf2ab5d0e051",
   "metadata": {},
   "outputs": [],
   "source": [
    "#  동별(미아동, 수유동, 번동, 우이동) 보증금의 평균을 계산해서 bar차트로\n",
    "cond1 = df_apt_copy['법정동'] == '중계동'\n",
    "cond2 = df_apt_copy['법정동'] == '상계동'\n",
    "cond3 = df_apt_copy['법정동'] == '월계동'\n",
    "cond4 = df_apt_copy['법정동'] == '공릉동'\n",
    "\n",
    "mia = df_apt_copy.loc[cond1, '월세금액'].mean()\n",
    "suyu = df_apt_copy.loc[cond2, '월세금액'].mean()\n",
    "burn = df_apt_copy.loc[cond3, '월세금액'].mean()\n",
    "wooi = df_apt_copy.loc[cond4, '월세금액'].mean()\n",
    "\n",
    "\n",
    "\n",
    "monthlyRent_list = [mia, suyu, burn, wooi]\n",
    "df_rent = pd.DataFrame(monthlyRent_list, index=['중계동', '상계동', '월계동', '공릉동'], columns=['지역 월세 평균'])\n",
    "#df_rent_sorted = df_rent.sort_values(by='지역 월세 평균', ascending=True)\n"
   ]
  },
  {
   "cell_type": "code",
   "execution_count": 318,
   "id": "8c2d58bb-439c-47b4-bc9a-14c9430d0d89",
   "metadata": {},
   "outputs": [
    {
     "data": {
      "image/png": "[encoded data removed]",
      "text/plain": [
       "<Figure size 800x400 with 1 Axes>"
      ]
     },
     "metadata": {},
     "output_type": "display_data"
    }
   ],
   "source": [
    "df_rent.plot(kind='bar')\n",
    "plt.title('누원구 보증금 현황')\n",
    "plt.xlabel('노원구 대표동')\n",
    "plt.ylabel('단위(만)')\n",
    "\n",
    "plt.xticks(rotation=0)\n",
    "\n",
    "plt.show()"
   ]
  },
  {
   "cell_type": "code",
   "execution_count": 274,
   "id": "e4a1604a-46a5-40c7-916b-c290aa036603",
   "metadata": {},
   "outputs": [
    {
     "data": {
      "text/html": [
       "<div>\n",
       "<style scoped>\n",
       "    .dataframe tbody tr th:only-of-type {\n",
       "        vertical-align: middle;\n",
       "    }\n",
       "\n",
       "    .dataframe tbody tr th {\n",
       "        vertical-align: top;\n",
       "    }\n",
       "\n",
       "    .dataframe thead th {\n",
       "        text-align: right;\n",
       "    }\n",
       "</style>\n",
       "<table border=\"1\" class=\"dataframe\">\n",
       "  <thead>\n",
       "    <tr style=\"text-align: right;\">\n",
       "      <th></th>\n",
       "      <th>보증금액</th>\n",
       "      <th>월세금액</th>\n",
       "      <th>건축년도</th>\n",
       "      <th>법정동</th>\n",
       "      <th>아파트명</th>\n",
       "      <th>전용면적</th>\n",
       "      <th>지역코드</th>\n",
       "    </tr>\n",
       "  </thead>\n",
       "  <tbody>\n",
       "    <tr>\n",
       "      <th>0</th>\n",
       "      <td>32000</td>\n",
       "      <td>32000</td>\n",
       "      <td>1999</td>\n",
       "      <td>상계동</td>\n",
       "      <td>불암현대</td>\n",
       "      <td>59.40</td>\n",
       "      <td>11350</td>\n",
       "    </tr>\n",
       "    <tr>\n",
       "      <th>1</th>\n",
       "      <td>55000</td>\n",
       "      <td>55000</td>\n",
       "      <td>1989</td>\n",
       "      <td>중계동</td>\n",
       "      <td>상아</td>\n",
       "      <td>84.97</td>\n",
       "      <td>11350</td>\n",
       "    </tr>\n",
       "    <tr>\n",
       "      <th>2</th>\n",
       "      <td>48000</td>\n",
       "      <td>48000</td>\n",
       "      <td>2006</td>\n",
       "      <td>월계동</td>\n",
       "      <td>우남푸르미아</td>\n",
       "      <td>84.78</td>\n",
       "      <td>11350</td>\n",
       "    </tr>\n",
       "    <tr>\n",
       "      <th>3</th>\n",
       "      <td>30000</td>\n",
       "      <td>30000</td>\n",
       "      <td>1989</td>\n",
       "      <td>상계동</td>\n",
       "      <td>상계대림</td>\n",
       "      <td>59.67</td>\n",
       "      <td>11350</td>\n",
       "    </tr>\n",
       "    <tr>\n",
       "      <th>4</th>\n",
       "      <td>17000</td>\n",
       "      <td>17000</td>\n",
       "      <td>1988</td>\n",
       "      <td>상계동</td>\n",
       "      <td>상계주공10(고층)</td>\n",
       "      <td>49.94</td>\n",
       "      <td>11350</td>\n",
       "    </tr>\n",
       "  </tbody>\n",
       "</table>\n",
       "</div>"
      ],
      "text/plain": [
       "    보증금액   월세금액  건축년도  법정동        아파트명   전용면적   지역코드\n",
       "0  32000  32000  1999  상계동        불암현대  59.40  11350\n",
       "1  55000  55000  1989  중계동          상아  84.97  11350\n",
       "2  48000  48000  2006  월계동      우남푸르미아  84.78  11350\n",
       "3  30000  30000  1989  상계동        상계대림  59.67  11350\n",
       "4  17000  17000  1988  상계동  상계주공10(고층)  49.94  11350"
      ]
     },
     "execution_count": 274,
     "metadata": {},
     "output_type": "execute_result"
    }
   ],
   "source": [
    "#  6. 각 동의 평균월세를 구해서 bar차트\n",
    "df_apt_copy.head()"
   ]
  },
  {
   "cell_type": "code",
   "execution_count": 280,
   "id": "2575a057-4daa-4784-852a-6495293ca0e8",
   "metadata": {},
   "outputs": [
    {
     "name": "stdout",
     "output_type": "stream",
     "text": [
      "법정동\n",
      "공릉동    26381.059259\n",
      "상계동    18133.313343\n",
      "월계동    22316.338462\n",
      "중계동    26347.807122\n",
      "하계동    25331.804598\n",
      "Name: 월세금액, dtype: float64\n"
     ]
    }
   ],
   "source": [
    "dong_group = df_apt_copy.groupby(by='법정동')\n",
    "dong_avg = dong_group['월세금액'].mean()\n",
    "#dong_avg.reset_index()\n",
    "#dong_avg = dong_avg.sort_values(ascending=True)\n",
    "print(dong_avg)"
   ]
  },
  {
   "cell_type": "code",
   "execution_count": 282,
   "id": "d220995d-b78f-4e67-b34f-b7190012ea43",
   "metadata": {},
   "outputs": [
    {
     "data": {
      "image/png": "[encoded data removed]",
      "text/plain": [
       "<Figure size 800x400 with 1 Axes>"
      ]
     },
     "metadata": {},
     "output_type": "display_data"
    }
   ],
   "source": [
    "dong_avg.plot(kind='bar')\n",
    "plt.title('지역별 월세 평균')\n",
    "plt.xticks(rotation=0)\n",
    "plt.show()"
   ]
  },
  {
   "cell_type": "code",
   "execution_count": null,
   "id": "b7f226de-ebbf-4ba6-be9e-a7e5015a8690",
   "metadata": {},
   "outputs": [],
   "source": [
    "7. 보증금에 대한 히스토그램"
   ]
  },
  {
   "cell_type": "code",
   "execution_count": 334,
   "id": "af76244f-027d-4684-bb87-4cd7c508e790",
   "metadata": {},
   "outputs": [
    {
     "data": {
      "image/png": "[encoded data removed]",
      "text/plain": [
       "<Figure size 800x400 with 1 Axes>"
      ]
     },
     "metadata": {},
     "output_type": "display_data"
    }
   ],
   "source": [
    "df_apt_copy['보증금액'].plot(kind='hist', bins=20)\n",
    "plt.grid()\n",
    "plt.show()"
   ]
  },
  {
   "cell_type": "code",
   "execution_count": null,
   "id": "92bd6c78-62b0-4893-b6ba-d2dcb7008bc6",
   "metadata": {},
   "outputs": [],
   "source": [
    "8. 월세 히스토그램 "
   ]
  },
  {
   "cell_type": "code",
   "execution_count": 328,
   "id": "66e1f684-1cee-4db6-ae87-78ea5f243978",
   "metadata": {},
   "outputs": [
    {
     "data": {
      "text/plain": [
       "<Axes: ylabel='Frequency'>"
      ]
     },
     "execution_count": 328,
     "metadata": {},
     "output_type": "execute_result"
    },
    {
     "data": {
      "image/png": "[encoded data removed]",
      "text/plain": [
       "<Figure size 800x400 with 1 Axes>"
      ]
     },
     "metadata": {},
     "output_type": "display_data"
    }
   ],
   "source": [
    "df_apt_copy['월세금액'].plot(kind='hist')"
   ]
  }
 ],
 "metadata": {
  "kernelspec": {
   "display_name": "Python [conda env:base] *",
   "language": "python",
   "name": "conda-base-py"
  },
  "language_info": {
   "codemirror_mode": {
    "name": "ipython",
    "version": 3
   },
   "file_extension": ".py",
   "mimetype": "text/x-python",
   "name": "python",
   "nbconvert_exporter": "python",
   "pygments_lexer": "ipython3",
   "version": "3.12.7"
  }
 },
 "nbformat": 4,
 "nbformat_minor": 5
}
