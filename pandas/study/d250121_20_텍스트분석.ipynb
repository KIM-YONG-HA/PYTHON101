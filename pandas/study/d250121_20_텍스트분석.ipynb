{
 "cells": [
  {
   "cell_type": "code",
   "execution_count": null,
   "id": "b6a8f396-ede1-4496-96d3-c0ebe7273bbc",
   "metadata": {},
   "outputs": [],
   "source": []
  },
  {
   "cell_type": "code",
   "execution_count": 375,
   "id": "8f258022-0e97-41c7-aec4-f436ed896b12",
   "metadata": {},
   "outputs": [],
   "source": [
    "import numpy as np\n",
    "import pandas as pd\n",
    "import matplotlib.pyplot as plt\n",
    "import seaborn as sns\n",
    "from matplotlib import font_manager as fm\n",
    "import warnings"
   ]
  },
  {
   "cell_type": "code",
   "execution_count": 531,
   "id": "95dd930d-0f4f-474f-b4c6-c41822049aa9",
   "metadata": {},
   "outputs": [],
   "source": [
    "font_path = 'data/malgun.ttf'\n",
    "font_prop = fm.FontProperties(fname=font_path)\n",
    "plt.rcParams['font.family'] = font_prop.get_name()\n",
    "plt.rcParams['figure.figsize'] = (8, 4)\n",
    "\n",
    "# 한글 텍스트 렌더링 테스트\n",
    "# plt.text(0.5, 0.5, '폰트 테스트 - 한글 출력 확인', size=20, ha='center')\n",
    "# plt.title('폰트 설정 테스트')\n",
    "# plt.show()"
   ]
  },
  {
   "cell_type": "code",
   "execution_count": 2,
   "id": "0ffc7da2-e8a2-4c7a-afc0-28d676d3daf4",
   "metadata": {},
   "outputs": [
    {
     "name": "stdout",
     "output_type": "stream",
     "text": [
      "<class 'bytes'>\n",
      "<class 'str'>\n"
     ]
    }
   ],
   "source": [
    "file_path = 'data/bc_card.txt'\n",
    "with open(file_path, 'rb') as f:\n",
    "    with open('data/dc_card_output.txt', 'w') as w:\n",
    "        data = f.read()\n",
    "        print(type(data))\n",
    "        data = data.decode('cp949')\n",
    "        print(type(data))\n",
    "        w.write(data)"
   ]
  },
  {
   "cell_type": "code",
   "execution_count": 3,
   "id": "069bf4d7-56cf-4670-9395-10b497f5a9e1",
   "metadata": {},
   "outputs": [
    {
     "name": "stdout",
     "output_type": "stream",
     "text": [
      "10235713\n"
     ]
    }
   ],
   "source": [
    "with open('data/bc_card_output.txt', 'r') as f:\n",
    "    data = f.read()\n",
    "    print(len(data))"
   ]
  },
  {
   "cell_type": "code",
   "execution_count": 4,
   "id": "ad5fd7dd-ef10-49c7-835a-4b8bbdafb0e1",
   "metadata": {},
   "outputs": [
    {
     "data": {
      "text/plain": [
       "'REG_YYMM\\tMEGA_CTY_NO\\tMEGA_CTY_NM\\tCTY_RGN_NO\\tCTY_RGN_NM\\tADMI_CTY_NO\\tADMI_CTY_NM\\tMAIN_BUZ_CODE\\tMAIN_BUZ_DESC\\tTP_GRP_NO\\tTP_GRP_NM\\tTP_BUZ_NO\\tTP_BUZ_NM\\tCSTMR_GUBUN\\tCSTMR_MEGA_CTY_NO\\tCSTMR_MEGA_CTY_NM\\tCSTMR_CTY_RGN_NO\\tCSTMR_CTY_RGN_NM\\tSEX_CTGO_CD\\tAGE_VAL\\tFLC\\tAMT\\tCNT201906\\t11\\t서울특별시\\t1162\\t관악구\\t11620585\\t낙성대동\\t80\\t음식\\t80\\t일반음식\\t8006\\t서양음식\\t내국인\\t11\\t서울특별시\\t1162\\t관악구\\t2\\t30대\\t2\\t26284804\\t1892201906\\t11\\t서울특별시\\t1159\\t동작구\\t11590560\\t상도4동\\t30\\t생활\\t40\\t유통업영리\\t4010\\t편 의 점\\t내국인\\t11\\t서울특별시\\t1165\\t서초구\\t2\\t20대\\t1\\t109290\\t18201906\\t11\\t서울특별시\\t1162\\t관악구\\t11620595\\t청룡동\\t30\\t생활\\t83\\t음식료품\\t8399\\t기타음료식품\\t내국인\\t11\\t서울특별시\\t1162\\t관악구\\t1\\t20대\\t1\\t268850\\t52201906\\t11\\t서울특별시\\t1144\\t마포구\\t11'"
      ]
     },
     "execution_count": 4,
     "metadata": {},
     "output_type": "execute_result"
    }
   ],
   "source": [
    "data[:600]"
   ]
  },
  {
   "cell_type": "markdown",
   "id": "a2c9645e-9492-4086-a6f6-8528ca636319",
   "metadata": {},
   "source": [
    "\\tCNT201906\n",
    "마지막 컬럼 CNT뒤에 날짜데이터가 붙어있음."
   ]
  },
  {
   "cell_type": "code",
   "execution_count": 6,
   "id": "a794a73a-afd0-465d-a299-4ceaf2a51b9e",
   "metadata": {},
   "outputs": [
    {
     "name": "stdout",
     "output_type": "stream",
     "text": [
      "['REG_YYMM', 'MEGA_CTY_NO', 'MEGA_CTY_NM', 'CTY_RGN_NO', 'CTY_RGN_NM', 'ADMI_CTY_NO', 'ADMI_CTY_NM', 'MAIN_BUZ_CODE', 'MAIN_BUZ_DESC', 'TP_GRP_NO', 'TP_GRP_NM', 'TP_BUZ_NO', 'TP_BUZ_NM', 'CSTMR_GUBUN', 'CSTMR_MEGA_CTY_NO', 'CSTMR_MEGA_CTY_NM', 'CSTMR_CTY_RGN_NO', 'CSTMR_CTY_RGN_NM', 'SEX_CTGO_CD', 'AGE_VAL', 'FLC', 'AMT', 'CNT201906']\n",
      "23\n"
     ]
    }
   ],
   "source": [
    "data_split = data.split('\\t')\n",
    "print(data_split[:23])\n",
    "print(len(data_split[:23]))"
   ]
  },
  {
   "cell_type": "code",
   "execution_count": 7,
   "id": "7f76a51e-edba-405f-a628-44be933264ac",
   "metadata": {},
   "outputs": [
    {
     "data": {
      "text/plain": [
       "'CNT201906'"
      ]
     },
     "execution_count": 7,
     "metadata": {},
     "output_type": "execute_result"
    }
   ],
   "source": [
    "data_split[22]"
   ]
  },
  {
   "cell_type": "code",
   "execution_count": 8,
   "id": "57710d37-7ed0-4122-89af-c235388ebe58",
   "metadata": {},
   "outputs": [
    {
     "data": {
      "text/plain": [
       "'CNT\\t201906'"
      ]
     },
     "execution_count": 8,
     "metadata": {},
     "output_type": "execute_result"
    }
   ],
   "source": [
    "data_split[22][:3] + '\\t' + data_split[22][3:]"
   ]
  },
  {
   "cell_type": "code",
   "execution_count": 9,
   "id": "ea8f25ae-84dd-4036-bea8-d9f5b4787540",
   "metadata": {},
   "outputs": [
    {
     "data": {
      "text/plain": [
       "257"
      ]
     },
     "execution_count": 9,
     "metadata": {},
     "output_type": "execute_result"
    }
   ],
   "source": [
    "data.find('CNT') #  260에 \\t 추가 "
   ]
  },
  {
   "cell_type": "code",
   "execution_count": 10,
   "id": "3eccc517-ee8c-41ec-8eb8-d2ece2eed870",
   "metadata": {},
   "outputs": [
    {
     "name": "stdout",
     "output_type": "stream",
     "text": [
      "['REG_YYMM', 'MEGA_CTY_NO', 'MEGA_CTY_NM', 'CTY_RGN_NO', 'CTY_RGN_NM', 'ADMI_CTY_NO', 'ADMI_CTY_NM', 'MAIN_BUZ_CODE', 'MAIN_BUZ_DESC', 'TP_GRP_NO', 'TP_GRP_NM', 'TP_BUZ_NO', 'TP_BUZ_NM', 'CSTMR_GUBUN', 'CSTMR_MEGA_CTY_NO', 'CSTMR_MEGA_CTY_NM', 'CSTMR_CTY_RGN_NO', 'CSTMR_CTY_RGN_NM', 'SEX_CTGO_CD', 'AGE_VAL', 'FLC', 'AMT', 'CNT', '201906', '11', '서울특별시', '1162', '관악구', '11620585', '낙성대동', '80', '음식', '80', '일반음식', '8006', '서양음식', '내국인', '11', '서울특별시', '1162', '관악구', '2', '30대', '2', '26284804', '1892201906', '11', '서울특별시', '1159', '동작구', '11590560', '상도4동', '30', '생활', '40', '유통업영리', '4010', '편 의 점', '내국인', '11', '서울특별시', '1165', '서초구', '2', '20대', '1', '109290', '18201906', '11', '서울특별시', '1162', '관악구', '11620595', '청룡동', '30', '생활', '83', '음식료품', '8399', '기타음료식품', '내국인', '11', '서울특별시', '1162', '관악구', '1', '20대', '1', '268850', '52201906', '11', '서울특별시', '1144', '마포구', '11440660', '서교동', '80', '음식', '80', '일반음식']\n"
     ]
    }
   ],
   "source": [
    "data = data[:260] + '\\t' + data[260:]\n",
    "data[:300]\n",
    "data_split = data.split('\\t')\n",
    "print(data_split[:100])"
   ]
  },
  {
   "cell_type": "code",
   "execution_count": 11,
   "id": "927935ef-a6d5-4b03-8fdb-c82ad4264963",
   "metadata": {},
   "outputs": [],
   "source": [
    "cols = 23\n",
    "total_data = len(data_split)"
   ]
  },
  {
   "cell_type": "code",
   "execution_count": 12,
   "id": "553e3f17-c69a-4b5e-a82f-d0f45cc4d9b0",
   "metadata": {},
   "outputs": [
    {
     "name": "stdout",
     "output_type": "stream",
     "text": [
      "95654.17391304347\n",
      "4\n"
     ]
    }
   ],
   "source": [
    "print(total_data / cols)\n",
    "print(total_data % cols)"
   ]
  },
  {
   "cell_type": "markdown",
   "id": "26bb5cbf-918d-49e3-8eb2-64f25f09bfed",
   "metadata": {},
   "source": [
    "전체 데이터 개수를 컬럼수로 나누었을때 딱 떨어지지 않아서 어딘가 문제가 있을 가능성.\n"
   ]
  },
  {
   "cell_type": "code",
   "execution_count": 14,
   "id": "16a7d36f-4c62-4850-b44d-6bece6e1f8c0",
   "metadata": {},
   "outputs": [
    {
     "data": {
      "text/plain": [
       "('CNT', '201906')"
      ]
     },
     "execution_count": 14,
     "metadata": {},
     "output_type": "execute_result"
    }
   ],
   "source": [
    "data_split[22], data_split[23] "
   ]
  },
  {
   "cell_type": "code",
   "execution_count": 15,
   "id": "ea8c3a26-88e2-4511-a847-90d782508ba0",
   "metadata": {},
   "outputs": [
    {
     "data": {
      "text/plain": [
       "('1892201906', '18201906', '52201906', '1790201906')"
      ]
     },
     "execution_count": 15,
     "metadata": {},
     "output_type": "execute_result"
    }
   ],
   "source": [
    "data_split[23+22], data_split[23+22+22], data_split[23+22+22+22] , data_split[23+22+22+22+22] "
   ]
  },
  {
   "cell_type": "code",
   "execution_count": 16,
   "id": "ba91c9f0-8292-4a64-9f9f-99e91f7b3d19",
   "metadata": {},
   "outputs": [
    {
     "data": {
      "text/plain": [
       "4"
      ]
     },
     "execution_count": 16,
     "metadata": {},
     "output_type": "execute_result"
    }
   ],
   "source": [
    "data_split[23+22].find('201906')"
   ]
  },
  {
   "cell_type": "code",
   "execution_count": 17,
   "id": "2ec5119c-a41e-40a1-83c2-04f2dfb2ece7",
   "metadata": {},
   "outputs": [
    {
     "data": {
      "text/plain": [
       "'201906'"
      ]
     },
     "execution_count": 17,
     "metadata": {},
     "output_type": "execute_result"
    }
   ],
   "source": [
    "data_split[23+22][4:]"
   ]
  },
  {
   "cell_type": "code",
   "execution_count": null,
   "id": "24d87e1c-51a9-4967-823c-1501b2e5ece0",
   "metadata": {},
   "outputs": [],
   "source": []
  },
  {
   "cell_type": "code",
   "execution_count": 18,
   "id": "dc329d39-3922-44a8-8466-dd82466b5dce",
   "metadata": {},
   "outputs": [],
   "source": [
    "cycle = 22\n",
    "i = 1\n",
    "while i < round((len(data_split) - cycle) / cycle):\n",
    "    IDX = cols+(cycle*i)\n",
    "    target_index = data_split[IDX].find('201906')\n",
    "    i += 1\n",
    "    data_split[IDX] = data_split[IDX][:target_index] + '\\t' + data_split[IDX][target_index:]\n"
   ]
  },
  {
   "cell_type": "code",
   "execution_count": 19,
   "id": "10a4910d-d55e-4397-b717-b87a50a8ac41",
   "metadata": {},
   "outputs": [
    {
     "data": {
      "text/plain": [
       "('1892\\t201906', '18\\t201906', '52\\t201906', '1790\\t201906')"
      ]
     },
     "execution_count": 19,
     "metadata": {},
     "output_type": "execute_result"
    }
   ],
   "source": [
    "data_split[23+22], data_split[23+22+22], data_split[23+22+22+22] , data_split[23+22+22+22+22] "
   ]
  },
  {
   "cell_type": "code",
   "execution_count": 20,
   "id": "ca85d158-6ccd-4eaa-9d6b-4729f7d5bec8",
   "metadata": {},
   "outputs": [],
   "source": [
    "data_join = \"\\t\".join(data_split)"
   ]
  },
  {
   "cell_type": "code",
   "execution_count": 22,
   "id": "9adbdcf1-add7-4a81-bcbc-338bfeb1bf7a",
   "metadata": {},
   "outputs": [],
   "source": [
    "data_split = data_join.split('\\t')"
   ]
  },
  {
   "cell_type": "code",
   "execution_count": 26,
   "id": "871f525f-b36e-40ae-b5fc-b0b7802aa50a",
   "metadata": {},
   "outputs": [
    {
     "data": {
      "text/plain": [
       "('1892', '109290', '1', '20대')"
      ]
     },
     "execution_count": 26,
     "metadata": {},
     "output_type": "execute_result"
    }
   ],
   "source": [
    "data_split[23+22], data_split[23+22+22], data_split[23+22+22+22] , data_split[23+22+22+22+22] "
   ]
  },
  {
   "cell_type": "code",
   "execution_count": 30,
   "id": "3a00826b-766f-4e0c-ae76-cc74b63b9d54",
   "metadata": {},
   "outputs": [
    {
     "name": "stdout",
     "output_type": "stream",
     "text": [
      "100002.0\n",
      "0\n"
     ]
    }
   ],
   "source": [
    "print(len(data_split) / cols)\n",
    "print(len(data_split) % cols)"
   ]
  },
  {
   "cell_type": "code",
   "execution_count": 42,
   "id": "1ff469d6-85c9-407a-8c55-0b71688d2ab8",
   "metadata": {},
   "outputs": [
    {
     "name": "stdout",
     "output_type": "stream",
     "text": [
      "['REG_YYMM', 'MEGA_CTY_NO', 'MEGA_CTY_NM', 'CTY_RGN_NO', 'CTY_RGN_NM', 'ADMI_CTY_NO', 'ADMI_CTY_NM', 'MAIN_BUZ_CODE', 'MAIN_BUZ_DESC', 'TP_GRP_NO', 'TP_GRP_NM', 'TP_BUZ_NO', 'TP_BUZ_NM', 'CSTMR_GUBUN', 'CSTMR_MEGA_CTY_NO', 'CSTMR_MEGA_CTY_NM', 'CSTMR_CTY_RGN_NO', 'CSTMR_CTY_RGN_NM', 'SEX_CTGO_CD', 'AGE_VAL', 'FLC', 'AMT', 'CNT']\n",
      "['201906', '11', '서울특별시', '1162', '관악구', '11620585', '낙성대동', '80', '음식', '80', '일반음식', '8006', '서양음식', '내국인', '11', '서울특별시', '1162', '관악구', '2', '30대', '2', '26284804', '1892']\n"
     ]
    }
   ],
   "source": [
    "total = [data_split[i:cols+i] for i in range(0, len(data_split), cols)]\n",
    "\n",
    "print(total[0])\n",
    "print(total[1])"
   ]
  },
  {
   "cell_type": "code",
   "execution_count": 44,
   "id": "e4b0618e-4a14-43eb-b156-b100837e53e1",
   "metadata": {},
   "outputs": [
    {
     "data": {
      "text/html": [
       "<div>\n",
       "<style scoped>\n",
       "    .dataframe tbody tr th:only-of-type {\n",
       "        vertical-align: middle;\n",
       "    }\n",
       "\n",
       "    .dataframe tbody tr th {\n",
       "        vertical-align: top;\n",
       "    }\n",
       "\n",
       "    .dataframe thead th {\n",
       "        text-align: right;\n",
       "    }\n",
       "</style>\n",
       "<table border=\"1\" class=\"dataframe\">\n",
       "  <thead>\n",
       "    <tr style=\"text-align: right;\">\n",
       "      <th></th>\n",
       "      <th>REG_YYMM</th>\n",
       "      <th>MEGA_CTY_NO</th>\n",
       "      <th>MEGA_CTY_NM</th>\n",
       "      <th>CTY_RGN_NO</th>\n",
       "      <th>CTY_RGN_NM</th>\n",
       "      <th>ADMI_CTY_NO</th>\n",
       "      <th>ADMI_CTY_NM</th>\n",
       "      <th>MAIN_BUZ_CODE</th>\n",
       "      <th>MAIN_BUZ_DESC</th>\n",
       "      <th>TP_GRP_NO</th>\n",
       "      <th>...</th>\n",
       "      <th>CSTMR_GUBUN</th>\n",
       "      <th>CSTMR_MEGA_CTY_NO</th>\n",
       "      <th>CSTMR_MEGA_CTY_NM</th>\n",
       "      <th>CSTMR_CTY_RGN_NO</th>\n",
       "      <th>CSTMR_CTY_RGN_NM</th>\n",
       "      <th>SEX_CTGO_CD</th>\n",
       "      <th>AGE_VAL</th>\n",
       "      <th>FLC</th>\n",
       "      <th>AMT</th>\n",
       "      <th>CNT</th>\n",
       "    </tr>\n",
       "  </thead>\n",
       "  <tbody>\n",
       "    <tr>\n",
       "      <th>0</th>\n",
       "      <td>201906</td>\n",
       "      <td>11</td>\n",
       "      <td>서울특별시</td>\n",
       "      <td>1162</td>\n",
       "      <td>관악구</td>\n",
       "      <td>11620585</td>\n",
       "      <td>낙성대동</td>\n",
       "      <td>80</td>\n",
       "      <td>음식</td>\n",
       "      <td>80</td>\n",
       "      <td>...</td>\n",
       "      <td>내국인</td>\n",
       "      <td>11</td>\n",
       "      <td>서울특별시</td>\n",
       "      <td>1162</td>\n",
       "      <td>관악구</td>\n",
       "      <td>2</td>\n",
       "      <td>30대</td>\n",
       "      <td>2</td>\n",
       "      <td>26284804</td>\n",
       "      <td>1892</td>\n",
       "    </tr>\n",
       "    <tr>\n",
       "      <th>1</th>\n",
       "      <td>201906</td>\n",
       "      <td>11</td>\n",
       "      <td>서울특별시</td>\n",
       "      <td>1159</td>\n",
       "      <td>동작구</td>\n",
       "      <td>11590560</td>\n",
       "      <td>상도4동</td>\n",
       "      <td>30</td>\n",
       "      <td>생활</td>\n",
       "      <td>40</td>\n",
       "      <td>...</td>\n",
       "      <td>내국인</td>\n",
       "      <td>11</td>\n",
       "      <td>서울특별시</td>\n",
       "      <td>1165</td>\n",
       "      <td>서초구</td>\n",
       "      <td>2</td>\n",
       "      <td>20대</td>\n",
       "      <td>1</td>\n",
       "      <td>109290</td>\n",
       "      <td>18</td>\n",
       "    </tr>\n",
       "    <tr>\n",
       "      <th>2</th>\n",
       "      <td>201906</td>\n",
       "      <td>11</td>\n",
       "      <td>서울특별시</td>\n",
       "      <td>1162</td>\n",
       "      <td>관악구</td>\n",
       "      <td>11620595</td>\n",
       "      <td>청룡동</td>\n",
       "      <td>30</td>\n",
       "      <td>생활</td>\n",
       "      <td>83</td>\n",
       "      <td>...</td>\n",
       "      <td>내국인</td>\n",
       "      <td>11</td>\n",
       "      <td>서울특별시</td>\n",
       "      <td>1162</td>\n",
       "      <td>관악구</td>\n",
       "      <td>1</td>\n",
       "      <td>20대</td>\n",
       "      <td>1</td>\n",
       "      <td>268850</td>\n",
       "      <td>52</td>\n",
       "    </tr>\n",
       "    <tr>\n",
       "      <th>3</th>\n",
       "      <td>201906</td>\n",
       "      <td>11</td>\n",
       "      <td>서울특별시</td>\n",
       "      <td>1144</td>\n",
       "      <td>마포구</td>\n",
       "      <td>11440660</td>\n",
       "      <td>서교동</td>\n",
       "      <td>80</td>\n",
       "      <td>음식</td>\n",
       "      <td>80</td>\n",
       "      <td>...</td>\n",
       "      <td>내국인</td>\n",
       "      <td>11</td>\n",
       "      <td>서울특별시</td>\n",
       "      <td>1138</td>\n",
       "      <td>은평구</td>\n",
       "      <td>1</td>\n",
       "      <td>20대</td>\n",
       "      <td>1</td>\n",
       "      <td>44174450</td>\n",
       "      <td>1790</td>\n",
       "    </tr>\n",
       "    <tr>\n",
       "      <th>4</th>\n",
       "      <td>201906</td>\n",
       "      <td>11</td>\n",
       "      <td>서울특별시</td>\n",
       "      <td>1120</td>\n",
       "      <td>성동구</td>\n",
       "      <td>11200550</td>\n",
       "      <td>사근동</td>\n",
       "      <td>80</td>\n",
       "      <td>음식</td>\n",
       "      <td>80</td>\n",
       "      <td>...</td>\n",
       "      <td>내국인</td>\n",
       "      <td>11</td>\n",
       "      <td>서울특별시</td>\n",
       "      <td>1120</td>\n",
       "      <td>성동구</td>\n",
       "      <td>1</td>\n",
       "      <td>20대</td>\n",
       "      <td>1</td>\n",
       "      <td>60338146</td>\n",
       "      <td>3536</td>\n",
       "    </tr>\n",
       "  </tbody>\n",
       "</table>\n",
       "<p>5 rows × 23 columns</p>\n",
       "</div>"
      ],
      "text/plain": [
       "  REG_YYMM MEGA_CTY_NO MEGA_CTY_NM CTY_RGN_NO CTY_RGN_NM ADMI_CTY_NO  \\\n",
       "0   201906          11       서울특별시       1162        관악구    11620585   \n",
       "1   201906          11       서울특별시       1159        동작구    11590560   \n",
       "2   201906          11       서울특별시       1162        관악구    11620595   \n",
       "3   201906          11       서울특별시       1144        마포구    11440660   \n",
       "4   201906          11       서울특별시       1120        성동구    11200550   \n",
       "\n",
       "  ADMI_CTY_NM MAIN_BUZ_CODE MAIN_BUZ_DESC TP_GRP_NO  ... CSTMR_GUBUN  \\\n",
       "0        낙성대동            80            음식        80  ...         내국인   \n",
       "1        상도4동            30            생활        40  ...         내국인   \n",
       "2         청룡동            30            생활        83  ...         내국인   \n",
       "3         서교동            80            음식        80  ...         내국인   \n",
       "4         사근동            80            음식        80  ...         내국인   \n",
       "\n",
       "  CSTMR_MEGA_CTY_NO CSTMR_MEGA_CTY_NM CSTMR_CTY_RGN_NO CSTMR_CTY_RGN_NM  \\\n",
       "0                11             서울특별시             1162              관악구   \n",
       "1                11             서울특별시             1165              서초구   \n",
       "2                11             서울특별시             1162              관악구   \n",
       "3                11             서울특별시             1138              은평구   \n",
       "4                11             서울특별시             1120              성동구   \n",
       "\n",
       "  SEX_CTGO_CD AGE_VAL FLC       AMT   CNT  \n",
       "0           2     30대   2  26284804  1892  \n",
       "1           2     20대   1    109290    18  \n",
       "2           1     20대   1    268850    52  \n",
       "3           1     20대   1  44174450  1790  \n",
       "4           1     20대   1  60338146  3536  \n",
       "\n",
       "[5 rows x 23 columns]"
      ]
     },
     "execution_count": 44,
     "metadata": {},
     "output_type": "execute_result"
    }
   ],
   "source": [
    "df = pd.DataFrame(total[1:], columns=total[0])\n",
    "df.head()"
   ]
  },
  {
   "cell_type": "code",
   "execution_count": 63,
   "id": "eee98c56-e61d-4a8e-99d5-7fadd34a4c96",
   "metadata": {},
   "outputs": [],
   "source": [
    "df.to_csv('data/201906bc_card.csv', encoding='utf-8')"
   ]
  },
  {
   "cell_type": "code",
   "execution_count": 67,
   "id": "43f6ceb3-ad7f-4e43-989c-d9e5feace68f",
   "metadata": {},
   "outputs": [
    {
     "data": {
      "text/html": [
       "<div>\n",
       "<style scoped>\n",
       "    .dataframe tbody tr th:only-of-type {\n",
       "        vertical-align: middle;\n",
       "    }\n",
       "\n",
       "    .dataframe tbody tr th {\n",
       "        vertical-align: top;\n",
       "    }\n",
       "\n",
       "    .dataframe thead th {\n",
       "        text-align: right;\n",
       "    }\n",
       "</style>\n",
       "<table border=\"1\" class=\"dataframe\">\n",
       "  <thead>\n",
       "    <tr style=\"text-align: right;\">\n",
       "      <th></th>\n",
       "      <th>REG_YYMM</th>\n",
       "      <th>MEGA_CTY_NO</th>\n",
       "      <th>MEGA_CTY_NM</th>\n",
       "      <th>CTY_RGN_NO</th>\n",
       "      <th>CTY_RGN_NM</th>\n",
       "      <th>ADMI_CTY_NO</th>\n",
       "      <th>ADMI_CTY_NM</th>\n",
       "      <th>MAIN_BUZ_CODE</th>\n",
       "      <th>MAIN_BUZ_DESC</th>\n",
       "      <th>TP_GRP_NO</th>\n",
       "      <th>...</th>\n",
       "      <th>CSTMR_GUBUN</th>\n",
       "      <th>CSTMR_MEGA_CTY_NO</th>\n",
       "      <th>CSTMR_MEGA_CTY_NM</th>\n",
       "      <th>CSTMR_CTY_RGN_NO</th>\n",
       "      <th>CSTMR_CTY_RGN_NM</th>\n",
       "      <th>SEX_CTGO_CD</th>\n",
       "      <th>AGE_VAL</th>\n",
       "      <th>FLC</th>\n",
       "      <th>AMT</th>\n",
       "      <th>CNT</th>\n",
       "    </tr>\n",
       "  </thead>\n",
       "  <tbody>\n",
       "    <tr>\n",
       "      <th>0</th>\n",
       "      <td>201906</td>\n",
       "      <td>11</td>\n",
       "      <td>서울특별시</td>\n",
       "      <td>1162</td>\n",
       "      <td>관악구</td>\n",
       "      <td>11620585</td>\n",
       "      <td>낙성대동</td>\n",
       "      <td>80</td>\n",
       "      <td>음식</td>\n",
       "      <td>80</td>\n",
       "      <td>...</td>\n",
       "      <td>내국인</td>\n",
       "      <td>11</td>\n",
       "      <td>서울특별시</td>\n",
       "      <td>1162</td>\n",
       "      <td>관악구</td>\n",
       "      <td>2</td>\n",
       "      <td>30대</td>\n",
       "      <td>2</td>\n",
       "      <td>26284804</td>\n",
       "      <td>1892</td>\n",
       "    </tr>\n",
       "    <tr>\n",
       "      <th>1</th>\n",
       "      <td>201906</td>\n",
       "      <td>11</td>\n",
       "      <td>서울특별시</td>\n",
       "      <td>1159</td>\n",
       "      <td>동작구</td>\n",
       "      <td>11590560</td>\n",
       "      <td>상도4동</td>\n",
       "      <td>30</td>\n",
       "      <td>생활</td>\n",
       "      <td>40</td>\n",
       "      <td>...</td>\n",
       "      <td>내국인</td>\n",
       "      <td>11</td>\n",
       "      <td>서울특별시</td>\n",
       "      <td>1165</td>\n",
       "      <td>서초구</td>\n",
       "      <td>2</td>\n",
       "      <td>20대</td>\n",
       "      <td>1</td>\n",
       "      <td>109290</td>\n",
       "      <td>18</td>\n",
       "    </tr>\n",
       "    <tr>\n",
       "      <th>2</th>\n",
       "      <td>201906</td>\n",
       "      <td>11</td>\n",
       "      <td>서울특별시</td>\n",
       "      <td>1162</td>\n",
       "      <td>관악구</td>\n",
       "      <td>11620595</td>\n",
       "      <td>청룡동</td>\n",
       "      <td>30</td>\n",
       "      <td>생활</td>\n",
       "      <td>83</td>\n",
       "      <td>...</td>\n",
       "      <td>내국인</td>\n",
       "      <td>11</td>\n",
       "      <td>서울특별시</td>\n",
       "      <td>1162</td>\n",
       "      <td>관악구</td>\n",
       "      <td>1</td>\n",
       "      <td>20대</td>\n",
       "      <td>1</td>\n",
       "      <td>268850</td>\n",
       "      <td>52</td>\n",
       "    </tr>\n",
       "    <tr>\n",
       "      <th>3</th>\n",
       "      <td>201906</td>\n",
       "      <td>11</td>\n",
       "      <td>서울특별시</td>\n",
       "      <td>1144</td>\n",
       "      <td>마포구</td>\n",
       "      <td>11440660</td>\n",
       "      <td>서교동</td>\n",
       "      <td>80</td>\n",
       "      <td>음식</td>\n",
       "      <td>80</td>\n",
       "      <td>...</td>\n",
       "      <td>내국인</td>\n",
       "      <td>11</td>\n",
       "      <td>서울특별시</td>\n",
       "      <td>1138</td>\n",
       "      <td>은평구</td>\n",
       "      <td>1</td>\n",
       "      <td>20대</td>\n",
       "      <td>1</td>\n",
       "      <td>44174450</td>\n",
       "      <td>1790</td>\n",
       "    </tr>\n",
       "    <tr>\n",
       "      <th>4</th>\n",
       "      <td>201906</td>\n",
       "      <td>11</td>\n",
       "      <td>서울특별시</td>\n",
       "      <td>1120</td>\n",
       "      <td>성동구</td>\n",
       "      <td>11200550</td>\n",
       "      <td>사근동</td>\n",
       "      <td>80</td>\n",
       "      <td>음식</td>\n",
       "      <td>80</td>\n",
       "      <td>...</td>\n",
       "      <td>내국인</td>\n",
       "      <td>11</td>\n",
       "      <td>서울특별시</td>\n",
       "      <td>1120</td>\n",
       "      <td>성동구</td>\n",
       "      <td>1</td>\n",
       "      <td>20대</td>\n",
       "      <td>1</td>\n",
       "      <td>60338146</td>\n",
       "      <td>3536</td>\n",
       "    </tr>\n",
       "  </tbody>\n",
       "</table>\n",
       "<p>5 rows × 23 columns</p>\n",
       "</div>"
      ],
      "text/plain": [
       "   REG_YYMM  MEGA_CTY_NO MEGA_CTY_NM  CTY_RGN_NO CTY_RGN_NM  ADMI_CTY_NO  \\\n",
       "0    201906           11       서울특별시        1162        관악구     11620585   \n",
       "1    201906           11       서울특별시        1159        동작구     11590560   \n",
       "2    201906           11       서울특별시        1162        관악구     11620595   \n",
       "3    201906           11       서울특별시        1144        마포구     11440660   \n",
       "4    201906           11       서울특별시        1120        성동구     11200550   \n",
       "\n",
       "  ADMI_CTY_NM  MAIN_BUZ_CODE MAIN_BUZ_DESC  TP_GRP_NO  ... CSTMR_GUBUN  \\\n",
       "0        낙성대동             80            음식         80  ...         내국인   \n",
       "1        상도4동             30            생활         40  ...         내국인   \n",
       "2         청룡동             30            생활         83  ...         내국인   \n",
       "3         서교동             80            음식         80  ...         내국인   \n",
       "4         사근동             80            음식         80  ...         내국인   \n",
       "\n",
       "   CSTMR_MEGA_CTY_NO CSTMR_MEGA_CTY_NM CSTMR_CTY_RGN_NO  CSTMR_CTY_RGN_NM  \\\n",
       "0                 11             서울특별시             1162               관악구   \n",
       "1                 11             서울특별시             1165               서초구   \n",
       "2                 11             서울특별시             1162               관악구   \n",
       "3                 11             서울특별시             1138               은평구   \n",
       "4                 11             서울특별시             1120               성동구   \n",
       "\n",
       "  SEX_CTGO_CD  AGE_VAL FLC       AMT   CNT  \n",
       "0           2      30대   2  26284804  1892  \n",
       "1           2      20대   1    109290    18  \n",
       "2           1      20대   1    268850    52  \n",
       "3           1      20대   1  44174450  1790  \n",
       "4           1      20대   1  60338146  3536  \n",
       "\n",
       "[5 rows x 23 columns]"
      ]
     },
     "execution_count": 67,
     "metadata": {},
     "output_type": "execute_result"
    }
   ],
   "source": [
    "bc = pd.read_csv('data/201906bc_card.csv', encoding='utf-8', index_col=0)\n",
    "bc.head()"
   ]
  },
  {
   "cell_type": "code",
   "execution_count": 95,
   "id": "55f12269-da0d-44fd-9533-64e0417425d6",
   "metadata": {},
   "outputs": [
    {
     "data": {
      "text/html": [
       "<div>\n",
       "<style scoped>\n",
       "    .dataframe tbody tr th:only-of-type {\n",
       "        vertical-align: middle;\n",
       "    }\n",
       "\n",
       "    .dataframe tbody tr th {\n",
       "        vertical-align: top;\n",
       "    }\n",
       "\n",
       "    .dataframe thead th {\n",
       "        text-align: right;\n",
       "    }\n",
       "</style>\n",
       "<table border=\"1\" class=\"dataframe\">\n",
       "  <thead>\n",
       "    <tr style=\"text-align: right;\">\n",
       "      <th></th>\n",
       "      <th>REG_YYMM</th>\n",
       "      <th>MEGA_CTY_NO</th>\n",
       "      <th>MEGA_CTY_NM</th>\n",
       "      <th>CTY_RGN_NO</th>\n",
       "      <th>CTY_RGN_NM</th>\n",
       "      <th>ADMI_CTY_NO</th>\n",
       "      <th>ADMI_CTY_NM</th>\n",
       "      <th>MAIN_BUZ_CODE</th>\n",
       "      <th>MAIN_BUZ_DESC</th>\n",
       "      <th>TP_GRP_NO</th>\n",
       "      <th>...</th>\n",
       "      <th>CSTMR_GUBUN</th>\n",
       "      <th>CSTMR_MEGA_CTY_NO</th>\n",
       "      <th>CSTMR_MEGA_CTY_NM</th>\n",
       "      <th>CSTMR_CTY_RGN_NO</th>\n",
       "      <th>CSTMR_CTY_RGN_NM</th>\n",
       "      <th>SEX_CTGO_CD</th>\n",
       "      <th>AGE_VAL</th>\n",
       "      <th>FLC</th>\n",
       "      <th>AMT</th>\n",
       "      <th>CNT</th>\n",
       "    </tr>\n",
       "  </thead>\n",
       "  <tbody>\n",
       "    <tr>\n",
       "      <th>61255</th>\n",
       "      <td>201906</td>\n",
       "      <td>11</td>\n",
       "      <td>서울특별시</td>\n",
       "      <td>1147</td>\n",
       "      <td>양천구</td>\n",
       "      <td>11470510</td>\n",
       "      <td>목1동</td>\n",
       "      <td>80</td>\n",
       "      <td>음식</td>\n",
       "      <td>80</td>\n",
       "      <td>...</td>\n",
       "      <td>내국인</td>\n",
       "      <td>11</td>\n",
       "      <td>서울특별시</td>\n",
       "      <td>1171</td>\n",
       "      <td>송파구</td>\n",
       "      <td>1</td>\n",
       "      <td>30대</td>\n",
       "      <td>2</td>\n",
       "      <td>577500</td>\n",
       "      <td>13</td>\n",
       "    </tr>\n",
       "    <tr>\n",
       "      <th>86352</th>\n",
       "      <td>201906</td>\n",
       "      <td>11</td>\n",
       "      <td>서울특별시</td>\n",
       "      <td>1168</td>\n",
       "      <td>강남구</td>\n",
       "      <td>11680640</td>\n",
       "      <td>역삼1동</td>\n",
       "      <td>30</td>\n",
       "      <td>생활</td>\n",
       "      <td>62</td>\n",
       "      <td>...</td>\n",
       "      <td>내국인</td>\n",
       "      <td>47</td>\n",
       "      <td>경상북도</td>\n",
       "      <td>4719</td>\n",
       "      <td>구미시</td>\n",
       "      <td>2</td>\n",
       "      <td>30대</td>\n",
       "      <td>3</td>\n",
       "      <td>1323584</td>\n",
       "      <td>18</td>\n",
       "    </tr>\n",
       "    <tr>\n",
       "      <th>54401</th>\n",
       "      <td>201906</td>\n",
       "      <td>11</td>\n",
       "      <td>서울특별시</td>\n",
       "      <td>1168</td>\n",
       "      <td>강남구</td>\n",
       "      <td>11680545</td>\n",
       "      <td>압구정동</td>\n",
       "      <td>80</td>\n",
       "      <td>음식</td>\n",
       "      <td>80</td>\n",
       "      <td>...</td>\n",
       "      <td>내국인</td>\n",
       "      <td>11</td>\n",
       "      <td>서울특별시</td>\n",
       "      <td>1153</td>\n",
       "      <td>구로구</td>\n",
       "      <td>2</td>\n",
       "      <td>30대</td>\n",
       "      <td>2</td>\n",
       "      <td>1632470</td>\n",
       "      <td>75</td>\n",
       "    </tr>\n",
       "    <tr>\n",
       "      <th>40153</th>\n",
       "      <td>201906</td>\n",
       "      <td>11</td>\n",
       "      <td>서울특별시</td>\n",
       "      <td>1165</td>\n",
       "      <td>서초구</td>\n",
       "      <td>11650530</td>\n",
       "      <td>서초3동</td>\n",
       "      <td>99</td>\n",
       "      <td>기타</td>\n",
       "      <td>91</td>\n",
       "      <td>...</td>\n",
       "      <td>내국인</td>\n",
       "      <td>11</td>\n",
       "      <td>서울특별시</td>\n",
       "      <td>1117</td>\n",
       "      <td>용산구</td>\n",
       "      <td>2</td>\n",
       "      <td>50대</td>\n",
       "      <td>4</td>\n",
       "      <td>540300</td>\n",
       "      <td>21</td>\n",
       "    </tr>\n",
       "    <tr>\n",
       "      <th>96806</th>\n",
       "      <td>201906</td>\n",
       "      <td>11</td>\n",
       "      <td>서울특별시</td>\n",
       "      <td>1111</td>\n",
       "      <td>종로구</td>\n",
       "      <td>11110650</td>\n",
       "      <td>혜화동</td>\n",
       "      <td>85</td>\n",
       "      <td>유흥</td>\n",
       "      <td>86</td>\n",
       "      <td>...</td>\n",
       "      <td>내국인</td>\n",
       "      <td>41</td>\n",
       "      <td>경기도</td>\n",
       "      <td>4136</td>\n",
       "      <td>남양주시</td>\n",
       "      <td>2</td>\n",
       "      <td>40대</td>\n",
       "      <td>3</td>\n",
       "      <td>61900</td>\n",
       "      <td>11</td>\n",
       "    </tr>\n",
       "    <tr>\n",
       "      <th>10928</th>\n",
       "      <td>201906</td>\n",
       "      <td>11</td>\n",
       "      <td>서울특별시</td>\n",
       "      <td>1132</td>\n",
       "      <td>도봉구</td>\n",
       "      <td>11320660</td>\n",
       "      <td>쌍문1동</td>\n",
       "      <td>30</td>\n",
       "      <td>생활</td>\n",
       "      <td>70</td>\n",
       "      <td>...</td>\n",
       "      <td>내국인</td>\n",
       "      <td>11</td>\n",
       "      <td>서울특별시</td>\n",
       "      <td>1130</td>\n",
       "      <td>강북구</td>\n",
       "      <td>1</td>\n",
       "      <td>50대</td>\n",
       "      <td>4</td>\n",
       "      <td>194900</td>\n",
       "      <td>15</td>\n",
       "    </tr>\n",
       "    <tr>\n",
       "      <th>3547</th>\n",
       "      <td>201906</td>\n",
       "      <td>11</td>\n",
       "      <td>서울특별시</td>\n",
       "      <td>1168</td>\n",
       "      <td>강남구</td>\n",
       "      <td>11680630</td>\n",
       "      <td>대치4동</td>\n",
       "      <td>80</td>\n",
       "      <td>음식</td>\n",
       "      <td>80</td>\n",
       "      <td>...</td>\n",
       "      <td>내국인</td>\n",
       "      <td>28</td>\n",
       "      <td>인천광역시</td>\n",
       "      <td>2811</td>\n",
       "      <td>중구</td>\n",
       "      <td>1</td>\n",
       "      <td>30대</td>\n",
       "      <td>2</td>\n",
       "      <td>158700</td>\n",
       "      <td>24</td>\n",
       "    </tr>\n",
       "    <tr>\n",
       "      <th>78086</th>\n",
       "      <td>201906</td>\n",
       "      <td>11</td>\n",
       "      <td>서울특별시</td>\n",
       "      <td>1120</td>\n",
       "      <td>성동구</td>\n",
       "      <td>11200720</td>\n",
       "      <td>송정동</td>\n",
       "      <td>80</td>\n",
       "      <td>음식</td>\n",
       "      <td>80</td>\n",
       "      <td>...</td>\n",
       "      <td>내국인</td>\n",
       "      <td>11</td>\n",
       "      <td>서울특별시</td>\n",
       "      <td>1174</td>\n",
       "      <td>강동구</td>\n",
       "      <td>1</td>\n",
       "      <td>30대</td>\n",
       "      <td>2</td>\n",
       "      <td>78300</td>\n",
       "      <td>6</td>\n",
       "    </tr>\n",
       "    <tr>\n",
       "      <th>5609</th>\n",
       "      <td>201906</td>\n",
       "      <td>11</td>\n",
       "      <td>서울특별시</td>\n",
       "      <td>1138</td>\n",
       "      <td>은평구</td>\n",
       "      <td>11380520</td>\n",
       "      <td>불광1동</td>\n",
       "      <td>30</td>\n",
       "      <td>생활</td>\n",
       "      <td>70</td>\n",
       "      <td>...</td>\n",
       "      <td>내국인</td>\n",
       "      <td>41</td>\n",
       "      <td>경기도</td>\n",
       "      <td>4128</td>\n",
       "      <td>고양시</td>\n",
       "      <td>1</td>\n",
       "      <td>30대</td>\n",
       "      <td>2</td>\n",
       "      <td>141500</td>\n",
       "      <td>6</td>\n",
       "    </tr>\n",
       "    <tr>\n",
       "      <th>99671</th>\n",
       "      <td>201906</td>\n",
       "      <td>11</td>\n",
       "      <td>서울특별시</td>\n",
       "      <td>1117</td>\n",
       "      <td>용산구</td>\n",
       "      <td>11170685</td>\n",
       "      <td>한남동</td>\n",
       "      <td>80</td>\n",
       "      <td>음식</td>\n",
       "      <td>80</td>\n",
       "      <td>...</td>\n",
       "      <td>내국인</td>\n",
       "      <td>11</td>\n",
       "      <td>서울특별시</td>\n",
       "      <td>1159</td>\n",
       "      <td>동작구</td>\n",
       "      <td>2</td>\n",
       "      <td>20대</td>\n",
       "      <td>1</td>\n",
       "      <td>3209130</td>\n",
       "      <td>141</td>\n",
       "    </tr>\n",
       "  </tbody>\n",
       "</table>\n",
       "<p>10 rows × 23 columns</p>\n",
       "</div>"
      ],
      "text/plain": [
       "       REG_YYMM  MEGA_CTY_NO MEGA_CTY_NM  CTY_RGN_NO CTY_RGN_NM  ADMI_CTY_NO  \\\n",
       "61255    201906           11       서울특별시        1147        양천구     11470510   \n",
       "86352    201906           11       서울특별시        1168        강남구     11680640   \n",
       "54401    201906           11       서울특별시        1168        강남구     11680545   \n",
       "40153    201906           11       서울특별시        1165        서초구     11650530   \n",
       "96806    201906           11       서울특별시        1111        종로구     11110650   \n",
       "10928    201906           11       서울특별시        1132        도봉구     11320660   \n",
       "3547     201906           11       서울특별시        1168        강남구     11680630   \n",
       "78086    201906           11       서울특별시        1120        성동구     11200720   \n",
       "5609     201906           11       서울특별시        1138        은평구     11380520   \n",
       "99671    201906           11       서울특별시        1117        용산구     11170685   \n",
       "\n",
       "      ADMI_CTY_NM  MAIN_BUZ_CODE MAIN_BUZ_DESC  TP_GRP_NO  ... CSTMR_GUBUN  \\\n",
       "61255         목1동             80            음식         80  ...         내국인   \n",
       "86352        역삼1동             30            생활         62  ...         내국인   \n",
       "54401        압구정동             80            음식         80  ...         내국인   \n",
       "40153        서초3동             99            기타         91  ...         내국인   \n",
       "96806         혜화동             85            유흥         86  ...         내국인   \n",
       "10928        쌍문1동             30            생활         70  ...         내국인   \n",
       "3547         대치4동             80            음식         80  ...         내국인   \n",
       "78086         송정동             80            음식         80  ...         내국인   \n",
       "5609         불광1동             30            생활         70  ...         내국인   \n",
       "99671         한남동             80            음식         80  ...         내국인   \n",
       "\n",
       "       CSTMR_MEGA_CTY_NO CSTMR_MEGA_CTY_NM CSTMR_CTY_RGN_NO  CSTMR_CTY_RGN_NM  \\\n",
       "61255                 11             서울특별시             1171               송파구   \n",
       "86352                 47              경상북도             4719               구미시   \n",
       "54401                 11             서울특별시             1153               구로구   \n",
       "40153                 11             서울특별시             1117               용산구   \n",
       "96806                 41               경기도             4136              남양주시   \n",
       "10928                 11             서울특별시             1130               강북구   \n",
       "3547                  28             인천광역시             2811                중구   \n",
       "78086                 11             서울특별시             1174               강동구   \n",
       "5609                  41               경기도             4128               고양시   \n",
       "99671                 11             서울특별시             1159               동작구   \n",
       "\n",
       "      SEX_CTGO_CD  AGE_VAL FLC      AMT  CNT  \n",
       "61255           1      30대   2   577500   13  \n",
       "86352           2      30대   3  1323584   18  \n",
       "54401           2      30대   2  1632470   75  \n",
       "40153           2      50대   4   540300   21  \n",
       "96806           2      40대   3    61900   11  \n",
       "10928           1      50대   4   194900   15  \n",
       "3547            1      30대   2   158700   24  \n",
       "78086           1      30대   2    78300    6  \n",
       "5609            1      30대   2   141500    6  \n",
       "99671           2      20대   1  3209130  141  \n",
       "\n",
       "[10 rows x 23 columns]"
      ]
     },
     "execution_count": 95,
     "metadata": {},
     "output_type": "execute_result"
    }
   ],
   "source": [
    "bc.sample(10)\n"
   ]
  },
  {
   "cell_type": "markdown",
   "id": "27265ec8-8ddf-41d3-892c-f5e768e42096",
   "metadata": {},
   "source": [
    "1. 총 고객수 \n",
    "2. 서울시 거주/비거주 고객수\n",
    "3. 남녀 고객 성별 소비액\n",
    "4. 편의점 소비액 TP_BUZ_NO 4010\n",
    "5. 강남구 편의점 소비금액\n",
    "6. 강남구에서 타 거주자가 소비한 금액 "
   ]
  },
  {
   "cell_type": "code",
   "execution_count": 614,
   "id": "f8853f53-d18a-4103-beb4-a4d98af7e9aa",
   "metadata": {},
   "outputs": [
    {
     "data": {
      "text/plain": [
       "100001"
      ]
     },
     "execution_count": 614,
     "metadata": {},
     "output_type": "execute_result"
    }
   ],
   "source": [
    "len(bc.index)"
   ]
  },
  {
   "cell_type": "code",
   "execution_count": 616,
   "id": "da2320b3-cd84-4d2c-99f6-e0802e4cdfeb",
   "metadata": {},
   "outputs": [
    {
     "name": "stdout",
     "output_type": "stream",
     "text": [
      "1. 총 고객수 :  100,001 명\n"
     ]
    }
   ],
   "source": [
    "print(\"1. 총 고객수 : \", '{0:,}'.format(len(bc.index)),\"명\")"
   ]
  },
  {
   "cell_type": "code",
   "execution_count": 600,
   "id": "e60814d9-a019-423c-8c7d-916297a76506",
   "metadata": {},
   "outputs": [],
   "source": [
    "# total_members = bc.groupby('CSTMR_MEGA_CTY_NM')\n",
    "# total_members = total_members.sum().sort_values(ascending=False)"
   ]
  },
  {
   "cell_type": "code",
   "execution_count": 602,
   "id": "22b787be-2746-4fe3-bb6f-9fcd4b73c782",
   "metadata": {},
   "outputs": [],
   "source": [
    "# total_members.plot(kind='bar')\n",
    "# plt.xticks(rotation=45)\n",
    "# #plt.yticks([0, 1000000, 2000000, 4000000, 6000000])  # 직접 지정\n",
    "\n",
    "# # max_y = total_members.max()\n",
    "# # step = 10  # 틱 간격 \n",
    "# # plt.yticks(np.arange(0, max_y + step, step))\n",
    "\n",
    "# plt.show()"
   ]
  },
  {
   "cell_type": "code",
   "execution_count": 630,
   "id": "6b2e201f-9d59-4bbb-ad32-3e61b2692c44",
   "metadata": {},
   "outputs": [
    {
     "name": "stdout",
     "output_type": "stream",
     "text": [
      "2. 서울시 거주/비거주 고객수\n"
     ]
    },
    {
     "data": {
      "text/html": [
       "<div>\n",
       "<style scoped>\n",
       "    .dataframe tbody tr th:only-of-type {\n",
       "        vertical-align: middle;\n",
       "    }\n",
       "\n",
       "    .dataframe tbody tr th {\n",
       "        vertical-align: top;\n",
       "    }\n",
       "\n",
       "    .dataframe thead th {\n",
       "        text-align: right;\n",
       "    }\n",
       "</style>\n",
       "<table border=\"1\" class=\"dataframe\">\n",
       "  <thead>\n",
       "    <tr style=\"text-align: right;\">\n",
       "      <th></th>\n",
       "      <th>전체 고객수</th>\n",
       "    </tr>\n",
       "  </thead>\n",
       "  <tbody>\n",
       "    <tr>\n",
       "      <th>서울시 거주</th>\n",
       "      <td>54150</td>\n",
       "    </tr>\n",
       "    <tr>\n",
       "      <th>서울시 비거주</th>\n",
       "      <td>45851</td>\n",
       "    </tr>\n",
       "  </tbody>\n",
       "</table>\n",
       "</div>"
      ],
      "text/plain": [
       "         전체 고객수\n",
       "서울시 거주    54150\n",
       "서울시 비거주   45851"
      ]
     },
     "execution_count": 630,
     "metadata": {},
     "output_type": "execute_result"
    }
   ],
   "source": [
    "home = len(bc[bc['MEGA_CTY_NM'] == bc['CSTMR_MEGA_CTY_NM']])\n",
    "other = len(bc[bc['MEGA_CTY_NM'] != bc['CSTMR_MEGA_CTY_NM']])\n",
    "live = [home, other]\n",
    "df_live = pd.DataFrame(live)\n",
    "df_live.columns = ['전체 고객수']\n",
    "df_live.index = ['서울시 거주', '서울시 비거주']\n",
    "print(\"2. 서울시 거주/비거주 고객수\")\n",
    "df_live\n"
   ]
  },
  {
   "cell_type": "code",
   "execution_count": 585,
   "id": "4f6b66a6-418e-4de6-a253-322289c36522",
   "metadata": {},
   "outputs": [
    {
     "data": {
      "text/plain": [
       "<Axes: ylabel='전체 고객수'>"
      ]
     },
     "execution_count": 585,
     "metadata": {},
     "output_type": "execute_result"
    },
    {
     "data": {
      "image/png": "[encoded data removed]",
      "text/plain": [
       "<Figure size 400x400 with 1 Axes>"
      ]
     },
     "metadata": {},
     "output_type": "display_data"
    }
   ],
   "source": [
    "df_live['전체 고객수'].plot(kind='pie', autopct='%1.1f%%', figsize=(4, 4), fontsize=10 )"
   ]
  },
  {
   "cell_type": "code",
   "execution_count": 287,
   "id": "084dcccf-caa4-4bcc-b609-7df096430a1c",
   "metadata": {},
   "outputs": [
    {
     "name": "stdout",
     "output_type": "stream",
     "text": [
      "3. 남녀 고객 성별 소비액\n",
      "남    131,707,949,762\n",
      "여    134,542,328,736\n",
      "Name: AMT, dtype: object 원\n"
     ]
    }
   ],
   "source": [
    "amount = bc.groupby(by='SEX_CTGO_CD')['AMT'].sum()\n",
    "amount.index = ['남', '여']\n",
    "formatted_amount = amount.apply(lambda x: '{0:,}'.format(x) )\n",
    "print(\"3. 남녀 고객 성별 소비액\")\n",
    "print(formatted_amount,\"원\")"
   ]
  },
  {
   "cell_type": "code",
   "execution_count": 507,
   "id": "dfa742cf-a664-4778-a5de-d8d5016f954a",
   "metadata": {},
   "outputs": [
    {
     "data": {
      "text/plain": [
       "<Axes: ylabel='AMT'>"
      ]
     },
     "execution_count": 507,
     "metadata": {},
     "output_type": "execute_result"
    },
    {
     "data": {
      "image/png": "[encoded data removed]",
      "text/plain": [
       "<Figure size 800x400 with 1 Axes>"
      ]
     },
     "metadata": {},
     "output_type": "display_data"
    }
   ],
   "source": [
    "amount.plot(kind='pie', autopct='%1.2f%%')\n"
   ]
  },
  {
   "cell_type": "code",
   "execution_count": 293,
   "id": "01001b04-dab3-41c2-b87d-64bb1c591d27",
   "metadata": {},
   "outputs": [
    {
     "name": "stdout",
     "output_type": "stream",
     "text": [
      "4. 편의점 소비액 \n",
      " 7,299,184,098 원\n"
     ]
    }
   ],
   "source": [
    "# 편의점 소비액 TP_BUZ_NO 4010\n",
    "conv = bc.loc[(bc['TP_BUZ_NO']==4010), ['TP_BUZ_NO','TP_BUZ_NM','AMT']]\n",
    "conv_sum = conv['AMT'].sum()\n",
    "print(\"4. 편의점 소비액 \\n\", format(conv_sum, \",\"),\"원\")"
   ]
  },
  {
   "cell_type": "code",
   "execution_count": 367,
   "id": "c55d08b4-5a50-4e39-ba8b-05659f6cdcbf",
   "metadata": {},
   "outputs": [
    {
     "name": "stdout",
     "output_type": "stream",
     "text": [
      "5. 강남구 편의점 소비금액\n",
      "707,275,140 원\n"
     ]
    }
   ],
   "source": [
    "# 5. 강남구 편의점 소비금액\n",
    "cond1 = (bc['TP_BUZ_NO'] == 4010)\n",
    "cond2 = (bc['CTY_RGN_NM'] == '강남구')\n",
    "\n",
    "conv_gangnam = bc.loc[cond1 & cond2, 'AMT'].sum()\n",
    "print(\"5. 강남구 편의점 소비금액\")\n",
    "print(format(conv_gangnam,\",\"),'원')"
   ]
  },
  {
   "cell_type": "code",
   "execution_count": 644,
   "id": "65b311b5-60d9-4f10-9145-65a890f820cf",
   "metadata": {},
   "outputs": [
    {
     "name": "stdout",
     "output_type": "stream",
     "text": [
      "6. 강남구에서 타 거주자가 소비한 금액 \n",
      "215,991,562,401 원\n"
     ]
    }
   ],
   "source": [
    "# 6. 강남구에서 타 거주자가 소비한 금액 \n",
    "cond1 = bc['CTY_RGN_NM'] != bc['CSTMR_CTY_RGN_NM']\n",
    "other_home_gangnam = bc.loc[cond1, 'AMT'].sum()\n",
    "print(\"6. 강남구에서 타 거주자가 소비한 금액 \")\n",
    "print(\"{0:,}\".format(other_home_gangnam), '원')"
   ]
  },
  {
   "cell_type": "code",
   "execution_count": null,
   "id": "c3bea870-00a5-49be-940b-447a748d041f",
   "metadata": {},
   "outputs": [],
   "source": [
    "#  거주자가 강남구인  인덱스 삭제 "
   ]
  },
  {
   "cell_type": "code",
   "execution_count": 646,
   "id": "2a92cff7-4487-45da-abd6-f91924aed4df",
   "metadata": {},
   "outputs": [
    {
     "name": "stdout",
     "output_type": "stream",
     "text": [
      "230714629996\n"
     ]
    }
   ],
   "source": [
    "in_gang = bc.loc[bc['CTY_RGN_NM'] == '강남구'].index\n",
    "out_gang = bc.drop(in_gang, axis=0)\n",
    "print(out_gang['AMT'].sum())"
   ]
  },
  {
   "cell_type": "code",
   "execution_count": null,
   "id": "291f30e6-72a0-4ba6-ba68-4a3c461cf769",
   "metadata": {},
   "outputs": [],
   "source": []
  },
  {
   "cell_type": "code",
   "execution_count": null,
   "id": "7996e1d5-abb2-42e3-8ccc-c2eb14e575ac",
   "metadata": {},
   "outputs": [],
   "source": []
  },
  {
   "cell_type": "code",
   "execution_count": null,
   "id": "c2dcaf56-d79d-4c89-ada3-ef321fe0aea9",
   "metadata": {},
   "outputs": [],
   "source": []
  }
 ],
 "metadata": {
  "kernelspec": {
   "display_name": "Python [conda env:base] *",
   "language": "python",
   "name": "conda-base-py"
  },
  "language_info": {
   "codemirror_mode": {
    "name": "ipython",
    "version": 3
   },
   "file_extension": ".py",
   "mimetype": "text/x-python",
   "name": "python",
   "nbconvert_exporter": "python",
   "pygments_lexer": "ipython3",
   "version": "3.12.7"
  }
 },
 "nbformat": 4,
 "nbformat_minor": 5
}
