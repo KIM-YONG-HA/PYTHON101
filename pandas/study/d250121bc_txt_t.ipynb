{
 "cells": [
  {
   "cell_type": "code",
   "execution_count": 1,
   "id": "905ee6b2-a1d9-4f22-8eb2-1f04760a05c0",
   "metadata": {},
   "outputs": [],
   "source": [
    "# 라이브러리 임포트\n",
    "import pandas as pd\n",
    "import numpy as np\n",
    "import matplotlib.pyplot as plt\n",
    "import seaborn as sns"
   ]
  },
  {
   "cell_type": "code",
   "execution_count": 2,
   "id": "94ed5f74-57cd-419b-b79c-a6b631ab1ab2",
   "metadata": {},
   "outputs": [
    {
     "name": "stdout",
     "output_type": "stream",
     "text": [
      "<class 'bytes'>\n",
      "<class 'str'>\n"
     ]
    }
   ],
   "source": [
    "# bc_card.txt 파일 읽어서 타입 확인\n",
    "with open('bc_card.txt', mode='rb') as f:\n",
    "    with open('bc_card_output.txt', mode='w') as w:\n",
    "        data = f.read()\n",
    "        print(type(data))\n",
    "        data = data.decode('cp949')\n",
    "        print(type(data))\n",
    "        w.write(data)"
   ]
  },
  {
   "cell_type": "code",
   "execution_count": 3,
   "id": "f5131c78-24bb-496d-84fb-793d79a48de3",
   "metadata": {},
   "outputs": [
    {
     "data": {
      "text/plain": [
       "10235713"
      ]
     },
     "execution_count": 3,
     "metadata": {},
     "output_type": "execute_result"
    }
   ],
   "source": [
    "# 데이터 정제 : 문자열 개수 확인 , 문자열 100개 출력\n",
    "with open('bc_card_output.txt', mode='r') as f:\n",
    "    data = f.read()\n",
    "len(data)"
   ]
  },
  {
   "cell_type": "code",
   "execution_count": 4,
   "id": "6155818e-0e5a-479f-8ce5-be1a2b1b1e88",
   "metadata": {},
   "outputs": [
    {
     "data": {
      "text/plain": [
       "'REG_YYMM\\tMEGA_CTY_NO\\tMEGA_CTY_NM\\tCTY_RGN_NO\\tCTY_RGN_NM\\tADMI_CTY_NO\\tADMI_CTY_NM\\tMAIN_BUZ_CODE\\tMAIN_BU'"
      ]
     },
     "execution_count": 4,
     "metadata": {},
     "output_type": "execute_result"
    }
   ],
   "source": [
    "data[:100]"
   ]
  },
  {
   "cell_type": "code",
   "execution_count": 5,
   "id": "40bc209f-f9fe-4791-9694-ac75ca42ef79",
   "metadata": {},
   "outputs": [
    {
     "data": {
      "text/plain": [
       "['REG_YYMM',\n",
       " 'MEGA_CTY_NO',\n",
       " 'MEGA_CTY_NM',\n",
       " 'CTY_RGN_NO',\n",
       " 'CTY_RGN_NM',\n",
       " 'ADMI_CTY_NO',\n",
       " 'ADMI_CTY_NM',\n",
       " 'MAIN_BUZ_CODE',\n",
       " 'MAIN_BUZ_DESC',\n",
       " 'TP_GRP_NO',\n",
       " 'TP_GRP_NM',\n",
       " 'TP_BUZ_NO',\n",
       " 'TP_BUZ_NM',\n",
       " 'CSTMR_GUBUN',\n",
       " 'CSTMR_MEGA_CTY_NO',\n",
       " 'CSTMR_MEGA_CTY_NM',\n",
       " 'CSTMR_CTY_RGN_NO',\n",
       " 'CSTMR_CTY_RGN_NM',\n",
       " 'SEX_CTGO_CD',\n",
       " 'AGE_VAL',\n",
       " 'FLC',\n",
       " 'AMT',\n",
       " 'CNT201906',\n",
       " '11',\n",
       " '서울특별시']"
      ]
     },
     "execution_count": 5,
     "metadata": {},
     "output_type": "execute_result"
    }
   ],
   "source": [
    "# 탭을 기준으로 문자열 분리\n",
    "split_data = data.split('\\t')\n",
    "# print(type(split_data))\n",
    "split_data[:25]"
   ]
  },
  {
   "cell_type": "code",
   "execution_count": 6,
   "id": "65ca9411-906a-457b-a3c3-abfea76b09b4",
   "metadata": {},
   "outputs": [
    {
     "data": {
      "text/plain": [
       "'CNT201906'"
      ]
     },
     "execution_count": 6,
     "metadata": {},
     "output_type": "execute_result"
    }
   ],
   "source": [
    "split_data[22]"
   ]
  },
  {
   "cell_type": "code",
   "execution_count": 7,
   "id": "80f2a2b3-f147-458c-9c69-6bfca15b5aaa",
   "metadata": {},
   "outputs": [
    {
     "data": {
      "text/plain": [
       "'CNT\\t201906'"
      ]
     },
     "execution_count": 7,
     "metadata": {},
     "output_type": "execute_result"
    }
   ],
   "source": [
    "split_data[22][:3]+'\\t'+split_data[22][3:]"
   ]
  },
  {
   "cell_type": "code",
   "execution_count": 8,
   "id": "fd7e041f-9d3e-46a5-9d6d-f3b18c7e4daa",
   "metadata": {},
   "outputs": [
    {
     "data": {
      "text/plain": [
       "257"
      ]
     },
     "execution_count": 8,
     "metadata": {},
     "output_type": "execute_result"
    }
   ],
   "source": [
    "data.find('CNT')"
   ]
  },
  {
   "cell_type": "code",
   "execution_count": 9,
   "id": "5c79afcf-248d-4f44-9892-b0ede852fced",
   "metadata": {},
   "outputs": [
    {
     "data": {
      "text/plain": [
       "['REG_YYMM',\n",
       " 'MEGA_CTY_NO',\n",
       " 'MEGA_CTY_NM',\n",
       " 'CTY_RGN_NO',\n",
       " 'CTY_RGN_NM',\n",
       " 'ADMI_CTY_NO',\n",
       " 'ADMI_CTY_NM',\n",
       " 'MAIN_BUZ_CODE',\n",
       " 'MAIN_BUZ_DESC',\n",
       " 'TP_GRP_NO',\n",
       " 'TP_GRP_NM',\n",
       " 'TP_BUZ_NO',\n",
       " 'TP_BUZ_NM',\n",
       " 'CSTMR_GUBUN',\n",
       " 'CSTMR_MEGA_CTY_NO',\n",
       " 'CSTMR_MEGA_CTY_NM',\n",
       " 'CSTMR_CTY_RGN_NO',\n",
       " 'CSTMR_CTY_RGN_NM',\n",
       " 'SEX_CTGO_CD',\n",
       " 'AGE_VAL',\n",
       " 'FLC',\n",
       " 'AMT',\n",
       " 'CNT',\n",
       " '201906',\n",
       " '11']"
      ]
     },
     "execution_count": 9,
     "metadata": {},
     "output_type": "execute_result"
    }
   ],
   "source": [
    "data = data[:260]+'\\t'+data[260:]\n",
    "split_data = data.split('\\t')\n",
    "split_data[:25]"
   ]
  },
  {
   "cell_type": "code",
   "execution_count": 10,
   "id": "6072bffb-f33c-411a-ab3e-d8b96fc49ef2",
   "metadata": {},
   "outputs": [
    {
     "data": {
      "text/plain": [
       "4"
      ]
     },
     "execution_count": 10,
     "metadata": {},
     "output_type": "execute_result"
    }
   ],
   "source": [
    "Num_Column = 23\n",
    "len(split_data) % Num_Column"
   ]
  },
  {
   "cell_type": "code",
   "execution_count": 11,
   "id": "7a1f61ee-4c28-49c5-b316-e6ffe907679e",
   "metadata": {},
   "outputs": [
    {
     "data": {
      "text/plain": [
       "('CNT', '201906', '1892201906', '18201906', '52201906')"
      ]
     },
     "execution_count": 11,
     "metadata": {},
     "output_type": "execute_result"
    }
   ],
   "source": [
    "split_data[22], split_data[23], split_data[23+22], split_data[23+22+22], split_data[23+22+22+22]"
   ]
  },
  {
   "cell_type": "code",
   "execution_count": 12,
   "id": "e5c7a122-5700-46fe-aaff-2953e936577c",
   "metadata": {},
   "outputs": [
    {
     "data": {
      "text/plain": [
       "4"
      ]
     },
     "execution_count": 12,
     "metadata": {},
     "output_type": "execute_result"
    }
   ],
   "source": [
    "split_data[23+22].find('201906')"
   ]
  },
  {
   "cell_type": "code",
   "execution_count": 21,
   "id": "7f1b0f20-d4b5-4ed7-b1f4-973e31fb2ccf",
   "metadata": {},
   "outputs": [],
   "source": [
    "cycle = 22\n",
    "i = 1\n",
    "while i < round((len(split_data) - cycle) / cycle):\n",
    "    target_index = split_data[Num_Column + cycle * i].find('201906')\n",
    "    split_data[Num_Column + cycle * i] = split_data[Num_Column + cycle * i][:target_index] + '\\t' + split_data[Num_Column + cycle * i][target_index:]\n",
    "    i += 1"
   ]
  },
  {
   "cell_type": "code",
   "execution_count": 23,
   "id": "963f323f-86c3-4e35-9911-c1f3d1c5f64d",
   "metadata": {},
   "outputs": [
    {
     "data": {
      "text/plain": [
       "('CNT', '201906', '1892\\t201906', '18\\t201906', '52\\t201906')"
      ]
     },
     "execution_count": 23,
     "metadata": {},
     "output_type": "execute_result"
    }
   ],
   "source": [
    "split_data[22], split_data[23], split_data[23+22], split_data[23+22+22], split_data[23+22+22+22]"
   ]
  },
  {
   "cell_type": "code",
   "execution_count": 27,
   "id": "4774fa1b-e6ff-47bc-9fd6-292628442180",
   "metadata": {},
   "outputs": [
    {
     "data": {
      "text/plain": [
       "['REG_YYMM',\n",
       " 'MEGA_CTY_NO',\n",
       " 'MEGA_CTY_NM',\n",
       " 'CTY_RGN_NO',\n",
       " 'CTY_RGN_NM',\n",
       " 'ADMI_CTY_NO',\n",
       " 'ADMI_CTY_NM',\n",
       " 'MAIN_BUZ_CODE',\n",
       " 'MAIN_BUZ_DESC',\n",
       " 'TP_GRP_NO',\n",
       " 'TP_GRP_NM',\n",
       " 'TP_BUZ_NO',\n",
       " 'TP_BUZ_NM',\n",
       " 'CSTMR_GUBUN',\n",
       " 'CSTMR_MEGA_CTY_NO',\n",
       " 'CSTMR_MEGA_CTY_NM',\n",
       " 'CSTMR_CTY_RGN_NO',\n",
       " 'CSTMR_CTY_RGN_NM',\n",
       " 'SEX_CTGO_CD',\n",
       " 'AGE_VAL',\n",
       " 'FLC',\n",
       " 'AMT',\n",
       " 'CNT',\n",
       " '201906',\n",
       " '11',\n",
       " '서울특별시',\n",
       " '1162',\n",
       " '관악구',\n",
       " '11620585',\n",
       " '낙성대동',\n",
       " '80',\n",
       " '음식',\n",
       " '80',\n",
       " '일반음식',\n",
       " '8006',\n",
       " '서양음식',\n",
       " '내국인',\n",
       " '11',\n",
       " '서울특별시',\n",
       " '1162',\n",
       " '관악구',\n",
       " '2',\n",
       " '30대',\n",
       " '2',\n",
       " '26284804',\n",
       " '1892\\t201906',\n",
       " '11',\n",
       " '서울특별시',\n",
       " '1159',\n",
       " '동작구']"
      ]
     },
     "execution_count": 27,
     "metadata": {},
     "output_type": "execute_result"
    }
   ],
   "source": [
    "split_data[:50]"
   ]
  },
  {
   "cell_type": "code",
   "execution_count": 29,
   "id": "4aa2b5b6-41e1-4cb7-acdc-720c27bbd162",
   "metadata": {},
   "outputs": [
    {
     "data": {
      "text/plain": [
       "'REG_YYMM\\tMEGA_CTY_NO\\tMEGA_CTY_NM\\tCTY_RGN_NO\\tCTY_RG'"
      ]
     },
     "execution_count": 29,
     "metadata": {},
     "output_type": "execute_result"
    }
   ],
   "source": [
    "join_split_data = '\\t'.join(split_data)\n",
    "join_split_data[:50]"
   ]
  },
  {
   "cell_type": "code",
   "execution_count": 31,
   "id": "2837cac7-0cad-454a-aa92-a8fac4fb297a",
   "metadata": {},
   "outputs": [
    {
     "data": {
      "text/plain": [
       "['REG_YYMM',\n",
       " 'MEGA_CTY_NO',\n",
       " 'MEGA_CTY_NM',\n",
       " 'CTY_RGN_NO',\n",
       " 'CTY_RGN_NM',\n",
       " 'ADMI_CTY_NO',\n",
       " 'ADMI_CTY_NM',\n",
       " 'MAIN_BUZ_CODE',\n",
       " 'MAIN_BUZ_DESC',\n",
       " 'TP_GRP_NO',\n",
       " 'TP_GRP_NM',\n",
       " 'TP_BUZ_NO',\n",
       " 'TP_BUZ_NM',\n",
       " 'CSTMR_GUBUN',\n",
       " 'CSTMR_MEGA_CTY_NO',\n",
       " 'CSTMR_MEGA_CTY_NM',\n",
       " 'CSTMR_CTY_RGN_NO',\n",
       " 'CSTMR_CTY_RGN_NM',\n",
       " 'SEX_CTGO_CD',\n",
       " 'AGE_VAL',\n",
       " 'FLC',\n",
       " 'AMT',\n",
       " 'CNT',\n",
       " '201906',\n",
       " '11',\n",
       " '서울특별시',\n",
       " '1162',\n",
       " '관악구',\n",
       " '11620585',\n",
       " '낙성대동',\n",
       " '80',\n",
       " '음식',\n",
       " '80',\n",
       " '일반음식',\n",
       " '8006',\n",
       " '서양음식',\n",
       " '내국인',\n",
       " '11',\n",
       " '서울특별시',\n",
       " '1162',\n",
       " '관악구',\n",
       " '2',\n",
       " '30대',\n",
       " '2',\n",
       " '26284804',\n",
       " '1892',\n",
       " '201906',\n",
       " '11',\n",
       " '서울특별시',\n",
       " '1159']"
      ]
     },
     "execution_count": 31,
     "metadata": {},
     "output_type": "execute_result"
    }
   ],
   "source": [
    "joined_splited_data = join_split_data.split('\\t')\n",
    "joined_splited_data[:50]"
   ]
  },
  {
   "cell_type": "code",
   "execution_count": 37,
   "id": "03114af9-d90b-4305-b256-cf7a7592ce63",
   "metadata": {},
   "outputs": [
    {
     "data": {
      "text/plain": [
       "['201906',\n",
       " '11',\n",
       " '서울특별시',\n",
       " '1159',\n",
       " '동작구',\n",
       " '11590560',\n",
       " '상도4동',\n",
       " '30',\n",
       " '생활',\n",
       " '40',\n",
       " '유통업영리',\n",
       " '4010',\n",
       " '편 의 점',\n",
       " '내국인',\n",
       " '11',\n",
       " '서울특별시',\n",
       " '1165',\n",
       " '서초구',\n",
       " '2',\n",
       " '20대',\n",
       " '1',\n",
       " '109290',\n",
       " '18']"
      ]
     },
     "execution_count": 37,
     "metadata": {},
     "output_type": "execute_result"
    }
   ],
   "source": [
    "total = [joined_splited_data[i: i+Num_Column] for i in range(0, len(joined_splited_data), Num_Column)]\n",
    "total[2]"
   ]
  },
  {
   "cell_type": "code",
   "execution_count": 39,
   "id": "b8aed575-bbc1-4cbc-8779-108200f20432",
   "metadata": {},
   "outputs": [
    {
     "data": {
      "text/plain": [
       "100002"
      ]
     },
     "execution_count": 39,
     "metadata": {},
     "output_type": "execute_result"
    }
   ],
   "source": [
    "len(total)"
   ]
  },
  {
   "cell_type": "code",
   "execution_count": 41,
   "id": "ad816af5-0613-4cca-bad8-5971faf25858",
   "metadata": {},
   "outputs": [
    {
     "data": {
      "text/html": [
       "<div>\n",
       "<style scoped>\n",
       "    .dataframe tbody tr th:only-of-type {\n",
       "        vertical-align: middle;\n",
       "    }\n",
       "\n",
       "    .dataframe tbody tr th {\n",
       "        vertical-align: top;\n",
       "    }\n",
       "\n",
       "    .dataframe thead th {\n",
       "        text-align: right;\n",
       "    }\n",
       "</style>\n",
       "<table border=\"1\" class=\"dataframe\">\n",
       "  <thead>\n",
       "    <tr style=\"text-align: right;\">\n",
       "      <th></th>\n",
       "      <th>REG_YYMM</th>\n",
       "      <th>MEGA_CTY_NO</th>\n",
       "      <th>MEGA_CTY_NM</th>\n",
       "      <th>CTY_RGN_NO</th>\n",
       "      <th>CTY_RGN_NM</th>\n",
       "      <th>ADMI_CTY_NO</th>\n",
       "      <th>ADMI_CTY_NM</th>\n",
       "      <th>MAIN_BUZ_CODE</th>\n",
       "      <th>MAIN_BUZ_DESC</th>\n",
       "      <th>TP_GRP_NO</th>\n",
       "      <th>...</th>\n",
       "      <th>CSTMR_GUBUN</th>\n",
       "      <th>CSTMR_MEGA_CTY_NO</th>\n",
       "      <th>CSTMR_MEGA_CTY_NM</th>\n",
       "      <th>CSTMR_CTY_RGN_NO</th>\n",
       "      <th>CSTMR_CTY_RGN_NM</th>\n",
       "      <th>SEX_CTGO_CD</th>\n",
       "      <th>AGE_VAL</th>\n",
       "      <th>FLC</th>\n",
       "      <th>AMT</th>\n",
       "      <th>CNT</th>\n",
       "    </tr>\n",
       "  </thead>\n",
       "  <tbody>\n",
       "    <tr>\n",
       "      <th>0</th>\n",
       "      <td>201906</td>\n",
       "      <td>11</td>\n",
       "      <td>서울특별시</td>\n",
       "      <td>1162</td>\n",
       "      <td>관악구</td>\n",
       "      <td>11620585</td>\n",
       "      <td>낙성대동</td>\n",
       "      <td>80</td>\n",
       "      <td>음식</td>\n",
       "      <td>80</td>\n",
       "      <td>...</td>\n",
       "      <td>내국인</td>\n",
       "      <td>11</td>\n",
       "      <td>서울특별시</td>\n",
       "      <td>1162</td>\n",
       "      <td>관악구</td>\n",
       "      <td>2</td>\n",
       "      <td>30대</td>\n",
       "      <td>2</td>\n",
       "      <td>26284804</td>\n",
       "      <td>1892</td>\n",
       "    </tr>\n",
       "    <tr>\n",
       "      <th>1</th>\n",
       "      <td>201906</td>\n",
       "      <td>11</td>\n",
       "      <td>서울특별시</td>\n",
       "      <td>1159</td>\n",
       "      <td>동작구</td>\n",
       "      <td>11590560</td>\n",
       "      <td>상도4동</td>\n",
       "      <td>30</td>\n",
       "      <td>생활</td>\n",
       "      <td>40</td>\n",
       "      <td>...</td>\n",
       "      <td>내국인</td>\n",
       "      <td>11</td>\n",
       "      <td>서울특별시</td>\n",
       "      <td>1165</td>\n",
       "      <td>서초구</td>\n",
       "      <td>2</td>\n",
       "      <td>20대</td>\n",
       "      <td>1</td>\n",
       "      <td>109290</td>\n",
       "      <td>18</td>\n",
       "    </tr>\n",
       "    <tr>\n",
       "      <th>2</th>\n",
       "      <td>201906</td>\n",
       "      <td>11</td>\n",
       "      <td>서울특별시</td>\n",
       "      <td>1162</td>\n",
       "      <td>관악구</td>\n",
       "      <td>11620595</td>\n",
       "      <td>청룡동</td>\n",
       "      <td>30</td>\n",
       "      <td>생활</td>\n",
       "      <td>83</td>\n",
       "      <td>...</td>\n",
       "      <td>내국인</td>\n",
       "      <td>11</td>\n",
       "      <td>서울특별시</td>\n",
       "      <td>1162</td>\n",
       "      <td>관악구</td>\n",
       "      <td>1</td>\n",
       "      <td>20대</td>\n",
       "      <td>1</td>\n",
       "      <td>268850</td>\n",
       "      <td>52</td>\n",
       "    </tr>\n",
       "    <tr>\n",
       "      <th>3</th>\n",
       "      <td>201906</td>\n",
       "      <td>11</td>\n",
       "      <td>서울특별시</td>\n",
       "      <td>1144</td>\n",
       "      <td>마포구</td>\n",
       "      <td>11440660</td>\n",
       "      <td>서교동</td>\n",
       "      <td>80</td>\n",
       "      <td>음식</td>\n",
       "      <td>80</td>\n",
       "      <td>...</td>\n",
       "      <td>내국인</td>\n",
       "      <td>11</td>\n",
       "      <td>서울특별시</td>\n",
       "      <td>1138</td>\n",
       "      <td>은평구</td>\n",
       "      <td>1</td>\n",
       "      <td>20대</td>\n",
       "      <td>1</td>\n",
       "      <td>44174450</td>\n",
       "      <td>1790</td>\n",
       "    </tr>\n",
       "    <tr>\n",
       "      <th>4</th>\n",
       "      <td>201906</td>\n",
       "      <td>11</td>\n",
       "      <td>서울특별시</td>\n",
       "      <td>1120</td>\n",
       "      <td>성동구</td>\n",
       "      <td>11200550</td>\n",
       "      <td>사근동</td>\n",
       "      <td>80</td>\n",
       "      <td>음식</td>\n",
       "      <td>80</td>\n",
       "      <td>...</td>\n",
       "      <td>내국인</td>\n",
       "      <td>11</td>\n",
       "      <td>서울특별시</td>\n",
       "      <td>1120</td>\n",
       "      <td>성동구</td>\n",
       "      <td>1</td>\n",
       "      <td>20대</td>\n",
       "      <td>1</td>\n",
       "      <td>60338146</td>\n",
       "      <td>3536</td>\n",
       "    </tr>\n",
       "  </tbody>\n",
       "</table>\n",
       "<p>5 rows × 23 columns</p>\n",
       "</div>"
      ],
      "text/plain": [
       "  REG_YYMM MEGA_CTY_NO MEGA_CTY_NM CTY_RGN_NO CTY_RGN_NM ADMI_CTY_NO  \\\n",
       "0   201906          11       서울특별시       1162        관악구    11620585   \n",
       "1   201906          11       서울특별시       1159        동작구    11590560   \n",
       "2   201906          11       서울특별시       1162        관악구    11620595   \n",
       "3   201906          11       서울특별시       1144        마포구    11440660   \n",
       "4   201906          11       서울특별시       1120        성동구    11200550   \n",
       "\n",
       "  ADMI_CTY_NM MAIN_BUZ_CODE MAIN_BUZ_DESC TP_GRP_NO  ... CSTMR_GUBUN  \\\n",
       "0        낙성대동            80            음식        80  ...         내국인   \n",
       "1        상도4동            30            생활        40  ...         내국인   \n",
       "2         청룡동            30            생활        83  ...         내국인   \n",
       "3         서교동            80            음식        80  ...         내국인   \n",
       "4         사근동            80            음식        80  ...         내국인   \n",
       "\n",
       "  CSTMR_MEGA_CTY_NO CSTMR_MEGA_CTY_NM CSTMR_CTY_RGN_NO CSTMR_CTY_RGN_NM  \\\n",
       "0                11             서울특별시             1162              관악구   \n",
       "1                11             서울특별시             1165              서초구   \n",
       "2                11             서울특별시             1162              관악구   \n",
       "3                11             서울특별시             1138              은평구   \n",
       "4                11             서울특별시             1120              성동구   \n",
       "\n",
       "  SEX_CTGO_CD AGE_VAL FLC       AMT   CNT  \n",
       "0           2     30대   2  26284804  1892  \n",
       "1           2     20대   1    109290    18  \n",
       "2           1     20대   1    268850    52  \n",
       "3           1     20대   1  44174450  1790  \n",
       "4           1     20대   1  60338146  3536  \n",
       "\n",
       "[5 rows x 23 columns]"
      ]
     },
     "execution_count": 41,
     "metadata": {},
     "output_type": "execute_result"
    }
   ],
   "source": [
    "total_df = pd.DataFrame(total[1:] , columns=total[0])\n",
    "total_df.head()"
   ]
  },
  {
   "cell_type": "code",
   "execution_count": 43,
   "id": "dceeb0f1-5219-423d-acf1-90a2d617919a",
   "metadata": {},
   "outputs": [],
   "source": [
    "total_df.to_csv('201906.csv', encoding='utf-8')"
   ]
  },
  {
   "cell_type": "code",
   "execution_count": 45,
   "id": "65cca225-ba75-4c83-bccb-c0b55ed4f29a",
   "metadata": {},
   "outputs": [
    {
     "data": {
      "text/html": [
       "<div>\n",
       "<style scoped>\n",
       "    .dataframe tbody tr th:only-of-type {\n",
       "        vertical-align: middle;\n",
       "    }\n",
       "\n",
       "    .dataframe tbody tr th {\n",
       "        vertical-align: top;\n",
       "    }\n",
       "\n",
       "    .dataframe thead th {\n",
       "        text-align: right;\n",
       "    }\n",
       "</style>\n",
       "<table border=\"1\" class=\"dataframe\">\n",
       "  <thead>\n",
       "    <tr style=\"text-align: right;\">\n",
       "      <th></th>\n",
       "      <th>REG_YYMM</th>\n",
       "      <th>MEGA_CTY_NO</th>\n",
       "      <th>MEGA_CTY_NM</th>\n",
       "      <th>CTY_RGN_NO</th>\n",
       "      <th>CTY_RGN_NM</th>\n",
       "      <th>ADMI_CTY_NO</th>\n",
       "      <th>ADMI_CTY_NM</th>\n",
       "      <th>MAIN_BUZ_CODE</th>\n",
       "      <th>MAIN_BUZ_DESC</th>\n",
       "      <th>TP_GRP_NO</th>\n",
       "      <th>...</th>\n",
       "      <th>CSTMR_GUBUN</th>\n",
       "      <th>CSTMR_MEGA_CTY_NO</th>\n",
       "      <th>CSTMR_MEGA_CTY_NM</th>\n",
       "      <th>CSTMR_CTY_RGN_NO</th>\n",
       "      <th>CSTMR_CTY_RGN_NM</th>\n",
       "      <th>SEX_CTGO_CD</th>\n",
       "      <th>AGE_VAL</th>\n",
       "      <th>FLC</th>\n",
       "      <th>AMT</th>\n",
       "      <th>CNT</th>\n",
       "    </tr>\n",
       "  </thead>\n",
       "  <tbody>\n",
       "    <tr>\n",
       "      <th>0</th>\n",
       "      <td>201906</td>\n",
       "      <td>11</td>\n",
       "      <td>서울특별시</td>\n",
       "      <td>1162</td>\n",
       "      <td>관악구</td>\n",
       "      <td>11620585</td>\n",
       "      <td>낙성대동</td>\n",
       "      <td>80</td>\n",
       "      <td>음식</td>\n",
       "      <td>80</td>\n",
       "      <td>...</td>\n",
       "      <td>내국인</td>\n",
       "      <td>11</td>\n",
       "      <td>서울특별시</td>\n",
       "      <td>1162</td>\n",
       "      <td>관악구</td>\n",
       "      <td>2</td>\n",
       "      <td>30대</td>\n",
       "      <td>2</td>\n",
       "      <td>26284804</td>\n",
       "      <td>1892</td>\n",
       "    </tr>\n",
       "    <tr>\n",
       "      <th>1</th>\n",
       "      <td>201906</td>\n",
       "      <td>11</td>\n",
       "      <td>서울특별시</td>\n",
       "      <td>1159</td>\n",
       "      <td>동작구</td>\n",
       "      <td>11590560</td>\n",
       "      <td>상도4동</td>\n",
       "      <td>30</td>\n",
       "      <td>생활</td>\n",
       "      <td>40</td>\n",
       "      <td>...</td>\n",
       "      <td>내국인</td>\n",
       "      <td>11</td>\n",
       "      <td>서울특별시</td>\n",
       "      <td>1165</td>\n",
       "      <td>서초구</td>\n",
       "      <td>2</td>\n",
       "      <td>20대</td>\n",
       "      <td>1</td>\n",
       "      <td>109290</td>\n",
       "      <td>18</td>\n",
       "    </tr>\n",
       "    <tr>\n",
       "      <th>2</th>\n",
       "      <td>201906</td>\n",
       "      <td>11</td>\n",
       "      <td>서울특별시</td>\n",
       "      <td>1162</td>\n",
       "      <td>관악구</td>\n",
       "      <td>11620595</td>\n",
       "      <td>청룡동</td>\n",
       "      <td>30</td>\n",
       "      <td>생활</td>\n",
       "      <td>83</td>\n",
       "      <td>...</td>\n",
       "      <td>내국인</td>\n",
       "      <td>11</td>\n",
       "      <td>서울특별시</td>\n",
       "      <td>1162</td>\n",
       "      <td>관악구</td>\n",
       "      <td>1</td>\n",
       "      <td>20대</td>\n",
       "      <td>1</td>\n",
       "      <td>268850</td>\n",
       "      <td>52</td>\n",
       "    </tr>\n",
       "    <tr>\n",
       "      <th>3</th>\n",
       "      <td>201906</td>\n",
       "      <td>11</td>\n",
       "      <td>서울특별시</td>\n",
       "      <td>1144</td>\n",
       "      <td>마포구</td>\n",
       "      <td>11440660</td>\n",
       "      <td>서교동</td>\n",
       "      <td>80</td>\n",
       "      <td>음식</td>\n",
       "      <td>80</td>\n",
       "      <td>...</td>\n",
       "      <td>내국인</td>\n",
       "      <td>11</td>\n",
       "      <td>서울특별시</td>\n",
       "      <td>1138</td>\n",
       "      <td>은평구</td>\n",
       "      <td>1</td>\n",
       "      <td>20대</td>\n",
       "      <td>1</td>\n",
       "      <td>44174450</td>\n",
       "      <td>1790</td>\n",
       "    </tr>\n",
       "    <tr>\n",
       "      <th>4</th>\n",
       "      <td>201906</td>\n",
       "      <td>11</td>\n",
       "      <td>서울특별시</td>\n",
       "      <td>1120</td>\n",
       "      <td>성동구</td>\n",
       "      <td>11200550</td>\n",
       "      <td>사근동</td>\n",
       "      <td>80</td>\n",
       "      <td>음식</td>\n",
       "      <td>80</td>\n",
       "      <td>...</td>\n",
       "      <td>내국인</td>\n",
       "      <td>11</td>\n",
       "      <td>서울특별시</td>\n",
       "      <td>1120</td>\n",
       "      <td>성동구</td>\n",
       "      <td>1</td>\n",
       "      <td>20대</td>\n",
       "      <td>1</td>\n",
       "      <td>60338146</td>\n",
       "      <td>3536</td>\n",
       "    </tr>\n",
       "  </tbody>\n",
       "</table>\n",
       "<p>5 rows × 23 columns</p>\n",
       "</div>"
      ],
      "text/plain": [
       "   REG_YYMM  MEGA_CTY_NO MEGA_CTY_NM  CTY_RGN_NO CTY_RGN_NM  ADMI_CTY_NO  \\\n",
       "0    201906           11       서울특별시        1162        관악구     11620585   \n",
       "1    201906           11       서울특별시        1159        동작구     11590560   \n",
       "2    201906           11       서울특별시        1162        관악구     11620595   \n",
       "3    201906           11       서울특별시        1144        마포구     11440660   \n",
       "4    201906           11       서울특별시        1120        성동구     11200550   \n",
       "\n",
       "  ADMI_CTY_NM  MAIN_BUZ_CODE MAIN_BUZ_DESC  TP_GRP_NO  ... CSTMR_GUBUN  \\\n",
       "0        낙성대동             80            음식         80  ...         내국인   \n",
       "1        상도4동             30            생활         40  ...         내국인   \n",
       "2         청룡동             30            생활         83  ...         내국인   \n",
       "3         서교동             80            음식         80  ...         내국인   \n",
       "4         사근동             80            음식         80  ...         내국인   \n",
       "\n",
       "   CSTMR_MEGA_CTY_NO CSTMR_MEGA_CTY_NM CSTMR_CTY_RGN_NO  CSTMR_CTY_RGN_NM  \\\n",
       "0                 11             서울특별시             1162               관악구   \n",
       "1                 11             서울특별시             1165               서초구   \n",
       "2                 11             서울특별시             1162               관악구   \n",
       "3                 11             서울특별시             1138               은평구   \n",
       "4                 11             서울특별시             1120               성동구   \n",
       "\n",
       "  SEX_CTGO_CD  AGE_VAL FLC       AMT   CNT  \n",
       "0           2      30대   2  26284804  1892  \n",
       "1           2      20대   1    109290    18  \n",
       "2           1      20대   1    268850    52  \n",
       "3           1      20대   1  44174450  1790  \n",
       "4           1      20대   1  60338146  3536  \n",
       "\n",
       "[5 rows x 23 columns]"
      ]
     },
     "execution_count": 45,
     "metadata": {},
     "output_type": "execute_result"
    }
   ],
   "source": [
    "bc_card_df = pd.read_csv('201906.csv', encoding='utf-8', index_col=0)\n",
    "bc_card_df.head()"
   ]
  },
  {
   "attachments": {},
   "cell_type": "markdown",
   "id": "6193facc-5653-45b8-97bd-e73543d56a76",
   "metadata": {},
   "source": [
    "1. 총 고객 수\n",
    "2. 서울시 거주/비거주 고객 수\n",
    "3. 남녀 고객 성별 소비액\n",
    "4. 편의점 소비액  # TP_BUZ_NO가 4010인 값\n",
    "5. 강남구 편의점 소비금액\n",
    "6. 강남구에서 타 거주자가 소비한 금액"
   ]
  },
  {
   "cell_type": "code",
   "execution_count": 130,
   "id": "3e2ccb72-6065-40aa-acb8-ad3a67fcb056",
   "metadata": {},
   "outputs": [
    {
     "data": {
      "text/plain": [
       "100001"
      ]
     },
     "execution_count": 130,
     "metadata": {},
     "output_type": "execute_result"
    }
   ],
   "source": [
    "# 서울시 거주/비거주 총 고객 수\n",
    "len(bc_card_df)"
   ]
  },
  {
   "cell_type": "code",
   "execution_count": 132,
   "id": "8e062eb5-6344-4ce2-8eb2-e23410d154a1",
   "metadata": {},
   "outputs": [
    {
     "name": "stdout",
     "output_type": "stream",
     "text": [
      "<class 'pandas.core.frame.DataFrame'>\n",
      "Index: 100001 entries, 0 to 100000\n",
      "Data columns (total 23 columns):\n",
      " #   Column             Non-Null Count   Dtype \n",
      "---  ------             --------------   ----- \n",
      " 0   REG_YYMM           100001 non-null  int64 \n",
      " 1   MEGA_CTY_NO        100001 non-null  int64 \n",
      " 2   MEGA_CTY_NM        100001 non-null  object\n",
      " 3   CTY_RGN_NO         100001 non-null  int64 \n",
      " 4   CTY_RGN_NM         100001 non-null  object\n",
      " 5   ADMI_CTY_NO        100001 non-null  int64 \n",
      " 6   ADMI_CTY_NM        100001 non-null  object\n",
      " 7   MAIN_BUZ_CODE      100001 non-null  int64 \n",
      " 8   MAIN_BUZ_DESC      100001 non-null  object\n",
      " 9   TP_GRP_NO          100001 non-null  int64 \n",
      " 10  TP_GRP_NM          100001 non-null  object\n",
      " 11  TP_BUZ_NO          100001 non-null  int64 \n",
      " 12  TP_BUZ_NM          100001 non-null  object\n",
      " 13  CSTMR_GUBUN        100001 non-null  object\n",
      " 14  CSTMR_MEGA_CTY_NO  100001 non-null  int64 \n",
      " 15  CSTMR_MEGA_CTY_NM  100001 non-null  object\n",
      " 16  CSTMR_CTY_RGN_NO   100001 non-null  int64 \n",
      " 17  CSTMR_CTY_RGN_NM   100001 non-null  object\n",
      " 18  SEX_CTGO_CD        100001 non-null  int64 \n",
      " 19  AGE_VAL            100001 non-null  object\n",
      " 20  FLC                100001 non-null  int64 \n",
      " 21  AMT                100001 non-null  int64 \n",
      " 22  CNT                100001 non-null  int64 \n",
      "dtypes: int64(13), object(10)\n",
      "memory usage: 20.3+ MB\n"
     ]
    }
   ],
   "source": [
    "# 서울시 거주 고객 수\n",
    "bc_card_df.info()"
   ]
  },
  {
   "cell_type": "code",
   "execution_count": 134,
   "id": "db845b28-ba10-495c-a381-63f0217a2cac",
   "metadata": {},
   "outputs": [
    {
     "data": {
      "text/plain": [
       "54150"
      ]
     },
     "execution_count": 134,
     "metadata": {},
     "output_type": "execute_result"
    }
   ],
   "source": [
    "index1 = bc_card_df[bc_card_df['CSTMR_MEGA_CTY_NM'] != '서울특별시'].index\n",
    "seoul_card = bc_card_df.drop(index1)\n",
    "seoul_card.reset_index(drop=True, inplace=True)\n",
    "len(seoul_card)"
   ]
  },
  {
   "cell_type": "code",
   "execution_count": 136,
   "id": "b3caf7b9-e873-4e94-a97e-46becdce5562",
   "metadata": {},
   "outputs": [
    {
     "data": {
      "text/plain": [
       "54150"
      ]
     },
     "execution_count": 136,
     "metadata": {},
     "output_type": "execute_result"
    }
   ],
   "source": [
    "(bc_card_df['CSTMR_MEGA_CTY_NM'].values == '서울특별시').sum()"
   ]
  },
  {
   "cell_type": "code",
   "execution_count": 138,
   "id": "51badea9-d39b-4a4d-863b-3589d6db19e1",
   "metadata": {},
   "outputs": [
    {
     "data": {
      "text/plain": [
       "45851"
      ]
     },
     "execution_count": 138,
     "metadata": {},
     "output_type": "execute_result"
    }
   ],
   "source": [
    "index2 = bc_card_df[bc_card_df['CSTMR_MEGA_CTY_NM'] == '서울특별시'].index\n",
    "nonseoul_card = bc_card_df.drop(index2)\n",
    "nonseoul_card.reset_index(drop=True, inplace=True)\n",
    "len(nonseoul_card)"
   ]
  },
  {
   "cell_type": "code",
   "execution_count": 140,
   "id": "dd6d243b-74f1-4b52-98e8-0e345b0f378c",
   "metadata": {},
   "outputs": [
    {
     "data": {
      "text/plain": [
       "45851"
      ]
     },
     "execution_count": 140,
     "metadata": {},
     "output_type": "execute_result"
    }
   ],
   "source": [
    "len(bc_card_df) - len(seoul_card)"
   ]
  },
  {
   "cell_type": "code",
   "execution_count": 142,
   "id": "2f1cd182-ef90-4219-80f9-bef1d1b6488b",
   "metadata": {},
   "outputs": [
    {
     "name": "stdout",
     "output_type": "stream",
     "text": [
      "119663142676\n",
      "146587135822\n"
     ]
    }
   ],
   "source": [
    "# 총 소비액\n",
    "print(seoul_card['AMT'].sum(axis=0))\n",
    "print(nonseoul_card['AMT'].sum(axis=0))"
   ]
  },
  {
   "cell_type": "code",
   "execution_count": 144,
   "id": "2af32d8e-5a9d-4feb-a690-5623f794daf0",
   "metadata": {},
   "outputs": [],
   "source": [
    "sex_pivot = seoul_card[['SEX_CTGO_CD', 'AMT']]"
   ]
  },
  {
   "cell_type": "code",
   "execution_count": 164,
   "id": "f8bc443c-12c3-4d96-8744-ad27cdc1250f",
   "metadata": {},
   "outputs": [
    {
     "data": {
      "text/html": [
       "<div>\n",
       "<style scoped>\n",
       "    .dataframe tbody tr th:only-of-type {\n",
       "        vertical-align: middle;\n",
       "    }\n",
       "\n",
       "    .dataframe tbody tr th {\n",
       "        vertical-align: top;\n",
       "    }\n",
       "\n",
       "    .dataframe thead th {\n",
       "        text-align: right;\n",
       "    }\n",
       "</style>\n",
       "<table border=\"1\" class=\"dataframe\">\n",
       "  <thead>\n",
       "    <tr style=\"text-align: right;\">\n",
       "      <th></th>\n",
       "      <th>AMT</th>\n",
       "    </tr>\n",
       "    <tr>\n",
       "      <th>SEX_CTGO_CD</th>\n",
       "      <th></th>\n",
       "    </tr>\n",
       "  </thead>\n",
       "  <tbody>\n",
       "    <tr>\n",
       "      <th>1</th>\n",
       "      <td>73579570815</td>\n",
       "    </tr>\n",
       "    <tr>\n",
       "      <th>2</th>\n",
       "      <td>73007565007</td>\n",
       "    </tr>\n",
       "  </tbody>\n",
       "</table>\n",
       "</div>"
      ],
      "text/plain": [
       "                     AMT\n",
       "SEX_CTGO_CD             \n",
       "1            73579570815\n",
       "2            73007565007"
      ]
     },
     "execution_count": 164,
     "metadata": {},
     "output_type": "execute_result"
    }
   ],
   "source": [
    "# 성별 소비액\n",
    "sex_pivot = seoul_card[['SEX_CTGO_CD', 'AMT']]\n",
    "seoul_sex = pd.pivot_table(sex_pivot, index=['SEX_CTGO_CD'], aggfunc='sum')\n",
    "seoul_sex\n",
    "\n",
    "nonsex_pivot = nonseoul_card[['SEX_CTGO_CD', 'AMT']]\n",
    "nonseoul_sex = pd.pivot_table(nonsex_pivot, index=['SEX_CTGO_CD'], aggfunc='sum')\n",
    "nonseoul_sex"
   ]
  },
  {
   "cell_type": "code",
   "execution_count": 150,
   "id": "2d06322f-dcf4-4bf7-9324-06f1ab61d5aa",
   "metadata": {},
   "outputs": [
    {
     "name": "stdout",
     "output_type": "stream",
     "text": [
      "5542462\n",
      "4950200\n"
     ]
    }
   ],
   "source": [
    "# 카드 이용 건수\n",
    "print(seoul_card['CNT'].sum(axis=0))\n",
    "print(nonseoul_card['CNT'].sum(axis=0))"
   ]
  },
  {
   "cell_type": "code",
   "execution_count": 152,
   "id": "c05d3ab3-311b-4a59-8d2c-aba0c7e827c2",
   "metadata": {},
   "outputs": [
    {
     "data": {
      "text/plain": [
       "7299184098"
      ]
     },
     "execution_count": 152,
     "metadata": {},
     "output_type": "execute_result"
    }
   ],
   "source": [
    "# 편의점 소비액 \n",
    "bc_con = bc_card_df[bc_card_df['TP_BUZ_NO']==4010]\n",
    "bc_con['AMT'].sum(axis=0)"
   ]
  },
  {
   "cell_type": "code",
   "execution_count": 154,
   "id": "92423d86-f31b-4d5f-a042-018500e2638f",
   "metadata": {},
   "outputs": [
    {
     "data": {
      "text/plain": [
       "707275140"
      ]
     },
     "execution_count": 154,
     "metadata": {},
     "output_type": "execute_result"
    }
   ],
   "source": [
    "# 강남구 편의점 소비금액\n",
    "gang_con = bc_card_df[ (bc_card_df['TP_BUZ_NO']==4010) & (bc_card_df['CTY_RGN_NM']=='강남구')]\n",
    "gang_con['AMT'].sum(axis=0)"
   ]
  },
  {
   "cell_type": "code",
   "execution_count": 156,
   "id": "4ca28a03-e5ba-4f10-a099-22d0faf3ffc9",
   "metadata": {},
   "outputs": [
    {
     "data": {
      "text/plain": [
       "35535648502"
      ]
     },
     "execution_count": 156,
     "metadata": {},
     "output_type": "execute_result"
    }
   ],
   "source": [
    "# 강남구 전체 소비금액\n",
    "gang_amt = bc_card_df[bc_card_df['CTY_RGN_NM'] == '강남구']\n",
    "gang_amt['AMT'].sum(axis=0)"
   ]
  },
  {
   "cell_type": "code",
   "execution_count": 158,
   "id": "cf6d6313-9aca-478d-837d-c0234fe572ce",
   "metadata": {},
   "outputs": [
    {
     "data": {
      "text/plain": [
       "707275140"
      ]
     },
     "execution_count": 158,
     "metadata": {},
     "output_type": "execute_result"
    }
   ],
   "source": [
    "con_gang_amt = bc_card_df[(bc_card_df['TP_BUZ_NO']==4010) & (bc_card_df['CTY_RGN_NM'] == '강남구')]\n",
    "con_gang_amt['AMT'].sum(axis=0)"
   ]
  },
  {
   "cell_type": "code",
   "execution_count": 160,
   "id": "2561efe3-88fb-4ad6-9f59-37f75d95b176",
   "metadata": {},
   "outputs": [
    {
     "data": {
      "text/plain": [
       "418895250"
      ]
     },
     "execution_count": 160,
     "metadata": {},
     "output_type": "execute_result"
    }
   ],
   "source": [
    "# 강남구 거주자와 비거주자 소비액\n",
    "index3 = con_gang_amt[con_gang_amt['CSTMR_CTY_RGN_NM']=='강남구'].index\n",
    "gang_rgn_amt = con_gang_amt.drop(index3)\n",
    "gang_rgn_amt.reset_index(drop=True, inplace=True)\n",
    "gang_rgn_amt['AMT'].sum()"
   ]
  },
  {
   "cell_type": "code",
   "execution_count": 162,
   "id": "f6077140-fa38-49a7-ac60-110c68e2b91c",
   "metadata": {},
   "outputs": [
    {
     "data": {
      "text/plain": [
       "288379890"
      ]
     },
     "execution_count": 162,
     "metadata": {},
     "output_type": "execute_result"
    }
   ],
   "source": [
    "con_gang_amt['AMT'].sum() - gang_rgn_amt['AMT'].sum()"
   ]
  },
  {
   "cell_type": "code",
   "execution_count": null,
   "id": "66b34257-793c-4ba8-a9db-baad4860b555",
   "metadata": {},
   "outputs": [],
   "source": []
  }
 ],
 "metadata": {
  "kernelspec": {
   "display_name": "Python [conda env:base] *",
   "language": "python",
   "name": "conda-base-py"
  },
  "language_info": {
   "codemirror_mode": {
    "name": "ipython",
    "version": 3
   },
   "file_extension": ".py",
   "mimetype": "text/x-python",
   "name": "python",
   "nbconvert_exporter": "python",
   "pygments_lexer": "ipython3",
   "version": "3.12.7"
  }
 },
 "nbformat": 4,
 "nbformat_minor": 5
}
