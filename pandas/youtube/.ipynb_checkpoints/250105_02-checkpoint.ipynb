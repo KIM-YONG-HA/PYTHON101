{
 "cells": [
  {
   "cell_type": "code",
   "execution_count": 1,
   "id": "42d39f1f-eda9-4a8d-923f-437314668323",
   "metadata": {},
   "outputs": [],
   "source": []
  },
  {
   "cell_type": "code",
   "execution_count": 6,
   "id": "52c1c377-a405-457e-822a-d71b3920fb56",
   "metadata": {},
   "outputs": [
    {
     "data": {
      "text/plain": [
       "0    10\n",
       "1    20\n",
       "2    30\n",
       "dtype: int64"
      ]
     },
     "execution_count": 6,
     "metadata": {},
     "output_type": "execute_result"
    }
   ],
   "source": [
    "import pandas as pd\n",
    "\n",
    "arr = [10, 20, 30]\n",
    "\n",
    "s = pd.Series(arr)\n",
    "\n",
    "s"
   ]
  },
  {
   "cell_type": "code",
   "execution_count": null,
   "id": "2ec580af-7de0-491c-92f6-16ff88c70d51",
   "metadata": {},
   "outputs": [],
   "source": []
  },
  {
   "cell_type": "code",
   "execution_count": 10,
   "id": "a5eb9be1-f684-4edb-90e6-33fc4e623072",
   "metadata": {},
   "outputs": [
    {
     "data": {
      "text/plain": [
       "월    100000\n",
       "화     60000\n",
       "수     80000\n",
       "dtype: int64"
      ]
     },
     "execution_count": 10,
     "metadata": {},
     "output_type": "execute_result"
    }
   ],
   "source": [
    "data = [100000, 60000, 80000]\n",
    "index = ['월', '화', '수']\n",
    "s = pd.Series(data, index)\n",
    "s"
   ]
  },
  {
   "cell_type": "code",
   "execution_count": 15,
   "id": "513a8a9b-4b10-486a-8594-8869d69e9b19",
   "metadata": {},
   "outputs": [
    {
     "name": "stdout",
     "output_type": "stream",
     "text": [
      "Index(['월', '화', '수'], dtype='object')\n",
      "[100000  60000  80000]\n",
      "<NumpyExtensionArray>\n",
      "[100000, 60000, 80000]\n",
      "Length: 3, dtype: int64\n"
     ]
    }
   ],
   "source": [
    "print(s.index)\n",
    "print(s.values)\n",
    "print(s.array)"
   ]
  },
  {
   "cell_type": "code",
   "execution_count": 21,
   "id": "da47f940-5602-4942-af74-14ed5834e279",
   "metadata": {},
   "outputs": [
    {
     "name": "stdout",
     "output_type": "stream",
     "text": [
      "20000\n",
      "22000\n",
      "25000\n"
     ]
    }
   ],
   "source": [
    "data = [20000, 22000, 25000]\n",
    "index = ['충만치킨', 'BBQ', \"굽네\"]\n",
    "s = pd.Series(data, index)\n",
    "print(s.iloc[0])\n",
    "print(s.iloc[1])\n",
    "print(s.iloc[2])\n"
   ]
  },
  {
   "cell_type": "code",
   "execution_count": 23,
   "id": "4803b5d3-7517-44f0-9bff-8327ebac60b1",
   "metadata": {},
   "outputs": [
    {
     "name": "stdout",
     "output_type": "stream",
     "text": [
      "22000\n"
     ]
    }
   ],
   "source": [
    "print(s.loc[\"BBQ\"])"
   ]
  },
  {
   "cell_type": "code",
   "execution_count": 26,
   "id": "bb0858b0-0c41-4d83-8da7-cc4c2ebf6f1b",
   "metadata": {},
   "outputs": [
    {
     "name": "stdout",
     "output_type": "stream",
     "text": [
      "25000\n"
     ]
    }
   ],
   "source": [
    "print(s[\"굽네\"])"
   ]
  },
  {
   "cell_type": "code",
   "execution_count": 28,
   "id": "2b5e3f45-240f-4d9c-b446-f583c1be2bc2",
   "metadata": {},
   "outputs": [
    {
     "name": "stdout",
     "output_type": "stream",
     "text": [
      "20000\n"
     ]
    },
    {
     "name": "stderr",
     "output_type": "stream",
     "text": [
      "C:\\Users\\YH\\AppData\\Local\\Temp\\ipykernel_17664\\287792665.py:1: FutureWarning: Series.__getitem__ treating keys as positions is deprecated. In a future version, integer keys will always be treated as labels (consistent with DataFrame behavior). To access a value by position, use `ser.iloc[pos]`\n",
      "  print(s[0])\n"
     ]
    }
   ],
   "source": [
    "print(s[0])"
   ]
  },
  {
   "cell_type": "code",
   "execution_count": 31,
   "id": "3e2d17f9-7c2e-4cb7-b4f3-5fb3bf207808",
   "metadata": {},
   "outputs": [
    {
     "name": "stdout",
     "output_type": "stream",
     "text": [
      "충만치킨    20000\n",
      "BBQ     22000\n",
      "dtype: int64\n"
     ]
    }
   ],
   "source": [
    "print(s.loc[\"충만치킨\":\"BBQ\"])"
   ]
  },
  {
   "cell_type": "code",
   "execution_count": 35,
   "id": "90311a36-4616-46a5-a159-6db151de0fed",
   "metadata": {},
   "outputs": [
    {
     "name": "stdout",
     "output_type": "stream",
     "text": [
      "굽네      25000\n",
      "충만치킨    20000\n",
      "dtype: int64\n",
      "BBQ     22000\n",
      "충만치킨    20000\n",
      "dtype: int64\n"
     ]
    }
   ],
   "source": [
    "data = [20000, 22000, 25000]\n",
    "index = ['충만치킨', 'BBQ', \"굽네\"]\n",
    "s = pd.Series(data, index)\n",
    "target = [2, 0]\n",
    "print(s.iloc[target])\n",
    "\n",
    "target = [\"BBQ\",\"충만치킨\"]\n",
    "print(s.loc[target])\n",
    "\n"
   ]
  },
  {
   "cell_type": "code",
   "execution_count": 45,
   "id": "c8da652f-35fa-425d-9bfc-a04473046bfb",
   "metadata": {},
   "outputs": [
    {
     "name": "stdout",
     "output_type": "stream",
     "text": [
      "충만치킨    20000\n",
      "BBQ     22000\n",
      "굽네      25000\n",
      "교촌      28000\n",
      "dtype: int64\n"
     ]
    }
   ],
   "source": [
    "data = [20000, 22000, 25000]\n",
    "index = ['충만치킨', 'BBQ', \"굽네\"]\n",
    "s = pd.Series(data, index)\n",
    "\n",
    "s.loc['교촌'] = 28000\n",
    "print(s)\n"
   ]
  },
  {
   "cell_type": "code",
   "execution_count": 42,
   "id": "99e37f1c-1f43-4f3e-9193-2bc237c31539",
   "metadata": {},
   "outputs": [
    {
     "data": {
      "text/plain": [
       "BBQ    22000\n",
       "교촌     28000\n",
       "dtype: int64"
      ]
     },
     "execution_count": 42,
     "metadata": {},
     "output_type": "execute_result"
    }
   ],
   "source": [
    "s.drop(['충만치킨','굽네'])"
   ]
  },
  {
   "cell_type": "code",
   "execution_count": 47,
   "id": "8164f0e0-ac4f-4848-a30a-a3378af987ab",
   "metadata": {},
   "outputs": [
    {
     "name": "stdout",
     "output_type": "stream",
     "text": [
      "충만치킨    30000\n",
      "BBQ     22000\n",
      "굽네      25000\n",
      "교촌      29000\n",
      "dtype: int64\n"
     ]
    }
   ],
   "source": [
    "s.iloc[0] = 30000\n",
    "s.loc['교촌'] = 29000\n",
    "print(s)"
   ]
  },
  {
   "cell_type": "code",
   "execution_count": null,
   "id": "d49543c6-3093-41b0-a82b-d7454aee5efe",
   "metadata": {},
   "outputs": [],
   "source": []
  },
  {
   "cell_type": "code",
   "execution_count": 53,
   "id": "13f32eba-78b1-487e-9072-fb2bf9b76b70",
   "metadata": {},
   "outputs": [
    {
     "name": "stdout",
     "output_type": "stream",
     "text": [
      "월    10\n",
      "화    20\n",
      "수    30\n",
      "dtype: int64\n",
      "\n",
      "월     0\n",
      "화    20\n",
      "수    30\n",
      "목    40\n",
      "금    50\n",
      "dtype: int64\n",
      "\n",
      "목    40\n",
      "금    50\n",
      "dtype: int64\n",
      "\n"
     ]
    }
   ],
   "source": [
    "import pandas as pd\n",
    "\n",
    "data = [10, 20, 30]\n",
    "index = ['월', '화', '수']\n",
    "\n",
    "#  시리즈 객체 생성\n",
    "s = pd.Series(data=data, index=index)\n",
    "print(s, end='\\n\\n')\n",
    "\n",
    "#  시리즈 추가 및 수정\n",
    "s.loc['월'] = 0\n",
    "s.loc['목'] = 40\n",
    "s.loc['금'] = 50\n",
    "print(s, end='\\n\\n')\n",
    "\n",
    "#  삭제하기\n",
    "s.drop('월', inplace=True)\n",
    "s.drop(['화', '수'], inplace=True)\n",
    "print(s, end='\\n\\n')\n",
    "\n",
    "\n",
    "\n",
    "\n"
   ]
  },
  {
   "cell_type": "code",
   "execution_count": null,
   "id": "968f0f97-0d7b-4ba4-8f7e-8cd4d9a6c328",
   "metadata": {},
   "outputs": [],
   "source": []
  }
 ],
 "metadata": {
  "kernelspec": {
   "display_name": "Python 3 (ipykernel)",
   "language": "python",
   "name": "python3"
  },
  "language_info": {
   "codemirror_mode": {
    "name": "ipython",
    "version": 3
   },
   "file_extension": ".py",
   "mimetype": "text/x-python",
   "name": "python",
   "nbconvert_exporter": "python",
   "pygments_lexer": "ipython3",
   "version": "3.12.7"
  }
 },
 "nbformat": 4,
 "nbformat_minor": 5
}
