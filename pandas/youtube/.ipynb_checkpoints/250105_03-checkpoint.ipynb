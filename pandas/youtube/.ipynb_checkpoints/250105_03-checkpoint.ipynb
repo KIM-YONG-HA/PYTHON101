{
 "cells": [
  {
   "cell_type": "code",
   "execution_count": 1,
   "id": "75c7bbb0-149e-4ca4-9a33-0530a9d0f0c5",
   "metadata": {},
   "outputs": [
    {
     "name": "stdout",
     "output_type": "stream",
     "text": [
      "0    100\n",
      "1    200\n",
      "2    300\n",
      "dtype: int64\n",
      "\n",
      "0    110\n",
      "1    210\n",
      "2    310\n",
      "dtype: int64\n",
      "\n"
     ]
    }
   ],
   "source": [
    "import pandas as pd\n",
    "data = [100, 200, 300]\n",
    "s = pd.Series(data)\n",
    "print(s, end='\\n\\n')\n",
    "print(s + 10, end='\\n\\n')"
   ]
  },
  {
   "cell_type": "code",
   "execution_count": 7,
   "id": "61338a81-a4dd-4a78-bd43-0002681690ec",
   "metadata": {},
   "outputs": [
    {
     "name": "stdout",
     "output_type": "stream",
     "text": [
      "25-01-01    400.0\n",
      "25-01-02    200.0\n",
      "25-01-03      0.0\n",
      "25-01-04   -200.0\n",
      "25-01-29      NaN\n",
      "25-01-30      NaN\n",
      "dtype: float64\n"
     ]
    }
   ],
   "source": [
    "import pandas as pd\n",
    "data1 = [100, 200, 300, 400, 500]\n",
    "data2 = [500, 400, 300, 200, 100]\n",
    "s1 = pd.Series(data1, index=[\"25-01-01\", \"25-01-02\", \"25-01-03\", \"25-01-04\",\"25-01-30\"])\n",
    "s2 = pd.Series(data2, index=[\"25-01-01\", \"25-01-02\", \"25-01-03\", \"25-01-04\",\"25-01-29\"])\n",
    "diff = s2 - s1\n",
    "print(diff)\n"
   ]
  },
  {
   "cell_type": "code",
   "execution_count": 9,
   "id": "8753f8f9-f6a7-4abf-ba5a-3ae8a1722146",
   "metadata": {},
   "outputs": [
    {
     "name": "stdout",
     "output_type": "stream",
     "text": [
      "0    False\n",
      "1    False\n",
      "2     True\n",
      "3     True\n",
      "4     True\n",
      "dtype: bool\n"
     ]
    }
   ],
   "source": [
    "import pandas as pd\n",
    "data = [10, 20, 30, 40, 50]\n",
    "s = pd.Series(data)\n",
    "cond = s > 25\n",
    "print(cond)\n",
    "\n",
    "\n"
   ]
  },
  {
   "cell_type": "code",
   "execution_count": 11,
   "id": "9ed65734-21a8-4023-bc80-b627a2698d15",
   "metadata": {},
   "outputs": [
    {
     "name": "stdout",
     "output_type": "stream",
     "text": [
      "3    40\n",
      "4    50\n",
      "dtype: int64\n"
     ]
    }
   ],
   "source": [
    "import pandas as pd\n",
    "s = pd.Series(data = [10, 20, 30, 40, 50])\n",
    "cond = [False, False, False, True, True]\n",
    "print(s[cond])\n"
   ]
  },
  {
   "cell_type": "code",
   "execution_count": 12,
   "id": "f0450089-29da-4c75-be34-1c15d4cc8fcd",
   "metadata": {},
   "outputs": [
    {
     "name": "stdout",
     "output_type": "stream",
     "text": [
      "2    30\n",
      "3    40\n",
      "4    50\n",
      "dtype: int64\n"
     ]
    }
   ],
   "source": [
    "import pandas as pd\n",
    "s = pd.Series(data = [10, 20, 30, 40, 50])\n",
    "cond = s > 25\n",
    "print(s[cond])\n"
   ]
  },
  {
   "cell_type": "code",
   "execution_count": null,
   "id": "8ffd80a0-cb91-4b4b-b4c2-6df85af048ed",
   "metadata": {},
   "outputs": [],
   "source": []
  },
  {
   "cell_type": "code",
   "execution_count": 13,
   "id": "801a2c70-69d4-48bd-a25a-9d2965408e77",
   "metadata": {},
   "outputs": [],
   "source": [
    "import pandas as pd\n",
    "\n",
    "start = pd.Series([100,200,300,400,500])\n",
    "end = pd.Series([400,300,300,200,100])\n",
    "\n",
    "\n"
   ]
  },
  {
   "cell_type": "code",
   "execution_count": null,
   "id": "0948186a-c5fa-4185-ac12-fe05f265c093",
   "metadata": {},
   "outputs": [],
   "source": []
  },
  {
   "cell_type": "code",
   "execution_count": null,
   "id": "d9805bd0-e272-4bfd-8b8e-95cf9d5d5976",
   "metadata": {},
   "outputs": [],
   "source": []
  },
  {
   "cell_type": "code",
   "execution_count": null,
   "id": "09e94326-40ee-4abf-90df-c393f0608acc",
   "metadata": {},
   "outputs": [],
   "source": []
  },
  {
   "cell_type": "code",
   "execution_count": null,
   "id": "39fb313b-ecf8-4582-b188-e0cde906ef21",
   "metadata": {},
   "outputs": [],
   "source": []
  },
  {
   "cell_type": "code",
   "execution_count": null,
   "id": "a5e4d633-e8ee-4c44-b1f5-ecedf3bad765",
   "metadata": {},
   "outputs": [],
   "source": []
  }
 ],
 "metadata": {
  "kernelspec": {
   "display_name": "Python 3 (ipykernel)",
   "language": "python",
   "name": "python3"
  },
  "language_info": {
   "codemirror_mode": {
    "name": "ipython",
    "version": 3
   },
   "file_extension": ".py",
   "mimetype": "text/x-python",
   "name": "python",
   "nbconvert_exporter": "python",
   "pygments_lexer": "ipython3",
   "version": "3.12.7"
  }
 },
 "nbformat": 4,
 "nbformat_minor": 5
}
