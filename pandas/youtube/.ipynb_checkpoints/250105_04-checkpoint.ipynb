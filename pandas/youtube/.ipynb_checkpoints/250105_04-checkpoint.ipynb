{
 "cells": [
  {
   "cell_type": "code",
   "execution_count": 2,
   "id": "16804cfb-b0e8-4888-840a-2dc261b697b7",
   "metadata": {},
   "outputs": [
    {
     "name": "stdout",
     "output_type": "stream",
     "text": [
      "           종가     PER   PBR\n",
      "naver  156000   39.88  3.52\n",
      "삼성전자    51300    8.52  1.14\n",
      "LG전자    68800   10.03  0.88\n",
      "카카오    140000  228.38  2.15\n"
     ]
    }
   ],
   "source": [
    "import pandas as pd\n",
    "\n",
    "data = {\n",
    "    \"종가\": [156000, 51300, 68800, 140000],\n",
    "    \"PER\": [39.88, 8.52, 10.03, 228.38],\n",
    "    \"PBR\": [3.52, 1.14, 0.88, 2.15]\n",
    "}\n",
    "\n",
    "index = ['naver', '삼성전자', 'LG전자', '카카오']\n",
    "\n",
    "df = pd.DataFrame(data, index)\n",
    "\n",
    "print(df)\n",
    "\n"
   ]
  },
  {
   "cell_type": "code",
   "execution_count": null,
   "id": "a71162d6-0f9d-4218-a1d4-0e61a8b71ce8",
   "metadata": {},
   "outputs": [],
   "source": []
  },
  {
   "cell_type": "code",
   "execution_count": 3,
   "id": "86c04918-75b7-46db-afda-fc904b9404dd",
   "metadata": {},
   "outputs": [
    {
     "name": "stdout",
     "output_type": "stream",
     "text": [
      "           종가     PER   PBR\n",
      "naver  156000   39.88  3.52\n",
      "삼성전자    51300    8.52  1.14\n",
      "LG전자    68800   10.03  0.88\n",
      "카카오    140000  228.38  2.15\n"
     ]
    }
   ],
   "source": [
    "import pandas as pd\n",
    "\n",
    "\n",
    "data = [\n",
    "    [156000, 39.88, 3.52],\n",
    "    [51300, 8.52, 1.14],\n",
    "    [68800, 10.03, 0.88],\n",
    "    [140000, 228.38, 2.15],\n",
    "]\n",
    "\n",
    "index = ['naver', '삼성전자', 'LG전자', '카카오']\n",
    "columns = ['종가', 'PER', 'PBR']\n",
    "\n",
    "df = pd.DataFrame(data=data, index=index, columns=columns)\n",
    "\n",
    "print(df)\n",
    "\n"
   ]
  },
  {
   "cell_type": "code",
   "execution_count": 4,
   "id": "b9b6c7f4-1262-4a41-98f9-4675eff0cacd",
   "metadata": {},
   "outputs": [
    {
     "name": "stdout",
     "output_type": "stream",
     "text": [
      "           종가     PER   PBR\n",
      "naver  156000   39.88  3.52\n",
      "삼성전자    51300    8.52  1.14\n",
      "LG전자    68800   10.03  0.88\n",
      "카카오    140000  228.38  2.15\n"
     ]
    }
   ],
   "source": [
    "import pandas as pd\n",
    "\n",
    "\n",
    "data = [\n",
    "    {\"종가\":156000, \"PER\":39.88, \"PBR\":3.52},\n",
    "    {\"종가\":51300, \"PER\":8.52, \"PBR\":1.14},\n",
    "    {\"종가\":68800, \"PER\":10.03, \"PBR\":0.88},\n",
    "    {\"종가\":140000, \"PER\":228.38, \"PBR\":2.15}\n",
    "]\n",
    "\n",
    "index = ['naver', '삼성전자', 'LG전자', '카카오']\n",
    "\n",
    "df = pd.DataFrame(data=data, index=index)\n",
    "\n",
    "print(df)\n",
    "\n"
   ]
  },
  {
   "cell_type": "code",
   "execution_count": null,
   "id": "3248e526-2e66-4876-be41-251a27a95e58",
   "metadata": {},
   "outputs": [],
   "source": []
  },
  {
   "cell_type": "code",
   "execution_count": 18,
   "id": "4a6ea6ca-d40b-42b5-80ab-27dfc09f6b61",
   "metadata": {},
   "outputs": [
    {
     "name": "stdout",
     "output_type": "stream",
     "text": [
      "naver    156000\n",
      "삼성전자      51300\n",
      "LG전자      68800\n",
      "카카오      140000\n",
      "Name: 종가, dtype: int64\n",
      "           종가   PBR\n",
      "naver  156000  3.52\n",
      "삼성전자    51300  1.14\n",
      "LG전자    68800  0.88\n",
      "카카오    140000  2.15\n"
     ]
    }
   ],
   "source": [
    "import pandas as pd\n",
    "\n",
    "\n",
    "data = [\n",
    "    [156000, 39.88, 3.52],\n",
    "    [51300, 8.52, 1.14],\n",
    "    [68800, 10.03, 0.88],\n",
    "    [140000, 228.38, 2.15],\n",
    "]\n",
    "\n",
    "index = ['naver', '삼성전자', 'LG전자', '카카오']\n",
    "columns = ['종가', 'PER', 'PBR']\n",
    "\n",
    "df = pd.DataFrame(data=data, index=index, columns=columns)\n",
    "\n",
    "print(df['종가'])\n"
   ]
  },
  {
   "cell_type": "code",
   "execution_count": 19,
   "id": "c2ec82a7-8003-4e7e-b9fb-0479d5ed4c08",
   "metadata": {},
   "outputs": [
    {
     "name": "stdout",
     "output_type": "stream",
     "text": [
      "           종가   PBR\n",
      "naver  156000  3.52\n",
      "삼성전자    51300  1.14\n",
      "LG전자    68800  0.88\n",
      "카카오    140000  2.15\n"
     ]
    }
   ],
   "source": [
    "print(df[['종가','PBR']])"
   ]
  },
  {
   "cell_type": "code",
   "execution_count": 20,
   "id": "c08e0173-1323-43b9-beb4-5dbba527b2c9",
   "metadata": {},
   "outputs": [
    {
     "name": "stdout",
     "output_type": "stream",
     "text": [
      "종가     51300.00\n",
      "PER        8.52\n",
      "PBR        1.14\n",
      "Name: 삼성전자, dtype: float64\n"
     ]
    }
   ],
   "source": [
    "print(df.loc['삼성전자'])"
   ]
  },
  {
   "cell_type": "code",
   "execution_count": 21,
   "id": "455b3035-29a6-435a-af85-1ff815575ee0",
   "metadata": {},
   "outputs": [
    {
     "name": "stdout",
     "output_type": "stream",
     "text": [
      "종가     51300.00\n",
      "PER        8.52\n",
      "PBR        1.14\n",
      "Name: 삼성전자, dtype: float64\n"
     ]
    }
   ],
   "source": [
    "print(df.iloc[1])"
   ]
  },
  {
   "cell_type": "code",
   "execution_count": 23,
   "id": "4d2f9fd8-bf38-4e0f-b236-43fbfc923b18",
   "metadata": {},
   "outputs": [
    {
     "name": "stdout",
     "output_type": "stream",
     "text": [
      "          종가     PER   PBR\n",
      "삼성전자   51300    8.52  1.14\n",
      "카카오   140000  228.38  2.15\n"
     ]
    }
   ],
   "source": [
    "print(df.iloc[[1, 3]])"
   ]
  },
  {
   "cell_type": "code",
   "execution_count": 24,
   "id": "62f2c349-801f-465e-a5cd-3622b2cf2f5b",
   "metadata": {},
   "outputs": [
    {
     "name": "stdout",
     "output_type": "stream",
     "text": [
      "          종가     PER   PBR\n",
      "삼성전자   51300    8.52  1.14\n",
      "카카오   140000  228.38  2.15\n"
     ]
    }
   ],
   "source": [
    "print(df.loc[['삼성전자', '카카오']])"
   ]
  },
  {
   "cell_type": "code",
   "execution_count": 25,
   "id": "2f2172e6-4a97-4184-94ad-98872a027a05",
   "metadata": {},
   "outputs": [
    {
     "name": "stdout",
     "output_type": "stream",
     "text": [
      "          종가     PER   PBR\n",
      "삼성전자   51300    8.52  1.14\n",
      "LG전자   68800   10.03  0.88\n",
      "카카오   140000  228.38  2.15\n"
     ]
    }
   ],
   "source": [
    "print(df.loc['삼성전자':'카카오'])"
   ]
  },
  {
   "cell_type": "code",
   "execution_count": 36,
   "id": "c673091f-c9b0-48d7-9d25-fb0bc98f75d8",
   "metadata": {},
   "outputs": [
    {
     "name": "stdout",
     "output_type": "stream",
     "text": [
      "          종가     PER   PBR\n",
      "삼성전자   51300    8.52  1.14\n",
      "LG전자   68800   10.03  0.88\n",
      "카카오   140000  228.38  2.15\n"
     ]
    }
   ],
   "source": [
    "print(df.iloc[1:])"
   ]
  },
  {
   "cell_type": "code",
   "execution_count": null,
   "id": "ea179c69-e4c4-4fd7-bd3e-00e36c0c9305",
   "metadata": {},
   "outputs": [],
   "source": []
  },
  {
   "cell_type": "code",
   "execution_count": null,
   "id": "d9893a45-fdb4-423d-b5eb-4a45966109a0",
   "metadata": {},
   "outputs": [],
   "source": []
  }
 ],
 "metadata": {
  "kernelspec": {
   "display_name": "Python 3 (ipykernel)",
   "language": "python",
   "name": "python3"
  },
  "language_info": {
   "codemirror_mode": {
    "name": "ipython",
    "version": 3
   },
   "file_extension": ".py",
   "mimetype": "text/x-python",
   "name": "python",
   "nbconvert_exporter": "python",
   "pygments_lexer": "ipython3",
   "version": "3.12.7"
  }
 },
 "nbformat": 4,
 "nbformat_minor": 5
}
