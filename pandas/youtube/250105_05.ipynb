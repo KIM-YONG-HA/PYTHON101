{
 "cells": [
  {
   "cell_type": "code",
   "execution_count": 3,
   "id": "b1be1597-348c-4d84-b14a-39dcd82cfddf",
   "metadata": {},
   "outputs": [
    {
     "name": "stdout",
     "output_type": "stream",
     "text": [
      "          종목명   현재가   등락률\n",
      "037730     3R  1510  7.46\n",
      "036365  3SOFT  1790  1.65\n",
      "005760   ACTS  1185  1.28\n"
     ]
    }
   ],
   "source": [
    "import pandas as pd\n",
    "\n",
    "data = [\n",
    "    ['3R', 1510, 7.46],\n",
    "    ['3SOFT', 1790, 1.65],\n",
    "    ['ACTS', 1185, 1.28],\n",
    "]\n",
    "\n",
    "index = ['037730', '036365', '005760']\n",
    "columns = ['종목명', '현재가', '등락률']\n",
    "\n",
    "df = pd.DataFrame(data=data, index=index, columns=columns)\n",
    "print(df)"
   ]
  },
  {
   "cell_type": "code",
   "execution_count": 4,
   "id": "b1222e65-5d07-4349-bc68-d8a313037227",
   "metadata": {},
   "outputs": [
    {
     "name": "stdout",
     "output_type": "stream",
     "text": [
      "3R\n"
     ]
    }
   ],
   "source": [
    "print(df.iloc[0,0])"
   ]
  },
  {
   "cell_type": "code",
   "execution_count": 5,
   "id": "7914d9c4-9189-4513-8981-6772815243a3",
   "metadata": {},
   "outputs": [
    {
     "name": "stdout",
     "output_type": "stream",
     "text": [
      "3R\n"
     ]
    }
   ],
   "source": [
    "print(df.loc['037730', '종목명'])"
   ]
  },
  {
   "cell_type": "code",
   "execution_count": 6,
   "id": "76688f4d-6d52-42e9-9367-8ca8767473f0",
   "metadata": {},
   "outputs": [
    {
     "name": "stdout",
     "output_type": "stream",
     "text": [
      "          종목명   현재가\n",
      "037730     3R  1510\n",
      "036365  3SOFT  1790\n"
     ]
    }
   ],
   "source": [
    "print(df.iloc[[0, 1], [0, 1]])"
   ]
  },
  {
   "cell_type": "code",
   "execution_count": null,
   "id": "7cc1d387-a2d9-4725-8f25-38183018198e",
   "metadata": {},
   "outputs": [],
   "source": []
  },
  {
   "cell_type": "code",
   "execution_count": 7,
   "id": "ebc59e2b-e822-4b45-806b-f278f53885ad",
   "metadata": {},
   "outputs": [
    {
     "name": "stdout",
     "output_type": "stream",
     "text": [
      "          종목명   현재가\n",
      "037730     3R  1510\n",
      "036365  3SOFT  1790\n"
     ]
    }
   ],
   "source": [
    "print(df.loc[['037730', '036365'], ['종목명', '현재가']])"
   ]
  },
  {
   "cell_type": "code",
   "execution_count": null,
   "id": "1020d171-4e3f-4c0b-9039-71ddc6a7e40b",
   "metadata": {},
   "outputs": [],
   "source": []
  },
  {
   "cell_type": "code",
   "execution_count": 8,
   "id": "ac5edc82-ccdc-4cda-bf65-bc058c40388c",
   "metadata": {},
   "outputs": [
    {
     "name": "stdout",
     "output_type": "stream",
     "text": [
      "          종목명   현재가\n",
      "037730     3R  1510\n",
      "036365  3SOFT  1790\n"
     ]
    }
   ],
   "source": [
    "print(df.iloc[0:2, [0, 1]])"
   ]
  },
  {
   "cell_type": "code",
   "execution_count": null,
   "id": "2ed9f865-639d-44f3-8f7a-4ae9c54164bd",
   "metadata": {},
   "outputs": [],
   "source": []
  },
  {
   "cell_type": "code",
   "execution_count": 9,
   "id": "9d68d6a5-0dba-4c2c-8a4f-468872aefda8",
   "metadata": {},
   "outputs": [
    {
     "name": "stdout",
     "output_type": "stream",
     "text": [
      "          종목명   등락률\n",
      "037730     3R  7.46\n",
      "036365  3SOFT  1.65\n"
     ]
    }
   ],
   "source": [
    "print(df.iloc[[0, 1], [0, 2]])"
   ]
  },
  {
   "cell_type": "code",
   "execution_count": null,
   "id": "bdd8cf97-d787-41d5-b019-876c87393dac",
   "metadata": {},
   "outputs": [],
   "source": []
  },
  {
   "cell_type": "code",
   "execution_count": 12,
   "id": "f5191083-87bc-4c6b-89c7-18f38adaadd1",
   "metadata": {},
   "outputs": [
    {
     "name": "stdout",
     "output_type": "stream",
     "text": [
      "          종목명   등락률\n",
      "037730     3R  7.46\n",
      "036365  3SOFT  1.65\n"
     ]
    }
   ],
   "source": [
    "print(df.loc[['037730','036365'] , ['종목명','등락률']])"
   ]
  },
  {
   "cell_type": "code",
   "execution_count": null,
   "id": "769e1870-f89b-43c8-ba57-f8b1d1d637f6",
   "metadata": {},
   "outputs": [],
   "source": []
  }
 ],
 "metadata": {
  "kernelspec": {
   "display_name": "Python [conda env:base] *",
   "language": "python",
   "name": "conda-base-py"
  },
  "language_info": {
   "codemirror_mode": {
    "name": "ipython",
    "version": 3
   },
   "file_extension": ".py",
   "mimetype": "text/x-python",
   "name": "python",
   "nbconvert_exporter": "python",
   "pygments_lexer": "ipython3",
   "version": "3.12.7"
  }
 },
 "nbformat": 4,
 "nbformat_minor": 5
}
