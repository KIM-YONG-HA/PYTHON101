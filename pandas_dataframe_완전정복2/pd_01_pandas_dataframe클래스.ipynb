{
 "cells": [
  {
   "cell_type": "markdown",
   "id": "0c3b499b-35f4-499a-b873-5cdf060df5c1",
   "metadata": {},
   "source": [
    "https://wikidocs.net/151013"
   ]
  },
  {
   "cell_type": "code",
   "execution_count": 2,
   "id": "e778f542-4bee-4ec6-9e2a-4e8b1683babd",
   "metadata": {},
   "outputs": [],
   "source": [
    "import numpy as np\n",
    "import pandas as pd"
   ]
  },
  {
   "cell_type": "code",
   "execution_count": 18,
   "id": "e8edd6c1-64bf-43df-b9f3-f768d79756de",
   "metadata": {},
   "outputs": [
    {
     "name": "stdout",
     "output_type": "stream",
     "text": [
      "[[5 0]\n",
      " [3 3]]\n"
     ]
    }
   ],
   "source": [
    "np.random.seed(0)\n",
    "arr = np.random.randint(10, size=(2, 2))\n",
    "print(arr)\n",
    "\n",
    "df1 = pd.DataFrame(arr, copy=False)\n",
    "df2 = pd.DataFrame(arr, copy=True)"
   ]
  },
  {
   "cell_type": "code",
   "execution_count": 22,
   "id": "5d2d4ca1-8363-4dbf-8e46-776e3c934d84",
   "metadata": {},
   "outputs": [
    {
     "name": "stdout",
     "output_type": "stream",
     "text": [
      "     0  1\n",
      "0  100  0\n",
      "1    3  3\n",
      "\n",
      "   0  1\n",
      "0  5  0\n",
      "1  3  3\n"
     ]
    }
   ],
   "source": [
    "arr[0,0] = 100\n",
    "print(df1)\n",
    "print()\n",
    "print(df2)"
   ]
  },
  {
   "cell_type": "code",
   "execution_count": null,
   "id": "ec809b96-95e1-4441-8a8e-6ad67abb71b5",
   "metadata": {},
   "outputs": [],
   "source": []
  }
 ],
 "metadata": {
  "kernelspec": {
   "display_name": "Python [conda env:base] *",
   "language": "python",
   "name": "conda-base-py"
  },
  "language_info": {
   "codemirror_mode": {
    "name": "ipython",
    "version": 3
   },
   "file_extension": ".py",
   "mimetype": "text/x-python",
   "name": "python",
   "nbconvert_exporter": "python",
   "pygments_lexer": "ipython3",
   "version": "3.12.7"
  }
 },
 "nbformat": 4,
 "nbformat_minor": 5
}
