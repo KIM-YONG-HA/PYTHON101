{
 "cells": [
  {
   "cell_type": "markdown",
   "id": "848185c0-4378-40a0-aefb-bf4fd56bfe0a",
   "metadata": {},
   "source": [
    "## 1"
   ]
  },
  {
   "cell_type": "code",
   "execution_count": null,
   "id": "210ceba8-ab89-4c34-8883-8a564be21a69",
   "metadata": {},
   "outputs": [],
   "source": [
    "dtype은 float32가 되도록 생성하세요\n",
    "\n",
    "0     3.0\n",
    "1     5.0\n",
    "2     7.0\n",
    "3     9.0\n",
    "4    11.0\n",
    "dtype: float32\n",
    "\n",
    "numpy.arange([start, ] stop, [step, ] dtype=None)\n"
   ]
  },
  {
   "cell_type": "code",
   "execution_count": 19,
   "id": "055b2537-544e-4f1e-b21f-41a30258b510",
   "metadata": {},
   "outputs": [
    {
     "name": "stdout",
     "output_type": "stream",
     "text": [
      "0     3.0\n",
      "1     5.0\n",
      "2     7.0\n",
      "3     9.0\n",
      "4    11.0\n",
      "dtype: float32\n"
     ]
    }
   ],
   "source": [
    "import numpy as np\n",
    "import pandas as pd\n",
    "\n",
    "s1 = pd.Series(np.arange(3,12,2), dtype='float32')\n",
    "print(s1)\n",
    "\n"
   ]
  },
  {
   "cell_type": "markdown",
   "id": "cf4a46bb-4c27-4482-bcb1-c636bf4433c5",
   "metadata": {},
   "source": [
    "## 2\n",
    "0    가\n",
    "1    나\n",
    "2    다\n",
    "3    라\n",
    "4    마\n",
    "dtype: object"
   ]
  },
  {
   "cell_type": "code",
   "execution_count": 21,
   "id": "41ba00ab-f490-43dc-892f-9176d440f721",
   "metadata": {},
   "outputs": [
    {
     "name": "stdout",
     "output_type": "stream",
     "text": [
      "0    가\n",
      "1    나\n",
      "2    다\n",
      "3    라\n",
      "dtype: object\n"
     ]
    }
   ],
   "source": [
    "s2 = pd.Series(['가', '나', '다', '라'])\n",
    "print(s2)"
   ]
  },
  {
   "cell_type": "code",
   "execution_count": null,
   "id": "112dfc97-f719-4abc-bff4-c23d74d515ff",
   "metadata": {},
   "outputs": [],
   "source": [
    "## 3\n",
    "다음의 Series를 생성하고 sample 변수에 대입하고 출력하세요\n",
    "가    10\n",
    "나    20\n",
    "다    30\n",
    "라    40\n",
    "마    50\n",
    "dtype: int64"
   ]
  },
  {
   "cell_type": "code",
   "execution_count": 27,
   "id": "74ce8a1a-fc8a-40b5-bf1b-42cd1468ffa1",
   "metadata": {},
   "outputs": [
    {
     "name": "stdout",
     "output_type": "stream",
     "text": [
      "가    10\n",
      "나    20\n",
      "다    30\n",
      "라    40\n",
      "마    50\n",
      "dtype: int64\n"
     ]
    }
   ],
   "source": [
    "s3 = pd.Series(data=[10, 20, 30, 40, 50], index=['가','나','다','라','마'])\n",
    "print(s3)"
   ]
  },
  {
   "cell_type": "code",
   "execution_count": null,
   "id": "1c6c4a48-efb9-449a-a7e0-ad15fbbc587a",
   "metadata": {},
   "outputs": [],
   "source": [
    "## 4\n",
    "sample중 '나'와 '라' 데이터를 조회하세요\n",
    "\n"
   ]
  },
  {
   "cell_type": "code",
   "execution_count": 29,
   "id": "ad9eac71-d86c-4e44-b9d6-1404ce3161ff",
   "metadata": {},
   "outputs": [
    {
     "name": "stdout",
     "output_type": "stream",
     "text": [
      "나    20\n",
      "라    40\n",
      "dtype: int64\n"
     ]
    }
   ],
   "source": [
    "print(s3[['나', '라']])"
   ]
  },
  {
   "cell_type": "code",
   "execution_count": null,
   "id": "6045729d-e5a0-4d60-b1e2-265fd62ae341",
   "metadata": {},
   "outputs": [],
   "source": [
    "# 5\n",
    "\n",
    "sample2 중 160 이하인 데이터만 필터하세요\n",
    "\n",
    "2     115\n",
    "4     128\n",
    "6     109\n",
    "7     120\n",
    "9     122\n",
    "11    134\n",
    "13    140\n",
    "dtype: int64\n"
   ]
  },
  {
   "cell_type": "code",
   "execution_count": 33,
   "id": "0693d20c-78cf-4847-a42d-60b8989720ef",
   "metadata": {},
   "outputs": [
    {
     "name": "stdout",
     "output_type": "stream",
     "text": [
      "2     115\n",
      "4     128\n",
      "6     109\n",
      "7     120\n",
      "9     122\n",
      "11    134\n",
      "13    140\n",
      "dtype: int32\n"
     ]
    }
   ],
   "source": [
    "np.random.seed(20)\n",
    "sample2 = pd.Series(np.random.randint(100, 200, size=(15,)))\n",
    "cond = sample2 <= 160\n",
    "print(sample2[cond])\n"
   ]
  },
  {
   "cell_type": "code",
   "execution_count": null,
   "id": "530799f4-868a-48ce-989e-9fe2ecf295a6",
   "metadata": {},
   "outputs": [],
   "source": [
    "# 6\n",
    "\n",
    "sample2 중 130 이상 170 이하인 데이터만 필터하세요\n",
    "\n",
    "11    134\n",
    "13    140\n",
    "dtype: int64\n"
   ]
  },
  {
   "cell_type": "code",
   "execution_count": 41,
   "id": "55218e47-4c0e-4428-8ae8-9f161624556d",
   "metadata": {},
   "outputs": [
    {
     "name": "stdout",
     "output_type": "stream",
     "text": [
      "11    134\n",
      "13    140\n",
      "dtype: int32\n"
     ]
    }
   ],
   "source": [
    "cond = (sample2 >= 130) & (sample2 <= 160)\n",
    "print(sample2[cond])\n"
   ]
  },
  {
   "cell_type": "markdown",
   "id": "32b3b230-f67f-4314-a8f0-2e202baf23d5",
   "metadata": {},
   "source": [
    "# 7\n",
    "\n",
    "다음과 같은 Series를 생성해 주세요\n",
    "\n",
    "가     apple\n",
    "나       NaN\n",
    "다    banana\n",
    "라      kiwi\n",
    "마    gubong\n",
    "dtype: object\n"
   ]
  },
  {
   "cell_type": "code",
   "execution_count": 45,
   "id": "21370c9a-8142-4176-9e72-866783c0016d",
   "metadata": {},
   "outputs": [
    {
     "name": "stdout",
     "output_type": "stream",
     "text": [
      "가     apple\n",
      "나       NaN\n",
      "다    banana\n",
      "라      kiwi\n",
      "마    gubong\n",
      "dtype: object\n"
     ]
    }
   ],
   "source": [
    "data = {\n",
    "    '가':'apple',\n",
    "    '나':np.nan,\n",
    "    '다':'banana',\n",
    "    '라':'kiwi',\n",
    "    '마':'gubong',\n",
    "}\n",
    "\n",
    "s7 = pd.Series(data)\n",
    "print(s7)"
   ]
  },
  {
   "cell_type": "markdown",
   "id": "a39afda9-950a-42b1-9300-de5adc83cf35",
   "metadata": {},
   "source": [
    "# 8\n",
    "\n",
    "sample 중 결측치 데이터만 필터하세요\n",
    "\n",
    "1    NaN\n",
    "3    NaN\n",
    "dtype: object"
   ]
  },
  {
   "cell_type": "code",
   "execution_count": 55,
   "id": "6d546c3a-7d25-462a-8e53-5ab332cccb41",
   "metadata": {},
   "outputs": [
    {
     "name": "stdout",
     "output_type": "stream",
     "text": [
      "1    NaN\n",
      "3    NaN\n",
      "dtype: object\n"
     ]
    }
   ],
   "source": [
    "\n",
    "sample = pd.Series(['IT서비스', np.nan, '반도체', np.nan, '바이오', '자율주행'])\n",
    "#cond = sample.isna()\n",
    "cond = sample.isnull()\n",
    "\n",
    "print(sample[cond])\n",
    "\n",
    "\n"
   ]
  },
  {
   "cell_type": "code",
   "execution_count": null,
   "id": "e734a50c-a2d2-4f9c-becb-980a664c73f7",
   "metadata": {},
   "outputs": [],
   "source": [
    "# 9 \n",
    "\n",
    "sample중 결측치가 아닌 데이터만 필터하세요\n",
    "\n",
    "0    IT서비스\n",
    "2      반도체\n",
    "4      바이오\n",
    "5     자율주행\n",
    "dtype: object"
   ]
  },
  {
   "cell_type": "code",
   "execution_count": 57,
   "id": "26e25446-8897-423f-bfc8-bee8dfd9c3bd",
   "metadata": {},
   "outputs": [
    {
     "name": "stdout",
     "output_type": "stream",
     "text": [
      "0    IT서비스\n",
      "2      반도체\n",
      "4      바이오\n",
      "5     자율주행\n",
      "dtype: object\n"
     ]
    }
   ],
   "source": [
    "cond = sample.isna() == False\n",
    "print(sample[cond])"
   ]
  },
  {
   "cell_type": "code",
   "execution_count": null,
   "id": "b907f3d8-1f06-44d6-802b-d65a38cf7816",
   "metadata": {},
   "outputs": [],
   "source": [
    "# 10\n",
    "\n",
    "sample에서 다음과 같은 결과를 가지도록 슬라이싱 하세요\n",
    "\n",
    "2    164\n",
    "3    167\n",
    "4    167\n",
    "5    109\n",
    "6    183\n",
    "dtype: int64"
   ]
  },
  {
   "cell_type": "code",
   "execution_count": 63,
   "id": "6aba9a39-5b8d-4c1c-ad89-bdeb17d66fc5",
   "metadata": {},
   "outputs": [
    {
     "name": "stdout",
     "output_type": "stream",
     "text": [
      "2    164\n",
      "3    167\n",
      "4    167\n",
      "5    109\n",
      "6    183\n",
      "dtype: int32\n"
     ]
    }
   ],
   "source": [
    "np.random.seed(0)\n",
    "sample = pd.Series(np.random.randint(100, 200, size=(10,)))\n",
    "print(sample[2:7])"
   ]
  },
  {
   "cell_type": "code",
   "execution_count": null,
   "id": "3455cdb6-4b65-46dc-952e-45aa3b5afdf9",
   "metadata": {},
   "outputs": [],
   "source": [
    "# 11"
   ]
  },
  {
   "cell_type": "code",
   "execution_count": null,
   "id": "9a7d8a5f-0a00-4b49-91c7-dd34d3599b1d",
   "metadata": {},
   "outputs": [],
   "source": []
  }
 ],
 "metadata": {
  "kernelspec": {
   "display_name": "Python [conda env:base] *",
   "language": "python",
   "name": "conda-base-py"
  },
  "language_info": {
   "codemirror_mode": {
    "name": "ipython",
    "version": 3
   },
   "file_extension": ".py",
   "mimetype": "text/x-python",
   "name": "python",
   "nbconvert_exporter": "python",
   "pygments_lexer": "ipython3",
   "version": "3.12.7"
  }
 },
 "nbformat": 4,
 "nbformat_minor": 5
}
