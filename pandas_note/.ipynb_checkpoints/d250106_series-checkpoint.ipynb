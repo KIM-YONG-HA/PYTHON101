{
 "cells": [
  {
   "cell_type": "markdown",
   "id": "848185c0-4378-40a0-aefb-bf4fd56bfe0a",
   "metadata": {},
   "source": [
    "## 1"
   ]
  },
  {
   "cell_type": "code",
   "execution_count": 6,
   "id": "dc42a804-daf7-4d80-9224-019ef2c63c4f",
   "metadata": {},
   "outputs": [],
   "source": [
    "import numpy as np\n",
    "import pandas as pd\n"
   ]
  },
  {
   "cell_type": "code",
   "execution_count": null,
   "id": "210ceba8-ab89-4c34-8883-8a564be21a69",
   "metadata": {},
   "outputs": [],
   "source": [
    "dtype은 float32가 되도록 생성하세요\n",
    "\n",
    "0     3.0\n",
    "1     5.0\n",
    "2     7.0\n",
    "3     9.0\n",
    "4    11.0\n",
    "dtype: float32\n",
    "\n",
    "numpy.arange([start, ] stop, [step, ] dtype=None)\n"
   ]
  },
  {
   "cell_type": "code",
   "execution_count": 4,
   "id": "055b2537-544e-4f1e-b21f-41a30258b510",
   "metadata": {},
   "outputs": [
    {
     "name": "stdout",
     "output_type": "stream",
     "text": [
      "0     3.0\n",
      "1     5.0\n",
      "2     7.0\n",
      "3     9.0\n",
      "4    11.0\n",
      "dtype: float32\n"
     ]
    }
   ],
   "source": [
    "\n",
    "s1 = pd.Series(np.arange(3,12,2), dtype='float32')\n",
    "print(s1)\n",
    "\n"
   ]
  },
  {
   "cell_type": "markdown",
   "id": "cf4a46bb-4c27-4482-bcb1-c636bf4433c5",
   "metadata": {},
   "source": [
    "## 2\n",
    "0    가\n",
    "1    나\n",
    "2    다\n",
    "3    라\n",
    "4    마\n",
    "dtype: object"
   ]
  },
  {
   "cell_type": "code",
   "execution_count": 79,
   "id": "41ba00ab-f490-43dc-892f-9176d440f721",
   "metadata": {},
   "outputs": [
    {
     "name": "stdout",
     "output_type": "stream",
     "text": [
      "0    가\n",
      "1    나\n",
      "2    다\n",
      "3    라\n",
      "dtype: object\n",
      "0    가\n",
      "1    나\n",
      "2    다\n",
      "3    라\n",
      "4    마\n",
      "dtype: object\n",
      "['가', '나', '다', '라', '마']\n"
     ]
    }
   ],
   "source": [
    "s2 = pd.Series(['가', '나', '다', '라'])\n",
    "print(s2)\n",
    "\n",
    "print(pd.Series(list(\"가나다라마\")))\n",
    "\n",
    "print(list(\"가나다라마\"))"
   ]
  },
  {
   "cell_type": "code",
   "execution_count": null,
   "id": "112dfc97-f719-4abc-bff4-c23d74d515ff",
   "metadata": {},
   "outputs": [],
   "source": [
    "## 3\n",
    "다음의 Series를 생성하고 sample 변수에 대입하고 출력하세요\n",
    "가    10\n",
    "나    20\n",
    "다    30\n",
    "라    40\n",
    "마    50\n",
    "dtype: int64"
   ]
  },
  {
   "cell_type": "code",
   "execution_count": 8,
   "id": "74ce8a1a-fc8a-40b5-bf1b-42cd1468ffa1",
   "metadata": {},
   "outputs": [
    {
     "name": "stdout",
     "output_type": "stream",
     "text": [
      "가    10\n",
      "나    20\n",
      "다    30\n",
      "라    40\n",
      "마    50\n",
      "dtype: int64\n",
      "\n",
      "가    10\n",
      "나    20\n",
      "다    30\n",
      "라    40\n",
      "마    50\n",
      "dtype: int32\n"
     ]
    }
   ],
   "source": [
    "s3 = pd.Series(data=[10, 20, 30, 40, 50], index=['가','나','다','라','마'])\n",
    "print(s3)\n",
    "print()\n",
    "\n",
    "s3 = pd.Series(data=np.arange(10, 60, 10), index=list('가나다라마'))\n",
    "print(s3)"
   ]
  },
  {
   "cell_type": "code",
   "execution_count": null,
   "id": "1c6c4a48-efb9-449a-a7e0-ad15fbbc587a",
   "metadata": {},
   "outputs": [],
   "source": [
    "## 4\n",
    "sample중 '나'와 '라' 데이터를 조회하세요\n",
    "\n"
   ]
  },
  {
   "cell_type": "code",
   "execution_count": 29,
   "id": "ad9eac71-d86c-4e44-b9d6-1404ce3161ff",
   "metadata": {},
   "outputs": [
    {
     "name": "stdout",
     "output_type": "stream",
     "text": [
      "나    20\n",
      "라    40\n",
      "dtype: int64\n"
     ]
    }
   ],
   "source": [
    "print(s3[['나', '라']])"
   ]
  },
  {
   "cell_type": "code",
   "execution_count": null,
   "id": "6045729d-e5a0-4d60-b1e2-265fd62ae341",
   "metadata": {},
   "outputs": [],
   "source": [
    "# 5\n",
    "\n",
    "sample2 중 160 이하인 데이터만 필터하세요\n",
    "\n",
    "2     115\n",
    "4     128\n",
    "6     109\n",
    "7     120\n",
    "9     122\n",
    "11    134\n",
    "13    140\n",
    "dtype: int64\n"
   ]
  },
  {
   "cell_type": "code",
   "execution_count": 10,
   "id": "0693d20c-78cf-4847-a42d-60b8989720ef",
   "metadata": {},
   "outputs": [
    {
     "name": "stdout",
     "output_type": "stream",
     "text": [
      "2     115\n",
      "4     128\n",
      "6     109\n",
      "7     120\n",
      "9     122\n",
      "11    134\n",
      "13    140\n",
      "dtype: int32\n",
      "\n",
      "2     115\n",
      "4     128\n",
      "6     109\n",
      "7     120\n",
      "9     122\n",
      "11    134\n",
      "13    140\n",
      "dtype: int32\n"
     ]
    }
   ],
   "source": [
    "np.random.seed(20)\n",
    "sample2 = pd.Series(np.random.randint(100, 200, size=(15,)))\n",
    "cond = sample2 <= 160\n",
    "print(sample2[cond])\n",
    "print()\n",
    "print(sample2[sample2 <= 160])"
   ]
  },
  {
   "cell_type": "code",
   "execution_count": null,
   "id": "530799f4-868a-48ce-989e-9fe2ecf295a6",
   "metadata": {},
   "outputs": [],
   "source": [
    "# 6\n",
    "\n",
    "sample2 중 130 이상 170 이하인 데이터만 필터하세요\n",
    "\n",
    "11    134\n",
    "13    140\n",
    "dtype: int64\n"
   ]
  },
  {
   "cell_type": "code",
   "execution_count": 14,
   "id": "55218e47-4c0e-4428-8ae8-9f161624556d",
   "metadata": {},
   "outputs": [
    {
     "name": "stdout",
     "output_type": "stream",
     "text": [
      "11    134\n",
      "13    140\n",
      "dtype: int32\n",
      "\n",
      "11    134\n",
      "13    140\n",
      "dtype: int32\n"
     ]
    }
   ],
   "source": [
    "cond = (sample2 >= 130) & (sample2 <= 160)\n",
    "print(sample2[cond])\n",
    "print()\n",
    "print(sample2[(sample2 >= 130) & (sample2 <= 160)])"
   ]
  },
  {
   "cell_type": "markdown",
   "id": "32b3b230-f67f-4314-a8f0-2e202baf23d5",
   "metadata": {},
   "source": [
    "# 7\n",
    "\n",
    "다음과 같은 Series를 생성해 주세요\n",
    "\n",
    "가     apple\n",
    "나       NaN\n",
    "다    banana\n",
    "라      kiwi\n",
    "마    gubong\n",
    "dtype: object\n"
   ]
  },
  {
   "cell_type": "code",
   "execution_count": 45,
   "id": "21370c9a-8142-4176-9e72-866783c0016d",
   "metadata": {},
   "outputs": [
    {
     "name": "stdout",
     "output_type": "stream",
     "text": [
      "가     apple\n",
      "나       NaN\n",
      "다    banana\n",
      "라      kiwi\n",
      "마    gubong\n",
      "dtype: object\n"
     ]
    }
   ],
   "source": [
    "data = {\n",
    "    '가':'apple',\n",
    "    '나':np.nan,\n",
    "    '다':'banana',\n",
    "    '라':'kiwi',\n",
    "    '마':'gubong',\n",
    "}\n",
    "\n",
    "s7 = pd.Series(data)\n",
    "print(s7)"
   ]
  },
  {
   "cell_type": "markdown",
   "id": "a39afda9-950a-42b1-9300-de5adc83cf35",
   "metadata": {},
   "source": [
    "# 8\n",
    "\n",
    "sample 중 결측치 데이터만 필터하세요\n",
    "\n",
    "1    NaN\n",
    "3    NaN\n",
    "dtype: object"
   ]
  },
  {
   "cell_type": "code",
   "execution_count": 16,
   "id": "6d546c3a-7d25-462a-8e53-5ab332cccb41",
   "metadata": {},
   "outputs": [
    {
     "name": "stdout",
     "output_type": "stream",
     "text": [
      "1    NaN\n",
      "3    NaN\n",
      "dtype: object\n",
      "\n",
      "1    NaN\n",
      "3    NaN\n",
      "dtype: object\n"
     ]
    }
   ],
   "source": [
    "\n",
    "sample = pd.Series(['IT서비스', np.nan, '반도체', np.nan, '바이오', '자율주행'])\n",
    "#cond = sample.isna()\n",
    "cond = sample.isnull()\n",
    "\n",
    "print(sample[cond])\n",
    "print()\n",
    "print(sample[sample.isna()])"
   ]
  },
  {
   "cell_type": "markdown",
   "id": "f5e5199b-28fc-4cd3-8730-6757db63d794",
   "metadata": {},
   "source": [
    "# 9 \n",
    "\n",
    "sample중 결측치가 아닌 데이터만 필터하세요\n",
    "\n",
    "0    IT서비스\n",
    "2      반도체\n",
    "4      바이오\n",
    "5     자율주행\n",
    "dtype: object"
   ]
  },
  {
   "cell_type": "code",
   "execution_count": 20,
   "id": "26e25446-8897-423f-bfc8-bee8dfd9c3bd",
   "metadata": {},
   "outputs": [
    {
     "name": "stdout",
     "output_type": "stream",
     "text": [
      "0    IT서비스\n",
      "2      반도체\n",
      "4      바이오\n",
      "5     자율주행\n",
      "dtype: object\n",
      "\n",
      "0    IT서비스\n",
      "2      반도체\n",
      "4      바이오\n",
      "5     자율주행\n",
      "dtype: object\n",
      "\n",
      "0    IT서비스\n",
      "2      반도체\n",
      "4      바이오\n",
      "5     자율주행\n",
      "dtype: object\n"
     ]
    }
   ],
   "source": [
    "cond = sample.isna() == False\n",
    "print(sample[cond])\n",
    "print()\n",
    "print(sample[sample.notnull()])\n",
    "print()\n",
    "print(sample[sample.notna()])"
   ]
  },
  {
   "cell_type": "markdown",
   "id": "eb56f62f-e669-4dc7-ab43-f926f5603f69",
   "metadata": {},
   "source": [
    "# 10\n",
    "\n",
    "sample에서 다음과 같은 결과를 가지도록 슬라이싱 하세요\n",
    "\n",
    "2    164\n",
    "3    167\n",
    "4    167\n",
    "5    109\n",
    "6    183\n",
    "dtype: int64"
   ]
  },
  {
   "cell_type": "code",
   "execution_count": 63,
   "id": "6aba9a39-5b8d-4c1c-ad89-bdeb17d66fc5",
   "metadata": {},
   "outputs": [
    {
     "name": "stdout",
     "output_type": "stream",
     "text": [
      "2    164\n",
      "3    167\n",
      "4    167\n",
      "5    109\n",
      "6    183\n",
      "dtype: int32\n"
     ]
    }
   ],
   "source": [
    "np.random.seed(0)\n",
    "sample = pd.Series(np.random.randint(100, 200, size=(10,)))\n",
    "print(sample[2:7])"
   ]
  },
  {
   "cell_type": "markdown",
   "id": "6228cf63-f5ab-4d2a-b221-94247f0999aa",
   "metadata": {},
   "source": [
    "# 11\n",
    "\n",
    "sample2에서 다음과 같은 결과를 가지도록 슬라이싱 하세요\n",
    "\n",
    "바    109\n",
    "사    183\n",
    "아    121\n",
    "자    136\n",
    "차    187\n",
    "dtype: int64\n"
   ]
  },
  {
   "cell_type": "code",
   "execution_count": 22,
   "id": "9a7d8a5f-0a00-4b49-91c7-dd34d3599b1d",
   "metadata": {},
   "outputs": [
    {
     "name": "stdout",
     "output_type": "stream",
     "text": [
      "바    109\n",
      "사    183\n",
      "아    121\n",
      "자    136\n",
      "차    187\n",
      "dtype: int32\n",
      "\n",
      "바    109\n",
      "사    183\n",
      "아    121\n",
      "자    136\n",
      "차    187\n",
      "dtype: int32\n"
     ]
    }
   ],
   "source": [
    "np.random.seed(0)\n",
    "sample2 = pd.Series(np.random.randint(100, 200, size=(10,)), index=list('가나다라마바사아자차'))\n",
    "print(sample2[\"바\":\"차\"])\n",
    "print()\n",
    "print(sample2['바':])"
   ]
  },
  {
   "cell_type": "markdown",
   "id": "b130a373-8a18-43f7-aed1-ffe1d6e0e8f3",
   "metadata": {},
   "source": [
    "# 12\n",
    "\n",
    "가    144\n",
    "나    147\n",
    "다    164\n",
    "dtype: int64\n",
    "\n"
   ]
  },
  {
   "cell_type": "code",
   "execution_count": 24,
   "id": "f5ccb2eb-3d71-4d4a-887b-610bfaf774f6",
   "metadata": {},
   "outputs": [
    {
     "name": "stdout",
     "output_type": "stream",
     "text": [
      "가    144\n",
      "나    147\n",
      "다    164\n",
      "dtype: int32\n",
      "\n",
      "가    144\n",
      "나    147\n",
      "다    164\n",
      "dtype: int32\n"
     ]
    }
   ],
   "source": [
    "print(sample2[\"가\":\"다\"])\n",
    "print()\n",
    "print(sample2[:'다'])"
   ]
  },
  {
   "cell_type": "markdown",
   "id": "e000a1e9-3fd3-471a-9602-bcce6e9006ab",
   "metadata": {},
   "source": [
    "# 13\n",
    "\n",
    "나    147\n",
    "다    164\n",
    "라    167\n",
    "마    167\n",
    "바    109\n",
    "dtype: int64"
   ]
  },
  {
   "cell_type": "code",
   "execution_count": 75,
   "id": "632f31e1-c6a4-4da9-9780-7671f43929d2",
   "metadata": {},
   "outputs": [
    {
     "name": "stdout",
     "output_type": "stream",
     "text": [
      "나    147\n",
      "다    164\n",
      "라    167\n",
      "마    167\n",
      "바    109\n",
      "dtype: int32\n"
     ]
    }
   ],
   "source": [
    "print(sample2[\"나\":\"바\"])"
   ]
  }
 ],
 "metadata": {
  "kernelspec": {
   "display_name": "Python [conda env:base] *",
   "language": "python",
   "name": "conda-base-py"
  },
  "language_info": {
   "codemirror_mode": {
    "name": "ipython",
    "version": 3
   },
   "file_extension": ".py",
   "mimetype": "text/x-python",
   "name": "python",
   "nbconvert_exporter": "python",
   "pygments_lexer": "ipython3",
   "version": "3.12.7"
  }
 },
 "nbformat": 4,
 "nbformat_minor": 5
}
