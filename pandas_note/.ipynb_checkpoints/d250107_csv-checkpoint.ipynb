{
 "cells": [
  {
   "cell_type": "code",
   "execution_count": 2,
   "id": "462daa57-478e-426f-989a-7bec6a908a5b",
   "metadata": {},
   "outputs": [],
   "source": [
    "import numpy as np\n",
    "import pandas as pd"
   ]
  },
  {
   "cell_type": "code",
   "execution_count": 16,
   "id": "595abd65-4fcf-461a-8f19-37aa44959ab6",
   "metadata": {},
   "outputs": [
    {
     "name": "stdout",
     "output_type": "stream",
     "text": [
      "         0            1            2            3         4            5   \\\n",
      "0       NaN     GS칼텍스_셀프     GS칼텍스_일반     S-OIL_셀프  S-OIL_일반     SK에너지_셀프   \n",
      "1    서울 강남구      1443.44  1627.111111      1420.76   1593.25   1416.86625   \n",
      "2    서울 강동구     1413.275  1430.353333      1418.97      1498         1445   \n",
      "3    서울 강북구     1293.675      1313.19       1275.1   1325.71      1329.69   \n",
      "4    서울 강서구  1361.773333      1385.84  1376.913333       NaN  1325.516667   \n",
      "5    서울 관악구      1415.45      1429.97          NaN  1397.015      1411.84   \n",
      "6    서울 광진구          NaN     1360.394      1337.16   1344.97          NaN   \n",
      "7    서울 구로구      1285.94  1511.173333      1286.42  1393.832          NaN   \n",
      "8    서울 금천구      1313.94          NaN     1305.565   1287.58          NaN   \n",
      "9    서울 노원구      1340.89      1421.85  1370.966667       NaN     1373.275   \n",
      "10   서울 도봉구      1331.92      1327.32     1329.896      1557      1291.47   \n",
      "11  서울 동대문구     1305.485      1304.98      1296.39    1372.5      1367.55   \n",
      "12   서울 동작구      1413.84     1345.275          NaN   1358.03          NaN   \n",
      "13   서울 마포구          NaN      1371.19      1408.97  1556.175          NaN   \n",
      "14  서울 서대문구      1357.69      1358.23     1351.905   1320.81  1360.226667   \n",
      "15   서울 서초구      1391.77      1408.22  1388.463333   1629.94      1402.27   \n",
      "16   서울 성동구      1361.45         1650      1312.23   1342.19      1418.77   \n",
      "17   서울 성북구      1299.24      1333.71  1301.643333  1354.725     1309.065   \n",
      "18   서울 송파구     1364.285      1381.45      1356.13   1412.84  1359.053333   \n",
      "19   서울 양천구  1312.826667      1323.05      1269.06       NaN     1333.678   \n",
      "20  서울 영등포구    1350.4375  1580.468333      1349.94      1345    1338.7425   \n",
      "21   서울 용산구          NaN    1769.3625          NaN       NaN          NaN   \n",
      "22   서울 은평구     1332.586      1341.52      1338.05       NaN    1334.8375   \n",
      "23   서울 종로구          NaN         1989          NaN      1459         1425   \n",
      "24    서울 중구          NaN  2067.053333          NaN      1758          NaN   \n",
      "25   서울 중랑구     1315.525      1305.71  1303.493333  1359.885    1347.5875   \n",
      "\n",
      "             6          7         8         9        10           11  \\\n",
      "0      SK에너지_일반  알뜰(ex)_셀프  알뜰주유소_셀프  알뜰주유소_일반  자가상표_일반    현대오일뱅크_셀프   \n",
      "1   1734.166667        NaN       NaN       NaN      NaN      1385.23   \n",
      "2      1653.695        NaN       NaN       NaN      NaN  1403.063333   \n",
      "3       1295.84        NaN       NaN       NaN      NaN       1322.3   \n",
      "4      1433.664        NaN   1273.11   1264.06      NaN      1299.24   \n",
      "5       1436.28        NaN      1313   1329.45      NaN      1392.55   \n",
      "6   1373.623333        NaN       NaN   1309.19      NaN  1358.733333   \n",
      "7      1336.065        NaN       NaN   1321.77      NaN     1314.235   \n",
      "8        1351.6        NaN   1282.46   1291.67      NaN     1313.035   \n",
      "9          1398        NaN       NaN       NaN      NaN          NaN   \n",
      "10          NaN        NaN       NaN       NaN      NaN  1345.106667   \n",
      "11     1383.838        NaN       NaN       NaN      NaN       1329.1   \n",
      "12      1484.35        NaN       NaN       NaN      NaN      1393.29   \n",
      "13     1493.846        NaN       NaN       NaN      NaN         1453   \n",
      "14  1352.713333        NaN       NaN       NaN      NaN      1352.84   \n",
      "15  1590.833333    1272.39       NaN       NaN      NaN      1417.29   \n",
      "16  1471.978333        NaN       NaN       NaN  1299.58     1350.725   \n",
      "17      1407.23        NaN       NaN   1263.84      NaN     1306.835   \n",
      "18    1431.8125        NaN       NaN       NaN      NaN      1367.14   \n",
      "19     1447.435        NaN   1292.87       NaN      NaN     1347.365   \n",
      "20  1600.968333        NaN   1276.42       NaN      NaN     1349.728   \n",
      "21  1885.408333        NaN       NaN       NaN      NaN          NaN   \n",
      "22          NaN        NaN       NaN       NaN     1418      1314.87   \n",
      "23         1943        NaN       NaN       NaN      NaN          NaN   \n",
      "24     1945.522        NaN       NaN   1401.87      NaN          NaN   \n",
      "25          NaN        NaN       NaN       NaN      NaN      1338.42   \n",
      "\n",
      "             12  \n",
      "0     현대오일뱅크_일반  \n",
      "1      1525.705  \n",
      "2       1424.34  \n",
      "3           NaN  \n",
      "4       1362.53  \n",
      "5       1407.05  \n",
      "6       1337.94  \n",
      "7       1391.17  \n",
      "8       1379.39  \n",
      "9      1431.435  \n",
      "10  1309.936667  \n",
      "11    1386.7275  \n",
      "12      1388.84  \n",
      "13      1420.58  \n",
      "14     1357.805  \n",
      "15     1468.968  \n",
      "16     1572.695  \n",
      "17      1353.16  \n",
      "18      1378.28  \n",
      "19     1401.385  \n",
      "20         1494  \n",
      "21    1800.5075  \n",
      "22         1399  \n",
      "23     1665.775  \n",
      "24         1618  \n",
      "25      1291.19  \n"
     ]
    }
   ],
   "source": [
    "file_path = 'data/file_sample.xlsx'\n",
    "oil = pd.read_excel(file_path, header=None)\n",
    "\n",
    "print(oil)"
   ]
  },
  {
   "cell_type": "code",
   "execution_count": 14,
   "id": "5d7245b7-e347-415f-bc64-7454e0c861cc",
   "metadata": {},
   "outputs": [
    {
     "data": {
      "text/plain": [
       "Index(['Unnamed: 0', 'GS칼텍스_셀프', 'GS칼텍스_일반', 'S-OIL_셀프', 'S-OIL_일반',\n",
       "       'SK에너지_셀프', 'SK에너지_일반', '알뜰(ex)_셀프', '알뜰주유소_셀프', '알뜰주유소_일반', '자가상표_일반',\n",
       "       '현대오일뱅크_셀프', '현대오일뱅크_일반'],\n",
       "      dtype='object')"
      ]
     },
     "execution_count": 14,
     "metadata": {},
     "output_type": "execute_result"
    }
   ],
   "source": [
    "oil.keys()"
   ]
  },
  {
   "cell_type": "code",
   "execution_count": null,
   "id": "b83df226-c76a-48e0-8535-d8c72e09d85e",
   "metadata": {},
   "outputs": [],
   "source": []
  },
  {
   "cell_type": "code",
   "execution_count": null,
   "id": "20e6ce31-52bb-4d70-9cb3-2f28a74091dd",
   "metadata": {},
   "outputs": [],
   "source": []
  },
  {
   "cell_type": "code",
   "execution_count": null,
   "id": "fa5d99d2-d6a1-4e84-b034-3fd15d927987",
   "metadata": {},
   "outputs": [],
   "source": []
  },
  {
   "cell_type": "code",
   "execution_count": null,
   "id": "2402ce90-53f4-40e3-84a1-3facd5740a0a",
   "metadata": {},
   "outputs": [],
   "source": []
  }
 ],
 "metadata": {
  "kernelspec": {
   "display_name": "Python [conda env:base] *",
   "language": "python",
   "name": "conda-base-py"
  },
  "language_info": {
   "codemirror_mode": {
    "name": "ipython",
    "version": 3
   },
   "file_extension": ".py",
   "mimetype": "text/x-python",
   "name": "python",
   "nbconvert_exporter": "python",
   "pygments_lexer": "ipython3",
   "version": "3.12.7"
  }
 },
 "nbformat": 4,
 "nbformat_minor": 5
}
