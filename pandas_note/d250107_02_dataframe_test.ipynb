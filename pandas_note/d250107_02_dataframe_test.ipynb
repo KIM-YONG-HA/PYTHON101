{
 "cells": [
  {
   "cell_type": "code",
   "execution_count": 60,
   "id": "bcff4f7d-d178-43f1-b569-56433431baae",
   "metadata": {},
   "outputs": [],
   "source": [
    "import numpy as np\n",
    "import pandas as pd"
   ]
  },
  {
   "cell_type": "code",
   "execution_count": null,
   "id": "173338be-bd84-4abe-9e66-ed9fdfdbeba2",
   "metadata": {},
   "outputs": [],
   "source": [
    "다음의 DataFrame을 생성하세요\n",
    "\n",
    "생성된 DataFrame은 df 변수에 할당합니다.\n",
    "\n",
    "    \tfood\tprice\trating\n",
    "0\tKFC\t1000\t4.5\n",
    "1\tMcDonald\t2000\t3.9\n",
    "2\tSchoolFood\t2500\t4.2\n",
    "    "
   ]
  },
  {
   "cell_type": "code",
   "execution_count": 48,
   "id": "500a3d77-78d8-45c1-b411-e0f5ba623599",
   "metadata": {},
   "outputs": [
    {
     "name": "stdout",
     "output_type": "stream",
     "text": [
      "         food  price  rating\n",
      "0         KFC   1000     4.5\n",
      "1    McDonald   2000     3.9\n",
      "2  SchoolFood   2500     4.2\n"
     ]
    }
   ],
   "source": [
    "# 방식 1 : 리스트 내 리스트 사용 row~\n",
    "data = [\n",
    "    ['KFC', 1000, 4.5],\n",
    "    ['McDonald', 2000, 3.9],\n",
    "    ['SchoolFood', 2500, 4.2],\n",
    "]\n",
    "columns = ['food', 'price', 'rating']\n",
    "df = pd.DataFrame(data=data, columns=columns)\n",
    "print(df)"
   ]
  },
  {
   "cell_type": "code",
   "execution_count": null,
   "id": "a758aa2c-5c1c-4749-9bd1-318adf5c88c5",
   "metadata": {},
   "outputs": [],
   "source": [
    "# 방식 2 : 딕셔너리 "
   ]
  },
  {
   "cell_type": "code",
   "execution_count": 70,
   "id": "13cf159a-950c-4684-810d-a7465948d52e",
   "metadata": {},
   "outputs": [
    {
     "data": {
      "text/html": [
       "<div>\n",
       "<style scoped>\n",
       "    .dataframe tbody tr th:only-of-type {\n",
       "        vertical-align: middle;\n",
       "    }\n",
       "\n",
       "    .dataframe tbody tr th {\n",
       "        vertical-align: top;\n",
       "    }\n",
       "\n",
       "    .dataframe thead th {\n",
       "        text-align: right;\n",
       "    }\n",
       "</style>\n",
       "<table border=\"1\" class=\"dataframe\">\n",
       "  <thead>\n",
       "    <tr style=\"text-align: right;\">\n",
       "      <th></th>\n",
       "      <th>food</th>\n",
       "      <th>price</th>\n",
       "      <th>rating</th>\n",
       "    </tr>\n",
       "  </thead>\n",
       "  <tbody>\n",
       "    <tr>\n",
       "      <th>0</th>\n",
       "      <td>KFC</td>\n",
       "      <td>1000</td>\n",
       "      <td>4.5</td>\n",
       "    </tr>\n",
       "    <tr>\n",
       "      <th>1</th>\n",
       "      <td>McDonald</td>\n",
       "      <td>2000</td>\n",
       "      <td>3.9</td>\n",
       "    </tr>\n",
       "    <tr>\n",
       "      <th>2</th>\n",
       "      <td>SchoolFood</td>\n",
       "      <td>2500</td>\n",
       "      <td>4.2</td>\n",
       "    </tr>\n",
       "  </tbody>\n",
       "</table>\n",
       "</div>"
      ],
      "text/plain": [
       "         food  price  rating\n",
       "0         KFC   1000     4.5\n",
       "1    McDonald   2000     3.9\n",
       "2  SchoolFood   2500     4.2"
      ]
     },
     "execution_count": 70,
     "metadata": {},
     "output_type": "execute_result"
    }
   ],
   "source": [
    "data = {\n",
    "    \"food\":['KFC','McDonald','SchoolFood'],\n",
    "    'price':[1000,2000,2500],\n",
    "    'rating':[4.5, 3.9, 4.2]\n",
    "}\n",
    "df = pd.DataFrame(data)\n",
    "df"
   ]
  },
  {
   "cell_type": "code",
   "execution_count": 72,
   "id": "b5b73456-b17e-4b48-885e-90285ff404ca",
   "metadata": {},
   "outputs": [
    {
     "name": "stdout",
     "output_type": "stream",
     "text": [
      "         food  price  rating\n",
      "0         KFC   1000     4.5\n",
      "1    McDonald   2000     3.9\n",
      "2  SchoolFood   2500     4.2\n"
     ]
    }
   ],
   "source": [
    "# 방식 3 : 딕셔너리의 리스트 \n",
    "data = [\n",
    "    {'food': 'KFC', 'price': 1000, 'rating': 4.5},\n",
    "    {'food': 'McDonald', 'price': 2000, 'rating': 3.9},\n",
    "    {'food': 'SchoolFood', 'price': 2500, 'rating': 4.2},\n",
    "]\n",
    "df = pd.DataFrame(data=data, columns=columns)\n",
    "print(df)"
   ]
  },
  {
   "cell_type": "code",
   "execution_count": 74,
   "id": "d4d5eb09-ce84-450a-8752-245e382ab29a",
   "metadata": {},
   "outputs": [
    {
     "name": "stdout",
     "output_type": "stream",
     "text": [
      "         food  price  rating\n",
      "0         KFC   1000     4.5\n",
      "1    McDonald   2000     3.9\n",
      "2  SchoolFood   2500     4.2\n"
     ]
    }
   ],
   "source": [
    "# 방식 4: 튜플 \n",
    "data = [\n",
    "    ('KFC', 1000, 4.5),\n",
    "    ('McDonald', 2000, 3.9),\n",
    "    ('SchoolFood', 2500, 4.2),\n",
    "]\n",
    "\n",
    "df = pd.DataFrame(data=data, columns=columns)\n",
    "print(df)"
   ]
  },
  {
   "cell_type": "code",
   "execution_count": 86,
   "id": "ad78d5ca-d48f-471b-8546-3cd50e065a4d",
   "metadata": {},
   "outputs": [
    {
     "name": "stdout",
     "output_type": "stream",
     "text": [
      "         food  price  rating\n",
      "0         KFC   1000     4.5\n",
      "1    McDonald   2000     3.9\n",
      "2  SchoolFood   2500     4.2\n"
     ]
    }
   ],
   "source": [
    "import pandas as pd\n",
    "import json\n",
    "\n",
    "data = json.dumps([\n",
    "    {'food': 'KFC', 'price': 1000, 'rating': 4.5},\n",
    "    {'food': 'McDonald', 'price': 2000, 'rating': 3.9},\n",
    "    {'food': 'SchoolFood', 'price': 2500, 'rating': 4.2},\n",
    "])\n",
    "\n",
    "# JSON 문자열을 Python 객체로 변환\n",
    "parsed_data = json.loads(data)\n",
    "\n",
    "# 데이터프레임으로 변환\n",
    "df = pd.DataFrame(parsed_data)\n",
    "print(df)\n",
    "\n",
    "\n"
   ]
  },
  {
   "cell_type": "code",
   "execution_count": null,
   "id": "7cf9f765-2fee-4bcf-9ff3-f9e660abf4ae",
   "metadata": {},
   "outputs": [],
   "source": [
    "food 컬럼과 rating 컬럼만 선택하여 출력하세요"
   ]
  },
  {
   "cell_type": "code",
   "execution_count": 13,
   "id": "a72edaba-0927-4e8c-a6f2-70d2a028a976",
   "metadata": {},
   "outputs": [
    {
     "name": "stdout",
     "output_type": "stream",
     "text": [
      "         food  rating\n",
      "0         KFC     4.5\n",
      "1    McDonald     3.9\n",
      "2  SchoolFood     4.2\n"
     ]
    }
   ],
   "source": [
    "print(df[['food','rating']])"
   ]
  },
  {
   "cell_type": "code",
   "execution_count": 21,
   "id": "4321fa99-1ead-42a9-9af9-f5c691e5be83",
   "metadata": {},
   "outputs": [
    {
     "name": "stdout",
     "output_type": "stream",
     "text": [
      "         food  rating\n",
      "0         KFC     4.5\n",
      "1    McDonald     3.9\n",
      "2  SchoolFood     4.2\n"
     ]
    }
   ],
   "source": [
    "print(df.iloc[:, [0,2]])"
   ]
  },
  {
   "cell_type": "code",
   "execution_count": 29,
   "id": "655642bd-1050-4da5-9bb1-b0b80e41d528",
   "metadata": {
    "scrolled": true
   },
   "outputs": [
    {
     "name": "stdout",
     "output_type": "stream",
     "text": [
      "         food  rating\n",
      "0         KFC     4.5\n",
      "1    McDonald     3.9\n",
      "2  SchoolFood     4.2\n"
     ]
    }
   ],
   "source": [
    "print(df.loc[:, ['food','rating']])"
   ]
  },
  {
   "cell_type": "markdown",
   "id": "fc53413d-7bcf-440a-bfb2-1c76d3fb80e6",
   "metadata": {},
   "source": [
    "\n",
    "**food 컬럼명을 place로 컬럼명을 변경해 주세요**\n"
   ]
  },
  {
   "cell_type": "code",
   "execution_count": 52,
   "id": "847bfca8-8016-4a8f-a6d0-d4269caf8dfb",
   "metadata": {},
   "outputs": [
    {
     "data": {
      "text/html": [
       "<div>\n",
       "<style scoped>\n",
       "    .dataframe tbody tr th:only-of-type {\n",
       "        vertical-align: middle;\n",
       "    }\n",
       "\n",
       "    .dataframe tbody tr th {\n",
       "        vertical-align: top;\n",
       "    }\n",
       "\n",
       "    .dataframe thead th {\n",
       "        text-align: right;\n",
       "    }\n",
       "</style>\n",
       "<table border=\"1\" class=\"dataframe\">\n",
       "  <thead>\n",
       "    <tr style=\"text-align: right;\">\n",
       "      <th></th>\n",
       "      <th>place</th>\n",
       "      <th>price</th>\n",
       "      <th>rating</th>\n",
       "    </tr>\n",
       "  </thead>\n",
       "  <tbody>\n",
       "    <tr>\n",
       "      <th>0</th>\n",
       "      <td>KFC</td>\n",
       "      <td>1000</td>\n",
       "      <td>4.5</td>\n",
       "    </tr>\n",
       "    <tr>\n",
       "      <th>1</th>\n",
       "      <td>McDonald</td>\n",
       "      <td>2000</td>\n",
       "      <td>3.9</td>\n",
       "    </tr>\n",
       "    <tr>\n",
       "      <th>2</th>\n",
       "      <td>SchoolFood</td>\n",
       "      <td>2500</td>\n",
       "      <td>4.2</td>\n",
       "    </tr>\n",
       "  </tbody>\n",
       "</table>\n",
       "</div>"
      ],
      "text/plain": [
       "        place  price  rating\n",
       "0         KFC   1000     4.5\n",
       "1    McDonald   2000     3.9\n",
       "2  SchoolFood   2500     4.2"
      ]
     },
     "execution_count": 52,
     "metadata": {},
     "output_type": "execute_result"
    }
   ],
   "source": [
    "df.rename(columns={'food':'place'}, inplace=True)\n",
    "df"
   ]
  },
  {
   "cell_type": "code",
   "execution_count": 108,
   "id": "e053f294-f314-421f-bf6b-477f6a62800f",
   "metadata": {},
   "outputs": [
    {
     "data": {
      "text/html": [
       "<div>\n",
       "<style scoped>\n",
       "    .dataframe tbody tr th:only-of-type {\n",
       "        vertical-align: middle;\n",
       "    }\n",
       "\n",
       "    .dataframe tbody tr th {\n",
       "        vertical-align: top;\n",
       "    }\n",
       "\n",
       "    .dataframe thead th {\n",
       "        text-align: right;\n",
       "    }\n",
       "</style>\n",
       "<table border=\"1\" class=\"dataframe\">\n",
       "  <thead>\n",
       "    <tr style=\"text-align: right;\">\n",
       "      <th></th>\n",
       "      <th>food</th>\n",
       "      <th>price</th>\n",
       "      <th>rating</th>\n",
       "    </tr>\n",
       "    <tr>\n",
       "      <th>index</th>\n",
       "      <th></th>\n",
       "      <th></th>\n",
       "      <th></th>\n",
       "    </tr>\n",
       "  </thead>\n",
       "  <tbody>\n",
       "    <tr>\n",
       "      <th>1</th>\n",
       "      <td>KFC</td>\n",
       "      <td>1000</td>\n",
       "      <td>4.5</td>\n",
       "    </tr>\n",
       "    <tr>\n",
       "      <th>2</th>\n",
       "      <td>McDonald</td>\n",
       "      <td>2000</td>\n",
       "      <td>3.9</td>\n",
       "    </tr>\n",
       "    <tr>\n",
       "      <th>3</th>\n",
       "      <td>SchoolFood</td>\n",
       "      <td>2500</td>\n",
       "      <td>4.2</td>\n",
       "    </tr>\n",
       "  </tbody>\n",
       "</table>\n",
       "</div>"
      ],
      "text/plain": [
       "             food  price  rating\n",
       "index                           \n",
       "1             KFC   1000     4.5\n",
       "2        McDonald   2000     3.9\n",
       "3      SchoolFood   2500     4.2"
      ]
     },
     "execution_count": 108,
     "metadata": {},
     "output_type": "execute_result"
    }
   ],
   "source": []
  }
 ],
 "metadata": {
  "kernelspec": {
   "display_name": "Python [conda env:base] *",
   "language": "python",
   "name": "conda-base-py"
  },
  "language_info": {
   "codemirror_mode": {
    "name": "ipython",
    "version": 3
   },
   "file_extension": ".py",
   "mimetype": "text/x-python",
   "name": "python",
   "nbconvert_exporter": "python",
   "pygments_lexer": "ipython3",
   "version": "3.12.7"
  }
 },
 "nbformat": 4,
 "nbformat_minor": 5
}
