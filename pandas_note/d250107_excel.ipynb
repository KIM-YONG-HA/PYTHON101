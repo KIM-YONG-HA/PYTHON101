{
 "cells": [
  {
   "cell_type": "code",
   "execution_count": 1,
   "id": "bafbc9e6-a7f9-4d94-8a5d-69237a547e5a",
   "metadata": {},
   "outputs": [],
   "source": [
    "import pandas as pd"
   ]
  },
  {
   "cell_type": "code",
   "execution_count": null,
   "id": "8b03ba8a-40fc-4beb-b5a2-70c8a4d3bf18",
   "metadata": {},
   "outputs": [],
   "source": [
    "Excel - 불러오기\n",
    "https://data.seoul.go.kr/dataList/OA-15596/F/1/datasetView.do"
   ]
  },
  {
   "cell_type": "code",
   "execution_count": 17,
   "id": "7fd598b0-9d7a-49ef-bf1f-b400e2190791",
   "metadata": {},
   "outputs": [
    {
     "data": {
      "text/html": [
       "<div>\n",
       "<style scoped>\n",
       "    .dataframe tbody tr th:only-of-type {\n",
       "        vertical-align: middle;\n",
       "    }\n",
       "\n",
       "    .dataframe tbody tr th {\n",
       "        vertical-align: top;\n",
       "    }\n",
       "\n",
       "    .dataframe thead th {\n",
       "        text-align: right;\n",
       "    }\n",
       "</style>\n",
       "<table border=\"1\" class=\"dataframe\">\n",
       "  <thead>\n",
       "    <tr style=\"text-align: right;\">\n",
       "      <th></th>\n",
       "      <th>대중교통구분</th>\n",
       "      <th>노선명</th>\n",
       "      <th>년월</th>\n",
       "      <th>승차총승객수</th>\n",
       "    </tr>\n",
       "  </thead>\n",
       "  <tbody>\n",
       "    <tr>\n",
       "      <th>0</th>\n",
       "      <td>지하철</td>\n",
       "      <td>1호선</td>\n",
       "      <td>201711</td>\n",
       "      <td>8633618</td>\n",
       "    </tr>\n",
       "    <tr>\n",
       "      <th>1</th>\n",
       "      <td>지하철</td>\n",
       "      <td>1호선</td>\n",
       "      <td>201712</td>\n",
       "      <td>8737235</td>\n",
       "    </tr>\n",
       "    <tr>\n",
       "      <th>2</th>\n",
       "      <td>지하철</td>\n",
       "      <td>1호선</td>\n",
       "      <td>201801</td>\n",
       "      <td>8145989</td>\n",
       "    </tr>\n",
       "    <tr>\n",
       "      <th>3</th>\n",
       "      <td>지하철</td>\n",
       "      <td>1호선</td>\n",
       "      <td>201802</td>\n",
       "      <td>7273309</td>\n",
       "    </tr>\n",
       "    <tr>\n",
       "      <th>4</th>\n",
       "      <td>지하철</td>\n",
       "      <td>1호선</td>\n",
       "      <td>201803</td>\n",
       "      <td>8692551</td>\n",
       "    </tr>\n",
       "  </tbody>\n",
       "</table>\n",
       "</div>"
      ],
      "text/plain": [
       "  대중교통구분  노선명      년월   승차총승객수\n",
       "0    지하철  1호선  201711  8633618\n",
       "1    지하철  1호선  201712  8737235\n",
       "2    지하철  1호선  201801  8145989\n",
       "3    지하철  1호선  201802  7273309\n",
       "4    지하철  1호선  201803  8692551"
      ]
     },
     "execution_count": 17,
     "metadata": {},
     "output_type": "execute_result"
    }
   ],
   "source": [
    "excel = pd.read_excel('data/seoul_transportation1.xlsx', sheet_name='철도', engine='openpyxl')\n",
    "excel.head()"
   ]
  },
  {
   "cell_type": "code",
   "execution_count": 25,
   "id": "d1c7d3ec-65b4-463c-899c-401b3fd720b2",
   "metadata": {},
   "outputs": [
    {
     "data": {
      "text/plain": [
       "{'철도':     대중교통구분    노선명      년월   승차총승객수\n",
       " 0      지하철    1호선  201711  8633618\n",
       " 1      지하철    1호선  201712  8737235\n",
       " 2      지하철    1호선  201801  8145989\n",
       " 3      지하철    1호선  201802  7273309\n",
       " 4      지하철    1호선  201803  8692551\n",
       " ..     ...    ...     ...      ...\n",
       " 596    지하철  우이신설선  201901  1263643\n",
       " 597    지하철  우이신설선  201902  1102109\n",
       " 598    지하철  우이신설선  201903  1402393\n",
       " 599    지하철  우이신설선  201904  1403115\n",
       " 600    지하철  우이신설선  201905  1469681\n",
       " \n",
       " [601 rows x 4 columns],\n",
       " '버스':    대중교통구분      년월     승차총승객수\n",
       " 0      버스  201711  163443126\n",
       " 1      버스  201712  162521011\n",
       " 2      버스  201801  153335185\n",
       " 3      버스  201802  134768582\n",
       " 4      버스  201803  166177855\n",
       " 5      버스  201804  160452595\n",
       " 6      버스  201805  164390595\n",
       " 7      버스  201806  156999747\n",
       " 8      버스  201807  163736112\n",
       " 9      버스  201808  160240197\n",
       " 10     버스  201809  151311657\n",
       " 11     버스  201810  165820934\n",
       " 12     버스  201811  163017758\n",
       " 13     버스  201812  158049446\n",
       " 14     버스  201901  153037549\n",
       " 15     버스  201902  131621925\n",
       " 16     버스  201903  161694445\n",
       " 17     버스  201904  161900273\n",
       " 18     버스  201905  166587933}"
      ]
     },
     "execution_count": 25,
     "metadata": {},
     "output_type": "execute_result"
    }
   ],
   "source": [
    "excel = pd.read_excel('data/seoul_transportation1.xlsx', sheet_name=None, engine='openpyxl')\n",
    "excel"
   ]
  },
  {
   "cell_type": "code",
   "execution_count": 29,
   "id": "6fd07725-5b4f-48b9-9db3-957726ab7c04",
   "metadata": {},
   "outputs": [
    {
     "data": {
      "text/plain": [
       "dict_keys(['철도', '버스'])"
      ]
     },
     "execution_count": 29,
     "metadata": {},
     "output_type": "execute_result"
    }
   ],
   "source": [
    "excel.keys()"
   ]
  },
  {
   "cell_type": "code",
   "execution_count": 27,
   "id": "514c7611-abb2-427c-b348-8a9ec6e4a90f",
   "metadata": {},
   "outputs": [
    {
     "data": {
      "text/html": [
       "<div>\n",
       "<style scoped>\n",
       "    .dataframe tbody tr th:only-of-type {\n",
       "        vertical-align: middle;\n",
       "    }\n",
       "\n",
       "    .dataframe tbody tr th {\n",
       "        vertical-align: top;\n",
       "    }\n",
       "\n",
       "    .dataframe thead th {\n",
       "        text-align: right;\n",
       "    }\n",
       "</style>\n",
       "<table border=\"1\" class=\"dataframe\">\n",
       "  <thead>\n",
       "    <tr style=\"text-align: right;\">\n",
       "      <th></th>\n",
       "      <th>대중교통구분</th>\n",
       "      <th>노선명</th>\n",
       "      <th>년월</th>\n",
       "      <th>승차총승객수</th>\n",
       "    </tr>\n",
       "  </thead>\n",
       "  <tbody>\n",
       "    <tr>\n",
       "      <th>0</th>\n",
       "      <td>지하철</td>\n",
       "      <td>1호선</td>\n",
       "      <td>201711</td>\n",
       "      <td>8633618</td>\n",
       "    </tr>\n",
       "    <tr>\n",
       "      <th>1</th>\n",
       "      <td>지하철</td>\n",
       "      <td>1호선</td>\n",
       "      <td>201712</td>\n",
       "      <td>8737235</td>\n",
       "    </tr>\n",
       "    <tr>\n",
       "      <th>2</th>\n",
       "      <td>지하철</td>\n",
       "      <td>1호선</td>\n",
       "      <td>201801</td>\n",
       "      <td>8145989</td>\n",
       "    </tr>\n",
       "    <tr>\n",
       "      <th>3</th>\n",
       "      <td>지하철</td>\n",
       "      <td>1호선</td>\n",
       "      <td>201802</td>\n",
       "      <td>7273309</td>\n",
       "    </tr>\n",
       "    <tr>\n",
       "      <th>4</th>\n",
       "      <td>지하철</td>\n",
       "      <td>1호선</td>\n",
       "      <td>201803</td>\n",
       "      <td>8692551</td>\n",
       "    </tr>\n",
       "  </tbody>\n",
       "</table>\n",
       "</div>"
      ],
      "text/plain": [
       "  대중교통구분  노선명      년월   승차총승객수\n",
       "0    지하철  1호선  201711  8633618\n",
       "1    지하철  1호선  201712  8737235\n",
       "2    지하철  1호선  201801  8145989\n",
       "3    지하철  1호선  201802  7273309\n",
       "4    지하철  1호선  201803  8692551"
      ]
     },
     "execution_count": 27,
     "metadata": {},
     "output_type": "execute_result"
    }
   ],
   "source": [
    "excel['철도'].head()"
   ]
  },
  {
   "cell_type": "code",
   "execution_count": 33,
   "id": "8a77ae19-5128-4704-9317-a4439f670480",
   "metadata": {},
   "outputs": [
    {
     "data": {
      "text/html": [
       "<div>\n",
       "<style scoped>\n",
       "    .dataframe tbody tr th:only-of-type {\n",
       "        vertical-align: middle;\n",
       "    }\n",
       "\n",
       "    .dataframe tbody tr th {\n",
       "        vertical-align: top;\n",
       "    }\n",
       "\n",
       "    .dataframe thead th {\n",
       "        text-align: right;\n",
       "    }\n",
       "</style>\n",
       "<table border=\"1\" class=\"dataframe\">\n",
       "  <thead>\n",
       "    <tr style=\"text-align: right;\">\n",
       "      <th></th>\n",
       "      <th>대중교통구분</th>\n",
       "      <th>년월</th>\n",
       "      <th>승차총승객수</th>\n",
       "    </tr>\n",
       "  </thead>\n",
       "  <tbody>\n",
       "    <tr>\n",
       "      <th>0</th>\n",
       "      <td>버스</td>\n",
       "      <td>201711</td>\n",
       "      <td>163443126</td>\n",
       "    </tr>\n",
       "    <tr>\n",
       "      <th>1</th>\n",
       "      <td>버스</td>\n",
       "      <td>201712</td>\n",
       "      <td>162521011</td>\n",
       "    </tr>\n",
       "    <tr>\n",
       "      <th>2</th>\n",
       "      <td>버스</td>\n",
       "      <td>201801</td>\n",
       "      <td>153335185</td>\n",
       "    </tr>\n",
       "    <tr>\n",
       "      <th>3</th>\n",
       "      <td>버스</td>\n",
       "      <td>201802</td>\n",
       "      <td>134768582</td>\n",
       "    </tr>\n",
       "    <tr>\n",
       "      <th>4</th>\n",
       "      <td>버스</td>\n",
       "      <td>201803</td>\n",
       "      <td>166177855</td>\n",
       "    </tr>\n",
       "  </tbody>\n",
       "</table>\n",
       "</div>"
      ],
      "text/plain": [
       "  대중교통구분      년월     승차총승객수\n",
       "0     버스  201711  163443126\n",
       "1     버스  201712  162521011\n",
       "2     버스  201801  153335185\n",
       "3     버스  201802  134768582\n",
       "4     버스  201803  166177855"
      ]
     },
     "execution_count": 33,
     "metadata": {},
     "output_type": "execute_result"
    }
   ],
   "source": [
    "excel['버스'].head()"
   ]
  },
  {
   "cell_type": "code",
   "execution_count": 41,
   "id": "8628d047-685a-4dfe-9161-bdcc78cfe994",
   "metadata": {},
   "outputs": [
    {
     "data": {
      "text/html": [
       "<div>\n",
       "<style scoped>\n",
       "    .dataframe tbody tr th:only-of-type {\n",
       "        vertical-align: middle;\n",
       "    }\n",
       "\n",
       "    .dataframe tbody tr th {\n",
       "        vertical-align: top;\n",
       "    }\n",
       "\n",
       "    .dataframe thead th {\n",
       "        text-align: right;\n",
       "    }\n",
       "</style>\n",
       "<table border=\"1\" class=\"dataframe\">\n",
       "  <thead>\n",
       "    <tr style=\"text-align: right;\">\n",
       "      <th></th>\n",
       "      <th>대중교통구분</th>\n",
       "      <th>노선명</th>\n",
       "      <th>년월</th>\n",
       "      <th>승차총승객수</th>\n",
       "    </tr>\n",
       "  </thead>\n",
       "  <tbody>\n",
       "    <tr>\n",
       "      <th>0</th>\n",
       "      <td>지하철</td>\n",
       "      <td>1호선</td>\n",
       "      <td>201711</td>\n",
       "      <td>8633618</td>\n",
       "    </tr>\n",
       "    <tr>\n",
       "      <th>1</th>\n",
       "      <td>지하철</td>\n",
       "      <td>1호선</td>\n",
       "      <td>201712</td>\n",
       "      <td>8737235</td>\n",
       "    </tr>\n",
       "    <tr>\n",
       "      <th>2</th>\n",
       "      <td>지하철</td>\n",
       "      <td>1호선</td>\n",
       "      <td>201801</td>\n",
       "      <td>8145989</td>\n",
       "    </tr>\n",
       "    <tr>\n",
       "      <th>3</th>\n",
       "      <td>지하철</td>\n",
       "      <td>1호선</td>\n",
       "      <td>201802</td>\n",
       "      <td>7273309</td>\n",
       "    </tr>\n",
       "    <tr>\n",
       "      <th>4</th>\n",
       "      <td>지하철</td>\n",
       "      <td>1호선</td>\n",
       "      <td>201803</td>\n",
       "      <td>8692551</td>\n",
       "    </tr>\n",
       "  </tbody>\n",
       "</table>\n",
       "</div>"
      ],
      "text/plain": [
       "  대중교통구분  노선명      년월   승차총승객수\n",
       "0    지하철  1호선  201711  8633618\n",
       "1    지하철  1호선  201712  8737235\n",
       "2    지하철  1호선  201801  8145989\n",
       "3    지하철  1호선  201802  7273309\n",
       "4    지하철  1호선  201803  8692551"
      ]
     },
     "execution_count": 41,
     "metadata": {},
     "output_type": "execute_result"
    }
   ],
   "source": [
    "excel = pd.read_excel('data/seoul_transportation1.xlsx', sheet_name='철도')\n",
    "excel.head()"
   ]
  },
  {
   "cell_type": "code",
   "execution_count": 45,
   "id": "773b7d81-6f9b-456c-9080-af3116a6d07b",
   "metadata": {},
   "outputs": [],
   "source": [
    "excel.to_excel('data/sample.xlsx', index=True)"
   ]
  },
  {
   "cell_type": "code",
   "execution_count": 47,
   "id": "1051df16-af9a-46e7-b20b-89408afd84ea",
   "metadata": {},
   "outputs": [],
   "source": [
    "excel.to_excel('data/sample1.xlsx', index=False, sheet_name='샘플')"
   ]
  },
  {
   "cell_type": "code",
   "execution_count": 49,
   "id": "0fb70d92-97fb-43ed-a437-1d988e309de3",
   "metadata": {},
   "outputs": [],
   "source": [
    "excel.head().to_excel('data/sample3.xlsx', index=True)"
   ]
  }
 ],
 "metadata": {
  "kernelspec": {
   "display_name": "Python [conda env:base] *",
   "language": "python",
   "name": "conda-base-py"
  },
  "language_info": {
   "codemirror_mode": {
    "name": "ipython",
    "version": 3
   },
   "file_extension": ".py",
   "mimetype": "text/x-python",
   "name": "python",
   "nbconvert_exporter": "python",
   "pygments_lexer": "ipython3",
   "version": "3.12.7"
  }
 },
 "nbformat": 4,
 "nbformat_minor": 5
}
