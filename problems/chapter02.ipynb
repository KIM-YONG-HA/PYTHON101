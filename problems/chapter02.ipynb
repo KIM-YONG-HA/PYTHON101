{
 "cells": [
  {
   "cell_type": "code",
   "execution_count": null,
   "id": "48caf536-8b50-423c-ae2d-f809627eac6d",
   "metadata": {},
   "outputs": [],
   "source": [
    "## 1번"
   ]
  },
  {
   "cell_type": "code",
   "execution_count": 1,
   "id": "a0636b31-7c92-4881-9e59-d3f5a7bd8f4d",
   "metadata": {},
   "outputs": [
    {
     "name": "stdout",
     "output_type": "stream",
     "text": [
      "70.0\n"
     ]
    }
   ],
   "source": [
    "kor = 80\n",
    "eng = 75\n",
    "math = 55\n",
    "avg = (kor + eng + math) / 3\n",
    "print(avg)"
   ]
  },
  {
   "cell_type": "code",
   "execution_count": null,
   "id": "9f65abb6-c2ec-4e37-ab16-987693ae64a3",
   "metadata": {},
   "outputs": [],
   "source": [
    "## 2번"
   ]
  },
  {
   "cell_type": "code",
   "execution_count": 5,
   "id": "95fb18fc-6296-4764-91e8-1267b3992eef",
   "metadata": {},
   "outputs": [
    {
     "name": "stdout",
     "output_type": "stream",
     "text": [
      "13은 홀수입니다\n"
     ]
    }
   ],
   "source": [
    "num = 13\n",
    "if num % 2 == 0:\n",
    "    print(\"13은 짝수입니다\")\n",
    "else:\n",
    "    print(f\"{num}은 홀수입니다\")\n",
    "    "
   ]
  },
  {
   "cell_type": "code",
   "execution_count": null,
   "id": "d181381c-b7d6-4764-a4dd-2aa2cec5ab83",
   "metadata": {},
   "outputs": [],
   "source": [
    "## 3번"
   ]
  },
  {
   "cell_type": "code",
   "execution_count": 19,
   "id": "a91c2ddc-2e0c-4950-bb13-d8092ae3ee7f",
   "metadata": {},
   "outputs": [
    {
     "name": "stdout",
     "output_type": "stream",
     "text": [
      "881120\n",
      "1068234\n",
      "881120\n",
      "1068234\n"
     ]
    }
   ],
   "source": [
    "pin = \"881120-1068234\"\n",
    "yyyymmdd = pin[0:6]\n",
    "num = pin[7:]\n",
    "print(yyyymmdd)\n",
    "print(num)\n",
    "\n",
    "print(pin.split(\"-\")[0])\n",
    "print(pin.split(\"-\")[1])\n"
   ]
  },
  {
   "cell_type": "code",
   "execution_count": null,
   "id": "14e2bbb8-53a0-4be1-a905-2ac37fa82e11",
   "metadata": {},
   "outputs": [],
   "source": [
    "## 4번"
   ]
  },
  {
   "cell_type": "code",
   "execution_count": 21,
   "id": "dc78b662-4250-4e27-a537-f9de222effdb",
   "metadata": {},
   "outputs": [
    {
     "name": "stdout",
     "output_type": "stream",
     "text": [
      "1\n"
     ]
    }
   ],
   "source": [
    "pin = \"881120-1068234\"\n",
    "print(pin[7:8])"
   ]
  },
  {
   "cell_type": "code",
   "execution_count": null,
   "id": "5557589a-7050-4ab2-9225-39f14412f681",
   "metadata": {},
   "outputs": [],
   "source": [
    "## 5번"
   ]
  },
  {
   "cell_type": "code",
   "execution_count": 23,
   "id": "243e72ac-07ac-487d-84c1-3cae779de107",
   "metadata": {},
   "outputs": [
    {
     "name": "stdout",
     "output_type": "stream",
     "text": [
      "a#b#c#d\n"
     ]
    }
   ],
   "source": [
    "a = \"a:b:c:d\"\n",
    "b = a.replace(\":\",\"#\")\n",
    "print(b)"
   ]
  },
  {
   "cell_type": "code",
   "execution_count": null,
   "id": "2987473d-9e25-4761-ba6a-ee36e1bbf4bc",
   "metadata": {},
   "outputs": [],
   "source": [
    "## 6번"
   ]
  },
  {
   "cell_type": "code",
   "execution_count": 33,
   "id": "61f0b0a3-cc8a-4db9-a924-a6febe61bc17",
   "metadata": {},
   "outputs": [
    {
     "name": "stdout",
     "output_type": "stream",
     "text": [
      "[5, 4, 3, 2, 1]\n"
     ]
    }
   ],
   "source": [
    "a = [1,3,5,4,2]\n",
    "a.sort()\n",
    "a.reverse()\n",
    "print(a)"
   ]
  },
  {
   "cell_type": "code",
   "execution_count": null,
   "id": "06061440-da84-43e8-8ddf-969c273ed3b6",
   "metadata": {},
   "outputs": [],
   "source": [
    "## 7번"
   ]
  },
  {
   "cell_type": "code",
   "execution_count": 37,
   "id": "03fe580a-e901-4358-8f14-7c1016e09f2a",
   "metadata": {},
   "outputs": [
    {
     "name": "stdout",
     "output_type": "stream",
     "text": [
      "Life is too short\n"
     ]
    }
   ],
   "source": [
    "a = ['Life','is','too','short']\n",
    "a = \" \".join(a)\n",
    "print(a)"
   ]
  },
  {
   "cell_type": "code",
   "execution_count": null,
   "id": "98ceceb5-b17e-4c23-b755-3d91c26eb578",
   "metadata": {},
   "outputs": [],
   "source": [
    "## 8번"
   ]
  },
  {
   "cell_type": "code",
   "execution_count": 41,
   "id": "060cac4f-a4ca-4cfe-a89d-9cd90c1231e9",
   "metadata": {},
   "outputs": [
    {
     "name": "stdout",
     "output_type": "stream",
     "text": [
      "(1, 2, 3, 4)\n"
     ]
    }
   ],
   "source": [
    "a = (1,2,3)\n",
    "a = a + (4,)\n",
    "print(a)"
   ]
  },
  {
   "cell_type": "code",
   "execution_count": null,
   "id": "4087b19c-3661-4894-8994-fa31b6958f4d",
   "metadata": {},
   "outputs": [],
   "source": [
    "## 9번"
   ]
  },
  {
   "cell_type": "code",
   "execution_count": 51,
   "id": "7f088c3a-fdcd-4870-86d9-d5b3cca0ecd8",
   "metadata": {},
   "outputs": [
    {
     "name": "stdout",
     "output_type": "stream",
     "text": [
      "{'name': 'python', ('a',): 'python', 250: 'python'}\n"
     ]
    }
   ],
   "source": [
    "a = dict()\n",
    "\n",
    "a['name'] = 'python'\n",
    "a[('a',)] = 'python'\n",
    "#a[[1]] = 'python'\n",
    "a[250] = 'python'\n",
    "\n",
    "print(a)\n"
   ]
  },
  {
   "cell_type": "code",
   "execution_count": null,
   "id": "a08aeee9-6f05-4c6e-8f4f-df6aa15631fb",
   "metadata": {},
   "outputs": [],
   "source": [
    "## 10번"
   ]
  },
  {
   "cell_type": "code",
   "execution_count": 57,
   "id": "fe48a836-8f40-43d6-8bf3-c79fc11c5a02",
   "metadata": {},
   "outputs": [
    {
     "name": "stdout",
     "output_type": "stream",
     "text": [
      "{'A': 90, 'C': 70}\n",
      "80\n"
     ]
    }
   ],
   "source": [
    "a = {'A':90, 'B':80, 'C':70}\n",
    "result = a.pop('B')\n",
    "print(a)\n",
    "print(result)"
   ]
  },
  {
   "cell_type": "code",
   "execution_count": null,
   "id": "257cccd7-2792-4e1a-9ff9-5d4dbb8501e0",
   "metadata": {},
   "outputs": [],
   "source": [
    "## 11번"
   ]
  },
  {
   "cell_type": "code",
   "execution_count": 61,
   "id": "0e5f4620-2f5d-4f53-b67a-c69b8dcb18c2",
   "metadata": {},
   "outputs": [
    {
     "name": "stdout",
     "output_type": "stream",
     "text": [
      "[1, 2, 3, 4, 5]\n"
     ]
    }
   ],
   "source": [
    "a = [1,1,1,2,2,3,3,3,4,4,5]\n",
    "aSet = set(a)\n",
    "b = list(aSet)\n",
    "print(b)"
   ]
  },
  {
   "cell_type": "code",
   "execution_count": null,
   "id": "bc8e3b4e-52e7-41b3-a017-f4d077e4946b",
   "metadata": {},
   "outputs": [],
   "source": [
    "## 12번"
   ]
  },
  {
   "cell_type": "code",
   "execution_count": 65,
   "id": "e109321f-f4c1-4568-969a-071f2ebd6413",
   "metadata": {},
   "outputs": [
    {
     "name": "stdout",
     "output_type": "stream",
     "text": [
      "[1, 4, 3]\n",
      "2094835571392\n",
      "2094835571392\n"
     ]
    }
   ],
   "source": [
    "a = b = [1,2,3]\n",
    "a[1] = 4\n",
    "print(b)\n",
    "\n",
    "print(id(a))\n",
    "print(id(b))"
   ]
  },
  {
   "cell_type": "code",
   "execution_count": null,
   "id": "50bf4436-9256-4b44-99b4-016d82ee94d4",
   "metadata": {},
   "outputs": [],
   "source": []
  },
  {
   "cell_type": "code",
   "execution_count": null,
   "id": "37bcef12-4a33-40a0-b0ef-2bf0ae23ef93",
   "metadata": {},
   "outputs": [],
   "source": []
  }
 ],
 "metadata": {
  "kernelspec": {
   "display_name": "Python [conda env:base] *",
   "language": "python",
   "name": "conda-base-py"
  },
  "language_info": {
   "codemirror_mode": {
    "name": "ipython",
    "version": 3
   },
   "file_extension": ".py",
   "mimetype": "text/x-python",
   "name": "python",
   "nbconvert_exporter": "python",
   "pygments_lexer": "ipython3",
   "version": "3.12.7"
  }
 },
 "nbformat": 4,
 "nbformat_minor": 5
}
