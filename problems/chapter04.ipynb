{
 "cells": [
  {
   "cell_type": "code",
   "execution_count": null,
   "id": "fe6a6346-e4bf-49a5-b921-e47aeb66f780",
   "metadata": {},
   "outputs": [],
   "source": [
    "## 1번"
   ]
  },
  {
   "cell_type": "code",
   "execution_count": 1,
   "id": "013a4bde-6381-4b29-b656-348c83447e1a",
   "metadata": {},
   "outputs": [
    {
     "data": {
      "text/plain": [
       "True"
      ]
     },
     "execution_count": 1,
     "metadata": {},
     "output_type": "execute_result"
    }
   ],
   "source": [
    "def is_odd(num):\n",
    "    if num % 2 == 0:\n",
    "        return True\n",
    "    else:\n",
    "        return False\n",
    "\n",
    "is_odd(10)"
   ]
  },
  {
   "cell_type": "code",
   "execution_count": null,
   "id": "10560f19-9905-4085-a2e9-5396cf80a71b",
   "metadata": {},
   "outputs": [],
   "source": [
    "## 2번"
   ]
  },
  {
   "cell_type": "code",
   "execution_count": 23,
   "id": "d63c06df-20d1-488c-b40d-f91b35471064",
   "metadata": {},
   "outputs": [
    {
     "name": "stdout",
     "output_type": "stream",
     "text": [
      "1.5\n",
      "3.0\n"
     ]
    }
   ],
   "source": [
    "def avg_numbers(*args):\n",
    "    result = 0;\n",
    "    for i in args:\n",
    "        result += i\n",
    "    return result / len(args)\n",
    "\n",
    "a = avg_numbers(1,2)\n",
    "b = avg_numbers(1,2,3,4,5)\n",
    "\n",
    "print(a)\n",
    "print(b)"
   ]
  },
  {
   "cell_type": "code",
   "execution_count": null,
   "id": "9eb894f7-e591-455f-bbbd-39f081f0c972",
   "metadata": {},
   "outputs": [],
   "source": [
    "## 3번"
   ]
  },
  {
   "cell_type": "code",
   "execution_count": 27,
   "id": "514ee17b-cb51-4716-87b3-4403846d17c9",
   "metadata": {},
   "outputs": [
    {
     "name": "stdin",
     "output_type": "stream",
     "text": [
      "첫 번째 숫자를 입력하세요:  3\n",
      "두 번째 숫자를 입력하세요:  6\n"
     ]
    },
    {
     "name": "stdout",
     "output_type": "stream",
     "text": [
      "두 수의 합은 9 입니다\n"
     ]
    }
   ],
   "source": [
    "input1 = input(\"첫 번째 숫자를 입력하세요: \")\n",
    "input2 = input(\"두 번째 숫자를 입력하세요: \")\n",
    "\n",
    "total = int(input1) + int(input2)\n",
    "print(f\"두 수의 합은 {total} 입니다\")\n"
   ]
  },
  {
   "cell_type": "code",
   "execution_count": null,
   "id": "d0d0d4c5-e594-4ebc-a8ba-55f1515a4480",
   "metadata": {},
   "outputs": [],
   "source": [
    "## 4번"
   ]
  },
  {
   "cell_type": "code",
   "execution_count": 37,
   "id": "80de1ea7-c5e0-4547-8032-b7b8b55c8e27",
   "metadata": {},
   "outputs": [
    {
     "name": "stdout",
     "output_type": "stream",
     "text": [
      "youneedpython\n",
      "youneedpython\n",
      "you need python\n",
      "youneedpython\n"
     ]
    }
   ],
   "source": [
    "print(\"you\" \"need\" \"python\")\n",
    "print(\"you\" + \"need\" + \"python\")\n",
    "print(\"you\", \"need\", \"python\")\n",
    "print(\"\".join([\"you\", \"need\", \"python\"]))"
   ]
  },
  {
   "cell_type": "code",
   "execution_count": null,
   "id": "99af84d1-702b-413f-a5b7-b505c3248f11",
   "metadata": {},
   "outputs": [],
   "source": [
    "## 5번"
   ]
  },
  {
   "cell_type": "code",
   "execution_count": 47,
   "id": "8aa8c800-bc74-4c19-9bfa-f195e3a2e298",
   "metadata": {},
   "outputs": [
    {
     "name": "stdout",
     "output_type": "stream",
     "text": [
      "hello python\n"
     ]
    }
   ],
   "source": [
    "f1 = open(\"C:/Users/kj/Desktop/myGit/PYTHON101/problems/test.txt\", \"w\")\n",
    "f1.write(\"hello python\")\n",
    "f1.close()\n",
    "\n",
    "f2 = open(\"C:\\\\Users\\\\kj\\\\Desktop\\\\myGit\\\\PYTHON101\\\\problems\\\\test.txt\", \"r\")\n",
    "print(f2.read())"
   ]
  },
  {
   "cell_type": "code",
   "execution_count": null,
   "id": "c205a317-b698-4f89-8e0d-def297f86e6e",
   "metadata": {},
   "outputs": [],
   "source": [
    "## 6번"
   ]
  },
  {
   "cell_type": "code",
   "execution_count": 103,
   "id": "175314e9-2ad8-408f-a530-2b7d62847cc8",
   "metadata": {},
   "outputs": [
    {
     "name": "stdin",
     "output_type": "stream",
     "text": [
      "저장할 내용을 입력하세요: 133\n"
     ]
    }
   ],
   "source": [
    "user_input = input(\"저장할 내용을 입력하세요:\")\n",
    "\n",
    "f = open(\"C:/Users/kj/Desktop/myGit/PYTHON101/problems/memo.txt\", \"a\")\n",
    "f.write(user_input)\n",
    "f.write(\"\\n\")\n",
    "f.close()"
   ]
  },
  {
   "cell_type": "code",
   "execution_count": null,
   "id": "98725ce6-034d-4a47-b446-199fa36c4519",
   "metadata": {},
   "outputs": [],
   "source": [
    "## 7번"
   ]
  },
  {
   "cell_type": "code",
   "execution_count": 113,
   "id": "efb04ac6-3e8b-41d0-ad80-c9f6f7d1560e",
   "metadata": {},
   "outputs": [
    {
     "name": "stdout",
     "output_type": "stream",
     "text": [
      "Life is too short\n",
      "you need java\n",
      "\n",
      "Life is too short\n",
      "you need python\n",
      "\n"
     ]
    }
   ],
   "source": [
    "f = open(\"C:/Users/kj/Desktop/myGit/PYTHON101/problems/msg.txt\", \"r\")\n",
    "body = f.read()\n",
    "f.close()\n",
    "print(body)\n",
    "body = body.replace('java', 'python')\n",
    "\n",
    "f = open(\"C:/Users/kj/Desktop/myGit/PYTHON101/problems/msg.txt\", \"w\")\n",
    "f.write(body)\n",
    "f.close()\n",
    "print(body)\n"
   ]
  },
  {
   "cell_type": "code",
   "execution_count": null,
   "id": "b9a6b018-d554-4d8a-8544-eebf5b6210e2",
   "metadata": {},
   "outputs": [],
   "source": [
    "## 8번"
   ]
  },
  {
   "cell_type": "code",
   "execution_count": 115,
   "id": "f5e3174a-a3fd-4766-8f46-f79629b4674b",
   "metadata": {},
   "outputs": [
    {
     "ename": "ValueError",
     "evalue": "invalid literal for int() with base 10: '-f'",
     "output_type": "error",
     "traceback": [
      "\u001b[1;31m---------------------------------------------------------------------------\u001b[0m",
      "\u001b[1;31mValueError\u001b[0m                                Traceback (most recent call last)",
      "Cell \u001b[1;32mIn[115], line 6\u001b[0m\n\u001b[0;32m      4\u001b[0m total \u001b[38;5;241m=\u001b[39m \u001b[38;5;241m0\u001b[39m\n\u001b[0;32m      5\u001b[0m \u001b[38;5;28;01mfor\u001b[39;00m i \u001b[38;5;129;01min\u001b[39;00m args:\n\u001b[1;32m----> 6\u001b[0m     total \u001b[38;5;241m+\u001b[39m\u001b[38;5;241m=\u001b[39m \u001b[38;5;28mint\u001b[39m(i)\n\u001b[0;32m      7\u001b[0m \u001b[38;5;28mprint\u001b[39m(total)\n",
      "\u001b[1;31mValueError\u001b[0m: invalid literal for int() with base 10: '-f'"
     ]
    }
   ],
   "source": [
    "import sys\n",
    "\n",
    "args = sys.argv[1:]\n",
    "total = 0\n",
    "for i in args:\n",
    "    total += int(i)\n",
    "print(total)\n",
    "    "
   ]
  },
  {
   "cell_type": "code",
   "execution_count": null,
   "id": "7573b108-a837-4e07-86eb-eae4e074f178",
   "metadata": {},
   "outputs": [],
   "source": []
  },
  {
   "cell_type": "code",
   "execution_count": null,
   "id": "da437f5e-8880-4b25-bbf4-21442b4b2557",
   "metadata": {},
   "outputs": [],
   "source": []
  },
  {
   "cell_type": "code",
   "execution_count": null,
   "id": "59f27fe4-e2e0-4bd8-ad54-4d7ba00535a3",
   "metadata": {},
   "outputs": [],
   "source": []
  },
  {
   "cell_type": "code",
   "execution_count": null,
   "id": "91f8086b-505a-46df-91ab-9dd49635563c",
   "metadata": {},
   "outputs": [],
   "source": []
  },
  {
   "cell_type": "code",
   "execution_count": null,
   "id": "35a174af-0224-4424-96ad-467932a28b0a",
   "metadata": {},
   "outputs": [],
   "source": []
  },
  {
   "cell_type": "code",
   "execution_count": null,
   "id": "45c034b6-34e4-440f-8540-43297b83168d",
   "metadata": {},
   "outputs": [],
   "source": []
  }
 ],
 "metadata": {
  "kernelspec": {
   "display_name": "Python [conda env:base] *",
   "language": "python",
   "name": "conda-base-py"
  },
  "language_info": {
   "codemirror_mode": {
    "name": "ipython",
    "version": 3
   },
   "file_extension": ".py",
   "mimetype": "text/x-python",
   "name": "python",
   "nbconvert_exporter": "python",
   "pygments_lexer": "ipython3",
   "version": "3.12.7"
  }
 },
 "nbformat": 4,
 "nbformat_minor": 5
}
