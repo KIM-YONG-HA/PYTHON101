{
 "cells": [
  {
   "cell_type": "markdown",
   "metadata": {
    "id": "lamswRQvYC6E"
   },
   "source": [
    "## **1. json to csv**"
   ]
  },
  {
   "cell_type": "code",
   "execution_count": 1,
   "metadata": {
    "colab": {
     "base_uri": "https://localhost:8080/"
    },
    "executionInfo": {
     "elapsed": 18844,
     "status": "ok",
     "timestamp": 1741919628249,
     "user": {
      "displayName": "김용하",
      "userId": "08808827916255903945"
     },
     "user_tz": -540
    },
    "id": "FtQMu67DlMl5",
    "outputId": "ac8ed461-d492-42a7-be59-35b52c042843"
   },
   "outputs": [
    {
     "name": "stdout",
     "output_type": "stream",
     "text": [
      "Mounted at /content/drive\n"
     ]
    }
   ],
   "source": [
    "# import os\n",
    "# from google.colab import drive\n",
    "\n",
    "# # Google Drive 마운트\n",
    "# drive.mount('/content/drive')\n",
    "\n",
    "# # 작업 디렉토리 변경\n",
    "# os.chdir('/content/drive/MyDrive/Colab Notebooks/')"
   ]
  },
  {
   "cell_type": "code",
   "execution_count": 84,
   "metadata": {
    "colab": {
     "base_uri": "https://localhost:8080/"
    },
    "executionInfo": {
     "elapsed": 2729,
     "status": "ok",
     "timestamp": 1741926262295,
     "user": {
      "displayName": "김용하",
      "userId": "08808827916255903945"
     },
     "user_tz": -540
    },
    "id": "WqBU9UzKYCu6",
    "outputId": "2fd10c39-e750-44c7-86d8-89bf20309974"
   },
   "outputs": [
    {
     "name": "stdout",
     "output_type": "stream",
     "text": [
      "✅ 변환 완료: data/250314_train_dataset.csv\n",
      "✅ 변환 완료: data/250314_test_dataset.csv\n"
     ]
    }
   ],
   "source": [
    "import numpy as np\n",
    "import json\n",
    "import pandas as pd\n",
    "\n",
    "def convert_json_to_csv(json_file_path, output_csv_path):\n",
    "\n",
    "    # JSON 파일 로드\n",
    "    with open(json_file_path, \"r\", encoding=\"utf-8\") as file:\n",
    "        data = json.load(file)\n",
    "\n",
    "    # DataFrame 변환\n",
    "    df = pd.DataFrame(data)\n",
    "\n",
    "    # 상담 텍스트(HS01, HS02, HS03만 합침) 추출\n",
    "    df[\"text\"] = df[\"talk\"].apply(lambda x: \" \".join([x[\"content\"].get(k, \"\") for k in [\"HS01\", \"HS02\", \"HS03\"]]).strip())\n",
    "\n",
    "    # persona-id 추출\n",
    "    df[\"persona-id\"] = df[\"profile\"].apply(lambda x: x[\"persona\"][\"persona-id\"])\n",
    "\n",
    "    # 감정(E10~E69), 상황(S01~S13), 질병(D01~D02) 레이블 추출\n",
    "    df[\"emotion-id\"] = df[\"profile\"].apply(lambda x: x[\"emotion\"][\"emotion-id\"])  # 감정 ID\n",
    "    df[\"emotion\"] = df[\"profile\"].apply(lambda x: x[\"emotion\"][\"type\"])  # 감정 (E10~E69)\n",
    "    df[\"situation\"] = df[\"profile\"].apply(lambda x: x[\"emotion\"][\"situation\"][0])  # 상황 (S01~S13)\n",
    "\n",
    "    # 질병 ID 추출 (situation에서 두 번째 값 또는 기본값 D02)\n",
    "    df[\"disease\"] = df[\"profile\"].apply(\n",
    "        lambda x: x[\"emotion\"][\"situation\"][1] if len(x[\"emotion\"][\"situation\"]) > 1 else \"D02\"\n",
    "    )  # 질병 ID (D01 or D02)\n",
    "\n",
    "    # 필요 없는 컬럼 제거\n",
    "    df = df[[\"text\", \"persona-id\", \"emotion-id\", \"emotion\", \"situation\", \"disease\"]]\n",
    "\n",
    "    # CSV 저장\n",
    "    df.to_csv(output_csv_path, index=False, encoding=\"utf-8-sig\")\n",
    "    print(f\"✅ 변환 완료: {output_csv_path}\")\n",
    "\n",
    "\n",
    "# 🔹 두 개의 JSON 파일 변환 실행\n",
    "convert_json_to_csv(\"data/감성대화말뭉치(최종데이터)_Training.json\", \"data/250314_train_dataset.csv\")\n",
    "convert_json_to_csv(\"data/감성대화말뭉치(최종데이터)_Validation.json\", \"data/250314_test_dataset.csv\")\n"
   ]
  },
  {
   "cell_type": "markdown",
   "metadata": {
    "id": "jujYtb4gYCsa"
   },
   "source": [
    "## **2. 데이터프레임 샘플 출력**"
   ]
  },
  {
   "cell_type": "code",
   "execution_count": 86,
   "metadata": {
    "executionInfo": {
     "elapsed": 363,
     "status": "ok",
     "timestamp": 1741926264501,
     "user": {
      "displayName": "김용하",
      "userId": "08808827916255903945"
     },
     "user_tz": -540
    },
    "id": "GGmeHgC6kMh6"
   },
   "outputs": [],
   "source": [
    "train_df = pd.read_csv('data/250314_train_dataset.csv', encoding='utf-8-sig') # utf-8-sig??\n",
    "test_df = pd.read_csv('data/250314_test_dataset.csv', encoding='utf-8-sig')"
   ]
  },
  {
   "cell_type": "code",
   "execution_count": 88,
   "metadata": {
    "colab": {
     "base_uri": "https://localhost:8080/"
    },
    "executionInfo": {
     "elapsed": 7,
     "status": "ok",
     "timestamp": 1741926265430,
     "user": {
      "displayName": "김용하",
      "userId": "08808827916255903945"
     },
     "user_tz": -540
    },
    "id": "12pydkcOkMTq",
    "outputId": "5b2cabcf-0906-40ee-fa9b-3553bc92a104"
   },
   "outputs": [
    {
     "name": "stdout",
     "output_type": "stream",
     "text": [
      "                                                text   persona-id  \\\n",
      "0  일은 왜 해도 해도 끝이 없을까? 화가 난다. 그냥 내가 해결하는 게 나아. 남들한...  A02_G02_C01   \n",
      "1  이번 달에 또 급여가 깎였어! 물가는 오르는데 월급만 자꾸 깎이니까 너무 화가 나....  A02_G02_C01   \n",
      "2  회사에 신입이 들어왔는데 말투가 거슬려. 그런 애를 매일 봐야 한다고 생각하니까 스...  A02_G02_C01   \n",
      "3  직장에서 막내라는 이유로 나에게만 온갖 심부름을 시켜. 일도 많은 데 정말 분하고 ...  A02_G02_C01   \n",
      "4  얼마 전 입사한 신입사원이 나를 무시하는 것 같아서 너무 화가 나. 상사인 나에게 ...  A02_G02_C01   \n",
      "\n",
      "    emotion-id emotion situation disease  \n",
      "0  S06_D02_E18     E18       S06     D02  \n",
      "1  S06_D02_E18     E18       S06     D02  \n",
      "2  S06_D02_E18     E18       S06     D02  \n",
      "3  S06_D02_E18     E18       S06     D02  \n",
      "4  S06_D02_E18     E18       S06     D02  \n",
      "                                                text   persona-id  \\\n",
      "0  이번 프로젝트에서 발표를 하는데 내가 실수하는 바람에 우리 팀이 감점을 받았어. 너...  A02_G01_C01   \n",
      "1  회사에서 중요한 프로젝트를 혼자 하게 됐는데 솔직히 두렵고 무서워. 나에게 너무 크...  A02_G01_C01   \n",
      "2  상사가 너무 무섭게 생겨서 친해지는 게 너무 두려워. 무섭게 생겼는데도 업무를 보려...  A02_G01_C01   \n",
      "3  이번에 힘들게 들어간 첫 직장이거든. 첫 직장이라서 그런지 너무 긴장된다. 첫 직장...  A02_G01_C01   \n",
      "4  직장에서 동료들이랑 관계가 안 좋아질까 봐 걱정돼. 내가 낯가림이 심해서 친해질 수...  A02_G01_C01   \n",
      "\n",
      "    emotion-id emotion situation disease  \n",
      "0  S06_D02_E31     E31       S06     D02  \n",
      "1  S06_D02_E31     E31       S06     D02  \n",
      "2  S06_D02_E31     E31       S06     D02  \n",
      "3  S06_D02_E31     E31       S06     D02  \n",
      "4  S06_D02_E31     E31       S06     D02  \n"
     ]
    }
   ],
   "source": [
    "print(train_df.head())\n",
    "print(test_df.head())"
   ]
  },
  {
   "cell_type": "code",
   "execution_count": 90,
   "metadata": {
    "colab": {
     "base_uri": "https://localhost:8080/"
    },
    "executionInfo": {
     "elapsed": 20,
     "status": "ok",
     "timestamp": 1741926269062,
     "user": {
      "displayName": "김용하",
      "userId": "08808827916255903945"
     },
     "user_tz": -540
    },
    "id": "VOz5iKTEYwMQ",
    "outputId": "9f7145c8-11ec-4d0d-c17c-9851615ff516"
   },
   "outputs": [
    {
     "name": "stdout",
     "output_type": "stream",
     "text": [
      "<class 'pandas.core.frame.DataFrame'>\n",
      "RangeIndex: 51628 entries, 0 to 51627\n",
      "Data columns (total 6 columns):\n",
      " #   Column      Non-Null Count  Dtype \n",
      "---  ------      --------------  ----- \n",
      " 0   text        51628 non-null  object\n",
      " 1   persona-id  51628 non-null  object\n",
      " 2   emotion-id  51628 non-null  object\n",
      " 3   emotion     51628 non-null  object\n",
      " 4   situation   51628 non-null  object\n",
      " 5   disease     51628 non-null  object\n",
      "dtypes: object(6)\n",
      "memory usage: 2.4+ MB\n",
      "None\n",
      "<class 'pandas.core.frame.DataFrame'>\n",
      "RangeIndex: 6640 entries, 0 to 6639\n",
      "Data columns (total 6 columns):\n",
      " #   Column      Non-Null Count  Dtype \n",
      "---  ------      --------------  ----- \n",
      " 0   text        6640 non-null   object\n",
      " 1   persona-id  6640 non-null   object\n",
      " 2   emotion-id  6640 non-null   object\n",
      " 3   emotion     6640 non-null   object\n",
      " 4   situation   6640 non-null   object\n",
      " 5   disease     6640 non-null   object\n",
      "dtypes: object(6)\n",
      "memory usage: 311.4+ KB\n",
      "None\n"
     ]
    }
   ],
   "source": [
    "print(train_df.info())\n",
    "print(test_df.info())"
   ]
  },
  {
   "cell_type": "code",
   "execution_count": 92,
   "metadata": {
    "colab": {
     "base_uri": "https://localhost:8080/",
     "height": 484
    },
    "executionInfo": {
     "elapsed": 202,
     "status": "ok",
     "timestamp": 1741926271982,
     "user": {
      "displayName": "김용하",
      "userId": "08808827916255903945"
     },
     "user_tz": -540
    },
    "id": "V9cLhZbsvoLq",
    "outputId": "061be2f2-174e-4fb9-8067-cf39cbb0a81e"
   },
   "outputs": [
    {
     "data": {
      "text/html": [
       "<div>\n",
       "<style scoped>\n",
       "    .dataframe tbody tr th:only-of-type {\n",
       "        vertical-align: middle;\n",
       "    }\n",
       "\n",
       "    .dataframe tbody tr th {\n",
       "        vertical-align: top;\n",
       "    }\n",
       "\n",
       "    .dataframe thead th {\n",
       "        text-align: right;\n",
       "    }\n",
       "</style>\n",
       "<table border=\"1\" class=\"dataframe\">\n",
       "  <thead>\n",
       "    <tr style=\"text-align: right;\">\n",
       "      <th></th>\n",
       "      <th>text</th>\n",
       "      <th>persona-id</th>\n",
       "      <th>emotion-id</th>\n",
       "      <th>emotion</th>\n",
       "      <th>situation</th>\n",
       "      <th>disease</th>\n",
       "    </tr>\n",
       "  </thead>\n",
       "  <tbody>\n",
       "    <tr>\n",
       "      <th>0</th>\n",
       "      <td>일은 왜 해도 해도 끝이 없을까? 화가 난다. 그냥 내가 해결하는 게 나아. 남들한...</td>\n",
       "      <td>A02_G02_C01</td>\n",
       "      <td>S06_D02_E18</td>\n",
       "      <td>E18</td>\n",
       "      <td>S06</td>\n",
       "      <td>D02</td>\n",
       "    </tr>\n",
       "    <tr>\n",
       "      <th>1</th>\n",
       "      <td>이번 달에 또 급여가 깎였어! 물가는 오르는데 월급만 자꾸 깎이니까 너무 화가 나....</td>\n",
       "      <td>A02_G02_C01</td>\n",
       "      <td>S06_D02_E18</td>\n",
       "      <td>E18</td>\n",
       "      <td>S06</td>\n",
       "      <td>D02</td>\n",
       "    </tr>\n",
       "    <tr>\n",
       "      <th>2</th>\n",
       "      <td>회사에 신입이 들어왔는데 말투가 거슬려. 그런 애를 매일 봐야 한다고 생각하니까 스...</td>\n",
       "      <td>A02_G02_C01</td>\n",
       "      <td>S06_D02_E18</td>\n",
       "      <td>E18</td>\n",
       "      <td>S06</td>\n",
       "      <td>D02</td>\n",
       "    </tr>\n",
       "    <tr>\n",
       "      <th>3</th>\n",
       "      <td>직장에서 막내라는 이유로 나에게만 온갖 심부름을 시켜. 일도 많은 데 정말 분하고 ...</td>\n",
       "      <td>A02_G02_C01</td>\n",
       "      <td>S06_D02_E18</td>\n",
       "      <td>E18</td>\n",
       "      <td>S06</td>\n",
       "      <td>D02</td>\n",
       "    </tr>\n",
       "    <tr>\n",
       "      <th>4</th>\n",
       "      <td>얼마 전 입사한 신입사원이 나를 무시하는 것 같아서 너무 화가 나. 상사인 나에게 ...</td>\n",
       "      <td>A02_G02_C01</td>\n",
       "      <td>S06_D02_E18</td>\n",
       "      <td>E18</td>\n",
       "      <td>S06</td>\n",
       "      <td>D02</td>\n",
       "    </tr>\n",
       "  </tbody>\n",
       "</table>\n",
       "</div>"
      ],
      "text/plain": [
       "                                                text   persona-id  \\\n",
       "0  일은 왜 해도 해도 끝이 없을까? 화가 난다. 그냥 내가 해결하는 게 나아. 남들한...  A02_G02_C01   \n",
       "1  이번 달에 또 급여가 깎였어! 물가는 오르는데 월급만 자꾸 깎이니까 너무 화가 나....  A02_G02_C01   \n",
       "2  회사에 신입이 들어왔는데 말투가 거슬려. 그런 애를 매일 봐야 한다고 생각하니까 스...  A02_G02_C01   \n",
       "3  직장에서 막내라는 이유로 나에게만 온갖 심부름을 시켜. 일도 많은 데 정말 분하고 ...  A02_G02_C01   \n",
       "4  얼마 전 입사한 신입사원이 나를 무시하는 것 같아서 너무 화가 나. 상사인 나에게 ...  A02_G02_C01   \n",
       "\n",
       "    emotion-id emotion situation disease  \n",
       "0  S06_D02_E18     E18       S06     D02  \n",
       "1  S06_D02_E18     E18       S06     D02  \n",
       "2  S06_D02_E18     E18       S06     D02  \n",
       "3  S06_D02_E18     E18       S06     D02  \n",
       "4  S06_D02_E18     E18       S06     D02  "
      ]
     },
     "execution_count": 92,
     "metadata": {},
     "output_type": "execute_result"
    }
   ],
   "source": [
    "train_df.head()"
   ]
  },
  {
   "cell_type": "markdown",
   "metadata": {
    "id": "H5rw5tiFY0t-"
   },
   "source": [
    "## **3. 학습 데이터 전처리**"
   ]
  },
  {
   "cell_type": "markdown",
   "metadata": {
    "id": "h2_-mi9usuV3"
   },
   "source": [
    "### 특수문자 전처리"
   ]
  },
  {
   "cell_type": "code",
   "execution_count": 94,
   "metadata": {
    "executionInfo": {
     "elapsed": 769,
     "status": "ok",
     "timestamp": 1741926276451,
     "user": {
      "displayName": "김용하",
      "userId": "08808827916255903945"
     },
     "user_tz": -540
    },
    "id": "SBnolUr4st9B"
   },
   "outputs": [],
   "source": [
    "import re\n",
    "\n",
    "def clean_text(text):\n",
    "    text = re.sub(r\"[^가-힣a-zA-Z0-9\\s]\", \"\", text)  # 한글, 영어, 숫자, 공백만 유지\n",
    "    text = re.sub(r\"\\s+\", \" \", text).strip()  # 중복 공백 제거\n",
    "    return text\n",
    "\n",
    "train_df[\"text\"] = train_df[\"text\"].apply(clean_text)\n",
    "test_df[\"text\"] = test_df[\"text\"].apply(clean_text)\n"
   ]
  },
  {
   "cell_type": "code",
   "execution_count": 96,
   "metadata": {
    "colab": {
     "base_uri": "https://localhost:8080/"
    },
    "executionInfo": {
     "elapsed": 39,
     "status": "ok",
     "timestamp": 1741926277467,
     "user": {
      "displayName": "김용하",
      "userId": "08808827916255903945"
     },
     "user_tz": -540
    },
    "id": "TyT1MSI4s_0S",
    "outputId": "2794014f-30f1-4e09-a4b9-4ff75cdd3952"
   },
   "outputs": [
    {
     "name": "stdout",
     "output_type": "stream",
     "text": [
      "                                                text   persona-id  \\\n",
      "0  일은 왜 해도 해도 끝이 없을까 화가 난다 그냥 내가 해결하는 게 나아 남들한테 부...  A02_G02_C01   \n",
      "1  이번 달에 또 급여가 깎였어 물가는 오르는데 월급만 자꾸 깎이니까 너무 화가 나 최...  A02_G02_C01   \n",
      "2  회사에 신입이 들어왔는데 말투가 거슬려 그런 애를 매일 봐야 한다고 생각하니까 스트...  A02_G02_C01   \n",
      "3  직장에서 막내라는 이유로 나에게만 온갖 심부름을 시켜 일도 많은 데 정말 분하고 섭...  A02_G02_C01   \n",
      "4  얼마 전 입사한 신입사원이 나를 무시하는 것 같아서 너무 화가 나 상사인 나에게 먼...  A02_G02_C01   \n",
      "\n",
      "    emotion-id emotion situation disease  \n",
      "0  S06_D02_E18     E18       S06     D02  \n",
      "1  S06_D02_E18     E18       S06     D02  \n",
      "2  S06_D02_E18     E18       S06     D02  \n",
      "3  S06_D02_E18     E18       S06     D02  \n",
      "4  S06_D02_E18     E18       S06     D02  \n",
      "                                                text   persona-id  \\\n",
      "0  이번 프로젝트에서 발표를 하는데 내가 실수하는 바람에 우리 팀이 감점을 받았어 너무...  A02_G01_C01   \n",
      "1  회사에서 중요한 프로젝트를 혼자 하게 됐는데 솔직히 두렵고 무서워 나에게 너무 크게...  A02_G01_C01   \n",
      "2  상사가 너무 무섭게 생겨서 친해지는 게 너무 두려워 무섭게 생겼는데도 업무를 보려면...  A02_G01_C01   \n",
      "3  이번에 힘들게 들어간 첫 직장이거든 첫 직장이라서 그런지 너무 긴장된다 첫 직장이어...  A02_G01_C01   \n",
      "4  직장에서 동료들이랑 관계가 안 좋아질까 봐 걱정돼 내가 낯가림이 심해서 친해질 수 ...  A02_G01_C01   \n",
      "\n",
      "    emotion-id emotion situation disease  \n",
      "0  S06_D02_E31     E31       S06     D02  \n",
      "1  S06_D02_E31     E31       S06     D02  \n",
      "2  S06_D02_E31     E31       S06     D02  \n",
      "3  S06_D02_E31     E31       S06     D02  \n",
      "4  S06_D02_E31     E31       S06     D02  \n"
     ]
    }
   ],
   "source": [
    "print(train_df.head())\n",
    "print(test_df.head())"
   ]
  },
  {
   "cell_type": "markdown",
   "metadata": {
    "id": "nsn7yFXxgTj2"
   },
   "source": [
    "### 동의어 대체 후 불균형 해소"
   ]
  },
  {
   "cell_type": "code",
   "execution_count": 7,
   "metadata": {
    "colab": {
     "base_uri": "https://localhost:8080/"
    },
    "executionInfo": {
     "elapsed": 3437,
     "status": "ok",
     "timestamp": 1741920837494,
     "user": {
      "displayName": "김용하",
      "userId": "08808827916255903945"
     },
     "user_tz": -540
    },
    "id": "dj9h7Hqvkowi",
    "outputId": "97cd384a-07a8-41dd-80d4-bc5b7ca348a9"
   },
   "outputs": [
    {
     "name": "stdout",
     "output_type": "stream",
     "text": [
      "Collecting konlpy\n",
      "  Downloading konlpy-0.6.0-py2.py3-none-any.whl.metadata (1.9 kB)\n",
      "Collecting JPype1>=0.7.0 (from konlpy)\n",
      "  Downloading jpype1-1.5.2-cp311-cp311-manylinux_2_17_x86_64.manylinux2014_x86_64.whl.metadata (4.9 kB)\n",
      "Requirement already satisfied: lxml>=4.1.0 in /usr/local/lib/python3.11/dist-packages (from konlpy) (5.3.1)\n",
      "Requirement already satisfied: numpy>=1.6 in /usr/local/lib/python3.11/dist-packages (from konlpy) (1.26.4)\n",
      "Requirement already satisfied: packaging in /usr/local/lib/python3.11/dist-packages (from JPype1>=0.7.0->konlpy) (24.2)\n",
      "Downloading konlpy-0.6.0-py2.py3-none-any.whl (19.4 MB)\n",
      "\u001b[2K   \u001b[90m━━━━━━━━━━━━━━━━━━━━━━━━━━━━━━━━━━━━━━━━\u001b[0m \u001b[32m19.4/19.4 MB\u001b[0m \u001b[31m95.9 MB/s\u001b[0m eta \u001b[36m0:00:00\u001b[0m\n",
      "\u001b[?25hDownloading jpype1-1.5.2-cp311-cp311-manylinux_2_17_x86_64.manylinux2014_x86_64.whl (494 kB)\n",
      "\u001b[2K   \u001b[90m━━━━━━━━━━━━━━━━━━━━━━━━━━━━━━━━━━━━━━━━\u001b[0m \u001b[32m494.1/494.1 kB\u001b[0m \u001b[31m38.3 MB/s\u001b[0m eta \u001b[36m0:00:00\u001b[0m\n",
      "\u001b[?25hInstalling collected packages: JPype1, konlpy\n",
      "Successfully installed JPype1-1.5.2 konlpy-0.6.0\n"
     ]
    }
   ],
   "source": [
    "# !pip install konlpy"
   ]
  },
  {
   "cell_type": "code",
   "execution_count": 9,
   "metadata": {
    "colab": {
     "base_uri": "https://localhost:8080/"
    },
    "executionInfo": {
     "elapsed": 9371,
     "status": "ok",
     "timestamp": 1741920880762,
     "user": {
      "displayName": "김용하",
      "userId": "08808827916255903945"
     },
     "user_tz": -540
    },
    "id": "Te-0ho0gkx7L",
    "outputId": "fdc35302-11b4-456c-98de-9e79b4996456"
   },
   "outputs": [
    {
     "name": "stdout",
     "output_type": "stream",
     "text": [
      "Collecting gensim\n",
      "  Downloading gensim-4.3.3-cp311-cp311-manylinux_2_17_x86_64.manylinux2014_x86_64.whl.metadata (8.1 kB)\n",
      "Requirement already satisfied: numpy<2.0,>=1.18.5 in /usr/local/lib/python3.11/dist-packages (from gensim) (1.26.4)\n",
      "Collecting scipy<1.14.0,>=1.7.0 (from gensim)\n",
      "  Downloading scipy-1.13.1-cp311-cp311-manylinux_2_17_x86_64.manylinux2014_x86_64.whl.metadata (60 kB)\n",
      "\u001b[2K     \u001b[90m━━━━━━━━━━━━━━━━━━━━━━━━━━━━━━━━━━━━━━━━\u001b[0m \u001b[32m60.6/60.6 kB\u001b[0m \u001b[31m2.7 MB/s\u001b[0m eta \u001b[36m0:00:00\u001b[0m\n",
      "\u001b[?25hRequirement already satisfied: smart-open>=1.8.1 in /usr/local/lib/python3.11/dist-packages (from gensim) (7.1.0)\n",
      "Requirement already satisfied: wrapt in /usr/local/lib/python3.11/dist-packages (from smart-open>=1.8.1->gensim) (1.17.2)\n",
      "Downloading gensim-4.3.3-cp311-cp311-manylinux_2_17_x86_64.manylinux2014_x86_64.whl (26.7 MB)\n",
      "\u001b[2K   \u001b[90m━━━━━━━━━━━━━━━━━━━━━━━━━━━━━━━━━━━━━━━━\u001b[0m \u001b[32m26.7/26.7 MB\u001b[0m \u001b[31m72.5 MB/s\u001b[0m eta \u001b[36m0:00:00\u001b[0m\n",
      "\u001b[?25hDownloading scipy-1.13.1-cp311-cp311-manylinux_2_17_x86_64.manylinux2014_x86_64.whl (38.6 MB)\n",
      "\u001b[2K   \u001b[90m━━━━━━━━━━━━━━━━━━━━━━━━━━━━━━━━━━━━━━━━\u001b[0m \u001b[32m38.6/38.6 MB\u001b[0m \u001b[31m55.6 MB/s\u001b[0m eta \u001b[36m0:00:00\u001b[0m\n",
      "\u001b[?25hInstalling collected packages: scipy, gensim\n",
      "  Attempting uninstall: scipy\n",
      "    Found existing installation: scipy 1.14.1\n",
      "    Uninstalling scipy-1.14.1:\n",
      "      Successfully uninstalled scipy-1.14.1\n",
      "Successfully installed gensim-4.3.3 scipy-1.13.1\n"
     ]
    }
   ],
   "source": [
    "!pip install gensim\n"
   ]
  },
  {
   "cell_type": "code",
   "execution_count": 102,
   "metadata": {
    "colab": {
     "base_uri": "https://localhost:8080/"
    },
    "executionInfo": {
     "elapsed": 353704,
     "status": "ok",
     "timestamp": 1741924185065,
     "user": {
      "displayName": "김용하",
      "userId": "08808827916255903945"
     },
     "user_tz": -540
    },
    "id": "7YXsBed-wEDt",
    "outputId": "3f2e31df-da41-42d4-abd6-ca00a17888f0"
   },
   "outputs": [
    {
     "name": "stdout",
     "output_type": "stream",
     "text": [
      "🔄 형태소 분석기 (Okt) 초기화 중...\n",
      "⏳ FastText 모델 로딩 중...\n",
      "✅ FastText 모델 로드 완료!\n"
     ]
    }
   ],
   "source": [
    "from konlpy.tag import Okt\n",
    "import random\n",
    "import gensim\n",
    "import pandas as pd\n",
    "import matplotlib.pyplot as plt\n",
    "from tqdm import tqdm\n",
    "\n",
    "# 🔹 Step 1: 형태소 분석기 초기화\n",
    "print(\"🔄 형태소 분석기 (Okt) 초기화 중...\")\n",
    "okt = Okt()\n",
    "\n",
    "# 🔹 Step 2: FastText 모델 로드\n",
    "print(\"⏳ FastText 모델 로딩 중...\")\n",
    "# fasttext_model = gensim.models.KeyedVectors.load_word2vec_format(\n",
    "#     \"/content/drive/MyDrive/Colab Notebooks/fasttext/cc.ko.300.vec.gz\",  # FastText 모델 경로를 변경하세요\n",
    "#     binary=False,\n",
    "#     encoding=\"latin1\"  # ✅ 인코딩을 UTF-8에서 latin1로 변경\n",
    "# )\n",
    "\n",
    "fasttext_model = gensim.models.KeyedVectors.load_word2vec_format(\n",
    "    \"c:/fasttext/cc.ko.300.vec.gz\",  # FastText 모델 경로를 변경하세요\n",
    "    binary=False,\n",
    "    encoding=\"latin1\"  # ✅ 인코딩을 UTF-8에서 latin1로 변경\n",
    ")\n",
    "print(\"✅ FastText 모델 로드 완료!\")\n",
    "\n",
    "\n",
    "# ✅ 동의어 추출 함수 (FastText 활용)\n",
    "def get_synonyms(word, topn=3):\n",
    "    try:\n",
    "        synonyms = fasttext_model.most_similar(word, topn=topn)\n",
    "        return [syn[0] for syn in synonyms]\n",
    "    except KeyError:\n",
    "        return [word]  # 없는 단어는 원본 유지\n",
    "\n",
    "# ✅ Synonym Replacement (Okt 활용)\n",
    "def synonym_replacement(sentence, n=1):\n",
    "    words = okt.morphs(sentence)  # 형태소 분석\n",
    "    new_sentence = sentence\n",
    "    count = 0\n",
    "    for word in words:\n",
    "        synonyms = get_synonyms(word)\n",
    "        if len(synonyms) > 1:\n",
    "            new_sentence = new_sentence.replace(word, random.choice(synonyms), 1)\n",
    "            count += 1\n",
    "        if count >= n:\n",
    "            break\n",
    "    return new_sentence"
   ]
  },
  {
   "cell_type": "code",
   "execution_count": 103,
   "metadata": {
    "colab": {
     "base_uri": "https://localhost:8080/",
     "height": 979
    },
    "executionInfo": {
     "elapsed": 84067,
     "status": "ok",
     "timestamp": 1741924272430,
     "user": {
      "displayName": "김용하",
      "userId": "08808827916255903945"
     },
     "user_tz": -540
    },
    "id": "CdFbJJFfgTQ3",
    "outputId": "98653102-4dc0-4a83-a4ed-9e2a75d8f2c3"
   },
   "outputs": [
    {
     "name": "stdout",
     "output_type": "stream",
     "text": [
      "📊 감정 데이터 불균형 분석 중...\n",
      "🔍 부족한 감정 클래스 개수: 20\n",
      "emotion\n",
      "E36    860\n",
      "E50    859\n",
      "E54    859\n",
      "E15    845\n",
      "E35    842\n",
      "E46    840\n",
      "E25    838\n",
      "E57    833\n",
      "E26    828\n",
      "E14    803\n",
      "E60    660\n",
      "E64    655\n",
      "E67    639\n",
      "E68    634\n",
      "E61    631\n",
      "E62    609\n",
      "E63    597\n",
      "E69    570\n",
      "E66    568\n",
      "E65    563\n",
      "Name: count, dtype: int64\n",
      "🛠 부족한 감정 데이터 증강 중...\n"
     ]
    },
    {
     "name": "stderr",
     "output_type": "stream",
     "text": [
      "📌 Synonym Replacement 진행 중: 100%|███████████████████████████████████████████| 14533/14533 [01:34<00:00, 154.37it/s]\n"
     ]
    },
    {
     "name": "stdout",
     "output_type": "stream",
     "text": [
      "✅ 데이터 증강 완료!\n",
      "🔗 원본 데이터와 증강 데이터를 병합 중...\n",
      "✅ 최종 데이터셋 생성 완료! 총 66161 개 샘플\n",
      "📊 데이터 증강 전후 분포 시각화...\n"
     ]
    },
    {
     "data": {
      "image/png": "[encoded data removed]",
      "text/plain": [
       "<Figure size 1200x600 with 1 Axes>"
      ]
     },
     "metadata": {},
     "output_type": "display_data"
    },
    {
     "name": "stdout",
     "output_type": "stream",
     "text": [
      "🎉 모든 작업 완료!\n"
     ]
    }
   ],
   "source": [
    "\n",
    "# 🔹 Step 4: 감정 데이터 불균형 확인\n",
    "print(\"📊 감정 데이터 불균형 분석 중...\")\n",
    "emotion_counts = train_df['emotion'].value_counts()\n",
    "mean_count = emotion_counts.mean()\n",
    "underrepresented_emotions = emotion_counts[emotion_counts < mean_count]\n",
    "\n",
    "print(f\"🔍 부족한 감정 클래스 개수: {len(underrepresented_emotions)}\")\n",
    "print(underrepresented_emotions)\n",
    "# 🔹 Step 5: 부족한 감정 데이터 필터링 후 증강 적용\n",
    "print(\"🛠 부족한 감정 데이터 증강 중...\")\n",
    "underrepresented_df = train_df[train_df['emotion'].isin(underrepresented_emotions.index)]\n",
    "\n",
    "augmented_texts = []\n",
    "augmented_labels = []\n",
    "augmented_situations = []\n",
    "augmented_persona_ids = []  # persona-id 추가\n",
    "augmented_emotion_ids = []  # emotion-id 추가\n",
    "\n",
    "for _, row in tqdm(underrepresented_df.iterrows(), total=len(underrepresented_df), desc=\"📌 Synonym Replacement 진행 중\"):\n",
    "    new_text = synonym_replacement(row['text'], n=2)  # 최대 2개 단어 치환\n",
    "    augmented_texts.append(new_text)\n",
    "    augmented_labels.append(row['emotion'])\n",
    "    augmented_situations.append(row['situation'])\n",
    "    augmented_persona_ids.append(row['persona-id'])  # persona-id 추가\n",
    "    augmented_emotion_ids.append(row['emotion-id'])  # emotion-id 추가\n",
    "\n",
    "print(\"✅ 데이터 증강 완료!\")\n",
    "\n",
    "# 🔹 Step 6: 증강된 데이터프레임 생성 (페르소나 ID와 감정 ID 추가)\n",
    "augmented_df = pd.DataFrame({\n",
    "    'text': augmented_texts,\n",
    "    'emotion': augmented_labels,\n",
    "    'situation': augmented_situations,\n",
    "    'persona-id': augmented_persona_ids,  # persona-id 추가\n",
    "    'emotion-id': augmented_emotion_ids  # emotion-id 추가\n",
    "})\n",
    "\n",
    "# 🔹 Step 7: 원본 데이터와 병합하여 최종 데이터셋 생성\n",
    "print(\"🔗 원본 데이터와 증강 데이터를 병합 중...\")\n",
    "final_df = pd.concat([train_df, augmented_df])\n",
    "print(f\"✅ 최종 데이터셋 생성 완료! 총 {len(final_df)} 개 샘플\")\n",
    "\n",
    "# 🔹 Step 8: 시각화 - 감정 데이터 분포 비교\n",
    "print(\"📊 데이터 증강 전후 분포 시각화...\")\n",
    "plt.figure(figsize=(12, 6))\n",
    "plt.bar(emotion_counts.index, emotion_counts.values, label=\"Original\", alpha=0.6)\n",
    "plt.bar(final_df['emotion'].value_counts().index, final_df['emotion'].value_counts().values, label=\"Augmented\", alpha=0.6)\n",
    "plt.xlabel('Emotion Label')\n",
    "plt.ylabel('Count')\n",
    "plt.title('Emotion Data Distribution Before & After Augmentation')\n",
    "plt.xticks(rotation=90)\n",
    "plt.legend()\n",
    "plt.show()\n",
    "\n",
    "print(\"🎉 모든 작업 완료!\")\n",
    "\n"
   ]
  },
  {
   "cell_type": "markdown",
   "metadata": {
    "id": "00iUPhaulMbl"
   },
   "source": [
    "### **특성별 영향도 시각화**"
   ]
  },
  {
   "cell_type": "code",
   "execution_count": 110,
   "metadata": {},
   "outputs": [
    {
     "name": "stdout",
     "output_type": "stream",
     "text": [
      "<class 'pandas.core.frame.DataFrame'>\n",
      "Index: 66161 entries, 0 to 14532\n",
      "Data columns (total 6 columns):\n",
      " #   Column      Non-Null Count  Dtype \n",
      "---  ------      --------------  ----- \n",
      " 0   text        66161 non-null  object\n",
      " 1   persona-id  66161 non-null  object\n",
      " 2   emotion-id  66161 non-null  object\n",
      " 3   emotion     66161 non-null  object\n",
      " 4   situation   66161 non-null  object\n",
      " 5   disease     51628 non-null  object\n",
      "dtypes: object(6)\n",
      "memory usage: 3.5+ MB\n"
     ]
    }
   ],
   "source": [
    "final_df.info()"
   ]
  },
  {
   "cell_type": "code",
   "execution_count": 116,
   "metadata": {},
   "outputs": [],
   "source": [
    "# **emotion**에서 _를 기준으로 중간 값을 추출\n",
    "final_df[\"disease\"] = final_df[\"emotion-id\"].apply(lambda x: x.split('_')[1])  # _ 기준으로 가운데 값 추출\n"
   ]
  },
  {
   "cell_type": "code",
   "execution_count": 122,
   "metadata": {},
   "outputs": [
    {
     "name": "stdout",
     "output_type": "stream",
     "text": [
      "<class 'pandas.core.frame.DataFrame'>\n",
      "Index: 66161 entries, 0 to 14532\n",
      "Data columns (total 6 columns):\n",
      " #   Column      Non-Null Count  Dtype \n",
      "---  ------      --------------  ----- \n",
      " 0   text        66161 non-null  object\n",
      " 1   persona-id  66161 non-null  object\n",
      " 2   emotion-id  66161 non-null  object\n",
      " 3   emotion     66161 non-null  object\n",
      " 4   situation   66161 non-null  object\n",
      " 5   disease     66161 non-null  object\n",
      "dtypes: object(6)\n",
      "memory usage: 3.5+ MB\n"
     ]
    }
   ],
   "source": [
    "final_df.info()"
   ]
  },
  {
   "cell_type": "code",
   "execution_count": 120,
   "metadata": {
    "colab": {
     "base_uri": "https://localhost:8080/",
     "height": 1000
    },
    "executionInfo": {
     "elapsed": 71,
     "status": "ok",
     "timestamp": 1741926316411,
     "user": {
      "displayName": "김용하",
      "userId": "08808827916255903945"
     },
     "user_tz": -540
    },
    "id": "vr-YQFzqvwud",
    "outputId": "ca6670a2-9bd3-425e-e53e-bd9e48c4c229"
   },
   "outputs": [
    {
     "data": {
      "text/html": [
       "<div>\n",
       "<style scoped>\n",
       "    .dataframe tbody tr th:only-of-type {\n",
       "        vertical-align: middle;\n",
       "    }\n",
       "\n",
       "    .dataframe tbody tr th {\n",
       "        vertical-align: top;\n",
       "    }\n",
       "\n",
       "    .dataframe thead th {\n",
       "        text-align: right;\n",
       "    }\n",
       "</style>\n",
       "<table border=\"1\" class=\"dataframe\">\n",
       "  <thead>\n",
       "    <tr style=\"text-align: right;\">\n",
       "      <th></th>\n",
       "      <th>text</th>\n",
       "      <th>persona-id</th>\n",
       "      <th>emotion-id</th>\n",
       "      <th>emotion</th>\n",
       "      <th>situation</th>\n",
       "      <th>disease</th>\n",
       "    </tr>\n",
       "  </thead>\n",
       "  <tbody>\n",
       "    <tr>\n",
       "      <th>2923</th>\n",
       "      <td>어떻게 친구가 나한테 그런 배신을 할 수 있는 거지 내가 평소에 좋아한다고 생각하고...</td>\n",
       "      <td>A02_G01_C01</td>\n",
       "      <td>S04_D02_E42</td>\n",
       "      <td>E42</td>\n",
       "      <td>S04</td>\n",
       "      <td>D02</td>\n",
       "    </tr>\n",
       "    <tr>\n",
       "      <th>4663</th>\n",
       "      <td>이번 면접도 떨어져서 속상해 뭐가 문제인지 모르겠어 그다지 없는 거 같은데 내 말에...</td>\n",
       "      <td>A02_G02_C01</td>\n",
       "      <td>S06_D02_E14</td>\n",
       "      <td>E14</td>\n",
       "      <td>S06</td>\n",
       "      <td>D02</td>\n",
       "    </tr>\n",
       "    <tr>\n",
       "      <th>42309</th>\n",
       "      <td>내가 대장암 말기 진단을 받았어 죽게 될까 봐 너무 두렵고 혼란스러워 제발 암이 호...</td>\n",
       "      <td>A03_G02_C01</td>\n",
       "      <td>S09_D02_E34</td>\n",
       "      <td>E34</td>\n",
       "      <td>S09</td>\n",
       "      <td>D02</td>\n",
       "    </tr>\n",
       "    <tr>\n",
       "      <th>2859</th>\n",
       "      <td>앞으로 연애 결혼 출산을 할 수 있을까 고민이 들어 현실적으로 취업하기도 힘들뿐더러...</td>\n",
       "      <td>A02_G02_C01</td>\n",
       "      <td>S05_D02_E37</td>\n",
       "      <td>E37</td>\n",
       "      <td>S05</td>\n",
       "      <td>D02</td>\n",
       "    </tr>\n",
       "    <tr>\n",
       "      <th>17117</th>\n",
       "      <td>약을 타야 해서 아들에게 돈을 달라고 해야 하는데 좀 무서워 계속해서 손 벌리는 게...</td>\n",
       "      <td>A04_G01_C01</td>\n",
       "      <td>S13_D01_E31</td>\n",
       "      <td>E31</td>\n",
       "      <td>S13</td>\n",
       "      <td>D01</td>\n",
       "    </tr>\n",
       "    <tr>\n",
       "      <th>11673</th>\n",
       "      <td>나 아무래도 회사에서 따돌림당하는 것 같아 나한테 관심도 안 가지고 말도 안 걸어 ...</td>\n",
       "      <td>A02_G02_C01</td>\n",
       "      <td>S06_D02_E43</td>\n",
       "      <td>E43</td>\n",
       "      <td>S06</td>\n",
       "      <td>D02</td>\n",
       "    </tr>\n",
       "    <tr>\n",
       "      <th>46253</th>\n",
       "      <td>부모님은 날 너무 속박해 통금시간에 조금 늦었다고 너무 뭐라고 해 왜 나를 믿어주지...</td>\n",
       "      <td>A01_G02_C01</td>\n",
       "      <td>S01_D02_E43</td>\n",
       "      <td>E43</td>\n",
       "      <td>S01</td>\n",
       "      <td>D02</td>\n",
       "    </tr>\n",
       "    <tr>\n",
       "      <th>38046</th>\n",
       "      <td>병원에 다녀왔어 길가다 넘어져 발을 접질렸지 뭐야 다치고 보니 행동이 자유롭지 못해...</td>\n",
       "      <td>A04_G02_C01</td>\n",
       "      <td>S11_D01_E40</td>\n",
       "      <td>E40</td>\n",
       "      <td>S11</td>\n",
       "      <td>D01</td>\n",
       "    </tr>\n",
       "    <tr>\n",
       "      <th>4284</th>\n",
       "      <td>요즘 아이들이 너무 게임에 빠져 사는 것 같아 속상하네 원래는 나랑 노는 걸 제일 ...</td>\n",
       "      <td>A03_G01_C01</td>\n",
       "      <td>S07_D02_E40</td>\n",
       "      <td>E40</td>\n",
       "      <td>S07</td>\n",
       "      <td>D02</td>\n",
       "    </tr>\n",
       "    <tr>\n",
       "      <th>6325</th>\n",
       "      <td>아들이 결혼 적령기인데 스타일에도 신경 좀 쓰면 좋을 텐데 패션 감각이 완전히 젬병...</td>\n",
       "      <td>A03_G02_C01</td>\n",
       "      <td>S07_D02_E52</td>\n",
       "      <td>E52</td>\n",
       "      <td>S07</td>\n",
       "      <td>D02</td>\n",
       "    </tr>\n",
       "  </tbody>\n",
       "</table>\n",
       "</div>"
      ],
      "text/plain": [
       "                                                    text   persona-id  \\\n",
       "2923   어떻게 친구가 나한테 그런 배신을 할 수 있는 거지 내가 평소에 좋아한다고 생각하고...  A02_G01_C01   \n",
       "4663   이번 면접도 떨어져서 속상해 뭐가 문제인지 모르겠어 그다지 없는 거 같은데 내 말에...  A02_G02_C01   \n",
       "42309  내가 대장암 말기 진단을 받았어 죽게 될까 봐 너무 두렵고 혼란스러워 제발 암이 호...  A03_G02_C01   \n",
       "2859   앞으로 연애 결혼 출산을 할 수 있을까 고민이 들어 현실적으로 취업하기도 힘들뿐더러...  A02_G02_C01   \n",
       "17117  약을 타야 해서 아들에게 돈을 달라고 해야 하는데 좀 무서워 계속해서 손 벌리는 게...  A04_G01_C01   \n",
       "11673  나 아무래도 회사에서 따돌림당하는 것 같아 나한테 관심도 안 가지고 말도 안 걸어 ...  A02_G02_C01   \n",
       "46253  부모님은 날 너무 속박해 통금시간에 조금 늦었다고 너무 뭐라고 해 왜 나를 믿어주지...  A01_G02_C01   \n",
       "38046  병원에 다녀왔어 길가다 넘어져 발을 접질렸지 뭐야 다치고 보니 행동이 자유롭지 못해...  A04_G02_C01   \n",
       "4284   요즘 아이들이 너무 게임에 빠져 사는 것 같아 속상하네 원래는 나랑 노는 걸 제일 ...  A03_G01_C01   \n",
       "6325   아들이 결혼 적령기인데 스타일에도 신경 좀 쓰면 좋을 텐데 패션 감각이 완전히 젬병...  A03_G02_C01   \n",
       "\n",
       "        emotion-id emotion situation disease  \n",
       "2923   S04_D02_E42     E42       S04     D02  \n",
       "4663   S06_D02_E14     E14       S06     D02  \n",
       "42309  S09_D02_E34     E34       S09     D02  \n",
       "2859   S05_D02_E37     E37       S05     D02  \n",
       "17117  S13_D01_E31     E31       S13     D01  \n",
       "11673  S06_D02_E43     E43       S06     D02  \n",
       "46253  S01_D02_E43     E43       S01     D02  \n",
       "38046  S11_D01_E40     E40       S11     D01  \n",
       "4284   S07_D02_E40     E40       S07     D02  \n",
       "6325   S07_D02_E52     E52       S07     D02  "
      ]
     },
     "execution_count": 120,
     "metadata": {},
     "output_type": "execute_result"
    }
   ],
   "source": [
    "final_df.sample(10)"
   ]
  },
  {
   "cell_type": "code",
   "execution_count": 56,
   "metadata": {
    "colab": {
     "base_uri": "https://localhost:8080/"
    },
    "executionInfo": {
     "elapsed": 2256,
     "status": "ok",
     "timestamp": 1741924387429,
     "user": {
      "displayName": "김용하",
      "userId": "08808827916255903945"
     },
     "user_tz": -540
    },
    "id": "LohBx1MNyLzq",
    "outputId": "952eae12-ecb6-4359-e5d0-9b590b127d8b"
   },
   "outputs": [
    {
     "name": "stdout",
     "output_type": "stream",
     "text": [
      "Requirement already satisfied: matplotlib-venn in /usr/local/lib/python3.11/dist-packages (1.1.2)\n",
      "Requirement already satisfied: matplotlib in /usr/local/lib/python3.11/dist-packages (from matplotlib-venn) (3.10.0)\n",
      "Requirement already satisfied: numpy in /usr/local/lib/python3.11/dist-packages (from matplotlib-venn) (1.26.4)\n",
      "Requirement already satisfied: scipy in /usr/local/lib/python3.11/dist-packages (from matplotlib-venn) (1.13.1)\n",
      "Requirement already satisfied: contourpy>=1.0.1 in /usr/local/lib/python3.11/dist-packages (from matplotlib->matplotlib-venn) (1.3.1)\n",
      "Requirement already satisfied: cycler>=0.10 in /usr/local/lib/python3.11/dist-packages (from matplotlib->matplotlib-venn) (0.12.1)\n",
      "Requirement already satisfied: fonttools>=4.22.0 in /usr/local/lib/python3.11/dist-packages (from matplotlib->matplotlib-venn) (4.56.0)\n",
      "Requirement already satisfied: kiwisolver>=1.3.1 in /usr/local/lib/python3.11/dist-packages (from matplotlib->matplotlib-venn) (1.4.8)\n",
      "Requirement already satisfied: packaging>=20.0 in /usr/local/lib/python3.11/dist-packages (from matplotlib->matplotlib-venn) (24.2)\n",
      "Requirement already satisfied: pillow>=8 in /usr/local/lib/python3.11/dist-packages (from matplotlib->matplotlib-venn) (11.1.0)\n",
      "Requirement already satisfied: pyparsing>=2.3.1 in /usr/local/lib/python3.11/dist-packages (from matplotlib->matplotlib-venn) (3.2.1)\n",
      "Requirement already satisfied: python-dateutil>=2.7 in /usr/local/lib/python3.11/dist-packages (from matplotlib->matplotlib-venn) (2.8.2)\n",
      "Requirement already satisfied: six>=1.5 in /usr/local/lib/python3.11/dist-packages (from python-dateutil>=2.7->matplotlib->matplotlib-venn) (1.17.0)\n"
     ]
    }
   ],
   "source": [
    "!pip install matplotlib-venn"
   ]
  },
  {
   "cell_type": "code",
   "execution_count": 128,
   "metadata": {},
   "outputs": [],
   "source": [
    "import pandas as pd"
   ]
  },
  {
   "cell_type": "code",
   "execution_count": 76,
   "metadata": {
    "executionInfo": {
     "elapsed": 449,
     "status": "ok",
     "timestamp": 1741926991965,
     "user": {
      "displayName": "김용하",
      "userId": "08808827916255903945"
     },
     "user_tz": -540
    },
    "id": "N6UV9U_K8A7Q"
   },
   "outputs": [],
   "source": [
    "final_df = pd.read_csv('data/250314_final_df_enx.csv', encoding='utf-8-sig')\n",
    "test_df = pd.read_csv('data/250314_test_df_enx.csv', encoding='utf-8-sig')"
   ]
  },
  {
   "cell_type": "code",
   "execution_count": 78,
   "metadata": {},
   "outputs": [],
   "source": [
    "final_df.drop(columns=['Unnamed: 0.1', 'Unnamed: 0'], inplace=True)\n",
    "test_df.drop(columns=['Unnamed: 0'], inplace=True)"
   ]
  },
  {
   "cell_type": "code",
   "execution_count": null,
   "metadata": {},
   "outputs": [],
   "source": []
  },
  {
   "cell_type": "code",
   "execution_count": null,
   "metadata": {},
   "outputs": [],
   "source": []
  },
  {
   "cell_type": "markdown",
   "metadata": {},
   "source": [
    "## **emotion, situation, disease 라벨링**"
   ]
  },
  {
   "cell_type": "code",
   "execution_count": 130,
   "metadata": {
    "executionInfo": {
     "elapsed": 40,
     "status": "ok",
     "timestamp": 1741926462411,
     "user": {
      "displayName": "김용하",
      "userId": "08808827916255903945"
     },
     "user_tz": -540
    },
    "id": "a2H2PKR_gSyn"
   },
   "outputs": [],
   "source": [
    "from sklearn.preprocessing import LabelEncoder\n",
    "\n",
    "# 감정 라벨 인코딩\n",
    "emotion_encoder = LabelEncoder()\n",
    "final_df[\"emotion\"] = emotion_encoder.fit_transform(final_df[\"emotion\"])\n",
    "test_df[\"emotion\"] = emotion_encoder.transform(test_df[\"emotion\"])\n",
    "\n",
    "# 상황 라벨 인코딩\n",
    "situation_encoder = LabelEncoder()\n",
    "final_df[\"situation\"] = situation_encoder.fit_transform(final_df[\"situation\"])\n",
    "test_df[\"situation\"] = situation_encoder.transform(test_df[\"situation\"])\n",
    "\n",
    "# 질병 라벨 인코딩\n",
    "disease_encoder = LabelEncoder()\n",
    "final_df[\"disease\"] = disease_encoder.fit_transform(final_df[\"disease\"])\n",
    "test_df[\"disease\"] = disease_encoder.transform(test_df[\"disease\"])\n",
    "\n",
    "# 레이블 인코딩: persona-id, emotion-id 숫자로 변환\n",
    "persona_encoder = LabelEncoder()\n",
    "final_df['persona-id'] = persona_encoder.fit_transform(final_df['persona-id'])\n",
    "test_df['persona-id'] = persona_encoder.transform(test_df['persona-id'])\n",
    "\n",
    "emotionid_encoder = LabelEncoder()\n",
    "final_df['emotion-id'] = emotionid_encoder.fit_transform(final_df['emotion-id'])\n",
    "test_df['emotion-id'] = emotionid_encoder.transform(test_df['emotion-id'])\n",
    "\n"
   ]
  },
  {
   "cell_type": "code",
   "execution_count": 156,
   "metadata": {},
   "outputs": [
    {
     "name": "stdout",
     "output_type": "stream",
     "text": [
      "                                                text  persona-id  emotion-id  \\\n",
      "0              해도 없을까 화가 난다 그냥 해결 하는 나아 부담 주고 싶지도 않고           3         368   \n",
      "1  급여 깎였어 물가 오르는데 월급 자꾸 깎이니까 너무 화가 최대한 지출 억제 해야겠어...           3         368   \n",
      "2  회사 신입 들어왔는데 말투 거슬려 그런 매일 봐야 한다고 생각 하니까 스트레스 받아...           3         368   \n",
      "3  직장 막내 이유 온갖 심부름 시켜 일도 많은 정말 분하고 섭섭해 사람 솔직하게 이야...           3         368   \n",
      "4  입사 신입사원 나를 무시 하는 같아서 너무 화가 상사 먼저 인사 하지 않아서 매일 한다고           3         368   \n",
      "\n",
      "   emotion  situation  disease  text_pca_1  text_pca_2  \n",
      "0        8          5        1   -0.045439    0.059560  \n",
      "1        8          5        1    0.036776    0.019723  \n",
      "2        8          5        1   -0.196787    0.278481  \n",
      "3        8          5        1   -0.082461    0.201029  \n",
      "4        8          5        1    0.063519    0.064646  \n",
      "                                                text  persona-id  emotion-id  \\\n",
      "0  이번 프로젝트에서 발표를 하는데 내가 실수하는 바람에 우리 팀이 감점을 받았어 너무...           2         381   \n",
      "1  회사에서 중요한 프로젝트를 혼자 하게 됐는데 솔직히 두렵고 무서워 나에게 너무 크게...           2         381   \n",
      "2  상사가 너무 무섭게 생겨서 친해지는 게 너무 두려워 무섭게 생겼는데도 업무를 보려면...           2         381   \n",
      "3  이번에 힘들게 들어간 첫 직장이거든 첫 직장이라서 그런지 너무 긴장된다 첫 직장이어...           2         381   \n",
      "4  직장에서 동료들이랑 관계가 안 좋아질까 봐 걱정돼 내가 낯가림이 심해서 친해질 수 ...           2         381   \n",
      "\n",
      "   emotion  situation  disease  text_pca_1  text_pca_2  \n",
      "0       21          5        1   -0.001888   -0.313635  \n",
      "1       21          5        1    0.011658   -0.092545  \n",
      "2       21          5        1    0.147893   -0.197571  \n",
      "3       21          5        1   -0.006208   -0.136605  \n",
      "4       21          5        1   -0.133726    0.267530  \n"
     ]
    }
   ],
   "source": [
    "print(final_df.head())\n",
    "print(test_df.head())"
   ]
  },
  {
   "cell_type": "markdown",
   "metadata": {},
   "source": [
    "## **text 컬럼 불용어 처리 및 형태소 추출**"
   ]
  },
  {
   "cell_type": "code",
   "execution_count": 138,
   "metadata": {
    "executionInfo": {
     "elapsed": 46,
     "status": "ok",
     "timestamp": 1741926465141,
     "user": {
      "displayName": "김용하",
      "userId": "08808827916255903945"
     },
     "user_tz": -540
    },
    "id": "SncIACfZ4ehD"
   },
   "outputs": [],
   "source": [
    "import requests\n",
    "\n",
    "# 한국어 불용어 리스트 가져오기\n",
    "url = \"https://raw.githubusercontent.com/stopwords-iso/stopwords-ko/master/stopwords-ko.txt\"\n",
    "response = requests.get(url)\n",
    "korean_stopwords = set(response.text.split(\"\\n\"))"
   ]
  },
  {
   "cell_type": "code",
   "execution_count": 140,
   "metadata": {
    "colab": {
     "base_uri": "https://localhost:8080/"
    },
    "executionInfo": {
     "elapsed": 347093,
     "status": "ok",
     "timestamp": 1741926815718,
     "user": {
      "displayName": "김용하",
      "userId": "08808827916255903945"
     },
     "user_tz": -540
    },
    "id": "9b0SC29X4jik",
    "outputId": "92f7f56e-785a-4780-8d13-190409c1aa37"
   },
   "outputs": [
    {
     "name": "stderr",
     "output_type": "stream",
     "text": [
      "100%|███████████████████████████████████████████████████████████████████████████| 66161/66161 [06:34<00:00, 167.52it/s]\n"
     ]
    }
   ],
   "source": [
    "from konlpy.tag import Okt\n",
    "from tqdm import tqdm\n",
    "\n",
    "# Okt 객체 초기화\n",
    "okt = Okt()\n",
    "\n",
    "# 진행 상황 표시를 위해 tqdm을 활성화\n",
    "tqdm.pandas()\n",
    "\n",
    "def preprocess_text_with_okt(text):\n",
    "    if not isinstance(text, str):  # NaN 처리\n",
    "        return \"\"\n",
    "\n",
    "    # 형태소 분석\n",
    "    parsed_text = okt.pos(text)\n",
    "\n",
    "    keywords = []\n",
    "    for word, tag in parsed_text:\n",
    "        # 명사(NNG, NNP) 그대로 추가\n",
    "        if tag in ['Noun', 'NNP']:\n",
    "            keywords.append(word)\n",
    "\n",
    "        # 형용사 원형 추가\n",
    "        elif tag == 'Adjective':\n",
    "            keywords.append(word)  # '형용사'는 원형이 해당 형태\n",
    "\n",
    "        # 동사 원형 추가\n",
    "        elif tag == 'Verb':\n",
    "            keywords.append(word)  # '동사'도 원형이 해당 형태\n",
    "\n",
    "        # 부사 추가\n",
    "        elif tag == 'Adverb':\n",
    "            keywords.append(word)\n",
    "\n",
    "    # 중복 단어 제거 및 불용어 제거\n",
    "    keywords = list(dict.fromkeys(keywords))  # 중복 제거\n",
    "    keywords = [word for word in keywords if word not in korean_stopwords and len(word) > 1]  # 불용어 제거\n",
    "\n",
    "    return \" \".join(keywords)\n",
    "\n",
    "# 진행상황을 표시하며 apply 적용\n",
    "final_df['text'] = final_df['text'].progress_apply(preprocess_text_with_okt)\n",
    "\n"
   ]
  },
  {
   "cell_type": "markdown",
   "metadata": {},
   "source": [
    "## **텍스트 컬럼 벡터화 및 PCA 주성분 분석**"
   ]
  },
  {
   "cell_type": "code",
   "execution_count": 158,
   "metadata": {},
   "outputs": [
    {
     "data": {
      "image/png": "[encoded data removed]",
      "text/plain": [
       "<Figure size 1000x800 with 2 Axes>"
      ]
     },
     "metadata": {},
     "output_type": "display_data"
    },
    {
     "data": {
      "image/png": "[encoded data removed]",
      "text/plain": [
       "<Figure size 1200x600 with 1 Axes>"
      ]
     },
     "metadata": {},
     "output_type": "display_data"
    },
    {
     "data": {
      "image/png": "[encoded data removed]",
      "text/plain": [
       "<Figure size 1200x600 with 1 Axes>"
      ]
     },
     "metadata": {},
     "output_type": "display_data"
    }
   ],
   "source": [
    "import pandas as pd\n",
    "import seaborn as sns\n",
    "import matplotlib.pyplot as plt\n",
    "from sklearn.feature_extraction.text import TfidfVectorizer\n",
    "from sklearn.decomposition import PCA\n",
    "\n",
    "# 🔹 Step 1: 텍스트 데이터 벡터화 (TF-IDF)\n",
    "tfidf_vectorizer = TfidfVectorizer(max_features=100)  # 최대 100개 특성 추출\n",
    "\n",
    "# final_df에서 TF-IDF 벡터화\n",
    "tfidf_matrix_train = tfidf_vectorizer.fit_transform(final_df['text'])\n",
    "\n",
    "# test_df에서 TF-IDF 벡터화 (학습된 vectorizer 사용)\n",
    "tfidf_matrix_test = tfidf_vectorizer.transform(test_df['text'])\n",
    "\n",
    "# 🔹 Step 2: 텍스트 데이터 차원 축소 (PCA)\n",
    "pca = PCA(n_components=2)  # 2D로 축소\n",
    "\n",
    "# final_df에서 PCA 적용\n",
    "text_pca_train = pca.fit_transform(tfidf_matrix_train.toarray())\n",
    "\n",
    "# test_df에서 PCA 적용 (학습된 PCA 모델 사용)\n",
    "text_pca_test = pca.transform(tfidf_matrix_test.toarray())\n",
    "\n",
    "# 🔹 Step 3: 텍스트 벡터화된 데이터프레임에 추가\n",
    "final_df['text_pca_1'] = text_pca_train[:, 0]\n",
    "final_df['text_pca_2'] = text_pca_train[:, 1]\n",
    "\n",
    "test_df['text_pca_1'] = text_pca_test[:, 0]\n",
    "test_df['text_pca_2'] = text_pca_test[:, 1]\n",
    "\n",
    "# 🔹 Step 4: 상관 행렬 계산\n",
    "# 수치형 변수에 대해서만 상관 관계를 계산합니다.\n",
    "correlation_matrix_train = final_df[['text_pca_1', 'text_pca_2', 'emotion', 'situation', 'persona-id', 'emotion-id']].apply(pd.to_numeric, errors='coerce').corr()\n",
    "\n",
    "# 🔹 Step 5: 상관 행렬 시각화 (final_df)\n",
    "plt.figure(figsize=(10, 8))\n",
    "sns.heatmap(correlation_matrix_train, annot=True, cmap='coolwarm', fmt='.2f', linewidths=0.5)\n",
    "plt.title('Correlation Matrix: Text, Persona-id, Emotion-id, Emotion, Situation (Train Data)')\n",
    "plt.show()\n",
    "\n",
    "# 🔹 Step 6: 상황에 따른 감정 분포 (final_df)\n",
    "plt.figure(figsize=(12, 6))\n",
    "sns.countplot(data=final_df, x='situation', hue='emotion', palette='Set2')\n",
    "plt.title('Emotion Distribution per Situation (Train Data)')\n",
    "plt.xlabel('Situation')\n",
    "plt.ylabel('Count')\n",
    "plt.xticks(rotation=90)\n",
    "plt.legend(title='Emotion')\n",
    "plt.show()\n",
    "\n",
    "# 🔹 Step 7: 페르소나 아이디와 감정 아이디에 따른 감정 분포 (final_df)\n",
    "plt.figure(figsize=(12, 6))\n",
    "sns.countplot(data=final_df, x='persona-id', hue='emotion', palette='Set1')\n",
    "plt.title('Emotion Distribution by Persona-id (Train Data)')\n",
    "plt.xlabel('Persona-id')\n",
    "plt.ylabel('Count')\n",
    "plt.legend(title='Emotion')\n",
    "plt.xticks(rotation=90)\n",
    "plt.show()\n"
   ]
  },
  {
   "cell_type": "markdown",
   "metadata": {},
   "source": [
    "## **데이터 로더 정의**"
   ]
  },
  {
   "cell_type": "code",
   "execution_count": 174,
   "metadata": {},
   "outputs": [],
   "source": [
    "from sklearn.decomposition import PCA\n",
    "from sklearn.feature_extraction.text import TfidfVectorizer\n",
    "\n",
    "class CustomDataset(Dataset):\n",
    "    def __init__(self, dataframe, tokenizer, max_len, pca_features=None):\n",
    "        self.dataframe = dataframe\n",
    "        self.tokenizer = tokenizer\n",
    "        self.max_len = max_len\n",
    "        self.pca_features = pca_features  # PCA 특성 (선택 사항)\n",
    "\n",
    "    def __len__(self):\n",
    "        return len(self.dataframe)\n",
    "\n",
    "    def __getitem__(self, index):\n",
    "        text = self.dataframe.iloc[index]['text']\n",
    "        emotion = self.dataframe.iloc[index]['emotion']\n",
    "        situation = self.dataframe.iloc[index]['situation']\n",
    "        persona_id = self.dataframe.iloc[index]['persona-id']\n",
    "        emotion_id = self.dataframe.iloc[index]['emotion-id']\n",
    "\n",
    "        encoding = self.tokenizer.encode_plus(\n",
    "            text,\n",
    "            add_special_tokens=True,\n",
    "            max_length=self.max_len,\n",
    "            padding='max_length',\n",
    "            truncation=True,\n",
    "            return_attention_mask=True,\n",
    "            return_token_type_ids=True,\n",
    "            return_tensors='pt'\n",
    "        )\n",
    "\n",
    "        input_ids = encoding['input_ids'].squeeze(0)  # (1, seq_len) -> (seq_len,)\n",
    "        attention_mask = encoding['attention_mask'].squeeze(0)  # (1, seq_len) -> (seq_len,)\n",
    "        token_type_ids = encoding['token_type_ids'].squeeze(0) if 'token_type_ids' in encoding else torch.zeros_like(input_ids)\n",
    "\n",
    "        # pca_features를 포함하도록 수정\n",
    "        pca_feature = self.pca_features[index] if self.pca_features is not None else torch.zeros(2)  # 2D PCA 특성 예시 (필요한 특성에 맞게 수정)\n",
    "\n",
    "        return {\n",
    "            'input_ids': input_ids,\n",
    "            'attention_mask': attention_mask,\n",
    "            'token_type_ids': token_type_ids,\n",
    "            'emotion': torch.tensor(emotion, dtype=torch.long),\n",
    "            'situation': torch.tensor(situation, dtype=torch.long),\n",
    "            'persona-id': torch.tensor(persona_id, dtype=torch.long),\n",
    "            'emotion-id': torch.tensor(emotion_id, dtype=torch.long),\n",
    "            'pca_features': pca_feature  # pca_features 추가\n",
    "        }\n"
   ]
  },
  {
   "cell_type": "code",
   "execution_count": 176,
   "metadata": {},
   "outputs": [],
   "source": [
    "# PCA 적용 (예시)\n",
    "tfidf_vectorizer = TfidfVectorizer(max_features=100)\n",
    "tfidf_matrix = tfidf_vectorizer.fit_transform(final_df['text'])\n",
    "\n",
    "# PCA 적용 (2D로 축소)\n",
    "pca = PCA(n_components=2)\n",
    "pca_features_train = pca.fit_transform(tfidf_matrix.toarray())\n",
    "\n",
    "# 데이터셋에 PCA 특성 추가\n",
    "train_dataset = CustomDataset(final_df, tokenizer, max_len=128, pca_features=pca_features_train)\n",
    "train_dataloader = DataLoader(train_dataset, batch_size=16, shuffle=True)\n",
    "\n",
    "# PCA 특성을 test 데이터에도 적용\n",
    "tfidf_matrix_test = tfidf_vectorizer.transform(test_df['text'])\n",
    "pca_features_test = pca.transform(tfidf_matrix_test.toarray())\n",
    "\n",
    "test_dataset = CustomDataset(test_df, tokenizer, max_len=128, pca_features=pca_features_test)\n",
    "test_dataloader = DataLoader(test_dataset, batch_size=16, shuffle=False)\n"
   ]
  },
  {
   "cell_type": "code",
   "execution_count": 209,
   "metadata": {},
   "outputs": [
    {
     "data": {
      "text/plain": [
       "array([[-0.00188844, -0.31363538],\n",
       "       [ 0.0116583 , -0.09254457],\n",
       "       [ 0.14789301, -0.19757122],\n",
       "       ...,\n",
       "       [ 0.0168603 , -0.12282789],\n",
       "       [ 0.31232498,  0.09135408],\n",
       "       [-0.00211117, -0.0420266 ]])"
      ]
     },
     "execution_count": 209,
     "metadata": {},
     "output_type": "execute_result"
    }
   ],
   "source": [
    "pca_features_test"
   ]
  },
  {
   "cell_type": "code",
   "execution_count": 178,
   "metadata": {},
   "outputs": [],
   "source": [
    "from transformers import BertModel\n",
    "import torch\n",
    "import torch.nn as nn\n",
    "\n",
    "class KoBERTMultiOutputWithEmbedding(nn.Module):\n",
    "    def __init__(self, model_name, num_emotions, num_situations, num_personas, num_emotion_ids, embedding_dim=10):\n",
    "        super(KoBERTMultiOutputWithEmbedding, self).__init__()\n",
    "        self.bert = BertModel.from_pretrained(model_name)  # KoBERT 기본 모델\n",
    "        self.dropout = nn.Dropout(0.1)\n",
    "        \n",
    "        # 감정 분류 레이어 (입력 크기 확인)\n",
    "        self.emotion_classifier = nn.Linear(768 + 2 * embedding_dim, num_emotions)  # BERT 출력 + 임베딩 차원 크기\n",
    "        self.situation_classifier = nn.Linear(768, num_situations)  # 상황 예측은 BERT만 사용\n",
    "\n",
    "        # persona-id와 emotion-id를 위한 임베딩 레이어\n",
    "        self.persona_embedding = nn.Embedding(num_personas, embedding_dim)  # persona-id 임베딩\n",
    "        self.emotion_id_embedding = nn.Embedding(num_emotion_ids, embedding_dim)  # emotion-id 임베딩\n",
    "\n",
    "    def forward(self, input_ids, attention_mask, token_type_ids, persona_id, emotion_id, pca_features):\n",
    "        # BERT 모델에서 출력값 얻기\n",
    "        outputs = self.bert(input_ids=input_ids, attention_mask=attention_mask, token_type_ids=token_type_ids)\n",
    "        pooled_output = outputs.pooler_output  # (batch_size, 768)\n",
    "\n",
    "        # persona-id와 emotion-id 임베딩\n",
    "        persona_embedding = self.persona_embedding(persona_id)  # (batch_size, embedding_dim)\n",
    "        emotion_id_embedding = self.emotion_id_embedding(emotion_id)  # (batch_size, embedding_dim)\n",
    "\n",
    "        # 임베딩 벡터를 BERT 출력과 결합\n",
    "        combined_output = torch.cat((pooled_output, persona_embedding, emotion_id_embedding), dim=1)  # (batch_size, 788)\n",
    "\n",
    "        # 감정 및 상황 예측\n",
    "        emotion_logits = self.emotion_classifier(combined_output)\n",
    "        situation_logits = self.situation_classifier(pooled_output)\n",
    "\n",
    "        return emotion_logits, situation_logits\n"
   ]
  },
  {
   "cell_type": "code",
   "execution_count": null,
   "metadata": {},
   "outputs": [],
   "source": []
  },
  {
   "cell_type": "code",
   "execution_count": 199,
   "metadata": {},
   "outputs": [],
   "source": [
    "# final_df와 test_df를 CSV 파일로 저장\n",
    "final_df.to_csv('data/final_df_preprocessed.csv', index=False, encoding='utf-8-sig')\n",
    "test_df.to_csv('data/test_df_preprocessed.csv', index=False, encoding='utf-8-sig')\n"
   ]
  },
  {
   "cell_type": "code",
   "execution_count": 196,
   "metadata": {},
   "outputs": [
    {
     "name": "stderr",
     "output_type": "stream",
     "text": [
      "Epoch 1/10: 100%|████████████████████| 4136/4136 [20:16<00:00,  3.40it/s, accuracy=0.299, loss=4.16]\n"
     ]
    },
    {
     "name": "stdout",
     "output_type": "stream",
     "text": [
      "Epoch 1 - Loss: 4.1634 - Accuracy: 0.2991\n"
     ]
    },
    {
     "name": "stderr",
     "output_type": "stream",
     "text": [
      "Epoch 2/10:  38%|███████▋            | 1587/4136 [07:47<12:31,  3.39it/s, accuracy=0.405, loss=3.82]\n"
     ]
    },
    {
     "ename": "KeyboardInterrupt",
     "evalue": "",
     "output_type": "error",
     "traceback": [
      "\u001b[1;31m---------------------------------------------------------------------------\u001b[0m",
      "\u001b[1;31mKeyboardInterrupt\u001b[0m                         Traceback (most recent call last)",
      "Cell \u001b[1;32mIn[196], line 101\u001b[0m\n\u001b[0;32m     99\u001b[0m _, predicted_emotion \u001b[38;5;241m=\u001b[39m torch\u001b[38;5;241m.\u001b[39mmax(emotion_logits, dim\u001b[38;5;241m=\u001b[39m\u001b[38;5;241m1\u001b[39m)\n\u001b[0;32m    100\u001b[0m _, predicted_situation \u001b[38;5;241m=\u001b[39m torch\u001b[38;5;241m.\u001b[39mmax(situation_logits, dim\u001b[38;5;241m=\u001b[39m\u001b[38;5;241m1\u001b[39m)\n\u001b[1;32m--> 101\u001b[0m correct_predictions \u001b[38;5;241m+\u001b[39m\u001b[38;5;241m=\u001b[39m (predicted_emotion \u001b[38;5;241m==\u001b[39m labels_emotion)\u001b[38;5;241m.\u001b[39msum()\u001b[38;5;241m.\u001b[39mitem() \u001b[38;5;241m+\u001b[39m (predicted_situation \u001b[38;5;241m==\u001b[39m labels_situation)\u001b[38;5;241m.\u001b[39msum()\u001b[38;5;241m.\u001b[39mitem()\n\u001b[0;32m    102\u001b[0m total_samples \u001b[38;5;241m+\u001b[39m\u001b[38;5;241m=\u001b[39m labels_emotion\u001b[38;5;241m.\u001b[39msize(\u001b[38;5;241m0\u001b[39m) \u001b[38;5;241m+\u001b[39m labels_situation\u001b[38;5;241m.\u001b[39msize(\u001b[38;5;241m0\u001b[39m)\n\u001b[0;32m    104\u001b[0m \u001b[38;5;66;03m# loss와 accuracy를 tqdm에 실시간으로 표시\u001b[39;00m\n",
      "\u001b[1;31mKeyboardInterrupt\u001b[0m: "
     ]
    }
   ],
   "source": [
    "import time\n",
    "import torch\n",
    "import torch.nn as nn\n",
    "from tqdm import tqdm\n",
    "from transformers import AdamW, get_scheduler\n",
    "import matplotlib.pyplot as plt\n",
    "import os\n",
    "from transformers import AutoTokenizer\n",
    "from datetime import datetime\n",
    "from sklearn.utils.class_weight import compute_class_weight\n",
    "import numpy as np\n",
    "\n",
    "# 모델 생성 (train_df의 감정, 상황 레이블 수에 맞춰 설정)\n",
    "num_emotions = len(final_df[\"emotion\"].unique())  # 감정 클래스 개수\n",
    "num_situations = len(final_df[\"situation\"].unique())  # 상황 클래스 개수\n",
    "num_personas = len(final_df[\"persona-id\"].unique())  # persona-id 클래스 개수\n",
    "num_emotion_ids = len(final_df[\"emotion-id\"].unique())  # emotion-id 클래스 개수\n",
    "embedding_dim = 10  # 임베딩 차원 크기\n",
    "\n",
    "model_name = \"monologg/kobert\"\n",
    "\n",
    "# 모델 초기화\n",
    "model = KoBERTMultiOutputWithEmbedding(model_name, num_emotions, num_situations, num_personas, num_emotion_ids, embedding_dim)\n",
    "\n",
    "# 디바이스 설정 (GPU 또는 CPU)\n",
    "device = torch.device(\"cuda\" if torch.cuda.is_available() else \"cpu\")\n",
    "model.to(device)  # 모델을 설정한 디바이스로 이동\n",
    "\n",
    "# 클래스 가중치 계산\n",
    "emotion_labels = final_df['emotion'].values\n",
    "situation_labels = final_df['situation'].values\n",
    "\n",
    "# 감정과 상황에 대한 클래스 가중치 계산\n",
    "emotion_class_weights = compute_class_weight(class_weight='balanced', classes=np.unique(emotion_labels), y=emotion_labels)\n",
    "situation_class_weights = compute_class_weight(class_weight='balanced', classes=np.unique(situation_labels), y=situation_labels)\n",
    "\n",
    "# 가중치를 텐서로 변환\n",
    "emotion_weights = torch.tensor(emotion_class_weights, dtype=torch.float).to(device)\n",
    "situation_weights = torch.tensor(situation_class_weights, dtype=torch.float).to(device)\n",
    "\n",
    "# 손실 함수 설정 (가중치 적용)\n",
    "loss_fn = nn.CrossEntropyLoss(weight=emotion_weights)  # 감정 클래스 가중치 적용\n",
    "situation_loss_fn = nn.CrossEntropyLoss(weight=situation_weights)  # 상황 클래스 가중치 적용\n",
    "\n",
    "# 옵티마이저 및 학습률 스케줄러 설정\n",
    "optimizer = AdamW(model.parameters(), lr=1e-5, no_deprecation_warning=True)  # AdamW 옵티마이저 사용\n",
    "num_training_steps = len(train_dataloader) * 10  # 학습할 총 스텝 수 \n",
    "lr_scheduler = get_scheduler(\"linear\", optimizer=optimizer, num_warmup_steps=0, num_training_steps=num_training_steps)  # 학습률 스케줄러 설정\n",
    "\n",
    "# 학습 루프\n",
    "num_epochs = 10\n",
    "train_accuracy_history = []  # 정확도 기록\n",
    "train_loss_history = []  # 손실값 기록\n",
    "\n",
    "# 얼리스탑을 위한 변수 초기화\n",
    "best_accuracy = 0.0  # 가장 좋은 정확도\n",
    "patience = 3  # 개선되지 않아도 허용할 에포크 수\n",
    "early_stopping_counter = 0  # 얼리스탑 카운터\n",
    "\n",
    "# 모델 체크포인트 저장을 위한 경로 설정\n",
    "model_path = \"kobert_emotion_situation\"\n",
    "os.makedirs(model_path, exist_ok=True)  # 디렉토리가 없으면 생성\n",
    "\n",
    "\n",
    "# 학습 루프\n",
    "for epoch in range(num_epochs):\n",
    "    model.train()\n",
    "    total_loss = 0\n",
    "    correct_predictions = 0\n",
    "    total_samples = 0\n",
    "\n",
    "    # tqdm을 사용하여 학습 진행 상황을 실시간으로 표시\n",
    "    pbar = tqdm(train_dataloader, desc=f\"Epoch {epoch+1}/{num_epochs}\", ncols=100)  # tqdm 객체를 pbar로 정의\n",
    "    for batch in pbar:\n",
    "        input_ids = batch['input_ids'].to(device)\n",
    "        attention_mask = batch['attention_mask'].to(device)\n",
    "        token_type_ids = batch['token_type_ids'].to(device)\n",
    "        labels_emotion = batch['emotion'].to(device)\n",
    "        labels_situation = batch['situation'].to(device)\n",
    "        persona_id = batch['persona-id'].to(device)  # persona-id 추가\n",
    "        emotion_id = batch['emotion-id'].to(device)  # emotion-id 추가\n",
    "        pca_features = batch['pca_features'].to(device)  # PCA 특성 추가\n",
    "\n",
    "        # 모델에 입력\n",
    "        emotion_logits, situation_logits = model(\n",
    "            input_ids, attention_mask, token_type_ids, persona_id, emotion_id, pca_features\n",
    "        )\n",
    "\n",
    "        # 손실 계산\n",
    "        emotion_loss = loss_fn(emotion_logits, labels_emotion)\n",
    "        situation_loss = situation_loss_fn(situation_logits, labels_situation)\n",
    "\n",
    "        total_loss = emotion_loss + situation_loss\n",
    "        optimizer.zero_grad()\n",
    "        total_loss.backward()\n",
    "        optimizer.step()\n",
    "\n",
    "        # 정확도 계산\n",
    "        _, predicted_emotion = torch.max(emotion_logits, dim=1)\n",
    "        _, predicted_situation = torch.max(situation_logits, dim=1)\n",
    "        correct_predictions += (predicted_emotion == labels_emotion).sum().item() + (predicted_situation == labels_situation).sum().item()\n",
    "        total_samples += labels_emotion.size(0) + labels_situation.size(0)\n",
    "\n",
    "        # loss와 accuracy를 tqdm에 실시간으로 표시\n",
    "        accuracy = correct_predictions / total_samples\n",
    "        pbar.set_postfix(loss=total_loss.item(), accuracy=accuracy)  # pbar 객체로 set_postfix 호출\n",
    "\n",
    "    epoch_accuracy = correct_predictions / total_samples\n",
    "    train_accuracy_history.append(epoch_accuracy)\n",
    "    train_loss_history.append(total_loss.item())\n",
    "\n",
    "    print(f\"Epoch {epoch+1} - Loss: {total_loss.item():.4f} - Accuracy: {epoch_accuracy:.4f}\")\n",
    "\n",
    "    # 얼리스탑\n",
    "    if epoch_accuracy > best_accuracy:\n",
    "        best_accuracy = epoch_accuracy\n",
    "        early_stopping_counter = 0\n",
    "        torch.save(model.state_dict(), f\"{model_path}/best_model.pth\")\n",
    "        # 학습 과정 기록 저장\n",
    "        history = {\n",
    "            'train_accuracy': train_accuracy_history,\n",
    "            'train_loss': train_loss_history\n",
    "        }\n",
    "        torch.save(history, f'{model_path}/history.pth')\n",
    "    else:\n",
    "        early_stopping_counter += 1\n",
    "\n",
    "    if early_stopping_counter >= patience:\n",
    "        print(\"Early stopping\")\n",
    "        break\n",
    "\n",
    "\n",
    "# 모델 저장\n",
    "torch.save(model.state_dict(), f\"{model_path}/final_model.pth\")\n",
    "\n",
    "\n",
    "# 학습 과정 시각화\n",
    "plt.figure(figsize=(10, 5))\n",
    "plt.plot(train_accuracy_history, label='Train Accuracy')\n",
    "plt.plot(train_loss_history, label='Train Loss')\n",
    "plt.xlabel('Epoch')\n",
    "plt.ylabel('Value')\n",
    "plt.title('Training Accuracy and Loss')\n",
    "plt.legend()\n",
    "plt.savefig(f\"{model_path}/train_accuracy_loss.png\")\n",
    "plt.show()\n"
   ]
  },
  {
   "cell_type": "code",
   "execution_count": null,
   "metadata": {},
   "outputs": [],
   "source": [
    "# 저장된 데이터를 불러오기\n",
    "final_df = pd.read_csv('data/final_df_preprocessed.csv', encoding='utf-8-sig')\n",
    "test_df = pd.read_csv('data/test_df_preprocessed.csv', encoding='utf-8-sig')\n"
   ]
  },
  {
   "cell_type": "code",
   "execution_count": null,
   "metadata": {
    "id": "UhUkNu4g4uC6"
   },
   "outputs": [],
   "source": []
  }
 ],
 "metadata": {
  "accelerator": "GPU",
  "colab": {
   "authorship_tag": "ABX9TyOhS+d3YFWIEuldcj2eZdRl",
   "gpuType": "A100",
   "machine_shape": "hm",
   "mount_file_id": "1EvWIVRJ3LMfGILFhXILMsG6eyKpc6Uxs",
   "provenance": []
  },
  "kernelspec": {
   "display_name": "Python [conda env:base] *",
   "language": "python",
   "name": "conda-base-py"
  },
  "language_info": {
   "codemirror_mode": {
    "name": "ipython",
    "version": 3
   },
   "file_extension": ".py",
   "mimetype": "text/x-python",
   "name": "python",
   "nbconvert_exporter": "python",
   "pygments_lexer": "ipython3",
   "version": "3.12.7"
  }
 },
 "nbformat": 4,
 "nbformat_minor": 4
}
