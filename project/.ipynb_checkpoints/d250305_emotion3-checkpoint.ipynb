{
 "cells": [
  {
   "cell_type": "code",
   "execution_count": null,
   "id": "9e806d8c-3924-4363-ab1f-5ea89b65a953",
   "metadata": {},
   "outputs": [],
   "source": [
    "'''\n",
    "03_HS01~03 합치기, 중요 키워드 줄이기 \n",
    "'''"
   ]
  },
  {
   "cell_type": "code",
   "execution_count": 2,
   "id": "8f4d563b-3887-41e0-8394-cd1b68f2f715",
   "metadata": {},
   "outputs": [],
   "source": [
    "import numpy as np\n",
    "import pandas as pd"
   ]
  },
  {
   "cell_type": "code",
   "execution_count": 4,
   "id": "0266e50f-f320-47d9-a7a0-384d03eaf5a7",
   "metadata": {},
   "outputs": [],
   "source": [
    "# JSON 데이터 로드\n",
    "df = pd.read_json('data/감성대화말뭉치(최종데이터)_Training.json')\n",
    "\n",
    "# 'profile'과 'talk' 컬럼을 펼치기 (1차 변환)\n",
    "df_profile = df['profile'].apply(pd.Series)\n",
    "df_talk = df['talk'].apply(pd.Series)\n",
    "\n",
    "# 'emotion' 컬럼을 추가로 펼치기\n",
    "df_emotion = df_profile['emotion'].apply(pd.Series)\n",
    "\n",
    "# # 'content' 컬럼을 추가로 펼치기 (대화 내용)\n",
    "# df_content = df_talk['content'].apply(pd.Series)\n",
    "\n",
    "# # 필요한 컬럼 선택\n",
    "# df_cleaned = pd.concat([df_emotion[['type']], df_content], axis=1)\n",
    "# df_cleaned.rename(columns={'type': 'emotion_type'}, inplace=True)\n",
    "\n",
    "# # 결과 확인\n",
    "# import ace_tools_open as tools\n",
    "# tools.display_dataframe_to_user(name=\"감성 대화 데이터\", dataframe=df_cleaned)"
   ]
  },
  {
   "cell_type": "code",
   "execution_count": 5,
   "id": "fc5187c6-6eb9-48f0-b4e5-c36640b84523",
   "metadata": {},
   "outputs": [
    {
     "data": {
      "text/html": [
       "<div>\n",
       "<style scoped>\n",
       "    .dataframe tbody tr th:only-of-type {\n",
       "        vertical-align: middle;\n",
       "    }\n",
       "\n",
       "    .dataframe tbody tr th {\n",
       "        vertical-align: top;\n",
       "    }\n",
       "\n",
       "    .dataframe thead th {\n",
       "        text-align: right;\n",
       "    }\n",
       "</style>\n",
       "<table border=\"1\" class=\"dataframe\">\n",
       "  <thead>\n",
       "    <tr style=\"text-align: right;\">\n",
       "      <th></th>\n",
       "      <th>profile</th>\n",
       "      <th>talk</th>\n",
       "    </tr>\n",
       "  </thead>\n",
       "  <tbody>\n",
       "    <tr>\n",
       "      <th>0</th>\n",
       "      <td>{'persona-id': 'Pro_05349', 'persona': {'perso...</td>\n",
       "      <td>{'id': {'profile-id': 'Pro_05349', 'talk-id': ...</td>\n",
       "    </tr>\n",
       "    <tr>\n",
       "      <th>1</th>\n",
       "      <td>{'persona-id': 'Pro_05349', 'persona': {'perso...</td>\n",
       "      <td>{'id': {'profile-id': 'Pro_05349', 'talk-id': ...</td>\n",
       "    </tr>\n",
       "    <tr>\n",
       "      <th>2</th>\n",
       "      <td>{'persona-id': 'Pro_05349', 'persona': {'perso...</td>\n",
       "      <td>{'id': {'profile-id': 'Pro_05349', 'talk-id': ...</td>\n",
       "    </tr>\n",
       "    <tr>\n",
       "      <th>3</th>\n",
       "      <td>{'persona-id': 'Pro_05349', 'persona': {'perso...</td>\n",
       "      <td>{'id': {'profile-id': 'Pro_05349', 'talk-id': ...</td>\n",
       "    </tr>\n",
       "    <tr>\n",
       "      <th>4</th>\n",
       "      <td>{'persona-id': 'Pro_05349', 'persona': {'perso...</td>\n",
       "      <td>{'id': {'profile-id': 'Pro_05349', 'talk-id': ...</td>\n",
       "    </tr>\n",
       "  </tbody>\n",
       "</table>\n",
       "</div>"
      ],
      "text/plain": [
       "                                             profile  \\\n",
       "0  {'persona-id': 'Pro_05349', 'persona': {'perso...   \n",
       "1  {'persona-id': 'Pro_05349', 'persona': {'perso...   \n",
       "2  {'persona-id': 'Pro_05349', 'persona': {'perso...   \n",
       "3  {'persona-id': 'Pro_05349', 'persona': {'perso...   \n",
       "4  {'persona-id': 'Pro_05349', 'persona': {'perso...   \n",
       "\n",
       "                                                talk  \n",
       "0  {'id': {'profile-id': 'Pro_05349', 'talk-id': ...  \n",
       "1  {'id': {'profile-id': 'Pro_05349', 'talk-id': ...  \n",
       "2  {'id': {'profile-id': 'Pro_05349', 'talk-id': ...  \n",
       "3  {'id': {'profile-id': 'Pro_05349', 'talk-id': ...  \n",
       "4  {'id': {'profile-id': 'Pro_05349', 'talk-id': ...  "
      ]
     },
     "execution_count": 5,
     "metadata": {},
     "output_type": "execute_result"
    }
   ],
   "source": [
    "df.head()"
   ]
  },
  {
   "cell_type": "code",
   "execution_count": 10,
   "id": "ee832a6c-9c0e-44a1-b928-9de8207d6206",
   "metadata": {},
   "outputs": [
    {
     "name": "stdout",
     "output_type": "stream",
     "text": [
      "  persona-id                                            persona  \\\n",
      "0  Pro_05349  {'persona-id': 'A02_G02_C01', 'human': ['A02',...   \n",
      "1  Pro_05349  {'persona-id': 'A02_G02_C01', 'human': ['A02',...   \n",
      "2  Pro_05349  {'persona-id': 'A02_G02_C01', 'human': ['A02',...   \n",
      "3  Pro_05349  {'persona-id': 'A02_G02_C01', 'human': ['A02',...   \n",
      "4  Pro_05349  {'persona-id': 'A02_G02_C01', 'human': ['A02',...   \n",
      "\n",
      "                                             emotion  \n",
      "0  {'emotion-id': 'S06_D02_E18', 'type': 'E18', '...  \n",
      "1  {'emotion-id': 'S06_D02_E18', 'type': 'E18', '...  \n",
      "2  {'emotion-id': 'S06_D02_E18', 'type': 'E18', '...  \n",
      "3  {'emotion-id': 'S06_D02_E18', 'type': 'E18', '...  \n",
      "4  {'emotion-id': 'S06_D02_E18', 'type': 'E18', '...  \n"
     ]
    }
   ],
   "source": [
    "df_profile = df['profile'].apply(pd.Series)\n",
    "print(df_profile.head())"
   ]
  },
  {
   "cell_type": "code",
   "execution_count": 12,
   "id": "0b8a5fe7-7782-42e0-a1a1-0d77cd0d6e96",
   "metadata": {},
   "outputs": [
    {
     "name": "stdout",
     "output_type": "stream",
     "text": [
      "                                                  id  \\\n",
      "0  {'profile-id': 'Pro_05349', 'talk-id': 'Pro_05...   \n",
      "1  {'profile-id': 'Pro_05349', 'talk-id': 'Pro_05...   \n",
      "2  {'profile-id': 'Pro_05349', 'talk-id': 'Pro_05...   \n",
      "3  {'profile-id': 'Pro_05349', 'talk-id': 'Pro_05...   \n",
      "4  {'profile-id': 'Pro_05349', 'talk-id': 'Pro_05...   \n",
      "\n",
      "                                             content  \n",
      "0  {'HS01': '일은 왜 해도 해도 끝이 없을까? 화가 난다.', 'SS01': ...  \n",
      "1  {'HS01': '이번 달에 또 급여가 깎였어! 물가는 오르는데 월급만 자꾸 깎이니...  \n",
      "2  {'HS01': '회사에 신입이 들어왔는데 말투가 거슬려. 그런 애를 매일 봐야 한...  \n",
      "3  {'HS01': '직장에서 막내라는 이유로 나에게만 온갖 심부름을 시켜. 일도 많은...  \n",
      "4  {'HS01': '얼마 전 입사한 신입사원이 나를 무시하는 것 같아서 너무 화가 나...  \n"
     ]
    }
   ],
   "source": [
    "df_talk = df['talk'].apply(pd.Series)\n",
    "print(df_talk.head())"
   ]
  },
  {
   "cell_type": "code",
   "execution_count": 14,
   "id": "a296cad7-da4b-4b12-a6c4-ad055f1c16a6",
   "metadata": {},
   "outputs": [
    {
     "name": "stdout",
     "output_type": "stream",
     "text": [
      "                                                HS01  \\\n",
      "0                          일은 왜 해도 해도 끝이 없을까? 화가 난다.   \n",
      "1     이번 달에 또 급여가 깎였어! 물가는 오르는데 월급만 자꾸 깎이니까 너무 화가 나.   \n",
      "2  회사에 신입이 들어왔는데 말투가 거슬려. 그런 애를 매일 봐야 한다고 생각하니까 스...   \n",
      "3  직장에서 막내라는 이유로 나에게만 온갖 심부름을 시켜. 일도 많은 데 정말 분하고 ...   \n",
      "4              얼마 전 입사한 신입사원이 나를 무시하는 것 같아서 너무 화가 나.   \n",
      "\n",
      "                                                SS01  \\\n",
      "0                        많이 힘드시겠어요. 주위에 의논할 상대가 있나요?   \n",
      "1           급여가 줄어 속상하시겠어요. 월급이 줄어든 것을 어떻게 보완하실 건가요?   \n",
      "2  회사 동료 때문에 스트레스를 많이 받는 것 같아요. 문제 해결을 위해 어떤 노력을 ...   \n",
      "3  관련 없는 심부름을 모두 하게 되어서 노여우시군요. 어떤 것이 상황을 나아질 수 있...   \n",
      "4  무시하는 것 같은 태도에 화가 나셨군요. 상대방의 어떤 행동이 그런 감정을 유발하는...   \n",
      "\n",
      "                                                HS02  \\\n",
      "0                그냥 내가 해결하는 게 나아. 남들한테 부담 주고 싶지도 않고.   \n",
      "1   최대한 지출을 억제해야겠어. 월급이 줄어들었으니 고정지출을 줄일 수밖에 없을 것 같아.   \n",
      "2  잘 안 맞는 사람이랑 억지로 잘 지내는 것보단 조금은 거리를 두고 예의를 갖춰서 대...   \n",
      "3              직장 사람들과 솔직하게 이야기해보고 싶어. 일하는 데에 방해된다고.   \n",
      "4                상사인 나에게 먼저 인사하지 않아서 매일 내가 먼저 인사한다고!   \n",
      "\n",
      "                                                SS02 HS03 SS03  \n",
      "0     혼자 해결하기로 했군요. 혼자서 해결하기 힘들면 주위에 의논할 사람을 찾아보세요.             \n",
      "1                           월급이 줄어든 만큼 소비를 줄일 계획이군요.            \n",
      "2          스트레스받지 않기 위해선 인간관계에 있어 약간의 거리를 두는 게 좋겠군요.            \n",
      "3                        직장 사람들과 이야기를 해 보겠다고 결심하셨군요.            \n",
      "4  항상 먼저 인사하게 되어 화가 나셨군요. 어떻게 하면 신입사원에게 화났음을 표현할 ...            \n"
     ]
    }
   ],
   "source": [
    "df_content = df_talk['content'].apply(pd.Series)\n",
    "print(df_content.head())"
   ]
  }
 ],
 "metadata": {
  "kernelspec": {
   "display_name": "Python [conda env:base] *",
   "language": "python",
   "name": "conda-base-py"
  },
  "language_info": {
   "codemirror_mode": {
    "name": "ipython",
    "version": 3
   },
   "file_extension": ".py",
   "mimetype": "text/x-python",
   "name": "python",
   "nbconvert_exporter": "python",
   "pygments_lexer": "ipython3",
   "version": "3.12.7"
  }
 },
 "nbformat": 4,
 "nbformat_minor": 5
}
