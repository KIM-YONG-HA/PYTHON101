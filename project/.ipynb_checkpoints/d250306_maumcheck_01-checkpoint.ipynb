{
 "cells": [
  {
   "cell_type": "markdown",
   "id": "b55b227e-1766-4bc9-9c77-3a7a7b4669d6",
   "metadata": {},
   "source": [
    "## 1. json to csv "
   ]
  },
  {
   "cell_type": "code",
   "execution_count": 5,
   "id": "57789958-bb32-43f5-a8eb-06a72212751d",
   "metadata": {},
   "outputs": [
    {
     "name": "stdout",
     "output_type": "stream",
     "text": [
      "✅ 변환 완료: data/train_dataset.csv\n",
      "✅ 변환 완료: data/test_dataset.csv\n"
     ]
    }
   ],
   "source": [
    "import numpy as np\n",
    "import json\n",
    "import pandas as pd\n",
    "\n",
    "def convert_json_to_csv(json_file_path, output_csv_path):\n",
    "    \"\"\"\n",
    "    JSON 데이터를 로드하여 DataFrame으로 변환 후 CSV 파일로 저장하는 함수.\n",
    "    \n",
    "    Parameters:\n",
    "        json_file_path (str): JSON 파일 경로\n",
    "        output_csv_path (str): 저장할 CSV 파일 경로\n",
    "    \"\"\"\n",
    "    # JSON 파일 로드\n",
    "    with open(json_file_path, \"r\", encoding=\"utf-8\") as file:\n",
    "        data = json.load(file)\n",
    "\n",
    "    # DataFrame 변환\n",
    "    df = pd.DataFrame(data)\n",
    "\n",
    "    # 상담 텍스트(HS01, HS02, HS03만 합침) 추출\n",
    "    df[\"text\"] = df[\"talk\"].apply(lambda x: \" \".join([x[\"content\"].get(k, \"\") for k in [\"HS01\", \"HS02\", \"HS03\"]]).strip())\n",
    "\n",
    "    # 감정(E10~E69), 상황(S01~S13), 질병(D01~D02) 레이블 추출\n",
    "    df[\"emotion\"] = df[\"profile\"].apply(lambda x: x[\"emotion\"][\"type\"])  # 감정 ID (E10~E69)\n",
    "    df[\"situation\"] = df[\"profile\"].apply(lambda x: x[\"emotion\"][\"situation\"][0])  # 상황 ID (S01~S13)\n",
    "    df[\"disease\"] = df[\"profile\"].apply(lambda x: x[\"emotion\"][\"situation\"][1] if len(x[\"emotion\"][\"situation\"]) > 1 else \"D02\")  # 질병 ID (D01 or D02)\n",
    "\n",
    "    # 필요 없는 컬럼 제거\n",
    "    df = df[[\"text\", \"emotion\", \"situation\", \"disease\"]]\n",
    "\n",
    "    # CSV 저장\n",
    "    df.to_csv(output_csv_path, index=False, encoding=\"utf-8-sig\")\n",
    "    print(f\"🙏 변환 완료: {output_csv_path}\")\n",
    "\n",
    "# 🔹 두 개의 JSON 파일 변환 실행\n",
    "convert_json_to_csv(\"data/감성대화말뭉치(최종데이터)_Training.json\", \"data/train_dataset.csv\")\n",
    "convert_json_to_csv(\"data/감성대화말뭉치(최종데이터)_Validation.json\", \"data/test_dataset.csv\")\n"
   ]
  },
  {
   "cell_type": "code",
   "execution_count": null,
   "id": "59a2950f-bdcf-40b3-afb5-3ceec36a7fb3",
   "metadata": {},
   "outputs": [],
   "source": [
    "## 2. 데이터프레임 샘플 출력"
   ]
  },
  {
   "cell_type": "code",
   "execution_count": 8,
   "id": "0ce4dc7a-f877-44c7-9ec9-e6f036b7facd",
   "metadata": {},
   "outputs": [],
   "source": [
    "train_df = pd.read_csv('data/train_dataset.csv')\n",
    "test_df = pd.read_csv('data/test_dataset.csv')"
   ]
  },
  {
   "cell_type": "code",
   "execution_count": 10,
   "id": "daecd167-0319-4dc8-913d-98d2525088a0",
   "metadata": {},
   "outputs": [
    {
     "name": "stdout",
     "output_type": "stream",
     "text": [
      "                                                text emotion situation disease\n",
      "0  일은 왜 해도 해도 끝이 없을까? 화가 난다. 그냥 내가 해결하는 게 나아. 남들한...     E18       S06     D02\n",
      "1  이번 달에 또 급여가 깎였어! 물가는 오르는데 월급만 자꾸 깎이니까 너무 화가 나....     E18       S06     D02\n",
      "2  회사에 신입이 들어왔는데 말투가 거슬려. 그런 애를 매일 봐야 한다고 생각하니까 스...     E18       S06     D02\n",
      "3  직장에서 막내라는 이유로 나에게만 온갖 심부름을 시켜. 일도 많은 데 정말 분하고 ...     E18       S06     D02\n",
      "4  얼마 전 입사한 신입사원이 나를 무시하는 것 같아서 너무 화가 나. 상사인 나에게 ...     E18       S06     D02\n",
      "                                                text emotion situation disease\n",
      "0  이번 프로젝트에서 발표를 하는데 내가 실수하는 바람에 우리 팀이 감점을 받았어. 너...     E31       S06     D02\n",
      "1  회사에서 중요한 프로젝트를 혼자 하게 됐는데 솔직히 두렵고 무서워. 나에게 너무 크...     E31       S06     D02\n",
      "2  상사가 너무 무섭게 생겨서 친해지는 게 너무 두려워. 무섭게 생겼는데도 업무를 보려...     E31       S06     D02\n",
      "3  이번에 힘들게 들어간 첫 직장이거든. 첫 직장이라서 그런지 너무 긴장된다. 첫 직장...     E31       S06     D02\n",
      "4  직장에서 동료들이랑 관계가 안 좋아질까 봐 걱정돼. 내가 낯가림이 심해서 친해질 수...     E31       S06     D02\n"
     ]
    }
   ],
   "source": [
    "print(train_df.head())\n",
    "print(test_df.head())"
   ]
  },
  {
   "cell_type": "code",
   "execution_count": 12,
   "id": "3f94b220-626b-4c89-9697-3daecffc860e",
   "metadata": {},
   "outputs": [
    {
     "name": "stdout",
     "output_type": "stream",
     "text": [
      "<class 'pandas.core.frame.DataFrame'>\n",
      "RangeIndex: 51628 entries, 0 to 51627\n",
      "Data columns (total 4 columns):\n",
      " #   Column     Non-Null Count  Dtype \n",
      "---  ------     --------------  ----- \n",
      " 0   text       51628 non-null  object\n",
      " 1   emotion    51628 non-null  object\n",
      " 2   situation  51628 non-null  object\n",
      " 3   disease    51628 non-null  object\n",
      "dtypes: object(4)\n",
      "memory usage: 1.6+ MB\n",
      "None\n",
      "<class 'pandas.core.frame.DataFrame'>\n",
      "RangeIndex: 6640 entries, 0 to 6639\n",
      "Data columns (total 4 columns):\n",
      " #   Column     Non-Null Count  Dtype \n",
      "---  ------     --------------  ----- \n",
      " 0   text       6640 non-null   object\n",
      " 1   emotion    6640 non-null   object\n",
      " 2   situation  6640 non-null   object\n",
      " 3   disease    6640 non-null   object\n",
      "dtypes: object(4)\n",
      "memory usage: 207.6+ KB\n",
      "None\n"
     ]
    }
   ],
   "source": [
    "print(train_df.info())\n",
    "print(test_df.info())"
   ]
  },
  {
   "cell_type": "markdown",
   "id": "f0818579-eb63-4498-843e-3c64c6a9513f",
   "metadata": {},
   "source": [
    "## **3. 학습 데이터 전처리**"
   ]
  },
  {
   "cell_type": "code",
   "execution_count": 19,
   "id": "62734301-be28-4bee-9948-6de9fc06b27f",
   "metadata": {},
   "outputs": [],
   "source": [
    "import re\n",
    "import pandas as pd\n",
    "\n",
    "def preprocess_dataset(df, output_csv_path=None):\n",
    "    \"\"\"\n",
    "    데이터프레임을 전처리하는 함수 (특수문자 제거 및 ID 매핑)\n",
    "\n",
    "    Parameters:\n",
    "        df (pd.DataFrame): 전처리할 데이터프레임\n",
    "        output_csv_path (str, optional): 저장할 CSV 파일 경로 (기본값: None)\n",
    "\n",
    "    Returns:\n",
    "        pd.DataFrame: 전처리된 데이터프레임\n",
    "    \"\"\"\n",
    "    # 🔹 (1) 텍스트 정제: 특수문자 제거 및 공백 정리\n",
    "    def clean_text(text):\n",
    "        text = re.sub(r\"[^가-힣a-zA-Z0-9\\s]\", \"\", text)  # 한글, 영문, 숫자, 공백 제외 삭제\n",
    "        text = re.sub(r\"\\s+\", \" \", text).strip()  # 연속된 공백 제거\n",
    "        return text\n",
    "\n",
    "    df[\"text\"] = df[\"text\"].apply(clean_text)\n",
    "\n",
    "    # 🔹 (2) 감정, 상황, 질병 ID를 숫자로 변환\n",
    "    emotion_mapping = {e: idx for idx, e in enumerate(sorted(df[\"emotion\"].unique()))}\n",
    "    situation_mapping = {s: idx for idx, s in enumerate(sorted(df[\"situation\"].unique()))}\n",
    "    disease_mapping = {\"D01\": 0, \"D02\": 1}  # 질병 여부를 0/1로 변환\n",
    "\n",
    "    # 🔹 (3) 매핑 적용\n",
    "    df[\"emotion\"] = df[\"emotion\"].map(emotion_mapping)\n",
    "    df[\"situation\"] = df[\"situation\"].map(situation_mapping)\n",
    "    df[\"disease\"] = df[\"disease\"].map(disease_mapping)\n",
    "\n",
    "    # 🔹 (4) CSV 저장 (옵션)\n",
    "    if output_csv_path:\n",
    "        df.to_csv(output_csv_path, index=False, encoding=\"utf-8-sig\")\n",
    "        print(f\"🙏 데이터 전처리 완료: {output_csv_path}\")\n",
    "\n",
    "    return df\n"
   ]
  },
  {
   "cell_type": "code",
   "execution_count": 21,
   "id": "52d4e4a0-9199-45b0-8fae-ea8807044872",
   "metadata": {},
   "outputs": [
    {
     "name": "stdout",
     "output_type": "stream",
     "text": [
      "🙏 데이터 전처리 완료: data/pre_train_dataset.csv\n",
      "🙏 데이터 전처리 완료: data/pre_test_dataset.csv\n"
     ]
    }
   ],
   "source": [
    "# 데이터 로드\n",
    "train_df = pd.read_csv(\"data/train_dataset.csv\")\n",
    "test_df = pd.read_csv(\"data/test_dataset.csv\")\n",
    "\n",
    "# 전처리 실행 및 CSV 저장\n",
    "pre_train_df = preprocess_dataset(train_df, \"data/pre_train_dataset.csv\")\n",
    "pre_test_df = preprocess_dataset(test_df, \"data/pre_test_dataset.csv\")\n"
   ]
  }
 ],
 "metadata": {
  "kernelspec": {
   "display_name": "Python [conda env:base] *",
   "language": "python",
   "name": "conda-base-py"
  },
  "language_info": {
   "codemirror_mode": {
    "name": "ipython",
    "version": 3
   },
   "file_extension": ".py",
   "mimetype": "text/x-python",
   "name": "python",
   "nbconvert_exporter": "python",
   "pygments_lexer": "ipython3",
   "version": "3.12.7"
  }
 },
 "nbformat": 4,
 "nbformat_minor": 5
}
