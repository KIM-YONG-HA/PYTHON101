{
 "cells": [
  {
   "cell_type": "code",
   "execution_count": 3,
   "metadata": {
    "colab": {
     "base_uri": "https://localhost:8080/"
    },
    "executionInfo": {
     "elapsed": 22146,
     "status": "ok",
     "timestamp": 1742140088731,
     "user": {
      "displayName": "김용하",
      "userId": "08808827916255903945"
     },
     "user_tz": -540
    },
    "id": "FHFBPzWBef2F",
    "outputId": "d9b14e5b-b6bc-4d23-8296-7c168d7e9245"
   },
   "outputs": [
    {
     "name": "stdout",
     "output_type": "stream",
     "text": [
      "Mounted at /content/drive\n"
     ]
    }
   ],
   "source": [
    "import os\n",
    "from google.colab import drive\n",
    "\n",
    "# Google Drive 마운트\n",
    "drive.mount('/content/drive')\n",
    "\n",
    "# 작업 디렉토리 변경\n",
    "os.chdir('/content/drive/MyDrive/Colab Notebooks/')"
   ]
  },
  {
   "cell_type": "code",
   "execution_count": 2,
   "metadata": {
    "colab": {
     "base_uri": "https://localhost:8080/"
    },
    "executionInfo": {
     "elapsed": 2395,
     "status": "ok",
     "timestamp": 1742137488154,
     "user": {
      "displayName": "김용하",
      "userId": "08808827916255903945"
     },
     "user_tz": -540
    },
    "id": "RMBP58xAezS6",
    "outputId": "8f76076b-150e-4db3-f56d-8d23aa2fc101"
   },
   "outputs": [
    {
     "name": "stdout",
     "output_type": "stream",
     "text": [
      "✅ 변환 완료: data/250317_train_dataset.csv\n",
      "✅ 변환 완료: data/250317_test_dataset.csv\n"
     ]
    }
   ],
   "source": [
    "import numpy as np\n",
    "import json\n",
    "import pandas as pd\n",
    "\n",
    "def convert_json_to_csv(json_file_path, output_csv_path):\n",
    "\n",
    "    # JSON 파일 로드\n",
    "    with open(json_file_path, \"r\", encoding=\"utf-8\") as file:\n",
    "        data = json.load(file)\n",
    "\n",
    "    # DataFrame 변환\n",
    "    df = pd.DataFrame(data)\n",
    "\n",
    "    # 상담 텍스트(HS01, HS02, HS03만 합침) 추출\n",
    "    df[\"text\"] = df[\"talk\"].apply(lambda x: \" \".join([x[\"content\"].get(k, \"\") for k in [\"HS01\", \"HS02\", \"HS03\"]]).strip())\n",
    "    df[\"emotion\"] = df[\"profile\"].apply(lambda x: x[\"emotion\"][\"type\"])  # 감정 (E10~E69)\n",
    "\n",
    "    # 필요 없는 컬럼 제거\n",
    "    df = df[[\"text\", \"emotion\"]]\n",
    "\n",
    "    # CSV 저장\n",
    "    df.to_csv(output_csv_path, index=False, encoding=\"utf-8-sig\")\n",
    "    print(f\"✅ 변환 완료: {output_csv_path}\")\n",
    "\n",
    "\n",
    "# 🔹 두 개의 JSON 파일 변환 실행\n",
    "convert_json_to_csv(\"data/감성대화말뭉치(최종데이터)_Training.json\", \"data/250317_train_dataset.csv\")\n",
    "convert_json_to_csv(\"data/감성대화말뭉치(최종데이터)_Validation.json\", \"data/250317_test_dataset.csv\")\n"
   ]
  },
  {
   "cell_type": "code",
   "execution_count": 4,
   "metadata": {
    "executionInfo": {
     "elapsed": 389,
     "status": "ok",
     "timestamp": 1742137488585,
     "user": {
      "displayName": "김용하",
      "userId": "08808827916255903945"
     },
     "user_tz": -540
    },
    "id": "xn_CBvnce6rS"
   },
   "outputs": [],
   "source": [
    "train_df = pd.read_csv('data/250317_train_dataset.csv', encoding='utf-8-sig') # utf-8-sig??\n",
    "test_df = pd.read_csv('data/250317_test_dataset.csv', encoding='utf-8-sig')"
   ]
  },
  {
   "cell_type": "code",
   "execution_count": 6,
   "metadata": {
    "colab": {
     "base_uri": "https://localhost:8080/"
    },
    "executionInfo": {
     "elapsed": 17,
     "status": "ok",
     "timestamp": 1742137490448,
     "user": {
      "displayName": "김용하",
      "userId": "08808827916255903945"
     },
     "user_tz": -540
    },
    "id": "pL_AVAQ4e-8-",
    "outputId": "96e52325-ba77-42f8-b29e-28704ae2a3da"
   },
   "outputs": [
    {
     "name": "stdout",
     "output_type": "stream",
     "text": [
      "                                                text emotion\n",
      "0  일은 왜 해도 해도 끝이 없을까? 화가 난다. 그냥 내가 해결하는 게 나아. 남들한...     E18\n",
      "1  이번 달에 또 급여가 깎였어! 물가는 오르는데 월급만 자꾸 깎이니까 너무 화가 나....     E18\n",
      "2  회사에 신입이 들어왔는데 말투가 거슬려. 그런 애를 매일 봐야 한다고 생각하니까 스...     E18\n",
      "3  직장에서 막내라는 이유로 나에게만 온갖 심부름을 시켜. 일도 많은 데 정말 분하고 ...     E18\n",
      "4  얼마 전 입사한 신입사원이 나를 무시하는 것 같아서 너무 화가 나. 상사인 나에게 ...     E18\n",
      "                                                text emotion\n",
      "0  이번 프로젝트에서 발표를 하는데 내가 실수하는 바람에 우리 팀이 감점을 받았어. 너...     E31\n",
      "1  회사에서 중요한 프로젝트를 혼자 하게 됐는데 솔직히 두렵고 무서워. 나에게 너무 크...     E31\n",
      "2  상사가 너무 무섭게 생겨서 친해지는 게 너무 두려워. 무섭게 생겼는데도 업무를 보려...     E31\n",
      "3  이번에 힘들게 들어간 첫 직장이거든. 첫 직장이라서 그런지 너무 긴장된다. 첫 직장...     E31\n",
      "4  직장에서 동료들이랑 관계가 안 좋아질까 봐 걱정돼. 내가 낯가림이 심해서 친해질 수...     E31\n"
     ]
    }
   ],
   "source": [
    "print(train_df.head())\n",
    "print(test_df.head())"
   ]
  },
  {
   "cell_type": "code",
   "execution_count": 8,
   "metadata": {
    "executionInfo": {
     "elapsed": 1446,
     "status": "ok",
     "timestamp": 1742137529361,
     "user": {
      "displayName": "김용하",
      "userId": "08808827916255903945"
     },
     "user_tz": -540
    },
    "id": "GvmmLuzofPi4"
   },
   "outputs": [],
   "source": [
    "import re\n",
    "\n",
    "def clean_text(text):\n",
    "    text = re.sub(r\"[^가-힣a-zA-Z0-9\\s]\", \"\", text)  # 한글, 영어, 숫자, 공백만 유지\n",
    "    text = re.sub(r\"\\s+\", \" \", text).strip()  # 중복 공백 제거\n",
    "    return text\n",
    "\n",
    "train_df[\"text\"] = train_df[\"text\"].apply(clean_text)\n",
    "test_df[\"text\"] = test_df[\"text\"].apply(clean_text)\n"
   ]
  },
  {
   "cell_type": "code",
   "execution_count": 10,
   "metadata": {
    "colab": {
     "base_uri": "https://localhost:8080/"
    },
    "executionInfo": {
     "elapsed": 4153,
     "status": "ok",
     "timestamp": 1742137712210,
     "user": {
      "displayName": "김용하",
      "userId": "08808827916255903945"
     },
     "user_tz": -540
    },
    "id": "xJ4oQ8Qlf8lC",
    "outputId": "5bedffe7-2a90-469d-b358-9b9e26c09e15"
   },
   "outputs": [
    {
     "name": "stdout",
     "output_type": "stream",
     "text": [
      "Requirement already satisfied: konlpy in c:\\users\\kj\\anaconda3\\lib\\site-packages (0.6.0)\n",
      "Requirement already satisfied: JPype1>=0.7.0 in c:\\users\\kj\\anaconda3\\lib\\site-packages (from konlpy) (1.5.2)\n",
      "Requirement already satisfied: lxml>=4.1.0 in c:\\users\\kj\\anaconda3\\lib\\site-packages (from konlpy) (5.2.1)\n",
      "Requirement already satisfied: numpy>=1.6 in c:\\users\\kj\\anaconda3\\lib\\site-packages (from konlpy) (1.26.4)\n",
      "Requirement already satisfied: packaging in c:\\users\\kj\\anaconda3\\lib\\site-packages (from JPype1>=0.7.0->konlpy) (24.1)\n"
     ]
    }
   ],
   "source": [
    "!pip install konlpy\n"
   ]
  },
  {
   "cell_type": "code",
   "execution_count": 12,
   "metadata": {
    "colab": {
     "base_uri": "https://localhost:8080/"
    },
    "executionInfo": {
     "elapsed": 337241,
     "status": "ok",
     "timestamp": 1742138057734,
     "user": {
      "displayName": "김용하",
      "userId": "08808827916255903945"
     },
     "user_tz": -540
    },
    "id": "J4ldT1lRfPu0",
    "outputId": "6221bbba-d9b3-442f-b85a-57a6b0381c5c"
   },
   "outputs": [
    {
     "name": "stderr",
     "output_type": "stream",
     "text": [
      "100%|███████████████████████████████████████████████████████████████████████████| 51628/51628 [02:04<00:00, 414.00it/s]\n",
      "100%|█████████████████████████████████████████████████████████████████████████████| 6640/6640 [00:14<00:00, 466.65it/s]"
     ]
    },
    {
     "name": "stdout",
     "output_type": "stream",
     "text": [
      "✅ 형태소 분석 및 불용어 제거 완료!\n"
     ]
    },
    {
     "name": "stderr",
     "output_type": "stream",
     "text": [
      "\n"
     ]
    }
   ],
   "source": [
    "from konlpy.tag import Okt\n",
    "from tqdm import tqdm\n",
    "\n",
    "# ✅ 형태소 분석기 초기화\n",
    "okt = Okt()\n",
    "tqdm.pandas()  # 진행 상황 표시\n",
    "\n",
    "# ✅ 형태소 분석 및 불용어 제거 함수\n",
    "def preprocess_text_with_okt(text):\n",
    "    if not isinstance(text, str):  # NaN 값 처리\n",
    "        return \"\"\n",
    "\n",
    "    parsed_text = okt.pos(text)  # 형태소 분석\n",
    "\n",
    "    keywords = []\n",
    "    for word, tag in parsed_text:\n",
    "        if tag in [\"Noun\", \"Adjective\", \"Verb\"]:  # 명사, 형용사, 동사만 유지\n",
    "            keywords.append(word)\n",
    "\n",
    "    return \" \".join(keywords)  # 공백으로 연결하여 반환\n",
    "\n",
    "# ✅ 형태소 분석 적용\n",
    "train_df[\"text\"] = train_df[\"text\"].progress_apply(preprocess_text_with_okt)\n",
    "test_df[\"text\"] = test_df[\"text\"].progress_apply(preprocess_text_with_okt)\n",
    "\n",
    "print(\"✅ 형태소 분석 및 불용어 제거 완료!\")\n"
   ]
  },
  {
   "cell_type": "code",
   "execution_count": 13,
   "metadata": {
    "colab": {
     "base_uri": "https://localhost:8080/"
    },
    "executionInfo": {
     "elapsed": 1064,
     "status": "ok",
     "timestamp": 1742138062819,
     "user": {
      "displayName": "김용하",
      "userId": "08808827916255903945"
     },
     "user_tz": -540
    },
    "id": "2xjlIXGLgwVz",
    "outputId": "9debc3a1-f2b6-47ab-eb66-319a80be69f6"
   },
   "outputs": [
    {
     "name": "stdout",
     "output_type": "stream",
     "text": [
      "✅ 감정 라벨 개수: 60\n",
      "                                                text  emotion\n",
      "0  일 왜 해도 해도 끝 없을까 화가 난다 그냥 내 해결 하는 게 남 부담 주고 싶지도 않고        8\n",
      "1  이번 달 또 급여 깎였어 물가 오르는데 월급 자꾸 깎이니까 화가 나 최대한 지출 억...        8\n",
      "2  회사 신입 들어왔는데 말투 거슬려 그런 애 매일 봐야 한다고 생각 하니까 스트레스 ...        8\n",
      "3  직장 막내 이유 나 온갖 심부름 시켜 일도 많은 데 정말 분하고 섭섭해 직장 사람 ...        8\n",
      "4  얼마 전 입사 신입사원 나를 무시 하는 것 같아서 화가 나 상사 나 먼저 인사 하지...        8\n",
      "                                                text  emotion\n",
      "0  이번 프로젝트 발표 하는데 내 실수 하는 바람 우리 팀 감점 받았어 미안해 내 능력...       21\n",
      "1  회사 중요한 프로젝트 혼자 하게 됐는데 솔직히 두렵고 무서워 나 크게 느껴지는 중요...       21\n",
      "2  상사 무섭게 생겨서 친해지는 게 두려워 무섭게 생겼는데도 업무 보려면 친해져야 할 ...       21\n",
      "3  이번 힘들게 들어간 첫 직장 거든 첫 직장 그런지 긴장 된다 첫 직장 잘 적응 할 ...       21\n",
      "4  직장 동료 관계 안 좋아질까 봐 걱정 돼 내 낯가림 심해서 친해질 수 있을지 모르겠...       21\n"
     ]
    }
   ],
   "source": [
    "from sklearn.preprocessing import LabelEncoder\n",
    "\n",
    "# ✅ 감정 라벨 인코더 초기화\n",
    "emotion_encoder = LabelEncoder()\n",
    "\n",
    "# ✅ 감정(`emotion`)을 숫자로 변환\n",
    "train_df[\"emotion\"] = emotion_encoder.fit_transform(train_df[\"emotion\"])\n",
    "test_df[\"emotion\"] = emotion_encoder.transform(test_df[\"emotion\"])\n",
    "\n",
    "# ✅ 변환된 감정 라벨 개수 확인\n",
    "print(\"✅ 감정 라벨 개수:\", len(emotion_encoder.classes_))  # 60개여야 정상\n",
    "\n",
    "# ✅ 변환된 데이터 확인\n",
    "print(train_df.head())\n",
    "print(test_df.head())\n"
   ]
  },
  {
   "cell_type": "markdown",
   "metadata": {
    "id": "k79gpHszgwCg"
   },
   "source": []
  },
  {
   "cell_type": "code",
   "execution_count": 14,
   "metadata": {
    "colab": {
     "base_uri": "https://localhost:8080/",
     "height": 513
    },
    "executionInfo": {
     "elapsed": 1309,
     "status": "ok",
     "timestamp": 1742138204752,
     "user": {
      "displayName": "김용하",
      "userId": "08808827916255903945"
     },
     "user_tz": -540
    },
    "id": "ltWfD-MTfP4M",
    "outputId": "ca56c62f-40f3-4a50-9440-a075c37a43d8"
   },
   "outputs": [
    {
     "data": {
      "image/png": "[encoded data removed]",
      "text/plain": [
       "<Figure size 1200x600 with 1 Axes>"
      ]
     },
     "metadata": {},
     "output_type": "display_data"
    }
   ],
   "source": [
    "import matplotlib.pyplot as plt\n",
    "\n",
    "# 감정 데이터 개수 확인\n",
    "emotion_counts = train_df[\"emotion\"].value_counts().sort_index()\n",
    "\n",
    "# 감정 데이터 분포 시각화 (plt 사용)\n",
    "plt.figure(figsize=(12, 6))\n",
    "plt.bar(emotion_counts.index, emotion_counts.values, color='#fa1')\n",
    "plt.xlabel(\"Emotion Label (Encoded)\")\n",
    "plt.ylabel(\"Sample Count\")\n",
    "plt.title(\"Emotion Data Distribution (Train Set)\")\n",
    "plt.xticks(rotation=90)\n",
    "plt.grid(axis='y', linestyle='--', alpha=0.7)  # 가독성을 위한 그리드 추가\n",
    "plt.show()\n"
   ]
  },
  {
   "cell_type": "code",
   "execution_count": 15,
   "metadata": {
    "colab": {
     "base_uri": "https://localhost:8080/"
    },
    "executionInfo": {
     "elapsed": 979,
     "status": "ok",
     "timestamp": 1742138293656,
     "user": {
      "displayName": "김용하",
      "userId": "08808827916255903945"
     },
     "user_tz": -540
    },
    "id": "ioN5jJoBfQBz",
    "outputId": "e7b91487-75dc-442d-f687-72685c6af603"
   },
   "outputs": [
    {
     "name": "stdout",
     "output_type": "stream",
     "text": [
      "✅ 전처리된 데이터 저장 완료!\n"
     ]
    }
   ],
   "source": [
    "# ✅ 전처리된 데이터 저장\n",
    "train_df.to_csv(\"data/250317_train_emotion.csv\", index=False, encoding=\"utf-8-sig\")\n",
    "test_df.to_csv(\"data/250317_test_emotion.csv\", index=False, encoding=\"utf-8-sig\")\n",
    "\n",
    "print(\"✅ 전처리된 데이터 저장 완료!\")\n"
   ]
  },
  {
   "cell_type": "code",
   "execution_count": 18,
   "metadata": {
    "executionInfo": {
     "elapsed": 3476,
     "status": "ok",
     "timestamp": 1742140144026,
     "user": {
      "displayName": "김용하",
      "userId": "08808827916255903945"
     },
     "user_tz": -540
    },
    "id": "1IXEKZeRibuC"
   },
   "outputs": [],
   "source": [
    "from transformers import BertModel\n",
    "import torch\n",
    "import torch.nn as nn\n",
    "\n",
    "class KoBERTEmotion(nn.Module):\n",
    "    def __init__(self, model_name, num_emotions, dropout_prob=0.1):\n",
    "        super(KoBERTEmotion, self).__init__()\n",
    "\n",
    "        # KoBERT 모델 로드\n",
    "        self.bert = BertModel.from_pretrained(model_name)\n",
    "\n",
    "        # 드롭아웃 적용\n",
    "        self.dropout = nn.Dropout(dropout_prob)\n",
    "\n",
    "        # 감정 분류를 위한 Fully Connected Layer\n",
    "        self.fc = nn.Linear(768, 256)  # BERT의 출력 크기(768) → 256차원\n",
    "        self.relu = nn.ReLU()\n",
    "\n",
    "        # 최종 감정 예측 레이어\n",
    "        self.emotion_classifier = nn.Linear(256, num_emotions)\n",
    "\n",
    "    def forward(self, input_ids, attention_mask, token_type_ids):\n",
    "        # BERT 모델 Forward\n",
    "        outputs = self.bert(input_ids=input_ids, attention_mask=attention_mask, token_type_ids=token_type_ids)\n",
    "\n",
    "        # CLS 토큰의 hidden state 활용 (batch_size, 768)\n",
    "        cls_output = outputs.last_hidden_state[:, 0, :]\n",
    "\n",
    "        # FC Layer 적용 (ReLU + Dropout)\n",
    "        x = self.fc(cls_output)\n",
    "        x = self.relu(x)\n",
    "        x = self.dropout(x)\n",
    "\n",
    "        # 감정 예측\n",
    "        emotion_logits = self.emotion_classifier(x)\n",
    "\n",
    "        return emotion_logits\n"
   ]
  },
  {
   "cell_type": "code",
   "execution_count": 4,
   "metadata": {
    "colab": {
     "base_uri": "https://localhost:8080/"
    },
    "executionInfo": {
     "elapsed": 3254,
     "status": "ok",
     "timestamp": 1742140102319,
     "user": {
      "displayName": "김용하",
      "userId": "08808827916255903945"
     },
     "user_tz": -540
    },
    "id": "5de53GLwibWJ",
    "outputId": "e26c42e5-1d05-4bff-ceef-23503f737b42"
   },
   "outputs": [
    {
     "name": "stdout",
     "output_type": "stream",
     "text": [
      "✅ 데이터 로드 완료!\n",
      "                                                text  emotion\n",
      "0  일 왜 해도 해도 끝 없을까 화가 난다 그냥 내 해결 하는 게 남 부담 주고 싶지도 않고        8\n",
      "1  이번 달 또 급여 깎였어 물가 오르는데 월급 자꾸 깎이니까 화가 나 최대한 지출 억...        8\n",
      "2  회사 신입 들어왔는데 말투 거슬려 그런 애 매일 봐야 한다고 생각 하니까 스트레스 ...        8\n",
      "3  직장 막내 이유 나 온갖 심부름 시켜 일도 많은 데 정말 분하고 섭섭해 직장 사람 ...        8\n",
      "4  얼마 전 입사 신입사원 나를 무시 하는 것 같아서 화가 나 상사 나 먼저 인사 하지...        8\n"
     ]
    }
   ],
   "source": [
    "import pandas as pd\n",
    "train_df = pd.read_csv(\"data/250317_train_emotion.csv\", encoding=\"utf-8-sig\")\n",
    "test_df = pd.read_csv(\"data/250317_test_emotion.csv\",  encoding=\"utf-8-sig\")\n",
    "\n",
    "print(\"✅ 데이터 로드 완료!\")\n",
    "print(train_df.head())  # 데이터 샘플 확인"
   ]
  },
  {
   "cell_type": "code",
   "execution_count": 6,
   "metadata": {
    "colab": {
     "base_uri": "https://localhost:8080/",
     "height": 352,
     "referenced_widgets": [
      "aa4c765b36e04dcc9c97aa86f3d8c004",
      "86d8aaf7ac714231999bc65a29695beb",
      "d50a77b8a9f1404fb687ad043ac4db34",
      "55db454c0f9f4eb9b18a0c25414f92a0",
      "cd1d0bb89dab4d81a3d10f339ac33c5d",
      "0fbd03251d2a4c3baeee09516dd4d34b",
      "24db37a8c28947aab66b61d0efbbbf4b",
      "dcf4c5e6cf354667ba90fd5b717a4710",
      "6d4181c8f13848b9846ff6416b75e610",
      "8a51dfbdefc74ad8b8b1e1e67579b055",
      "4ddd68f93c54407f9b21c681de097909",
      "883693c42f1d46b9b40d6130b0163e26",
      "821be6fff4694db791af0f3bb98d7440",
      "536f00a27a734a0a88b601b8b17fef97",
      "467f7c1d1a274265b92b36cb945e6271",
      "c8bc66fc4e03482ba5883e4e0cf691e3",
      "1792c02e174c46e1af4e243359a193f8",
      "b9fc3c0c3d194ceab9f9cd34ff941390",
      "bfdd713240b54a6cac1ec299a45377ac",
      "2806f21514124c8783171038bfb0fdf2",
      "cd113c19a8a741c5b05f5adc0ab18030",
      "0c9a1db7b5bb478f8549fad88cbb177f",
      "defa539c832148d79d69c2c5cac56532",
      "05ff6b981d0f4659baee06ad7da4a7ff",
      "4940f3d886fb429f9e62c4a65507d0a8",
      "37f07fbdba0747bd953893a1bd8d5e28",
      "91be632dbf80465abbd580e19a6ceb40",
      "300df635aec143809910043771151e85",
      "cf5b037a081f497d978cf9c0d4503f70",
      "e3f9e41c069d4153953e613d4b0ea0c5",
      "b16456c6f65443c299f09607c08806c5",
      "a7043eb05c4d474ab5815cdb28e17bc2",
      "fb9a1d6e631a4004bb6db87a3b22a677",
      "e85220cbbe5a4be58181d4be788a8b92",
      "ef02a2db32bc4a30b1bab5e2f74d4f06",
      "846f8c2637454b2e9eafd0b046e76759",
      "ffd90a8212db413e8efa3b6cba095691",
      "399b29a95f0442c4834b6cf442d7df4a",
      "91c59e078e88471d8a344c4788a24c37",
      "ad5e8b6cd51d4c3396a3df81f4abf030",
      "13ca30c086f5470186a5ba318ca0d53a",
      "fd8d155b50514fceada1aea71031ca81",
      "89c9237b36994f20b7e51c2aa295af62",
      "2c6ba5116446400abd10f2b4be2f3acf"
     ]
    },
    "executionInfo": {
     "elapsed": 14345,
     "status": "ok",
     "timestamp": 1742140119609,
     "user": {
      "displayName": "김용하",
      "userId": "08808827916255903945"
     },
     "user_tz": -540
    },
    "id": "EWOGRUmMi2vs",
    "outputId": "2bfff0b5-37b6-4d5a-f883-134f08b89505"
   },
   "outputs": [
    {
     "name": "stdout",
     "output_type": "stream",
     "text": [
      "✅ KoBERT 토크나이저 로드 완료!\n"
     ]
    }
   ],
   "source": [
    "from transformers import AutoTokenizer\n",
    "\n",
    "# ✅ KoBERT 토크나이저 로드\n",
    "tokenizer = AutoTokenizer.from_pretrained(\"monologg/kobert\", trust_remote_code=True)\n",
    "\n",
    "print(\"✅ KoBERT 토크나이저 로드 완료!\")\n"
   ]
  },
  {
   "cell_type": "code",
   "execution_count": 8,
   "metadata": {
    "colab": {
     "base_uri": "https://localhost:8080/"
    },
    "executionInfo": {
     "elapsed": 22,
     "status": "ok",
     "timestamp": 1742140121155,
     "user": {
      "displayName": "김용하",
      "userId": "08808827916255903945"
     },
     "user_tz": -540
    },
    "id": "86O9J1wni2-c",
    "outputId": "f04152dc-7df7-4ec0-e809-324ecd33d941"
   },
   "outputs": [
    {
     "name": "stdout",
     "output_type": "stream",
     "text": [
      "✅ PyTorch Dataset 정의 완료!\n"
     ]
    }
   ],
   "source": [
    "import torch\n",
    "from torch.utils.data import Dataset\n",
    "\n",
    "# ✅ 감정 분류 데이터셋 정의\n",
    "class EmotionDataset(Dataset):\n",
    "    def __init__(self, texts, emotions, tokenizer, max_length=128):\n",
    "        self.texts = texts\n",
    "        self.emotions = list(map(int, emotions))  # 🔹 문자열 → 정수 변환\n",
    "        self.tokenizer = tokenizer\n",
    "        self.max_length = max_length\n",
    "\n",
    "    def __len__(self):\n",
    "        return len(self.texts)\n",
    "\n",
    "    def __getitem__(self, idx):\n",
    "        encoding = self.tokenizer(\n",
    "            self.texts[idx],\n",
    "            truncation=True,\n",
    "            padding=\"max_length\",\n",
    "            max_length=self.max_length,\n",
    "            return_tensors=\"pt\"\n",
    "        )\n",
    "\n",
    "        input_ids = encoding[\"input_ids\"].squeeze(0)\n",
    "        attention_mask = encoding[\"attention_mask\"].squeeze(0)\n",
    "        token_type_ids = encoding[\"token_type_ids\"].squeeze(0)\n",
    "\n",
    "        return {\n",
    "            \"input_ids\": input_ids,\n",
    "            \"attention_mask\": attention_mask,\n",
    "            \"token_type_ids\": token_type_ids,\n",
    "            \"emotion\": torch.tensor(self.emotions[idx], dtype=torch.long),  # ✅ 변환된 정수형 사용\n",
    "        }\n",
    "\n",
    "\n",
    "print(\"✅ PyTorch Dataset 정의 완료!\")\n"
   ]
  },
  {
   "cell_type": "code",
   "execution_count": 10,
   "metadata": {
    "colab": {
     "base_uri": "https://localhost:8080/"
    },
    "executionInfo": {
     "elapsed": 282,
     "status": "ok",
     "timestamp": 1742140124166,
     "user": {
      "displayName": "김용하",
      "userId": "08808827916255903945"
     },
     "user_tz": -540
    },
    "id": "2TuBlnjZmsnr",
    "outputId": "9454c2a6-f8ca-4bb3-da5e-8fc64a61d48d"
   },
   "outputs": [
    {
     "name": "stdout",
     "output_type": "stream",
     "text": [
      "✅ Dataset 생성 완료!\n"
     ]
    }
   ],
   "source": [
    "import pandas as pd\n",
    "\n",
    "# ✅ 전처리된 감정 데이터 로드\n",
    "train_df = pd.read_csv(\"data/250317_train_emotion.csv\", encoding=\"utf-8-sig\")\n",
    "test_df = pd.read_csv(\"data/250317_test_emotion.csv\", encoding=\"utf-8-sig\")\n",
    "\n",
    "# ✅ Dataset 생성\n",
    "train_dataset = EmotionDataset(\n",
    "    train_df[\"text\"].tolist(),\n",
    "    train_df[\"emotion\"].tolist(),\n",
    "    tokenizer\n",
    ")\n",
    "\n",
    "test_dataset = EmotionDataset(\n",
    "    test_df[\"text\"].tolist(),\n",
    "    test_df[\"emotion\"].tolist(),\n",
    "    tokenizer\n",
    ")\n",
    "\n",
    "print(\"✅ Dataset 생성 완료!\")\n"
   ]
  },
  {
   "cell_type": "code",
   "execution_count": 12,
   "metadata": {
    "colab": {
     "base_uri": "https://localhost:8080/"
    },
    "executionInfo": {
     "elapsed": 8,
     "status": "ok",
     "timestamp": 1742140127104,
     "user": {
      "displayName": "김용하",
      "userId": "08808827916255903945"
     },
     "user_tz": -540
    },
    "id": "WvlkW-pRlS_t",
    "outputId": "74b9ce30-3923-4be8-ce9a-2d89c58ab700"
   },
   "outputs": [
    {
     "name": "stdout",
     "output_type": "stream",
     "text": [
      "✅ DataLoader 생성 완료!\n"
     ]
    }
   ],
   "source": [
    "from torch.utils.data import DataLoader\n",
    "\n",
    "# ✅ DataLoader 생성\n",
    "train_loader = DataLoader(train_dataset, batch_size=8, shuffle=True)\n",
    "test_loader = DataLoader(test_dataset, batch_size=8, shuffle=False)\n",
    "\n",
    "print(\"✅ DataLoader 생성 완료!\")\n"
   ]
  },
  {
   "cell_type": "code",
   "execution_count": 14,
   "metadata": {
    "colab": {
     "base_uri": "https://localhost:8080/"
    },
    "executionInfo": {
     "elapsed": 7,
     "status": "ok",
     "timestamp": 1742140131908,
     "user": {
      "displayName": "김용하",
      "userId": "08808827916255903945"
     },
     "user_tz": -540
    },
    "id": "WOp3YLH1jKzW",
    "outputId": "d8d4cb9c-80ef-400d-d41f-2190cb573d11"
   },
   "outputs": [
    {
     "name": "stdout",
     "output_type": "stream",
     "text": [
      "✅ Using device: cuda\n"
     ]
    }
   ],
   "source": [
    "import torch\n",
    "\n",
    "# ✅ GPU 사용 가능하면 GPU로 설정\n",
    "device = torch.device(\"cuda\" if torch.cuda.is_available() else \"cpu\")\n",
    "\n",
    "print(f\"✅ Using device: {device}\")\n"
   ]
  },
  {
   "cell_type": "code",
   "execution_count": 28,
   "metadata": {
    "colab": {
     "base_uri": "https://localhost:8080/",
     "height": 100,
     "referenced_widgets": [
      "0b68bc073ef74878801861110b27a460",
      "704b663c640b495eb0274f04e1ec328a",
      "2824a5eba567453ba9597308990ea6e1",
      "45fc1e9ecc75463784c0a910a2773caf",
      "c3f63a2d8c854b5085119c1650c7513c",
      "8ce404a9c8b44911aa2ed772da05c0a0",
      "8be071bb9c15420b86965d9cb4b69523",
      "08a7672a20f647e6bd2904e3775c9572",
      "29b1e37828ff4bb9b86ccbd66c52a47b",
      "1e7e05eb76154731b1d9d97d08b8277f",
      "307b532ab97a41978b10794c2fbe0ec3",
      "23b5f678cfd54e178fc9d16d5cc2874f",
      "52476e4ecd534899bbd6c58ec22f6aa0",
      "5784f9ac6ec04a62aaa757248af5ee9f",
      "ee9c65ef20654895a59e539a4e463da7",
      "ceb6266c71844f9c92e7fd2ff7a71de6",
      "7c950fc4665d4185a0c9df3091df4d33",
      "1c02cd9ffbef4351b39977c762967b39",
      "e51d6c68251643b485869f9e1e6fd04e",
      "b86f8f1d4d9048bba9e717f09f84fa85",
      "762b74fc28d9421d90b6c87e9dbdf7ed",
      "aca72c22f4ba46c4abaa8cf796b11c77"
     ]
    },
    "executionInfo": {
     "elapsed": 3242,
     "status": "ok",
     "timestamp": 1742140150473,
     "user": {
      "displayName": "김용하",
      "userId": "08808827916255903945"
     },
     "user_tz": -540
    },
    "id": "LrWC-KvRjU8u",
    "outputId": "2e3ff5fa-1ef4-494f-b9f5-6cd72d9138c1"
   },
   "outputs": [
    {
     "name": "stdout",
     "output_type": "stream",
     "text": [
      "✅ KoBERT 모델 초기화 완료!\n"
     ]
    }
   ],
   "source": [
    "# ✅ KoBERT 감정 분류 모델 불러오기\n",
    "num_emotions = len(train_df[\"emotion\"].unique())  # 감정 개수 (60개)\n",
    "\n",
    "model = KoBERTEmotion(\n",
    "    model_name=\"monologg/kobert\",\n",
    "    num_emotions=num_emotions,\n",
    "    dropout_prob=0.1\n",
    ").to(device)\n",
    "\n",
    "print(\"✅ KoBERT 모델 초기화 완료!\")\n"
   ]
  },
  {
   "cell_type": "code",
   "execution_count": 30,
   "metadata": {
    "colab": {
     "base_uri": "https://localhost:8080/"
    },
    "executionInfo": {
     "elapsed": 8,
     "status": "ok",
     "timestamp": 1742140153286,
     "user": {
      "displayName": "김용하",
      "userId": "08808827916255903945"
     },
     "user_tz": -540
    },
    "id": "8RejHfY7jaJJ",
    "outputId": "08ec4b0e-829c-449b-834b-5e103d20158c"
   },
   "outputs": [
    {
     "name": "stdout",
     "output_type": "stream",
     "text": [
      "✅ 손실 함수 및 옵티마이저 설정 완료!\n"
     ]
    }
   ],
   "source": [
    "from torch.optim import AdamW\n",
    "import torch.nn as nn\n",
    "\n",
    "# ✅ 손실 함수 (CrossEntropyLoss)\n",
    "criterion = nn.CrossEntropyLoss()\n",
    "\n",
    "# ✅ 옵티마이저 (AdamW)\n",
    "optimizer = AdamW(model.parameters(), lr=1e-5, eps=1e-8)\n",
    "\n",
    "print(\"✅ 손실 함수 및 옵티마이저 설정 완료!\")\n"
   ]
  },
  {
   "cell_type": "code",
   "execution_count": 32,
   "metadata": {
    "colab": {
     "base_uri": "https://localhost:8080/"
    },
    "id": "QXEXZdsqkVEo",
    "outputId": "fd5d5429-aa04-4742-8a89-246817e12c59"
   },
   "outputs": [
    {
     "name": "stdout",
     "output_type": "stream",
     "text": [
      "\n",
      "🔥 Epoch 1/30\n"
     ]
    },
    {
     "name": "stderr",
     "output_type": "stream",
     "text": [
      "Training Epoch 1: 100%|██████████████████████████████| 6454/6454 [18:27<00:00,  5.83it/s, Loss=0.4558, Accuracy=0.1459]\n",
      "Validating Epoch 1: 100%|██████████████████████████████| 830/830 [00:40<00:00, 20.57it/s, Loss=0.3641, Accuracy=0.3498]\n"
     ]
    },
    {
     "name": "stdout",
     "output_type": "stream",
     "text": [
      "📉 Epoch 1/30 - Loss: 2.9129 | Accuracy: 0.3498 | Time: 1147.58 sec\n",
      "✅ Best model & history saved!\n",
      "\n",
      "🔥 Epoch 2/30\n"
     ]
    },
    {
     "name": "stderr",
     "output_type": "stream",
     "text": [
      "Training Epoch 2: 100%|██████████████████████████████| 6454/6454 [18:25<00:00,  5.84it/s, Loss=0.3542, Accuracy=0.3328]\n",
      "Validating Epoch 2: 100%|██████████████████████████████| 830/830 [00:40<00:00, 20.47it/s, Loss=0.3091, Accuracy=0.4014]\n"
     ]
    },
    {
     "name": "stdout",
     "output_type": "stream",
     "text": [
      "📉 Epoch 2/30 - Loss: 2.4732 | Accuracy: 0.4014 | Time: 1146.11 sec\n",
      "✅ Best model & history saved!\n",
      "\n",
      "🔥 Epoch 3/30\n"
     ]
    },
    {
     "name": "stderr",
     "output_type": "stream",
     "text": [
      "Training Epoch 3: 100%|██████████████████████████████| 6454/6454 [18:26<00:00,  5.83it/s, Loss=0.3124, Accuracy=0.3966]\n",
      "Validating Epoch 3: 100%|██████████████████████████████| 830/830 [00:41<00:00, 20.13it/s, Loss=0.2833, Accuracy=0.4381]\n"
     ]
    },
    {
     "name": "stdout",
     "output_type": "stream",
     "text": [
      "📉 Epoch 3/30 - Loss: 2.2667 | Accuracy: 0.4381 | Time: 1147.36 sec\n",
      "✅ Best model & history saved!\n",
      "\n",
      "🔥 Epoch 4/30\n"
     ]
    },
    {
     "name": "stderr",
     "output_type": "stream",
     "text": [
      "Training Epoch 4: 100%|██████████████████████████████| 6454/6454 [18:21<00:00,  5.86it/s, Loss=0.2842, Accuracy=0.4403]\n",
      "Validating Epoch 4: 100%|██████████████████████████████| 830/830 [00:40<00:00, 20.51it/s, Loss=0.2732, Accuracy=0.4483]\n"
     ]
    },
    {
     "name": "stdout",
     "output_type": "stream",
     "text": [
      "📉 Epoch 4/30 - Loss: 2.1859 | Accuracy: 0.4483 | Time: 1141.93 sec\n",
      "✅ Best model & history saved!\n",
      "\n",
      "🔥 Epoch 5/30\n"
     ]
    },
    {
     "name": "stderr",
     "output_type": "stream",
     "text": [
      "Training Epoch 5: 100%|██████████████████████████████| 6454/6454 [21:02<00:00,  5.11it/s, Loss=0.2596, Accuracy=0.4808]\n",
      "Validating Epoch 5: 100%|██████████████████████████████| 830/830 [00:41<00:00, 20.07it/s, Loss=0.2585, Accuracy=0.4711]\n"
     ]
    },
    {
     "name": "stdout",
     "output_type": "stream",
     "text": [
      "📉 Epoch 5/30 - Loss: 2.0681 | Accuracy: 0.4711 | Time: 1303.67 sec\n",
      "✅ Best model & history saved!\n",
      "\n",
      "🔥 Epoch 6/30\n"
     ]
    },
    {
     "name": "stderr",
     "output_type": "stream",
     "text": [
      "Training Epoch 6: 100%|██████████████████████████████| 6454/6454 [18:31<00:00,  5.81it/s, Loss=0.2345, Accuracy=0.5289]\n",
      "Validating Epoch 6: 100%|██████████████████████████████| 830/830 [00:42<00:00, 19.54it/s, Loss=0.2545, Accuracy=0.4965]\n"
     ]
    },
    {
     "name": "stdout",
     "output_type": "stream",
     "text": [
      "📉 Epoch 6/30 - Loss: 2.0356 | Accuracy: 0.4965 | Time: 1153.73 sec\n",
      "✅ Best model & history saved!\n",
      "\n",
      "🔥 Epoch 7/30\n"
     ]
    },
    {
     "name": "stderr",
     "output_type": "stream",
     "text": [
      "Training Epoch 7: 100%|██████████████████████████████| 6454/6454 [18:43<00:00,  5.75it/s, Loss=0.2107, Accuracy=0.5709]\n",
      "Validating Epoch 7: 100%|██████████████████████████████| 830/830 [00:40<00:00, 20.51it/s, Loss=0.2561, Accuracy=0.5014]\n"
     ]
    },
    {
     "name": "stdout",
     "output_type": "stream",
     "text": [
      "📉 Epoch 7/30 - Loss: 2.0488 | Accuracy: 0.5014 | Time: 1163.55 sec\n",
      "\n",
      "🔥 Epoch 8/30\n"
     ]
    },
    {
     "name": "stderr",
     "output_type": "stream",
     "text": [
      "Training Epoch 8: 100%|██████████████████████████████| 6454/6454 [18:16<00:00,  5.88it/s, Loss=0.1857, Accuracy=0.6211]\n",
      "Validating Epoch 8: 100%|██████████████████████████████| 830/830 [00:40<00:00, 20.63it/s, Loss=0.2530, Accuracy=0.5123]\n"
     ]
    },
    {
     "name": "stdout",
     "output_type": "stream",
     "text": [
      "📉 Epoch 8/30 - Loss: 2.0237 | Accuracy: 0.5123 | Time: 1137.17 sec\n",
      "✅ Best model & history saved!\n",
      "\n",
      "🔥 Epoch 9/30\n"
     ]
    },
    {
     "name": "stderr",
     "output_type": "stream",
     "text": [
      "Training Epoch 9: 100%|██████████████████████████████| 6454/6454 [18:18<00:00,  5.87it/s, Loss=0.1622, Accuracy=0.6648]\n",
      "Validating Epoch 9: 100%|██████████████████████████████| 830/830 [00:39<00:00, 20.97it/s, Loss=0.2502, Accuracy=0.5367]\n"
     ]
    },
    {
     "name": "stdout",
     "output_type": "stream",
     "text": [
      "📉 Epoch 9/30 - Loss: 2.0014 | Accuracy: 0.5367 | Time: 1138.38 sec\n",
      "✅ Best model & history saved!\n",
      "\n",
      "🔥 Epoch 10/30\n"
     ]
    },
    {
     "name": "stderr",
     "output_type": "stream",
     "text": [
      "Training Epoch 10: 100%|█████████████████████████████| 6454/6454 [19:16<00:00,  5.58it/s, Loss=0.1396, Accuracy=0.7102]\n",
      "Validating Epoch 10: 100%|█████████████████████████████| 830/830 [01:20<00:00, 10.34it/s, Loss=0.2562, Accuracy=0.5456]\n"
     ]
    },
    {
     "name": "stdout",
     "output_type": "stream",
     "text": [
      "📉 Epoch 10/30 - Loss: 2.0495 | Accuracy: 0.5456 | Time: 1236.37 sec\n",
      "\n",
      "🔥 Epoch 11/30\n"
     ]
    },
    {
     "name": "stderr",
     "output_type": "stream",
     "text": [
      "Training Epoch 11: 100%|█████████████████████████████| 6454/6454 [21:18<00:00,  5.05it/s, Loss=0.1187, Accuracy=0.7519]\n",
      "Validating Epoch 11: 100%|█████████████████████████████| 830/830 [00:40<00:00, 20.25it/s, Loss=0.2566, Accuracy=0.5560]\n"
     ]
    },
    {
     "name": "stdout",
     "output_type": "stream",
     "text": [
      "📉 Epoch 11/30 - Loss: 2.0525 | Accuracy: 0.5560 | Time: 1319.92 sec\n",
      "\n",
      "🔥 Epoch 12/30\n"
     ]
    },
    {
     "name": "stderr",
     "output_type": "stream",
     "text": [
      "Training Epoch 12: 100%|█████████████████████████████| 6454/6454 [18:18<00:00,  5.87it/s, Loss=0.1008, Accuracy=0.7881]\n",
      "Validating Epoch 12: 100%|█████████████████████████████| 830/830 [00:39<00:00, 21.06it/s, Loss=0.2608, Accuracy=0.5633]\n"
     ]
    },
    {
     "name": "stdout",
     "output_type": "stream",
     "text": [
      "📉 Epoch 12/30 - Loss: 2.0868 | Accuracy: 0.5633 | Time: 1138.23 sec\n",
      "⏹️ Early Stopping Triggered! Training Stopped.\n",
      "🎉 Training completed! Final model & history saved.\n"
     ]
    }
   ],
   "source": [
    "import time\n",
    "from tqdm import tqdm\n",
    "from sklearn.metrics import accuracy_score, f1_score\n",
    "import torch\n",
    "\n",
    "# ✅ 학습 관련 변수 초기화\n",
    "num_epochs = 30\n",
    "best_loss = float(\"inf\")\n",
    "history = {\n",
    "    \"train_loss\": [], \"val_loss\": [],\n",
    "    \"train_acc\": [], \"val_acc\": []\n",
    "}\n",
    "\n",
    "# ✅ Early Stopping 설정\n",
    "early_stopping_patience = 3\n",
    "no_improve_count = 0\n",
    "\n",
    "for epoch in range(num_epochs):\n",
    "    start_time = time.time()\n",
    "    print(f\"\\n🔥 Epoch {epoch + 1}/{num_epochs}\")\n",
    "\n",
    "    # 🔹 Training 단계\n",
    "    model.train()\n",
    "    train_loss = 0\n",
    "    correct_emotions, total_samples = 0, 0\n",
    "\n",
    "    train_iterator = tqdm(train_loader, desc=f\"Training Epoch {epoch + 1}\", dynamic_ncols=True)\n",
    "\n",
    "    for batch in train_iterator:\n",
    "        input_ids = batch[\"input_ids\"].to(device)\n",
    "        attention_mask = batch[\"attention_mask\"].to(device)\n",
    "        token_type_ids = batch[\"token_type_ids\"].to(device)\n",
    "        labels = batch[\"emotion\"].to(device)\n",
    "\n",
    "        optimizer.zero_grad()\n",
    "        logits = model(input_ids, attention_mask, token_type_ids)\n",
    "\n",
    "        loss = criterion(logits, labels)\n",
    "        loss.backward()\n",
    "        optimizer.step()\n",
    "\n",
    "        train_loss += loss.item()\n",
    "\n",
    "        # 정확도 계산\n",
    "        preds = torch.argmax(logits, dim=1)\n",
    "        correct_emotions += torch.sum(preds == labels).item()\n",
    "        total_samples += labels.size(0)\n",
    "\n",
    "        # 🔹 tqdm 한 줄 갱신 (값 형식 오류 수정)\n",
    "        train_iterator.set_postfix({\n",
    "            \"Loss\": f\"{train_loss / (total_samples + 1e-8):.4f}\",\n",
    "            \"Accuracy\": f\"{correct_emotions / (total_samples + 1e-8):.4f}\"\n",
    "        })\n",
    "\n",
    "    # 🔹 학습 손실 및 정확도 기록\n",
    "    train_loss /= len(train_loader)\n",
    "    train_acc = correct_emotions / total_samples\n",
    "    history[\"train_loss\"].append(train_loss)\n",
    "    history[\"train_acc\"].append(train_acc)\n",
    "\n",
    "    # 🔹 Validation 단계\n",
    "    model.eval()\n",
    "    val_loss = 0\n",
    "    correct_emotions, total_samples = 0, 0\n",
    "\n",
    "    val_iterator = tqdm(test_loader, desc=f\"Validating Epoch {epoch + 1}\", dynamic_ncols=True)\n",
    "\n",
    "    with torch.no_grad():\n",
    "        for batch in val_iterator:\n",
    "            input_ids = batch[\"input_ids\"].to(device)\n",
    "            attention_mask = batch[\"attention_mask\"].to(device)\n",
    "            token_type_ids = batch[\"token_type_ids\"].to(device)\n",
    "            labels = batch[\"emotion\"].to(device)\n",
    "\n",
    "            logits = model(input_ids, attention_mask, token_type_ids)\n",
    "            loss = criterion(logits, labels)\n",
    "            val_loss += loss.item()\n",
    "\n",
    "            # 정확도 계산\n",
    "            preds = torch.argmax(logits, dim=1)\n",
    "            correct_emotions += torch.sum(preds == labels).item()\n",
    "            total_samples += labels.size(0)\n",
    "\n",
    "            # 🔹 tqdm 한 줄 갱신 (값 형식 오류 수정)\n",
    "            val_iterator.set_postfix({\n",
    "                \"Loss\": f\"{val_loss / (total_samples + 1e-8):.4f}\",\n",
    "                \"Accuracy\": f\"{correct_emotions / (total_samples + 1e-8):.4f}\"\n",
    "            })\n",
    "\n",
    "    # 🔹 검증 손실 및 정확도 기록\n",
    "    val_loss /= len(test_loader)\n",
    "    val_acc = correct_emotions / total_samples\n",
    "    history[\"val_loss\"].append(val_loss)\n",
    "    history[\"val_acc\"].append(val_acc)\n",
    "\n",
    "    elapsed_time = time.time() - start_time\n",
    "\n",
    "    print(f\"📉 Epoch {epoch + 1}/{num_epochs} - Loss: {val_loss:.4f} | Accuracy: {val_acc:.4f} | Time: {elapsed_time:.2f} sec\")\n",
    "\n",
    "    # 🔹 베스트 모델 저장\n",
    "    if val_loss < best_loss:\n",
    "        best_loss = val_loss\n",
    "        no_improve_count = 0\n",
    "        torch.save(model.state_dict(), \"checkpoints/250317-AI-004-best_model.pth\")\n",
    "        torch.save(history, \"checkpoints/250317-AI-004-history.pth\")\n",
    "        print(\"✅ Best model & history saved!\")\n",
    "    else:\n",
    "        no_improve_count += 1\n",
    "\n",
    "    # 🔹 Early Stopping 체크\n",
    "    if no_improve_count >= early_stopping_patience:\n",
    "        print(\"⏹️ Early Stopping Triggered! Training Stopped.\")\n",
    "        break\n",
    "\n",
    "# 🔹 최종 모델 저장\n",
    "torch.save(model.state_dict(), \"250317-AI-004-final_model.pth\")\n",
    "torch.save(history, \"final_history.pth\")\n",
    "print(\"🎉 Training completed! Final model & history saved.\")\n"
   ]
  },
  {
   "cell_type": "code",
   "execution_count": 34,
   "metadata": {},
   "outputs": [
    {
     "data": {
      "image/png": "[encoded data removed]",
      "text/plain": [
       "<Figure size 1200x500 with 2 Axes>"
      ]
     },
     "metadata": {},
     "output_type": "display_data"
    }
   ],
   "source": [
    "import torch\n",
    "import matplotlib.pyplot as plt\n",
    "\n",
    "# ✅ 저장된 학습 기록 로드\n",
    "history_path = \"checkpoints/250317-AI-004-history.pth\"\n",
    "history = torch.load(history_path)\n",
    "\n",
    "# ✅ Loss & Accuracy 시각화\n",
    "epochs = range(1, len(history[\"train_loss\"]) + 1)\n",
    "\n",
    "plt.figure(figsize=(12, 5))\n",
    "\n",
    "# 🔹 Loss 그래프\n",
    "plt.subplot(1, 2, 1)\n",
    "plt.plot(epochs, history[\"train_loss\"], label=\"Train Loss\")\n",
    "plt.plot(epochs, history[\"val_loss\"], label=\"Validation Loss\")\n",
    "plt.xlabel(\"Epochs\")\n",
    "plt.ylabel(\"Loss\")\n",
    "plt.title(\"Training & Validation Loss\")\n",
    "plt.legend()\n",
    "\n",
    "# 🔹 Accuracy 그래프\n",
    "plt.subplot(1, 2, 2)\n",
    "plt.plot(epochs, history[\"train_acc\"], label=\"Train Accuracy\")\n",
    "plt.plot(epochs, history[\"val_acc\"], label=\"Validation Accuracy\")\n",
    "plt.xlabel(\"Epochs\")\n",
    "plt.ylabel(\"Accuracy\")\n",
    "plt.title(\"Training & Validation Accuracy\")\n",
    "plt.legend()\n",
    "\n",
    "plt.show()\n"
   ]
  },
  {
   "cell_type": "code",
   "execution_count": 36,
   "metadata": {},
   "outputs": [
    {
     "name": "stdout",
     "output_type": "stream",
     "text": [
      "✅ Test Accuracy: 0.5367\n",
      "✅ Test F1-Score: 0.5261\n"
     ]
    }
   ],
   "source": [
    "from sklearn.metrics import accuracy_score, f1_score\n",
    "import torch\n",
    "\n",
    "# ✅ 베스트 모델 로드\n",
    "best_model_path = \"checkpoints/250317-AI-004-best_model.pth\"\n",
    "model.load_state_dict(torch.load(best_model_path, map_location=device))\n",
    "model.eval()\n",
    "\n",
    "# ✅ 테스트 데이터 평가\n",
    "all_labels = []\n",
    "all_preds = []\n",
    "\n",
    "with torch.no_grad():\n",
    "    for batch in test_loader:\n",
    "        input_ids = batch[\"input_ids\"].to(device)\n",
    "        attention_mask = batch[\"attention_mask\"].to(device)\n",
    "        token_type_ids = batch[\"token_type_ids\"].to(device)\n",
    "        labels = batch[\"emotion\"].to(device)\n",
    "\n",
    "        logits = model(input_ids, attention_mask, token_type_ids)\n",
    "        preds = torch.argmax(logits, dim=1)\n",
    "\n",
    "        all_labels.extend(labels.cpu().numpy())\n",
    "        all_preds.extend(preds.cpu().numpy())\n",
    "\n",
    "# ✅ EM(Exact Match) & F1 Score 계산\n",
    "accuracy = accuracy_score(all_labels, all_preds)\n",
    "f1 = f1_score(all_labels, all_preds, average=\"macro\") \n",
    "\n",
    "\n",
    "print(f\"✅ Test Accuracy: {accuracy:.4f}\")\n",
    "print(f\"✅ Test F1-Score: {f1:.4f}\")\n"
   ]
  }
 ],
 "metadata": {
  "accelerator": "GPU",
  "colab": {
   "authorship_tag": "ABX9TyN1DxNrG82lNsRW8tkaRQC+",
   "gpuType": "A100",
   "machine_shape": "hm",
   "provenance": []
  },
  "kernelspec": {
   "display_name": "Python [conda env:base] *",
   "language": "python",
   "name": "conda-base-py"
  },
  "language_info": {
   "codemirror_mode": {
    "name": "ipython",
    "version": 3
   },
   "file_extension": ".py",
   "mimetype": "text/x-python",
   "name": "python",
   "nbconvert_exporter": "python",
   "pygments_lexer": "ipython3",
   "version": "3.12.7"
  },
  "widgets": {
   "application/vnd.jupyter.widget-state+json": {
    "05ff6b981d0f4659baee06ad7da4a7ff": {
     "model_module": "@jupyter-widgets/controls",
     "model_module_version": "1.5.0",
     "model_name": "HTMLModel",
     "state": {
      "_dom_classes": [],
      "_model_module": "@jupyter-widgets/controls",
      "_model_module_version": "1.5.0",
      "_model_name": "HTMLModel",
      "_view_count": null,
      "_view_module": "@jupyter-widgets/controls",
      "_view_module_version": "1.5.0",
      "_view_name": "HTMLView",
      "description": "",
      "description_tooltip": null,
      "layout": "IPY_MODEL_300df635aec143809910043771151e85",
      "placeholder": "​",
      "style": "IPY_MODEL_cf5b037a081f497d978cf9c0d4503f70",
      "value": "tokenizer_78b3253a26.model: 100%"
     }
    },
    "08a7672a20f647e6bd2904e3775c9572": {
     "model_module": "@jupyter-widgets/base",
     "model_module_version": "1.2.0",
     "model_name": "LayoutModel",
     "state": {
      "_model_module": "@jupyter-widgets/base",
      "_model_module_version": "1.2.0",
      "_model_name": "LayoutModel",
      "_view_count": null,
      "_view_module": "@jupyter-widgets/base",
      "_view_module_version": "1.2.0",
      "_view_name": "LayoutView",
      "align_content": null,
      "align_items": null,
      "align_self": null,
      "border": null,
      "bottom": null,
      "display": null,
      "flex": null,
      "flex_flow": null,
      "grid_area": null,
      "grid_auto_columns": null,
      "grid_auto_flow": null,
      "grid_auto_rows": null,
      "grid_column": null,
      "grid_gap": null,
      "grid_row": null,
      "grid_template_areas": null,
      "grid_template_columns": null,
      "grid_template_rows": null,
      "height": null,
      "justify_content": null,
      "justify_items": null,
      "left": null,
      "margin": null,
      "max_height": null,
      "max_width": null,
      "min_height": null,
      "min_width": null,
      "object_fit": null,
      "object_position": null,
      "order": null,
      "overflow": null,
      "overflow_x": null,
      "overflow_y": null,
      "padding": null,
      "right": null,
      "top": null,
      "visibility": null,
      "width": null
     }
    },
    "0b68bc073ef74878801861110b27a460": {
     "model_module": "@jupyter-widgets/controls",
     "model_module_version": "1.5.0",
     "model_name": "HBoxModel",
     "state": {
      "_dom_classes": [],
      "_model_module": "@jupyter-widgets/controls",
      "_model_module_version": "1.5.0",
      "_model_name": "HBoxModel",
      "_view_count": null,
      "_view_module": "@jupyter-widgets/controls",
      "_view_module_version": "1.5.0",
      "_view_name": "HBoxView",
      "box_style": "",
      "children": [
       "IPY_MODEL_704b663c640b495eb0274f04e1ec328a",
       "IPY_MODEL_2824a5eba567453ba9597308990ea6e1",
       "IPY_MODEL_45fc1e9ecc75463784c0a910a2773caf"
      ],
      "layout": "IPY_MODEL_c3f63a2d8c854b5085119c1650c7513c"
     }
    },
    "0c9a1db7b5bb478f8549fad88cbb177f": {
     "model_module": "@jupyter-widgets/controls",
     "model_module_version": "1.5.0",
     "model_name": "DescriptionStyleModel",
     "state": {
      "_model_module": "@jupyter-widgets/controls",
      "_model_module_version": "1.5.0",
      "_model_name": "DescriptionStyleModel",
      "_view_count": null,
      "_view_module": "@jupyter-widgets/base",
      "_view_module_version": "1.2.0",
      "_view_name": "StyleView",
      "description_width": ""
     }
    },
    "0fbd03251d2a4c3baeee09516dd4d34b": {
     "model_module": "@jupyter-widgets/base",
     "model_module_version": "1.2.0",
     "model_name": "LayoutModel",
     "state": {
      "_model_module": "@jupyter-widgets/base",
      "_model_module_version": "1.2.0",
      "_model_name": "LayoutModel",
      "_view_count": null,
      "_view_module": "@jupyter-widgets/base",
      "_view_module_version": "1.2.0",
      "_view_name": "LayoutView",
      "align_content": null,
      "align_items": null,
      "align_self": null,
      "border": null,
      "bottom": null,
      "display": null,
      "flex": null,
      "flex_flow": null,
      "grid_area": null,
      "grid_auto_columns": null,
      "grid_auto_flow": null,
      "grid_auto_rows": null,
      "grid_column": null,
      "grid_gap": null,
      "grid_row": null,
      "grid_template_areas": null,
      "grid_template_columns": null,
      "grid_template_rows": null,
      "height": null,
      "justify_content": null,
      "justify_items": null,
      "left": null,
      "margin": null,
      "max_height": null,
      "max_width": null,
      "min_height": null,
      "min_width": null,
      "object_fit": null,
      "object_position": null,
      "order": null,
      "overflow": null,
      "overflow_x": null,
      "overflow_y": null,
      "padding": null,
      "right": null,
      "top": null,
      "visibility": null,
      "width": null
     }
    },
    "13ca30c086f5470186a5ba318ca0d53a": {
     "model_module": "@jupyter-widgets/base",
     "model_module_version": "1.2.0",
     "model_name": "LayoutModel",
     "state": {
      "_model_module": "@jupyter-widgets/base",
      "_model_module_version": "1.2.0",
      "_model_name": "LayoutModel",
      "_view_count": null,
      "_view_module": "@jupyter-widgets/base",
      "_view_module_version": "1.2.0",
      "_view_name": "LayoutView",
      "align_content": null,
      "align_items": null,
      "align_self": null,
      "border": null,
      "bottom": null,
      "display": null,
      "flex": null,
      "flex_flow": null,
      "grid_area": null,
      "grid_auto_columns": null,
      "grid_auto_flow": null,
      "grid_auto_rows": null,
      "grid_column": null,
      "grid_gap": null,
      "grid_row": null,
      "grid_template_areas": null,
      "grid_template_columns": null,
      "grid_template_rows": null,
      "height": null,
      "justify_content": null,
      "justify_items": null,
      "left": null,
      "margin": null,
      "max_height": null,
      "max_width": null,
      "min_height": null,
      "min_width": null,
      "object_fit": null,
      "object_position": null,
      "order": null,
      "overflow": null,
      "overflow_x": null,
      "overflow_y": null,
      "padding": null,
      "right": null,
      "top": null,
      "visibility": null,
      "width": null
     }
    },
    "1792c02e174c46e1af4e243359a193f8": {
     "model_module": "@jupyter-widgets/base",
     "model_module_version": "1.2.0",
     "model_name": "LayoutModel",
     "state": {
      "_model_module": "@jupyter-widgets/base",
      "_model_module_version": "1.2.0",
      "_model_name": "LayoutModel",
      "_view_count": null,
      "_view_module": "@jupyter-widgets/base",
      "_view_module_version": "1.2.0",
      "_view_name": "LayoutView",
      "align_content": null,
      "align_items": null,
      "align_self": null,
      "border": null,
      "bottom": null,
      "display": null,
      "flex": null,
      "flex_flow": null,
      "grid_area": null,
      "grid_auto_columns": null,
      "grid_auto_flow": null,
      "grid_auto_rows": null,
      "grid_column": null,
      "grid_gap": null,
      "grid_row": null,
      "grid_template_areas": null,
      "grid_template_columns": null,
      "grid_template_rows": null,
      "height": null,
      "justify_content": null,
      "justify_items": null,
      "left": null,
      "margin": null,
      "max_height": null,
      "max_width": null,
      "min_height": null,
      "min_width": null,
      "object_fit": null,
      "object_position": null,
      "order": null,
      "overflow": null,
      "overflow_x": null,
      "overflow_y": null,
      "padding": null,
      "right": null,
      "top": null,
      "visibility": null,
      "width": null
     }
    },
    "1c02cd9ffbef4351b39977c762967b39": {
     "model_module": "@jupyter-widgets/controls",
     "model_module_version": "1.5.0",
     "model_name": "DescriptionStyleModel",
     "state": {
      "_model_module": "@jupyter-widgets/controls",
      "_model_module_version": "1.5.0",
      "_model_name": "DescriptionStyleModel",
      "_view_count": null,
      "_view_module": "@jupyter-widgets/base",
      "_view_module_version": "1.2.0",
      "_view_name": "StyleView",
      "description_width": ""
     }
    },
    "1e7e05eb76154731b1d9d97d08b8277f": {
     "model_module": "@jupyter-widgets/base",
     "model_module_version": "1.2.0",
     "model_name": "LayoutModel",
     "state": {
      "_model_module": "@jupyter-widgets/base",
      "_model_module_version": "1.2.0",
      "_model_name": "LayoutModel",
      "_view_count": null,
      "_view_module": "@jupyter-widgets/base",
      "_view_module_version": "1.2.0",
      "_view_name": "LayoutView",
      "align_content": null,
      "align_items": null,
      "align_self": null,
      "border": null,
      "bottom": null,
      "display": null,
      "flex": null,
      "flex_flow": null,
      "grid_area": null,
      "grid_auto_columns": null,
      "grid_auto_flow": null,
      "grid_auto_rows": null,
      "grid_column": null,
      "grid_gap": null,
      "grid_row": null,
      "grid_template_areas": null,
      "grid_template_columns": null,
      "grid_template_rows": null,
      "height": null,
      "justify_content": null,
      "justify_items": null,
      "left": null,
      "margin": null,
      "max_height": null,
      "max_width": null,
      "min_height": null,
      "min_width": null,
      "object_fit": null,
      "object_position": null,
      "order": null,
      "overflow": null,
      "overflow_x": null,
      "overflow_y": null,
      "padding": null,
      "right": null,
      "top": null,
      "visibility": null,
      "width": null
     }
    },
    "23b5f678cfd54e178fc9d16d5cc2874f": {
     "model_module": "@jupyter-widgets/controls",
     "model_module_version": "1.5.0",
     "model_name": "HBoxModel",
     "state": {
      "_dom_classes": [],
      "_model_module": "@jupyter-widgets/controls",
      "_model_module_version": "1.5.0",
      "_model_name": "HBoxModel",
      "_view_count": null,
      "_view_module": "@jupyter-widgets/controls",
      "_view_module_version": "1.5.0",
      "_view_name": "HBoxView",
      "box_style": "",
      "children": [
       "IPY_MODEL_52476e4ecd534899bbd6c58ec22f6aa0",
       "IPY_MODEL_5784f9ac6ec04a62aaa757248af5ee9f",
       "IPY_MODEL_ee9c65ef20654895a59e539a4e463da7"
      ],
      "layout": "IPY_MODEL_ceb6266c71844f9c92e7fd2ff7a71de6"
     }
    },
    "24db37a8c28947aab66b61d0efbbbf4b": {
     "model_module": "@jupyter-widgets/controls",
     "model_module_version": "1.5.0",
     "model_name": "DescriptionStyleModel",
     "state": {
      "_model_module": "@jupyter-widgets/controls",
      "_model_module_version": "1.5.0",
      "_model_name": "DescriptionStyleModel",
      "_view_count": null,
      "_view_module": "@jupyter-widgets/base",
      "_view_module_version": "1.2.0",
      "_view_name": "StyleView",
      "description_width": ""
     }
    },
    "2806f21514124c8783171038bfb0fdf2": {
     "model_module": "@jupyter-widgets/controls",
     "model_module_version": "1.5.0",
     "model_name": "ProgressStyleModel",
     "state": {
      "_model_module": "@jupyter-widgets/controls",
      "_model_module_version": "1.5.0",
      "_model_name": "ProgressStyleModel",
      "_view_count": null,
      "_view_module": "@jupyter-widgets/base",
      "_view_module_version": "1.2.0",
      "_view_name": "StyleView",
      "bar_color": null,
      "description_width": ""
     }
    },
    "2824a5eba567453ba9597308990ea6e1": {
     "model_module": "@jupyter-widgets/controls",
     "model_module_version": "1.5.0",
     "model_name": "FloatProgressModel",
     "state": {
      "_dom_classes": [],
      "_model_module": "@jupyter-widgets/controls",
      "_model_module_version": "1.5.0",
      "_model_name": "FloatProgressModel",
      "_view_count": null,
      "_view_module": "@jupyter-widgets/controls",
      "_view_module_version": "1.5.0",
      "_view_name": "ProgressView",
      "bar_style": "success",
      "description": "",
      "description_tooltip": null,
      "layout": "IPY_MODEL_08a7672a20f647e6bd2904e3775c9572",
      "max": 426,
      "min": 0,
      "orientation": "horizontal",
      "style": "IPY_MODEL_29b1e37828ff4bb9b86ccbd66c52a47b",
      "value": 426
     }
    },
    "29b1e37828ff4bb9b86ccbd66c52a47b": {
     "model_module": "@jupyter-widgets/controls",
     "model_module_version": "1.5.0",
     "model_name": "ProgressStyleModel",
     "state": {
      "_model_module": "@jupyter-widgets/controls",
      "_model_module_version": "1.5.0",
      "_model_name": "ProgressStyleModel",
      "_view_count": null,
      "_view_module": "@jupyter-widgets/base",
      "_view_module_version": "1.2.0",
      "_view_name": "StyleView",
      "bar_color": null,
      "description_width": ""
     }
    },
    "2c6ba5116446400abd10f2b4be2f3acf": {
     "model_module": "@jupyter-widgets/controls",
     "model_module_version": "1.5.0",
     "model_name": "DescriptionStyleModel",
     "state": {
      "_model_module": "@jupyter-widgets/controls",
      "_model_module_version": "1.5.0",
      "_model_name": "DescriptionStyleModel",
      "_view_count": null,
      "_view_module": "@jupyter-widgets/base",
      "_view_module_version": "1.2.0",
      "_view_name": "StyleView",
      "description_width": ""
     }
    },
    "300df635aec143809910043771151e85": {
     "model_module": "@jupyter-widgets/base",
     "model_module_version": "1.2.0",
     "model_name": "LayoutModel",
     "state": {
      "_model_module": "@jupyter-widgets/base",
      "_model_module_version": "1.2.0",
      "_model_name": "LayoutModel",
      "_view_count": null,
      "_view_module": "@jupyter-widgets/base",
      "_view_module_version": "1.2.0",
      "_view_name": "LayoutView",
      "align_content": null,
      "align_items": null,
      "align_self": null,
      "border": null,
      "bottom": null,
      "display": null,
      "flex": null,
      "flex_flow": null,
      "grid_area": null,
      "grid_auto_columns": null,
      "grid_auto_flow": null,
      "grid_auto_rows": null,
      "grid_column": null,
      "grid_gap": null,
      "grid_row": null,
      "grid_template_areas": null,
      "grid_template_columns": null,
      "grid_template_rows": null,
      "height": null,
      "justify_content": null,
      "justify_items": null,
      "left": null,
      "margin": null,
      "max_height": null,
      "max_width": null,
      "min_height": null,
      "min_width": null,
      "object_fit": null,
      "object_position": null,
      "order": null,
      "overflow": null,
      "overflow_x": null,
      "overflow_y": null,
      "padding": null,
      "right": null,
      "top": null,
      "visibility": null,
      "width": null
     }
    },
    "307b532ab97a41978b10794c2fbe0ec3": {
     "model_module": "@jupyter-widgets/controls",
     "model_module_version": "1.5.0",
     "model_name": "DescriptionStyleModel",
     "state": {
      "_model_module": "@jupyter-widgets/controls",
      "_model_module_version": "1.5.0",
      "_model_name": "DescriptionStyleModel",
      "_view_count": null,
      "_view_module": "@jupyter-widgets/base",
      "_view_module_version": "1.2.0",
      "_view_name": "StyleView",
      "description_width": ""
     }
    },
    "37f07fbdba0747bd953893a1bd8d5e28": {
     "model_module": "@jupyter-widgets/controls",
     "model_module_version": "1.5.0",
     "model_name": "HTMLModel",
     "state": {
      "_dom_classes": [],
      "_model_module": "@jupyter-widgets/controls",
      "_model_module_version": "1.5.0",
      "_model_name": "HTMLModel",
      "_view_count": null,
      "_view_module": "@jupyter-widgets/controls",
      "_view_module_version": "1.5.0",
      "_view_name": "HTMLView",
      "description": "",
      "description_tooltip": null,
      "layout": "IPY_MODEL_a7043eb05c4d474ab5815cdb28e17bc2",
      "placeholder": "​",
      "style": "IPY_MODEL_fb9a1d6e631a4004bb6db87a3b22a677",
      "value": " 371k/371k [00:00&lt;00:00, 24.3MB/s]"
     }
    },
    "399b29a95f0442c4834b6cf442d7df4a": {
     "model_module": "@jupyter-widgets/base",
     "model_module_version": "1.2.0",
     "model_name": "LayoutModel",
     "state": {
      "_model_module": "@jupyter-widgets/base",
      "_model_module_version": "1.2.0",
      "_model_name": "LayoutModel",
      "_view_count": null,
      "_view_module": "@jupyter-widgets/base",
      "_view_module_version": "1.2.0",
      "_view_name": "LayoutView",
      "align_content": null,
      "align_items": null,
      "align_self": null,
      "border": null,
      "bottom": null,
      "display": null,
      "flex": null,
      "flex_flow": null,
      "grid_area": null,
      "grid_auto_columns": null,
      "grid_auto_flow": null,
      "grid_auto_rows": null,
      "grid_column": null,
      "grid_gap": null,
      "grid_row": null,
      "grid_template_areas": null,
      "grid_template_columns": null,
      "grid_template_rows": null,
      "height": null,
      "justify_content": null,
      "justify_items": null,
      "left": null,
      "margin": null,
      "max_height": null,
      "max_width": null,
      "min_height": null,
      "min_width": null,
      "object_fit": null,
      "object_position": null,
      "order": null,
      "overflow": null,
      "overflow_x": null,
      "overflow_y": null,
      "padding": null,
      "right": null,
      "top": null,
      "visibility": null,
      "width": null
     }
    },
    "45fc1e9ecc75463784c0a910a2773caf": {
     "model_module": "@jupyter-widgets/controls",
     "model_module_version": "1.5.0",
     "model_name": "HTMLModel",
     "state": {
      "_dom_classes": [],
      "_model_module": "@jupyter-widgets/controls",
      "_model_module_version": "1.5.0",
      "_model_name": "HTMLModel",
      "_view_count": null,
      "_view_module": "@jupyter-widgets/controls",
      "_view_module_version": "1.5.0",
      "_view_name": "HTMLView",
      "description": "",
      "description_tooltip": null,
      "layout": "IPY_MODEL_1e7e05eb76154731b1d9d97d08b8277f",
      "placeholder": "​",
      "style": "IPY_MODEL_307b532ab97a41978b10794c2fbe0ec3",
      "value": " 426/426 [00:00&lt;00:00, 48.3kB/s]"
     }
    },
    "467f7c1d1a274265b92b36cb945e6271": {
     "model_module": "@jupyter-widgets/controls",
     "model_module_version": "1.5.0",
     "model_name": "HTMLModel",
     "state": {
      "_dom_classes": [],
      "_model_module": "@jupyter-widgets/controls",
      "_model_module_version": "1.5.0",
      "_model_name": "HTMLModel",
      "_view_count": null,
      "_view_module": "@jupyter-widgets/controls",
      "_view_module_version": "1.5.0",
      "_view_name": "HTMLView",
      "description": "",
      "description_tooltip": null,
      "layout": "IPY_MODEL_cd113c19a8a741c5b05f5adc0ab18030",
      "placeholder": "​",
      "style": "IPY_MODEL_0c9a1db7b5bb478f8549fad88cbb177f",
      "value": " 10.9k/10.9k [00:00&lt;00:00, 1.26MB/s]"
     }
    },
    "4940f3d886fb429f9e62c4a65507d0a8": {
     "model_module": "@jupyter-widgets/controls",
     "model_module_version": "1.5.0",
     "model_name": "FloatProgressModel",
     "state": {
      "_dom_classes": [],
      "_model_module": "@jupyter-widgets/controls",
      "_model_module_version": "1.5.0",
      "_model_name": "FloatProgressModel",
      "_view_count": null,
      "_view_module": "@jupyter-widgets/controls",
      "_view_module_version": "1.5.0",
      "_view_name": "ProgressView",
      "bar_style": "success",
      "description": "",
      "description_tooltip": null,
      "layout": "IPY_MODEL_e3f9e41c069d4153953e613d4b0ea0c5",
      "max": 371391,
      "min": 0,
      "orientation": "horizontal",
      "style": "IPY_MODEL_b16456c6f65443c299f09607c08806c5",
      "value": 371391
     }
    },
    "4ddd68f93c54407f9b21c681de097909": {
     "model_module": "@jupyter-widgets/controls",
     "model_module_version": "1.5.0",
     "model_name": "DescriptionStyleModel",
     "state": {
      "_model_module": "@jupyter-widgets/controls",
      "_model_module_version": "1.5.0",
      "_model_name": "DescriptionStyleModel",
      "_view_count": null,
      "_view_module": "@jupyter-widgets/base",
      "_view_module_version": "1.2.0",
      "_view_name": "StyleView",
      "description_width": ""
     }
    },
    "52476e4ecd534899bbd6c58ec22f6aa0": {
     "model_module": "@jupyter-widgets/controls",
     "model_module_version": "1.5.0",
     "model_name": "HTMLModel",
     "state": {
      "_dom_classes": [],
      "_model_module": "@jupyter-widgets/controls",
      "_model_module_version": "1.5.0",
      "_model_name": "HTMLModel",
      "_view_count": null,
      "_view_module": "@jupyter-widgets/controls",
      "_view_module_version": "1.5.0",
      "_view_name": "HTMLView",
      "description": "",
      "description_tooltip": null,
      "layout": "IPY_MODEL_7c950fc4665d4185a0c9df3091df4d33",
      "placeholder": "​",
      "style": "IPY_MODEL_1c02cd9ffbef4351b39977c762967b39",
      "value": "model.safetensors: 100%"
     }
    },
    "536f00a27a734a0a88b601b8b17fef97": {
     "model_module": "@jupyter-widgets/controls",
     "model_module_version": "1.5.0",
     "model_name": "FloatProgressModel",
     "state": {
      "_dom_classes": [],
      "_model_module": "@jupyter-widgets/controls",
      "_model_module_version": "1.5.0",
      "_model_name": "FloatProgressModel",
      "_view_count": null,
      "_view_module": "@jupyter-widgets/controls",
      "_view_module_version": "1.5.0",
      "_view_name": "ProgressView",
      "bar_style": "success",
      "description": "",
      "description_tooltip": null,
      "layout": "IPY_MODEL_bfdd713240b54a6cac1ec299a45377ac",
      "max": 10894,
      "min": 0,
      "orientation": "horizontal",
      "style": "IPY_MODEL_2806f21514124c8783171038bfb0fdf2",
      "value": 10894
     }
    },
    "55db454c0f9f4eb9b18a0c25414f92a0": {
     "model_module": "@jupyter-widgets/controls",
     "model_module_version": "1.5.0",
     "model_name": "HTMLModel",
     "state": {
      "_dom_classes": [],
      "_model_module": "@jupyter-widgets/controls",
      "_model_module_version": "1.5.0",
      "_model_name": "HTMLModel",
      "_view_count": null,
      "_view_module": "@jupyter-widgets/controls",
      "_view_module_version": "1.5.0",
      "_view_name": "HTMLView",
      "description": "",
      "description_tooltip": null,
      "layout": "IPY_MODEL_8a51dfbdefc74ad8b8b1e1e67579b055",
      "placeholder": "​",
      "style": "IPY_MODEL_4ddd68f93c54407f9b21c681de097909",
      "value": " 263/263 [00:00&lt;00:00, 26.5kB/s]"
     }
    },
    "5784f9ac6ec04a62aaa757248af5ee9f": {
     "model_module": "@jupyter-widgets/controls",
     "model_module_version": "1.5.0",
     "model_name": "FloatProgressModel",
     "state": {
      "_dom_classes": [],
      "_model_module": "@jupyter-widgets/controls",
      "_model_module_version": "1.5.0",
      "_model_name": "FloatProgressModel",
      "_view_count": null,
      "_view_module": "@jupyter-widgets/controls",
      "_view_module_version": "1.5.0",
      "_view_name": "ProgressView",
      "bar_style": "success",
      "description": "",
      "description_tooltip": null,
      "layout": "IPY_MODEL_e51d6c68251643b485869f9e1e6fd04e",
      "max": 368769812,
      "min": 0,
      "orientation": "horizontal",
      "style": "IPY_MODEL_b86f8f1d4d9048bba9e717f09f84fa85",
      "value": 368769812
     }
    },
    "6d4181c8f13848b9846ff6416b75e610": {
     "model_module": "@jupyter-widgets/controls",
     "model_module_version": "1.5.0",
     "model_name": "ProgressStyleModel",
     "state": {
      "_model_module": "@jupyter-widgets/controls",
      "_model_module_version": "1.5.0",
      "_model_name": "ProgressStyleModel",
      "_view_count": null,
      "_view_module": "@jupyter-widgets/base",
      "_view_module_version": "1.2.0",
      "_view_name": "StyleView",
      "bar_color": null,
      "description_width": ""
     }
    },
    "704b663c640b495eb0274f04e1ec328a": {
     "model_module": "@jupyter-widgets/controls",
     "model_module_version": "1.5.0",
     "model_name": "HTMLModel",
     "state": {
      "_dom_classes": [],
      "_model_module": "@jupyter-widgets/controls",
      "_model_module_version": "1.5.0",
      "_model_name": "HTMLModel",
      "_view_count": null,
      "_view_module": "@jupyter-widgets/controls",
      "_view_module_version": "1.5.0",
      "_view_name": "HTMLView",
      "description": "",
      "description_tooltip": null,
      "layout": "IPY_MODEL_8ce404a9c8b44911aa2ed772da05c0a0",
      "placeholder": "​",
      "style": "IPY_MODEL_8be071bb9c15420b86965d9cb4b69523",
      "value": "config.json: 100%"
     }
    },
    "762b74fc28d9421d90b6c87e9dbdf7ed": {
     "model_module": "@jupyter-widgets/base",
     "model_module_version": "1.2.0",
     "model_name": "LayoutModel",
     "state": {
      "_model_module": "@jupyter-widgets/base",
      "_model_module_version": "1.2.0",
      "_model_name": "LayoutModel",
      "_view_count": null,
      "_view_module": "@jupyter-widgets/base",
      "_view_module_version": "1.2.0",
      "_view_name": "LayoutView",
      "align_content": null,
      "align_items": null,
      "align_self": null,
      "border": null,
      "bottom": null,
      "display": null,
      "flex": null,
      "flex_flow": null,
      "grid_area": null,
      "grid_auto_columns": null,
      "grid_auto_flow": null,
      "grid_auto_rows": null,
      "grid_column": null,
      "grid_gap": null,
      "grid_row": null,
      "grid_template_areas": null,
      "grid_template_columns": null,
      "grid_template_rows": null,
      "height": null,
      "justify_content": null,
      "justify_items": null,
      "left": null,
      "margin": null,
      "max_height": null,
      "max_width": null,
      "min_height": null,
      "min_width": null,
      "object_fit": null,
      "object_position": null,
      "order": null,
      "overflow": null,
      "overflow_x": null,
      "overflow_y": null,
      "padding": null,
      "right": null,
      "top": null,
      "visibility": null,
      "width": null
     }
    },
    "7c950fc4665d4185a0c9df3091df4d33": {
     "model_module": "@jupyter-widgets/base",
     "model_module_version": "1.2.0",
     "model_name": "LayoutModel",
     "state": {
      "_model_module": "@jupyter-widgets/base",
      "_model_module_version": "1.2.0",
      "_model_name": "LayoutModel",
      "_view_count": null,
      "_view_module": "@jupyter-widgets/base",
      "_view_module_version": "1.2.0",
      "_view_name": "LayoutView",
      "align_content": null,
      "align_items": null,
      "align_self": null,
      "border": null,
      "bottom": null,
      "display": null,
      "flex": null,
      "flex_flow": null,
      "grid_area": null,
      "grid_auto_columns": null,
      "grid_auto_flow": null,
      "grid_auto_rows": null,
      "grid_column": null,
      "grid_gap": null,
      "grid_row": null,
      "grid_template_areas": null,
      "grid_template_columns": null,
      "grid_template_rows": null,
      "height": null,
      "justify_content": null,
      "justify_items": null,
      "left": null,
      "margin": null,
      "max_height": null,
      "max_width": null,
      "min_height": null,
      "min_width": null,
      "object_fit": null,
      "object_position": null,
      "order": null,
      "overflow": null,
      "overflow_x": null,
      "overflow_y": null,
      "padding": null,
      "right": null,
      "top": null,
      "visibility": null,
      "width": null
     }
    },
    "821be6fff4694db791af0f3bb98d7440": {
     "model_module": "@jupyter-widgets/controls",
     "model_module_version": "1.5.0",
     "model_name": "HTMLModel",
     "state": {
      "_dom_classes": [],
      "_model_module": "@jupyter-widgets/controls",
      "_model_module_version": "1.5.0",
      "_model_name": "HTMLModel",
      "_view_count": null,
      "_view_module": "@jupyter-widgets/controls",
      "_view_module_version": "1.5.0",
      "_view_name": "HTMLView",
      "description": "",
      "description_tooltip": null,
      "layout": "IPY_MODEL_1792c02e174c46e1af4e243359a193f8",
      "placeholder": "​",
      "style": "IPY_MODEL_b9fc3c0c3d194ceab9f9cd34ff941390",
      "value": "tokenization_kobert.py: 100%"
     }
    },
    "846f8c2637454b2e9eafd0b046e76759": {
     "model_module": "@jupyter-widgets/controls",
     "model_module_version": "1.5.0",
     "model_name": "FloatProgressModel",
     "state": {
      "_dom_classes": [],
      "_model_module": "@jupyter-widgets/controls",
      "_model_module_version": "1.5.0",
      "_model_name": "FloatProgressModel",
      "_view_count": null,
      "_view_module": "@jupyter-widgets/controls",
      "_view_module_version": "1.5.0",
      "_view_name": "ProgressView",
      "bar_style": "success",
      "description": "",
      "description_tooltip": null,
      "layout": "IPY_MODEL_13ca30c086f5470186a5ba318ca0d53a",
      "max": 77779,
      "min": 0,
      "orientation": "horizontal",
      "style": "IPY_MODEL_fd8d155b50514fceada1aea71031ca81",
      "value": 77779
     }
    },
    "86d8aaf7ac714231999bc65a29695beb": {
     "model_module": "@jupyter-widgets/controls",
     "model_module_version": "1.5.0",
     "model_name": "HTMLModel",
     "state": {
      "_dom_classes": [],
      "_model_module": "@jupyter-widgets/controls",
      "_model_module_version": "1.5.0",
      "_model_name": "HTMLModel",
      "_view_count": null,
      "_view_module": "@jupyter-widgets/controls",
      "_view_module_version": "1.5.0",
      "_view_name": "HTMLView",
      "description": "",
      "description_tooltip": null,
      "layout": "IPY_MODEL_0fbd03251d2a4c3baeee09516dd4d34b",
      "placeholder": "​",
      "style": "IPY_MODEL_24db37a8c28947aab66b61d0efbbbf4b",
      "value": "tokenizer_config.json: 100%"
     }
    },
    "883693c42f1d46b9b40d6130b0163e26": {
     "model_module": "@jupyter-widgets/controls",
     "model_module_version": "1.5.0",
     "model_name": "HBoxModel",
     "state": {
      "_dom_classes": [],
      "_model_module": "@jupyter-widgets/controls",
      "_model_module_version": "1.5.0",
      "_model_name": "HBoxModel",
      "_view_count": null,
      "_view_module": "@jupyter-widgets/controls",
      "_view_module_version": "1.5.0",
      "_view_name": "HBoxView",
      "box_style": "",
      "children": [
       "IPY_MODEL_821be6fff4694db791af0f3bb98d7440",
       "IPY_MODEL_536f00a27a734a0a88b601b8b17fef97",
       "IPY_MODEL_467f7c1d1a274265b92b36cb945e6271"
      ],
      "layout": "IPY_MODEL_c8bc66fc4e03482ba5883e4e0cf691e3"
     }
    },
    "89c9237b36994f20b7e51c2aa295af62": {
     "model_module": "@jupyter-widgets/base",
     "model_module_version": "1.2.0",
     "model_name": "LayoutModel",
     "state": {
      "_model_module": "@jupyter-widgets/base",
      "_model_module_version": "1.2.0",
      "_model_name": "LayoutModel",
      "_view_count": null,
      "_view_module": "@jupyter-widgets/base",
      "_view_module_version": "1.2.0",
      "_view_name": "LayoutView",
      "align_content": null,
      "align_items": null,
      "align_self": null,
      "border": null,
      "bottom": null,
      "display": null,
      "flex": null,
      "flex_flow": null,
      "grid_area": null,
      "grid_auto_columns": null,
      "grid_auto_flow": null,
      "grid_auto_rows": null,
      "grid_column": null,
      "grid_gap": null,
      "grid_row": null,
      "grid_template_areas": null,
      "grid_template_columns": null,
      "grid_template_rows": null,
      "height": null,
      "justify_content": null,
      "justify_items": null,
      "left": null,
      "margin": null,
      "max_height": null,
      "max_width": null,
      "min_height": null,
      "min_width": null,
      "object_fit": null,
      "object_position": null,
      "order": null,
      "overflow": null,
      "overflow_x": null,
      "overflow_y": null,
      "padding": null,
      "right": null,
      "top": null,
      "visibility": null,
      "width": null
     }
    },
    "8a51dfbdefc74ad8b8b1e1e67579b055": {
     "model_module": "@jupyter-widgets/base",
     "model_module_version": "1.2.0",
     "model_name": "LayoutModel",
     "state": {
      "_model_module": "@jupyter-widgets/base",
      "_model_module_version": "1.2.0",
      "_model_name": "LayoutModel",
      "_view_count": null,
      "_view_module": "@jupyter-widgets/base",
      "_view_module_version": "1.2.0",
      "_view_name": "LayoutView",
      "align_content": null,
      "align_items": null,
      "align_self": null,
      "border": null,
      "bottom": null,
      "display": null,
      "flex": null,
      "flex_flow": null,
      "grid_area": null,
      "grid_auto_columns": null,
      "grid_auto_flow": null,
      "grid_auto_rows": null,
      "grid_column": null,
      "grid_gap": null,
      "grid_row": null,
      "grid_template_areas": null,
      "grid_template_columns": null,
      "grid_template_rows": null,
      "height": null,
      "justify_content": null,
      "justify_items": null,
      "left": null,
      "margin": null,
      "max_height": null,
      "max_width": null,
      "min_height": null,
      "min_width": null,
      "object_fit": null,
      "object_position": null,
      "order": null,
      "overflow": null,
      "overflow_x": null,
      "overflow_y": null,
      "padding": null,
      "right": null,
      "top": null,
      "visibility": null,
      "width": null
     }
    },
    "8be071bb9c15420b86965d9cb4b69523": {
     "model_module": "@jupyter-widgets/controls",
     "model_module_version": "1.5.0",
     "model_name": "DescriptionStyleModel",
     "state": {
      "_model_module": "@jupyter-widgets/controls",
      "_model_module_version": "1.5.0",
      "_model_name": "DescriptionStyleModel",
      "_view_count": null,
      "_view_module": "@jupyter-widgets/base",
      "_view_module_version": "1.2.0",
      "_view_name": "StyleView",
      "description_width": ""
     }
    },
    "8ce404a9c8b44911aa2ed772da05c0a0": {
     "model_module": "@jupyter-widgets/base",
     "model_module_version": "1.2.0",
     "model_name": "LayoutModel",
     "state": {
      "_model_module": "@jupyter-widgets/base",
      "_model_module_version": "1.2.0",
      "_model_name": "LayoutModel",
      "_view_count": null,
      "_view_module": "@jupyter-widgets/base",
      "_view_module_version": "1.2.0",
      "_view_name": "LayoutView",
      "align_content": null,
      "align_items": null,
      "align_self": null,
      "border": null,
      "bottom": null,
      "display": null,
      "flex": null,
      "flex_flow": null,
      "grid_area": null,
      "grid_auto_columns": null,
      "grid_auto_flow": null,
      "grid_auto_rows": null,
      "grid_column": null,
      "grid_gap": null,
      "grid_row": null,
      "grid_template_areas": null,
      "grid_template_columns": null,
      "grid_template_rows": null,
      "height": null,
      "justify_content": null,
      "justify_items": null,
      "left": null,
      "margin": null,
      "max_height": null,
      "max_width": null,
      "min_height": null,
      "min_width": null,
      "object_fit": null,
      "object_position": null,
      "order": null,
      "overflow": null,
      "overflow_x": null,
      "overflow_y": null,
      "padding": null,
      "right": null,
      "top": null,
      "visibility": null,
      "width": null
     }
    },
    "91be632dbf80465abbd580e19a6ceb40": {
     "model_module": "@jupyter-widgets/base",
     "model_module_version": "1.2.0",
     "model_name": "LayoutModel",
     "state": {
      "_model_module": "@jupyter-widgets/base",
      "_model_module_version": "1.2.0",
      "_model_name": "LayoutModel",
      "_view_count": null,
      "_view_module": "@jupyter-widgets/base",
      "_view_module_version": "1.2.0",
      "_view_name": "LayoutView",
      "align_content": null,
      "align_items": null,
      "align_self": null,
      "border": null,
      "bottom": null,
      "display": null,
      "flex": null,
      "flex_flow": null,
      "grid_area": null,
      "grid_auto_columns": null,
      "grid_auto_flow": null,
      "grid_auto_rows": null,
      "grid_column": null,
      "grid_gap": null,
      "grid_row": null,
      "grid_template_areas": null,
      "grid_template_columns": null,
      "grid_template_rows": null,
      "height": null,
      "justify_content": null,
      "justify_items": null,
      "left": null,
      "margin": null,
      "max_height": null,
      "max_width": null,
      "min_height": null,
      "min_width": null,
      "object_fit": null,
      "object_position": null,
      "order": null,
      "overflow": null,
      "overflow_x": null,
      "overflow_y": null,
      "padding": null,
      "right": null,
      "top": null,
      "visibility": null,
      "width": null
     }
    },
    "91c59e078e88471d8a344c4788a24c37": {
     "model_module": "@jupyter-widgets/base",
     "model_module_version": "1.2.0",
     "model_name": "LayoutModel",
     "state": {
      "_model_module": "@jupyter-widgets/base",
      "_model_module_version": "1.2.0",
      "_model_name": "LayoutModel",
      "_view_count": null,
      "_view_module": "@jupyter-widgets/base",
      "_view_module_version": "1.2.0",
      "_view_name": "LayoutView",
      "align_content": null,
      "align_items": null,
      "align_self": null,
      "border": null,
      "bottom": null,
      "display": null,
      "flex": null,
      "flex_flow": null,
      "grid_area": null,
      "grid_auto_columns": null,
      "grid_auto_flow": null,
      "grid_auto_rows": null,
      "grid_column": null,
      "grid_gap": null,
      "grid_row": null,
      "grid_template_areas": null,
      "grid_template_columns": null,
      "grid_template_rows": null,
      "height": null,
      "justify_content": null,
      "justify_items": null,
      "left": null,
      "margin": null,
      "max_height": null,
      "max_width": null,
      "min_height": null,
      "min_width": null,
      "object_fit": null,
      "object_position": null,
      "order": null,
      "overflow": null,
      "overflow_x": null,
      "overflow_y": null,
      "padding": null,
      "right": null,
      "top": null,
      "visibility": null,
      "width": null
     }
    },
    "a7043eb05c4d474ab5815cdb28e17bc2": {
     "model_module": "@jupyter-widgets/base",
     "model_module_version": "1.2.0",
     "model_name": "LayoutModel",
     "state": {
      "_model_module": "@jupyter-widgets/base",
      "_model_module_version": "1.2.0",
      "_model_name": "LayoutModel",
      "_view_count": null,
      "_view_module": "@jupyter-widgets/base",
      "_view_module_version": "1.2.0",
      "_view_name": "LayoutView",
      "align_content": null,
      "align_items": null,
      "align_self": null,
      "border": null,
      "bottom": null,
      "display": null,
      "flex": null,
      "flex_flow": null,
      "grid_area": null,
      "grid_auto_columns": null,
      "grid_auto_flow": null,
      "grid_auto_rows": null,
      "grid_column": null,
      "grid_gap": null,
      "grid_row": null,
      "grid_template_areas": null,
      "grid_template_columns": null,
      "grid_template_rows": null,
      "height": null,
      "justify_content": null,
      "justify_items": null,
      "left": null,
      "margin": null,
      "max_height": null,
      "max_width": null,
      "min_height": null,
      "min_width": null,
      "object_fit": null,
      "object_position": null,
      "order": null,
      "overflow": null,
      "overflow_x": null,
      "overflow_y": null,
      "padding": null,
      "right": null,
      "top": null,
      "visibility": null,
      "width": null
     }
    },
    "aa4c765b36e04dcc9c97aa86f3d8c004": {
     "model_module": "@jupyter-widgets/controls",
     "model_module_version": "1.5.0",
     "model_name": "HBoxModel",
     "state": {
      "_dom_classes": [],
      "_model_module": "@jupyter-widgets/controls",
      "_model_module_version": "1.5.0",
      "_model_name": "HBoxModel",
      "_view_count": null,
      "_view_module": "@jupyter-widgets/controls",
      "_view_module_version": "1.5.0",
      "_view_name": "HBoxView",
      "box_style": "",
      "children": [
       "IPY_MODEL_86d8aaf7ac714231999bc65a29695beb",
       "IPY_MODEL_d50a77b8a9f1404fb687ad043ac4db34",
       "IPY_MODEL_55db454c0f9f4eb9b18a0c25414f92a0"
      ],
      "layout": "IPY_MODEL_cd1d0bb89dab4d81a3d10f339ac33c5d"
     }
    },
    "aca72c22f4ba46c4abaa8cf796b11c77": {
     "model_module": "@jupyter-widgets/controls",
     "model_module_version": "1.5.0",
     "model_name": "DescriptionStyleModel",
     "state": {
      "_model_module": "@jupyter-widgets/controls",
      "_model_module_version": "1.5.0",
      "_model_name": "DescriptionStyleModel",
      "_view_count": null,
      "_view_module": "@jupyter-widgets/base",
      "_view_module_version": "1.2.0",
      "_view_name": "StyleView",
      "description_width": ""
     }
    },
    "ad5e8b6cd51d4c3396a3df81f4abf030": {
     "model_module": "@jupyter-widgets/controls",
     "model_module_version": "1.5.0",
     "model_name": "DescriptionStyleModel",
     "state": {
      "_model_module": "@jupyter-widgets/controls",
      "_model_module_version": "1.5.0",
      "_model_name": "DescriptionStyleModel",
      "_view_count": null,
      "_view_module": "@jupyter-widgets/base",
      "_view_module_version": "1.2.0",
      "_view_name": "StyleView",
      "description_width": ""
     }
    },
    "b16456c6f65443c299f09607c08806c5": {
     "model_module": "@jupyter-widgets/controls",
     "model_module_version": "1.5.0",
     "model_name": "ProgressStyleModel",
     "state": {
      "_model_module": "@jupyter-widgets/controls",
      "_model_module_version": "1.5.0",
      "_model_name": "ProgressStyleModel",
      "_view_count": null,
      "_view_module": "@jupyter-widgets/base",
      "_view_module_version": "1.2.0",
      "_view_name": "StyleView",
      "bar_color": null,
      "description_width": ""
     }
    },
    "b86f8f1d4d9048bba9e717f09f84fa85": {
     "model_module": "@jupyter-widgets/controls",
     "model_module_version": "1.5.0",
     "model_name": "ProgressStyleModel",
     "state": {
      "_model_module": "@jupyter-widgets/controls",
      "_model_module_version": "1.5.0",
      "_model_name": "ProgressStyleModel",
      "_view_count": null,
      "_view_module": "@jupyter-widgets/base",
      "_view_module_version": "1.2.0",
      "_view_name": "StyleView",
      "bar_color": null,
      "description_width": ""
     }
    },
    "b9fc3c0c3d194ceab9f9cd34ff941390": {
     "model_module": "@jupyter-widgets/controls",
     "model_module_version": "1.5.0",
     "model_name": "DescriptionStyleModel",
     "state": {
      "_model_module": "@jupyter-widgets/controls",
      "_model_module_version": "1.5.0",
      "_model_name": "DescriptionStyleModel",
      "_view_count": null,
      "_view_module": "@jupyter-widgets/base",
      "_view_module_version": "1.2.0",
      "_view_name": "StyleView",
      "description_width": ""
     }
    },
    "bfdd713240b54a6cac1ec299a45377ac": {
     "model_module": "@jupyter-widgets/base",
     "model_module_version": "1.2.0",
     "model_name": "LayoutModel",
     "state": {
      "_model_module": "@jupyter-widgets/base",
      "_model_module_version": "1.2.0",
      "_model_name": "LayoutModel",
      "_view_count": null,
      "_view_module": "@jupyter-widgets/base",
      "_view_module_version": "1.2.0",
      "_view_name": "LayoutView",
      "align_content": null,
      "align_items": null,
      "align_self": null,
      "border": null,
      "bottom": null,
      "display": null,
      "flex": null,
      "flex_flow": null,
      "grid_area": null,
      "grid_auto_columns": null,
      "grid_auto_flow": null,
      "grid_auto_rows": null,
      "grid_column": null,
      "grid_gap": null,
      "grid_row": null,
      "grid_template_areas": null,
      "grid_template_columns": null,
      "grid_template_rows": null,
      "height": null,
      "justify_content": null,
      "justify_items": null,
      "left": null,
      "margin": null,
      "max_height": null,
      "max_width": null,
      "min_height": null,
      "min_width": null,
      "object_fit": null,
      "object_position": null,
      "order": null,
      "overflow": null,
      "overflow_x": null,
      "overflow_y": null,
      "padding": null,
      "right": null,
      "top": null,
      "visibility": null,
      "width": null
     }
    },
    "c3f63a2d8c854b5085119c1650c7513c": {
     "model_module": "@jupyter-widgets/base",
     "model_module_version": "1.2.0",
     "model_name": "LayoutModel",
     "state": {
      "_model_module": "@jupyter-widgets/base",
      "_model_module_version": "1.2.0",
      "_model_name": "LayoutModel",
      "_view_count": null,
      "_view_module": "@jupyter-widgets/base",
      "_view_module_version": "1.2.0",
      "_view_name": "LayoutView",
      "align_content": null,
      "align_items": null,
      "align_self": null,
      "border": null,
      "bottom": null,
      "display": null,
      "flex": null,
      "flex_flow": null,
      "grid_area": null,
      "grid_auto_columns": null,
      "grid_auto_flow": null,
      "grid_auto_rows": null,
      "grid_column": null,
      "grid_gap": null,
      "grid_row": null,
      "grid_template_areas": null,
      "grid_template_columns": null,
      "grid_template_rows": null,
      "height": null,
      "justify_content": null,
      "justify_items": null,
      "left": null,
      "margin": null,
      "max_height": null,
      "max_width": null,
      "min_height": null,
      "min_width": null,
      "object_fit": null,
      "object_position": null,
      "order": null,
      "overflow": null,
      "overflow_x": null,
      "overflow_y": null,
      "padding": null,
      "right": null,
      "top": null,
      "visibility": null,
      "width": null
     }
    },
    "c8bc66fc4e03482ba5883e4e0cf691e3": {
     "model_module": "@jupyter-widgets/base",
     "model_module_version": "1.2.0",
     "model_name": "LayoutModel",
     "state": {
      "_model_module": "@jupyter-widgets/base",
      "_model_module_version": "1.2.0",
      "_model_name": "LayoutModel",
      "_view_count": null,
      "_view_module": "@jupyter-widgets/base",
      "_view_module_version": "1.2.0",
      "_view_name": "LayoutView",
      "align_content": null,
      "align_items": null,
      "align_self": null,
      "border": null,
      "bottom": null,
      "display": null,
      "flex": null,
      "flex_flow": null,
      "grid_area": null,
      "grid_auto_columns": null,
      "grid_auto_flow": null,
      "grid_auto_rows": null,
      "grid_column": null,
      "grid_gap": null,
      "grid_row": null,
      "grid_template_areas": null,
      "grid_template_columns": null,
      "grid_template_rows": null,
      "height": null,
      "justify_content": null,
      "justify_items": null,
      "left": null,
      "margin": null,
      "max_height": null,
      "max_width": null,
      "min_height": null,
      "min_width": null,
      "object_fit": null,
      "object_position": null,
      "order": null,
      "overflow": null,
      "overflow_x": null,
      "overflow_y": null,
      "padding": null,
      "right": null,
      "top": null,
      "visibility": null,
      "width": null
     }
    },
    "cd113c19a8a741c5b05f5adc0ab18030": {
     "model_module": "@jupyter-widgets/base",
     "model_module_version": "1.2.0",
     "model_name": "LayoutModel",
     "state": {
      "_model_module": "@jupyter-widgets/base",
      "_model_module_version": "1.2.0",
      "_model_name": "LayoutModel",
      "_view_count": null,
      "_view_module": "@jupyter-widgets/base",
      "_view_module_version": "1.2.0",
      "_view_name": "LayoutView",
      "align_content": null,
      "align_items": null,
      "align_self": null,
      "border": null,
      "bottom": null,
      "display": null,
      "flex": null,
      "flex_flow": null,
      "grid_area": null,
      "grid_auto_columns": null,
      "grid_auto_flow": null,
      "grid_auto_rows": null,
      "grid_column": null,
      "grid_gap": null,
      "grid_row": null,
      "grid_template_areas": null,
      "grid_template_columns": null,
      "grid_template_rows": null,
      "height": null,
      "justify_content": null,
      "justify_items": null,
      "left": null,
      "margin": null,
      "max_height": null,
      "max_width": null,
      "min_height": null,
      "min_width": null,
      "object_fit": null,
      "object_position": null,
      "order": null,
      "overflow": null,
      "overflow_x": null,
      "overflow_y": null,
      "padding": null,
      "right": null,
      "top": null,
      "visibility": null,
      "width": null
     }
    },
    "cd1d0bb89dab4d81a3d10f339ac33c5d": {
     "model_module": "@jupyter-widgets/base",
     "model_module_version": "1.2.0",
     "model_name": "LayoutModel",
     "state": {
      "_model_module": "@jupyter-widgets/base",
      "_model_module_version": "1.2.0",
      "_model_name": "LayoutModel",
      "_view_count": null,
      "_view_module": "@jupyter-widgets/base",
      "_view_module_version": "1.2.0",
      "_view_name": "LayoutView",
      "align_content": null,
      "align_items": null,
      "align_self": null,
      "border": null,
      "bottom": null,
      "display": null,
      "flex": null,
      "flex_flow": null,
      "grid_area": null,
      "grid_auto_columns": null,
      "grid_auto_flow": null,
      "grid_auto_rows": null,
      "grid_column": null,
      "grid_gap": null,
      "grid_row": null,
      "grid_template_areas": null,
      "grid_template_columns": null,
      "grid_template_rows": null,
      "height": null,
      "justify_content": null,
      "justify_items": null,
      "left": null,
      "margin": null,
      "max_height": null,
      "max_width": null,
      "min_height": null,
      "min_width": null,
      "object_fit": null,
      "object_position": null,
      "order": null,
      "overflow": null,
      "overflow_x": null,
      "overflow_y": null,
      "padding": null,
      "right": null,
      "top": null,
      "visibility": null,
      "width": null
     }
    },
    "ceb6266c71844f9c92e7fd2ff7a71de6": {
     "model_module": "@jupyter-widgets/base",
     "model_module_version": "1.2.0",
     "model_name": "LayoutModel",
     "state": {
      "_model_module": "@jupyter-widgets/base",
      "_model_module_version": "1.2.0",
      "_model_name": "LayoutModel",
      "_view_count": null,
      "_view_module": "@jupyter-widgets/base",
      "_view_module_version": "1.2.0",
      "_view_name": "LayoutView",
      "align_content": null,
      "align_items": null,
      "align_self": null,
      "border": null,
      "bottom": null,
      "display": null,
      "flex": null,
      "flex_flow": null,
      "grid_area": null,
      "grid_auto_columns": null,
      "grid_auto_flow": null,
      "grid_auto_rows": null,
      "grid_column": null,
      "grid_gap": null,
      "grid_row": null,
      "grid_template_areas": null,
      "grid_template_columns": null,
      "grid_template_rows": null,
      "height": null,
      "justify_content": null,
      "justify_items": null,
      "left": null,
      "margin": null,
      "max_height": null,
      "max_width": null,
      "min_height": null,
      "min_width": null,
      "object_fit": null,
      "object_position": null,
      "order": null,
      "overflow": null,
      "overflow_x": null,
      "overflow_y": null,
      "padding": null,
      "right": null,
      "top": null,
      "visibility": null,
      "width": null
     }
    },
    "cf5b037a081f497d978cf9c0d4503f70": {
     "model_module": "@jupyter-widgets/controls",
     "model_module_version": "1.5.0",
     "model_name": "DescriptionStyleModel",
     "state": {
      "_model_module": "@jupyter-widgets/controls",
      "_model_module_version": "1.5.0",
      "_model_name": "DescriptionStyleModel",
      "_view_count": null,
      "_view_module": "@jupyter-widgets/base",
      "_view_module_version": "1.2.0",
      "_view_name": "StyleView",
      "description_width": ""
     }
    },
    "d50a77b8a9f1404fb687ad043ac4db34": {
     "model_module": "@jupyter-widgets/controls",
     "model_module_version": "1.5.0",
     "model_name": "FloatProgressModel",
     "state": {
      "_dom_classes": [],
      "_model_module": "@jupyter-widgets/controls",
      "_model_module_version": "1.5.0",
      "_model_name": "FloatProgressModel",
      "_view_count": null,
      "_view_module": "@jupyter-widgets/controls",
      "_view_module_version": "1.5.0",
      "_view_name": "ProgressView",
      "bar_style": "success",
      "description": "",
      "description_tooltip": null,
      "layout": "IPY_MODEL_dcf4c5e6cf354667ba90fd5b717a4710",
      "max": 263,
      "min": 0,
      "orientation": "horizontal",
      "style": "IPY_MODEL_6d4181c8f13848b9846ff6416b75e610",
      "value": 263
     }
    },
    "dcf4c5e6cf354667ba90fd5b717a4710": {
     "model_module": "@jupyter-widgets/base",
     "model_module_version": "1.2.0",
     "model_name": "LayoutModel",
     "state": {
      "_model_module": "@jupyter-widgets/base",
      "_model_module_version": "1.2.0",
      "_model_name": "LayoutModel",
      "_view_count": null,
      "_view_module": "@jupyter-widgets/base",
      "_view_module_version": "1.2.0",
      "_view_name": "LayoutView",
      "align_content": null,
      "align_items": null,
      "align_self": null,
      "border": null,
      "bottom": null,
      "display": null,
      "flex": null,
      "flex_flow": null,
      "grid_area": null,
      "grid_auto_columns": null,
      "grid_auto_flow": null,
      "grid_auto_rows": null,
      "grid_column": null,
      "grid_gap": null,
      "grid_row": null,
      "grid_template_areas": null,
      "grid_template_columns": null,
      "grid_template_rows": null,
      "height": null,
      "justify_content": null,
      "justify_items": null,
      "left": null,
      "margin": null,
      "max_height": null,
      "max_width": null,
      "min_height": null,
      "min_width": null,
      "object_fit": null,
      "object_position": null,
      "order": null,
      "overflow": null,
      "overflow_x": null,
      "overflow_y": null,
      "padding": null,
      "right": null,
      "top": null,
      "visibility": null,
      "width": null
     }
    },
    "defa539c832148d79d69c2c5cac56532": {
     "model_module": "@jupyter-widgets/controls",
     "model_module_version": "1.5.0",
     "model_name": "HBoxModel",
     "state": {
      "_dom_classes": [],
      "_model_module": "@jupyter-widgets/controls",
      "_model_module_version": "1.5.0",
      "_model_name": "HBoxModel",
      "_view_count": null,
      "_view_module": "@jupyter-widgets/controls",
      "_view_module_version": "1.5.0",
      "_view_name": "HBoxView",
      "box_style": "",
      "children": [
       "IPY_MODEL_05ff6b981d0f4659baee06ad7da4a7ff",
       "IPY_MODEL_4940f3d886fb429f9e62c4a65507d0a8",
       "IPY_MODEL_37f07fbdba0747bd953893a1bd8d5e28"
      ],
      "layout": "IPY_MODEL_91be632dbf80465abbd580e19a6ceb40"
     }
    },
    "e3f9e41c069d4153953e613d4b0ea0c5": {
     "model_module": "@jupyter-widgets/base",
     "model_module_version": "1.2.0",
     "model_name": "LayoutModel",
     "state": {
      "_model_module": "@jupyter-widgets/base",
      "_model_module_version": "1.2.0",
      "_model_name": "LayoutModel",
      "_view_count": null,
      "_view_module": "@jupyter-widgets/base",
      "_view_module_version": "1.2.0",
      "_view_name": "LayoutView",
      "align_content": null,
      "align_items": null,
      "align_self": null,
      "border": null,
      "bottom": null,
      "display": null,
      "flex": null,
      "flex_flow": null,
      "grid_area": null,
      "grid_auto_columns": null,
      "grid_auto_flow": null,
      "grid_auto_rows": null,
      "grid_column": null,
      "grid_gap": null,
      "grid_row": null,
      "grid_template_areas": null,
      "grid_template_columns": null,
      "grid_template_rows": null,
      "height": null,
      "justify_content": null,
      "justify_items": null,
      "left": null,
      "margin": null,
      "max_height": null,
      "max_width": null,
      "min_height": null,
      "min_width": null,
      "object_fit": null,
      "object_position": null,
      "order": null,
      "overflow": null,
      "overflow_x": null,
      "overflow_y": null,
      "padding": null,
      "right": null,
      "top": null,
      "visibility": null,
      "width": null
     }
    },
    "e51d6c68251643b485869f9e1e6fd04e": {
     "model_module": "@jupyter-widgets/base",
     "model_module_version": "1.2.0",
     "model_name": "LayoutModel",
     "state": {
      "_model_module": "@jupyter-widgets/base",
      "_model_module_version": "1.2.0",
      "_model_name": "LayoutModel",
      "_view_count": null,
      "_view_module": "@jupyter-widgets/base",
      "_view_module_version": "1.2.0",
      "_view_name": "LayoutView",
      "align_content": null,
      "align_items": null,
      "align_self": null,
      "border": null,
      "bottom": null,
      "display": null,
      "flex": null,
      "flex_flow": null,
      "grid_area": null,
      "grid_auto_columns": null,
      "grid_auto_flow": null,
      "grid_auto_rows": null,
      "grid_column": null,
      "grid_gap": null,
      "grid_row": null,
      "grid_template_areas": null,
      "grid_template_columns": null,
      "grid_template_rows": null,
      "height": null,
      "justify_content": null,
      "justify_items": null,
      "left": null,
      "margin": null,
      "max_height": null,
      "max_width": null,
      "min_height": null,
      "min_width": null,
      "object_fit": null,
      "object_position": null,
      "order": null,
      "overflow": null,
      "overflow_x": null,
      "overflow_y": null,
      "padding": null,
      "right": null,
      "top": null,
      "visibility": null,
      "width": null
     }
    },
    "e85220cbbe5a4be58181d4be788a8b92": {
     "model_module": "@jupyter-widgets/controls",
     "model_module_version": "1.5.0",
     "model_name": "HBoxModel",
     "state": {
      "_dom_classes": [],
      "_model_module": "@jupyter-widgets/controls",
      "_model_module_version": "1.5.0",
      "_model_name": "HBoxModel",
      "_view_count": null,
      "_view_module": "@jupyter-widgets/controls",
      "_view_module_version": "1.5.0",
      "_view_name": "HBoxView",
      "box_style": "",
      "children": [
       "IPY_MODEL_ef02a2db32bc4a30b1bab5e2f74d4f06",
       "IPY_MODEL_846f8c2637454b2e9eafd0b046e76759",
       "IPY_MODEL_ffd90a8212db413e8efa3b6cba095691"
      ],
      "layout": "IPY_MODEL_399b29a95f0442c4834b6cf442d7df4a"
     }
    },
    "ee9c65ef20654895a59e539a4e463da7": {
     "model_module": "@jupyter-widgets/controls",
     "model_module_version": "1.5.0",
     "model_name": "HTMLModel",
     "state": {
      "_dom_classes": [],
      "_model_module": "@jupyter-widgets/controls",
      "_model_module_version": "1.5.0",
      "_model_name": "HTMLModel",
      "_view_count": null,
      "_view_module": "@jupyter-widgets/controls",
      "_view_module_version": "1.5.0",
      "_view_name": "HTMLView",
      "description": "",
      "description_tooltip": null,
      "layout": "IPY_MODEL_762b74fc28d9421d90b6c87e9dbdf7ed",
      "placeholder": "​",
      "style": "IPY_MODEL_aca72c22f4ba46c4abaa8cf796b11c77",
      "value": " 369M/369M [00:01&lt;00:00, 242MB/s]"
     }
    },
    "ef02a2db32bc4a30b1bab5e2f74d4f06": {
     "model_module": "@jupyter-widgets/controls",
     "model_module_version": "1.5.0",
     "model_name": "HTMLModel",
     "state": {
      "_dom_classes": [],
      "_model_module": "@jupyter-widgets/controls",
      "_model_module_version": "1.5.0",
      "_model_name": "HTMLModel",
      "_view_count": null,
      "_view_module": "@jupyter-widgets/controls",
      "_view_module_version": "1.5.0",
      "_view_name": "HTMLView",
      "description": "",
      "description_tooltip": null,
      "layout": "IPY_MODEL_91c59e078e88471d8a344c4788a24c37",
      "placeholder": "​",
      "style": "IPY_MODEL_ad5e8b6cd51d4c3396a3df81f4abf030",
      "value": "vocab.txt: 100%"
     }
    },
    "fb9a1d6e631a4004bb6db87a3b22a677": {
     "model_module": "@jupyter-widgets/controls",
     "model_module_version": "1.5.0",
     "model_name": "DescriptionStyleModel",
     "state": {
      "_model_module": "@jupyter-widgets/controls",
      "_model_module_version": "1.5.0",
      "_model_name": "DescriptionStyleModel",
      "_view_count": null,
      "_view_module": "@jupyter-widgets/base",
      "_view_module_version": "1.2.0",
      "_view_name": "StyleView",
      "description_width": ""
     }
    },
    "fd8d155b50514fceada1aea71031ca81": {
     "model_module": "@jupyter-widgets/controls",
     "model_module_version": "1.5.0",
     "model_name": "ProgressStyleModel",
     "state": {
      "_model_module": "@jupyter-widgets/controls",
      "_model_module_version": "1.5.0",
      "_model_name": "ProgressStyleModel",
      "_view_count": null,
      "_view_module": "@jupyter-widgets/base",
      "_view_module_version": "1.2.0",
      "_view_name": "StyleView",
      "bar_color": null,
      "description_width": ""
     }
    },
    "ffd90a8212db413e8efa3b6cba095691": {
     "model_module": "@jupyter-widgets/controls",
     "model_module_version": "1.5.0",
     "model_name": "HTMLModel",
     "state": {
      "_dom_classes": [],
      "_model_module": "@jupyter-widgets/controls",
      "_model_module_version": "1.5.0",
      "_model_name": "HTMLModel",
      "_view_count": null,
      "_view_module": "@jupyter-widgets/controls",
      "_view_module_version": "1.5.0",
      "_view_name": "HTMLView",
      "description": "",
      "description_tooltip": null,
      "layout": "IPY_MODEL_89c9237b36994f20b7e51c2aa295af62",
      "placeholder": "​",
      "style": "IPY_MODEL_2c6ba5116446400abd10f2b4be2f3acf",
      "value": " 77.8k/77.8k [00:00&lt;00:00, 8.95MB/s]"
     }
    }
   }
  }
 },
 "nbformat": 4,
 "nbformat_minor": 4
}
