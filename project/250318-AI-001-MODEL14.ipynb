{
 "cells": [
  {
   "cell_type": "code",
   "execution_count": 1,
   "metadata": {
    "colab": {
     "base_uri": "https://localhost:8080/"
    },
    "executionInfo": {
     "elapsed": 16605,
     "status": "ok",
     "timestamp": 1742277405232,
     "user": {
      "displayName": "김용하",
      "userId": "08808827916255903945"
     },
     "user_tz": -540
    },
    "id": "FHFBPzWBef2F",
    "outputId": "965ed485-7497-40a4-a878-eb8a61214b1c"
   },
   "outputs": [
    {
     "name": "stdout",
     "output_type": "stream",
     "text": [
      "Mounted at /content/drive\n"
     ]
    }
   ],
   "source": [
    "import os\n",
    "from google.colab import drive\n",
    "\n",
    "# Google Drive 마운트\n",
    "drive.mount('/content/drive')\n",
    "\n",
    "# 작업 디렉토리 변경\n",
    "os.chdir('/content/drive/MyDrive/Colab Notebooks/')"
   ]
  },
  {
   "cell_type": "code",
   "execution_count": 4,
   "metadata": {
    "executionInfo": {
     "elapsed": 4,
     "status": "ok",
     "timestamp": 1742277439079,
     "user": {
      "displayName": "김용하",
      "userId": "08808827916255903945"
     },
     "user_tz": -540
    },
    "id": "mn3ugeIE06mN"
   },
   "outputs": [],
   "source": [
    "TASK_CODE = \"250318-AI-001\""
   ]
  },
  {
   "cell_type": "code",
   "execution_count": 36,
   "metadata": {
    "colab": {
     "base_uri": "https://localhost:8080/"
    },
    "executionInfo": {
     "elapsed": 1916,
     "status": "ok",
     "timestamp": 1742277501643,
     "user": {
      "displayName": "김용하",
      "userId": "08808827916255903945"
     },
     "user_tz": -540
    },
    "id": "RMBP58xAezS6",
    "outputId": "7647954e-ee89-4755-cdc0-cf2508910103"
   },
   "outputs": [
    {
     "name": "stdout",
     "output_type": "stream",
     "text": [
      "✅ 변환 완료: data/250318-AI-001_train_dataset.csv\n",
      "✅ 변환 완료: data/250318-AI-001_test_dataset.csv\n"
     ]
    }
   ],
   "source": [
    "import numpy as np\n",
    "import json\n",
    "import pandas as pd\n",
    "\n",
    "def convert_json_to_csv(json_file_path, output_csv_path):\n",
    "\n",
    "    # JSON 파일 로드\n",
    "    with open(json_file_path, \"r\", encoding=\"utf-8\") as file:\n",
    "        data = json.load(file)\n",
    "\n",
    "    # DataFrame 변환\n",
    "    df = pd.DataFrame(data)\n",
    "\n",
    "    # 상담 텍스트(HS01, HS02, HS03만 합침) 추출\n",
    "    df[\"text\"] = df[\"talk\"].apply(lambda x: \" \".join([x[\"content\"].get(k, \"\") for k in [\"HS01\", \"HS02\", \"HS03\"]]).strip())\n",
    "    df[\"emotion\"] = df[\"profile\"].apply(lambda x: x[\"emotion\"][\"type\"])\n",
    "    df[\"situation\"] = df[\"profile\"].apply(lambda x: x[\"emotion\"][\"situation\"][0])\n",
    "\n",
    "    # 필요 없는 컬럼 제거\n",
    "    df = df[[\"text\", \"emotion\", 'situation']]\n",
    "\n",
    "    # CSV 저장\n",
    "    df.to_csv(output_csv_path, index=False, encoding=\"utf-8-sig\")\n",
    "    print(f\"✅ 변환 완료: {output_csv_path}\")\n",
    "\n",
    "\n",
    "# 🔹 두 개의 JSON 파일 변환 실행\n",
    "convert_json_to_csv(\"data/감성대화말뭉치(최종데이터)_Training.json\", f\"data/{TASK_CODE}_train_dataset.csv\")\n",
    "convert_json_to_csv(\"data/감성대화말뭉치(최종데이터)_Validation.json\", f\"data/{TASK_CODE}_test_dataset.csv\")\n"
   ]
  },
  {
   "cell_type": "code",
   "execution_count": 37,
   "metadata": {
    "executionInfo": {
     "elapsed": 336,
     "status": "ok",
     "timestamp": 1742277520383,
     "user": {
      "displayName": "김용하",
      "userId": "08808827916255903945"
     },
     "user_tz": -540
    },
    "id": "xn_CBvnce6rS"
   },
   "outputs": [],
   "source": [
    "train_df = pd.read_csv(f'data/{TASK_CODE}_train_dataset.csv', encoding='utf-8-sig')\n",
    "test_df = pd.read_csv(f'data/{TASK_CODE}_test_dataset.csv', encoding='utf-8-sig')"
   ]
  },
  {
   "cell_type": "code",
   "execution_count": 40,
   "metadata": {
    "colab": {
     "base_uri": "https://localhost:8080/"
    },
    "executionInfo": {
     "elapsed": 10,
     "status": "ok",
     "timestamp": 1742277522579,
     "user": {
      "displayName": "김용하",
      "userId": "08808827916255903945"
     },
     "user_tz": -540
    },
    "id": "pL_AVAQ4e-8-",
    "outputId": "e934edfd-189e-49ec-fcad-4eb993230596"
   },
   "outputs": [
    {
     "name": "stdout",
     "output_type": "stream",
     "text": [
      "                                                text emotion situation\n",
      "0  일은 왜 해도 해도 끝이 없을까? 화가 난다. 그냥 내가 해결하는 게 나아. 남들한...     E18       S06\n",
      "1  이번 달에 또 급여가 깎였어! 물가는 오르는데 월급만 자꾸 깎이니까 너무 화가 나....     E18       S06\n",
      "2  회사에 신입이 들어왔는데 말투가 거슬려. 그런 애를 매일 봐야 한다고 생각하니까 스...     E18       S06\n",
      "3  직장에서 막내라는 이유로 나에게만 온갖 심부름을 시켜. 일도 많은 데 정말 분하고 ...     E18       S06\n",
      "4  얼마 전 입사한 신입사원이 나를 무시하는 것 같아서 너무 화가 나. 상사인 나에게 ...     E18       S06\n",
      "                                                text emotion situation\n",
      "0  이번 프로젝트에서 발표를 하는데 내가 실수하는 바람에 우리 팀이 감점을 받았어. 너...     E31       S06\n",
      "1  회사에서 중요한 프로젝트를 혼자 하게 됐는데 솔직히 두렵고 무서워. 나에게 너무 크...     E31       S06\n",
      "2  상사가 너무 무섭게 생겨서 친해지는 게 너무 두려워. 무섭게 생겼는데도 업무를 보려...     E31       S06\n",
      "3  이번에 힘들게 들어간 첫 직장이거든. 첫 직장이라서 그런지 너무 긴장된다. 첫 직장...     E31       S06\n",
      "4  직장에서 동료들이랑 관계가 안 좋아질까 봐 걱정돼. 내가 낯가림이 심해서 친해질 수...     E31       S06\n"
     ]
    }
   ],
   "source": [
    "print(train_df.head())\n",
    "print(test_df.head())"
   ]
  },
  {
   "cell_type": "code",
   "execution_count": 42,
   "metadata": {
    "colab": {
     "base_uri": "https://localhost:8080/"
    },
    "executionInfo": {
     "elapsed": 54,
     "status": "ok",
     "timestamp": 1742277525531,
     "user": {
      "displayName": "김용하",
      "userId": "08808827916255903945"
     },
     "user_tz": -540
    },
    "id": "gUftoXcMQHbs",
    "outputId": "88e4454c-47d5-48f5-c0fe-17f2977b8525"
   },
   "outputs": [
    {
     "name": "stdout",
     "output_type": "stream",
     "text": [
      "['E10' 'E11' 'E12' 'E13' 'E14' 'E15' 'E16' 'E17' 'E18' 'E19' 'E20' 'E21'\n",
      " 'E22' 'E23' 'E24' 'E25' 'E26' 'E27' 'E28' 'E29' 'E30' 'E31' 'E32' 'E33'\n",
      " 'E34' 'E35' 'E36' 'E37' 'E38' 'E39' 'E40' 'E41' 'E42' 'E43' 'E44' 'E45'\n",
      " 'E46' 'E47' 'E48' 'E49' 'E50' 'E51' 'E52' 'E53' 'E54' 'E55' 'E56' 'E57'\n",
      " 'E58' 'E59' 'E60' 'E61' 'E62' 'E63' 'E64' 'E65' 'E66' 'E67' 'E68' 'E69']\n",
      "['S01' 'S02' 'S03' 'S04' 'S05' 'S06' 'S07' 'S08' 'S09' 'S10' 'S11' 'S13']\n"
     ]
    }
   ],
   "source": [
    "print(np.unique(train_df['emotion']))\n",
    "print(np.unique(train_df['situation']))"
   ]
  },
  {
   "cell_type": "code",
   "execution_count": 44,
   "metadata": {
    "executionInfo": {
     "elapsed": 635,
     "status": "ok",
     "timestamp": 1742277532085,
     "user": {
      "displayName": "김용하",
      "userId": "08808827916255903945"
     },
     "user_tz": -540
    },
    "id": "xiRKMZJmSy1B"
   },
   "outputs": [],
   "source": [
    "from sklearn.preprocessing import LabelEncoder\n",
    "\n",
    "# 감정(6개) 한글로 변환\n",
    "emotion_mapping = {\n",
    "    \"분노\": ['E10', 'E11', 'E12', 'E13', 'E14', 'E15', 'E16', 'E17', 'E18', 'E19'],\n",
    "    \"슬픔\": ['E20', 'E21', 'E22', 'E23', 'E24', 'E25', 'E26', 'E27', 'E28', 'E29'],\n",
    "    \"불안\": ['E30', 'E31', 'E32', 'E33', 'E34', 'E35', 'E36', 'E37', 'E38', 'E39'],\n",
    "    \"상처\": ['E40', 'E41', 'E42', 'E43', 'E44', 'E45', 'E46', 'E47', 'E48', 'E49'],\n",
    "    \"당황\": ['E50', 'E51', 'E52', 'E53', 'E54', 'E55', 'E56', 'E57', 'E58', 'E59'],\n",
    "    \"기쁨\": ['E60', 'E61', 'E62', 'E63', 'E64', 'E65', 'E66', 'E67', 'E68', 'E69']\n",
    "}\n",
    "\n",
    "# 감정 매핑 함수\n",
    "def map_emotion(emotion_id):\n",
    "    for group, ids in emotion_mapping.items():\n",
    "        if emotion_id in ids:\n",
    "            return group\n",
    "    return \"기타\"\n",
    "\n",
    "# 감정 변환 적용\n",
    "train_df[\"emotion\"] = train_df[\"emotion\"].apply(map_emotion)\n",
    "test_df[\"emotion\"] = test_df[\"emotion\"].apply(map_emotion)\n",
    "\n",
    "\n",
    "# 상황 매핑 (ID → 한글)\n",
    "situation_mapping = {\n",
    "    \"S01\": \"가족관계\",\n",
    "    \"S02\": \"학업 및 진로\",\n",
    "    \"S03\": \"학교폭력/따돌림\",\n",
    "    \"S04\": \"대인관계\",\n",
    "    \"S05\": \"연애, 결혼, 출산\",\n",
    "    \"S06\": \"진로, 취업, 직장\",\n",
    "    \"S07\": \"대인관계(부부, 자녀)\",\n",
    "    \"S08\": \"재정, 은퇴, 노후준비\",\n",
    "    \"S09\": \"건강\",\n",
    "    \"S10\": \"직장, 업무 스트레스\",\n",
    "    \"S11\": \"건강, 죽음\",\n",
    "    \"S13\": \"재정\"\n",
    "}\n",
    "\n",
    "train_df[\"situation\"] = train_df[\"situation\"].map(situation_mapping)\n",
    "test_df[\"situation\"] = test_df[\"situation\"].map(situation_mapping)\n",
    "\n",
    "# ✅ 레이블 인코딩 적용\n",
    "emotion_encoder = LabelEncoder()\n",
    "situation_encoder = LabelEncoder()\n",
    "\n",
    "from sklearn.preprocessing import LabelEncoder\n",
    "\n",
    "# LabelEncoder 객체 생성\n",
    "emotion_encoder = LabelEncoder()\n",
    "situation_encoder = LabelEncoder()\n",
    "\n",
    "# ✅ 학습 데이터 (train_df)에서 Label Encoding 학습\n",
    "train_df[\"emotion_encoded\"] = emotion_encoder.fit_transform(train_df[\"emotion\"])\n",
    "train_df[\"situation_encoded\"] = situation_encoder.fit_transform(train_df[\"situation\"])\n",
    "\n",
    "# ✅ 테스트 데이터 (test_df)에도 동일한 인코딩 적용\n",
    "test_df[\"emotion_encoded\"] = emotion_encoder.transform(test_df[\"emotion\"])\n",
    "test_df[\"situation_encoded\"] = situation_encoder.transform(test_df[\"situation\"])\n",
    "\n",
    "\n",
    "\n"
   ]
  },
  {
   "cell_type": "code",
   "execution_count": 46,
   "metadata": {
    "colab": {
     "base_uri": "https://localhost:8080/"
    },
    "executionInfo": {
     "elapsed": 8,
     "status": "ok",
     "timestamp": 1742277535134,
     "user": {
      "displayName": "김용하",
      "userId": "08808827916255903945"
     },
     "user_tz": -540
    },
    "id": "Lc-a5bs6S2rK",
    "outputId": "b94557f0-51d7-4636-e69a-d8e364189aa4"
   },
   "outputs": [
    {
     "name": "stdout",
     "output_type": "stream",
     "text": [
      "                                                text emotion   situation  \\\n",
      "0  일은 왜 해도 해도 끝이 없을까? 화가 난다. 그냥 내가 해결하는 게 나아. 남들한...      분노  진로, 취업, 직장   \n",
      "1  이번 달에 또 급여가 깎였어! 물가는 오르는데 월급만 자꾸 깎이니까 너무 화가 나....      분노  진로, 취업, 직장   \n",
      "2  회사에 신입이 들어왔는데 말투가 거슬려. 그런 애를 매일 봐야 한다고 생각하니까 스...      분노  진로, 취업, 직장   \n",
      "3  직장에서 막내라는 이유로 나에게만 온갖 심부름을 시켜. 일도 많은 데 정말 분하고 ...      분노  진로, 취업, 직장   \n",
      "4  얼마 전 입사한 신입사원이 나를 무시하는 것 같아서 너무 화가 나. 상사인 나에게 ...      분노  진로, 취업, 직장   \n",
      "\n",
      "   emotion_encoded  situation_encoded  \n",
      "0                2                  9  \n",
      "1                2                  9  \n",
      "2                2                  9  \n",
      "3                2                  9  \n",
      "4                2                  9  \n",
      "                                                text emotion   situation  \\\n",
      "0  이번 프로젝트에서 발표를 하는데 내가 실수하는 바람에 우리 팀이 감점을 받았어. 너...      불안  진로, 취업, 직장   \n",
      "1  회사에서 중요한 프로젝트를 혼자 하게 됐는데 솔직히 두렵고 무서워. 나에게 너무 크...      불안  진로, 취업, 직장   \n",
      "2  상사가 너무 무섭게 생겨서 친해지는 게 너무 두려워. 무섭게 생겼는데도 업무를 보려...      불안  진로, 취업, 직장   \n",
      "3  이번에 힘들게 들어간 첫 직장이거든. 첫 직장이라서 그런지 너무 긴장된다. 첫 직장...      불안  진로, 취업, 직장   \n",
      "4  직장에서 동료들이랑 관계가 안 좋아질까 봐 걱정돼. 내가 낯가림이 심해서 친해질 수...      불안  진로, 취업, 직장   \n",
      "\n",
      "   emotion_encoded  situation_encoded  \n",
      "0                3                  9  \n",
      "1                3                  9  \n",
      "2                3                  9  \n",
      "3                3                  9  \n",
      "4                3                  9  \n"
     ]
    }
   ],
   "source": [
    "print(train_df.head(5))\n",
    "print(test_df.head(5))"
   ]
  },
  {
   "cell_type": "code",
   "execution_count": 48,
   "metadata": {
    "executionInfo": {
     "elapsed": 1060,
     "status": "ok",
     "timestamp": 1742277541216,
     "user": {
      "displayName": "김용하",
      "userId": "08808827916255903945"
     },
     "user_tz": -540
    },
    "id": "xjQYuuA2S23o"
   },
   "outputs": [],
   "source": [
    "import re\n",
    "\n",
    "def preprocess_text(text):\n",
    "    # 감정 분석에 중요한 특수문자 유지\n",
    "    important_chars = \"!?,~ㅠㅋ^…\"\n",
    "    text = ''.join([char if char in important_chars or char.isalnum() else ' ' for char in text])\n",
    "\n",
    "    # 연속된 특수문자 축약 (!!!!! → !, ㅋㅋㅋ → ㅋㅋ)\n",
    "    text = re.sub(r'([!?.])\\1+', r'\\1', text)\n",
    "    text = re.sub(r'(ㅋ)\\1+', r'\\1\\1', text)  # ㅋㅋㅋㅋㅋ → ㅋㅋ\n",
    "    text = re.sub(r'(ㅠ)\\1+', r'\\1\\1', text)  # ㅠㅠㅠㅠ → ㅠㅠ\n",
    "\n",
    "    return text.strip()\n",
    "\n",
    "\n",
    "train_df[\"text\"] = train_df[\"text\"].apply(preprocess_text)\n",
    "test_df[\"text\"] = test_df[\"text\"].apply(preprocess_text)"
   ]
  },
  {
   "cell_type": "code",
   "execution_count": 50,
   "metadata": {
    "executionInfo": {
     "elapsed": 3,
     "status": "ok",
     "timestamp": 1742277543143,
     "user": {
      "displayName": "김용하",
      "userId": "08808827916255903945"
     },
     "user_tz": -540
    },
    "id": "D30_QN06S3B7"
   },
   "outputs": [],
   "source": [
    "train_df = train_df[['text', 'emotion_encoded', 'situation_encoded']]\n",
    "test_df = test_df[['text', 'emotion_encoded', 'situation_encoded']]"
   ]
  },
  {
   "cell_type": "code",
   "execution_count": 52,
   "metadata": {
    "colab": {
     "base_uri": "https://localhost:8080/"
    },
    "executionInfo": {
     "elapsed": 3,
     "status": "ok",
     "timestamp": 1742277544542,
     "user": {
      "displayName": "김용하",
      "userId": "08808827916255903945"
     },
     "user_tz": -540
    },
    "id": "GvmmLuzofPi4",
    "outputId": "123094d1-3d83-4314-fdd9-e7cbdec881f2"
   },
   "outputs": [
    {
     "name": "stdout",
     "output_type": "stream",
     "text": [
      "                                                text  emotion_encoded  \\\n",
      "0  일은 왜 해도 해도 끝이 없을까? 화가 난다  그냥 내가 해결하는 게 나아  남들한...                2   \n",
      "1  이번 달에 또 급여가 깎였어! 물가는 오르는데 월급만 자꾸 깎이니까 너무 화가 나 ...                2   \n",
      "2  회사에 신입이 들어왔는데 말투가 거슬려  그런 애를 매일 봐야 한다고 생각하니까 스...                2   \n",
      "3  직장에서 막내라는 이유로 나에게만 온갖 심부름을 시켜  일도 많은 데 정말 분하고 ...                2   \n",
      "4  얼마 전 입사한 신입사원이 나를 무시하는 것 같아서 너무 화가 나  상사인 나에게 ...                2   \n",
      "\n",
      "   situation_encoded  \n",
      "0                  9  \n",
      "1                  9  \n",
      "2                  9  \n",
      "3                  9  \n",
      "4                  9  \n",
      "                                                text  emotion_encoded  \\\n",
      "0  이번 프로젝트에서 발표를 하는데 내가 실수하는 바람에 우리 팀이 감점을 받았어  너...                3   \n",
      "1  회사에서 중요한 프로젝트를 혼자 하게 됐는데 솔직히 두렵고 무서워  나에게 너무 크...                3   \n",
      "2  상사가 너무 무섭게 생겨서 친해지는 게 너무 두려워  무섭게 생겼는데도 업무를 보려...                3   \n",
      "3  이번에 힘들게 들어간 첫 직장이거든  첫 직장이라서 그런지 너무 긴장된다  첫 직장...                3   \n",
      "4  직장에서 동료들이랑 관계가 안 좋아질까 봐 걱정돼  내가 낯가림이 심해서 친해질 수...                3   \n",
      "\n",
      "   situation_encoded  \n",
      "0                  9  \n",
      "1                  9  \n",
      "2                  9  \n",
      "3                  9  \n",
      "4                  9  \n"
     ]
    }
   ],
   "source": [
    "print(train_df.head(5))\n",
    "print(test_df.head(5))"
   ]
  },
  {
   "cell_type": "code",
   "execution_count": 54,
   "metadata": {
    "colab": {
     "base_uri": "https://localhost:8080/"
    },
    "executionInfo": {
     "elapsed": 24,
     "status": "ok",
     "timestamp": 1742277547617,
     "user": {
      "displayName": "김용하",
      "userId": "08808827916255903945"
     },
     "user_tz": -540
    },
    "id": "t9blrbfVU-wH",
    "outputId": "29740362-3a9c-4c94-b9f4-6eb69921883b"
   },
   "outputs": [
    {
     "name": "stdout",
     "output_type": "stream",
     "text": [
      "<class 'pandas.core.frame.DataFrame'>\n",
      "RangeIndex: 51628 entries, 0 to 51627\n",
      "Data columns (total 3 columns):\n",
      " #   Column             Non-Null Count  Dtype \n",
      "---  ------             --------------  ----- \n",
      " 0   text               51628 non-null  object\n",
      " 1   emotion_encoded    51628 non-null  int32 \n",
      " 2   situation_encoded  51628 non-null  int32 \n",
      "dtypes: int32(2), object(1)\n",
      "memory usage: 806.8+ KB\n",
      "None\n",
      "<class 'pandas.core.frame.DataFrame'>\n",
      "RangeIndex: 6640 entries, 0 to 6639\n",
      "Data columns (total 3 columns):\n",
      " #   Column             Non-Null Count  Dtype \n",
      "---  ------             --------------  ----- \n",
      " 0   text               6640 non-null   object\n",
      " 1   emotion_encoded    6640 non-null   int32 \n",
      " 2   situation_encoded  6640 non-null   int32 \n",
      "dtypes: int32(2), object(1)\n",
      "memory usage: 103.9+ KB\n",
      "None\n"
     ]
    }
   ],
   "source": [
    "print(train_df.info())\n",
    "print(test_df.info())"
   ]
  },
  {
   "cell_type": "markdown",
   "metadata": {
    "id": "k79gpHszgwCg"
   },
   "source": []
  },
  {
   "cell_type": "code",
   "execution_count": 56,
   "metadata": {
    "colab": {
     "base_uri": "https://localhost:8080/",
     "height": 405
    },
    "executionInfo": {
     "elapsed": 352,
     "status": "ok",
     "timestamp": 1742277553361,
     "user": {
      "displayName": "김용하",
      "userId": "08808827916255903945"
     },
     "user_tz": -540
    },
    "id": "ltWfD-MTfP4M",
    "outputId": "b9847169-5e4a-42c3-cb4b-daa529fada16"
   },
   "outputs": [
    {
     "data": {
      "image/png": "[encoded data removed]",
      "text/plain": [
       "<Figure size 1000x400 with 1 Axes>"
      ]
     },
     "metadata": {},
     "output_type": "display_data"
    }
   ],
   "source": [
    "import matplotlib.pyplot as plt\n",
    "\n",
    "# 감정 데이터 개수 확인\n",
    "emotion_counts = train_df[\"emotion_encoded\"].value_counts().sort_index()\n",
    "\n",
    "# 감정 데이터 분포 시각화 (plt 사용)\n",
    "plt.figure(figsize=(10, 4))\n",
    "plt.bar(emotion_counts.index, emotion_counts.values, color='#fa1')\n",
    "plt.xlabel(\"Emotion Label (Encoded)\")\n",
    "plt.ylabel(\"Sample Count\")\n",
    "plt.title(\"Emotion Data Distribution (Train Set)\")\n",
    "plt.xticks(rotation=90)\n",
    "plt.grid(axis='y', linestyle='--', alpha=0.7)  # 가독성을 위한 그리드 추가\n",
    "plt.show()\n"
   ]
  },
  {
   "cell_type": "code",
   "execution_count": 58,
   "metadata": {
    "colab": {
     "base_uri": "https://localhost:8080/"
    },
    "executionInfo": {
     "elapsed": 351,
     "status": "ok",
     "timestamp": 1742277585200,
     "user": {
      "displayName": "김용하",
      "userId": "08808827916255903945"
     },
     "user_tz": -540
    },
    "id": "ioN5jJoBfQBz",
    "outputId": "c3093bf2-96b4-4551-f3f3-0a3d042ccfc1"
   },
   "outputs": [
    {
     "name": "stdout",
     "output_type": "stream",
     "text": [
      "전처리 데이터 저장 완료!\n"
     ]
    }
   ],
   "source": [
    "# 전처리된 데이터 저장\n",
    "train_df.to_csv(f\"data/{TASK_CODE}_train_df.csv\", index=False, encoding=\"utf-8-sig\")\n",
    "test_df.to_csv(f\"data/{TASK_CODE}_test_df.csv\", index=False, encoding=\"utf-8-sig\")\n",
    "print(\"전처리 데이터 저장 완료!\")"
   ]
  },
  {
   "cell_type": "code",
   "execution_count": 18,
   "metadata": {
    "executionInfo": {
     "elapsed": 2,
     "status": "ok",
     "timestamp": 1742277591961,
     "user": {
      "displayName": "김용하",
      "userId": "08808827916255903945"
     },
     "user_tz": -540
    },
    "id": "rLLFw9eGuymS"
   },
   "outputs": [],
   "source": [
    "# pip install transformers torch"
   ]
  },
  {
   "cell_type": "code",
   "execution_count": 60,
   "metadata": {
    "executionInfo": {
     "elapsed": 14167,
     "status": "ok",
     "timestamp": 1742277609475,
     "user": {
      "displayName": "김용하",
      "userId": "08808827916255903945"
     },
     "user_tz": -540
    },
    "id": "1IXEKZeRibuC"
   },
   "outputs": [],
   "source": [
    "import torch\n",
    "import torch.nn as nn\n",
    "from transformers import ElectraModel\n",
    "\n",
    "class KoELECTRAEmotionSituation(nn.Module):\n",
    "    def __init__(self, model_name, num_emotions=6, num_situations=12, dropout_prob=0.1):\n",
    "        super(KoELECTRAEmotionSituation, self).__init__()\n",
    "\n",
    "        # KoELECTRA 모델 로드\n",
    "        self.electra = ElectraModel.from_pretrained(model_name)\n",
    "\n",
    "        # Dropout 및 Fully Connected Layer\n",
    "        self.dropout = nn.Dropout(dropout_prob)\n",
    "        self.fc = nn.Linear(768, 256)\n",
    "        self.relu = nn.ReLU()\n",
    "\n",
    "        # 감정 분류 (6개)\n",
    "        self.emotion_classifier = nn.Linear(256, num_emotions)\n",
    "\n",
    "        # 상황 분류 (12개)\n",
    "        self.situation_classifier = nn.Linear(256, num_situations)\n",
    "\n",
    "    def forward(self, input_ids, attention_mask, token_type_ids):\n",
    "        # KoELECTRA Forward\n",
    "        outputs = self.electra(input_ids=input_ids, attention_mask=attention_mask, token_type_ids=token_type_ids)\n",
    "\n",
    "        # CLS 토큰 출력 (768차원)\n",
    "        cls_output = outputs.last_hidden_state[:, 0, :]\n",
    "\n",
    "        # 공통 레이어\n",
    "        x = self.fc(cls_output)\n",
    "        x = self.relu(x)\n",
    "        x = self.dropout(x)\n",
    "\n",
    "        # 감정 및 상황 예측\n",
    "        emotion_logits = self.emotion_classifier(x)  # 감정 분류 (6개)\n",
    "        situation_logits = self.situation_classifier(x)  # 상황 분류 (13개)\n",
    "\n",
    "        return emotion_logits, situation_logits\n"
   ]
  },
  {
   "cell_type": "code",
   "execution_count": 62,
   "metadata": {
    "colab": {
     "base_uri": "https://localhost:8080/"
    },
    "executionInfo": {
     "elapsed": 326,
     "status": "ok",
     "timestamp": 1742279021152,
     "user": {
      "displayName": "김용하",
      "userId": "08808827916255903945"
     },
     "user_tz": -540
    },
    "id": "5de53GLwibWJ",
    "outputId": "fb66f73c-9e91-4a82-c568-9c26fc812c71"
   },
   "outputs": [
    {
     "name": "stdout",
     "output_type": "stream",
     "text": [
      "✅ 데이터 로드 완료!\n",
      "                                                text  emotion_encoded  \\\n",
      "0  일은 왜 해도 해도 끝이 없을까? 화가 난다  그냥 내가 해결하는 게 나아  남들한...                2   \n",
      "1  이번 달에 또 급여가 깎였어! 물가는 오르는데 월급만 자꾸 깎이니까 너무 화가 나 ...                2   \n",
      "2  회사에 신입이 들어왔는데 말투가 거슬려  그런 애를 매일 봐야 한다고 생각하니까 스...                2   \n",
      "3  직장에서 막내라는 이유로 나에게만 온갖 심부름을 시켜  일도 많은 데 정말 분하고 ...                2   \n",
      "4  얼마 전 입사한 신입사원이 나를 무시하는 것 같아서 너무 화가 나  상사인 나에게 ...                2   \n",
      "\n",
      "   situation_encoded  \n",
      "0                  9  \n",
      "1                  9  \n",
      "2                  9  \n",
      "3                  9  \n",
      "4                  9  \n"
     ]
    }
   ],
   "source": [
    "import pandas as pd\n",
    "train_df = pd.read_csv(f\"data/{TASK_CODE}_train_df.csv\", encoding=\"utf-8-sig\")\n",
    "test_df = pd.read_csv(f\"data/{TASK_CODE}_test_df.csv\",  encoding=\"utf-8-sig\")\n",
    "\n",
    "print(\"✅ 데이터 로드 완료!\")\n",
    "print(train_df.head())  # 데이터 샘플 확인"
   ]
  },
  {
   "cell_type": "code",
   "execution_count": 64,
   "metadata": {
    "colab": {
     "base_uri": "https://localhost:8080/",
     "height": 326
    },
    "executionInfo": {
     "elapsed": 291,
     "status": "ok",
     "timestamp": 1742279023592,
     "user": {
      "displayName": "김용하",
      "userId": "08808827916255903945"
     },
     "user_tz": -540
    },
    "id": "N2mRSiUZq-no",
    "outputId": "6f2d00b4-0c05-4934-f635-6e3df9b20897"
   },
   "outputs": [
    {
     "data": {
      "image/png": "[encoded data removed]",
      "text/plain": [
       "<Figure size 1400x500 with 2 Axes>"
      ]
     },
     "metadata": {},
     "output_type": "display_data"
    }
   ],
   "source": [
    "import matplotlib.pyplot as plt\n",
    "\n",
    "def plot_train_class_distribution(train_df, emotion_col=\"emotion_encoded\", situation_col=\"situation_encoded\"):\n",
    "    \"\"\"\n",
    "    감정(Emotion) 및 상황(Situation) 데이터 분포를 시각화하는 함수 (1행 2열 형태)\n",
    "\n",
    "    :param train_df: 훈련 데이터프레임\n",
    "    :param emotion_col: 감정 레이블 컬럼명 (기본값: \"emotion_encoded\")\n",
    "    :param situation_col: 상황 레이블 컬럼명 (기본값: \"situation_encoded\")\n",
    "    \"\"\"\n",
    "    fig, axes = plt.subplots(1, 2, figsize=(14, 5))\n",
    "\n",
    "    # 감정 데이터 분포 (Train)\n",
    "    train_emotion_counts = train_df[emotion_col].value_counts().sort_index()\n",
    "    axes[0].bar(train_emotion_counts.index, train_emotion_counts.values, color=\"blue\")\n",
    "    axes[0].set_title(\"Train Emotion Class Distribution\")\n",
    "    axes[0].set_xlabel(\"Emotion Class\")\n",
    "    axes[0].set_ylabel(\"Count\")\n",
    "\n",
    "    # 상황 데이터 분포 (Train)\n",
    "    train_situation_counts = train_df[situation_col].value_counts().sort_index()\n",
    "    axes[1].bar(train_situation_counts.index, train_situation_counts.values, color=\"green\")\n",
    "    axes[1].set_title(\"Train Situation Class Distribution\")\n",
    "    axes[1].set_xlabel(\"Situation Class\")\n",
    "    axes[1].set_ylabel(\"Count\")\n",
    "\n",
    "    plt.tight_layout()\n",
    "    plt.show()\n",
    "\n",
    "# 시각화 함수 실행\n",
    "plot_train_class_distribution(train_df)\n"
   ]
  },
  {
   "cell_type": "code",
   "execution_count": 63,
   "metadata": {
    "colab": {
     "base_uri": "https://localhost:8080/"
    },
    "executionInfo": {
     "elapsed": 3519,
     "status": "ok",
     "timestamp": 1742279587181,
     "user": {
      "displayName": "김용하",
      "userId": "08808827916255903945"
     },
     "user_tz": -540
    },
    "id": "jNV3TvFdxIn9",
    "outputId": "58c42eb3-e499-409c-bb03-3cc63a188998"
   },
   "outputs": [
    {
     "name": "stdout",
     "output_type": "stream",
     "text": [
      "Collecting koeda\n",
      "  Downloading koeda-0.0.4-py3-none-any.whl.metadata (5.2 kB)\n",
      "Requirement already satisfied: numpy>=1.19.4 in /usr/local/lib/python3.11/dist-packages (from koeda) (2.0.2)\n",
      "Collecting konlpy>=0.5.2 (from koeda)\n",
      "  Downloading konlpy-0.6.0-py2.py3-none-any.whl.metadata (1.9 kB)\n",
      "Collecting tweepy==3.10.0 (from koeda)\n",
      "  Downloading tweepy-3.10.0-py2.py3-none-any.whl.metadata (2.8 kB)\n",
      "Requirement already satisfied: requests>=2.11.1 in /usr/local/lib/python3.11/dist-packages (from requests[socks]>=2.11.1->tweepy==3.10.0->koeda) (2.32.3)\n",
      "Requirement already satisfied: requests-oauthlib>=0.7.0 in /usr/local/lib/python3.11/dist-packages (from tweepy==3.10.0->koeda) (2.0.0)\n",
      "Requirement already satisfied: six>=1.10.0 in /usr/local/lib/python3.11/dist-packages (from tweepy==3.10.0->koeda) (1.17.0)\n",
      "Collecting JPype1>=0.7.0 (from konlpy>=0.5.2->koeda)\n",
      "  Downloading jpype1-1.5.2-cp311-cp311-manylinux_2_17_x86_64.manylinux2014_x86_64.whl.metadata (4.9 kB)\n",
      "Requirement already satisfied: lxml>=4.1.0 in /usr/local/lib/python3.11/dist-packages (from konlpy>=0.5.2->koeda) (5.3.1)\n",
      "Requirement already satisfied: packaging in /usr/local/lib/python3.11/dist-packages (from JPype1>=0.7.0->konlpy>=0.5.2->koeda) (24.2)\n",
      "Requirement already satisfied: charset-normalizer<4,>=2 in /usr/local/lib/python3.11/dist-packages (from requests>=2.11.1->requests[socks]>=2.11.1->tweepy==3.10.0->koeda) (3.4.1)\n",
      "Requirement already satisfied: idna<4,>=2.5 in /usr/local/lib/python3.11/dist-packages (from requests>=2.11.1->requests[socks]>=2.11.1->tweepy==3.10.0->koeda) (3.10)\n",
      "Requirement already satisfied: urllib3<3,>=1.21.1 in /usr/local/lib/python3.11/dist-packages (from requests>=2.11.1->requests[socks]>=2.11.1->tweepy==3.10.0->koeda) (2.3.0)\n",
      "Requirement already satisfied: certifi>=2017.4.17 in /usr/local/lib/python3.11/dist-packages (from requests>=2.11.1->requests[socks]>=2.11.1->tweepy==3.10.0->koeda) (2025.1.31)\n",
      "Requirement already satisfied: oauthlib>=3.0.0 in /usr/local/lib/python3.11/dist-packages (from requests-oauthlib>=0.7.0->tweepy==3.10.0->koeda) (3.2.2)\n",
      "Requirement already satisfied: PySocks!=1.5.7,>=1.5.6 in /usr/local/lib/python3.11/dist-packages (from requests[socks]>=2.11.1->tweepy==3.10.0->koeda) (1.7.1)\n",
      "Downloading koeda-0.0.4-py3-none-any.whl (566 kB)\n",
      "\u001b[2K   \u001b[90m━━━━━━━━━━━━━━━━━━━━━━━━━━━━━━━━━━━━━━━━\u001b[0m \u001b[32m566.4/566.4 kB\u001b[0m \u001b[31m10.1 MB/s\u001b[0m eta \u001b[36m0:00:00\u001b[0m\n",
      "\u001b[?25hDownloading tweepy-3.10.0-py2.py3-none-any.whl (30 kB)\n",
      "Downloading konlpy-0.6.0-py2.py3-none-any.whl (19.4 MB)\n",
      "\u001b[2K   \u001b[90m━━━━━━━━━━━━━━━━━━━━━━━━━━━━━━━━━━━━━━━━\u001b[0m \u001b[32m19.4/19.4 MB\u001b[0m \u001b[31m102.4 MB/s\u001b[0m eta \u001b[36m0:00:00\u001b[0m\n",
      "\u001b[?25hDownloading jpype1-1.5.2-cp311-cp311-manylinux_2_17_x86_64.manylinux2014_x86_64.whl (494 kB)\n",
      "\u001b[2K   \u001b[90m━━━━━━━━━━━━━━━━━━━━━━━━━━━━━━━━━━━━━━━━\u001b[0m \u001b[32m494.1/494.1 kB\u001b[0m \u001b[31m36.7 MB/s\u001b[0m eta \u001b[36m0:00:00\u001b[0m\n",
      "\u001b[?25hInstalling collected packages: JPype1, konlpy, tweepy, koeda\n",
      "  Attempting uninstall: tweepy\n",
      "    Found existing installation: tweepy 4.15.0\n",
      "    Uninstalling tweepy-4.15.0:\n",
      "      Successfully uninstalled tweepy-4.15.0\n",
      "Successfully installed JPype1-1.5.2 koeda-0.0.4 konlpy-0.6.0 tweepy-3.10.0\n"
     ]
    }
   ],
   "source": [
    "!pip install koeda"
   ]
  },
  {
   "cell_type": "code",
   "execution_count": 66,
   "metadata": {
    "colab": {
     "base_uri": "https://localhost:8080/"
    },
    "executionInfo": {
     "elapsed": 6,
     "status": "ok",
     "timestamp": 1742279041654,
     "user": {
      "displayName": "김용하",
      "userId": "08808827916255903945"
     },
     "user_tz": -540
    },
    "id": "wxYCtiYH7Dua",
    "outputId": "d546dc69-df0f-4c46-d160-bfd930c6a394"
   },
   "outputs": [
    {
     "name": "stdout",
     "output_type": "stream",
     "text": [
      "situation_encoded\n",
      "3     10926\n",
      "9      5223\n",
      "6      4962\n",
      "2      4222\n",
      "0      4207\n",
      "5      4085\n",
      "4      3402\n",
      "11     3283\n",
      "10     3091\n",
      "1      3022\n",
      "7      2738\n",
      "8      2467\n",
      "Name: count, dtype: int64\n",
      "emotion_encoded\n",
      "3    9319\n",
      "2    9160\n",
      "4    9142\n",
      "5    9125\n",
      "1    8756\n",
      "0    6126\n",
      "Name: count, dtype: int64\n"
     ]
    }
   ],
   "source": [
    "print(train_df[\"situation_encoded\"].value_counts())\n",
    "print(train_df[\"emotion_encoded\"].value_counts())"
   ]
  },
  {
   "cell_type": "code",
   "execution_count": 59,
   "metadata": {
    "colab": {
     "base_uri": "https://localhost:8080/"
    },
    "executionInfo": {
     "elapsed": 821,
     "status": "ok",
     "timestamp": 1742279485313,
     "user": {
      "displayName": "김용하",
      "userId": "08808827916255903945"
     },
     "user_tz": -540
    },
    "id": "FHtt-h0LwkRw",
    "outputId": "d50833c8-5fab-42af-f9ac-84a9df0dcdd7"
   },
   "outputs": [
    {
     "name": "stdout",
     "output_type": "stream",
     "text": [
      "\n",
      "📊 오버샘플링 후 감정 클래스 분포:\n",
      " Counter({2: 24480, 0: 24480, 3: 24480, 1: 24480, 5: 24480, 4: 24480})\n",
      "\n",
      "📊 오버샘플링 후 상황 클래스 분포:\n",
      " Counter({9: 12240, 3: 12240, 5: 12240, 7: 12240, 6: 12240, 2: 12240, 11: 12240, 10: 12240, 8: 12240, 4: 12240, 0: 12240, 1: 12240})\n"
     ]
    }
   ],
   "source": [
    "import pandas as pd\n",
    "from imblearn.over_sampling import RandomOverSampler\n",
    "from collections import Counter\n",
    "\n",
    "# ✅ 감정 + 상황을 결합하여 새로운 라벨 생성\n",
    "train_df[\"combined_label\"] = train_df[\"emotion_encoded\"].astype(str) + \"_\" + train_df[\"situation_encoded\"].astype(str)\n",
    "\n",
    "# ✅ X (텍스트), y (결합된 라벨)\n",
    "X = train_df[\"text\"]\n",
    "y = train_df[\"combined_label\"]\n",
    "\n",
    "# ✅ RandomOverSampler 오버샘플링 적용\n",
    "ros = RandomOverSampler(sampling_strategy='auto', random_state=42)\n",
    "X_resampled, y_resampled = ros.fit_resample(X.values.reshape(-1, 1), y)\n",
    "\n",
    "# ✅ 오버샘플링된 데이터프레임 생성\n",
    "train_df_resampled = pd.DataFrame({'text': X_resampled.flatten(), 'combined_label': y_resampled})\n",
    "\n",
    "# ✅ 감정과 상황 다시 분리\n",
    "train_df_resampled[['emotion_encoded', 'situation_encoded']] = train_df_resampled['combined_label'].str.split('_', expand=True)\n",
    "train_df_resampled = train_df_resampled.drop(columns=['combined_label'])\n",
    "\n",
    "# ✅ 감정과 상황을 정수형으로 변환\n",
    "train_df_resampled['emotion_encoded'] = train_df_resampled['emotion_encoded'].astype(int)\n",
    "train_df_resampled['situation_encoded'] = train_df_resampled['situation_encoded'].astype(int)\n",
    "\n",
    "# ✅ 오버샘플링 후 감정 & 상황 분포 확인\n",
    "print(\"\\n📊 오버샘플링 후 감정 클래스 분포:\\n\", Counter(train_df_resampled['emotion_encoded']))\n",
    "print(\"\\n📊 오버샘플링 후 상황 클래스 분포:\\n\", Counter(train_df_resampled['situation_encoded']))\n"
   ]
  },
  {
   "cell_type": "code",
   "execution_count": 60,
   "metadata": {
    "colab": {
     "base_uri": "https://localhost:8080/"
    },
    "executionInfo": {
     "elapsed": 4,
     "status": "ok",
     "timestamp": 1742279489968,
     "user": {
      "displayName": "김용하",
      "userId": "08808827916255903945"
     },
     "user_tz": -540
    },
    "id": "e7I3h3yb6y6m",
    "outputId": "13a97f7d-9ae3-4a0c-c325-f7946be042a7"
   },
   "outputs": [
    {
     "name": "stdout",
     "output_type": "stream",
     "text": [
      "situation_encoded\n",
      "9     12240\n",
      "3     12240\n",
      "5     12240\n",
      "7     12240\n",
      "6     12240\n",
      "2     12240\n",
      "11    12240\n",
      "10    12240\n",
      "8     12240\n",
      "4     12240\n",
      "0     12240\n",
      "1     12240\n",
      "Name: count, dtype: int64\n",
      "emotion_encoded\n",
      "2    24480\n",
      "0    24480\n",
      "3    24480\n",
      "1    24480\n",
      "5    24480\n",
      "4    24480\n",
      "Name: count, dtype: int64\n"
     ]
    }
   ],
   "source": [
    "print(train_df_resampled[\"situation_encoded\"].value_counts())\n",
    "print(train_df_resampled[\"emotion_encoded\"].value_counts())"
   ]
  },
  {
   "cell_type": "code",
   "execution_count": 61,
   "metadata": {
    "colab": {
     "base_uri": "https://localhost:8080/",
     "height": 326
    },
    "executionInfo": {
     "elapsed": 299,
     "status": "ok",
     "timestamp": 1742279493190,
     "user": {
      "displayName": "김용하",
      "userId": "08808827916255903945"
     },
     "user_tz": -540
    },
    "id": "Fl2RH71q3Xgf",
    "outputId": "96781c77-7cf0-4c18-90c3-6d151a94674d"
   },
   "outputs": [
    {
     "data": {
      "image/png": "[encoded data removed]",
      "text/plain": [
       "<Figure size 1400x500 with 2 Axes>"
      ]
     },
     "metadata": {},
     "output_type": "display_data"
    }
   ],
   "source": [
    "plot_train_class_distribution(train_df_resampled)"
   ]
  },
  {
   "cell_type": "code",
   "execution_count": null,
   "metadata": {
    "id": "7ex41sFH3Xss"
   },
   "outputs": [],
   "source": [
    "train_df_resampled.head()"
   ]
  },
  {
   "cell_type": "code",
   "execution_count": 64,
   "metadata": {
    "colab": {
     "base_uri": "https://localhost:8080/",
     "height": 49,
     "referenced_widgets": [
      "3631c14c3c78425b9dc85e37e9abdb93",
      "384d65ea6c62431d976b189ec8b4a3bc",
      "5d4deefea7a44fd9b4482e09ebc9372b",
      "d9336e1a6ec649dda40957d46e1f77ba",
      "9c925f1cdc4f41e092ba965789675cd6",
      "b32359db9c9841db838b7a4e478aeb98",
      "36898873f8ea48cdbed466d116d0237d",
      "8236baa0a4604c0d81d886c3bed0e74f",
      "bd0c5cf4beef4150adea2298074c6f31",
      "b27aafcee1ba417099cb1a52f8d5d43a",
      "a3f2809a8be246eb88ed6865de326a1f"
     ]
    },
    "executionInfo": {
     "elapsed": 1658984,
     "status": "ok",
     "timestamp": 1742281257160,
     "user": {
      "displayName": "김용하",
      "userId": "08808827916255903945"
     },
     "user_tz": -540
    },
    "id": "BCFIllS-ygE5",
    "outputId": "aee5cf94-d785-42a6-98c0-f2e6bd52d1f5"
   },
   "outputs": [
    {
     "data": {
      "application/vnd.jupyter.widget-view+json": {
       "model_id": "3631c14c3c78425b9dc85e37e9abdb93",
       "version_major": 2,
       "version_minor": 0
      },
      "text/plain": [
       "Applying KoEDA Augmentation:   0%|          | 0/146880 [00:00<?, ?it/s]"
      ]
     },
     "metadata": {},
     "output_type": "display_data"
    }
   ],
   "source": [
    "from tqdm.auto import tqdm\n",
    "from koeda import EDA\n",
    "\n",
    "# ✅ KoEDA 설정 (형태소 분석기 선택 가능: \"Okt\", \"Mecab\")\n",
    "eda = EDA(\n",
    "    morpheme_analyzer=\"Okt\",\n",
    "    alpha_sr=0.1,  # 동의어 교체 확률\n",
    "    alpha_ri=0.1,  # 랜덤 삽입 확률\n",
    "    alpha_rs=0.1   # 랜덤 순서 변경 확률\n",
    ")\n",
    "\n",
    "# ✅ tqdm 진행률 적용\n",
    "tqdm.pandas(desc=\"Applying KoEDA Augmentation\")\n",
    "\n",
    "# ✅ KoEDA 증강 적용 (NaN 방지 포함)\n",
    "train_df_resampled[\"text\"] = train_df_resampled[\"text\"].fillna(\"\").astype(str).progress_apply(\n",
    "    lambda x: eda(x) if x else x\n",
    ")\n"
   ]
  },
  {
   "cell_type": "code",
   "execution_count": 65,
   "metadata": {
    "colab": {
     "base_uri": "https://localhost:8080/",
     "height": 276
    },
    "executionInfo": {
     "elapsed": 23,
     "status": "ok",
     "timestamp": 1742281265355,
     "user": {
      "displayName": "김용하",
      "userId": "08808827916255903945"
     },
     "user_tz": -540
    },
    "id": "ReruBOsUDix7",
    "outputId": "b24e7b64-8a6d-432c-8f3a-377347cbcc7f"
   },
   "outputs": [
    {
     "data": {
      "application/vnd.google.colaboratory.intrinsic+json": {
       "type": "dataframe",
       "variable_name": "train_df_resampled"
      },
      "text/html": [
       "\n",
       "  <div id=\"df-46ac0129-e522-403f-96c6-26ca2c30dca1\" class=\"colab-df-container\">\n",
       "    <div>\n",
       "<style scoped>\n",
       "    .dataframe tbody tr th:only-of-type {\n",
       "        vertical-align: middle;\n",
       "    }\n",
       "\n",
       "    .dataframe tbody tr th {\n",
       "        vertical-align: top;\n",
       "    }\n",
       "\n",
       "    .dataframe thead th {\n",
       "        text-align: right;\n",
       "    }\n",
       "</style>\n",
       "<table border=\"1\" class=\"dataframe\">\n",
       "  <thead>\n",
       "    <tr style=\"text-align: right;\">\n",
       "      <th></th>\n",
       "      <th>text</th>\n",
       "      <th>emotion_encoded</th>\n",
       "      <th>situation_encoded</th>\n",
       "    </tr>\n",
       "  </thead>\n",
       "  <tbody>\n",
       "    <tr>\n",
       "      <th>0</th>\n",
       "      <td>일은 한 왜 해도 해도 끝이 없을까? 화가 매듭 난다 그냥 내가 해결하는 게 나아 ...</td>\n",
       "      <td>2</td>\n",
       "      <td>9</td>\n",
       "    </tr>\n",
       "    <tr>\n",
       "      <th>1</th>\n",
       "      <td>이번 달에 년 또 급여가 반제 깎였어! 물가는 오르는데 월급 극도 만 자꾸 깎이니까...</td>\n",
       "      <td>2</td>\n",
       "      <td>9</td>\n",
       "    </tr>\n",
       "    <tr>\n",
       "      <th>2</th>\n",
       "      <td>에 신입이 들어왔는데 말투가 거슬려 그런 애를 매일 봐야 한다고 생각하니까 스트레스...</td>\n",
       "      <td>2</td>\n",
       "      <td>9</td>\n",
       "    </tr>\n",
       "    <tr>\n",
       "      <th>3</th>\n",
       "      <td>직장에서 막내라는 이유로 나에게만 온갖 심부름을 시켜 일도 많은 데 정말 세공 분하...</td>\n",
       "      <td>2</td>\n",
       "      <td>9</td>\n",
       "    </tr>\n",
       "    <tr>\n",
       "      <th>4</th>\n",
       "      <td>얼마 전 입사한 신입사원이 나를 무시 것 같아서 너무 화가 나하는상사인 나에게 먼저...</td>\n",
       "      <td>2</td>\n",
       "      <td>9</td>\n",
       "    </tr>\n",
       "  </tbody>\n",
       "</table>\n",
       "</div>\n",
       "    <div class=\"colab-df-buttons\">\n",
       "\n",
       "  <div class=\"colab-df-container\">\n",
       "    <button class=\"colab-df-convert\" onclick=\"convertToInteractive('df-46ac0129-e522-403f-96c6-26ca2c30dca1')\"\n",
       "            title=\"Convert this dataframe to an interactive table.\"\n",
       "            style=\"display:none;\">\n",
       "\n",
       "  <svg xmlns=\"http://www.w3.org/2000/svg\" height=\"24px\" viewBox=\"0 -960 960 960\">\n",
       "    <path d=\"M120-120v-720h720v720H120Zm60-500h600v-160H180v160Zm220 220h160v-160H400v160Zm0 220h160v-160H400v160ZM180-400h160v-160H180v160Zm440 0h160v-160H620v160ZM180-180h160v-160H180v160Zm440 0h160v-160H620v160Z\"/>\n",
       "  </svg>\n",
       "    </button>\n",
       "\n",
       "  <style>\n",
       "    .colab-df-container {\n",
       "      display:flex;\n",
       "      gap: 12px;\n",
       "    }\n",
       "\n",
       "    .colab-df-convert {\n",
       "      background-color: #E8F0FE;\n",
       "      border: none;\n",
       "      border-radius: 50%;\n",
       "      cursor: pointer;\n",
       "      display: none;\n",
       "      fill: #1967D2;\n",
       "      height: 32px;\n",
       "      padding: 0 0 0 0;\n",
       "      width: 32px;\n",
       "    }\n",
       "\n",
       "    .colab-df-convert:hover {\n",
       "      background-color: #E2EBFA;\n",
       "      box-shadow: 0px 1px 2px rgba(60, 64, 67, 0.3), 0px 1px 3px 1px rgba(60, 64, 67, 0.15);\n",
       "      fill: #174EA6;\n",
       "    }\n",
       "\n",
       "    .colab-df-buttons div {\n",
       "      margin-bottom: 4px;\n",
       "    }\n",
       "\n",
       "    [theme=dark] .colab-df-convert {\n",
       "      background-color: #3B4455;\n",
       "      fill: #D2E3FC;\n",
       "    }\n",
       "\n",
       "    [theme=dark] .colab-df-convert:hover {\n",
       "      background-color: #434B5C;\n",
       "      box-shadow: 0px 1px 3px 1px rgba(0, 0, 0, 0.15);\n",
       "      filter: drop-shadow(0px 1px 2px rgba(0, 0, 0, 0.3));\n",
       "      fill: #FFFFFF;\n",
       "    }\n",
       "  </style>\n",
       "\n",
       "    <script>\n",
       "      const buttonEl =\n",
       "        document.querySelector('#df-46ac0129-e522-403f-96c6-26ca2c30dca1 button.colab-df-convert');\n",
       "      buttonEl.style.display =\n",
       "        google.colab.kernel.accessAllowed ? 'block' : 'none';\n",
       "\n",
       "      async function convertToInteractive(key) {\n",
       "        const element = document.querySelector('#df-46ac0129-e522-403f-96c6-26ca2c30dca1');\n",
       "        const dataTable =\n",
       "          await google.colab.kernel.invokeFunction('convertToInteractive',\n",
       "                                                    [key], {});\n",
       "        if (!dataTable) return;\n",
       "\n",
       "        const docLinkHtml = 'Like what you see? Visit the ' +\n",
       "          '<a target=\"_blank\" href=https://colab.research.google.com/notebooks/data_table.ipynb>data table notebook</a>'\n",
       "          + ' to learn more about interactive tables.';\n",
       "        element.innerHTML = '';\n",
       "        dataTable['output_type'] = 'display_data';\n",
       "        await google.colab.output.renderOutput(dataTable, element);\n",
       "        const docLink = document.createElement('div');\n",
       "        docLink.innerHTML = docLinkHtml;\n",
       "        element.appendChild(docLink);\n",
       "      }\n",
       "    </script>\n",
       "  </div>\n",
       "\n",
       "\n",
       "<div id=\"df-0be9bbfa-bbff-400b-b3c7-aa4d42ae9200\">\n",
       "  <button class=\"colab-df-quickchart\" onclick=\"quickchart('df-0be9bbfa-bbff-400b-b3c7-aa4d42ae9200')\"\n",
       "            title=\"Suggest charts\"\n",
       "            style=\"display:none;\">\n",
       "\n",
       "<svg xmlns=\"http://www.w3.org/2000/svg\" height=\"24px\"viewBox=\"0 0 24 24\"\n",
       "     width=\"24px\">\n",
       "    <g>\n",
       "        <path d=\"M19 3H5c-1.1 0-2 .9-2 2v14c0 1.1.9 2 2 2h14c1.1 0 2-.9 2-2V5c0-1.1-.9-2-2-2zM9 17H7v-7h2v7zm4 0h-2V7h2v10zm4 0h-2v-4h2v4z\"/>\n",
       "    </g>\n",
       "</svg>\n",
       "  </button>\n",
       "\n",
       "<style>\n",
       "  .colab-df-quickchart {\n",
       "      --bg-color: #E8F0FE;\n",
       "      --fill-color: #1967D2;\n",
       "      --hover-bg-color: #E2EBFA;\n",
       "      --hover-fill-color: #174EA6;\n",
       "      --disabled-fill-color: #AAA;\n",
       "      --disabled-bg-color: #DDD;\n",
       "  }\n",
       "\n",
       "  [theme=dark] .colab-df-quickchart {\n",
       "      --bg-color: #3B4455;\n",
       "      --fill-color: #D2E3FC;\n",
       "      --hover-bg-color: #434B5C;\n",
       "      --hover-fill-color: #FFFFFF;\n",
       "      --disabled-bg-color: #3B4455;\n",
       "      --disabled-fill-color: #666;\n",
       "  }\n",
       "\n",
       "  .colab-df-quickchart {\n",
       "    background-color: var(--bg-color);\n",
       "    border: none;\n",
       "    border-radius: 50%;\n",
       "    cursor: pointer;\n",
       "    display: none;\n",
       "    fill: var(--fill-color);\n",
       "    height: 32px;\n",
       "    padding: 0;\n",
       "    width: 32px;\n",
       "  }\n",
       "\n",
       "  .colab-df-quickchart:hover {\n",
       "    background-color: var(--hover-bg-color);\n",
       "    box-shadow: 0 1px 2px rgba(60, 64, 67, 0.3), 0 1px 3px 1px rgba(60, 64, 67, 0.15);\n",
       "    fill: var(--button-hover-fill-color);\n",
       "  }\n",
       "\n",
       "  .colab-df-quickchart-complete:disabled,\n",
       "  .colab-df-quickchart-complete:disabled:hover {\n",
       "    background-color: var(--disabled-bg-color);\n",
       "    fill: var(--disabled-fill-color);\n",
       "    box-shadow: none;\n",
       "  }\n",
       "\n",
       "  .colab-df-spinner {\n",
       "    border: 2px solid var(--fill-color);\n",
       "    border-color: transparent;\n",
       "    border-bottom-color: var(--fill-color);\n",
       "    animation:\n",
       "      spin 1s steps(1) infinite;\n",
       "  }\n",
       "\n",
       "  @keyframes spin {\n",
       "    0% {\n",
       "      border-color: transparent;\n",
       "      border-bottom-color: var(--fill-color);\n",
       "      border-left-color: var(--fill-color);\n",
       "    }\n",
       "    20% {\n",
       "      border-color: transparent;\n",
       "      border-left-color: var(--fill-color);\n",
       "      border-top-color: var(--fill-color);\n",
       "    }\n",
       "    30% {\n",
       "      border-color: transparent;\n",
       "      border-left-color: var(--fill-color);\n",
       "      border-top-color: var(--fill-color);\n",
       "      border-right-color: var(--fill-color);\n",
       "    }\n",
       "    40% {\n",
       "      border-color: transparent;\n",
       "      border-right-color: var(--fill-color);\n",
       "      border-top-color: var(--fill-color);\n",
       "    }\n",
       "    60% {\n",
       "      border-color: transparent;\n",
       "      border-right-color: var(--fill-color);\n",
       "    }\n",
       "    80% {\n",
       "      border-color: transparent;\n",
       "      border-right-color: var(--fill-color);\n",
       "      border-bottom-color: var(--fill-color);\n",
       "    }\n",
       "    90% {\n",
       "      border-color: transparent;\n",
       "      border-bottom-color: var(--fill-color);\n",
       "    }\n",
       "  }\n",
       "</style>\n",
       "\n",
       "  <script>\n",
       "    async function quickchart(key) {\n",
       "      const quickchartButtonEl =\n",
       "        document.querySelector('#' + key + ' button');\n",
       "      quickchartButtonEl.disabled = true;  // To prevent multiple clicks.\n",
       "      quickchartButtonEl.classList.add('colab-df-spinner');\n",
       "      try {\n",
       "        const charts = await google.colab.kernel.invokeFunction(\n",
       "            'suggestCharts', [key], {});\n",
       "      } catch (error) {\n",
       "        console.error('Error during call to suggestCharts:', error);\n",
       "      }\n",
       "      quickchartButtonEl.classList.remove('colab-df-spinner');\n",
       "      quickchartButtonEl.classList.add('colab-df-quickchart-complete');\n",
       "    }\n",
       "    (() => {\n",
       "      let quickchartButtonEl =\n",
       "        document.querySelector('#df-0be9bbfa-bbff-400b-b3c7-aa4d42ae9200 button');\n",
       "      quickchartButtonEl.style.display =\n",
       "        google.colab.kernel.accessAllowed ? 'block' : 'none';\n",
       "    })();\n",
       "  </script>\n",
       "</div>\n",
       "\n",
       "    </div>\n",
       "  </div>\n"
      ],
      "text/plain": [
       "                                                text  emotion_encoded  \\\n",
       "0  일은 한 왜 해도 해도 끝이 없을까? 화가 매듭 난다 그냥 내가 해결하는 게 나아 ...                2   \n",
       "1  이번 달에 년 또 급여가 반제 깎였어! 물가는 오르는데 월급 극도 만 자꾸 깎이니까...                2   \n",
       "2  에 신입이 들어왔는데 말투가 거슬려 그런 애를 매일 봐야 한다고 생각하니까 스트레스...                2   \n",
       "3  직장에서 막내라는 이유로 나에게만 온갖 심부름을 시켜 일도 많은 데 정말 세공 분하...                2   \n",
       "4  얼마 전 입사한 신입사원이 나를 무시 것 같아서 너무 화가 나하는상사인 나에게 먼저...                2   \n",
       "\n",
       "   situation_encoded  \n",
       "0                  9  \n",
       "1                  9  \n",
       "2                  9  \n",
       "3                  9  \n",
       "4                  9  "
      ]
     },
     "execution_count": 65,
     "metadata": {},
     "output_type": "execute_result"
    }
   ],
   "source": [
    "train_df_resampled.head()"
   ]
  },
  {
   "cell_type": "code",
   "execution_count": 66,
   "metadata": {
    "colab": {
     "base_uri": "https://localhost:8080/"
    },
    "executionInfo": {
     "elapsed": 29,
     "status": "ok",
     "timestamp": 1742281273381,
     "user": {
      "displayName": "김용하",
      "userId": "08808827916255903945"
     },
     "user_tz": -540
    },
    "id": "mVwXr72XzVZW",
    "outputId": "6ba6c750-6393-47c5-ef4f-cff78e17b162"
   },
   "outputs": [
    {
     "name": "stdout",
     "output_type": "stream",
     "text": [
      "<class 'pandas.core.frame.DataFrame'>\n",
      "RangeIndex: 146880 entries, 0 to 146879\n",
      "Data columns (total 3 columns):\n",
      " #   Column             Non-Null Count   Dtype \n",
      "---  ------             --------------   ----- \n",
      " 0   text               146880 non-null  object\n",
      " 1   emotion_encoded    146880 non-null  int64 \n",
      " 2   situation_encoded  146880 non-null  int64 \n",
      "dtypes: int64(2), object(1)\n",
      "memory usage: 3.4+ MB\n"
     ]
    }
   ],
   "source": [
    "train_df_resampled.info()"
   ]
  },
  {
   "cell_type": "code",
   "execution_count": null,
   "metadata": {
    "id": "PpNkPEfyDntO"
   },
   "outputs": [],
   "source": []
  },
  {
   "cell_type": "code",
   "execution_count": 67,
   "metadata": {
    "colab": {
     "base_uri": "https://localhost:8080/",
     "height": 326
    },
    "executionInfo": {
     "elapsed": 464,
     "status": "ok",
     "timestamp": 1742281279434,
     "user": {
      "displayName": "김용하",
      "userId": "08808827916255903945"
     },
     "user_tz": -540
    },
    "id": "9I6ofz9lsszq",
    "outputId": "dbd1ca81-d70e-43bb-cb22-5d91cd27b94a"
   },
   "outputs": [
    {
     "data": {
      "image/png": "[encoded data removed]",
      "text/plain": [
       "<Figure size 1400x500 with 2 Axes>"
      ]
     },
     "metadata": {},
     "output_type": "display_data"
    }
   ],
   "source": [
    "plot_train_class_distribution(train_df_resampled)"
   ]
  },
  {
   "cell_type": "code",
   "execution_count": 68,
   "metadata": {
    "colab": {
     "base_uri": "https://localhost:8080/"
    },
    "executionInfo": {
     "elapsed": 7,
     "status": "ok",
     "timestamp": 1742281282241,
     "user": {
      "displayName": "김용하",
      "userId": "08808827916255903945"
     },
     "user_tz": -540
    },
    "id": "LI6oJaDPvIzJ",
    "outputId": "8710dabf-e61c-48af-e0f4-f5633f815fb6"
   },
   "outputs": [
    {
     "name": "stdout",
     "output_type": "stream",
     "text": [
      "<class 'pandas.core.frame.DataFrame'>\n",
      "RangeIndex: 146880 entries, 0 to 146879\n",
      "Data columns (total 3 columns):\n",
      " #   Column             Non-Null Count   Dtype \n",
      "---  ------             --------------   ----- \n",
      " 0   text               146880 non-null  object\n",
      " 1   emotion_encoded    146880 non-null  int64 \n",
      " 2   situation_encoded  146880 non-null  int64 \n",
      "dtypes: int64(2), object(1)\n",
      "memory usage: 3.4+ MB\n"
     ]
    }
   ],
   "source": [
    "train_df_resampled.info()"
   ]
  },
  {
   "cell_type": "code",
   "execution_count": 68,
   "metadata": {
    "executionInfo": {
     "elapsed": 783,
     "status": "ok",
     "timestamp": 1742281291645,
     "user": {
      "displayName": "김용하",
      "userId": "08808827916255903945"
     },
     "user_tz": -540
    },
    "id": "rU6fP9bLvI_x"
   },
   "outputs": [],
   "source": [
    "#train_df = train_df_resampled.copy()\n",
    "train_df.to_csv(f\"data/{TASK_CODE}_train_df_oversampling.csv\", index=False, encoding=\"utf-8-sig\")"
   ]
  },
  {
   "cell_type": "code",
   "execution_count": null,
   "metadata": {
    "id": "vFwwZJHvABqO"
   },
   "outputs": [],
   "source": [
    "## 학습 시작"
   ]
  },
  {
   "cell_type": "code",
   "execution_count": 70,
   "metadata": {
    "colab": {
     "base_uri": "https://localhost:8080/",
     "height": 262,
     "referenced_widgets": [
      "e5cc8c9d257349078d8496bcf3233123",
      "ac15dc9421f94161af2389d668bcfcfb",
      "c44f275c644d48c999226bda4c8dae4f",
      "611c01f4db91463d8d7a677b8d94d46c",
      "7215a379550145df9f1effe2f995c561",
      "813d0e5bd2f144fd8956b2f04b1c3397",
      "822e4eb9a5b64d9dba4fff68d1ff3775",
      "b0648835bf5e4bf2b19fc9a411252b3e",
      "cc1cc73192974695a0eae646937e79ca",
      "977c0455a98b41f49fad0a0dd77c061b",
      "d911cfe2832d46838fc8abc4c0ec8a3c",
      "c750617062004137b0c309131bfd9af6",
      "fd5d7281080e47f8b0bf72b38ac95fdd",
      "2f7a41757a05400183f53235fe10513d",
      "5987e42ac13d4163aa71c72b55605ea7",
      "69ebf03141774d0e813b0c254d40d31d",
      "781ba699c2f744b5806b4012f4770629",
      "074dcee40009444d9317cef058a99ef5",
      "1f32d9c42ce34995974f8157f88e5f94",
      "459d636ab30243a0a0251b45004c2aeb",
      "560af2471c4a4d27b0fca0401a005ff4",
      "504bef1bdd1a4602ac3e47ec90ae444d",
      "ceee142a4bd54cf9b2fc885b749c0d6f",
      "6ad5c2499b8444a38bae5fb6052c41e3",
      "9790c589369a44aaa723b6b1d0993fe5",
      "310aef6294794312b1bd28dd6592fe37",
      "77b7337be6c947b0945480874174e8cf",
      "d062ec79d74448e381b9af5a3c16dbee",
      "fac7353effc843d29c63c5870c7cf776",
      "4830b53968b04a30b23c2a4e121d29ab",
      "538b9fde99494d688e3a9e2f36a47f8b",
      "eb8a5f808fc646249bb6e87ae52fce27",
      "2aa288549212475aaa714ca36dcbf0ca"
     ]
    },
    "executionInfo": {
     "elapsed": 2012,
     "status": "ok",
     "timestamp": 1742281324756,
     "user": {
      "displayName": "김용하",
      "userId": "08808827916255903945"
     },
     "user_tz": -540
    },
    "id": "EWOGRUmMi2vs",
    "outputId": "ad771cf5-1e38-469a-df0f-d051410d6c50"
   },
   "outputs": [
    {
     "name": "stdout",
     "output_type": "stream",
     "text": [
      "✅ KoELECTRA 토크나이저 로드 완료!\n"
     ]
    }
   ],
   "source": [
    "from transformers import ElectraTokenizer  # ✅ KoELECTRA로 변경\n",
    "tokenizer = ElectraTokenizer.from_pretrained(\"monologg/koelectra-base-discriminator\")  # KoELECTRA 모델 적용\n",
    "print(\"✅ KoELECTRA 토크나이저 로드 완료!\")"
   ]
  },
  {
   "cell_type": "code",
   "execution_count": 72,
   "metadata": {
    "colab": {
     "base_uri": "https://localhost:8080/"
    },
    "executionInfo": {
     "elapsed": 7,
     "status": "ok",
     "timestamp": 1742281329852,
     "user": {
      "displayName": "김용하",
      "userId": "08808827916255903945"
     },
     "user_tz": -540
    },
    "id": "86O9J1wni2-c",
    "outputId": "c7ea1553-b767-4b48-bc15-02cc9e7480fc"
   },
   "outputs": [
    {
     "name": "stdout",
     "output_type": "stream",
     "text": [
      "✅ PyTorch Dataset (Emotion + Situation) 정의 완료!\n"
     ]
    }
   ],
   "source": [
    "import torch\n",
    "from torch.utils.data import Dataset\n",
    "\n",
    "# ✅ 감정 + 상황 분류 데이터셋 정의\n",
    "class EmotionSituationDataset(Dataset):\n",
    "    def __init__(self, texts, emotions, situations, tokenizer, max_length=128):\n",
    "        self.texts = texts\n",
    "        self.emotions = list(map(int, emotions))  # 🔹 감정(Label) 정수 변환\n",
    "        self.situations = list(map(int, situations))  # 🔹 상황(Label) 정수 변환\n",
    "        self.tokenizer = tokenizer\n",
    "        self.max_length = max_length\n",
    "\n",
    "    def __len__(self):\n",
    "        return len(self.texts)\n",
    "\n",
    "    def __getitem__(self, idx):\n",
    "        # 토큰화 수행\n",
    "        encoding = self.tokenizer(\n",
    "            self.texts[idx],\n",
    "            truncation=True,\n",
    "            padding=\"max_length\",\n",
    "            max_length=self.max_length,\n",
    "            return_tensors=\"pt\"\n",
    "        )\n",
    "\n",
    "        # Tensor 변환 및 반환\n",
    "        input_ids = encoding[\"input_ids\"].squeeze(0)\n",
    "        attention_mask = encoding[\"attention_mask\"].squeeze(0)\n",
    "        token_type_ids = encoding[\"token_type_ids\"].squeeze(0)\n",
    "\n",
    "        return {\n",
    "            \"input_ids\": input_ids,\n",
    "            \"attention_mask\": attention_mask,\n",
    "            \"token_type_ids\": token_type_ids,\n",
    "            \"emotion\": torch.tensor(self.emotions[idx], dtype=torch.long),  # ✅ 감정(Label)\n",
    "            \"situation\": torch.tensor(self.situations[idx], dtype=torch.long),  # ✅ 상황(Label)\n",
    "        }\n",
    "\n",
    "print(\"✅ PyTorch Dataset (Emotion + Situation) 정의 완료!\")\n"
   ]
  },
  {
   "cell_type": "code",
   "execution_count": 74,
   "metadata": {
    "colab": {
     "base_uri": "https://localhost:8080/"
    },
    "executionInfo": {
     "elapsed": 849,
     "status": "ok",
     "timestamp": 1742281338331,
     "user": {
      "displayName": "김용하",
      "userId": "08808827916255903945"
     },
     "user_tz": -540
    },
    "id": "2TuBlnjZmsnr",
    "outputId": "5e03bdbb-73f9-4631-dd7c-37a1fa742d21"
   },
   "outputs": [
    {
     "name": "stdout",
     "output_type": "stream",
     "text": [
      "✅ Dataset 생성 완료!\n"
     ]
    }
   ],
   "source": [
    "import pandas as pd\n",
    "\n",
    "# ✅ 전처리된 감정 데이터 로드\n",
    "train_df = pd.read_csv(f\"data/{TASK_CODE}_train_df_oversampling.csv\", encoding=\"utf-8-sig\")\n",
    "test_df = pd.read_csv(f\"data/{TASK_CODE}_test_df.csv\", encoding=\"utf-8-sig\")\n",
    "\n",
    "# ✅ Dataset 생성\n",
    "train_dataset = EmotionSituationDataset(\n",
    "    train_df[\"text\"].tolist(),\n",
    "    train_df[\"emotion_encoded\"].tolist(),\n",
    "    train_df[\"situation_encoded\"].tolist(),\n",
    "    tokenizer\n",
    ")\n",
    "\n",
    "test_dataset = EmotionSituationDataset(\n",
    "    test_df[\"text\"].tolist(),\n",
    "    test_df[\"emotion_encoded\"].tolist(),\n",
    "    train_df[\"situation_encoded\"].tolist(),\n",
    "    tokenizer\n",
    ")\n",
    "\n",
    "print(\"✅ Dataset 생성 완료!\")\n"
   ]
  },
  {
   "cell_type": "code",
   "execution_count": 108,
   "metadata": {
    "colab": {
     "base_uri": "https://localhost:8080/"
    },
    "executionInfo": {
     "elapsed": 10,
     "status": "ok",
     "timestamp": 1742281341775,
     "user": {
      "displayName": "김용하",
      "userId": "08808827916255903945"
     },
     "user_tz": -540
    },
    "id": "WvlkW-pRlS_t",
    "outputId": "ca6df705-ca45-4df6-ec36-b656551b1861"
   },
   "outputs": [
    {
     "name": "stdout",
     "output_type": "stream",
     "text": [
      "✅ DataLoader 생성 완료!\n"
     ]
    }
   ],
   "source": [
    "from torch.utils.data import DataLoader\n",
    "\n",
    "# ✅ DataLoader 생성\n",
    "train_loader = DataLoader(train_dataset, batch_size=8, shuffle=True)\n",
    "test_loader = DataLoader(test_dataset, batch_size=8, shuffle=False)\n",
    "\n",
    "print(\"✅ DataLoader 생성 완료!\")\n"
   ]
  },
  {
   "cell_type": "code",
   "execution_count": 78,
   "metadata": {
    "colab": {
     "base_uri": "https://localhost:8080/"
    },
    "executionInfo": {
     "elapsed": 23,
     "status": "ok",
     "timestamp": 1742281344280,
     "user": {
      "displayName": "김용하",
      "userId": "08808827916255903945"
     },
     "user_tz": -540
    },
    "id": "WOp3YLH1jKzW",
    "outputId": "a5df6ff4-3469-481f-b89e-10bc1342f5a9"
   },
   "outputs": [
    {
     "name": "stdout",
     "output_type": "stream",
     "text": [
      "✅ Using device: cuda\n"
     ]
    }
   ],
   "source": [
    "import torch\n",
    "\n",
    "# ✅ GPU 사용 가능하면 GPU로 설정\n",
    "device = torch.device(\"cuda\" if torch.cuda.is_available() else \"cpu\")\n",
    "\n",
    "print(f\"✅ Using device: {device}\")\n"
   ]
  },
  {
   "cell_type": "code",
   "execution_count": 86,
   "metadata": {
    "colab": {
     "base_uri": "https://localhost:8080/",
     "height": 118,
     "referenced_widgets": [
      "39dc234ff73a43f9b9316fe3ebc86fcc",
      "b72da850e5784b5c9b5ea8cbc0edcacf",
      "9b6196b9bc824b11904fe543375f7a11",
      "c979c770d4284578bccfdb6d1f420da7",
      "1da2aeeb5b404a4e8993109a95e38b13",
      "6413444a85554a399b99ff845e6498ed",
      "3ce592875e57453db08ac4022b2cf5c8",
      "d8e10cc630744eca856f59c049b88108",
      "b5046e4701d54cccb2a11d18ae568873",
      "869ebcc17c16411993691edaf48715b1",
      "5d41aabceff2406eaa5bf91927e05633",
      "fcd28c0780544acb9d912bcdade8bcd7",
      "4178c9e0460a4480b80b22a3dd07c5d3",
      "036339d9a8934de590028f08ca4eeeed",
      "e58e14b2d5e44adab1d8d69d52a47ad3",
      "a4152c51d6b64219906f874fccdd2efd",
      "c47b948ceeb94ff2b31210fee6eb2583",
      "fbeab2fbbd5b4ded9175b6524cd37487",
      "f888db88433147c39b654a97020aa2a5",
      "6f68b27c595b49a09c4c11a9a29605f6",
      "9cf6b42cc62f488caf8358adf0a7e116",
      "7ca869866fa24713bd009710177bc738"
     ]
    },
    "executionInfo": {
     "elapsed": 7157,
     "status": "ok",
     "timestamp": 1742281352762,
     "user": {
      "displayName": "김용하",
      "userId": "08808827916255903945"
     },
     "user_tz": -540
    },
    "id": "LrWC-KvRjU8u",
    "outputId": "f710ebdb-f1d3-4bb3-d872-f45829f1b1e8"
   },
   "outputs": [
    {
     "name": "stdout",
     "output_type": "stream",
     "text": [
      "6\n",
      "12\n"
     ]
    }
   ],
   "source": [
    "# ✅ KoBERT 감정 분류 모델 불러오기\n",
    "num_emotions = len(train_df[\"emotion_encoded\"].unique())\n",
    "num_situations = len(train_df[\"situation_encoded\"].unique())\n",
    "\n",
    "print(num_emotions)\n",
    "print(num_situations)\n",
    "\n",
    "\n",
    "model_name = \"monologg/koelectra-base-discriminator\"  # ✅ KoELECTRA 적용\n",
    "model = KoELECTRAEmotionSituation(model_name, num_emotions=num_emotions, num_situations=num_situations, dropout_prob=0.3).to(device)\n",
    "\n"
   ]
  },
  {
   "cell_type": "code",
   "execution_count": 110,
   "metadata": {
    "colab": {
     "base_uri": "https://localhost:8080/"
    },
    "executionInfo": {
     "elapsed": 26,
     "status": "ok",
     "timestamp": 1742281352800,
     "user": {
      "displayName": "김용하",
      "userId": "08808827916255903945"
     },
     "user_tz": -540
    },
    "id": "8RejHfY7jaJJ",
    "outputId": "fd00ff08-cdf1-4ec1-fe65-0a655be25c57"
   },
   "outputs": [
    {
     "name": "stdout",
     "output_type": "stream",
     "text": [
      "✅ 손실 함수 및 옵티마이저 설정 완료!\n"
     ]
    }
   ],
   "source": [
    "from torch.optim import AdamW\n",
    "import torch.nn as nn\n",
    "\n",
    "# ✅ 손실 함수 (CrossEntropyLoss)\n",
    "criterion_emotion = nn.CrossEntropyLoss()\n",
    "criterion_situation = nn.CrossEntropyLoss()\n",
    "\n",
    "# ✅ 옵티마이저 (AdamW)\n",
    "optimizer = AdamW(model.parameters(), lr=1e-5, eps=1e-8, weight_decay=1e-2)\n",
    "\n",
    "# ✅ 감정과 상황 손실 가중치 설정\n",
    "alpha = 0.3\n",
    "beta = 0.7\n",
    "\n",
    "print(\"✅ 손실 함수 및 옵티마이저 설정 완료!\")\n"
   ]
  },
  {
   "cell_type": "code",
   "execution_count": 112,
   "metadata": {
    "colab": {
     "base_uri": "https://localhost:8080/"
    },
    "id": "QXEXZdsqkVEo",
    "outputId": "9607ca5c-00a4-4b10-d80c-9f3b301158e1"
   },
   "outputs": [
    {
     "name": "stdout",
     "output_type": "stream",
     "text": [
      "\n",
      "🔥 Epoch 1/30\n"
     ]
    },
    {
     "name": "stderr",
     "output_type": "stream",
     "text": [
      "Training Epoch 1: 100%|████████████| 6454/6454 [1:26:33<00:00,  1.24it/s, Loss=0.1763, Acc_Emo=0.2468, Acc_Situ=0.5670]\n",
      "Validating Epoch 1: 100%|██████████████| 830/830 [02:03<00:00,  6.74it/s, Loss=0.4041, Acc_Emo=0.3806, Acc_Situ=0.1078]\n"
     ]
    },
    {
     "name": "stdout",
     "output_type": "stream",
     "text": [
      "📉 Epoch 1/30 - Loss: 3.2332 | Emo Acc: 0.3806 | Situ Acc: 0.1078 | Time: 5316.84 sec\n",
      "✅ Best model & history saved!\n",
      "\n",
      "🔥 Epoch 2/30\n"
     ]
    },
    {
     "name": "stderr",
     "output_type": "stream",
     "text": [
      "Training Epoch 2: 100%|████████████| 6454/6454 [1:33:46<00:00,  1.15it/s, Loss=0.1360, Acc_Emo=0.3473, Acc_Situ=0.6869]\n",
      "Validating Epoch 2: 100%|██████████████| 830/830 [00:50<00:00, 16.59it/s, Loss=0.4295, Acc_Emo=0.5086, Acc_Situ=0.1051]\n"
     ]
    },
    {
     "name": "stdout",
     "output_type": "stream",
     "text": [
      "📉 Epoch 2/30 - Loss: 3.4363 | Emo Acc: 0.5086 | Situ Acc: 0.1051 | Time: 5676.73 sec\n",
      "\n",
      "🔥 Epoch 3/30\n"
     ]
    },
    {
     "name": "stderr",
     "output_type": "stream",
     "text": [
      "Training Epoch 3: 100%|████████████| 6454/6454 [1:12:09<00:00,  1.49it/s, Loss=0.1146, Acc_Emo=0.5077, Acc_Situ=0.7364]\n",
      "Validating Epoch 3: 100%|██████████████| 830/830 [00:49<00:00, 16.67it/s, Loss=0.4453, Acc_Emo=0.6476, Acc_Situ=0.1044]\n"
     ]
    },
    {
     "name": "stdout",
     "output_type": "stream",
     "text": [
      "📉 Epoch 3/30 - Loss: 3.5626 | Emo Acc: 0.6476 | Situ Acc: 0.1044 | Time: 4379.40 sec\n",
      "\n",
      "🔥 Epoch 4/30\n"
     ]
    },
    {
     "name": "stderr",
     "output_type": "stream",
     "text": [
      "Training Epoch 4: 100%|████████████| 6454/6454 [1:12:08<00:00,  1.49it/s, Loss=0.0965, Acc_Emo=0.6099, Acc_Situ=0.7821]\n",
      "Validating Epoch 4: 100%|██████████████| 830/830 [00:49<00:00, 16.69it/s, Loss=0.4765, Acc_Emo=0.6923, Acc_Situ=0.1131]\n"
     ]
    },
    {
     "name": "stdout",
     "output_type": "stream",
     "text": [
      "📉 Epoch 4/30 - Loss: 3.8119 | Emo Acc: 0.6923 | Situ Acc: 0.1131 | Time: 4378.60 sec\n",
      "\n",
      "🔥 Epoch 5/30\n"
     ]
    },
    {
     "name": "stderr",
     "output_type": "stream",
     "text": [
      "Training Epoch 5: 100%|████████████| 6454/6454 [1:12:37<00:00,  1.48it/s, Loss=0.0819, Acc_Emo=0.6550, Acc_Situ=0.8288]\n",
      "Validating Epoch 5: 100%|██████████████| 830/830 [01:36<00:00,  8.61it/s, Loss=0.5082, Acc_Emo=0.7187, Acc_Situ=0.1120]\n"
     ]
    },
    {
     "name": "stdout",
     "output_type": "stream",
     "text": [
      "📉 Epoch 5/30 - Loss: 4.0659 | Emo Acc: 0.7187 | Situ Acc: 0.1120 | Time: 4454.13 sec\n",
      "\n",
      "🔥 Epoch 6/30\n"
     ]
    },
    {
     "name": "stderr",
     "output_type": "stream",
     "text": [
      "Training Epoch 6: 100%|████████████| 6454/6454 [1:12:51<00:00,  1.48it/s, Loss=0.0699, Acc_Emo=0.6873, Acc_Situ=0.8656]\n",
      "Validating Epoch 6: 100%|██████████████| 830/830 [01:36<00:00,  8.59it/s, Loss=0.5326, Acc_Emo=0.7276, Acc_Situ=0.1069]\n"
     ]
    },
    {
     "name": "stdout",
     "output_type": "stream",
     "text": [
      "📉 Epoch 6/30 - Loss: 4.2608 | Emo Acc: 0.7276 | Situ Acc: 0.1069 | Time: 4467.61 sec\n",
      "\n",
      "🔥 Epoch 7/30\n"
     ]
    },
    {
     "name": "stderr",
     "output_type": "stream",
     "text": [
      "Training Epoch 7: 100%|████████████| 6454/6454 [1:12:50<00:00,  1.48it/s, Loss=0.0594, Acc_Emo=0.7122, Acc_Situ=0.8955]\n",
      "Validating Epoch 7: 100%|██████████████| 830/830 [01:36<00:00,  8.63it/s, Loss=0.5493, Acc_Emo=0.7378, Acc_Situ=0.1110]\n"
     ]
    },
    {
     "name": "stdout",
     "output_type": "stream",
     "text": [
      "📉 Epoch 7/30 - Loss: 4.3947 | Emo Acc: 0.7378 | Situ Acc: 0.1110 | Time: 4466.84 sec\n",
      "\n",
      "🔥 Epoch 8/30\n"
     ]
    },
    {
     "name": "stderr",
     "output_type": "stream",
     "text": [
      "Training Epoch 8: 100%|████████████| 6454/6454 [1:11:56<00:00,  1.50it/s, Loss=0.0511, Acc_Emo=0.7331, Acc_Situ=0.9198]\n",
      "Validating Epoch 8: 100%|██████████████| 830/830 [01:29<00:00,  9.25it/s, Loss=0.5759, Acc_Emo=0.7395, Acc_Situ=0.1084]\n"
     ]
    },
    {
     "name": "stdout",
     "output_type": "stream",
     "text": [
      "📉 Epoch 8/30 - Loss: 4.6072 | Emo Acc: 0.7395 | Situ Acc: 0.1084 | Time: 4406.34 sec\n",
      "\n",
      "🔥 Epoch 9/30\n"
     ]
    },
    {
     "name": "stderr",
     "output_type": "stream",
     "text": [
      "Training Epoch 9: 100%|████████████| 6454/6454 [1:11:56<00:00,  1.50it/s, Loss=0.0444, Acc_Emo=0.7515, Acc_Situ=0.9365]\n",
      "Validating Epoch 9: 100%|██████████████| 830/830 [01:29<00:00,  9.25it/s, Loss=0.6135, Acc_Emo=0.7495, Acc_Situ=0.1120]\n"
     ]
    },
    {
     "name": "stdout",
     "output_type": "stream",
     "text": [
      "📉 Epoch 9/30 - Loss: 4.9083 | Emo Acc: 0.7495 | Situ Acc: 0.1120 | Time: 4406.09 sec\n",
      "⏹️ Early Stopping Triggered! Training Stopped.\n",
      "🎉 Training completed! Final model & history saved.\n"
     ]
    }
   ],
   "source": [
    "import time\n",
    "from tqdm import tqdm\n",
    "from sklearn.metrics import accuracy_score, f1_score\n",
    "import torch\n",
    "\n",
    "# ✅ 학습 관련 변수 초기화\n",
    "num_epochs = 30\n",
    "best_loss = float(\"inf\")\n",
    "early_stopping_patience = 8\n",
    "no_improve_count = 0\n",
    "\n",
    "# ✅ 학습 기록 저장용\n",
    "history = {\n",
    "    \"train_loss\": [], \"val_loss\": [],\n",
    "    \"train_acc_emotion\": [], \"val_acc_emotion\": [],\n",
    "    \"train_acc_situation\": [], \"val_acc_situation\": []\n",
    "}\n",
    "\n",
    "# ✅ 학습 루프 시작\n",
    "for epoch in range(num_epochs):\n",
    "    start_time = time.time()\n",
    "    print(f\"\\n🔥 Epoch {epoch + 1}/{num_epochs}\")\n",
    "\n",
    "    # 🔹 Training 단계\n",
    "    model.train()\n",
    "    train_loss, correct_emotions, correct_situations, total_samples = 0, 0, 0, 0\n",
    "\n",
    "    train_iterator = tqdm(train_loader, desc=f\"Training Epoch {epoch + 1}\", dynamic_ncols=True)\n",
    "\n",
    "    for batch in train_iterator:\n",
    "        input_ids = batch[\"input_ids\"].to(device)\n",
    "        attention_mask = batch[\"attention_mask\"].to(device)\n",
    "        token_type_ids = batch[\"token_type_ids\"].to(device)\n",
    "        labels_emotion = batch[\"emotion\"].to(device)\n",
    "        labels_situation = batch[\"situation\"].to(device)\n",
    "\n",
    "        optimizer.zero_grad()\n",
    "\n",
    "        # 모델 예측 (감정 & 상황)\n",
    "        logits_emotion, logits_situation = model(input_ids, attention_mask, token_type_ids)\n",
    "\n",
    "        # 손실 계산\n",
    "        loss_emotion = criterion_emotion(logits_emotion, labels_emotion)\n",
    "        loss_situation = criterion_situation(logits_situation, labels_situation)\n",
    "\n",
    "        # ✅ 최종 손실 함수\n",
    "        loss = alpha * loss_emotion + beta * loss_situation\n",
    "\n",
    "        loss.backward()\n",
    "        optimizer.step()\n",
    "\n",
    "        train_loss += loss.item()\n",
    "\n",
    "        # ✅ 정확도 계산\n",
    "        preds_emotion = torch.argmax(logits_emotion, dim=1)\n",
    "        preds_situation = torch.argmax(logits_situation, dim=1)\n",
    "\n",
    "        correct_emotions += torch.sum(preds_emotion == labels_emotion).item()\n",
    "        correct_situations += torch.sum(preds_situation == labels_situation).item()\n",
    "        total_samples += labels_emotion.size(0)\n",
    "\n",
    "        # 🔹 tqdm 한 줄 갱신\n",
    "        train_iterator.set_postfix({\n",
    "            \"Loss\": f\"{train_loss / (total_samples + 1e-8):.4f}\",\n",
    "            \"Acc_Emo\": f\"{correct_emotions / (total_samples + 1e-8):.4f}\",\n",
    "            \"Acc_Situ\": f\"{correct_situations / (total_samples + 1e-8):.4f}\"\n",
    "        })\n",
    "\n",
    "    # 🔹 학습 손실 및 정확도 기록\n",
    "    train_loss /= len(train_loader)\n",
    "    train_acc_emotion = correct_emotions / total_samples\n",
    "    train_acc_situation = correct_situations / total_samples\n",
    "    history[\"train_loss\"].append(train_loss)\n",
    "    history[\"train_acc_emotion\"].append(train_acc_emotion)\n",
    "    history[\"train_acc_situation\"].append(train_acc_situation)\n",
    "\n",
    "    # 🔹 Validation 단계\n",
    "    model.eval()\n",
    "    val_loss, correct_emotions, correct_situations, total_samples = 0, 0, 0, 0\n",
    "\n",
    "    val_iterator = tqdm(test_loader, desc=f\"Validating Epoch {epoch + 1}\", dynamic_ncols=True)\n",
    "\n",
    "    with torch.no_grad():\n",
    "        for batch in val_iterator:\n",
    "            input_ids = batch[\"input_ids\"].to(device)\n",
    "            attention_mask = batch[\"attention_mask\"].to(device)\n",
    "            token_type_ids = batch[\"token_type_ids\"].to(device)\n",
    "            labels_emotion = batch[\"emotion\"].to(device)\n",
    "            labels_situation = batch[\"situation\"].to(device)\n",
    "\n",
    "            # 모델 예측\n",
    "            logits_emotion, logits_situation = model(input_ids, attention_mask, token_type_ids)\n",
    "\n",
    "            # 손실 계산\n",
    "            loss_emotion = criterion_emotion(logits_emotion, labels_emotion)\n",
    "            loss_situation = criterion_situation(logits_situation, labels_situation)\n",
    "\n",
    "            # ✅ 최종 손실 함수\n",
    "            loss = alpha * loss_emotion + beta * loss_situation\n",
    "\n",
    "            val_loss += loss.item()\n",
    "\n",
    "            # ✅ 정확도 계산\n",
    "            preds_emotion = torch.argmax(logits_emotion, dim=1)\n",
    "            preds_situation = torch.argmax(logits_situation, dim=1)\n",
    "\n",
    "            correct_emotions += torch.sum(preds_emotion == labels_emotion).item()\n",
    "            correct_situations += torch.sum(preds_situation == labels_situation).item()\n",
    "            total_samples += labels_emotion.size(0)\n",
    "\n",
    "            # 🔹 tqdm 한 줄 갱신\n",
    "            val_iterator.set_postfix({\n",
    "                \"Loss\": f\"{val_loss / (total_samples + 1e-8):.4f}\",\n",
    "                \"Acc_Emo\": f\"{correct_emotions / (total_samples + 1e-8):.4f}\",\n",
    "                \"Acc_Situ\": f\"{correct_situations / (total_samples + 1e-8):.4f}\"\n",
    "            })\n",
    "\n",
    "    # 🔹 검증 손실 및 정확도 기록\n",
    "    val_loss /= len(test_loader)\n",
    "    val_acc_emotion = correct_emotions / total_samples\n",
    "    val_acc_situation = correct_situations / total_samples\n",
    "    history[\"val_loss\"].append(val_loss)\n",
    "    history[\"val_acc_emotion\"].append(val_acc_emotion)\n",
    "    history[\"val_acc_situation\"].append(val_acc_situation)\n",
    "\n",
    "    elapsed_time = time.time() - start_time\n",
    "\n",
    "    print(f\"📉 Epoch {epoch + 1}/{num_epochs} - Loss: {val_loss:.4f} | Emo Acc: {val_acc_emotion:.4f} | Situ Acc: {val_acc_situation:.4f} | Time: {elapsed_time:.2f} sec\")\n",
    "\n",
    "    # 🔹 베스트 모델 저장\n",
    "    if val_loss < best_loss:\n",
    "        best_loss = val_loss\n",
    "        no_improve_count = 0\n",
    "        torch.save(model.state_dict(), f\"checkpoints/{TASK_CODE}-best_model.pth\")\n",
    "        torch.save(history, f\"checkpoints/{TASK_CODE}-history.pth\")\n",
    "        print(\"✅ Best model & history saved!\")\n",
    "    else:\n",
    "        no_improve_count += 1\n",
    "\n",
    "    # 🔹 Early Stopping 체크\n",
    "    if no_improve_count >= early_stopping_patience:\n",
    "        print(\"⏹️ Early Stopping Triggered! Training Stopped.\")\n",
    "        break\n",
    "\n",
    "# 🔹 최종 모델 저장\n",
    "torch.save(model.state_dict(), f\"checkpoints/{TASK_CODE}-final_model.pth\")\n",
    "torch.save(history, f\"checkpoints/{TASK_CODE}-final_history.pth\")\n",
    "print(\"🎉 Training completed! Final model & history saved.\")\n"
   ]
  },
  {
   "cell_type": "code",
   "execution_count": 118,
   "metadata": {
    "colab": {
     "base_uri": "https://localhost:8080/",
     "height": 487
    },
    "executionInfo": {
     "elapsed": 1151,
     "status": "ok",
     "timestamp": 1742275747869,
     "user": {
      "displayName": "김용하",
      "userId": "08808827916255903945"
     },
     "user_tz": -540
    },
    "id": "VubVmCdHrdRx",
    "outputId": "8da92a37-0dfa-48c2-facb-30130fa6a4e1"
   },
   "outputs": [
    {
     "data": {
      "image/png": "[encoded data removed]",
      "text/plain": [
       "<Figure size 1200x500 with 2 Axes>"
      ]
     },
     "metadata": {},
     "output_type": "display_data"
    }
   ],
   "source": [
    "import matplotlib.pyplot as plt\n",
    "\n",
    "# ✅ history 로드\n",
    "history = torch.load(f\"checkpoints/{TASK_CODE}-final_history.pth\")\n",
    "\n",
    "epochs = range(1, len(history[\"train_loss\"]) + 1)\n",
    "\n",
    "plt.figure(figsize=(12, 5))\n",
    "\n",
    "# 🔹 Loss 그래프\n",
    "plt.subplot(1, 2, 1)\n",
    "plt.plot(epochs, history[\"train_loss\"], label=\"Train Loss\", marker=\"o\")\n",
    "plt.plot(epochs, history[\"val_loss\"], label=\"Validation Loss\", marker=\"o\")\n",
    "plt.xlabel(\"Epochs\")\n",
    "plt.ylabel(\"Loss\")\n",
    "plt.title(\"Training & Validation Loss\")\n",
    "plt.legend()\n",
    "plt.grid(True)\n",
    "\n",
    "# 🔹 Accuracy 그래프\n",
    "plt.subplot(1, 2, 2)\n",
    "plt.plot(epochs, history[\"train_acc_emotion\"], label=\"Train Emotion Accuracy\", marker=\"o\")\n",
    "plt.plot(epochs, history[\"val_acc_emotion\"], label=\"Validation Emotion Accuracy\", marker=\"o\")\n",
    "plt.plot(epochs, history[\"train_acc_situation\"], label=\"Train Situation Accuracy\", marker=\"o\")\n",
    "plt.plot(epochs, history[\"val_acc_situation\"], label=\"Validation Situation Accuracy\", marker=\"o\")\n",
    "plt.xlabel(\"Epochs\")\n",
    "plt.ylabel(\"Accuracy\")\n",
    "plt.title(\"Training & Validation Accuracy\")\n",
    "plt.legend()\n",
    "plt.grid(True)\n",
    "\n",
    "plt.show()\n"
   ]
  },
  {
   "cell_type": "code",
   "execution_count": 116,
   "metadata": {
    "colab": {
     "base_uri": "https://localhost:8080/"
    },
    "executionInfo": {
     "elapsed": 23276,
     "status": "ok",
     "timestamp": 1742275697678,
     "user": {
      "displayName": "김용하",
      "userId": "08808827916255903945"
     },
     "user_tz": -540
    },
    "id": "Br0Lb22brgAv",
    "outputId": "d1e067b4-a0de-4bbc-a8fc-72936836dc02"
   },
   "outputs": [
    {
     "ename": "FileNotFoundError",
     "evalue": "[Errno 2] No such file or directory: 'checkpoints/250318-AI-001-best_model2430.pth'",
     "output_type": "error",
     "traceback": [
      "\u001b[1;31m---------------------------------------------------------------------------\u001b[0m",
      "\u001b[1;31mFileNotFoundError\u001b[0m                         Traceback (most recent call last)",
      "Cell \u001b[1;32mIn[116], line 6\u001b[0m\n\u001b[0;32m      4\u001b[0m \u001b[38;5;66;03m# ✅ 베스트 모델 로드\u001b[39;00m\n\u001b[0;32m      5\u001b[0m best_model_path \u001b[38;5;241m=\u001b[39m \u001b[38;5;124mf\u001b[39m\u001b[38;5;124m\"\u001b[39m\u001b[38;5;124mcheckpoints/\u001b[39m\u001b[38;5;132;01m{\u001b[39;00mTASK_CODE\u001b[38;5;132;01m}\u001b[39;00m\u001b[38;5;124m-best_model2430.pth\u001b[39m\u001b[38;5;124m\"\u001b[39m\n\u001b[1;32m----> 6\u001b[0m model\u001b[38;5;241m.\u001b[39mload_state_dict(torch\u001b[38;5;241m.\u001b[39mload(best_model_path, map_location\u001b[38;5;241m=\u001b[39mdevice))\n\u001b[0;32m      7\u001b[0m model\u001b[38;5;241m.\u001b[39meval()\n\u001b[0;32m      9\u001b[0m \u001b[38;5;66;03m# ✅ 테스트 데이터 평가\u001b[39;00m\n",
      "File \u001b[1;32m~\\anaconda3\\Lib\\site-packages\\torch\\serialization.py:1425\u001b[0m, in \u001b[0;36mload\u001b[1;34m(f, map_location, pickle_module, weights_only, mmap, **pickle_load_args)\u001b[0m\n\u001b[0;32m   1422\u001b[0m \u001b[38;5;28;01mif\u001b[39;00m \u001b[38;5;124m\"\u001b[39m\u001b[38;5;124mencoding\u001b[39m\u001b[38;5;124m\"\u001b[39m \u001b[38;5;129;01mnot\u001b[39;00m \u001b[38;5;129;01min\u001b[39;00m pickle_load_args\u001b[38;5;241m.\u001b[39mkeys():\n\u001b[0;32m   1423\u001b[0m     pickle_load_args[\u001b[38;5;124m\"\u001b[39m\u001b[38;5;124mencoding\u001b[39m\u001b[38;5;124m\"\u001b[39m] \u001b[38;5;241m=\u001b[39m \u001b[38;5;124m\"\u001b[39m\u001b[38;5;124mutf-8\u001b[39m\u001b[38;5;124m\"\u001b[39m\n\u001b[1;32m-> 1425\u001b[0m \u001b[38;5;28;01mwith\u001b[39;00m _open_file_like(f, \u001b[38;5;124m\"\u001b[39m\u001b[38;5;124mrb\u001b[39m\u001b[38;5;124m\"\u001b[39m) \u001b[38;5;28;01mas\u001b[39;00m opened_file:\n\u001b[0;32m   1426\u001b[0m     \u001b[38;5;28;01mif\u001b[39;00m _is_zipfile(opened_file):\n\u001b[0;32m   1427\u001b[0m         \u001b[38;5;66;03m# The zipfile reader is going to advance the current file position.\u001b[39;00m\n\u001b[0;32m   1428\u001b[0m         \u001b[38;5;66;03m# If we want to actually tail call to torch.jit.load, we need to\u001b[39;00m\n\u001b[0;32m   1429\u001b[0m         \u001b[38;5;66;03m# reset back to the original position.\u001b[39;00m\n\u001b[0;32m   1430\u001b[0m         orig_position \u001b[38;5;241m=\u001b[39m opened_file\u001b[38;5;241m.\u001b[39mtell()\n",
      "File \u001b[1;32m~\\anaconda3\\Lib\\site-packages\\torch\\serialization.py:751\u001b[0m, in \u001b[0;36m_open_file_like\u001b[1;34m(name_or_buffer, mode)\u001b[0m\n\u001b[0;32m    749\u001b[0m \u001b[38;5;28;01mdef\u001b[39;00m \u001b[38;5;21m_open_file_like\u001b[39m(name_or_buffer, mode):\n\u001b[0;32m    750\u001b[0m     \u001b[38;5;28;01mif\u001b[39;00m _is_path(name_or_buffer):\n\u001b[1;32m--> 751\u001b[0m         \u001b[38;5;28;01mreturn\u001b[39;00m _open_file(name_or_buffer, mode)\n\u001b[0;32m    752\u001b[0m     \u001b[38;5;28;01melse\u001b[39;00m:\n\u001b[0;32m    753\u001b[0m         \u001b[38;5;28;01mif\u001b[39;00m \u001b[38;5;124m\"\u001b[39m\u001b[38;5;124mw\u001b[39m\u001b[38;5;124m\"\u001b[39m \u001b[38;5;129;01min\u001b[39;00m mode:\n",
      "File \u001b[1;32m~\\anaconda3\\Lib\\site-packages\\torch\\serialization.py:732\u001b[0m, in \u001b[0;36m_open_file.__init__\u001b[1;34m(self, name, mode)\u001b[0m\n\u001b[0;32m    731\u001b[0m \u001b[38;5;28;01mdef\u001b[39;00m \u001b[38;5;21m__init__\u001b[39m(\u001b[38;5;28mself\u001b[39m, name, mode):\n\u001b[1;32m--> 732\u001b[0m     \u001b[38;5;28msuper\u001b[39m()\u001b[38;5;241m.\u001b[39m\u001b[38;5;21m__init__\u001b[39m(\u001b[38;5;28mopen\u001b[39m(name, mode))\n",
      "\u001b[1;31mFileNotFoundError\u001b[0m: [Errno 2] No such file or directory: 'checkpoints/250318-AI-001-best_model2430.pth'"
     ]
    }
   ],
   "source": [
    "from sklearn.metrics import accuracy_score, f1_score\n",
    "import torch\n",
    "\n",
    "# ✅ 베스트 모델 로드\n",
    "best_model_path = f\"checkpoints/{TASK_CODE}-best_model2430.pth\"\n",
    "model.load_state_dict(torch.load(best_model_path, map_location=device))\n",
    "model.eval()\n",
    "\n",
    "# ✅ 테스트 데이터 평가\n",
    "all_labels_emotion, all_preds_emotion = [], []\n",
    "all_labels_situation, all_preds_situation = [], []\n",
    "\n",
    "with torch.no_grad():\n",
    "    for batch in test_loader:\n",
    "        input_ids = batch[\"input_ids\"].to(device)\n",
    "        attention_mask = batch[\"attention_mask\"].to(device)\n",
    "        token_type_ids = batch[\"token_type_ids\"].to(device)\n",
    "\n",
    "        labels_emotion = batch[\"emotion\"].to(device)\n",
    "        labels_situation = batch[\"situation\"].to(device)\n",
    "\n",
    "        # 모델 예측 (감정 & 상황)\n",
    "        logits_emotion, logits_situation = model(input_ids, attention_mask, token_type_ids)\n",
    "\n",
    "        # 가장 높은 확률의 클래스로 변환\n",
    "        preds_emotion = torch.argmax(logits_emotion, dim=1)\n",
    "        preds_situation = torch.argmax(logits_situation, dim=1)\n",
    "\n",
    "        # CPU로 변환 후 리스트에 저장\n",
    "        all_labels_emotion.extend(labels_emotion.cpu().numpy())\n",
    "        all_preds_emotion.extend(preds_emotion.cpu().numpy())\n",
    "\n",
    "        all_labels_situation.extend(labels_situation.cpu().numpy())\n",
    "        all_preds_situation.extend(preds_situation.cpu().numpy())\n",
    "\n",
    "# ✅ 감정(Emotion) 평가\n",
    "accuracy_emotion = accuracy_score(all_labels_emotion, all_preds_emotion)\n",
    "f1_emotion = f1_score(all_labels_emotion, all_preds_emotion, average=\"macro\")\n",
    "\n",
    "# ✅ 상황(Situation) 평가\n",
    "accuracy_situation = accuracy_score(all_labels_situation, all_preds_situation)\n",
    "f1_situation = f1_score(all_labels_situation, all_preds_situation, average=\"macro\")\n",
    "\n",
    "# ✅ 결과 출력\n",
    "print(f\"✅ Test Accuracy (Emotion): {accuracy_emotion:.4f}\")\n",
    "print(f\"✅ Test Accuracy (Situation): {accuracy_situation:.4f}\")\n",
    "\n",
    "print(f\"✅ Test F1-Score (Emotion): {f1_emotion:.4f}\")\n",
    "print(f\"✅ Test F1-Score (Situation): {f1_situation:.4f}\")\n"
   ]
  }
 ],
 "metadata": {
  "accelerator": "GPU",
  "colab": {
   "authorship_tag": "ABX9TyOu+Ljw7qBPaEKQ7A/LmPNK",
   "gpuType": "A100",
   "machine_shape": "hm",
   "provenance": []
  },
  "kernelspec": {
   "display_name": "Python [conda env:base] *",
   "language": "python",
   "name": "conda-base-py"
  },
  "language_info": {
   "codemirror_mode": {
    "name": "ipython",
    "version": 3
   },
   "file_extension": ".py",
   "mimetype": "text/x-python",
   "name": "python",
   "nbconvert_exporter": "python",
   "pygments_lexer": "ipython3",
   "version": "3.12.7"
  },
  "widgets": {
   "application/vnd.jupyter.widget-state+json": {
    "036339d9a8934de590028f08ca4eeeed": {
     "model_module": "@jupyter-widgets/controls",
     "model_module_version": "1.5.0",
     "model_name": "FloatProgressModel",
     "state": {
      "_dom_classes": [],
      "_model_module": "@jupyter-widgets/controls",
      "_model_module_version": "1.5.0",
      "_model_name": "FloatProgressModel",
      "_view_count": null,
      "_view_module": "@jupyter-widgets/controls",
      "_view_module_version": "1.5.0",
      "_view_name": "ProgressView",
      "bar_style": "success",
      "description": "",
      "description_tooltip": null,
      "layout": "IPY_MODEL_f888db88433147c39b654a97020aa2a5",
      "max": 443111068,
      "min": 0,
      "orientation": "horizontal",
      "style": "IPY_MODEL_6f68b27c595b49a09c4c11a9a29605f6",
      "value": 443111068
     }
    },
    "074dcee40009444d9317cef058a99ef5": {
     "model_module": "@jupyter-widgets/controls",
     "model_module_version": "1.5.0",
     "model_name": "DescriptionStyleModel",
     "state": {
      "_model_module": "@jupyter-widgets/controls",
      "_model_module_version": "1.5.0",
      "_model_name": "DescriptionStyleModel",
      "_view_count": null,
      "_view_module": "@jupyter-widgets/base",
      "_view_module_version": "1.2.0",
      "_view_name": "StyleView",
      "description_width": ""
     }
    },
    "1da2aeeb5b404a4e8993109a95e38b13": {
     "model_module": "@jupyter-widgets/base",
     "model_module_version": "1.2.0",
     "model_name": "LayoutModel",
     "state": {
      "_model_module": "@jupyter-widgets/base",
      "_model_module_version": "1.2.0",
      "_model_name": "LayoutModel",
      "_view_count": null,
      "_view_module": "@jupyter-widgets/base",
      "_view_module_version": "1.2.0",
      "_view_name": "LayoutView",
      "align_content": null,
      "align_items": null,
      "align_self": null,
      "border": null,
      "bottom": null,
      "display": null,
      "flex": null,
      "flex_flow": null,
      "grid_area": null,
      "grid_auto_columns": null,
      "grid_auto_flow": null,
      "grid_auto_rows": null,
      "grid_column": null,
      "grid_gap": null,
      "grid_row": null,
      "grid_template_areas": null,
      "grid_template_columns": null,
      "grid_template_rows": null,
      "height": null,
      "justify_content": null,
      "justify_items": null,
      "left": null,
      "margin": null,
      "max_height": null,
      "max_width": null,
      "min_height": null,
      "min_width": null,
      "object_fit": null,
      "object_position": null,
      "order": null,
      "overflow": null,
      "overflow_x": null,
      "overflow_y": null,
      "padding": null,
      "right": null,
      "top": null,
      "visibility": null,
      "width": null
     }
    },
    "1f32d9c42ce34995974f8157f88e5f94": {
     "model_module": "@jupyter-widgets/base",
     "model_module_version": "1.2.0",
     "model_name": "LayoutModel",
     "state": {
      "_model_module": "@jupyter-widgets/base",
      "_model_module_version": "1.2.0",
      "_model_name": "LayoutModel",
      "_view_count": null,
      "_view_module": "@jupyter-widgets/base",
      "_view_module_version": "1.2.0",
      "_view_name": "LayoutView",
      "align_content": null,
      "align_items": null,
      "align_self": null,
      "border": null,
      "bottom": null,
      "display": null,
      "flex": null,
      "flex_flow": null,
      "grid_area": null,
      "grid_auto_columns": null,
      "grid_auto_flow": null,
      "grid_auto_rows": null,
      "grid_column": null,
      "grid_gap": null,
      "grid_row": null,
      "grid_template_areas": null,
      "grid_template_columns": null,
      "grid_template_rows": null,
      "height": null,
      "justify_content": null,
      "justify_items": null,
      "left": null,
      "margin": null,
      "max_height": null,
      "max_width": null,
      "min_height": null,
      "min_width": null,
      "object_fit": null,
      "object_position": null,
      "order": null,
      "overflow": null,
      "overflow_x": null,
      "overflow_y": null,
      "padding": null,
      "right": null,
      "top": null,
      "visibility": null,
      "width": null
     }
    },
    "2aa288549212475aaa714ca36dcbf0ca": {
     "model_module": "@jupyter-widgets/controls",
     "model_module_version": "1.5.0",
     "model_name": "DescriptionStyleModel",
     "state": {
      "_model_module": "@jupyter-widgets/controls",
      "_model_module_version": "1.5.0",
      "_model_name": "DescriptionStyleModel",
      "_view_count": null,
      "_view_module": "@jupyter-widgets/base",
      "_view_module_version": "1.2.0",
      "_view_name": "StyleView",
      "description_width": ""
     }
    },
    "2f7a41757a05400183f53235fe10513d": {
     "model_module": "@jupyter-widgets/controls",
     "model_module_version": "1.5.0",
     "model_name": "FloatProgressModel",
     "state": {
      "_dom_classes": [],
      "_model_module": "@jupyter-widgets/controls",
      "_model_module_version": "1.5.0",
      "_model_name": "FloatProgressModel",
      "_view_count": null,
      "_view_module": "@jupyter-widgets/controls",
      "_view_module_version": "1.5.0",
      "_view_name": "ProgressView",
      "bar_style": "success",
      "description": "",
      "description_tooltip": null,
      "layout": "IPY_MODEL_1f32d9c42ce34995974f8157f88e5f94",
      "max": 279173,
      "min": 0,
      "orientation": "horizontal",
      "style": "IPY_MODEL_459d636ab30243a0a0251b45004c2aeb",
      "value": 279173
     }
    },
    "310aef6294794312b1bd28dd6592fe37": {
     "model_module": "@jupyter-widgets/controls",
     "model_module_version": "1.5.0",
     "model_name": "HTMLModel",
     "state": {
      "_dom_classes": [],
      "_model_module": "@jupyter-widgets/controls",
      "_model_module_version": "1.5.0",
      "_model_name": "HTMLModel",
      "_view_count": null,
      "_view_module": "@jupyter-widgets/controls",
      "_view_module_version": "1.5.0",
      "_view_name": "HTMLView",
      "description": "",
      "description_tooltip": null,
      "layout": "IPY_MODEL_eb8a5f808fc646249bb6e87ae52fce27",
      "placeholder": "​",
      "style": "IPY_MODEL_2aa288549212475aaa714ca36dcbf0ca",
      "value": " 467/467 [00:00&lt;00:00, 57.3kB/s]"
     }
    },
    "3631c14c3c78425b9dc85e37e9abdb93": {
     "model_module": "@jupyter-widgets/controls",
     "model_module_version": "1.5.0",
     "model_name": "HBoxModel",
     "state": {
      "_dom_classes": [],
      "_model_module": "@jupyter-widgets/controls",
      "_model_module_version": "1.5.0",
      "_model_name": "HBoxModel",
      "_view_count": null,
      "_view_module": "@jupyter-widgets/controls",
      "_view_module_version": "1.5.0",
      "_view_name": "HBoxView",
      "box_style": "",
      "children": [
       "IPY_MODEL_384d65ea6c62431d976b189ec8b4a3bc",
       "IPY_MODEL_5d4deefea7a44fd9b4482e09ebc9372b",
       "IPY_MODEL_d9336e1a6ec649dda40957d46e1f77ba"
      ],
      "layout": "IPY_MODEL_9c925f1cdc4f41e092ba965789675cd6"
     }
    },
    "36898873f8ea48cdbed466d116d0237d": {
     "model_module": "@jupyter-widgets/controls",
     "model_module_version": "1.5.0",
     "model_name": "DescriptionStyleModel",
     "state": {
      "_model_module": "@jupyter-widgets/controls",
      "_model_module_version": "1.5.0",
      "_model_name": "DescriptionStyleModel",
      "_view_count": null,
      "_view_module": "@jupyter-widgets/base",
      "_view_module_version": "1.2.0",
      "_view_name": "StyleView",
      "description_width": ""
     }
    },
    "384d65ea6c62431d976b189ec8b4a3bc": {
     "model_module": "@jupyter-widgets/controls",
     "model_module_version": "1.5.0",
     "model_name": "HTMLModel",
     "state": {
      "_dom_classes": [],
      "_model_module": "@jupyter-widgets/controls",
      "_model_module_version": "1.5.0",
      "_model_name": "HTMLModel",
      "_view_count": null,
      "_view_module": "@jupyter-widgets/controls",
      "_view_module_version": "1.5.0",
      "_view_name": "HTMLView",
      "description": "",
      "description_tooltip": null,
      "layout": "IPY_MODEL_b32359db9c9841db838b7a4e478aeb98",
      "placeholder": "​",
      "style": "IPY_MODEL_36898873f8ea48cdbed466d116d0237d",
      "value": "Applying KoEDA Augmentation: 100%"
     }
    },
    "39dc234ff73a43f9b9316fe3ebc86fcc": {
     "model_module": "@jupyter-widgets/controls",
     "model_module_version": "1.5.0",
     "model_name": "HBoxModel",
     "state": {
      "_dom_classes": [],
      "_model_module": "@jupyter-widgets/controls",
      "_model_module_version": "1.5.0",
      "_model_name": "HBoxModel",
      "_view_count": null,
      "_view_module": "@jupyter-widgets/controls",
      "_view_module_version": "1.5.0",
      "_view_name": "HBoxView",
      "box_style": "",
      "children": [
       "IPY_MODEL_b72da850e5784b5c9b5ea8cbc0edcacf",
       "IPY_MODEL_9b6196b9bc824b11904fe543375f7a11",
       "IPY_MODEL_c979c770d4284578bccfdb6d1f420da7"
      ],
      "layout": "IPY_MODEL_1da2aeeb5b404a4e8993109a95e38b13"
     }
    },
    "3ce592875e57453db08ac4022b2cf5c8": {
     "model_module": "@jupyter-widgets/controls",
     "model_module_version": "1.5.0",
     "model_name": "DescriptionStyleModel",
     "state": {
      "_model_module": "@jupyter-widgets/controls",
      "_model_module_version": "1.5.0",
      "_model_name": "DescriptionStyleModel",
      "_view_count": null,
      "_view_module": "@jupyter-widgets/base",
      "_view_module_version": "1.2.0",
      "_view_name": "StyleView",
      "description_width": ""
     }
    },
    "4178c9e0460a4480b80b22a3dd07c5d3": {
     "model_module": "@jupyter-widgets/controls",
     "model_module_version": "1.5.0",
     "model_name": "HTMLModel",
     "state": {
      "_dom_classes": [],
      "_model_module": "@jupyter-widgets/controls",
      "_model_module_version": "1.5.0",
      "_model_name": "HTMLModel",
      "_view_count": null,
      "_view_module": "@jupyter-widgets/controls",
      "_view_module_version": "1.5.0",
      "_view_name": "HTMLView",
      "description": "",
      "description_tooltip": null,
      "layout": "IPY_MODEL_c47b948ceeb94ff2b31210fee6eb2583",
      "placeholder": "​",
      "style": "IPY_MODEL_fbeab2fbbd5b4ded9175b6524cd37487",
      "value": "model.safetensors: 100%"
     }
    },
    "459d636ab30243a0a0251b45004c2aeb": {
     "model_module": "@jupyter-widgets/controls",
     "model_module_version": "1.5.0",
     "model_name": "ProgressStyleModel",
     "state": {
      "_model_module": "@jupyter-widgets/controls",
      "_model_module_version": "1.5.0",
      "_model_name": "ProgressStyleModel",
      "_view_count": null,
      "_view_module": "@jupyter-widgets/base",
      "_view_module_version": "1.2.0",
      "_view_name": "StyleView",
      "bar_color": null,
      "description_width": ""
     }
    },
    "4830b53968b04a30b23c2a4e121d29ab": {
     "model_module": "@jupyter-widgets/base",
     "model_module_version": "1.2.0",
     "model_name": "LayoutModel",
     "state": {
      "_model_module": "@jupyter-widgets/base",
      "_model_module_version": "1.2.0",
      "_model_name": "LayoutModel",
      "_view_count": null,
      "_view_module": "@jupyter-widgets/base",
      "_view_module_version": "1.2.0",
      "_view_name": "LayoutView",
      "align_content": null,
      "align_items": null,
      "align_self": null,
      "border": null,
      "bottom": null,
      "display": null,
      "flex": null,
      "flex_flow": null,
      "grid_area": null,
      "grid_auto_columns": null,
      "grid_auto_flow": null,
      "grid_auto_rows": null,
      "grid_column": null,
      "grid_gap": null,
      "grid_row": null,
      "grid_template_areas": null,
      "grid_template_columns": null,
      "grid_template_rows": null,
      "height": null,
      "justify_content": null,
      "justify_items": null,
      "left": null,
      "margin": null,
      "max_height": null,
      "max_width": null,
      "min_height": null,
      "min_width": null,
      "object_fit": null,
      "object_position": null,
      "order": null,
      "overflow": null,
      "overflow_x": null,
      "overflow_y": null,
      "padding": null,
      "right": null,
      "top": null,
      "visibility": null,
      "width": null
     }
    },
    "504bef1bdd1a4602ac3e47ec90ae444d": {
     "model_module": "@jupyter-widgets/controls",
     "model_module_version": "1.5.0",
     "model_name": "DescriptionStyleModel",
     "state": {
      "_model_module": "@jupyter-widgets/controls",
      "_model_module_version": "1.5.0",
      "_model_name": "DescriptionStyleModel",
      "_view_count": null,
      "_view_module": "@jupyter-widgets/base",
      "_view_module_version": "1.2.0",
      "_view_name": "StyleView",
      "description_width": ""
     }
    },
    "538b9fde99494d688e3a9e2f36a47f8b": {
     "model_module": "@jupyter-widgets/controls",
     "model_module_version": "1.5.0",
     "model_name": "ProgressStyleModel",
     "state": {
      "_model_module": "@jupyter-widgets/controls",
      "_model_module_version": "1.5.0",
      "_model_name": "ProgressStyleModel",
      "_view_count": null,
      "_view_module": "@jupyter-widgets/base",
      "_view_module_version": "1.2.0",
      "_view_name": "StyleView",
      "bar_color": null,
      "description_width": ""
     }
    },
    "560af2471c4a4d27b0fca0401a005ff4": {
     "model_module": "@jupyter-widgets/base",
     "model_module_version": "1.2.0",
     "model_name": "LayoutModel",
     "state": {
      "_model_module": "@jupyter-widgets/base",
      "_model_module_version": "1.2.0",
      "_model_name": "LayoutModel",
      "_view_count": null,
      "_view_module": "@jupyter-widgets/base",
      "_view_module_version": "1.2.0",
      "_view_name": "LayoutView",
      "align_content": null,
      "align_items": null,
      "align_self": null,
      "border": null,
      "bottom": null,
      "display": null,
      "flex": null,
      "flex_flow": null,
      "grid_area": null,
      "grid_auto_columns": null,
      "grid_auto_flow": null,
      "grid_auto_rows": null,
      "grid_column": null,
      "grid_gap": null,
      "grid_row": null,
      "grid_template_areas": null,
      "grid_template_columns": null,
      "grid_template_rows": null,
      "height": null,
      "justify_content": null,
      "justify_items": null,
      "left": null,
      "margin": null,
      "max_height": null,
      "max_width": null,
      "min_height": null,
      "min_width": null,
      "object_fit": null,
      "object_position": null,
      "order": null,
      "overflow": null,
      "overflow_x": null,
      "overflow_y": null,
      "padding": null,
      "right": null,
      "top": null,
      "visibility": null,
      "width": null
     }
    },
    "5987e42ac13d4163aa71c72b55605ea7": {
     "model_module": "@jupyter-widgets/controls",
     "model_module_version": "1.5.0",
     "model_name": "HTMLModel",
     "state": {
      "_dom_classes": [],
      "_model_module": "@jupyter-widgets/controls",
      "_model_module_version": "1.5.0",
      "_model_name": "HTMLModel",
      "_view_count": null,
      "_view_module": "@jupyter-widgets/controls",
      "_view_module_version": "1.5.0",
      "_view_name": "HTMLView",
      "description": "",
      "description_tooltip": null,
      "layout": "IPY_MODEL_560af2471c4a4d27b0fca0401a005ff4",
      "placeholder": "​",
      "style": "IPY_MODEL_504bef1bdd1a4602ac3e47ec90ae444d",
      "value": " 279k/279k [00:00&lt;00:00, 5.88MB/s]"
     }
    },
    "5d41aabceff2406eaa5bf91927e05633": {
     "model_module": "@jupyter-widgets/controls",
     "model_module_version": "1.5.0",
     "model_name": "DescriptionStyleModel",
     "state": {
      "_model_module": "@jupyter-widgets/controls",
      "_model_module_version": "1.5.0",
      "_model_name": "DescriptionStyleModel",
      "_view_count": null,
      "_view_module": "@jupyter-widgets/base",
      "_view_module_version": "1.2.0",
      "_view_name": "StyleView",
      "description_width": ""
     }
    },
    "5d4deefea7a44fd9b4482e09ebc9372b": {
     "model_module": "@jupyter-widgets/controls",
     "model_module_version": "1.5.0",
     "model_name": "FloatProgressModel",
     "state": {
      "_dom_classes": [],
      "_model_module": "@jupyter-widgets/controls",
      "_model_module_version": "1.5.0",
      "_model_name": "FloatProgressModel",
      "_view_count": null,
      "_view_module": "@jupyter-widgets/controls",
      "_view_module_version": "1.5.0",
      "_view_name": "ProgressView",
      "bar_style": "success",
      "description": "",
      "description_tooltip": null,
      "layout": "IPY_MODEL_8236baa0a4604c0d81d886c3bed0e74f",
      "max": 146880,
      "min": 0,
      "orientation": "horizontal",
      "style": "IPY_MODEL_bd0c5cf4beef4150adea2298074c6f31",
      "value": 146880
     }
    },
    "611c01f4db91463d8d7a677b8d94d46c": {
     "model_module": "@jupyter-widgets/controls",
     "model_module_version": "1.5.0",
     "model_name": "HTMLModel",
     "state": {
      "_dom_classes": [],
      "_model_module": "@jupyter-widgets/controls",
      "_model_module_version": "1.5.0",
      "_model_name": "HTMLModel",
      "_view_count": null,
      "_view_module": "@jupyter-widgets/controls",
      "_view_module_version": "1.5.0",
      "_view_name": "HTMLView",
      "description": "",
      "description_tooltip": null,
      "layout": "IPY_MODEL_977c0455a98b41f49fad0a0dd77c061b",
      "placeholder": "​",
      "style": "IPY_MODEL_d911cfe2832d46838fc8abc4c0ec8a3c",
      "value": " 51.0/51.0 [00:00&lt;00:00, 6.20kB/s]"
     }
    },
    "6413444a85554a399b99ff845e6498ed": {
     "model_module": "@jupyter-widgets/base",
     "model_module_version": "1.2.0",
     "model_name": "LayoutModel",
     "state": {
      "_model_module": "@jupyter-widgets/base",
      "_model_module_version": "1.2.0",
      "_model_name": "LayoutModel",
      "_view_count": null,
      "_view_module": "@jupyter-widgets/base",
      "_view_module_version": "1.2.0",
      "_view_name": "LayoutView",
      "align_content": null,
      "align_items": null,
      "align_self": null,
      "border": null,
      "bottom": null,
      "display": null,
      "flex": null,
      "flex_flow": null,
      "grid_area": null,
      "grid_auto_columns": null,
      "grid_auto_flow": null,
      "grid_auto_rows": null,
      "grid_column": null,
      "grid_gap": null,
      "grid_row": null,
      "grid_template_areas": null,
      "grid_template_columns": null,
      "grid_template_rows": null,
      "height": null,
      "justify_content": null,
      "justify_items": null,
      "left": null,
      "margin": null,
      "max_height": null,
      "max_width": null,
      "min_height": null,
      "min_width": null,
      "object_fit": null,
      "object_position": null,
      "order": null,
      "overflow": null,
      "overflow_x": null,
      "overflow_y": null,
      "padding": null,
      "right": null,
      "top": null,
      "visibility": null,
      "width": null
     }
    },
    "69ebf03141774d0e813b0c254d40d31d": {
     "model_module": "@jupyter-widgets/base",
     "model_module_version": "1.2.0",
     "model_name": "LayoutModel",
     "state": {
      "_model_module": "@jupyter-widgets/base",
      "_model_module_version": "1.2.0",
      "_model_name": "LayoutModel",
      "_view_count": null,
      "_view_module": "@jupyter-widgets/base",
      "_view_module_version": "1.2.0",
      "_view_name": "LayoutView",
      "align_content": null,
      "align_items": null,
      "align_self": null,
      "border": null,
      "bottom": null,
      "display": null,
      "flex": null,
      "flex_flow": null,
      "grid_area": null,
      "grid_auto_columns": null,
      "grid_auto_flow": null,
      "grid_auto_rows": null,
      "grid_column": null,
      "grid_gap": null,
      "grid_row": null,
      "grid_template_areas": null,
      "grid_template_columns": null,
      "grid_template_rows": null,
      "height": null,
      "justify_content": null,
      "justify_items": null,
      "left": null,
      "margin": null,
      "max_height": null,
      "max_width": null,
      "min_height": null,
      "min_width": null,
      "object_fit": null,
      "object_position": null,
      "order": null,
      "overflow": null,
      "overflow_x": null,
      "overflow_y": null,
      "padding": null,
      "right": null,
      "top": null,
      "visibility": null,
      "width": null
     }
    },
    "6ad5c2499b8444a38bae5fb6052c41e3": {
     "model_module": "@jupyter-widgets/controls",
     "model_module_version": "1.5.0",
     "model_name": "HTMLModel",
     "state": {
      "_dom_classes": [],
      "_model_module": "@jupyter-widgets/controls",
      "_model_module_version": "1.5.0",
      "_model_name": "HTMLModel",
      "_view_count": null,
      "_view_module": "@jupyter-widgets/controls",
      "_view_module_version": "1.5.0",
      "_view_name": "HTMLView",
      "description": "",
      "description_tooltip": null,
      "layout": "IPY_MODEL_d062ec79d74448e381b9af5a3c16dbee",
      "placeholder": "​",
      "style": "IPY_MODEL_fac7353effc843d29c63c5870c7cf776",
      "value": "config.json: 100%"
     }
    },
    "6f68b27c595b49a09c4c11a9a29605f6": {
     "model_module": "@jupyter-widgets/controls",
     "model_module_version": "1.5.0",
     "model_name": "ProgressStyleModel",
     "state": {
      "_model_module": "@jupyter-widgets/controls",
      "_model_module_version": "1.5.0",
      "_model_name": "ProgressStyleModel",
      "_view_count": null,
      "_view_module": "@jupyter-widgets/base",
      "_view_module_version": "1.2.0",
      "_view_name": "StyleView",
      "bar_color": null,
      "description_width": ""
     }
    },
    "7215a379550145df9f1effe2f995c561": {
     "model_module": "@jupyter-widgets/base",
     "model_module_version": "1.2.0",
     "model_name": "LayoutModel",
     "state": {
      "_model_module": "@jupyter-widgets/base",
      "_model_module_version": "1.2.0",
      "_model_name": "LayoutModel",
      "_view_count": null,
      "_view_module": "@jupyter-widgets/base",
      "_view_module_version": "1.2.0",
      "_view_name": "LayoutView",
      "align_content": null,
      "align_items": null,
      "align_self": null,
      "border": null,
      "bottom": null,
      "display": null,
      "flex": null,
      "flex_flow": null,
      "grid_area": null,
      "grid_auto_columns": null,
      "grid_auto_flow": null,
      "grid_auto_rows": null,
      "grid_column": null,
      "grid_gap": null,
      "grid_row": null,
      "grid_template_areas": null,
      "grid_template_columns": null,
      "grid_template_rows": null,
      "height": null,
      "justify_content": null,
      "justify_items": null,
      "left": null,
      "margin": null,
      "max_height": null,
      "max_width": null,
      "min_height": null,
      "min_width": null,
      "object_fit": null,
      "object_position": null,
      "order": null,
      "overflow": null,
      "overflow_x": null,
      "overflow_y": null,
      "padding": null,
      "right": null,
      "top": null,
      "visibility": null,
      "width": null
     }
    },
    "77b7337be6c947b0945480874174e8cf": {
     "model_module": "@jupyter-widgets/base",
     "model_module_version": "1.2.0",
     "model_name": "LayoutModel",
     "state": {
      "_model_module": "@jupyter-widgets/base",
      "_model_module_version": "1.2.0",
      "_model_name": "LayoutModel",
      "_view_count": null,
      "_view_module": "@jupyter-widgets/base",
      "_view_module_version": "1.2.0",
      "_view_name": "LayoutView",
      "align_content": null,
      "align_items": null,
      "align_self": null,
      "border": null,
      "bottom": null,
      "display": null,
      "flex": null,
      "flex_flow": null,
      "grid_area": null,
      "grid_auto_columns": null,
      "grid_auto_flow": null,
      "grid_auto_rows": null,
      "grid_column": null,
      "grid_gap": null,
      "grid_row": null,
      "grid_template_areas": null,
      "grid_template_columns": null,
      "grid_template_rows": null,
      "height": null,
      "justify_content": null,
      "justify_items": null,
      "left": null,
      "margin": null,
      "max_height": null,
      "max_width": null,
      "min_height": null,
      "min_width": null,
      "object_fit": null,
      "object_position": null,
      "order": null,
      "overflow": null,
      "overflow_x": null,
      "overflow_y": null,
      "padding": null,
      "right": null,
      "top": null,
      "visibility": null,
      "width": null
     }
    },
    "781ba699c2f744b5806b4012f4770629": {
     "model_module": "@jupyter-widgets/base",
     "model_module_version": "1.2.0",
     "model_name": "LayoutModel",
     "state": {
      "_model_module": "@jupyter-widgets/base",
      "_model_module_version": "1.2.0",
      "_model_name": "LayoutModel",
      "_view_count": null,
      "_view_module": "@jupyter-widgets/base",
      "_view_module_version": "1.2.0",
      "_view_name": "LayoutView",
      "align_content": null,
      "align_items": null,
      "align_self": null,
      "border": null,
      "bottom": null,
      "display": null,
      "flex": null,
      "flex_flow": null,
      "grid_area": null,
      "grid_auto_columns": null,
      "grid_auto_flow": null,
      "grid_auto_rows": null,
      "grid_column": null,
      "grid_gap": null,
      "grid_row": null,
      "grid_template_areas": null,
      "grid_template_columns": null,
      "grid_template_rows": null,
      "height": null,
      "justify_content": null,
      "justify_items": null,
      "left": null,
      "margin": null,
      "max_height": null,
      "max_width": null,
      "min_height": null,
      "min_width": null,
      "object_fit": null,
      "object_position": null,
      "order": null,
      "overflow": null,
      "overflow_x": null,
      "overflow_y": null,
      "padding": null,
      "right": null,
      "top": null,
      "visibility": null,
      "width": null
     }
    },
    "7ca869866fa24713bd009710177bc738": {
     "model_module": "@jupyter-widgets/controls",
     "model_module_version": "1.5.0",
     "model_name": "DescriptionStyleModel",
     "state": {
      "_model_module": "@jupyter-widgets/controls",
      "_model_module_version": "1.5.0",
      "_model_name": "DescriptionStyleModel",
      "_view_count": null,
      "_view_module": "@jupyter-widgets/base",
      "_view_module_version": "1.2.0",
      "_view_name": "StyleView",
      "description_width": ""
     }
    },
    "813d0e5bd2f144fd8956b2f04b1c3397": {
     "model_module": "@jupyter-widgets/base",
     "model_module_version": "1.2.0",
     "model_name": "LayoutModel",
     "state": {
      "_model_module": "@jupyter-widgets/base",
      "_model_module_version": "1.2.0",
      "_model_name": "LayoutModel",
      "_view_count": null,
      "_view_module": "@jupyter-widgets/base",
      "_view_module_version": "1.2.0",
      "_view_name": "LayoutView",
      "align_content": null,
      "align_items": null,
      "align_self": null,
      "border": null,
      "bottom": null,
      "display": null,
      "flex": null,
      "flex_flow": null,
      "grid_area": null,
      "grid_auto_columns": null,
      "grid_auto_flow": null,
      "grid_auto_rows": null,
      "grid_column": null,
      "grid_gap": null,
      "grid_row": null,
      "grid_template_areas": null,
      "grid_template_columns": null,
      "grid_template_rows": null,
      "height": null,
      "justify_content": null,
      "justify_items": null,
      "left": null,
      "margin": null,
      "max_height": null,
      "max_width": null,
      "min_height": null,
      "min_width": null,
      "object_fit": null,
      "object_position": null,
      "order": null,
      "overflow": null,
      "overflow_x": null,
      "overflow_y": null,
      "padding": null,
      "right": null,
      "top": null,
      "visibility": null,
      "width": null
     }
    },
    "822e4eb9a5b64d9dba4fff68d1ff3775": {
     "model_module": "@jupyter-widgets/controls",
     "model_module_version": "1.5.0",
     "model_name": "DescriptionStyleModel",
     "state": {
      "_model_module": "@jupyter-widgets/controls",
      "_model_module_version": "1.5.0",
      "_model_name": "DescriptionStyleModel",
      "_view_count": null,
      "_view_module": "@jupyter-widgets/base",
      "_view_module_version": "1.2.0",
      "_view_name": "StyleView",
      "description_width": ""
     }
    },
    "8236baa0a4604c0d81d886c3bed0e74f": {
     "model_module": "@jupyter-widgets/base",
     "model_module_version": "1.2.0",
     "model_name": "LayoutModel",
     "state": {
      "_model_module": "@jupyter-widgets/base",
      "_model_module_version": "1.2.0",
      "_model_name": "LayoutModel",
      "_view_count": null,
      "_view_module": "@jupyter-widgets/base",
      "_view_module_version": "1.2.0",
      "_view_name": "LayoutView",
      "align_content": null,
      "align_items": null,
      "align_self": null,
      "border": null,
      "bottom": null,
      "display": null,
      "flex": null,
      "flex_flow": null,
      "grid_area": null,
      "grid_auto_columns": null,
      "grid_auto_flow": null,
      "grid_auto_rows": null,
      "grid_column": null,
      "grid_gap": null,
      "grid_row": null,
      "grid_template_areas": null,
      "grid_template_columns": null,
      "grid_template_rows": null,
      "height": null,
      "justify_content": null,
      "justify_items": null,
      "left": null,
      "margin": null,
      "max_height": null,
      "max_width": null,
      "min_height": null,
      "min_width": null,
      "object_fit": null,
      "object_position": null,
      "order": null,
      "overflow": null,
      "overflow_x": null,
      "overflow_y": null,
      "padding": null,
      "right": null,
      "top": null,
      "visibility": null,
      "width": null
     }
    },
    "869ebcc17c16411993691edaf48715b1": {
     "model_module": "@jupyter-widgets/base",
     "model_module_version": "1.2.0",
     "model_name": "LayoutModel",
     "state": {
      "_model_module": "@jupyter-widgets/base",
      "_model_module_version": "1.2.0",
      "_model_name": "LayoutModel",
      "_view_count": null,
      "_view_module": "@jupyter-widgets/base",
      "_view_module_version": "1.2.0",
      "_view_name": "LayoutView",
      "align_content": null,
      "align_items": null,
      "align_self": null,
      "border": null,
      "bottom": null,
      "display": null,
      "flex": null,
      "flex_flow": null,
      "grid_area": null,
      "grid_auto_columns": null,
      "grid_auto_flow": null,
      "grid_auto_rows": null,
      "grid_column": null,
      "grid_gap": null,
      "grid_row": null,
      "grid_template_areas": null,
      "grid_template_columns": null,
      "grid_template_rows": null,
      "height": null,
      "justify_content": null,
      "justify_items": null,
      "left": null,
      "margin": null,
      "max_height": null,
      "max_width": null,
      "min_height": null,
      "min_width": null,
      "object_fit": null,
      "object_position": null,
      "order": null,
      "overflow": null,
      "overflow_x": null,
      "overflow_y": null,
      "padding": null,
      "right": null,
      "top": null,
      "visibility": null,
      "width": null
     }
    },
    "977c0455a98b41f49fad0a0dd77c061b": {
     "model_module": "@jupyter-widgets/base",
     "model_module_version": "1.2.0",
     "model_name": "LayoutModel",
     "state": {
      "_model_module": "@jupyter-widgets/base",
      "_model_module_version": "1.2.0",
      "_model_name": "LayoutModel",
      "_view_count": null,
      "_view_module": "@jupyter-widgets/base",
      "_view_module_version": "1.2.0",
      "_view_name": "LayoutView",
      "align_content": null,
      "align_items": null,
      "align_self": null,
      "border": null,
      "bottom": null,
      "display": null,
      "flex": null,
      "flex_flow": null,
      "grid_area": null,
      "grid_auto_columns": null,
      "grid_auto_flow": null,
      "grid_auto_rows": null,
      "grid_column": null,
      "grid_gap": null,
      "grid_row": null,
      "grid_template_areas": null,
      "grid_template_columns": null,
      "grid_template_rows": null,
      "height": null,
      "justify_content": null,
      "justify_items": null,
      "left": null,
      "margin": null,
      "max_height": null,
      "max_width": null,
      "min_height": null,
      "min_width": null,
      "object_fit": null,
      "object_position": null,
      "order": null,
      "overflow": null,
      "overflow_x": null,
      "overflow_y": null,
      "padding": null,
      "right": null,
      "top": null,
      "visibility": null,
      "width": null
     }
    },
    "9790c589369a44aaa723b6b1d0993fe5": {
     "model_module": "@jupyter-widgets/controls",
     "model_module_version": "1.5.0",
     "model_name": "FloatProgressModel",
     "state": {
      "_dom_classes": [],
      "_model_module": "@jupyter-widgets/controls",
      "_model_module_version": "1.5.0",
      "_model_name": "FloatProgressModel",
      "_view_count": null,
      "_view_module": "@jupyter-widgets/controls",
      "_view_module_version": "1.5.0",
      "_view_name": "ProgressView",
      "bar_style": "success",
      "description": "",
      "description_tooltip": null,
      "layout": "IPY_MODEL_4830b53968b04a30b23c2a4e121d29ab",
      "max": 467,
      "min": 0,
      "orientation": "horizontal",
      "style": "IPY_MODEL_538b9fde99494d688e3a9e2f36a47f8b",
      "value": 467
     }
    },
    "9b6196b9bc824b11904fe543375f7a11": {
     "model_module": "@jupyter-widgets/controls",
     "model_module_version": "1.5.0",
     "model_name": "FloatProgressModel",
     "state": {
      "_dom_classes": [],
      "_model_module": "@jupyter-widgets/controls",
      "_model_module_version": "1.5.0",
      "_model_name": "FloatProgressModel",
      "_view_count": null,
      "_view_module": "@jupyter-widgets/controls",
      "_view_module_version": "1.5.0",
      "_view_name": "ProgressView",
      "bar_style": "success",
      "description": "",
      "description_tooltip": null,
      "layout": "IPY_MODEL_d8e10cc630744eca856f59c049b88108",
      "max": 443135628,
      "min": 0,
      "orientation": "horizontal",
      "style": "IPY_MODEL_b5046e4701d54cccb2a11d18ae568873",
      "value": 443135628
     }
    },
    "9c925f1cdc4f41e092ba965789675cd6": {
     "model_module": "@jupyter-widgets/base",
     "model_module_version": "1.2.0",
     "model_name": "LayoutModel",
     "state": {
      "_model_module": "@jupyter-widgets/base",
      "_model_module_version": "1.2.0",
      "_model_name": "LayoutModel",
      "_view_count": null,
      "_view_module": "@jupyter-widgets/base",
      "_view_module_version": "1.2.0",
      "_view_name": "LayoutView",
      "align_content": null,
      "align_items": null,
      "align_self": null,
      "border": null,
      "bottom": null,
      "display": null,
      "flex": null,
      "flex_flow": null,
      "grid_area": null,
      "grid_auto_columns": null,
      "grid_auto_flow": null,
      "grid_auto_rows": null,
      "grid_column": null,
      "grid_gap": null,
      "grid_row": null,
      "grid_template_areas": null,
      "grid_template_columns": null,
      "grid_template_rows": null,
      "height": null,
      "justify_content": null,
      "justify_items": null,
      "left": null,
      "margin": null,
      "max_height": null,
      "max_width": null,
      "min_height": null,
      "min_width": null,
      "object_fit": null,
      "object_position": null,
      "order": null,
      "overflow": null,
      "overflow_x": null,
      "overflow_y": null,
      "padding": null,
      "right": null,
      "top": null,
      "visibility": null,
      "width": null
     }
    },
    "9cf6b42cc62f488caf8358adf0a7e116": {
     "model_module": "@jupyter-widgets/base",
     "model_module_version": "1.2.0",
     "model_name": "LayoutModel",
     "state": {
      "_model_module": "@jupyter-widgets/base",
      "_model_module_version": "1.2.0",
      "_model_name": "LayoutModel",
      "_view_count": null,
      "_view_module": "@jupyter-widgets/base",
      "_view_module_version": "1.2.0",
      "_view_name": "LayoutView",
      "align_content": null,
      "align_items": null,
      "align_self": null,
      "border": null,
      "bottom": null,
      "display": null,
      "flex": null,
      "flex_flow": null,
      "grid_area": null,
      "grid_auto_columns": null,
      "grid_auto_flow": null,
      "grid_auto_rows": null,
      "grid_column": null,
      "grid_gap": null,
      "grid_row": null,
      "grid_template_areas": null,
      "grid_template_columns": null,
      "grid_template_rows": null,
      "height": null,
      "justify_content": null,
      "justify_items": null,
      "left": null,
      "margin": null,
      "max_height": null,
      "max_width": null,
      "min_height": null,
      "min_width": null,
      "object_fit": null,
      "object_position": null,
      "order": null,
      "overflow": null,
      "overflow_x": null,
      "overflow_y": null,
      "padding": null,
      "right": null,
      "top": null,
      "visibility": null,
      "width": null
     }
    },
    "a3f2809a8be246eb88ed6865de326a1f": {
     "model_module": "@jupyter-widgets/controls",
     "model_module_version": "1.5.0",
     "model_name": "DescriptionStyleModel",
     "state": {
      "_model_module": "@jupyter-widgets/controls",
      "_model_module_version": "1.5.0",
      "_model_name": "DescriptionStyleModel",
      "_view_count": null,
      "_view_module": "@jupyter-widgets/base",
      "_view_module_version": "1.2.0",
      "_view_name": "StyleView",
      "description_width": ""
     }
    },
    "a4152c51d6b64219906f874fccdd2efd": {
     "model_module": "@jupyter-widgets/base",
     "model_module_version": "1.2.0",
     "model_name": "LayoutModel",
     "state": {
      "_model_module": "@jupyter-widgets/base",
      "_model_module_version": "1.2.0",
      "_model_name": "LayoutModel",
      "_view_count": null,
      "_view_module": "@jupyter-widgets/base",
      "_view_module_version": "1.2.0",
      "_view_name": "LayoutView",
      "align_content": null,
      "align_items": null,
      "align_self": null,
      "border": null,
      "bottom": null,
      "display": null,
      "flex": null,
      "flex_flow": null,
      "grid_area": null,
      "grid_auto_columns": null,
      "grid_auto_flow": null,
      "grid_auto_rows": null,
      "grid_column": null,
      "grid_gap": null,
      "grid_row": null,
      "grid_template_areas": null,
      "grid_template_columns": null,
      "grid_template_rows": null,
      "height": null,
      "justify_content": null,
      "justify_items": null,
      "left": null,
      "margin": null,
      "max_height": null,
      "max_width": null,
      "min_height": null,
      "min_width": null,
      "object_fit": null,
      "object_position": null,
      "order": null,
      "overflow": null,
      "overflow_x": null,
      "overflow_y": null,
      "padding": null,
      "right": null,
      "top": null,
      "visibility": null,
      "width": null
     }
    },
    "ac15dc9421f94161af2389d668bcfcfb": {
     "model_module": "@jupyter-widgets/controls",
     "model_module_version": "1.5.0",
     "model_name": "HTMLModel",
     "state": {
      "_dom_classes": [],
      "_model_module": "@jupyter-widgets/controls",
      "_model_module_version": "1.5.0",
      "_model_name": "HTMLModel",
      "_view_count": null,
      "_view_module": "@jupyter-widgets/controls",
      "_view_module_version": "1.5.0",
      "_view_name": "HTMLView",
      "description": "",
      "description_tooltip": null,
      "layout": "IPY_MODEL_813d0e5bd2f144fd8956b2f04b1c3397",
      "placeholder": "​",
      "style": "IPY_MODEL_822e4eb9a5b64d9dba4fff68d1ff3775",
      "value": "tokenizer_config.json: 100%"
     }
    },
    "b0648835bf5e4bf2b19fc9a411252b3e": {
     "model_module": "@jupyter-widgets/base",
     "model_module_version": "1.2.0",
     "model_name": "LayoutModel",
     "state": {
      "_model_module": "@jupyter-widgets/base",
      "_model_module_version": "1.2.0",
      "_model_name": "LayoutModel",
      "_view_count": null,
      "_view_module": "@jupyter-widgets/base",
      "_view_module_version": "1.2.0",
      "_view_name": "LayoutView",
      "align_content": null,
      "align_items": null,
      "align_self": null,
      "border": null,
      "bottom": null,
      "display": null,
      "flex": null,
      "flex_flow": null,
      "grid_area": null,
      "grid_auto_columns": null,
      "grid_auto_flow": null,
      "grid_auto_rows": null,
      "grid_column": null,
      "grid_gap": null,
      "grid_row": null,
      "grid_template_areas": null,
      "grid_template_columns": null,
      "grid_template_rows": null,
      "height": null,
      "justify_content": null,
      "justify_items": null,
      "left": null,
      "margin": null,
      "max_height": null,
      "max_width": null,
      "min_height": null,
      "min_width": null,
      "object_fit": null,
      "object_position": null,
      "order": null,
      "overflow": null,
      "overflow_x": null,
      "overflow_y": null,
      "padding": null,
      "right": null,
      "top": null,
      "visibility": null,
      "width": null
     }
    },
    "b27aafcee1ba417099cb1a52f8d5d43a": {
     "model_module": "@jupyter-widgets/base",
     "model_module_version": "1.2.0",
     "model_name": "LayoutModel",
     "state": {
      "_model_module": "@jupyter-widgets/base",
      "_model_module_version": "1.2.0",
      "_model_name": "LayoutModel",
      "_view_count": null,
      "_view_module": "@jupyter-widgets/base",
      "_view_module_version": "1.2.0",
      "_view_name": "LayoutView",
      "align_content": null,
      "align_items": null,
      "align_self": null,
      "border": null,
      "bottom": null,
      "display": null,
      "flex": null,
      "flex_flow": null,
      "grid_area": null,
      "grid_auto_columns": null,
      "grid_auto_flow": null,
      "grid_auto_rows": null,
      "grid_column": null,
      "grid_gap": null,
      "grid_row": null,
      "grid_template_areas": null,
      "grid_template_columns": null,
      "grid_template_rows": null,
      "height": null,
      "justify_content": null,
      "justify_items": null,
      "left": null,
      "margin": null,
      "max_height": null,
      "max_width": null,
      "min_height": null,
      "min_width": null,
      "object_fit": null,
      "object_position": null,
      "order": null,
      "overflow": null,
      "overflow_x": null,
      "overflow_y": null,
      "padding": null,
      "right": null,
      "top": null,
      "visibility": null,
      "width": null
     }
    },
    "b32359db9c9841db838b7a4e478aeb98": {
     "model_module": "@jupyter-widgets/base",
     "model_module_version": "1.2.0",
     "model_name": "LayoutModel",
     "state": {
      "_model_module": "@jupyter-widgets/base",
      "_model_module_version": "1.2.0",
      "_model_name": "LayoutModel",
      "_view_count": null,
      "_view_module": "@jupyter-widgets/base",
      "_view_module_version": "1.2.0",
      "_view_name": "LayoutView",
      "align_content": null,
      "align_items": null,
      "align_self": null,
      "border": null,
      "bottom": null,
      "display": null,
      "flex": null,
      "flex_flow": null,
      "grid_area": null,
      "grid_auto_columns": null,
      "grid_auto_flow": null,
      "grid_auto_rows": null,
      "grid_column": null,
      "grid_gap": null,
      "grid_row": null,
      "grid_template_areas": null,
      "grid_template_columns": null,
      "grid_template_rows": null,
      "height": null,
      "justify_content": null,
      "justify_items": null,
      "left": null,
      "margin": null,
      "max_height": null,
      "max_width": null,
      "min_height": null,
      "min_width": null,
      "object_fit": null,
      "object_position": null,
      "order": null,
      "overflow": null,
      "overflow_x": null,
      "overflow_y": null,
      "padding": null,
      "right": null,
      "top": null,
      "visibility": null,
      "width": null
     }
    },
    "b5046e4701d54cccb2a11d18ae568873": {
     "model_module": "@jupyter-widgets/controls",
     "model_module_version": "1.5.0",
     "model_name": "ProgressStyleModel",
     "state": {
      "_model_module": "@jupyter-widgets/controls",
      "_model_module_version": "1.5.0",
      "_model_name": "ProgressStyleModel",
      "_view_count": null,
      "_view_module": "@jupyter-widgets/base",
      "_view_module_version": "1.2.0",
      "_view_name": "StyleView",
      "bar_color": null,
      "description_width": ""
     }
    },
    "b72da850e5784b5c9b5ea8cbc0edcacf": {
     "model_module": "@jupyter-widgets/controls",
     "model_module_version": "1.5.0",
     "model_name": "HTMLModel",
     "state": {
      "_dom_classes": [],
      "_model_module": "@jupyter-widgets/controls",
      "_model_module_version": "1.5.0",
      "_model_name": "HTMLModel",
      "_view_count": null,
      "_view_module": "@jupyter-widgets/controls",
      "_view_module_version": "1.5.0",
      "_view_name": "HTMLView",
      "description": "",
      "description_tooltip": null,
      "layout": "IPY_MODEL_6413444a85554a399b99ff845e6498ed",
      "placeholder": "​",
      "style": "IPY_MODEL_3ce592875e57453db08ac4022b2cf5c8",
      "value": "pytorch_model.bin: 100%"
     }
    },
    "bd0c5cf4beef4150adea2298074c6f31": {
     "model_module": "@jupyter-widgets/controls",
     "model_module_version": "1.5.0",
     "model_name": "ProgressStyleModel",
     "state": {
      "_model_module": "@jupyter-widgets/controls",
      "_model_module_version": "1.5.0",
      "_model_name": "ProgressStyleModel",
      "_view_count": null,
      "_view_module": "@jupyter-widgets/base",
      "_view_module_version": "1.2.0",
      "_view_name": "StyleView",
      "bar_color": null,
      "description_width": ""
     }
    },
    "c44f275c644d48c999226bda4c8dae4f": {
     "model_module": "@jupyter-widgets/controls",
     "model_module_version": "1.5.0",
     "model_name": "FloatProgressModel",
     "state": {
      "_dom_classes": [],
      "_model_module": "@jupyter-widgets/controls",
      "_model_module_version": "1.5.0",
      "_model_name": "FloatProgressModel",
      "_view_count": null,
      "_view_module": "@jupyter-widgets/controls",
      "_view_module_version": "1.5.0",
      "_view_name": "ProgressView",
      "bar_style": "success",
      "description": "",
      "description_tooltip": null,
      "layout": "IPY_MODEL_b0648835bf5e4bf2b19fc9a411252b3e",
      "max": 51,
      "min": 0,
      "orientation": "horizontal",
      "style": "IPY_MODEL_cc1cc73192974695a0eae646937e79ca",
      "value": 51
     }
    },
    "c47b948ceeb94ff2b31210fee6eb2583": {
     "model_module": "@jupyter-widgets/base",
     "model_module_version": "1.2.0",
     "model_name": "LayoutModel",
     "state": {
      "_model_module": "@jupyter-widgets/base",
      "_model_module_version": "1.2.0",
      "_model_name": "LayoutModel",
      "_view_count": null,
      "_view_module": "@jupyter-widgets/base",
      "_view_module_version": "1.2.0",
      "_view_name": "LayoutView",
      "align_content": null,
      "align_items": null,
      "align_self": null,
      "border": null,
      "bottom": null,
      "display": null,
      "flex": null,
      "flex_flow": null,
      "grid_area": null,
      "grid_auto_columns": null,
      "grid_auto_flow": null,
      "grid_auto_rows": null,
      "grid_column": null,
      "grid_gap": null,
      "grid_row": null,
      "grid_template_areas": null,
      "grid_template_columns": null,
      "grid_template_rows": null,
      "height": null,
      "justify_content": null,
      "justify_items": null,
      "left": null,
      "margin": null,
      "max_height": null,
      "max_width": null,
      "min_height": null,
      "min_width": null,
      "object_fit": null,
      "object_position": null,
      "order": null,
      "overflow": null,
      "overflow_x": null,
      "overflow_y": null,
      "padding": null,
      "right": null,
      "top": null,
      "visibility": null,
      "width": null
     }
    },
    "c750617062004137b0c309131bfd9af6": {
     "model_module": "@jupyter-widgets/controls",
     "model_module_version": "1.5.0",
     "model_name": "HBoxModel",
     "state": {
      "_dom_classes": [],
      "_model_module": "@jupyter-widgets/controls",
      "_model_module_version": "1.5.0",
      "_model_name": "HBoxModel",
      "_view_count": null,
      "_view_module": "@jupyter-widgets/controls",
      "_view_module_version": "1.5.0",
      "_view_name": "HBoxView",
      "box_style": "",
      "children": [
       "IPY_MODEL_fd5d7281080e47f8b0bf72b38ac95fdd",
       "IPY_MODEL_2f7a41757a05400183f53235fe10513d",
       "IPY_MODEL_5987e42ac13d4163aa71c72b55605ea7"
      ],
      "layout": "IPY_MODEL_69ebf03141774d0e813b0c254d40d31d"
     }
    },
    "c979c770d4284578bccfdb6d1f420da7": {
     "model_module": "@jupyter-widgets/controls",
     "model_module_version": "1.5.0",
     "model_name": "HTMLModel",
     "state": {
      "_dom_classes": [],
      "_model_module": "@jupyter-widgets/controls",
      "_model_module_version": "1.5.0",
      "_model_name": "HTMLModel",
      "_view_count": null,
      "_view_module": "@jupyter-widgets/controls",
      "_view_module_version": "1.5.0",
      "_view_name": "HTMLView",
      "description": "",
      "description_tooltip": null,
      "layout": "IPY_MODEL_869ebcc17c16411993691edaf48715b1",
      "placeholder": "​",
      "style": "IPY_MODEL_5d41aabceff2406eaa5bf91927e05633",
      "value": " 443M/443M [00:02&lt;00:00, 216MB/s]"
     }
    },
    "cc1cc73192974695a0eae646937e79ca": {
     "model_module": "@jupyter-widgets/controls",
     "model_module_version": "1.5.0",
     "model_name": "ProgressStyleModel",
     "state": {
      "_model_module": "@jupyter-widgets/controls",
      "_model_module_version": "1.5.0",
      "_model_name": "ProgressStyleModel",
      "_view_count": null,
      "_view_module": "@jupyter-widgets/base",
      "_view_module_version": "1.2.0",
      "_view_name": "StyleView",
      "bar_color": null,
      "description_width": ""
     }
    },
    "ceee142a4bd54cf9b2fc885b749c0d6f": {
     "model_module": "@jupyter-widgets/controls",
     "model_module_version": "1.5.0",
     "model_name": "HBoxModel",
     "state": {
      "_dom_classes": [],
      "_model_module": "@jupyter-widgets/controls",
      "_model_module_version": "1.5.0",
      "_model_name": "HBoxModel",
      "_view_count": null,
      "_view_module": "@jupyter-widgets/controls",
      "_view_module_version": "1.5.0",
      "_view_name": "HBoxView",
      "box_style": "",
      "children": [
       "IPY_MODEL_6ad5c2499b8444a38bae5fb6052c41e3",
       "IPY_MODEL_9790c589369a44aaa723b6b1d0993fe5",
       "IPY_MODEL_310aef6294794312b1bd28dd6592fe37"
      ],
      "layout": "IPY_MODEL_77b7337be6c947b0945480874174e8cf"
     }
    },
    "d062ec79d74448e381b9af5a3c16dbee": {
     "model_module": "@jupyter-widgets/base",
     "model_module_version": "1.2.0",
     "model_name": "LayoutModel",
     "state": {
      "_model_module": "@jupyter-widgets/base",
      "_model_module_version": "1.2.0",
      "_model_name": "LayoutModel",
      "_view_count": null,
      "_view_module": "@jupyter-widgets/base",
      "_view_module_version": "1.2.0",
      "_view_name": "LayoutView",
      "align_content": null,
      "align_items": null,
      "align_self": null,
      "border": null,
      "bottom": null,
      "display": null,
      "flex": null,
      "flex_flow": null,
      "grid_area": null,
      "grid_auto_columns": null,
      "grid_auto_flow": null,
      "grid_auto_rows": null,
      "grid_column": null,
      "grid_gap": null,
      "grid_row": null,
      "grid_template_areas": null,
      "grid_template_columns": null,
      "grid_template_rows": null,
      "height": null,
      "justify_content": null,
      "justify_items": null,
      "left": null,
      "margin": null,
      "max_height": null,
      "max_width": null,
      "min_height": null,
      "min_width": null,
      "object_fit": null,
      "object_position": null,
      "order": null,
      "overflow": null,
      "overflow_x": null,
      "overflow_y": null,
      "padding": null,
      "right": null,
      "top": null,
      "visibility": null,
      "width": null
     }
    },
    "d8e10cc630744eca856f59c049b88108": {
     "model_module": "@jupyter-widgets/base",
     "model_module_version": "1.2.0",
     "model_name": "LayoutModel",
     "state": {
      "_model_module": "@jupyter-widgets/base",
      "_model_module_version": "1.2.0",
      "_model_name": "LayoutModel",
      "_view_count": null,
      "_view_module": "@jupyter-widgets/base",
      "_view_module_version": "1.2.0",
      "_view_name": "LayoutView",
      "align_content": null,
      "align_items": null,
      "align_self": null,
      "border": null,
      "bottom": null,
      "display": null,
      "flex": null,
      "flex_flow": null,
      "grid_area": null,
      "grid_auto_columns": null,
      "grid_auto_flow": null,
      "grid_auto_rows": null,
      "grid_column": null,
      "grid_gap": null,
      "grid_row": null,
      "grid_template_areas": null,
      "grid_template_columns": null,
      "grid_template_rows": null,
      "height": null,
      "justify_content": null,
      "justify_items": null,
      "left": null,
      "margin": null,
      "max_height": null,
      "max_width": null,
      "min_height": null,
      "min_width": null,
      "object_fit": null,
      "object_position": null,
      "order": null,
      "overflow": null,
      "overflow_x": null,
      "overflow_y": null,
      "padding": null,
      "right": null,
      "top": null,
      "visibility": null,
      "width": null
     }
    },
    "d911cfe2832d46838fc8abc4c0ec8a3c": {
     "model_module": "@jupyter-widgets/controls",
     "model_module_version": "1.5.0",
     "model_name": "DescriptionStyleModel",
     "state": {
      "_model_module": "@jupyter-widgets/controls",
      "_model_module_version": "1.5.0",
      "_model_name": "DescriptionStyleModel",
      "_view_count": null,
      "_view_module": "@jupyter-widgets/base",
      "_view_module_version": "1.2.0",
      "_view_name": "StyleView",
      "description_width": ""
     }
    },
    "d9336e1a6ec649dda40957d46e1f77ba": {
     "model_module": "@jupyter-widgets/controls",
     "model_module_version": "1.5.0",
     "model_name": "HTMLModel",
     "state": {
      "_dom_classes": [],
      "_model_module": "@jupyter-widgets/controls",
      "_model_module_version": "1.5.0",
      "_model_name": "HTMLModel",
      "_view_count": null,
      "_view_module": "@jupyter-widgets/controls",
      "_view_module_version": "1.5.0",
      "_view_name": "HTMLView",
      "description": "",
      "description_tooltip": null,
      "layout": "IPY_MODEL_b27aafcee1ba417099cb1a52f8d5d43a",
      "placeholder": "​",
      "style": "IPY_MODEL_a3f2809a8be246eb88ed6865de326a1f",
      "value": " 146880/146880 [27:37&lt;00:00, 109.82it/s]"
     }
    },
    "e58e14b2d5e44adab1d8d69d52a47ad3": {
     "model_module": "@jupyter-widgets/controls",
     "model_module_version": "1.5.0",
     "model_name": "HTMLModel",
     "state": {
      "_dom_classes": [],
      "_model_module": "@jupyter-widgets/controls",
      "_model_module_version": "1.5.0",
      "_model_name": "HTMLModel",
      "_view_count": null,
      "_view_module": "@jupyter-widgets/controls",
      "_view_module_version": "1.5.0",
      "_view_name": "HTMLView",
      "description": "",
      "description_tooltip": null,
      "layout": "IPY_MODEL_9cf6b42cc62f488caf8358adf0a7e116",
      "placeholder": "​",
      "style": "IPY_MODEL_7ca869866fa24713bd009710177bc738",
      "value": " 443M/443M [00:01&lt;00:00, 240MB/s]"
     }
    },
    "e5cc8c9d257349078d8496bcf3233123": {
     "model_module": "@jupyter-widgets/controls",
     "model_module_version": "1.5.0",
     "model_name": "HBoxModel",
     "state": {
      "_dom_classes": [],
      "_model_module": "@jupyter-widgets/controls",
      "_model_module_version": "1.5.0",
      "_model_name": "HBoxModel",
      "_view_count": null,
      "_view_module": "@jupyter-widgets/controls",
      "_view_module_version": "1.5.0",
      "_view_name": "HBoxView",
      "box_style": "",
      "children": [
       "IPY_MODEL_ac15dc9421f94161af2389d668bcfcfb",
       "IPY_MODEL_c44f275c644d48c999226bda4c8dae4f",
       "IPY_MODEL_611c01f4db91463d8d7a677b8d94d46c"
      ],
      "layout": "IPY_MODEL_7215a379550145df9f1effe2f995c561"
     }
    },
    "eb8a5f808fc646249bb6e87ae52fce27": {
     "model_module": "@jupyter-widgets/base",
     "model_module_version": "1.2.0",
     "model_name": "LayoutModel",
     "state": {
      "_model_module": "@jupyter-widgets/base",
      "_model_module_version": "1.2.0",
      "_model_name": "LayoutModel",
      "_view_count": null,
      "_view_module": "@jupyter-widgets/base",
      "_view_module_version": "1.2.0",
      "_view_name": "LayoutView",
      "align_content": null,
      "align_items": null,
      "align_self": null,
      "border": null,
      "bottom": null,
      "display": null,
      "flex": null,
      "flex_flow": null,
      "grid_area": null,
      "grid_auto_columns": null,
      "grid_auto_flow": null,
      "grid_auto_rows": null,
      "grid_column": null,
      "grid_gap": null,
      "grid_row": null,
      "grid_template_areas": null,
      "grid_template_columns": null,
      "grid_template_rows": null,
      "height": null,
      "justify_content": null,
      "justify_items": null,
      "left": null,
      "margin": null,
      "max_height": null,
      "max_width": null,
      "min_height": null,
      "min_width": null,
      "object_fit": null,
      "object_position": null,
      "order": null,
      "overflow": null,
      "overflow_x": null,
      "overflow_y": null,
      "padding": null,
      "right": null,
      "top": null,
      "visibility": null,
      "width": null
     }
    },
    "f888db88433147c39b654a97020aa2a5": {
     "model_module": "@jupyter-widgets/base",
     "model_module_version": "1.2.0",
     "model_name": "LayoutModel",
     "state": {
      "_model_module": "@jupyter-widgets/base",
      "_model_module_version": "1.2.0",
      "_model_name": "LayoutModel",
      "_view_count": null,
      "_view_module": "@jupyter-widgets/base",
      "_view_module_version": "1.2.0",
      "_view_name": "LayoutView",
      "align_content": null,
      "align_items": null,
      "align_self": null,
      "border": null,
      "bottom": null,
      "display": null,
      "flex": null,
      "flex_flow": null,
      "grid_area": null,
      "grid_auto_columns": null,
      "grid_auto_flow": null,
      "grid_auto_rows": null,
      "grid_column": null,
      "grid_gap": null,
      "grid_row": null,
      "grid_template_areas": null,
      "grid_template_columns": null,
      "grid_template_rows": null,
      "height": null,
      "justify_content": null,
      "justify_items": null,
      "left": null,
      "margin": null,
      "max_height": null,
      "max_width": null,
      "min_height": null,
      "min_width": null,
      "object_fit": null,
      "object_position": null,
      "order": null,
      "overflow": null,
      "overflow_x": null,
      "overflow_y": null,
      "padding": null,
      "right": null,
      "top": null,
      "visibility": null,
      "width": null
     }
    },
    "fac7353effc843d29c63c5870c7cf776": {
     "model_module": "@jupyter-widgets/controls",
     "model_module_version": "1.5.0",
     "model_name": "DescriptionStyleModel",
     "state": {
      "_model_module": "@jupyter-widgets/controls",
      "_model_module_version": "1.5.0",
      "_model_name": "DescriptionStyleModel",
      "_view_count": null,
      "_view_module": "@jupyter-widgets/base",
      "_view_module_version": "1.2.0",
      "_view_name": "StyleView",
      "description_width": ""
     }
    },
    "fbeab2fbbd5b4ded9175b6524cd37487": {
     "model_module": "@jupyter-widgets/controls",
     "model_module_version": "1.5.0",
     "model_name": "DescriptionStyleModel",
     "state": {
      "_model_module": "@jupyter-widgets/controls",
      "_model_module_version": "1.5.0",
      "_model_name": "DescriptionStyleModel",
      "_view_count": null,
      "_view_module": "@jupyter-widgets/base",
      "_view_module_version": "1.2.0",
      "_view_name": "StyleView",
      "description_width": ""
     }
    },
    "fcd28c0780544acb9d912bcdade8bcd7": {
     "model_module": "@jupyter-widgets/controls",
     "model_module_version": "1.5.0",
     "model_name": "HBoxModel",
     "state": {
      "_dom_classes": [],
      "_model_module": "@jupyter-widgets/controls",
      "_model_module_version": "1.5.0",
      "_model_name": "HBoxModel",
      "_view_count": null,
      "_view_module": "@jupyter-widgets/controls",
      "_view_module_version": "1.5.0",
      "_view_name": "HBoxView",
      "box_style": "",
      "children": [
       "IPY_MODEL_4178c9e0460a4480b80b22a3dd07c5d3",
       "IPY_MODEL_036339d9a8934de590028f08ca4eeeed",
       "IPY_MODEL_e58e14b2d5e44adab1d8d69d52a47ad3"
      ],
      "layout": "IPY_MODEL_a4152c51d6b64219906f874fccdd2efd"
     }
    },
    "fd5d7281080e47f8b0bf72b38ac95fdd": {
     "model_module": "@jupyter-widgets/controls",
     "model_module_version": "1.5.0",
     "model_name": "HTMLModel",
     "state": {
      "_dom_classes": [],
      "_model_module": "@jupyter-widgets/controls",
      "_model_module_version": "1.5.0",
      "_model_name": "HTMLModel",
      "_view_count": null,
      "_view_module": "@jupyter-widgets/controls",
      "_view_module_version": "1.5.0",
      "_view_name": "HTMLView",
      "description": "",
      "description_tooltip": null,
      "layout": "IPY_MODEL_781ba699c2f744b5806b4012f4770629",
      "placeholder": "​",
      "style": "IPY_MODEL_074dcee40009444d9317cef058a99ef5",
      "value": "vocab.txt: 100%"
     }
    }
   }
  }
 },
 "nbformat": 4,
 "nbformat_minor": 4
}
