{
 "cells": [
  {
   "cell_type": "code",
   "execution_count": null,
   "source": [
    "import pandas as pd\r\n",
    "import numpy as np"
   ],
   "outputs": [],
   "metadata": {}
  },
  {
   "cell_type": "markdown",
   "source": [
    "# 한국어 감정 정보가 포함된 단발성 대화 데이터셋\r\n",
    "\r\n",
    "(https://aihub.or.kr/opendata/keti-data/recognition-laguage/KETI-02-009)"
   ],
   "metadata": {}
  },
  {
   "cell_type": "code",
   "execution_count": null,
   "source": [
    "keti_single=pd.read_excel('한국어_단발성_대화_데이터셋.xlsx')\r\n",
    "keti_single.head()"
   ],
   "outputs": [],
   "metadata": {}
  },
  {
   "cell_type": "code",
   "execution_count": null,
   "source": [
    "keti_single=keti_single.iloc[:,:2]\r\n",
    "keti_single.head()"
   ],
   "outputs": [],
   "metadata": {}
  },
  {
   "cell_type": "code",
   "execution_count": null,
   "source": [
    "keti_single.rename(columns={'Sentence':\"발화\",'Emotion':'감정'},inplace=True)"
   ],
   "outputs": [],
   "metadata": {}
  },
  {
   "cell_type": "code",
   "execution_count": null,
   "source": [
    "keti_single[keti_single[\"감정\"]==\"놀람\"].sample(50)"
   ],
   "outputs": [],
   "metadata": {}
  },
  {
   "cell_type": "code",
   "execution_count": null,
   "source": [
    "# \"놀람\"에 해당하는 텍스트들이 \"중립\",\"혐오\",\"당황\" 등을 넘나들기 때문에 \"놀람\"에 해당하는 데이터들을 삭제한다.\r\n",
    "\r\n",
    "keti_single=keti_single[keti_single[\"감정\"]!=\"놀람\"]"
   ],
   "outputs": [],
   "metadata": {}
  },
  {
   "cell_type": "code",
   "execution_count": null,
   "source": [
    "keti_single[\"감정\"]=np.where(keti_single[\"감정\"].str.match(\"공포\"),\"불안\",keti_single[\"감정\"])"
   ],
   "outputs": [],
   "metadata": {}
  },
  {
   "cell_type": "markdown",
   "source": [
    "# 감성대화 말뭉치\r\n",
    "(https://aihub.or.kr/aidata/7978)"
   ],
   "metadata": {}
  },
  {
   "cell_type": "code",
   "execution_count": 20,
   "source": [
    "ori_t=pd.read_excel('감성대화말뭉치(원시데이터)_Training.xlsx')\r\n",
    "fin_t=pd.read_excel('감성대화말뭉치(최종데이터)_Training.xlsx')\r\n",
    "ori_v=pd.read_excel('감성대화말뭉치(원시데이터)_Validation.xlsx')\r\n",
    "fin_v=pd.read_excel('감성대화말뭉치(최종데이터)_Validation.xlsx')"
   ],
   "outputs": [],
   "metadata": {}
  },
  {
   "cell_type": "code",
   "execution_count": 21,
   "source": [
    "ori_t=ori_t.fillna(\"\")\r\n",
    "ori_v=ori_v.fillna(\"\")\r\n",
    "fin_t=fin_t.fillna(\"\")\r\n",
    "fin_v=fin_v.fillna(\"\")"
   ],
   "outputs": [],
   "metadata": {}
  },
  {
   "cell_type": "code",
   "execution_count": 22,
   "source": [
    "# 컬럼간 str 합치기\r\n",
    "\r\n",
    "ori_t[\"사람문장\"]=ori_t[\"사람문장1\"].astype(str)+ori_t[\"사람문장2\"].astype(str)+ori_t[\"사람문장3\"].astype(str)\r\n",
    "ori_v[\"사람문장\"]=ori_v[\"사람문장1\"].astype(str)+ori_v[\"사람문장2\"].astype(str)+ori_v[\"사람문장3\"].astype(str)\r\n",
    "fin_t[\"사람문장\"]=fin_t[\"사람문장1\"].astype(str)+fin_t[\"사람문장2\"].astype(str)+fin_t[\"사람문장3\"].astype(str)+fin_t[\"사람문장4\"].astype(str)\r\n",
    "fin_v[\"사람문장\"]=fin_v[\"사람문장1\"].astype(str)+fin_v[\"사람문장2\"].astype(str)+fin_v[\"사람문장3\"].astype(str)+fin_v[\"사람문장4\"].astype(str)"
   ],
   "outputs": [],
   "metadata": {}
  },
  {
   "cell_type": "code",
   "execution_count": 23,
   "source": [
    "df_concat=pd.concat([ori_t,ori_v,fin_t,fin_v])"
   ],
   "outputs": [],
   "metadata": {}
  },
  {
   "cell_type": "code",
   "execution_count": 24,
   "source": [
    "final_df=df_concat[[\"사람문장\",\"감정_대분류\"]]"
   ],
   "outputs": [],
   "metadata": {}
  },
  {
   "cell_type": "code",
   "execution_count": 25,
   "source": [
    "final_df=final_df.rename({\"감정_대분류\":\"감정\"},axis=1)"
   ],
   "outputs": [],
   "metadata": {}
  },
  {
   "cell_type": "code",
   "execution_count": 26,
   "source": [
    "#컬럼 내 데이터들의 공백(string) 제거\r\n",
    "\r\n",
    "final_df[\"감정\"]=final_df[\"감정\"].apply(lambda x:x.strip())"
   ],
   "outputs": [],
   "metadata": {}
  },
  {
   "cell_type": "code",
   "execution_count": 27,
   "source": [
    "final_df[\"감정\"].value_counts()"
   ],
   "outputs": [
    {
     "output_type": "execute_result",
     "data": {
      "text/plain": [
       "상처    22567\n",
       "불안    22254\n",
       "슬픔    21998\n",
       "분노    21899\n",
       "기쁨    21597\n",
       "당황    19906\n",
       "Name: 감정, dtype: int64"
      ]
     },
     "metadata": {},
     "execution_count": 27
    }
   ],
   "metadata": {}
  },
  {
   "cell_type": "code",
   "execution_count": 28,
   "source": [
    "#np.where(조건,True일때 값,False일때 값) \r\n",
    "\r\n",
    "final_df[\"감정\"]=np.where(final_df[\"감정\"].str.match(\"상처\"),\"슬픔\",final_df[\"감정\"])\r\n",
    "final_df[\"감정\"]=np.where(final_df[\"감정\"].str.match(\"기쁨\"),\"행복\",final_df[\"감정\"])"
   ],
   "outputs": [],
   "metadata": {}
  },
  {
   "cell_type": "code",
   "execution_count": 29,
   "source": [
    "final_df=final_df.reset_index(drop=True)"
   ],
   "outputs": [],
   "metadata": {}
  },
  {
   "cell_type": "code",
   "execution_count": 30,
   "source": [
    "final_df.rename({\"사람문장\":\"발화\"},axis=1,inplace=True)"
   ],
   "outputs": [],
   "metadata": {}
  },
  {
   "cell_type": "markdown",
   "source": [
    "# 한국어 감정 정보 연속적 대화 데이터셋 \r\n",
    "(https://aihub.or.kr/opendata/keti-data/recognition-laguage/KETI-02-010)"
   ],
   "metadata": {}
  },
  {
   "cell_type": "code",
   "execution_count": 31,
   "source": [
    "keti_dialogue=pd.read_excel('한국어_연속적_대화_데이터셋.xlsx')"
   ],
   "outputs": [],
   "metadata": {}
  },
  {
   "cell_type": "code",
   "execution_count": 32,
   "source": [
    "keti_dialogue.head()"
   ],
   "outputs": [
    {
     "output_type": "execute_result",
     "data": {
      "text/plain": [
       "  Unnamed: 0                                    Unnamed: 1 Unnamed: 2  \\\n",
       "0   dialog #                                            발화         감정   \n",
       "1          S          아 진짜! 사무실에서 피지 말라니깐! 간접흡연이 얼마나 안좋은데!         분노   \n",
       "2        NaN  그럼 직접흡연하는 난 얼마나 안좋겠니? 안그래? 보면 꼭... 지 생각만 하고.         혐오   \n",
       "3        NaN                                       손님 왔어요.         중립   \n",
       "4        NaN                                       손님? 누구?         중립   \n",
       "\n",
       "   Unnamed: 3  Unnamed: 4      행복  중립  슬픔  공포  혐오  분노  놀람  \n",
       "0         NaN         NaN  1030.0 NaN NaN NaN NaN NaN NaN  \n",
       "1         NaN         NaN     NaN NaN NaN NaN NaN NaN NaN  \n",
       "2         NaN         NaN     NaN NaN NaN NaN NaN NaN NaN  \n",
       "3         NaN         NaN     NaN NaN NaN NaN NaN NaN NaN  \n",
       "4         NaN         NaN     NaN NaN NaN NaN NaN NaN NaN  "
      ],
      "text/html": [
       "<div>\n",
       "<style scoped>\n",
       "    .dataframe tbody tr th:only-of-type {\n",
       "        vertical-align: middle;\n",
       "    }\n",
       "\n",
       "    .dataframe tbody tr th {\n",
       "        vertical-align: top;\n",
       "    }\n",
       "\n",
       "    .dataframe thead th {\n",
       "        text-align: right;\n",
       "    }\n",
       "</style>\n",
       "<table border=\"1\" class=\"dataframe\">\n",
       "  <thead>\n",
       "    <tr style=\"text-align: right;\">\n",
       "      <th></th>\n",
       "      <th>Unnamed: 0</th>\n",
       "      <th>Unnamed: 1</th>\n",
       "      <th>Unnamed: 2</th>\n",
       "      <th>Unnamed: 3</th>\n",
       "      <th>Unnamed: 4</th>\n",
       "      <th>행복</th>\n",
       "      <th>중립</th>\n",
       "      <th>슬픔</th>\n",
       "      <th>공포</th>\n",
       "      <th>혐오</th>\n",
       "      <th>분노</th>\n",
       "      <th>놀람</th>\n",
       "    </tr>\n",
       "  </thead>\n",
       "  <tbody>\n",
       "    <tr>\n",
       "      <th>0</th>\n",
       "      <td>dialog #</td>\n",
       "      <td>발화</td>\n",
       "      <td>감정</td>\n",
       "      <td>NaN</td>\n",
       "      <td>NaN</td>\n",
       "      <td>1030.0</td>\n",
       "      <td>NaN</td>\n",
       "      <td>NaN</td>\n",
       "      <td>NaN</td>\n",
       "      <td>NaN</td>\n",
       "      <td>NaN</td>\n",
       "      <td>NaN</td>\n",
       "    </tr>\n",
       "    <tr>\n",
       "      <th>1</th>\n",
       "      <td>S</td>\n",
       "      <td>아 진짜! 사무실에서 피지 말라니깐! 간접흡연이 얼마나 안좋은데!</td>\n",
       "      <td>분노</td>\n",
       "      <td>NaN</td>\n",
       "      <td>NaN</td>\n",
       "      <td>NaN</td>\n",
       "      <td>NaN</td>\n",
       "      <td>NaN</td>\n",
       "      <td>NaN</td>\n",
       "      <td>NaN</td>\n",
       "      <td>NaN</td>\n",
       "      <td>NaN</td>\n",
       "    </tr>\n",
       "    <tr>\n",
       "      <th>2</th>\n",
       "      <td>NaN</td>\n",
       "      <td>그럼 직접흡연하는 난 얼마나 안좋겠니? 안그래? 보면 꼭... 지 생각만 하고.</td>\n",
       "      <td>혐오</td>\n",
       "      <td>NaN</td>\n",
       "      <td>NaN</td>\n",
       "      <td>NaN</td>\n",
       "      <td>NaN</td>\n",
       "      <td>NaN</td>\n",
       "      <td>NaN</td>\n",
       "      <td>NaN</td>\n",
       "      <td>NaN</td>\n",
       "      <td>NaN</td>\n",
       "    </tr>\n",
       "    <tr>\n",
       "      <th>3</th>\n",
       "      <td>NaN</td>\n",
       "      <td>손님 왔어요.</td>\n",
       "      <td>중립</td>\n",
       "      <td>NaN</td>\n",
       "      <td>NaN</td>\n",
       "      <td>NaN</td>\n",
       "      <td>NaN</td>\n",
       "      <td>NaN</td>\n",
       "      <td>NaN</td>\n",
       "      <td>NaN</td>\n",
       "      <td>NaN</td>\n",
       "      <td>NaN</td>\n",
       "    </tr>\n",
       "    <tr>\n",
       "      <th>4</th>\n",
       "      <td>NaN</td>\n",
       "      <td>손님? 누구?</td>\n",
       "      <td>중립</td>\n",
       "      <td>NaN</td>\n",
       "      <td>NaN</td>\n",
       "      <td>NaN</td>\n",
       "      <td>NaN</td>\n",
       "      <td>NaN</td>\n",
       "      <td>NaN</td>\n",
       "      <td>NaN</td>\n",
       "      <td>NaN</td>\n",
       "      <td>NaN</td>\n",
       "    </tr>\n",
       "  </tbody>\n",
       "</table>\n",
       "</div>"
      ]
     },
     "metadata": {},
     "execution_count": 32
    }
   ],
   "metadata": {}
  },
  {
   "cell_type": "code",
   "execution_count": 33,
   "source": [
    "# 첫행을 컬럼으로 바꾸기\r\n",
    "new_columns=keti_dialogue.iloc[0]\r\n",
    "keti_dialogue=keti_dialogue.rename(columns=new_columns).iloc[:,1:3]"
   ],
   "outputs": [],
   "metadata": {}
  },
  {
   "cell_type": "code",
   "execution_count": 34,
   "source": [
    "keti_dialogue.drop(index=0,axis=0,inplace=True)"
   ],
   "outputs": [],
   "metadata": {}
  },
  {
   "cell_type": "code",
   "execution_count": 35,
   "source": [
    "keti_dialogue.head()"
   ],
   "outputs": [
    {
     "output_type": "execute_result",
     "data": {
      "text/plain": [
       "                                             발화  감정\n",
       "1          아 진짜! 사무실에서 피지 말라니깐! 간접흡연이 얼마나 안좋은데!  분노\n",
       "2  그럼 직접흡연하는 난 얼마나 안좋겠니? 안그래? 보면 꼭... 지 생각만 하고.  혐오\n",
       "3                                       손님 왔어요.  중립\n",
       "4                                       손님? 누구?  중립\n",
       "5                                몰라요. 팀장님 친구래요.  중립"
      ],
      "text/html": [
       "<div>\n",
       "<style scoped>\n",
       "    .dataframe tbody tr th:only-of-type {\n",
       "        vertical-align: middle;\n",
       "    }\n",
       "\n",
       "    .dataframe tbody tr th {\n",
       "        vertical-align: top;\n",
       "    }\n",
       "\n",
       "    .dataframe thead th {\n",
       "        text-align: right;\n",
       "    }\n",
       "</style>\n",
       "<table border=\"1\" class=\"dataframe\">\n",
       "  <thead>\n",
       "    <tr style=\"text-align: right;\">\n",
       "      <th></th>\n",
       "      <th>발화</th>\n",
       "      <th>감정</th>\n",
       "    </tr>\n",
       "  </thead>\n",
       "  <tbody>\n",
       "    <tr>\n",
       "      <th>1</th>\n",
       "      <td>아 진짜! 사무실에서 피지 말라니깐! 간접흡연이 얼마나 안좋은데!</td>\n",
       "      <td>분노</td>\n",
       "    </tr>\n",
       "    <tr>\n",
       "      <th>2</th>\n",
       "      <td>그럼 직접흡연하는 난 얼마나 안좋겠니? 안그래? 보면 꼭... 지 생각만 하고.</td>\n",
       "      <td>혐오</td>\n",
       "    </tr>\n",
       "    <tr>\n",
       "      <th>3</th>\n",
       "      <td>손님 왔어요.</td>\n",
       "      <td>중립</td>\n",
       "    </tr>\n",
       "    <tr>\n",
       "      <th>4</th>\n",
       "      <td>손님? 누구?</td>\n",
       "      <td>중립</td>\n",
       "    </tr>\n",
       "    <tr>\n",
       "      <th>5</th>\n",
       "      <td>몰라요. 팀장님 친구래요.</td>\n",
       "      <td>중립</td>\n",
       "    </tr>\n",
       "  </tbody>\n",
       "</table>\n",
       "</div>"
      ]
     },
     "metadata": {},
     "execution_count": 35
    }
   ],
   "metadata": {}
  },
  {
   "cell_type": "code",
   "execution_count": 36,
   "source": [
    "keti_dialogue[\"감정\"].value_counts()"
   ],
   "outputs": [
    {
     "output_type": "execute_result",
     "data": {
      "text/plain": [
       "중립     43786\n",
       "놀람      4866\n",
       "분노      3628\n",
       "슬픔      1972\n",
       "행복      1030\n",
       "혐오       220\n",
       "공포        98\n",
       "ㅍ         12\n",
       "분          4\n",
       "ㅈ중립        1\n",
       "분ㄴ         1\n",
       "중림         1\n",
       "ㄴ중립        1\n",
       "줄          1\n",
       "Name: 감정, dtype: int64"
      ]
     },
     "metadata": {},
     "execution_count": 36
    }
   ],
   "metadata": {}
  },
  {
   "cell_type": "code",
   "execution_count": 37,
   "source": [
    "keti_dialogue=keti_dialogue[keti_dialogue[\"감정\"].isin([\"중립\",\"놀람\",\"분노\",\"슬픔\",\"행복\",\"혐오\",\"공포\"])]"
   ],
   "outputs": [],
   "metadata": {}
  },
  {
   "cell_type": "code",
   "execution_count": 38,
   "source": [
    "# 감정 Label 일정하게 맞춰주기 (감성대화 말뭉치와 통합을 위해)\r\n",
    "\r\n",
    "keti_dialogue[\"감정\"]=np.where(keti_dialogue[\"감정\"].str.match(\"놀람\"),\"당황\",keti_dialogue[\"감정\"])\r\n",
    "keti_dialogue[\"감정\"]=np.where(keti_dialogue[\"감정\"].str.match(\"공포\"),\"불안\",keti_dialogue[\"감정\"])"
   ],
   "outputs": [],
   "metadata": {}
  },
  {
   "cell_type": "markdown",
   "source": [
    "# 데이터셋 합치기"
   ],
   "metadata": {}
  },
  {
   "cell_type": "code",
   "execution_count": 39,
   "source": [
    "real_final_df=pd.concat([final_df,keti_dialogue,keti_single])"
   ],
   "outputs": [],
   "metadata": {}
  },
  {
   "cell_type": "code",
   "execution_count": 40,
   "source": [
    "real_final_df.reset_index(drop=True,inplace=True)"
   ],
   "outputs": [],
   "metadata": {}
  },
  {
   "cell_type": "code",
   "execution_count": 41,
   "source": [
    "real_final_df"
   ],
   "outputs": [
    {
     "output_type": "execute_result",
     "data": {
      "text/plain": [
       "                                                       발화  감정\n",
       "0       지금 난 기분이 너무 좋아.오늘부터 연휴가 시작됐거든. 내일 회사 안 간다.그냥 집...  행복\n",
       "1       나도 조카가 생겨! 너무 기뻐.응. 언니에게 꽃다발을 선물할 거야. 예쁜 딸이면 좋...  행복\n",
       "2       거래처와의 다음 계약이 무산될까봐 불안해.딱히 이유는 없어. 그냥 나 혼자 불안한 ...  불안\n",
       "3       당뇨로 고생 중인데 아내가 이혼하자더군. 아내가 날 버리면 병은 더 악화될 텐데 세...  슬픔\n",
       "4                    노년에 재정적으로 이루어 놓은게 없어서 걱정이야.정말이지 막막해.  슬픔\n",
       "...                                                   ...  ..\n",
       "218512               솔직히 예보 제대로 못하는 데 세금이라도 아끼게 그냥 폐지해라..  혐오\n",
       "218513                                        재미가 없으니 망하지  혐오\n",
       "218514  공장 도시락 비우생적임 아르바이트했는데 화장실가성 손도 않씯고 재료 담고 바닥 떨어...  혐오\n",
       "218515               코딱지 만한 나라에서 지들끼리 피터지게 싸우는 센징 클래스 ㅉㅉㅉ  혐오\n",
       "218516               와이프도 그렇고 댓글 다 볼텐데 이휘재 좀 하차 하라고 전해주세요  혐오\n",
       "\n",
       "[218517 rows x 2 columns]"
      ],
      "text/html": [
       "<div>\n",
       "<style scoped>\n",
       "    .dataframe tbody tr th:only-of-type {\n",
       "        vertical-align: middle;\n",
       "    }\n",
       "\n",
       "    .dataframe tbody tr th {\n",
       "        vertical-align: top;\n",
       "    }\n",
       "\n",
       "    .dataframe thead th {\n",
       "        text-align: right;\n",
       "    }\n",
       "</style>\n",
       "<table border=\"1\" class=\"dataframe\">\n",
       "  <thead>\n",
       "    <tr style=\"text-align: right;\">\n",
       "      <th></th>\n",
       "      <th>발화</th>\n",
       "      <th>감정</th>\n",
       "    </tr>\n",
       "  </thead>\n",
       "  <tbody>\n",
       "    <tr>\n",
       "      <th>0</th>\n",
       "      <td>지금 난 기분이 너무 좋아.오늘부터 연휴가 시작됐거든. 내일 회사 안 간다.그냥 집...</td>\n",
       "      <td>행복</td>\n",
       "    </tr>\n",
       "    <tr>\n",
       "      <th>1</th>\n",
       "      <td>나도 조카가 생겨! 너무 기뻐.응. 언니에게 꽃다발을 선물할 거야. 예쁜 딸이면 좋...</td>\n",
       "      <td>행복</td>\n",
       "    </tr>\n",
       "    <tr>\n",
       "      <th>2</th>\n",
       "      <td>거래처와의 다음 계약이 무산될까봐 불안해.딱히 이유는 없어. 그냥 나 혼자 불안한 ...</td>\n",
       "      <td>불안</td>\n",
       "    </tr>\n",
       "    <tr>\n",
       "      <th>3</th>\n",
       "      <td>당뇨로 고생 중인데 아내가 이혼하자더군. 아내가 날 버리면 병은 더 악화될 텐데 세...</td>\n",
       "      <td>슬픔</td>\n",
       "    </tr>\n",
       "    <tr>\n",
       "      <th>4</th>\n",
       "      <td>노년에 재정적으로 이루어 놓은게 없어서 걱정이야.정말이지 막막해.</td>\n",
       "      <td>슬픔</td>\n",
       "    </tr>\n",
       "    <tr>\n",
       "      <th>...</th>\n",
       "      <td>...</td>\n",
       "      <td>...</td>\n",
       "    </tr>\n",
       "    <tr>\n",
       "      <th>218512</th>\n",
       "      <td>솔직히 예보 제대로 못하는 데 세금이라도 아끼게 그냥 폐지해라..</td>\n",
       "      <td>혐오</td>\n",
       "    </tr>\n",
       "    <tr>\n",
       "      <th>218513</th>\n",
       "      <td>재미가 없으니 망하지</td>\n",
       "      <td>혐오</td>\n",
       "    </tr>\n",
       "    <tr>\n",
       "      <th>218514</th>\n",
       "      <td>공장 도시락 비우생적임 아르바이트했는데 화장실가성 손도 않씯고 재료 담고 바닥 떨어...</td>\n",
       "      <td>혐오</td>\n",
       "    </tr>\n",
       "    <tr>\n",
       "      <th>218515</th>\n",
       "      <td>코딱지 만한 나라에서 지들끼리 피터지게 싸우는 센징 클래스 ㅉㅉㅉ</td>\n",
       "      <td>혐오</td>\n",
       "    </tr>\n",
       "    <tr>\n",
       "      <th>218516</th>\n",
       "      <td>와이프도 그렇고 댓글 다 볼텐데 이휘재 좀 하차 하라고 전해주세요</td>\n",
       "      <td>혐오</td>\n",
       "    </tr>\n",
       "  </tbody>\n",
       "</table>\n",
       "<p>218517 rows × 2 columns</p>\n",
       "</div>"
      ]
     },
     "metadata": {},
     "execution_count": 41
    }
   ],
   "metadata": {}
  },
  {
   "cell_type": "code",
   "execution_count": 42,
   "source": [
    "real_final_df[\"감정\"].value_counts()"
   ],
   "outputs": [
    {
     "output_type": "execute_result",
     "data": {
      "text/plain": [
       "슬픔    51804\n",
       "중립    48616\n",
       "분노    31192\n",
       "행복    28664\n",
       "불안    27820\n",
       "당황    24772\n",
       "혐오     5649\n",
       "Name: 감정, dtype: int64"
      ]
     },
     "metadata": {},
     "execution_count": 42
    }
   ],
   "metadata": {}
  },
  {
   "cell_type": "code",
   "execution_count": 43,
   "source": [
    "real_final_df.to_csv(\"sentiment_dialogues.csv\")"
   ],
   "outputs": [],
   "metadata": {}
  },
  {
   "cell_type": "code",
   "execution_count": null,
   "source": [],
   "outputs": [],
   "metadata": {}
  }
 ],
 "metadata": {
  "orig_nbformat": 4,
  "language_info": {
   "name": "python",
   "version": "3.9.6",
   "mimetype": "text/x-python",
   "codemirror_mode": {
    "name": "ipython",
    "version": 3
   },
   "pygments_lexer": "ipython3",
   "nbconvert_exporter": "python",
   "file_extension": ".py"
  },
  "kernelspec": {
   "name": "python3",
   "display_name": "Python 3.9.6 64-bit ('base': conda)"
  },
  "interpreter": {
   "hash": "ecf5722fdaf1897a315d257d89d94520bfcaa453217d5becf09b39e73618b0de"
  }
 },
 "nbformat": 4,
 "nbformat_minor": 2
}