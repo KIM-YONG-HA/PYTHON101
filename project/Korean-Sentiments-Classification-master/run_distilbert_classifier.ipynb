{
  "nbformat": 4,
  "nbformat_minor": 2,
  "metadata": {
    "colab": {
      "name": "KoDistilBERT_Sentiment_Analysis.ipynb",
      "provenance": [],
      "collapsed_sections": [],
      "machine_shape": "hm"
    },
    "kernelspec": {
      "name": "python3",
      "display_name": "Python 3"
    },
    "language_info": {
      "name": "python"
    },
    "widgets": {
      "application/vnd.jupyter.widget-state+json": {
        "fb2664aa72f34dda9eec095eb5a94474": {
          "model_module": "@jupyter-widgets/controls",
          "model_name": "HBoxModel",
          "model_module_version": "1.5.0",
          "state": {
            "_view_name": "HBoxView",
            "_dom_classes": [],
            "_model_name": "HBoxModel",
            "_view_module": "@jupyter-widgets/controls",
            "_model_module_version": "1.5.0",
            "_view_count": null,
            "_view_module_version": "1.5.0",
            "box_style": "",
            "layout": "IPY_MODEL_eb7f6d3bbfa84232baa3640e1619c6c9",
            "_model_module": "@jupyter-widgets/controls",
            "children": [
              "IPY_MODEL_037be5b0bd1847d49c1c59c9528ac632",
              "IPY_MODEL_52958e5ce66b464fabe7a795746a89a3"
            ]
          }
        },
        "eb7f6d3bbfa84232baa3640e1619c6c9": {
          "model_module": "@jupyter-widgets/base",
          "model_name": "LayoutModel",
          "model_module_version": "1.2.0",
          "state": {
            "_view_name": "LayoutView",
            "grid_template_rows": null,
            "right": null,
            "justify_content": null,
            "_view_module": "@jupyter-widgets/base",
            "overflow": null,
            "_model_module_version": "1.2.0",
            "_view_count": null,
            "flex_flow": null,
            "width": null,
            "min_width": null,
            "border": null,
            "align_items": null,
            "bottom": null,
            "_model_module": "@jupyter-widgets/base",
            "top": null,
            "grid_column": null,
            "overflow_y": null,
            "overflow_x": null,
            "grid_auto_flow": null,
            "grid_area": null,
            "grid_template_columns": null,
            "flex": null,
            "_model_name": "LayoutModel",
            "justify_items": null,
            "grid_row": null,
            "max_height": null,
            "align_content": null,
            "visibility": null,
            "align_self": null,
            "height": null,
            "min_height": null,
            "padding": null,
            "grid_auto_rows": null,
            "grid_gap": null,
            "max_width": null,
            "order": null,
            "_view_module_version": "1.2.0",
            "grid_template_areas": null,
            "object_position": null,
            "object_fit": null,
            "grid_auto_columns": null,
            "margin": null,
            "display": null,
            "left": null
          }
        },
        "037be5b0bd1847d49c1c59c9528ac632": {
          "model_module": "@jupyter-widgets/controls",
          "model_name": "FloatProgressModel",
          "model_module_version": "1.5.0",
          "state": {
            "_view_name": "ProgressView",
            "style": "IPY_MODEL_0da8679158184ce0a43278703519ce9f",
            "_dom_classes": [],
            "description": "Downloading: 100%",
            "_model_name": "FloatProgressModel",
            "bar_style": "success",
            "max": 426,
            "_view_module": "@jupyter-widgets/controls",
            "_model_module_version": "1.5.0",
            "value": 426,
            "_view_count": null,
            "_view_module_version": "1.5.0",
            "orientation": "horizontal",
            "min": 0,
            "description_tooltip": null,
            "_model_module": "@jupyter-widgets/controls",
            "layout": "IPY_MODEL_efc91aaaecdc46ddb1d86208e1e3a999"
          }
        },
        "52958e5ce66b464fabe7a795746a89a3": {
          "model_module": "@jupyter-widgets/controls",
          "model_name": "HTMLModel",
          "model_module_version": "1.5.0",
          "state": {
            "_view_name": "HTMLView",
            "style": "IPY_MODEL_cc78179f2aa64c638dbfb33e2b94c509",
            "_dom_classes": [],
            "description": "",
            "_model_name": "HTMLModel",
            "placeholder": "​",
            "_view_module": "@jupyter-widgets/controls",
            "_model_module_version": "1.5.0",
            "value": " 426/426 [00:15&lt;00:00, 28.2B/s]",
            "_view_count": null,
            "_view_module_version": "1.5.0",
            "description_tooltip": null,
            "_model_module": "@jupyter-widgets/controls",
            "layout": "IPY_MODEL_e3b0c08119cb464aa0995c630874ebfe"
          }
        },
        "0da8679158184ce0a43278703519ce9f": {
          "model_module": "@jupyter-widgets/controls",
          "model_name": "ProgressStyleModel",
          "model_module_version": "1.5.0",
          "state": {
            "_view_name": "StyleView",
            "_model_name": "ProgressStyleModel",
            "description_width": "initial",
            "_view_module": "@jupyter-widgets/base",
            "_model_module_version": "1.5.0",
            "_view_count": null,
            "_view_module_version": "1.2.0",
            "bar_color": null,
            "_model_module": "@jupyter-widgets/controls"
          }
        },
        "efc91aaaecdc46ddb1d86208e1e3a999": {
          "model_module": "@jupyter-widgets/base",
          "model_name": "LayoutModel",
          "model_module_version": "1.2.0",
          "state": {
            "_view_name": "LayoutView",
            "grid_template_rows": null,
            "right": null,
            "justify_content": null,
            "_view_module": "@jupyter-widgets/base",
            "overflow": null,
            "_model_module_version": "1.2.0",
            "_view_count": null,
            "flex_flow": null,
            "width": null,
            "min_width": null,
            "border": null,
            "align_items": null,
            "bottom": null,
            "_model_module": "@jupyter-widgets/base",
            "top": null,
            "grid_column": null,
            "overflow_y": null,
            "overflow_x": null,
            "grid_auto_flow": null,
            "grid_area": null,
            "grid_template_columns": null,
            "flex": null,
            "_model_name": "LayoutModel",
            "justify_items": null,
            "grid_row": null,
            "max_height": null,
            "align_content": null,
            "visibility": null,
            "align_self": null,
            "height": null,
            "min_height": null,
            "padding": null,
            "grid_auto_rows": null,
            "grid_gap": null,
            "max_width": null,
            "order": null,
            "_view_module_version": "1.2.0",
            "grid_template_areas": null,
            "object_position": null,
            "object_fit": null,
            "grid_auto_columns": null,
            "margin": null,
            "display": null,
            "left": null
          }
        },
        "cc78179f2aa64c638dbfb33e2b94c509": {
          "model_module": "@jupyter-widgets/controls",
          "model_name": "DescriptionStyleModel",
          "model_module_version": "1.5.0",
          "state": {
            "_view_name": "StyleView",
            "_model_name": "DescriptionStyleModel",
            "description_width": "",
            "_view_module": "@jupyter-widgets/base",
            "_model_module_version": "1.5.0",
            "_view_count": null,
            "_view_module_version": "1.2.0",
            "_model_module": "@jupyter-widgets/controls"
          }
        },
        "e3b0c08119cb464aa0995c630874ebfe": {
          "model_module": "@jupyter-widgets/base",
          "model_name": "LayoutModel",
          "model_module_version": "1.2.0",
          "state": {
            "_view_name": "LayoutView",
            "grid_template_rows": null,
            "right": null,
            "justify_content": null,
            "_view_module": "@jupyter-widgets/base",
            "overflow": null,
            "_model_module_version": "1.2.0",
            "_view_count": null,
            "flex_flow": null,
            "width": null,
            "min_width": null,
            "border": null,
            "align_items": null,
            "bottom": null,
            "_model_module": "@jupyter-widgets/base",
            "top": null,
            "grid_column": null,
            "overflow_y": null,
            "overflow_x": null,
            "grid_auto_flow": null,
            "grid_area": null,
            "grid_template_columns": null,
            "flex": null,
            "_model_name": "LayoutModel",
            "justify_items": null,
            "grid_row": null,
            "max_height": null,
            "align_content": null,
            "visibility": null,
            "align_self": null,
            "height": null,
            "min_height": null,
            "padding": null,
            "grid_auto_rows": null,
            "grid_gap": null,
            "max_width": null,
            "order": null,
            "_view_module_version": "1.2.0",
            "grid_template_areas": null,
            "object_position": null,
            "object_fit": null,
            "grid_auto_columns": null,
            "margin": null,
            "display": null,
            "left": null
          }
        },
        "6d362b2bf5bf4a43adaf9bc4d5d84963": {
          "model_module": "@jupyter-widgets/controls",
          "model_name": "HBoxModel",
          "model_module_version": "1.5.0",
          "state": {
            "_view_name": "HBoxView",
            "_dom_classes": [],
            "_model_name": "HBoxModel",
            "_view_module": "@jupyter-widgets/controls",
            "_model_module_version": "1.5.0",
            "_view_count": null,
            "_view_module_version": "1.5.0",
            "box_style": "",
            "layout": "IPY_MODEL_0a378e99e6cb4afda99771afe7d2e601",
            "_model_module": "@jupyter-widgets/controls",
            "children": [
              "IPY_MODEL_3637afba05f44c36a1ef76789d8746eb",
              "IPY_MODEL_4370223506a642179afb126e61159b3e"
            ]
          }
        },
        "0a378e99e6cb4afda99771afe7d2e601": {
          "model_module": "@jupyter-widgets/base",
          "model_name": "LayoutModel",
          "model_module_version": "1.2.0",
          "state": {
            "_view_name": "LayoutView",
            "grid_template_rows": null,
            "right": null,
            "justify_content": null,
            "_view_module": "@jupyter-widgets/base",
            "overflow": null,
            "_model_module_version": "1.2.0",
            "_view_count": null,
            "flex_flow": null,
            "width": null,
            "min_width": null,
            "border": null,
            "align_items": null,
            "bottom": null,
            "_model_module": "@jupyter-widgets/base",
            "top": null,
            "grid_column": null,
            "overflow_y": null,
            "overflow_x": null,
            "grid_auto_flow": null,
            "grid_area": null,
            "grid_template_columns": null,
            "flex": null,
            "_model_name": "LayoutModel",
            "justify_items": null,
            "grid_row": null,
            "max_height": null,
            "align_content": null,
            "visibility": null,
            "align_self": null,
            "height": null,
            "min_height": null,
            "padding": null,
            "grid_auto_rows": null,
            "grid_gap": null,
            "max_width": null,
            "order": null,
            "_view_module_version": "1.2.0",
            "grid_template_areas": null,
            "object_position": null,
            "object_fit": null,
            "grid_auto_columns": null,
            "margin": null,
            "display": null,
            "left": null
          }
        },
        "3637afba05f44c36a1ef76789d8746eb": {
          "model_module": "@jupyter-widgets/controls",
          "model_name": "FloatProgressModel",
          "model_module_version": "1.5.0",
          "state": {
            "_view_name": "ProgressView",
            "style": "IPY_MODEL_b3dcdfe9a1ea4e04b78241b8ec74b994",
            "_dom_classes": [],
            "description": "Downloading: 100%",
            "_model_name": "FloatProgressModel",
            "bar_style": "success",
            "max": 368792146,
            "_view_module": "@jupyter-widgets/controls",
            "_model_module_version": "1.5.0",
            "value": 368792146,
            "_view_count": null,
            "_view_module_version": "1.5.0",
            "orientation": "horizontal",
            "min": 0,
            "description_tooltip": null,
            "_model_module": "@jupyter-widgets/controls",
            "layout": "IPY_MODEL_b038d7a7c8c449d8ac0b93458615b6ff"
          }
        },
        "4370223506a642179afb126e61159b3e": {
          "model_module": "@jupyter-widgets/controls",
          "model_name": "HTMLModel",
          "model_module_version": "1.5.0",
          "state": {
            "_view_name": "HTMLView",
            "style": "IPY_MODEL_a21f3df400994a0593cab31dc7694785",
            "_dom_classes": [],
            "description": "",
            "_model_name": "HTMLModel",
            "placeholder": "​",
            "_view_module": "@jupyter-widgets/controls",
            "_model_module_version": "1.5.0",
            "value": " 369M/369M [00:13&lt;00:00, 27.5MB/s]",
            "_view_count": null,
            "_view_module_version": "1.5.0",
            "description_tooltip": null,
            "_model_module": "@jupyter-widgets/controls",
            "layout": "IPY_MODEL_ad2e01eb4be74875bf77859e251b5a19"
          }
        },
        "b3dcdfe9a1ea4e04b78241b8ec74b994": {
          "model_module": "@jupyter-widgets/controls",
          "model_name": "ProgressStyleModel",
          "model_module_version": "1.5.0",
          "state": {
            "_view_name": "StyleView",
            "_model_name": "ProgressStyleModel",
            "description_width": "initial",
            "_view_module": "@jupyter-widgets/base",
            "_model_module_version": "1.5.0",
            "_view_count": null,
            "_view_module_version": "1.2.0",
            "bar_color": null,
            "_model_module": "@jupyter-widgets/controls"
          }
        },
        "b038d7a7c8c449d8ac0b93458615b6ff": {
          "model_module": "@jupyter-widgets/base",
          "model_name": "LayoutModel",
          "model_module_version": "1.2.0",
          "state": {
            "_view_name": "LayoutView",
            "grid_template_rows": null,
            "right": null,
            "justify_content": null,
            "_view_module": "@jupyter-widgets/base",
            "overflow": null,
            "_model_module_version": "1.2.0",
            "_view_count": null,
            "flex_flow": null,
            "width": null,
            "min_width": null,
            "border": null,
            "align_items": null,
            "bottom": null,
            "_model_module": "@jupyter-widgets/base",
            "top": null,
            "grid_column": null,
            "overflow_y": null,
            "overflow_x": null,
            "grid_auto_flow": null,
            "grid_area": null,
            "grid_template_columns": null,
            "flex": null,
            "_model_name": "LayoutModel",
            "justify_items": null,
            "grid_row": null,
            "max_height": null,
            "align_content": null,
            "visibility": null,
            "align_self": null,
            "height": null,
            "min_height": null,
            "padding": null,
            "grid_auto_rows": null,
            "grid_gap": null,
            "max_width": null,
            "order": null,
            "_view_module_version": "1.2.0",
            "grid_template_areas": null,
            "object_position": null,
            "object_fit": null,
            "grid_auto_columns": null,
            "margin": null,
            "display": null,
            "left": null
          }
        },
        "a21f3df400994a0593cab31dc7694785": {
          "model_module": "@jupyter-widgets/controls",
          "model_name": "DescriptionStyleModel",
          "model_module_version": "1.5.0",
          "state": {
            "_view_name": "StyleView",
            "_model_name": "DescriptionStyleModel",
            "description_width": "",
            "_view_module": "@jupyter-widgets/base",
            "_model_module_version": "1.5.0",
            "_view_count": null,
            "_view_module_version": "1.2.0",
            "_model_module": "@jupyter-widgets/controls"
          }
        },
        "ad2e01eb4be74875bf77859e251b5a19": {
          "model_module": "@jupyter-widgets/base",
          "model_name": "LayoutModel",
          "model_module_version": "1.2.0",
          "state": {
            "_view_name": "LayoutView",
            "grid_template_rows": null,
            "right": null,
            "justify_content": null,
            "_view_module": "@jupyter-widgets/base",
            "overflow": null,
            "_model_module_version": "1.2.0",
            "_view_count": null,
            "flex_flow": null,
            "width": null,
            "min_width": null,
            "border": null,
            "align_items": null,
            "bottom": null,
            "_model_module": "@jupyter-widgets/base",
            "top": null,
            "grid_column": null,
            "overflow_y": null,
            "overflow_x": null,
            "grid_auto_flow": null,
            "grid_area": null,
            "grid_template_columns": null,
            "flex": null,
            "_model_name": "LayoutModel",
            "justify_items": null,
            "grid_row": null,
            "max_height": null,
            "align_content": null,
            "visibility": null,
            "align_self": null,
            "height": null,
            "min_height": null,
            "padding": null,
            "grid_auto_rows": null,
            "grid_gap": null,
            "max_width": null,
            "order": null,
            "_view_module_version": "1.2.0",
            "grid_template_areas": null,
            "object_position": null,
            "object_fit": null,
            "grid_auto_columns": null,
            "margin": null,
            "display": null,
            "left": null
          }
        },
        "f8c71b3b3ba8486f8df6e46978f851bc": {
          "model_module": "@jupyter-widgets/controls",
          "model_name": "HBoxModel",
          "model_module_version": "1.5.0",
          "state": {
            "_view_name": "HBoxView",
            "_dom_classes": [],
            "_model_name": "HBoxModel",
            "_view_module": "@jupyter-widgets/controls",
            "_model_module_version": "1.5.0",
            "_view_count": null,
            "_view_module_version": "1.5.0",
            "box_style": "",
            "layout": "IPY_MODEL_54d45590730749979d53097ae32c4831",
            "_model_module": "@jupyter-widgets/controls",
            "children": [
              "IPY_MODEL_92628186a6c849ad98a635509a8ff572",
              "IPY_MODEL_2ab5eb8267704108878da06bc296542b"
            ]
          }
        },
        "54d45590730749979d53097ae32c4831": {
          "model_module": "@jupyter-widgets/base",
          "model_name": "LayoutModel",
          "model_module_version": "1.2.0",
          "state": {
            "_view_name": "LayoutView",
            "grid_template_rows": null,
            "right": null,
            "justify_content": null,
            "_view_module": "@jupyter-widgets/base",
            "overflow": null,
            "_model_module_version": "1.2.0",
            "_view_count": null,
            "flex_flow": null,
            "width": null,
            "min_width": null,
            "border": null,
            "align_items": null,
            "bottom": null,
            "_model_module": "@jupyter-widgets/base",
            "top": null,
            "grid_column": null,
            "overflow_y": null,
            "overflow_x": null,
            "grid_auto_flow": null,
            "grid_area": null,
            "grid_template_columns": null,
            "flex": null,
            "_model_name": "LayoutModel",
            "justify_items": null,
            "grid_row": null,
            "max_height": null,
            "align_content": null,
            "visibility": null,
            "align_self": null,
            "height": null,
            "min_height": null,
            "padding": null,
            "grid_auto_rows": null,
            "grid_gap": null,
            "max_width": null,
            "order": null,
            "_view_module_version": "1.2.0",
            "grid_template_areas": null,
            "object_position": null,
            "object_fit": null,
            "grid_auto_columns": null,
            "margin": null,
            "display": null,
            "left": null
          }
        },
        "92628186a6c849ad98a635509a8ff572": {
          "model_module": "@jupyter-widgets/controls",
          "model_name": "FloatProgressModel",
          "model_module_version": "1.5.0",
          "state": {
            "_view_name": "ProgressView",
            "style": "IPY_MODEL_ec9d81a5e07f4ccba391a72ab85a2ab3",
            "_dom_classes": [],
            "description": "Downloading: 100%",
            "_model_name": "FloatProgressModel",
            "bar_style": "success",
            "max": 441,
            "_view_module": "@jupyter-widgets/controls",
            "_model_module_version": "1.5.0",
            "value": 441,
            "_view_count": null,
            "_view_module_version": "1.5.0",
            "orientation": "horizontal",
            "min": 0,
            "description_tooltip": null,
            "_model_module": "@jupyter-widgets/controls",
            "layout": "IPY_MODEL_84b08cbc3ca3438bb64d28a0000d6f6c"
          }
        },
        "2ab5eb8267704108878da06bc296542b": {
          "model_module": "@jupyter-widgets/controls",
          "model_name": "HTMLModel",
          "model_module_version": "1.5.0",
          "state": {
            "_view_name": "HTMLView",
            "style": "IPY_MODEL_ab2e36210d0f4b0faf1be744b494b5df",
            "_dom_classes": [],
            "description": "",
            "_model_name": "HTMLModel",
            "placeholder": "​",
            "_view_module": "@jupyter-widgets/controls",
            "_model_module_version": "1.5.0",
            "value": " 441/441 [00:00&lt;00:00, 539B/s]",
            "_view_count": null,
            "_view_module_version": "1.5.0",
            "description_tooltip": null,
            "_model_module": "@jupyter-widgets/controls",
            "layout": "IPY_MODEL_238bcb1e298c436d8c4cbf50e4736c7b"
          }
        },
        "ec9d81a5e07f4ccba391a72ab85a2ab3": {
          "model_module": "@jupyter-widgets/controls",
          "model_name": "ProgressStyleModel",
          "model_module_version": "1.5.0",
          "state": {
            "_view_name": "StyleView",
            "_model_name": "ProgressStyleModel",
            "description_width": "initial",
            "_view_module": "@jupyter-widgets/base",
            "_model_module_version": "1.5.0",
            "_view_count": null,
            "_view_module_version": "1.2.0",
            "bar_color": null,
            "_model_module": "@jupyter-widgets/controls"
          }
        },
        "84b08cbc3ca3438bb64d28a0000d6f6c": {
          "model_module": "@jupyter-widgets/base",
          "model_name": "LayoutModel",
          "model_module_version": "1.2.0",
          "state": {
            "_view_name": "LayoutView",
            "grid_template_rows": null,
            "right": null,
            "justify_content": null,
            "_view_module": "@jupyter-widgets/base",
            "overflow": null,
            "_model_module_version": "1.2.0",
            "_view_count": null,
            "flex_flow": null,
            "width": null,
            "min_width": null,
            "border": null,
            "align_items": null,
            "bottom": null,
            "_model_module": "@jupyter-widgets/base",
            "top": null,
            "grid_column": null,
            "overflow_y": null,
            "overflow_x": null,
            "grid_auto_flow": null,
            "grid_area": null,
            "grid_template_columns": null,
            "flex": null,
            "_model_name": "LayoutModel",
            "justify_items": null,
            "grid_row": null,
            "max_height": null,
            "align_content": null,
            "visibility": null,
            "align_self": null,
            "height": null,
            "min_height": null,
            "padding": null,
            "grid_auto_rows": null,
            "grid_gap": null,
            "max_width": null,
            "order": null,
            "_view_module_version": "1.2.0",
            "grid_template_areas": null,
            "object_position": null,
            "object_fit": null,
            "grid_auto_columns": null,
            "margin": null,
            "display": null,
            "left": null
          }
        },
        "ab2e36210d0f4b0faf1be744b494b5df": {
          "model_module": "@jupyter-widgets/controls",
          "model_name": "DescriptionStyleModel",
          "model_module_version": "1.5.0",
          "state": {
            "_view_name": "StyleView",
            "_model_name": "DescriptionStyleModel",
            "description_width": "",
            "_view_module": "@jupyter-widgets/base",
            "_model_module_version": "1.5.0",
            "_view_count": null,
            "_view_module_version": "1.2.0",
            "_model_module": "@jupyter-widgets/controls"
          }
        },
        "238bcb1e298c436d8c4cbf50e4736c7b": {
          "model_module": "@jupyter-widgets/base",
          "model_name": "LayoutModel",
          "model_module_version": "1.2.0",
          "state": {
            "_view_name": "LayoutView",
            "grid_template_rows": null,
            "right": null,
            "justify_content": null,
            "_view_module": "@jupyter-widgets/base",
            "overflow": null,
            "_model_module_version": "1.2.0",
            "_view_count": null,
            "flex_flow": null,
            "width": null,
            "min_width": null,
            "border": null,
            "align_items": null,
            "bottom": null,
            "_model_module": "@jupyter-widgets/base",
            "top": null,
            "grid_column": null,
            "overflow_y": null,
            "overflow_x": null,
            "grid_auto_flow": null,
            "grid_area": null,
            "grid_template_columns": null,
            "flex": null,
            "_model_name": "LayoutModel",
            "justify_items": null,
            "grid_row": null,
            "max_height": null,
            "align_content": null,
            "visibility": null,
            "align_self": null,
            "height": null,
            "min_height": null,
            "padding": null,
            "grid_auto_rows": null,
            "grid_gap": null,
            "max_width": null,
            "order": null,
            "_view_module_version": "1.2.0",
            "grid_template_areas": null,
            "object_position": null,
            "object_fit": null,
            "grid_auto_columns": null,
            "margin": null,
            "display": null,
            "left": null
          }
        },
        "93166d09eb7c43068960222b73fc2a67": {
          "model_module": "@jupyter-widgets/controls",
          "model_name": "HBoxModel",
          "model_module_version": "1.5.0",
          "state": {
            "_view_name": "HBoxView",
            "_dom_classes": [],
            "_model_name": "HBoxModel",
            "_view_module": "@jupyter-widgets/controls",
            "_model_module_version": "1.5.0",
            "_view_count": null,
            "_view_module_version": "1.5.0",
            "box_style": "",
            "layout": "IPY_MODEL_720fd56661a5470d80da243ef29bb7c5",
            "_model_module": "@jupyter-widgets/controls",
            "children": [
              "IPY_MODEL_87d720e2d13f4f92973d6d755d65df7b",
              "IPY_MODEL_e2334c691de2486d9ab4800ba2fd1a94"
            ]
          }
        },
        "720fd56661a5470d80da243ef29bb7c5": {
          "model_module": "@jupyter-widgets/base",
          "model_name": "LayoutModel",
          "model_module_version": "1.2.0",
          "state": {
            "_view_name": "LayoutView",
            "grid_template_rows": null,
            "right": null,
            "justify_content": null,
            "_view_module": "@jupyter-widgets/base",
            "overflow": null,
            "_model_module_version": "1.2.0",
            "_view_count": null,
            "flex_flow": null,
            "width": null,
            "min_width": null,
            "border": null,
            "align_items": null,
            "bottom": null,
            "_model_module": "@jupyter-widgets/base",
            "top": null,
            "grid_column": null,
            "overflow_y": null,
            "overflow_x": null,
            "grid_auto_flow": null,
            "grid_area": null,
            "grid_template_columns": null,
            "flex": null,
            "_model_name": "LayoutModel",
            "justify_items": null,
            "grid_row": null,
            "max_height": null,
            "align_content": null,
            "visibility": null,
            "align_self": null,
            "height": null,
            "min_height": null,
            "padding": null,
            "grid_auto_rows": null,
            "grid_gap": null,
            "max_width": null,
            "order": null,
            "_view_module_version": "1.2.0",
            "grid_template_areas": null,
            "object_position": null,
            "object_fit": null,
            "grid_auto_columns": null,
            "margin": null,
            "display": null,
            "left": null
          }
        },
        "87d720e2d13f4f92973d6d755d65df7b": {
          "model_module": "@jupyter-widgets/controls",
          "model_name": "FloatProgressModel",
          "model_module_version": "1.5.0",
          "state": {
            "_view_name": "ProgressView",
            "style": "IPY_MODEL_4d4969b45d7e415fb795fba395f3263c",
            "_dom_classes": [],
            "description": "Downloading: 100%",
            "_model_name": "FloatProgressModel",
            "bar_style": "success",
            "max": 113629967,
            "_view_module": "@jupyter-widgets/controls",
            "_model_module_version": "1.5.0",
            "value": 113629967,
            "_view_count": null,
            "_view_module_version": "1.5.0",
            "orientation": "horizontal",
            "min": 0,
            "description_tooltip": null,
            "_model_module": "@jupyter-widgets/controls",
            "layout": "IPY_MODEL_de4cd330421147788a8bbaf40b35e28e"
          }
        },
        "e2334c691de2486d9ab4800ba2fd1a94": {
          "model_module": "@jupyter-widgets/controls",
          "model_name": "HTMLModel",
          "model_module_version": "1.5.0",
          "state": {
            "_view_name": "HTMLView",
            "style": "IPY_MODEL_0a6aaa482d314d48b713b5730a21b62d",
            "_dom_classes": [],
            "description": "",
            "_model_name": "HTMLModel",
            "placeholder": "​",
            "_view_module": "@jupyter-widgets/controls",
            "_model_module_version": "1.5.0",
            "value": " 114M/114M [01:24&lt;00:00, 1.35MB/s]",
            "_view_count": null,
            "_view_module_version": "1.5.0",
            "description_tooltip": null,
            "_model_module": "@jupyter-widgets/controls",
            "layout": "IPY_MODEL_255ec94243b34f00abdfb9da086fc89b"
          }
        },
        "4d4969b45d7e415fb795fba395f3263c": {
          "model_module": "@jupyter-widgets/controls",
          "model_name": "ProgressStyleModel",
          "model_module_version": "1.5.0",
          "state": {
            "_view_name": "StyleView",
            "_model_name": "ProgressStyleModel",
            "description_width": "initial",
            "_view_module": "@jupyter-widgets/base",
            "_model_module_version": "1.5.0",
            "_view_count": null,
            "_view_module_version": "1.2.0",
            "bar_color": null,
            "_model_module": "@jupyter-widgets/controls"
          }
        },
        "de4cd330421147788a8bbaf40b35e28e": {
          "model_module": "@jupyter-widgets/base",
          "model_name": "LayoutModel",
          "model_module_version": "1.2.0",
          "state": {
            "_view_name": "LayoutView",
            "grid_template_rows": null,
            "right": null,
            "justify_content": null,
            "_view_module": "@jupyter-widgets/base",
            "overflow": null,
            "_model_module_version": "1.2.0",
            "_view_count": null,
            "flex_flow": null,
            "width": null,
            "min_width": null,
            "border": null,
            "align_items": null,
            "bottom": null,
            "_model_module": "@jupyter-widgets/base",
            "top": null,
            "grid_column": null,
            "overflow_y": null,
            "overflow_x": null,
            "grid_auto_flow": null,
            "grid_area": null,
            "grid_template_columns": null,
            "flex": null,
            "_model_name": "LayoutModel",
            "justify_items": null,
            "grid_row": null,
            "max_height": null,
            "align_content": null,
            "visibility": null,
            "align_self": null,
            "height": null,
            "min_height": null,
            "padding": null,
            "grid_auto_rows": null,
            "grid_gap": null,
            "max_width": null,
            "order": null,
            "_view_module_version": "1.2.0",
            "grid_template_areas": null,
            "object_position": null,
            "object_fit": null,
            "grid_auto_columns": null,
            "margin": null,
            "display": null,
            "left": null
          }
        },
        "0a6aaa482d314d48b713b5730a21b62d": {
          "model_module": "@jupyter-widgets/controls",
          "model_name": "DescriptionStyleModel",
          "model_module_version": "1.5.0",
          "state": {
            "_view_name": "StyleView",
            "_model_name": "DescriptionStyleModel",
            "description_width": "",
            "_view_module": "@jupyter-widgets/base",
            "_model_module_version": "1.5.0",
            "_view_count": null,
            "_view_module_version": "1.2.0",
            "_model_module": "@jupyter-widgets/controls"
          }
        },
        "255ec94243b34f00abdfb9da086fc89b": {
          "model_module": "@jupyter-widgets/base",
          "model_name": "LayoutModel",
          "model_module_version": "1.2.0",
          "state": {
            "_view_name": "LayoutView",
            "grid_template_rows": null,
            "right": null,
            "justify_content": null,
            "_view_module": "@jupyter-widgets/base",
            "overflow": null,
            "_model_module_version": "1.2.0",
            "_view_count": null,
            "flex_flow": null,
            "width": null,
            "min_width": null,
            "border": null,
            "align_items": null,
            "bottom": null,
            "_model_module": "@jupyter-widgets/base",
            "top": null,
            "grid_column": null,
            "overflow_y": null,
            "overflow_x": null,
            "grid_auto_flow": null,
            "grid_area": null,
            "grid_template_columns": null,
            "flex": null,
            "_model_name": "LayoutModel",
            "justify_items": null,
            "grid_row": null,
            "max_height": null,
            "align_content": null,
            "visibility": null,
            "align_self": null,
            "height": null,
            "min_height": null,
            "padding": null,
            "grid_auto_rows": null,
            "grid_gap": null,
            "max_width": null,
            "order": null,
            "_view_module_version": "1.2.0",
            "grid_template_areas": null,
            "object_position": null,
            "object_fit": null,
            "grid_auto_columns": null,
            "margin": null,
            "display": null,
            "left": null
          }
        },
        "6e3791db20d34a888561e78ddd36b100": {
          "model_module": "@jupyter-widgets/controls",
          "model_name": "HBoxModel",
          "model_module_version": "1.5.0",
          "state": {
            "_view_name": "HBoxView",
            "_dom_classes": [],
            "_model_name": "HBoxModel",
            "_view_module": "@jupyter-widgets/controls",
            "_model_module_version": "1.5.0",
            "_view_count": null,
            "_view_module_version": "1.5.0",
            "box_style": "",
            "layout": "IPY_MODEL_91e7bbcc021845198b6e6c521fe8eaff",
            "_model_module": "@jupyter-widgets/controls",
            "children": [
              "IPY_MODEL_f9be62e6032047da933857ead48fd090",
              "IPY_MODEL_bd10f165ee5f49e88146caebcf988d33"
            ]
          }
        },
        "91e7bbcc021845198b6e6c521fe8eaff": {
          "model_module": "@jupyter-widgets/base",
          "model_name": "LayoutModel",
          "model_module_version": "1.2.0",
          "state": {
            "_view_name": "LayoutView",
            "grid_template_rows": null,
            "right": null,
            "justify_content": null,
            "_view_module": "@jupyter-widgets/base",
            "overflow": null,
            "_model_module_version": "1.2.0",
            "_view_count": null,
            "flex_flow": null,
            "width": null,
            "min_width": null,
            "border": null,
            "align_items": null,
            "bottom": null,
            "_model_module": "@jupyter-widgets/base",
            "top": null,
            "grid_column": null,
            "overflow_y": null,
            "overflow_x": null,
            "grid_auto_flow": null,
            "grid_area": null,
            "grid_template_columns": null,
            "flex": null,
            "_model_name": "LayoutModel",
            "justify_items": null,
            "grid_row": null,
            "max_height": null,
            "align_content": null,
            "visibility": null,
            "align_self": null,
            "height": null,
            "min_height": null,
            "padding": null,
            "grid_auto_rows": null,
            "grid_gap": null,
            "max_width": null,
            "order": null,
            "_view_module_version": "1.2.0",
            "grid_template_areas": null,
            "object_position": null,
            "object_fit": null,
            "grid_auto_columns": null,
            "margin": null,
            "display": null,
            "left": null
          }
        },
        "f9be62e6032047da933857ead48fd090": {
          "model_module": "@jupyter-widgets/controls",
          "model_name": "FloatProgressModel",
          "model_module_version": "1.5.0",
          "state": {
            "_view_name": "ProgressView",
            "style": "IPY_MODEL_d2d4f9f8e7944d1eac77677054a6a69a",
            "_dom_classes": [],
            "description": " 24%",
            "_model_name": "FloatProgressModel",
            "bar_style": "",
            "max": 2971,
            "_view_module": "@jupyter-widgets/controls",
            "_model_module_version": "1.5.0",
            "value": 726,
            "_view_count": null,
            "_view_module_version": "1.5.0",
            "orientation": "horizontal",
            "min": 0,
            "description_tooltip": null,
            "_model_module": "@jupyter-widgets/controls",
            "layout": "IPY_MODEL_aed0db140a0a457da35b53c631936bdf"
          }
        },
        "bd10f165ee5f49e88146caebcf988d33": {
          "model_module": "@jupyter-widgets/controls",
          "model_name": "HTMLModel",
          "model_module_version": "1.5.0",
          "state": {
            "_view_name": "HTMLView",
            "style": "IPY_MODEL_fbc7b1a165f545b498335cd1100f45d5",
            "_dom_classes": [],
            "description": "",
            "_model_name": "HTMLModel",
            "placeholder": "​",
            "_view_module": "@jupyter-widgets/controls",
            "_model_module_version": "1.5.0",
            "value": " 726/2971 [03:51&lt;11:53,  3.15it/s]",
            "_view_count": null,
            "_view_module_version": "1.5.0",
            "description_tooltip": null,
            "_model_module": "@jupyter-widgets/controls",
            "layout": "IPY_MODEL_c3fd09aa33f148d5bc4d7c746708f75b"
          }
        },
        "d2d4f9f8e7944d1eac77677054a6a69a": {
          "model_module": "@jupyter-widgets/controls",
          "model_name": "ProgressStyleModel",
          "model_module_version": "1.5.0",
          "state": {
            "_view_name": "StyleView",
            "_model_name": "ProgressStyleModel",
            "description_width": "initial",
            "_view_module": "@jupyter-widgets/base",
            "_model_module_version": "1.5.0",
            "_view_count": null,
            "_view_module_version": "1.2.0",
            "bar_color": null,
            "_model_module": "@jupyter-widgets/controls"
          }
        },
        "aed0db140a0a457da35b53c631936bdf": {
          "model_module": "@jupyter-widgets/base",
          "model_name": "LayoutModel",
          "model_module_version": "1.2.0",
          "state": {
            "_view_name": "LayoutView",
            "grid_template_rows": null,
            "right": null,
            "justify_content": null,
            "_view_module": "@jupyter-widgets/base",
            "overflow": null,
            "_model_module_version": "1.2.0",
            "_view_count": null,
            "flex_flow": null,
            "width": null,
            "min_width": null,
            "border": null,
            "align_items": null,
            "bottom": null,
            "_model_module": "@jupyter-widgets/base",
            "top": null,
            "grid_column": null,
            "overflow_y": null,
            "overflow_x": null,
            "grid_auto_flow": null,
            "grid_area": null,
            "grid_template_columns": null,
            "flex": null,
            "_model_name": "LayoutModel",
            "justify_items": null,
            "grid_row": null,
            "max_height": null,
            "align_content": null,
            "visibility": null,
            "align_self": null,
            "height": null,
            "min_height": null,
            "padding": null,
            "grid_auto_rows": null,
            "grid_gap": null,
            "max_width": null,
            "order": null,
            "_view_module_version": "1.2.0",
            "grid_template_areas": null,
            "object_position": null,
            "object_fit": null,
            "grid_auto_columns": null,
            "margin": null,
            "display": null,
            "left": null
          }
        },
        "fbc7b1a165f545b498335cd1100f45d5": {
          "model_module": "@jupyter-widgets/controls",
          "model_name": "DescriptionStyleModel",
          "model_module_version": "1.5.0",
          "state": {
            "_view_name": "StyleView",
            "_model_name": "DescriptionStyleModel",
            "description_width": "",
            "_view_module": "@jupyter-widgets/base",
            "_model_module_version": "1.5.0",
            "_view_count": null,
            "_view_module_version": "1.2.0",
            "_model_module": "@jupyter-widgets/controls"
          }
        },
        "c3fd09aa33f148d5bc4d7c746708f75b": {
          "model_module": "@jupyter-widgets/base",
          "model_name": "LayoutModel",
          "model_module_version": "1.2.0",
          "state": {
            "_view_name": "LayoutView",
            "grid_template_rows": null,
            "right": null,
            "justify_content": null,
            "_view_module": "@jupyter-widgets/base",
            "overflow": null,
            "_model_module_version": "1.2.0",
            "_view_count": null,
            "flex_flow": null,
            "width": null,
            "min_width": null,
            "border": null,
            "align_items": null,
            "bottom": null,
            "_model_module": "@jupyter-widgets/base",
            "top": null,
            "grid_column": null,
            "overflow_y": null,
            "overflow_x": null,
            "grid_auto_flow": null,
            "grid_area": null,
            "grid_template_columns": null,
            "flex": null,
            "_model_name": "LayoutModel",
            "justify_items": null,
            "grid_row": null,
            "max_height": null,
            "align_content": null,
            "visibility": null,
            "align_self": null,
            "height": null,
            "min_height": null,
            "padding": null,
            "grid_auto_rows": null,
            "grid_gap": null,
            "max_width": null,
            "order": null,
            "_view_module_version": "1.2.0",
            "grid_template_areas": null,
            "object_position": null,
            "object_fit": null,
            "grid_auto_columns": null,
            "margin": null,
            "display": null,
            "left": null
          }
        }
      }
    },
    "accelerator": "GPU"
  },
  "cells": [
    {
      "cell_type": "markdown",
      "source": [
        "- DistilBERT를 이용한 감성분석 모델\r\n",
        "- KoBERT 모델과 모든 테스크 동일\r\n",
        "-  "
      ],
      "metadata": {}
    },
    {
      "cell_type": "code",
      "execution_count": null,
      "source": [
        "from google.colab import drive\r\n",
        "drive.mount('/content/drive')"
      ],
      "outputs": [],
      "metadata": {
        "colab": {
          "base_uri": "https://localhost:8080/"
        },
        "id": "K0VaYIMVqpUw",
        "outputId": "161da0f7-8327-403b-ee25-6804f7dd9c0e"
      }
    },
    {
      "cell_type": "code",
      "execution_count": null,
      "source": [
        "import os\r\n",
        "import sys\r\n",
        "\r\n",
        "print(os.getcwd())"
      ],
      "outputs": [],
      "metadata": {
        "colab": {
          "base_uri": "https://localhost:8080/"
        },
        "id": "JnFQPqgpjZvv",
        "outputId": "7939f668-2a10-4f9f-95db-5661d730b0b2"
      }
    },
    {
      "cell_type": "code",
      "execution_count": null,
      "source": [
        "!pip install mxnet\r\n",
        "!pip install gluonnlp pandas tqdm\r\n",
        "!pip install sentencepiece\r\n",
        "!pip install transformers\r\n",
        "!pip install torch"
      ],
      "outputs": [],
      "metadata": {
        "colab": {
          "base_uri": "https://localhost:8080/"
        },
        "id": "vXKOgg1AqlyI",
        "outputId": "b19041a6-8f73-4b10-8109-b4b33fcc940f"
      }
    },
    {
      "cell_type": "code",
      "execution_count": null,
      "source": [
        "#깃허브에서 KoBERT 파일 로드\r\n",
        "!pip install git+https://git@github.com/SKTBrain/KoBERT.git@master"
      ],
      "outputs": [],
      "metadata": {
        "colab": {
          "base_uri": "https://localhost:8080/"
        },
        "id": "3gGV7hEGqmiD",
        "outputId": "bdb20b47-74e9-4169-e2b2-fa06c1133bf5"
      }
    },
    {
      "cell_type": "markdown",
      "source": [
        "# Data Preparation and Training"
      ],
      "metadata": {
        "id": "7baRZcqMOauL"
      }
    },
    {
      "cell_type": "code",
      "execution_count": null,
      "source": [
        "import torch\r\n",
        "from torch import nn\r\n",
        "import torch.nn.functional as F\r\n",
        "import torch.optim as optim\r\n",
        "from torch.utils.data import Dataset, DataLoader\r\n",
        "import gluonnlp as nlp\r\n",
        "import numpy as np\r\n",
        "from tqdm import tqdm, tqdm_notebook"
      ],
      "outputs": [],
      "metadata": {
        "id": "Wzk-zgG-qpJr"
      }
    },
    {
      "cell_type": "code",
      "execution_count": null,
      "source": [
        "#kobert\r\n",
        "from kobert.utils import get_tokenizer\r\n",
        "from kobert.pytorch_kobert import get_pytorch_kobert_model\r\n",
        "\r\n",
        "#transformers\r\n",
        "from transformers import AdamW\r\n",
        "from transformers.optimization import get_cosine_schedule_with_warmup"
      ],
      "outputs": [],
      "metadata": {
        "id": "zwV6CxnUqpMq"
      }
    },
    {
      "cell_type": "code",
      "execution_count": null,
      "source": [
        "#GPU 사용\r\n",
        "device = torch.device(\"cuda\")"
      ],
      "outputs": [],
      "metadata": {
        "id": "wn8FF1uj8CYu"
      }
    },
    {
      "cell_type": "code",
      "execution_count": null,
      "source": [
        "from transformers import BertModel, DistilBertModel\r\n",
        "bert_model = BertModel.from_pretrained('monologg/kobert')\r\n",
        "distilbert_model = DistilBertModel.from_pretrained('monologg/distilkobert')"
      ],
      "outputs": [],
      "metadata": {
        "colab": {
          "base_uri": "https://localhost:8080/",
          "height": 220,
          "referenced_widgets": [
            "fb2664aa72f34dda9eec095eb5a94474",
            "eb7f6d3bbfa84232baa3640e1619c6c9",
            "037be5b0bd1847d49c1c59c9528ac632",
            "52958e5ce66b464fabe7a795746a89a3",
            "0da8679158184ce0a43278703519ce9f",
            "efc91aaaecdc46ddb1d86208e1e3a999",
            "cc78179f2aa64c638dbfb33e2b94c509",
            "e3b0c08119cb464aa0995c630874ebfe",
            "6d362b2bf5bf4a43adaf9bc4d5d84963",
            "0a378e99e6cb4afda99771afe7d2e601",
            "3637afba05f44c36a1ef76789d8746eb",
            "4370223506a642179afb126e61159b3e",
            "b3dcdfe9a1ea4e04b78241b8ec74b994",
            "b038d7a7c8c449d8ac0b93458615b6ff",
            "a21f3df400994a0593cab31dc7694785",
            "ad2e01eb4be74875bf77859e251b5a19",
            "f8c71b3b3ba8486f8df6e46978f851bc",
            "54d45590730749979d53097ae32c4831",
            "92628186a6c849ad98a635509a8ff572",
            "2ab5eb8267704108878da06bc296542b",
            "ec9d81a5e07f4ccba391a72ab85a2ab3",
            "84b08cbc3ca3438bb64d28a0000d6f6c",
            "ab2e36210d0f4b0faf1be744b494b5df",
            "238bcb1e298c436d8c4cbf50e4736c7b",
            "93166d09eb7c43068960222b73fc2a67",
            "720fd56661a5470d80da243ef29bb7c5",
            "87d720e2d13f4f92973d6d755d65df7b",
            "e2334c691de2486d9ab4800ba2fd1a94",
            "4d4969b45d7e415fb795fba395f3263c",
            "de4cd330421147788a8bbaf40b35e28e",
            "0a6aaa482d314d48b713b5730a21b62d",
            "255ec94243b34f00abdfb9da086fc89b"
          ]
        },
        "id": "3rz_N5gX1pXk",
        "outputId": "1db050aa-fc6e-4228-a9ff-fc4ab12dff94"
      }
    },
    {
      "cell_type": "code",
      "execution_count": null,
      "source": [
        "#BERT 모델, Vocabulary 불러오기\r\n",
        "bertmodel, vocab = get_pytorch_kobert_model()"
      ],
      "outputs": [],
      "metadata": {
        "colab": {
          "base_uri": "https://localhost:8080/"
        },
        "id": "QUG5IQSeqpR-",
        "outputId": "aef64e64-f92f-4588-8a54-b6e9c1b53c30"
      }
    },
    {
      "cell_type": "code",
      "execution_count": null,
      "source": [
        "import pandas as pd\r\n",
        "chatbot_data = pd.read_csv('/content/drive/MyDrive/Chatbot/data/chatbot_sentiment_dataset.csv')"
      ],
      "outputs": [],
      "metadata": {
        "id": "LfneYuQlqpX5"
      }
    },
    {
      "cell_type": "code",
      "execution_count": null,
      "source": [
        "chatbot_data.loc[(chatbot_data['Emotion'] == \"불안\"), 'Emotion'] = 0  #불안 => 0\r\n",
        "chatbot_data.loc[(chatbot_data['Emotion'] == \"당황\"), 'Emotion'] = 1  #당황 => 1\r\n",
        "chatbot_data.loc[(chatbot_data['Emotion'] == \"분노\"), 'Emotion'] = 2  #분노 => 2\r\n",
        "chatbot_data.loc[(chatbot_data['Emotion'] == \"슬픔\"), 'Emotion'] = 3  #슬픔 => 3\r\n",
        "chatbot_data.loc[(chatbot_data['Emotion'] == \"중립\"), 'Emotion'] = 4  #중립 => 4\r\n",
        "chatbot_data.loc[(chatbot_data['Emotion'] == \"행복\"), 'Emotion'] = 5  #행복 => 5\r\n",
        "chatbot_data.loc[(chatbot_data['Emotion'] == \"혐오\"), 'Emotion'] = 6  #혐오 => 6\r\n",
        "\r\n",
        "data_list = []\r\n",
        "for q, label in zip(chatbot_data['Sentence'], chatbot_data['Emotion'])  :\r\n",
        "    data = []\r\n",
        "    data.append(q)\r\n",
        "    data.append(str(label))\r\n",
        "\r\n",
        "    data_list.append(data)"
      ],
      "outputs": [],
      "metadata": {
        "id": "_FulN6QAq_Hh"
      }
    },
    {
      "cell_type": "code",
      "execution_count": null,
      "source": [
        "#train & test 데이터로 나누기\r\n",
        "from sklearn.model_selection import train_test_split\r\n",
        "                                                         \r\n",
        "dataset_train, dataset_test = train_test_split(data_list, test_size=0.13, random_state=0)"
      ],
      "outputs": [],
      "metadata": {
        "id": "PMSBFI3kq_M1"
      }
    },
    {
      "cell_type": "code",
      "execution_count": null,
      "source": [
        "print(len(dataset_train))\r\n",
        "print(len(dataset_test))"
      ],
      "outputs": [],
      "metadata": {
        "id": "6HVFuqhEq_Pn",
        "colab": {
          "base_uri": "https://localhost:8080/"
        },
        "outputId": "962596f1-b5ba-4f46-8a96-3479645868ca"
      }
    },
    {
      "cell_type": "code",
      "execution_count": null,
      "source": [
        "class BERTDataset(Dataset):\r\n",
        "    def __init__(self, dataset, sent_idx, label_idx, bert_tokenizer, max_len,\r\n",
        "                 pad, pair):\r\n",
        "        transform = nlp.data.BERTSentenceTransform(\r\n",
        "            bert_tokenizer, max_seq_length=max_len, pad=pad, pair=pair)\r\n",
        "\r\n",
        "        self.sentences = [transform([i[sent_idx]]) for i in dataset]\r\n",
        "        self.labels = [np.int32(i[label_idx]) for i in dataset]\r\n",
        "\r\n",
        "    def __getitem__(self, i):\r\n",
        "        return (self.sentences[i] + (self.labels[i], ))\r\n",
        "        \r\n",
        "\r\n",
        "    def __len__(self):  \r\n",
        "        return (len(self.labels))"
      ],
      "outputs": [],
      "metadata": {
        "id": "zgDz6B6Bq_R_"
      }
    },
    {
      "cell_type": "code",
      "execution_count": null,
      "source": [
        "#Setting parameters\r\n",
        "max_len = 64\r\n",
        "batch_size = 64\r\n",
        "warmup_ratio = 0.1\r\n",
        "num_epochs = 15\r\n",
        "max_grad_norm = 1\r\n",
        "log_interval = 200\r\n",
        "learning_rate =  4e-5"
      ],
      "outputs": [],
      "metadata": {
        "id": "lZOKvj74q_VC"
      }
    },
    {
      "cell_type": "code",
      "execution_count": null,
      "source": [
        "# 토큰화\r\n",
        "tokenizer = get_tokenizer()\r\n",
        "\r\n",
        "# tokenizer = KoBertTokenizer.from_pretrained('monologg/kobert')\r\n",
        "tok = nlp.data.BERTSPTokenizer(tokenizer, vocab, lower=False)\r\n",
        "data_train = BERTDataset(dataset_train, 0, 1, tok, max_len, True, False)\r\n",
        "data_test = BERTDataset(dataset_test, 0, 1, tok, max_len, True, False)"
      ],
      "outputs": [],
      "metadata": {
        "id": "nrwdIs0trLg0",
        "colab": {
          "base_uri": "https://localhost:8080/"
        },
        "outputId": "9c441877-70b3-4c50-b35d-222c2b168dce"
      }
    },
    {
      "cell_type": "code",
      "execution_count": null,
      "source": [
        "train_dataloader = torch.utils.data.DataLoader(data_train, batch_size=batch_size, num_workers=4)\r\n",
        "test_dataloader = torch.utils.data.DataLoader(data_test, batch_size=batch_size, num_workers=4)"
      ],
      "outputs": [],
      "metadata": {
        "id": "yyWNS2X8rLjk",
        "colab": {
          "base_uri": "https://localhost:8080/"
        },
        "outputId": "b5c73935-da72-4e19-8c0e-9b2808bee3d4"
      }
    },
    {
      "cell_type": "code",
      "execution_count": null,
      "source": [
        "#kobert 학습모델 만들기\r\n",
        "class BERTClassifier(nn.Module):\r\n",
        "    def __init__(self,\r\n",
        "                 bert,\r\n",
        "                 hidden_size = 768,\r\n",
        "                 num_classes=7,   ##클래스 수 조정##\r\n",
        "                 dr_rate=None,\r\n",
        "                 params=None):\r\n",
        "        super(BERTClassifier, self).__init__()\r\n",
        "        self.bert = bert\r\n",
        "        self.dr_rate = dr_rate\r\n",
        "                 \r\n",
        "        self.classifier = nn.Linear(hidden_size , num_classes)\r\n",
        "        if dr_rate:\r\n",
        "            self.dropout = nn.Dropout(p=dr_rate)\r\n",
        "    \r\n",
        "    def gen_attention_mask(self, token_ids, valid_length):\r\n",
        "        attention_mask = torch.zeros_like(token_ids)\r\n",
        "        for i, v in enumerate(valid_length):\r\n",
        "            attention_mask[i][:v] = 1\r\n",
        "        return attention_mask.float()\r\n",
        "\r\n",
        "    def forward(self, token_ids, valid_length):\r\n",
        "        attention_mask = self.gen_attention_mask(token_ids, valid_length)\r\n",
        "        \r\n",
        "        pooler = self.bert(input_ids = token_ids, attention_mask = attention_mask.float().to(token_ids.device))[0][:,0]\r\n",
        "        # distilbert는 pooler를 return하지 않음. 따라서 last_hidden_state로 부터 직접 pooler를 추출함\r\n",
        "\r\n",
        "        if self.dr_rate:\r\n",
        "            out = self.dropout(pooler)\r\n",
        "        return self.classifier(out)"
      ],
      "outputs": [],
      "metadata": {
        "id": "yz4QnDHhrLmO"
      }
    },
    {
      "cell_type": "code",
      "execution_count": null,
      "source": [
        "#BERT 모델 불러오기\r\n",
        "model = BERTClassifier(distilbert_model,  dr_rate=0.5).to(device)\r\n",
        "\r\n",
        "#optimizer와 schedule 설정\r\n",
        "no_decay = ['bias', 'LayerNorm.weight']\r\n",
        "optimizer_grouped_parameters = [\r\n",
        "    {'params': [p for n, p in model.named_parameters() if not any(nd in n for nd in no_decay)], 'weight_decay': 0.01},\r\n",
        "    {'params': [p for n, p in model.named_parameters() if any(nd in n for nd in no_decay)], 'weight_decay': 0.0}\r\n",
        "]\r\n",
        "\r\n",
        "optimizer = AdamW(optimizer_grouped_parameters, lr=learning_rate)\r\n",
        "loss_fn = nn.CrossEntropyLoss()\r\n",
        "\r\n",
        "t_total = len(train_dataloader) * num_epochs\r\n",
        "warmup_step = int(t_total * warmup_ratio)\r\n",
        "\r\n",
        "scheduler = get_cosine_schedule_with_warmup(optimizer, num_warmup_steps=warmup_step, num_training_steps=t_total)\r\n",
        "\r\n",
        "#정확도 측정을 위한 함수 정의\r\n",
        "def calc_accuracy(X,Y):\r\n",
        "    max_vals, max_indices = torch.max(X, 1)\r\n",
        "    train_acc = (max_indices == Y).sum().data.cpu().numpy()/max_indices.size()[0]\r\n",
        "    return train_acc\r\n",
        "    \r\n",
        "# train_dataloader"
      ],
      "outputs": [],
      "metadata": {
        "id": "5hZK6gxcrLrz"
      }
    },
    {
      "cell_type": "code",
      "execution_count": null,
      "source": [
        "best_acc=0.0\r\n",
        "best_loss=99999999\r\n",
        "ckpt_path=\"/content/drive/MyDrive/Chatbot/ckpt/\" #your path\r\n",
        "ckpt_name=ckpt_path+\"saved_model_distilbert.pt\""
      ],
      "outputs": [],
      "metadata": {
        "id": "6UxqAednLG_G"
      }
    },
    {
      "cell_type": "code",
      "execution_count": null,
      "source": [
        "#kobert 모델 학습시키기\r\n",
        "for e in range(num_epochs):\r\n",
        "    train_acc = 0.0\r\n",
        "    test_acc = 0.0\r\n",
        "    model.train()\r\n",
        "    for batch_id, (token_ids, valid_length,segment_ids,label) in enumerate(tqdm_notebook(train_dataloader)):\r\n",
        "        optimizer.zero_grad()\r\n",
        "        token_ids = token_ids.long().to(device)\r\n",
        "        # segment_ids = segment_ids.long().to(device) ## DistillBERT는 token_type_ids(segment_ids)를 사용하지 않음.\r\n",
        "        valid_length= valid_length\r\n",
        "        label = label.long().to(device)\r\n",
        "        out = model(token_ids, valid_length)\r\n",
        "        loss = loss_fn(out, label)\r\n",
        "        loss.backward()\r\n",
        "        torch.nn.utils.clip_grad_norm_(model.parameters(), max_grad_norm)\r\n",
        "        optimizer.step()\r\n",
        "        scheduler.step()  # Update learning rate schedule\r\n",
        "        train_acc += calc_accuracy(out, label)\r\n",
        "        if batch_id % log_interval == 0:\r\n",
        "            print(\"epoch {} batch id {} loss {} train acc {}\".format(e+1, batch_id+1, loss.data.cpu().numpy(), train_acc / (batch_id+1)))\r\n",
        "    print(\"epoch {} train acc {}\".format(e+1, train_acc / (batch_id+1)))\r\n",
        "    \r\n",
        "    model.eval()\r\n",
        "    for batch_id, (token_ids, valid_length,segment_ids,label) in enumerate(tqdm_notebook(test_dataloader)):\r\n",
        "        token_ids = token_ids.long().to(device)\r\n",
        "        # segment_ids = segment_ids.long().to(device)\r\n",
        "        valid_length= valid_length\r\n",
        "        label = label.long().to(device)\r\n",
        "        with torch.no_grad():\r\n",
        "          out = model(token_ids, valid_length)\r\n",
        "        test_loss=loss_fn(out,label)\r\n",
        "        test_acc += calc_accuracy(out, label)\r\n",
        "    print(\"epoch {} test acc {} test loss {}\".format(e+1, test_acc / (batch_id+1),test_loss.data.cpu().numpy()))\r\n",
        "\r\n",
        "    if test_acc>best_acc and test_loss.data.cpu().numpy()<best_loss:\r\n",
        "      torch.save({'epoch':e+1,\r\n",
        "                  'model_state_dict':model.state_dict(),\r\n",
        "                  'optimizer_state_dict':optimizer.state_dict(),\r\n",
        "                  'loss':test_loss.data.cpu().numpy()},\r\n",
        "                 ckpt_name)\r\n",
        "      best_loss=test_loss.data.cpu().numpy()\r\n",
        "      bset_acc=test_acc\r\n",
        "      \r\n",
        "      print('current best model saved')\r\n",
        "    "
      ],
      "outputs": [],
      "metadata": {
        "id": "zFwU3auZrLvd",
        "colab": {
          "base_uri": "https://localhost:8080/",
          "height": 237,
          "referenced_widgets": [
            "6e3791db20d34a888561e78ddd36b100",
            "91e7bbcc021845198b6e6c521fe8eaff",
            "f9be62e6032047da933857ead48fd090",
            "bd10f165ee5f49e88146caebcf988d33",
            "d2d4f9f8e7944d1eac77677054a6a69a",
            "aed0db140a0a457da35b53c631936bdf",
            "fbc7b1a165f545b498335cd1100f45d5",
            "c3fd09aa33f148d5bc4d7c746708f75b"
          ]
        },
        "outputId": "8f32c181-d3ee-4e6a-f2cc-306ed6b88b1b"
      }
    },
    {
      "cell_type": "markdown",
      "source": [
        "# Inference"
      ],
      "metadata": {
        "id": "5qGDKx-BOioV"
      }
    },
    {
      "cell_type": "code",
      "execution_count": null,
      "source": [
        "#새로운 문장 테스트\r\n",
        "#토큰화\r\n",
        "tokenizer = get_tokenizer()\r\n",
        "tok = nlp.data.BERTSPTokenizer(tokenizer, vocab, lower=False)\r\n",
        "\r\n",
        "def predict(predict_sentence):\r\n",
        "\r\n",
        "    data = [predict_sentence, '0']\r\n",
        "    dataset_another = [data]\r\n",
        "\r\n",
        "    another_test = BERTDataset(dataset_another, 0, 1, tok, max_len, True, False)\r\n",
        "    test_dataloader = torch.utils.data.DataLoader(another_test, batch_size=batch_size, num_workers=5)\r\n",
        "    \r\n",
        "    model.eval()\r\n",
        "    with torch.no_grad():\r\n",
        "\r\n",
        "      for batch_id, (token_ids, valid_length, segment_ids, label) in enumerate(test_dataloader):\r\n",
        "          token_ids = token_ids.long().to(device)\r\n",
        "          segment_ids = segment_ids.long().to(device)\r\n",
        "\r\n",
        "          valid_length= valid_length\r\n",
        "          label = label.long().to(device)\r\n",
        "\r\n",
        "          out = model(token_ids, valid_length, segment_ids)\r\n",
        "\r\n",
        "\r\n",
        "          test_eval=[]\r\n",
        "          for i in out:\r\n",
        "              logits=i\r\n",
        "              logits = logits.detach().cpu().numpy()\r\n",
        "\r\n",
        "              if np.argmax(logits) == 0:\r\n",
        "                  test_eval.append(\"불안이\")\r\n",
        "              elif np.argmax(logits) == 1:\r\n",
        "                  test_eval.append(\"당황이\")\r\n",
        "              elif np.argmax(logits) == 2:\r\n",
        "                  test_eval.append(\"분노가\")\r\n",
        "              elif np.argmax(logits) == 3:\r\n",
        "                  test_eval.append(\"슬픔이\")\r\n",
        "              elif np.argmax(logits) == 4:\r\n",
        "                  test_eval.append(\"중립이\")\r\n",
        "              elif np.argmax(logits) == 5:\r\n",
        "                  test_eval.append(\"행복이\")\r\n",
        "              elif np.argmax(logits) == 6:\r\n",
        "                  test_eval.append(\"혐오가\")\r\n",
        "\r\n",
        "          print(\">> 입력하신 내용에서 \" + test_eval[0] + \" 느껴집니다.\")"
      ],
      "outputs": [],
      "metadata": {
        "id": "sMhoRPpvrLyW",
        "colab": {
          "base_uri": "https://localhost:8080/"
        },
        "outputId": "8b5f488f-d015-4a26-8dbb-52569b876dcb"
      }
    },
    {
      "cell_type": "code",
      "execution_count": null,
      "source": [
        "checkpoint=torch.load(ckpt_name)"
      ],
      "outputs": [],
      "metadata": {
        "id": "GPNaf7yfrnkv"
      }
    },
    {
      "cell_type": "code",
      "execution_count": null,
      "source": [
        "model.load_state_dict(checkpoint['model_state_dict'])"
      ],
      "outputs": [],
      "metadata": {
        "colab": {
          "base_uri": "https://localhost:8080/"
        },
        "id": "Pe7y6Mk4zsqd",
        "outputId": "56ba53d6-80c2-408e-e961-19484dbe0729"
      }
    },
    {
      "cell_type": "code",
      "execution_count": null,
      "source": [
        "#질문 무한반복하기! 0 입력시 종료\r\n",
        "end = 1\r\n",
        "while end == 1 :\r\n",
        "    sentence = input(\"하고싶은 말을 입력해주세요 : \")\r\n",
        "    if sentence == 0 :\r\n",
        "        break\r\n",
        "    predict(sentence)\r\n",
        "    print(\"\\n\")"
      ],
      "outputs": [],
      "metadata": {
        "id": "8MudnDGJr9pT",
        "colab": {
          "base_uri": "https://localhost:8080/",
          "height": 1000
        },
        "outputId": "a3aa9171-1719-4bd2-b6f1-f349cdfc097b"
      }
    }
  ]
}