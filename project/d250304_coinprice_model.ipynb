{
 "cells": [
  {
   "cell_type": "code",
   "execution_count": 150,
   "id": "0968e29d-3099-4b18-ba36-8364cf70580d",
   "metadata": {},
   "outputs": [],
   "source": [
    "import requests\n",
    "\n",
    "def get_binance_price():\n",
    "    \"\"\"바이낸스에서 SHIBUSDT 가격 가져오기\"\"\"\n",
    "    url = \"https://api.binance.com/api/v3/ticker/price\"\n",
    "    params = {\"symbol\": \"SHIBUSDT\"}\n",
    "    response = requests.get(url, params=params)\n",
    "    return float(response.json()[\"price\"])\n",
    "\n",
    "def get_upbit_price():\n",
    "    \"\"\"업비트에서 SHIB/KRW 가격 가져오기\"\"\"\n",
    "    url = \"https://api.upbit.com/v1/ticker\"\n",
    "    params = {\"markets\": \"KRW-SHIB\"}\n",
    "    response = requests.get(url, params=params)\n",
    "    return float(response.json()[0][\"trade_price\"])\n",
    "\n",
    "def get_usd_to_krw():\n",
    "    \"\"\"신뢰할 수 있는 API에서 환율 가져오기 (네이버 금융)\"\"\"\n",
    "    url = \"https://api.exchangerate-api.com/v4/latest/USD\"  # 신뢰할 수 있는 환율 API\n",
    "    response = requests.get(url)\n",
    "    data = response.json()\n",
    "    return float(data[\"rates\"][\"KRW\"])  # USD → KRW 환율 값\n"
   ]
  },
  {
   "cell_type": "code",
   "execution_count": 311,
   "id": "35fd2f0e-94b0-4ea8-8352-ef0736ec9052",
   "metadata": {},
   "outputs": [
    {
     "name": "stdout",
     "output_type": "stream",
     "text": [
      "📌 SHIB 현재 가격 (업비트): 0.01925 KRW\n",
      "📌 SHIB 현재 가격 (바이낸스): 1.275e-05 USDT\n",
      "📌 환율 (USD → KRW): 1458.82\n",
      "🔥 김치 프리미엄: 3.49%\n"
     ]
    }
   ],
   "source": [
    "# 실시간 데이터 가져오기\n",
    "binance_price = get_binance_price()  # 바이낸스 가격 (USDT)\n",
    "upbit_price = get_upbit_price()  # 업비트 가격 (KRW)\n",
    "usd_to_krw = get_usd_to_krw()  # 환율\n",
    "\n",
    "# 김치 프리미엄 계산\n",
    "kimchi_premium = ((upbit_price / (binance_price * usd_to_krw)) - 1) * 100\n",
    "\n",
    "# 결과 출력\n",
    "print(f\"📌 SHIB 현재 가격 (업비트): {upbit_price} KRW\")\n",
    "print(f\"📌 SHIB 현재 가격 (바이낸스): {binance_price} USDT\")\n",
    "print(f\"📌 환율 (USD → KRW): {usd_to_krw}\")\n",
    "print(f\"🔥 김치 프리미엄: {kimchi_premium:.2f}%\")\n"
   ]
  },
  {
   "cell_type": "code",
   "execution_count": 176,
   "id": "67780475-986b-415a-b5fd-6c4e1049283f",
   "metadata": {},
   "outputs": [
    {
     "name": "stdout",
     "output_type": "stream",
     "text": [
      "[[1741062600000, '83792.14000000', '83827.00000000', '83650.00000000', '83753.32000000', '63.51072000', 1741062899999, '5317831.39021640', 25194, '29.40337000', '2461905.60754180', '0'], [1741062900000, '83753.31000000', '83868.00000000', '83478.58000000', '83643.01000000', '130.34182000', 1741063199999, '10907458.32952280', 31046, '61.28872000', '5132139.82357090', '0'], [1741063200000, '83643.02000000', '83823.52000000', '83622.02000000', '83807.48000000', '49.32260000', 1741063499999, '4129992.64110430', 23365, '20.71977000', '1734968.47799910', '0'], [1741063500000, '83807.48000000', '83812.00000000', '83509.43000000', '83605.00000000', '128.82429000', 1741063799999, '10771611.91534690', 22304, '45.35376000', '3792487.49056470', '0'], [1741063800000, '83605.00000000', '83790.50000000', '83573.46000000', '83678.01000000', '64.30965000', 1741064099999, '5382450.04356030', 21040, '36.02363000', '3014647.72218460', '0']]\n"
     ]
    }
   ],
   "source": [
    "import requests\n",
    "url = \"https://api.binance.com/api/v3/klines\"\n",
    "params = {\n",
    "    \"symbol\": \"BTCUSDT\",\n",
    "    \"interval\": \"5m\",\n",
    "    \"limit\": 5\n",
    "}\n",
    "response = requests.get(url, params=params)\n",
    "print(response.json())\n"
   ]
  },
  {
   "cell_type": "code",
   "execution_count": 12,
   "id": "349131ba-1636-4154-b6bd-87069658b770",
   "metadata": {},
   "outputs": [],
   "source": [
    "# import websocket\n",
    "# import json\n",
    "\n",
    "# def on_message(ws, message):\n",
    "#     data = json.loads(message)\n",
    "#     print(f\"실시간 가격: {data['p']} USDT\")  # 'p' = price\n",
    "\n",
    "# # 웹소켓 연결\n",
    "# ws = websocket.WebSocketApp(\"wss://stream.binance.com:9443/ws/shibusdt@trade\",\n",
    "#                              on_message=on_message)\n",
    "# ws.run_forever()\n"
   ]
  },
  {
   "cell_type": "code",
   "execution_count": 296,
   "id": "e2fe9b93-c210-4b15-9526-7c57abc58e73",
   "metadata": {},
   "outputs": [
    {
     "name": "stdout",
     "output_type": "stream",
     "text": [
      "📊 SHIBUSDT: 0개 데이터 가져오는 중...\n",
      "📊 SHIBUSDT: 1000개 데이터 가져오는 중...\n",
      "📊 SHIBUSDT: 2000개 데이터 가져오는 중...\n",
      "📊 SHIBUSDT: 3000개 데이터 가져오는 중...\n",
      "📊 SHIBUSDT: 4000개 데이터 가져오는 중...\n",
      "📊 SHIBUSDT: 5000개 데이터 가져오는 중...\n",
      "📊 SHIBUSDT: 6000개 데이터 가져오는 중...\n",
      "📊 SHIBUSDT: 7000개 데이터 가져오는 중...\n",
      "📊 SHIBUSDT: 8000개 데이터 가져오는 중...\n",
      "📊 SHIBUSDT: 9000개 데이터 가져오는 중...\n",
      "📊 SHIBUSDT: 10000개 데이터 가져오는 중...\n",
      "📊 SHIBUSDT: 11000개 데이터 가져오는 중...\n",
      "📊 SHIBUSDT: 12000개 데이터 가져오는 중...\n",
      "📊 SHIBUSDT: 13000개 데이터 가져오는 중...\n",
      "📊 SHIBUSDT: 14000개 데이터 가져오는 중...\n",
      "📊 SHIBUSDT: 15000개 데이터 가져오는 중...\n",
      "📊 SHIBUSDT: 16000개 데이터 가져오는 중...\n",
      "📊 SHIBUSDT: 17000개 데이터 가져오는 중...\n",
      "📊 SHIBUSDT: 18000개 데이터 가져오는 중...\n",
      "📊 SHIBUSDT: 19000개 데이터 가져오는 중...\n",
      "📊 SHIBUSDT: 20000개 데이터 가져오는 중...\n",
      "📊 SHIBUSDT: 21000개 데이터 가져오는 중...\n",
      "📊 SHIBUSDT: 22000개 데이터 가져오는 중...\n",
      "📊 SHIBUSDT: 23000개 데이터 가져오는 중...\n",
      "📊 SHIBUSDT: 24000개 데이터 가져오는 중...\n",
      "📊 SHIBUSDT: 25000개 데이터 가져오는 중...\n",
      "📊 SHIBUSDT: 26000개 데이터 가져오는 중...\n",
      "📊 SHIBUSDT: 27000개 데이터 가져오는 중...\n",
      "📊 SHIBUSDT: 28000개 데이터 가져오는 중...\n",
      "📊 SHIBUSDT: 29000개 데이터 가져오는 중...\n",
      "📊 SHIBUSDT: 30000개 데이터 가져오는 중...\n",
      "📊 SHIBUSDT: 31000개 데이터 가져오는 중...\n",
      "📊 SHIBUSDT: 32000개 데이터 가져오는 중...\n",
      "📊 SHIBUSDT: 33000개 데이터 가져오는 중...\n",
      "📊 SHIBUSDT: 34000개 데이터 가져오는 중...\n",
      "⚠️ SHIBUSDT: API에서 데이터를 가져올 수 없습니다.\n",
      "⚠️ SHIBUSDT: 더 이상 데이터를 가져올 수 없습니다. (33444개 확보됨)\n",
      "✅ SHIBUSDT: 총 33444개 데이터 확보 완료!\n",
      "🔍 SHIB 데이터 컬럼: ['timestamp', 'open', 'high', 'low', 'close', 'volume']\n"
     ]
    }
   ],
   "source": [
    "import requests\n",
    "import pandas as pd\n",
    "import time\n",
    "\n",
    "def get_binance_historical_data(symbol=\"SHIBUSDT\", interval=\"1h\", limit=1000, start_time=None, end_time=None):\n",
    "    url = \"https://api.binance.com/api/v3/klines\"\n",
    "    params = {\n",
    "        \"symbol\": symbol,\n",
    "        \"interval\": interval,\n",
    "        \"limit\": limit\n",
    "    }\n",
    "    if start_time:\n",
    "        params[\"startTime\"] = start_time\n",
    "    if end_time:\n",
    "        params[\"endTime\"] = end_time\n",
    "\n",
    "    try:\n",
    "        response = requests.get(url, params=params)\n",
    "        response.raise_for_status()\n",
    "        data = response.json()\n",
    "\n",
    "        if not data:\n",
    "            print(f\"⚠️ {symbol}: API에서 데이터를 가져올 수 없습니다.\")\n",
    "            return None\n",
    "\n",
    "        df = pd.DataFrame(data, columns=[\n",
    "            \"timestamp\", \"open\", \"high\", \"low\", \"close\", \"volume\",\n",
    "            \"close_time\", \"quote_asset_volume\", \"trades\", \"taker_base_vol\", \"taker_quote_vol\", \"ignore\"\n",
    "        ])\n",
    "        df = df[[\"timestamp\", \"open\", \"high\", \"low\", \"close\", \"volume\"]]\n",
    "        df[\"timestamp\"] = pd.to_datetime(df[\"timestamp\"], unit=\"ms\")\n",
    "        df[[\"open\", \"high\", \"low\", \"close\", \"volume\"]] = df[[\"open\", \"high\", \"low\", \"close\", \"volume\"]].astype(float)\n",
    "\n",
    "        return df\n",
    "\n",
    "    except requests.exceptions.RequestException as e:\n",
    "        print(f\"❌ {symbol}: API 요청 오류 - {e}\")\n",
    "        return None\n",
    "\n",
    "def get_full_binance_data(symbol=\"SHIBUSDT\", interval=\"1h\", total_candles=50000):\n",
    "    full_data = pd.DataFrame()\n",
    "    current_time = int(time.time() * 1000)\n",
    "    step = 1000 * 60 * 60  # 1시간 단위 (기존 5분에서 수정)\n",
    "\n",
    "    for i in range(total_candles // 1000 + 1):\n",
    "        start_time = current_time - (i + 1) * step * 1000\n",
    "        end_time = current_time - i * step * 1000\n",
    "\n",
    "        print(f\"📊 {symbol}: {i * 1000}개 데이터 가져오는 중...\")\n",
    "        temp_data = get_binance_historical_data(symbol, interval, limit=1000, start_time=start_time, end_time=end_time)\n",
    "\n",
    "        if temp_data is None or temp_data.empty:\n",
    "            print(f\"⚠️ {symbol}: 더 이상 데이터를 가져올 수 없습니다. ({len(full_data)}개 확보됨)\")\n",
    "            break\n",
    "\n",
    "        full_data = pd.concat([temp_data, full_data], ignore_index=True)\n",
    "\n",
    "        # ✅ 속도 조절: 요청 간 1.5~2초 대기\n",
    "        time.sleep(1.5 + (i % 2) * 0.5)\n",
    "\n",
    "    print(f\"✅ {symbol}: 총 {len(full_data)}개 데이터 확보 완료!\")\n",
    "    return full_data\n",
    "\n",
    "# ✅ SHIB 데이터 수집\n",
    "shib_data = get_full_binance_data(\"SHIBUSDT\", interval=\"1h\", total_candles=50000)\n",
    "\n",
    "# ✅ 📌 데이터 확인 (병합 전)\n",
    "print(\"🔍 SHIB 데이터 컬럼:\", shib_data.columns.tolist())\n",
    "\n",
    "# ✅ CSV 저장\n",
    "shib_data.to_csv(\"data/shib.csv\", index=False)\n"
   ]
  },
  {
   "cell_type": "code",
   "execution_count": 298,
   "id": "8da946f5-0be2-45cd-9932-947f2935f72d",
   "metadata": {},
   "outputs": [],
   "source": [
    "import numpy as np\n",
    "import pandas as pd\n",
    "df = pd.read_csv('data/shib.csv')"
   ]
  },
  {
   "cell_type": "code",
   "execution_count": 300,
   "id": "ccd68c41-d5a1-4c8f-b573-d135c5530968",
   "metadata": {},
   "outputs": [
    {
     "name": "stdout",
     "output_type": "stream",
     "text": [
      "<class 'pandas.core.frame.DataFrame'>\n",
      "RangeIndex: 33444 entries, 0 to 33443\n",
      "Data columns (total 6 columns):\n",
      " #   Column     Non-Null Count  Dtype  \n",
      "---  ------     --------------  -----  \n",
      " 0   timestamp  33444 non-null  object \n",
      " 1   open       33444 non-null  float64\n",
      " 2   high       33444 non-null  float64\n",
      " 3   low        33444 non-null  float64\n",
      " 4   close      33444 non-null  float64\n",
      " 5   volume     33444 non-null  float64\n",
      "dtypes: float64(5), object(1)\n",
      "memory usage: 1.5+ MB\n",
      "None\n"
     ]
    }
   ],
   "source": [
    "print(df.info())"
   ]
  },
  {
   "cell_type": "code",
   "execution_count": 302,
   "id": "e7968334-f7ba-42d1-ad71-af20fed9f21a",
   "metadata": {},
   "outputs": [
    {
     "data": {
      "text/html": [
       "<div>\n",
       "<style scoped>\n",
       "    .dataframe tbody tr th:only-of-type {\n",
       "        vertical-align: middle;\n",
       "    }\n",
       "\n",
       "    .dataframe tbody tr th {\n",
       "        vertical-align: top;\n",
       "    }\n",
       "\n",
       "    .dataframe thead th {\n",
       "        text-align: right;\n",
       "    }\n",
       "</style>\n",
       "<table border=\"1\" class=\"dataframe\">\n",
       "  <thead>\n",
       "    <tr style=\"text-align: right;\">\n",
       "      <th></th>\n",
       "      <th>timestamp</th>\n",
       "      <th>open</th>\n",
       "      <th>high</th>\n",
       "      <th>low</th>\n",
       "      <th>close</th>\n",
       "      <th>volume</th>\n",
       "    </tr>\n",
       "  </thead>\n",
       "  <tbody>\n",
       "    <tr>\n",
       "      <th>0</th>\n",
       "      <td>2021-05-10 11:00:00</td>\n",
       "      <td>0.000014</td>\n",
       "      <td>0.000050</td>\n",
       "      <td>0.000014</td>\n",
       "      <td>0.000030</td>\n",
       "      <td>1.527431e+13</td>\n",
       "    </tr>\n",
       "    <tr>\n",
       "      <th>1</th>\n",
       "      <td>2021-05-10 12:00:00</td>\n",
       "      <td>0.000030</td>\n",
       "      <td>0.000039</td>\n",
       "      <td>0.000029</td>\n",
       "      <td>0.000033</td>\n",
       "      <td>1.290046e+13</td>\n",
       "    </tr>\n",
       "    <tr>\n",
       "      <th>2</th>\n",
       "      <td>2021-05-10 13:00:00</td>\n",
       "      <td>0.000033</td>\n",
       "      <td>0.000036</td>\n",
       "      <td>0.000029</td>\n",
       "      <td>0.000031</td>\n",
       "      <td>8.472225e+12</td>\n",
       "    </tr>\n",
       "    <tr>\n",
       "      <th>3</th>\n",
       "      <td>2021-05-10 14:00:00</td>\n",
       "      <td>0.000031</td>\n",
       "      <td>0.000031</td>\n",
       "      <td>0.000028</td>\n",
       "      <td>0.000029</td>\n",
       "      <td>5.786327e+12</td>\n",
       "    </tr>\n",
       "    <tr>\n",
       "      <th>4</th>\n",
       "      <td>2021-05-10 15:00:00</td>\n",
       "      <td>0.000029</td>\n",
       "      <td>0.000031</td>\n",
       "      <td>0.000029</td>\n",
       "      <td>0.000029</td>\n",
       "      <td>3.593920e+12</td>\n",
       "    </tr>\n",
       "  </tbody>\n",
       "</table>\n",
       "</div>"
      ],
      "text/plain": [
       "             timestamp      open      high       low     close        volume\n",
       "0  2021-05-10 11:00:00  0.000014  0.000050  0.000014  0.000030  1.527431e+13\n",
       "1  2021-05-10 12:00:00  0.000030  0.000039  0.000029  0.000033  1.290046e+13\n",
       "2  2021-05-10 13:00:00  0.000033  0.000036  0.000029  0.000031  8.472225e+12\n",
       "3  2021-05-10 14:00:00  0.000031  0.000031  0.000028  0.000029  5.786327e+12\n",
       "4  2021-05-10 15:00:00  0.000029  0.000031  0.000029  0.000029  3.593920e+12"
      ]
     },
     "execution_count": 302,
     "metadata": {},
     "output_type": "execute_result"
    }
   ],
   "source": [
    "df.head()"
   ]
  },
  {
   "cell_type": "code",
   "execution_count": 354,
   "id": "f5132743-a51a-47fd-bb46-213616ea0d84",
   "metadata": {},
   "outputs": [
    {
     "name": "stdout",
     "output_type": "stream",
     "text": [
      "✅ 데이터 전처리 완료! (훈련: 26715, 검증: 3339, 테스트: 3340)\n"
     ]
    }
   ],
   "source": [
    "import pandas as pd\n",
    "import numpy as np\n",
    "import matplotlib.pyplot as plt\n",
    "from sklearn.preprocessing import MinMaxScaler\n",
    "from tensorflow.keras.preprocessing.sequence import TimeseriesGenerator\n",
    "from tensorflow.keras.models import Sequential\n",
    "from tensorflow.keras.layers import LSTM, Dense\n",
    "\n",
    "# ✅ 1. 데이터 로드\n",
    "df = pd.read_csv(\"data/shib.csv\")\n",
    "\n",
    "# ✅ 2. 타임스탬프 정렬\n",
    "df[\"timestamp\"] = pd.to_datetime(df[\"timestamp\"])\n",
    "df = df.sort_values(by=\"timestamp\").reset_index(drop=True)\n",
    "\n",
    "# ✅ 3. 필요 없는 컬럼 제거\n",
    "df = df[[\"timestamp\", \"open\", \"high\", \"low\", \"close\", \"volume\"]]\n",
    "\n",
    "# ✅ 4. 결측치 확인 및 제거\n",
    "df = df.dropna()\n",
    "\n",
    "# ✅ 5. 정규화 (MinMaxScaler 적용)\n",
    "scaler = MinMaxScaler()\n",
    "scaled_data = scaler.fit_transform(df[[\"open\", \"high\", \"low\", \"close\", \"volume\"]])\n",
    "\n",
    "# ✅ 6. 시퀀스 데이터 생성 (LSTM 입력 형태로 변환)\n",
    "sequence_length = 50  # 이전 50개의 데이터를 기반으로 예측\n",
    "X, y = [], []\n",
    "\n",
    "for i in range(len(scaled_data) - sequence_length):\n",
    "    X.append(scaled_data[i:i + sequence_length])\n",
    "    y.append(scaled_data[i + sequence_length][3])  # 'close' 가격을 예측\n",
    "\n",
    "X, y = np.array(X), np.array(y)\n",
    "\n",
    "# ✅ 7. 훈련/검증/테스트 데이터 분할\n",
    "train_size = int(len(X) * 0.8)\n",
    "val_size = int(len(X) * 0.1)\n",
    "\n",
    "X_train, y_train = X[:train_size], y[:train_size]\n",
    "X_val, y_val = X[train_size:train_size + val_size], y[train_size:train_size + val_size]\n",
    "X_test, y_test = X[train_size + val_size:], y[train_size + val_size:]\n",
    "\n",
    "print(f\"✅ 데이터 전처리 완료! (훈련: {len(X_train)}, 검증: {len(X_val)}, 테스트: {len(X_test)})\")\n"
   ]
  },
  {
   "cell_type": "code",
   "execution_count": 368,
   "id": "d5bc6b06-d1d5-4eb7-a106-8c3128e60a68",
   "metadata": {},
   "outputs": [
    {
     "name": "stdout",
     "output_type": "stream",
     "text": [
      "Epoch 1/100\n"
     ]
    },
    {
     "name": "stderr",
     "output_type": "stream",
     "text": [
      "C:\\Users\\kj\\anaconda3\\Lib\\site-packages\\keras\\src\\layers\\rnn\\rnn.py:200: UserWarning: Do not pass an `input_shape`/`input_dim` argument to a layer. When using Sequential models, prefer using an `Input(shape)` object as the first layer in the model instead.\n",
      "  super().__init__(**kwargs)\n"
     ]
    },
    {
     "name": "stdout",
     "output_type": "stream",
     "text": [
      "\u001b[1m833/835\u001b[0m \u001b[32m━━━━━━━━━━━━━━━━━━━\u001b[0m\u001b[37m━\u001b[0m \u001b[1m0s\u001b[0m 23ms/step - loss: 0.2170\n",
      "Epoch 1: val_loss improved from inf to 0.03065, saving model to best_model.h5\n"
     ]
    },
    {
     "name": "stderr",
     "output_type": "stream",
     "text": [
      "WARNING:absl:You are saving your model as an HDF5 file via `model.save()` or `keras.saving.save_model(model)`. This file format is considered legacy. We recommend using instead the native Keras format, e.g. `model.save('my_model.keras')` or `keras.saving.save_model(model, 'my_model.keras')`. \n"
     ]
    },
    {
     "name": "stdout",
     "output_type": "stream",
     "text": [
      "\u001b[1m835/835\u001b[0m \u001b[32m━━━━━━━━━━━━━━━━━━━━\u001b[0m\u001b[37m\u001b[0m \u001b[1m25s\u001b[0m 25ms/step - loss: 0.2167 - val_loss: 0.0306\n",
      "Epoch 2/100\n",
      "\u001b[1m833/835\u001b[0m \u001b[32m━━━━━━━━━━━━━━━━━━━\u001b[0m\u001b[37m━\u001b[0m \u001b[1m0s\u001b[0m 22ms/step - loss: 0.0206\n",
      "Epoch 2: val_loss improved from 0.03065 to 0.00466, saving model to best_model.h5\n"
     ]
    },
    {
     "name": "stderr",
     "output_type": "stream",
     "text": [
      "WARNING:absl:You are saving your model as an HDF5 file via `model.save()` or `keras.saving.save_model(model)`. This file format is considered legacy. We recommend using instead the native Keras format, e.g. `model.save('my_model.keras')` or `keras.saving.save_model(model, 'my_model.keras')`. \n"
     ]
    },
    {
     "name": "stdout",
     "output_type": "stream",
     "text": [
      "\u001b[1m835/835\u001b[0m \u001b[32m━━━━━━━━━━━━━━━━━━━━\u001b[0m\u001b[37m\u001b[0m \u001b[1m20s\u001b[0m 24ms/step - loss: 0.0205 - val_loss: 0.0047\n",
      "Epoch 3/100\n",
      "\u001b[1m835/835\u001b[0m \u001b[32m━━━━━━━━━━━━━━━━━━━━\u001b[0m\u001b[37m\u001b[0m \u001b[1m0s\u001b[0m 22ms/step - loss: 0.0040\n",
      "Epoch 3: val_loss improved from 0.00466 to 0.00114, saving model to best_model.h5\n"
     ]
    },
    {
     "name": "stderr",
     "output_type": "stream",
     "text": [
      "WARNING:absl:You are saving your model as an HDF5 file via `model.save()` or `keras.saving.save_model(model)`. This file format is considered legacy. We recommend using instead the native Keras format, e.g. `model.save('my_model.keras')` or `keras.saving.save_model(model, 'my_model.keras')`. \n"
     ]
    },
    {
     "name": "stdout",
     "output_type": "stream",
     "text": [
      "\u001b[1m835/835\u001b[0m \u001b[32m━━━━━━━━━━━━━━━━━━━━\u001b[0m\u001b[37m\u001b[0m \u001b[1m20s\u001b[0m 24ms/step - loss: 0.0040 - val_loss: 0.0011\n",
      "Epoch 4/100\n",
      "\u001b[1m834/835\u001b[0m \u001b[32m━━━━━━━━━━━━━━━━━━━\u001b[0m\u001b[37m━\u001b[0m \u001b[1m0s\u001b[0m 23ms/step - loss: 0.0017\n",
      "Epoch 4: val_loss improved from 0.00114 to 0.00059, saving model to best_model.h5\n"
     ]
    },
    {
     "name": "stderr",
     "output_type": "stream",
     "text": [
      "WARNING:absl:You are saving your model as an HDF5 file via `model.save()` or `keras.saving.save_model(model)`. This file format is considered legacy. We recommend using instead the native Keras format, e.g. `model.save('my_model.keras')` or `keras.saving.save_model(model, 'my_model.keras')`. \n"
     ]
    },
    {
     "name": "stdout",
     "output_type": "stream",
     "text": [
      "\u001b[1m835/835\u001b[0m \u001b[32m━━━━━━━━━━━━━━━━━━━━\u001b[0m\u001b[37m\u001b[0m \u001b[1m21s\u001b[0m 25ms/step - loss: 0.0017 - val_loss: 5.8719e-04\n",
      "Epoch 5/100\n",
      "\u001b[1m834/835\u001b[0m \u001b[32m━━━━━━━━━━━━━━━━━━━\u001b[0m\u001b[37m━\u001b[0m \u001b[1m0s\u001b[0m 25ms/step - loss: 0.0012\n",
      "Epoch 5: val_loss improved from 0.00059 to 0.00046, saving model to best_model.h5\n"
     ]
    },
    {
     "name": "stderr",
     "output_type": "stream",
     "text": [
      "WARNING:absl:You are saving your model as an HDF5 file via `model.save()` or `keras.saving.save_model(model)`. This file format is considered legacy. We recommend using instead the native Keras format, e.g. `model.save('my_model.keras')` or `keras.saving.save_model(model, 'my_model.keras')`. \n"
     ]
    },
    {
     "name": "stdout",
     "output_type": "stream",
     "text": [
      "\u001b[1m835/835\u001b[0m \u001b[32m━━━━━━━━━━━━━━━━━━━━\u001b[0m\u001b[37m\u001b[0m \u001b[1m22s\u001b[0m 27ms/step - loss: 0.0012 - val_loss: 4.5799e-04\n",
      "Epoch 6/100\n",
      "\u001b[1m833/835\u001b[0m \u001b[32m━━━━━━━━━━━━━━━━━━━\u001b[0m\u001b[37m━\u001b[0m \u001b[1m0s\u001b[0m 24ms/step - loss: 0.0011\n",
      "Epoch 6: val_loss improved from 0.00046 to 0.00042, saving model to best_model.h5\n"
     ]
    },
    {
     "name": "stderr",
     "output_type": "stream",
     "text": [
      "WARNING:absl:You are saving your model as an HDF5 file via `model.save()` or `keras.saving.save_model(model)`. This file format is considered legacy. We recommend using instead the native Keras format, e.g. `model.save('my_model.keras')` or `keras.saving.save_model(model, 'my_model.keras')`. \n"
     ]
    },
    {
     "name": "stdout",
     "output_type": "stream",
     "text": [
      "\u001b[1m835/835\u001b[0m \u001b[32m━━━━━━━━━━━━━━━━━━━━\u001b[0m\u001b[37m\u001b[0m \u001b[1m21s\u001b[0m 25ms/step - loss: 0.0011 - val_loss: 4.2240e-04\n",
      "Epoch 7/100\n",
      "\u001b[1m833/835\u001b[0m \u001b[32m━━━━━━━━━━━━━━━━━━━\u001b[0m\u001b[37m━\u001b[0m \u001b[1m0s\u001b[0m 22ms/step - loss: 0.0010\n",
      "Epoch 7: val_loss improved from 0.00042 to 0.00038, saving model to best_model.h5\n"
     ]
    },
    {
     "name": "stderr",
     "output_type": "stream",
     "text": [
      "WARNING:absl:You are saving your model as an HDF5 file via `model.save()` or `keras.saving.save_model(model)`. This file format is considered legacy. We recommend using instead the native Keras format, e.g. `model.save('my_model.keras')` or `keras.saving.save_model(model, 'my_model.keras')`. \n"
     ]
    },
    {
     "name": "stdout",
     "output_type": "stream",
     "text": [
      "\u001b[1m835/835\u001b[0m \u001b[32m━━━━━━━━━━━━━━━━━━━━\u001b[0m\u001b[37m\u001b[0m \u001b[1m20s\u001b[0m 24ms/step - loss: 0.0010 - val_loss: 3.7863e-04\n",
      "Epoch 8/100\n",
      "\u001b[1m833/835\u001b[0m \u001b[32m━━━━━━━━━━━━━━━━━━━\u001b[0m\u001b[37m━\u001b[0m \u001b[1m0s\u001b[0m 23ms/step - loss: 0.0010\n",
      "Epoch 8: val_loss improved from 0.00038 to 0.00036, saving model to best_model.h5\n"
     ]
    },
    {
     "name": "stderr",
     "output_type": "stream",
     "text": [
      "WARNING:absl:You are saving your model as an HDF5 file via `model.save()` or `keras.saving.save_model(model)`. This file format is considered legacy. We recommend using instead the native Keras format, e.g. `model.save('my_model.keras')` or `keras.saving.save_model(model, 'my_model.keras')`. \n"
     ]
    },
    {
     "name": "stdout",
     "output_type": "stream",
     "text": [
      "\u001b[1m835/835\u001b[0m \u001b[32m━━━━━━━━━━━━━━━━━━━━\u001b[0m\u001b[37m\u001b[0m \u001b[1m21s\u001b[0m 25ms/step - loss: 0.0010 - val_loss: 3.5696e-04\n",
      "Epoch 9/100\n",
      "\u001b[1m834/835\u001b[0m \u001b[32m━━━━━━━━━━━━━━━━━━━\u001b[0m\u001b[37m━\u001b[0m \u001b[1m0s\u001b[0m 26ms/step - loss: 9.2004e-04\n",
      "Epoch 9: val_loss improved from 0.00036 to 0.00036, saving model to best_model.h5\n"
     ]
    },
    {
     "name": "stderr",
     "output_type": "stream",
     "text": [
      "WARNING:absl:You are saving your model as an HDF5 file via `model.save()` or `keras.saving.save_model(model)`. This file format is considered legacy. We recommend using instead the native Keras format, e.g. `model.save('my_model.keras')` or `keras.saving.save_model(model, 'my_model.keras')`. \n"
     ]
    },
    {
     "name": "stdout",
     "output_type": "stream",
     "text": [
      "\u001b[1m835/835\u001b[0m \u001b[32m━━━━━━━━━━━━━━━━━━━━\u001b[0m\u001b[37m\u001b[0m \u001b[1m23s\u001b[0m 28ms/step - loss: 9.1998e-04 - val_loss: 3.5615e-04\n",
      "Epoch 10/100\n",
      "\u001b[1m834/835\u001b[0m \u001b[32m━━━━━━━━━━━━━━━━━━━\u001b[0m\u001b[37m━\u001b[0m \u001b[1m0s\u001b[0m 25ms/step - loss: 8.9468e-04\n",
      "Epoch 10: val_loss did not improve from 0.00036\n",
      "\u001b[1m835/835\u001b[0m \u001b[32m━━━━━━━━━━━━━━━━━━━━\u001b[0m\u001b[37m\u001b[0m \u001b[1m22s\u001b[0m 27ms/step - loss: 8.9470e-04 - val_loss: 5.6796e-04\n",
      "Epoch 11/100\n",
      "\u001b[1m834/835\u001b[0m \u001b[32m━━━━━━━━━━━━━━━━━━━\u001b[0m\u001b[37m━\u001b[0m \u001b[1m0s\u001b[0m 23ms/step - loss: 8.7508e-04\n",
      "Epoch 11: val_loss did not improve from 0.00036\n",
      "\u001b[1m835/835\u001b[0m \u001b[32m━━━━━━━━━━━━━━━━━━━━\u001b[0m\u001b[37m\u001b[0m \u001b[1m20s\u001b[0m 24ms/step - loss: 8.7502e-04 - val_loss: 5.1463e-04\n",
      "Epoch 12/100\n",
      "\u001b[1m835/835\u001b[0m \u001b[32m━━━━━━━━━━━━━━━━━━━━\u001b[0m\u001b[37m\u001b[0m \u001b[1m0s\u001b[0m 23ms/step - loss: 8.6212e-04\n",
      "Epoch 12: val_loss did not improve from 0.00036\n",
      "\u001b[1m835/835\u001b[0m \u001b[32m━━━━━━━━━━━━━━━━━━━━\u001b[0m\u001b[37m\u001b[0m \u001b[1m21s\u001b[0m 25ms/step - loss: 8.6209e-04 - val_loss: 3.8738e-04\n",
      "Epoch 13/100\n",
      "\u001b[1m834/835\u001b[0m \u001b[32m━━━━━━━━━━━━━━━━━━━\u001b[0m\u001b[37m━\u001b[0m \u001b[1m0s\u001b[0m 23ms/step - loss: 8.4367e-04\n",
      "Epoch 13: val_loss did not improve from 0.00036\n",
      "\u001b[1m835/835\u001b[0m \u001b[32m━━━━━━━━━━━━━━━━━━━━\u001b[0m\u001b[37m\u001b[0m \u001b[1m20s\u001b[0m 24ms/step - loss: 8.4363e-04 - val_loss: 4.8377e-04\n",
      "Epoch 14/100\n",
      "\u001b[1m834/835\u001b[0m \u001b[32m━━━━━━━━━━━━━━━━━━━\u001b[0m\u001b[37m━\u001b[0m \u001b[1m0s\u001b[0m 22ms/step - loss: 7.7869e-04\n",
      "Epoch 14: val_loss did not improve from 0.00036\n",
      "\u001b[1m835/835\u001b[0m \u001b[32m━━━━━━━━━━━━━━━━━━━━\u001b[0m\u001b[37m\u001b[0m \u001b[1m19s\u001b[0m 23ms/step - loss: 7.7869e-04 - val_loss: 5.3639e-04\n",
      "Epoch 15/100\n",
      "\u001b[1m833/835\u001b[0m \u001b[32m━━━━━━━━━━━━━━━━━━━\u001b[0m\u001b[37m━\u001b[0m \u001b[1m0s\u001b[0m 23ms/step - loss: 7.8062e-04\n",
      "Epoch 15: val_loss improved from 0.00036 to 0.00035, saving model to best_model.h5\n"
     ]
    },
    {
     "name": "stderr",
     "output_type": "stream",
     "text": [
      "WARNING:absl:You are saving your model as an HDF5 file via `model.save()` or `keras.saving.save_model(model)`. This file format is considered legacy. We recommend using instead the native Keras format, e.g. `model.save('my_model.keras')` or `keras.saving.save_model(model, 'my_model.keras')`. \n"
     ]
    },
    {
     "name": "stdout",
     "output_type": "stream",
     "text": [
      "\u001b[1m835/835\u001b[0m \u001b[32m━━━━━━━━━━━━━━━━━━━━\u001b[0m\u001b[37m\u001b[0m \u001b[1m20s\u001b[0m 24ms/step - loss: 7.8067e-04 - val_loss: 3.4864e-04\n",
      "Epoch 16/100\n",
      "\u001b[1m834/835\u001b[0m \u001b[32m━━━━━━━━━━━━━━━━━━━\u001b[0m\u001b[37m━\u001b[0m \u001b[1m0s\u001b[0m 22ms/step - loss: 7.1795e-04\n",
      "Epoch 16: val_loss did not improve from 0.00035\n",
      "\u001b[1m835/835\u001b[0m \u001b[32m━━━━━━━━━━━━━━━━━━━━\u001b[0m\u001b[37m\u001b[0m \u001b[1m20s\u001b[0m 23ms/step - loss: 7.1805e-04 - val_loss: 3.6413e-04\n",
      "Epoch 17/100\n",
      "\u001b[1m833/835\u001b[0m \u001b[32m━━━━━━━━━━━━━━━━━━━\u001b[0m\u001b[37m━\u001b[0m \u001b[1m0s\u001b[0m 23ms/step - loss: 7.6875e-04\n",
      "Epoch 17: val_loss did not improve from 0.00035\n",
      "\u001b[1m835/835\u001b[0m \u001b[32m━━━━━━━━━━━━━━━━━━━━\u001b[0m\u001b[37m\u001b[0m \u001b[1m20s\u001b[0m 24ms/step - loss: 7.6865e-04 - val_loss: 4.3512e-04\n",
      "Epoch 18/100\n",
      "\u001b[1m833/835\u001b[0m \u001b[32m━━━━━━━━━━━━━━━━━━━\u001b[0m\u001b[37m━\u001b[0m \u001b[1m0s\u001b[0m 23ms/step - loss: 7.2496e-04\n",
      "Epoch 18: val_loss improved from 0.00035 to 0.00034, saving model to best_model.h5\n"
     ]
    },
    {
     "name": "stderr",
     "output_type": "stream",
     "text": [
      "WARNING:absl:You are saving your model as an HDF5 file via `model.save()` or `keras.saving.save_model(model)`. This file format is considered legacy. We recommend using instead the native Keras format, e.g. `model.save('my_model.keras')` or `keras.saving.save_model(model, 'my_model.keras')`. \n"
     ]
    },
    {
     "name": "stdout",
     "output_type": "stream",
     "text": [
      "\u001b[1m835/835\u001b[0m \u001b[32m━━━━━━━━━━━━━━━━━━━━\u001b[0m\u001b[37m\u001b[0m \u001b[1m20s\u001b[0m 24ms/step - loss: 7.2501e-04 - val_loss: 3.4466e-04\n",
      "Epoch 19/100\n",
      "\u001b[1m835/835\u001b[0m \u001b[32m━━━━━━━━━━━━━━━━━━━━\u001b[0m\u001b[37m\u001b[0m \u001b[1m0s\u001b[0m 22ms/step - loss: 7.0894e-04\n",
      "Epoch 19: val_loss did not improve from 0.00034\n",
      "\u001b[1m835/835\u001b[0m \u001b[32m━━━━━━━━━━━━━━━━━━━━\u001b[0m\u001b[37m\u001b[0m \u001b[1m19s\u001b[0m 23ms/step - loss: 7.0893e-04 - val_loss: 4.3876e-04\n",
      "Epoch 20/100\n",
      "\u001b[1m834/835\u001b[0m \u001b[32m━━━━━━━━━━━━━━━━━━━\u001b[0m\u001b[37m━\u001b[0m \u001b[1m0s\u001b[0m 23ms/step - loss: 6.8663e-04\n",
      "Epoch 20: val_loss did not improve from 0.00034\n",
      "\u001b[1m835/835\u001b[0m \u001b[32m━━━━━━━━━━━━━━━━━━━━\u001b[0m\u001b[37m\u001b[0m \u001b[1m20s\u001b[0m 24ms/step - loss: 6.8665e-04 - val_loss: 3.7860e-04\n",
      "Epoch 21/100\n",
      "\u001b[1m833/835\u001b[0m \u001b[32m━━━━━━━━━━━━━━━━━━━\u001b[0m\u001b[37m━\u001b[0m \u001b[1m0s\u001b[0m 22ms/step - loss: 6.7639e-04\n",
      "Epoch 21: val_loss improved from 0.00034 to 0.00030, saving model to best_model.h5\n"
     ]
    },
    {
     "name": "stderr",
     "output_type": "stream",
     "text": [
      "WARNING:absl:You are saving your model as an HDF5 file via `model.save()` or `keras.saving.save_model(model)`. This file format is considered legacy. We recommend using instead the native Keras format, e.g. `model.save('my_model.keras')` or `keras.saving.save_model(model, 'my_model.keras')`. \n"
     ]
    },
    {
     "name": "stdout",
     "output_type": "stream",
     "text": [
      "\u001b[1m835/835\u001b[0m \u001b[32m━━━━━━━━━━━━━━━━━━━━\u001b[0m\u001b[37m\u001b[0m \u001b[1m20s\u001b[0m 24ms/step - loss: 6.7636e-04 - val_loss: 3.0202e-04\n",
      "Epoch 22/100\n",
      "\u001b[1m834/835\u001b[0m \u001b[32m━━━━━━━━━━━━━━━━━━━\u001b[0m\u001b[37m━\u001b[0m \u001b[1m0s\u001b[0m 23ms/step - loss: 7.5393e-04\n",
      "Epoch 22: val_loss improved from 0.00030 to 0.00030, saving model to best_model.h5\n"
     ]
    },
    {
     "name": "stderr",
     "output_type": "stream",
     "text": [
      "WARNING:absl:You are saving your model as an HDF5 file via `model.save()` or `keras.saving.save_model(model)`. This file format is considered legacy. We recommend using instead the native Keras format, e.g. `model.save('my_model.keras')` or `keras.saving.save_model(model, 'my_model.keras')`. \n"
     ]
    },
    {
     "name": "stdout",
     "output_type": "stream",
     "text": [
      "\u001b[1m835/835\u001b[0m \u001b[32m━━━━━━━━━━━━━━━━━━━━\u001b[0m\u001b[37m\u001b[0m \u001b[1m21s\u001b[0m 25ms/step - loss: 7.5374e-04 - val_loss: 2.9998e-04\n",
      "Epoch 23/100\n",
      "\u001b[1m835/835\u001b[0m \u001b[32m━━━━━━━━━━━━━━━━━━━━\u001b[0m\u001b[37m\u001b[0m \u001b[1m0s\u001b[0m 25ms/step - loss: 6.8058e-04\n",
      "Epoch 23: val_loss did not improve from 0.00030\n",
      "\u001b[1m835/835\u001b[0m \u001b[32m━━━━━━━━━━━━━━━━━━━━\u001b[0m\u001b[37m\u001b[0m \u001b[1m22s\u001b[0m 26ms/step - loss: 6.8056e-04 - val_loss: 4.6227e-04\n",
      "Epoch 24/100\n",
      "\u001b[1m834/835\u001b[0m \u001b[32m━━━━━━━━━━━━━━━━━━━\u001b[0m\u001b[37m━\u001b[0m \u001b[1m0s\u001b[0m 25ms/step - loss: 6.2724e-04\n",
      "Epoch 24: val_loss did not improve from 0.00030\n",
      "\u001b[1m835/835\u001b[0m \u001b[32m━━━━━━━━━━━━━━━━━━━━\u001b[0m\u001b[37m\u001b[0m \u001b[1m22s\u001b[0m 26ms/step - loss: 6.2731e-04 - val_loss: 3.3132e-04\n",
      "Epoch 25/100\n",
      "\u001b[1m833/835\u001b[0m \u001b[32m━━━━━━━━━━━━━━━━━━━\u001b[0m\u001b[37m━\u001b[0m \u001b[1m0s\u001b[0m 25ms/step - loss: 6.5150e-04\n",
      "Epoch 25: val_loss did not improve from 0.00030\n",
      "\u001b[1m835/835\u001b[0m \u001b[32m━━━━━━━━━━━━━━━━━━━━\u001b[0m\u001b[37m\u001b[0m \u001b[1m22s\u001b[0m 27ms/step - loss: 6.5152e-04 - val_loss: 3.4307e-04\n",
      "Epoch 26/100\n",
      "\u001b[1m835/835\u001b[0m \u001b[32m━━━━━━━━━━━━━━━━━━━━\u001b[0m\u001b[37m\u001b[0m \u001b[1m0s\u001b[0m 23ms/step - loss: 6.0655e-04\n",
      "Epoch 26: val_loss did not improve from 0.00030\n",
      "\u001b[1m835/835\u001b[0m \u001b[32m━━━━━━━━━━━━━━━━━━━━\u001b[0m\u001b[37m\u001b[0m \u001b[1m20s\u001b[0m 24ms/step - loss: 6.0657e-04 - val_loss: 4.3261e-04\n",
      "Epoch 27/100\n",
      "\u001b[1m834/835\u001b[0m \u001b[32m━━━━━━━━━━━━━━━━━━━\u001b[0m\u001b[37m━\u001b[0m \u001b[1m0s\u001b[0m 23ms/step - loss: 6.4902e-04\n",
      "Epoch 27: val_loss did not improve from 0.00030\n",
      "\u001b[1m835/835\u001b[0m \u001b[32m━━━━━━━━━━━━━━━━━━━━\u001b[0m\u001b[37m\u001b[0m \u001b[1m20s\u001b[0m 24ms/step - loss: 6.4896e-04 - val_loss: 6.4482e-04\n",
      "Epoch 28/100\n",
      "\u001b[1m833/835\u001b[0m \u001b[32m━━━━━━━━━━━━━━━━━━━\u001b[0m\u001b[37m━\u001b[0m \u001b[1m0s\u001b[0m 22ms/step - loss: 6.4633e-04\n",
      "Epoch 28: val_loss did not improve from 0.00030\n",
      "\u001b[1m835/835\u001b[0m \u001b[32m━━━━━━━━━━━━━━━━━━━━\u001b[0m\u001b[37m\u001b[0m \u001b[1m20s\u001b[0m 24ms/step - loss: 6.4626e-04 - val_loss: 5.5722e-04\n",
      "Epoch 29/100\n",
      "\u001b[1m834/835\u001b[0m \u001b[32m━━━━━━━━━━━━━━━━━━━\u001b[0m\u001b[37m━\u001b[0m \u001b[1m0s\u001b[0m 22ms/step - loss: 5.6248e-04\n",
      "Epoch 29: val_loss did not improve from 0.00030\n",
      "\u001b[1m835/835\u001b[0m \u001b[32m━━━━━━━━━━━━━━━━━━━━\u001b[0m\u001b[37m\u001b[0m \u001b[1m20s\u001b[0m 24ms/step - loss: 5.6253e-04 - val_loss: 5.1210e-04\n",
      "Epoch 30/100\n",
      "\u001b[1m833/835\u001b[0m \u001b[32m━━━━━━━━━━━━━━━━━━━\u001b[0m\u001b[37m━\u001b[0m \u001b[1m0s\u001b[0m 23ms/step - loss: 5.4203e-04\n",
      "Epoch 30: val_loss did not improve from 0.00030\n",
      "\u001b[1m835/835\u001b[0m \u001b[32m━━━━━━━━━━━━━━━━━━━━\u001b[0m\u001b[37m\u001b[0m \u001b[1m20s\u001b[0m 24ms/step - loss: 5.4216e-04 - val_loss: 3.4857e-04\n",
      "Epoch 31/100\n",
      "\u001b[1m834/835\u001b[0m \u001b[32m━━━━━━━━━━━━━━━━━━━\u001b[0m\u001b[37m━\u001b[0m \u001b[1m0s\u001b[0m 23ms/step - loss: 5.8195e-04\n",
      "Epoch 31: val_loss did not improve from 0.00030\n",
      "\u001b[1m835/835\u001b[0m \u001b[32m━━━━━━━━━━━━━━━━━━━━\u001b[0m\u001b[37m\u001b[0m \u001b[1m20s\u001b[0m 24ms/step - loss: 5.8195e-04 - val_loss: 3.4753e-04\n",
      "Epoch 32/100\n",
      "\u001b[1m833/835\u001b[0m \u001b[32m━━━━━━━━━━━━━━━━━━━\u001b[0m\u001b[37m━\u001b[0m \u001b[1m0s\u001b[0m 22ms/step - loss: 5.3820e-04\n",
      "Epoch 32: val_loss did not improve from 0.00030\n",
      "\u001b[1m835/835\u001b[0m \u001b[32m━━━━━━━━━━━━━━━━━━━━\u001b[0m\u001b[37m\u001b[0m \u001b[1m19s\u001b[0m 23ms/step - loss: 5.3832e-04 - val_loss: 4.0609e-04\n",
      "Epoch 33/100\n",
      "\u001b[1m835/835\u001b[0m \u001b[32m━━━━━━━━━━━━━━━━━━━━\u001b[0m\u001b[37m\u001b[0m \u001b[1m0s\u001b[0m 23ms/step - loss: 5.8600e-04\n",
      "Epoch 33: val_loss did not improve from 0.00030\n",
      "\u001b[1m835/835\u001b[0m \u001b[32m━━━━━━━━━━━━━━━━━━━━\u001b[0m\u001b[37m\u001b[0m \u001b[1m20s\u001b[0m 24ms/step - loss: 5.8599e-04 - val_loss: 3.1944e-04\n",
      "Epoch 34/100\n",
      "\u001b[1m833/835\u001b[0m \u001b[32m━━━━━━━━━━━━━━━━━━━\u001b[0m\u001b[37m━\u001b[0m \u001b[1m0s\u001b[0m 23ms/step - loss: 5.6944e-04\n",
      "Epoch 34: val_loss did not improve from 0.00030\n",
      "\u001b[1m835/835\u001b[0m \u001b[32m━━━━━━━━━━━━━━━━━━━━\u001b[0m\u001b[37m\u001b[0m \u001b[1m20s\u001b[0m 24ms/step - loss: 5.6941e-04 - val_loss: 3.0317e-04\n",
      "Epoch 35/100\n",
      "\u001b[1m834/835\u001b[0m \u001b[32m━━━━━━━━━━━━━━━━━━━\u001b[0m\u001b[37m━\u001b[0m \u001b[1m0s\u001b[0m 23ms/step - loss: 5.7785e-04\n",
      "Epoch 35: val_loss did not improve from 0.00030\n",
      "\u001b[1m835/835\u001b[0m \u001b[32m━━━━━━━━━━━━━━━━━━━━\u001b[0m\u001b[37m\u001b[0m \u001b[1m20s\u001b[0m 24ms/step - loss: 5.7778e-04 - val_loss: 3.6442e-04\n",
      "Epoch 36/100\n",
      "\u001b[1m833/835\u001b[0m \u001b[32m━━━━━━━━━━━━━━━━━━━\u001b[0m\u001b[37m━\u001b[0m \u001b[1m0s\u001b[0m 23ms/step - loss: 5.8592e-04\n",
      "Epoch 36: val_loss did not improve from 0.00030\n",
      "\u001b[1m835/835\u001b[0m \u001b[32m━━━━━━━━━━━━━━━━━━━━\u001b[0m\u001b[37m\u001b[0m \u001b[1m20s\u001b[0m 24ms/step - loss: 5.8582e-04 - val_loss: 3.3399e-04\n",
      "Epoch 37/100\n",
      "\u001b[1m833/835\u001b[0m \u001b[32m━━━━━━━━━━━━━━━━━━━\u001b[0m\u001b[37m━\u001b[0m \u001b[1m0s\u001b[0m 23ms/step - loss: 5.2733e-04\n",
      "Epoch 37: val_loss did not improve from 0.00030\n",
      "\u001b[1m835/835\u001b[0m \u001b[32m━━━━━━━━━━━━━━━━━━━━\u001b[0m\u001b[37m\u001b[0m \u001b[1m20s\u001b[0m 24ms/step - loss: 5.2742e-04 - val_loss: 4.1175e-04\n",
      "Epoch 37: early stopping\n",
      "Restoring model weights from the end of the best epoch: 22.\n"
     ]
    },
    {
     "data": {
      "image/png": "[encoded data removed]",
      "text/plain": [
       "<Figure size 640x480 with 1 Axes>"
      ]
     },
     "metadata": {},
     "output_type": "display_data"
    }
   ],
   "source": [
    "import tensorflow as tf\n",
    "from tensorflow.keras.models import Sequential\n",
    "from tensorflow.keras.layers import LSTM, Dense, Dropout\n",
    "from tensorflow.keras.optimizers import Adam\n",
    "from tensorflow.keras.callbacks import EarlyStopping, ModelCheckpoint\n",
    "from tensorflow.keras.regularizers import L2\n",
    "\n",
    "\n",
    "model = Sequential([\n",
    "    LSTM(64, return_sequences=True, input_shape=(X_train.shape[1], X_train.shape[2]), kernel_regularizer=L2(0.003)),\n",
    "    Dropout(0.4),  \n",
    "\n",
    "    LSTM(32, return_sequences=False, kernel_regularizer=L2(0.003)),\n",
    "    Dropout(0.4),\n",
    "\n",
    "    Dense(16, activation=\"relu\", kernel_regularizer=L2(0.003)),\n",
    "    Dense(1)\n",
    "])\n",
    "\n",
    "# ✅ 모델 컴파일 (학습률 줄임)\n",
    "model.compile(optimizer=Adam(learning_rate=0.0002), loss=\"mse\")\n",
    "\n",
    "# ✅ 체크포인트 & 얼리스탑 추가 (patience=15로 증가)\n",
    "callbacks = [\n",
    "    ModelCheckpoint(\"best_model.h5\", monitor=\"val_loss\", save_best_only=True, verbose=1),\n",
    "    EarlyStopping(monitor=\"val_loss\", patience=15, restore_best_weights=True, verbose=1)  \n",
    "]\n",
    "\n",
    "# ✅ 학습 시작\n",
    "history = model.fit(\n",
    "    X_train, y_train,\n",
    "    validation_data=(X_val, y_val),\n",
    "    epochs=100,\n",
    "    batch_size=32,\n",
    "    verbose=1,\n",
    "    callbacks=callbacks\n",
    ")\n",
    "\n",
    "\n",
    "# ✅ 5. 학습 결과 시각화\n",
    "import matplotlib.pyplot as plt\n",
    "\n",
    "plt.plot(history.history[\"loss\"], label=\"Train Loss\")\n",
    "plt.plot(history.history[\"val_loss\"], label=\"Validation Loss\")\n",
    "plt.xlabel(\"Epochs\")\n",
    "plt.ylabel(\"Loss (MSE)\")\n",
    "plt.legend()\n",
    "plt.show()\n"
   ]
  },
  {
   "cell_type": "code",
   "execution_count": 370,
   "id": "8e7b7c05-4946-4778-b76d-2652fc634996",
   "metadata": {
    "scrolled": true
   },
   "outputs": [
    {
     "data": {
      "text/plain": [
       "{'loss': [0.13132545351982117,\n",
       "  0.013751630671322346,\n",
       "  0.0031142004299908876,\n",
       "  0.0015223874943330884,\n",
       "  0.0011515944497659802,\n",
       "  0.0010643114801496267,\n",
       "  0.0010057069594040513,\n",
       "  0.0009206155082210898,\n",
       "  0.0008959985570982099,\n",
       "  0.0009000634308904409,\n",
       "  0.0008496465743519366,\n",
       "  0.0008387935813516378,\n",
       "  0.0008280542097054422,\n",
       "  0.0007793725235387683,\n",
       "  0.0007949720020405948,\n",
       "  0.0007586769643239677,\n",
       "  0.0007410309044644237,\n",
       "  0.000738638686016202,\n",
       "  0.0006974010029807687,\n",
       "  0.0006935603450983763,\n",
       "  0.0006695370539091527,\n",
       "  0.0006761152762919664,\n",
       "  0.0006641876534558833,\n",
       "  0.000656659307423979,\n",
       "  0.0006571161211468279,\n",
       "  0.0006278450600802898,\n",
       "  0.000624287233222276,\n",
       "  0.0006255425396375358,\n",
       "  0.0005838131182827055,\n",
       "  0.0005803469102829695,\n",
       "  0.0005782631342299283,\n",
       "  0.0005732164718210697,\n",
       "  0.0005841597449034452,\n",
       "  0.0005612465902231634,\n",
       "  0.000550667813513428,\n",
       "  0.0005604175967164338,\n",
       "  0.0005536246462725103],\n",
       " 'val_loss': [0.030649196356534958,\n",
       "  0.004655892960727215,\n",
       "  0.0011383715318515897,\n",
       "  0.0005871924804523587,\n",
       "  0.00045799423241987824,\n",
       "  0.00042239631875418127,\n",
       "  0.0003786250890698284,\n",
       "  0.0003569644468370825,\n",
       "  0.0003561460762284696,\n",
       "  0.0005679578171111643,\n",
       "  0.0005146278417669237,\n",
       "  0.00038738001603633165,\n",
       "  0.00048376573249697685,\n",
       "  0.0005363916279748082,\n",
       "  0.0003486410714685917,\n",
       "  0.0003641298972070217,\n",
       "  0.0004351244424469769,\n",
       "  0.00034466394572518766,\n",
       "  0.0004387634398881346,\n",
       "  0.0003785964800044894,\n",
       "  0.00030202133348211646,\n",
       "  0.0002999774587806314,\n",
       "  0.0004622659180313349,\n",
       "  0.00033132240059785545,\n",
       "  0.0003430684737395495,\n",
       "  0.000432613625889644,\n",
       "  0.000644821033347398,\n",
       "  0.0005572204245254397,\n",
       "  0.0005120981368236244,\n",
       "  0.00034857430728152394,\n",
       "  0.0003475261037237942,\n",
       "  0.0004060857172589749,\n",
       "  0.0003194375603925437,\n",
       "  0.0003031695378012955,\n",
       "  0.00036441502743400633,\n",
       "  0.00033398778759874403,\n",
       "  0.000411749177146703]}"
      ]
     },
     "execution_count": 370,
     "metadata": {},
     "output_type": "execute_result"
    }
   ],
   "source": [
    "history.history"
   ]
  },
  {
   "cell_type": "code",
   "execution_count": 444,
   "id": "eb37753e-03c0-4b4a-bb10-6a2f642075af",
   "metadata": {},
   "outputs": [
    {
     "name": "stdout",
     "output_type": "stream",
     "text": [
      "✅ 최종 last_sequence.shape: (1, 1, 4)\n",
      "✅ expected input shape: (None, 1, 4)\n",
      "✅ Updated max_price used for inverse transform: 8.84845e-05\n",
      "2025-03-04 16:28:01 - Predicted SHIB Price: 0.00001846 USDT\n",
      "2025-03-04 17:28:01 - Predicted SHIB Price: 0.00003440 USDT\n",
      "2025-03-04 18:28:01 - Predicted SHIB Price: 0.00004728 USDT\n",
      "2025-03-04 19:28:01 - Predicted SHIB Price: 0.00005000 USDT\n",
      "2025-03-04 20:28:01 - Predicted SHIB Price: 0.00004944 USDT\n",
      "2025-03-04 21:28:01 - Predicted SHIB Price: 0.00004956 USDT\n",
      "2025-03-04 22:28:01 - Predicted SHIB Price: 0.00004953 USDT\n",
      "2025-03-04 23:28:01 - Predicted SHIB Price: 0.00004954 USDT\n",
      "2025-03-05 00:28:01 - Predicted SHIB Price: 0.00004954 USDT\n",
      "2025-03-05 01:28:01 - Predicted SHIB Price: 0.00004954 USDT\n"
     ]
    },
    {
     "data": {
      "image/png": "[encoded data removed]",
      "text/plain": [
       "<Figure size 1200x600 with 1 Axes>"
      ]
     },
     "metadata": {},
     "output_type": "display_data"
    }
   ],
   "source": [
    "import numpy as np\n",
    "import matplotlib.pyplot as plt\n",
    "from datetime import datetime, timedelta\n",
    "\n",
    "def predict_future(model, last_sequence, scaler, num_steps=10, time_interval=\"1h\"):\n",
    "    \"\"\"\n",
    "    모델을 사용하여 미래의 SHIB 가격을 예측합니다.\n",
    "\n",
    "    Parameters:\n",
    "        model: 훈련된 LSTM 모델\n",
    "        last_sequence (numpy array): 마지막 입력 데이터 (1, time_steps, feature_dim)\n",
    "        scaler: MinMaxScaler 객체 (역정규화에 필요)\n",
    "        num_steps (int): 예측할 미래 개수 (예: 10시간)\n",
    "        time_interval (str): 예측 간격 (\"5m\", \"1h\", \"6h\", \"24h\")\n",
    "\n",
    "    Returns:\n",
    "        tuple: (예측된 가격 배열, 시간 리스트)\n",
    "    \"\"\"\n",
    "    future_preds = []\n",
    "    current_sequence = last_sequence.copy()\n",
    "\n",
    "    for _ in range(num_steps):\n",
    "        # ✅ 모델 예측 수행\n",
    "        next_pred = model.predict(current_sequence, verbose=0)\n",
    "\n",
    "        # ✅ 예측값 저장\n",
    "        future_preds.append(next_pred[0, 0])\n",
    "\n",
    "        # ✅ next_pred를 기존 feature 개수와 일치하도록 확장 (feature_dim=4)\n",
    "        next_pred_reshaped = np.tile(next_pred, (1, 1, current_sequence.shape[2]))  # (1, 1, 4)\n",
    "\n",
    "        # ✅ 입력 데이터 업데이트 (예측값 추가하여 시퀀스 이동)\n",
    "        current_sequence = np.concatenate((current_sequence[:, 1:, :], next_pred_reshaped), axis=1)\n",
    "\n",
    "\n",
    "    # ✅ SHIB의 가격 데이터만 고려하여 max_price 결정\n",
    "    max_price = np.percentile(scaler.data_max_[:-1], 99)  # 마지막 값 제외 후 99% 퍼센타일 적용\n",
    "    print(f\"✅ Updated max_price used for inverse transform: {max_price}\")\n",
    "    \n",
    "\n",
    "\n",
    "    \n",
    "    # ✅ 역정규화 수행\n",
    "    future_preds = np.array(future_preds).reshape(-1, 1)  # (num_steps, 1) 형태로 변경\n",
    "    future_preds = future_preds * (max_price - scaler.data_min_[-1]) + scaler.data_min_[-1]\n",
    "\n",
    "    # ✅ 미래 시간 생성\n",
    "    start_time = datetime.now()\n",
    "    time_delta = {\"5m\": 5, \"1h\": 60, \"6h\": 360, \"24h\": 1440}\n",
    "    time_steps = [start_time + timedelta(minutes=time_delta[time_interval] * i) for i in range(num_steps)]\n",
    "\n",
    "    return future_preds, time_steps\n",
    "\n",
    "\n",
    "# ✅ 마지막 입력 데이터 가져오기\n",
    "last_sequence = X_test[-1]  # (time_steps, feature_dim) 형태\n",
    "\n",
    "# 🚨 feature 개수 조정 (5 → 4)\n",
    "feature_dim = trained_model.input_shape[-1]\n",
    "last_sequence = last_sequence[:, :feature_dim]  # 첫 4개 feature만 사용\n",
    "\n",
    "# 🚨 입력 타임스텝을 1개로 변환\n",
    "last_sequence = last_sequence[-1:]  # 마지막 행 선택 → (1, 4)\n",
    "\n",
    "# ✅ 배치 차원 추가 (1, 1, 4)로 변환\n",
    "last_sequence = np.expand_dims(last_sequence, axis=0).astype(np.float32)\n",
    "\n",
    "# ✅ 입력 데이터 검증\n",
    "print(f\"✅ 최종 last_sequence.shape: {last_sequence.shape}\")\n",
    "print(f\"✅ expected input shape: {trained_model.input_shape}\")\n",
    "\n",
    "# ✅ 예측 수행 (1시간 단위, 10개 시점)\n",
    "num_steps = 10\n",
    "predicted_prices, future_times = predict_future(trained_model, last_sequence, scaler, num_steps=num_steps, time_interval=\"1h\")\n",
    "\n",
    "# ✅ 예측 결과 출력 (가격을 float로 변환)\n",
    "for t, price in zip(future_times, predicted_prices.flatten()):  # 👈 .flatten() 추가\n",
    "    print(f\"{t.strftime('%Y-%m-%d %H:%M:%S')} - Predicted SHIB Price: {float(price):.8f} USDT\")\n",
    "\n",
    "\n",
    "# 📈 예측 결과 시각화\n",
    "plt.figure(figsize=(12, 6))\n",
    "plt.plot(future_times, predicted_prices, label=\"Predicted SHIB Price\", linestyle='dashed', color='red')\n",
    "\n",
    "plt.xlabel('Time')\n",
    "plt.ylabel('SHIB Price (USDT)')\n",
    "plt.xticks(rotation=45)\n",
    "plt.legend()\n",
    "plt.title(f\"SHIB Price Prediction for Next {num_steps} Hours\")\n",
    "\n",
    "plt.show()\n"
   ]
  },
  {
   "cell_type": "code",
   "execution_count": null,
   "id": "6b23d48d-294c-47fb-a48d-5a5d1b174c9f",
   "metadata": {},
   "outputs": [],
   "source": []
  },
  {
   "cell_type": "code",
   "execution_count": null,
   "id": "b413b43b-6528-439d-998e-72fae638e4a9",
   "metadata": {},
   "outputs": [],
   "source": []
  }
 ],
 "metadata": {
  "kernelspec": {
   "display_name": "Python [conda env:base] *",
   "language": "python",
   "name": "conda-base-py"
  },
  "language_info": {
   "codemirror_mode": {
    "name": "ipython",
    "version": 3
   },
   "file_extension": ".py",
   "mimetype": "text/x-python",
   "name": "python",
   "nbconvert_exporter": "python",
   "pygments_lexer": "ipython3",
   "version": "3.12.7"
  }
 },
 "nbformat": 4,
 "nbformat_minor": 5
}
