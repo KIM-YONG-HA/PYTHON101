{
 "cells": [
  {
   "cell_type": "code",
   "execution_count": null,
   "id": "b5560174-0674-4edc-aead-f8d105a18ded",
   "metadata": {},
   "outputs": [],
   "source": [
    "## 업비트"
   ]
  },
  {
   "cell_type": "code",
   "execution_count": 1,
   "id": "1c14956d-bd50-418a-abd6-725c764f0a42",
   "metadata": {},
   "outputs": [],
   "source": [
    "import requests\n",
    "\n",
    "def get_binance_price():\n",
    "    \"\"\"바이낸스에서 SHIBUSDT 가격 가져오기\"\"\"\n",
    "    url = \"https://api.binance.com/api/v3/ticker/price\"\n",
    "    params = {\"symbol\": \"SHIBUSDT\"}\n",
    "    response = requests.get(url, params=params)\n",
    "    return float(response.json()[\"price\"])\n",
    "\n",
    "def get_upbit_price():\n",
    "    \"\"\"업비트에서 SHIB/KRW 가격 가져오기\"\"\"\n",
    "    url = \"https://api.upbit.com/v1/ticker\"\n",
    "    params = {\"markets\": \"KRW-SHIB\"}\n",
    "    response = requests.get(url, params=params)\n",
    "    return float(response.json()[0][\"trade_price\"])\n",
    "\n",
    "def get_usd_to_krw():\n",
    "    \"\"\"신뢰할 수 있는 API에서 환율 가져오기 (네이버 금융)\"\"\"\n",
    "    url = \"https://api.exchangerate-api.com/v4/latest/USD\"  # 신뢰할 수 있는 환율 API\n",
    "    response = requests.get(url)\n",
    "    data = response.json()\n",
    "    return float(data[\"rates\"][\"KRW\"])  # USD → KRW 환율 값\n"
   ]
  },
  {
   "cell_type": "code",
   "execution_count": 45,
   "id": "bc0946dd-dbe8-4da6-9b80-2abe12da8c21",
   "metadata": {},
   "outputs": [
    {
     "name": "stdout",
     "output_type": "stream",
     "text": [
      "📌 SHIB 현재 가격 (업비트): 0.01911 KRW\n",
      "📌 SHIB 현재 가격 (바이낸스): 1.267e-05 USDT\n",
      "📌 환율 (USD → KRW): 1458.82\n",
      "🔥 김치 프리미엄: 3.39%\n"
     ]
    }
   ],
   "source": [
    "# 실시간 데이터 가져오기\n",
    "binance_price = get_binance_price()  # 바이낸스 가격 (USDT)\n",
    "upbit_price = get_upbit_price()  # 업비트 가격 (KRW)\n",
    "usd_to_krw = get_usd_to_krw()  # 환율\n",
    "\n",
    "# 김치 프리미엄 계산\n",
    "kimchi_premium = ((upbit_price / (binance_price * usd_to_krw)) - 1) * 100\n",
    "\n",
    "# 결과 출력\n",
    "print(f\"📌 SHIB 현재 가격 (업비트): {upbit_price} KRW\")\n",
    "print(f\"📌 SHIB 현재 가격 (바이낸스): {binance_price} USDT\")\n",
    "print(f\"📌 환율 (USD → KRW): {usd_to_krw}\")\n",
    "print(f\"🔥 김치 프리미엄: {kimchi_premium:.2f}%\")\n"
   ]
  },
  {
   "cell_type": "code",
   "execution_count": 5,
   "id": "1720496f-c56b-491a-966e-c9d119194479",
   "metadata": {},
   "outputs": [
    {
     "name": "stdout",
     "output_type": "stream",
     "text": [
      "✅ 데이터 저장 완료!\n"
     ]
    }
   ],
   "source": [
    "import requests\n",
    "import pandas as pd\n",
    "import time\n",
    "\n",
    "# ✅ 업비트 시세 가져오기 (5분 단위 캔들)\n",
    "def get_upbit_data(market=\"KRW-SHIB\", count=200):\n",
    "    url = f\"https://api.upbit.com/v1/candles/minutes/5\"\n",
    "    params = {\"market\": market, \"count\": count}\n",
    "    headers = {\"Accept\": \"application/json\"}\n",
    "\n",
    "    response = requests.get(url, params=params, headers=headers)\n",
    "    data = response.json()\n",
    "\n",
    "    df = pd.DataFrame(data)\n",
    "    df = df[[\"candle_date_time_kst\", \"opening_price\", \"high_price\", \"low_price\", \"trade_price\", \"candle_acc_trade_volume\"]]\n",
    "    df.columns = [\"timestamp\", \"open\", \"high\", \"low\", \"close\", \"volume\"]\n",
    "    df[\"timestamp\"] = pd.to_datetime(df[\"timestamp\"])\n",
    "    return df\n",
    "\n",
    "# ✅ 주요 코인 리스트\n",
    "coins = [\"KRW-SHIB\", \"KRW-BTC\", \"KRW-ETH\", \"KRW-XRP\", \"KRW-DOGE\"]\n",
    "\n",
    "# ✅ 모든 코인 데이터 가져오기\n",
    "all_data = {}\n",
    "for coin in coins:\n",
    "    all_data[coin] = get_upbit_data(coin, count=1000)\n",
    "    time.sleep(0.5)  # API 요청 간격 조정\n",
    "\n",
    "# ✅ 데이터프레임 병합 (timestamp 기준)\n",
    "df = all_data[\"KRW-SHIB\"]\n",
    "for coin in coins[1:]:\n",
    "    df = df.merge(all_data[coin], on=\"timestamp\", suffixes=(\"\", f\"_{coin.split('-')[1]}\"))\n",
    "\n",
    "# ✅ CSV 저장\n",
    "df.to_csv(\"data/upbit_shib_5m.csv\", index=False)\n",
    "print(\"✅ 데이터 저장 완료!\")\n"
   ]
  },
  {
   "cell_type": "code",
   "execution_count": 21,
   "id": "93371ece-bd2a-4abf-b90e-47d3449555ce",
   "metadata": {},
   "outputs": [
    {
     "name": "stdout",
     "output_type": "stream",
     "text": [
      "<class 'pandas.core.frame.DataFrame'>\n",
      "RangeIndex: 200 entries, 0 to 199\n",
      "Data columns (total 26 columns):\n",
      " #   Column       Non-Null Count  Dtype         \n",
      "---  ------       --------------  -----         \n",
      " 0   timestamp    200 non-null    datetime64[ns]\n",
      " 1   open         200 non-null    float64       \n",
      " 2   high         200 non-null    float64       \n",
      " 3   low          200 non-null    float64       \n",
      " 4   close        200 non-null    float64       \n",
      " 5   volume       200 non-null    float64       \n",
      " 6   open_BTC     200 non-null    float64       \n",
      " 7   high_BTC     200 non-null    float64       \n",
      " 8   low_BTC      200 non-null    float64       \n",
      " 9   close_BTC    200 non-null    float64       \n",
      " 10  volume_BTC   200 non-null    float64       \n",
      " 11  open_ETH     200 non-null    float64       \n",
      " 12  high_ETH     200 non-null    float64       \n",
      " 13  low_ETH      200 non-null    float64       \n",
      " 14  close_ETH    200 non-null    float64       \n",
      " 15  volume_ETH   200 non-null    float64       \n",
      " 16  open_XRP     200 non-null    float64       \n",
      " 17  high_XRP     200 non-null    float64       \n",
      " 18  low_XRP      200 non-null    float64       \n",
      " 19  close_XRP    200 non-null    float64       \n",
      " 20  volume_XRP   200 non-null    float64       \n",
      " 21  open_DOGE    200 non-null    float64       \n",
      " 22  high_DOGE    200 non-null    float64       \n",
      " 23  low_DOGE     200 non-null    float64       \n",
      " 24  close_DOGE   200 non-null    float64       \n",
      " 25  volume_DOGE  200 non-null    float64       \n",
      "dtypes: datetime64[ns](1), float64(25)\n",
      "memory usage: 40.8 KB\n"
     ]
    }
   ],
   "source": [
    "df.info()"
   ]
  },
  {
   "cell_type": "code",
   "execution_count": 23,
   "id": "c8c42fc2-81b9-4138-8f50-8b6ce9909864",
   "metadata": {},
   "outputs": [],
   "source": [
    "import pandas as pd\n",
    "import numpy as np\n",
    "from sklearn.preprocessing import StandardScaler\n",
    "\n",
    "# ✅ 📌 데이터 로드 (업비트에서 가져온 CSV 파일 사용)\n",
    "df = pd.read_csv(\"data/upbit_shib_5m.csv\")\n",
    "df[\"timestamp\"] = pd.to_datetime(df[\"timestamp\"])\n",
    "\n",
    "# ✅ 📌 새로운 특성 추가 (거래량 변화율 및 이동 평균)\n",
    "df[\"volume_change\"] = df[\"volume\"].pct_change().fillna(0)  # 거래량 변화율\n",
    "df[\"volume_ma5\"] = df[\"volume\"].rolling(window=5).mean().fillna(0)  # 5개 평균 거래량\n",
    "df[\"volume_ma10\"] = df[\"volume\"].rolling(window=10).mean().fillna(0)  # 10개 평균 거래량\n",
    "\n",
    "# ✅ 📌 학습에 사용할 특성 선택\n",
    "features = [\"open\", \"high\", \"low\", \"close\", \"volume\", \"volume_change\", \"volume_ma5\", \"volume_ma10\"]\n",
    "scaler = StandardScaler()\n",
    "scaled_data = scaler.fit_transform(df[features])\n",
    "\n",
    "# ✅ 📌 시퀀스 데이터 생성 함수\n",
    "SEQ_LENGTH = 100  # 과거 100개의 데이터 사용 (약 8시간)\n",
    "def create_sequences(data, seq_length):\n",
    "    X, y = [], []\n",
    "    for i in range(len(data) - seq_length - 10):  # 10개 시점까지 예측\n",
    "        X.append(data[i:i+seq_length])\n",
    "        y.append(data[i+seq_length:i+seq_length+10, 3])  # Close 가격 10개 예측\n",
    "    return np.array(X), np.array(y)\n",
    "\n",
    "# ✅ 📌 시퀀스 데이터 생성\n",
    "X, y = create_sequences(scaled_data, SEQ_LENGTH)\n",
    "\n",
    "# ✅ 📌 훈련, 검증, 테스트 분할\n",
    "train_size = int(len(X) * 0.8)\n",
    "val_size = int(len(X) * 0.1)\n",
    "\n",
    "X_train, y_train = X[:train_size], y[:train_size]\n",
    "X_val, y_val = X[train_size:train_size + val_size], y[train_size:train_size + val_size]\n",
    "X_test, y_test = X[train_size + val_size:], y[train_size + val_size:]\n"
   ]
  },
  {
   "cell_type": "code",
   "execution_count": 25,
   "id": "3f2501dd-b94d-4238-a7a9-6313c51365a0",
   "metadata": {},
   "outputs": [
    {
     "name": "stdout",
     "output_type": "stream",
     "text": [
      "Epoch 1/50\n"
     ]
    },
    {
     "name": "stderr",
     "output_type": "stream",
     "text": [
      "C:\\Users\\kj\\anaconda3\\Lib\\site-packages\\keras\\src\\layers\\rnn\\rnn.py:200: UserWarning: Do not pass an `input_shape`/`input_dim` argument to a layer. When using Sequential models, prefer using an `Input(shape)` object as the first layer in the model instead.\n",
      "  super().__init__(**kwargs)\n"
     ]
    },
    {
     "name": "stdout",
     "output_type": "stream",
     "text": [
      "\u001b[1m2/2\u001b[0m \u001b[32m━━━━━━━━━━━━━━━━━━━━\u001b[0m\u001b[37m\u001b[0m \u001b[1m0s\u001b[0m 80ms/step - loss: 0.6035 - mae: 0.5275"
     ]
    },
    {
     "name": "stderr",
     "output_type": "stream",
     "text": [
      "WARNING:absl:You are saving your model as an HDF5 file via `model.save()` or `keras.saving.save_model(model)`. This file format is considered legacy. We recommend using instead the native Keras format, e.g. `model.save('my_model.keras')` or `keras.saving.save_model(model, 'my_model.keras')`. \n"
     ]
    },
    {
     "name": "stdout",
     "output_type": "stream",
     "text": [
      "\u001b[1m2/2\u001b[0m \u001b[32m━━━━━━━━━━━━━━━━━━━━\u001b[0m\u001b[37m\u001b[0m \u001b[1m5s\u001b[0m 721ms/step - loss: 0.5992 - mae: 0.5238 - val_loss: 3.0059 - val_mae: 1.7284\n",
      "Epoch 2/50\n",
      "\u001b[1m2/2\u001b[0m \u001b[32m━━━━━━━━━━━━━━━━━━━━\u001b[0m\u001b[37m\u001b[0m \u001b[1m0s\u001b[0m 79ms/step - loss: 0.5186 - mae: 0.4913 "
     ]
    },
    {
     "name": "stderr",
     "output_type": "stream",
     "text": [
      "WARNING:absl:You are saving your model as an HDF5 file via `model.save()` or `keras.saving.save_model(model)`. This file format is considered legacy. We recommend using instead the native Keras format, e.g. `model.save('my_model.keras')` or `keras.saving.save_model(model, 'my_model.keras')`. \n"
     ]
    },
    {
     "name": "stdout",
     "output_type": "stream",
     "text": [
      "\u001b[1m2/2\u001b[0m \u001b[32m━━━━━━━━━━━━━━━━━━━━\u001b[0m\u001b[37m\u001b[0m \u001b[1m0s\u001b[0m 211ms/step - loss: 0.5135 - mae: 0.4888 - val_loss: 2.1945 - val_mae: 1.4660\n",
      "Epoch 3/50\n",
      "\u001b[1m2/2\u001b[0m \u001b[32m━━━━━━━━━━━━━━━━━━━━\u001b[0m\u001b[37m\u001b[0m \u001b[1m0s\u001b[0m 75ms/step - loss: 0.4018 - mae: 0.4446 "
     ]
    },
    {
     "name": "stderr",
     "output_type": "stream",
     "text": [
      "WARNING:absl:You are saving your model as an HDF5 file via `model.save()` or `keras.saving.save_model(model)`. This file format is considered legacy. We recommend using instead the native Keras format, e.g. `model.save('my_model.keras')` or `keras.saving.save_model(model, 'my_model.keras')`. \n"
     ]
    },
    {
     "name": "stdout",
     "output_type": "stream",
     "text": [
      "\u001b[1m2/2\u001b[0m \u001b[32m━━━━━━━━━━━━━━━━━━━━\u001b[0m\u001b[37m\u001b[0m \u001b[1m0s\u001b[0m 212ms/step - loss: 0.3982 - mae: 0.4435 - val_loss: 1.4084 - val_mae: 1.1461\n",
      "Epoch 4/50\n",
      "\u001b[1m2/2\u001b[0m \u001b[32m━━━━━━━━━━━━━━━━━━━━\u001b[0m\u001b[37m\u001b[0m \u001b[1m0s\u001b[0m 86ms/step - loss: 0.2623 - mae: 0.3690 "
     ]
    },
    {
     "name": "stderr",
     "output_type": "stream",
     "text": [
      "WARNING:absl:You are saving your model as an HDF5 file via `model.save()` or `keras.saving.save_model(model)`. This file format is considered legacy. We recommend using instead the native Keras format, e.g. `model.save('my_model.keras')` or `keras.saving.save_model(model, 'my_model.keras')`. \n"
     ]
    },
    {
     "name": "stdout",
     "output_type": "stream",
     "text": [
      "\u001b[1m2/2\u001b[0m \u001b[32m━━━━━━━━━━━━━━━━━━━━\u001b[0m\u001b[37m\u001b[0m \u001b[1m0s\u001b[0m 223ms/step - loss: 0.2624 - mae: 0.3680 - val_loss: 0.8697 - val_mae: 0.8449\n",
      "Epoch 5/50\n",
      "\u001b[1m2/2\u001b[0m \u001b[32m━━━━━━━━━━━━━━━━━━━━\u001b[0m\u001b[37m\u001b[0m \u001b[1m0s\u001b[0m 82ms/step - loss: 0.1700 - mae: 0.2811 "
     ]
    },
    {
     "name": "stderr",
     "output_type": "stream",
     "text": [
      "WARNING:absl:You are saving your model as an HDF5 file via `model.save()` or `keras.saving.save_model(model)`. This file format is considered legacy. We recommend using instead the native Keras format, e.g. `model.save('my_model.keras')` or `keras.saving.save_model(model, 'my_model.keras')`. \n"
     ]
    },
    {
     "name": "stdout",
     "output_type": "stream",
     "text": [
      "\u001b[1m2/2\u001b[0m \u001b[32m━━━━━━━━━━━━━━━━━━━━\u001b[0m\u001b[37m\u001b[0m \u001b[1m0s\u001b[0m 222ms/step - loss: 0.1675 - mae: 0.2783 - val_loss: 0.5654 - val_mae: 0.6560\n",
      "Epoch 6/50\n",
      "\u001b[1m2/2\u001b[0m \u001b[32m━━━━━━━━━━━━━━━━━━━━\u001b[0m\u001b[37m\u001b[0m \u001b[1m0s\u001b[0m 89ms/step - loss: 0.1076 - mae: 0.2293 "
     ]
    },
    {
     "name": "stderr",
     "output_type": "stream",
     "text": [
      "WARNING:absl:You are saving your model as an HDF5 file via `model.save()` or `keras.saving.save_model(model)`. This file format is considered legacy. We recommend using instead the native Keras format, e.g. `model.save('my_model.keras')` or `keras.saving.save_model(model, 'my_model.keras')`. \n"
     ]
    },
    {
     "name": "stdout",
     "output_type": "stream",
     "text": [
      "\u001b[1m2/2\u001b[0m \u001b[32m━━━━━━━━━━━━━━━━━━━━\u001b[0m\u001b[37m\u001b[0m \u001b[1m0s\u001b[0m 227ms/step - loss: 0.1088 - mae: 0.2310 - val_loss: 0.4199 - val_mae: 0.5526\n",
      "Epoch 7/50\n",
      "\u001b[1m2/2\u001b[0m \u001b[32m━━━━━━━━━━━━━━━━━━━━\u001b[0m\u001b[37m\u001b[0m \u001b[1m0s\u001b[0m 85ms/step - loss: 0.1206 - mae: 0.2519 "
     ]
    },
    {
     "name": "stderr",
     "output_type": "stream",
     "text": [
      "WARNING:absl:You are saving your model as an HDF5 file via `model.save()` or `keras.saving.save_model(model)`. This file format is considered legacy. We recommend using instead the native Keras format, e.g. `model.save('my_model.keras')` or `keras.saving.save_model(model, 'my_model.keras')`. \n"
     ]
    },
    {
     "name": "stdout",
     "output_type": "stream",
     "text": [
      "\u001b[1m2/2\u001b[0m \u001b[32m━━━━━━━━━━━━━━━━━━━━\u001b[0m\u001b[37m\u001b[0m \u001b[1m0s\u001b[0m 227ms/step - loss: 0.1187 - mae: 0.2497 - val_loss: 0.3816 - val_mae: 0.5176\n",
      "Epoch 8/50\n",
      "\u001b[1m2/2\u001b[0m \u001b[32m━━━━━━━━━━━━━━━━━━━━\u001b[0m\u001b[37m\u001b[0m \u001b[1m0s\u001b[0m 164ms/step - loss: 0.0989 - mae: 0.2374 - val_loss: 0.3918 - val_mae: 0.5070\n",
      "Epoch 9/50\n",
      "\u001b[1m2/2\u001b[0m \u001b[32m━━━━━━━━━━━━━━━━━━━━\u001b[0m\u001b[37m\u001b[0m \u001b[1m0s\u001b[0m 179ms/step - loss: 0.0833 - mae: 0.2072 - val_loss: 0.4218 - val_mae: 0.5425\n",
      "Epoch 10/50\n",
      "\u001b[1m2/2\u001b[0m \u001b[32m━━━━━━━━━━━━━━━━━━━━\u001b[0m\u001b[37m\u001b[0m \u001b[1m0s\u001b[0m 180ms/step - loss: 0.0789 - mae: 0.2083 - val_loss: 0.4037 - val_mae: 0.5426\n",
      "Epoch 11/50\n",
      "\u001b[1m2/2\u001b[0m \u001b[32m━━━━━━━━━━━━━━━━━━━━\u001b[0m\u001b[37m\u001b[0m \u001b[1m0s\u001b[0m 76ms/step - loss: 0.0718 - mae: 0.2006 "
     ]
    },
    {
     "name": "stderr",
     "output_type": "stream",
     "text": [
      "WARNING:absl:You are saving your model as an HDF5 file via `model.save()` or `keras.saving.save_model(model)`. This file format is considered legacy. We recommend using instead the native Keras format, e.g. `model.save('my_model.keras')` or `keras.saving.save_model(model, 'my_model.keras')`. \n"
     ]
    },
    {
     "name": "stdout",
     "output_type": "stream",
     "text": [
      "\u001b[1m2/2\u001b[0m \u001b[32m━━━━━━━━━━━━━━━━━━━━\u001b[0m\u001b[37m\u001b[0m \u001b[1m0s\u001b[0m 224ms/step - loss: 0.0718 - mae: 0.2006 - val_loss: 0.3231 - val_mae: 0.4849\n",
      "Epoch 12/50\n",
      "\u001b[1m2/2\u001b[0m \u001b[32m━━━━━━━━━━━━━━━━━━━━\u001b[0m\u001b[37m\u001b[0m \u001b[1m0s\u001b[0m 84ms/step - loss: 0.0717 - mae: 0.1998 "
     ]
    },
    {
     "name": "stderr",
     "output_type": "stream",
     "text": [
      "WARNING:absl:You are saving your model as an HDF5 file via `model.save()` or `keras.saving.save_model(model)`. This file format is considered legacy. We recommend using instead the native Keras format, e.g. `model.save('my_model.keras')` or `keras.saving.save_model(model, 'my_model.keras')`. \n"
     ]
    },
    {
     "name": "stdout",
     "output_type": "stream",
     "text": [
      "\u001b[1m2/2\u001b[0m \u001b[32m━━━━━━━━━━━━━━━━━━━━\u001b[0m\u001b[37m\u001b[0m \u001b[1m0s\u001b[0m 221ms/step - loss: 0.0709 - mae: 0.1987 - val_loss: 0.2616 - val_mae: 0.4399\n",
      "Epoch 13/50\n",
      "\u001b[1m2/2\u001b[0m \u001b[32m━━━━━━━━━━━━━━━━━━━━\u001b[0m\u001b[37m\u001b[0m \u001b[1m0s\u001b[0m 87ms/step - loss: 0.0626 - mae: 0.1891 "
     ]
    },
    {
     "name": "stderr",
     "output_type": "stream",
     "text": [
      "WARNING:absl:You are saving your model as an HDF5 file via `model.save()` or `keras.saving.save_model(model)`. This file format is considered legacy. We recommend using instead the native Keras format, e.g. `model.save('my_model.keras')` or `keras.saving.save_model(model, 'my_model.keras')`. \n"
     ]
    },
    {
     "name": "stdout",
     "output_type": "stream",
     "text": [
      "\u001b[1m2/2\u001b[0m \u001b[32m━━━━━━━━━━━━━━━━━━━━\u001b[0m\u001b[37m\u001b[0m \u001b[1m0s\u001b[0m 218ms/step - loss: 0.0629 - mae: 0.1893 - val_loss: 0.2576 - val_mae: 0.4409\n",
      "Epoch 14/50\n",
      "\u001b[1m2/2\u001b[0m \u001b[32m━━━━━━━━━━━━━━━━━━━━\u001b[0m\u001b[37m\u001b[0m \u001b[1m0s\u001b[0m 86ms/step - loss: 0.0621 - mae: 0.1905 "
     ]
    },
    {
     "name": "stderr",
     "output_type": "stream",
     "text": [
      "WARNING:absl:You are saving your model as an HDF5 file via `model.save()` or `keras.saving.save_model(model)`. This file format is considered legacy. We recommend using instead the native Keras format, e.g. `model.save('my_model.keras')` or `keras.saving.save_model(model, 'my_model.keras')`. \n"
     ]
    },
    {
     "name": "stdout",
     "output_type": "stream",
     "text": [
      "\u001b[1m2/2\u001b[0m \u001b[32m━━━━━━━━━━━━━━━━━━━━\u001b[0m\u001b[37m\u001b[0m \u001b[1m0s\u001b[0m 213ms/step - loss: 0.0639 - mae: 0.1927 - val_loss: 0.2560 - val_mae: 0.4494\n",
      "Epoch 15/50\n",
      "\u001b[1m2/2\u001b[0m \u001b[32m━━━━━━━━━━━━━━━━━━━━\u001b[0m\u001b[37m\u001b[0m \u001b[1m0s\u001b[0m 86ms/step - loss: 0.0594 - mae: 0.1857 "
     ]
    },
    {
     "name": "stderr",
     "output_type": "stream",
     "text": [
      "WARNING:absl:You are saving your model as an HDF5 file via `model.save()` or `keras.saving.save_model(model)`. This file format is considered legacy. We recommend using instead the native Keras format, e.g. `model.save('my_model.keras')` or `keras.saving.save_model(model, 'my_model.keras')`. \n"
     ]
    },
    {
     "name": "stdout",
     "output_type": "stream",
     "text": [
      "\u001b[1m2/2\u001b[0m \u001b[32m━━━━━━━━━━━━━━━━━━━━\u001b[0m\u001b[37m\u001b[0m \u001b[1m0s\u001b[0m 223ms/step - loss: 0.0589 - mae: 0.1849 - val_loss: 0.2152 - val_mae: 0.4126\n",
      "Epoch 16/50\n",
      "\u001b[1m2/2\u001b[0m \u001b[32m━━━━━━━━━━━━━━━━━━━━\u001b[0m\u001b[37m\u001b[0m \u001b[1m0s\u001b[0m 74ms/step - loss: 0.0511 - mae: 0.1767 "
     ]
    },
    {
     "name": "stderr",
     "output_type": "stream",
     "text": [
      "WARNING:absl:You are saving your model as an HDF5 file via `model.save()` or `keras.saving.save_model(model)`. This file format is considered legacy. We recommend using instead the native Keras format, e.g. `model.save('my_model.keras')` or `keras.saving.save_model(model, 'my_model.keras')`. \n"
     ]
    },
    {
     "name": "stdout",
     "output_type": "stream",
     "text": [
      "\u001b[1m2/2\u001b[0m \u001b[32m━━━━━━━━━━━━━━━━━━━━\u001b[0m\u001b[37m\u001b[0m \u001b[1m1s\u001b[0m 264ms/step - loss: 0.0509 - mae: 0.1763 - val_loss: 0.1850 - val_mae: 0.3815\n",
      "Epoch 17/50\n",
      "\u001b[1m2/2\u001b[0m \u001b[32m━━━━━━━━━━━━━━━━━━━━\u001b[0m\u001b[37m\u001b[0m \u001b[1m0s\u001b[0m 80ms/step - loss: 0.0584 - mae: 0.1813 "
     ]
    },
    {
     "name": "stderr",
     "output_type": "stream",
     "text": [
      "WARNING:absl:You are saving your model as an HDF5 file via `model.save()` or `keras.saving.save_model(model)`. This file format is considered legacy. We recommend using instead the native Keras format, e.g. `model.save('my_model.keras')` or `keras.saving.save_model(model, 'my_model.keras')`. \n"
     ]
    },
    {
     "name": "stdout",
     "output_type": "stream",
     "text": [
      "\u001b[1m2/2\u001b[0m \u001b[32m━━━━━━━━━━━━━━━━━━━━\u001b[0m\u001b[37m\u001b[0m \u001b[1m0s\u001b[0m 213ms/step - loss: 0.0586 - mae: 0.1817 - val_loss: 0.1739 - val_mae: 0.3681\n",
      "Epoch 18/50\n",
      "\u001b[1m2/2\u001b[0m \u001b[32m━━━━━━━━━━━━━━━━━━━━\u001b[0m\u001b[37m\u001b[0m \u001b[1m0s\u001b[0m 77ms/step - loss: 0.0439 - mae: 0.1619 "
     ]
    },
    {
     "name": "stderr",
     "output_type": "stream",
     "text": [
      "WARNING:absl:You are saving your model as an HDF5 file via `model.save()` or `keras.saving.save_model(model)`. This file format is considered legacy. We recommend using instead the native Keras format, e.g. `model.save('my_model.keras')` or `keras.saving.save_model(model, 'my_model.keras')`. \n"
     ]
    },
    {
     "name": "stdout",
     "output_type": "stream",
     "text": [
      "\u001b[1m2/2\u001b[0m \u001b[32m━━━━━━━━━━━━━━━━━━━━\u001b[0m\u001b[37m\u001b[0m \u001b[1m0s\u001b[0m 218ms/step - loss: 0.0442 - mae: 0.1625 - val_loss: 0.1655 - val_mae: 0.3526\n",
      "Epoch 19/50\n",
      "\u001b[1m2/2\u001b[0m \u001b[32m━━━━━━━━━━━━━━━━━━━━\u001b[0m\u001b[37m\u001b[0m \u001b[1m0s\u001b[0m 83ms/step - loss: 0.0459 - mae: 0.1623 "
     ]
    },
    {
     "name": "stderr",
     "output_type": "stream",
     "text": [
      "WARNING:absl:You are saving your model as an HDF5 file via `model.save()` or `keras.saving.save_model(model)`. This file format is considered legacy. We recommend using instead the native Keras format, e.g. `model.save('my_model.keras')` or `keras.saving.save_model(model, 'my_model.keras')`. \n"
     ]
    },
    {
     "name": "stdout",
     "output_type": "stream",
     "text": [
      "\u001b[1m2/2\u001b[0m \u001b[32m━━━━━━━━━━━━━━━━━━━━\u001b[0m\u001b[37m\u001b[0m \u001b[1m0s\u001b[0m 248ms/step - loss: 0.0460 - mae: 0.1625 - val_loss: 0.1504 - val_mae: 0.3239\n",
      "Epoch 20/50\n",
      "\u001b[1m2/2\u001b[0m \u001b[32m━━━━━━━━━━━━━━━━━━━━\u001b[0m\u001b[37m\u001b[0m \u001b[1m0s\u001b[0m 80ms/step - loss: 0.0424 - mae: 0.1568 "
     ]
    },
    {
     "name": "stderr",
     "output_type": "stream",
     "text": [
      "WARNING:absl:You are saving your model as an HDF5 file via `model.save()` or `keras.saving.save_model(model)`. This file format is considered legacy. We recommend using instead the native Keras format, e.g. `model.save('my_model.keras')` or `keras.saving.save_model(model, 'my_model.keras')`. \n"
     ]
    },
    {
     "name": "stdout",
     "output_type": "stream",
     "text": [
      "\u001b[1m2/2\u001b[0m \u001b[32m━━━━━━━━━━━━━━━━━━━━\u001b[0m\u001b[37m\u001b[0m \u001b[1m0s\u001b[0m 212ms/step - loss: 0.0433 - mae: 0.1582 - val_loss: 0.1291 - val_mae: 0.2953\n",
      "Epoch 21/50\n",
      "\u001b[1m2/2\u001b[0m \u001b[32m━━━━━━━━━━━━━━━━━━━━\u001b[0m\u001b[37m\u001b[0m \u001b[1m0s\u001b[0m 88ms/step - loss: 0.0407 - mae: 0.1577 "
     ]
    },
    {
     "name": "stderr",
     "output_type": "stream",
     "text": [
      "WARNING:absl:You are saving your model as an HDF5 file via `model.save()` or `keras.saving.save_model(model)`. This file format is considered legacy. We recommend using instead the native Keras format, e.g. `model.save('my_model.keras')` or `keras.saving.save_model(model, 'my_model.keras')`. \n"
     ]
    },
    {
     "name": "stdout",
     "output_type": "stream",
     "text": [
      "\u001b[1m2/2\u001b[0m \u001b[32m━━━━━━━━━━━━━━━━━━━━\u001b[0m\u001b[37m\u001b[0m \u001b[1m0s\u001b[0m 225ms/step - loss: 0.0403 - mae: 0.1570 - val_loss: 0.1184 - val_mae: 0.2792\n",
      "Epoch 22/50\n",
      "\u001b[1m2/2\u001b[0m \u001b[32m━━━━━━━━━━━━━━━━━━━━\u001b[0m\u001b[37m\u001b[0m \u001b[1m0s\u001b[0m 83ms/step - loss: 0.0424 - mae: 0.1567 "
     ]
    },
    {
     "name": "stderr",
     "output_type": "stream",
     "text": [
      "WARNING:absl:You are saving your model as an HDF5 file via `model.save()` or `keras.saving.save_model(model)`. This file format is considered legacy. We recommend using instead the native Keras format, e.g. `model.save('my_model.keras')` or `keras.saving.save_model(model, 'my_model.keras')`. \n"
     ]
    },
    {
     "name": "stdout",
     "output_type": "stream",
     "text": [
      "\u001b[1m2/2\u001b[0m \u001b[32m━━━━━━━━━━━━━━━━━━━━\u001b[0m\u001b[37m\u001b[0m \u001b[1m0s\u001b[0m 227ms/step - loss: 0.0423 - mae: 0.1567 - val_loss: 0.0986 - val_mae: 0.2549\n",
      "Epoch 23/50\n",
      "\u001b[1m2/2\u001b[0m \u001b[32m━━━━━━━━━━━━━━━━━━━━\u001b[0m\u001b[37m\u001b[0m \u001b[1m0s\u001b[0m 73ms/step - loss: 0.0505 - mae: 0.1696 "
     ]
    },
    {
     "name": "stderr",
     "output_type": "stream",
     "text": [
      "WARNING:absl:You are saving your model as an HDF5 file via `model.save()` or `keras.saving.save_model(model)`. This file format is considered legacy. We recommend using instead the native Keras format, e.g. `model.save('my_model.keras')` or `keras.saving.save_model(model, 'my_model.keras')`. \n"
     ]
    },
    {
     "name": "stdout",
     "output_type": "stream",
     "text": [
      "\u001b[1m2/2\u001b[0m \u001b[32m━━━━━━━━━━━━━━━━━━━━\u001b[0m\u001b[37m\u001b[0m \u001b[1m0s\u001b[0m 200ms/step - loss: 0.0504 - mae: 0.1694 - val_loss: 0.0763 - val_mae: 0.2337\n",
      "Epoch 24/50\n",
      "\u001b[1m2/2\u001b[0m \u001b[32m━━━━━━━━━━━━━━━━━━━━\u001b[0m\u001b[37m\u001b[0m \u001b[1m0s\u001b[0m 75ms/step - loss: 0.0389 - mae: 0.1501 "
     ]
    },
    {
     "name": "stderr",
     "output_type": "stream",
     "text": [
      "WARNING:absl:You are saving your model as an HDF5 file via `model.save()` or `keras.saving.save_model(model)`. This file format is considered legacy. We recommend using instead the native Keras format, e.g. `model.save('my_model.keras')` or `keras.saving.save_model(model, 'my_model.keras')`. \n"
     ]
    },
    {
     "name": "stdout",
     "output_type": "stream",
     "text": [
      "\u001b[1m2/2\u001b[0m \u001b[32m━━━━━━━━━━━━━━━━━━━━\u001b[0m\u001b[37m\u001b[0m \u001b[1m0s\u001b[0m 216ms/step - loss: 0.0386 - mae: 0.1492 - val_loss: 0.0712 - val_mae: 0.2245\n",
      "Epoch 25/50\n",
      "\u001b[1m2/2\u001b[0m \u001b[32m━━━━━━━━━━━━━━━━━━━━\u001b[0m\u001b[37m\u001b[0m \u001b[1m0s\u001b[0m 158ms/step - loss: 0.0371 - mae: 0.1482 - val_loss: 0.0745 - val_mae: 0.2245\n",
      "Epoch 26/50\n",
      "\u001b[1m2/2\u001b[0m \u001b[32m━━━━━━━━━━━━━━━━━━━━\u001b[0m\u001b[37m\u001b[0m \u001b[1m0s\u001b[0m 186ms/step - loss: 0.0342 - mae: 0.1421 - val_loss: 0.0800 - val_mae: 0.2315\n",
      "Epoch 27/50\n",
      "\u001b[1m2/2\u001b[0m \u001b[32m━━━━━━━━━━━━━━━━━━━━\u001b[0m\u001b[37m\u001b[0m \u001b[1m0s\u001b[0m 188ms/step - loss: 0.0356 - mae: 0.1433 - val_loss: 0.0870 - val_mae: 0.2374\n",
      "Epoch 28/50\n",
      "\u001b[1m2/2\u001b[0m \u001b[32m━━━━━━━━━━━━━━━━━━━━\u001b[0m\u001b[37m\u001b[0m \u001b[1m0s\u001b[0m 174ms/step - loss: 0.0312 - mae: 0.1382 - val_loss: 0.1001 - val_mae: 0.2395\n",
      "Epoch 29/50\n",
      "\u001b[1m2/2\u001b[0m \u001b[32m━━━━━━━━━━━━━━━━━━━━\u001b[0m\u001b[37m\u001b[0m \u001b[1m0s\u001b[0m 162ms/step - loss: 0.0333 - mae: 0.1417 - val_loss: 0.1081 - val_mae: 0.2426\n",
      "Epoch 30/50\n",
      "\u001b[1m2/2\u001b[0m \u001b[32m━━━━━━━━━━━━━━━━━━━━\u001b[0m\u001b[37m\u001b[0m \u001b[1m0s\u001b[0m 191ms/step - loss: 0.0302 - mae: 0.1343 - val_loss: 0.0914 - val_mae: 0.2307\n",
      "Epoch 31/50\n",
      "\u001b[1m2/2\u001b[0m \u001b[32m━━━━━━━━━━━━━━━━━━━━\u001b[0m\u001b[37m\u001b[0m \u001b[1m0s\u001b[0m 169ms/step - loss: 0.0336 - mae: 0.1374 - val_loss: 0.0784 - val_mae: 0.2330\n",
      "Epoch 32/50\n",
      "\u001b[1m2/2\u001b[0m \u001b[32m━━━━━━━━━━━━━━━━━━━━\u001b[0m\u001b[37m\u001b[0m \u001b[1m0s\u001b[0m 189ms/step - loss: 0.0376 - mae: 0.1470 - val_loss: 0.0736 - val_mae: 0.2244\n",
      "Epoch 33/50\n",
      "\u001b[1m2/2\u001b[0m \u001b[32m━━━━━━━━━━━━━━━━━━━━\u001b[0m\u001b[37m\u001b[0m \u001b[1m0s\u001b[0m 182ms/step - loss: 0.0299 - mae: 0.1324 - val_loss: 0.0734 - val_mae: 0.2216\n",
      "Epoch 34/50\n",
      "\u001b[1m2/2\u001b[0m \u001b[32m━━━━━━━━━━━━━━━━━━━━\u001b[0m\u001b[37m\u001b[0m \u001b[1m0s\u001b[0m 177ms/step - loss: 0.0303 - mae: 0.1346 - val_loss: 0.0784 - val_mae: 0.2278\n"
     ]
    }
   ],
   "source": [
    "import tensorflow as tf\n",
    "from tensorflow.keras.models import Sequential\n",
    "from tensorflow.keras.layers import LSTM, Dense, Dropout\n",
    "\n",
    "# ✅ 📌 모델 정의\n",
    "model = Sequential([\n",
    "    LSTM(128, return_sequences=True, input_shape=(SEQ_LENGTH, len(features))),\n",
    "    Dropout(0.2),\n",
    "    LSTM(128, return_sequences=True),\n",
    "    Dropout(0.2),\n",
    "    LSTM(64, return_sequences=False),\n",
    "    Dropout(0.2),\n",
    "    Dense(32, activation=\"relu\"),\n",
    "    Dense(10)  # 10개의 미래 예측\n",
    "])\n",
    "\n",
    "# ✅ 📌 모델 컴파일 및 학습\n",
    "model.compile(optimizer=\"adam\", loss=\"mse\", metrics=[\"mae\"])\n",
    "\n",
    "# ✅ 📌 체크포인트 및 얼리 스토핑\n",
    "checkpoint_cb = tf.keras.callbacks.ModelCheckpoint(\"crypto_model.h5\", save_best_only=True)\n",
    "early_stopping_cb = tf.keras.callbacks.EarlyStopping(patience=10, restore_best_weights=True)\n",
    "\n",
    "# ✅ 📌 모델 학습\n",
    "history = model.fit(\n",
    "    X_train, y_train,\n",
    "    validation_data=(X_val, y_val),\n",
    "    epochs=50, batch_size=64,\n",
    "    callbacks=[checkpoint_cb, early_stopping_cb]\n",
    ")\n"
   ]
  },
  {
   "cell_type": "code",
   "execution_count": 39,
   "id": "7ae3d89a-3072-49b5-9a61-689e0abff0f4",
   "metadata": {},
   "outputs": [
    {
     "data": {
      "image/png": "[encoded data removed]",
      "text/plain": [
       "<Figure size 600x400 with 1 Axes>"
      ]
     },
     "metadata": {},
     "output_type": "display_data"
    }
   ],
   "source": [
    "import matplotlib.pyplot as plt\n",
    "\n",
    "# ✅ 📌 학습 과정 그래프\n",
    "plt.figure(figsize=(6, 4))\n",
    "plt.plot(history.history['loss'], label='Train Loss', color='blue')\n",
    "plt.plot(history.history['val_loss'], label='Validation Loss', color='red')\n",
    "\n",
    "plt.xlabel('Epochs')\n",
    "plt.ylabel('Loss (MSE)')\n",
    "plt.legend()\n",
    "plt.title('Training & Validation Loss Over Epochs')\n",
    "plt.show()\n"
   ]
  },
  {
   "cell_type": "code",
   "execution_count": 57,
   "id": "dd9dcf8e-ee3d-48ed-9248-6988defd17e3",
   "metadata": {},
   "outputs": [
    {
     "ename": "ValueError",
     "evalue": "operands could not be broadcast together with shapes (9,10) (8,) (9,10) ",
     "output_type": "error",
     "traceback": [
      "\u001b[1;31m---------------------------------------------------------------------------\u001b[0m",
      "\u001b[1;31mValueError\u001b[0m                                Traceback (most recent call last)",
      "Cell \u001b[1;32mIn[57], line 5\u001b[0m\n\u001b[0;32m      2\u001b[0m target_index \u001b[38;5;241m=\u001b[39m \u001b[38;5;241m3\u001b[39m  \u001b[38;5;66;03m# 'close'가 데이터셋에서 3번째 컬럼에 위치한다고 가정\u001b[39;00m\n\u001b[0;32m      4\u001b[0m \u001b[38;5;66;03m# ✅ 📌 실제값 역정규화\u001b[39;00m\n\u001b[1;32m----> 5\u001b[0m y_test_real \u001b[38;5;241m=\u001b[39m scaler\u001b[38;5;241m.\u001b[39minverse_transform(y_test)[:, target_index]\n\u001b[0;32m      7\u001b[0m \u001b[38;5;66;03m# ✅ 📌 예측값을 역정규화 (입력 차원 맞추기)\u001b[39;00m\n\u001b[0;32m      8\u001b[0m y_test_pred_padded \u001b[38;5;241m=\u001b[39m np\u001b[38;5;241m.\u001b[39mzeros((y_test_pred\u001b[38;5;241m.\u001b[39mshape[\u001b[38;5;241m0\u001b[39m], y_test\u001b[38;5;241m.\u001b[39mshape[\u001b[38;5;241m1\u001b[39m]))  \u001b[38;5;66;03m# (N, feature_dim)로 맞춤\u001b[39;00m\n",
      "File \u001b[1;32m~\\anaconda3\\Lib\\site-packages\\sklearn\\preprocessing\\_data.py:1107\u001b[0m, in \u001b[0;36mStandardScaler.inverse_transform\u001b[1;34m(self, X, copy)\u001b[0m\n\u001b[0;32m   1105\u001b[0m \u001b[38;5;28;01melse\u001b[39;00m:\n\u001b[0;32m   1106\u001b[0m     \u001b[38;5;28;01mif\u001b[39;00m \u001b[38;5;28mself\u001b[39m\u001b[38;5;241m.\u001b[39mwith_std:\n\u001b[1;32m-> 1107\u001b[0m         X \u001b[38;5;241m*\u001b[39m\u001b[38;5;241m=\u001b[39m \u001b[38;5;28mself\u001b[39m\u001b[38;5;241m.\u001b[39mscale_\n\u001b[0;32m   1108\u001b[0m     \u001b[38;5;28;01mif\u001b[39;00m \u001b[38;5;28mself\u001b[39m\u001b[38;5;241m.\u001b[39mwith_mean:\n\u001b[0;32m   1109\u001b[0m         X \u001b[38;5;241m+\u001b[39m\u001b[38;5;241m=\u001b[39m \u001b[38;5;28mself\u001b[39m\u001b[38;5;241m.\u001b[39mmean_\n",
      "\u001b[1;31mValueError\u001b[0m: operands could not be broadcast together with shapes (9,10) (8,) (9,10) "
     ]
    }
   ],
   "source": [
    "# ✅ 📌 종가(close price) 예측이므로 해당 인덱스 설정\n",
    "target_index = 3  # 'close'가 데이터셋에서 3번째 컬럼에 위치한다고 가정\n",
    "\n",
    "# ✅ 📌 실제값 역정규화\n",
    "y_test_real = scaler.inverse_transform(y_test)[:, target_index]\n",
    "\n",
    "# ✅ 📌 예측값을 역정규화 (입력 차원 맞추기)\n",
    "y_test_pred_padded = np.zeros((y_test_pred.shape[0], y_test.shape[1]))  # (N, feature_dim)로 맞춤\n",
    "y_test_pred_padded[:, target_index] = y_test_pred[:, 0]  # 종가 위치에 예측값 삽입\n",
    "y_test_pred_real = scaler.inverse_transform(y_test_pred_padded)[:, target_index]  # 종가만 추출\n",
    "\n",
    "# ✅ 📌 차원 확인 (디버깅)\n",
    "print(f\"y_test_real.shape: {y_test_real.shape}\")  # (N,)\n",
    "print(f\"y_test_pred_real.shape: {y_test_pred_real.shape}\")  # (N,)\n",
    "\n",
    "# ✅ 📌 예측값과 실제값 비교 시각화\n",
    "plt.figure(figsize=(12, 6))\n",
    "plt.plot(y_test_real, label='Actual SHIB Prices', color='blue')\n",
    "plt.plot(y_test_pred_real, label='Predicted SHIB Prices', linestyle='dashed', color='red')\n",
    "\n",
    "plt.xlabel('Time Steps')\n",
    "plt.ylabel('SHIB Price (USDT)')\n",
    "plt.legend()\n",
    "plt.title('Actual vs Predicted SHIB Prices')\n",
    "plt.show()\n",
    "\n"
   ]
  },
  {
   "cell_type": "code",
   "execution_count": 55,
   "id": "216a85e4-5e67-4315-bfa7-b2c6fdf0007c",
   "metadata": {},
   "outputs": [
    {
     "name": "stdout",
     "output_type": "stream",
     "text": [
      "y_test.shape: (9, 10)\n",
      "y_test_pred.shape: (9, 10)\n"
     ]
    }
   ],
   "source": [
    "print(f\"y_test.shape: {y_test.shape}\")\n",
    "print(f\"y_test_pred.shape: {y_test_pred.shape}\")\n"
   ]
  },
  {
   "cell_type": "code",
   "execution_count": 59,
   "id": "2a48a4ff-c5cd-4fc3-bb95-08b8b13f390c",
   "metadata": {},
   "outputs": [
    {
     "name": "stdout",
     "output_type": "stream",
     "text": [
      "y_test.shape: (9, 10)\n",
      "y_test_pred.shape: (9, 10)\n"
     ]
    },
    {
     "ename": "AttributeError",
     "evalue": "'StandardScaler' object has no attribute 'data_min_'",
     "output_type": "error",
     "traceback": [
      "\u001b[1;31m---------------------------------------------------------------------------\u001b[0m",
      "\u001b[1;31mAttributeError\u001b[0m                            Traceback (most recent call last)",
      "Cell \u001b[1;32mIn[59], line 3\u001b[0m\n\u001b[0;32m      1\u001b[0m \u001b[38;5;28mprint\u001b[39m(\u001b[38;5;124mf\u001b[39m\u001b[38;5;124m\"\u001b[39m\u001b[38;5;124my_test.shape: \u001b[39m\u001b[38;5;132;01m{\u001b[39;00my_test\u001b[38;5;241m.\u001b[39mshape\u001b[38;5;132;01m}\u001b[39;00m\u001b[38;5;124m\"\u001b[39m)  \u001b[38;5;66;03m# (9, 10)\u001b[39;00m\n\u001b[0;32m      2\u001b[0m \u001b[38;5;28mprint\u001b[39m(\u001b[38;5;124mf\u001b[39m\u001b[38;5;124m\"\u001b[39m\u001b[38;5;124my_test_pred.shape: \u001b[39m\u001b[38;5;132;01m{\u001b[39;00my_test_pred\u001b[38;5;241m.\u001b[39mshape\u001b[38;5;132;01m}\u001b[39;00m\u001b[38;5;124m\"\u001b[39m)  \u001b[38;5;66;03m# (9, 10)\u001b[39;00m\n\u001b[1;32m----> 3\u001b[0m \u001b[38;5;28mprint\u001b[39m(\u001b[38;5;124mf\u001b[39m\u001b[38;5;124m\"\u001b[39m\u001b[38;5;124mscaler.data_min_.shape: \u001b[39m\u001b[38;5;132;01m{\u001b[39;00mscaler\u001b[38;5;241m.\u001b[39mdata_min_\u001b[38;5;241m.\u001b[39mshape\u001b[38;5;132;01m}\u001b[39;00m\u001b[38;5;124m\"\u001b[39m)  \u001b[38;5;66;03m# (feature_dim,)\u001b[39;00m\n\u001b[0;32m      4\u001b[0m \u001b[38;5;28mprint\u001b[39m(\u001b[38;5;124mf\u001b[39m\u001b[38;5;124m\"\u001b[39m\u001b[38;5;124mscaler.data_max_.shape: \u001b[39m\u001b[38;5;132;01m{\u001b[39;00mscaler\u001b[38;5;241m.\u001b[39mdata_max_\u001b[38;5;241m.\u001b[39mshape\u001b[38;5;132;01m}\u001b[39;00m\u001b[38;5;124m\"\u001b[39m)\n",
      "\u001b[1;31mAttributeError\u001b[0m: 'StandardScaler' object has no attribute 'data_min_'"
     ]
    }
   ],
   "source": [
    "print(f\"y_test.shape: {y_test.shape}\")  # (9, 10)\n",
    "print(f\"y_test_pred.shape: {y_test_pred.shape}\")  # (9, 10)\n",
    "print(f\"scaler.data_min_.shape: {scaler.data_min_.shape}\")  # (feature_dim,)\n",
    "print(f\"scaler.data_max_.shape: {scaler.data_max_.shape}\")  # (feature_dim,)\n"
   ]
  },
  {
   "cell_type": "code",
   "execution_count": null,
   "id": "c6a104b8-97e0-4387-9a92-68b7d8a79e54",
   "metadata": {},
   "outputs": [],
   "source": []
  },
  {
   "cell_type": "code",
   "execution_count": null,
   "id": "50317ac0-626e-49f3-8c7a-7a258bb38e78",
   "metadata": {},
   "outputs": [],
   "source": []
  },
  {
   "cell_type": "code",
   "execution_count": null,
   "id": "d2a0becd-3dce-4e1a-aeaf-d5c7136e6147",
   "metadata": {},
   "outputs": [],
   "source": []
  },
  {
   "cell_type": "code",
   "execution_count": null,
   "id": "9e4d2c80-1539-4bc3-98f1-920a4e5f166f",
   "metadata": {},
   "outputs": [],
   "source": []
  },
  {
   "cell_type": "code",
   "execution_count": null,
   "id": "4eae4d40-ae9a-4f2b-8e35-3672ac3e04b6",
   "metadata": {},
   "outputs": [],
   "source": []
  },
  {
   "cell_type": "code",
   "execution_count": 53,
   "id": "1cf65ab6-5f4b-4b73-bf8b-7b155f5de932",
   "metadata": {},
   "outputs": [
    {
     "ename": "ValueError",
     "evalue": "all the input array dimensions except for the concatenation axis must match exactly, but along dimension 2, the array at index 0 has size 8 and the array at index 1 has size 10",
     "output_type": "error",
     "traceback": [
      "\u001b[1;31m---------------------------------------------------------------------------\u001b[0m",
      "\u001b[1;31mValueError\u001b[0m                                Traceback (most recent call last)",
      "Cell \u001b[1;32mIn[53], line 33\u001b[0m\n\u001b[0;32m     31\u001b[0m \u001b[38;5;66;03m# ✅ 📌 5분 단위로 24시간 예측 수행\u001b[39;00m\n\u001b[0;32m     32\u001b[0m num_steps \u001b[38;5;241m=\u001b[39m \u001b[38;5;241m288\u001b[39m  \u001b[38;5;66;03m# 24시간 (5분 단위)\u001b[39;00m\n\u001b[1;32m---> 33\u001b[0m predicted_prices, predicted_prices_krw, future_times \u001b[38;5;241m=\u001b[39m predict_future(model, last_sequence, num_steps)\n\u001b[0;32m     35\u001b[0m \u001b[38;5;66;03m# ✅ 📌 예측 결과 출력\u001b[39;00m\n\u001b[0;32m     36\u001b[0m \u001b[38;5;28;01mfor\u001b[39;00m t, price, price_krw \u001b[38;5;129;01min\u001b[39;00m \u001b[38;5;28mzip\u001b[39m(future_times, predicted_prices, predicted_prices_krw):\n",
      "Cell \u001b[1;32mIn[53], line 18\u001b[0m, in \u001b[0;36mpredict_future\u001b[1;34m(model, last_sequence, num_steps, time_interval, usd_to_krw)\u001b[0m\n\u001b[0;32m     15\u001b[0m     next_pred_reshaped \u001b[38;5;241m=\u001b[39m np\u001b[38;5;241m.\u001b[39mexpand_dims(next_pred[\u001b[38;5;241m0\u001b[39m], axis\u001b[38;5;241m=\u001b[39m\u001b[38;5;241m0\u001b[39m)  \u001b[38;5;66;03m# (1, 10)\u001b[39;00m\n\u001b[0;32m     17\u001b[0m     \u001b[38;5;66;03m# 시퀀스 갱신\u001b[39;00m\n\u001b[1;32m---> 18\u001b[0m     current_sequence \u001b[38;5;241m=\u001b[39m np\u001b[38;5;241m.\u001b[39mconcatenate((current_sequence[:, \u001b[38;5;241m1\u001b[39m:, :], next_pred_reshaped\u001b[38;5;241m.\u001b[39mreshape(\u001b[38;5;241m1\u001b[39m, \u001b[38;5;241m1\u001b[39m, \u001b[38;5;241m-\u001b[39m\u001b[38;5;241m1\u001b[39m)), axis\u001b[38;5;241m=\u001b[39m\u001b[38;5;241m1\u001b[39m)\n\u001b[0;32m     20\u001b[0m \u001b[38;5;66;03m# ✅ 📌 예측값 역정규화\u001b[39;00m\n\u001b[0;32m     21\u001b[0m max_price \u001b[38;5;241m=\u001b[39m scaler\u001b[38;5;241m.\u001b[39mmean_[\u001b[38;5;241m3\u001b[39m]  \u001b[38;5;66;03m# Close 가격의 원래 평균값 사용\u001b[39;00m\n",
      "\u001b[1;31mValueError\u001b[0m: all the input array dimensions except for the concatenation axis must match exactly, but along dimension 2, the array at index 0 has size 8 and the array at index 1 has size 10"
     ]
    }
   ],
   "source": [
    "from datetime import datetime, timedelta\n",
    "import matplotlib.pyplot as plt\n",
    "\n",
    "# ✅ 📌 최신 데이터 가져오기 (마지막 100개)\n",
    "last_sequence = X_test[-1:]  # 마지막 1개 배치 (1, 100, feature_dim)\n",
    "\n",
    "# ✅ 📌 5분 단위 예측 함수\n",
    "def predict_future(model, last_sequence, num_steps=288, time_interval=5, usd_to_krw=1330):\n",
    "    future_preds = []\n",
    "    current_sequence = last_sequence.copy()\n",
    "\n",
    "    for _ in range(num_steps):\n",
    "        next_pred = model.predict(current_sequence, verbose=0)  # (1, 10)\n",
    "        future_preds.append(next_pred[0])  # 10개 예측 저장\n",
    "        next_pred_reshaped = np.expand_dims(next_pred[0], axis=0)  # (1, 10)\n",
    "\n",
    "        # 시퀀스 갱신\n",
    "        current_sequence = np.concatenate((current_sequence[:, 1:, :], next_pred_reshaped.reshape(1, 1, -1)), axis=1)\n",
    "\n",
    "    # ✅ 📌 예측값 역정규화\n",
    "    max_price = scaler.mean_[3]  # Close 가격의 원래 평균값 사용\n",
    "    predicted_prices = np.array(future_preds).flatten() * max_price  # 역변환 수행\n",
    "    predicted_prices_krw = predicted_prices * usd_to_krw  # 원화 변환\n",
    "\n",
    "    # ✅ 📌 미래 시간 생성\n",
    "    start_time = df[\"timestamp\"].iloc[-1]\n",
    "    future_times = [start_time + timedelta(minutes=time_interval * i) for i in range(num_steps)]\n",
    "\n",
    "    return predicted_prices, predicted_prices_krw, future_times\n",
    "\n",
    "# ✅ 📌 5분 단위로 24시간 예측 수행\n",
    "num_steps = 288  # 24시간 (5분 단위)\n",
    "predicted_prices, predicted_prices_krw, future_times = predict_future(model, last_sequence, num_steps)\n",
    "\n",
    "# ✅ 📌 예측 결과 출력\n",
    "for t, price, price_krw in zip(future_times, predicted_prices, predicted_prices_krw):\n",
    "    print(f\"{t.strftime('%Y-%m-%d %H:%M:%S')} - Predicted SHIB Price: {price:.8f} USDT / {price_krw:.4f} KRW\")\n",
    "\n",
    "# ✅ 📌 결과 시각화\n",
    "plt.figure(figsize=(12, 6))\n",
    "plt.plot(future_times, predicted_prices, label=\"Predicted SHIB Price (USDT)\", linestyle=\"dashed\", color=\"red\")\n",
    "plt.plot(future_times, predicted_prices_krw, label=\"Predicted SHIB Price (KRW)\", linestyle=\"dotted\", color=\"blue\")\n",
    "\n",
    "plt.xlabel('Time')\n",
    "plt.ylabel('SHIB Price')\n",
    "plt.xticks(rotation=45)\n",
    "plt.legend()\n",
    "plt.title(f\"SHIB Price Prediction for Next 24 Hours (5-Min Intervals)\")\n",
    "plt.show()\n"
   ]
  },
  {
   "cell_type": "code",
   "execution_count": null,
   "id": "11a6e374-5864-4f84-a774-e0a3325ceca0",
   "metadata": {},
   "outputs": [],
   "source": []
  },
  {
   "cell_type": "code",
   "execution_count": null,
   "id": "817e21ee-ecbe-4d64-8677-4745b34be74e",
   "metadata": {},
   "outputs": [],
   "source": []
  },
  {
   "cell_type": "code",
   "execution_count": null,
   "id": "cb85d428-35aa-4a13-83e2-f4dba3f614c3",
   "metadata": {},
   "outputs": [],
   "source": []
  },
  {
   "cell_type": "code",
   "execution_count": null,
   "id": "8a811139-a4f9-477e-96bb-23a81c380f42",
   "metadata": {},
   "outputs": [],
   "source": []
  },
  {
   "cell_type": "code",
   "execution_count": null,
   "id": "baaeae1c-ff10-4529-9b79-51f39e85ab2d",
   "metadata": {},
   "outputs": [],
   "source": []
  },
  {
   "cell_type": "code",
   "execution_count": null,
   "id": "08783abf-6455-48d0-8596-8897ed130d90",
   "metadata": {},
   "outputs": [],
   "source": []
  },
  {
   "cell_type": "code",
   "execution_count": null,
   "id": "13a46020-831f-4132-80a5-447f0ef40808",
   "metadata": {},
   "outputs": [],
   "source": []
  },
  {
   "cell_type": "code",
   "execution_count": null,
   "id": "e387bb6e-17e8-49da-ab65-60fe577590c3",
   "metadata": {},
   "outputs": [],
   "source": []
  },
  {
   "cell_type": "code",
   "execution_count": null,
   "id": "64ade22d-9287-4995-9b5d-bf44172c7795",
   "metadata": {},
   "outputs": [],
   "source": []
  },
  {
   "cell_type": "code",
   "execution_count": 11,
   "id": "0079ae35-4ee9-4fbd-90bd-a72eeaa987d4",
   "metadata": {},
   "outputs": [
    {
     "name": "stdout",
     "output_type": "stream",
     "text": [
      "Epoch 1/50\n"
     ]
    },
    {
     "name": "stderr",
     "output_type": "stream",
     "text": [
      "C:\\Users\\kj\\anaconda3\\Lib\\site-packages\\keras\\src\\layers\\rnn\\rnn.py:200: UserWarning: Do not pass an `input_shape`/`input_dim` argument to a layer. When using Sequential models, prefer using an `Input(shape)` object as the first layer in the model instead.\n",
      "  super().__init__(**kwargs)\n"
     ]
    },
    {
     "name": "stdout",
     "output_type": "stream",
     "text": [
      "\u001b[1m3/4\u001b[0m \u001b[32m━━━━━━━━━━━━━━━\u001b[0m\u001b[37m━━━━━\u001b[0m \u001b[1m0s\u001b[0m 45ms/step - loss: 0.1304 - mae: 0.2979"
     ]
    },
    {
     "name": "stderr",
     "output_type": "stream",
     "text": [
      "WARNING:absl:You are saving your model as an HDF5 file via `model.save()` or `keras.saving.save_model(model)`. This file format is considered legacy. We recommend using instead the native Keras format, e.g. `model.save('my_model.keras')` or `keras.saving.save_model(model, 'my_model.keras')`. \n"
     ]
    },
    {
     "name": "stdout",
     "output_type": "stream",
     "text": [
      "\u001b[1m4/4\u001b[0m \u001b[32m━━━━━━━━━━━━━━━━━━━━\u001b[0m\u001b[37m\u001b[0m \u001b[1m4s\u001b[0m 209ms/step - loss: 0.1085 - mae: 0.2607 - val_loss: 0.0053 - val_mae: 0.0640\n",
      "Epoch 2/50\n",
      "\u001b[1m4/4\u001b[0m \u001b[32m━━━━━━━━━━━━━━━━━━━━\u001b[0m\u001b[37m\u001b[0m \u001b[1m0s\u001b[0m 62ms/step - loss: 0.0223 - mae: 0.1254 - val_loss: 0.0419 - val_mae: 0.2022\n",
      "Epoch 3/50\n",
      "\u001b[1m4/4\u001b[0m \u001b[32m━━━━━━━━━━━━━━━━━━━━\u001b[0m\u001b[37m\u001b[0m \u001b[1m0s\u001b[0m 59ms/step - loss: 0.0144 - mae: 0.0914 - val_loss: 0.1714 - val_mae: 0.4130\n",
      "Epoch 4/50\n",
      "\u001b[1m4/4\u001b[0m \u001b[32m━━━━━━━━━━━━━━━━━━━━\u001b[0m\u001b[37m\u001b[0m \u001b[1m0s\u001b[0m 62ms/step - loss: 0.0180 - mae: 0.0941 - val_loss: 0.0388 - val_mae: 0.1946\n",
      "Epoch 5/50\n",
      "\u001b[1m4/4\u001b[0m \u001b[32m━━━━━━━━━━━━━━━━━━━━\u001b[0m\u001b[37m\u001b[0m \u001b[1m0s\u001b[0m 62ms/step - loss: 0.0108 - mae: 0.0858 - val_loss: 0.0164 - val_mae: 0.1239\n",
      "Epoch 6/50\n",
      "\u001b[1m4/4\u001b[0m \u001b[32m━━━━━━━━━━━━━━━━━━━━\u001b[0m\u001b[37m\u001b[0m \u001b[1m0s\u001b[0m 61ms/step - loss: 0.0117 - mae: 0.0894 - val_loss: 0.0506 - val_mae: 0.2227\n",
      "Epoch 7/50\n",
      "\u001b[1m4/4\u001b[0m \u001b[32m━━━━━━━━━━━━━━━━━━━━\u001b[0m\u001b[37m\u001b[0m \u001b[1m0s\u001b[0m 64ms/step - loss: 0.0080 - mae: 0.0711 - val_loss: 0.0711 - val_mae: 0.2646\n",
      "Epoch 8/50\n",
      "\u001b[1m4/4\u001b[0m \u001b[32m━━━━━━━━━━━━━━━━━━━━\u001b[0m\u001b[37m\u001b[0m \u001b[1m0s\u001b[0m 60ms/step - loss: 0.0082 - mae: 0.0714 - val_loss: 0.0408 - val_mae: 0.1994\n",
      "Epoch 9/50\n",
      "\u001b[1m4/4\u001b[0m \u001b[32m━━━━━━━━━━━━━━━━━━━━\u001b[0m\u001b[37m\u001b[0m \u001b[1m0s\u001b[0m 62ms/step - loss: 0.0080 - mae: 0.0712 - val_loss: 0.0117 - val_mae: 0.1029\n",
      "Epoch 10/50\n",
      "\u001b[1m4/4\u001b[0m \u001b[32m━━━━━━━━━━━━━━━━━━━━\u001b[0m\u001b[37m\u001b[0m \u001b[1m0s\u001b[0m 62ms/step - loss: 0.0099 - mae: 0.0790 - val_loss: 0.0149 - val_mae: 0.1173\n",
      "Epoch 11/50\n",
      "\u001b[1m4/4\u001b[0m \u001b[32m━━━━━━━━━━━━━━━━━━━━\u001b[0m\u001b[37m\u001b[0m \u001b[1m0s\u001b[0m 60ms/step - loss: 0.0063 - mae: 0.0620 - val_loss: 0.0260 - val_mae: 0.1578\n",
      "✅ 모델 학습 및 저장 완료!\n"
     ]
    }
   ],
   "source": [
    "import tensorflow as tf\n",
    "from tensorflow.keras.models import Sequential\n",
    "from tensorflow.keras.layers import LSTM, Dense, Dropout\n",
    "from tensorflow.keras.callbacks import EarlyStopping, ModelCheckpoint\n",
    "\n",
    "# ✅ 📌 LSTM 모델 정의\n",
    "model = Sequential([\n",
    "    LSTM(128, return_sequences=True, input_shape=(SEQ_LENGTH, len(features))),\n",
    "    Dropout(0.2),\n",
    "    LSTM(64, return_sequences=False),\n",
    "    Dropout(0.2),\n",
    "    Dense(32, activation=\"relu\"),\n",
    "    Dense(1)\n",
    "])\n",
    "\n",
    "model.compile(loss=\"mse\", optimizer=tf.keras.optimizers.Adam(learning_rate=0.0005), metrics=[\"mae\"])\n",
    "\n",
    "# ✅ 📌 체크포인트 및 얼리스탑\n",
    "checkpoint = ModelCheckpoint(\"d250304_upbit_shib_lstm.h5\", monitor=\"val_loss\", save_best_only=True, mode=\"min\")\n",
    "early_stopping = EarlyStopping(monitor=\"val_loss\", patience=10, restore_best_weights=True)\n",
    "\n",
    "# ✅ 📌 모델 학습\n",
    "history = model.fit(X_train, y_train, epochs=50, batch_size=32, validation_data=(X_test, y_test),\n",
    "                    callbacks=[checkpoint, early_stopping])\n",
    "\n",
    "# ✅ 📌 모델 저장\n",
    "# model.save(\"shib_lstm_final.h5\")\n",
    "print(\"✅ 모델 학습 및 저장 완료!\")\n"
   ]
  },
  {
   "cell_type": "code",
   "execution_count": 15,
   "id": "f253acac-39d0-4427-b837-5ff648b448de",
   "metadata": {},
   "outputs": [
    {
     "name": "stdout",
     "output_type": "stream",
     "text": [
      "2025-03-04 00:45:00 - Predicted SHIB Price: 0.01876629 KRW\n",
      "2025-03-04 00:50:00 - Predicted SHIB Price: 0.01897937 KRW\n",
      "2025-03-04 00:55:00 - Predicted SHIB Price: 0.01923812 KRW\n",
      "2025-03-04 01:00:00 - Predicted SHIB Price: 0.01950797 KRW\n",
      "2025-03-04 01:05:00 - Predicted SHIB Price: 0.01976050 KRW\n",
      "2025-03-04 01:10:00 - Predicted SHIB Price: 0.01998590 KRW\n",
      "2025-03-04 01:15:00 - Predicted SHIB Price: 0.02018269 KRW\n",
      "2025-03-04 01:20:00 - Predicted SHIB Price: 0.02033710 KRW\n",
      "2025-03-04 01:25:00 - Predicted SHIB Price: 0.02042265 KRW\n",
      "2025-03-04 01:30:00 - Predicted SHIB Price: 0.02049818 KRW\n",
      "2025-03-04 01:35:00 - Predicted SHIB Price: 0.02056552 KRW\n",
      "2025-03-04 01:40:00 - Predicted SHIB Price: 0.02061753 KRW\n",
      "2025-03-04 01:45:00 - Predicted SHIB Price: 0.02066172 KRW\n",
      "2025-03-04 01:50:00 - Predicted SHIB Price: 0.02070179 KRW\n",
      "2025-03-04 01:55:00 - Predicted SHIB Price: 0.02073822 KRW\n",
      "2025-03-04 02:00:00 - Predicted SHIB Price: 0.02077135 KRW\n",
      "2025-03-04 02:05:00 - Predicted SHIB Price: 0.02080138 KRW\n",
      "2025-03-04 02:10:00 - Predicted SHIB Price: 0.02082857 KRW\n",
      "2025-03-04 02:15:00 - Predicted SHIB Price: 0.02085310 KRW\n",
      "2025-03-04 02:20:00 - Predicted SHIB Price: 0.02087519 KRW\n",
      "2025-03-04 02:25:00 - Predicted SHIB Price: 0.02089505 KRW\n",
      "2025-03-04 02:30:00 - Predicted SHIB Price: 0.02091280 KRW\n",
      "2025-03-04 02:35:00 - Predicted SHIB Price: 0.02092873 KRW\n",
      "2025-03-04 02:40:00 - Predicted SHIB Price: 0.02094326 KRW\n",
      "2025-03-04 02:45:00 - Predicted SHIB Price: 0.02095619 KRW\n",
      "2025-03-04 02:50:00 - Predicted SHIB Price: 0.02096769 KRW\n",
      "2025-03-04 02:55:00 - Predicted SHIB Price: 0.02097793 KRW\n",
      "2025-03-04 03:00:00 - Predicted SHIB Price: 0.02098704 KRW\n",
      "2025-03-04 03:05:00 - Predicted SHIB Price: 0.02099514 KRW\n",
      "2025-03-04 03:10:00 - Predicted SHIB Price: 0.02100235 KRW\n",
      "2025-03-04 03:15:00 - Predicted SHIB Price: 0.02100876 KRW\n",
      "2025-03-04 03:20:00 - Predicted SHIB Price: 0.02101446 KRW\n",
      "2025-03-04 03:25:00 - Predicted SHIB Price: 0.02101952 KRW\n",
      "2025-03-04 03:30:00 - Predicted SHIB Price: 0.02102402 KRW\n",
      "2025-03-04 03:35:00 - Predicted SHIB Price: 0.02102804 KRW\n",
      "2025-03-04 03:40:00 - Predicted SHIB Price: 0.02103161 KRW\n",
      "2025-03-04 03:45:00 - Predicted SHIB Price: 0.02103478 KRW\n",
      "2025-03-04 03:50:00 - Predicted SHIB Price: 0.02103762 KRW\n",
      "2025-03-04 03:55:00 - Predicted SHIB Price: 0.02104034 KRW\n",
      "2025-03-04 04:00:00 - Predicted SHIB Price: 0.02104288 KRW\n",
      "2025-03-04 04:05:00 - Predicted SHIB Price: 0.02104512 KRW\n",
      "2025-03-04 04:10:00 - Predicted SHIB Price: 0.02104712 KRW\n",
      "2025-03-04 04:15:00 - Predicted SHIB Price: 0.02104891 KRW\n",
      "2025-03-04 04:20:00 - Predicted SHIB Price: 0.02105050 KRW\n",
      "2025-03-04 04:25:00 - Predicted SHIB Price: 0.02105193 KRW\n",
      "2025-03-04 04:30:00 - Predicted SHIB Price: 0.02105318 KRW\n",
      "2025-03-04 04:35:00 - Predicted SHIB Price: 0.02105430 KRW\n",
      "2025-03-04 04:40:00 - Predicted SHIB Price: 0.02105528 KRW\n",
      "2025-03-04 04:45:00 - Predicted SHIB Price: 0.02105616 KRW\n",
      "2025-03-04 04:50:00 - Predicted SHIB Price: 0.02105695 KRW\n",
      "2025-03-04 04:55:00 - Predicted SHIB Price: 0.02105769 KRW\n",
      "2025-03-04 05:00:00 - Predicted SHIB Price: 0.02105818 KRW\n",
      "2025-03-04 05:05:00 - Predicted SHIB Price: 0.02105863 KRW\n",
      "2025-03-04 05:10:00 - Predicted SHIB Price: 0.02105903 KRW\n",
      "2025-03-04 05:15:00 - Predicted SHIB Price: 0.02105938 KRW\n",
      "2025-03-04 05:20:00 - Predicted SHIB Price: 0.02105969 KRW\n",
      "2025-03-04 05:25:00 - Predicted SHIB Price: 0.02105998 KRW\n",
      "2025-03-04 05:30:00 - Predicted SHIB Price: 0.02106023 KRW\n",
      "2025-03-04 05:35:00 - Predicted SHIB Price: 0.02106046 KRW\n",
      "2025-03-04 05:40:00 - Predicted SHIB Price: 0.02106066 KRW\n",
      "2025-03-04 05:45:00 - Predicted SHIB Price: 0.02106084 KRW\n",
      "2025-03-04 05:50:00 - Predicted SHIB Price: 0.02106100 KRW\n",
      "2025-03-04 05:55:00 - Predicted SHIB Price: 0.02106114 KRW\n",
      "2025-03-04 06:00:00 - Predicted SHIB Price: 0.02106126 KRW\n",
      "2025-03-04 06:05:00 - Predicted SHIB Price: 0.02106137 KRW\n",
      "2025-03-04 06:10:00 - Predicted SHIB Price: 0.02106147 KRW\n",
      "2025-03-04 06:15:00 - Predicted SHIB Price: 0.02106155 KRW\n",
      "2025-03-04 06:20:00 - Predicted SHIB Price: 0.02106162 KRW\n",
      "2025-03-04 06:25:00 - Predicted SHIB Price: 0.02106169 KRW\n",
      "2025-03-04 06:30:00 - Predicted SHIB Price: 0.02106174 KRW\n",
      "2025-03-04 06:35:00 - Predicted SHIB Price: 0.02106180 KRW\n",
      "2025-03-04 06:40:00 - Predicted SHIB Price: 0.02106184 KRW\n",
      "2025-03-04 06:45:00 - Predicted SHIB Price: 0.02106188 KRW\n",
      "2025-03-04 06:50:00 - Predicted SHIB Price: 0.02106192 KRW\n",
      "2025-03-04 06:55:00 - Predicted SHIB Price: 0.02106195 KRW\n",
      "2025-03-04 07:00:00 - Predicted SHIB Price: 0.02106198 KRW\n",
      "2025-03-04 07:05:00 - Predicted SHIB Price: 0.02106199 KRW\n",
      "2025-03-04 07:10:00 - Predicted SHIB Price: 0.02106202 KRW\n",
      "2025-03-04 07:15:00 - Predicted SHIB Price: 0.02106204 KRW\n",
      "2025-03-04 07:20:00 - Predicted SHIB Price: 0.02106205 KRW\n",
      "2025-03-04 07:25:00 - Predicted SHIB Price: 0.02106207 KRW\n",
      "2025-03-04 07:30:00 - Predicted SHIB Price: 0.02106208 KRW\n",
      "2025-03-04 07:35:00 - Predicted SHIB Price: 0.02106209 KRW\n",
      "2025-03-04 07:40:00 - Predicted SHIB Price: 0.02106210 KRW\n",
      "2025-03-04 07:45:00 - Predicted SHIB Price: 0.02106211 KRW\n",
      "2025-03-04 07:50:00 - Predicted SHIB Price: 0.02106212 KRW\n",
      "2025-03-04 07:55:00 - Predicted SHIB Price: 0.02106212 KRW\n",
      "2025-03-04 08:00:00 - Predicted SHIB Price: 0.02106213 KRW\n",
      "2025-03-04 08:05:00 - Predicted SHIB Price: 0.02106214 KRW\n",
      "2025-03-04 08:10:00 - Predicted SHIB Price: 0.02106214 KRW\n",
      "2025-03-04 08:15:00 - Predicted SHIB Price: 0.02106214 KRW\n",
      "2025-03-04 08:20:00 - Predicted SHIB Price: 0.02106215 KRW\n",
      "2025-03-04 08:25:00 - Predicted SHIB Price: 0.02106215 KRW\n",
      "2025-03-04 08:30:00 - Predicted SHIB Price: 0.02106215 KRW\n",
      "2025-03-04 08:35:00 - Predicted SHIB Price: 0.02106216 KRW\n",
      "2025-03-04 08:40:00 - Predicted SHIB Price: 0.02106216 KRW\n",
      "2025-03-04 08:45:00 - Predicted SHIB Price: 0.02106216 KRW\n",
      "2025-03-04 08:50:00 - Predicted SHIB Price: 0.02106216 KRW\n",
      "2025-03-04 08:55:00 - Predicted SHIB Price: 0.02106217 KRW\n",
      "2025-03-04 09:00:00 - Predicted SHIB Price: 0.02106217 KRW\n",
      "2025-03-04 09:05:00 - Predicted SHIB Price: 0.02106217 KRW\n",
      "2025-03-04 09:10:00 - Predicted SHIB Price: 0.02106217 KRW\n",
      "2025-03-04 09:15:00 - Predicted SHIB Price: 0.02106217 KRW\n",
      "2025-03-04 09:20:00 - Predicted SHIB Price: 0.02106217 KRW\n",
      "2025-03-04 09:25:00 - Predicted SHIB Price: 0.02106217 KRW\n",
      "2025-03-04 09:30:00 - Predicted SHIB Price: 0.02106217 KRW\n",
      "2025-03-04 09:35:00 - Predicted SHIB Price: 0.02106217 KRW\n",
      "2025-03-04 09:40:00 - Predicted SHIB Price: 0.02106217 KRW\n",
      "2025-03-04 09:45:00 - Predicted SHIB Price: 0.02106217 KRW\n",
      "2025-03-04 09:50:00 - Predicted SHIB Price: 0.02106217 KRW\n",
      "2025-03-04 09:55:00 - Predicted SHIB Price: 0.02106217 KRW\n",
      "2025-03-04 10:00:00 - Predicted SHIB Price: 0.02106217 KRW\n",
      "2025-03-04 10:05:00 - Predicted SHIB Price: 0.02106217 KRW\n",
      "2025-03-04 10:10:00 - Predicted SHIB Price: 0.02106217 KRW\n",
      "2025-03-04 10:15:00 - Predicted SHIB Price: 0.02106217 KRW\n",
      "2025-03-04 10:20:00 - Predicted SHIB Price: 0.02106217 KRW\n",
      "2025-03-04 10:25:00 - Predicted SHIB Price: 0.02106217 KRW\n",
      "2025-03-04 10:30:00 - Predicted SHIB Price: 0.02106217 KRW\n",
      "2025-03-04 10:35:00 - Predicted SHIB Price: 0.02106217 KRW\n",
      "2025-03-04 10:40:00 - Predicted SHIB Price: 0.02106218 KRW\n",
      "2025-03-04 10:45:00 - Predicted SHIB Price: 0.02106218 KRW\n",
      "2025-03-04 10:50:00 - Predicted SHIB Price: 0.02106218 KRW\n",
      "2025-03-04 10:55:00 - Predicted SHIB Price: 0.02106217 KRW\n",
      "2025-03-04 11:00:00 - Predicted SHIB Price: 0.02106217 KRW\n",
      "2025-03-04 11:05:00 - Predicted SHIB Price: 0.02106217 KRW\n",
      "2025-03-04 11:10:00 - Predicted SHIB Price: 0.02106218 KRW\n",
      "2025-03-04 11:15:00 - Predicted SHIB Price: 0.02106218 KRW\n",
      "2025-03-04 11:20:00 - Predicted SHIB Price: 0.02106218 KRW\n",
      "2025-03-04 11:25:00 - Predicted SHIB Price: 0.02106218 KRW\n",
      "2025-03-04 11:30:00 - Predicted SHIB Price: 0.02106217 KRW\n",
      "2025-03-04 11:35:00 - Predicted SHIB Price: 0.02106218 KRW\n",
      "2025-03-04 11:40:00 - Predicted SHIB Price: 0.02106218 KRW\n",
      "2025-03-04 11:45:00 - Predicted SHIB Price: 0.02106218 KRW\n",
      "2025-03-04 11:50:00 - Predicted SHIB Price: 0.02106217 KRW\n",
      "2025-03-04 11:55:00 - Predicted SHIB Price: 0.02106218 KRW\n",
      "2025-03-04 12:00:00 - Predicted SHIB Price: 0.02106218 KRW\n",
      "2025-03-04 12:05:00 - Predicted SHIB Price: 0.02106218 KRW\n",
      "2025-03-04 12:10:00 - Predicted SHIB Price: 0.02106218 KRW\n",
      "2025-03-04 12:15:00 - Predicted SHIB Price: 0.02106218 KRW\n",
      "2025-03-04 12:20:00 - Predicted SHIB Price: 0.02106218 KRW\n",
      "2025-03-04 12:25:00 - Predicted SHIB Price: 0.02106218 KRW\n",
      "2025-03-04 12:30:00 - Predicted SHIB Price: 0.02106218 KRW\n",
      "2025-03-04 12:35:00 - Predicted SHIB Price: 0.02106218 KRW\n",
      "2025-03-04 12:40:00 - Predicted SHIB Price: 0.02106218 KRW\n",
      "2025-03-04 12:45:00 - Predicted SHIB Price: 0.02106218 KRW\n",
      "2025-03-04 12:50:00 - Predicted SHIB Price: 0.02106218 KRW\n",
      "2025-03-04 12:55:00 - Predicted SHIB Price: 0.02106218 KRW\n",
      "2025-03-04 13:00:00 - Predicted SHIB Price: 0.02106217 KRW\n",
      "2025-03-04 13:05:00 - Predicted SHIB Price: 0.02106218 KRW\n",
      "2025-03-04 13:10:00 - Predicted SHIB Price: 0.02106218 KRW\n",
      "2025-03-04 13:15:00 - Predicted SHIB Price: 0.02106217 KRW\n",
      "2025-03-04 13:20:00 - Predicted SHIB Price: 0.02106217 KRW\n",
      "2025-03-04 13:25:00 - Predicted SHIB Price: 0.02106217 KRW\n",
      "2025-03-04 13:30:00 - Predicted SHIB Price: 0.02106218 KRW\n",
      "2025-03-04 13:35:00 - Predicted SHIB Price: 0.02106218 KRW\n",
      "2025-03-04 13:40:00 - Predicted SHIB Price: 0.02106218 KRW\n",
      "2025-03-04 13:45:00 - Predicted SHIB Price: 0.02106218 KRW\n",
      "2025-03-04 13:50:00 - Predicted SHIB Price: 0.02106218 KRW\n",
      "2025-03-04 13:55:00 - Predicted SHIB Price: 0.02106217 KRW\n",
      "2025-03-04 14:00:00 - Predicted SHIB Price: 0.02106218 KRW\n",
      "2025-03-04 14:05:00 - Predicted SHIB Price: 0.02106218 KRW\n",
      "2025-03-04 14:10:00 - Predicted SHIB Price: 0.02106218 KRW\n",
      "2025-03-04 14:15:00 - Predicted SHIB Price: 0.02106218 KRW\n",
      "2025-03-04 14:20:00 - Predicted SHIB Price: 0.02106218 KRW\n",
      "2025-03-04 14:25:00 - Predicted SHIB Price: 0.02106218 KRW\n",
      "2025-03-04 14:30:00 - Predicted SHIB Price: 0.02106218 KRW\n",
      "2025-03-04 14:35:00 - Predicted SHIB Price: 0.02106218 KRW\n",
      "2025-03-04 14:40:00 - Predicted SHIB Price: 0.02106218 KRW\n",
      "2025-03-04 14:45:00 - Predicted SHIB Price: 0.02106218 KRW\n",
      "2025-03-04 14:50:00 - Predicted SHIB Price: 0.02106218 KRW\n",
      "2025-03-04 14:55:00 - Predicted SHIB Price: 0.02106218 KRW\n",
      "2025-03-04 15:00:00 - Predicted SHIB Price: 0.02106218 KRW\n",
      "2025-03-04 15:05:00 - Predicted SHIB Price: 0.02106218 KRW\n",
      "2025-03-04 15:10:00 - Predicted SHIB Price: 0.02106218 KRW\n",
      "2025-03-04 15:15:00 - Predicted SHIB Price: 0.02106218 KRW\n",
      "2025-03-04 15:20:00 - Predicted SHIB Price: 0.02106218 KRW\n",
      "2025-03-04 15:25:00 - Predicted SHIB Price: 0.02106218 KRW\n",
      "2025-03-04 15:30:00 - Predicted SHIB Price: 0.02106218 KRW\n",
      "2025-03-04 15:35:00 - Predicted SHIB Price: 0.02106218 KRW\n",
      "2025-03-04 15:40:00 - Predicted SHIB Price: 0.02106218 KRW\n",
      "2025-03-04 15:45:00 - Predicted SHIB Price: 0.02106218 KRW\n",
      "2025-03-04 15:50:00 - Predicted SHIB Price: 0.02106218 KRW\n",
      "2025-03-04 15:55:00 - Predicted SHIB Price: 0.02106217 KRW\n",
      "2025-03-04 16:00:00 - Predicted SHIB Price: 0.02106218 KRW\n",
      "2025-03-04 16:05:00 - Predicted SHIB Price: 0.02106218 KRW\n",
      "2025-03-04 16:10:00 - Predicted SHIB Price: 0.02106217 KRW\n",
      "2025-03-04 16:15:00 - Predicted SHIB Price: 0.02106218 KRW\n",
      "2025-03-04 16:20:00 - Predicted SHIB Price: 0.02106218 KRW\n",
      "2025-03-04 16:25:00 - Predicted SHIB Price: 0.02106218 KRW\n",
      "2025-03-04 16:30:00 - Predicted SHIB Price: 0.02106217 KRW\n",
      "2025-03-04 16:35:00 - Predicted SHIB Price: 0.02106218 KRW\n",
      "2025-03-04 16:40:00 - Predicted SHIB Price: 0.02106218 KRW\n",
      "2025-03-04 16:45:00 - Predicted SHIB Price: 0.02106217 KRW\n",
      "2025-03-04 16:50:00 - Predicted SHIB Price: 0.02106218 KRW\n",
      "2025-03-04 16:55:00 - Predicted SHIB Price: 0.02106218 KRW\n",
      "2025-03-04 17:00:00 - Predicted SHIB Price: 0.02106218 KRW\n",
      "2025-03-04 17:05:00 - Predicted SHIB Price: 0.02106218 KRW\n",
      "2025-03-04 17:10:00 - Predicted SHIB Price: 0.02106218 KRW\n",
      "2025-03-04 17:15:00 - Predicted SHIB Price: 0.02106218 KRW\n",
      "2025-03-04 17:20:00 - Predicted SHIB Price: 0.02106218 KRW\n",
      "2025-03-04 17:25:00 - Predicted SHIB Price: 0.02106218 KRW\n",
      "2025-03-04 17:30:00 - Predicted SHIB Price: 0.02106218 KRW\n",
      "2025-03-04 17:35:00 - Predicted SHIB Price: 0.02106218 KRW\n",
      "2025-03-04 17:40:00 - Predicted SHIB Price: 0.02106218 KRW\n",
      "2025-03-04 17:45:00 - Predicted SHIB Price: 0.02106218 KRW\n",
      "2025-03-04 17:50:00 - Predicted SHIB Price: 0.02106218 KRW\n",
      "2025-03-04 17:55:00 - Predicted SHIB Price: 0.02106218 KRW\n",
      "2025-03-04 18:00:00 - Predicted SHIB Price: 0.02106217 KRW\n",
      "2025-03-04 18:05:00 - Predicted SHIB Price: 0.02106218 KRW\n",
      "2025-03-04 18:10:00 - Predicted SHIB Price: 0.02106217 KRW\n",
      "2025-03-04 18:15:00 - Predicted SHIB Price: 0.02106218 KRW\n",
      "2025-03-04 18:20:00 - Predicted SHIB Price: 0.02106218 KRW\n",
      "2025-03-04 18:25:00 - Predicted SHIB Price: 0.02106218 KRW\n",
      "2025-03-04 18:30:00 - Predicted SHIB Price: 0.02106218 KRW\n",
      "2025-03-04 18:35:00 - Predicted SHIB Price: 0.02106218 KRW\n",
      "2025-03-04 18:40:00 - Predicted SHIB Price: 0.02106217 KRW\n",
      "2025-03-04 18:45:00 - Predicted SHIB Price: 0.02106218 KRW\n",
      "2025-03-04 18:50:00 - Predicted SHIB Price: 0.02106218 KRW\n",
      "2025-03-04 18:55:00 - Predicted SHIB Price: 0.02106218 KRW\n",
      "2025-03-04 19:00:00 - Predicted SHIB Price: 0.02106218 KRW\n",
      "2025-03-04 19:05:00 - Predicted SHIB Price: 0.02106218 KRW\n",
      "2025-03-04 19:10:00 - Predicted SHIB Price: 0.02106217 KRW\n",
      "2025-03-04 19:15:00 - Predicted SHIB Price: 0.02106218 KRW\n",
      "2025-03-04 19:20:00 - Predicted SHIB Price: 0.02106218 KRW\n",
      "2025-03-04 19:25:00 - Predicted SHIB Price: 0.02106218 KRW\n",
      "2025-03-04 19:30:00 - Predicted SHIB Price: 0.02106218 KRW\n",
      "2025-03-04 19:35:00 - Predicted SHIB Price: 0.02106218 KRW\n",
      "2025-03-04 19:40:00 - Predicted SHIB Price: 0.02106218 KRW\n",
      "2025-03-04 19:45:00 - Predicted SHIB Price: 0.02106218 KRW\n",
      "2025-03-04 19:50:00 - Predicted SHIB Price: 0.02106218 KRW\n",
      "2025-03-04 19:55:00 - Predicted SHIB Price: 0.02106218 KRW\n",
      "2025-03-04 20:00:00 - Predicted SHIB Price: 0.02106218 KRW\n",
      "2025-03-04 20:05:00 - Predicted SHIB Price: 0.02106218 KRW\n",
      "2025-03-04 20:10:00 - Predicted SHIB Price: 0.02106218 KRW\n",
      "2025-03-04 20:15:00 - Predicted SHIB Price: 0.02106218 KRW\n",
      "2025-03-04 20:20:00 - Predicted SHIB Price: 0.02106218 KRW\n",
      "2025-03-04 20:25:00 - Predicted SHIB Price: 0.02106218 KRW\n",
      "2025-03-04 20:30:00 - Predicted SHIB Price: 0.02106218 KRW\n",
      "2025-03-04 20:35:00 - Predicted SHIB Price: 0.02106218 KRW\n",
      "2025-03-04 20:40:00 - Predicted SHIB Price: 0.02106218 KRW\n",
      "2025-03-04 20:45:00 - Predicted SHIB Price: 0.02106218 KRW\n",
      "2025-03-04 20:50:00 - Predicted SHIB Price: 0.02106218 KRW\n",
      "2025-03-04 20:55:00 - Predicted SHIB Price: 0.02106218 KRW\n",
      "2025-03-04 21:00:00 - Predicted SHIB Price: 0.02106218 KRW\n",
      "2025-03-04 21:05:00 - Predicted SHIB Price: 0.02106218 KRW\n",
      "2025-03-04 21:10:00 - Predicted SHIB Price: 0.02106218 KRW\n",
      "2025-03-04 21:15:00 - Predicted SHIB Price: 0.02106218 KRW\n",
      "2025-03-04 21:20:00 - Predicted SHIB Price: 0.02106218 KRW\n",
      "2025-03-04 21:25:00 - Predicted SHIB Price: 0.02106218 KRW\n",
      "2025-03-04 21:30:00 - Predicted SHIB Price: 0.02106218 KRW\n",
      "2025-03-04 21:35:00 - Predicted SHIB Price: 0.02106218 KRW\n",
      "2025-03-04 21:40:00 - Predicted SHIB Price: 0.02106218 KRW\n",
      "2025-03-04 21:45:00 - Predicted SHIB Price: 0.02106218 KRW\n",
      "2025-03-04 21:50:00 - Predicted SHIB Price: 0.02106217 KRW\n",
      "2025-03-04 21:55:00 - Predicted SHIB Price: 0.02106218 KRW\n",
      "2025-03-04 22:00:00 - Predicted SHIB Price: 0.02106218 KRW\n",
      "2025-03-04 22:05:00 - Predicted SHIB Price: 0.02106218 KRW\n",
      "2025-03-04 22:10:00 - Predicted SHIB Price: 0.02106218 KRW\n",
      "2025-03-04 22:15:00 - Predicted SHIB Price: 0.02106218 KRW\n",
      "2025-03-04 22:20:00 - Predicted SHIB Price: 0.02106218 KRW\n",
      "2025-03-04 22:25:00 - Predicted SHIB Price: 0.02106218 KRW\n",
      "2025-03-04 22:30:00 - Predicted SHIB Price: 0.02106218 KRW\n",
      "2025-03-04 22:35:00 - Predicted SHIB Price: 0.02106218 KRW\n",
      "2025-03-04 22:40:00 - Predicted SHIB Price: 0.02106218 KRW\n",
      "2025-03-04 22:45:00 - Predicted SHIB Price: 0.02106218 KRW\n",
      "2025-03-04 22:50:00 - Predicted SHIB Price: 0.02106218 KRW\n",
      "2025-03-04 22:55:00 - Predicted SHIB Price: 0.02106218 KRW\n",
      "2025-03-04 23:00:00 - Predicted SHIB Price: 0.02106218 KRW\n",
      "2025-03-04 23:05:00 - Predicted SHIB Price: 0.02106218 KRW\n",
      "2025-03-04 23:10:00 - Predicted SHIB Price: 0.02106217 KRW\n",
      "2025-03-04 23:15:00 - Predicted SHIB Price: 0.02106218 KRW\n",
      "2025-03-04 23:20:00 - Predicted SHIB Price: 0.02106218 KRW\n",
      "2025-03-04 23:25:00 - Predicted SHIB Price: 0.02106218 KRW\n",
      "2025-03-04 23:30:00 - Predicted SHIB Price: 0.02106218 KRW\n",
      "2025-03-04 23:35:00 - Predicted SHIB Price: 0.02106218 KRW\n",
      "2025-03-04 23:40:00 - Predicted SHIB Price: 0.02106218 KRW\n",
      "2025-03-04 23:45:00 - Predicted SHIB Price: 0.02106218 KRW\n",
      "2025-03-04 23:50:00 - Predicted SHIB Price: 0.02106218 KRW\n",
      "2025-03-04 23:55:00 - Predicted SHIB Price: 0.02106218 KRW\n",
      "2025-03-05 00:00:00 - Predicted SHIB Price: 0.02106218 KRW\n",
      "2025-03-05 00:05:00 - Predicted SHIB Price: 0.02106218 KRW\n",
      "2025-03-05 00:10:00 - Predicted SHIB Price: 0.02106218 KRW\n",
      "2025-03-05 00:15:00 - Predicted SHIB Price: 0.02106218 KRW\n",
      "2025-03-05 00:20:00 - Predicted SHIB Price: 0.02106218 KRW\n",
      "2025-03-05 00:25:00 - Predicted SHIB Price: 0.02106218 KRW\n",
      "2025-03-05 00:30:00 - Predicted SHIB Price: 0.02106218 KRW\n",
      "2025-03-05 00:35:00 - Predicted SHIB Price: 0.02106218 KRW\n",
      "2025-03-05 00:40:00 - Predicted SHIB Price: 0.02106217 KRW\n"
     ]
    },
    {
     "data": {
      "image/png": "[encoded data removed]",
      "text/plain": [
       "<Figure size 1200x600 with 1 Axes>"
      ]
     },
     "metadata": {},
     "output_type": "display_data"
    }
   ],
   "source": [
    "def predict_future(model, last_sequence, num_steps=288):\n",
    "    future_preds = []\n",
    "    current_sequence = last_sequence.copy()\n",
    "\n",
    "    for _ in range(num_steps):\n",
    "        next_pred = model.predict(current_sequence, verbose=0)\n",
    "        future_preds.append(next_pred[0, 0])\n",
    "\n",
    "        # 시퀀스 업데이트\n",
    "        next_pred_reshaped = np.tile(next_pred, (1, 1, len(features)))\n",
    "        current_sequence = np.concatenate((current_sequence[:, 1:, :], next_pred_reshaped), axis=1)\n",
    "\n",
    "    # 역정규화\n",
    "    max_price = scaler.data_max_[3]  # close price 기준\n",
    "    predicted_prices = np.array(future_preds) * max_price\n",
    "\n",
    "    return predicted_prices\n",
    "\n",
    "# ✅ 📌 마지막 50개 데이터 가져오기\n",
    "last_sequence = X_test[-1:]\n",
    "predicted_prices = predict_future(model, last_sequence, num_steps=288)\n",
    "\n",
    "# ✅ 📌 시간 생성\n",
    "start_time = df[\"timestamp\"].iloc[-1]\n",
    "future_times = [start_time + pd.Timedelta(minutes=5 * i) for i in range(288)]\n",
    "\n",
    "# ✅ 📌 결과 출력\n",
    "for t, price in zip(future_times, predicted_prices):\n",
    "    print(f\"{t.strftime('%Y-%m-%d %H:%M:%S')} - Predicted SHIB Price: {price:.8f} KRW\")\n",
    "\n"
   ]
  },
  {
   "cell_type": "code",
   "execution_count": 17,
   "id": "39d3a40d-9d73-42d2-82dc-2746ee1f1437",
   "metadata": {},
   "outputs": [
    {
     "data": {
      "image/png": "[encoded data removed]",
      "text/plain": [
       "<Figure size 1200x600 with 1 Axes>"
      ]
     },
     "metadata": {},
     "output_type": "display_data"
    }
   ],
   "source": [
    "\n",
    "import matplotlib.pyplot as plt\n",
    "\n",
    "# ✅ 📌 그래프 출력\n",
    "plt.figure(figsize=(12, 6))\n",
    "plt.plot(future_times, predicted_prices, label=\"Predicted SHIB Price\", linestyle=\"dashed\", color=\"red\")\n",
    "plt.xlabel(\"Time\")\n",
    "plt.ylabel(\"SHIB Price (KRW)\")\n",
    "plt.xticks(rotation=45)\n",
    "plt.legend()\n",
    "plt.title(\"SHIB 5-minute Interval Prediction for Next 24 Hours\")\n",
    "plt.show()\n"
   ]
  }
 ],
 "metadata": {
  "kernelspec": {
   "display_name": "Python [conda env:base] *",
   "language": "python",
   "name": "conda-base-py"
  },
  "language_info": {
   "codemirror_mode": {
    "name": "ipython",
    "version": 3
   },
   "file_extension": ".py",
   "mimetype": "text/x-python",
   "name": "python",
   "nbconvert_exporter": "python",
   "pygments_lexer": "ipython3",
   "version": "3.12.7"
  }
 },
 "nbformat": 4,
 "nbformat_minor": 5
}
