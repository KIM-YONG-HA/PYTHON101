{
 "cells": [
  {
   "cell_type": "markdown",
   "id": "dbe46589-06fc-4ab7-8868-56803ee47673",
   "metadata": {},
   "source": [
    "## 2번\n",
    "## 피보나치수열 \n",
    "\n",
    "피보나치(Fibonacci) 수열의 각 항은 바로 앞의 항 두 개를 더한 것입니다. 1과 2로 시작하는 경우 이 수열은 아래와 같습니다.\n",
    "\n",
    "1, 2, 3, 5, 8, 13, 21, 34, 55, 89, ...\n",
    "4백만 이하의 짝수 값을 갖는 모든 피보나치 항을 더하면 얼마가 됩니까?\n",
    "\n"
   ]
  },
  {
   "cell_type": "markdown",
   "id": "a8b138c8-002d-4095-8f34-c3e5b6dbf484",
   "metadata": {},
   "source": [
    "## 피보나치 수열이란?\n",
    "첫 번째 항 F(0) = 1, 두 번째 항 F(1) = 1 이라고할 때 \n",
    "\n",
    "## 피보나치 수열의 정의 \n",
    "F(n) = F(n-1) + F(n-2), n>=2\n",
    "\n",
    "1, 1, 2, 3, 5, 8, ...\n",
    "편의상 0 번째 항 0을 두기도 한다.\n",
    "\n"
   ]
  },
  {
   "cell_type": "code",
   "execution_count": 10,
   "id": "1c46f487-fda4-4583-a79d-7663b33f1198",
   "metadata": {},
   "outputs": [
    {
     "name": "stdout",
     "output_type": "stream",
     "text": [
      "a = 2, b = 3, total = 0\n",
      "a = 3, b = 5, total = 2\n",
      "a = 5, b = 8, total = 2\n",
      "a = 8, b = 13, total = 2\n",
      "a = 13, b = 21, total = 10\n",
      "결과: 10\n"
     ]
    }
   ],
   "source": [
    "def sum_even_fibonacci(limit):\n",
    "    \n",
    "    a, b = 1, 2  # 초기 피보나치 항 설정\n",
    "    total = 0  # 짝수 항의 합을 저장할 변수\n",
    "\n",
    "    while a <= limit:  # 피보나치 수열이 제한 값을 넘지 않을 때까지 반복\n",
    "        if a % 2 == 0:  # 현재 피보나치 항이 짝수인지 확인\n",
    "            total += a  # 짝수일 경우 total에 더함\n",
    "        # 다음 피보나치 항 계산\n",
    "        # 이전 항(a)은 현재 항(b)로, 현재 항(b)는 a + b로 업데이트\n",
    "        a, b = b, a + b\n",
    "\n",
    "        # 디버깅용 주석: 현재 상태를 출력\n",
    "        print(f\"a = {a}, b = {b}, total = {total}\")\n",
    "        \n",
    "    return total\n",
    "\n",
    "# 테스트: 10 이하의 짝수 피보나치 항의 합\n",
    "result = sum_even_fibonacci(10)\n",
    "print(f\"결과: {result}\")\n"
   ]
  },
  {
   "cell_type": "code",
   "execution_count": 15,
   "id": "3d10b773-5827-4802-9186-5d981bad6cb8",
   "metadata": {},
   "outputs": [
    {
     "name": "stdout",
     "output_type": "stream",
     "text": [
      "[0, 1, 1, 2, 3, 5, 8, 13, 21, 34]\n"
     ]
    }
   ],
   "source": [
    "def fib_generator():\n",
    "    a, b = 0, 1\n",
    "    while True:\n",
    "        yield a\n",
    "        a, b = b, a + b\n",
    "\n",
    "# 테스트: 10개의 피보나치 수 출력\n",
    "gen = fib_generator()\n",
    "li2 = []\n",
    "for _ in range(10):\n",
    "    li2.append(next(gen))\n",
    "\n",
    "\n",
    "print(li2)"
   ]
  },
  {
   "cell_type": "code",
   "execution_count": 18,
   "id": "8503eaab-1099-4390-8f5b-7e6a062f9dd0",
   "metadata": {},
   "outputs": [
    {
     "name": "stdout",
     "output_type": "stream",
     "text": [
      "[0, 1, 1, 2, 3]\n"
     ]
    }
   ],
   "source": [
    "def fibo(n):\n",
    "    a, b = 0, 1  # 초기 피보나치 값\n",
    "    li = []  # 결과를 저장할 리스트\n",
    "\n",
    "    while len(li) < n:  # 리스트 길이가 n에 도달할 때까지 반복\n",
    "        li.append(a)  # 현재 값 추가\n",
    "        a, b = b, a + b  # 다음 피보나치 값 계산\n",
    "\n",
    "    return li  # 결과 리스트 반환\n",
    "\n",
    "# 테스트\n",
    "print(fibo(5))  # [0, 1, 1, 2, 3]\n"
   ]
  }
 ],
 "metadata": {
  "kernelspec": {
   "display_name": "Python 3 (ipykernel)",
   "language": "python",
   "name": "python3"
  },
  "language_info": {
   "codemirror_mode": {
    "name": "ipython",
    "version": 3
   },
   "file_extension": ".py",
   "mimetype": "text/x-python",
   "name": "python",
   "nbconvert_exporter": "python",
   "pygments_lexer": "ipython3",
   "version": "3.12.7"
  }
 },
 "nbformat": 4,
 "nbformat_minor": 5
}
