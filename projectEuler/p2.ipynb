{
 "cells": [
  {
   "cell_type": "markdown",
   "id": "dbe46589-06fc-4ab7-8868-56803ee47673",
   "metadata": {},
   "source": [
    "## 2번\n",
    "## 피보나치수열 \n",
    "\n",
    "피보나치(Fibonacci) 수열의 각 항은 바로 앞의 항 두 개를 더한 것입니다. 1과 2로 시작하는 경우 이 수열은 아래와 같습니다.\n",
    "\n",
    "1, 2, 3, 5, 8, 13, 21, 34, 55, 89, ...\n",
    "4백만 이하의 짝수 값을 갖는 모든 피보나치 항을 더하면 얼마가 됩니까?\n",
    "\n"
   ]
  },
  {
   "cell_type": "markdown",
   "id": "a8b138c8-002d-4095-8f34-c3e5b6dbf484",
   "metadata": {},
   "source": [
    "## 피보나치 수열이란?\n",
    "첫 번째 항 F(0) = 1, 두 번째 항 F(1) = 1 이라고할 때 \n",
    "\n",
    "## 피보나치 수열의 정의 \n",
    "F(n) = F(n-1) + F(n-2), n>=2\n",
    "\n",
    "1, 1, 2, 3, 5, 8, ...\n",
    "편의상 0 번째 항 0을 두기도 한다.\n",
    "\n"
   ]
  },
  {
   "cell_type": "code",
   "execution_count": null,
   "id": "b03e7f29-562a-4c2e-a94a-931f8846adfe",
   "metadata": {},
   "outputs": [],
   "source": []
  },
  {
   "cell_type": "code",
   "execution_count": null,
   "id": "3e89f4ad-23cf-464c-8f85-6832c98346ba",
   "metadata": {},
   "outputs": [],
   "source": []
  },
  {
   "cell_type": "code",
   "execution_count": null,
   "id": "1c46f487-fda4-4583-a79d-7663b33f1198",
   "metadata": {},
   "outputs": [],
   "source": [
    "a = []\n",
    "idx = 0\n",
    "s = 0\n",
    "e = 0\n",
    "\n",
    "for i in range(1,11):\n",
    "    s = idx - 2\n",
    "    e = idx - 1\n",
    "    \n",
    "    if idx < 1:\n",
    "        a.append(i)\n",
    "    else:\n",
    "        a.append(a[s] + a[e])\n",
    "                \n",
    "    idx += 1\n",
    "\n",
    "print(sum(a))\n"
   ]
  }
 ],
 "metadata": {
  "kernelspec": {
   "display_name": "Python [conda env:base] *",
   "language": "python",
   "name": "conda-base-py"
  },
  "language_info": {
   "codemirror_mode": {
    "name": "ipython",
    "version": 3
   },
   "file_extension": ".py",
   "mimetype": "text/x-python",
   "name": "python",
   "nbconvert_exporter": "python",
   "pygments_lexer": "ipython3",
   "version": "3.12.7"
  }
 },
 "nbformat": 4,
 "nbformat_minor": 5
}
