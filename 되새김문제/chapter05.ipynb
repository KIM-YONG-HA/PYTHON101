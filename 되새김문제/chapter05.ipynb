{
 "cells": [
  {
   "cell_type": "markdown",
   "id": "904d8f83-5b0b-4b6f-8fee-1c74ca5aa785",
   "metadata": {},
   "source": [
    "# 되새김문제 5장"
   ]
  },
  {
   "cell_type": "code",
   "execution_count": null,
   "id": "2bb8f54e-9a15-4748-8702-c7d19226b165",
   "metadata": {},
   "outputs": [],
   "source": [
    "### 1번"
   ]
  },
  {
   "cell_type": "code",
   "execution_count": 73,
   "id": "d9038bba-b5e6-4774-b6cc-c3984f9424cc",
   "metadata": {},
   "outputs": [
    {
     "name": "stdout",
     "output_type": "stream",
     "text": [
      "3\n"
     ]
    }
   ],
   "source": [
    "class Calculator:\n",
    "    def __init__(self):\n",
    "        self.value = 0\n",
    "\n",
    "    def add(self, val):\n",
    "        self.value += val\n",
    "\n",
    "class UpgradeCalculator(Calculator):\n",
    "    def minus(self, val):\n",
    "        self.value -= val\n",
    "        \n",
    "cal = UpgradeCalculator()\n",
    "cal.add(10)\n",
    "cal.minus(7)\n",
    "print(cal.value)"
   ]
  },
  {
   "cell_type": "code",
   "execution_count": null,
   "id": "1a8d7819-13a1-4528-a325-29a8abdcf442",
   "metadata": {},
   "outputs": [],
   "source": [
    "### 2번"
   ]
  },
  {
   "cell_type": "code",
   "execution_count": 68,
   "id": "80be3b05-80d3-43fb-b763-244f08424ad5",
   "metadata": {},
   "outputs": [
    {
     "name": "stdout",
     "output_type": "stream",
     "text": [
      "100\n"
     ]
    }
   ],
   "source": [
    "class MaxLimitCalculator(Calculator):\n",
    "\n",
    "    def add(self, val):\n",
    "        self.value += val\n",
    "        \n",
    "        if self.value >= 100:\n",
    "            self.value = 100\n",
    "            \n",
    "cal = MaxLimitCalculator();\n",
    "cal.add(50)\n",
    "cal.add(60)\n",
    "print(cal.value)\n",
    "    "
   ]
  },
  {
   "cell_type": "code",
   "execution_count": null,
   "id": "8eb01a82-ae19-452e-b60c-b5f0d62143fd",
   "metadata": {},
   "outputs": [],
   "source": [
    "### 3번"
   ]
  },
  {
   "cell_type": "code",
   "execution_count": 117,
   "id": "9d5c4703-b909-46ea-b1a2-7ecc7fb428a5",
   "metadata": {},
   "outputs": [
    {
     "data": {
      "text/plain": [
       "False"
      ]
     },
     "execution_count": 117,
     "metadata": {},
     "output_type": "execute_result"
    }
   ],
   "source": [
    "all([1,2,abs(-3)-3])"
   ]
  },
  {
   "cell_type": "code",
   "execution_count": 119,
   "id": "a0f47660-70f6-4e0e-80c7-de7c8c785305",
   "metadata": {},
   "outputs": [
    {
     "data": {
      "text/plain": [
       "True"
      ]
     },
     "execution_count": 119,
     "metadata": {},
     "output_type": "execute_result"
    }
   ],
   "source": [
    "chr(ord('a')) == 'a'"
   ]
  },
  {
   "cell_type": "code",
   "execution_count": null,
   "id": "76aefab8-a98e-4586-b113-a0061a733f5d",
   "metadata": {},
   "outputs": [],
   "source": [
    "### 4번"
   ]
  },
  {
   "cell_type": "code",
   "execution_count": 82,
   "id": "84ff416a-7ccd-402b-bb06-b552a10d95d1",
   "metadata": {},
   "outputs": [
    {
     "data": {
      "text/plain": [
       "[1, 3, 8]"
      ]
     },
     "execution_count": 82,
     "metadata": {},
     "output_type": "execute_result"
    }
   ],
   "source": [
    "a = [1,-2,3,-5,8,-3]\n",
    "\n",
    "#def removeNum(n):\n",
    "#    return n > 0\n",
    "#print(list(filter(removeNum, a)))\n",
    "\n",
    "list(filter(lambda x : x > 0, a))\n",
    " \n",
    "    "
   ]
  },
  {
   "cell_type": "code",
   "execution_count": null,
   "id": "28bdad66-0158-4ac1-9d4b-e4725bdf3c79",
   "metadata": {},
   "outputs": [],
   "source": [
    "### 5번"
   ]
  },
  {
   "cell_type": "code",
   "execution_count": 79,
   "id": "79ed743b-7138-4d4b-8b14-bac233e8340b",
   "metadata": {},
   "outputs": [
    {
     "name": "stdout",
     "output_type": "stream",
     "text": [
      "0xea\n",
      "234\n"
     ]
    }
   ],
   "source": [
    "a = hex(234) ## 16진수\n",
    "#b = oct(33) ## 8진수\n",
    "c = int(a, 16) ## 10진수 변환 \n",
    "print(a)\n",
    "#print(b)\n",
    "print(c)\n"
   ]
  },
  {
   "cell_type": "code",
   "execution_count": null,
   "id": "3eec5d75-352e-4f54-822b-e66c336d4aa9",
   "metadata": {},
   "outputs": [],
   "source": [
    "### 6번, 리스트 항목마다 3 곱하여 리턴 "
   ]
  },
  {
   "cell_type": "code",
   "execution_count": 88,
   "id": "28a98fb7-b5dd-4752-bef0-85c4f41f05f7",
   "metadata": {},
   "outputs": [
    {
     "data": {
      "text/plain": [
       "[3, 6, 9, 12]"
      ]
     },
     "execution_count": 88,
     "metadata": {},
     "output_type": "execute_result"
    }
   ],
   "source": [
    "a = [1,2,3,4]\n",
    "\n",
    "#def three_times(n):\n",
    "#    return n * 3\n",
    "#list(map(three_times, a))\n",
    "\n",
    "list(map(lambda x: x * 3, a))\n"
   ]
  },
  {
   "cell_type": "code",
   "execution_count": null,
   "id": "16a13c6c-9f42-490e-8dd0-600bb515cc1a",
   "metadata": {
    "jp-MarkdownHeadingCollapsed": true
   },
   "outputs": [],
   "source": [
    "### 7번"
   ]
  },
  {
   "cell_type": "code",
   "execution_count": 178,
   "id": "30c1b672-2bb6-4a3b-869b-1df91ac1923f",
   "metadata": {},
   "outputs": [
    {
     "name": "stdout",
     "output_type": "stream",
     "text": [
      "7\n",
      "-8\n",
      "-1\n"
     ]
    }
   ],
   "source": [
    "num = [-8, 2, 7, 5, -3, 5, 0, 1]\n",
    "max_num = max(num)\n",
    "min_num = min(num)\n",
    "print(max_num)\n",
    "print(min_num)\n",
    "print(max_num+min_num)"
   ]
  },
  {
   "cell_type": "code",
   "execution_count": null,
   "id": "9f0ce9a2-63f6-401a-a93f-96b7839af4a9",
   "metadata": {},
   "outputs": [],
   "source": []
  },
  {
   "cell_type": "code",
   "execution_count": 90,
   "id": "2712dc79-aaa6-414d-85e3-d5d5a4da7499",
   "metadata": {},
   "outputs": [
    {
     "name": "stdout",
     "output_type": "stream",
     "text": [
      "7\n",
      "-8\n",
      "-1\n"
     ]
    }
   ],
   "source": [
    "a = [-8, 2, 7, 5, -3, 5, 0, 1]\n",
    "max_num  = max(a)\n",
    "min_num = min(a)\n",
    "result = max_num + min_num\n",
    "\n",
    "print(max_num)\n",
    "print(min_num)\n",
    "print(result)"
   ]
  },
  {
   "cell_type": "code",
   "execution_count": null,
   "id": "77f7665c-d2cd-4ffb-8d07-d05e58998e8e",
   "metadata": {},
   "outputs": [],
   "source": [
    "### 8번 "
   ]
  },
  {
   "cell_type": "code",
   "execution_count": 96,
   "id": "03837167-c2ca-4866-96e5-985e28213edd",
   "metadata": {},
   "outputs": [
    {
     "name": "stdout",
     "output_type": "stream",
     "text": [
      "5.6667\n"
     ]
    }
   ],
   "source": [
    "div = 17 / 3\n",
    "div = round(div, 4)\n",
    "print(div)"
   ]
  },
  {
   "cell_type": "code",
   "execution_count": null,
   "id": "97d7de90-7958-44a3-9061-f29ff3dac7f0",
   "metadata": {},
   "outputs": [],
   "source": [
    "### 9번"
   ]
  },
  {
   "cell_type": "code",
   "execution_count": 140,
   "id": "cdbbc663-d473-4547-af8e-dd2231459c98",
   "metadata": {},
   "outputs": [
    {
     "name": "stdout",
     "output_type": "stream",
     "text": [
      " C 드라이브의 볼륨에는 이름이 없습니다.\n",
      " 볼륨 일련 번호: F6C8-B49B\n",
      "\n",
      " c:\\ 디렉터리\n",
      "\n",
      "2024-11-06  오후 07:55    <DIR>          apache-tomcat-9.0.97\n",
      "2024-11-07  오후 01:17    <DIR>          HNC\n",
      "2024-11-27  오전 11:29    <DIR>          jar\n",
      "2024-11-20  오후 02:28    <DIR>          JspStudy\n",
      "2024-11-25  오후 03:22    <DIR>          jspUpload\n",
      "2024-11-27  오후 05:28    <DIR>          logs\n",
      "2024-11-01  오후 01:50    <DIR>          MinGW\n",
      "2024-11-22  오전 11:51    <DIR>          Program Files\n",
      "2024-11-14  오전 10:31    <DIR>          Program Files (x86)\n",
      "2024-11-12  오후 05:04    <DIR>          StreamEx\n",
      "2024-10-02  오후 01:26    <DIR>          Users\n",
      "2024-12-17  오전 09:34    <DIR>          Windows\n",
      "2019-02-20  오전 11:59             4,112 판매.txt\n",
      "               1개 파일               4,112 바이트\n",
      "              12개 디렉터리  181,944,770,560 바이트 남음\n",
      "\n"
     ]
    }
   ],
   "source": [
    "import os\n",
    "\n",
    "os.chdir(\"c:/\")\n",
    "f = os.popen(\"dir\")\n",
    "print(f.read())\n"
   ]
  },
  {
   "cell_type": "code",
   "execution_count": 98,
   "id": "dd3c3118-0718-4e11-a251-d629e82dc0cf",
   "metadata": {},
   "outputs": [],
   "source": [
    "### 10번"
   ]
  },
  {
   "cell_type": "code",
   "execution_count": 146,
   "id": "7404488f-f8e0-465c-8967-a2ff659aee09",
   "metadata": {},
   "outputs": [
    {
     "data": {
      "text/plain": [
       "['C:\\\\Users\\\\kj\\\\Desktop\\\\myGit\\\\PYTHON101\\\\mod1.py']"
      ]
     },
     "execution_count": 146,
     "metadata": {},
     "output_type": "execute_result"
    }
   ],
   "source": [
    "import glob\n",
    "glob.glob(\"C:\\\\Users\\\\kj\\\\Desktop\\\\myGit\\\\PYTHON101\\\\*.py\")"
   ]
  },
  {
   "cell_type": "code",
   "execution_count": null,
   "id": "33c12e32-48d9-474f-a1fc-725999ba37e9",
   "metadata": {},
   "outputs": [],
   "source": [
    "### 11번"
   ]
  },
  {
   "cell_type": "code",
   "execution_count": 236,
   "id": "34d1b0b2-df6a-4280-9a97-53ea5e4a60f5",
   "metadata": {},
   "outputs": [
    {
     "name": "stdout",
     "output_type": "stream",
     "text": [
      "2024-12-20 11:39:55\n",
      "2024-12-20 11:39:55\n"
     ]
    }
   ],
   "source": [
    "import time\n",
    "f1 = time.strftime('%Y-%m-%d %X', time.localtime(time.time()))\n",
    "f2 = time.strftime('%Y-%m-%d %H:%M:%S', time.localtime(time.time()))\n",
    "print(f1)\n",
    "print(f2)\n"
   ]
  },
  {
   "cell_type": "code",
   "execution_count": null,
   "id": "42abd5bd-1f2c-4459-8d0c-616b55d6361b",
   "metadata": {},
   "outputs": [],
   "source": [
    "### 12번"
   ]
  },
  {
   "cell_type": "code",
   "execution_count": 250,
   "id": "a23a16b8-03ca-45a1-83f6-3088e78b278a",
   "metadata": {},
   "outputs": [
    {
     "name": "stdout",
     "output_type": "stream",
     "text": [
      "[31, 1, 39, 26, 13, 41]\n"
     ]
    }
   ],
   "source": [
    "import random\n",
    "\n",
    "lotto = []\n",
    "\n",
    "while len(lotto) < 6:\n",
    "    lotto_num = random.randint(1,45)\n",
    "\n",
    "    if lotto_num not in lotto:\n",
    "        lotto.append(lotto_num)\n",
    "\n",
    "\n",
    "print(lotto)\n"
   ]
  },
  {
   "cell_type": "code",
   "execution_count": 308,
   "id": "8c9ff9ea-26aa-4638-a863-8894e6bb7fc5",
   "metadata": {},
   "outputs": [
    {
     "name": "stdout",
     "output_type": "stream",
     "text": [
      "[13, 33, 1, 3, 41, 35]\n"
     ]
    }
   ],
   "source": [
    "lot = random.sample(range(1,45), 6)\n",
    "print(lot)"
   ]
  },
  {
   "cell_type": "code",
   "execution_count": null,
   "id": "77e3b8e8-98aa-4ab8-b6a4-5092ebc7da0a",
   "metadata": {},
   "outputs": [],
   "source": [
    "### 13번"
   ]
  },
  {
   "cell_type": "code",
   "execution_count": 252,
   "id": "ad0fcd1d-ce1f-4574-b987-23aa90f8d84d",
   "metadata": {},
   "outputs": [
    {
     "name": "stdout",
     "output_type": "stream",
     "text": [
      "1051 days, 0:00:00\n"
     ]
    },
    {
     "data": {
      "text/plain": [
       "1051"
      ]
     },
     "execution_count": 252,
     "metadata": {},
     "output_type": "execute_result"
    }
   ],
   "source": [
    "import datetime\n",
    "day1 = datetime.date(1995, 11, 20)\n",
    "day2 = datetime.date(1998, 10, 6)\n",
    "diff = day2 - day1\n",
    "print(diff)\n",
    "(day2 - day1).days"
   ]
  },
  {
   "cell_type": "code",
   "execution_count": null,
   "id": "b72ae03e-d97c-4738-8e46-5cb19904512c",
   "metadata": {},
   "outputs": [],
   "source": [
    "### 14번"
   ]
  },
  {
   "cell_type": "code",
   "execution_count": 228,
   "id": "4af30ed4-33ea-400a-830d-097d4f7b101b",
   "metadata": {},
   "outputs": [
    {
     "name": "stdout",
     "output_type": "stream",
     "text": [
      "[('김예지', 12.15), ('김시우', 13.03), ('윤서연', 13.48), ('송순자', 14.33), ('홍길동', 15.25)]\n"
     ]
    }
   ],
   "source": [
    "import operator\n",
    "\n",
    "data = [\n",
    "    ('홍길동',15.25),\n",
    "    ('김예지',12.15),\n",
    "    ('윤서연',13.48),\n",
    "    ('송순자',14.33),\n",
    "    ('김시우',13.03)\n",
    "]\n",
    "\n",
    "rs = sorted(data, key=operator.itemgetter(1))\n",
    "\n",
    "print(rs)\n"
   ]
  },
  {
   "cell_type": "code",
   "execution_count": null,
   "id": "c0ef43df-4adc-4c93-ae0d-eb4bf9efb37d",
   "metadata": {},
   "outputs": [],
   "source": [
    "### 15번"
   ]
  },
  {
   "cell_type": "code",
   "execution_count": 212,
   "id": "f652bdc1-38a3-47bc-876e-ff740fb96a17",
   "metadata": {},
   "outputs": [
    {
     "name": "stdout",
     "output_type": "stream",
     "text": [
      "[('나지혜', '성성민'), ('나지혜', '윤지현'), ('나지혜', '김정숙'), ('성성민', '윤지현'), ('성성민', '김정숙'), ('윤지현', '김정숙')]\n"
     ]
    }
   ],
   "source": [
    "st = ['나지혜','성성민','윤지현','김정숙']\n",
    "rs = list(itertools.combinations(st,2))\n",
    "print(rs)"
   ]
  },
  {
   "cell_type": "code",
   "execution_count": null,
   "id": "77df40ea-d65a-4241-801d-ad3c60ddc57d",
   "metadata": {},
   "outputs": [],
   "source": [
    "### 16번"
   ]
  },
  {
   "cell_type": "code",
   "execution_count": 256,
   "id": "cd93ad89-c024-4b0c-a93b-c9fd6ba9f56a",
   "metadata": {},
   "outputs": [
    {
     "name": "stdout",
     "output_type": "stream",
     "text": [
      "abcd\n",
      "abdc\n",
      "acbd\n",
      "acdb\n",
      "adbc\n",
      "adcb\n",
      "bacd\n",
      "badc\n",
      "bcad\n",
      "bcda\n",
      "bdac\n",
      "bdca\n",
      "cabd\n",
      "cadb\n",
      "cbad\n",
      "cbda\n",
      "cdab\n",
      "cdba\n",
      "dabc\n",
      "dacb\n",
      "dbac\n",
      "dbca\n",
      "dcab\n",
      "dcba\n"
     ]
    }
   ],
   "source": [
    "txt = \"abcd\"\n",
    "trans = list(itertools.permutations(txt, 4))\n",
    "#result = []\n",
    "for t in trans:\n",
    "    t = \"\".join(t)\n",
    "    print(t)\n",
    "    #result.append(t)\n",
    "\n",
    "#print(result)\n"
   ]
  },
  {
   "cell_type": "code",
   "execution_count": null,
   "id": "9cdf21c1-4c5b-48e8-97cb-7e747c917844",
   "metadata": {},
   "outputs": [],
   "source": [
    "### 17번"
   ]
  },
  {
   "cell_type": "code",
   "execution_count": 282,
   "id": "7c0aca3d-f17c-42bf-a0ac-110beb5098a3",
   "metadata": {},
   "outputs": [
    {
     "name": "stdout",
     "output_type": "stream",
     "text": [
      "[('김현주', '청소'), ('이예준', '빨래'), ('김승현', '설거지'), ('김진호', '휴식'), ('강춘자', '휴식')]\n"
     ]
    }
   ],
   "source": [
    "import itertools\n",
    "import random\n",
    "\n",
    "workers = ['김승현','김진호','강춘자','이예준','김현주']\n",
    "workers = random.sample(workers, len(workers))\n",
    "do = ['청소','빨래','설거지']\n",
    "work = itertools.zip_longest(workers, do, fillvalue='휴식')\n",
    "\n",
    "print(list(work))\n"
   ]
  },
  {
   "cell_type": "markdown",
   "id": "639b5109-6bd7-4e9f-9380-7ee1a5efd79f",
   "metadata": {},
   "source": [
    "### 18번"
   ]
  },
  {
   "cell_type": "code",
   "execution_count": 294,
   "id": "eb535182-c580-4285-bf69-36bf5d4862d2",
   "metadata": {},
   "outputs": [
    {
     "name": "stdout",
     "output_type": "stream",
     "text": [
      "가로 : 5개, 세로 : 2개\n"
     ]
    }
   ],
   "source": [
    "import math\n",
    "\n",
    "w = 200\n",
    "h = 80\n",
    "rs = math.gcd(w, h)\n",
    "\n",
    "w_cnt = w / rs\n",
    "h_cnt = h / rs\n",
    "\n",
    "print(f'가로 : {int(w_cnt)}개, 세로 : {int(h_cnt)}개')\n",
    "\n"
   ]
  }
 ],
 "metadata": {
  "kernelspec": {
   "display_name": "Python [conda env:base] *",
   "language": "python",
   "name": "conda-base-py"
  },
  "language_info": {
   "codemirror_mode": {
    "name": "ipython",
    "version": 3
   },
   "file_extension": ".py",
   "mimetype": "text/x-python",
   "name": "python",
   "nbconvert_exporter": "python",
   "pygments_lexer": "ipython3",
   "version": "3.12.7"
  }
 },
 "nbformat": 4,
 "nbformat_minor": 5
}
