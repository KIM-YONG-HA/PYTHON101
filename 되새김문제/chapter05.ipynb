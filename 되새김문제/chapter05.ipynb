{
 "cells": [
  {
   "cell_type": "markdown",
   "id": "904d8f83-5b0b-4b6f-8fee-1c74ca5aa785",
   "metadata": {},
   "source": [
    "# 되새김문제 5장"
   ]
  },
  {
   "cell_type": "markdown",
   "id": "cc1b4556-1adf-4569-bf81-a1eded08df31",
   "metadata": {},
   "source": [
    "## 1번"
   ]
  },
  {
   "cell_type": "code",
   "execution_count": 73,
   "id": "d9038bba-b5e6-4774-b6cc-c3984f9424cc",
   "metadata": {},
   "outputs": [
    {
     "name": "stdout",
     "output_type": "stream",
     "text": [
      "3\n"
     ]
    }
   ],
   "source": [
    "class Calculator:\n",
    "    def __init__(self):\n",
    "        self.value = 0\n",
    "\n",
    "    def add(self, val):\n",
    "        self.value += val\n",
    "\n",
    "class UpgradeCalculator(Calculator):\n",
    "    def minus(self, val):\n",
    "        self.value -= val\n",
    "        \n",
    "cal = UpgradeCalculator()\n",
    "cal.add(10)\n",
    "cal.minus(7)\n",
    "print(cal.value)"
   ]
  },
  {
   "cell_type": "markdown",
   "id": "962e0c41-5aec-486a-8adf-6ab80744e891",
   "metadata": {},
   "source": [
    "## 2번"
   ]
  },
  {
   "cell_type": "code",
   "execution_count": 153,
   "id": "80be3b05-80d3-43fb-b763-244f08424ad5",
   "metadata": {},
   "outputs": [
    {
     "name": "stdout",
     "output_type": "stream",
     "text": [
      "100\n"
     ]
    }
   ],
   "source": []
  },
  {
   "cell_type": "markdown",
   "id": "94442d38-1582-46d2-9342-c09eb584ab41",
   "metadata": {},
   "source": [
    "## 3번"
   ]
  },
  {
   "cell_type": "code",
   "execution_count": 117,
   "id": "9d5c4703-b909-46ea-b1a2-7ecc7fb428a5",
   "metadata": {},
   "outputs": [
    {
     "data": {
      "text/plain": [
       "False"
      ]
     },
     "execution_count": 117,
     "metadata": {},
     "output_type": "execute_result"
    }
   ],
   "source": [
    "all([1,2,abs(-3)-3])"
   ]
  },
  {
   "cell_type": "code",
   "execution_count": 119,
   "id": "a0f47660-70f6-4e0e-80c7-de7c8c785305",
   "metadata": {},
   "outputs": [
    {
     "data": {
      "text/plain": [
       "True"
      ]
     },
     "execution_count": 119,
     "metadata": {},
     "output_type": "execute_result"
    }
   ],
   "source": [
    "chr(ord('a')) == 'a'"
   ]
  },
  {
   "cell_type": "markdown",
   "id": "e54fd3fd-8fa5-481d-93fc-210a0fa139e7",
   "metadata": {},
   "source": [
    "## 4번"
   ]
  },
  {
   "cell_type": "code",
   "execution_count": null,
   "id": "84ff416a-7ccd-402b-bb06-b552a10d95d1",
   "metadata": {},
   "outputs": [],
   "source": []
  },
  {
   "cell_type": "code",
   "execution_count": null,
   "id": "4c7c9bba-7494-4ee5-9bf2-3b4552cc9cbc",
   "metadata": {},
   "outputs": [],
   "source": []
  },
  {
   "cell_type": "code",
   "execution_count": null,
   "id": "74e36968-839e-4b82-86cf-d4aaf0ff7366",
   "metadata": {},
   "outputs": [],
   "source": []
  },
  {
   "cell_type": "markdown",
   "id": "857a26c3-2815-4290-bb81-5a575255f2f1",
   "metadata": {},
   "source": [
    "## 7번"
   ]
  },
  {
   "cell_type": "code",
   "execution_count": 178,
   "id": "30c1b672-2bb6-4a3b-869b-1df91ac1923f",
   "metadata": {},
   "outputs": [
    {
     "name": "stdout",
     "output_type": "stream",
     "text": [
      "7\n",
      "-8\n",
      "-1\n"
     ]
    }
   ],
   "source": [
    "num = [-8, 2, 7, 5, -3, 5, 0, 1]\n",
    "max_num = max(num)\n",
    "min_num = min(num)\n",
    "print(max_num)\n",
    "print(min_num)\n",
    "print(max_num+min_num)"
   ]
  },
  {
   "cell_type": "code",
   "execution_count": null,
   "id": "9f0ce9a2-63f6-401a-a93f-96b7839af4a9",
   "metadata": {},
   "outputs": [],
   "source": []
  }
 ],
 "metadata": {
  "kernelspec": {
   "display_name": "Python [conda env:base] *",
   "language": "python",
   "name": "conda-base-py"
  },
  "language_info": {
   "codemirror_mode": {
    "name": "ipython",
    "version": 3
   },
   "file_extension": ".py",
   "mimetype": "text/x-python",
   "name": "python",
   "nbconvert_exporter": "python",
   "pygments_lexer": "ipython3",
   "version": "3.12.7"
  }
 },
 "nbformat": 4,
 "nbformat_minor": 5
}
